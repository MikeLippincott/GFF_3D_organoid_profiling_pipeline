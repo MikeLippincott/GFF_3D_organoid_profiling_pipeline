{
    "cells": [
        {
            "cell_type": "code",
            "execution_count": 1,
            "metadata": {},
            "outputs": [],
            "source": [
                "import pathlib\n",
                "import sys\n",
                "import time\n",
                "\n",
                "sys.path.append(\"../featurization\")\n",
                "import numpy as np\n",
                "import pandas as pd\n",
                "import skimage\n",
                "from area_size_shape import measure_3D_area_size_shape\n",
                "from data_writer import organize_featurization_data\n",
                "from loading_classes import ImageSetLoader, ObjectLoader"
            ]
        },
        {
            "cell_type": "code",
            "execution_count": 2,
            "metadata": {},
            "outputs": [],
            "source": [
                "image_set_path = pathlib.Path(\"../../data/NF0014/cellprofiler/C4-2/\")"
            ]
        },
        {
            "cell_type": "code",
            "execution_count": 3,
            "metadata": {},
            "outputs": [],
            "source": [
                "channel_mapping = {\n",
                "    \"nuclei\": \"405\",\n",
                "    \"AGP\": \"488\",\n",
                "    \"ER\": \"555\",\n",
                "    \"Mito\": \"640\",\n",
                "    \"BF\": \"TRANS\",\n",
                "    \"nuclei_mask\": \"nuclei_\",\n",
                "    \"cell_mask\": \"cell_\",\n",
                "    \"cytoplasm_mask\": \"cytoplasm_\",\n",
                "    \"organoid_mask\": \"organoid_\",\n",
                "}"
            ]
        },
        {
            "cell_type": "code",
            "execution_count": 4,
            "metadata": {},
            "outputs": [],
            "source": [
                "image_set_loader = ImageSetLoader(\n",
                "    image_set_path=image_set_path,\n",
                "    spacing=(1, 0.1, 0.1),\n",
                "    channel_mapping=channel_mapping,\n",
                ")"
            ]
        },
        {
            "cell_type": "markdown",
            "metadata": {},
            "source": [
                "### Loop through the image set"
            ]
        },
        {
            "cell_type": "markdown",
            "metadata": {},
            "source": [
                "Run the rest in a script as it takes a long time to run"
            ]
        },
        {
            "cell_type": "code",
            "execution_count": 5,
            "metadata": {},
            "outputs": [
                {
                    "data": {
                        "text/plain": [
                            "array([1, 2, 3])"
                        ]
                    },
                    "execution_count": 5,
                    "metadata": {},
                    "output_type": "execute_result"
                }
            ],
            "source": [
                "object_loader = ObjectLoader(\n",
                "    image_set_loader.image_set_dict[\"nuclei\"],\n",
                "    image_set_loader.image_set_dict[\"organoid_mask\"],\n",
                "    \"nuclei\",\n",
                "    \"organoid_mask\",\n",
                ")\n",
                "object_loader.object_ids"
            ]
        },
        {
            "cell_type": "code",
            "execution_count": 6,
            "metadata": {},
            "outputs": [],
            "source": [
                "size_shape_dict = measure_3D_area_size_shape(\n",
                "    image_set_loader=image_set_loader,\n",
                "    object_loader=object_loader,\n",
                ")"
            ]
        },
        {
            "cell_type": "code",
            "execution_count": 7,
            "metadata": {},
            "outputs": [
                {
                    "data": {
                        "text/html": [
                            "<div>\n",
                            "<style scoped>\n",
                            "    .dataframe tbody tr th:only-of-type {\n",
                            "        vertical-align: middle;\n",
                            "    }\n",
                            "\n",
                            "    .dataframe tbody tr th {\n",
                            "        vertical-align: top;\n",
                            "    }\n",
                            "\n",
                            "    .dataframe thead th {\n",
                            "        text-align: right;\n",
                            "    }\n",
                            "</style>\n",
                            "<table border=\"1\" class=\"dataframe\">\n",
                            "  <thead>\n",
                            "    <tr style=\"text-align: right;\">\n",
                            "      <th></th>\n",
                            "      <th>label</th>\n",
                            "      <th>VOLUME</th>\n",
                            "      <th>MAJOR.AXIS.LENGTH</th>\n",
                            "      <th>MINOR.AXIS.LENGTH</th>\n",
                            "      <th>CENTER.X</th>\n",
                            "      <th>CENTER.Y</th>\n",
                            "      <th>CENTER.Z</th>\n",
                            "      <th>BBOX.VOLUME</th>\n",
                            "      <th>MIN.X</th>\n",
                            "      <th>MAX.X</th>\n",
                            "      <th>MIN.Y</th>\n",
                            "      <th>MAX.Y</th>\n",
                            "      <th>MIN.Z</th>\n",
                            "      <th>MAX.Z</th>\n",
                            "      <th>EXTENT</th>\n",
                            "      <th>EULER.NUMBER</th>\n",
                            "      <th>EQUIVALENT.DIAMETER</th>\n",
                            "      <th>SURFACE.AREA</th>\n",
                            "    </tr>\n",
                            "  </thead>\n",
                            "  <tbody>\n",
                            "    <tr>\n",
                            "      <th>0</th>\n",
                            "      <td>1</td>\n",
                            "      <td>25063612.0</td>\n",
                            "      <td>1139.502949</td>\n",
                            "      <td>42.877306</td>\n",
                            "      <td>671.004178</td>\n",
                            "      <td>579.229902</td>\n",
                            "      <td>15.906512</td>\n",
                            "      <td>35072961.0</td>\n",
                            "      <td>174</td>\n",
                            "      <td>1193</td>\n",
                            "      <td>59</td>\n",
                            "      <td>1102</td>\n",
                            "      <td>0</td>\n",
                            "      <td>33</td>\n",
                            "      <td>0.714614</td>\n",
                            "      <td>1</td>\n",
                            "      <td>363.090605</td>\n",
                            "      <td>13279.659610</td>\n",
                            "    </tr>\n",
                            "    <tr>\n",
                            "      <th>1</th>\n",
                            "      <td>2</td>\n",
                            "      <td>918967.0</td>\n",
                            "      <td>557.303585</td>\n",
                            "      <td>8.995113</td>\n",
                            "      <td>1302.354523</td>\n",
                            "      <td>1364.798838</td>\n",
                            "      <td>3.053018</td>\n",
                            "      <td>1405792.0</td>\n",
                            "      <td>1094</td>\n",
                            "      <td>1540</td>\n",
                            "      <td>1143</td>\n",
                            "      <td>1537</td>\n",
                            "      <td>0</td>\n",
                            "      <td>8</td>\n",
                            "      <td>0.653701</td>\n",
                            "      <td>1</td>\n",
                            "      <td>120.624011</td>\n",
                            "      <td>1555.896627</td>\n",
                            "    </tr>\n",
                            "    <tr>\n",
                            "      <th>2</th>\n",
                            "      <td>3</td>\n",
                            "      <td>1384848.0</td>\n",
                            "      <td>558.108749</td>\n",
                            "      <td>16.529450</td>\n",
                            "      <td>1275.507008</td>\n",
                            "      <td>1397.936320</td>\n",
                            "      <td>12.397206</td>\n",
                            "      <td>2634632.0</td>\n",
                            "      <td>1023</td>\n",
                            "      <td>1540</td>\n",
                            "      <td>1173</td>\n",
                            "      <td>1537</td>\n",
                            "      <td>7</td>\n",
                            "      <td>21</td>\n",
                            "      <td>0.525632</td>\n",
                            "      <td>1</td>\n",
                            "      <td>138.293307</td>\n",
                            "      <td>3195.168273</td>\n",
                            "    </tr>\n",
                            "  </tbody>\n",
                            "</table>\n",
                            "</div>"
                        ],
                        "text/plain": [
                            "   label      VOLUME  MAJOR.AXIS.LENGTH  MINOR.AXIS.LENGTH     CENTER.X  \\\n",
                            "0      1  25063612.0        1139.502949          42.877306   671.004178   \n",
                            "1      2    918967.0         557.303585           8.995113  1302.354523   \n",
                            "2      3   1384848.0         558.108749          16.529450  1275.507008   \n",
                            "\n",
                            "      CENTER.Y   CENTER.Z  BBOX.VOLUME  MIN.X  MAX.X  MIN.Y  MAX.Y  MIN.Z  \\\n",
                            "0   579.229902  15.906512   35072961.0    174   1193     59   1102      0   \n",
                            "1  1364.798838   3.053018    1405792.0   1094   1540   1143   1537      0   \n",
                            "2  1397.936320  12.397206    2634632.0   1023   1540   1173   1537      7   \n",
                            "\n",
                            "   MAX.Z    EXTENT  EULER.NUMBER  EQUIVALENT.DIAMETER  SURFACE.AREA  \n",
                            "0     33  0.714614             1           363.090605  13279.659610  \n",
                            "1      8  0.653701             1           120.624011   1555.896627  \n",
                            "2     21  0.525632             1           138.293307   3195.168273  "
                        ]
                    },
                    "execution_count": 7,
                    "metadata": {},
                    "output_type": "execute_result"
                }
            ],
            "source": [
                "df = pd.DataFrame(size_shape_dict)\n",
                "df.head()"
            ]
        }
    ],
    "metadata": {
        "kernelspec": {
            "display_name": "GFF_featurization",
            "language": "python",
            "name": "python3"
        },
        "language_info": {
            "codemirror_mode": {
                "name": "ipython",
                "version": 3
            },
            "file_extension": ".py",
            "mimetype": "text/x-python",
            "name": "python",
            "nbconvert_exporter": "python",
            "pygments_lexer": "ipython3",
            "version": "3.12.9"
        }
    },
    "nbformat": 4,
    "nbformat_minor": 2
}
