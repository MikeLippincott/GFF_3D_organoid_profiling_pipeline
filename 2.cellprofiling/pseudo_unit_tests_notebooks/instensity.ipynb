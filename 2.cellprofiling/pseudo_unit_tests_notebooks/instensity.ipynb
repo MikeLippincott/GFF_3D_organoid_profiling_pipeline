{
    "cells": [
        {
            "cell_type": "code",
            "execution_count": 1,
            "metadata": {},
            "outputs": [],
            "source": [
                "import pathlib\n",
                "import sys\n",
                "import time\n",
                "\n",
                "sys.path.append(\"../featurization\")\n",
                "import numpy as np\n",
                "import pandas as pd\n",
                "import scipy\n",
                "import skimage\n",
                "from data_writer import organize_featurization_data\n",
                "from intensity import measure_3D_intensity\n",
                "from loading_classes import ImageSetLoader, ObjectLoader"
            ]
        },
        {
            "cell_type": "code",
            "execution_count": 2,
            "metadata": {},
            "outputs": [],
            "source": [
                "image_set_path = pathlib.Path(\"../../data/NF0014/cellprofiler/C4-2/\")"
            ]
        },
        {
            "cell_type": "code",
            "execution_count": 3,
            "metadata": {},
            "outputs": [],
            "source": [
                "channel_mapping = {\n",
                "    \"nuclei\": \"405\",\n",
                "    \"AGP\": \"488\",\n",
                "    \"ER\": \"555\",\n",
                "    \"Mito\": \"640\",\n",
                "    \"BF\": \"TRANS\",\n",
                "    \"nuclei_mask\": \"nuclei_\",\n",
                "    \"cell_mask\": \"cell_\",\n",
                "    \"cytoplasm_mask\": \"cytoplasm_\",\n",
                "    \"organoid_mask\": \"organoid_\",\n",
                "}"
            ]
        },
        {
            "cell_type": "code",
            "execution_count": 4,
            "metadata": {},
            "outputs": [],
            "source": [
                "image_set_loader = ImageSetLoader(\n",
                "    image_set_path=image_set_path,\n",
                "    spacing=(1, 0.1, 0.1),\n",
                "    channel_mapping=channel_mapping,\n",
                ")"
            ]
        },
        {
            "cell_type": "code",
            "execution_count": 5,
            "metadata": {},
            "outputs": [],
            "source": [
                "object_loader = ObjectLoader(\n",
                "    image_set_loader.image_set_dict[\"nuclei\"],\n",
                "    image_set_loader.image_set_dict[\"nuclei_mask\"],\n",
                "    \"nuclei\",\n",
                "    \"nuclei\",\n",
                ")"
            ]
        },
        {
            "cell_type": "code",
            "execution_count": 6,
            "metadata": {},
            "outputs": [],
            "source": [
                "output_dict = measure_3D_intensity(object_loader)"
            ]
        },
        {
            "cell_type": "code",
            "execution_count": 7,
            "metadata": {},
            "outputs": [
                {
                    "data": {
                        "text/html": [
                            "<div>\n",
                            "<style scoped>\n",
                            "    .dataframe tbody tr th:only-of-type {\n",
                            "        vertical-align: middle;\n",
                            "    }\n",
                            "\n",
                            "    .dataframe tbody tr th {\n",
                            "        vertical-align: top;\n",
                            "    }\n",
                            "\n",
                            "    .dataframe thead th {\n",
                            "        text-align: right;\n",
                            "    }\n",
                            "</style>\n",
                            "<table border=\"1\" class=\"dataframe\">\n",
                            "  <thead>\n",
                            "    <tr style=\"text-align: right;\">\n",
                            "      <th></th>\n",
                            "      <th>index</th>\n",
                            "      <th>feature_name</th>\n",
                            "      <th>channel</th>\n",
                            "      <th>compartment</th>\n",
                            "      <th>value</th>\n",
                            "    </tr>\n",
                            "  </thead>\n",
                            "  <tbody>\n",
                            "    <tr>\n",
                            "      <th>0</th>\n",
                            "      <td>0</td>\n",
                            "      <td>Intensity_integrated.intensity_nuclei</td>\n",
                            "      <td>nuclei</td>\n",
                            "      <td>nuclei</td>\n",
                            "      <td>75384647</td>\n",
                            "    </tr>\n",
                            "    <tr>\n",
                            "      <th>1</th>\n",
                            "      <td>0</td>\n",
                            "      <td>Intensity_volume_nuclei</td>\n",
                            "      <td>nuclei</td>\n",
                            "      <td>nuclei</td>\n",
                            "      <td>12336</td>\n",
                            "    </tr>\n",
                            "    <tr>\n",
                            "      <th>2</th>\n",
                            "      <td>0</td>\n",
                            "      <td>Intensity_mean.intensity_nuclei</td>\n",
                            "      <td>nuclei</td>\n",
                            "      <td>nuclei</td>\n",
                            "      <td>6110.94739</td>\n",
                            "    </tr>\n",
                            "    <tr>\n",
                            "      <th>3</th>\n",
                            "      <td>0</td>\n",
                            "      <td>Intensity_std.intensity_nuclei</td>\n",
                            "      <td>nuclei</td>\n",
                            "      <td>nuclei</td>\n",
                            "      <td>2428.356275</td>\n",
                            "    </tr>\n",
                            "    <tr>\n",
                            "      <th>4</th>\n",
                            "      <td>0</td>\n",
                            "      <td>Intensity_min.intensity_nuclei</td>\n",
                            "      <td>nuclei</td>\n",
                            "      <td>nuclei</td>\n",
                            "      <td>1993</td>\n",
                            "    </tr>\n",
                            "  </tbody>\n",
                            "</table>\n",
                            "</div>"
                        ],
                        "text/plain": [
                            "   index                           feature_name channel compartment  \\\n",
                            "0      0  Intensity_integrated.intensity_nuclei  nuclei      nuclei   \n",
                            "1      0                Intensity_volume_nuclei  nuclei      nuclei   \n",
                            "2      0        Intensity_mean.intensity_nuclei  nuclei      nuclei   \n",
                            "3      0         Intensity_std.intensity_nuclei  nuclei      nuclei   \n",
                            "4      0         Intensity_min.intensity_nuclei  nuclei      nuclei   \n",
                            "\n",
                            "         value  \n",
                            "0     75384647  \n",
                            "1        12336  \n",
                            "2   6110.94739  \n",
                            "3  2428.356275  \n",
                            "4         1993  "
                        ]
                    },
                    "execution_count": 7,
                    "metadata": {},
                    "output_type": "execute_result"
                }
            ],
            "source": [
                "df = pd.DataFrame(output_dict)\n",
                "df.head()"
            ]
        }
    ],
    "metadata": {
        "kernelspec": {
            "display_name": "GFF_featurization",
            "language": "python",
            "name": "python3"
        },
        "language_info": {
            "codemirror_mode": {
                "name": "ipython",
                "version": 3
            },
            "file_extension": ".py",
            "mimetype": "text/x-python",
            "name": "python",
            "nbconvert_exporter": "python",
            "pygments_lexer": "ipython3",
            "version": "3.12.9"
        }
    },
    "nbformat": 4,
    "nbformat_minor": 2
}
