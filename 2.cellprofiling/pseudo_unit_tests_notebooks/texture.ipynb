{
    "cells": [
        {
            "cell_type": "code",
            "execution_count": 1,
            "metadata": {},
            "outputs": [],
            "source": [
                "import pathlib\n",
                "import sys\n",
                "import time\n",
                "\n",
                "sys.path.append(\"../featurization\")\n",
                "import gc\n",
                "\n",
                "import mahotas\n",
                "import numpy as np\n",
                "import pandas as pd\n",
                "import scipy\n",
                "import skimage\n",
                "import tqdm\n",
                "from data_writer import organize_featurization_data\n",
                "from loading_classes import ImageSetLoader, ObjectLoader\n",
                "from texture import measure_3D_texture"
            ]
        },
        {
            "cell_type": "code",
            "execution_count": 2,
            "metadata": {},
            "outputs": [],
            "source": [
                "image_set_path = pathlib.Path(\"../../data/NF0014/cellprofiler/C4-2/\")"
            ]
        },
        {
            "cell_type": "code",
            "execution_count": 3,
            "metadata": {},
            "outputs": [],
            "source": [
                "channel_mapping = {\n",
                "    \"nuclei\": \"405\",\n",
                "    \"AGP\": \"488\",\n",
                "    \"ER\": \"555\",\n",
                "    \"Mito\": \"640\",\n",
                "    \"BF\": \"TRANS\",\n",
                "    \"nuclei_mask\": \"nuclei_\",\n",
                "    \"cell_mask\": \"cell_\",\n",
                "    \"cytoplasm_mask\": \"cytoplasm_\",\n",
                "    \"organoid_mask\": \"organoid_\",\n",
                "}"
            ]
        },
        {
            "cell_type": "code",
            "execution_count": 4,
            "metadata": {},
            "outputs": [],
            "source": [
                "image_set_loader = ImageSetLoader(\n",
                "    image_set_path=image_set_path,\n",
                "    spacing=(1, 0.1, 0.1),\n",
                "    channel_mapping=channel_mapping,\n",
                ")"
            ]
        },
        {
            "cell_type": "code",
            "execution_count": 5,
            "metadata": {},
            "outputs": [],
            "source": [
                "object_loader = ObjectLoader(\n",
                "    image_set_loader.image_set_dict[\"nuclei\"],\n",
                "    image_set_loader.image_set_dict[\"nuclei_mask\"],\n",
                "    \"nuclei\",\n",
                "    \"nuclei\",\n",
                ")"
            ]
        },
        {
            "cell_type": "markdown",
            "metadata": {},
            "source": [
                "Takes forever to run - so not running in notebok:"
            ]
        },
        {
            "cell_type": "code",
            "execution_count": 6,
            "metadata": {},
            "outputs": [],
            "source": [
                "start_time = time.time()"
            ]
        },
        {
            "cell_type": "code",
            "execution_count": 7,
            "metadata": {},
            "outputs": [
                {
                    "name": "stderr",
                    "output_type": "stream",
                    "text": [
                        "0it [00:02, ?it/s]\n"
                    ]
                },
                {
                    "ename": "ValueError",
                    "evalue": "mahotas.haralick_features: the input is empty. Cannot compute features!\nThis can happen if you are using `ignore_zeros`",
                    "output_type": "error",
                    "traceback": [
                        "\u001b[0;31m---------------------------------------------------------------------------\u001b[0m",
                        "\u001b[0;31mValueError\u001b[0m                                Traceback (most recent call last)",
                        "Cell \u001b[0;32mIn[7], line 1\u001b[0m\n\u001b[0;32m----> 1\u001b[0m output_texture_dict \u001b[38;5;241m=\u001b[39m \u001b[43mmeasure_3D_texture\u001b[49m\u001b[43m(\u001b[49m\n\u001b[1;32m      2\u001b[0m \u001b[43m    \u001b[49m\u001b[43mobject_loader\u001b[49m\u001b[38;5;241;43m=\u001b[39;49m\u001b[43mobject_loader\u001b[49m\u001b[43m,\u001b[49m\n\u001b[1;32m      3\u001b[0m \u001b[43m    \u001b[49m\u001b[43mdistance\u001b[49m\u001b[38;5;241;43m=\u001b[39;49m\u001b[38;5;241;43m1\u001b[39;49m\u001b[43m,\u001b[49m\n\u001b[1;32m      4\u001b[0m \u001b[43m    \u001b[49m\u001b[43mgpu\u001b[49m\u001b[38;5;241;43m=\u001b[39;49m\u001b[38;5;28;43;01mTrue\u001b[39;49;00m\u001b[43m,\u001b[49m\n\u001b[1;32m      5\u001b[0m \u001b[43m)\u001b[49m\n",
                        "File \u001b[0;32m~/Documents/GFF_3D_organoid_profiling_pipeline/2.cellprofiling/pseudo_unit_tests_notebooks/../featurization/texture.py:43\u001b[0m, in \u001b[0;36mmeasure_3D_texture\u001b[0;34m(object_loader, distance, gpu)\u001b[0m\n\u001b[1;32m     41\u001b[0m image_object[selected_label_object \u001b[38;5;241m==\u001b[39m \u001b[38;5;241m0\u001b[39m] \u001b[38;5;241m=\u001b[39m \u001b[38;5;241m0\u001b[39m\n\u001b[1;32m     42\u001b[0m \u001b[38;5;28;01mif\u001b[39;00m gpu:\n\u001b[0;32m---> 43\u001b[0m     haralick_features \u001b[38;5;241m=\u001b[39m \u001b[43mharalick\u001b[49m\u001b[43m(\u001b[49m\n\u001b[1;32m     44\u001b[0m \u001b[43m        \u001b[49m\u001b[43mignore_zeros\u001b[49m\u001b[38;5;241;43m=\u001b[39;49m\u001b[38;5;28;43;01mFalse\u001b[39;49;00m\u001b[43m,\u001b[49m\n\u001b[1;32m     45\u001b[0m \u001b[43m        \u001b[49m\u001b[43mf\u001b[49m\u001b[38;5;241;43m=\u001b[39;49m\u001b[43mimage_object\u001b[49m\u001b[43m,\u001b[49m\n\u001b[1;32m     46\u001b[0m \u001b[43m        \u001b[49m\u001b[43mdistance\u001b[49m\u001b[38;5;241;43m=\u001b[39;49m\u001b[43mdistance\u001b[49m\u001b[43m,\u001b[49m\n\u001b[1;32m     47\u001b[0m \u001b[43m        \u001b[49m\u001b[43mcompute_14th_feature\u001b[49m\u001b[38;5;241;43m=\u001b[39;49m\u001b[38;5;28;43;01mFalse\u001b[39;49;00m\u001b[43m,\u001b[49m\n\u001b[1;32m     48\u001b[0m \u001b[43m    \u001b[49m\u001b[43m)\u001b[49m\n\u001b[1;32m     49\u001b[0m     haralick_features\u001b[38;5;241m=\u001b[39mharalick_features\u001b[38;5;241m.\u001b[39mget()\n\u001b[1;32m     50\u001b[0m \u001b[38;5;28;01melse\u001b[39;00m:\n",
                        "File \u001b[0;32m~/Documents/GFF_3D_organoid_profiling_pipeline/2.cellprofiling/pseudo_unit_tests_notebooks/../featurization/texture_gpu.py:420\u001b[0m, in \u001b[0;36mharalick\u001b[0;34m(f, ignore_zeros, preserve_haralick_bug, compute_14th_feature, return_mean, return_mean_ptp, use_x_minus_y_variance, distance)\u001b[0m\n\u001b[1;32m    418\u001b[0m         cooccurence(f, \u001b[38;5;28mdir\u001b[39m, cmat, distance\u001b[38;5;241m=\u001b[39mdistance)\n\u001b[1;32m    419\u001b[0m         \u001b[38;5;28;01myield\u001b[39;00m cmat\n\u001b[0;32m--> 420\u001b[0m \u001b[38;5;28;01mreturn\u001b[39;00m \u001b[43mharalick_features\u001b[49m\u001b[43m(\u001b[49m\u001b[43mall_cmatrices\u001b[49m\u001b[43m(\u001b[49m\u001b[43m)\u001b[49m\u001b[43m,\u001b[49m\n\u001b[1;32m    421\u001b[0m \u001b[43m                    \u001b[49m\u001b[43mignore_zeros\u001b[49m\u001b[38;5;241;43m=\u001b[39;49m\u001b[43mignore_zeros\u001b[49m\u001b[43m,\u001b[49m\n\u001b[1;32m    422\u001b[0m \u001b[43m                    \u001b[49m\u001b[43mpreserve_haralick_bug\u001b[49m\u001b[38;5;241;43m=\u001b[39;49m\u001b[43mpreserve_haralick_bug\u001b[49m\u001b[43m,\u001b[49m\n\u001b[1;32m    423\u001b[0m \u001b[43m                    \u001b[49m\u001b[43mcompute_14th_feature\u001b[49m\u001b[38;5;241;43m=\u001b[39;49m\u001b[43mcompute_14th_feature\u001b[49m\u001b[43m,\u001b[49m\n\u001b[1;32m    424\u001b[0m \u001b[43m                    \u001b[49m\u001b[43mreturn_mean\u001b[49m\u001b[38;5;241;43m=\u001b[39;49m\u001b[43mreturn_mean\u001b[49m\u001b[43m,\u001b[49m\n\u001b[1;32m    425\u001b[0m \u001b[43m                    \u001b[49m\u001b[43mreturn_mean_ptp\u001b[49m\u001b[38;5;241;43m=\u001b[39;49m\u001b[43mreturn_mean_ptp\u001b[49m\u001b[43m,\u001b[49m\n\u001b[1;32m    426\u001b[0m \u001b[43m                    \u001b[49m\u001b[43muse_x_minus_y_variance\u001b[49m\u001b[38;5;241;43m=\u001b[39;49m\u001b[43muse_x_minus_y_variance\u001b[49m\u001b[43m,\u001b[49m\n\u001b[1;32m    427\u001b[0m \u001b[43m                    \u001b[49m\u001b[43m)\u001b[49m\n",
                        "File \u001b[0;32m~/Documents/GFF_3D_organoid_profiling_pipeline/2.cellprofiling/pseudo_unit_tests_notebooks/../featurization/texture_gpu.py:192\u001b[0m, in \u001b[0;36mharalick_features\u001b[0;34m(cmats, ignore_zeros, preserve_haralick_bug, compute_14th_feature, return_mean, return_mean_ptp, use_x_minus_y_variance)\u001b[0m\n\u001b[1;32m    190\u001b[0m T \u001b[38;5;241m=\u001b[39m cmat\u001b[38;5;241m.\u001b[39msum()\n\u001b[1;32m    191\u001b[0m \u001b[38;5;28;01mif\u001b[39;00m \u001b[38;5;129;01mnot\u001b[39;00m T:\n\u001b[0;32m--> 192\u001b[0m     \u001b[38;5;28;01mraise\u001b[39;00m \u001b[38;5;167;01mValueError\u001b[39;00m(\u001b[38;5;124m'\u001b[39m\u001b[38;5;124mmahotas.haralick_features: the input is empty. Cannot compute features!\u001b[39m\u001b[38;5;130;01m\\n\u001b[39;00m\u001b[38;5;124m'\u001b[39m \u001b[38;5;241m+\u001b[39m\n\u001b[1;32m    193\u001b[0m                         \u001b[38;5;124m'\u001b[39m\u001b[38;5;124mThis can happen if you are using `ignore_zeros`\u001b[39m\u001b[38;5;124m'\u001b[39m )\n\u001b[1;32m    194\u001b[0m \u001b[38;5;28;01mif\u001b[39;00m \u001b[38;5;129;01mnot\u001b[39;00m \u001b[38;5;28mlen\u001b[39m(features):\n\u001b[1;32m    195\u001b[0m     maxv \u001b[38;5;241m=\u001b[39m \u001b[38;5;28mlen\u001b[39m(cmat)\n",
                        "\u001b[0;31mValueError\u001b[0m: mahotas.haralick_features: the input is empty. Cannot compute features!\nThis can happen if you are using `ignore_zeros`"
                    ]
                }
            ],
            "source": [
                "output_texture_dict = measure_3D_texture(\n",
                "    object_loader=object_loader,\n",
                "    distance=1,\n",
                "    gpu=True,\n",
                ")"
            ]
        },
        {
            "cell_type": "code",
            "execution_count": null,
            "metadata": {},
            "outputs": [],
            "source": [
                "print(f\"Time elapsed: {time.time() - start_time}\")"
            ]
        },
        {
            "cell_type": "code",
            "execution_count": null,
            "metadata": {},
            "outputs": [],
            "source": [
                "df = pd.DataFrame(output_texture_dict, index=[0])\n",
                "df.head()"
            ]
        }
    ],
    "metadata": {
        "kernelspec": {
            "display_name": "GFF_featurization",
            "language": "python",
            "name": "python3"
        },
        "language_info": {
            "codemirror_mode": {
                "name": "ipython",
                "version": 3
            },
            "file_extension": ".py",
            "mimetype": "text/x-python",
            "name": "python",
            "nbconvert_exporter": "python",
            "pygments_lexer": "ipython3",
            "version": "3.12.9"
        }
    },
    "nbformat": 4,
    "nbformat_minor": 2
}
