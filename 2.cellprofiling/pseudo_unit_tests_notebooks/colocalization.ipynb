{
    "cells": [
        {
            "cell_type": "code",
            "execution_count": 1,
            "metadata": {},
            "outputs": [],
            "source": [
                "import pathlib\n",
                "import sys\n",
                "import time\n",
                "\n",
                "sys.path.append(\"../featurization\")\n",
                "import itertools\n",
                "from typing import Dict\n",
                "\n",
                "import numpy as np\n",
                "import pandas as pd\n",
                "import scipy\n",
                "import skimage\n",
                "from colocalization import (\n",
                "    measure_3D_colocalization,\n",
                "    prepare_two_images_for_colocalization,\n",
                ")\n",
                "from data_writer import organize_featurization_data\n",
                "from loading_classes import ImageSetLoader, ObjectLoader\n",
                "from two_object_loading_classes import TwoObjectLoader\n",
                "\n",
                "try:\n",
                "    cfg = get_ipython().config\n",
                "    in_notebook = True\n",
                "except NameError:\n",
                "    in_notebook = False\n",
                "if in_notebook:\n",
                "    from tqdm.notebook import tqdm\n",
                "else:\n",
                "    from tqdm import tqdm\n",
                "\n",
                "import warnings\n",
                "\n",
                "warnings.filterwarnings(\"ignore\", category=RuntimeWarning)"
            ]
        },
        {
            "cell_type": "code",
            "execution_count": 2,
            "metadata": {},
            "outputs": [],
            "source": [
                "image_set_path = pathlib.Path(\"../../data/NF0014/cellprofiler/C4-2/\")"
            ]
        },
        {
            "cell_type": "code",
            "execution_count": 3,
            "metadata": {},
            "outputs": [],
            "source": [
                "channel_mapping = {\n",
                "    \"nuclei\": \"405\",\n",
                "    \"AGP\": \"488\",\n",
                "    \"ER\": \"555\",\n",
                "    \"Mito\": \"640\",\n",
                "    \"BF\": \"TRANS\",\n",
                "    \"nuclei_mask\": \"nuclei_\",\n",
                "    \"cell_mask\": \"cell_\",\n",
                "    \"cytoplasm_mask\": \"cytoplasm_\",\n",
                "    \"organoid_mask\": \"organoid_\",\n",
                "}"
            ]
        },
        {
            "cell_type": "code",
            "execution_count": 4,
            "metadata": {},
            "outputs": [],
            "source": [
                "image_set_loader = ImageSetLoader(\n",
                "    image_set_path=image_set_path,\n",
                "    spacing=(1, 0.1, 0.1),\n",
                "    channel_mapping=channel_mapping,\n",
                ")"
            ]
        },
        {
            "cell_type": "code",
            "execution_count": 5,
            "metadata": {},
            "outputs": [],
            "source": [
                "# get all channel combinations\n",
                "channel_combinations = list(itertools.combinations(image_set_loader.image_names, 2))"
            ]
        },
        {
            "cell_type": "code",
            "execution_count": 6,
            "metadata": {},
            "outputs": [
                {
                    "data": {
                        "application/vnd.jupyter.widget-view+json": {
                            "model_id": "7f62687f32384c3e91963f6e04eeda14",
                            "version_major": 2,
                            "version_minor": 0
                        },
                        "text/plain": [
                            "Processing compartments:   0%|          | 0/4 [00:00<?, ?it/s]"
                        ]
                    },
                    "metadata": {},
                    "output_type": "display_data"
                },
                {
                    "data": {
                        "application/vnd.jupyter.widget-view+json": {
                            "model_id": "ae8f0eaef07447b2a02547636c7ecb07",
                            "version_major": 2,
                            "version_minor": 0
                        },
                        "text/plain": [
                            "Processing channel combinations:   0%|          | 0/10 [00:00<?, ?it/s]"
                        ]
                    },
                    "metadata": {},
                    "output_type": "display_data"
                },
                {
                    "data": {
                        "application/vnd.jupyter.widget-view+json": {
                            "model_id": "792261700e0342009f332a89de7b68c3",
                            "version_major": 2,
                            "version_minor": 0
                        },
                        "text/plain": [
                            "Processing object IDs:   0%|          | 0/104 [00:00<?, ?it/s]"
                        ]
                    },
                    "metadata": {},
                    "output_type": "display_data"
                },
                {
                    "data": {
                        "application/vnd.jupyter.widget-view+json": {
                            "model_id": "74820b53df2944f98d655ffff1552069",
                            "version_major": 2,
                            "version_minor": 0
                        },
                        "text/plain": [
                            "Processing object IDs:   0%|          | 0/104 [00:00<?, ?it/s]"
                        ]
                    },
                    "metadata": {},
                    "output_type": "display_data"
                },
                {
                    "data": {
                        "application/vnd.jupyter.widget-view+json": {
                            "model_id": "3a2346c6123d43c5b31a867e58a01ad4",
                            "version_major": 2,
                            "version_minor": 0
                        },
                        "text/plain": [
                            "Processing object IDs:   0%|          | 0/104 [00:00<?, ?it/s]"
                        ]
                    },
                    "metadata": {},
                    "output_type": "display_data"
                },
                {
                    "data": {
                        "application/vnd.jupyter.widget-view+json": {
                            "model_id": "19e544617b2948d891b010589a337515",
                            "version_major": 2,
                            "version_minor": 0
                        },
                        "text/plain": [
                            "Processing object IDs:   0%|          | 0/104 [00:00<?, ?it/s]"
                        ]
                    },
                    "metadata": {},
                    "output_type": "display_data"
                },
                {
                    "data": {
                        "application/vnd.jupyter.widget-view+json": {
                            "model_id": "4c01c4c0f8d6413281ab83766c2a8545",
                            "version_major": 2,
                            "version_minor": 0
                        },
                        "text/plain": [
                            "Processing object IDs:   0%|          | 0/104 [00:00<?, ?it/s]"
                        ]
                    },
                    "metadata": {},
                    "output_type": "display_data"
                },
                {
                    "data": {
                        "application/vnd.jupyter.widget-view+json": {
                            "model_id": "b9ada562fc374369abfeebbc3223aaf9",
                            "version_major": 2,
                            "version_minor": 0
                        },
                        "text/plain": [
                            "Processing object IDs:   0%|          | 0/104 [00:00<?, ?it/s]"
                        ]
                    },
                    "metadata": {},
                    "output_type": "display_data"
                },
                {
                    "data": {
                        "application/vnd.jupyter.widget-view+json": {
                            "model_id": "e4e9d65f5f194870a76157c9be18d95b",
                            "version_major": 2,
                            "version_minor": 0
                        },
                        "text/plain": [
                            "Processing object IDs:   0%|          | 0/104 [00:00<?, ?it/s]"
                        ]
                    },
                    "metadata": {},
                    "output_type": "display_data"
                },
                {
                    "data": {
                        "application/vnd.jupyter.widget-view+json": {
                            "model_id": "71b3096eb79746e5925edaa63fceb23a",
                            "version_major": 2,
                            "version_minor": 0
                        },
                        "text/plain": [
                            "Processing object IDs:   0%|          | 0/104 [00:00<?, ?it/s]"
                        ]
                    },
                    "metadata": {},
                    "output_type": "display_data"
                },
                {
                    "data": {
                        "application/vnd.jupyter.widget-view+json": {
                            "model_id": "f13a591b01494e21ad9356c1b36e5202",
                            "version_major": 2,
                            "version_minor": 0
                        },
                        "text/plain": [
                            "Processing object IDs:   0%|          | 0/104 [00:00<?, ?it/s]"
                        ]
                    },
                    "metadata": {},
                    "output_type": "display_data"
                },
                {
                    "data": {
                        "application/vnd.jupyter.widget-view+json": {
                            "model_id": "26658cdcb1c14ea687e323417e14d1ef",
                            "version_major": 2,
                            "version_minor": 0
                        },
                        "text/plain": [
                            "Processing object IDs:   0%|          | 0/104 [00:00<?, ?it/s]"
                        ]
                    },
                    "metadata": {},
                    "output_type": "display_data"
                },
                {
                    "data": {
                        "application/vnd.jupyter.widget-view+json": {
                            "model_id": "3ab4e375330e44dbacadc1fe6e52af20",
                            "version_major": 2,
                            "version_minor": 0
                        },
                        "text/plain": [
                            "Processing channel combinations:   0%|          | 0/10 [00:00<?, ?it/s]"
                        ]
                    },
                    "metadata": {},
                    "output_type": "display_data"
                },
                {
                    "data": {
                        "application/vnd.jupyter.widget-view+json": {
                            "model_id": "a687ff15d25f47958dcf8175f79857a4",
                            "version_major": 2,
                            "version_minor": 0
                        },
                        "text/plain": [
                            "Processing object IDs:   0%|          | 0/104 [00:00<?, ?it/s]"
                        ]
                    },
                    "metadata": {},
                    "output_type": "display_data"
                },
                {
                    "data": {
                        "application/vnd.jupyter.widget-view+json": {
                            "model_id": "d622f554d22a4bbb9e5ac41c6d955e9f",
                            "version_major": 2,
                            "version_minor": 0
                        },
                        "text/plain": [
                            "Processing object IDs:   0%|          | 0/104 [00:00<?, ?it/s]"
                        ]
                    },
                    "metadata": {},
                    "output_type": "display_data"
                },
                {
                    "data": {
                        "application/vnd.jupyter.widget-view+json": {
                            "model_id": "10a6c6cc254349a89e33116906bafbbf",
                            "version_major": 2,
                            "version_minor": 0
                        },
                        "text/plain": [
                            "Processing object IDs:   0%|          | 0/104 [00:00<?, ?it/s]"
                        ]
                    },
                    "metadata": {},
                    "output_type": "display_data"
                },
                {
                    "data": {
                        "application/vnd.jupyter.widget-view+json": {
                            "model_id": "d2329833499b48a5ac8e450471284f29",
                            "version_major": 2,
                            "version_minor": 0
                        },
                        "text/plain": [
                            "Processing object IDs:   0%|          | 0/104 [00:00<?, ?it/s]"
                        ]
                    },
                    "metadata": {},
                    "output_type": "display_data"
                },
                {
                    "data": {
                        "application/vnd.jupyter.widget-view+json": {
                            "model_id": "442399056b2749718c07b7c975c669b0",
                            "version_major": 2,
                            "version_minor": 0
                        },
                        "text/plain": [
                            "Processing object IDs:   0%|          | 0/104 [00:00<?, ?it/s]"
                        ]
                    },
                    "metadata": {},
                    "output_type": "display_data"
                },
                {
                    "data": {
                        "application/vnd.jupyter.widget-view+json": {
                            "model_id": "2d50bdfa2d9b4c19981a2c76d8e7ba52",
                            "version_major": 2,
                            "version_minor": 0
                        },
                        "text/plain": [
                            "Processing object IDs:   0%|          | 0/104 [00:00<?, ?it/s]"
                        ]
                    },
                    "metadata": {},
                    "output_type": "display_data"
                },
                {
                    "data": {
                        "application/vnd.jupyter.widget-view+json": {
                            "model_id": "6ab3302e339643638bd32a3b2d003c7c",
                            "version_major": 2,
                            "version_minor": 0
                        },
                        "text/plain": [
                            "Processing object IDs:   0%|          | 0/104 [00:00<?, ?it/s]"
                        ]
                    },
                    "metadata": {},
                    "output_type": "display_data"
                },
                {
                    "data": {
                        "application/vnd.jupyter.widget-view+json": {
                            "model_id": "da9a0fa7f9ca4c92b2ecdb80a5fb14cf",
                            "version_major": 2,
                            "version_minor": 0
                        },
                        "text/plain": [
                            "Processing object IDs:   0%|          | 0/104 [00:00<?, ?it/s]"
                        ]
                    },
                    "metadata": {},
                    "output_type": "display_data"
                },
                {
                    "data": {
                        "application/vnd.jupyter.widget-view+json": {
                            "model_id": "0b5502b6502a46af8fe0ec5e8426a7ae",
                            "version_major": 2,
                            "version_minor": 0
                        },
                        "text/plain": [
                            "Processing object IDs:   0%|          | 0/104 [00:00<?, ?it/s]"
                        ]
                    },
                    "metadata": {},
                    "output_type": "display_data"
                },
                {
                    "data": {
                        "application/vnd.jupyter.widget-view+json": {
                            "model_id": "a73bcfea36d644ada4eb17fdd97f11db",
                            "version_major": 2,
                            "version_minor": 0
                        },
                        "text/plain": [
                            "Processing object IDs:   0%|          | 0/104 [00:00<?, ?it/s]"
                        ]
                    },
                    "metadata": {},
                    "output_type": "display_data"
                },
                {
                    "data": {
                        "application/vnd.jupyter.widget-view+json": {
                            "model_id": "191d3090fff248d7b50478cf22d0112a",
                            "version_major": 2,
                            "version_minor": 0
                        },
                        "text/plain": [
                            "Processing channel combinations:   0%|          | 0/10 [00:00<?, ?it/s]"
                        ]
                    },
                    "metadata": {},
                    "output_type": "display_data"
                },
                {
                    "data": {
                        "application/vnd.jupyter.widget-view+json": {
                            "model_id": "5b2652a14551487c8d6f28d2f8e9aca9",
                            "version_major": 2,
                            "version_minor": 0
                        },
                        "text/plain": [
                            "Processing object IDs:   0%|          | 0/54 [00:00<?, ?it/s]"
                        ]
                    },
                    "metadata": {},
                    "output_type": "display_data"
                },
                {
                    "data": {
                        "application/vnd.jupyter.widget-view+json": {
                            "model_id": "ba4ec9335b5a43bc9bad4869f7775a86",
                            "version_major": 2,
                            "version_minor": 0
                        },
                        "text/plain": [
                            "Processing object IDs:   0%|          | 0/54 [00:00<?, ?it/s]"
                        ]
                    },
                    "metadata": {},
                    "output_type": "display_data"
                },
                {
                    "data": {
                        "application/vnd.jupyter.widget-view+json": {
                            "model_id": "c8c4bdae0873467db2946beb0c84434f",
                            "version_major": 2,
                            "version_minor": 0
                        },
                        "text/plain": [
                            "Processing object IDs:   0%|          | 0/54 [00:00<?, ?it/s]"
                        ]
                    },
                    "metadata": {},
                    "output_type": "display_data"
                },
                {
                    "data": {
                        "application/vnd.jupyter.widget-view+json": {
                            "model_id": "f0f11dc0cef24442851ffa32fde576fd",
                            "version_major": 2,
                            "version_minor": 0
                        },
                        "text/plain": [
                            "Processing object IDs:   0%|          | 0/54 [00:00<?, ?it/s]"
                        ]
                    },
                    "metadata": {},
                    "output_type": "display_data"
                },
                {
                    "data": {
                        "application/vnd.jupyter.widget-view+json": {
                            "model_id": "30ae248866694c51b8ad4c6f463d9c04",
                            "version_major": 2,
                            "version_minor": 0
                        },
                        "text/plain": [
                            "Processing object IDs:   0%|          | 0/54 [00:00<?, ?it/s]"
                        ]
                    },
                    "metadata": {},
                    "output_type": "display_data"
                },
                {
                    "data": {
                        "application/vnd.jupyter.widget-view+json": {
                            "model_id": "c5903d2a0df446c2853d461f83bb0eca",
                            "version_major": 2,
                            "version_minor": 0
                        },
                        "text/plain": [
                            "Processing object IDs:   0%|          | 0/54 [00:00<?, ?it/s]"
                        ]
                    },
                    "metadata": {},
                    "output_type": "display_data"
                },
                {
                    "data": {
                        "application/vnd.jupyter.widget-view+json": {
                            "model_id": "8a9f7346d6274378bd49c1026bee07e1",
                            "version_major": 2,
                            "version_minor": 0
                        },
                        "text/plain": [
                            "Processing object IDs:   0%|          | 0/54 [00:00<?, ?it/s]"
                        ]
                    },
                    "metadata": {},
                    "output_type": "display_data"
                },
                {
                    "data": {
                        "application/vnd.jupyter.widget-view+json": {
                            "model_id": "46b168ff1c104384afbe9cab99c31a52",
                            "version_major": 2,
                            "version_minor": 0
                        },
                        "text/plain": [
                            "Processing object IDs:   0%|          | 0/54 [00:00<?, ?it/s]"
                        ]
                    },
                    "metadata": {},
                    "output_type": "display_data"
                },
                {
                    "data": {
                        "application/vnd.jupyter.widget-view+json": {
                            "model_id": "09ceba0799b244d1b05904571b3dab46",
                            "version_major": 2,
                            "version_minor": 0
                        },
                        "text/plain": [
                            "Processing object IDs:   0%|          | 0/54 [00:00<?, ?it/s]"
                        ]
                    },
                    "metadata": {},
                    "output_type": "display_data"
                },
                {
                    "data": {
                        "application/vnd.jupyter.widget-view+json": {
                            "model_id": "18d152ea6fa24bc8977cf33dc496ead9",
                            "version_major": 2,
                            "version_minor": 0
                        },
                        "text/plain": [
                            "Processing object IDs:   0%|          | 0/54 [00:00<?, ?it/s]"
                        ]
                    },
                    "metadata": {},
                    "output_type": "display_data"
                },
                {
                    "data": {
                        "application/vnd.jupyter.widget-view+json": {
                            "model_id": "156d532c0bef42f59624b49a89e2992f",
                            "version_major": 2,
                            "version_minor": 0
                        },
                        "text/plain": [
                            "Processing channel combinations:   0%|          | 0/10 [00:00<?, ?it/s]"
                        ]
                    },
                    "metadata": {},
                    "output_type": "display_data"
                },
                {
                    "data": {
                        "application/vnd.jupyter.widget-view+json": {
                            "model_id": "3c27727b029f42f6bacc62ea4aded1d4",
                            "version_major": 2,
                            "version_minor": 0
                        },
                        "text/plain": [
                            "Processing object IDs:   0%|          | 0/3 [00:00<?, ?it/s]"
                        ]
                    },
                    "metadata": {},
                    "output_type": "display_data"
                },
                {
                    "data": {
                        "application/vnd.jupyter.widget-view+json": {
                            "model_id": "1ce85fb0f5594dda969046f805e145c7",
                            "version_major": 2,
                            "version_minor": 0
                        },
                        "text/plain": [
                            "Processing object IDs:   0%|          | 0/3 [00:00<?, ?it/s]"
                        ]
                    },
                    "metadata": {},
                    "output_type": "display_data"
                },
                {
                    "data": {
                        "application/vnd.jupyter.widget-view+json": {
                            "model_id": "ba0b26994ee245f6820c770a10cfca1d",
                            "version_major": 2,
                            "version_minor": 0
                        },
                        "text/plain": [
                            "Processing object IDs:   0%|          | 0/3 [00:00<?, ?it/s]"
                        ]
                    },
                    "metadata": {},
                    "output_type": "display_data"
                },
                {
                    "data": {
                        "application/vnd.jupyter.widget-view+json": {
                            "model_id": "ae9193044111492f83232cfadbac3db7",
                            "version_major": 2,
                            "version_minor": 0
                        },
                        "text/plain": [
                            "Processing object IDs:   0%|          | 0/3 [00:00<?, ?it/s]"
                        ]
                    },
                    "metadata": {},
                    "output_type": "display_data"
                },
                {
                    "data": {
                        "application/vnd.jupyter.widget-view+json": {
                            "model_id": "3a66b735da8d4702aa1303f3fb7d5f32",
                            "version_major": 2,
                            "version_minor": 0
                        },
                        "text/plain": [
                            "Processing object IDs:   0%|          | 0/3 [00:00<?, ?it/s]"
                        ]
                    },
                    "metadata": {},
                    "output_type": "display_data"
                },
                {
                    "data": {
                        "application/vnd.jupyter.widget-view+json": {
                            "model_id": "85cd301e312a4572aa4306943f04631c",
                            "version_major": 2,
                            "version_minor": 0
                        },
                        "text/plain": [
                            "Processing object IDs:   0%|          | 0/3 [00:00<?, ?it/s]"
                        ]
                    },
                    "metadata": {},
                    "output_type": "display_data"
                },
                {
                    "data": {
                        "application/vnd.jupyter.widget-view+json": {
                            "model_id": "ca2f8705d60b4844a3428bec8c06cac8",
                            "version_major": 2,
                            "version_minor": 0
                        },
                        "text/plain": [
                            "Processing object IDs:   0%|          | 0/3 [00:00<?, ?it/s]"
                        ]
                    },
                    "metadata": {},
                    "output_type": "display_data"
                },
                {
                    "data": {
                        "application/vnd.jupyter.widget-view+json": {
                            "model_id": "f86ce0ad264849b3ab0351e1e3ce07e9",
                            "version_major": 2,
                            "version_minor": 0
                        },
                        "text/plain": [
                            "Processing object IDs:   0%|          | 0/3 [00:00<?, ?it/s]"
                        ]
                    },
                    "metadata": {},
                    "output_type": "display_data"
                },
                {
                    "data": {
                        "application/vnd.jupyter.widget-view+json": {
                            "model_id": "79578dee48d0494582bb41325d53cb96",
                            "version_major": 2,
                            "version_minor": 0
                        },
                        "text/plain": [
                            "Processing object IDs:   0%|          | 0/3 [00:00<?, ?it/s]"
                        ]
                    },
                    "metadata": {},
                    "output_type": "display_data"
                },
                {
                    "data": {
                        "application/vnd.jupyter.widget-view+json": {
                            "model_id": "31583c411180442985dfe4f9fe0093fa",
                            "version_major": 2,
                            "version_minor": 0
                        },
                        "text/plain": [
                            "Processing object IDs:   0%|          | 0/3 [00:00<?, ?it/s]"
                        ]
                    },
                    "metadata": {},
                    "output_type": "display_data"
                }
            ],
            "source": [
                "output_list_of_dfs = []\n",
                "for compartments in tqdm(\n",
                "    image_set_loader.compartments, desc=\"Processing compartments\", position=0\n",
                "):\n",
                "    for channel1, channel2 in tqdm(\n",
                "        channel_combinations,\n",
                "        desc=\"Processing channel combinations\",\n",
                "        leave=False,\n",
                "        position=1,\n",
                "    ):\n",
                "        coloc_loader = TwoObjectLoader(\n",
                "            image_set_loader=image_set_loader,\n",
                "            compartment=compartments,\n",
                "            channel1=channel1,\n",
                "            channel2=channel2,\n",
                "        )\n",
                "        for object_id in tqdm(\n",
                "            coloc_loader.object_ids,\n",
                "            desc=\"Processing object IDs\",\n",
                "            leave=False,\n",
                "            position=2,\n",
                "        ):\n",
                "            cropped_image1, cropped_image2 = prepare_two_images_for_colocalization(\n",
                "                label_object1=coloc_loader.label_image,\n",
                "                label_object2=coloc_loader.label_image,\n",
                "                image_object1=coloc_loader.image1,\n",
                "                image_object2=coloc_loader.image2,\n",
                "                object_id1=object_id,\n",
                "                object_id2=object_id,\n",
                "            )\n",
                "            colocalization_features = measure_3D_colocalization(\n",
                "                cropped_image_1=cropped_image1,\n",
                "                cropped_image_2=cropped_image2,\n",
                "                thr=15,\n",
                "                fast_costes=\"Accurate\",\n",
                "            )\n",
                "            coloc_df = pd.DataFrame(colocalization_features, index=[0])\n",
                "            coloc_df[\"object_id\"] = object_id\n",
                "            coloc_df[\"channel1\"] = channel1\n",
                "            coloc_df[\"channel2\"] = channel2\n",
                "            coloc_df[\"compartment\"] = compartments\n",
                "            output_list_of_dfs.append(coloc_df)"
            ]
        },
        {
            "cell_type": "code",
            "execution_count": 7,
            "metadata": {},
            "outputs": [
                {
                    "data": {
                        "text/html": [
                            "<div>\n",
                            "<style scoped>\n",
                            "    .dataframe tbody tr th:only-of-type {\n",
                            "        vertical-align: middle;\n",
                            "    }\n",
                            "\n",
                            "    .dataframe tbody tr th {\n",
                            "        vertical-align: top;\n",
                            "    }\n",
                            "\n",
                            "    .dataframe thead th {\n",
                            "        text-align: right;\n",
                            "    }\n",
                            "</style>\n",
                            "<table border=\"1\" class=\"dataframe\">\n",
                            "  <thead>\n",
                            "    <tr style=\"text-align: right;\">\n",
                            "      <th></th>\n",
                            "      <th>Mean.Correlation.coeff</th>\n",
                            "      <th>Median.Correlation.coeff</th>\n",
                            "      <th>Min.Correlation.coeff</th>\n",
                            "      <th>Max.Correlation.coeff</th>\n",
                            "      <th>Mean.Manders.coeff.M1</th>\n",
                            "      <th>Median.Manders.coeff.M1</th>\n",
                            "      <th>Min.Manders.coeff.M1</th>\n",
                            "      <th>Max.Manders.coeff.M1</th>\n",
                            "      <th>Mean.Manders.coeff.M2</th>\n",
                            "      <th>Median.Manders.coeff.M2</th>\n",
                            "      <th>...</th>\n",
                            "      <th>Min.Manders.Coeff.costes.M1</th>\n",
                            "      <th>Max.Manders.Coeff.costes.M1</th>\n",
                            "      <th>Mean.Manders.Coeff.costes.M2</th>\n",
                            "      <th>Median.Manders.Coeff.costes.M2</th>\n",
                            "      <th>Min.Manders.Coeff.costes.M2</th>\n",
                            "      <th>Max.Manders.Coeff.costes..M2</th>\n",
                            "      <th>object_id</th>\n",
                            "      <th>channel1</th>\n",
                            "      <th>channel2</th>\n",
                            "      <th>compartment</th>\n",
                            "    </tr>\n",
                            "  </thead>\n",
                            "  <tbody>\n",
                            "    <tr>\n",
                            "      <th>0</th>\n",
                            "      <td>-0.208877</td>\n",
                            "      <td>-0.208877</td>\n",
                            "      <td>-0.208877</td>\n",
                            "      <td>-0.208877</td>\n",
                            "      <td>0.249420</td>\n",
                            "      <td>0.249420</td>\n",
                            "      <td>0.249420</td>\n",
                            "      <td>0.249420</td>\n",
                            "      <td>0.428646</td>\n",
                            "      <td>0.428646</td>\n",
                            "      <td>...</td>\n",
                            "      <td>0.228366</td>\n",
                            "      <td>0.228366</td>\n",
                            "      <td>1.0</td>\n",
                            "      <td>1.0</td>\n",
                            "      <td>1.0</td>\n",
                            "      <td>1.0</td>\n",
                            "      <td>2</td>\n",
                            "      <td>nuclei</td>\n",
                            "      <td>AGP</td>\n",
                            "      <td>cell_mask</td>\n",
                            "    </tr>\n",
                            "    <tr>\n",
                            "      <th>1</th>\n",
                            "      <td>0.040319</td>\n",
                            "      <td>0.040319</td>\n",
                            "      <td>0.040319</td>\n",
                            "      <td>0.040319</td>\n",
                            "      <td>0.998825</td>\n",
                            "      <td>0.998825</td>\n",
                            "      <td>0.998825</td>\n",
                            "      <td>0.998825</td>\n",
                            "      <td>0.702443</td>\n",
                            "      <td>0.702443</td>\n",
                            "      <td>...</td>\n",
                            "      <td>0.464290</td>\n",
                            "      <td>0.464290</td>\n",
                            "      <td>1.0</td>\n",
                            "      <td>1.0</td>\n",
                            "      <td>1.0</td>\n",
                            "      <td>1.0</td>\n",
                            "      <td>4</td>\n",
                            "      <td>nuclei</td>\n",
                            "      <td>AGP</td>\n",
                            "      <td>cell_mask</td>\n",
                            "    </tr>\n",
                            "    <tr>\n",
                            "      <th>2</th>\n",
                            "      <td>-0.182645</td>\n",
                            "      <td>-0.182645</td>\n",
                            "      <td>-0.182645</td>\n",
                            "      <td>-0.182645</td>\n",
                            "      <td>0.214643</td>\n",
                            "      <td>0.214643</td>\n",
                            "      <td>0.214643</td>\n",
                            "      <td>0.214643</td>\n",
                            "      <td>0.740277</td>\n",
                            "      <td>0.740277</td>\n",
                            "      <td>...</td>\n",
                            "      <td>0.145882</td>\n",
                            "      <td>0.145882</td>\n",
                            "      <td>1.0</td>\n",
                            "      <td>1.0</td>\n",
                            "      <td>1.0</td>\n",
                            "      <td>1.0</td>\n",
                            "      <td>7</td>\n",
                            "      <td>nuclei</td>\n",
                            "      <td>AGP</td>\n",
                            "      <td>cell_mask</td>\n",
                            "    </tr>\n",
                            "    <tr>\n",
                            "      <th>3</th>\n",
                            "      <td>0.064261</td>\n",
                            "      <td>0.064261</td>\n",
                            "      <td>0.064261</td>\n",
                            "      <td>0.064261</td>\n",
                            "      <td>0.965160</td>\n",
                            "      <td>0.965160</td>\n",
                            "      <td>0.965160</td>\n",
                            "      <td>0.965160</td>\n",
                            "      <td>1.000000</td>\n",
                            "      <td>1.000000</td>\n",
                            "      <td>...</td>\n",
                            "      <td>0.160226</td>\n",
                            "      <td>0.160226</td>\n",
                            "      <td>1.0</td>\n",
                            "      <td>1.0</td>\n",
                            "      <td>1.0</td>\n",
                            "      <td>1.0</td>\n",
                            "      <td>9</td>\n",
                            "      <td>nuclei</td>\n",
                            "      <td>AGP</td>\n",
                            "      <td>cell_mask</td>\n",
                            "    </tr>\n",
                            "    <tr>\n",
                            "      <th>4</th>\n",
                            "      <td>-0.026820</td>\n",
                            "      <td>-0.026820</td>\n",
                            "      <td>-0.026820</td>\n",
                            "      <td>-0.026820</td>\n",
                            "      <td>0.900820</td>\n",
                            "      <td>0.900820</td>\n",
                            "      <td>0.900820</td>\n",
                            "      <td>0.900820</td>\n",
                            "      <td>0.982204</td>\n",
                            "      <td>0.982204</td>\n",
                            "      <td>...</td>\n",
                            "      <td>0.322733</td>\n",
                            "      <td>0.322733</td>\n",
                            "      <td>1.0</td>\n",
                            "      <td>1.0</td>\n",
                            "      <td>1.0</td>\n",
                            "      <td>1.0</td>\n",
                            "      <td>12</td>\n",
                            "      <td>nuclei</td>\n",
                            "      <td>AGP</td>\n",
                            "      <td>cell_mask</td>\n",
                            "    </tr>\n",
                            "  </tbody>\n",
                            "</table>\n",
                            "<p>5 rows \u00d7 36 columns</p>\n",
                            "</div>"
                        ],
                        "text/plain": [
                            "   Mean.Correlation.coeff  Median.Correlation.coeff  Min.Correlation.coeff  \\\n",
                            "0               -0.208877                 -0.208877              -0.208877   \n",
                            "1                0.040319                  0.040319               0.040319   \n",
                            "2               -0.182645                 -0.182645              -0.182645   \n",
                            "3                0.064261                  0.064261               0.064261   \n",
                            "4               -0.026820                 -0.026820              -0.026820   \n",
                            "\n",
                            "   Max.Correlation.coeff  Mean.Manders.coeff.M1  Median.Manders.coeff.M1  \\\n",
                            "0              -0.208877               0.249420                 0.249420   \n",
                            "1               0.040319               0.998825                 0.998825   \n",
                            "2              -0.182645               0.214643                 0.214643   \n",
                            "3               0.064261               0.965160                 0.965160   \n",
                            "4              -0.026820               0.900820                 0.900820   \n",
                            "\n",
                            "   Min.Manders.coeff.M1  Max.Manders.coeff.M1  Mean.Manders.coeff.M2  \\\n",
                            "0              0.249420              0.249420               0.428646   \n",
                            "1              0.998825              0.998825               0.702443   \n",
                            "2              0.214643              0.214643               0.740277   \n",
                            "3              0.965160              0.965160               1.000000   \n",
                            "4              0.900820              0.900820               0.982204   \n",
                            "\n",
                            "   Median.Manders.coeff.M2  ...  Min.Manders.Coeff.costes.M1  \\\n",
                            "0                 0.428646  ...                     0.228366   \n",
                            "1                 0.702443  ...                     0.464290   \n",
                            "2                 0.740277  ...                     0.145882   \n",
                            "3                 1.000000  ...                     0.160226   \n",
                            "4                 0.982204  ...                     0.322733   \n",
                            "\n",
                            "   Max.Manders.Coeff.costes.M1  Mean.Manders.Coeff.costes.M2  \\\n",
                            "0                     0.228366                           1.0   \n",
                            "1                     0.464290                           1.0   \n",
                            "2                     0.145882                           1.0   \n",
                            "3                     0.160226                           1.0   \n",
                            "4                     0.322733                           1.0   \n",
                            "\n",
                            "   Median.Manders.Coeff.costes.M2  Min.Manders.Coeff.costes.M2  \\\n",
                            "0                             1.0                          1.0   \n",
                            "1                             1.0                          1.0   \n",
                            "2                             1.0                          1.0   \n",
                            "3                             1.0                          1.0   \n",
                            "4                             1.0                          1.0   \n",
                            "\n",
                            "   Max.Manders.Coeff.costes..M2  object_id  channel1  channel2  compartment  \n",
                            "0                           1.0          2    nuclei       AGP    cell_mask  \n",
                            "1                           1.0          4    nuclei       AGP    cell_mask  \n",
                            "2                           1.0          7    nuclei       AGP    cell_mask  \n",
                            "3                           1.0          9    nuclei       AGP    cell_mask  \n",
                            "4                           1.0         12    nuclei       AGP    cell_mask  \n",
                            "\n",
                            "[5 rows x 36 columns]"
                        ]
                    },
                    "execution_count": 7,
                    "metadata": {},
                    "output_type": "execute_result"
                }
            ],
            "source": [
                "final_df = pd.concat(output_list_of_dfs, ignore_index=True)\n",
                "final_df.head()"
            ]
        }
    ],
    "metadata": {
        "kernelspec": {
            "display_name": "GFF_featurization",
            "language": "python",
            "name": "python3"
        },
        "language_info": {
            "codemirror_mode": {
                "name": "ipython",
                "version": 3
            },
            "file_extension": ".py",
            "mimetype": "text/x-python",
            "name": "python",
            "nbconvert_exporter": "python",
            "pygments_lexer": "ipython3",
            "version": "3.12.9"
        }
    },
    "nbformat": 4,
    "nbformat_minor": 2
}
