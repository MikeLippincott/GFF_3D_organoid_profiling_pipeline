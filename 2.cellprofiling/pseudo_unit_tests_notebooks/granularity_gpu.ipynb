{
    "cells": [
        {
            "cell_type": "code",
            "execution_count": 1,
            "metadata": {},
            "outputs": [],
            "source": [
                "import pathlib\n",
                "import sys\n",
                "import time\n",
                "\n",
                "sys.path.append(\"../featurization\")\n",
                "from typing import Dict\n",
                "\n",
                "import cucim\n",
                "import cucim.skimage.morphology\n",
                "import cupy as cp\n",
                "import cupyx.scipy.ndimage\n",
                "import numpy\n",
                "import numpy as np\n",
                "import pandas as pd\n",
                "import scipy\n",
                "import skimage\n",
                "import tqdm\n",
                "from data_writer import organize_featurization_data\n",
                "from granularity import measure_3D_granularity_gpu\n",
                "from loading_classes import ImageSetLoader, ObjectLoader"
            ]
        },
        {
            "cell_type": "code",
            "execution_count": 2,
            "metadata": {},
            "outputs": [],
            "source": [
                "image_set_path = pathlib.Path(\"../../data/NF0014/cellprofiler/C4-2/\")"
            ]
        },
        {
            "cell_type": "code",
            "execution_count": 3,
            "metadata": {},
            "outputs": [],
            "source": [
                "channel_mapping = {\n",
                "    \"DNA\": \"405\",\n",
                "    \"AGP\": \"488\",\n",
                "    \"ER\": \"555\",\n",
                "    \"Mito\": \"640\",\n",
                "    \"BF\": \"TRANS\",\n",
                "    \"Nuclei\": \"nuclei_\",\n",
                "    \"Cell\": \"cell_\",\n",
                "    \"Cytoplasm\": \"cytoplasm_\",\n",
                "    \"Organoid\": \"organoid_\",\n",
                "}"
            ]
        },
        {
            "cell_type": "code",
            "execution_count": 4,
            "metadata": {},
            "outputs": [],
            "source": [
                "image_set_loader = ImageSetLoader(\n",
                "    image_set_path=image_set_path,\n",
                "    spacing=(1, 0.1, 0.1),\n",
                "    channel_mapping=channel_mapping,\n",
                ")"
            ]
        },
        {
            "cell_type": "code",
            "execution_count": 5,
            "metadata": {},
            "outputs": [
                {
                    "data": {
                        "text/plain": [
                            "dict_keys(['DNA', 'AGP', 'ER', 'Mito', 'BF', 'Cell', 'Cytoplasm', 'Nuclei', 'Organoid'])"
                        ]
                    },
                    "execution_count": 5,
                    "metadata": {},
                    "output_type": "execute_result"
                }
            ],
            "source": [
                "object_loader = ObjectLoader(\n",
                "    image_set_loader.image_set_dict[\"DNA\"],\n",
                "    image_set_loader.image_set_dict[\"Cell\"],\n",
                "    \"DNA\",\n",
                "    \"Cell\",\n",
                ")\n",
                "object_loader.object_ids\n",
                "image_set_loader.image_set_dict.keys()"
            ]
        },
        {
            "cell_type": "code",
            "execution_count": 6,
            "metadata": {},
            "outputs": [],
            "source": [
                "def granularity_feature(length):\n",
                "    C_GRANULARITY = \"GRANULARITY.%s\"\n",
                "    return C_GRANULARITY % (length)\n",
                "\n",
                "\n",
                "class ObjectRecord:\n",
                "    def __init__(self, object_loader, object_index):\n",
                "        self.object_index = object_index\n",
                "        self.labels = object_loader.objects.copy()\n",
                "        # select the object\n",
                "        self.labels[self.labels != object_index] = 0\n",
                "        self.image = object_loader.image.copy()\n",
                "        self.image[self.labels != object_index] = 0\n",
                "\n",
                "        # self.labels[self.labels == object_index] = 1\n",
                "        # self.labels[~object_index] = 0\n",
                "\n",
                "        self.nobjects = len(numpy.unique(self.labels))\n",
                "        if self.nobjects != 0:\n",
                "            self.range = numpy.arange(1, numpy.max(self.labels) + 1)\n",
                "            self.current_mean = scipy.ndimage.mean(self.image, self.labels)\n",
                "            self.start_mean = numpy.maximum(self.current_mean, numpy.finfo(float).eps)\n",
                "\n",
                "\n",
                "object_record = ObjectRecord(object_loader, 1)"
            ]
        },
        {
            "cell_type": "code",
            "execution_count": 7,
            "metadata": {},
            "outputs": [],
            "source": [
                "# def measure_3D_granularity_gpu(\n",
                "#         object_loader: ObjectLoader,\n",
                "#         radius: int = 20,\n",
                "#         granular_spectrum_length: int = 16,\n",
                "#         subsample_size: float = 0.25,\n",
                "#         image_name: str = \"nuclei\",\n",
                "#         ) -> pd.DataFrame:\n",
                "\n",
                "#     pixels = cp.asarray(object_loader.image)\n",
                "#     mask = cp.asarray(object_loader.label_image)\n",
                "#     new_shape = cp.asarray(pixels.shape) * subsample_size\n",
                "#     k,i,j = (\n",
                "#         cp.mgrid[0:new_shape[0], 0:new_shape[1], 0:new_shape[2]].astype(cp.float32)\n",
                "#         / subsample_size\n",
                "#     )\n",
                "#     pixels = cupyx.scipy.ndimage.map_coordinates(\n",
                "#         pixels,\n",
                "#         cp.stack((k,i,j)),\n",
                "#         order=1\n",
                "#         )\n",
                "#     mask = cupyx.scipy.ndimage.map_coordinates(\n",
                "#         mask,\n",
                "#         cp.stack((k, i, j)),\n",
                "#         ) > 0.9\n",
                "#     back_shape = new_shape * subsample_size\n",
                "\n",
                "#     back_shape = new_shape * subsample_size\n",
                "#     k, i, j = (\n",
                "#         cp.mgrid[0 : new_shape[0], 0 : new_shape[1], 0 : new_shape[2]].astype(cp.float32)\n",
                "#         / subsample_size\n",
                "#     )\n",
                "#     back_pixels = cupyx.scipy.ndimage.map_coordinates(pixels, cp.stack((k, i, j)), order=1)\n",
                "#     back_mask = cupyx.scipy.ndimage.map_coordinates(mask.astype(cp.float32), cp.stack((k, i, j))) > 0.9\n",
                "#     footprint = cucim.skimage.morphology.ball(radius, dtype=bool)\n",
                "#     # conver the footprint bool to float32\n",
                "#     # footprint = footprint.astype(cp.int32)\n",
                "\n",
                "#     back_pixels_mask = cp.zeros_like(back_pixels)\n",
                "#     back_pixels_mask[back_mask == True] = back_pixels[back_mask == True]\n",
                "#     back_pixels_mask = cp.asarray(back_pixels_mask)\n",
                "\n",
                "#     back_pixels = cucim.skimage.morphology.isotropic_erosion(\n",
                "#         back_pixels_mask,\n",
                "#         radius=3,\n",
                "#         spacing=image_set_loader.spacing,\n",
                "#         )\n",
                "\n",
                "#     back_pixels_mask = cp.zeros_like(back_pixels)\n",
                "#     back_pixels_mask[back_mask == True] = back_pixels[back_mask == True]\n",
                "\n",
                "#     back_pixels = cucim.skimage.morphology.isotropic_dilation(\n",
                "#         back_pixels_mask,\n",
                "#         radius=3,\n",
                "#         spacing=image_set_loader.spacing,\n",
                "#         )\n",
                "#     k, i, j = cp.mgrid[0 : new_shape[0], 0 : new_shape[1], 0 : new_shape[2]].astype(\n",
                "#         cp.float32\n",
                "#     )\n",
                "\n",
                "#     k *= (back_shape[0] - 1) / (new_shape[0] - 1)\n",
                "#     i *= (back_shape[1] - 1) / (new_shape[1] - 1)\n",
                "#     j *= (back_shape[2] - 1) / (new_shape[2] - 1)\n",
                "\n",
                "#     back_pixels = cupyx.scipy.ndimage.map_coordinates(back_pixels, cp.stack((k, i, j)), order=1)\n",
                "#     pixels -= back_pixels\n",
                "#     pixels[pixels < 0] = 0\n",
                "\n",
                "#     startmean = cp.mean(pixels[mask])\n",
                "#     ero = pixels.copy()\n",
                "\n",
                "#     # Mask the test image so that masked pixels will have no effect\n",
                "#     # during reconstruction\n",
                "#     ero[~mask] = 0\n",
                "#     currentmean = startmean\n",
                "#     startmean = max(startmean, cp.finfo(float).eps)\n",
                "#     footprint = cucim.skimage.morphology.ball(1, dtype=bool)\n",
                "#     statistics = [image_name]\n",
                "#     feature_measurments = {}\n",
                "#     objects_records = [ObjectRecord(object_loader=object_loader, object_index=object_id) for object_id in object_loader.object_ids]\n",
                "#     object_measurements = {\"object_id\": [], \"feature\": [], \"value\": []}\n",
                "#     for i in tqdm.tqdm(range(1, granular_spectrum_length + 1)):\n",
                "#         prevmean = currentmean\n",
                "#         ero_mask = cp.zeros_like(ero)\n",
                "#         ero_mask[mask == True] = ero[mask == True]\n",
                "#         ero = cucim.skimage.morphology.isotropic_erosion(\n",
                "#             ero_mask,\n",
                "#             radius=3,\n",
                "#             spacing=image_set_loader.spacing,\n",
                "#             )\n",
                "#         rec = cucim.skimage.morphology.reconstruction(\n",
                "#             ero,\n",
                "#             pixels,\n",
                "#             footprint=footprint,\n",
                "#         )\n",
                "#         currentmean = cp.mean(rec[mask])\n",
                "#         gs = (prevmean - currentmean) * 100 / startmean\n",
                "#         statistics += [\"%.2f\" % gs]\n",
                "#         feature = granularity_feature(i)\n",
                "#         feature_measurments[feature] = gs\n",
                "#         # Restore the reconstructed image to the shape of the\n",
                "#         # original image so we can match against object labels\n",
                "#         orig_shape = object_loader.image.shape\n",
                "#         k, i, j = cp.mgrid[\n",
                "#             0 : orig_shape[0], 0 : orig_shape[1], 0 : orig_shape[2]\n",
                "#         ].astype(cp.float32)\n",
                "#         k *= (new_shape[0] - 1) / (orig_shape[0] - 1)\n",
                "#         i *= (new_shape[1] - 1) / (orig_shape[1] - 1)\n",
                "#         j *= (new_shape[2] - 1) / (orig_shape[2] - 1)\n",
                "\n",
                "#         rec = cupyx.scipy.ndimage.map_coordinates(rec, cp.stack((k, i, j)), order=1)\n",
                "#         for object_record in objects_records:\n",
                "#             if object_record.nobjects > 0:\n",
                "#                 labels = cp.asarray(object_record.labels)\n",
                "#                 new_mean = cp.mean(rec - labels)\n",
                "#                 gss = (\n",
                "#                     (object_record.current_mean - new_mean)\n",
                "#                     * 100\n",
                "#                     / object_record.start_mean\n",
                "#                 )\n",
                "#                 object_record.current_mean = new_mean\n",
                "\n",
                "#             else:\n",
                "#                 gss = cp.zeros((0,))\n",
                "#             object_measurements[\"object_id\"].append(object_record.object_index)\n",
                "#             object_measurements[\"feature\"].append(feature)\n",
                "#             object_measurements[\"value\"].append(gss.get())\n",
                "#     df = pd.DataFrame(object_measurements)\n",
                "#     # get the mean of each value in the array\n",
                "#     # melt the dataframe to wide format\n",
                "#     df = df.pivot_table(index=[\"object_id\"], columns=[\"feature\"], values=[\"value\"])\n",
                "#     df.columns = df.columns.droplevel()\n",
                "#     df = df.reset_index()\n",
                "#     df.head()"
            ]
        },
        {
            "cell_type": "code",
            "execution_count": 8,
            "metadata": {},
            "outputs": [],
            "source": [
                "start_time = time.time()"
            ]
        },
        {
            "cell_type": "code",
            "execution_count": 10,
            "metadata": {},
            "outputs": [
                {
                    "ename": "KeyboardInterrupt",
                    "evalue": "",
                    "output_type": "error",
                    "traceback": [
                        "\u001b[0;31m---------------------------------------------------------------------------\u001b[0m",
                        "\u001b[0;31mKeyboardInterrupt\u001b[0m                         Traceback (most recent call last)",
                        "Cell \u001b[0;32mIn[10], line 1\u001b[0m\n\u001b[0;32m----> 1\u001b[0m object_measurements \u001b[38;5;241m=\u001b[39m \u001b[43mmeasure_3D_granularity_gpu\u001b[49m\u001b[43m(\u001b[49m\n\u001b[1;32m      2\u001b[0m \u001b[43m    \u001b[49m\u001b[43mobject_loader\u001b[49m\u001b[38;5;241;43m=\u001b[39;49m\u001b[43mobject_loader\u001b[49m\u001b[43m,\u001b[49m\n\u001b[1;32m      3\u001b[0m \u001b[43m    \u001b[49m\u001b[43mimage_set_loader\u001b[49m\u001b[38;5;241;43m=\u001b[39;49m\u001b[43mimage_set_loader\u001b[49m\u001b[43m,\u001b[49m\n\u001b[1;32m      4\u001b[0m \u001b[43m    \u001b[49m\u001b[43mradius\u001b[49m\u001b[43m \u001b[49m\u001b[38;5;241;43m=\u001b[39;49m\u001b[43m \u001b[49m\u001b[38;5;241;43m20\u001b[39;49m\u001b[43m,\u001b[49m\n\u001b[1;32m      5\u001b[0m \u001b[43m    \u001b[49m\u001b[43mgranular_spectrum_length\u001b[49m\u001b[43m \u001b[49m\u001b[38;5;241;43m=\u001b[39;49m\u001b[43m \u001b[49m\u001b[38;5;241;43m16\u001b[39;49m\u001b[43m,\u001b[49m\n\u001b[1;32m      6\u001b[0m \u001b[43m    \u001b[49m\u001b[43msubsample_size\u001b[49m\u001b[43m \u001b[49m\u001b[38;5;241;43m=\u001b[39;49m\u001b[43m \u001b[49m\u001b[38;5;241;43m0.25\u001b[39;49m\u001b[43m,\u001b[49m\n\u001b[1;32m      7\u001b[0m \u001b[43m    \u001b[49m\u001b[43mimage_name\u001b[49m\u001b[43m \u001b[49m\u001b[38;5;241;43m=\u001b[39;49m\u001b[43m \u001b[49m\u001b[43mobject_loader\u001b[49m\u001b[38;5;241;43m.\u001b[39;49m\u001b[43mchannel\u001b[49m\u001b[43m,\u001b[49m\n\u001b[1;32m      8\u001b[0m \u001b[43m)\u001b[49m\n",
                        "File \u001b[0;32m~/Documents/GFF_3D_organoid_profiling_pipeline/2.cellprofiling/pseudo_unit_tests_notebooks/../featurization/granularity.py:234\u001b[0m, in \u001b[0;36mmeasure_3D_granularity_gpu\u001b[0;34m(object_loader, image_set_loader, radius, granular_spectrum_length, subsample_size, image_name)\u001b[0m\n\u001b[1;32m    232\u001b[0m statistics \u001b[38;5;241m=\u001b[39m [image_name]\n\u001b[1;32m    233\u001b[0m feature_measurments \u001b[38;5;241m=\u001b[39m {}\n\u001b[0;32m--> 234\u001b[0m objects_records \u001b[38;5;241m=\u001b[39m [\u001b[43mObjectRecord\u001b[49m\u001b[43m(\u001b[49m\u001b[43mobject_loader\u001b[49m\u001b[38;5;241;43m=\u001b[39;49m\u001b[43mobject_loader\u001b[49m\u001b[43m,\u001b[49m\u001b[43m \u001b[49m\u001b[43mobject_index\u001b[49m\u001b[38;5;241;43m=\u001b[39;49m\u001b[43mobject_id\u001b[49m\u001b[43m)\u001b[49m \u001b[38;5;28;01mfor\u001b[39;00m object_id \u001b[38;5;129;01min\u001b[39;00m object_loader\u001b[38;5;241m.\u001b[39mobject_ids]\n\u001b[1;32m    235\u001b[0m object_measurements \u001b[38;5;241m=\u001b[39m {\u001b[38;5;124m\"\u001b[39m\u001b[38;5;124mobject_id\u001b[39m\u001b[38;5;124m\"\u001b[39m: [], \u001b[38;5;124m\"\u001b[39m\u001b[38;5;124mfeature\u001b[39m\u001b[38;5;124m\"\u001b[39m: [], \u001b[38;5;124m\"\u001b[39m\u001b[38;5;124mvalue\u001b[39m\u001b[38;5;124m\"\u001b[39m: []}\n\u001b[1;32m    236\u001b[0m \u001b[38;5;28;01mfor\u001b[39;00m i \u001b[38;5;129;01min\u001b[39;00m tqdm\u001b[38;5;241m.\u001b[39mtqdm(\u001b[38;5;28mrange\u001b[39m(\u001b[38;5;241m1\u001b[39m, granular_spectrum_length \u001b[38;5;241m+\u001b[39m \u001b[38;5;241m1\u001b[39m)):\n",
                        "File \u001b[0;32m~/Documents/GFF_3D_organoid_profiling_pipeline/2.cellprofiling/pseudo_unit_tests_notebooks/../featurization/granularity.py:33\u001b[0m, in \u001b[0;36mObjectRecord.__init__\u001b[0;34m(self, object_loader, object_index)\u001b[0m\n\u001b[1;32m     28\u001b[0m \u001b[38;5;28mself\u001b[39m\u001b[38;5;241m.\u001b[39mimage[\u001b[38;5;28mself\u001b[39m\u001b[38;5;241m.\u001b[39mlabels \u001b[38;5;241m!=\u001b[39m object_index] \u001b[38;5;241m=\u001b[39m \u001b[38;5;241m0\u001b[39m\n\u001b[1;32m     30\u001b[0m \u001b[38;5;66;03m# self.labels[self.labels == object_index] = 1\u001b[39;00m\n\u001b[1;32m     31\u001b[0m \u001b[38;5;66;03m# self.labels[~object_index] = 0\u001b[39;00m\n\u001b[0;32m---> 33\u001b[0m \u001b[38;5;28mself\u001b[39m\u001b[38;5;241m.\u001b[39mnobjects \u001b[38;5;241m=\u001b[39m \u001b[38;5;28mlen\u001b[39m(\u001b[43mnumpy\u001b[49m\u001b[38;5;241;43m.\u001b[39;49m\u001b[43munique\u001b[49m\u001b[43m(\u001b[49m\u001b[38;5;28;43mself\u001b[39;49m\u001b[38;5;241;43m.\u001b[39;49m\u001b[43mlabels\u001b[49m\u001b[43m)\u001b[49m)\n\u001b[1;32m     34\u001b[0m \u001b[38;5;28;01mif\u001b[39;00m \u001b[38;5;28mself\u001b[39m\u001b[38;5;241m.\u001b[39mnobjects \u001b[38;5;241m!=\u001b[39m \u001b[38;5;241m0\u001b[39m:\n\u001b[1;32m     35\u001b[0m     \u001b[38;5;28mself\u001b[39m\u001b[38;5;241m.\u001b[39mrange \u001b[38;5;241m=\u001b[39m numpy\u001b[38;5;241m.\u001b[39marange(\u001b[38;5;241m1\u001b[39m, numpy\u001b[38;5;241m.\u001b[39mmax(\u001b[38;5;28mself\u001b[39m\u001b[38;5;241m.\u001b[39mlabels) \u001b[38;5;241m+\u001b[39m \u001b[38;5;241m1\u001b[39m)\n",
                        "File \u001b[0;32m~/miniforge3/envs/GFF_featurization/lib/python3.12/site-packages/numpy/lib/arraysetops.py:276\u001b[0m, in \u001b[0;36munique\u001b[0;34m(ar, return_index, return_inverse, return_counts, axis, equal_nan)\u001b[0m\n\u001b[1;32m    273\u001b[0m \u001b[38;5;28;01mif\u001b[39;00m axis \u001b[38;5;129;01mis\u001b[39;00m \u001b[38;5;28;01mNone\u001b[39;00m:\n\u001b[1;32m    274\u001b[0m     ret \u001b[38;5;241m=\u001b[39m _unique1d(ar, return_index, return_inverse, return_counts, \n\u001b[1;32m    275\u001b[0m                     equal_nan\u001b[38;5;241m=\u001b[39mequal_nan)\n\u001b[0;32m--> 276\u001b[0m     \u001b[38;5;28;01mreturn\u001b[39;00m \u001b[43m_unpack_tuple\u001b[49m\u001b[43m(\u001b[49m\u001b[43mret\u001b[49m\u001b[43m)\u001b[49m\n\u001b[1;32m    278\u001b[0m \u001b[38;5;66;03m# axis was specified and not None\u001b[39;00m\n\u001b[1;32m    279\u001b[0m \u001b[38;5;28;01mtry\u001b[39;00m:\n",
                        "File \u001b[0;32m~/miniforge3/envs/GFF_featurization/lib/python3.12/site-packages/numpy/lib/arraysetops.py:125\u001b[0m, in \u001b[0;36m_unpack_tuple\u001b[0;34m(x)\u001b[0m\n\u001b[1;32m    121\u001b[0m     np\u001b[38;5;241m.\u001b[39msubtract(ary[\u001b[38;5;241m1\u001b[39m:], ary[:\u001b[38;5;241m-\u001b[39m\u001b[38;5;241m1\u001b[39m], result[l_begin:l_begin \u001b[38;5;241m+\u001b[39m l_diff])\n\u001b[1;32m    122\u001b[0m     \u001b[38;5;28;01mreturn\u001b[39;00m result\n\u001b[0;32m--> 125\u001b[0m \u001b[38;5;28;01mdef\u001b[39;00m\u001b[38;5;250m \u001b[39m\u001b[38;5;21m_unpack_tuple\u001b[39m(x):\n\u001b[1;32m    126\u001b[0m \u001b[38;5;250m    \u001b[39m\u001b[38;5;124;03m\"\"\" Unpacks one-element tuples for use as return values \"\"\"\u001b[39;00m\n\u001b[1;32m    127\u001b[0m     \u001b[38;5;28;01mif\u001b[39;00m \u001b[38;5;28mlen\u001b[39m(x) \u001b[38;5;241m==\u001b[39m \u001b[38;5;241m1\u001b[39m:\n",
                        "\u001b[0;31mKeyboardInterrupt\u001b[0m: "
                    ]
                }
            ],
            "source": [
                "object_measurements = measure_3D_granularity_gpu(\n",
                "    object_loader=object_loader,\n",
                "    image_set_loader=image_set_loader,\n",
                "    radius=20,\n",
                "    granular_spectrum_length=16,\n",
                "    subsample_size=0.25,\n",
                "    image_name=object_loader.channel,\n",
                ")"
            ]
        },
        {
            "cell_type": "code",
            "execution_count": null,
            "metadata": {},
            "outputs": [
                {
                    "name": "stdout",
                    "output_type": "stream",
                    "text": [
                        "--- 116.5708920955658 seconds ---\n",
                        "--- 1.9428490002950032 minutes ---\n",
                        "--- 0.03238082448641459 hours ---\n"
                    ]
                }
            ],
            "source": [
                "print(\"--- %s seconds ---\" % (time.time() - start_time))\n",
                "print(\"--- %s minutes ---\" % ((time.time() - start_time) / 60))\n",
                "print(\"--- %s hours ---\" % ((time.time() - start_time) / 3600))"
            ]
        },
        {
            "cell_type": "code",
            "execution_count": null,
            "metadata": {},
            "outputs": [],
            "source": [
                "object_measurements"
            ]
        },
        {
            "cell_type": "code",
            "execution_count": null,
            "metadata": {},
            "outputs": [
                {
                    "data": {
                        "text/html": [
                            "<div>\n",
                            "<style scoped>\n",
                            "    .dataframe tbody tr th:only-of-type {\n",
                            "        vertical-align: middle;\n",
                            "    }\n",
                            "\n",
                            "    .dataframe tbody tr th {\n",
                            "        vertical-align: top;\n",
                            "    }\n",
                            "\n",
                            "    .dataframe thead th {\n",
                            "        text-align: right;\n",
                            "    }\n",
                            "</style>\n",
                            "<table border=\"1\" class=\"dataframe\">\n",
                            "  <thead>\n",
                            "    <tr style=\"text-align: right;\">\n",
                            "      <th></th>\n",
                            "    </tr>\n",
                            "  </thead>\n",
                            "  <tbody>\n",
                            "  </tbody>\n",
                            "</table>\n",
                            "</div>"
                        ],
                        "text/plain": [
                            "Empty DataFrame\n",
                            "Columns: []\n",
                            "Index: []"
                        ]
                    },
                    "execution_count": 11,
                    "metadata": {},
                    "output_type": "execute_result"
                }
            ],
            "source": [
                "df = pd.DataFrame(object_measurements)\n",
                "# get the mean of each value in the array\n",
                "# melt the dataframe to wide format\n",
                "# df = df.pivot_table(index=[\"object_id\"], columns=[\"feature\"], values=[\"value\"])\n",
                "# df.columns = df.columns.droplevel()\n",
                "# df = df.reset_index()\n",
                "df.head()"
            ]
        },
        {
            "cell_type": "code",
            "execution_count": null,
            "metadata": {},
            "outputs": [],
            "source": []
        }
    ],
    "metadata": {
        "kernelspec": {
            "display_name": "GFF_featurization",
            "language": "python",
            "name": "python3"
        },
        "language_info": {
            "codemirror_mode": {
                "name": "ipython",
                "version": 3
            },
            "file_extension": ".py",
            "mimetype": "text/x-python",
            "name": "python",
            "nbconvert_exporter": "python",
            "pygments_lexer": "ipython3",
            "version": "3.12.9"
        }
    },
    "nbformat": 4,
    "nbformat_minor": 2
}
