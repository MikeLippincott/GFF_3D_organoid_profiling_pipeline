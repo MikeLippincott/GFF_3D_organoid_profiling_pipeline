{
    "cells": [
        {
            "cell_type": "code",
            "execution_count": null,
            "metadata": {},
            "outputs": [],
            "source": [
                "import pathlib\n",
                "import sys\n",
                "import time\n",
                "\n",
                "sys.path.append(\"../featurization_utils\")\n",
                "import itertools\n",
                "import multiprocessing\n",
                "from functools import partial\n",
                "from itertools import product\n",
                "\n",
                "import pandas as pd\n",
                "from colocalization_utils import (\n",
                "    measure_3D_colocalization,\n",
                "    prepare_two_images_for_colocalization,\n",
                ")\n",
                "from loading_classes import ImageSetLoader, TwoObjectLoader\n",
                "\n",
                "try:\n",
                "    cfg = get_ipython().config\n",
                "    in_notebook = True\n",
                "except NameError:\n",
                "    in_notebook = False\n",
                "if in_notebook:\n",
                "    from tqdm.notebook import tqdm\n",
                "else:\n",
                "    from tqdm import tqdm\n",
                "\n",
                "import warnings\n",
                "\n",
                "warnings.filterwarnings(\"ignore\", category=RuntimeWarning)"
            ]
        },
        {
            "cell_type": "code",
            "execution_count": null,
            "metadata": {},
            "outputs": [],
            "source": [
                "def process_combination(args, image_set_loader):\n",
                "    \"\"\"\n",
                "    Process a single combination of compartment and channel pair for colocalization analysis.\n",
                "\n",
                "    Parameters\n",
                "    ----------\n",
                "    args : tuple\n",
                "        A tuple containing the compartment, channel1, and channel2.\n",
                "        Yes, order matters.\n",
                "        args = (compartment, channel1, channel2)\n",
                "        Where:\n",
                "        compartment : str\n",
                "            The compartment to process.\n",
                "        channel1 : str\n",
                "            The first channel to process.\n",
                "        channel2 : str\n",
                "            The second channel to process.\n",
                "\n",
                "    image_set_loader : ImageSetLoader\n",
                "        An instance of the ImageSetLoader class that loads the images and metadata.\n",
                "\n",
                "    Returns\n",
                "    -------\n",
                "    str\n",
                "        A message indicating the completion of processing for the given combination.\n",
                "    \"\"\"\n",
                "    compartment, channel1, channel2 = args\n",
                "    coloc_loader = TwoObjectLoader(\n",
                "        image_set_loader=image_set_loader,\n",
                "        compartment=compartment,\n",
                "        channel1=channel1,\n",
                "        channel2=channel2,\n",
                "    )\n",
                "    list_of_dfs = []\n",
                "    for object_id in coloc_loader.object_ids:\n",
                "        cropped_image1, cropped_image2 = prepare_two_images_for_colocalization(\n",
                "            label_object1=coloc_loader.label_image,\n",
                "            label_object2=coloc_loader.label_image,\n",
                "            image_object1=coloc_loader.image1,\n",
                "            image_object2=coloc_loader.image2,\n",
                "            object_id1=object_id,\n",
                "            object_id2=object_id,\n",
                "        )\n",
                "        colocalization_features = measure_3D_colocalization(\n",
                "            cropped_image_1=cropped_image1,\n",
                "            cropped_image_2=cropped_image2,\n",
                "            thr=15,\n",
                "            fast_costes=\"Accurate\",\n",
                "        )\n",
                "        coloc_df = pd.DataFrame(colocalization_features, index=[0])\n",
                "        coloc_df.columns = [\n",
                "            f\"Colocalization_{compartment}_{channel1}.{channel2}_{col}\"\n",
                "            for col in coloc_df.columns\n",
                "        ]\n",
                "        coloc_df.insert(0, \"object_id\", object_id)\n",
                "        coloc_df.insert(1, \"image_set\", image_set_loader.image_set_name)\n",
                "        list_of_dfs.append(coloc_df)\n",
                "\n",
                "    coloc_df = pd.concat(list_of_dfs, ignore_index=True)\n",
                "    output_file = pathlib.Path(\n",
                "        f\"../results/{image_set_loader.image_set_name}/Colocalization_{compartment}_{channel1}.{channel2}_features.parquet\"\n",
                "    )\n",
                "    output_file.parent.mkdir(parents=True, exist_ok=True)\n",
                "    coloc_df.to_parquet(output_file)\n",
                "\n",
                "    return f\"Processed {compartment} - {channel1}.{channel2}\""
            ]
        },
        {
            "cell_type": "code",
            "execution_count": 2,
            "metadata": {},
            "outputs": [],
            "source": [
                "image_set_path = pathlib.Path(\"../../data/NF0014/cellprofiler/C4-2/\")"
            ]
        },
        {
            "cell_type": "code",
            "execution_count": 3,
            "metadata": {},
            "outputs": [],
            "source": [
                "channel_mapping = {\n",
                "    \"DNA\": \"405\",\n",
                "    \"AGP\": \"488\",\n",
                "    \"ER\": \"555\",\n",
                "    \"Mito\": \"640\",\n",
                "    \"BF\": \"TRANS\",\n",
                "    \"Nuclei\": \"nuclei_\",\n",
                "    \"Cell\": \"cell_\",\n",
                "    \"Cytoplasm\": \"cytoplasm_\",\n",
                "    \"Organoid\": \"organoid_\",\n",
                "}"
            ]
        },
        {
            "cell_type": "code",
            "execution_count": 4,
            "metadata": {},
            "outputs": [],
            "source": [
                "image_set_loader = ImageSetLoader(\n",
                "    image_set_path=image_set_path,\n",
                "    anisotropy_spacing=(1, 0.1, 0.1),\n",
                "    channel_mapping=channel_mapping,\n",
                ")"
            ]
        },
        {
            "cell_type": "code",
            "execution_count": 5,
            "metadata": {},
            "outputs": [],
            "source": [
                "# get all channel combinations\n",
                "channel_combinations = list(itertools.combinations(image_set_loader.image_names, 2))"
            ]
        },
        {
            "cell_type": "code",
            "execution_count": 6,
            "metadata": {},
            "outputs": [],
            "source": [
                "start_time = time.time()"
            ]
        },
        {
            "cell_type": "markdown",
            "metadata": {},
            "source": [
                "runs upon converted script execution"
            ]
        },
        {
            "cell_type": "code",
            "execution_count": null,
            "metadata": {},
            "outputs": [
                {
                    "name": "stdout",
                    "output_type": "stream",
                    "text": [
                        "Using 14 cores for processing.\n"
                    ]
                },
                {
                    "name": "stderr",
                    "output_type": "stream",
                    "text": [
                        "Processing combinations: 1it [00:34, 34.29s/it]"
                    ]
                },
                {
                    "name": "stdout",
                    "output_type": "stream",
                    "text": [
                        "Processing complete.\n"
                    ]
                },
                {
                    "name": "stderr",
                    "output_type": "stream",
                    "text": [
                        "\n"
                    ]
                }
            ],
            "source": [
                "if __name__ == \"__main__\":\n",
                "    # Generate all combinations of compartments and channel pairs\n",
                "    combinations = list(\n",
                "        product(\n",
                "            image_set_loader.compartments,\n",
                "            [pair for pair in channel_combinations],\n",
                "        )\n",
                "    )\n",
                "\n",
                "    # Flatten the channel combinations for easier unpacking\n",
                "    combinations = [\n",
                "        (compartment, channel1, channel2)\n",
                "        for compartment, (channel1, channel2) in combinations\n",
                "    ]\n",
                "\n",
                "    # Specify the number of cores to use\n",
                "    cores_to_use = multiprocessing.cpu_count()  # Adjust the number of cores as needed\n",
                "    print(f\"Using {cores_to_use} cores for processing.\")\n",
                "\n",
                "    # Use multiprocessing to process combinations in parallel\n",
                "    with multiprocessing.Pool(processes=cores_to_use) as pool:\n",
                "        results = list(\n",
                "            tqdm(\n",
                "                pool.imap(\n",
                "                    partial(process_combination, image_set_loader=image_set_loader),\n",
                "                    combinations,\n",
                "                ),\n",
                "                desc=\"Processing combinations\",\n",
                "            )\n",
                "        )\n",
                "\n",
                "    print(\"Processing complete.\")"
            ]
        },
        {
            "cell_type": "code",
            "execution_count": null,
            "metadata": {},
            "outputs": [],
            "source": [
                "print(f\"Elapsed time: {time.time() - start_time:.2f} seconds\")"
            ]
        }
    ],
    "metadata": {
        "kernelspec": {
            "display_name": "GFF_featurization",
            "language": "python",
            "name": "python3"
        },
        "language_info": {
            "codemirror_mode": {
                "name": "ipython",
                "version": 3
            },
            "file_extension": ".py",
            "mimetype": "text/x-python",
            "name": "python",
            "nbconvert_exporter": "python",
            "pygments_lexer": "ipython3",
            "version": "3.12.9"
        }
    },
    "nbformat": 4,
    "nbformat_minor": 2
}
