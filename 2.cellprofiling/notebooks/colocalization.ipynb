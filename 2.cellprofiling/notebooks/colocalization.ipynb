{
    "cells": [
        {
            "cell_type": "code",
            "execution_count": null,
            "metadata": {},
            "outputs": [],
            "source": [
                "import pathlib\n",
                "import sys\n",
                "import time\n",
                "\n",
                "sys.path.append(\"../featurization_utils\")\n",
                "import itertools\n",
                "\n",
                "import pandas as pd\n",
                "from colocalization_utils import (\n",
                "    measure_3D_colocalization,\n",
                "    prepare_two_images_for_colocalization,\n",
                ")\n",
                "from loading_classes import ImageSetLoader, TwoObjectLoader\n",
                "\n",
                "try:\n",
                "    cfg = get_ipython().config\n",
                "    in_notebook = True\n",
                "except NameError:\n",
                "    in_notebook = False\n",
                "if in_notebook:\n",
                "    from tqdm.notebook import tqdm\n",
                "else:\n",
                "    from tqdm import tqdm\n",
                "\n",
                "import warnings\n",
                "\n",
                "warnings.filterwarnings(\"ignore\", category=RuntimeWarning)"
            ]
        },
        {
            "cell_type": "code",
            "execution_count": 2,
            "metadata": {},
            "outputs": [],
            "source": [
                "image_set_path = pathlib.Path(\"../../data/NF0014/cellprofiler/C4-2/\")"
            ]
        },
        {
            "cell_type": "code",
            "execution_count": 3,
            "metadata": {},
            "outputs": [],
            "source": [
                "channel_mapping = {\n",
                "    \"DNA\": \"405\",\n",
                "    \"AGP\": \"488\",\n",
                "    \"ER\": \"555\",\n",
                "    \"Mito\": \"640\",\n",
                "    \"BF\": \"TRANS\",\n",
                "    \"Nuclei\": \"nuclei_\",\n",
                "    \"Cell\": \"cell_\",\n",
                "    \"Cytoplasm\": \"cytoplasm_\",\n",
                "    \"Organoid\": \"organoid_\",\n",
                "}"
            ]
        },
        {
            "cell_type": "code",
            "execution_count": null,
            "metadata": {},
            "outputs": [],
            "source": [
                "image_set_loader = ImageSetLoader(\n",
                "    image_set_path=image_set_path,\n",
                "    anisotropy_spacing=(1, 0.1, 0.1),\n",
                "    channel_mapping=channel_mapping,\n",
                ")"
            ]
        },
        {
            "cell_type": "code",
            "execution_count": 5,
            "metadata": {},
            "outputs": [],
            "source": [
                "# get all channel combinations\n",
                "channel_combinations = list(itertools.combinations(image_set_loader.image_names, 2))"
            ]
        },
        {
            "cell_type": "code",
            "execution_count": 6,
            "metadata": {},
            "outputs": [],
            "source": [
                "start_time = time.time()"
            ]
        },
        {
            "cell_type": "code",
            "execution_count": null,
            "metadata": {},
            "outputs": [
                {
                    "data": {
                        "application/vnd.jupyter.widget-view+json": {
                            "model_id": "192abf18eac545f7befa940d601f52ce",
                            "version_major": 2,
                            "version_minor": 0
                        },
                        "text/plain": [
                            "Processing compartments:   0%|          | 0/4 [00:00<?, ?it/s]"
                        ]
                    },
                    "metadata": {},
                    "output_type": "display_data"
                },
                {
                    "data": {
                        "application/vnd.jupyter.widget-view+json": {
                            "model_id": "4469c34741f149148bc9bfda38b8d988",
                            "version_major": 2,
                            "version_minor": 0
                        },
                        "text/plain": [
                            "Processing channel combinations:   0%|          | 0/10 [00:00<?, ?it/s]"
                        ]
                    },
                    "metadata": {},
                    "output_type": "display_data"
                },
                {
                    "data": {
                        "application/vnd.jupyter.widget-view+json": {
                            "model_id": "22c26cb934d84cbf9b0244cf98d5f90a",
                            "version_major": 2,
                            "version_minor": 0
                        },
                        "text/plain": [
                            "Processing object IDs:   0%|          | 0/104 [00:00<?, ?it/s]"
                        ]
                    },
                    "metadata": {},
                    "output_type": "display_data"
                },
                {
                    "ename": "NameError",
                    "evalue": "name 'prepare_two_images_for_colocalization' is not defined",
                    "output_type": "error",
                    "traceback": [
                        "\u001b[0;31m---------------------------------------------------------------------------\u001b[0m",
                        "\u001b[0;31mNameError\u001b[0m                                 Traceback (most recent call last)",
                        "Cell \u001b[0;32mIn[7], line 23\u001b[0m\n\u001b[1;32m     11\u001b[0m coloc_loader \u001b[38;5;241m=\u001b[39m TwoObjectLoader(\n\u001b[1;32m     12\u001b[0m     image_set_loader\u001b[38;5;241m=\u001b[39mimage_set_loader,\n\u001b[1;32m     13\u001b[0m     compartment\u001b[38;5;241m=\u001b[39mcompartments,\n\u001b[1;32m     14\u001b[0m     channel1\u001b[38;5;241m=\u001b[39mchannel1,\n\u001b[1;32m     15\u001b[0m     channel2\u001b[38;5;241m=\u001b[39mchannel2,\n\u001b[1;32m     16\u001b[0m )\n\u001b[1;32m     17\u001b[0m \u001b[38;5;28;01mfor\u001b[39;00m object_id \u001b[38;5;129;01min\u001b[39;00m tqdm(\n\u001b[1;32m     18\u001b[0m     coloc_loader\u001b[38;5;241m.\u001b[39mobject_ids,\n\u001b[1;32m     19\u001b[0m     desc\u001b[38;5;241m=\u001b[39m\u001b[38;5;124m\"\u001b[39m\u001b[38;5;124mProcessing object IDs\u001b[39m\u001b[38;5;124m\"\u001b[39m,\n\u001b[1;32m     20\u001b[0m     leave\u001b[38;5;241m=\u001b[39m\u001b[38;5;28;01mFalse\u001b[39;00m,\n\u001b[1;32m     21\u001b[0m     position\u001b[38;5;241m=\u001b[39m\u001b[38;5;241m2\u001b[39m,\n\u001b[1;32m     22\u001b[0m ):\n\u001b[0;32m---> 23\u001b[0m     cropped_image1, cropped_image2 \u001b[38;5;241m=\u001b[39m \u001b[43mprepare_two_images_for_colocalization\u001b[49m(\n\u001b[1;32m     24\u001b[0m         label_object1\u001b[38;5;241m=\u001b[39mcoloc_loader\u001b[38;5;241m.\u001b[39mlabel_image,\n\u001b[1;32m     25\u001b[0m         label_object2\u001b[38;5;241m=\u001b[39mcoloc_loader\u001b[38;5;241m.\u001b[39mlabel_image,\n\u001b[1;32m     26\u001b[0m         image_object1\u001b[38;5;241m=\u001b[39mcoloc_loader\u001b[38;5;241m.\u001b[39mimage1,\n\u001b[1;32m     27\u001b[0m         image_object2\u001b[38;5;241m=\u001b[39mcoloc_loader\u001b[38;5;241m.\u001b[39mimage2,\n\u001b[1;32m     28\u001b[0m         object_id1\u001b[38;5;241m=\u001b[39mobject_id,\n\u001b[1;32m     29\u001b[0m         object_id2\u001b[38;5;241m=\u001b[39mobject_id,\n\u001b[1;32m     30\u001b[0m     )\n\u001b[1;32m     31\u001b[0m     colocalization_features \u001b[38;5;241m=\u001b[39m measure_3D_colocalization(\n\u001b[1;32m     32\u001b[0m         cropped_image_1\u001b[38;5;241m=\u001b[39mcropped_image1,\n\u001b[1;32m     33\u001b[0m         cropped_image_2\u001b[38;5;241m=\u001b[39mcropped_image2,\n\u001b[1;32m     34\u001b[0m         thr\u001b[38;5;241m=\u001b[39m\u001b[38;5;241m15\u001b[39m,\n\u001b[1;32m     35\u001b[0m         fast_costes\u001b[38;5;241m=\u001b[39m\u001b[38;5;124m\"\u001b[39m\u001b[38;5;124mAccurate\u001b[39m\u001b[38;5;124m\"\u001b[39m,\n\u001b[1;32m     36\u001b[0m     )\n\u001b[1;32m     37\u001b[0m     coloc_df \u001b[38;5;241m=\u001b[39m pd\u001b[38;5;241m.\u001b[39mDataFrame(colocalization_features, index\u001b[38;5;241m=\u001b[39m[\u001b[38;5;241m0\u001b[39m])\n",
                        "\u001b[0;31mNameError\u001b[0m: name 'prepare_two_images_for_colocalization' is not defined"
                    ]
                }
            ],
            "source": [
                "output_list_of_dfs = []\n",
                "for compartment in tqdm(\n",
                "    image_set_loader.compartments, desc=\"Processing compartments\", position=0\n",
                "):\n",
                "    for channel1, channel2 in tqdm(\n",
                "        channel_combinations,\n",
                "        desc=\"Processing channel combinations\",\n",
                "        leave=False,\n",
                "        position=1,\n",
                "    ):\n",
                "        coloc_loader = TwoObjectLoader(\n",
                "            image_set_loader=image_set_loader,\n",
                "            compartment=compartment,\n",
                "            channel1=channel1,\n",
                "            channel2=channel2,\n",
                "        )\n",
                "        for object_id in tqdm(\n",
                "            coloc_loader.object_ids,\n",
                "            desc=\"Processing object IDs\",\n",
                "            leave=False,\n",
                "            position=2,\n",
                "        ):\n",
                "            cropped_image1, cropped_image2 = prepare_two_images_for_colocalization(\n",
                "                label_object1=coloc_loader.label_image,\n",
                "                label_object2=coloc_loader.label_image,\n",
                "                image_object1=coloc_loader.image1,\n",
                "                image_object2=coloc_loader.image2,\n",
                "                object_id1=object_id,\n",
                "                object_id2=object_id,\n",
                "            )\n",
                "            colocalization_features = measure_3D_colocalization(\n",
                "                cropped_image_1=cropped_image1,\n",
                "                cropped_image_2=cropped_image2,\n",
                "                thr=15,\n",
                "                fast_costes=\"Accurate\",\n",
                "            )\n",
                "            coloc_df = pd.DataFrame(colocalization_features, index=[0])\n",
                "            coloc_df.columns = [\n",
                "                f\"{compartment}_{channel1}.{channel2}_{col}\" for col in coloc_df.columns\n",
                "            ]\n",
                "            coloc_df[\"object_id\"] = object_id\n",
                "            coloc_df[\"image_set\"] = image_set_loader.image_set_name\n",
                "        output_file = pathlib.Path(\n",
                "            f\"../results/{image_set_loader.image_set_name}/Colocalization_{compartment}_{channel1}.{channel2}_features.parquet\"\n",
                "        )\n",
                "        output_file.parent.mkdir(parents=True, exist_ok=True)\n",
                "        coloc_df.to_parquet(output_file)"
            ]
        },
        {
            "cell_type": "code",
            "execution_count": 8,
            "metadata": {},
            "outputs": [
                {
                    "name": "stdout",
                    "output_type": "stream",
                    "text": [
                        "Elapsed time: 2628.02 seconds\n"
                    ]
                }
            ],
            "source": [
                "print(f\"Elapsed time: {time.time() - start_time:.2f} seconds\")"
            ]
        }
    ],
    "metadata": {
        "kernelspec": {
            "display_name": "GFF_featurization",
            "language": "python",
            "name": "python3"
        },
        "language_info": {
            "codemirror_mode": {
                "name": "ipython",
                "version": 3
            },
            "file_extension": ".py",
            "mimetype": "text/x-python",
            "name": "python",
            "nbconvert_exporter": "python",
            "pygments_lexer": "ipython3",
            "version": "3.12.9"
        }
    },
    "nbformat": 4,
    "nbformat_minor": 2
}
