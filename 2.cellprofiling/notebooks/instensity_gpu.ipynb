{
    "cells": [
        {
            "cell_type": "code",
            "execution_count": 1,
            "metadata": {},
            "outputs": [],
            "source": [
                "import pathlib\n",
                "import sys\n",
                "import time\n",
                "\n",
                "sys.path.append(\"../featurization\")\n",
                "import cucim.skimage.measure\n",
                "import cucim.skimage.segmentation\n",
                "import cupy\n",
                "import cupyx.scipy.ndimage\n",
                "import numpy as np\n",
                "import pandas as pd\n",
                "import scipy\n",
                "import skimage\n",
                "from data_writer import organize_featurization_data\n",
                "from intensity import measure_3D_intensity_gpu\n",
                "from loading_classes import ImageSetLoader, ObjectLoader\n",
                "\n",
                "try:\n",
                "    cfg = get_ipython().config\n",
                "    in_notebook = True\n",
                "except NameError:\n",
                "    in_notebook = False\n",
                "if in_notebook:\n",
                "    from tqdm.notebook import tqdm\n",
                "else:\n",
                "    from tqdm import tqdm"
            ]
        },
        {
            "cell_type": "code",
            "execution_count": 2,
            "metadata": {},
            "outputs": [],
            "source": [
                "image_set_path = pathlib.Path(\"../../data/NF0014/cellprofiler/C4-2/\")"
            ]
        },
        {
            "cell_type": "code",
            "execution_count": 3,
            "metadata": {},
            "outputs": [],
            "source": [
                "channel_mapping = {\n",
                "    \"DNA\": \"405\",\n",
                "    \"AGP\": \"488\",\n",
                "    \"ER\": \"555\",\n",
                "    \"Mito\": \"640\",\n",
                "    \"BF\": \"TRANS\",\n",
                "    \"Nuclei\": \"nuclei_\",\n",
                "    \"Cell\": \"cell_\",\n",
                "    \"Cytoplasm\": \"cytoplasm_\",\n",
                "    \"Organoid\": \"organoid_\",\n",
                "}"
            ]
        },
        {
            "cell_type": "code",
            "execution_count": 4,
            "metadata": {},
            "outputs": [],
            "source": [
                "image_set_loader = ImageSetLoader(\n",
                "    image_set_path=image_set_path,\n",
                "    spacing=(1, 0.1, 0.1),\n",
                "    channel_mapping=channel_mapping,\n",
                ")"
            ]
        },
        {
            "cell_type": "code",
            "execution_count": 5,
            "metadata": {},
            "outputs": [],
            "source": [
                "start_time = time.time()"
            ]
        },
        {
            "cell_type": "code",
            "execution_count": 6,
            "metadata": {},
            "outputs": [
                {
                    "data": {
                        "application/vnd.jupyter.widget-view+json": {
                            "model_id": "e18b386247e5462588ee3a2fc1c5f0ed",
                            "version_major": 2,
                            "version_minor": 0
                        },
                        "text/plain": [
                            "Processing compartments:   0%|          | 0/4 [00:00<?, ?it/s]"
                        ]
                    },
                    "metadata": {},
                    "output_type": "display_data"
                },
                {
                    "data": {
                        "application/vnd.jupyter.widget-view+json": {
                            "model_id": "e66cdc1085574c8285cc411af5725d11",
                            "version_major": 2,
                            "version_minor": 0
                        },
                        "text/plain": [
                            "Processing channels:   0%|          | 0/5 [00:00<?, ?it/s]"
                        ]
                    },
                    "metadata": {},
                    "output_type": "display_data"
                },
                {
                    "name": "stderr",
                    "output_type": "stream",
                    "text": [
                        "/home/lippincm/miniforge3/envs/GFF_featurization/lib/python3.12/site-packages/cupyx/scipy/ndimage/_measurements.py:397: PerformanceWarning: Using the slower implementation as cupyx.scipy.ndimage.sum supports int32, float16, float32, float64, uint32, uint64 as data typesfor the fast implmentation\n",
                        "  warnings.warn(\n",
                        "/home/lippincm/miniforge3/envs/GFF_featurization/lib/python3.12/site-packages/cupyx/scipy/ndimage/_measurements.py:487: PerformanceWarning: Using the slower implementation as cupyx.scipy.ndimage.mean supports int32, float16, float32, float64, uint32, uint64 as data types for the fast implmentation\n",
                        "  warnings.warn(\n"
                    ]
                },
                {
                    "ename": "KeyboardInterrupt",
                    "evalue": "",
                    "output_type": "error",
                    "traceback": [
                        "\u001b[0;31m---------------------------------------------------------------------------\u001b[0m",
                        "\u001b[0;31mKeyboardInterrupt\u001b[0m                         Traceback (most recent call last)",
                        "Cell \u001b[0;32mIn[6], line 17\u001b[0m\n\u001b[1;32m      4\u001b[0m \u001b[38;5;28;01mfor\u001b[39;00m channel \u001b[38;5;129;01min\u001b[39;00m tqdm(\n\u001b[1;32m      5\u001b[0m     image_set_loader\u001b[38;5;241m.\u001b[39mimage_names,\n\u001b[1;32m      6\u001b[0m     desc\u001b[38;5;241m=\u001b[39m\u001b[38;5;124m\"\u001b[39m\u001b[38;5;124mProcessing channels\u001b[39m\u001b[38;5;124m\"\u001b[39m,\n\u001b[1;32m      7\u001b[0m     leave\u001b[38;5;241m=\u001b[39m\u001b[38;5;28;01mFalse\u001b[39;00m,\n\u001b[1;32m      8\u001b[0m     position\u001b[38;5;241m=\u001b[39m\u001b[38;5;241m1\u001b[39m,\n\u001b[1;32m      9\u001b[0m ):\n\u001b[1;32m     10\u001b[0m     object_loader \u001b[38;5;241m=\u001b[39m ObjectLoader(\n\u001b[1;32m     11\u001b[0m         image_set_loader\u001b[38;5;241m.\u001b[39mimage_set_dict[channel],\n\u001b[1;32m     12\u001b[0m         image_set_loader\u001b[38;5;241m.\u001b[39mimage_set_dict[compartment],\n\u001b[1;32m     13\u001b[0m         channel,\n\u001b[1;32m     14\u001b[0m         compartment,\n\u001b[1;32m     15\u001b[0m     )\n\u001b[0;32m---> 17\u001b[0m     output_dict \u001b[38;5;241m=\u001b[39m \u001b[43mmeasure_3D_intensity_gpu\u001b[49m\u001b[43m(\u001b[49m\u001b[43mobject_loader\u001b[49m\u001b[43m)\u001b[49m\n\u001b[1;32m     18\u001b[0m     final_df \u001b[38;5;241m=\u001b[39m pd\u001b[38;5;241m.\u001b[39mDataFrame(output_dict)\n\u001b[1;32m     19\u001b[0m     \u001b[38;5;66;03m# prepend compartment and channel to column names\u001b[39;00m\n",
                        "File \u001b[0;32m~/Documents/GFF_3D_organoid_profiling_pipeline/2.cellprofiling/pseudo_unit_tests_notebooks/../featurization/intensity.py:168\u001b[0m, in \u001b[0;36mmeasure_3D_intensity_gpu\u001b[0;34m(object_loader)\u001b[0m\n\u001b[1;32m    165\u001b[0m non_zero_pixels_object \u001b[38;5;241m=\u001b[39m selected_image_object[selected_image_object \u001b[38;5;241m>\u001b[39m \u001b[38;5;241m0\u001b[39m]\n\u001b[1;32m    167\u001b[0m selected_label_object \u001b[38;5;241m=\u001b[39m selected_label_object\u001b[38;5;241m.\u001b[39mget()\n\u001b[0;32m--> 168\u001b[0m mask_outlines \u001b[38;5;241m=\u001b[39m \u001b[43mget_outline\u001b[49m\u001b[43m(\u001b[49m\u001b[43mselected_label_object\u001b[49m\u001b[43m)\u001b[49m\n\u001b[1;32m    169\u001b[0m selected_label_object \u001b[38;5;241m=\u001b[39m cupy\u001b[38;5;241m.\u001b[39masarray(selected_label_object)\n\u001b[1;32m    170\u001b[0m mask_outlines \u001b[38;5;241m=\u001b[39m cupy\u001b[38;5;241m.\u001b[39masarray(mask_outlines)\n",
                        "File \u001b[0;32m~/Documents/GFF_3D_organoid_profiling_pipeline/2.cellprofiling/pseudo_unit_tests_notebooks/../featurization/intensity.py:12\u001b[0m, in \u001b[0;36mget_outline\u001b[0;34m(mask)\u001b[0m\n\u001b[1;32m     10\u001b[0m outline \u001b[38;5;241m=\u001b[39m numpy\u001b[38;5;241m.\u001b[39mzeros_like(mask)\n\u001b[1;32m     11\u001b[0m \u001b[38;5;28;01mfor\u001b[39;00m z \u001b[38;5;129;01min\u001b[39;00m \u001b[38;5;28mrange\u001b[39m(mask\u001b[38;5;241m.\u001b[39mshape[\u001b[38;5;241m0\u001b[39m]):\n\u001b[0;32m---> 12\u001b[0m     outline[z] \u001b[38;5;241m=\u001b[39m \u001b[43mskimage\u001b[49m\u001b[38;5;241;43m.\u001b[39;49m\u001b[43msegmentation\u001b[49m\u001b[38;5;241;43m.\u001b[39;49m\u001b[43mfind_boundaries\u001b[49m\u001b[43m(\u001b[49m\u001b[43mmask\u001b[49m\u001b[43m[\u001b[49m\u001b[43mz\u001b[49m\u001b[43m]\u001b[49m\u001b[43m)\u001b[49m\n\u001b[1;32m     13\u001b[0m \u001b[38;5;28;01mreturn\u001b[39;00m outline\n",
                        "File \u001b[0;32m~/miniforge3/envs/GFF_featurization/lib/python3.12/site-packages/skimage/segmentation/boundaries.py:164\u001b[0m, in \u001b[0;36mfind_boundaries\u001b[0;34m(label_img, connectivity, mode, background)\u001b[0m\n\u001b[1;32m    162\u001b[0m footprint \u001b[38;5;241m=\u001b[39m ndi\u001b[38;5;241m.\u001b[39mgenerate_binary_structure(ndim, connectivity)\n\u001b[1;32m    163\u001b[0m \u001b[38;5;28;01mif\u001b[39;00m mode \u001b[38;5;241m!=\u001b[39m \u001b[38;5;124m'\u001b[39m\u001b[38;5;124msubpixel\u001b[39m\u001b[38;5;124m'\u001b[39m:\n\u001b[0;32m--> 164\u001b[0m     boundaries \u001b[38;5;241m=\u001b[39m \u001b[43mdilation\u001b[49m\u001b[43m(\u001b[49m\u001b[43mlabel_img\u001b[49m\u001b[43m,\u001b[49m\u001b[43m \u001b[49m\u001b[43mfootprint\u001b[49m\u001b[43m)\u001b[49m \u001b[38;5;241m!=\u001b[39m erosion(label_img, footprint)\n\u001b[1;32m    165\u001b[0m     \u001b[38;5;28;01mif\u001b[39;00m mode \u001b[38;5;241m==\u001b[39m \u001b[38;5;124m'\u001b[39m\u001b[38;5;124minner\u001b[39m\u001b[38;5;124m'\u001b[39m:\n\u001b[1;32m    166\u001b[0m         foreground_image \u001b[38;5;241m=\u001b[39m label_img \u001b[38;5;241m!=\u001b[39m background\n",
                        "File \u001b[0;32m~/miniforge3/envs/GFF_featurization/lib/python3.12/site-packages/skimage/morphology/misc.py:51\u001b[0m, in \u001b[0;36mdefault_footprint.<locals>.func_out\u001b[0;34m(image, footprint, *args, **kwargs)\u001b[0m\n\u001b[1;32m     49\u001b[0m \u001b[38;5;28;01mif\u001b[39;00m footprint \u001b[38;5;129;01mis\u001b[39;00m \u001b[38;5;28;01mNone\u001b[39;00m:\n\u001b[1;32m     50\u001b[0m     footprint \u001b[38;5;241m=\u001b[39m ndi\u001b[38;5;241m.\u001b[39mgenerate_binary_structure(image\u001b[38;5;241m.\u001b[39mndim, \u001b[38;5;241m1\u001b[39m)\n\u001b[0;32m---> 51\u001b[0m \u001b[38;5;28;01mreturn\u001b[39;00m \u001b[43mfunc\u001b[49m\u001b[43m(\u001b[49m\u001b[43mimage\u001b[49m\u001b[43m,\u001b[49m\u001b[43m \u001b[49m\u001b[43mfootprint\u001b[49m\u001b[38;5;241;43m=\u001b[39;49m\u001b[43mfootprint\u001b[49m\u001b[43m,\u001b[49m\u001b[43m \u001b[49m\u001b[38;5;241;43m*\u001b[39;49m\u001b[43margs\u001b[49m\u001b[43m,\u001b[49m\u001b[43m \u001b[49m\u001b[38;5;241;43m*\u001b[39;49m\u001b[38;5;241;43m*\u001b[39;49m\u001b[43mkwargs\u001b[49m\u001b[43m)\u001b[49m\n",
                        "File \u001b[0;32m~/miniforge3/envs/GFF_featurization/lib/python3.12/site-packages/skimage/morphology/gray.py:355\u001b[0m, in \u001b[0;36mdilation\u001b[0;34m(image, footprint, out, shift_x, shift_y, mode, cval)\u001b[0m\n\u001b[1;32m    352\u001b[0m \u001b[38;5;28;01mif\u001b[39;00m \u001b[38;5;129;01mnot\u001b[39;00m _footprint_is_sequence(footprint):\n\u001b[1;32m    353\u001b[0m     footprint \u001b[38;5;241m=\u001b[39m [(footprint, \u001b[38;5;241m1\u001b[39m)]\n\u001b[0;32m--> 355\u001b[0m out \u001b[38;5;241m=\u001b[39m \u001b[43m_iterate_gray_func\u001b[49m\u001b[43m(\u001b[49m\n\u001b[1;32m    356\u001b[0m \u001b[43m    \u001b[49m\u001b[43mgray_func\u001b[49m\u001b[38;5;241;43m=\u001b[39;49m\u001b[43mndi\u001b[49m\u001b[38;5;241;43m.\u001b[39;49m\u001b[43mgrey_dilation\u001b[49m\u001b[43m,\u001b[49m\n\u001b[1;32m    357\u001b[0m \u001b[43m    \u001b[49m\u001b[43mimage\u001b[49m\u001b[38;5;241;43m=\u001b[39;49m\u001b[43mimage\u001b[49m\u001b[43m,\u001b[49m\n\u001b[1;32m    358\u001b[0m \u001b[43m    \u001b[49m\u001b[43mfootprints\u001b[49m\u001b[38;5;241;43m=\u001b[39;49m\u001b[43mfootprint\u001b[49m\u001b[43m,\u001b[49m\n\u001b[1;32m    359\u001b[0m \u001b[43m    \u001b[49m\u001b[43mout\u001b[49m\u001b[38;5;241;43m=\u001b[39;49m\u001b[43mout\u001b[49m\u001b[43m,\u001b[49m\n\u001b[1;32m    360\u001b[0m \u001b[43m    \u001b[49m\u001b[43mmode\u001b[49m\u001b[38;5;241;43m=\u001b[39;49m\u001b[43mmode\u001b[49m\u001b[43m,\u001b[49m\n\u001b[1;32m    361\u001b[0m \u001b[43m    \u001b[49m\u001b[43mcval\u001b[49m\u001b[38;5;241;43m=\u001b[39;49m\u001b[43mcval\u001b[49m\u001b[43m,\u001b[49m\n\u001b[1;32m    362\u001b[0m \u001b[43m\u001b[49m\u001b[43m)\u001b[49m\n\u001b[1;32m    363\u001b[0m \u001b[38;5;28;01mreturn\u001b[39;00m out\n",
                        "File \u001b[0;32m~/miniforge3/envs/GFF_featurization/lib/python3.12/site-packages/skimage/morphology/gray.py:25\u001b[0m, in \u001b[0;36m_iterate_gray_func\u001b[0;34m(gray_func, image, footprints, out, mode, cval)\u001b[0m\n\u001b[1;32m     19\u001b[0m \u001b[38;5;250m\u001b[39m\u001b[38;5;124;03m\"\"\"Helper to call `gray_func` for each footprint in a sequence.\u001b[39;00m\n\u001b[1;32m     20\u001b[0m \n\u001b[1;32m     21\u001b[0m \u001b[38;5;124;03m`gray_func` is a morphology function that accepts `footprint`, `output`,\u001b[39;00m\n\u001b[1;32m     22\u001b[0m \u001b[38;5;124;03m`mode` and `cval` keyword arguments (e.g. `scipy.ndimage.grey_erosion`).\u001b[39;00m\n\u001b[1;32m     23\u001b[0m \u001b[38;5;124;03m\"\"\"\u001b[39;00m\n\u001b[1;32m     24\u001b[0m fp, num_iter \u001b[38;5;241m=\u001b[39m footprints[\u001b[38;5;241m0\u001b[39m]\n\u001b[0;32m---> 25\u001b[0m \u001b[43mgray_func\u001b[49m\u001b[43m(\u001b[49m\u001b[43mimage\u001b[49m\u001b[43m,\u001b[49m\u001b[43m \u001b[49m\u001b[43mfootprint\u001b[49m\u001b[38;5;241;43m=\u001b[39;49m\u001b[43mfp\u001b[49m\u001b[43m,\u001b[49m\u001b[43m \u001b[49m\u001b[43moutput\u001b[49m\u001b[38;5;241;43m=\u001b[39;49m\u001b[43mout\u001b[49m\u001b[43m,\u001b[49m\u001b[43m \u001b[49m\u001b[43mmode\u001b[49m\u001b[38;5;241;43m=\u001b[39;49m\u001b[43mmode\u001b[49m\u001b[43m,\u001b[49m\u001b[43m \u001b[49m\u001b[43mcval\u001b[49m\u001b[38;5;241;43m=\u001b[39;49m\u001b[43mcval\u001b[49m\u001b[43m)\u001b[49m\n\u001b[1;32m     26\u001b[0m \u001b[38;5;28;01mfor\u001b[39;00m _ \u001b[38;5;129;01min\u001b[39;00m \u001b[38;5;28mrange\u001b[39m(\u001b[38;5;241m1\u001b[39m, num_iter):\n\u001b[1;32m     27\u001b[0m     gray_func(out\u001b[38;5;241m.\u001b[39mcopy(), footprint\u001b[38;5;241m=\u001b[39mfp, output\u001b[38;5;241m=\u001b[39mout, mode\u001b[38;5;241m=\u001b[39mmode, cval\u001b[38;5;241m=\u001b[39mcval)\n",
                        "File \u001b[0;32m~/miniforge3/envs/GFF_featurization/lib/python3.12/site-packages/scipy/ndimage/_morphology.py:1440\u001b[0m, in \u001b[0;36mgrey_dilation\u001b[0;34m(input, size, footprint, structure, output, mode, cval, origin, axes)\u001b[0m\n\u001b[1;32m   1437\u001b[0m     \u001b[38;5;28;01mif\u001b[39;00m \u001b[38;5;129;01mnot\u001b[39;00m sz \u001b[38;5;241m&\u001b[39m \u001b[38;5;241m1\u001b[39m:\n\u001b[1;32m   1438\u001b[0m         origin[ii] \u001b[38;5;241m-\u001b[39m\u001b[38;5;241m=\u001b[39m \u001b[38;5;241m1\u001b[39m\n\u001b[0;32m-> 1440\u001b[0m \u001b[38;5;28;01mreturn\u001b[39;00m \u001b[43m_filters\u001b[49m\u001b[38;5;241;43m.\u001b[39;49m\u001b[43m_min_or_max_filter\u001b[49m\u001b[43m(\u001b[49m\u001b[38;5;28;43minput\u001b[39;49m\u001b[43m,\u001b[49m\u001b[43m \u001b[49m\u001b[43msize\u001b[49m\u001b[43m,\u001b[49m\u001b[43m \u001b[49m\u001b[43mfootprint\u001b[49m\u001b[43m,\u001b[49m\u001b[43m \u001b[49m\u001b[43mstructure\u001b[49m\u001b[43m,\u001b[49m\n\u001b[1;32m   1441\u001b[0m \u001b[43m                                   \u001b[49m\u001b[43moutput\u001b[49m\u001b[43m,\u001b[49m\u001b[43m \u001b[49m\u001b[43mmode\u001b[49m\u001b[43m,\u001b[49m\u001b[43m \u001b[49m\u001b[43mcval\u001b[49m\u001b[43m,\u001b[49m\u001b[43m \u001b[49m\u001b[43morigin\u001b[49m\u001b[43m,\u001b[49m\u001b[43m \u001b[49m\u001b[38;5;241;43m0\u001b[39;49m\u001b[43m,\u001b[49m\n\u001b[1;32m   1442\u001b[0m \u001b[43m                                   \u001b[49m\u001b[43maxes\u001b[49m\u001b[38;5;241;43m=\u001b[39;49m\u001b[43maxes\u001b[49m\u001b[43m)\u001b[49m\n",
                        "File \u001b[0;32m~/miniforge3/envs/GFF_featurization/lib/python3.12/site-packages/scipy/ndimage/_filters.py:1386\u001b[0m, in \u001b[0;36m_min_or_max_filter\u001b[0;34m(input, size, footprint, structure, output, mode, cval, origin, minimum, axes)\u001b[0m\n\u001b[1;32m   1382\u001b[0m         \u001b[38;5;28;01mraise\u001b[39;00m \u001b[38;5;167;01mRuntimeError\u001b[39;00m(\n\u001b[1;32m   1383\u001b[0m             \u001b[38;5;124m\"\u001b[39m\u001b[38;5;124mA sequence of modes is not supported for non-separable \u001b[39m\u001b[38;5;124m\"\u001b[39m\n\u001b[1;32m   1384\u001b[0m             \u001b[38;5;124m\"\u001b[39m\u001b[38;5;124mfootprints\u001b[39m\u001b[38;5;124m\"\u001b[39m)\n\u001b[1;32m   1385\u001b[0m     mode \u001b[38;5;241m=\u001b[39m _ni_support\u001b[38;5;241m.\u001b[39m_extend_mode_to_code(mode)\n\u001b[0;32m-> 1386\u001b[0m     \u001b[43m_nd_image\u001b[49m\u001b[38;5;241;43m.\u001b[39;49m\u001b[43mmin_or_max_filter\u001b[49m\u001b[43m(\u001b[49m\u001b[38;5;28;43minput\u001b[39;49m\u001b[43m,\u001b[49m\u001b[43m \u001b[49m\u001b[43mfootprint\u001b[49m\u001b[43m,\u001b[49m\u001b[43m \u001b[49m\u001b[43mstructure\u001b[49m\u001b[43m,\u001b[49m\u001b[43m \u001b[49m\u001b[43moutput\u001b[49m\u001b[43m,\u001b[49m\n\u001b[1;32m   1387\u001b[0m \u001b[43m                                \u001b[49m\u001b[43mmode\u001b[49m\u001b[43m,\u001b[49m\u001b[43m \u001b[49m\u001b[43mcval\u001b[49m\u001b[43m,\u001b[49m\u001b[43m \u001b[49m\u001b[43morigins\u001b[49m\u001b[43m,\u001b[49m\u001b[43m \u001b[49m\u001b[43mminimum\u001b[49m\u001b[43m)\u001b[49m\n\u001b[1;32m   1388\u001b[0m \u001b[38;5;28;01mif\u001b[39;00m temp_needed:\n\u001b[1;32m   1389\u001b[0m     temp[\u001b[38;5;241m.\u001b[39m\u001b[38;5;241m.\u001b[39m\u001b[38;5;241m.\u001b[39m] \u001b[38;5;241m=\u001b[39m output\n",
                        "\u001b[0;31mKeyboardInterrupt\u001b[0m: "
                    ]
                }
            ],
            "source": [
                "for compartment in tqdm(\n",
                "    image_set_loader.compartments, desc=\"Processing compartments\", position=0\n",
                "):\n",
                "    for channel in tqdm(\n",
                "        image_set_loader.image_names,\n",
                "        desc=\"Processing channels\",\n",
                "        leave=False,\n",
                "        position=1,\n",
                "    ):\n",
                "        object_loader = ObjectLoader(\n",
                "            image_set_loader.image_set_dict[channel],\n",
                "            image_set_loader.image_set_dict[compartment],\n",
                "            channel,\n",
                "            compartment,\n",
                "        )\n",
                "\n",
                "        output_dict = measure_3D_intensity_gpu(object_loader)\n",
                "        final_df = pd.DataFrame(output_dict)\n",
                "        # prepend compartment and channel to column names\n",
                "        final_df.columns = [\n",
                "            f\"{compartment}_{channel}_{col}\" for col in final_df.columns\n",
                "        ]\n",
                "        final_df[\"image_set\"] = image_set_loader.image_set_name\n",
                "\n",
                "        output_file = pathlib.Path(\n",
                "            f\"../results/{image_set_loader.image_set_name}/Intensity_{compartment}_{channel}_features.parquet\"\n",
                "        )\n",
                "        output_file.parent.mkdir(parents=True, exist_ok=True)\n",
                "        final_df.to_parquet(output_file)"
            ]
        },
        {
            "cell_type": "code",
            "execution_count": null,
            "metadata": {},
            "outputs": [],
            "source": [
                "print(f\"Intensity time: {time.time() - start_time}\")"
            ]
        },
        {
            "cell_type": "code",
            "execution_count": null,
            "metadata": {},
            "outputs": [],
            "source": [
                "df = pd.DataFrame(output_dict)\n",
                "df.head()"
            ]
        }
    ],
    "metadata": {
        "kernelspec": {
            "display_name": "GFF_featurization",
            "language": "python",
            "name": "python3"
        },
        "language_info": {
            "codemirror_mode": {
                "name": "ipython",
                "version": 3
            },
            "file_extension": ".py",
            "mimetype": "text/x-python",
            "name": "python",
            "nbconvert_exporter": "python",
            "pygments_lexer": "ipython3",
            "version": "3.12.9"
        }
    },
    "nbformat": 4,
    "nbformat_minor": 2
}
