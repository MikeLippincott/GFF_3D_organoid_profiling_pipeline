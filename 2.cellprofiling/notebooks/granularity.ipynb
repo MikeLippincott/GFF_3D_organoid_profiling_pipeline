{
    "cells": [
        {
            "cell_type": "code",
            "execution_count": 1,
            "metadata": {},
            "outputs": [],
            "source": [
                "import pathlib\n",
                "import sys\n",
                "import time\n",
                "\n",
                "sys.path.append(\"../featurization_utils\")\n",
                "import multiprocessing\n",
                "import os\n",
                "from multiprocessing import Pool\n",
                "from typing import Dict\n",
                "\n",
                "import cucim\n",
                "import cupy as cp\n",
                "import numpy\n",
                "import numpy as np\n",
                "import pandas as pd\n",
                "import psutil\n",
                "import scipy\n",
                "import skimage\n",
                "from granularity_utils import measure_3D_granularity\n",
                "\n",
                "# from granularity import measure_3D_granularity\n",
                "from loading_classes import ImageSetLoader, ObjectLoader\n",
                "\n",
                "try:\n",
                "    cfg = get_ipython().config\n",
                "    in_notebook = True\n",
                "except NameError:\n",
                "    in_notebook = False\n",
                "if in_notebook:\n",
                "    from tqdm.notebook import tqdm\n",
                "else:\n",
                "    from tqdm import tqdm"
            ]
        },
        {
            "cell_type": "code",
            "execution_count": 2,
            "metadata": {},
            "outputs": [],
            "source": [
                "image_set_path = pathlib.Path(\"../../data/NF0014/cellprofiler/C4-2/\")"
            ]
        },
        {
            "cell_type": "code",
            "execution_count": 3,
            "metadata": {},
            "outputs": [],
            "source": [
                "channel_mapping = {\n",
                "    \"DNA\": \"405\",\n",
                "    \"AGP\": \"488\",\n",
                "    \"ER\": \"555\",\n",
                "    \"Mito\": \"640\",\n",
                "    \"BF\": \"TRANS\",\n",
                "    \"Nuclei\": \"nuclei_\",\n",
                "    \"Cell\": \"cell_\",\n",
                "    \"Cytoplasm\": \"cytoplasm_\",\n",
                "    \"Organoid\": \"organoid_\",\n",
                "}"
            ]
        },
        {
            "cell_type": "code",
            "execution_count": 4,
            "metadata": {},
            "outputs": [],
            "source": [
                "image_set_loader = ImageSetLoader(\n",
                "    image_set_path=image_set_path,\n",
                "    anisotropy_spacing=(1, 0.1, 0.1),\n",
                "    channel_mapping=channel_mapping,\n",
                ")"
            ]
        },
        {
            "cell_type": "code",
            "execution_count": 5,
            "metadata": {},
            "outputs": [],
            "source": [
                "start_time = time.time()\n",
                "# get starting memory (cpu)\n",
                "start_mem = psutil.Process(os.getpid()).memory_info().rss / 1024**2"
            ]
        },
        {
            "cell_type": "code",
            "execution_count": 6,
            "metadata": {},
            "outputs": [
                {
                    "data": {
                        "text/html": [
                            "<div>\n",
                            "<style scoped>\n",
                            "    .dataframe tbody tr th:only-of-type {\n",
                            "        vertical-align: middle;\n",
                            "    }\n",
                            "\n",
                            "    .dataframe tbody tr th {\n",
                            "        vertical-align: top;\n",
                            "    }\n",
                            "\n",
                            "    .dataframe thead th {\n",
                            "        text-align: right;\n",
                            "    }\n",
                            "</style>\n",
                            "<table border=\"1\" class=\"dataframe\">\n",
                            "  <thead>\n",
                            "    <tr style=\"text-align: right;\">\n",
                            "      <th>feature</th>\n",
                            "      <th>image_set</th>\n",
                            "      <th>object_id</th>\n",
                            "      <th>Granularity_Nuclei_DNA_GRANULARITY.1</th>\n",
                            "    </tr>\n",
                            "  </thead>\n",
                            "  <tbody>\n",
                            "    <tr>\n",
                            "      <th>0</th>\n",
                            "      <td>C4-2</td>\n",
                            "      <td>1</td>\n",
                            "      <td>1.165504</td>\n",
                            "    </tr>\n",
                            "    <tr>\n",
                            "      <th>1</th>\n",
                            "      <td>C4-2</td>\n",
                            "      <td>2</td>\n",
                            "      <td>6.285668</td>\n",
                            "    </tr>\n",
                            "    <tr>\n",
                            "      <th>2</th>\n",
                            "      <td>C4-2</td>\n",
                            "      <td>3</td>\n",
                            "      <td>10.798789</td>\n",
                            "    </tr>\n",
                            "    <tr>\n",
                            "      <th>3</th>\n",
                            "      <td>C4-2</td>\n",
                            "      <td>4</td>\n",
                            "      <td>39.773213</td>\n",
                            "    </tr>\n",
                            "    <tr>\n",
                            "      <th>4</th>\n",
                            "      <td>C4-2</td>\n",
                            "      <td>5</td>\n",
                            "      <td>29.169147</td>\n",
                            "    </tr>\n",
                            "  </tbody>\n",
                            "</table>\n",
                            "</div>"
                        ],
                        "text/plain": [
                            "feature image_set  object_id  Granularity_Nuclei_DNA_GRANULARITY.1\n",
                            "0            C4-2          1                              1.165504\n",
                            "1            C4-2          2                              6.285668\n",
                            "2            C4-2          3                             10.798789\n",
                            "3            C4-2          4                             39.773213\n",
                            "4            C4-2          5                             29.169147"
                        ]
                    },
                    "execution_count": 6,
                    "metadata": {},
                    "output_type": "execute_result"
                }
            ],
            "source": [
                "# for compartment in tqdm(\n",
                "#     image_set_loader.compartments, desc=\"Processing compartments\", position=0\n",
                "# ):\n",
                "#     for channel in tqdm(\n",
                "#         image_set_loader.image_names,\n",
                "#         desc=\"Processing channels\",\n",
                "#         leave=False,\n",
                "#         position=1,\n",
                "#     ):\n",
                "channel = \"DNA\"\n",
                "compartment = \"Nuclei\"\n",
                "\n",
                "object_loader = ObjectLoader(\n",
                "    image=image_set_loader.image_set_dict[channel],\n",
                "    label_image=image_set_loader.image_set_dict[compartment],\n",
                "    channel_name=channel,\n",
                "    compartment_name=compartment,\n",
                ")\n",
                "object_measurements = measure_3D_granularity(\n",
                "    object_loader=object_loader,\n",
                "    radius=10,  # radius of the sphere to use for granularity measurement\n",
                "    granular_spectrum_length=2,  # usually 16 but 2 is used for testing for now\n",
                "    subsample_size=0.25,  # subsample to 25% of the image to reduce computation time\n",
                "    image_name=channel,\n",
                ")\n",
                "final_df = pd.DataFrame(object_measurements)\n",
                "# get the mean of each value in the array\n",
                "# melt the dataframe to wide format\n",
                "final_df = final_df.pivot_table(\n",
                "    index=[\"object_id\"], columns=[\"feature\"], values=[\"value\"]\n",
                ")\n",
                "final_df.columns = final_df.columns.droplevel()\n",
                "final_df = final_df.reset_index()\n",
                "# prepend compartment and channel to column names\n",
                "for col in final_df.columns:\n",
                "    if col == \"object_id\":\n",
                "        continue\n",
                "    else:\n",
                "        final_df.rename(\n",
                "            columns={col: f\"Granularity_{compartment}_{channel}_{col}\"}, inplace=True\n",
                "        )\n",
                "final_df.insert(0, \"image_set\", image_set_loader.image_set_name)\n",
                "\n",
                "output_file = pathlib.Path(\n",
                "    f\"../results/{image_set_loader.image_set_name}/Granularity_{compartment}_{channel}_features.parquet\"\n",
                ")\n",
                "output_file.parent.mkdir(parents=True, exist_ok=True)\n",
                "final_df.to_parquet(output_file)\n",
                "final_df.head()"
            ]
        },
        {
            "cell_type": "code",
            "execution_count": 7,
            "metadata": {},
            "outputs": [],
            "source": [
                "end_mem = psutil.Process(os.getpid()).memory_info().rss / 1024**2"
            ]
        },
        {
            "cell_type": "code",
            "execution_count": 8,
            "metadata": {},
            "outputs": [
                {
                    "name": "stdout",
                    "output_type": "stream",
                    "text": [
                        "Memory usage: 682.30 MB\n"
                    ]
                }
            ],
            "source": [
                "print(f\"Memory usage: {end_mem - start_mem:.2f} MB\")"
            ]
        },
        {
            "cell_type": "code",
            "execution_count": 9,
            "metadata": {},
            "outputs": [
                {
                    "name": "stdout",
                    "output_type": "stream",
                    "text": [
                        "--- 87.34788370132446 seconds ---\n",
                        "--- 1.45579883257548 minutes ---\n",
                        "--- 0.02426332109504276 hours ---\n"
                    ]
                }
            ],
            "source": [
                "print(\"--- %s seconds ---\" % (time.time() - start_time))\n",
                "print(\"--- %s minutes ---\" % ((time.time() - start_time) / 60))\n",
                "print(\"--- %s hours ---\" % ((time.time() - start_time) / 3600))"
            ]
        }
    ],
    "metadata": {
        "kernelspec": {
            "display_name": "GFF_featurization",
            "language": "python",
            "name": "python3"
        },
        "language_info": {
            "codemirror_mode": {
                "name": "ipython",
                "version": 3
            },
            "file_extension": ".py",
            "mimetype": "text/x-python",
            "name": "python",
            "nbconvert_exporter": "python",
            "pygments_lexer": "ipython3",
            "version": "3.12.9"
        }
    },
    "nbformat": 4,
    "nbformat_minor": 2
}
