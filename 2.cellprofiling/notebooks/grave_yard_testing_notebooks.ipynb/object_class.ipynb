{
    "cells": [
        {
            "cell_type": "code",
            "execution_count": 1,
            "metadata": {},
            "outputs": [],
            "source": [
                "import pathlib\n",
                "import sys\n",
                "\n",
                "import matplotlib.pyplot as plt\n",
                "import numpy as np\n",
                "import pandas as pd\n",
                "import scipy.ndimage\n",
                "import scipy.signal\n",
                "import skimage\n",
                "import skimage.io as io\n",
                "import skimage.morphology\n",
                "import skimage.segmentation\n",
                "from centrosome.cpmorphology import fixup_scipy_ndimage_result as fix\n",
                "from scipy.linalg import lstsq\n",
                "\n",
                "sys.path.append(\"../featurization\")\n",
                "import numpy\n",
                "from area_size_shape import calulate_surface_area, measure_3D_area_size_shape\n",
                "from colocalization import calculate_3D_colocalization\n",
                "from data_writer import organize_featurization_data\n",
                "from granularity import measure_3D_granularity\n",
                "from intensity import measure_3D_intensity\n",
                "from loading_classes import Featurization, ImageSetLoader, ObjectLoader\n",
                "from neighbors import measure_3D_number_of_neighbors\n",
                "from texture import measure_3D_texture"
            ]
        },
        {
            "cell_type": "code",
            "execution_count": 2,
            "metadata": {},
            "outputs": [],
            "source": [
                "channel_mapping = {\n",
                "    \"nuclei\": \"405\",\n",
                "    \"AGP\": \"488\",\n",
                "    \"ER\": \"555\",\n",
                "    \"Mito\": \"640\",\n",
                "    \"BF\": \"TRANS\",\n",
                "    \"nuclei_mask\": \"nuclei_\",\n",
                "    \"cell_mask\": \"cell_\",\n",
                "    \"cytoplasm_mask\": \"cytoplasm_\",\n",
                "    \"organoid_mask\": \"organoid_\",\n",
                "}"
            ]
        },
        {
            "cell_type": "code",
            "execution_count": 3,
            "metadata": {},
            "outputs": [],
            "source": [
                "image_set_path = pathlib.Path(\"../../data/NF0014/cellprofiler/C4-2/\")"
            ]
        },
        {
            "cell_type": "markdown",
            "metadata": {},
            "source": [
                "## Testing"
            ]
        },
        {
            "cell_type": "code",
            "execution_count": 4,
            "metadata": {},
            "outputs": [
                {
                    "name": "stdout",
                    "output_type": "stream",
                    "text": [
                        "['nuclei', 'AGP', 'ER', 'Mito', 'BF']\n",
                        "dict_keys(['cell_mask', 'cytoplasm_mask', 'nuclei_mask', 'organoid_mask'])\n",
                        "['cell_mask', 'cytoplasm_mask', 'nuclei_mask', 'organoid_mask']\n"
                    ]
                }
            ],
            "source": [
                "image_set_loader = ImageSetLoader(\n",
                "    image_set_path=image_set_path,\n",
                "    spacing=(1, 0.1, 0.1),\n",
                "    channel_mapping=channel_mapping,\n",
                ")\n",
                "image_set_loader.retrieve_image_attributes()\n",
                "print(image_set_loader.image_name)\n",
                "print(image_set_loader.unique_compartment_objects.keys())\n",
                "print(image_set_loader.compartments)"
            ]
        },
        {
            "cell_type": "code",
            "execution_count": null,
            "metadata": {},
            "outputs": [
                {
                    "ename": "NameError",
                    "evalue": "name 'ObjectLoader' is not defined",
                    "output_type": "error",
                    "traceback": [
                        "\u001b[0;31m---------------------------------------------------------------------------\u001b[0m",
                        "\u001b[0;31mNameError\u001b[0m                                 Traceback (most recent call last)",
                        "Cell \u001b[0;32mIn[2], line 1\u001b[0m\n\u001b[0;32m----> 1\u001b[0m objects_loader \u001b[38;5;241m=\u001b[39m \u001b[43mObjectLoader\u001b[49m(\n\u001b[1;32m      2\u001b[0m     image\u001b[38;5;241m=\u001b[39mimage_set_loader\u001b[38;5;241m.\u001b[39mget_image(\u001b[38;5;124m\"\u001b[39m\u001b[38;5;124mnuclei\u001b[39m\u001b[38;5;124m\"\u001b[39m),\n\u001b[1;32m      3\u001b[0m     label_image\u001b[38;5;241m=\u001b[39mimage_set_loader\u001b[38;5;241m.\u001b[39mget_image(\u001b[38;5;124m\"\u001b[39m\u001b[38;5;124mnuclei_mask\u001b[39m\u001b[38;5;124m\"\u001b[39m),\n\u001b[1;32m      4\u001b[0m     channel_name\u001b[38;5;241m=\u001b[39m\u001b[38;5;124m\"\u001b[39m\u001b[38;5;124mnuclei\u001b[39m\u001b[38;5;124m\"\u001b[39m,\n\u001b[1;32m      5\u001b[0m     compartment_name\u001b[38;5;241m=\u001b[39m\u001b[38;5;124m\"\u001b[39m\u001b[38;5;124mnuclei\u001b[39m\u001b[38;5;124m\"\u001b[39m,\n\u001b[1;32m      6\u001b[0m     label_index\u001b[38;5;241m=\u001b[39m\u001b[38;5;241m4\u001b[39m,\n\u001b[1;32m      7\u001b[0m )\n",
                        "\u001b[0;31mNameError\u001b[0m: name 'ObjectLoader' is not defined"
                    ]
                }
            ],
            "source": [
                "objects_loader = ObjectLoader(\n",
                "    image=image_set_loader.get_image(\"nuclei\"),\n",
                "    label_image=image_set_loader.get_image(\"nuclei_mask\"),\n",
                "    channel_name=\"nuclei\",\n",
                "    compartment_name=\"nuclei\",\n",
                "    label_index=4,\n",
                ")"
            ]
        },
        {
            "cell_type": "code",
            "execution_count": null,
            "metadata": {},
            "outputs": [
                {
                    "name": "stderr",
                    "output_type": "stream",
                    "text": [
                        "INFO:root:Calculated Area Size Shape features for nuclei 4\n"
                    ]
                }
            ],
            "source": [
                "featurization = Featurization(\n",
                "    image_set_loader=image_set_loader,\n",
                "    object_loader=objects_loader,\n",
                "    neighbors_distance_threshold=10,\n",
                ")\n",
                "features = featurization.get_features()"
            ]
        },
        {
            "cell_type": "code",
            "execution_count": null,
            "metadata": {},
            "outputs": [],
            "source": [
                "compartment = \"Nuclei\"\n",
                "channel = \"DNA\"\n",
                "label_index = 4"
            ]
        },
        {
            "cell_type": "code",
            "execution_count": null,
            "metadata": {},
            "outputs": [
                {
                    "data": {
                        "text/plain": [
                            "{'Nuclei_DNA_area.size.shape_VOLUME': 88442.0,\n",
                            " 'Nuclei_DNA_area.size.shape_SURFACE.AREA': 597.6736509775509,\n",
                            " 'Nuclei_DNA_area.size.shape_MAJOR.AXIS.LENGTH': 156.89838982543267,\n",
                            " 'Nuclei_DNA_area.size.shape_MINOR.AXIS.LENGTH': 12.31554866910244,\n",
                            " 'Nuclei_DNA_area.size.shape_CENTER.X': 742.1053232627032,\n",
                            " 'Nuclei_DNA_area.size.shape_CENTER.Y': 386.92353180615544,\n",
                            " 'Nuclei_DNA_area.size.shape_CENTER.Z': 5.3141493860383076,\n",
                            " 'Nuclei_DNA_area.size.shape_BBOX.VOLUME': 131130.0,\n",
                            " 'Nuclei_DNA_area.size.shape_MIN.X': 671,\n",
                            " 'Nuclei_DNA_area.size.shape_MAX.X': 812,\n",
                            " 'Nuclei_DNA_area.size.shape_MIN.Y': 343,\n",
                            " 'Nuclei_DNA_area.size.shape_MAX.Y': 436,\n",
                            " 'Nuclei_DNA_area.size.shape_MIN.Z': 1,\n",
                            " 'Nuclei_DNA_area.size.shape_MAX.Z': 11,\n",
                            " 'Nuclei_DNA_area.size.shape_EXTENT': 0.6744604590864028,\n",
                            " 'Nuclei_DNA_area.size.shape_EULER.NUMBER': 1,\n",
                            " 'Nuclei_DNA_area.size.shape_EQUIVALENT.DIAMETER': 55.2781259276932,\n",
                            " 'Nuclei_DNA_granularity_Granularity.1.nuclei': 100.0,\n",
                            " 'Nuclei_DNA_granularity_Granularity.2.nuclei': 0.6213558752982083,\n",
                            " 'Nuclei_DNA_granularity_Granularity.3.nuclei': 0.003860831237676026,\n",
                            " 'Nuclei_DNA_granularity_Granularity.4.nuclei': 2.398950173064852e-05,\n",
                            " 'Nuclei_DNA_granularity_Granularity.5.nuclei': 1.4906017845814993e-07,\n",
                            " 'Nuclei_DNA_intensity_integrated.intensity': 1452409130,\n",
                            " 'Nuclei_DNA_intensity_volume': 353768,\n",
                            " 'Nuclei_DNA_intensity_mean.intensity': 4105.541286945117,\n",
                            " 'Nuclei_DNA_intensity_std.intensity': 4441.863521884266,\n",
                            " 'Nuclei_DNA_intensity_min.intensity': 6508,\n",
                            " 'Nuclei_DNA_intensity_max.intensity': 30583,\n",
                            " 'Nuclei_DNA_intensity_lower.quartile.intensity': 13003.0,\n",
                            " 'Nuclei_DNA_intensity_upper.quartile.intensity': 19749.0,\n",
                            " 'Nuclei_DNA_intensity_median.intensity': 16699.0,\n",
                            " 'Nuclei_DNA_intensity_max.z': 5,\n",
                            " 'Nuclei_DNA_intensity_max.y': 383,\n",
                            " 'Nuclei_DNA_intensity_max.x': 733,\n",
                            " 'Nuclei_DNA_intensity_cm.x': 769.5,\n",
                            " 'Nuclei_DNA_intensity_cm.y': 768.0,\n",
                            " 'Nuclei_DNA_intensity_cm.z': 16.0,\n",
                            " 'Nuclei_DNA_intensity_i.x': 60105906630,\n",
                            " 'Nuclei_DNA_intensity_i.y': 59988741120,\n",
                            " 'Nuclei_DNA_intensity_i.z': 1249765440,\n",
                            " 'Nuclei_DNA_intensity_cmi.x': 41.383591846465464,\n",
                            " 'Nuclei_DNA_intensity_cmi.y': 41.30292207678425,\n",
                            " 'Nuclei_DNA_intensity_cmi.z': 0.8604775432663384,\n",
                            " 'Nuclei_DNA_intensity_diff.x': 728.1164081535345,\n",
                            " 'Nuclei_DNA_intensity_diff.y': 726.6970779232157,\n",
                            " 'Nuclei_DNA_intensity_diff.z': 15.139522456733662,\n",
                            " 'Nuclei_DNA_intensity_mass.displacement': 1028.8203691727545,\n",
                            " 'Nuclei_DNA_intensity_mad.intensity': 12316.623860835354,\n",
                            " 'Nuclei_DNA_intensity_edge.count': 6498,\n",
                            " 'Nuclei_DNA_intensity_integrated.intensity.edge': 38466019,\n",
                            " 'Nuclei_DNA_intensity_mean.intensity.edge': 5919.670514004309,\n",
                            " 'Nuclei_DNA_intensity_std.intensity.edge': 6452.293137422992,\n",
                            " 'Nuclei_DNA_intensity_min.intensity.edge': 0,\n",
                            " 'Nuclei_DNA_intensity_max.intensity.edge': 24562,\n",
                            " 'Nuclei_DNA_neighbors_10_nosubfeature': 2,\n",
                            " 'Nuclei_DNA_neighbors.adjacent_nosubfeature': 2}"
                        ]
                    },
                    "execution_count": 11,
                    "metadata": {},
                    "output_type": "execute_result"
                }
            ],
            "source": [
                "updated_features = {}\n",
                "for key, value in features.items():\n",
                "    if isinstance(value, dict):\n",
                "        for sub_key, sub_value in value.items():\n",
                "            updated_features[f\"{compartment}_{channel}_{key}_{sub_key}\"] = sub_value\n",
                "    else:\n",
                "        updated_features[f\"{compartment}_{channel}_{key}_nosubfeature\"] = value\n",
                "updated_features"
            ]
        },
        {
            "cell_type": "code",
            "execution_count": null,
            "metadata": {},
            "outputs": [
                {
                    "data": {
                        "text/html": [
                            "<div>\n",
                            "<style scoped>\n",
                            "    .dataframe tbody tr th:only-of-type {\n",
                            "        vertical-align: middle;\n",
                            "    }\n",
                            "\n",
                            "    .dataframe tbody tr th {\n",
                            "        vertical-align: top;\n",
                            "    }\n",
                            "\n",
                            "    .dataframe thead th {\n",
                            "        text-align: right;\n",
                            "    }\n",
                            "</style>\n",
                            "<table border=\"1\" class=\"dataframe\">\n",
                            "  <thead>\n",
                            "    <tr style=\"text-align: right;\">\n",
                            "      <th></th>\n",
                            "      <th>image_set</th>\n",
                            "      <th>object_index</th>\n",
                            "      <th>Nuclei_DNA_area.size.shape_VOLUME</th>\n",
                            "      <th>Nuclei_DNA_area.size.shape_SURFACE.AREA</th>\n",
                            "      <th>Nuclei_DNA_area.size.shape_MAJOR.AXIS.LENGTH</th>\n",
                            "      <th>Nuclei_DNA_area.size.shape_MINOR.AXIS.LENGTH</th>\n",
                            "      <th>Nuclei_DNA_area.size.shape_CENTER.X</th>\n",
                            "      <th>Nuclei_DNA_area.size.shape_CENTER.Y</th>\n",
                            "      <th>Nuclei_DNA_area.size.shape_CENTER.Z</th>\n",
                            "      <th>Nuclei_DNA_area.size.shape_BBOX.VOLUME</th>\n",
                            "      <th>...</th>\n",
                            "      <th>Nuclei_DNA_intensity_mass.displacement</th>\n",
                            "      <th>Nuclei_DNA_intensity_mad.intensity</th>\n",
                            "      <th>Nuclei_DNA_intensity_edge.count</th>\n",
                            "      <th>Nuclei_DNA_intensity_integrated.intensity.edge</th>\n",
                            "      <th>Nuclei_DNA_intensity_mean.intensity.edge</th>\n",
                            "      <th>Nuclei_DNA_intensity_std.intensity.edge</th>\n",
                            "      <th>Nuclei_DNA_intensity_min.intensity.edge</th>\n",
                            "      <th>Nuclei_DNA_intensity_max.intensity.edge</th>\n",
                            "      <th>Nuclei_DNA_neighbors_10_nosubfeature</th>\n",
                            "      <th>Nuclei_DNA_neighbors.adjacent_nosubfeature</th>\n",
                            "    </tr>\n",
                            "  </thead>\n",
                            "  <tbody>\n",
                            "    <tr>\n",
                            "      <th>0</th>\n",
                            "      <td>C4-2</td>\n",
                            "      <td>4</td>\n",
                            "      <td>88442.0</td>\n",
                            "      <td>597.673651</td>\n",
                            "      <td>156.89839</td>\n",
                            "      <td>12.315549</td>\n",
                            "      <td>742.105323</td>\n",
                            "      <td>386.923532</td>\n",
                            "      <td>5.314149</td>\n",
                            "      <td>131130.0</td>\n",
                            "      <td>...</td>\n",
                            "      <td>1028.820369</td>\n",
                            "      <td>12316.623861</td>\n",
                            "      <td>6498</td>\n",
                            "      <td>38466019</td>\n",
                            "      <td>5919.670514</td>\n",
                            "      <td>6452.293137</td>\n",
                            "      <td>0</td>\n",
                            "      <td>24562</td>\n",
                            "      <td>2</td>\n",
                            "      <td>2</td>\n",
                            "    </tr>\n",
                            "  </tbody>\n",
                            "</table>\n",
                            "<p>1 rows \u00d7 58 columns</p>\n",
                            "</div>"
                        ],
                        "text/plain": [
                            "  image_set  object_index  Nuclei_DNA_area.size.shape_VOLUME  \\\n",
                            "0      C4-2             4                            88442.0   \n",
                            "\n",
                            "   Nuclei_DNA_area.size.shape_SURFACE.AREA  \\\n",
                            "0                               597.673651   \n",
                            "\n",
                            "   Nuclei_DNA_area.size.shape_MAJOR.AXIS.LENGTH  \\\n",
                            "0                                     156.89839   \n",
                            "\n",
                            "   Nuclei_DNA_area.size.shape_MINOR.AXIS.LENGTH  \\\n",
                            "0                                     12.315549   \n",
                            "\n",
                            "   Nuclei_DNA_area.size.shape_CENTER.X  Nuclei_DNA_area.size.shape_CENTER.Y  \\\n",
                            "0                           742.105323                           386.923532   \n",
                            "\n",
                            "   Nuclei_DNA_area.size.shape_CENTER.Z  \\\n",
                            "0                             5.314149   \n",
                            "\n",
                            "   Nuclei_DNA_area.size.shape_BBOX.VOLUME  ...  \\\n",
                            "0                                131130.0  ...   \n",
                            "\n",
                            "   Nuclei_DNA_intensity_mass.displacement  Nuclei_DNA_intensity_mad.intensity  \\\n",
                            "0                             1028.820369                        12316.623861   \n",
                            "\n",
                            "   Nuclei_DNA_intensity_edge.count  \\\n",
                            "0                             6498   \n",
                            "\n",
                            "   Nuclei_DNA_intensity_integrated.intensity.edge  \\\n",
                            "0                                        38466019   \n",
                            "\n",
                            "   Nuclei_DNA_intensity_mean.intensity.edge  \\\n",
                            "0                               5919.670514   \n",
                            "\n",
                            "   Nuclei_DNA_intensity_std.intensity.edge  \\\n",
                            "0                              6452.293137   \n",
                            "\n",
                            "   Nuclei_DNA_intensity_min.intensity.edge  \\\n",
                            "0                                        0   \n",
                            "\n",
                            "   Nuclei_DNA_intensity_max.intensity.edge  \\\n",
                            "0                                    24562   \n",
                            "\n",
                            "   Nuclei_DNA_neighbors_10_nosubfeature  \\\n",
                            "0                                     2   \n",
                            "\n",
                            "   Nuclei_DNA_neighbors.adjacent_nosubfeature  \n",
                            "0                                           2  \n",
                            "\n",
                            "[1 rows x 58 columns]"
                        ]
                    },
                    "execution_count": 12,
                    "metadata": {},
                    "output_type": "execute_result"
                }
            ],
            "source": [
                "# make a df out of the features\n",
                "df = pd.DataFrame(updated_features, index=[0])\n",
                "# get the index of the object being measured\n",
                "df.insert(0, \"object_index\", label_index)\n",
                "df.insert(0, \"image_set\", image_set_loader.image_set_name)\n",
                "df"
            ]
        },
        {
            "cell_type": "code",
            "execution_count": null,
            "metadata": {},
            "outputs": [
                {
                    "data": {
                        "text/plain": [
                            "PosixPath('output.parquet')"
                        ]
                    },
                    "execution_count": 16,
                    "metadata": {},
                    "output_type": "execute_result"
                }
            ],
            "source": [
                "organize_featurization_data(\n",
                "    features=features,\n",
                "    compartment=compartment,\n",
                "    channel=channel,\n",
                "    label_index=label_index,\n",
                "    image_set_name=image_set_loader.image_set_name,\n",
                "    output=True,\n",
                "    # output_path=pathlib.Path(\"output.csv\"),\n",
                "    output_path=pathlib.Path(\"output.parquet\"),\n",
                ")"
            ]
        },
        {
            "cell_type": "markdown",
            "metadata": {},
            "source": [
                "## Put it all together"
            ]
        },
        {
            "cell_type": "code",
            "execution_count": 4,
            "metadata": {},
            "outputs": [
                {
                    "data": {
                        "text/plain": [
                            "dict_keys(['cell_mask', 'cytoplasm_mask', 'nuclei_mask', 'organoid_mask'])"
                        ]
                    },
                    "execution_count": 4,
                    "metadata": {},
                    "output_type": "execute_result"
                }
            ],
            "source": [
                "image_set_loader = ImageSetLoader(\n",
                "    image_set_path=image_set_path,\n",
                "    spacing=(1, 0.1, 0.1),\n",
                "    channel_mapping=channel_mapping,\n",
                ")\n",
                "image_set_loader.retrieve_image_attributes()\n",
                "image_set_loader.unique_objects.keys()"
            ]
        },
        {
            "cell_type": "code",
            "execution_count": null,
            "metadata": {},
            "outputs": [
                {
                    "name": "stdout",
                    "output_type": "stream",
                    "text": [
                        "Channel: nuclei, Compartment: cell_mask, Object: 2\n"
                    ]
                },
                {
                    "name": "stderr",
                    "output_type": "stream",
                    "text": [
                        "INFO:root:Calculated Area Size Shape features for cell_mask 2\n",
                        "INFO:root:Calculated Granularity features for cell_mask 2\n",
                        "INFO:root:Calculated Neighbors features for cell_mask 2\n",
                        "INFO:root:Calculated Adjacent Neighbors features for cell_mask 2\n"
                    ]
                },
                {
                    "name": "stdout",
                    "output_type": "stream",
                    "text": [
                        "Channel: nuclei, Compartment: cell_mask, Object: 4\n"
                    ]
                },
                {
                    "name": "stderr",
                    "output_type": "stream",
                    "text": [
                        "INFO:root:Calculated Area Size Shape features for cell_mask 4\n",
                        "/home/lippincm/miniforge3/envs/GFF_featurization/lib/python3.12/site-packages/numpy/core/fromnumeric.py:3504: RuntimeWarning: Mean of empty slice.\n",
                        "  return _methods._mean(a, axis=axis, dtype=dtype,\n",
                        "/home/lippincm/miniforge3/envs/GFF_featurization/lib/python3.12/site-packages/numpy/core/_methods.py:129: RuntimeWarning: invalid value encountered in scalar divide\n",
                        "  ret = ret.dtype.type(ret / rcount)\n",
                        "INFO:root:Calculated Granularity features for cell_mask 4\n",
                        "INFO:root:Calculated Neighbors features for cell_mask 4\n",
                        "INFO:root:Calculated Adjacent Neighbors features for cell_mask 4\n"
                    ]
                },
                {
                    "name": "stdout",
                    "output_type": "stream",
                    "text": [
                        "Channel: nuclei, Compartment: cytoplasm_mask, Object: 2\n"
                    ]
                },
                {
                    "name": "stderr",
                    "output_type": "stream",
                    "text": [
                        "INFO:root:Calculated Area Size Shape features for cytoplasm_mask 2\n",
                        "INFO:root:Calculated Granularity features for cytoplasm_mask 2\n",
                        "INFO:root:Calculated Neighbors features for cytoplasm_mask 2\n",
                        "INFO:root:Calculated Adjacent Neighbors features for cytoplasm_mask 2\n"
                    ]
                },
                {
                    "name": "stdout",
                    "output_type": "stream",
                    "text": [
                        "Channel: nuclei, Compartment: cytoplasm_mask, Object: 4\n"
                    ]
                },
                {
                    "name": "stderr",
                    "output_type": "stream",
                    "text": [
                        "INFO:root:Calculated Area Size Shape features for cytoplasm_mask 4\n",
                        "/home/lippincm/miniforge3/envs/GFF_featurization/lib/python3.12/site-packages/numpy/core/fromnumeric.py:3504: RuntimeWarning: Mean of empty slice.\n",
                        "  return _methods._mean(a, axis=axis, dtype=dtype,\n",
                        "/home/lippincm/miniforge3/envs/GFF_featurization/lib/python3.12/site-packages/numpy/core/_methods.py:129: RuntimeWarning: invalid value encountered in scalar divide\n",
                        "  ret = ret.dtype.type(ret / rcount)\n",
                        "INFO:root:Calculated Granularity features for cytoplasm_mask 4\n",
                        "INFO:root:Calculated Neighbors features for cytoplasm_mask 4\n",
                        "INFO:root:Calculated Adjacent Neighbors features for cytoplasm_mask 4\n"
                    ]
                },
                {
                    "name": "stdout",
                    "output_type": "stream",
                    "text": [
                        "Channel: nuclei, Compartment: nuclei_mask, Object: 4\n"
                    ]
                },
                {
                    "name": "stderr",
                    "output_type": "stream",
                    "text": [
                        "INFO:root:Calculated Area Size Shape features for nuclei_mask 4\n",
                        "INFO:root:Calculated Granularity features for nuclei_mask 4\n",
                        "INFO:root:Calculated Neighbors features for nuclei_mask 4\n",
                        "INFO:root:Calculated Adjacent Neighbors features for nuclei_mask 4\n"
                    ]
                },
                {
                    "name": "stdout",
                    "output_type": "stream",
                    "text": [
                        "Channel: nuclei, Compartment: nuclei_mask, Object: 8\n"
                    ]
                },
                {
                    "name": "stderr",
                    "output_type": "stream",
                    "text": [
                        "INFO:root:Calculated Area Size Shape features for nuclei_mask 8\n",
                        "INFO:root:Calculated Granularity features for nuclei_mask 8\n",
                        "INFO:root:Calculated Neighbors features for nuclei_mask 8\n",
                        "INFO:root:Calculated Adjacent Neighbors features for nuclei_mask 8\n"
                    ]
                },
                {
                    "name": "stdout",
                    "output_type": "stream",
                    "text": [
                        "Channel: nuclei, Compartment: organoid_mask, Object: 1\n"
                    ]
                },
                {
                    "name": "stderr",
                    "output_type": "stream",
                    "text": [
                        "INFO:root:Calculated Area Size Shape features for organoid_mask 1\n",
                        "INFO:root:Calculated Granularity features for organoid_mask 1\n",
                        "INFO:root:Calculated Neighbors features for organoid_mask 1\n",
                        "INFO:root:Calculated Adjacent Neighbors features for organoid_mask 1\n"
                    ]
                },
                {
                    "name": "stdout",
                    "output_type": "stream",
                    "text": [
                        "Channel: nuclei, Compartment: organoid_mask, Object: 2\n"
                    ]
                },
                {
                    "name": "stderr",
                    "output_type": "stream",
                    "text": [
                        "INFO:root:Calculated Area Size Shape features for organoid_mask 2\n",
                        "INFO:root:Calculated Granularity features for organoid_mask 2\n",
                        "INFO:root:Calculated Neighbors features for organoid_mask 2\n",
                        "INFO:root:Calculated Adjacent Neighbors features for organoid_mask 2\n"
                    ]
                },
                {
                    "name": "stdout",
                    "output_type": "stream",
                    "text": [
                        "Channel: AGP, Compartment: cell_mask, Object: 2\n"
                    ]
                },
                {
                    "name": "stderr",
                    "output_type": "stream",
                    "text": [
                        "INFO:root:Calculated Area Size Shape features for cell_mask 2\n",
                        "INFO:root:Calculated Granularity features for cell_mask 2\n",
                        "INFO:root:Calculated Neighbors features for cell_mask 2\n",
                        "INFO:root:Calculated Adjacent Neighbors features for cell_mask 2\n"
                    ]
                },
                {
                    "name": "stdout",
                    "output_type": "stream",
                    "text": [
                        "Channel: AGP, Compartment: cell_mask, Object: 4\n"
                    ]
                },
                {
                    "name": "stderr",
                    "output_type": "stream",
                    "text": [
                        "INFO:root:Calculated Area Size Shape features for cell_mask 4\n",
                        "/home/lippincm/miniforge3/envs/GFF_featurization/lib/python3.12/site-packages/numpy/core/fromnumeric.py:3504: RuntimeWarning: Mean of empty slice.\n",
                        "  return _methods._mean(a, axis=axis, dtype=dtype,\n",
                        "/home/lippincm/miniforge3/envs/GFF_featurization/lib/python3.12/site-packages/numpy/core/_methods.py:129: RuntimeWarning: invalid value encountered in scalar divide\n",
                        "  ret = ret.dtype.type(ret / rcount)\n",
                        "INFO:root:Calculated Granularity features for cell_mask 4\n",
                        "INFO:root:Calculated Neighbors features for cell_mask 4\n",
                        "INFO:root:Calculated Adjacent Neighbors features for cell_mask 4\n"
                    ]
                },
                {
                    "name": "stdout",
                    "output_type": "stream",
                    "text": [
                        "Channel: AGP, Compartment: cytoplasm_mask, Object: 2\n"
                    ]
                },
                {
                    "name": "stderr",
                    "output_type": "stream",
                    "text": [
                        "INFO:root:Calculated Area Size Shape features for cytoplasm_mask 2\n",
                        "INFO:root:Calculated Granularity features for cytoplasm_mask 2\n",
                        "INFO:root:Calculated Neighbors features for cytoplasm_mask 2\n",
                        "INFO:root:Calculated Adjacent Neighbors features for cytoplasm_mask 2\n"
                    ]
                },
                {
                    "name": "stdout",
                    "output_type": "stream",
                    "text": [
                        "Channel: AGP, Compartment: cytoplasm_mask, Object: 4\n"
                    ]
                },
                {
                    "name": "stderr",
                    "output_type": "stream",
                    "text": [
                        "INFO:root:Calculated Area Size Shape features for cytoplasm_mask 4\n",
                        "/home/lippincm/miniforge3/envs/GFF_featurization/lib/python3.12/site-packages/numpy/core/fromnumeric.py:3504: RuntimeWarning: Mean of empty slice.\n",
                        "  return _methods._mean(a, axis=axis, dtype=dtype,\n",
                        "/home/lippincm/miniforge3/envs/GFF_featurization/lib/python3.12/site-packages/numpy/core/_methods.py:129: RuntimeWarning: invalid value encountered in scalar divide\n",
                        "  ret = ret.dtype.type(ret / rcount)\n",
                        "INFO:root:Calculated Granularity features for cytoplasm_mask 4\n",
                        "INFO:root:Calculated Neighbors features for cytoplasm_mask 4\n",
                        "INFO:root:Calculated Adjacent Neighbors features for cytoplasm_mask 4\n"
                    ]
                },
                {
                    "name": "stdout",
                    "output_type": "stream",
                    "text": [
                        "Channel: AGP, Compartment: nuclei_mask, Object: 4\n"
                    ]
                },
                {
                    "name": "stderr",
                    "output_type": "stream",
                    "text": [
                        "INFO:root:Calculated Area Size Shape features for nuclei_mask 4\n",
                        "INFO:root:Calculated Granularity features for nuclei_mask 4\n",
                        "INFO:root:Calculated Neighbors features for nuclei_mask 4\n",
                        "INFO:root:Calculated Adjacent Neighbors features for nuclei_mask 4\n"
                    ]
                },
                {
                    "name": "stdout",
                    "output_type": "stream",
                    "text": [
                        "Channel: AGP, Compartment: nuclei_mask, Object: 8\n"
                    ]
                },
                {
                    "name": "stderr",
                    "output_type": "stream",
                    "text": [
                        "INFO:root:Calculated Area Size Shape features for nuclei_mask 8\n",
                        "INFO:root:Calculated Granularity features for nuclei_mask 8\n",
                        "INFO:root:Calculated Neighbors features for nuclei_mask 8\n",
                        "INFO:root:Calculated Adjacent Neighbors features for nuclei_mask 8\n"
                    ]
                },
                {
                    "name": "stdout",
                    "output_type": "stream",
                    "text": [
                        "Channel: AGP, Compartment: organoid_mask, Object: 1\n"
                    ]
                },
                {
                    "name": "stderr",
                    "output_type": "stream",
                    "text": [
                        "INFO:root:Calculated Area Size Shape features for organoid_mask 1\n",
                        "INFO:root:Calculated Granularity features for organoid_mask 1\n",
                        "INFO:root:Calculated Neighbors features for organoid_mask 1\n",
                        "INFO:root:Calculated Adjacent Neighbors features for organoid_mask 1\n"
                    ]
                },
                {
                    "name": "stdout",
                    "output_type": "stream",
                    "text": [
                        "Channel: AGP, Compartment: organoid_mask, Object: 2\n"
                    ]
                },
                {
                    "name": "stderr",
                    "output_type": "stream",
                    "text": [
                        "INFO:root:Calculated Area Size Shape features for organoid_mask 2\n",
                        "INFO:root:Calculated Granularity features for organoid_mask 2\n",
                        "INFO:root:Calculated Neighbors features for organoid_mask 2\n",
                        "INFO:root:Calculated Adjacent Neighbors features for organoid_mask 2\n"
                    ]
                },
                {
                    "name": "stdout",
                    "output_type": "stream",
                    "text": [
                        "Channel: ER, Compartment: cell_mask, Object: 2\n"
                    ]
                },
                {
                    "name": "stderr",
                    "output_type": "stream",
                    "text": [
                        "INFO:root:Calculated Area Size Shape features for cell_mask 2\n",
                        "INFO:root:Calculated Granularity features for cell_mask 2\n",
                        "INFO:root:Calculated Neighbors features for cell_mask 2\n",
                        "INFO:root:Calculated Adjacent Neighbors features for cell_mask 2\n"
                    ]
                },
                {
                    "name": "stdout",
                    "output_type": "stream",
                    "text": [
                        "Channel: ER, Compartment: cell_mask, Object: 4\n"
                    ]
                },
                {
                    "name": "stderr",
                    "output_type": "stream",
                    "text": [
                        "INFO:root:Calculated Area Size Shape features for cell_mask 4\n",
                        "/home/lippincm/miniforge3/envs/GFF_featurization/lib/python3.12/site-packages/numpy/core/fromnumeric.py:3504: RuntimeWarning: Mean of empty slice.\n",
                        "  return _methods._mean(a, axis=axis, dtype=dtype,\n",
                        "/home/lippincm/miniforge3/envs/GFF_featurization/lib/python3.12/site-packages/numpy/core/_methods.py:129: RuntimeWarning: invalid value encountered in scalar divide\n",
                        "  ret = ret.dtype.type(ret / rcount)\n",
                        "INFO:root:Calculated Granularity features for cell_mask 4\n",
                        "INFO:root:Calculated Neighbors features for cell_mask 4\n",
                        "INFO:root:Calculated Adjacent Neighbors features for cell_mask 4\n"
                    ]
                },
                {
                    "name": "stdout",
                    "output_type": "stream",
                    "text": [
                        "Channel: ER, Compartment: cytoplasm_mask, Object: 2\n"
                    ]
                },
                {
                    "name": "stderr",
                    "output_type": "stream",
                    "text": [
                        "INFO:root:Calculated Area Size Shape features for cytoplasm_mask 2\n"
                    ]
                }
            ],
            "source": [
                "# iterate through each unique object in each compartment for each channel image\n",
                "\n",
                "for channel_image in image_set_loader.image_names:\n",
                "    for compartment in image_set_loader.compartments:\n",
                "        for unique_object_index in image_set_loader.unique_objects[compartment][1:3]:\n",
                "            print(\n",
                "                f\"Channel: {channel_image}, Compartment: {compartment}, Object: {unique_object_index}\"\n",
                "            )\n",
                "            # initialize object loader for each unique object\n",
                "            objects_loader = ObjectLoader(\n",
                "                image=image_set_loader.get_image(channel_image),\n",
                "                label_image=image_set_loader.get_image(compartment),\n",
                "                channel_name=channel_image,\n",
                "                compartment_name=compartment,\n",
                "                label_index=unique_object_index,\n",
                "            )\n",
                "            # featurize the object\n",
                "            featurization = Featurization(\n",
                "                image_set_loader=image_set_loader,\n",
                "                object_loader=objects_loader,\n",
                "                neighbors_distance_threshold=10,\n",
                "            )\n",
                "\n",
                "            features = featurization.get_features()\n",
                "            # write the features to a csv file\n",
                "            organize_featurization_data(\n",
                "                features=features,\n",
                "                channel=channel_image,\n",
                "                compartment=compartment,\n",
                "                label_index=unique_object_index,\n",
                "                image_set_name=image_set_loader.image_set_name,\n",
                "                return_df=False,\n",
                "                output=True,\n",
                "                output_path=pathlib.Path(\n",
                "                    f\"../profiles_features/{image_set_loader.image_set_name}_{channel_image}_{compartment}_{unique_object_index}.parquet\"\n",
                "                ),\n",
                "            )"
            ]
        }
    ],
    "metadata": {
        "kernelspec": {
            "display_name": "GFF_featurization",
            "language": "python",
            "name": "python3"
        },
        "language_info": {
            "codemirror_mode": {
                "name": "ipython",
                "version": 3
            },
            "file_extension": ".py",
            "mimetype": "text/x-python",
            "name": "python",
            "nbconvert_exporter": "python",
            "pygments_lexer": "ipython3",
            "version": "3.12.9"
        }
    },
    "nbformat": 4,
    "nbformat_minor": 2
}
