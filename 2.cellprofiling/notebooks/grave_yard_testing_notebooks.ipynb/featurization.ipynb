{
    "cells": [
        {
            "cell_type": "markdown",
            "metadata": {},
            "source": [
                "# Early development work for:\n",
                "\n",
                "## <ins>3</ins>D <ins>P</ins>rofiling of <ins>I</ins>mage-based or<ins>G</ins>anoid<ins>S</ins> (3PIGS)\n"
            ]
        },
        {
            "cell_type": "markdown",
            "metadata": {},
            "source": [
                "## Imports"
            ]
        },
        {
            "cell_type": "code",
            "execution_count": 1,
            "metadata": {},
            "outputs": [],
            "source": [
                "import pathlib\n",
                "import sys\n",
                "\n",
                "import matplotlib.pyplot as plt\n",
                "import numpy as np\n",
                "import pandas as pd\n",
                "import scipy.ndimage\n",
                "import scipy.signal\n",
                "import skimage\n",
                "import skimage.io as io\n",
                "import skimage.morphology\n",
                "import skimage.segmentation\n",
                "from centrosome.cpmorphology import fixup_scipy_ndimage_result as fix\n",
                "from scipy.linalg import lstsq\n",
                "\n",
                "sys.path.append(\"../featurization\")\n",
                "import numpy\n",
                "from area_size_shape import calulate_surface_area, measure_3D_area_size_shape\n",
                "from colocalization import calculate_3D_colocalization\n",
                "from granularity import measure_3D_granularity\n",
                "from intensity import measure_3D_intensity\n",
                "from neighbors import measure_3D_number_of_neighbors\n",
                "from texture import measure_3D_texture"
            ]
        },
        {
            "cell_type": "markdown",
            "metadata": {},
            "source": [
                "## Load images"
            ]
        },
        {
            "cell_type": "code",
            "execution_count": 2,
            "metadata": {},
            "outputs": [],
            "source": [
                "input_dir = pathlib.Path(\"../../data/NF0014/cellprofiler/C4-2/\")\n",
                "clip_limit = 0.03\n",
                "image_extensions = {\".tif\", \".tiff\"}\n",
                "files = sorted(input_dir.glob(\"*\"))\n",
                "files = [str(x) for x in files if x.suffix in image_extensions]\n",
                "# find the cytoplasmic channels in the image set\n",
                "for f in files:\n",
                "    if \"405\" in f:\n",
                "        nuclei = io.imread(f)\n",
                "    elif \"488\" in f:\n",
                "        cyto1 = io.imread(f)\n",
                "    elif \"555\" in f:\n",
                "        cyto2 = io.imread(f)\n",
                "    elif \"640\" in f:\n",
                "        cyto3 = io.imread(f)\n",
                "    elif \"TRANS\" in f:\n",
                "        brightfield = io.imread(f)\n",
                "    elif \"nuclei\" in f:\n",
                "        nuclei_mask = io.imread(f)\n",
                "    elif \"cell_\" in f:\n",
                "        cell_mask = io.imread(f)\n",
                "    elif \"cytoplasm\" in f:\n",
                "        cytoplasm_mask = io.imread(f)\n",
                "    elif \"organoid\" in f:\n",
                "        organoid_mask = io.imread(f)\n",
                "\n",
                "    else:\n",
                "        print(f\"Unknown channel: {f}\")\n",
                "\n",
                "# pick which channels to use for cellpose\n",
                "cyto = skimage.exposure.equalize_adapthist(cyto2, clip_limit=clip_limit)\n",
                "\n",
                "\n",
                "original_nuclei_image = nuclei.copy()\n",
                "original_cyto_image = cyto.copy()\n",
                "\n",
                "original_nuclei_z_count = nuclei.shape[0]\n",
                "original_cyto_z_count = cyto.shape[0]"
            ]
        },
        {
            "cell_type": "code",
            "execution_count": 3,
            "metadata": {},
            "outputs": [
                {
                    "name": "stdout",
                    "output_type": "stream",
                    "text": [
                        "(33, 1537, 1540) (33, 1537, 1540)\n",
                        "[0 8] [0 4]\n"
                    ]
                }
            ],
            "source": [
                "# get an image with only one mask\n",
                "\n",
                "\n",
                "def get_image_with_mask(mask_array, mask_number):\n",
                "    # get the mask for the organoid\n",
                "    mask = np.zeros_like(mask_array)\n",
                "    mask[mask_array == mask_number] = mask_number\n",
                "    return mask\n",
                "\n",
                "\n",
                "def get_object_mesh(mask):\n",
                "    mesh_z, mesh_y, mesh_x = numpy.mgrid[\n",
                "        0 : mask.shape[0],\n",
                "        0 : mask.shape[1],\n",
                "        0 : mask.shape[2],\n",
                "    ]\n",
                "    return mesh_z, mesh_y, mesh_x\n",
                "\n",
                "\n",
                "# function that gets the outline of the mask\n",
                "\n",
                "\n",
                "def get_outline(mask):\n",
                "    outline = numpy.zeros_like(mask)\n",
                "    for z in range(mask.shape[0]):\n",
                "        outline[z] = skimage.segmentation.find_boundaries(mask[z])\n",
                "    return outline\n",
                "\n",
                "\n",
                "label_object = get_image_with_mask(nuclei_mask, 8)\n",
                "label_object_1 = get_image_with_mask(nuclei_mask, 4)\n",
                "print(label_object.shape, label_object_1.shape)\n",
                "print(np.unique(label_object), np.unique(label_object_1))"
            ]
        },
        {
            "cell_type": "code",
            "execution_count": 4,
            "metadata": {},
            "outputs": [],
            "source": [
                "SPACING = (1.0, 0.1, 0.1)\n",
                "spacing = SPACING\n",
                "# TODO: add func to get the spacing from the image metadata"
            ]
        },
        {
            "cell_type": "code",
            "execution_count": 5,
            "metadata": {},
            "outputs": [
                {
                    "name": "stdout",
                    "output_type": "stream",
                    "text": [
                        "(33, 1537, 1540) (33, 1537, 1540) (33, 1537, 1540)\n"
                    ]
                },
                {
                    "data": {
                        "image/png": "[encoded data removed]",
                        "text/plain": [
                            "<Figure size 640x480 with 1 Axes>"
                        ]
                    },
                    "metadata": {},
                    "output_type": "display_data"
                }
            ],
            "source": [
                "image_object = nuclei.copy()\n",
                "image_object_1 = nuclei.copy()\n",
                "image_shape = image_object.shape\n",
                "\n",
                "\n",
                "def generate_mesh(image_object):\n",
                "    mesh_z, mesh_y, mesh_x = numpy.mgrid[\n",
                "        0 : image_object.shape[0],\n",
                "        0 : image_object.shape[1],\n",
                "        0 : image_object.shape[2],\n",
                "    ]\n",
                "    return mesh_z, mesh_y, mesh_x\n",
                "\n",
                "\n",
                "mesh_z, mesh_y, mesh_x = generate_mesh(image_object)\n",
                "print(mesh_z.shape, mesh_y.shape, mesh_x.shape)\n",
                "# set all image pixels to 0 if not in mask\n",
                "image_object[label_object == 0] = 0\n",
                "image_object_1[label_object_1 == 0] = 0\n",
                "\n",
                "non_zero_pixels_object = image_object[image_object > 0]\n",
                "mask_outlines = get_outline(label_object)\n",
                "# mesh_x = mesh_x[label_object > 0]\n",
                "# mesh_y = mesh_y[label_object > 0]\n",
                "# mesh_z = mesh_z[label_object > 0]\n",
                "plt.imshow(image_object[4])\n",
                "plt.show()"
            ]
        },
        {
            "cell_type": "markdown",
            "metadata": {},
            "source": [
                "## Notes"
            ]
        },
        {
            "cell_type": "markdown",
            "metadata": {},
            "source": [
                "But also convert masks to point clouds. \n"
            ]
        },
        {
            "cell_type": "markdown",
            "metadata": {},
            "source": [
                "Modules to make: (from https://cellprofiler-manual.s3.amazonaws.com/CellProfiler-4.2.8/modules/measurement.html)\n",
                "- Colocalization\n",
                "    - Correlation\n",
                "    - Slope\n",
                "    - Overlap coefficient\n",
                "    - Manders' coefficient\n",
                "    - Manders coefficient (Costes Automated Threshold): \n",
                "    - Rank Weighted Colocalization coefficient\n",
                "- Ganularity\n",
                "- Intensity\n",
                "    - IntegratedIntensity\n",
                "    - MeanIntensity\n",
                "    - StdIntensity\n",
                "    - MaxIntensity\n",
                "    - MinIntensity\n",
                "    - IntegratedIntensityEdge\n",
                "    - MeanIntensityEdge\n",
                "    - StdIntensityEdge\n",
                "    - MaxIntensityEdge\n",
                "    - MinIntensityEdge\n",
                "    - MassDisplacement\n",
                "    - LowerQuartileIntensity\n",
                "    - MedianIntensity\n",
                "    - MADIntensity\n",
                "    - UpperQuartileIntensity\n",
                "    - LocationCenterMassIntensity\n",
                "    - LocationMaxIntensity\n",
                "\n",
                "- Neighbors\n",
                "    - NumberOfNeighbors\n",
                "    - PercentTouching\n",
                "    - FirstClosestObjectNumber\n",
                "    - FirstClosestDistance\n",
                "    - SecondClosestObjectNumber\n",
                "    - SecondClosestDistance\n",
                "    - AngleBetweenNeighbors\n",
                "- SizeShape\n",
                "    - Volume\n",
                "    - SuraceArea\n",
                "    - ConvexArea\n",
                "    - Solidity\n",
                "    - Extent\n",
                "    - EulerNumber\n",
                "    - Center coordinates\n",
                "    - Bounding box\n",
                "    - Bounding box volume\n",
                "    - MajorAxisLength\n",
                "    - MinorAxisLength\n",
                "    - EquivalentDiameter\n",
                "- Texture\n",
                "    - AngularSecondMoment\n",
                "    - Contrast\n",
                "    - Correlation\n",
                "    - Variance\n",
                "    - InverseDifferenceMoment\n",
                "    - SumAverage\n",
                "    - SumVariance\n",
                "    - SumEntropy\n",
                "    - Entropy\n",
                "    - DifferenceVariance\n",
                "    - DifferenceEntropy\n",
                "    - InfoMeas1\n",
                "    - InfoMeas2\n",
                "    "
            ]
        },
        {
            "cell_type": "markdown",
            "metadata": {},
            "source": [
                "## Area Size Shape"
            ]
        },
        {
            "cell_type": "code",
            "execution_count": 34,
            "metadata": {},
            "outputs": [
                {
                    "data": {
                        "text/plain": [
                            "{'VOLUME': array([80885.]),\n",
                            " 'SURFACE_AREA': 566.3780228126928,\n",
                            " 'MAJOR_AXIS_LENGTH': array([148.60303519]),\n",
                            " 'MINOR_AXIS_LENGTH': array([10.97863858]),\n",
                            " 'CENTER_X': array([507.44136737]),\n",
                            " 'CENTER_Y': array([560.0680225]),\n",
                            " 'CENTER_Z': array([4.66945664]),\n",
                            " 'BBOX_VOLUME': array([119286.]),\n",
                            " 'MIN_X': array([458]),\n",
                            " 'MAX_X': array([552]),\n",
                            " 'MIN_Y': array([489]),\n",
                            " 'MAX_Y': array([630]),\n",
                            " 'MIN_Z': array([1]),\n",
                            " 'MAX_Z': array([10]),\n",
                            " 'EXTENT': array([0.67807622]),\n",
                            " 'EULER_NUMBER': array([1]),\n",
                            " 'EQUIVALENT_DIAMETER': array([53.65659664])}"
                        ]
                    },
                    "execution_count": 34,
                    "metadata": {},
                    "output_type": "execute_result"
                }
            ],
            "source": [
                "measure_3D_area_size_shape(label_object, spacing)"
            ]
        },
        {
            "cell_type": "markdown",
            "metadata": {},
            "source": [
                "## Colocalization"
            ]
        },
        {
            "cell_type": "markdown",
            "metadata": {},
            "source": [
                "### get the objects need for the colocalization analysis"
            ]
        },
        {
            "cell_type": "code",
            "execution_count": 6,
            "metadata": {},
            "outputs": [],
            "source": [
                "def expand_box(min_coor, max_coord, current_min, current_max, expand_by):\n",
                "    if max_coord - min_coor - (current_max - current_min) < expand_by:\n",
                "        return ValueError(\"Cannot expand box by the requested amount\")\n",
                "    while expand_by > 0:\n",
                "        if current_min > min_coor:\n",
                "            current_min -= 1\n",
                "            expand_by -= 1\n",
                "        elif current_max < max_coord:\n",
                "            current_max += 1\n",
                "            expand_by -= 1\n",
                "\n",
                "    return current_min, current_max\n",
                "\n",
                "\n",
                "def new_crop_border(bbox1, bbox2, image):\n",
                "    i1z1, i1y1, i1x1, i1z2, i1y2, i1x2 = bbox1\n",
                "    i2z1, i2y1, i2x1, i2z2, i2y2, i2x2 = bbox2\n",
                "    z_range1 = i1z2 - i1z1\n",
                "    y_range1 = i1y2 - i1y1\n",
                "    x_range1 = i1x2 - i1x1\n",
                "    z_range2 = i2z2 - i2z1\n",
                "    y_range2 = i2y2 - i2y1\n",
                "    x_range2 = i2x2 - i2x1\n",
                "    z_diff = np.abs(z_range1 - z_range2)\n",
                "    y_diff = np.abs(y_range1 - y_range2)\n",
                "    x_diff = np.abs(x_range1 - x_range2)\n",
                "    min_z_coord = 0\n",
                "    max_z_coord = image.shape[0]\n",
                "    min_y_coord = 0\n",
                "    max_y_coord = image.shape[1]\n",
                "    min_x_coord = 0\n",
                "    max_x_coord = image.shape[2]\n",
                "    if z_range1 < z_range2:\n",
                "        i1z1, i1z2 = expand_box(\n",
                "            min_coor=min_z_coord,\n",
                "            max_coord=max_z_coord,\n",
                "            current_min=i1z1,\n",
                "            current_max=i1z2,\n",
                "            expand_by=z_diff,\n",
                "        )\n",
                "    elif z_range1 > z_range2:\n",
                "        i2z1, i2z2 = expand_box(\n",
                "            min_coor=min_z_coord,\n",
                "            max_coord=max_z_coord,\n",
                "            current_min=i2z1,\n",
                "            current_max=i2z2,\n",
                "            expand_by=z_diff,\n",
                "        )\n",
                "    if y_range1 < y_range2:\n",
                "        i1y1, i1y2 = expand_box(\n",
                "            min_coor=min_y_coord,\n",
                "            max_coord=max_y_coord,\n",
                "            current_min=i1y1,\n",
                "            current_max=i1y2,\n",
                "            expand_by=y_diff,\n",
                "        )\n",
                "    elif y_range1 > y_range2:\n",
                "        i2y1, i2y2 = expand_box(\n",
                "            min_coor=min_y_coord,\n",
                "            max_coord=max_y_coord,\n",
                "            current_min=i2y1,\n",
                "            current_max=i2y2,\n",
                "            expand_by=y_diff,\n",
                "        )\n",
                "    if x_range1 < x_range2:\n",
                "        i1x1, i1x2 = expand_box(\n",
                "            min_coor=min_x_coord,\n",
                "            max_coord=max_x_coord,\n",
                "            current_min=i1x1,\n",
                "            current_max=i1x2,\n",
                "            expand_by=x_diff,\n",
                "        )\n",
                "    elif x_range1 > x_range2:\n",
                "        i2x1, i2x2 = expand_box(\n",
                "            min_coor=min_x_coord,\n",
                "            max_coord=max_x_coord,\n",
                "            current_min=i2x1,\n",
                "            current_max=i2x2,\n",
                "            expand_by=x_diff,\n",
                "        )\n",
                "    return (i1z1, i1y1, i1x1, i1z2, i1y2, i1x2), (i2z1, i2y1, i2x1, i2z2, i2y2, i2x2)\n",
                "\n",
                "\n",
                "# crop the image to the bbox of the mask\n",
                "def crop_3D_image(image, bbox):\n",
                "    z1, y1, x1, z2, y2, x2 = bbox\n",
                "    return image[z1:z2, y1:y2, x1:x2]\n",
                "\n",
                "\n",
                "def prepare_two_images_for_colocalization(label_object1, label_object2, image_object):\n",
                "    # get the image bbox\n",
                "    props_image1 = skimage.measure.regionprops_table(label_object1, properties=[\"bbox\"])\n",
                "    bbox_image1 = (\n",
                "        props_image1[\"bbox-0\"][0],\n",
                "        props_image1[\"bbox-1\"][0],\n",
                "        props_image1[\"bbox-2\"][0],\n",
                "        props_image1[\"bbox-3\"][0],\n",
                "        props_image1[\"bbox-4\"][0],\n",
                "        props_image1[\"bbox-5\"][0],\n",
                "    )\n",
                "\n",
                "    props_image2 = skimage.measure.regionprops_table(label_object2, properties=[\"bbox\"])\n",
                "    bbox_image2 = (\n",
                "        props_image2[\"bbox-0\"][0],\n",
                "        props_image2[\"bbox-1\"][0],\n",
                "        props_image2[\"bbox-2\"][0],\n",
                "        props_image2[\"bbox-3\"][0],\n",
                "        props_image2[\"bbox-4\"][0],\n",
                "        props_image2[\"bbox-5\"][0],\n",
                "    )\n",
                "\n",
                "    new_bbox1, new_bbox2 = new_crop_border(bbox_image1, bbox_image2, image_object)\n",
                "\n",
                "    croppped_image_1 = crop_3D_image(image_object, new_bbox1)\n",
                "    croppped_image_2 = crop_3D_image(image_object, new_bbox2)\n",
                "    return croppped_image_1, croppped_image_2"
            ]
        },
        {
            "cell_type": "code",
            "execution_count": null,
            "metadata": {},
            "outputs": [],
            "source": []
        },
        {
            "cell_type": "code",
            "execution_count": 13,
            "metadata": {},
            "outputs": [
                {
                    "name": "stderr",
                    "output_type": "stream",
                    "text": [
                        "/tmp/ipykernel_254217/979381111.py:2: DeprecationWarning: `product` is deprecated as of NumPy 1.25.0, and will be removed in NumPy 2.0. Please use `prod` instead.\n",
                        "  croppped_image_1, croppped_image_2 = prepare_two_images_for_colocalization(\n"
                    ]
                }
            ],
            "source": [
                "image_object = nuclei.copy()\n",
                "croppped_image_1, croppped_image_2 = prepare_two_images_for_colocalization(\n",
                "    label_object1=label_object,\n",
                "    label_object2=label_object_1,\n",
                "    image_object=image_object,\n",
                ")"
            ]
        },
        {
            "cell_type": "code",
            "execution_count": 14,
            "metadata": {},
            "outputs": [
                {
                    "data": {
                        "text/plain": [
                            "{'Mean Correlation coeff': 0.001982549883079978,\n",
                            " 'Median Correlation coeff': 0.001982549883079978,\n",
                            " 'Min Correlation coeff': 0.001982549883079978,\n",
                            " 'Max Correlation coeff': 0.001982549883079978,\n",
                            " 'Mean Manders coeff_M1': 0.99999432153418,\n",
                            " 'Median Manders coeff_M1': 0.99999432153418,\n",
                            " 'Min Manders coeff_M1': 0.99999432153418,\n",
                            " 'Max Manders coeff_M1': 0.99999432153418,\n",
                            " 'Mean Manders coeff_M2': 0.99995353641055,\n",
                            " 'Median Manders coeff_M2': 0.99995353641055,\n",
                            " 'Min Manders coeff_M2': 0.99995353641055,\n",
                            " 'Max Manders coeff_M2': 0.99995353641055,\n",
                            " 'Mean_overlap_coeff': 4.668225240550598,\n",
                            " 'Median_overlap_coeff': 4.668225240550598,\n",
                            " 'Min_overlap_coeff': 4.668225240550598,\n",
                            " 'Max_overlap_coeff': 4.668225240550598,\n",
                            " 'Mean_K1': 1.04839068939271,\n",
                            " 'Median_K1': 1.04839068939271,\n",
                            " 'Min_K1': 1.04839068939271,\n",
                            " 'Max_K1': 1.04839068939271,\n",
                            " 'Mean_K2': 1.0585483046039297,\n",
                            " 'Median_K2': 1.0585483046039297,\n",
                            " 'Min_K2': 1.0585483046039297,\n",
                            " 'Max_K2': 1.0585483046039297,\n",
                            " 'Mean_Manders_Coeff(costes)_M1': 0.41338576716210895,\n",
                            " 'Median_Manders_Coeff(costes)_M1': 0.41338576716210895,\n",
                            " 'Min_Manders_Coeff(costes)_M1': 0.41338576716210895,\n",
                            " 'Max_Manders_Coeff(costes)_M1': 0.41338576716210895,\n",
                            " 'Mean_Manders_Coeff(costes)_M2': 1.0,\n",
                            " 'Median_Manders_Coeff(costes)_M2': 1.0,\n",
                            " 'Min_Manders_Coeff(costes)_M2': 1.0,\n",
                            " 'Max_Manders_Coeff(costes)_M2': 1.0}"
                        ]
                    },
                    "execution_count": 14,
                    "metadata": {},
                    "output_type": "execute_result"
                }
            ],
            "source": [
                "colocalization_features = calculate_3D_colocalization(\n",
                "    croppped_image_1, croppped_image_2, thr=15, fast_costes=\"Accurate\"\n",
                ")\n",
                "colocalization_features"
            ]
        },
        {
            "cell_type": "code",
            "execution_count": null,
            "metadata": {},
            "outputs": [],
            "source": []
        },
        {
            "cell_type": "markdown",
            "metadata": {},
            "source": [
                "## Granularity"
            ]
        },
        {
            "cell_type": "code",
            "execution_count": 11,
            "metadata": {},
            "outputs": [
                {
                    "name": "stdout",
                    "output_type": "stream",
                    "text": [
                        "Granularity_1_AGP 99.99999999999999\n",
                        "Granularity_2_AGP 0.0\n",
                        "Granularity_3_AGP 0.0\n",
                        "Granularity_4_AGP 0.0\n",
                        "Granularity_5_AGP 0.0\n"
                    ]
                }
            ],
            "source": [
                "granularity_features = measure_3D_granularity(\n",
                "    image_object=cyto,\n",
                "    label_object=nuclei,\n",
                "    radius=20,\n",
                "    granular_spectrum_length=5,\n",
                "    subsample_size=0.25,\n",
                "    image_name=\"AGP\",\n",
                ")"
            ]
        },
        {
            "cell_type": "markdown",
            "metadata": {},
            "source": [
                "## Intensity"
            ]
        },
        {
            "cell_type": "code",
            "execution_count": 12,
            "metadata": {},
            "outputs": [],
            "source": [
                "intensity_features = measure_3D_intensity(image_object, label_object)"
            ]
        },
        {
            "cell_type": "markdown",
            "metadata": {},
            "source": [
                "## Neighbors"
            ]
        },
        {
            "cell_type": "markdown",
            "metadata": {},
            "source": [
                "Get the neighbors with two methods - adjacent (touching) and distance-based."
            ]
        },
        {
            "cell_type": "code",
            "execution_count": 13,
            "metadata": {},
            "outputs": [
                {
                    "name": "stdout",
                    "output_type": "stream",
                    "text": [
                        "[0 8]\n",
                        "[8]\n"
                    ]
                }
            ],
            "source": [
                "distance = 20\n",
                "unique_labels = np.unique(label_object)\n",
                "print(unique_labels)\n",
                "label_object_1 = label_object.copy()\n",
                "label_object_all = nuclei_mask\n",
                "# get the index of the object in the mask\n",
                "object_index = np.unique(label_object[label_object > 0])\n",
                "print(object_index)\n",
                "props_label = skimage.measure.regionprops_table(label_object, properties=[\"bbox\"])"
            ]
        },
        {
            "cell_type": "code",
            "execution_count": 31,
            "metadata": {},
            "outputs": [
                {
                    "data": {
                        "text/plain": [
                            "2"
                        ]
                    },
                    "execution_count": 31,
                    "metadata": {},
                    "output_type": "execute_result"
                }
            ],
            "source": [
                "measure_3D_number_of_neighbors(label_object, label_object_all, distance=40)\n",
                "measure_3D_number_of_neighbors(label_object, label_object_all, distance=1)"
            ]
        },
        {
            "cell_type": "markdown",
            "metadata": {},
            "source": [
                "## Texture"
            ]
        },
        {
            "cell_type": "code",
            "execution_count": 14,
            "metadata": {},
            "outputs": [],
            "source": [
                "toy_3d_data = np.random.random((10, 10, 10))\n",
                "toy_3d_data = np.int8(toy_3d_data)"
            ]
        },
        {
            "cell_type": "code",
            "execution_count": 15,
            "metadata": {},
            "outputs": [
                {
                    "data": {
                        "text/plain": [
                            "{'Angular Second Moment': 1.0,\n",
                            " 'Contrast': 0.0,\n",
                            " 'Correlation': 1.0,\n",
                            " 'Variance': 0.0,\n",
                            " 'Inverse Difference Moment': 1.0,\n",
                            " 'Sum Average': 0.0,\n",
                            " 'Sum Variance': 0.0,\n",
                            " 'Sum Entropy': 0.0,\n",
                            " 'Entropy': 0.0,\n",
                            " 'Difference Variance': 0.0,\n",
                            " 'Difference Entropy': 0.0,\n",
                            " 'Information Measure of Correlation 1': 0.0,\n",
                            " 'Information Measure of Correlation 2': 0.0}"
                        ]
                    },
                    "execution_count": 15,
                    "metadata": {},
                    "output_type": "execute_result"
                }
            ],
            "source": [
                "measure_3D_texture(toy_3d_data, distance=1)"
            ]
        }
    ],
    "metadata": {
        "kernelspec": {
            "display_name": "GFF_segmentation",
            "language": "python",
            "name": "python3"
        },
        "language_info": {
            "codemirror_mode": {
                "name": "ipython",
                "version": 3
            },
            "file_extension": ".py",
            "mimetype": "text/x-python",
            "name": "python",
            "nbconvert_exporter": "python",
            "pygments_lexer": "ipython3",
            "version": "3.11.11"
        }
    },
    "nbformat": 4,
    "nbformat_minor": 2
}
