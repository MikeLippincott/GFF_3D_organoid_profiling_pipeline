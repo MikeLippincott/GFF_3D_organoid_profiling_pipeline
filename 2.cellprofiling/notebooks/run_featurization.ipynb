{
 "cells": [
  {
   "cell_type": "markdown",
   "id": "1cc6cdd0",
   "metadata": {
    "tags": [
     "papermill-error-cell-tag"
    ]
   },
   "source": [
    "<span style=\"color:red; font-family:Helvetica Neue, Helvetica, Arial, sans-serif; font-size:2em;\">An Exception was encountered at '<a href=\"#papermill-error-cell\">In [8]</a>'.</span>"
   ]
  },
  {
   "cell_type": "code",
   "execution_count": 1,
   "id": "d81ef0d8",
   "metadata": {
    "execution": {
     "iopub.execute_input": "2025-03-21T18:36:34.268153Z",
     "iopub.status.busy": "2025-03-21T18:36:34.267823Z",
     "iopub.status.idle": "2025-03-21T18:36:41.232974Z",
     "shell.execute_reply": "2025-03-21T18:36:41.232552Z"
    },
    "papermill": {
     "duration": 6.970217,
     "end_time": "2025-03-21T18:36:41.234249",
     "exception": false,
     "start_time": "2025-03-21T18:36:34.264032",
     "status": "completed"
    },
    "tags": []
   },
   "outputs": [],
   "source": [
    "import pathlib\n",
    "import sys\n",
    "import time\n",
    "\n",
    "sys.path.append(\"../featurization\")\n",
    "from area_size_shape import measure_3D_area_size_shape\n",
    "from colocalization import (\n",
    "    measure_3D_colocalization,\n",
    "    prepare_two_images_for_colocalization,\n",
    ")\n",
    "from granularity import measure_3D_granularity, measure_3D_granularity_gpu\n",
    "from intensity import measure_3D_intensity\n",
    "from loading_classes import ImageSetLoader, ObjectLoader, TwoObjectLoader\n",
    "from neighbors import measure_3D_number_of_neighbors\n",
    "from texture import measure_3D_texture\n",
    "\n",
    "try:\n",
    "    cfg = get_ipython().config\n",
    "    in_notebook = True\n",
    "except NameError:\n",
    "    in_notebook = False\n",
    "if in_notebook:\n",
    "    from tqdm.notebook import tqdm\n",
    "else:\n",
    "    from tqdm import tqdm\n",
    "\n",
    "import warnings\n",
    "\n",
    "warnings.filterwarnings(\"ignore\", category=RuntimeWarning)\n",
    "import gc\n",
    "import itertools\n",
    "\n",
    "import pandas as pd"
   ]
  },
  {
   "cell_type": "code",
   "execution_count": 2,
   "id": "30651b4e",
   "metadata": {
    "execution": {
     "iopub.execute_input": "2025-03-21T18:36:41.244968Z",
     "iopub.status.busy": "2025-03-21T18:36:41.244688Z",
     "iopub.status.idle": "2025-03-21T18:36:41.246717Z",
     "shell.execute_reply": "2025-03-21T18:36:41.246452Z"
    },
    "papermill": {
     "duration": 0.004787,
     "end_time": "2025-03-21T18:36:41.247212",
     "exception": false,
     "start_time": "2025-03-21T18:36:41.242425",
     "status": "completed"
    },
    "tags": []
   },
   "outputs": [],
   "source": [
    "# begin profiling timer\n",
    "start_whole_featurize = time.time()"
   ]
  },
  {
   "cell_type": "markdown",
   "id": "58f85b90",
   "metadata": {
    "papermill": {
     "duration": 0.001386,
     "end_time": "2025-03-21T18:36:41.250157",
     "exception": false,
     "start_time": "2025-03-21T18:36:41.248771",
     "status": "completed"
    },
    "tags": []
   },
   "source": [
    "### Set the path to the images "
   ]
  },
  {
   "cell_type": "code",
   "execution_count": 3,
   "id": "50932d73",
   "metadata": {
    "execution": {
     "iopub.execute_input": "2025-03-21T18:36:41.254757Z",
     "iopub.status.busy": "2025-03-21T18:36:41.254473Z",
     "iopub.status.idle": "2025-03-21T18:36:41.256320Z",
     "shell.execute_reply": "2025-03-21T18:36:41.256082Z"
    },
    "papermill": {
     "duration": 0.005318,
     "end_time": "2025-03-21T18:36:41.256896",
     "exception": false,
     "start_time": "2025-03-21T18:36:41.251578",
     "status": "completed"
    },
    "tags": []
   },
   "outputs": [],
   "source": [
    "image_set_path = pathlib.Path(\"../../data/NF0014/cellprofiler/C4-2/\")"
   ]
  },
  {
   "cell_type": "markdown",
   "id": "eb980bdc",
   "metadata": {
    "papermill": {
     "duration": 0.001421,
     "end_time": "2025-03-21T18:36:41.259823",
     "exception": false,
     "start_time": "2025-03-21T18:36:41.258402",
     "status": "completed"
    },
    "tags": []
   },
   "source": [
    "### set the channel mapping dictionary"
   ]
  },
  {
   "cell_type": "code",
   "execution_count": 4,
   "id": "5e97711f",
   "metadata": {
    "execution": {
     "iopub.execute_input": "2025-03-21T18:36:41.263540Z",
     "iopub.status.busy": "2025-03-21T18:36:41.263188Z",
     "iopub.status.idle": "2025-03-21T18:36:41.265337Z",
     "shell.execute_reply": "2025-03-21T18:36:41.265101Z"
    },
    "papermill": {
     "duration": 0.004568,
     "end_time": "2025-03-21T18:36:41.265819",
     "exception": false,
     "start_time": "2025-03-21T18:36:41.261251",
     "status": "completed"
    },
    "tags": []
   },
   "outputs": [],
   "source": [
    "channel_mapping = {\n",
    "    \"DNA\": \"405\",\n",
    "    \"AGP\": \"488\",\n",
    "    \"ER\": \"555\",\n",
    "    \"Mito\": \"640\",\n",
    "    \"BF\": \"TRANS\",\n",
    "    \"Nuclei\": \"nuclei_\",\n",
    "    \"Cell\": \"cell_\",\n",
    "    \"Cytoplasm\": \"cytoplasm_\",\n",
    "    \"Organoid\": \"organoid_\",\n",
    "}"
   ]
  },
  {
   "cell_type": "markdown",
   "id": "9e06bc74",
   "metadata": {
    "papermill": {
     "duration": 0.001422,
     "end_time": "2025-03-21T18:36:41.268798",
     "exception": false,
     "start_time": "2025-03-21T18:36:41.267376",
     "status": "completed"
    },
    "tags": []
   },
   "source": [
    "### Initialize the image set loader"
   ]
  },
  {
   "cell_type": "code",
   "execution_count": 5,
   "id": "14c32a8f",
   "metadata": {
    "execution": {
     "iopub.execute_input": "2025-03-21T18:36:41.272464Z",
     "iopub.status.busy": "2025-03-21T18:36:41.272117Z",
     "iopub.status.idle": "2025-03-21T18:36:49.907087Z",
     "shell.execute_reply": "2025-03-21T18:36:49.906073Z"
    },
    "papermill": {
     "duration": 8.637683,
     "end_time": "2025-03-21T18:36:49.907919",
     "exception": false,
     "start_time": "2025-03-21T18:36:41.270236",
     "status": "completed"
    },
    "tags": []
   },
   "outputs": [
    {
     "data": {
      "text/plain": [
       "dict_keys(['DNA', 'AGP', 'ER', 'Mito', 'BF', 'Cell', 'Cytoplasm', 'Nuclei', 'Organoid'])"
      ]
     },
     "execution_count": 5,
     "metadata": {},
     "output_type": "execute_result"
    }
   ],
   "source": [
    "image_set_loader = ImageSetLoader(\n",
    "    image_set_path=image_set_path,\n",
    "    spacing=(1, 0.1, 0.1),\n",
    "    channel_mapping=channel_mapping,\n",
    ")\n",
    "image_set_loader.image_set_dict.keys()"
   ]
  },
  {
   "cell_type": "markdown",
   "id": "1a75e634",
   "metadata": {
    "papermill": {
     "duration": 0.001713,
     "end_time": "2025-03-21T18:36:49.977200",
     "exception": false,
     "start_time": "2025-03-21T18:36:49.975487",
     "status": "completed"
    },
    "tags": []
   },
   "source": [
    "### Loop through the image set"
   ]
  },
  {
   "cell_type": "markdown",
   "id": "679e3d75",
   "metadata": {
    "papermill": {
     "duration": 0.001447,
     "end_time": "2025-03-21T18:36:49.980169",
     "exception": false,
     "start_time": "2025-03-21T18:36:49.978722",
     "status": "completed"
    },
    "tags": []
   },
   "source": [
    "Run the rest in a script as it takes a long time to run"
   ]
  },
  {
   "cell_type": "code",
   "execution_count": 6,
   "id": "37ad0488",
   "metadata": {
    "execution": {
     "iopub.execute_input": "2025-03-21T18:36:49.984934Z",
     "iopub.status.busy": "2025-03-21T18:36:49.984230Z",
     "iopub.status.idle": "2025-03-21T18:36:49.988120Z",
     "shell.execute_reply": "2025-03-21T18:36:49.987687Z"
    },
    "papermill": {
     "duration": 0.007617,
     "end_time": "2025-03-21T18:36:49.989269",
     "exception": false,
     "start_time": "2025-03-21T18:36:49.981652",
     "status": "completed"
    },
    "tags": []
   },
   "outputs": [],
   "source": [
    "texture = False"
   ]
  },
  {
   "cell_type": "code",
   "execution_count": 7,
   "id": "fc8cd82e",
   "metadata": {
    "execution": {
     "iopub.execute_input": "2025-03-21T18:36:49.993982Z",
     "iopub.status.busy": "2025-03-21T18:36:49.993399Z",
     "iopub.status.idle": "2025-03-21T18:36:49.996100Z",
     "shell.execute_reply": "2025-03-21T18:36:49.995564Z"
    },
    "papermill": {
     "duration": 0.00522,
     "end_time": "2025-03-21T18:36:49.996581",
     "exception": false,
     "start_time": "2025-03-21T18:36:49.991361",
     "status": "completed"
    },
    "tags": []
   },
   "outputs": [],
   "source": [
    "gpu = False"
   ]
  },
  {
   "cell_type": "markdown",
   "id": "917e4082",
   "metadata": {
    "tags": [
     "papermill-error-cell-tag"
    ]
   },
   "source": [
    "<span id=\"papermill-error-cell\" style=\"color:red; font-family:Helvetica Neue, Helvetica, Arial, sans-serif; font-size:2em;\">Execution using papermill encountered an exception here and stopped:</span>"
   ]
  },
  {
   "cell_type": "code",
   "execution_count": 8,
   "id": "739b279d",
   "metadata": {
    "execution": {
     "iopub.execute_input": "2025-03-21T18:36:50.001376Z",
     "iopub.status.busy": "2025-03-21T18:36:50.000768Z",
     "iopub.status.idle": "2025-03-21T19:01:00.583289Z",
     "shell.execute_reply": "2025-03-21T19:01:00.582515Z"
    },
    "papermill": {
     "duration": 1450.585984,
     "end_time": "2025-03-21T19:01:00.584127",
     "exception": true,
     "start_time": "2025-03-21T18:36:49.998143",
     "status": "failed"
    },
    "tags": []
   },
   "outputs": [
    {
     "data": {
      "application/vnd.jupyter.widget-view+json": {
       "model_id": "749d1dffcb9c4446ad6f2f740c5c0f8c",
       "version_major": 2,
       "version_minor": 0
      },
      "text/plain": [
       "Processing compartments:   0%|          | 0/4 [00:00<?, ?it/s]"
      ]
     },
     "metadata": {},
     "output_type": "display_data"
    },
    {
     "data": {
      "application/vnd.jupyter.widget-view+json": {
       "model_id": "898964b3d5104c31a3aeba425fe00f28",
       "version_major": 2,
       "version_minor": 0
      },
      "text/plain": [
       "Processing channels:   0%|          | 0/9 [00:00<?, ?it/s]"
      ]
     },
     "metadata": {},
     "output_type": "display_data"
    },
    {
     "name": "stdout",
     "output_type": "stream",
     "text": [
      "loading object loader\n"
     ]
    },
    {
     "name": "stdout",
     "output_type": "stream",
     "text": [
      "Compartment: Cell, Channel: DNA\n",
      "area size shape\n"
     ]
    },
    {
     "name": "stdout",
     "output_type": "stream",
     "text": [
      "area size shape took 2.052617073059082 seconds\n",
      "intensity\n"
     ]
    },
    {
     "name": "stdout",
     "output_type": "stream",
     "text": [
      "intensity took 1322.5795693397522 seconds\n",
      "neighbors\n"
     ]
    },
    {
     "name": "stdout",
     "output_type": "stream",
     "text": [
      "neighbors took 122.32204008102417 seconds\n",
      "merging\n",
      "(391, 51)\n"
     ]
    },
    {
     "name": "stdout",
     "output_type": "stream",
     "text": [
      "Merging took 1.033200740814209\n"
     ]
    },
    {
     "ename": "NameError",
     "evalue": "name 'object_measurements' is not defined",
     "output_type": "error",
     "traceback": [
      "\u001b[31m---------------------------------------------------------------------------\u001b[39m",
      "\u001b[31mNameError\u001b[39m                                 Traceback (most recent call last)",
      "\u001b[36mCell\u001b[39m\u001b[36m \u001b[39m\u001b[32mIn[8]\u001b[39m\u001b[32m, line 135\u001b[39m\n\u001b[32m    133\u001b[39m \u001b[38;5;28;01mdel\u001b[39;00m object_loader\n\u001b[32m    134\u001b[39m \u001b[38;5;28;01mdel\u001b[39;00m size_shape_dict\n\u001b[32m--> \u001b[39m\u001b[32m135\u001b[39m \u001b[38;5;28;01mdel\u001b[39;00m \u001b[43mobject_measurements\u001b[49m\n\u001b[32m    136\u001b[39m \u001b[38;5;28;01mdel\u001b[39;00m output_dict\n\u001b[32m    137\u001b[39m \u001b[38;5;28;01mdel\u001b[39;00m neighbors_out_dict\n",
      "\u001b[31mNameError\u001b[39m: name 'object_measurements' is not defined"
     ]
    }
   ],
   "source": [
    "for compartment in tqdm(\n",
    "    image_set_loader.compartments, desc=\"Processing compartments\", position=0\n",
    "):\n",
    "    for channel in tqdm(\n",
    "        image_set_loader.image_names,\n",
    "        desc=\"Processing channels\",\n",
    "        leave=False,\n",
    "        position=1,\n",
    "    ):\n",
    "        # compartment = \"Organoid\"\n",
    "        # channel = \"AGP\"\n",
    "        print(\"loading object loader\")\n",
    "        object_loader = ObjectLoader(\n",
    "            image_set_loader.image_set_dict[channel],\n",
    "            image_set_loader.image_set_dict[compartment],\n",
    "            channel,\n",
    "            compartment,\n",
    "        )\n",
    "        print(f\"Compartment: {compartment}, Channel: {channel}\")\n",
    "        print(\"area size shape\")\n",
    "        start_time = time.time()\n",
    "        # area, size, shape\n",
    "        size_shape_dict = measure_3D_area_size_shape(\n",
    "            image_set_loader=image_set_loader,\n",
    "            object_loader=object_loader,\n",
    "        )\n",
    "        print(f\"area size shape took {time.time() - start_time} seconds\")\n",
    "        start_time = time.time()\n",
    "        # print(\"granularity\")\n",
    "        # # granularity\n",
    "        # if gpu:\n",
    "        #     object_measurements = measure_3D_granularity_gpu(\n",
    "        #         object_loader,\n",
    "        #         image_set_loader,\n",
    "        #         radius=10,\n",
    "        #         granular_spectrum_length=16,\n",
    "        #         subsample_size=0.25,\n",
    "        #         image_name=channel,\n",
    "        #     )\n",
    "        # else:\n",
    "        #     object_measurements = measure_3D_granularity(\n",
    "        #         object_loader,\n",
    "        #         radius=10,\n",
    "        #         granular_spectrum_length=16,\n",
    "        #         subsample_size=0.25,\n",
    "        #         image_name=channel,\n",
    "        #     )\n",
    "        # print(f\"granularity took {time.time() - start_time} seconds\")\n",
    "        start_time = time.time()\n",
    "        print(\"intensity\")\n",
    "        # intensity\n",
    "        output_dict = measure_3D_intensity(object_loader)\n",
    "        print(f\"intensity took {time.time() - start_time} seconds\")\n",
    "        start_time = time.time()\n",
    "        print(\"neighbors\")\n",
    "        # neighbors\n",
    "        neighbors_out_dict = measure_3D_number_of_neighbors(\n",
    "            object_loader=object_loader,\n",
    "            distance_threshold=10,\n",
    "            anisotropy_factor=image_set_loader.anisotropy_factor,\n",
    "        )\n",
    "        print(f\"neighbors took {time.time() - start_time} seconds\")\n",
    "        if texture:\n",
    "            start_time = time.time()\n",
    "\n",
    "            output_texture_dict = measure_3D_texture(\n",
    "                object_loader=object_loader,\n",
    "                distance=1,\n",
    "            )\n",
    "            print(f\"texture took {time.time() - start_time} seconds\")\n",
    "        print(\"merging\")\n",
    "        start_time = time.time()\n",
    "\n",
    "        # merge the dataframes together\n",
    "        size_shape_df = pd.DataFrame(size_shape_dict)\n",
    "        # prepend the feature_type to the column names\n",
    "        size_shape_df.columns = [\"object_id\"] + [\n",
    "            \"AreaSizeShape_\" + col\n",
    "            for col in size_shape_df.columns\n",
    "            if col != \"object_id\"\n",
    "        ]\n",
    "        # granularity_df = pd.DataFrame(object_measurements)\n",
    "        # # pivot wide\n",
    "        # granularity_df = granularity_df.pivot(\n",
    "        #     index=\"object_id\", columns=\"feature\", values=\"value\"\n",
    "        # )\n",
    "        # granularity_df.reset_index(inplace=True)\n",
    "        # # prepend the feature_type to the column names\n",
    "        # granularity_df.columns = [\"object_id\"] + [\n",
    "        #     \"Granularity_\" + col for col in granularity_df.columns if col != \"object_id\"\n",
    "        # ]\n",
    "        intensity_df = pd.DataFrame(output_dict)\n",
    "        # pivot wide\n",
    "        intensity_df = intensity_df.pivot(\n",
    "            index=\"object_id\", columns=\"feature_name\", values=\"value\"\n",
    "        )\n",
    "        intensity_df.reset_index(inplace=True)\n",
    "        # prepend the feature_type to the column names\n",
    "        intensity_df.columns = [\"object_id\"] + [\n",
    "            \"Intensity_\" + col for col in intensity_df.columns if col != \"object_id\"\n",
    "        ]\n",
    "        neighbors_df = pd.DataFrame(neighbors_out_dict)\n",
    "        # prepend the feature_type to the column names\n",
    "        neighbors_df.columns = [\"object_id\"] + [\n",
    "            \"Neighbors_\" + col for col in neighbors_df.columns if col != \"object_id\"\n",
    "        ]\n",
    "        # final_df = pd.merge(\n",
    "        #     size_shape_df, granularity_df, left_on=\"object_id\", right_on=\"object_id\"\n",
    "        # )\n",
    "        final_df = pd.merge(\n",
    "            size_shape_df, intensity_df, left_on=\"object_id\", right_on=\"object_id\"\n",
    "        )\n",
    "        # final_df = pd.merge(\n",
    "        #     final_df, intensity_df, left_on=\"object_id\", right_on=\"object_id\"\n",
    "        # )\n",
    "        final_df = pd.merge(\n",
    "            final_df, neighbors_df, left_on=\"object_id\", right_on=\"object_id\"\n",
    "        )\n",
    "        # prepend compartment and channel to column names\n",
    "        final_df.columns = [\n",
    "            f\"{compartment}_{channel}_{col}\" for col in final_df.columns\n",
    "        ]\n",
    "        final_df[\"image_set\"] = image_set_loader.image_set_name\n",
    "        print(final_df.shape)\n",
    "        output_file = pathlib.Path(\n",
    "            f\"../results/{image_set_loader.image_set_name}_{compartment}_features.parquet\"\n",
    "        )\n",
    "        output_file.parent.mkdir(parents=True, exist_ok=True)\n",
    "        final_df.to_parquet(output_file)\n",
    "        print(\"Merging took\", time.time() - start_time)\n",
    "\n",
    "        # remove the objects initialized in the beginning of the loop\n",
    "        del object_loader\n",
    "        del size_shape_dict\n",
    "        del object_measurements\n",
    "        del output_dict\n",
    "        del neighbors_out_dict\n",
    "        if texture:\n",
    "            del output_texture_dict\n",
    "        del final_df\n",
    "        gc.collect()"
   ]
  },
  {
   "cell_type": "markdown",
   "id": "35e3bea5",
   "metadata": {
    "papermill": {
     "duration": null,
     "end_time": null,
     "exception": null,
     "start_time": null,
     "status": "pending"
    },
    "tags": []
   },
   "source": [
    "## Run Colocalization"
   ]
  },
  {
   "cell_type": "code",
   "execution_count": null,
   "id": "32e9ceba",
   "metadata": {
    "papermill": {
     "duration": null,
     "end_time": null,
     "exception": null,
     "start_time": null,
     "status": "pending"
    },
    "tags": []
   },
   "outputs": [],
   "source": [
    "# get all channel combinations\n",
    "channel_combinations = list(itertools.combinations(image_set_loader.image_names, 2))\n",
    "output_list_of_dfs = []\n",
    "for compartment in tqdm(\n",
    "    image_set_loader.compartments, desc=\"Processing compartments\", position=0\n",
    "):\n",
    "    for channel1, channel2 in tqdm(\n",
    "        channel_combinations,\n",
    "        desc=\"Processing channel combinations\",\n",
    "        leave=False,\n",
    "        position=1,\n",
    "    ):\n",
    "        # compartment = \"Organoid\"\n",
    "        # channel1 = \"AGP\"\n",
    "        # channel2 = \"ER\"\n",
    "\n",
    "        coloc_loader = TwoObjectLoader(\n",
    "            image_set_loader=image_set_loader,\n",
    "            compartment=compartment,\n",
    "            channel1=channel1,\n",
    "            channel2=channel2,\n",
    "        )\n",
    "        for object_id in tqdm(\n",
    "            coloc_loader.object_ids,\n",
    "            desc=\"Processing object IDs\",\n",
    "            leave=False,\n",
    "            position=2,\n",
    "        ):\n",
    "            cropped_image1, cropped_image2 = prepare_two_images_for_colocalization(\n",
    "                label_object1=coloc_loader.label_image,\n",
    "                label_object2=coloc_loader.label_image,\n",
    "                image_object1=coloc_loader.image1,\n",
    "                image_object2=coloc_loader.image2,\n",
    "                object_id1=object_id,\n",
    "                object_id2=object_id,\n",
    "            )\n",
    "            colocalization_features = measure_3D_colocalization(\n",
    "                cropped_image_1=cropped_image1,\n",
    "                cropped_image_2=cropped_image2,\n",
    "                thr=15,\n",
    "                fast_costes=\"Accurate\",\n",
    "            )\n",
    "            coloc_df = pd.DataFrame(colocalization_features, index=[0])\n",
    "            coloc_df[\"object_id\"] = object_id\n",
    "            # prepend compartment channel1 and channel2 to column names + colocalization\n",
    "            coloc_df.columns = [\n",
    "                f\"{compartment}_{channel1}_{channel2}_Colocalization_\" + col\n",
    "                for col in coloc_df.columns\n",
    "                if col != \"object_id\"\n",
    "            ] + [\"object_id\"]\n",
    "            output_list_of_dfs.append(coloc_df)\n",
    "        coloc_df = pd.concat(output_list_of_dfs)\n",
    "        coloc_df[\"image_set\"] = image_set_loader.image_set_name\n",
    "        print(coloc_df.shape)\n",
    "output_file = pathlib.Path(\n",
    "    f\"../results/{image_set_loader.image_set_name}_{compartment}_coloc_features.parquet\"\n",
    ")\n",
    "output_file.parent.mkdir(parents=True, exist_ok=True)\n",
    "final_df = pd.concat(output_list_of_dfs)\n",
    "final_df.to_parquet(output_file)"
   ]
  },
  {
   "cell_type": "code",
   "execution_count": null,
   "id": "f59dd61a",
   "metadata": {
    "papermill": {
     "duration": null,
     "end_time": null,
     "exception": null,
     "start_time": null,
     "status": "pending"
    },
    "tags": []
   },
   "outputs": [],
   "source": [
    "end = time.time()\n",
    "print(\n",
    "    f\"Time taken for {image_set_loader.image_set_name} featurization:\",\n",
    "    end - start_whole_featurize,\n",
    ")"
   ]
  }
 ],
 "metadata": {
  "kernelspec": {
   "display_name": "GFF_featurization",
   "language": "python",
   "name": "python3"
  },
  "language_info": {
   "codemirror_mode": {
    "name": "ipython",
    "version": 3
   },
   "file_extension": ".py",
   "mimetype": "text/x-python",
   "name": "python",
   "nbconvert_exporter": "python",
   "pygments_lexer": "ipython3",
   "version": "3.12.9"
  },
  "papermill": {
   "default_parameters": {},
   "duration": 1469.105673,
   "end_time": "2025-03-21T19:01:01.322350",
   "environment_variables": {},
   "exception": true,
   "input_path": "run_featurization.ipynb",
   "output_path": "run_featurization.ipynb",
   "parameters": {},
   "start_time": "2025-03-21T18:36:32.216677",
   "version": "2.6.0"
  },
  "widgets": {
   "application/vnd.jupyter.widget-state+json": {
    "state": {
     "1a5b5f3915b84b50b4456598e5a707c5": {
      "model_module": "@jupyter-widgets/controls",
      "model_module_version": "2.0.0",
      "model_name": "HTMLModel",
      "state": {
       "_dom_classes": [],
       "_model_module": "@jupyter-widgets/controls",
       "_model_module_version": "2.0.0",
       "_model_name": "HTMLModel",
       "_view_count": null,
       "_view_module": "@jupyter-widgets/controls",
       "_view_module_version": "2.0.0",
       "_view_name": "HTMLView",
       "description": "",
       "description_allow_html": false,
       "layout": "IPY_MODEL_50f2fe97b8bf4ef0bf70e523bd8d2971",
       "placeholder": "​",
       "style": "IPY_MODEL_d824b79761fe4799b1f274b173a82cd2",
       "tabbable": null,
       "tooltip": null,
       "value": "Processing compartments:   0%"
      }
     },
     "1cab3b914d2342e7a7fdb6c382d8fcbc": {
      "model_module": "@jupyter-widgets/controls",
      "model_module_version": "2.0.0",
      "model_name": "HTMLStyleModel",
      "state": {
       "_model_module": "@jupyter-widgets/controls",
       "_model_module_version": "2.0.0",
       "_model_name": "HTMLStyleModel",
       "_view_count": null,
       "_view_module": "@jupyter-widgets/base",
       "_view_module_version": "2.0.0",
       "_view_name": "StyleView",
       "background": null,
       "description_width": "",
       "font_size": null,
       "text_color": null
      }
     },
     "214e4443867e4e2bbdebeaf28bc29580": {
      "model_module": "@jupyter-widgets/base",
      "model_module_version": "2.0.0",
      "model_name": "LayoutModel",
      "state": {
       "_model_module": "@jupyter-widgets/base",
       "_model_module_version": "2.0.0",
       "_model_name": "LayoutModel",
       "_view_count": null,
       "_view_module": "@jupyter-widgets/base",
       "_view_module_version": "2.0.0",
       "_view_name": "LayoutView",
       "align_content": null,
       "align_items": null,
       "align_self": null,
       "border_bottom": null,
       "border_left": null,
       "border_right": null,
       "border_top": null,
       "bottom": null,
       "display": null,
       "flex": null,
       "flex_flow": null,
       "grid_area": null,
       "grid_auto_columns": null,
       "grid_auto_flow": null,
       "grid_auto_rows": null,
       "grid_column": null,
       "grid_gap": null,
       "grid_row": null,
       "grid_template_areas": null,
       "grid_template_columns": null,
       "grid_template_rows": null,
       "height": null,
       "justify_content": null,
       "justify_items": null,
       "left": null,
       "margin": null,
       "max_height": null,
       "max_width": null,
       "min_height": null,
       "min_width": null,
       "object_fit": null,
       "object_position": null,
       "order": null,
       "overflow": null,
       "padding": null,
       "right": null,
       "top": null,
       "visibility": null,
       "width": null
      }
     },
     "4d9e0a1ba5864fe998a63afe094bf0c6": {
      "model_module": "@jupyter-widgets/controls",
      "model_module_version": "2.0.0",
      "model_name": "HTMLStyleModel",
      "state": {
       "_model_module": "@jupyter-widgets/controls",
       "_model_module_version": "2.0.0",
       "_model_name": "HTMLStyleModel",
       "_view_count": null,
       "_view_module": "@jupyter-widgets/base",
       "_view_module_version": "2.0.0",
       "_view_name": "StyleView",
       "background": null,
       "description_width": "",
       "font_size": null,
       "text_color": null
      }
     },
     "4de82d46d84c4690aa641ef0506ce909": {
      "model_module": "@jupyter-widgets/controls",
      "model_module_version": "2.0.0",
      "model_name": "ProgressStyleModel",
      "state": {
       "_model_module": "@jupyter-widgets/controls",
       "_model_module_version": "2.0.0",
       "_model_name": "ProgressStyleModel",
       "_view_count": null,
       "_view_module": "@jupyter-widgets/base",
       "_view_module_version": "2.0.0",
       "_view_name": "StyleView",
       "bar_color": null,
       "description_width": ""
      }
     },
     "50f2fe97b8bf4ef0bf70e523bd8d2971": {
      "model_module": "@jupyter-widgets/base",
      "model_module_version": "2.0.0",
      "model_name": "LayoutModel",
      "state": {
       "_model_module": "@jupyter-widgets/base",
       "_model_module_version": "2.0.0",
       "_model_name": "LayoutModel",
       "_view_count": null,
       "_view_module": "@jupyter-widgets/base",
       "_view_module_version": "2.0.0",
       "_view_name": "LayoutView",
       "align_content": null,
       "align_items": null,
       "align_self": null,
       "border_bottom": null,
       "border_left": null,
       "border_right": null,
       "border_top": null,
       "bottom": null,
       "display": null,
       "flex": null,
       "flex_flow": null,
       "grid_area": null,
       "grid_auto_columns": null,
       "grid_auto_flow": null,
       "grid_auto_rows": null,
       "grid_column": null,
       "grid_gap": null,
       "grid_row": null,
       "grid_template_areas": null,
       "grid_template_columns": null,
       "grid_template_rows": null,
       "height": null,
       "justify_content": null,
       "justify_items": null,
       "left": null,
       "margin": null,
       "max_height": null,
       "max_width": null,
       "min_height": null,
       "min_width": null,
       "object_fit": null,
       "object_position": null,
       "order": null,
       "overflow": null,
       "padding": null,
       "right": null,
       "top": null,
       "visibility": null,
       "width": null
      }
     },
     "582ddf3b7b73417fb5976feb2626ab37": {
      "model_module": "@jupyter-widgets/base",
      "model_module_version": "2.0.0",
      "model_name": "LayoutModel",
      "state": {
       "_model_module": "@jupyter-widgets/base",
       "_model_module_version": "2.0.0",
       "_model_name": "LayoutModel",
       "_view_count": null,
       "_view_module": "@jupyter-widgets/base",
       "_view_module_version": "2.0.0",
       "_view_name": "LayoutView",
       "align_content": null,
       "align_items": null,
       "align_self": null,
       "border_bottom": null,
       "border_left": null,
       "border_right": null,
       "border_top": null,
       "bottom": null,
       "display": null,
       "flex": null,
       "flex_flow": null,
       "grid_area": null,
       "grid_auto_columns": null,
       "grid_auto_flow": null,
       "grid_auto_rows": null,
       "grid_column": null,
       "grid_gap": null,
       "grid_row": null,
       "grid_template_areas": null,
       "grid_template_columns": null,
       "grid_template_rows": null,
       "height": null,
       "justify_content": null,
       "justify_items": null,
       "left": null,
       "margin": null,
       "max_height": null,
       "max_width": null,
       "min_height": null,
       "min_width": null,
       "object_fit": null,
       "object_position": null,
       "order": null,
       "overflow": null,
       "padding": null,
       "right": null,
       "top": null,
       "visibility": null,
       "width": null
      }
     },
     "5dbca117d92c4056a72dc0013f2553a7": {
      "model_module": "@jupyter-widgets/base",
      "model_module_version": "2.0.0",
      "model_name": "LayoutModel",
      "state": {
       "_model_module": "@jupyter-widgets/base",
       "_model_module_version": "2.0.0",
       "_model_name": "LayoutModel",
       "_view_count": null,
       "_view_module": "@jupyter-widgets/base",
       "_view_module_version": "2.0.0",
       "_view_name": "LayoutView",
       "align_content": null,
       "align_items": null,
       "align_self": null,
       "border_bottom": null,
       "border_left": null,
       "border_right": null,
       "border_top": null,
       "bottom": null,
       "display": null,
       "flex": null,
       "flex_flow": null,
       "grid_area": null,
       "grid_auto_columns": null,
       "grid_auto_flow": null,
       "grid_auto_rows": null,
       "grid_column": null,
       "grid_gap": null,
       "grid_row": null,
       "grid_template_areas": null,
       "grid_template_columns": null,
       "grid_template_rows": null,
       "height": null,
       "justify_content": null,
       "justify_items": null,
       "left": null,
       "margin": null,
       "max_height": null,
       "max_width": null,
       "min_height": null,
       "min_width": null,
       "object_fit": null,
       "object_position": null,
       "order": null,
       "overflow": null,
       "padding": null,
       "right": null,
       "top": null,
       "visibility": null,
       "width": null
      }
     },
     "60f1a76fc1bf4e7fa93c1d50b904db2d": {
      "model_module": "@jupyter-widgets/controls",
      "model_module_version": "2.0.0",
      "model_name": "HTMLModel",
      "state": {
       "_dom_classes": [],
       "_model_module": "@jupyter-widgets/controls",
       "_model_module_version": "2.0.0",
       "_model_name": "HTMLModel",
       "_view_count": null,
       "_view_module": "@jupyter-widgets/controls",
       "_view_module_version": "2.0.0",
       "_view_name": "HTMLView",
       "description": "",
       "description_allow_html": false,
       "layout": "IPY_MODEL_5dbca117d92c4056a72dc0013f2553a7",
       "placeholder": "​",
       "style": "IPY_MODEL_4d9e0a1ba5864fe998a63afe094bf0c6",
       "tabbable": null,
       "tooltip": null,
       "value": "Processing channels:   0%"
      }
     },
     "6c102d62cfc14f938eb1396bee2c77aa": {
      "model_module": "@jupyter-widgets/base",
      "model_module_version": "2.0.0",
      "model_name": "LayoutModel",
      "state": {
       "_model_module": "@jupyter-widgets/base",
       "_model_module_version": "2.0.0",
       "_model_name": "LayoutModel",
       "_view_count": null,
       "_view_module": "@jupyter-widgets/base",
       "_view_module_version": "2.0.0",
       "_view_name": "LayoutView",
       "align_content": null,
       "align_items": null,
       "align_self": null,
       "border_bottom": null,
       "border_left": null,
       "border_right": null,
       "border_top": null,
       "bottom": null,
       "display": null,
       "flex": null,
       "flex_flow": null,
       "grid_area": null,
       "grid_auto_columns": null,
       "grid_auto_flow": null,
       "grid_auto_rows": null,
       "grid_column": null,
       "grid_gap": null,
       "grid_row": null,
       "grid_template_areas": null,
       "grid_template_columns": null,
       "grid_template_rows": null,
       "height": null,
       "justify_content": null,
       "justify_items": null,
       "left": null,
       "margin": null,
       "max_height": null,
       "max_width": null,
       "min_height": null,
       "min_width": null,
       "object_fit": null,
       "object_position": null,
       "order": null,
       "overflow": null,
       "padding": null,
       "right": null,
       "top": null,
       "visibility": null,
       "width": null
      }
     },
     "749d1dffcb9c4446ad6f2f740c5c0f8c": {
      "model_module": "@jupyter-widgets/controls",
      "model_module_version": "2.0.0",
      "model_name": "HBoxModel",
      "state": {
       "_dom_classes": [],
       "_model_module": "@jupyter-widgets/controls",
       "_model_module_version": "2.0.0",
       "_model_name": "HBoxModel",
       "_view_count": null,
       "_view_module": "@jupyter-widgets/controls",
       "_view_module_version": "2.0.0",
       "_view_name": "HBoxView",
       "box_style": "",
       "children": [
        "IPY_MODEL_1a5b5f3915b84b50b4456598e5a707c5",
        "IPY_MODEL_7cc1a9cda12543938136b5f47e91f5fa",
        "IPY_MODEL_e56122c700dc4565abdfd4cd57075de1"
       ],
       "layout": "IPY_MODEL_d417873a7cea4401a26f6e7aba005754",
       "tabbable": null,
       "tooltip": null
      }
     },
     "7cc1a9cda12543938136b5f47e91f5fa": {
      "model_module": "@jupyter-widgets/controls",
      "model_module_version": "2.0.0",
      "model_name": "FloatProgressModel",
      "state": {
       "_dom_classes": [],
       "_model_module": "@jupyter-widgets/controls",
       "_model_module_version": "2.0.0",
       "_model_name": "FloatProgressModel",
       "_view_count": null,
       "_view_module": "@jupyter-widgets/controls",
       "_view_module_version": "2.0.0",
       "_view_name": "ProgressView",
       "bar_style": "danger",
       "description": "",
       "description_allow_html": false,
       "layout": "IPY_MODEL_6c102d62cfc14f938eb1396bee2c77aa",
       "max": 4.0,
       "min": 0.0,
       "orientation": "horizontal",
       "style": "IPY_MODEL_c8e47ed47c53442fb56b82f6f919d0ca",
       "tabbable": null,
       "tooltip": null,
       "value": 0.0
      }
     },
     "898964b3d5104c31a3aeba425fe00f28": {
      "model_module": "@jupyter-widgets/controls",
      "model_module_version": "2.0.0",
      "model_name": "HBoxModel",
      "state": {
       "_dom_classes": [],
       "_model_module": "@jupyter-widgets/controls",
       "_model_module_version": "2.0.0",
       "_model_name": "HBoxModel",
       "_view_count": null,
       "_view_module": "@jupyter-widgets/controls",
       "_view_module_version": "2.0.0",
       "_view_name": "HBoxView",
       "box_style": "",
       "children": [
        "IPY_MODEL_60f1a76fc1bf4e7fa93c1d50b904db2d",
        "IPY_MODEL_f1fd09cc83214e68b0edfeaea364a430",
        "IPY_MODEL_b59a2de66fd642a5b0f38d1e8bb5f162"
       ],
       "layout": "IPY_MODEL_582ddf3b7b73417fb5976feb2626ab37",
       "tabbable": null,
       "tooltip": null
      }
     },
     "b59a2de66fd642a5b0f38d1e8bb5f162": {
      "model_module": "@jupyter-widgets/controls",
      "model_module_version": "2.0.0",
      "model_name": "HTMLModel",
      "state": {
       "_dom_classes": [],
       "_model_module": "@jupyter-widgets/controls",
       "_model_module_version": "2.0.0",
       "_model_name": "HTMLModel",
       "_view_count": null,
       "_view_module": "@jupyter-widgets/controls",
       "_view_module_version": "2.0.0",
       "_view_name": "HTMLView",
       "description": "",
       "description_allow_html": false,
       "layout": "IPY_MODEL_214e4443867e4e2bbdebeaf28bc29580",
       "placeholder": "​",
       "style": "IPY_MODEL_1cab3b914d2342e7a7fdb6c382d8fcbc",
       "tabbable": null,
       "tooltip": null,
       "value": " 0/9 [24:09&lt;?, ?it/s]"
      }
     },
     "bfe0f105face40c497eeb5e978a5874c": {
      "model_module": "@jupyter-widgets/base",
      "model_module_version": "2.0.0",
      "model_name": "LayoutModel",
      "state": {
       "_model_module": "@jupyter-widgets/base",
       "_model_module_version": "2.0.0",
       "_model_name": "LayoutModel",
       "_view_count": null,
       "_view_module": "@jupyter-widgets/base",
       "_view_module_version": "2.0.0",
       "_view_name": "LayoutView",
       "align_content": null,
       "align_items": null,
       "align_self": null,
       "border_bottom": null,
       "border_left": null,
       "border_right": null,
       "border_top": null,
       "bottom": null,
       "display": null,
       "flex": null,
       "flex_flow": null,
       "grid_area": null,
       "grid_auto_columns": null,
       "grid_auto_flow": null,
       "grid_auto_rows": null,
       "grid_column": null,
       "grid_gap": null,
       "grid_row": null,
       "grid_template_areas": null,
       "grid_template_columns": null,
       "grid_template_rows": null,
       "height": null,
       "justify_content": null,
       "justify_items": null,
       "left": null,
       "margin": null,
       "max_height": null,
       "max_width": null,
       "min_height": null,
       "min_width": null,
       "object_fit": null,
       "object_position": null,
       "order": null,
       "overflow": null,
       "padding": null,
       "right": null,
       "top": null,
       "visibility": null,
       "width": null
      }
     },
     "c8e47ed47c53442fb56b82f6f919d0ca": {
      "model_module": "@jupyter-widgets/controls",
      "model_module_version": "2.0.0",
      "model_name": "ProgressStyleModel",
      "state": {
       "_model_module": "@jupyter-widgets/controls",
       "_model_module_version": "2.0.0",
       "_model_name": "ProgressStyleModel",
       "_view_count": null,
       "_view_module": "@jupyter-widgets/base",
       "_view_module_version": "2.0.0",
       "_view_name": "StyleView",
       "bar_color": null,
       "description_width": ""
      }
     },
     "d417873a7cea4401a26f6e7aba005754": {
      "model_module": "@jupyter-widgets/base",
      "model_module_version": "2.0.0",
      "model_name": "LayoutModel",
      "state": {
       "_model_module": "@jupyter-widgets/base",
       "_model_module_version": "2.0.0",
       "_model_name": "LayoutModel",
       "_view_count": null,
       "_view_module": "@jupyter-widgets/base",
       "_view_module_version": "2.0.0",
       "_view_name": "LayoutView",
       "align_content": null,
       "align_items": null,
       "align_self": null,
       "border_bottom": null,
       "border_left": null,
       "border_right": null,
       "border_top": null,
       "bottom": null,
       "display": null,
       "flex": null,
       "flex_flow": null,
       "grid_area": null,
       "grid_auto_columns": null,
       "grid_auto_flow": null,
       "grid_auto_rows": null,
       "grid_column": null,
       "grid_gap": null,
       "grid_row": null,
       "grid_template_areas": null,
       "grid_template_columns": null,
       "grid_template_rows": null,
       "height": null,
       "justify_content": null,
       "justify_items": null,
       "left": null,
       "margin": null,
       "max_height": null,
       "max_width": null,
       "min_height": null,
       "min_width": null,
       "object_fit": null,
       "object_position": null,
       "order": null,
       "overflow": null,
       "padding": null,
       "right": null,
       "top": null,
       "visibility": null,
       "width": null
      }
     },
     "d44e079222d14775931614d84560b1e2": {
      "model_module": "@jupyter-widgets/controls",
      "model_module_version": "2.0.0",
      "model_name": "HTMLStyleModel",
      "state": {
       "_model_module": "@jupyter-widgets/controls",
       "_model_module_version": "2.0.0",
       "_model_name": "HTMLStyleModel",
       "_view_count": null,
       "_view_module": "@jupyter-widgets/base",
       "_view_module_version": "2.0.0",
       "_view_name": "StyleView",
       "background": null,
       "description_width": "",
       "font_size": null,
       "text_color": null
      }
     },
     "d824b79761fe4799b1f274b173a82cd2": {
      "model_module": "@jupyter-widgets/controls",
      "model_module_version": "2.0.0",
      "model_name": "HTMLStyleModel",
      "state": {
       "_model_module": "@jupyter-widgets/controls",
       "_model_module_version": "2.0.0",
       "_model_name": "HTMLStyleModel",
       "_view_count": null,
       "_view_module": "@jupyter-widgets/base",
       "_view_module_version": "2.0.0",
       "_view_name": "StyleView",
       "background": null,
       "description_width": "",
       "font_size": null,
       "text_color": null
      }
     },
     "e56122c700dc4565abdfd4cd57075de1": {
      "model_module": "@jupyter-widgets/controls",
      "model_module_version": "2.0.0",
      "model_name": "HTMLModel",
      "state": {
       "_dom_classes": [],
       "_model_module": "@jupyter-widgets/controls",
       "_model_module_version": "2.0.0",
       "_model_name": "HTMLModel",
       "_view_count": null,
       "_view_module": "@jupyter-widgets/controls",
       "_view_module_version": "2.0.0",
       "_view_name": "HTMLView",
       "description": "",
       "description_allow_html": false,
       "layout": "IPY_MODEL_bfe0f105face40c497eeb5e978a5874c",
       "placeholder": "​",
       "style": "IPY_MODEL_d44e079222d14775931614d84560b1e2",
       "tabbable": null,
       "tooltip": null,
       "value": " 0/4 [24:09&lt;?, ?it/s]"
      }
     },
     "f0e9f1aebb1f419d8b24da15ef88f77e": {
      "model_module": "@jupyter-widgets/base",
      "model_module_version": "2.0.0",
      "model_name": "LayoutModel",
      "state": {
       "_model_module": "@jupyter-widgets/base",
       "_model_module_version": "2.0.0",
       "_model_name": "LayoutModel",
       "_view_count": null,
       "_view_module": "@jupyter-widgets/base",
       "_view_module_version": "2.0.0",
       "_view_name": "LayoutView",
       "align_content": null,
       "align_items": null,
       "align_self": null,
       "border_bottom": null,
       "border_left": null,
       "border_right": null,
       "border_top": null,
       "bottom": null,
       "display": null,
       "flex": null,
       "flex_flow": null,
       "grid_area": null,
       "grid_auto_columns": null,
       "grid_auto_flow": null,
       "grid_auto_rows": null,
       "grid_column": null,
       "grid_gap": null,
       "grid_row": null,
       "grid_template_areas": null,
       "grid_template_columns": null,
       "grid_template_rows": null,
       "height": null,
       "justify_content": null,
       "justify_items": null,
       "left": null,
       "margin": null,
       "max_height": null,
       "max_width": null,
       "min_height": null,
       "min_width": null,
       "object_fit": null,
       "object_position": null,
       "order": null,
       "overflow": null,
       "padding": null,
       "right": null,
       "top": null,
       "visibility": null,
       "width": null
      }
     },
     "f1fd09cc83214e68b0edfeaea364a430": {
      "model_module": "@jupyter-widgets/controls",
      "model_module_version": "2.0.0",
      "model_name": "FloatProgressModel",
      "state": {
       "_dom_classes": [],
       "_model_module": "@jupyter-widgets/controls",
       "_model_module_version": "2.0.0",
       "_model_name": "FloatProgressModel",
       "_view_count": null,
       "_view_module": "@jupyter-widgets/controls",
       "_view_module_version": "2.0.0",
       "_view_name": "ProgressView",
       "bar_style": "danger",
       "description": "",
       "description_allow_html": false,
       "layout": "IPY_MODEL_f0e9f1aebb1f419d8b24da15ef88f77e",
       "max": 9.0,
       "min": 0.0,
       "orientation": "horizontal",
       "style": "IPY_MODEL_4de82d46d84c4690aa641ef0506ce909",
       "tabbable": null,
       "tooltip": null,
       "value": 0.0
      }
     }
    },
    "version_major": 2,
    "version_minor": 0
   }
  }
 },
 "nbformat": 4,
 "nbformat_minor": 5
}