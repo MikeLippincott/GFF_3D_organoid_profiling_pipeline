{
    "cells": [
        {
            "cell_type": "code",
            "execution_count": 1,
            "metadata": {},
            "outputs": [],
            "source": [
                "import pathlib\n",
                "import sys\n",
                "import time\n",
                "\n",
                "sys.path.append(\"../featurization\")\n",
                "from data_writer import organize_featurization_data\n",
                "from loading_classes import Featurization, ImageSetLoader, ObjectLoader\n",
                "from two_object_loading_classes import (\n",
                "    ColocalizationFeaturization,\n",
                "    ColocalizationTwoObject_Loader,\n",
                ")"
            ]
        },
        {
            "cell_type": "code",
            "execution_count": 2,
            "metadata": {},
            "outputs": [],
            "source": [
                "# begin profiling timer\n",
                "start = time.time()"
            ]
        },
        {
            "cell_type": "markdown",
            "metadata": {},
            "source": [
                "### Set the path to the images "
            ]
        },
        {
            "cell_type": "code",
            "execution_count": 3,
            "metadata": {},
            "outputs": [],
            "source": [
                "image_set_path = pathlib.Path(\"../../data/NF0014/cellprofiler/C4-2/\")"
            ]
        },
        {
            "cell_type": "markdown",
            "metadata": {},
            "source": [
                "### set the channel mapping dictionary"
            ]
        },
        {
            "cell_type": "code",
            "execution_count": 4,
            "metadata": {},
            "outputs": [],
            "source": [
                "channel_mapping = {\n",
                "    \"nuclei\": \"405\",\n",
                "    \"AGP\": \"488\",\n",
                "    \"ER\": \"555\",\n",
                "    \"Mito\": \"640\",\n",
                "    \"BF\": \"TRANS\",\n",
                "    \"nuclei_mask\": \"nuclei_\",\n",
                "    \"cell_mask\": \"cell_\",\n",
                "    \"cytoplasm_mask\": \"cytoplasm_\",\n",
                "    \"organoid_mask\": \"organoid_\",\n",
                "}"
            ]
        },
        {
            "cell_type": "markdown",
            "metadata": {},
            "source": [
                "### Initialize the image set loader"
            ]
        },
        {
            "cell_type": "code",
            "execution_count": 5,
            "metadata": {},
            "outputs": [],
            "source": [
                "image_set_loader = ImageSetLoader(\n",
                "    image_set_path=image_set_path,\n",
                "    spacing=(1, 0.1, 0.1),\n",
                "    channel_mapping=channel_mapping,\n",
                ")"
            ]
        },
        {
            "cell_type": "markdown",
            "metadata": {},
            "source": [
                "### Loop through the image set"
            ]
        },
        {
            "cell_type": "code",
            "execution_count": 6,
            "metadata": {},
            "outputs": [],
            "source": [
                "# get the total number of iterations\n",
                "iterations = 0\n",
                "arg_list = []\n",
                "for compartment in image_set_loader.compartments:\n",
                "    for channel in image_set_loader.image_names:\n",
                "        for unique_index in image_set_loader.unique_compartment_objects[compartment]:\n",
                "            iterations += 1\n",
                "            arg_list.append((compartment, channel, unique_index))"
            ]
        },
        {
            "cell_type": "code",
            "execution_count": null,
            "metadata": {},
            "outputs": [
                {
                    "name": "stderr",
                    "output_type": "stream",
                    "text": [
                        "INFO:root:Calculated Area Size Shape features for cell_mask 4\n"
                    ]
                }
            ],
            "source": [
                "progress = 0\n",
                "for compartment in image_set_loader.compartments:\n",
                "    for channel in image_set_loader.image_names:\n",
                "        for unique_index in image_set_loader.unique_compartment_objects[compartment]:\n",
                "            # initialize the object loader to access the objects in the image\n",
                "            objects_loader = ObjectLoader(\n",
                "                image=image_set_loader.get_image(channel),\n",
                "                label_image=image_set_loader.get_image(compartment),\n",
                "                channel_name=channel,\n",
                "                compartment_name=compartment,\n",
                "                label_index=4,\n",
                "            )\n",
                "            # initialize the featurization class to access the features\n",
                "            # This enables the measurement of the features\n",
                "            featurization = Featurization(\n",
                "                image_set_loader=image_set_loader,\n",
                "                object_loader=objects_loader,\n",
                "                neighbors_distance_threshold=10,\n",
                "            )\n",
                "            # return the features into a function to save the data\n",
                "            organize_featurization_data(\n",
                "                features=featurization.get_features(),\n",
                "                channel=channel,\n",
                "                compartment=compartment,\n",
                "                label_index=unique_index,\n",
                "                image_set_name=image_set_loader.image_set_name,\n",
                "                return_df=False,\n",
                "                output=True,\n",
                "                output_path=pathlib.Path(\n",
                "                    f\"../profiles_features/{image_set_loader.image_set_name}_{channel}_{compartment}_{unique_index}.parquet\"\n",
                "                ),\n",
                "            )\n",
                "            progress += 1\n",
                "            print((progress / iterations) * 100, \"% Complete\")"
            ]
        },
        {
            "cell_type": "markdown",
            "metadata": {},
            "source": [
                "## Run Colocalization"
            ]
        },
        {
            "cell_type": "code",
            "execution_count": null,
            "metadata": {},
            "outputs": [],
            "source": [
                "# get all combinations of channels, compartments, and objects\n",
                "colocalization_channel_pairs = []\n",
                "\n",
                "for channel1 in image_set_loader.image_names:\n",
                "    for channel2 in image_set_loader.image_names:\n",
                "        if channel1 != channel2:\n",
                "            colocalization_channel_pairs.append((channel1, channel2))\n",
                "\n",
                "for compartment in image_set_loader.compartments:\n",
                "    for unique_object in image_set_loader.unique_compartment_objects[compartment][1:2]:\n",
                "        for channel1, channel2 in colocalization_channel_pairs:\n",
                "            two_object_loader = ColocalizationTwoObject_Loader(\n",
                "                image_set_loader=image_set_loader,\n",
                "                image1=image_set_loader.image_set_dict[channel1],\n",
                "                label_image1=image_set_loader.image_set_dict[compartment],\n",
                "                object1=unique_object,\n",
                "                image2=image_set_loader.image_set_dict[channel2],\n",
                "                label_image2=image_set_loader.image_set_dict[compartment],\n",
                "                object2=unique_object,\n",
                "                compartment=compartment,\n",
                "            )\n",
                "\n",
                "            featurizer = ColocalizationFeaturization(\n",
                "                image_set_loader=image_set_loader,\n",
                "                two_object_loader=two_object_loader,\n",
                "            )\n",
                "            features = featurizer.process_features_for_output()\n",
                "            organize_featurization_data(\n",
                "                features=features,\n",
                "                compartment=compartment,\n",
                "                channel=f\"{channel1}-{channel2}\",\n",
                "                label_index=unique_object,\n",
                "                output=True,\n",
                "                output_path=pathlib.Path(\n",
                "                    f\"../profiles_features/{image_set_loader.image_set_name}_colocalization_{compartment}_{channel1}_{channel2}_{unique_object}.parquet\"\n",
                "                ),\n",
                "                image_set_name=image_set_loader.image_set_name,\n",
                "                return_df=False,\n",
                "            )"
            ]
        },
        {
            "cell_type": "code",
            "execution_count": null,
            "metadata": {},
            "outputs": [],
            "source": [
                "end = time.time()\n",
                "print(f\"Time taken for {image_set_loader.image_set_name} featurization:\", end - start)"
            ]
        }
    ],
    "metadata": {
        "kernelspec": {
            "display_name": "GFF_featurization",
            "language": "python",
            "name": "python3"
        },
        "language_info": {
            "codemirror_mode": {
                "name": "ipython",
                "version": 3
            },
            "file_extension": ".py",
            "mimetype": "text/x-python",
            "name": "python",
            "nbconvert_exporter": "python",
            "pygments_lexer": "ipython3",
            "version": "3.12.9"
        }
    },
    "nbformat": 4,
    "nbformat_minor": 2
}
