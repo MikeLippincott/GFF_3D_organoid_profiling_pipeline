{
    "cells": [
        {
            "cell_type": "code",
            "execution_count": 1,
            "metadata": {},
            "outputs": [],
            "source": [
                "import pathlib\n",
                "import sys\n",
                "import time\n",
                "\n",
                "sys.path.append(\"../featurization\")\n",
                "from area_size_shape import measure_3D_area_size_shape\n",
                "from colocalization import (\n",
                "    measure_3D_colocalization,\n",
                "    prepare_two_images_for_colocalization,\n",
                ")\n",
                "from granularity import measure_3D_granularity, measure_3D_granularity_gpu\n",
                "from intensity import measure_3D_intensity\n",
                "from loading_classes import ImageSetLoader, ObjectLoader, TwoObjectLoader\n",
                "from neighbors import measure_3D_number_of_neighbors\n",
                "from texture import measure_3D_texture\n",
                "\n",
                "try:\n",
                "    cfg = get_ipython().config\n",
                "    in_notebook = True\n",
                "except NameError:\n",
                "    in_notebook = False\n",
                "if in_notebook:\n",
                "    from tqdm.notebook import tqdm\n",
                "else:\n",
                "    from tqdm import tqdm\n",
                "\n",
                "import warnings\n",
                "\n",
                "warnings.filterwarnings(\"ignore\", category=RuntimeWarning)\n",
                "import gc\n",
                "import itertools\n",
                "\n",
                "import pandas as pd"
            ]
        },
        {
            "cell_type": "code",
            "execution_count": 2,
            "metadata": {},
            "outputs": [],
            "source": [
                "# begin profiling timer\n",
                "start_whole_featurize = time.time()"
            ]
        },
        {
            "cell_type": "markdown",
            "metadata": {},
            "source": [
                "### Set the path to the images "
            ]
        },
        {
            "cell_type": "code",
            "execution_count": 3,
            "metadata": {},
            "outputs": [],
            "source": [
                "image_set_path = pathlib.Path(\"../../data/NF0014/cellprofiler/C4-2/\")"
            ]
        },
        {
            "cell_type": "markdown",
            "metadata": {},
            "source": [
                "### set the channel mapping dictionary"
            ]
        },
        {
            "cell_type": "code",
            "execution_count": 4,
            "metadata": {},
            "outputs": [],
            "source": [
                "channel_mapping = {\n",
                "    \"DNA\": \"405\",\n",
                "    \"AGP\": \"488\",\n",
                "    \"ER\": \"555\",\n",
                "    \"Mito\": \"640\",\n",
                "    \"BF\": \"TRANS\",\n",
                "    \"Nuclei\": \"nuclei_\",\n",
                "    \"Cell\": \"cell_\",\n",
                "    \"Cytoplasm\": \"cytoplasm_\",\n",
                "    \"Organoid\": \"organoid_\",\n",
                "}"
            ]
        },
        {
            "cell_type": "markdown",
            "metadata": {},
            "source": [
                "### Initialize the image set loader"
            ]
        },
        {
            "cell_type": "code",
            "execution_count": 5,
            "metadata": {},
            "outputs": [
                {
                    "data": {
                        "text/plain": [
                            "dict_keys(['DNA', 'AGP', 'ER', 'Mito', 'BF', 'Cell', 'Cytoplasm', 'Nuclei', 'Organoid'])"
                        ]
                    },
                    "execution_count": 5,
                    "metadata": {},
                    "output_type": "execute_result"
                }
            ],
            "source": [
                "image_set_loader = ImageSetLoader(\n",
                "    image_set_path=image_set_path,\n",
                "    spacing=(1, 0.1, 0.1),\n",
                "    channel_mapping=channel_mapping,\n",
                ")\n",
                "image_set_loader.image_set_dict.keys()"
            ]
        },
        {
            "cell_type": "markdown",
            "metadata": {},
            "source": [
                "### Loop through the image set"
            ]
        },
        {
            "cell_type": "markdown",
            "metadata": {},
            "source": [
                "Run the rest in a script as it takes a long time to run"
            ]
        },
        {
            "cell_type": "code",
            "execution_count": 6,
            "metadata": {},
            "outputs": [],
            "source": [
                "texture = False"
            ]
        },
        {
            "cell_type": "code",
            "execution_count": 7,
            "metadata": {},
            "outputs": [],
            "source": [
                "gpu = True"
            ]
        },
        {
            "cell_type": "code",
            "execution_count": 8,
            "metadata": {},
            "outputs": [
                {
                    "data": {
                        "application/vnd.jupyter.widget-view+json": {
                            "model_id": "28fc298485a14787929bc681c94ab5ba",
                            "version_major": 2,
                            "version_minor": 0
                        },
                        "text/plain": [
                            "Processing compartments:   0%|          | 0/4 [00:00<?, ?it/s]"
                        ]
                    },
                    "metadata": {},
                    "output_type": "display_data"
                },
                {
                    "data": {
                        "application/vnd.jupyter.widget-view+json": {
                            "model_id": "589c15f4ecd2427f8576e5fbe9dc02ca",
                            "version_major": 2,
                            "version_minor": 0
                        },
                        "text/plain": [
                            "Processing channels:   0%|          | 0/9 [00:00<?, ?it/s]"
                        ]
                    },
                    "metadata": {},
                    "output_type": "display_data"
                },
                {
                    "name": "stdout",
                    "output_type": "stream",
                    "text": [
                        "loading object loader\n",
                        "Compartment: Cell, Channel: DNA\n",
                        "area size shape\n",
                        "area size shape took 1.8358116149902344 seconds\n",
                        "granularity\n"
                    ]
                },
                {
                    "ename": "KeyboardInterrupt",
                    "evalue": "",
                    "output_type": "error",
                    "traceback": [
                        "\u001b[0;31m---------------------------------------------------------------------------\u001b[0m",
                        "\u001b[0;31mKeyboardInterrupt\u001b[0m                         Traceback (most recent call last)",
                        "Cell \u001b[0;32mIn[8], line 32\u001b[0m\n\u001b[1;32m     30\u001b[0m \u001b[38;5;66;03m# granularity\u001b[39;00m\n\u001b[1;32m     31\u001b[0m \u001b[38;5;28;01mif\u001b[39;00m gpu:\n\u001b[0;32m---> 32\u001b[0m     object_measurements \u001b[38;5;241m=\u001b[39m \u001b[43mmeasure_3D_granularity_gpu\u001b[49m\u001b[43m(\u001b[49m\n\u001b[1;32m     33\u001b[0m \u001b[43m        \u001b[49m\u001b[43mobject_loader\u001b[49m\u001b[43m,\u001b[49m\n\u001b[1;32m     34\u001b[0m \u001b[43m        \u001b[49m\u001b[43mimage_set_loader\u001b[49m\u001b[43m,\u001b[49m\n\u001b[1;32m     35\u001b[0m \u001b[43m        \u001b[49m\u001b[43mradius\u001b[49m\u001b[38;5;241;43m=\u001b[39;49m\u001b[38;5;241;43m10\u001b[39;49m\u001b[43m,\u001b[49m\n\u001b[1;32m     36\u001b[0m \u001b[43m        \u001b[49m\u001b[43mgranular_spectrum_length\u001b[49m\u001b[38;5;241;43m=\u001b[39;49m\u001b[38;5;241;43m16\u001b[39;49m\u001b[43m,\u001b[49m\n\u001b[1;32m     37\u001b[0m \u001b[43m        \u001b[49m\u001b[43msubsample_size\u001b[49m\u001b[38;5;241;43m=\u001b[39;49m\u001b[38;5;241;43m0.25\u001b[39;49m\u001b[43m,\u001b[49m\n\u001b[1;32m     38\u001b[0m \u001b[43m        \u001b[49m\u001b[43mimage_name\u001b[49m\u001b[38;5;241;43m=\u001b[39;49m\u001b[43mchannel\u001b[49m\u001b[43m,\u001b[49m\n\u001b[1;32m     39\u001b[0m \u001b[43m    \u001b[49m\u001b[43m)\u001b[49m\n\u001b[1;32m     40\u001b[0m \u001b[38;5;28;01melse\u001b[39;00m:\n\u001b[1;32m     41\u001b[0m     object_measurements \u001b[38;5;241m=\u001b[39m measure_3D_granularity(\n\u001b[1;32m     42\u001b[0m         object_loader,\n\u001b[1;32m     43\u001b[0m         radius\u001b[38;5;241m=\u001b[39m\u001b[38;5;241m10\u001b[39m,\n\u001b[0;32m   (...)\u001b[0m\n\u001b[1;32m     46\u001b[0m         image_name\u001b[38;5;241m=\u001b[39mchannel,\n\u001b[1;32m     47\u001b[0m     )\n",
                        "File \u001b[0;32m~/Documents/GFF_3D_organoid_profiling_pipeline/2.cellprofiling/notebooks/../featurization/granularity.py:234\u001b[0m, in \u001b[0;36mmeasure_3D_granularity_gpu\u001b[0;34m(object_loader, image_set_loader, radius, granular_spectrum_length, subsample_size, image_name)\u001b[0m\n\u001b[1;32m    232\u001b[0m statistics \u001b[38;5;241m=\u001b[39m [image_name]\n\u001b[1;32m    233\u001b[0m feature_measurments \u001b[38;5;241m=\u001b[39m {}\n\u001b[0;32m--> 234\u001b[0m objects_records \u001b[38;5;241m=\u001b[39m [\u001b[43mObjectRecord\u001b[49m\u001b[43m(\u001b[49m\u001b[43mobject_loader\u001b[49m\u001b[38;5;241;43m=\u001b[39;49m\u001b[43mobject_loader\u001b[49m\u001b[43m,\u001b[49m\u001b[43m \u001b[49m\u001b[43mobject_index\u001b[49m\u001b[38;5;241;43m=\u001b[39;49m\u001b[43mobject_id\u001b[49m\u001b[43m)\u001b[49m \u001b[38;5;28;01mfor\u001b[39;00m object_id \u001b[38;5;129;01min\u001b[39;00m object_loader\u001b[38;5;241m.\u001b[39mobject_ids]\n\u001b[1;32m    235\u001b[0m object_measurements \u001b[38;5;241m=\u001b[39m {\u001b[38;5;124m\"\u001b[39m\u001b[38;5;124mobject_id\u001b[39m\u001b[38;5;124m\"\u001b[39m: [], \u001b[38;5;124m\"\u001b[39m\u001b[38;5;124mfeature\u001b[39m\u001b[38;5;124m\"\u001b[39m: [], \u001b[38;5;124m\"\u001b[39m\u001b[38;5;124mvalue\u001b[39m\u001b[38;5;124m\"\u001b[39m: []}\n\u001b[1;32m    236\u001b[0m \u001b[38;5;28;01mfor\u001b[39;00m i \u001b[38;5;129;01min\u001b[39;00m tqdm\u001b[38;5;241m.\u001b[39mtqdm(\u001b[38;5;28mrange\u001b[39m(\u001b[38;5;241m1\u001b[39m, granular_spectrum_length \u001b[38;5;241m+\u001b[39m \u001b[38;5;241m1\u001b[39m)):\n",
                        "File \u001b[0;32m~/Documents/GFF_3D_organoid_profiling_pipeline/2.cellprofiling/notebooks/../featurization/granularity.py:33\u001b[0m, in \u001b[0;36mObjectRecord.__init__\u001b[0;34m(self, object_loader, object_index)\u001b[0m\n\u001b[1;32m     28\u001b[0m \u001b[38;5;28mself\u001b[39m\u001b[38;5;241m.\u001b[39mimage[\u001b[38;5;28mself\u001b[39m\u001b[38;5;241m.\u001b[39mlabels \u001b[38;5;241m!=\u001b[39m object_index] \u001b[38;5;241m=\u001b[39m \u001b[38;5;241m0\u001b[39m\n\u001b[1;32m     30\u001b[0m \u001b[38;5;66;03m# self.labels[self.labels == object_index] = 1\u001b[39;00m\n\u001b[1;32m     31\u001b[0m \u001b[38;5;66;03m# self.labels[~object_index] = 0\u001b[39;00m\n\u001b[0;32m---> 33\u001b[0m \u001b[38;5;28mself\u001b[39m\u001b[38;5;241m.\u001b[39mnobjects \u001b[38;5;241m=\u001b[39m \u001b[38;5;28mlen\u001b[39m(\u001b[43mnumpy\u001b[49m\u001b[38;5;241;43m.\u001b[39;49m\u001b[43munique\u001b[49m\u001b[43m(\u001b[49m\u001b[38;5;28;43mself\u001b[39;49m\u001b[38;5;241;43m.\u001b[39;49m\u001b[43mlabels\u001b[49m\u001b[43m)\u001b[49m)\n\u001b[1;32m     34\u001b[0m \u001b[38;5;28;01mif\u001b[39;00m \u001b[38;5;28mself\u001b[39m\u001b[38;5;241m.\u001b[39mnobjects \u001b[38;5;241m!=\u001b[39m \u001b[38;5;241m0\u001b[39m:\n\u001b[1;32m     35\u001b[0m     \u001b[38;5;28mself\u001b[39m\u001b[38;5;241m.\u001b[39mrange \u001b[38;5;241m=\u001b[39m numpy\u001b[38;5;241m.\u001b[39marange(\u001b[38;5;241m1\u001b[39m, numpy\u001b[38;5;241m.\u001b[39mmax(\u001b[38;5;28mself\u001b[39m\u001b[38;5;241m.\u001b[39mlabels) \u001b[38;5;241m+\u001b[39m \u001b[38;5;241m1\u001b[39m)\n",
                        "File \u001b[0;32m~/miniforge3/envs/GFF_featurization/lib/python3.12/site-packages/numpy/lib/arraysetops.py:274\u001b[0m, in \u001b[0;36munique\u001b[0;34m(ar, return_index, return_inverse, return_counts, axis, equal_nan)\u001b[0m\n\u001b[1;32m    272\u001b[0m ar \u001b[38;5;241m=\u001b[39m np\u001b[38;5;241m.\u001b[39masanyarray(ar)\n\u001b[1;32m    273\u001b[0m \u001b[38;5;28;01mif\u001b[39;00m axis \u001b[38;5;129;01mis\u001b[39;00m \u001b[38;5;28;01mNone\u001b[39;00m:\n\u001b[0;32m--> 274\u001b[0m     ret \u001b[38;5;241m=\u001b[39m \u001b[43m_unique1d\u001b[49m\u001b[43m(\u001b[49m\u001b[43mar\u001b[49m\u001b[43m,\u001b[49m\u001b[43m \u001b[49m\u001b[43mreturn_index\u001b[49m\u001b[43m,\u001b[49m\u001b[43m \u001b[49m\u001b[43mreturn_inverse\u001b[49m\u001b[43m,\u001b[49m\u001b[43m \u001b[49m\u001b[43mreturn_counts\u001b[49m\u001b[43m,\u001b[49m\u001b[43m \u001b[49m\n\u001b[1;32m    275\u001b[0m \u001b[43m                    \u001b[49m\u001b[43mequal_nan\u001b[49m\u001b[38;5;241;43m=\u001b[39;49m\u001b[43mequal_nan\u001b[49m\u001b[43m)\u001b[49m\n\u001b[1;32m    276\u001b[0m     \u001b[38;5;28;01mreturn\u001b[39;00m _unpack_tuple(ret)\n\u001b[1;32m    278\u001b[0m \u001b[38;5;66;03m# axis was specified and not None\u001b[39;00m\n",
                        "File \u001b[0;32m~/miniforge3/envs/GFF_featurization/lib/python3.12/site-packages/numpy/lib/arraysetops.py:336\u001b[0m, in \u001b[0;36m_unique1d\u001b[0;34m(ar, return_index, return_inverse, return_counts, equal_nan)\u001b[0m\n\u001b[1;32m    334\u001b[0m     aux \u001b[38;5;241m=\u001b[39m ar[perm]\n\u001b[1;32m    335\u001b[0m \u001b[38;5;28;01melse\u001b[39;00m:\n\u001b[0;32m--> 336\u001b[0m     \u001b[43mar\u001b[49m\u001b[38;5;241;43m.\u001b[39;49m\u001b[43msort\u001b[49m\u001b[43m(\u001b[49m\u001b[43m)\u001b[49m\n\u001b[1;32m    337\u001b[0m     aux \u001b[38;5;241m=\u001b[39m ar\n\u001b[1;32m    338\u001b[0m mask \u001b[38;5;241m=\u001b[39m np\u001b[38;5;241m.\u001b[39mempty(aux\u001b[38;5;241m.\u001b[39mshape, dtype\u001b[38;5;241m=\u001b[39mnp\u001b[38;5;241m.\u001b[39mbool_)\n",
                        "\u001b[0;31mKeyboardInterrupt\u001b[0m: "
                    ]
                }
            ],
            "source": [
                "for compartment in tqdm(\n",
                "    image_set_loader.compartments, desc=\"Processing compartments\", position=0\n",
                "):\n",
                "    for channel in tqdm(\n",
                "        image_set_loader.image_names,\n",
                "        desc=\"Processing channels\",\n",
                "        leave=False,\n",
                "        position=1,\n",
                "    ):\n",
                "        # compartment = \"Organoid\"\n",
                "        # channel = \"AGP\"\n",
                "        print(\"loading object loader\")\n",
                "        object_loader = ObjectLoader(\n",
                "            image_set_loader.image_set_dict[channel],\n",
                "            image_set_loader.image_set_dict[compartment],\n",
                "            channel,\n",
                "            compartment,\n",
                "        )\n",
                "        print(f\"Compartment: {compartment}, Channel: {channel}\")\n",
                "        print(\"area size shape\")\n",
                "        start_time = time.time()\n",
                "        # area, size, shape\n",
                "        size_shape_dict = measure_3D_area_size_shape(\n",
                "            image_set_loader=image_set_loader,\n",
                "            object_loader=object_loader,\n",
                "        )\n",
                "        print(f\"area size shape took {time.time() - start_time} seconds\")\n",
                "        start_time = time.time()\n",
                "        print(\"granularity\")\n",
                "        # granularity\n",
                "        if gpu:\n",
                "            object_measurements = measure_3D_granularity_gpu(\n",
                "                object_loader,\n",
                "                image_set_loader,\n",
                "                radius=10,\n",
                "                granular_spectrum_length=16,\n",
                "                subsample_size=0.25,\n",
                "                image_name=channel,\n",
                "            )\n",
                "        else:\n",
                "            object_measurements = measure_3D_granularity(\n",
                "                object_loader,\n",
                "                radius=10,\n",
                "                granular_spectrum_length=16,\n",
                "                subsample_size=0.25,\n",
                "                image_name=channel,\n",
                "            )\n",
                "        print(f\"granularity took {time.time() - start_time} seconds\")\n",
                "        start_time = time.time()\n",
                "        print(\"intensity\")\n",
                "        # intensity\n",
                "        output_dict = measure_3D_intensity(object_loader)\n",
                "        print(f\"intensity took {time.time() - start_time} seconds\")\n",
                "        start_time = time.time()\n",
                "        print(\"neighbors\")\n",
                "        # neighbors\n",
                "        neighbors_out_dict = measure_3D_number_of_neighbors(\n",
                "            object_loader=object_loader,\n",
                "            distance_threshold=10,\n",
                "            anisotropy_factor=image_set_loader.anisotropy_factor,\n",
                "        )\n",
                "        print(f\"neighbors took {time.time() - start_time} seconds\")\n",
                "        if texture:\n",
                "            start_time = time.time()\n",
                "\n",
                "            output_texture_dict = measure_3D_texture(\n",
                "                object_loader=object_loader,\n",
                "                distance=1,\n",
                "            )\n",
                "            print(f\"texture took {time.time() - start_time} seconds\")\n",
                "        print(\"merging\")\n",
                "        start_time = time.time()\n",
                "\n",
                "        # merge the dataframes together\n",
                "        size_shape_df = pd.DataFrame(size_shape_dict)\n",
                "        # prepend the feature_type to the column names\n",
                "        size_shape_df.columns = [\"object_id\"] + [\n",
                "            \"AreaSizeShape_\" + col\n",
                "            for col in size_shape_df.columns\n",
                "            if col != \"object_id\"\n",
                "        ]\n",
                "        granularity_df = pd.DataFrame(object_measurements)\n",
                "        # pivot wide\n",
                "        granularity_df = granularity_df.pivot(\n",
                "            index=\"object_id\", columns=\"feature\", values=\"value\"\n",
                "        )\n",
                "        granularity_df.reset_index(inplace=True)\n",
                "        # prepend the feature_type to the column names\n",
                "        granularity_df.columns = [\"object_id\"] + [\n",
                "            \"Granularity_\" + col for col in granularity_df.columns if col != \"object_id\"\n",
                "        ]\n",
                "        intensity_df = pd.DataFrame(output_dict)\n",
                "        # pivot wide\n",
                "        intensity_df = intensity_df.pivot(\n",
                "            index=\"object_id\", columns=\"feature_name\", values=\"value\"\n",
                "        )\n",
                "        intensity_df.reset_index(inplace=True)\n",
                "        # prepend the feature_type to the column names\n",
                "        intensity_df.columns = [\"object_id\"] + [\n",
                "            \"Intensity_\" + col for col in intensity_df.columns if col != \"object_id\"\n",
                "        ]\n",
                "        neighbors_df = pd.DataFrame(neighbors_out_dict)\n",
                "        # prepend the feature_type to the column names\n",
                "        neighbors_df.columns = [\"object_id\"] + [\n",
                "            \"Neighbors_\" + col for col in neighbors_df.columns if col != \"object_id\"\n",
                "        ]\n",
                "        final_df = pd.merge(\n",
                "            size_shape_df, granularity_df, left_on=\"object_id\", right_on=\"object_id\"\n",
                "        )\n",
                "        final_df = pd.merge(\n",
                "            final_df, intensity_df, left_on=\"object_id\", right_on=\"object_id\"\n",
                "        )\n",
                "        final_df = pd.merge(\n",
                "            final_df, neighbors_df, left_on=\"object_id\", right_on=\"object_id\"\n",
                "        )\n",
                "        # prepend compartment and channel to column names\n",
                "        final_df.columns = [\n",
                "            f\"{compartment}_{channel}_{col}\" for col in final_df.columns\n",
                "        ]\n",
                "        final_df[\"image_set\"] = image_set_loader.image_set_name\n",
                "        print(final_df.shape)\n",
                "        output_file = pathlib.Path(\n",
                "            f\"../results/{image_set_loader.image_set_name}_{compartment}_features.parquet\"\n",
                "        )\n",
                "        output_file.parent.mkdir(parents=True, exist_ok=True)\n",
                "        final_df.to_parquet(output_file)\n",
                "        print(\"Merging took\", time.time() - start_time)\n",
                "\n",
                "        # remove the objects initialized in the beginning of the loop\n",
                "        del object_loader\n",
                "        del size_shape_dict\n",
                "        del object_measurements\n",
                "        del output_dict\n",
                "        del neighbors_out_dict\n",
                "        if texture:\n",
                "            del output_texture_dict\n",
                "        del final_df\n",
                "        gc.collect()"
            ]
        },
        {
            "cell_type": "markdown",
            "metadata": {},
            "source": [
                "## Run Colocalization"
            ]
        },
        {
            "cell_type": "code",
            "execution_count": null,
            "metadata": {},
            "outputs": [],
            "source": [
                "# get all channel combinations\n",
                "channel_combinations = list(itertools.combinations(image_set_loader.image_names, 2))\n",
                "output_list_of_dfs = []\n",
                "for compartment in tqdm(\n",
                "    image_set_loader.compartments, desc=\"Processing compartments\", position=0\n",
                "):\n",
                "    for channel1, channel2 in tqdm(\n",
                "        channel_combinations,\n",
                "        desc=\"Processing channel combinations\",\n",
                "        leave=False,\n",
                "        position=1,\n",
                "    ):\n",
                "        # compartment = \"Organoid\"\n",
                "        # channel1 = \"AGP\"\n",
                "        # channel2 = \"ER\"\n",
                "\n",
                "        coloc_loader = TwoObjectLoader(\n",
                "            image_set_loader=image_set_loader,\n",
                "            compartment=compartment,\n",
                "            channel1=channel1,\n",
                "            channel2=channel2,\n",
                "        )\n",
                "        for object_id in tqdm(\n",
                "            coloc_loader.object_ids,\n",
                "            desc=\"Processing object IDs\",\n",
                "            leave=False,\n",
                "            position=2,\n",
                "        ):\n",
                "            cropped_image1, cropped_image2 = prepare_two_images_for_colocalization(\n",
                "                label_object1=coloc_loader.label_image,\n",
                "                label_object2=coloc_loader.label_image,\n",
                "                image_object1=coloc_loader.image1,\n",
                "                image_object2=coloc_loader.image2,\n",
                "                object_id1=object_id,\n",
                "                object_id2=object_id,\n",
                "            )\n",
                "            colocalization_features = measure_3D_colocalization(\n",
                "                cropped_image_1=cropped_image1,\n",
                "                cropped_image_2=cropped_image2,\n",
                "                thr=15,\n",
                "                fast_costes=\"Accurate\",\n",
                "            )\n",
                "            coloc_df = pd.DataFrame(colocalization_features, index=[0])\n",
                "            coloc_df[\"object_id\"] = object_id\n",
                "            # prepend compartment channel1 and channel2 to column names + colocalization\n",
                "            coloc_df.columns = [\n",
                "                f\"{compartment}_{channel1}_{channel2}_Colocalization_\" + col\n",
                "                for col in coloc_df.columns\n",
                "                if col != \"object_id\"\n",
                "            ] + [\"object_id\"]\n",
                "            output_list_of_dfs.append(coloc_df)\n",
                "        coloc_df = pd.concat(output_list_of_dfs)\n",
                "        coloc_df[\"image_set\"] = image_set_loader.image_set_name\n",
                "        print(coloc_df.shape)\n",
                "output_file = pathlib.Path(\n",
                "    f\"../results/{image_set_loader.image_set_name}_{compartment}_coloc_features.parquet\"\n",
                ")\n",
                "output_file.parent.mkdir(parents=True, exist_ok=True)\n",
                "final_df = pd.concat(output_list_of_dfs)\n",
                "final_df.to_parquet(output_file)"
            ]
        },
        {
            "cell_type": "code",
            "execution_count": null,
            "metadata": {},
            "outputs": [],
            "source": [
                "end = time.time()\n",
                "print(\n",
                "    f\"Time taken for {image_set_loader.image_set_name} featurization:\",\n",
                "    end - start_whole_featurize,\n",
                ")"
            ]
        }
    ],
    "metadata": {
        "kernelspec": {
            "display_name": "GFF_featurization",
            "language": "python",
            "name": "python3"
        },
        "language_info": {
            "codemirror_mode": {
                "name": "ipython",
                "version": 3
            },
            "file_extension": ".py",
            "mimetype": "text/x-python",
            "name": "python",
            "nbconvert_exporter": "python",
            "pygments_lexer": "ipython3",
            "version": "3.12.9"
        }
    },
    "nbformat": 4,
    "nbformat_minor": 2
}
