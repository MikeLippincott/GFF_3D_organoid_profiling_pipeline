{
    "cells": [
        {
            "cell_type": "code",
            "execution_count": 1,
            "metadata": {},
            "outputs": [],
            "source": [
                "import pathlib\n",
                "import sys\n",
                "import time\n",
                "\n",
                "sys.path.append(\"../featurization\")\n",
                "import itertools\n",
                "from typing import Dict\n",
                "\n",
                "import cucim.skimage.measure\n",
                "import cupy\n",
                "import cupyx\n",
                "import cupyx.scipy.ndimage\n",
                "import numpy as np\n",
                "import pandas as pd\n",
                "import scipy\n",
                "import skimage\n",
                "from colocalization_gpu import (\n",
                "    measure_3D_colocalization_gpu,\n",
                "    prepare_two_images_for_colocalization_gpu,\n",
                ")\n",
                "from data_writer import organize_featurization_data\n",
                "from loading_classes import ImageSetLoader, ObjectLoader, TwoObjectLoader\n",
                "\n",
                "try:\n",
                "    cfg = get_ipython().config\n",
                "    in_notebook = True\n",
                "except NameError:\n",
                "    in_notebook = False\n",
                "if in_notebook:\n",
                "    from tqdm.notebook import tqdm\n",
                "else:\n",
                "    from tqdm import tqdm\n",
                "\n",
                "import warnings\n",
                "\n",
                "warnings.filterwarnings(\"ignore\", category=RuntimeWarning)"
            ]
        },
        {
            "cell_type": "code",
            "execution_count": 2,
            "metadata": {},
            "outputs": [],
            "source": [
                "image_set_path = pathlib.Path(\"../../data/NF0014/cellprofiler/C4-2/\")"
            ]
        },
        {
            "cell_type": "code",
            "execution_count": 3,
            "metadata": {},
            "outputs": [],
            "source": [
                "channel_mapping = {\n",
                "    \"DNA\": \"405\",\n",
                "    \"AGP\": \"488\",\n",
                "    \"ER\": \"555\",\n",
                "    \"Mito\": \"640\",\n",
                "    \"BF\": \"TRANS\",\n",
                "    \"Nuclei\": \"nuclei_\",\n",
                "    \"Cell\": \"cell_\",\n",
                "    \"Cytoplasm\": \"cytoplasm_\",\n",
                "    \"Organoid\": \"organoid_\",\n",
                "}"
            ]
        },
        {
            "cell_type": "code",
            "execution_count": 4,
            "metadata": {},
            "outputs": [],
            "source": [
                "image_set_loader = ImageSetLoader(\n",
                "    image_set_path=image_set_path,\n",
                "    spacing=(1, 0.1, 0.1),\n",
                "    channel_mapping=channel_mapping,\n",
                ")"
            ]
        },
        {
            "cell_type": "code",
            "execution_count": 5,
            "metadata": {},
            "outputs": [],
            "source": [
                "# get all channel combinations\n",
                "channel_combinations = list(itertools.combinations(image_set_loader.image_names, 2))"
            ]
        },
        {
            "cell_type": "code",
            "execution_count": 6,
            "metadata": {},
            "outputs": [],
            "source": [
                "start_time = time.time()"
            ]
        },
        {
            "cell_type": "code",
            "execution_count": 7,
            "metadata": {},
            "outputs": [
                {
                    "data": {
                        "application/vnd.jupyter.widget-view+json": {
                            "model_id": "df3a77e6cc6941d281e8636304eb16ef",
                            "version_major": 2,
                            "version_minor": 0
                        },
                        "text/plain": [
                            "Processing compartments:   0%|          | 0/4 [00:00<?, ?it/s]"
                        ]
                    },
                    "metadata": {},
                    "output_type": "display_data"
                },
                {
                    "data": {
                        "application/vnd.jupyter.widget-view+json": {
                            "model_id": "ae0e6300fe72451ebcba1bbc4ca84d46",
                            "version_major": 2,
                            "version_minor": 0
                        },
                        "text/plain": [
                            "Processing channel combinations:   0%|          | 0/10 [00:00<?, ?it/s]"
                        ]
                    },
                    "metadata": {},
                    "output_type": "display_data"
                },
                {
                    "data": {
                        "application/vnd.jupyter.widget-view+json": {
                            "model_id": "a5cb43f8a364410083ebbc046b3b5281",
                            "version_major": 2,
                            "version_minor": 0
                        },
                        "text/plain": [
                            "Processing object IDs:   0%|          | 0/104 [00:00<?, ?it/s]"
                        ]
                    },
                    "metadata": {},
                    "output_type": "display_data"
                },
                {
                    "data": {
                        "application/vnd.jupyter.widget-view+json": {
                            "model_id": "d55c752406514317bb08fbcf581a1807",
                            "version_major": 2,
                            "version_minor": 0
                        },
                        "text/plain": [
                            "Processing object IDs:   0%|          | 0/104 [00:00<?, ?it/s]"
                        ]
                    },
                    "metadata": {},
                    "output_type": "display_data"
                },
                {
                    "data": {
                        "application/vnd.jupyter.widget-view+json": {
                            "model_id": "05a1d761c99d4595b78aa3d7f8d31323",
                            "version_major": 2,
                            "version_minor": 0
                        },
                        "text/plain": [
                            "Processing object IDs:   0%|          | 0/104 [00:00<?, ?it/s]"
                        ]
                    },
                    "metadata": {},
                    "output_type": "display_data"
                },
                {
                    "data": {
                        "application/vnd.jupyter.widget-view+json": {
                            "model_id": "d6649bd06f004f5ea95c7a24e89aae58",
                            "version_major": 2,
                            "version_minor": 0
                        },
                        "text/plain": [
                            "Processing object IDs:   0%|          | 0/104 [00:00<?, ?it/s]"
                        ]
                    },
                    "metadata": {},
                    "output_type": "display_data"
                },
                {
                    "data": {
                        "application/vnd.jupyter.widget-view+json": {
                            "model_id": "115c2d3847664ff99c9bd8028f94a482",
                            "version_major": 2,
                            "version_minor": 0
                        },
                        "text/plain": [
                            "Processing object IDs:   0%|          | 0/104 [00:00<?, ?it/s]"
                        ]
                    },
                    "metadata": {},
                    "output_type": "display_data"
                },
                {
                    "data": {
                        "application/vnd.jupyter.widget-view+json": {
                            "model_id": "a9f06dc2168f4374a8e8c4793d6b6d4c",
                            "version_major": 2,
                            "version_minor": 0
                        },
                        "text/plain": [
                            "Processing object IDs:   0%|          | 0/104 [00:00<?, ?it/s]"
                        ]
                    },
                    "metadata": {},
                    "output_type": "display_data"
                },
                {
                    "data": {
                        "application/vnd.jupyter.widget-view+json": {
                            "model_id": "aef3ebf08eef44f7805151be058ce16b",
                            "version_major": 2,
                            "version_minor": 0
                        },
                        "text/plain": [
                            "Processing object IDs:   0%|          | 0/104 [00:00<?, ?it/s]"
                        ]
                    },
                    "metadata": {},
                    "output_type": "display_data"
                },
                {
                    "data": {
                        "application/vnd.jupyter.widget-view+json": {
                            "model_id": "ca7b134bb10146069bbf53a338e6c148",
                            "version_major": 2,
                            "version_minor": 0
                        },
                        "text/plain": [
                            "Processing object IDs:   0%|          | 0/104 [00:00<?, ?it/s]"
                        ]
                    },
                    "metadata": {},
                    "output_type": "display_data"
                },
                {
                    "data": {
                        "application/vnd.jupyter.widget-view+json": {
                            "model_id": "8467a20843e941ea9c94e875650c2189",
                            "version_major": 2,
                            "version_minor": 0
                        },
                        "text/plain": [
                            "Processing object IDs:   0%|          | 0/104 [00:00<?, ?it/s]"
                        ]
                    },
                    "metadata": {},
                    "output_type": "display_data"
                },
                {
                    "data": {
                        "application/vnd.jupyter.widget-view+json": {
                            "model_id": "766e395a57ad41358afb71477c5260a8",
                            "version_major": 2,
                            "version_minor": 0
                        },
                        "text/plain": [
                            "Processing object IDs:   0%|          | 0/104 [00:00<?, ?it/s]"
                        ]
                    },
                    "metadata": {},
                    "output_type": "display_data"
                },
                {
                    "data": {
                        "application/vnd.jupyter.widget-view+json": {
                            "model_id": "9e8715d3926b43af82405d858172c8d6",
                            "version_major": 2,
                            "version_minor": 0
                        },
                        "text/plain": [
                            "Processing channel combinations:   0%|          | 0/10 [00:00<?, ?it/s]"
                        ]
                    },
                    "metadata": {},
                    "output_type": "display_data"
                },
                {
                    "data": {
                        "application/vnd.jupyter.widget-view+json": {
                            "model_id": "f8dd0da8bd0148d2b22541b5acedb8fb",
                            "version_major": 2,
                            "version_minor": 0
                        },
                        "text/plain": [
                            "Processing object IDs:   0%|          | 0/104 [00:00<?, ?it/s]"
                        ]
                    },
                    "metadata": {},
                    "output_type": "display_data"
                },
                {
                    "data": {
                        "application/vnd.jupyter.widget-view+json": {
                            "model_id": "9726ddc0bdd94c7aac9fb657419ea542",
                            "version_major": 2,
                            "version_minor": 0
                        },
                        "text/plain": [
                            "Processing object IDs:   0%|          | 0/104 [00:00<?, ?it/s]"
                        ]
                    },
                    "metadata": {},
                    "output_type": "display_data"
                },
                {
                    "data": {
                        "application/vnd.jupyter.widget-view+json": {
                            "model_id": "b72aced44b6342b199755b6082c87ab3",
                            "version_major": 2,
                            "version_minor": 0
                        },
                        "text/plain": [
                            "Processing object IDs:   0%|          | 0/104 [00:00<?, ?it/s]"
                        ]
                    },
                    "metadata": {},
                    "output_type": "display_data"
                },
                {
                    "data": {
                        "application/vnd.jupyter.widget-view+json": {
                            "model_id": "99cb28aaa55a46cabe2348f4dfdc5955",
                            "version_major": 2,
                            "version_minor": 0
                        },
                        "text/plain": [
                            "Processing object IDs:   0%|          | 0/104 [00:00<?, ?it/s]"
                        ]
                    },
                    "metadata": {},
                    "output_type": "display_data"
                },
                {
                    "data": {
                        "application/vnd.jupyter.widget-view+json": {
                            "model_id": "b16d8e505d4c47a39c5044a516e6ea74",
                            "version_major": 2,
                            "version_minor": 0
                        },
                        "text/plain": [
                            "Processing object IDs:   0%|          | 0/104 [00:00<?, ?it/s]"
                        ]
                    },
                    "metadata": {},
                    "output_type": "display_data"
                },
                {
                    "data": {
                        "application/vnd.jupyter.widget-view+json": {
                            "model_id": "dbc659a6329049b9b8d59998ef67a74c",
                            "version_major": 2,
                            "version_minor": 0
                        },
                        "text/plain": [
                            "Processing object IDs:   0%|          | 0/104 [00:00<?, ?it/s]"
                        ]
                    },
                    "metadata": {},
                    "output_type": "display_data"
                },
                {
                    "data": {
                        "application/vnd.jupyter.widget-view+json": {
                            "model_id": "ed9aace343854ce38b3b4d2d8ba41d93",
                            "version_major": 2,
                            "version_minor": 0
                        },
                        "text/plain": [
                            "Processing object IDs:   0%|          | 0/104 [00:00<?, ?it/s]"
                        ]
                    },
                    "metadata": {},
                    "output_type": "display_data"
                },
                {
                    "data": {
                        "application/vnd.jupyter.widget-view+json": {
                            "model_id": "6e05706a6a6741e9b6002b9eb57d3b7b",
                            "version_major": 2,
                            "version_minor": 0
                        },
                        "text/plain": [
                            "Processing object IDs:   0%|          | 0/104 [00:00<?, ?it/s]"
                        ]
                    },
                    "metadata": {},
                    "output_type": "display_data"
                },
                {
                    "data": {
                        "application/vnd.jupyter.widget-view+json": {
                            "model_id": "ac11ff0b032e490ab44b6f4f3c2f2815",
                            "version_major": 2,
                            "version_minor": 0
                        },
                        "text/plain": [
                            "Processing object IDs:   0%|          | 0/104 [00:00<?, ?it/s]"
                        ]
                    },
                    "metadata": {},
                    "output_type": "display_data"
                },
                {
                    "data": {
                        "application/vnd.jupyter.widget-view+json": {
                            "model_id": "ecf724bbf7454e2995cc29a080fc87c3",
                            "version_major": 2,
                            "version_minor": 0
                        },
                        "text/plain": [
                            "Processing object IDs:   0%|          | 0/104 [00:00<?, ?it/s]"
                        ]
                    },
                    "metadata": {},
                    "output_type": "display_data"
                },
                {
                    "data": {
                        "application/vnd.jupyter.widget-view+json": {
                            "model_id": "01fe94486a89446d8c5e8a23aedc3184",
                            "version_major": 2,
                            "version_minor": 0
                        },
                        "text/plain": [
                            "Processing channel combinations:   0%|          | 0/10 [00:00<?, ?it/s]"
                        ]
                    },
                    "metadata": {},
                    "output_type": "display_data"
                },
                {
                    "data": {
                        "application/vnd.jupyter.widget-view+json": {
                            "model_id": "bdb45c06d82c49c5a06fd7421ed4fc06",
                            "version_major": 2,
                            "version_minor": 0
                        },
                        "text/plain": [
                            "Processing object IDs:   0%|          | 0/54 [00:00<?, ?it/s]"
                        ]
                    },
                    "metadata": {},
                    "output_type": "display_data"
                },
                {
                    "data": {
                        "application/vnd.jupyter.widget-view+json": {
                            "model_id": "3441fde84ccd4040956f0aea56349eb2",
                            "version_major": 2,
                            "version_minor": 0
                        },
                        "text/plain": [
                            "Processing object IDs:   0%|          | 0/54 [00:00<?, ?it/s]"
                        ]
                    },
                    "metadata": {},
                    "output_type": "display_data"
                },
                {
                    "data": {
                        "application/vnd.jupyter.widget-view+json": {
                            "model_id": "4a3387cd6a8247feba103ca61e77a03a",
                            "version_major": 2,
                            "version_minor": 0
                        },
                        "text/plain": [
                            "Processing object IDs:   0%|          | 0/54 [00:00<?, ?it/s]"
                        ]
                    },
                    "metadata": {},
                    "output_type": "display_data"
                },
                {
                    "data": {
                        "application/vnd.jupyter.widget-view+json": {
                            "model_id": "4cde89bd71f64cf69932c535f094c343",
                            "version_major": 2,
                            "version_minor": 0
                        },
                        "text/plain": [
                            "Processing object IDs:   0%|          | 0/54 [00:00<?, ?it/s]"
                        ]
                    },
                    "metadata": {},
                    "output_type": "display_data"
                },
                {
                    "data": {
                        "application/vnd.jupyter.widget-view+json": {
                            "model_id": "3494417bda2944119f0a4eb03fa1dadb",
                            "version_major": 2,
                            "version_minor": 0
                        },
                        "text/plain": [
                            "Processing object IDs:   0%|          | 0/54 [00:00<?, ?it/s]"
                        ]
                    },
                    "metadata": {},
                    "output_type": "display_data"
                },
                {
                    "data": {
                        "application/vnd.jupyter.widget-view+json": {
                            "model_id": "38f8705949934d42bb6ddc2831b7213f",
                            "version_major": 2,
                            "version_minor": 0
                        },
                        "text/plain": [
                            "Processing object IDs:   0%|          | 0/54 [00:00<?, ?it/s]"
                        ]
                    },
                    "metadata": {},
                    "output_type": "display_data"
                },
                {
                    "data": {
                        "application/vnd.jupyter.widget-view+json": {
                            "model_id": "f80019c0a6654ed1bba6a7849748a3d4",
                            "version_major": 2,
                            "version_minor": 0
                        },
                        "text/plain": [
                            "Processing object IDs:   0%|          | 0/54 [00:00<?, ?it/s]"
                        ]
                    },
                    "metadata": {},
                    "output_type": "display_data"
                },
                {
                    "data": {
                        "application/vnd.jupyter.widget-view+json": {
                            "model_id": "3c30384dfdca4a158b7c87e1ca2bdb2f",
                            "version_major": 2,
                            "version_minor": 0
                        },
                        "text/plain": [
                            "Processing object IDs:   0%|          | 0/54 [00:00<?, ?it/s]"
                        ]
                    },
                    "metadata": {},
                    "output_type": "display_data"
                },
                {
                    "data": {
                        "application/vnd.jupyter.widget-view+json": {
                            "model_id": "c7e60bfb2bcf4c6392127c6a816dd57c",
                            "version_major": 2,
                            "version_minor": 0
                        },
                        "text/plain": [
                            "Processing object IDs:   0%|          | 0/54 [00:00<?, ?it/s]"
                        ]
                    },
                    "metadata": {},
                    "output_type": "display_data"
                },
                {
                    "data": {
                        "application/vnd.jupyter.widget-view+json": {
                            "model_id": "0419885f0bb9490d8348a225ae435857",
                            "version_major": 2,
                            "version_minor": 0
                        },
                        "text/plain": [
                            "Processing object IDs:   0%|          | 0/54 [00:00<?, ?it/s]"
                        ]
                    },
                    "metadata": {},
                    "output_type": "display_data"
                },
                {
                    "data": {
                        "application/vnd.jupyter.widget-view+json": {
                            "model_id": "5996bc4d005c4f20915b1a3aa0fdbe6b",
                            "version_major": 2,
                            "version_minor": 0
                        },
                        "text/plain": [
                            "Processing channel combinations:   0%|          | 0/10 [00:00<?, ?it/s]"
                        ]
                    },
                    "metadata": {},
                    "output_type": "display_data"
                },
                {
                    "data": {
                        "application/vnd.jupyter.widget-view+json": {
                            "model_id": "5214bfd291e74a45ac19d5e3acf4cce0",
                            "version_major": 2,
                            "version_minor": 0
                        },
                        "text/plain": [
                            "Processing object IDs:   0%|          | 0/3 [00:00<?, ?it/s]"
                        ]
                    },
                    "metadata": {},
                    "output_type": "display_data"
                },
                {
                    "data": {
                        "application/vnd.jupyter.widget-view+json": {
                            "model_id": "afc07aac29304a8d81402ef303578cec",
                            "version_major": 2,
                            "version_minor": 0
                        },
                        "text/plain": [
                            "Processing object IDs:   0%|          | 0/3 [00:00<?, ?it/s]"
                        ]
                    },
                    "metadata": {},
                    "output_type": "display_data"
                },
                {
                    "data": {
                        "application/vnd.jupyter.widget-view+json": {
                            "model_id": "ecc2d47502784769b100146f4f1529f0",
                            "version_major": 2,
                            "version_minor": 0
                        },
                        "text/plain": [
                            "Processing object IDs:   0%|          | 0/3 [00:00<?, ?it/s]"
                        ]
                    },
                    "metadata": {},
                    "output_type": "display_data"
                },
                {
                    "data": {
                        "application/vnd.jupyter.widget-view+json": {
                            "model_id": "038263095cdb4d499b97de2a8fca1765",
                            "version_major": 2,
                            "version_minor": 0
                        },
                        "text/plain": [
                            "Processing object IDs:   0%|          | 0/3 [00:00<?, ?it/s]"
                        ]
                    },
                    "metadata": {},
                    "output_type": "display_data"
                },
                {
                    "data": {
                        "application/vnd.jupyter.widget-view+json": {
                            "model_id": "d7c509f507d2417cb8f4fbc4d9b926be",
                            "version_major": 2,
                            "version_minor": 0
                        },
                        "text/plain": [
                            "Processing object IDs:   0%|          | 0/3 [00:00<?, ?it/s]"
                        ]
                    },
                    "metadata": {},
                    "output_type": "display_data"
                },
                {
                    "data": {
                        "application/vnd.jupyter.widget-view+json": {
                            "model_id": "9792c9e543054395944c81bc0a484456",
                            "version_major": 2,
                            "version_minor": 0
                        },
                        "text/plain": [
                            "Processing object IDs:   0%|          | 0/3 [00:00<?, ?it/s]"
                        ]
                    },
                    "metadata": {},
                    "output_type": "display_data"
                },
                {
                    "data": {
                        "application/vnd.jupyter.widget-view+json": {
                            "model_id": "6aa287c712c84a45b94901746b7576d2",
                            "version_major": 2,
                            "version_minor": 0
                        },
                        "text/plain": [
                            "Processing object IDs:   0%|          | 0/3 [00:00<?, ?it/s]"
                        ]
                    },
                    "metadata": {},
                    "output_type": "display_data"
                },
                {
                    "data": {
                        "application/vnd.jupyter.widget-view+json": {
                            "model_id": "b979bb308a4449f0928c12bf0a224e4f",
                            "version_major": 2,
                            "version_minor": 0
                        },
                        "text/plain": [
                            "Processing object IDs:   0%|          | 0/3 [00:00<?, ?it/s]"
                        ]
                    },
                    "metadata": {},
                    "output_type": "display_data"
                },
                {
                    "data": {
                        "application/vnd.jupyter.widget-view+json": {
                            "model_id": "06b0c5a4e20346bda282e40c2ba96fb7",
                            "version_major": 2,
                            "version_minor": 0
                        },
                        "text/plain": [
                            "Processing object IDs:   0%|          | 0/3 [00:00<?, ?it/s]"
                        ]
                    },
                    "metadata": {},
                    "output_type": "display_data"
                },
                {
                    "data": {
                        "application/vnd.jupyter.widget-view+json": {
                            "model_id": "9e8d7c531c63454da5ea2292d04c3b2b",
                            "version_major": 2,
                            "version_minor": 0
                        },
                        "text/plain": [
                            "Processing object IDs:   0%|          | 0/3 [00:00<?, ?it/s]"
                        ]
                    },
                    "metadata": {},
                    "output_type": "display_data"
                }
            ],
            "source": [
                "for compartments in tqdm(\n",
                "    image_set_loader.compartments, desc=\"Processing compartments\", position=0\n",
                "):\n",
                "    for channel1, channel2 in tqdm(\n",
                "        channel_combinations,\n",
                "        desc=\"Processing channel combinations\",\n",
                "        leave=False,\n",
                "        position=1,\n",
                "    ):\n",
                "        coloc_loader = TwoObjectLoader(\n",
                "            image_set_loader=image_set_loader,\n",
                "            compartment=compartments,\n",
                "            channel1=channel1,\n",
                "            channel2=channel2,\n",
                "        )\n",
                "        for object_id in tqdm(\n",
                "            coloc_loader.object_ids,\n",
                "            desc=\"Processing object IDs\",\n",
                "            leave=False,\n",
                "            position=2,\n",
                "        ):\n",
                "            cropped_image1, cropped_image2 = prepare_two_images_for_colocalization_gpu(\n",
                "                label_object1=coloc_loader.label_image,\n",
                "                label_object2=coloc_loader.label_image,\n",
                "                image_object1=coloc_loader.image1,\n",
                "                image_object2=coloc_loader.image2,\n",
                "                object_id1=object_id,\n",
                "                object_id2=object_id,\n",
                "            )\n",
                "            colocalization_features = measure_3D_colocalization_gpu(\n",
                "                cropped_image_1=cropped_image1,\n",
                "                cropped_image_2=cropped_image2,\n",
                "                thr=15,\n",
                "                fast_costes=\"Accurate\",\n",
                "            )\n",
                "            coloc_df = pd.DataFrame(colocalization_features, index=[0])\n",
                "            coloc_df.columns = [\n",
                "                f\"{compartments}_{channel1}.{channel2}_{col}\"\n",
                "                for col in coloc_df.columns\n",
                "            ]\n",
                "            coloc_df[\"object_id\"] = object_id\n",
                "            coloc_df[\"channel1\"] = channel1\n",
                "            coloc_df[\"channel2\"] = channel2\n",
                "            coloc_df[\"compartment\"] = compartments\n",
                "            coloc_df[\"image_set\"] = image_set_loader.image_set_name\n",
                "        output_file = pathlib.Path(\n",
                "            f\"../results/{image_set_loader.image_set_name}/Colocalization_{compartments}_{channel1}.{channel2}_features.parquet\"\n",
                "        )\n",
                "        output_file.parent.mkdir(parents=True, exist_ok=True)\n",
                "        coloc_df.to_parquet(output_file)"
            ]
        },
        {
            "cell_type": "code",
            "execution_count": 8,
            "metadata": {},
            "outputs": [
                {
                    "name": "stdout",
                    "output_type": "stream",
                    "text": [
                        "Elapsed time: 2334.91 seconds\n"
                    ]
                }
            ],
            "source": [
                "print(f\"Elapsed time: {time.time() - start_time:.2f} seconds\")"
            ]
        }
    ],
    "metadata": {
        "kernelspec": {
            "display_name": "GFF_featurization",
            "language": "python",
            "name": "python3"
        },
        "language_info": {
            "codemirror_mode": {
                "name": "ipython",
                "version": 3
            },
            "file_extension": ".py",
            "mimetype": "text/x-python",
            "name": "python",
            "nbconvert_exporter": "python",
            "pygments_lexer": "ipython3",
            "version": "3.12.9"
        }
    },
    "nbformat": 4,
    "nbformat_minor": 2
}
