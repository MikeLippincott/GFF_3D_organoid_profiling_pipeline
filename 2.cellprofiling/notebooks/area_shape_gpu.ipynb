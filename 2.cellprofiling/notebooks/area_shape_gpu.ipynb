{
    "cells": [
        {
            "cell_type": "code",
            "execution_count": 1,
            "metadata": {},
            "outputs": [],
            "source": [
                "import pathlib\n",
                "import sys\n",
                "import time\n",
                "\n",
                "sys.path.append(\"../featurization_utils\")\n",
                "import numpy as np\n",
                "import pandas as pd\n",
                "import skimage\n",
                "from area_size_shape_utils_gpu import measure_3D_area_size_shape_gpu\n",
                "from loading_classes import ImageSetLoader, ObjectLoader\n",
                "\n",
                "try:\n",
                "    cfg = get_ipython().config\n",
                "    in_notebook = True\n",
                "except NameError:\n",
                "    in_notebook = False\n",
                "if in_notebook:\n",
                "    from tqdm.notebook import tqdm\n",
                "else:\n",
                "    from tqdm import tqdm\n",
                "\n",
                "import gc"
            ]
        },
        {
            "cell_type": "code",
            "execution_count": 2,
            "metadata": {},
            "outputs": [],
            "source": [
                "image_set_path = pathlib.Path(\"../../data/NF0014/cellprofiler/C4-2/\")"
            ]
        },
        {
            "cell_type": "code",
            "execution_count": 3,
            "metadata": {},
            "outputs": [],
            "source": [
                "channel_mapping = {\n",
                "    \"DNA\": \"405\",\n",
                "    \"AGP\": \"488\",\n",
                "    \"ER\": \"555\",\n",
                "    \"Mito\": \"640\",\n",
                "    \"BF\": \"TRANS\",\n",
                "    \"Nuclei\": \"nuclei_\",\n",
                "    \"Cell\": \"cell_\",\n",
                "    \"Cytoplasm\": \"cytoplasm_\",\n",
                "    \"Organoid\": \"organoid_\",\n",
                "}"
            ]
        },
        {
            "cell_type": "code",
            "execution_count": 7,
            "metadata": {},
            "outputs": [
                {
                    "data": {
                        "text/plain": [
                            "dict_keys([])"
                        ]
                    },
                    "execution_count": 7,
                    "metadata": {},
                    "output_type": "execute_result"
                }
            ],
            "source": [
                "image_set_loader = ImageSetLoader(\n",
                "    image_set_path=image_set_path,\n",
                "    spacing=(1, 0.1, 0.1),\n",
                "    channel_mapping=channel_mapping,\n",
                ")\n",
                "image_set_loader.image_set_dict.keys()"
            ]
        },
        {
            "cell_type": "code",
            "execution_count": 5,
            "metadata": {},
            "outputs": [],
            "source": [
                "start_time = time.time()"
            ]
        },
        {
            "cell_type": "code",
            "execution_count": 6,
            "metadata": {},
            "outputs": [
                {
                    "ename": "KeyError",
                    "evalue": "'DNA'",
                    "output_type": "error",
                    "traceback": [
                        "\u001b[0;31m---------------------------------------------------------------------------\u001b[0m",
                        "\u001b[0;31mKeyError\u001b[0m                                  Traceback (most recent call last)",
                        "Cell \u001b[0;32mIn[6], line 15\u001b[0m\n\u001b[1;32m     11\u001b[0m channel \u001b[38;5;241m=\u001b[39m \u001b[38;5;124m\"\u001b[39m\u001b[38;5;124mDNA\u001b[39m\u001b[38;5;124m\"\u001b[39m\n\u001b[1;32m     12\u001b[0m compartment \u001b[38;5;241m=\u001b[39m \u001b[38;5;124m\"\u001b[39m\u001b[38;5;124mNuclei\u001b[39m\u001b[38;5;124m\"\u001b[39m\n\u001b[1;32m     14\u001b[0m object_loader \u001b[38;5;241m=\u001b[39m ObjectLoader(\n\u001b[0;32m---> 15\u001b[0m     \u001b[43mimage_set_loader\u001b[49m\u001b[38;5;241;43m.\u001b[39;49m\u001b[43mimage_set_dict\u001b[49m\u001b[43m[\u001b[49m\u001b[43mchannel\u001b[49m\u001b[43m]\u001b[49m,\n\u001b[1;32m     16\u001b[0m     image_set_loader\u001b[38;5;241m.\u001b[39mimage_set_dict[compartment],\n\u001b[1;32m     17\u001b[0m     channel,\n\u001b[1;32m     18\u001b[0m     compartment,\n\u001b[1;32m     19\u001b[0m )\n\u001b[1;32m     21\u001b[0m \u001b[38;5;66;03m# area, size, shape\u001b[39;00m\n\u001b[1;32m     22\u001b[0m size_shape_dict \u001b[38;5;241m=\u001b[39m measure_3D_area_size_shape_gpu(\n\u001b[1;32m     23\u001b[0m     image_set_loader\u001b[38;5;241m=\u001b[39mimage_set_loader,\n\u001b[1;32m     24\u001b[0m     object_loader\u001b[38;5;241m=\u001b[39mobject_loader,\n\u001b[1;32m     25\u001b[0m )\n",
                        "\u001b[0;31mKeyError\u001b[0m: 'DNA'"
                    ]
                }
            ],
            "source": [
                "# for compartment in tqdm(\n",
                "#     image_set_loader.compartments, desc=\"Processing compartments\", position=0\n",
                "# ):\n",
                "#     for channel in tqdm(\n",
                "#         image_set_loader.image_names,\n",
                "#         desc=\"Processing channels\",\n",
                "#         leave=False,\n",
                "#         position=1,\n",
                "#     ):\n",
                "\n",
                "channel = \"DNA\"\n",
                "compartment = \"Nuclei\"\n",
                "\n",
                "object_loader = ObjectLoader(\n",
                "    image_set_loader.image_set_dict[channel],\n",
                "    image_set_loader.image_set_dict[compartment],\n",
                "    channel,\n",
                "    compartment,\n",
                ")\n",
                "\n",
                "# area, size, shape\n",
                "size_shape_dict = measure_3D_area_size_shape_gpu(\n",
                "    image_set_loader=image_set_loader,\n",
                "    object_loader=object_loader,\n",
                ")\n",
                "final_df = pd.DataFrame(size_shape_dict)\n",
                "# prepend compartment and channel to column names\n",
                "final_df.columns = [f\"{compartment}_{channel}_{col}\" for col in final_df.columns]\n",
                "final_df[\"image_set\"] = image_set_loader.image_set_name\n",
                "\n",
                "output_file = pathlib.Path(\n",
                "    f\"../results/{image_set_loader.image_set_name}/AreaSize_Shape_{compartment}_{channel}_features.parquet\"\n",
                ")\n",
                "output_file.parent.mkdir(parents=True, exist_ok=True)\n",
                "final_df.to_parquet(output_file)"
            ]
        },
        {
            "cell_type": "code",
            "execution_count": null,
            "metadata": {},
            "outputs": [],
            "source": [
                "print(f\"Elapsed time: {time.time() - start_time:.2f} seconds\")"
            ]
        }
    ],
    "metadata": {
        "kernelspec": {
            "display_name": "GFF_featurization",
            "language": "python",
            "name": "python3"
        },
        "language_info": {
            "codemirror_mode": {
                "name": "ipython",
                "version": 3
            },
            "file_extension": ".py",
            "mimetype": "text/x-python",
            "name": "python",
            "nbconvert_exporter": "python",
            "pygments_lexer": "ipython3",
            "version": "3.12.9"
        }
    },
    "nbformat": 4,
    "nbformat_minor": 2
}
