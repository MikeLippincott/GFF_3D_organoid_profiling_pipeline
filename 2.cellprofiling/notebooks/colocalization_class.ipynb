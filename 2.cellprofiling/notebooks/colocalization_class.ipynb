{
    "cells": [
        {
            "cell_type": "code",
            "execution_count": 3,
            "metadata": {},
            "outputs": [],
            "source": [
                "import pathlib\n",
                "import sys\n",
                "\n",
                "import matplotlib.pyplot as plt\n",
                "import numpy as np\n",
                "import pandas as pd\n",
                "import scipy.ndimage\n",
                "import scipy.signal\n",
                "import skimage\n",
                "import skimage.io as io\n",
                "import skimage.morphology\n",
                "import skimage.segmentation\n",
                "from centrosome.cpmorphology import fixup_scipy_ndimage_result as fix\n",
                "from scipy.linalg import lstsq\n",
                "\n",
                "sys.path.append(\"../featurization\")\n",
                "import numpy\n",
                "from area_size_shape import calulate_surface_area, measure_3D_area_size_shape\n",
                "from colocalization import calculate_3D_colocalization\n",
                "from data_writer import organize_featurization_data\n",
                "from granularity import measure_3D_granularity\n",
                "from intensity import measure_3D_intensity\n",
                "from loading_classes import Featurization, ImageSetLoader, ObjectLoader\n",
                "from neighbors import measure_3D_number_of_neighbors\n",
                "from texture import measure_3D_texture\n",
                "from two_object_loading_classes import TwoObjectImageSetLoader"
            ]
        },
        {
            "cell_type": "code",
            "execution_count": 4,
            "metadata": {},
            "outputs": [],
            "source": [
                "channel_mapping = {\n",
                "    \"nuclei\": \"405\",\n",
                "    \"AGP\": \"488\",\n",
                "    \"ER\": \"555\",\n",
                "    \"Mito\": \"640\",\n",
                "    \"BF\": \"TRANS\",\n",
                "    \"nuclei_mask\": \"nuclei_\",\n",
                "    \"cell_mask\": \"cell_\",\n",
                "    \"cytoplasm_mask\": \"cytoplasm_\",\n",
                "    \"organoid_mask\": \"organoid_\",\n",
                "}"
            ]
        },
        {
            "cell_type": "code",
            "execution_count": 5,
            "metadata": {},
            "outputs": [],
            "source": [
                "image_set_path = pathlib.Path(\"../../data/NF0014/cellprofiler/C4-2/\")"
            ]
        },
        {
            "cell_type": "code",
            "execution_count": 9,
            "metadata": {},
            "outputs": [
                {
                    "name": "stdout",
                    "output_type": "stream",
                    "text": [
                        "['nuclei', 'AGP', 'ER', 'Mito', 'BF']\n",
                        "dict_keys(['cell_mask', 'cytoplasm_mask', 'nuclei_mask', 'organoid_mask'])\n",
                        "['cell_mask', 'cytoplasm_mask', 'nuclei_mask', 'organoid_mask']\n"
                    ]
                }
            ],
            "source": [
                "image_set_loader = ImageSetLoader(\n",
                "    image_set_path=image_set_path,\n",
                "    spacing=(1, 0.1, 0.1),\n",
                "    channel_mapping=channel_mapping,\n",
                ")\n",
                "image_set_loader.retrieve_image_attributes()\n",
                "print(image_set_loader.image_names)\n",
                "print(image_set_loader.unique_compartment_objects.keys())\n",
                "print(image_set_loader.compartments)"
            ]
        },
        {
            "cell_type": "code",
            "execution_count": 45,
            "metadata": {},
            "outputs": [
                {
                    "name": "stdout",
                    "output_type": "stream",
                    "text": [
                        "190\n"
                    ]
                }
            ],
            "source": [
                "# get all combinations of channels, compartments, and objects\n",
                "unique_object = 1\n",
                "object_compartment_channel_measuremnt_pair = []\n",
                "for channel in image_set_loader.image_names:\n",
                "    for compartment in image_set_loader.compartments:\n",
                "        object_compartment_channel_measuremnt_pair.append((channel, compartment))\n",
                "\n",
                "# combination of object_compartment_channel_pair\n",
                "combinations = []\n",
                "import itertools\n",
                "\n",
                "combinations = list(\n",
                "    itertools.combinations(object_compartment_channel_measuremnt_pair, 2)\n",
                ")\n",
                "\n",
                "print(len(combinations))\n",
                "combinations\n",
                "\n",
                "channel1, compartment1 = combinations[0][0]\n",
                "channel2, compartment2 = combinations[0][1]"
            ]
        },
        {
            "cell_type": "code",
            "execution_count": 46,
            "metadata": {},
            "outputs": [],
            "source": [
                "coloc_class = ColocalizationTwoObject_Loader(\n",
                "    image_set_loader=image_set_loader,\n",
                "    image1=image_set_loader.image_set_dict[channel1],\n",
                "    label_image1=image_set_loader.image_set_dict[compartment1],\n",
                "    compartment1=compartment1,\n",
                "    object1=unique_object,\n",
                "    image2=image_set_loader.image_set_dict[channel2],\n",
                "    label_image2=image_set_loader.image_set_dict[compartment2],\n",
                "    compartment2=compartment2,\n",
                "    object2=unique_object,\n",
                ")"
            ]
        },
        {
            "cell_type": "code",
            "execution_count": 47,
            "metadata": {},
            "outputs": [
                {
                    "name": "stderr",
                    "output_type": "stream",
                    "text": [
                        "/home/lippincm/Documents/GFF_3D_organoid_profiling_pipeline/2.cellprofiling/notebooks/../featurization/colocalization.py:161: RuntimeWarning: invalid value encountered in divide\n",
                        "  corr = scipy.ndimage.sum(x * y / (std1 * std2))\n",
                        "/home/lippincm/Documents/GFF_3D_organoid_profiling_pipeline/2.cellprofiling/notebooks/../featurization/colocalization.py:180: RuntimeWarning: invalid value encountered in divide\n",
                        "  M1 = scipy.ndimage.sum(fi_thresh) / numpy.array(tot_fi_thr)\n",
                        "/home/lippincm/Documents/GFF_3D_organoid_profiling_pipeline/2.cellprofiling/notebooks/../featurization/colocalization.py:181: RuntimeWarning: invalid value encountered in divide\n",
                        "  M2 = scipy.ndimage.sum(si_thresh) / numpy.array(tot_si_thr)\n",
                        "/home/lippincm/Documents/GFF_3D_organoid_profiling_pipeline/2.cellprofiling/notebooks/../featurization/colocalization.py:195: RuntimeWarning: invalid value encountered in scalar divide\n",
                        "  scipy.ndimage.sum(\n",
                        "/home/lippincm/Documents/GFF_3D_organoid_profiling_pipeline/2.cellprofiling/notebooks/../featurization/colocalization.py:200: RuntimeWarning: invalid value encountered in divide\n",
                        "  K1 = scipy.ndimage.sum(\n",
                        "/home/lippincm/Documents/GFF_3D_organoid_profiling_pipeline/2.cellprofiling/notebooks/../featurization/colocalization.py:203: RuntimeWarning: invalid value encountered in divide\n",
                        "  K2 = scipy.ndimage.sum(\n",
                        "/home/lippincm/miniforge3/envs/GFF_featurization/lib/python3.12/site-packages/numpy/core/fromnumeric.py:3787: RuntimeWarning: Degrees of freedom <= 0 for slice\n",
                        "  return _methods._var(a, axis=axis, dtype=dtype, out=out, ddof=ddof,\n",
                        "/home/lippincm/miniforge3/envs/GFF_featurization/lib/python3.12/site-packages/numpy/core/_methods.py:163: RuntimeWarning: invalid value encountered in divide\n",
                        "  arrmean = um.true_divide(arrmean, div, out=arrmean,\n",
                        "/home/lippincm/miniforge3/envs/GFF_featurization/lib/python3.12/site-packages/numpy/core/_methods.py:198: RuntimeWarning: invalid value encountered in scalar divide\n",
                        "  ret = ret.dtype.type(ret / rcount)\n",
                        "/home/lippincm/miniforge3/envs/GFF_featurization/lib/python3.12/site-packages/numpy/core/fromnumeric.py:3504: RuntimeWarning: Mean of empty slice.\n",
                        "  return _methods._mean(a, axis=axis, dtype=dtype,\n",
                        "/home/lippincm/miniforge3/envs/GFF_featurization/lib/python3.12/site-packages/numpy/core/_methods.py:129: RuntimeWarning: invalid value encountered in scalar divide\n",
                        "  ret = ret.dtype.type(ret / rcount)\n",
                        "/home/lippincm/Documents/GFF_3D_organoid_profiling_pipeline/2.cellprofiling/notebooks/../featurization/colocalization.py:123: ConstantInputWarning: An input array is constant; the correlation coefficient is not defined.\n",
                        "  costReg, _ = scipy.stats.pearsonr(fi[combt], si[combt])\n",
                        "/home/lippincm/Documents/GFF_3D_organoid_profiling_pipeline/2.cellprofiling/notebooks/../featurization/colocalization.py:238: RuntimeWarning: invalid value encountered in divide\n",
                        "  C1 = scipy.ndimage.sum(fi_thresh_c) / numpy.array(tot_fi_thr_c)\n",
                        "/home/lippincm/Documents/GFF_3D_organoid_profiling_pipeline/2.cellprofiling/notebooks/../featurization/colocalization.py:239: RuntimeWarning: invalid value encountered in divide\n",
                        "  C2 = scipy.ndimage.sum(si_thresh_c) / numpy.array(tot_si_thr_c)\n"
                    ]
                },
                {
                    "data": {
                        "text/plain": [
                            "{'colocalization_Mean Correlation coeff': nan,\n",
                            " 'colocalization_Median Correlation coeff': nan,\n",
                            " 'colocalization_Min Correlation coeff': nan,\n",
                            " 'colocalization_Max Correlation coeff': nan,\n",
                            " 'colocalization_Mean Manders coeff_M1': nan,\n",
                            " 'colocalization_Median Manders coeff_M1': nan,\n",
                            " 'colocalization_Min Manders coeff_M1': nan,\n",
                            " 'colocalization_Max Manders coeff_M1': nan,\n",
                            " 'colocalization_Mean Manders coeff_M2': nan,\n",
                            " 'colocalization_Median Manders coeff_M2': nan,\n",
                            " 'colocalization_Min Manders coeff_M2': nan,\n",
                            " 'colocalization_Max Manders coeff_M2': nan,\n",
                            " 'colocalization_Mean_overlap_coeff': nan,\n",
                            " 'colocalization_Median_overlap_coeff': nan,\n",
                            " 'colocalization_Min_overlap_coeff': nan,\n",
                            " 'colocalization_Max_overlap_coeff': nan,\n",
                            " 'colocalization_Mean_K1': nan,\n",
                            " 'colocalization_Median_K1': nan,\n",
                            " 'colocalization_Min_K1': nan,\n",
                            " 'colocalization_Max_K1': nan,\n",
                            " 'colocalization_Mean_K2': nan,\n",
                            " 'colocalization_Median_K2': nan,\n",
                            " 'colocalization_Min_K2': nan,\n",
                            " 'colocalization_Max_K2': nan,\n",
                            " 'colocalization_Mean_Manders_Coeff(costes)_M1': nan,\n",
                            " 'colocalization_Median_Manders_Coeff(costes)_M1': nan,\n",
                            " 'colocalization_Min_Manders_Coeff(costes)_M1': nan,\n",
                            " 'colocalization_Max_Manders_Coeff(costes)_M1': nan,\n",
                            " 'colocalization_Mean_Manders_Coeff(costes)_M2': nan,\n",
                            " 'colocalization_Median_Manders_Coeff(costes)_M2': nan,\n",
                            " 'colocalization_Min_Manders_Coeff(costes)_M2': nan,\n",
                            " 'colocalization_Max_Manders_Coeff(costes)_M2': nan}"
                        ]
                    },
                    "execution_count": 47,
                    "metadata": {},
                    "output_type": "execute_result"
                }
            ],
            "source": [
                "featurizer = ColocalizationFeaturization(\n",
                "    image_set_loader=image_set_loader,\n",
                "    two_object_loader=coloc_class,\n",
                ")\n",
                "features = featurizer.process_features_for_output()\n",
                "features"
            ]
        },
        {
            "cell_type": "code",
            "execution_count": null,
            "metadata": {},
            "outputs": [],
            "source": []
        },
        {
            "cell_type": "code",
            "execution_count": null,
            "metadata": {},
            "outputs": [],
            "source": []
        },
        {
            "cell_type": "code",
            "execution_count": null,
            "metadata": {},
            "outputs": [],
            "source": []
        },
        {
            "cell_type": "code",
            "execution_count": null,
            "metadata": {},
            "outputs": [],
            "source": []
        }
    ],
    "metadata": {
        "kernelspec": {
            "display_name": "GFF_featurization",
            "language": "python",
            "name": "python3"
        },
        "language_info": {
            "codemirror_mode": {
                "name": "ipython",
                "version": 3
            },
            "file_extension": ".py",
            "mimetype": "text/x-python",
            "name": "python",
            "nbconvert_exporter": "python",
            "pygments_lexer": "ipython3",
            "version": "3.12.9"
        }
    },
    "nbformat": 4,
    "nbformat_minor": 2
}
