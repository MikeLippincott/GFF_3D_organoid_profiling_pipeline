{
    "cells": [
        {
            "cell_type": "code",
            "execution_count": null,
            "metadata": {},
            "outputs": [],
            "source": [
                "import argparse\n",
                "import os\n",
                "import pathlib\n",
                "import sys\n",
                "import time\n",
                "\n",
                "import psutil\n",
                "\n",
                "sys.path.append(\"../featurization_utils\")\n",
                "import numpy as np\n",
                "import pandas as pd\n",
                "import scipy\n",
                "import skimage\n",
                "from loading_classes import ImageSetLoader, ObjectLoader\n",
                "from neighbors_utils import measure_3D_number_of_neighbors\n",
                "from resource_profiling_util import get_mem_and_time_profiling\n",
                "\n",
                "try:\n",
                "    cfg = get_ipython().config\n",
                "    in_notebook = True\n",
                "except NameError:\n",
                "    in_notebook = False\n",
                "if in_notebook:\n",
                "    from tqdm.notebook import tqdm\n",
                "else:\n",
                "    from tqdm import tqdm"
            ]
        },
        {
            "cell_type": "code",
            "execution_count": null,
            "metadata": {},
            "outputs": [],
            "source": [
                "if not in_notebook:\n",
                "    argparser = argparse.ArgumentParser()\n",
                "    argparser.add_argument(\n",
                "        \"--well_fov\",\n",
                "        type=str,\n",
                "        default=\"None\",\n",
                "        help=\"Well and field of view to process, e.g. 'A01_1'\",\n",
                "    )\n",
                "\n",
                "    args = argparser.parse_args()\n",
                "    well_fov = args.well_fov\n",
                "    if well_fov == \"None\":\n",
                "        raise ValueError(\n",
                "            \"Please provide a well and field of view to process, e.g. 'A01_1'\"\n",
                "        )\n",
                "\n",
                "    image_set_path = pathlib.Path(f\"../../data/NF0014/cellprofiler/{well_fov}/\")\n",
                "else:\n",
                "    well_fov = \"C4-2\"\n",
                "    image_set_path = pathlib.Path(f\"../../data/NF0014/cellprofiler/{well_fov}/\")"
            ]
        },
        {
            "cell_type": "code",
            "execution_count": 3,
            "metadata": {},
            "outputs": [],
            "source": [
                "channel_n_compartment_mapping = {\n",
                "    \"DNA\": \"405\",\n",
                "    \"AGP\": \"488\",\n",
                "    \"ER\": \"555\",\n",
                "    \"Mito\": \"640\",\n",
                "    \"BF\": \"TRANS\",\n",
                "    \"Nuclei\": \"nuclei_\",\n",
                "    \"Cell\": \"cell_\",\n",
                "    \"Cytoplasm\": \"cytoplasm_\",\n",
                "    \"Organoid\": \"organoid_\",\n",
                "}"
            ]
        },
        {
            "cell_type": "code",
            "execution_count": 4,
            "metadata": {},
            "outputs": [],
            "source": [
                "image_set_loader = ImageSetLoader(\n",
                "    image_set_path=image_set_path,\n",
                "    anisotropy_spacing=(1, 0.1, 0.1),\n",
                "    channel_mapping=channel_n_compartment_mapping,\n",
                ")"
            ]
        },
        {
            "cell_type": "code",
            "execution_count": null,
            "metadata": {},
            "outputs": [],
            "source": [
                "start_time = time.time()\n",
                "# get starting memory (cpu)\n",
                "start_mem = psutil.Process(os.getpid()).memory_info().rss / 1024**2"
            ]
        },
        {
            "cell_type": "code",
            "execution_count": null,
            "metadata": {},
            "outputs": [
                {
                    "data": {
                        "text/html": [
                            "<div>\n",
                            "<style scoped>\n",
                            "    .dataframe tbody tr th:only-of-type {\n",
                            "        vertical-align: middle;\n",
                            "    }\n",
                            "\n",
                            "    .dataframe tbody tr th {\n",
                            "        vertical-align: top;\n",
                            "    }\n",
                            "\n",
                            "    .dataframe thead th {\n",
                            "        text-align: right;\n",
                            "    }\n",
                            "</style>\n",
                            "<table border=\"1\" class=\"dataframe\">\n",
                            "  <thead>\n",
                            "    <tr style=\"text-align: right;\">\n",
                            "      <th></th>\n",
                            "      <th>image_set</th>\n",
                            "      <th>object_id</th>\n",
                            "      <th>NEIGHBORS_ADJACENT</th>\n",
                            "      <th>NEIGHBORS_100</th>\n",
                            "    </tr>\n",
                            "  </thead>\n",
                            "  <tbody>\n",
                            "    <tr>\n",
                            "      <th>0</th>\n",
                            "      <td>C4-2</td>\n",
                            "      <td>1</td>\n",
                            "      <td>0</td>\n",
                            "      <td>5</td>\n",
                            "    </tr>\n",
                            "    <tr>\n",
                            "      <th>1</th>\n",
                            "      <td>C4-2</td>\n",
                            "      <td>2</td>\n",
                            "      <td>1</td>\n",
                            "      <td>15</td>\n",
                            "    </tr>\n",
                            "    <tr>\n",
                            "      <th>2</th>\n",
                            "      <td>C4-2</td>\n",
                            "      <td>3</td>\n",
                            "      <td>0</td>\n",
                            "      <td>4</td>\n",
                            "    </tr>\n",
                            "    <tr>\n",
                            "      <th>3</th>\n",
                            "      <td>C4-2</td>\n",
                            "      <td>4</td>\n",
                            "      <td>1</td>\n",
                            "      <td>10</td>\n",
                            "    </tr>\n",
                            "    <tr>\n",
                            "      <th>4</th>\n",
                            "      <td>C4-2</td>\n",
                            "      <td>5</td>\n",
                            "      <td>2</td>\n",
                            "      <td>10</td>\n",
                            "    </tr>\n",
                            "  </tbody>\n",
                            "</table>\n",
                            "</div>"
                        ],
                        "text/plain": [
                            "  image_set  object_id  NEIGHBORS_ADJACENT  NEIGHBORS_100\n",
                            "0      C4-2          1                   0              5\n",
                            "1      C4-2          2                   1             15\n",
                            "2      C4-2          3                   0              4\n",
                            "3      C4-2          4                   1             10\n",
                            "4      C4-2          5                   2             10"
                        ]
                    },
                    "execution_count": 6,
                    "metadata": {},
                    "output_type": "execute_result"
                }
            ],
            "source": [
                "# loop through each compartment and channel\n",
                "# and measure the number of neighbors\n",
                "# for each compartment\n",
                "\n",
                "compartment = \"Nuclei\"\n",
                "channel = \"DNA\"\n",
                "object_loader = ObjectLoader(\n",
                "    image_set_loader.image_set_dict[channel],\n",
                "    image_set_loader.image_set_dict[compartment],\n",
                "    channel,\n",
                "    compartment,\n",
                ")\n",
                "neighbors_out_dict = measure_3D_number_of_neighbors(\n",
                "    object_loader=object_loader,\n",
                "    distance_threshold=10,\n",
                "    anisotropy_factor=image_set_loader.anisotropy_factor,\n",
                ")\n",
                "final_df = pd.DataFrame(neighbors_out_dict)\n",
                "final_df.insert(0, \"image_set\", image_set_loader.image_set_name)\n",
                "\n",
                "output_file = pathlib.Path(\n",
                "    f\"../results/{image_set_loader.image_set_name}/Neighbors_{compartment}_{channel}_features.parquet\"\n",
                ")\n",
                "output_file.parent.mkdir(parents=True, exist_ok=True)\n",
                "final_df.to_parquet(output_file)\n",
                "final_df.head()"
            ]
        },
        {
            "cell_type": "code",
            "execution_count": null,
            "metadata": {},
            "outputs": [
                {
                    "name": "stdout",
                    "output_type": "stream",
                    "text": [
                        "Elapsed time: 20.93 seconds\n"
                    ]
                }
            ],
            "source": [
                "end_mem = psutil.Process(os.getpid()).memory_info().rss / 1024**2\n",
                "end_time = time.time()\n",
                "get_mem_and_time_profiling(\n",
                "    start_mem=start_mem,\n",
                "    end_mem=end_mem,\n",
                "    start_time=start_time,\n",
                "    end_time=end_time,\n",
                "    process_name=\"Neighbors\",\n",
                "    well_fov=well_fov,\n",
                "    CPU_GPU=\"CPU\",\n",
                ")"
            ]
        }
    ],
    "metadata": {
        "kernelspec": {
            "display_name": "GFF_featurization",
            "language": "python",
            "name": "python3"
        },
        "language_info": {
            "codemirror_mode": {
                "name": "ipython",
                "version": 3
            },
            "file_extension": ".py",
            "mimetype": "text/x-python",
            "name": "python",
            "nbconvert_exporter": "python",
            "pygments_lexer": "ipython3",
            "version": "3.12.9"
        }
    },
    "nbformat": 4,
    "nbformat_minor": 2
}
