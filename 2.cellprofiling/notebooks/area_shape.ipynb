{
    "cells": [
        {
            "cell_type": "code",
            "execution_count": null,
            "metadata": {},
            "outputs": [],
            "source": [
                "import argparse\n",
                "import os\n",
                "import pathlib\n",
                "import sys\n",
                "import time\n",
                "\n",
                "import psutil\n",
                "\n",
                "sys.path.append(\"../featurization_utils\")\n",
                "import numpy as np\n",
                "import pandas as pd\n",
                "import skimage\n",
                "from area_size_shape_utils import measure_3D_area_size_shape\n",
                "from loading_classes import ImageSetLoader, ObjectLoader\n",
                "\n",
                "try:\n",
                "    cfg = get_ipython().config\n",
                "    in_notebook = True\n",
                "except NameError:\n",
                "    in_notebook = False\n",
                "if in_notebook:\n",
                "    from tqdm.notebook import tqdm\n",
                "else:\n",
                "    from tqdm import tqdm\n",
                "\n",
                "import gc"
            ]
        },
        {
            "cell_type": "code",
            "execution_count": null,
            "metadata": {},
            "outputs": [],
            "source": [
                "if not in_notebook:\n",
                "    argparser = argparse.ArgumentParser()\n",
                "    argparser.add_argument(\n",
                "        \"--well_fov\",\n",
                "        type=str,\n",
                "        default=\"None\",\n",
                "        help=\"Well and field of view to process, e.g. 'A01_1'\",\n",
                "    )\n",
                "\n",
                "    args = argparser.parse_args()\n",
                "    well_fov = args.well_fov\n",
                "    if well_fov == \"None\":\n",
                "        raise ValueError(\n",
                "            \"Please provide a well and field of view to process, e.g. 'A01_1'\"\n",
                "        )\n",
                "\n",
                "    image_set_path = pathlib.Path(f\"../../data/NF0014/cellprofiler/{well_fov}/\")\n",
                "else:\n",
                "    well_fov = \"C4-2\"\n",
                "    image_set_path = pathlib.Path(f\"../../data/NF0014/cellprofiler/{well_fov}/\")"
            ]
        },
        {
            "cell_type": "code",
            "execution_count": null,
            "metadata": {},
            "outputs": [],
            "source": [
                "channel_n_compartment_mapping = {\n",
                "    \"DNA\": \"405\",\n",
                "    \"AGP\": \"488\",\n",
                "    \"ER\": \"555\",\n",
                "    \"Mito\": \"640\",\n",
                "    \"BF\": \"TRANS\",\n",
                "    \"Nuclei\": \"nuclei_\",\n",
                "    \"Cell\": \"cell_\",\n",
                "    \"Cytoplasm\": \"cytoplasm_\",\n",
                "    \"Organoid\": \"organoid_\",\n",
                "}"
            ]
        },
        {
            "cell_type": "code",
            "execution_count": null,
            "metadata": {},
            "outputs": [],
            "source": [
                "image_set_loader = ImageSetLoader(\n",
                "    image_set_path=image_set_path,\n",
                "    anisotropy_spacing=(1, 0.1, 0.1),\n",
                "    channel_mapping=channel_n_compartment_mapping,\n",
                ")"
            ]
        },
        {
            "cell_type": "code",
            "execution_count": null,
            "metadata": {},
            "outputs": [],
            "source": [
                "start_time = time.time()\n",
                "# get starting memory (cpu)\n",
                "start_mem = psutil.Process(os.getpid()).memory_info().rss / 1024**2"
            ]
        },
        {
            "cell_type": "code",
            "execution_count": null,
            "metadata": {},
            "outputs": [
                {
                    "data": {
                        "application/vnd.jupyter.widget-view+json": {
                            "model_id": "4f435304160042b3ae2aea6fa76106be",
                            "version_major": 2,
                            "version_minor": 0
                        },
                        "text/plain": [
                            "Processing compartments:   0%|          | 0/4 [00:00<?, ?it/s]"
                        ]
                    },
                    "metadata": {},
                    "output_type": "display_data"
                },
                {
                    "data": {
                        "application/vnd.jupyter.widget-view+json": {
                            "model_id": "3bbb45ce419e4a6ea62b84a3a1b2a232",
                            "version_major": 2,
                            "version_minor": 0
                        },
                        "text/plain": [
                            "Processing channels:   0%|          | 0/5 [00:00<?, ?it/s]"
                        ]
                    },
                    "metadata": {},
                    "output_type": "display_data"
                },
                {
                    "data": {
                        "application/vnd.jupyter.widget-view+json": {
                            "model_id": "735146638c29426da92abaf4a0016188",
                            "version_major": 2,
                            "version_minor": 0
                        },
                        "text/plain": [
                            "Processing channels:   0%|          | 0/5 [00:00<?, ?it/s]"
                        ]
                    },
                    "metadata": {},
                    "output_type": "display_data"
                },
                {
                    "data": {
                        "application/vnd.jupyter.widget-view+json": {
                            "model_id": "2d0d5085ad144b6cb0900cf6f44ad82f",
                            "version_major": 2,
                            "version_minor": 0
                        },
                        "text/plain": [
                            "Processing channels:   0%|          | 0/5 [00:00<?, ?it/s]"
                        ]
                    },
                    "metadata": {},
                    "output_type": "display_data"
                },
                {
                    "data": {
                        "application/vnd.jupyter.widget-view+json": {
                            "model_id": "432a4c0a71b8484abb251c514a5d6d3d",
                            "version_major": 2,
                            "version_minor": 0
                        },
                        "text/plain": [
                            "Processing channels:   0%|          | 0/5 [00:00<?, ?it/s]"
                        ]
                    },
                    "metadata": {},
                    "output_type": "display_data"
                }
            ],
            "source": [
                "for compartment in tqdm(\n",
                "    image_set_loader.compartments, desc=\"Processing compartments\", position=0\n",
                "):\n",
                "    for channel in tqdm(\n",
                "        image_set_loader.image_names,\n",
                "        desc=\"Processing channels\",\n",
                "        leave=False,\n",
                "        position=1,\n",
                "    ):\n",
                "        object_loader = ObjectLoader(\n",
                "            image_set_loader.image_set_dict[channel],\n",
                "            image_set_loader.image_set_dict[compartment],\n",
                "            channel,\n",
                "            compartment,\n",
                "        )\n",
                "\n",
                "        # area, size, shape\n",
                "        size_shape_dict = measure_3D_area_size_shape(\n",
                "            image_set_loader=image_set_loader,\n",
                "            object_loader=object_loader,\n",
                "        )\n",
                "        final_df = pd.DataFrame(size_shape_dict)\n",
                "\n",
                "        # prepend compartment and channel to column names\n",
                "        for col in final_df.columns:\n",
                "            if col not in [\"object_id\"]:\n",
                "                final_df.rename(\n",
                "                    columns={col: f\"Area.Size.Shape_{compartment}_{channel}_{col}\"},\n",
                "                    inplace=True,\n",
                "                )\n",
                "        final_df.insert(1, \"image_set\", image_set_loader.image_set_name)\n",
                "\n",
                "        output_file = pathlib.Path(\n",
                "            f\"../results/{image_set_loader.image_set_name}/AreaSize_Shape_{compartment}_{channel}_features.parquet\"\n",
                "        )\n",
                "        output_file.parent.mkdir(parents=True, exist_ok=True)\n",
                "        final_df.to_parquet(output_file)\n",
                "        final_df.head()"
            ]
        },
        {
            "cell_type": "code",
            "execution_count": null,
            "metadata": {},
            "outputs": [],
            "source": [
                "end_mem = psutil.Process(os.getpid()).memory_info().rss / 1024**2\n",
                "end_time = time.time()\n",
                "print(f\"Memory usage: {end_mem - start_mem:.2f} MB\")\n",
                "print(\"Texture time:\")\n",
                "print(\"--- %s seconds ---\" % (end_time - start_time))\n",
                "print(\"--- %s minutes ---\" % ((end_time - start_time) / 60))\n",
                "print(\"--- %s hours ---\" % ((end_time - start_time) / 3600))\n",
                "# make a df of the run stats\n",
                "run_stats = pd.DataFrame(\n",
                "    {\n",
                "        \"start_time\": [start_time],\n",
                "        \"end_time\": [end_time],\n",
                "        \"start_mem\": [start_mem],\n",
                "        \"end_mem\": [end_mem],\n",
                "        \"time_taken\": [(end_time - start_time)],\n",
                "        \"mem_usage\": [(end_mem - start_mem)],\n",
                "        \"gpu\": [None],\n",
                "        \"well_fov\": [well_fov],\n",
                "        \"feature_type\": [\"area_size_shape\"],\n",
                "    }\n",
                ")\n",
                "# save the run stats to a file\n",
                "run_stats_file = pathlib.Path(\n",
                "    f\"../results/run_stats/{well_fov}_area_size_shape.parquet\"\n",
                ")\n",
                "run_stats_file.parent.mkdir(parents=True, exist_ok=True)\n",
                "run_stats.to_parquet(run_stats_file)"
            ]
        }
    ],
    "metadata": {
        "kernelspec": {
            "display_name": "GFF_segmentation",
            "language": "python",
            "name": "python3"
        },
        "language_info": {
            "codemirror_mode": {
                "name": "ipython",
                "version": 3
            },
            "file_extension": ".py",
            "mimetype": "text/x-python",
            "name": "python",
            "nbconvert_exporter": "python",
            "pygments_lexer": "ipython3",
            "version": "3.11.11"
        }
    },
    "nbformat": 4,
    "nbformat_minor": 2
}
