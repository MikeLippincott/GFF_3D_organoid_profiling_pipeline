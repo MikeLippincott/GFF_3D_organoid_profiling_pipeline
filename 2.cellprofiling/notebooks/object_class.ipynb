{
    "cells": [
        {
            "cell_type": "code",
            "execution_count": 1,
            "metadata": {},
            "outputs": [],
            "source": [
                "import pathlib\n",
                "import sys\n",
                "\n",
                "import matplotlib.pyplot as plt\n",
                "import numpy as np\n",
                "import pandas as pd\n",
                "import scipy.ndimage\n",
                "import scipy.signal\n",
                "import skimage\n",
                "import skimage.io as io\n",
                "import skimage.morphology\n",
                "import skimage.segmentation\n",
                "from centrosome.cpmorphology import fixup_scipy_ndimage_result as fix\n",
                "from scipy.linalg import lstsq\n",
                "\n",
                "sys.path.append(\"../featurization\")\n",
                "import numpy\n",
                "from area_size_shape import calulate_surface_area, measure_3D_area_size_shape\n",
                "from colocalization import calculate_3D_colocalization\n",
                "from granularity import measure_3D_granularity\n",
                "from intensity import measure_3D_intensity\n",
                "from loading_classes import Featurization, ImageSetLoader, ObjectLoader\n",
                "from neighbors import measure_3D_number_of_neighbors\n",
                "from texture import measure_3D_texture"
            ]
        },
        {
            "cell_type": "code",
            "execution_count": 2,
            "metadata": {},
            "outputs": [],
            "source": [
                "channel_mapping = {\n",
                "    \"nuclei\": \"405\",\n",
                "    \"AGP\": \"488\",\n",
                "    \"ER\": \"555\",\n",
                "    \"Mito\": \"640\",\n",
                "    \"BF\": \"TRANS\",\n",
                "    \"nuclei_mask\": \"nuclei_\",\n",
                "    \"cell_mask\": \"cell_\",\n",
                "    \"cytoplasm_mask\": \"cytoplasm_\",\n",
                "    \"organoid_mask\": \"organoid_\",\n",
                "}"
            ]
        },
        {
            "cell_type": "code",
            "execution_count": 3,
            "metadata": {},
            "outputs": [],
            "source": [
                "image_set_path = pathlib.Path(\"../../data/NF0014/cellprofiler/C4-2/\")"
            ]
        },
        {
            "cell_type": "code",
            "execution_count": 4,
            "metadata": {},
            "outputs": [],
            "source": [
                "files = sorted(image_set_path.glob(\"*\"))\n",
                "files = [f for f in files if f.suffix in [\".tif\", \".tiff\"]]\n",
                "\n",
                "# Load images into a dictionary\n",
                "image_set_dict = {}\n",
                "for f in files:\n",
                "    for key, value in channel_mapping.items():\n",
                "        if value in f.name:\n",
                "            image_set_dict[key] = io.imread(f)"
            ]
        },
        {
            "cell_type": "code",
            "execution_count": null,
            "metadata": {},
            "outputs": [],
            "source": []
        },
        {
            "cell_type": "code",
            "execution_count": null,
            "metadata": {},
            "outputs": [],
            "source": []
        },
        {
            "cell_type": "code",
            "execution_count": 5,
            "metadata": {},
            "outputs": [
                {
                    "data": {
                        "text/plain": [
                            "{'cell_mask': array([  0,   2,   4,   7,   9,  12,  14,  17,  19,  22,  24,  26,  29,\n",
                            "         31,  34,  36,  39,  41,  44,  46,  49,  51,  53,  56,  58,  61,\n",
                            "         63,  66,  68,  71,  73,  76,  78,  80,  83,  85,  88,  90,  93,\n",
                            "         95,  98, 100, 102, 105, 107, 110, 112, 115, 117, 120, 122, 125,\n",
                            "        127, 129, 132, 134, 137, 139, 142, 144, 147, 149, 152, 154, 156,\n",
                            "        159, 161, 164, 166, 169, 171, 174, 176, 178, 181, 183, 186, 188,\n",
                            "        191, 193, 196, 198, 201, 203, 205, 208, 210, 213, 215, 218, 220,\n",
                            "        223, 225, 228, 230, 232, 235, 237, 240, 242, 245, 247, 250, 252,\n",
                            "        255], dtype=uint8),\n",
                            " 'cytoplasm_mask': array([  0,   2,   4,   7,   9,  12,  14,  17,  19,  22,  24,  26,  29,\n",
                            "         31,  34,  36,  39,  41,  44,  46,  49,  51,  53,  56,  58,  61,\n",
                            "         63,  66,  68,  71,  73,  76,  78,  80,  83,  85,  88,  90,  93,\n",
                            "         95,  98, 100, 102, 105, 107, 110, 112, 115, 117, 120, 122, 125,\n",
                            "        127, 129, 132, 134, 137, 139, 142, 144, 147, 149, 152, 154, 156,\n",
                            "        159, 161, 164, 166, 169, 171, 174, 176, 178, 181, 183, 186, 188,\n",
                            "        191, 193, 196, 198, 201, 203, 205, 208, 210, 213, 215, 218, 220,\n",
                            "        223, 225, 228, 230, 232, 235, 237, 240, 242, 245, 247, 250, 252,\n",
                            "        255], dtype=uint8),\n",
                            " 'nuclei_mask': array([  0,   4,   8,  13,  17,  22,  26,  31,  35,  40,  44,  49,  53,\n",
                            "         58,  62,  67,  71,  80,  85,  89,  93,  98, 102, 107, 111, 116,\n",
                            "        125, 129, 134, 138, 143, 147, 152, 161, 165, 170, 174, 178, 183,\n",
                            "        187, 192, 196, 201, 205, 210, 214, 219, 223, 228, 232, 237, 241,\n",
                            "        246, 250, 255], dtype=uint8),\n",
                            " 'organoid_mask': array([0, 1, 2, 3], dtype=uint16)}"
                        ]
                    },
                    "execution_count": 5,
                    "metadata": {},
                    "output_type": "execute_result"
                }
            ],
            "source": [
                "image_set_loader = ImageSetLoader(\n",
                "    image_set_path=image_set_path,\n",
                "    spacing=(1, 0.1, 0.1),\n",
                "    channel_mapping=channel_mapping,\n",
                ")\n",
                "image_set_loader.retrieve_image_attributes()\n",
                "image_set_loader.unique_objects.keys()\n",
                "image_set_loader.unique_objects"
            ]
        },
        {
            "cell_type": "code",
            "execution_count": null,
            "metadata": {},
            "outputs": [],
            "source": []
        },
        {
            "cell_type": "code",
            "execution_count": null,
            "metadata": {},
            "outputs": [],
            "source": [
                "# iterate through each unique object in each compartment for each channel image\n",
                "\n",
                "for channel_image in image_set_loader.get_image_names():\n",
                "    for compartment in image_set_loader.get_compartments():\n",
                "        for unique_object_index in image_set_loader.unique_objects[compartment]:\n",
                "            print(\n",
                "                f\"Channel: {channel_image}, Compartment: {compartment}, Object: {unique_object_index}\"\n",
                "            )\n",
                "            # initialize object loader for each unique object\n",
                "            objects_loader = ObjectLoader(\n",
                "                image=image_set_loader.get_image(channel_image),\n",
                "                label_image=image_set_loader.get_image(compartment),\n",
                "                channel_name=channel_image,\n",
                "                compartment_name=compartment,\n",
                "                label_index=unique_object_index,\n",
                "            )\n",
                "            # featurize the object"
            ]
        },
        {
            "cell_type": "code",
            "execution_count": null,
            "metadata": {},
            "outputs": [],
            "source": []
        },
        {
            "cell_type": "code",
            "execution_count": 6,
            "metadata": {},
            "outputs": [],
            "source": [
                "objects_loader = ObjectLoader(\n",
                "    image=image_set_loader.get_image(\"nuclei\"),\n",
                "    label_image=image_set_loader.get_image(\"nuclei_mask\"),\n",
                "    channel_name=\"nuclei\",\n",
                "    compartment_name=\"nuclei\",\n",
                "    label_index=4,\n",
                ")"
            ]
        },
        {
            "cell_type": "code",
            "execution_count": 7,
            "metadata": {},
            "outputs": [
                {
                    "name": "stderr",
                    "output_type": "stream",
                    "text": [
                        "INFO:root:Calculated Area Size Shape features for nuclei 4\n",
                        "INFO:root:Calculated Granularity features for nuclei 4\n",
                        "INFO:root:Calculated Neighbors features for nuclei 4\n",
                        "INFO:root:Calculated Adjacent Neighbors features for nuclei 4\n"
                    ]
                }
            ],
            "source": [
                "featurization = Featurization(\n",
                "    image_set_loader=image_set_loader,\n",
                "    object_loader=objects_loader,\n",
                "    neighbors_distance_threshold=10,\n",
                ")\n",
                "features = featurization.get_features()"
            ]
        },
        {
            "cell_type": "code",
            "execution_count": 8,
            "metadata": {},
            "outputs": [
                {
                    "data": {
                        "text/plain": [
                            "{'area_size_shape': {'VOLUME': array([88442.]),\n",
                            "  'SURFACE_AREA': 597.6736509775509,\n",
                            "  'MAJOR_AXIS_LENGTH': array([156.89838983]),\n",
                            "  'MINOR_AXIS_LENGTH': array([12.31554867]),\n",
                            "  'CENTER_X': array([742.10532326]),\n",
                            "  'CENTER_Y': array([386.92353181]),\n",
                            "  'CENTER_Z': array([5.31414939]),\n",
                            "  'BBOX_VOLUME': array([131130.]),\n",
                            "  'MIN_X': array([671]),\n",
                            "  'MAX_X': array([812]),\n",
                            "  'MIN_Y': array([343]),\n",
                            "  'MAX_Y': array([436]),\n",
                            "  'MIN_Z': array([1]),\n",
                            "  'MAX_Z': array([11]),\n",
                            "  'EXTENT': array([0.67446046]),\n",
                            "  'EULER_NUMBER': array([1]),\n",
                            "  'EQUIVALENT_DIAMETER': array([55.27812593])},\n",
                            " 'granularity': {'Granularity_1_nuclei': 100.0,\n",
                            "  'Granularity_2_nuclei': 0.6213558752982083,\n",
                            "  'Granularity_3_nuclei': 0.003860831237676026,\n",
                            "  'Granularity_4_nuclei': 2.398950173064852e-05,\n",
                            "  'Granularity_5_nuclei': 1.4906017845814993e-07},\n",
                            " 'intensity': {'integrated_intensity': 1452409130,\n",
                            "  'volume': 353768,\n",
                            "  'mean_intensity': 4105.541286945117,\n",
                            "  'std_intensity': 4441.863521884266,\n",
                            "  'min_intensity': 6508,\n",
                            "  'max_intensity': 30583,\n",
                            "  'lower_quartile_intensity': 13003.0,\n",
                            "  'upper_quartile_intensity': 19749.0,\n",
                            "  'median_intensity': 16699.0,\n",
                            "  'max_z': 5,\n",
                            "  'max_y': 383,\n",
                            "  'max_x': 733,\n",
                            "  'cm_x': 769.5,\n",
                            "  'cm_y': 768.0,\n",
                            "  'cm_z': 16.0,\n",
                            "  'i_x': 60105906630,\n",
                            "  'i_y': 59988741120,\n",
                            "  'i_z': 1249765440,\n",
                            "  'cmi_x': 41.383591846465464,\n",
                            "  'cmi_y': 41.30292207678425,\n",
                            "  'cmi_z': 0.8604775432663384,\n",
                            "  'diff_x': 728.1164081535345,\n",
                            "  'diff_y': 726.6970779232157,\n",
                            "  'diff_z': 15.139522456733662,\n",
                            "  'mass_displacement': 1028.8203691727545,\n",
                            "  'mad_intensity': 12316.623860835354,\n",
                            "  'edge_count': 6498,\n",
                            "  'integrated_intensity_edge': 38466019,\n",
                            "  'mean_intensity_edge': 5919.670514004309,\n",
                            "  'std_intensity_edge': 6452.293137422992,\n",
                            "  'min_intensity_edge': 0,\n",
                            "  'max_intensity_edge': 24562},\n",
                            " 'neighbors_10': 2,\n",
                            " 'neighbors_adjacent': 2}"
                        ]
                    },
                    "execution_count": 8,
                    "metadata": {},
                    "output_type": "execute_result"
                }
            ],
            "source": [
                "features"
            ]
        },
        {
            "cell_type": "code",
            "execution_count": 10,
            "metadata": {},
            "outputs": [],
            "source": [
                "compartment = \"Nuclei\"\n",
                "channel = \"DNA\"\n",
                "label_index = 4"
            ]
        },
        {
            "cell_type": "code",
            "execution_count": 11,
            "metadata": {},
            "outputs": [
                {
                    "data": {
                        "text/plain": [
                            "{'Nuclei_DNA_area_size_shape_VOLUME_4': array([88442.]),\n",
                            " 'Nuclei_DNA_area_size_shape_SURFACE_AREA_4': 597.6736509775509,\n",
                            " 'Nuclei_DNA_area_size_shape_MAJOR_AXIS_LENGTH_4': array([156.89838983]),\n",
                            " 'Nuclei_DNA_area_size_shape_MINOR_AXIS_LENGTH_4': array([12.31554867]),\n",
                            " 'Nuclei_DNA_area_size_shape_CENTER_X_4': array([742.10532326]),\n",
                            " 'Nuclei_DNA_area_size_shape_CENTER_Y_4': array([386.92353181]),\n",
                            " 'Nuclei_DNA_area_size_shape_CENTER_Z_4': array([5.31414939]),\n",
                            " 'Nuclei_DNA_area_size_shape_BBOX_VOLUME_4': array([131130.]),\n",
                            " 'Nuclei_DNA_area_size_shape_MIN_X_4': array([671]),\n",
                            " 'Nuclei_DNA_area_size_shape_MAX_X_4': array([812]),\n",
                            " 'Nuclei_DNA_area_size_shape_MIN_Y_4': array([343]),\n",
                            " 'Nuclei_DNA_area_size_shape_MAX_Y_4': array([436]),\n",
                            " 'Nuclei_DNA_area_size_shape_MIN_Z_4': array([1]),\n",
                            " 'Nuclei_DNA_area_size_shape_MAX_Z_4': array([11]),\n",
                            " 'Nuclei_DNA_area_size_shape_EXTENT_4': array([0.67446046]),\n",
                            " 'Nuclei_DNA_area_size_shape_EULER_NUMBER_4': array([1]),\n",
                            " 'Nuclei_DNA_area_size_shape_EQUIVALENT_DIAMETER_4': array([55.27812593]),\n",
                            " 'Nuclei_DNA_granularity_Granularity_1_nuclei_4': 100.0,\n",
                            " 'Nuclei_DNA_granularity_Granularity_2_nuclei_4': 0.6213558752982083,\n",
                            " 'Nuclei_DNA_granularity_Granularity_3_nuclei_4': 0.003860831237676026,\n",
                            " 'Nuclei_DNA_granularity_Granularity_4_nuclei_4': 2.398950173064852e-05,\n",
                            " 'Nuclei_DNA_granularity_Granularity_5_nuclei_4': 1.4906017845814993e-07,\n",
                            " 'Nuclei_DNA_intensity_integrated_intensity_4': 1452409130,\n",
                            " 'Nuclei_DNA_intensity_volume_4': 353768,\n",
                            " 'Nuclei_DNA_intensity_mean_intensity_4': 4105.541286945117,\n",
                            " 'Nuclei_DNA_intensity_std_intensity_4': 4441.863521884266,\n",
                            " 'Nuclei_DNA_intensity_min_intensity_4': 6508,\n",
                            " 'Nuclei_DNA_intensity_max_intensity_4': 30583,\n",
                            " 'Nuclei_DNA_intensity_lower_quartile_intensity_4': 13003.0,\n",
                            " 'Nuclei_DNA_intensity_upper_quartile_intensity_4': 19749.0,\n",
                            " 'Nuclei_DNA_intensity_median_intensity_4': 16699.0,\n",
                            " 'Nuclei_DNA_intensity_max_z_4': 5,\n",
                            " 'Nuclei_DNA_intensity_max_y_4': 383,\n",
                            " 'Nuclei_DNA_intensity_max_x_4': 733,\n",
                            " 'Nuclei_DNA_intensity_cm_x_4': 769.5,\n",
                            " 'Nuclei_DNA_intensity_cm_y_4': 768.0,\n",
                            " 'Nuclei_DNA_intensity_cm_z_4': 16.0,\n",
                            " 'Nuclei_DNA_intensity_i_x_4': 60105906630,\n",
                            " 'Nuclei_DNA_intensity_i_y_4': 59988741120,\n",
                            " 'Nuclei_DNA_intensity_i_z_4': 1249765440,\n",
                            " 'Nuclei_DNA_intensity_cmi_x_4': 41.383591846465464,\n",
                            " 'Nuclei_DNA_intensity_cmi_y_4': 41.30292207678425,\n",
                            " 'Nuclei_DNA_intensity_cmi_z_4': 0.8604775432663384,\n",
                            " 'Nuclei_DNA_intensity_diff_x_4': 728.1164081535345,\n",
                            " 'Nuclei_DNA_intensity_diff_y_4': 726.6970779232157,\n",
                            " 'Nuclei_DNA_intensity_diff_z_4': 15.139522456733662,\n",
                            " 'Nuclei_DNA_intensity_mass_displacement_4': 1028.8203691727545,\n",
                            " 'Nuclei_DNA_intensity_mad_intensity_4': 12316.623860835354,\n",
                            " 'Nuclei_DNA_intensity_edge_count_4': 6498,\n",
                            " 'Nuclei_DNA_intensity_integrated_intensity_edge_4': 38466019,\n",
                            " 'Nuclei_DNA_intensity_mean_intensity_edge_4': 5919.670514004309,\n",
                            " 'Nuclei_DNA_intensity_std_intensity_edge_4': 6452.293137422992,\n",
                            " 'Nuclei_DNA_intensity_min_intensity_edge_4': 0,\n",
                            " 'Nuclei_DNA_intensity_max_intensity_edge_4': 24562,\n",
                            " 'Nuclei_DNA_neighbors_10_nosubfeature_4': 2,\n",
                            " 'Nuclei_DNA_neighbors_adjacent_nosubfeature_4': 2}"
                        ]
                    },
                    "execution_count": 11,
                    "metadata": {},
                    "output_type": "execute_result"
                }
            ],
            "source": [
                "updated_features = {}\n",
                "for key, value in features.items():\n",
                "    if isinstance(value, dict):\n",
                "        for sub_key, sub_value in value.items():\n",
                "            updated_features[\n",
                "                f\"{compartment}_{channel}_{key}_{sub_key}_{label_index}\"\n",
                "            ] = sub_value\n",
                "    else:\n",
                "        updated_features[\n",
                "            f\"{compartment}_{channel}_{key}_nosubfeature_{label_index}\"\n",
                "        ] = value\n",
                "updated_features"
            ]
        }
    ],
    "metadata": {
        "kernelspec": {
            "display_name": "GFF_featurization",
            "language": "python",
            "name": "python3"
        },
        "language_info": {
            "codemirror_mode": {
                "name": "ipython",
                "version": 3
            },
            "file_extension": ".py",
            "mimetype": "text/x-python",
            "name": "python",
            "nbconvert_exporter": "python",
            "pygments_lexer": "ipython3",
            "version": "3.12.9"
        }
    },
    "nbformat": 4,
    "nbformat_minor": 2
}
