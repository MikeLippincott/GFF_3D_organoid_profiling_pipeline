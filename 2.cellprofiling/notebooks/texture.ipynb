{
    "cells": [
        {
            "cell_type": "code",
            "execution_count": 1,
            "metadata": {},
            "outputs": [],
            "source": [
                "import pathlib\n",
                "import sys\n",
                "import time\n",
                "\n",
                "sys.path.append(\"../featurization\")\n",
                "import gc\n",
                "\n",
                "import mahotas\n",
                "import numpy as np\n",
                "import pandas as pd\n",
                "import scipy\n",
                "import skimage\n",
                "import tqdm\n",
                "from data_writer import organize_featurization_data\n",
                "from loading_classes import ImageSetLoader, ObjectLoader\n",
                "from texture import measure_3D_texture"
            ]
        },
        {
            "cell_type": "code",
            "execution_count": 2,
            "metadata": {},
            "outputs": [],
            "source": [
                "image_set_path = pathlib.Path(\"../../data/NF0014/cellprofiler/C4-2/\")"
            ]
        },
        {
            "cell_type": "code",
            "execution_count": 3,
            "metadata": {},
            "outputs": [],
            "source": [
                "channel_mapping = {\n",
                "    \"DNA\": \"405\",\n",
                "    \"AGP\": \"488\",\n",
                "    \"ER\": \"555\",\n",
                "    \"Mito\": \"640\",\n",
                "    \"BF\": \"TRANS\",\n",
                "    \"Nuclei\": \"nuclei_\",\n",
                "    \"Cell\": \"cell_\",\n",
                "    \"Cytoplasm\": \"cytoplasm_\",\n",
                "    \"Organoid\": \"organoid_\",\n",
                "}"
            ]
        },
        {
            "cell_type": "code",
            "execution_count": 4,
            "metadata": {},
            "outputs": [],
            "source": [
                "image_set_loader = ImageSetLoader(\n",
                "    image_set_path=image_set_path,\n",
                "    spacing=(1, 0.1, 0.1),\n",
                "    channel_mapping=channel_mapping,\n",
                ")"
            ]
        },
        {
            "cell_type": "code",
            "execution_count": 6,
            "metadata": {},
            "outputs": [],
            "source": [
                "start_time = time.time()"
            ]
        },
        {
            "cell_type": "markdown",
            "metadata": {},
            "source": [
                "Takes forever to run - so not running in notebok:"
            ]
        },
        {
            "cell_type": "code",
            "execution_count": 5,
            "metadata": {},
            "outputs": [],
            "source": [
                "for compartment in tqdm(\n",
                "    image_set_loader.compartments, desc=\"Processing compartments\", position=0\n",
                "):\n",
                "    for channel in tqdm(\n",
                "        image_set_loader.image_names,\n",
                "        desc=\"Processing channels\",\n",
                "        leave=False,\n",
                "        position=1,\n",
                "    ):\n",
                "        object_loader = ObjectLoader(\n",
                "            image_set_loader.image_set_dict[channel],\n",
                "            image_set_loader.image_set_dict[compartment],\n",
                "            channel,\n",
                "            compartment,\n",
                "        )\n",
                "        output_texture_dict = measure_3D_texture(\n",
                "            object_loader=object_loader,\n",
                "            distance=1,\n",
                "        )\n",
                "        output_dict = output_texture_dict(object_loader)\n",
                "        final_df = pd.DataFrame(output_dict)\n",
                "        # prepend compartment and channel to column names\n",
                "        final_df.columns = [\n",
                "            f\"{compartment}_{channel}_{col}\" for col in final_df.columns\n",
                "        ]\n",
                "        final_df[\"image_set\"] = image_set_loader.image_set_name\n",
                "\n",
                "        output_file = pathlib.Path(\n",
                "            f\"../results/{image_set_loader.image_set_name}/Texture_{compartment}_{channel}_features.parquet\"\n",
                "        )\n",
                "        output_file.parent.mkdir(parents=True, exist_ok=True)\n",
                "        final_df.to_parquet(output_file)"
            ]
        },
        {
            "cell_type": "code",
            "execution_count": null,
            "metadata": {},
            "outputs": [],
            "source": [
                "print(f\"Time elapsed: {time.time() - start_time}\")"
            ]
        }
    ],
    "metadata": {
        "kernelspec": {
            "display_name": "GFF_featurization",
            "language": "python",
            "name": "python3"
        },
        "language_info": {
            "codemirror_mode": {
                "name": "ipython",
                "version": 3
            },
            "file_extension": ".py",
            "mimetype": "text/x-python",
            "name": "python",
            "nbconvert_exporter": "python",
            "pygments_lexer": "ipython3",
            "version": "3.12.9"
        }
    },
    "nbformat": 4,
    "nbformat_minor": 2
}
