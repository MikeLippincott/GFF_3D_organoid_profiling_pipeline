{
    "cells": [
        {
            "cell_type": "code",
            "execution_count": null,
            "metadata": {},
            "outputs": [],
            "source": [
                "import argparse\n",
                "import os\n",
                "import pathlib\n",
                "import sys\n",
                "import time\n",
                "\n",
                "import psutil\n",
                "\n",
                "sys.path.append(\"../featurization_utils\")\n",
                "import gc\n",
                "import multiprocessing\n",
                "import pathlib\n",
                "from functools import partial\n",
                "from itertools import product\n",
                "\n",
                "import pandas as pd\n",
                "import tqdm\n",
                "from loading_classes import ImageSetLoader, ObjectLoader\n",
                "from texture_utils import measure_3D_texture\n",
                "from tqdm import tqdm\n",
                "\n",
                "try:\n",
                "    cfg = get_ipython().config\n",
                "    in_notebook = True\n",
                "except NameError:\n",
                "    in_notebook = False\n",
                "if in_notebook:\n",
                "    from tqdm.notebook import tqdm\n",
                "else:\n",
                "    from tqdm import tqdm"
            ]
        },
        {
            "cell_type": "code",
            "execution_count": null,
            "metadata": {},
            "outputs": [],
            "source": [
                "def process_combination(args, image_set_loader):\n",
                "    \"\"\"\n",
                "    Process a single combination of compartment and channel.\n",
                "\n",
                "    Parameters\n",
                "    ----------\n",
                "    args : _type_\n",
                "        Args that contain the compartment and channel.\n",
                "        Ordered as (compartment, channel).\n",
                "        Yes, order matters here.\n",
                "        channel : str\n",
                "            The channel name.\n",
                "        compartment : str\n",
                "            The compartment name.\n",
                "    image_set_loader : Class ImageSetLoader\n",
                "        This contains the image information needed to retreive the objects.\n",
                "\n",
                "    Returns\n",
                "    -------\n",
                "    str\n",
                "        A string indicating the compartment and channel that was processed.\n",
                "    \"\"\"\n",
                "    compartment, channel = args\n",
                "    object_loader = ObjectLoader(\n",
                "        image_set_loader.image_set_dict[channel],\n",
                "        image_set_loader.image_set_dict[compartment],\n",
                "        channel,\n",
                "        compartment,\n",
                "    )\n",
                "    output_texture_dict = measure_3D_texture(\n",
                "        object_loader=object_loader,\n",
                "        distance=1,\n",
                "    )\n",
                "    final_df = pd.DataFrame(output_texture_dict)\n",
                "\n",
                "    final_df = final_df.pivot(\n",
                "        index=\"object_id\",\n",
                "        columns=\"texture_name\",\n",
                "        values=\"texture_value\",\n",
                "    )\n",
                "    final_df.reset_index(inplace=True)\n",
                "    final_df.insert(0, \"image_set\", image_set_loader.image_set_name)\n",
                "    final_df.columns.name = None\n",
                "\n",
                "    output_file = pathlib.Path(\n",
                "        f\"../results/{image_set_loader.image_set_name}/Texture_{compartment}_{channel}_features.parquet\"\n",
                "    )\n",
                "    output_file.parent.mkdir(parents=True, exist_ok=True)\n",
                "    final_df.to_parquet(output_file)\n",
                "\n",
                "    return f\"Processed {compartment} - {channel}\""
            ]
        },
        {
            "cell_type": "code",
            "execution_count": null,
            "metadata": {},
            "outputs": [],
            "source": [
                "if not in_notebook:\n",
                "    argparser = argparse.ArgumentParser()\n",
                "    argparser.add_argument(\n",
                "        \"--well_fov\",\n",
                "        type=str,\n",
                "        default=\"None\",\n",
                "        help=\"Well and field of view to process, e.g. 'A01_1'\",\n",
                "    )\n",
                "\n",
                "    args = argparser.parse_args()\n",
                "    well_fov = args.well_fov\n",
                "    if well_fov == \"None\":\n",
                "        raise ValueError(\n",
                "            \"Please provide a well and field of view to process, e.g. 'A01_1'\"\n",
                "        )\n",
                "\n",
                "    image_set_path = pathlib.Path(f\"../../data/NF0014/cellprofiler/{well_fov}/\")\n",
                "else:\n",
                "    well_fov = \"C4-2\"\n",
                "    image_set_path = pathlib.Path(f\"../../data/NF0014/cellprofiler/{well_fov}/\")"
            ]
        },
        {
            "cell_type": "code",
            "execution_count": 3,
            "metadata": {},
            "outputs": [],
            "source": [
                "channel_mapping = {\n",
                "    \"DNA\": \"405\",\n",
                "    \"AGP\": \"488\",\n",
                "    \"ER\": \"555\",\n",
                "    \"Mito\": \"640\",\n",
                "    \"BF\": \"TRANS\",\n",
                "    \"Nuclei\": \"nuclei_\",\n",
                "    \"Cell\": \"cell_\",\n",
                "    \"Cytoplasm\": \"cytoplasm_\",\n",
                "    \"Organoid\": \"organoid_\",\n",
                "}"
            ]
        },
        {
            "cell_type": "code",
            "execution_count": 4,
            "metadata": {},
            "outputs": [],
            "source": [
                "image_set_loader = ImageSetLoader(\n",
                "    image_set_path=image_set_path,\n",
                "    anisotropy_spacing=(1, 0.1, 0.1),\n",
                "    channel_mapping=channel_mapping,\n",
                ")"
            ]
        },
        {
            "cell_type": "code",
            "execution_count": null,
            "metadata": {},
            "outputs": [],
            "source": [
                "start_time = time.time()\n",
                "# get starting memory (cpu)\n",
                "start_mem = psutil.Process(os.getpid()).memory_info().rss / 1024**2"
            ]
        },
        {
            "cell_type": "code",
            "execution_count": null,
            "metadata": {},
            "outputs": [
                {
                    "name": "stdout",
                    "output_type": "stream",
                    "text": [
                        "Using 14 cores for processing.\n"
                    ]
                },
                {
                    "name": "stderr",
                    "output_type": "stream",
                    "text": [
                        "56it [04:45,  5.10s/it]: 0it [00:00, ?it/s]\n",
                        "Processing combinations: 1it [04:48, 288.86s/it]"
                    ]
                },
                {
                    "name": "stdout",
                    "output_type": "stream",
                    "text": [
                        "Processing complete.\n"
                    ]
                },
                {
                    "name": "stderr",
                    "output_type": "stream",
                    "text": [
                        "\n"
                    ]
                }
            ],
            "source": [
                "if __name__ == \"__main__\":\n",
                "    # Generate all combinations of compartments and channels\n",
                "    combinations = list(\n",
                "        product(image_set_loader.compartments, image_set_loader.image_names)\n",
                "    )\n",
                "    cores = multiprocessing.cpu_count()\n",
                "    print(f\"Using {cores} cores for processing.\")\n",
                "    # Use multiprocessing to process combinations in parallel\n",
                "    with multiprocessing.Pool(processes=cores) as pool:\n",
                "        results = list(\n",
                "            tqdm(\n",
                "                pool.imap(\n",
                "                    partial(process_combination, image_set_loader=image_set_loader),\n",
                "                    combinations,\n",
                "                ),\n",
                "                desc=\"Processing combinations\",\n",
                "            )\n",
                "        )\n",
                "\n",
                "    print(\"Processing complete.\")"
            ]
        },
        {
            "cell_type": "code",
            "execution_count": null,
            "metadata": {},
            "outputs": [],
            "source": [
                "end_mem = psutil.Process(os.getpid()).memory_info().rss / 1024**2\n",
                "end_time = time.time()\n",
                "print(f\"Memory usage: {end_mem - start_mem:.2f} MB\")\n",
                "print(\"Texture time:\")\n",
                "print(\"--- %s seconds ---\" % (end_time - start_time))\n",
                "print(\"--- %s minutes ---\" % ((end_time - start_time) / 60))\n",
                "print(\"--- %s hours ---\" % ((end_time - start_time) / 3600))\n",
                "# make a df of the run stats\n",
                "run_stats = pd.DataFrame(\n",
                "    {\n",
                "        \"start_time\": [start_time],\n",
                "        \"end_time\": [end_time],\n",
                "        \"start_mem\": [start_mem],\n",
                "        \"end_mem\": [end_mem],\n",
                "        \"time_taken\": [(end_time - start_time)],\n",
                "        \"mem_usage\": [(end_mem - start_mem)],\n",
                "        \"gpu\": [None],\n",
                "        \"well_fov\": [well_fov],\n",
                "        \"feature_type\": [\"texture\"],\n",
                "    }\n",
                ")\n",
                "# save the run stats to a file\n",
                "run_stats_file = pathlib.Path(f\"../results/run_stats/{well_fov}_texture.parquet\")\n",
                "run_stats_file.parent.mkdir(parents=True, exist_ok=True)\n",
                "run_stats.to_parquet(run_stats_file)"
            ]
        }
    ],
    "metadata": {
        "kernelspec": {
            "display_name": "GFF_featurization",
            "language": "python",
            "name": "python3"
        },
        "language_info": {
            "codemirror_mode": {
                "name": "ipython",
                "version": 3
            },
            "file_extension": ".py",
            "mimetype": "text/x-python",
            "name": "python",
            "nbconvert_exporter": "python",
            "pygments_lexer": "ipython3",
            "version": "3.12.9"
        }
    },
    "nbformat": 4,
    "nbformat_minor": 2
}
