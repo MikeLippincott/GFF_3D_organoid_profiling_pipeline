{
    "cells": [
        {
            "cell_type": "code",
            "execution_count": 1,
            "metadata": {},
            "outputs": [],
            "source": [
                "import pathlib\n",
                "import sys\n",
                "import time\n",
                "\n",
                "sys.path.append(\"../featurization_utils\")\n",
                "import gc\n",
                "\n",
                "import mahotas\n",
                "import numpy as np\n",
                "import pandas as pd\n",
                "import scipy\n",
                "import skimage\n",
                "import tqdm\n",
                "from loading_classes import ImageSetLoader, ObjectLoader\n",
                "from texture_utils import measure_3D_texture\n",
                "\n",
                "try:\n",
                "    cfg = get_ipython().config\n",
                "    in_notebook = True\n",
                "except NameError:\n",
                "    in_notebook = False\n",
                "if in_notebook:\n",
                "    from tqdm.notebook import tqdm\n",
                "else:\n",
                "    from tqdm import tqdm"
            ]
        },
        {
            "cell_type": "code",
            "execution_count": 2,
            "metadata": {},
            "outputs": [],
            "source": [
                "image_set_path = pathlib.Path(\"../../data/NF0014/cellprofiler/C4-2/\")"
            ]
        },
        {
            "cell_type": "code",
            "execution_count": 3,
            "metadata": {},
            "outputs": [],
            "source": [
                "channel_mapping = {\n",
                "    \"DNA\": \"405\",\n",
                "    \"AGP\": \"488\",\n",
                "    \"ER\": \"555\",\n",
                "    \"Mito\": \"640\",\n",
                "    \"BF\": \"TRANS\",\n",
                "    \"Nuclei\": \"nuclei_\",\n",
                "    \"Cell\": \"cell_\",\n",
                "    \"Cytoplasm\": \"cytoplasm_\",\n",
                "    \"Organoid\": \"organoid_\",\n",
                "}"
            ]
        },
        {
            "cell_type": "code",
            "execution_count": 4,
            "metadata": {},
            "outputs": [],
            "source": [
                "image_set_loader = ImageSetLoader(\n",
                "    image_set_path=image_set_path,\n",
                "    anisotropy_spacing=(1, 0.1, 0.1),\n",
                "    channel_mapping=channel_mapping,\n",
                ")"
            ]
        },
        {
            "cell_type": "code",
            "execution_count": 5,
            "metadata": {},
            "outputs": [],
            "source": [
                "start_time = time.time()"
            ]
        },
        {
            "cell_type": "code",
            "execution_count": null,
            "metadata": {},
            "outputs": [
                {
                    "name": "stderr",
                    "output_type": "stream",
                    "text": [
                        "1it [00:04,  4.94s/it]\n"
                    ]
                },
                {
                    "data": {
                        "text/html": [
                            "<div>\n",
                            "<style scoped>\n",
                            "    .dataframe tbody tr th:only-of-type {\n",
                            "        vertical-align: middle;\n",
                            "    }\n",
                            "\n",
                            "    .dataframe tbody tr th {\n",
                            "        vertical-align: top;\n",
                            "    }\n",
                            "\n",
                            "    .dataframe thead th {\n",
                            "        text-align: right;\n",
                            "    }\n",
                            "</style>\n",
                            "<table border=\"1\" class=\"dataframe\">\n",
                            "  <thead>\n",
                            "    <tr style=\"text-align: right;\">\n",
                            "      <th></th>\n",
                            "      <th>object_id</th>\n",
                            "      <th>image_set</th>\n",
                            "      <th>Texture_Angular.Second.Moment_256.1</th>\n",
                            "      <th>Texture_Contrast_256.1</th>\n",
                            "      <th>Texture_Correlation_256.1</th>\n",
                            "      <th>Texture_Difference.Entropy_256.1</th>\n",
                            "      <th>Texture_Difference.Variance_256.1</th>\n",
                            "      <th>Texture_Entropy_256.1</th>\n",
                            "      <th>Texture_Information.Measure.of.Correlation.1_256.1</th>\n",
                            "      <th>Texture_Information.Measure.of.Correlation.2_256.1</th>\n",
                            "      <th>Texture_Inverse.Difference.Moment_256.1</th>\n",
                            "      <th>Texture_Sum.Average_256.1</th>\n",
                            "      <th>Texture_Sum.Entropy_256.1</th>\n",
                            "      <th>Texture_Sum.Variance_256.1</th>\n",
                            "      <th>Texture_Variance_256.1</th>\n",
                            "    </tr>\n",
                            "  </thead>\n",
                            "  <tbody>\n",
                            "    <tr>\n",
                            "      <th>0</th>\n",
                            "      <td>1</td>\n",
                            "      <td>C4-2</td>\n",
                            "      <td>0.532915</td>\n",
                            "      <td>44.05271</td>\n",
                            "      <td>0.976391</td>\n",
                            "      <td>1.87156</td>\n",
                            "      <td>0.002229</td>\n",
                            "      <td>3.937084</td>\n",
                            "      <td>-0.490967</td>\n",
                            "      <td>0.960459</td>\n",
                            "      <td>0.781563</td>\n",
                            "      <td>29.003071</td>\n",
                            "      <td>2.914876</td>\n",
                            "      <td>3687.744657</td>\n",
                            "      <td>932.949342</td>\n",
                            "    </tr>\n",
                            "  </tbody>\n",
                            "</table>\n",
                            "</div>"
                        ],
                        "text/plain": [
                            "   object_id image_set  Texture_Angular.Second.Moment_256.1  \\\n",
                            "0          1      C4-2                             0.532915   \n",
                            "\n",
                            "   Texture_Contrast_256.1  Texture_Correlation_256.1  \\\n",
                            "0                44.05271                   0.976391   \n",
                            "\n",
                            "   Texture_Difference.Entropy_256.1  Texture_Difference.Variance_256.1  \\\n",
                            "0                           1.87156                           0.002229   \n",
                            "\n",
                            "   Texture_Entropy_256.1  Texture_Information.Measure.of.Correlation.1_256.1  \\\n",
                            "0               3.937084                                          -0.490967    \n",
                            "\n",
                            "   Texture_Information.Measure.of.Correlation.2_256.1  \\\n",
                            "0                                           0.960459    \n",
                            "\n",
                            "   Texture_Inverse.Difference.Moment_256.1  Texture_Sum.Average_256.1  \\\n",
                            "0                                 0.781563                  29.003071   \n",
                            "\n",
                            "   Texture_Sum.Entropy_256.1  Texture_Sum.Variance_256.1  \\\n",
                            "0                   2.914876                 3687.744657   \n",
                            "\n",
                            "   Texture_Variance_256.1  \n",
                            "0              932.949342  "
                        ]
                    },
                    "execution_count": 6,
                    "metadata": {},
                    "output_type": "execute_result"
                }
            ],
            "source": [
                "for compartment in tqdm(\n",
                "    image_set_loader.compartments, desc=\"Processing compartments\", position=0\n",
                "):\n",
                "    for channel in tqdm(\n",
                "        image_set_loader.image_names,\n",
                "        desc=\"Processing channels\",\n",
                "        leave=False,\n",
                "        position=1,\n",
                "    ):\n",
                "        object_loader = ObjectLoader(\n",
                "            image_set_loader.image_set_dict[channel],\n",
                "            image_set_loader.image_set_dict[compartment],\n",
                "            channel,\n",
                "            compartment,\n",
                "        )\n",
                "        output_texture_dict = measure_3D_texture(\n",
                "            object_loader=object_loader,\n",
                "            distance=1,\n",
                "        )\n",
                "        final_df = pd.DataFrame(output_texture_dict)\n",
                "        # prepend compartment and channel to column names\n",
                "        final_df.columns = [\n",
                "            f\"{compartment}_{channel}_{col}\" for col in final_df.columns\n",
                "        ]\n",
                "        final_df[\"image_set\"] = image_set_loader.image_set_name\n",
                "        # pivot wide\n",
                "        final_df.rename(\n",
                "            columns={\n",
                "                f\"{compartment}_{channel}_object_id\": \"object_id\",\n",
                "            },\n",
                "            inplace=True,\n",
                "        )\n",
                "        final_df = final_df.pivot(\n",
                "            index=[\"object_id\", \"image_set\"],\n",
                "            columns=f\"{compartment}_{channel}_texture_name\",\n",
                "            values=f\"{compartment}_{channel}_texture_value\",\n",
                "        )\n",
                "        final_df.reset_index(inplace=True)\n",
                "        # rename the index columns\n",
                "        final_df.columns.name = None\n",
                "\n",
                "        output_file = pathlib.Path(\n",
                "            f\"../results/{image_set_loader.image_set_name}/Texture_{compartment}_{channel}_features.parquet\"\n",
                "        )\n",
                "        output_file.parent.mkdir(parents=True, exist_ok=True)\n",
                "        final_df.to_parquet(output_file)\n",
                "        final_df.head()"
            ]
        },
        {
            "cell_type": "code",
            "execution_count": 7,
            "metadata": {},
            "outputs": [
                {
                    "name": "stdout",
                    "output_type": "stream",
                    "text": [
                        "Time elapsed: 7.677288293838501\n"
                    ]
                }
            ],
            "source": [
                "print(f\"Time elapsed: {time.time() - start_time}\")"
            ]
        }
    ],
    "metadata": {
        "kernelspec": {
            "display_name": "GFF_featurization",
            "language": "python",
            "name": "python3"
        },
        "language_info": {
            "codemirror_mode": {
                "name": "ipython",
                "version": 3
            },
            "file_extension": ".py",
            "mimetype": "text/x-python",
            "name": "python",
            "nbconvert_exporter": "python",
            "pygments_lexer": "ipython3",
            "version": "3.12.9"
        }
    },
    "nbformat": 4,
    "nbformat_minor": 2
}
