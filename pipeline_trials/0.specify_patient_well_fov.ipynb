{
    "cells": [
        {
            "cell_type": "code",
            "execution_count": 1,
            "metadata": {},
            "outputs": [],
            "source": [
                "import pathlib"
            ]
        },
        {
            "cell_type": "code",
            "execution_count": 2,
            "metadata": {},
            "outputs": [],
            "source": [
                "data_path = pathlib.Path(\"../data\").resolve()\n",
                "data_path = data_path.glob(\"*\")\n",
                "data_path = [x for x in data_path if x.is_dir()]\n",
                "data_path = sorted(data_path)\n",
                "patient_well_fov_list = []\n",
                "for patient in data_path:\n",
                "    for well_fov in pathlib.Path(patient / \"zstack_images\").glob(\"*\"):\n",
                "        patient_well_fov = f\"{patient.parts[-1]}_{well_fov.parts[-1]}\"\n",
                "        patient_well_fov_list.append(patient_well_fov)"
            ]
        },
        {
            "cell_type": "code",
            "execution_count": 3,
            "metadata": {},
            "outputs": [],
            "source": [
                "# write to file\n",
                "# with two columns separated by a tab\n",
                "# column one is the patient\n",
                "# column two is the well_fov\n",
                "with open(\"patient_well_fov.tsv\", \"w\") as f:\n",
                "    f.write(\"patient\\twell_fov\\n\")\n",
                "    for patient_well_fov in patient_well_fov_list:\n",
                "        f.write(f\"{patient_well_fov.split('_')[0]}\\t{patient_well_fov.split('_')[1]}\\n\")"
            ]
        }
    ],
    "metadata": {
        "kernelspec": {
            "display_name": "GFF_featurization",
            "language": "python",
            "name": "python3"
        },
        "language_info": {
            "codemirror_mode": {
                "name": "ipython",
                "version": 3
            },
            "file_extension": ".py",
            "mimetype": "text/x-python",
            "name": "python",
            "nbconvert_exporter": "python",
            "pygments_lexer": "ipython3",
            "version": "3.12.9"
        }
    },
    "nbformat": 4,
    "nbformat_minor": 2
}
