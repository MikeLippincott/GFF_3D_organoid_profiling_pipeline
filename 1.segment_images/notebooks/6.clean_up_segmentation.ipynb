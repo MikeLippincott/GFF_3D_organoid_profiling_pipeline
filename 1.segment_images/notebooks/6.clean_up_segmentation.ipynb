{
    "cells": [
        {
            "cell_type": "code",
            "execution_count": 1,
            "metadata": {},
            "outputs": [],
            "source": [
                "import pathlib\n",
                "import shutil\n",
                "\n",
                "import numpy as np"
            ]
        },
        {
            "cell_type": "code",
            "execution_count": 2,
            "metadata": {},
            "outputs": [],
            "source": [
                "overwrite = False"
            ]
        },
        {
            "cell_type": "code",
            "execution_count": 3,
            "metadata": {},
            "outputs": [],
            "source": [
                "processed_data_dir = pathlib.Path(\"../processed_data\").resolve(strict=True)\n",
                "normalized_data_dir = pathlib.Path(\"../../data/normalized_z\").resolve(strict=True)\n",
                "cellprofiler_dir = pathlib.Path(\"../../data/cellprofiler\").resolve()\n",
                "cellprofiler_dir.mkdir(parents=True, exist_ok=True)\n",
                "\n",
                "# get the list of dirs in the normalized_data_dir\n",
                "norm_dirs = [x for x in normalized_data_dir.iterdir() if x.is_dir()]\n",
                "# copy each dir and files to cellprofiler_dir\n",
                "for norm_dir in norm_dirs:\n",
                "    dest_dir = pathlib.Path(cellprofiler_dir, norm_dir.name)\n",
                "    if dest_dir.exists() and overwrite:\n",
                "        shutil.rmtree(dest_dir)\n",
                "        shutil.copytree(norm_dir, dest_dir)\n",
                "    else:\n",
                "        pass\n",
                "\n",
                "\n",
                "# get a list of dirs in processed_data\n",
                "dirs = [x for x in processed_data_dir.iterdir() if x.is_dir()]"
            ]
        },
        {
            "cell_type": "code",
            "execution_count": 4,
            "metadata": {},
            "outputs": [],
            "source": [
                "file_extensions = {\".tif\", \".tiff\"}\n",
                "# get a list of files in each dir\n",
                "for well_dir in dirs:\n",
                "    files = [x for x in well_dir.iterdir() if x.is_file()]\n",
                "    for file in files:\n",
                "        # remove numpy files\n",
                "        if file.suffix == \".npy\":\n",
                "            file.unlink()\n",
                "        elif file.suffix in file_extensions:\n",
                "            new_file_dir = pathlib.Path(\n",
                "                cellprofiler_dir, well_dir.name, file.stem + file.suffix\n",
                "            )\n",
                "            shutil.copy(file, new_file_dir)"
            ]
        },
        {
            "cell_type": "code",
            "execution_count": 5,
            "metadata": {},
            "outputs": [
                {
                    "name": "stdout",
                    "output_type": "stream",
                    "text": [
                        "C3-2 has too few files: 6\n",
                        "D8-1 has too few files: 6\n",
                        "C5-1 has too few files: 6\n",
                        "E10-2 has too few files: 6\n",
                        "F6-2 has too few files: 6\n",
                        "F4-1 has too few files: 6\n",
                        "F3-1 has too few files: 0\n",
                        "F4-2 has too few files: 6\n",
                        "F8-2 has too few files: 6\n",
                        "F11-1 has too few files: 6\n",
                        "C8-2 has too few files: 6\n",
                        "F6-1 has too few files: 3\n",
                        "D7-2 has too few files: 6\n",
                        "D3-1 has too few files: 6\n",
                        "F10-2 has too few files: 6\n",
                        "E9-1 has too few files: 6\n",
                        "C11-1 has too few files: 6\n",
                        "F2-1 has too few files: 6\n",
                        "D5-2 has too few files: 6\n",
                        "D7-1 has too few files: 6\n",
                        "D6-1 has too few files: 6\n",
                        "D10-1 has too few files: 6\n",
                        "F10-1 has too few files: 6\n"
                    ]
                }
            ],
            "source": [
                "dirs_in_cellprofiler_dir = [x for x in cellprofiler_dir.iterdir() if x.is_dir()]\n",
                "for dir in dirs_in_cellprofiler_dir:\n",
                "    files = [x for x in dir.iterdir() if x.is_file()]\n",
                "    if len(files) > 8:\n",
                "        print(f\"{dir.name} has too many files: {len(files)}\")\n",
                "    elif len(files) < 8:\n",
                "        print(f\"{dir.name} has too few files: {len(files)}\")\n",
                "    else:\n",
                "        pass"
            ]
        }
    ],
    "metadata": {
        "kernelspec": {
            "display_name": "GFF_segmentation",
            "language": "python",
            "name": "python3"
        },
        "language_info": {
            "codemirror_mode": {
                "name": "ipython",
                "version": 3
            },
            "file_extension": ".py",
            "mimetype": "text/x-python",
            "name": "python",
            "nbconvert_exporter": "python",
            "pygments_lexer": "ipython3",
            "version": "3.9.21"
        }
    },
    "nbformat": 4,
    "nbformat_minor": 2
}
