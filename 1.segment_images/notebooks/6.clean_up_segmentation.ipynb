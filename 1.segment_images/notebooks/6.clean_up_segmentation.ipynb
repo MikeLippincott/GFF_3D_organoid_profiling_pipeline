{
    "cells": [
        {
            "cell_type": "code",
            "execution_count": 1,
            "metadata": {},
            "outputs": [],
            "source": [
                "import pathlib\n",
                "import shutil\n",
                "\n",
                "import numpy as np\n",
                "import tqdm"
            ]
        },
        {
            "cell_type": "code",
            "execution_count": 2,
            "metadata": {},
            "outputs": [],
            "source": [
                "overwrite = True"
            ]
        },
        {
            "cell_type": "code",
            "execution_count": 3,
            "metadata": {},
            "outputs": [
                {
                    "name": "stderr",
                    "output_type": "stream",
                    "text": [
                        "100%|\u2588\u2588\u2588\u2588\u2588\u2588\u2588\u2588\u2588\u2588| 104/104 [01:34<00:00,  1.10it/s]\n"
                    ]
                }
            ],
            "source": [
                "processed_data_dir = pathlib.Path(\"../processed_data\").resolve(strict=True)\n",
                "normalized_data_dir = pathlib.Path(\"../../data/normalized_z\").resolve(strict=True)\n",
                "# normalized_data_dir = pathlib.Path(\"../../data/test_dir\").resolve(strict=True)\n",
                "cellprofiler_dir = pathlib.Path(\"../../data/cellprofiler\").resolve()\n",
                "cellprofiler_dir.mkdir(parents=True, exist_ok=True)\n",
                "\n",
                "# get the list of dirs in the normalized_data_dir\n",
                "norm_dirs = [x for x in normalized_data_dir.iterdir() if x.is_dir()]\n",
                "# copy each dir and files to cellprofiler_dir\n",
                "for norm_dir in tqdm.tqdm(norm_dirs):\n",
                "    dest_dir = pathlib.Path(cellprofiler_dir, norm_dir.name)\n",
                "    if dest_dir.exists() and overwrite:\n",
                "        shutil.rmtree(dest_dir)\n",
                "        shutil.copytree(norm_dir, dest_dir)\n",
                "    elif not dest_dir.exists():\n",
                "        shutil.copytree(norm_dir, dest_dir)\n",
                "    else:\n",
                "        pass\n",
                "\n",
                "\n",
                "# get a list of dirs in processed_data\n",
                "dirs = [x for x in processed_data_dir.iterdir() if x.is_dir()]"
            ]
        },
        {
            "cell_type": "code",
            "execution_count": 4,
            "metadata": {},
            "outputs": [
                {
                    "name": "stderr",
                    "output_type": "stream",
                    "text": [
                        "100%|\u2588\u2588\u2588\u2588\u2588\u2588\u2588\u2588\u2588\u2588| 1/1 [00:00<00:00,  2.94it/s]\n"
                    ]
                }
            ],
            "source": [
                "file_extensions = {\".tif\", \".tiff\"}\n",
                "# get a list of files in each dir\n",
                "for well_dir in tqdm.tqdm(dirs):\n",
                "    files = [x for x in well_dir.iterdir() if x.is_file()]\n",
                "    for file in files:\n",
                "        # remove numpy files\n",
                "        if file.suffix == \".npy\":\n",
                "            file.unlink()\n",
                "        elif file.suffix in file_extensions:\n",
                "            # copy each of the raw files to the cellprofiler_dir for feature extraction\n",
                "            new_file_dir = pathlib.Path(\n",
                "                cellprofiler_dir, well_dir.name, file.stem + file.suffix\n",
                "            )\n",
                "            shutil.copy(file, new_file_dir)"
            ]
        },
        {
            "cell_type": "code",
            "execution_count": 5,
            "metadata": {},
            "outputs": [
                {
                    "name": "stderr",
                    "output_type": "stream",
                    "text": [
                        "100%|\u2588\u2588\u2588\u2588\u2588\u2588\u2588\u2588\u2588\u2588| 104/104 [00:00<00:00, 29541.35it/s]"
                    ]
                },
                {
                    "name": "stdout",
                    "output_type": "stream",
                    "text": [
                        "G8-1 has too few files: 5\n",
                        "D5-1 has too few files: 5\n",
                        "F8-1 has too few files: 5\n",
                        "G11-1 has too few files: 5\n",
                        "G7-1 has too few files: 5\n",
                        "E3-2 has too few files: 5\n",
                        "C11-2 has too few files: 5\n",
                        "E11-1 has too few files: 5\n",
                        "D11-3 has too few files: 5\n",
                        "E7-2 has too few files: 5\n",
                        "C3-2 has too few files: 5\n",
                        "D4-1 has too few files: 5\n",
                        "E3-1 has too few files: 5\n",
                        "D8-1 has too few files: 5\n",
                        "G2-2 has too few files: 5\n",
                        "E11-2 has too few files: 5\n",
                        "G5-2 has too few files: 5\n",
                        "C5-1 has too few files: 5\n",
                        "D3-2 has too few files: 5\n",
                        "C5-2 has too few files: 5\n",
                        "D6-2 has too few files: 5\n",
                        "G4-2 has too few files: 5\n",
                        "E10-2 has too few files: 5\n",
                        "C4-2 has too few files: 5\n",
                        "F6-2 has too few files: 5\n",
                        "F11-3 has too few files: 5\n",
                        "F4-1 has too few files: 5\n",
                        "F4-3 has too few files: 5\n",
                        "F4-2 has too few files: 5\n",
                        "D8-2 has too few files: 5\n",
                        "G10-1 has too few files: 5\n",
                        "F8-2 has too few files: 5\n",
                        "G4-1 has too few files: 5\n",
                        "C8-1 has too few files: 5\n",
                        "E8-2 has too few files: 5\n",
                        "G10-3 has too few files: 5\n",
                        "F11-1 has too few files: 5\n",
                        "F7-1 has too few files: 5\n",
                        "F5-2 has too few files: 5\n",
                        "G5-1 has too few files: 5\n",
                        "D2-1 has too few files: 5\n",
                        "C8-2 has too few files: 5\n",
                        "E5-1 has too few files: 5\n",
                        "G6-1 has too few files: 5\n",
                        "C7-2 has too few files: 5\n",
                        "E7-1 has too few files: 5\n",
                        "C6-1 has too few files: 5\n",
                        "D4-2 has too few files: 5\n",
                        "C7-1 has too few files: 5\n",
                        "D11-2 has too few files: 5\n",
                        "E10-1 has too few files: 5\n",
                        "G7-2 has too few files: 5\n",
                        "G10-2 has too few files: 5\n",
                        "D10-2 has too few files: 5\n",
                        "C6-2 has too few files: 5\n",
                        "F11-2 has too few files: 5\n",
                        "C10-2 has too few files: 5\n",
                        "C2-2 has too few files: 5\n",
                        "F6-1 has too few files: 5\n",
                        "F2-2 has too few files: 5\n",
                        "F9-1 has too few files: 5\n",
                        "G9-2 has too few files: 5\n",
                        "C9-2 has too few files: 5\n",
                        "F9-2 has too few files: 5\n",
                        "E6-2 has too few files: 5\n",
                        "D7-2 has too few files: 5\n",
                        "C4-1 has too few files: 5\n",
                        "D3-1 has too few files: 5\n",
                        "D9-2 has too few files: 5\n",
                        "F10-2 has too few files: 5\n",
                        "G11-2 has too few files: 5\n",
                        "E9-1 has too few files: 5\n",
                        "E2-1 has too few files: 5\n",
                        "G3-1 has too few files: 5\n",
                        "D2-3 has too few files: 5\n",
                        "E2-2 has too few files: 5\n",
                        "E8-1 has too few files: 5\n",
                        "C11-1 has too few files: 5\n",
                        "F2-1 has too few files: 5\n",
                        "D9-1 has too few files: 5\n",
                        "D9-3 has too few files: 5\n",
                        "C9-1 has too few files: 5\n",
                        "D5-2 has too few files: 5\n",
                        "C3-1 has too few files: 5\n",
                        "G6-2 has too few files: 5\n",
                        "D11-1 has too few files: 5\n",
                        "C2-1 has too few files: 5\n",
                        "D7-1 has too few files: 5\n",
                        "E5-2 has too few files: 5\n",
                        "G2-1 has too few files: 5\n",
                        "E6-1 has too few files: 5\n",
                        "D2-2 has too few files: 5\n",
                        "G9-1 has too few files: 5\n",
                        "D6-1 has too few files: 5\n",
                        "E4-1 has too few files: 5\n",
                        "G8-2 has too few files: 5\n",
                        "G3-2 has too few files: 5\n",
                        "D10-1 has too few files: 5\n",
                        "F7-2 has too few files: 5\n",
                        "E4-2 has too few files: 5\n",
                        "F10-1 has too few files: 5\n",
                        "F5-1 has too few files: 5\n",
                        "C10-1 has too few files: 5\n"
                    ]
                },
                {
                    "name": "stderr",
                    "output_type": "stream",
                    "text": [
                        "\n"
                    ]
                }
            ],
            "source": [
                "dirs_in_cellprofiler_dir = [x for x in cellprofiler_dir.iterdir() if x.is_dir()]\n",
                "for dir in tqdm.tqdm(dirs_in_cellprofiler_dir):\n",
                "    files = [x for x in dir.iterdir() if x.is_file()]\n",
                "    if len(files) > 8:\n",
                "        print(f\"{dir.name} has too many files: {len(files)}\")\n",
                "    elif len(files) < 8:\n",
                "        print(f\"{dir.name} has too few files: {len(files)}\")\n",
                "    else:\n",
                "        pass"
            ]
        }
    ],
    "metadata": {
        "kernelspec": {
            "display_name": "GFF_segmentation",
            "language": "python",
            "name": "python3"
        },
        "language_info": {
            "codemirror_mode": {
                "name": "ipython",
                "version": 3
            },
            "file_extension": ".py",
            "mimetype": "text/x-python",
            "name": "python",
            "nbconvert_exporter": "python",
            "pygments_lexer": "ipython3",
            "version": "3.9.21"
        }
    },
    "nbformat": 4,
    "nbformat_minor": 2
}
