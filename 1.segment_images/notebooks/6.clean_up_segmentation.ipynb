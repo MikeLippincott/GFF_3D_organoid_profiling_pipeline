{
    "cells": [
        {
            "cell_type": "code",
            "execution_count": 1,
            "metadata": {},
            "outputs": [],
            "source": [
                "import pathlib\n",
                "import shutil\n",
                "import sys\n",
                "\n",
                "import numpy as np\n",
                "import tqdm\n",
                "\n",
                "sys.path.append(str(pathlib.Path(\"../../utils\").resolve()))\n",
                "from file_checking import check_number_of_files"
            ]
        },
        {
            "cell_type": "code",
            "execution_count": 2,
            "metadata": {},
            "outputs": [],
            "source": [
                "overwrite = True"
            ]
        },
        {
            "cell_type": "code",
            "execution_count": 6,
            "metadata": {},
            "outputs": [],
            "source": [
                "# set path to the processed data dir\n",
                "processed_data_dir = pathlib.Path(\"../processed_data\").resolve(strict=True)\n",
                "normalized_data_dir = pathlib.Path(\"../../data/normalized_z\").resolve(strict=True)\n",
                "# normalized_data_dir = pathlib.Path(\"../../data/test_dir\").resolve(strict=True)\n",
                "cellprofiler_dir = pathlib.Path(\"../../data/cellprofiler\").resolve()\n",
                "if cellprofiler_dir.exists():\n",
                "    shutil.rmtree(cellprofiler_dir)\n",
                "else:\n",
                "    cellprofiler_dir.mkdir(parents=True, exist_ok=True)"
            ]
        },
        {
            "cell_type": "code",
            "execution_count": 7,
            "metadata": {},
            "outputs": [
                {
                    "name": "stdout",
                    "output_type": "stream",
                    "text": [
                        "\n",
                        "      #################################################################################\n",
                        "\n",
                        "      ## Checking the number of files in each subdirectory of:\n",
                        " \n",
                        "      ## /home/lippincm/Documents/GFF_3D_organoid_profiling_pipeline/1.segment_images/processed_data\n",
                        "\n",
                        "      #################################################################################\n",
                        "      \n",
                        "C2-1 expected 3 files, but found 5 files.\n",
                        "\n",
                        "      #################################################################################\n",
                        "\n",
                        "      ## Checking the number of files in each subdirectory of:\n",
                        " \n",
                        "      ## /home/lippincm/Documents/GFF_3D_organoid_profiling_pipeline/data/normalized_z\n",
                        "\n",
                        "      #################################################################################\n",
                        "      \n",
                        "\n",
                        "      #################################################################################\n",
                        "\n",
                        "      ## Checking the number of files in each subdirectory of:\n",
                        " \n",
                        "      ## /home/lippincm/Documents/GFF_3D_organoid_profiling_pipeline/data/cellprofiler\n",
                        "\n",
                        "      #################################################################################\n",
                        "      \n"
                    ]
                }
            ],
            "source": [
                "# perform checks for each directory\n",
                "processed_data_dir_directories = list(processed_data_dir.glob(\"*\"))\n",
                "normalized_data_dir_directories = list(normalized_data_dir.glob(\"*\"))\n",
                "cellprofiler_dir_directories = list(cellprofiler_dir.glob(\"*\"))\n",
                "\n",
                "print(\n",
                "    f\"\"\"\n",
                "      #################################################################################\\n\n",
                "      ## Checking the number of files in each subdirectory of:\\n \n",
                "      ## {processed_data_dir.absolute()}\\n\n",
                "      #################################################################################\n",
                "      \"\"\"\n",
                ")\n",
                "for file in processed_data_dir_directories:\n",
                "    check_number_of_files(file, 3)\n",
                "\n",
                "\n",
                "print(\n",
                "    f\"\"\"\n",
                "      #################################################################################\\n\n",
                "      ## Checking the number of files in each subdirectory of:\\n \n",
                "      ## {normalized_data_dir.absolute()}\\n\n",
                "      #################################################################################\n",
                "      \"\"\"\n",
                ")\n",
                "for file in normalized_data_dir_directories:\n",
                "    check_number_of_files(file, 5)\n",
                "\n",
                "\n",
                "print(\n",
                "    f\"\"\"\n",
                "      #################################################################################\\n\n",
                "      ## Checking the number of files in each subdirectory of:\\n \n",
                "      ## {cellprofiler_dir.absolute()}\\n\n",
                "      #################################################################################\n",
                "      \"\"\"\n",
                ")\n",
                "for file in cellprofiler_dir_directories:\n",
                "    check_number_of_files(file, 0)"
            ]
        },
        {
            "cell_type": "markdown",
            "metadata": {},
            "source": [
                "## Copy the normalized images to the cellprofiler images dir"
            ]
        },
        {
            "cell_type": "code",
            "execution_count": null,
            "metadata": {},
            "outputs": [
                {
                    "name": "stderr",
                    "output_type": "stream",
                    "text": [
                        "100%|\u2588\u2588\u2588\u2588\u2588\u2588\u2588\u2588\u2588\u2588| 104/104 [01:34<00:00,  1.10it/s]\n"
                    ]
                }
            ],
            "source": [
                "# get the list of dirs in the normalized_data_dir\n",
                "norm_dirs = [x for x in normalized_data_dir.iterdir() if x.is_dir()]\n",
                "# copy each dir and files to cellprofiler_dir\n",
                "for norm_dir in tqdm.tqdm(norm_dirs):\n",
                "    dest_dir = pathlib.Path(cellprofiler_dir, norm_dir.name)\n",
                "    if dest_dir.exists() and overwrite:\n",
                "        shutil.rmtree(dest_dir)\n",
                "        shutil.copytree(norm_dir, dest_dir)\n",
                "    elif not dest_dir.exists():\n",
                "        shutil.copytree(norm_dir, dest_dir)\n",
                "    else:\n",
                "        pass"
            ]
        },
        {
            "cell_type": "markdown",
            "metadata": {},
            "source": [
                "## Copy "
            ]
        },
        {
            "cell_type": "code",
            "execution_count": 9,
            "metadata": {},
            "outputs": [
                {
                    "name": "stderr",
                    "output_type": "stream",
                    "text": [
                        "100%|\u2588\u2588\u2588\u2588\u2588\u2588\u2588\u2588\u2588\u2588| 2/2 [00:00<00:00,  6.97it/s]\n"
                    ]
                }
            ],
            "source": [
                "# get a list of dirs in processed_data\n",
                "dirs = [x for x in processed_data_dir.iterdir() if x.is_dir()]\n",
                "file_extensions = {\".tif\", \".tiff\"}\n",
                "# get a list of files in each dir\n",
                "for well_dir in tqdm.tqdm(dirs):\n",
                "    files = [x for x in well_dir.iterdir() if x.is_file()]\n",
                "    for file in files:\n",
                "        if file.suffix in file_extensions:\n",
                "            # copy each of the raw files to the cellprofiler_dir for feature extraction\n",
                "            new_file_dir = pathlib.Path(\n",
                "                cellprofiler_dir, well_dir.name, file.stem + file.suffix\n",
                "            )\n",
                "            shutil.copy(file, new_file_dir)"
            ]
        },
        {
            "cell_type": "code",
            "execution_count": 11,
            "metadata": {},
            "outputs": [
                {
                    "name": "stderr",
                    "output_type": "stream",
                    "text": [
                        "100%|\u2588\u2588\u2588\u2588\u2588\u2588\u2588\u2588\u2588\u2588| 104/104 [00:00<00:00, 12910.90it/s]"
                    ]
                },
                {
                    "name": "stdout",
                    "output_type": "stream",
                    "text": [
                        "raw_z_input expected 5 files, but found 8 files.\n",
                        "C2-1 expected 5 files, but found 8 files.\n"
                    ]
                },
                {
                    "name": "stderr",
                    "output_type": "stream",
                    "text": [
                        "\n"
                    ]
                }
            ],
            "source": [
                "dirs_in_cellprofiler_dir = [x for x in cellprofiler_dir.iterdir() if x.is_dir()]\n",
                "for dir in tqdm.tqdm(dirs_in_cellprofiler_dir):\n",
                "    check_number_of_files(dir, 5)"
            ]
        }
    ],
    "metadata": {
        "kernelspec": {
            "display_name": "GFF_segmentation",
            "language": "python",
            "name": "python3"
        },
        "language_info": {
            "codemirror_mode": {
                "name": "ipython",
                "version": 3
            },
            "file_extension": ".py",
            "mimetype": "text/x-python",
            "name": "python",
            "nbconvert_exporter": "python",
            "pygments_lexer": "ipython3",
            "version": "3.9.21"
        }
    },
    "nbformat": 4,
    "nbformat_minor": 2
}
