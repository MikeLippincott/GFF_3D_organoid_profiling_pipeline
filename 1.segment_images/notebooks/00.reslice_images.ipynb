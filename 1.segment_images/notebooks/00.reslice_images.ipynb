{
    "cells": [
        {
            "cell_type": "markdown",
            "metadata": {},
            "source": [
                "This notebook reslices the 3D volume into interpolated slices strictly for the purposes of visualization and segmentation."
            ]
        },
        {
            "cell_type": "code",
            "execution_count": 1,
            "metadata": {},
            "outputs": [],
            "source": [
                "import argparse\n",
                "import pathlib\n",
                "\n",
                "import matplotlib.pyplot as plt\n",
                "\n",
                "# Import dependencies\n",
                "import numpy as np\n",
                "import skimage\n",
                "import tifffile\n",
                "import tqdm\n",
                "from skimage import io\n",
                "\n",
                "# check if in a jupyter notebook\n",
                "try:\n",
                "    cfg = get_ipython().config\n",
                "    in_notebook = True\n",
                "except NameError:\n",
                "    in_notebook = False"
            ]
        },
        {
            "cell_type": "code",
            "execution_count": 2,
            "metadata": {},
            "outputs": [
                {
                    "name": "stdout",
                    "output_type": "stream",
                    "text": [
                        "Running in a notebook\n"
                    ]
                }
            ],
            "source": [
                "if not in_notebook:\n",
                "    print(\"Running as script\")\n",
                "    # set up arg parser\n",
                "    parser = argparse.ArgumentParser(description=\"Segment the nuclei of a tiff image\")\n",
                "\n",
                "    parser.add_argument(\n",
                "        \"--input_dir\",\n",
                "        type=str,\n",
                "        help=\"Path to the input directory containing the tiff images\",\n",
                "    )\n",
                "    parser.add_argument(\n",
                "        \"--window_size\", type=int, help=\"Size of the window to use for the segmentation\"\n",
                "    )\n",
                "    parser.add_argument(\n",
                "        \"--clip_limit\",\n",
                "        type=float,\n",
                "        help=\"Clip limit for the adaptive histogram equalization\",\n",
                "    )\n",
                "\n",
                "    args = parser.parse_args()\n",
                "    window_size = args.window_size\n",
                "    clip_limit = args.clip_limit\n",
                "    input_dir = pathlib.Path(args.input_dir).resolve(strict=True)\n",
                "else:\n",
                "    print(\"Running in a notebook\")\n",
                "    input_dir = pathlib.Path(\"../../data/NF0014/zstack_images/C4-2/\").resolve(\n",
                "        strict=True\n",
                "    )\n",
                "    window_size = 3\n",
                "    clip_limit = 0.05\n",
                "\n",
                "\n",
                "output_dir = pathlib.Path(\n",
                "    f\"../../data/NF0014/resliced_images/{input_dir.stem}\"\n",
                ").resolve()\n",
                "output_dir.mkdir(exist_ok=True, parents=True)\n",
                "mask_path = pathlib.Path(f\"../processed_data/{input_dir.stem}\").resolve()\n",
                "mask_path.mkdir(exist_ok=True, parents=True)"
            ]
        },
        {
            "cell_type": "markdown",
            "metadata": {},
            "source": [
                "## Set up images, paths and functions"
            ]
        },
        {
            "cell_type": "code",
            "execution_count": 3,
            "metadata": {},
            "outputs": [],
            "source": [
                "image_extensions = {\".tif\", \".tiff\"}\n",
                "files = sorted(input_dir.glob(\"*\"))\n",
                "files = [str(x) for x in files if x.suffix in image_extensions]"
            ]
        },
        {
            "cell_type": "code",
            "execution_count": 4,
            "metadata": {},
            "outputs": [
                {
                    "name": "stderr",
                    "output_type": "stream",
                    "text": [
                        "  0%|          | 0/5 [00:00<?, ?it/s]"
                    ]
                },
                {
                    "name": "stdout",
                    "output_type": "stream",
                    "text": [
                        "Resliced image shape: (330, 1537, 1540)\n"
                    ]
                },
                {
                    "name": "stderr",
                    "output_type": "stream",
                    "text": [
                        " 20%|\u2588\u2588        | 1/5 [00:28<01:52, 28.16s/it]"
                    ]
                },
                {
                    "name": "stdout",
                    "output_type": "stream",
                    "text": [
                        "Resliced image shape: (330, 1537, 1540)\n"
                    ]
                },
                {
                    "name": "stderr",
                    "output_type": "stream",
                    "text": [
                        " 40%|\u2588\u2588\u2588\u2588      | 2/5 [00:56<01:24, 28.23s/it]"
                    ]
                },
                {
                    "name": "stdout",
                    "output_type": "stream",
                    "text": [
                        "Resliced image shape: (330, 1537, 1540)\n"
                    ]
                },
                {
                    "name": "stderr",
                    "output_type": "stream",
                    "text": [
                        " 60%|\u2588\u2588\u2588\u2588\u2588\u2588    | 3/5 [01:25<00:57, 28.59s/it]"
                    ]
                },
                {
                    "name": "stdout",
                    "output_type": "stream",
                    "text": [
                        "Resliced image shape: (330, 1537, 1540)\n"
                    ]
                },
                {
                    "name": "stderr",
                    "output_type": "stream",
                    "text": [
                        " 80%|\u2588\u2588\u2588\u2588\u2588\u2588\u2588\u2588  | 4/5 [01:56<00:29, 29.59s/it]"
                    ]
                },
                {
                    "name": "stdout",
                    "output_type": "stream",
                    "text": [
                        "Resliced image shape: (330, 1537, 1540)\n"
                    ]
                },
                {
                    "name": "stderr",
                    "output_type": "stream",
                    "text": [
                        "100%|\u2588\u2588\u2588\u2588\u2588\u2588\u2588\u2588\u2588\u2588| 5/5 [02:27<00:00, 29.46s/it]\n"
                    ]
                }
            ],
            "source": [
                "# reslice the image such that the z-distance between slices is the same as the pixel size\n",
                "# of the original image\n",
                "pixel_size = 0.1\n",
                "z_distance = 1\n",
                "reslice_factor = z_distance / pixel_size\n",
                "for f in tqdm.tqdm(files):\n",
                "    imgs = io.imread(f)\n",
                "    imgs = skimage.transform.rescale(imgs, (reslice_factor, 1, 1), anti_aliasing=True)\n",
                "    print(\"Resliced image shape:\", imgs.shape)\n",
                "    tifffile.imwrite(output_dir / f\"{input_dir.stem}_{pathlib.Path(f).stem.split(\"_\")[1]}.tif\", imgs)"
            ]
        }
    ],
    "metadata": {
        "kernelspec": {
            "display_name": "GFF_featurization",
            "language": "python",
            "name": "python3"
        },
        "language_info": {
            "codemirror_mode": {
                "name": "ipython",
                "version": 3
            },
            "file_extension": ".py",
            "mimetype": "text/x-python",
            "name": "python",
            "nbconvert_exporter": "python",
            "pygments_lexer": "ipython3",
            "version": "3.12.9"
        }
    },
    "nbformat": 4,
    "nbformat_minor": 2
}
