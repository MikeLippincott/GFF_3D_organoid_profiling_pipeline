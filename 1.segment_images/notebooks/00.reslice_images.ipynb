{
    "cells": [
        {
            "cell_type": "markdown",
            "metadata": {},
            "source": [
                "This notebook reslices the 3D volume into interpolated slices strictly for the purposes of visualization and segmentation."
            ]
        },
        {
            "cell_type": "code",
            "execution_count": 1,
            "metadata": {},
            "outputs": [],
            "source": [
                "import argparse\n",
                "import pathlib\n",
                "\n",
                "import matplotlib.pyplot as plt\n",
                "\n",
                "# Import dependencies\n",
                "import numpy as np\n",
                "import skimage\n",
                "import tifffile\n",
                "import tqdm\n",
                "from skimage import io\n",
                "\n",
                "# check if in a jupyter notebook\n",
                "try:\n",
                "    cfg = get_ipython().config\n",
                "    in_notebook = True\n",
                "except NameError:\n",
                "    in_notebook = False"
            ]
        },
        {
            "cell_type": "code",
            "execution_count": 2,
            "metadata": {},
            "outputs": [
                {
                    "name": "stdout",
                    "output_type": "stream",
                    "text": [
                        "Running in a notebook\n"
                    ]
                }
            ],
            "source": [
                "if not in_notebook:\n",
                "    print(\"Running as script\")\n",
                "    # set up arg parser\n",
                "    parser = argparse.ArgumentParser(description=\"Segment the nuclei of a tiff image\")\n",
                "\n",
                "    parser.add_argument(\n",
                "        \"--well_fov\",\n",
                "        type=str,\n",
                "        help=\"Path to the input directory containing the tiff images\",\n",
                "    )\n",
                "\n",
                "    args = parser.parse_args()\n",
                "    well_fov = args.well_fov\n",
                "else:\n",
                "    print(\"Running in a notebook\")\n",
                "    well_fov = \"C4-2\"\n",
                "\n",
                "base_input_dir = \"../../data/NF0014/zstack_images/\"\n",
                "input_dir = pathlib.Path(f\"{base_input_dir}/{well_fov}\").resolve(strict=True)\n",
                "output_dir = pathlib.Path(f\"../../data/NF0014/resliced_images/{well_fov}\").resolve()\n",
                "output_dir.mkdir(exist_ok=True, parents=True)"
            ]
        },
        {
            "cell_type": "markdown",
            "metadata": {},
            "source": [
                "## Set up images, paths and functions"
            ]
        },
        {
            "cell_type": "code",
            "execution_count": 3,
            "metadata": {},
            "outputs": [],
            "source": [
                "image_extensions = {\".tif\", \".tiff\"}\n",
                "files = sorted(input_dir.glob(\"*\"))\n",
                "files = [str(x) for x in files if x.suffix in image_extensions]"
            ]
        },
        {
            "cell_type": "code",
            "execution_count": 4,
            "metadata": {},
            "outputs": [
                {
                    "name": "stderr",
                    "output_type": "stream",
                    "text": [
                        "  0%|          | 0/5 [00:00<?, ?it/s]"
                    ]
                },
                {
                    "name": "stdout",
                    "output_type": "stream",
                    "text": [
                        "Resliced image shape: (330, 1537, 1540)\n"
                    ]
                },
                {
                    "name": "stderr",
                    "output_type": "stream",
                    "text": [
                        " 20%|\u2588\u2588        | 1/5 [00:28<01:53, 28.34s/it]"
                    ]
                },
                {
                    "name": "stdout",
                    "output_type": "stream",
                    "text": [
                        "Resliced image shape: (330, 1537, 1540)\n"
                    ]
                },
                {
                    "name": "stderr",
                    "output_type": "stream",
                    "text": [
                        " 40%|\u2588\u2588\u2588\u2588      | 2/5 [00:58<01:27, 29.20s/it]"
                    ]
                },
                {
                    "name": "stdout",
                    "output_type": "stream",
                    "text": [
                        "Resliced image shape: (330, 1537, 1540)\n"
                    ]
                },
                {
                    "name": "stderr",
                    "output_type": "stream",
                    "text": [
                        " 60%|\u2588\u2588\u2588\u2588\u2588\u2588    | 3/5 [01:28<00:59, 29.72s/it]"
                    ]
                },
                {
                    "name": "stdout",
                    "output_type": "stream",
                    "text": [
                        "Resliced image shape: (330, 1537, 1540)\n"
                    ]
                },
                {
                    "name": "stderr",
                    "output_type": "stream",
                    "text": [
                        " 80%|\u2588\u2588\u2588\u2588\u2588\u2588\u2588\u2588  | 4/5 [01:59<00:30, 30.20s/it]"
                    ]
                },
                {
                    "name": "stdout",
                    "output_type": "stream",
                    "text": [
                        "Resliced image shape: (330, 1537, 1540)\n"
                    ]
                },
                {
                    "name": "stderr",
                    "output_type": "stream",
                    "text": [
                        "100%|\u2588\u2588\u2588\u2588\u2588\u2588\u2588\u2588\u2588\u2588| 5/5 [02:32<00:00, 30.42s/it]\n"
                    ]
                }
            ],
            "source": [
                "# reslice the image such that the z-distance between slices is the same as the pixel size\n",
                "# of the original image\n",
                "pixel_size = 0.1\n",
                "z_distance = 1\n",
                "reslice_factor = z_distance / pixel_size\n",
                "for f in tqdm.tqdm(files):\n",
                "    imgs = io.imread(f)\n",
                "    imgs = skimage.transform.rescale(imgs, (reslice_factor, 1, 1), anti_aliasing=True)\n",
                "    print(\"Resliced image shape:\", imgs.shape)\n",
                "    tifffile.imwrite(\n",
                "        output_dir / f\"{input_dir.stem}_{pathlib.Path(f).stem.split('_')[1]}.tif\", imgs\n",
                "    )"
            ]
        }
    ],
    "metadata": {
        "kernelspec": {
            "display_name": "GFF_featurization",
            "language": "python",
            "name": "python3"
        },
        "language_info": {
            "codemirror_mode": {
                "name": "ipython",
                "version": 3
            },
            "file_extension": ".py",
            "mimetype": "text/x-python",
            "name": "python",
            "nbconvert_exporter": "python",
            "pygments_lexer": "ipython3",
            "version": "3.12.9"
        }
    },
    "nbformat": 4,
    "nbformat_minor": 2
}
