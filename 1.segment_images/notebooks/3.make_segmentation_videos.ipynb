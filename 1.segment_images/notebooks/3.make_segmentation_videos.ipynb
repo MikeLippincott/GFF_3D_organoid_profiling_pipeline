{
    "cells": [
        {
            "cell_type": "code",
            "execution_count": 1,
            "id": "1352e2be",
            "metadata": {
                "execution": {
                    "iopub.execute_input": "2024-12-11T16:10:06.750508Z",
                    "iopub.status.busy": "2024-12-11T16:10:06.750115Z",
                    "iopub.status.idle": "2024-12-11T16:10:06.887440Z",
                    "shell.execute_reply": "2024-12-11T16:10:06.887081Z"
                },
                "papermill": {
                    "duration": 0.140685,
                    "end_time": "2024-12-11T16:10:06.888381",
                    "exception": false,
                    "start_time": "2024-12-11T16:10:06.747696",
                    "status": "completed"
                },
                "tags": []
            },
            "outputs": [],
            "source": [
                "import pathlib\n",
                "\n",
                "import imageio\n",
                "import skimage.io as io"
            ]
        },
        {
            "cell_type": "code",
            "execution_count": 2,
            "id": "f296cd7b",
            "metadata": {
                "execution": {
                    "iopub.execute_input": "2024-12-11T16:10:06.891680Z",
                    "iopub.status.busy": "2024-12-11T16:10:06.891368Z",
                    "iopub.status.idle": "2024-12-11T16:10:06.894325Z",
                    "shell.execute_reply": "2024-12-11T16:10:06.894044Z"
                },
                "papermill": {
                    "duration": 0.004941,
                    "end_time": "2024-12-11T16:10:06.894835",
                    "exception": false,
                    "start_time": "2024-12-11T16:10:06.889894",
                    "status": "completed"
                },
                "tags": []
            },
            "outputs": [],
            "source": [
                "# set paths\n",
                "nuclei_img_path = pathlib.Path(\"../examples/raw_z_input/C6-1_405.tif\").resolve(\n",
                "    strict=True\n",
                ")\n",
                "cell_img_path = pathlib.Path(\"../examples/raw_z_input/C6-1_555.tif\").resolve(\n",
                "    strict=True\n",
                ")\n",
                "nuclei_mask_path = pathlib.Path(\n",
                "    \"../../data/nuclei_masks/raw_z_input/nuclei_masks.tiff\"\n",
                ").resolve(strict=True)\n",
                "cell_mask_path = pathlib.Path(\n",
                "    \"../../data/cell_masks/raw_z_input/cell_masks.tiff\"\n",
                ").resolve(strict=True)\n",
                "\n",
                "output_path = pathlib.Path(\"../examples/segmentation_output\").resolve()\n",
                "output_path.mkdir(exist_ok=True, parents=True)"
            ]
        },
        {
            "cell_type": "code",
            "execution_count": 3,
            "id": "a8b760bc",
            "metadata": {
                "execution": {
                    "iopub.execute_input": "2024-12-11T16:10:06.897738Z",
                    "iopub.status.busy": "2024-12-11T16:10:06.897437Z",
                    "iopub.status.idle": "2024-12-11T16:10:07.324070Z",
                    "shell.execute_reply": "2024-12-11T16:10:07.323675Z"
                },
                "papermill": {
                    "duration": 0.429377,
                    "end_time": "2024-12-11T16:10:07.325447",
                    "exception": false,
                    "start_time": "2024-12-11T16:10:06.896070",
                    "status": "completed"
                },
                "tags": []
            },
            "outputs": [],
            "source": [
                "# read in the nucei and cell masks\n",
                "nuclei_img = io.imread(nuclei_img_path)\n",
                "cell_img = io.imread(cell_img_path)\n",
                "nuclei_mask = io.imread(nuclei_mask_path)\n",
                "cell_mask = io.imread(cell_mask_path)\n",
                "\n",
                "# scale the images to unit8\n",
                "nuclei_img = (nuclei_img / 255).astype(\"uint8\") * 4\n",
                "cell_img = (cell_img / 255).astype(\"uint8\") * 8\n",
                "# make the images brighter\n",
                "nuclei_mask = (nuclei_mask * 255).astype(\"uint8\")\n",
                "cell_mask = (cell_mask * 255).astype(\"uint8\")"
            ]
        },
        {
            "cell_type": "markdown",
            "id": "03869008",
            "metadata": {
                "papermill": {
                    "duration": 0.00208,
                    "end_time": "2024-12-11T16:10:07.330061",
                    "exception": false,
                    "start_time": "2024-12-11T16:10:07.327981",
                    "status": "completed"
                },
                "tags": []
            },
            "source": [
                "## Nuclei image visualization"
            ]
        },
        {
            "cell_type": "code",
            "execution_count": 4,
            "id": "01fb13c4",
            "metadata": {
                "execution": {
                    "iopub.execute_input": "2024-12-11T16:10:07.334979Z",
                    "iopub.status.busy": "2024-12-11T16:10:07.334849Z",
                    "iopub.status.idle": "2024-12-11T16:10:10.510016Z",
                    "shell.execute_reply": "2024-12-11T16:10:10.509546Z"
                },
                "papermill": {
                    "duration": 3.178827,
                    "end_time": "2024-12-11T16:10:10.510942",
                    "exception": false,
                    "start_time": "2024-12-11T16:10:07.332115",
                    "status": "completed"
                },
                "tags": []
            },
            "outputs": [],
            "source": [
                "frames = [nuclei_img[i] for i in range(nuclei_img.shape[0])]\n",
                "\n",
                "# Write the frames to a GIF\n",
                "output_file_path = pathlib.Path(output_path / \"nuclei_img_output.gif\")\n",
                "imageio.mimsave(output_file_path, frames, duration=0.1, loop=10)"
            ]
        },
        {
            "cell_type": "markdown",
            "id": "155e4d6a",
            "metadata": {
                "papermill": {
                    "duration": 0.001593,
                    "end_time": "2024-12-11T16:10:10.514245",
                    "exception": false,
                    "start_time": "2024-12-11T16:10:10.512652",
                    "status": "completed"
                },
                "tags": []
            },
            "source": [
                "## Cell image visualization"
            ]
        },
        {
            "cell_type": "code",
            "execution_count": 5,
            "id": "05c5a238",
            "metadata": {
                "execution": {
                    "iopub.execute_input": "2024-12-11T16:10:10.518346Z",
                    "iopub.status.busy": "2024-12-11T16:10:10.517930Z",
                    "iopub.status.idle": "2024-12-11T16:10:12.824784Z",
                    "shell.execute_reply": "2024-12-11T16:10:12.824205Z"
                },
                "papermill": {
                    "duration": 2.309932,
                    "end_time": "2024-12-11T16:10:12.825768",
                    "exception": false,
                    "start_time": "2024-12-11T16:10:10.515836",
                    "status": "completed"
                },
                "tags": []
            },
            "outputs": [],
            "source": [
                "frames = [cell_img[i] for i in range(cell_img.shape[0])]\n",
                "\n",
                "# Write the frames to a GIF\n",
                "output_file_path = pathlib.Path(output_path / \"cell_img_output.gif\")\n",
                "imageio.mimsave(output_file_path, frames, duration=0.1, loop=10)"
            ]
        },
        {
            "cell_type": "markdown",
            "id": "e728d6f5",
            "metadata": {
                "papermill": {
                    "duration": 0.002535,
                    "end_time": "2024-12-11T16:10:12.830038",
                    "exception": false,
                    "start_time": "2024-12-11T16:10:12.827503",
                    "status": "completed"
                },
                "tags": []
            },
            "source": [
                "## Nuclei segmentation visualization"
            ]
        },
        {
            "cell_type": "code",
            "execution_count": 6,
            "id": "5122b371",
            "metadata": {
                "execution": {
                    "iopub.execute_input": "2024-12-11T16:10:12.834500Z",
                    "iopub.status.busy": "2024-12-11T16:10:12.833931Z",
                    "iopub.status.idle": "2024-12-11T16:10:14.186019Z",
                    "shell.execute_reply": "2024-12-11T16:10:14.185439Z"
                },
                "papermill": {
                    "duration": 1.355343,
                    "end_time": "2024-12-11T16:10:14.187012",
                    "exception": false,
                    "start_time": "2024-12-11T16:10:12.831669",
                    "status": "completed"
                },
                "tags": []
            },
            "outputs": [],
            "source": [
                "frames = [nuclei_mask[i] for i in range(nuclei_mask.shape[0])]\n",
                "\n",
                "# Write the frames to a GIF\n",
                "output_file_path = pathlib.Path(output_path / \"nuclei_mask_output.gif\")\n",
                "imageio.mimsave(output_file_path, frames, duration=0.1, loop=10)"
            ]
        },
        {
            "cell_type": "markdown",
            "id": "f75a82da",
            "metadata": {
                "papermill": {
                    "duration": 0.001639,
                    "end_time": "2024-12-11T16:10:14.190461",
                    "exception": false,
                    "start_time": "2024-12-11T16:10:14.188822",
                    "status": "completed"
                },
                "tags": []
            },
            "source": [
                "## Cell segmentation visualization"
            ]
        },
        {
            "cell_type": "code",
            "execution_count": 7,
            "id": "97325f14",
            "metadata": {
                "execution": {
                    "iopub.execute_input": "2024-12-11T16:10:14.194424Z",
                    "iopub.status.busy": "2024-12-11T16:10:14.194277Z",
                    "iopub.status.idle": "2024-12-11T16:10:16.056174Z",
                    "shell.execute_reply": "2024-12-11T16:10:16.055595Z"
                },
                "papermill": {
                    "duration": 1.865089,
                    "end_time": "2024-12-11T16:10:16.057196",
                    "exception": false,
                    "start_time": "2024-12-11T16:10:14.192107",
                    "status": "completed"
                },
                "tags": []
            },
            "outputs": [],
            "source": [
                "frames = [cell_mask[i] for i in range(cell_mask.shape[0])]\n",
                "\n",
                "# Write the frames to a GIF\n",
                "output_file_path = pathlib.Path(output_path / \"cell_mask_output.gif\")\n",
                "imageio.mimsave(\n",
                "    output_file_path, frames, duration=0.1, loop=10\n",
                ")  # duration is the time between frames in seconds"
            ]
        }
    ],
    "metadata": {
        "kernelspec": {
            "display_name": "GFF_cellpose",
            "language": "python",
            "name": "python3"
        },
        "language_info": {
            "codemirror_mode": {
                "name": "ipython",
                "version": 3
            },
            "file_extension": ".py",
            "mimetype": "text/x-python",
            "name": "python",
            "nbconvert_exporter": "python",
            "pygments_lexer": "ipython3",
            "version": "3.9.21"
        },
        "papermill": {
            "default_parameters": {},
            "duration": 10.11114,
            "end_time": "2024-12-11T16:10:16.173592",
            "environment_variables": {},
            "exception": null,
            "input_path": "3.make_segmentation_videos.ipynb",
            "output_path": "3.make_segmentation_videos.ipynb",
            "parameters": {},
            "start_time": "2024-12-11T16:10:06.062452",
            "version": "2.6.0"
        }
    },
    "nbformat": 4,
    "nbformat_minor": 5
}
