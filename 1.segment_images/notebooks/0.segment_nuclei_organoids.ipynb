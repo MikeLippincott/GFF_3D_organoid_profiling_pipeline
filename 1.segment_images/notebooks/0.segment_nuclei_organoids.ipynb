{
    "cells": [
        {
            "cell_type": "markdown",
            "id": "f86124f8",
            "metadata": {
                "papermill": {
                    "duration": 0.001797,
                    "end_time": "2024-12-24T21:54:35.776584",
                    "exception": false,
                    "start_time": "2024-12-24T21:54:35.774787",
                    "status": "completed"
                },
                "tags": []
            },
            "source": [
                "This notebook focuses on trying to find a way to segment cells within organoids properly.\n",
                "The end goals is to segment cell and extract morphology features from cellprofiler.\n",
                "These masks must be imported into cellprofiler to extract features."
            ]
        },
        {
            "cell_type": "markdown",
            "id": "96a79a16",
            "metadata": {
                "papermill": {
                    "duration": 0.001161,
                    "end_time": "2024-12-24T21:54:35.779259",
                    "exception": false,
                    "start_time": "2024-12-24T21:54:35.778098",
                    "status": "completed"
                },
                "tags": []
            },
            "source": [
                "## import libraries "
            ]
        },
        {
            "cell_type": "code",
            "execution_count": 1,
            "id": "1a5bde38",
            "metadata": {
                "execution": {
                    "iopub.execute_input": "2024-12-24T21:54:35.782617Z",
                    "iopub.status.busy": "2024-12-24T21:54:35.782288Z",
                    "iopub.status.idle": "2024-12-24T21:54:38.846418Z",
                    "shell.execute_reply": "2024-12-24T21:54:38.845774Z"
                },
                "papermill": {
                    "duration": 3.066938,
                    "end_time": "2024-12-24T21:54:38.847389",
                    "exception": false,
                    "start_time": "2024-12-24T21:54:35.780451",
                    "status": "completed"
                },
                "tags": []
            },
            "outputs": [],
            "source": [
                "import argparse\n",
                "import pathlib\n",
                "\n",
                "import matplotlib.pyplot as plt\n",
                "\n",
                "# Import dependencies\n",
                "import numpy as np\n",
                "import skimage\n",
                "import tifffile\n",
                "import torch\n",
                "from cellpose import core, models\n",
                "from skimage import io\n",
                "\n",
                "# check if in a jupyter notebook\n",
                "try:\n",
                "    cfg = get_ipython().config\n",
                "    in_notebook = True\n",
                "except NameError:\n",
                "    in_notebook = False"
            ]
        },
        {
            "cell_type": "markdown",
            "id": "97195f78",
            "metadata": {
                "papermill": {
                    "duration": 0.001965,
                    "end_time": "2024-12-24T21:54:38.851357",
                    "exception": false,
                    "start_time": "2024-12-24T21:54:38.849392",
                    "status": "completed"
                },
                "tags": []
            },
            "source": [
                "## parse args and set paths"
            ]
        },
        {
            "cell_type": "code",
            "execution_count": 2,
            "id": "586f35fb",
            "metadata": {
                "execution": {
                    "iopub.execute_input": "2024-12-24T21:54:38.856249Z",
                    "iopub.status.busy": "2024-12-24T21:54:38.855912Z",
                    "iopub.status.idle": "2024-12-24T21:54:38.860372Z",
                    "shell.execute_reply": "2024-12-24T21:54:38.859901Z"
                },
                "papermill": {
                    "duration": 0.007728,
                    "end_time": "2024-12-24T21:54:38.860958",
                    "exception": false,
                    "start_time": "2024-12-24T21:54:38.853230",
                    "status": "completed"
                },
                "tags": []
            },
            "outputs": [
                {
                    "name": "stdout",
                    "output_type": "stream",
                    "text": [
                        "Running in a notebook\n"
                    ]
                }
            ],
            "source": [
                "if not in_notebook:\n",
                "    print(\"Running as script\")\n",
                "    # set up arg parser\n",
                "    parser = argparse.ArgumentParser(description=\"Segment the nuclei of a tiff image\")\n",
                "\n",
                "    parser.add_argument(\n",
                "        \"--input_dir\",\n",
                "        type=str,\n",
                "        help=\"Path to the input directory containing the tiff images\",\n",
                "    )\n",
                "    parser.add_argument(\n",
                "        \"--window_size\", type=int, help=\"Size of the window to use for the segmentation\"\n",
                "    )\n",
                "    parser.add_argument(\n",
                "        \"--clip_limit\",\n",
                "        type=float,\n",
                "        help=\"Clip limit for the adaptive histogram equalization\",\n",
                "    )\n",
                "\n",
                "    args = parser.parse_args()\n",
                "    window_size = args.window_size\n",
                "    clip_limit = args.clip_limit\n",
                "    input_dir = pathlib.Path(args.input_dir).resolve(strict=True)\n",
                "else:\n",
                "    print(\"Running in a notebook\")\n",
                "    input_dir = pathlib.Path(\"../examples/raw_z_input/\").resolve(strict=True)\n",
                "    window_size = 3\n",
                "    clip_limit = 0.05\n",
                "\n",
                "mask_path = pathlib.Path(f\"../processed_data/{input_dir.stem}\").resolve()\n",
                "mask_path.mkdir(exist_ok=True, parents=True)"
            ]
        },
        {
            "cell_type": "markdown",
            "id": "e4dd2597",
            "metadata": {
                "papermill": {
                    "duration": 0.001938,
                    "end_time": "2024-12-24T21:54:38.864748",
                    "exception": false,
                    "start_time": "2024-12-24T21:54:38.862810",
                    "status": "completed"
                },
                "tags": []
            },
            "source": [
                "## Set up images, paths and functions"
            ]
        },
        {
            "cell_type": "code",
            "execution_count": 3,
            "id": "92f76b5d",
            "metadata": {
                "execution": {
                    "iopub.execute_input": "2024-12-24T21:54:38.869480Z",
                    "iopub.status.busy": "2024-12-24T21:54:38.869193Z",
                    "iopub.status.idle": "2024-12-24T21:54:38.871949Z",
                    "shell.execute_reply": "2024-12-24T21:54:38.871510Z"
                },
                "papermill": {
                    "duration": 0.005719,
                    "end_time": "2024-12-24T21:54:38.872489",
                    "exception": false,
                    "start_time": "2024-12-24T21:54:38.866770",
                    "status": "completed"
                },
                "tags": []
            },
            "outputs": [],
            "source": [
                "image_extensions = {\".tif\", \".tiff\"}\n",
                "files = sorted(input_dir.glob(\"*\"))\n",
                "files = [str(x) for x in files if x.suffix in image_extensions]"
            ]
        },
        {
            "cell_type": "code",
            "execution_count": 4,
            "id": "b5fc461f",
            "metadata": {
                "execution": {
                    "iopub.execute_input": "2024-12-24T21:54:38.876776Z",
                    "iopub.status.busy": "2024-12-24T21:54:38.876491Z",
                    "iopub.status.idle": "2024-12-24T21:54:47.096063Z",
                    "shell.execute_reply": "2024-12-24T21:54:47.095418Z"
                },
                "papermill": {
                    "duration": 8.222691,
                    "end_time": "2024-12-24T21:54:47.096818",
                    "exception": false,
                    "start_time": "2024-12-24T21:54:38.874127",
                    "status": "completed"
                },
                "tags": []
            },
            "outputs": [
                {
                    "name": "stdout",
                    "output_type": "stream",
                    "text": [
                        "Subsampled image shape: (35, 1537, 1540)\n",
                        "number of z-slices: 35\n",
                        "number of z slices in the original image: 35\n"
                    ]
                }
            ],
            "source": [
                "# get the nuclei image\n",
                "for f in files:\n",
                "    if \"405\" in f:\n",
                "        nuclei = io.imread(f)\n",
                "nuclei = np.array(nuclei)\n",
                "imgs = skimage.exposure.equalize_adapthist(nuclei, clip_limit=clip_limit)\n",
                "original_imgs = imgs\n",
                "print(\"Subsampled image shape:\", imgs.shape)\n",
                "print(\"number of z-slices:\", imgs.shape[0])\n",
                "original_z_slice_count = len(imgs)\n",
                "print(\"number of z slices in the original image:\", original_z_slice_count)"
            ]
        },
        {
            "cell_type": "code",
            "execution_count": 5,
            "id": "f2b9812a",
            "metadata": {
                "execution": {
                    "iopub.execute_input": "2024-12-24T21:54:47.101767Z",
                    "iopub.status.busy": "2024-12-24T21:54:47.101616Z",
                    "iopub.status.idle": "2024-12-24T21:54:48.849935Z",
                    "shell.execute_reply": "2024-12-24T21:54:48.849420Z"
                },
                "papermill": {
                    "duration": 1.75166,
                    "end_time": "2024-12-24T21:54:48.850687",
                    "exception": false,
                    "start_time": "2024-12-24T21:54:47.099027",
                    "status": "completed"
                },
                "tags": []
            },
            "outputs": [
                {
                    "name": "stdout",
                    "output_type": "stream",
                    "text": [
                        "2.5D image stack shape: (33, 1537, 1540)\n"
                    ]
                }
            ],
            "source": [
                "# make a 2.5 D max projection image stack with a sliding window of 3 slices\n",
                "\n",
                "image_stack_2_5D = np.empty((0, imgs.shape[1], imgs.shape[2]), dtype=imgs.dtype)\n",
                "for image_index in range(imgs.shape[0]):\n",
                "    image_stack_window = imgs[image_index : image_index + window_size]\n",
                "    if not image_stack_window.shape[0] == window_size:\n",
                "        break\n",
                "    # max project the image stack\n",
                "    image_stack_2_5D = np.append(\n",
                "        image_stack_2_5D, np.max(image_stack_window, axis=0)[np.newaxis, :, :], axis=0\n",
                "    )\n",
                "\n",
                "imgs = np.array(image_stack_2_5D)\n",
                "print(\"2.5D image stack shape:\", image_stack_2_5D.shape)"
            ]
        },
        {
            "cell_type": "markdown",
            "id": "515bf8ce",
            "metadata": {
                "papermill": {
                    "duration": 0.002104,
                    "end_time": "2024-12-24T21:54:48.855007",
                    "exception": false,
                    "start_time": "2024-12-24T21:54:48.852903",
                    "status": "completed"
                },
                "tags": []
            },
            "source": [
                "## Cellpose"
            ]
        },
        {
            "cell_type": "code",
            "execution_count": 6,
            "id": "47b988a2",
            "metadata": {
                "execution": {
                    "iopub.execute_input": "2024-12-24T21:54:48.859527Z",
                    "iopub.status.busy": "2024-12-24T21:54:48.859370Z",
                    "iopub.status.idle": "2024-12-24T21:55:02.638747Z",
                    "shell.execute_reply": "2024-12-24T21:55:02.638039Z"
                },
                "papermill": {
                    "duration": 13.782763,
                    "end_time": "2024-12-24T21:55:02.639739",
                    "exception": false,
                    "start_time": "2024-12-24T21:54:48.856976",
                    "status": "completed"
                },
                "tags": []
            },
            "outputs": [
                {
                    "name": "stderr",
                    "output_type": "stream",
                    "text": [
                        "/home/lippincm/miniforge3/envs/GFF_cellpose/lib/python3.9/site-packages/cellpose/resnet_torch.py:271: FutureWarning: You are using `torch.load` with `weights_only=False` (the current default value), which uses the default pickle module implicitly. It is possible to construct malicious pickle data which will execute arbitrary code during unpickling (See https://github.com/pytorch/pytorch/blob/main/SECURITY.md#untrusted-models for more details). In a future release, the default value for `weights_only` will be flipped to `True`. This limits the functions that could be executed during unpickling. Arbitrary objects will no longer be allowed to be loaded via this mode unless they are explicitly allowlisted by the user via `torch.serialization.add_safe_globals`. We recommend you start setting `weights_only=True` for any use case where you don't have full control of the loaded file. Please open an issue on GitHub for any issues related to this experimental feature.\n",
                        "  state_dict = torch.load(filename, map_location=device)\n",
                        "100%|\u2588\u2588\u2588\u2588\u2588\u2588\u2588\u2588\u2588\u2588| 32/32 [00:00<00:00, 45.64it/s]\n"
                    ]
                }
            ],
            "source": [
                "use_GPU = torch.cuda.is_available()\n",
                "# Load the model\n",
                "model_name = \"nuclei\"\n",
                "model = models.CellposeModel(gpu=use_GPU, model_type=model_name)\n",
                "\n",
                "# Perform segmentation\n",
                "labels, details, _ = model.eval(\n",
                "    imgs, diameter=75, channels=[0, 0], z_axis=0, stitch_threshold=0.8\n",
                ")"
            ]
        },
        {
            "cell_type": "markdown",
            "id": "d249dc94",
            "metadata": {
                "papermill": {
                    "duration": 0.002333,
                    "end_time": "2024-12-24T21:55:02.644709",
                    "exception": false,
                    "start_time": "2024-12-24T21:55:02.642376",
                    "status": "completed"
                },
                "tags": []
            },
            "source": [
                "<img src=\"../notebook_imgs/Sliding_window_unaggregate.jpg\" alt=\"image\" width=\"300\"/>"
            ]
        },
        {
            "cell_type": "markdown",
            "id": "3942125d",
            "metadata": {
                "papermill": {
                    "duration": 0.002306,
                    "end_time": "2024-12-24T21:55:02.649347",
                    "exception": false,
                    "start_time": "2024-12-24T21:55:02.647041",
                    "status": "completed"
                },
                "tags": []
            },
            "source": [
                "## Reverse the sliding window max projection"
            ]
        },
        {
            "cell_type": "code",
            "execution_count": 7,
            "id": "24f02d7f",
            "metadata": {
                "execution": {
                    "iopub.execute_input": "2024-12-24T21:55:02.655264Z",
                    "iopub.status.busy": "2024-12-24T21:55:02.654836Z",
                    "iopub.status.idle": "2024-12-24T21:55:03.262339Z",
                    "shell.execute_reply": "2024-12-24T21:55:03.261808Z"
                },
                "papermill": {
                    "duration": 0.611592,
                    "end_time": "2024-12-24T21:55:03.263278",
                    "exception": false,
                    "start_time": "2024-12-24T21:55:02.651686",
                    "status": "completed"
                },
                "tags": []
            },
            "outputs": [
                {
                    "name": "stdout",
                    "output_type": "stream",
                    "text": [
                        "Decoupling the sliding window max projection of 3 slices\n"
                    ]
                }
            ],
            "source": [
                "# reverse sliding window max projection\n",
                "full_mask_z_stack = []\n",
                "reconstruction_dict = {index: [] for index in range(original_z_slice_count)}\n",
                "print(f\"Decoupling the sliding window max projection of {window_size} slices\")\n",
                "\n",
                "for z_stack_mask_index in range(len(labels)):\n",
                "    z_stack_decouple = []\n",
                "    [z_stack_decouple.append(labels[z_stack_mask_index]) for _ in range(window_size)]\n",
                "    for z_window_index, z_stack_mask in enumerate(z_stack_decouple):\n",
                "        if not (z_stack_mask_index + z_window_index) >= original_z_slice_count:\n",
                "            reconstruction_dict[z_stack_mask_index + z_window_index].append(\n",
                "                z_stack_mask\n",
                "            )\n",
                "\n",
                "# save the reconstruction_dict to a file for downstream decoupling\n",
                "np.save(mask_path / \"nuclei_reconstruction_dict.npy\", reconstruction_dict)"
            ]
        }
    ],
    "metadata": {
        "kernelspec": {
            "display_name": "GFF_cellpose",
            "language": "python",
            "name": "python3"
        },
        "language_info": {
            "codemirror_mode": {
                "name": "ipython",
                "version": 3
            },
            "file_extension": ".py",
            "mimetype": "text/x-python",
            "name": "python",
            "nbconvert_exporter": "python",
            "pygments_lexer": "ipython3",
            "version": "3.9.21"
        },
        "papermill": {
            "default_parameters": {},
            "duration": 29.160519,
            "end_time": "2024-12-24T21:55:04.284966",
            "environment_variables": {},
            "exception": null,
            "input_path": "0.segment_nuclei_organoids.ipynb",
            "output_path": "0.segment_nuclei_organoids.ipynb",
            "parameters": {},
            "start_time": "2024-12-24T21:54:35.124447",
            "version": "2.6.0"
        }
    },
    "nbformat": 4,
    "nbformat_minor": 5
}
