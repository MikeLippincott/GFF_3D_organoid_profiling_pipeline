{
    "cells": [
        {
            "cell_type": "markdown",
            "id": "f86124f8",
            "metadata": {
                "papermill": {
                    "duration": 0.002023,
                    "end_time": "2024-12-24T21:56:01.789129",
                    "exception": false,
                    "start_time": "2024-12-24T21:56:01.787106",
                    "status": "completed"
                },
                "tags": []
            },
            "source": [
                "This notebook focuses on trying to find a way to segment cells within organoids properly.\n",
                "The end goals is to segment cell and extract morphology features from cellprofiler.\n",
                "These masks must be imported into cellprofiler to extract features."
            ]
        },
        {
            "cell_type": "markdown",
            "id": "96a79a16",
            "metadata": {
                "papermill": {
                    "duration": 0.00111,
                    "end_time": "2024-12-24T21:56:01.791669",
                    "exception": false,
                    "start_time": "2024-12-24T21:56:01.790559",
                    "status": "completed"
                },
                "tags": []
            },
            "source": [
                "## import libraries "
            ]
        },
        {
            "cell_type": "code",
            "execution_count": 1,
            "id": "1a5bde38",
            "metadata": {
                "execution": {
                    "iopub.execute_input": "2024-12-24T21:56:01.794880Z",
                    "iopub.status.busy": "2024-12-24T21:56:01.794519Z",
                    "iopub.status.idle": "2024-12-24T21:56:02.076397Z",
                    "shell.execute_reply": "2024-12-24T21:56:02.076056Z"
                },
                "papermill": {
                    "duration": 0.284501,
                    "end_time": "2024-12-24T21:56:02.077330",
                    "exception": false,
                    "start_time": "2024-12-24T21:56:01.792829",
                    "status": "completed"
                },
                "tags": []
            },
            "outputs": [],
            "source": [
                "import argparse\n",
                "import multiprocessing\n",
                "import pathlib\n",
                "from multiprocessing import Pool\n",
                "\n",
                "import matplotlib.pyplot as plt\n",
                "\n",
                "# Import dependencies\n",
                "import numpy as np\n",
                "import skimage\n",
                "import tifffile\n",
                "import tqdm\n",
                "from skimage import io\n",
                "\n",
                "# check if in a jupyter notebook\n",
                "try:\n",
                "    cfg = get_ipython().config\n",
                "    in_notebook = True\n",
                "except NameError:\n",
                "    in_notebook = False"
            ]
        },
        {
            "cell_type": "markdown",
            "id": "97195f78",
            "metadata": {
                "papermill": {
                    "duration": 0.001912,
                    "end_time": "2024-12-24T21:56:02.081422",
                    "exception": false,
                    "start_time": "2024-12-24T21:56:02.079510",
                    "status": "completed"
                },
                "tags": []
            },
            "source": [
                "## parse args and set paths"
            ]
        },
        {
            "cell_type": "code",
            "execution_count": 2,
            "id": "586f35fb",
            "metadata": {
                "execution": {
                    "iopub.execute_input": "2024-12-24T21:56:02.086138Z",
                    "iopub.status.busy": "2024-12-24T21:56:02.085942Z",
                    "iopub.status.idle": "2024-12-24T21:56:02.090092Z",
                    "shell.execute_reply": "2024-12-24T21:56:02.089817Z"
                },
                "papermill": {
                    "duration": 0.007304,
                    "end_time": "2024-12-24T21:56:02.090686",
                    "exception": false,
                    "start_time": "2024-12-24T21:56:02.083382",
                    "status": "completed"
                },
                "tags": []
            },
            "outputs": [
                {
                    "name": "stdout",
                    "output_type": "stream",
                    "text": [
                        "Running in a notebook\n"
                    ]
                }
            ],
            "source": [
                "if not in_notebook:\n",
                "    print(\"Running as script\")\n",
                "    # set up arg parser\n",
                "    parser = argparse.ArgumentParser(description=\"Segment the nuclei of a tiff image\")\n",
                "\n",
                "    parser.add_argument(\n",
                "        \"--input_dir\",\n",
                "        type=str,\n",
                "        help=\"Path to the input directory containing the tiff images\",\n",
                "    )\n",
                "    parser.add_argument(\n",
                "        \"--compartment\",\n",
                "        type=str,\n",
                "        default=\"none\",\n",
                "        help=\"Compartment to segment. Options are 'nuclei', 'cell', and 'organoid'\",\n",
                "    )\n",
                "    parser.add_argument(\n",
                "        \"--window_size\",\n",
                "        type=int,\n",
                "        default=5,\n",
                "        help=\"Window size for the median filter\",\n",
                "    )\n",
                "\n",
                "    args = parser.parse_args()\n",
                "    input_dir = pathlib.Path(args.input_dir).resolve(strict=True)\n",
                "    compartment = args.compartment\n",
                "    window_size = args.window_size\n",
                "else:\n",
                "    print(\"Running in a notebook\")\n",
                "    input_dir = pathlib.Path(\"../../data/NF0014/normalized_z/C4-2/\").resolve(\n",
                "        strict=True\n",
                "    )\n",
                "    compartment = \"nuclei\"\n",
                "    window_size = 5\n",
                "\n",
                "mask_path = pathlib.Path(f\"../processed_data/{input_dir.stem}\").resolve()\n",
                "mask_path.mkdir(exist_ok=True, parents=True)\n",
                "\n",
                "if compartment == \"nuclei\":\n",
                "    mask_file_path = pathlib.Path(mask_path / \"nuclei_masks.tiff\").resolve()\n",
                "    reconstruction_dict_path = pathlib.Path(\n",
                "        mask_path / \"nuclei_reconstruction_dict.npy\"\n",
                "    ).resolve(strict=True)\n",
                "elif compartment == \"cell\":\n",
                "    mask_file_path = pathlib.Path(mask_path / \"cell_masks.tiff\").resolve()\n",
                "    reconstruction_dict_path = pathlib.Path(\n",
                "        mask_path / \"cell_reconstruction_dict.npy\"\n",
                "    ).resolve(strict=True)\n",
                "else:\n",
                "    raise ValueError(\n",
                "        \"Invalid compartment, please choose 'nuclei', 'cell', or 'organoid'\"\n",
                "    )"
            ]
        },
        {
            "cell_type": "markdown",
            "id": "e4dd2597",
            "metadata": {
                "papermill": {
                    "duration": 0.001945,
                    "end_time": "2024-12-24T21:56:02.094195",
                    "exception": false,
                    "start_time": "2024-12-24T21:56:02.092250",
                    "status": "completed"
                },
                "tags": []
            },
            "source": [
                "## Set up images, paths and functions"
            ]
        },
        {
            "cell_type": "code",
            "execution_count": 3,
            "id": "fbac5734",
            "metadata": {},
            "outputs": [],
            "source": [
                "def euclidian_2D_distance(coord_set_1: tuple, coord_set_2: tuple) -> float:\n",
                "    \"\"\"\n",
                "    This function calculates the euclidian distance between two sets of coordinates (2D)\n",
                "\n",
                "    sqrt((x1 - x2)^2 + (y1 - y2)^2)\n",
                "\n",
                "    Parameters\n",
                "    ----------\n",
                "    coord_set_1 : tuple\n",
                "        The first set of coordinates (x, y)\n",
                "    coord_set_2 : tuple\n",
                "        The second set of coordinates (x, y)\n",
                "\n",
                "    Returns\n",
                "    -------\n",
                "    float\n",
                "        The euclidian distance between the two sets of coordinates\n",
                "    \"\"\"\n",
                "    return np.sqrt(\n",
                "        (coord_set_1[0] - coord_set_2[0]) ** 2 + (coord_set_1[1] - coord_set_2[1]) ** 2\n",
                "    )"
            ]
        },
        {
            "cell_type": "code",
            "execution_count": 4,
            "id": "0c4d9162",
            "metadata": {
                "execution": {
                    "iopub.execute_input": "2024-12-24T21:56:02.400545Z",
                    "iopub.status.busy": "2024-12-24T21:56:02.400392Z",
                    "iopub.status.idle": "2024-12-24T21:56:02.407059Z",
                    "shell.execute_reply": "2024-12-24T21:56:02.406788Z"
                },
                "papermill": {
                    "duration": 0.009819,
                    "end_time": "2024-12-24T21:56:02.407623",
                    "exception": false,
                    "start_time": "2024-12-24T21:56:02.397804",
                    "status": "completed"
                },
                "tags": []
            },
            "outputs": [],
            "source": [
                "class DecoupleSlidingWindowMasks:\n",
                "    def __init__(self, lambda_IOU_threshold: int = 0.8, image_stack: np.array = None):\n",
                "        self.lambda_IOU_threshold = lambda_IOU_threshold\n",
                "        self.image_stack = image_stack\n",
                "        self.mask_indices_dict = {\n",
                "            \"unique_mask\": [],\n",
                "            \"mask_indices\": [],\n",
                "            \"psuedo_slice\": [],\n",
                "            \"x_y_coords\": [],\n",
                "        }\n",
                "        self.overlap_dict = {\"unique_mask\": [], \"mask_indices\": [], \"psuedo_slice\": []}\n",
                "\n",
                "    def get_unique_masks(self):\n",
                "\n",
                "        # find each unqiue mask identity via pixel value\n",
                "        unique_masks = np.unique(self.image_stack)\n",
                "        # loop through each unique mask identity\n",
                "        for unique_mask in unique_masks:\n",
                "            # loop through each mask image\n",
                "            for psuedo_slice in range(len(self.image_stack)):\n",
                "                # find where the unique mask identity is in the mask image\n",
                "                tmp_image = self.image_stack[psuedo_slice]\n",
                "                # get only the unique mask\n",
                "                image_for_coordinates = np.array(\n",
                "                    tmp_image == unique_mask, dtype=np.uint8\n",
                "                )\n",
                "                mask_indices = np.where(tmp_image == unique_mask)\n",
                "                # if the mask identity is in the mask image\n",
                "                self.mask_indices_dict[\"unique_mask\"].append(unique_mask)\n",
                "                self.mask_indices_dict[\"mask_indices\"].append(mask_indices)\n",
                "                self.mask_indices_dict[\"psuedo_slice\"].append(psuedo_slice)\n",
                "                c = skimage.measure.regionprops(image_for_coordinates)\n",
                "                # print(mask_indices)\n",
                "                for property in c:\n",
                "                    centroid = property.centroid\n",
                "                    self.mask_indices_dict[\"x_y_coords\"].append(centroid)\n",
                "                if len(self.mask_indices_dict[\"x_y_coords\"]) < len(\n",
                "                    self.mask_indices_dict[\"mask_indices\"]\n",
                "                ):\n",
                "                    self.mask_indices_dict[\"x_y_coords\"].append(None)\n",
                "\n",
                "    def check_overlap(self):\n",
                "        # check for which masks overlap with each other across psuedo slices\n",
                "        for mask_index, mask_indices in enumerate(\n",
                "            self.mask_indices_dict[\"mask_indices\"]\n",
                "        ):\n",
                "            for mask_index_2, mask_indices_2 in enumerate(\n",
                "                self.mask_indices_dict[\"mask_indices\"]\n",
                "            ):\n",
                "\n",
                "                if mask_index != mask_index_2:\n",
                "                    if (\n",
                "                        self.mask_indices_dict[\"x_y_coords\"][mask_index] is None\n",
                "                        or self.mask_indices_dict[\"x_y_coords\"][mask_index_2] is None\n",
                "                    ):\n",
                "                        distance = 100\n",
                "                    else:\n",
                "                        distance = euclidian_2D_distance(\n",
                "                            self.mask_indices_dict[\"x_y_coords\"][mask_index],\n",
                "                            self.mask_indices_dict[\"x_y_coords\"][mask_index_2],\n",
                "                        )\n",
                "\n",
                "                    if distance < 10:\n",
                "                        # set some variables pertaining to the masks\n",
                "                        unique_mask_num = self.mask_indices_dict[\"unique_mask\"][\n",
                "                            mask_index\n",
                "                        ]\n",
                "                        unique_mask_num_2 = self.mask_indices_dict[\"unique_mask\"][\n",
                "                            mask_index_2\n",
                "                        ]\n",
                "                        psuedo_slice = self.mask_indices_dict[\"psuedo_slice\"][\n",
                "                            mask_index\n",
                "                        ]\n",
                "                        psuedo_slice_2 = self.mask_indices_dict[\"psuedo_slice\"][\n",
                "                            mask_index_2\n",
                "                        ]\n",
                "                        # check if the masks overlap\n",
                "\n",
                "                        intersection = np.intersect1d(mask_indices, mask_indices_2)\n",
                "                        union = np.union1d(mask_indices, mask_indices_2)\n",
                "                        try:\n",
                "                            IOU = len(intersection) / len(union)\n",
                "                        except ZeroDivisionError:\n",
                "                            continue\n",
                "                        if IOU > self.lambda_IOU_threshold:\n",
                "                            # keep the larger mask\n",
                "                            mask_area = sum([len(x) for x in mask_indices])\n",
                "                            mask_area_2 = sum([len(x) for x in mask_indices_2])\n",
                "                            if mask_area > mask_area_2:\n",
                "                                self.overlap_dict[\"unique_mask\"].append(unique_mask_num)\n",
                "                                self.overlap_dict[\"mask_indices\"].append(mask_indices)\n",
                "                                self.overlap_dict[\"psuedo_slice\"].append(psuedo_slice)\n",
                "                            elif mask_area < mask_area_2:\n",
                "                                self.overlap_dict[\"unique_mask\"].append(\n",
                "                                    unique_mask_num_2\n",
                "                                )\n",
                "                                self.overlap_dict[\"mask_indices\"].append(mask_indices_2)\n",
                "                                self.overlap_dict[\"psuedo_slice\"].append(psuedo_slice_2)\n",
                "                            else:\n",
                "                                print(\"Mask areas are equal, picking the first mask\")\n",
                "                                self.overlap_dict[\"unique_mask\"].append(unique_mask_num)\n",
                "                                self.overlap_dict[\"mask_indices\"].append(mask_indices)\n",
                "                                self.overlap_dict[\"psuedo_slice\"].append(psuedo_slice)\n",
                "\n",
                "    def reconstruct_image(self):\n",
                "        new_image = np.zeros(self.image_stack[0].shape)\n",
                "        # replace the overlapping masks with the new mask and its identity\n",
                "        for mask_index, mask_indices in enumerate(self.overlap_dict[\"mask_indices\"]):\n",
                "            # replace pixel values with unique mask identity at the mask indices\n",
                "            new_image[mask_indices] = self.overlap_dict[\"unique_mask\"][mask_index]\n",
                "        return new_image\n",
                "\n",
                "    def decouple_masks(self):\n",
                "        self.get_unique_masks()\n",
                "        self.check_overlap()\n",
                "        return self.reconstruct_image()"
            ]
        },
        {
            "cell_type": "code",
            "execution_count": null,
            "id": "906c68f1",
            "metadata": {
                "execution": {
                    "iopub.execute_input": "2024-12-24T21:56:02.098921Z",
                    "iopub.status.busy": "2024-12-24T21:56:02.098667Z",
                    "iopub.status.idle": "2024-12-24T21:56:02.174411Z",
                    "shell.execute_reply": "2024-12-24T21:56:02.174088Z"
                },
                "papermill": {
                    "duration": 0.078911,
                    "end_time": "2024-12-24T21:56:02.175117",
                    "exception": false,
                    "start_time": "2024-12-24T21:56:02.096206",
                    "status": "completed"
                },
                "tags": []
            },
            "outputs": [
                {
                    "name": "stdout",
                    "output_type": "stream",
                    "text": [
                        "number of z slices in the original image: 33\n"
                    ]
                }
            ],
            "source": [
                "image_extensions = {\".tif\", \".tiff\"}\n",
                "files = sorted(input_dir.glob(\"*\"))\n",
                "files = [str(x) for x in files if x.suffix in image_extensions]\n",
                "# get the nuclei image\n",
                "for f in files:\n",
                "    if compartment == \"nuclei\" and \"405\" in f:\n",
                "        imgs = io.imread(f)\n",
                "    elif compartment == \"cell\" and \"555\" in f:\n",
                "        imgs = io.imread(f)\n",
                "    elif compartment == \"organoid\" and \"488\" in f:\n",
                "        imgs = io.imread(f)\n",
                "imgs = np.array(imgs)\n",
                "original_imgs = imgs.copy()\n",
                "original_z_slice_count = len(imgs)\n",
                "print(\"number of z slices in the original image:\", original_z_slice_count)"
            ]
        },
        {
            "cell_type": "code",
            "execution_count": null,
            "id": "584c0a25",
            "metadata": {
                "execution": {
                    "iopub.execute_input": "2024-12-24T21:56:02.179921Z",
                    "iopub.status.busy": "2024-12-24T21:56:02.179774Z",
                    "iopub.status.idle": "2024-12-24T21:56:02.390937Z",
                    "shell.execute_reply": "2024-12-24T21:56:02.390544Z"
                },
                "papermill": {
                    "duration": 0.214623,
                    "end_time": "2024-12-24T21:56:02.391811",
                    "exception": false,
                    "start_time": "2024-12-24T21:56:02.177188",
                    "status": "completed"
                },
                "tags": []
            },
            "outputs": [],
            "source": [
                "reconstruction_dict = np.load(reconstruction_dict_path, allow_pickle=True).item()"
            ]
        },
        {
            "cell_type": "markdown",
            "id": "3942125d",
            "metadata": {
                "papermill": {
                    "duration": 0.002045,
                    "end_time": "2024-12-24T21:56:02.395797",
                    "exception": false,
                    "start_time": "2024-12-24T21:56:02.393752",
                    "status": "completed"
                },
                "tags": []
            },
            "source": [
                "## Reverse the sliding window max projection"
            ]
        },
        {
            "cell_type": "code",
            "execution_count": null,
            "id": "13155748",
            "metadata": {
                "execution": {
                    "iopub.execute_input": "2024-12-24T21:56:02.411827Z",
                    "iopub.status.busy": "2024-12-24T21:56:02.411683Z",
                    "iopub.status.idle": "2024-12-24T21:59:21.990529Z",
                    "shell.execute_reply": "2024-12-24T21:59:21.989975Z"
                },
                "papermill": {
                    "duration": 199.582613,
                    "end_time": "2024-12-24T21:59:21.991877",
                    "exception": false,
                    "start_time": "2024-12-24T21:56:02.409264",
                    "status": "completed"
                },
                "tags": []
            },
            "outputs": [],
            "source": [
                "# # parallel processing for the cell above\n",
                "# # set the number of cores to use\n",
                "# num_cores = multiprocessing.cpu_count() - 2\n",
                "\n",
                "\n",
                "# def call_mask_decoupling(z_stack_index, z_stack_mask):\n",
                "#     decouple = DecoupleSlidingWindowMasks(\n",
                "#         lambda_IOU_threshold=0.8, image_stack=z_stack_mask\n",
                "#     )\n",
                "#     new_image = decouple.decouple_masks()\n",
                "#     return z_stack_index, new_image\n",
                "\n",
                "# results = reconstruction_dict\n",
                "# # run the decoupling a maximum of n times where n is the sliding window size\n",
                "# for window in tqdm.tqdm(range(window_size)):\n",
                "#     # process each z slice in parallel\n",
                "#     with Pool(num_cores) as p:\n",
                "#         results = p.starmap(call_mask_decoupling, results.items())\n",
                "#     # conver the results list into a dict\n",
                "#     results = dict(results)"
            ]
        },
        {
            "cell_type": "code",
            "execution_count": null,
            "id": "d07c85e4",
            "metadata": {},
            "outputs": [
                {
                    "ename": "NameError",
                    "evalue": "name 'results' is not defined",
                    "output_type": "error",
                    "traceback": [
                        "\u001b[0;31m---------------------------------------------------------------------------\u001b[0m",
                        "\u001b[0;31mNameError\u001b[0m                                 Traceback (most recent call last)",
                        "Cell \u001b[0;32mIn[8], line 1\u001b[0m\n\u001b[0;32m----> 1\u001b[0m \u001b[43mresults\u001b[49m\n",
                        "\u001b[0;31mNameError\u001b[0m: name 'results' is not defined"
                    ]
                }
            ],
            "source": [
                "results"
            ]
        },
        {
            "cell_type": "code",
            "execution_count": null,
            "metadata": {},
            "outputs": [],
            "source": []
        },
        {
            "cell_type": "code",
            "execution_count": null,
            "id": "befe60fa",
            "metadata": {},
            "outputs": [],
            "source": [
                "# reconstruct the masks into a single image (z-stack)\n",
                "reconstructed_masks = np.zeros(\n",
                "    (original_z_slice_count, original_imgs.shape[1], original_imgs.shape[2])\n",
                ")\n",
                "for index, new_image in results:\n",
                "    reconstructed_masks[index] = new_image\n",
                "# cast the reconstructed masks to int8\n",
                "reconstructed_masks = reconstructed_masks.astype(np.uint8)"
            ]
        },
        {
            "cell_type": "code",
            "execution_count": null,
            "id": "2e7dbcc9",
            "metadata": {
                "execution": {
                    "iopub.execute_input": "2024-12-24T21:59:21.998707Z",
                    "iopub.status.busy": "2024-12-24T21:59:21.998515Z",
                    "iopub.status.idle": "2024-12-24T21:59:22.491503Z",
                    "shell.execute_reply": "2024-12-24T21:59:22.491081Z"
                },
                "papermill": {
                    "duration": 0.497532,
                    "end_time": "2024-12-24T21:59:22.492680",
                    "exception": false,
                    "start_time": "2024-12-24T21:59:21.995148",
                    "status": "completed"
                },
                "tags": []
            },
            "outputs": [],
            "source": [
                "# # save the masks\n",
                "print(reconstructed_masks.shape)\n",
                "print(reconstructed_masks.dtype)\n",
                "print(reconstructed_masks[0])\n",
                "print(reconstructed_masks.max())\n",
                "print(np.unique(reconstructed_masks))\n",
                "# save the masks as tiff\n",
                "tifffile.imwrite(mask_file_path, reconstructed_masks)"
            ]
        },
        {
            "cell_type": "code",
            "execution_count": null,
            "id": "ac74c039",
            "metadata": {
                "execution": {
                    "iopub.execute_input": "2024-12-24T21:59:22.499634Z",
                    "iopub.status.busy": "2024-12-24T21:59:22.499482Z",
                    "iopub.status.idle": "2024-12-24T21:59:31.430544Z",
                    "shell.execute_reply": "2024-12-24T21:59:31.430213Z"
                },
                "papermill": {
                    "duration": 8.935572,
                    "end_time": "2024-12-24T21:59:31.431647",
                    "exception": false,
                    "start_time": "2024-12-24T21:59:22.496075",
                    "status": "completed"
                },
                "tags": []
            },
            "outputs": [],
            "source": [
                "if in_notebook:\n",
                "    # show each z slice of the image and masks\n",
                "    for z in range(reconstructed_masks.shape[0]):\n",
                "        fig = plt.figure(figsize=(10, 5))\n",
                "        plt.subplot(121)\n",
                "        plt.imshow(reconstructed_masks[z, :, :], cmap=\"gray\")\n",
                "        plt.title(\"image\")\n",
                "        plt.axis(\"off\")\n",
                "        plt.subplot(122)\n",
                "        plt.imshow(reconstructed_masks[z], cmap=\"gray\")\n",
                "        plt.title(\"masks\")\n",
                "        plt.axis(\"off\")\n",
                "        plt.show()"
            ]
        },
        {
            "cell_type": "code",
            "execution_count": null,
            "id": "d03f7de1",
            "metadata": {},
            "outputs": [],
            "source": []
        },
        {
            "cell_type": "code",
            "execution_count": null,
            "id": "a57ca09c",
            "metadata": {},
            "outputs": [],
            "source": [
                "# lambda_IOU_threshold = 0.8\n",
                "# image_stack = reconstruction_dict[3]\n",
                "# mask_indices_dict = {\n",
                "#     \"unique_mask\": [],\n",
                "#     \"mask_indices\": [],\n",
                "#     \"psuedo_slice\": [],\n",
                "#     \"x_y_coords\": [],\n",
                "# }\n",
                "# # find each unqiue mask identity via pixel value\n",
                "# unique_masks = np.unique(image_stack)\n",
                "# # loop through each unique mask identity\n",
                "\n",
                "# for unique_mask in unique_masks:\n",
                "#     # loop through each mask image\n",
                "#     for psuedo_slice in range(len(image_stack)):\n",
                "#         # find where the unique mask identity is in the mask image\n",
                "#         tmp_image = image_stack[psuedo_slice]\n",
                "#         # get only the unique mask\n",
                "#         image_for_coordinates = np.array(tmp_image == unique_mask, dtype=np.uint8)\n",
                "#         mask_indices = np.where(tmp_image == unique_mask)\n",
                "#         # if the mask identity is in the mask image\n",
                "#         mask_indices_dict[\"unique_mask\"].append(unique_mask)\n",
                "#         mask_indices_dict[\"mask_indices\"].append(mask_indices)\n",
                "#         mask_indices_dict[\"psuedo_slice\"].append(psuedo_slice)\n",
                "#         c = skimage.measure.regionprops(image_for_coordinates)\n",
                "#         # print(mask_indices)\n",
                "#         for property in c:\n",
                "#             print(property.centroid)\n",
                "#             # print(property.coords)\n",
                "#             # check for coordinates\n",
                "#             centroid = property.centroid\n",
                "#             if centroid is None:\n",
                "#                 print(\"no centroid\")\n",
                "#             # print(centroid)\n",
                "#             mask_indices_dict[\"x_y_coords\"].append(centroid)\n",
                "#         if len(mask_indices_dict[\"x_y_coords\"]) < len(mask_indices_dict[\"mask_indices\"]):\n",
                "#             mask_indices_dict[\"x_y_coords\"].append(None)"
            ]
        },
        {
            "cell_type": "code",
            "execution_count": null,
            "id": "23800dff",
            "metadata": {},
            "outputs": [],
            "source": []
        },
        {
            "cell_type": "code",
            "execution_count": null,
            "id": "a6f3ce87",
            "metadata": {},
            "outputs": [],
            "source": [
                "# print(len(mask_indices_dict['mask_indices']))\n",
                "# print(len(mask_indices_dict['x_y_coords']))\n",
                "# print(len(mask_indices_dict['psuedo_slice']))"
            ]
        },
        {
            "cell_type": "code",
            "execution_count": null,
            "id": "0a33f2ac",
            "metadata": {},
            "outputs": [],
            "source": [
                "# overlap_dict = {\"unique_mask\": [], \"mask_indices\": [], \"psuedo_slice\": []}\n",
                "\n",
                "# # check for which masks overlap with each other across psuedo slices\n",
                "# for mask_index, mask_indices in enumerate(\n",
                "#     mask_indices_dict[\"mask_indices\"]\n",
                "# ):\n",
                "#     for mask_index_2, mask_indices_2 in enumerate(\n",
                "#         mask_indices_dict[\"mask_indices\"]\n",
                "#     ):\n",
                "\n",
                "#         if mask_index != mask_index_2:\n",
                "#             # print(mask_index, mask_index_2)\n",
                "#             # print(mask_indices_dict[\"x_y_coords\"][mask_index])\n",
                "#             # print(mask_indices_dict[\"x_y_coords\"][mask_index_2])\n",
                "#             if mask_indices_dict[\"x_y_coords\"][mask_index] is None or mask_indices_dict[\"x_y_coords\"][mask_index_2] is None:\n",
                "#                 distance = 100\n",
                "#             else:\n",
                "#                 distance = euclidian_2D_distance(mask_indices_dict[\"x_y_coords\"][mask_index], mask_indices_dict[\"x_y_coords\"][mask_index_2])\n",
                "\n",
                "#             if distance < 10:\n",
                "#                 # set some variables pertaining to the masks\n",
                "#                 unique_mask_num = mask_indices_dict[\"unique_mask\"][mask_index]\n",
                "#                 unique_mask_num_2 = mask_indices_dict[\"unique_mask\"][mask_index_2]\n",
                "#                 psuedo_slice = mask_indices_dict[\"psuedo_slice\"][mask_index]\n",
                "#                 psuedo_slice_2 = mask_indices_dict[\"psuedo_slice\"][mask_index_2]\n",
                "#                 # check if the masks overlap\n",
                "\n",
                "#                 intersection = np.intersect1d(mask_indices, mask_indices_2)\n",
                "#                 union = np.union1d(mask_indices, mask_indices_2)\n",
                "#                 try:\n",
                "#                     IOU = len(intersection) / len(union)\n",
                "#                 except ZeroDivisionError:\n",
                "#                     continue\n",
                "#                 if IOU > lambda_IOU_threshold:\n",
                "#                     # keep the larger mask\n",
                "#                     mask_area = sum([len(x) for x in mask_indices])\n",
                "#                     mask_area_2 = sum([len(x) for x in mask_indices_2])\n",
                "#                     if mask_area > mask_area_2:\n",
                "#                         overlap_dict[\"unique_mask\"].append(unique_mask_num)\n",
                "#                         overlap_dict[\"mask_indices\"].append(mask_indices)\n",
                "#                         overlap_dict[\"psuedo_slice\"].append(psuedo_slice)\n",
                "#                     elif mask_area < mask_area_2:\n",
                "#                         overlap_dict[\"unique_mask\"].append(unique_mask_num_2)\n",
                "#                         overlap_dict[\"mask_indices\"].append(mask_indices_2)\n",
                "#                         overlap_dict[\"psuedo_slice\"].append(psuedo_slice_2)\n",
                "#                     else:\n",
                "#                         print(\"Mask areas are equal, picking the first mask\")\n",
                "#                         overlap_dict[\"unique_mask\"].append(unique_mask_num)\n",
                "#                         overlap_dict[\"mask_indices\"].append(mask_indices)\n",
                "#                         overlap_dict[\"psuedo_slice\"].append(psuedo_slice)\n",
                "\n",
                "\n",
                "# new_image = np.zeros(image_stack[0].shape)\n",
                "# # replace the overlapping masks with the new mask and its identity\n",
                "# for mask_index, mask_indices in enumerate(overlap_dict[\"mask_indices\"]):\n",
                "# # replace pixel values with unique mask identity at the mask indices\n",
                "#     new_image[mask_indices] = overlap_dict[\"unique_mask\"][mask_index]\n",
                "\n",
                "# plt.figure(figsize=(4,4))\n",
                "# plt.imshow(new_image, cmap=\"tab20\")"
            ]
        }
    ],
    "metadata": {
        "kernelspec": {
            "display_name": "GFF_segmentation",
            "language": "python",
            "name": "python3"
        },
        "language_info": {
            "codemirror_mode": {
                "name": "ipython",
                "version": 3
            },
            "file_extension": ".py",
            "mimetype": "text/x-python",
            "name": "python",
            "nbconvert_exporter": "python",
            "pygments_lexer": "ipython3",
            "version": "3.11.11"
        },
        "papermill": {
            "default_parameters": {},
            "duration": 210.758447,
            "end_time": "2024-12-24T21:59:31.891799",
            "environment_variables": {},
            "exception": null,
            "input_path": "2.segmentation_decoupling.ipynb",
            "output_path": "2.segmentation_decoupling.ipynb",
            "parameters": {},
            "start_time": "2024-12-24T21:56:01.133352",
            "version": "2.6.0"
        }
    },
    "nbformat": 4,
    "nbformat_minor": 5
}
