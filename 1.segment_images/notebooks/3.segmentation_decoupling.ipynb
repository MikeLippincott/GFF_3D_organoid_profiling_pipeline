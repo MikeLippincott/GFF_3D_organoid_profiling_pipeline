{
    "cells": [
        {
            "cell_type": "markdown",
            "id": "f86124f8",
            "metadata": {
                "papermill": {
                    "duration": 0.002023,
                    "end_time": "2024-12-24T21:56:01.789129",
                    "exception": false,
                    "start_time": "2024-12-24T21:56:01.787106",
                    "status": "completed"
                },
                "tags": []
            },
            "source": [
                "This notebook focuses on trying to find a way to segment cells within organoids properly.\n",
                "The end goals is to segment cell and extract morphology features from cellprofiler.\n",
                "These masks must be imported into cellprofiler to extract features."
            ]
        },
        {
            "cell_type": "markdown",
            "id": "96a79a16",
            "metadata": {
                "papermill": {
                    "duration": 0.00111,
                    "end_time": "2024-12-24T21:56:01.791669",
                    "exception": false,
                    "start_time": "2024-12-24T21:56:01.790559",
                    "status": "completed"
                },
                "tags": []
            },
            "source": [
                "## import libraries "
            ]
        },
        {
            "cell_type": "code",
            "execution_count": null,
            "id": "1a5bde38",
            "metadata": {
                "execution": {
                    "iopub.execute_input": "2024-12-24T21:56:01.794880Z",
                    "iopub.status.busy": "2024-12-24T21:56:01.794519Z",
                    "iopub.status.idle": "2024-12-24T21:56:02.076397Z",
                    "shell.execute_reply": "2024-12-24T21:56:02.076056Z"
                },
                "papermill": {
                    "duration": 0.284501,
                    "end_time": "2024-12-24T21:56:02.077330",
                    "exception": false,
                    "start_time": "2024-12-24T21:56:01.792829",
                    "status": "completed"
                },
                "tags": []
            },
            "outputs": [],
            "source": [
                "import argparse\n",
                "import multiprocessing\n",
                "import pathlib\n",
                "from multiprocessing import Pool\n",
                "\n",
                "import matplotlib.pyplot as plt\n",
                "\n",
                "# Import dependencies\n",
                "import numpy as np\n",
                "import tifffile\n",
                "from skimage import io\n",
                "\n",
                "# check if in a jupyter notebook\n",
                "try:\n",
                "    cfg = get_ipython().config\n",
                "    in_notebook = True\n",
                "except NameError:\n",
                "    in_notebook = False"
            ]
        },
        {
            "cell_type": "markdown",
            "id": "97195f78",
            "metadata": {
                "papermill": {
                    "duration": 0.001912,
                    "end_time": "2024-12-24T21:56:02.081422",
                    "exception": false,
                    "start_time": "2024-12-24T21:56:02.079510",
                    "status": "completed"
                },
                "tags": []
            },
            "source": [
                "## parse args and set paths"
            ]
        },
        {
            "cell_type": "code",
            "execution_count": null,
            "id": "586f35fb",
            "metadata": {
                "execution": {
                    "iopub.execute_input": "2024-12-24T21:56:02.086138Z",
                    "iopub.status.busy": "2024-12-24T21:56:02.085942Z",
                    "iopub.status.idle": "2024-12-24T21:56:02.090092Z",
                    "shell.execute_reply": "2024-12-24T21:56:02.089817Z"
                },
                "papermill": {
                    "duration": 0.007304,
                    "end_time": "2024-12-24T21:56:02.090686",
                    "exception": false,
                    "start_time": "2024-12-24T21:56:02.083382",
                    "status": "completed"
                },
                "tags": []
            },
            "outputs": [],
            "source": [
                "if not in_notebook:\n",
                "    print(\"Running as script\")\n",
                "    # set up arg parser\n",
                "    parser = argparse.ArgumentParser(description=\"Segment the nuclei of a tiff image\")\n",
                "\n",
                "    parser.add_argument(\n",
                "        \"--well_fov\",\n",
                "        type=str,\n",
                "        help=\"Path to the input directory containing the tiff images\",\n",
                "    )\n",
                "    parser.add_argument(\n",
                "        \"--compartment\",\n",
                "        type=str,\n",
                "        default=\"none\",\n",
                "        help=\"Compartment to segment. Options are 'nuclei', 'cell', and 'organoid'\",\n",
                "    )\n",
                "\n",
                "    args = parser.parse_args()\n",
                "    well_fov = args.input_dir\n",
                "    compartment = args.compartment\n",
                "else:\n",
                "    print(\"Running in a notebook\")\n",
                "    well_fov = \"C4-2\"\n",
                "    compartment = \"nuclei\"\n",
                "\n",
                "\n",
                "base_input_dir = \"../../data/NF0014/processed_data/\"\n",
                "input_dir = pathlib.Path(f\"{base_input_dir}/{well_fov}\").resolve(strict=True)\n",
                "mask_path = pathlib.Path(f\"../../data/NF0014/processed_data/{well_fov}\").resolve()\n",
                "mask_path.mkdir(exist_ok=True, parents=True)\n",
                "\n",
                "if compartment == \"nuclei\":\n",
                "    mask_file_path = pathlib.Path(mask_path / \"nuclei_masks.tiff\").resolve()\n",
                "    reconstruction_dict_path = pathlib.Path(\n",
                "        mask_path / \"nuclei_reconstruction_dict.npy\"\n",
                "    ).resolve(strict=True)\n",
                "elif compartment == \"cell\":\n",
                "    mask_file_path = pathlib.Path(mask_path / \"cell_masks.tiff\").resolve()\n",
                "    reconstruction_dict_path = pathlib.Path(\n",
                "        mask_path / \"cell_reconstruction_dict.npy\"\n",
                "    ).resolve(strict=True)\n",
                "elif compartment == \"organoid\":\n",
                "    mask_file_path = pathlib.Path(mask_path / \"organoid_masks.tiff\").resolve()\n",
                "    reconstruction_dict_path = pathlib.Path(\n",
                "        mask_path / \"organoid_reconstruction_dict.npy\"\n",
                "    ).resolve(strict=True)\n",
                "else:\n",
                "    raise ValueError(\n",
                "        \"Invalid compartment, please choose 'nuclei', 'cell', or 'organoid'\"\n",
                "    )"
            ]
        },
        {
            "cell_type": "markdown",
            "id": "e4dd2597",
            "metadata": {
                "papermill": {
                    "duration": 0.001945,
                    "end_time": "2024-12-24T21:56:02.094195",
                    "exception": false,
                    "start_time": "2024-12-24T21:56:02.092250",
                    "status": "completed"
                },
                "tags": []
            },
            "source": [
                "## Set up images, paths and functions"
            ]
        },
        {
            "cell_type": "code",
            "execution_count": null,
            "id": "0c4d9162",
            "metadata": {
                "execution": {
                    "iopub.execute_input": "2024-12-24T21:56:02.400545Z",
                    "iopub.status.busy": "2024-12-24T21:56:02.400392Z",
                    "iopub.status.idle": "2024-12-24T21:56:02.407059Z",
                    "shell.execute_reply": "2024-12-24T21:56:02.406788Z"
                },
                "papermill": {
                    "duration": 0.009819,
                    "end_time": "2024-12-24T21:56:02.407623",
                    "exception": false,
                    "start_time": "2024-12-24T21:56:02.397804",
                    "status": "completed"
                },
                "tags": []
            },
            "outputs": [],
            "source": [
                "class DecoupleSlidingWindowMasks:\n",
                "    def __init__(self, lambda_IOU_threshold: int = 0.8, image_stack: np.array = None):\n",
                "        self.lambda_IOU_threshold = lambda_IOU_threshold\n",
                "        self.image_stack = image_stack\n",
                "        self.mask_indices_dict = {\n",
                "            \"unique_mask\": [],\n",
                "            \"mask_indices\": [],\n",
                "            \"psuedo_slice\": [],\n",
                "        }\n",
                "        self.overlap_dict = {\"unique_mask\": [], \"mask_indices\": [], \"psuedo_slice\": []}\n",
                "\n",
                "    def get_unique_masks(self):\n",
                "\n",
                "        # find each unqiue mask identity via pixel value\n",
                "        unique_masks = np.unique(self.image_stack)\n",
                "        # loop through each unique mask identity\n",
                "        for unique_mask in unique_masks:\n",
                "            # loop through each mask image\n",
                "            for psuedo_slice in range(len(self.image_stack)):\n",
                "                # find where the unique mask identity is in the mask image\n",
                "                tmp_image = self.image_stack[psuedo_slice]\n",
                "                mask_indices = np.where(tmp_image == unique_mask)\n",
                "                # if the mask identity is in the mask image\n",
                "                self.mask_indices_dict[\"unique_mask\"].append(unique_mask)\n",
                "                self.mask_indices_dict[\"mask_indices\"].append(mask_indices)\n",
                "                self.mask_indices_dict[\"psuedo_slice\"].append(psuedo_slice)\n",
                "\n",
                "    def check_overlap(self):\n",
                "        # check for which masks overlap with each other across psuedo slices\n",
                "        for mask_index, mask_indices in enumerate(\n",
                "            self.mask_indices_dict[\"mask_indices\"]\n",
                "        ):\n",
                "            for mask_index_2, mask_indices_2 in enumerate(\n",
                "                self.mask_indices_dict[\"mask_indices\"]\n",
                "            ):\n",
                "                if mask_index != mask_index_2:\n",
                "                    # set some variables pertaining to the masks\n",
                "                    unique_mask_num = self.mask_indices_dict[\"unique_mask\"][mask_index]\n",
                "                    unique_mask_num_2 = self.mask_indices_dict[\"unique_mask\"][\n",
                "                        mask_index_2\n",
                "                    ]\n",
                "                    psuedo_slice = self.mask_indices_dict[\"psuedo_slice\"][mask_index]\n",
                "                    psuedo_slice_2 = self.mask_indices_dict[\"psuedo_slice\"][\n",
                "                        mask_index_2\n",
                "                    ]\n",
                "                    # check if the masks overlap\n",
                "                    intersection = np.intersect1d(mask_indices, mask_indices_2)\n",
                "                    union = np.union1d(mask_indices, mask_indices_2)\n",
                "                    try:\n",
                "                        IOU = len(intersection) / len(union)\n",
                "                    except ZeroDivisionError:\n",
                "                        continue\n",
                "                    IOU = len(intersection) / len(union)\n",
                "                    if IOU > self.lambda_IOU_threshold:\n",
                "                        # keep the larger mask\n",
                "                        mask_area = sum([len(x) for x in mask_indices])\n",
                "                        mask_area_2 = sum([len(x) for x in mask_indices_2])\n",
                "                        if mask_area > mask_area_2:\n",
                "                            self.overlap_dict[\"unique_mask\"].append(unique_mask_num)\n",
                "                            self.overlap_dict[\"mask_indices\"].append(mask_indices)\n",
                "                            self.overlap_dict[\"psuedo_slice\"].append(psuedo_slice)\n",
                "                        elif mask_area < mask_area_2:\n",
                "                            self.overlap_dict[\"unique_mask\"].append(unique_mask_num_2)\n",
                "                            self.overlap_dict[\"mask_indices\"].append(mask_indices_2)\n",
                "                            self.overlap_dict[\"psuedo_slice\"].append(psuedo_slice_2)\n",
                "                        else:\n",
                "                            print(\"Mask areas are equal, picking the first mask\")\n",
                "                            self.overlap_dict[\"unique_mask\"].append(unique_mask_num)\n",
                "                            self.overlap_dict[\"mask_indices\"].append(mask_indices)\n",
                "                            self.overlap_dict[\"psuedo_slice\"].append(psuedo_slice)\n",
                "\n",
                "    def reconstruct_image(self):\n",
                "        new_image = np.zeros(self.image_stack[0].shape)\n",
                "        # replace the overlapping masks with the new mask and its identity\n",
                "        for mask_index, mask_indices in enumerate(self.overlap_dict[\"mask_indices\"]):\n",
                "            # replace pixel values with unique mask identity at the mask indices\n",
                "            new_image[mask_indices] = self.overlap_dict[\"unique_mask\"][mask_index]\n",
                "        return new_image\n",
                "\n",
                "    def decouple_masks(self):\n",
                "        self.get_unique_masks()\n",
                "        self.check_overlap()\n",
                "        return self.reconstruct_image()"
            ]
        },
        {
            "cell_type": "code",
            "execution_count": null,
            "id": "906c68f1",
            "metadata": {
                "execution": {
                    "iopub.execute_input": "2024-12-24T21:56:02.098921Z",
                    "iopub.status.busy": "2024-12-24T21:56:02.098667Z",
                    "iopub.status.idle": "2024-12-24T21:56:02.174411Z",
                    "shell.execute_reply": "2024-12-24T21:56:02.174088Z"
                },
                "papermill": {
                    "duration": 0.078911,
                    "end_time": "2024-12-24T21:56:02.175117",
                    "exception": false,
                    "start_time": "2024-12-24T21:56:02.096206",
                    "status": "completed"
                },
                "tags": []
            },
            "outputs": [],
            "source": [
                "image_extensions = {\".tif\", \".tiff\"}\n",
                "files = sorted(input_dir.glob(\"*\"))\n",
                "files = [str(x) for x in files if x.suffix in image_extensions]\n",
                "# get the nuclei image\n",
                "for f in files:\n",
                "    if compartment == \"nuclei\" and \"405\" in f:\n",
                "        imgs = io.imread(f)\n",
                "    elif compartment == \"cell\" and \"555\" in f:\n",
                "        imgs = io.imread(f)\n",
                "    elif compartment == \"organoid\" and \"488\" in f:\n",
                "        imgs = io.imread(f)\n",
                "imgs = np.array(imgs)\n",
                "original_imgs = imgs.copy()\n",
                "original_z_slice_count = len(imgs)\n",
                "print(\"number of z slices in the original image:\", original_z_slice_count)"
            ]
        },
        {
            "cell_type": "code",
            "execution_count": null,
            "id": "584c0a25",
            "metadata": {
                "execution": {
                    "iopub.execute_input": "2024-12-24T21:56:02.179921Z",
                    "iopub.status.busy": "2024-12-24T21:56:02.179774Z",
                    "iopub.status.idle": "2024-12-24T21:56:02.390937Z",
                    "shell.execute_reply": "2024-12-24T21:56:02.390544Z"
                },
                "papermill": {
                    "duration": 0.214623,
                    "end_time": "2024-12-24T21:56:02.391811",
                    "exception": false,
                    "start_time": "2024-12-24T21:56:02.177188",
                    "status": "completed"
                },
                "tags": []
            },
            "outputs": [],
            "source": [
                "reconstruction_dict = np.load(reconstruction_dict_path, allow_pickle=True).item()"
            ]
        },
        {
            "cell_type": "markdown",
            "id": "3942125d",
            "metadata": {
                "papermill": {
                    "duration": 0.002045,
                    "end_time": "2024-12-24T21:56:02.395797",
                    "exception": false,
                    "start_time": "2024-12-24T21:56:02.393752",
                    "status": "completed"
                },
                "tags": []
            },
            "source": [
                "## Reverse the sliding window max projection"
            ]
        },
        {
            "cell_type": "code",
            "execution_count": null,
            "id": "13155748",
            "metadata": {
                "execution": {
                    "iopub.execute_input": "2024-12-24T21:56:02.411827Z",
                    "iopub.status.busy": "2024-12-24T21:56:02.411683Z",
                    "iopub.status.idle": "2024-12-24T21:59:21.990529Z",
                    "shell.execute_reply": "2024-12-24T21:59:21.989975Z"
                },
                "papermill": {
                    "duration": 199.582613,
                    "end_time": "2024-12-24T21:59:21.991877",
                    "exception": false,
                    "start_time": "2024-12-24T21:56:02.409264",
                    "status": "completed"
                },
                "tags": []
            },
            "outputs": [],
            "source": [
                "# parallel processing for the cell above\n",
                "\n",
                "\n",
                "# set the number of cores to use\n",
                "num_cores = multiprocessing.cpu_count() - 2\n",
                "\n",
                "\n",
                "def call_mask_decoupling(z_stack_index, z_stack_mask):\n",
                "    decouple = DecoupleSlidingWindowMasks(\n",
                "        lambda_IOU_threshold=0.8, image_stack=z_stack_mask\n",
                "    )\n",
                "    new_image = decouple.decouple_masks()\n",
                "    return z_stack_index, new_image\n",
                "\n",
                "\n",
                "# process each z slice in parallel\n",
                "with Pool(num_cores) as p:\n",
                "    results = p.starmap(call_mask_decoupling, reconstruction_dict.items())\n",
                "\n",
                "# reconstruct the masks into a single image (z-stack)\n",
                "reconstructed_masks = np.zeros(\n",
                "    (original_z_slice_count * 10, original_imgs.shape[1], original_imgs.shape[2])\n",
                ")\n",
                "for index, new_image in results:\n",
                "    reconstructed_masks[index] = new_image\n",
                "# cast the reconstructed masks to int8\n",
                "reconstructed_masks = reconstructed_masks.astype(np.uint8)"
            ]
        },
        {
            "cell_type": "code",
            "execution_count": null,
            "id": "2e7dbcc9",
            "metadata": {
                "execution": {
                    "iopub.execute_input": "2024-12-24T21:59:21.998707Z",
                    "iopub.status.busy": "2024-12-24T21:59:21.998515Z",
                    "iopub.status.idle": "2024-12-24T21:59:22.491503Z",
                    "shell.execute_reply": "2024-12-24T21:59:22.491081Z"
                },
                "papermill": {
                    "duration": 0.497532,
                    "end_time": "2024-12-24T21:59:22.492680",
                    "exception": false,
                    "start_time": "2024-12-24T21:59:21.995148",
                    "status": "completed"
                },
                "tags": []
            },
            "outputs": [],
            "source": [
                "# # save the masks\n",
                "print(reconstructed_masks.shape)\n",
                "print(reconstructed_masks.dtype)\n",
                "print(reconstructed_masks[0])\n",
                "print(reconstructed_masks.max())\n",
                "print(np.unique(reconstructed_masks))\n",
                "# save the masks as tiff\n",
                "tifffile.imwrite(mask_file_path, reconstructed_masks)"
            ]
        },
        {
            "cell_type": "code",
            "execution_count": null,
            "id": "ac74c039",
            "metadata": {
                "execution": {
                    "iopub.execute_input": "2024-12-24T21:59:22.499634Z",
                    "iopub.status.busy": "2024-12-24T21:59:22.499482Z",
                    "iopub.status.idle": "2024-12-24T21:59:31.430544Z",
                    "shell.execute_reply": "2024-12-24T21:59:31.430213Z"
                },
                "papermill": {
                    "duration": 8.935572,
                    "end_time": "2024-12-24T21:59:31.431647",
                    "exception": false,
                    "start_time": "2024-12-24T21:59:22.496075",
                    "status": "completed"
                },
                "tags": []
            },
            "outputs": [],
            "source": [
                "if in_notebook:\n",
                "    # show each z slice of the image and masks\n",
                "    for z in range(reconstructed_masks.shape[0]):\n",
                "        fig = plt.figure(figsize=(10, 5))\n",
                "        plt.subplot(121)\n",
                "        plt.imshow(original_imgs[z, :, :], cmap=\"gray\")\n",
                "        plt.title(\"image\")\n",
                "        plt.axis(\"off\")\n",
                "        plt.subplot(122)\n",
                "        plt.imshow(reconstructed_masks[z], cmap=\"gray\")\n",
                "        plt.title(\"masks\")\n",
                "        plt.axis(\"off\")\n",
                "        plt.show()"
            ]
        }
    ],
    "metadata": {
        "kernelspec": {
            "display_name": "GFF_segmentation",
            "language": "python",
            "name": "python3"
        },
        "language_info": {
            "codemirror_mode": {
                "name": "ipython",
                "version": 3
            },
            "file_extension": ".py",
            "mimetype": "text/x-python",
            "name": "python",
            "nbconvert_exporter": "python",
            "pygments_lexer": "ipython3",
            "version": "3.11.11"
        },
        "papermill": {
            "default_parameters": {},
            "duration": 210.758447,
            "end_time": "2024-12-24T21:59:31.891799",
            "environment_variables": {},
            "exception": null,
            "input_path": "2.segmentation_decoupling.ipynb",
            "output_path": "2.segmentation_decoupling.ipynb",
            "parameters": {},
            "start_time": "2024-12-24T21:56:01.133352",
            "version": "2.6.0"
        }
    },
    "nbformat": 4,
    "nbformat_minor": 5
}
