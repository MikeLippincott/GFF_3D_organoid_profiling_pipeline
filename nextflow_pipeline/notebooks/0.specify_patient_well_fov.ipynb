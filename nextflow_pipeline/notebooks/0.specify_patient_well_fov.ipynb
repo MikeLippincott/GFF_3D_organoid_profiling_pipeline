{
    "cells": [
        {
            "cell_type": "code",
            "execution_count": 1,
            "metadata": {},
            "outputs": [],
            "source": [
                "import argparse\n",
                "import pathlib\n",
                "\n",
                "try:\n",
                "    cfg = get_ipython().config\n",
                "    in_notebook = True\n",
                "except NameError:\n",
                "    in_notebook = False"
            ]
        },
        {
            "cell_type": "code",
            "execution_count": 2,
            "metadata": {},
            "outputs": [],
            "source": [
                "if not in_notebook:\n",
                "    argparser = argparse.ArgumentParser(\n",
                "        description=\"Generate a Python script to print the contents of a file.\"\n",
                "    )\n",
                "    argparser.add_argument(\n",
                "        \"--patient\",\n",
                "        type=pathlib.Path,\n",
                "        required=True,\n",
                "        help=\"Path to the patient file to be read.\",\n",
                "    )\n",
                "\n",
                "    args = argparser.parse_args()\n",
                "    patient = args.patient\n",
                "else:\n",
                "    patient = \"NF0014\""
            ]
        },
        {
            "cell_type": "code",
            "execution_count": 3,
            "metadata": {},
            "outputs": [],
            "source": [
                "data_path = pathlib.Path(f\"../../data/{patient}/zstack_images\").resolve()\n",
                "data_path = data_path.glob(\"*\")\n",
                "data_path = [x for x in data_path if x.is_dir()]\n",
                "data_path = sorted(data_path)\n",
                "\n",
                "patient_well_fov_list = []\n",
                "for well_fov in data_path:\n",
                "    patient_well_fov = pathlib.Path(well_fov).name\n",
                "    patient_well_fov = patient + \"_\" + patient_well_fov\n",
                "    patient_well_fov_list.append(patient_well_fov)\n",
                "    # write to file\n",
                "    # with two columns separated by a tab\n",
                "    # column one is the patient\n",
                "    # column two is the well_fov\n",
                "    save_path = pathlib.Path(f\"../load_files/{patient}_well_fov.tsv\").resolve()\n",
                "    save_path.parent.mkdir(parents=True, exist_ok=True)\n",
                "    with open(save_path, \"w\") as f:\n",
                "        f.write(\"patient\\twell_fov\\n\")\n",
                "        for (\n",
                "            patient_well_fov\n",
                "        ) in patient_well_fov_list:  # wite the first two lines to test\n",
                "            f.write(\n",
                "                f\"{patient_well_fov.split('_')[0]}\\t{patient_well_fov.split('_')[1]}\\n\"\n",
                "            )"
            ]
        }
    ],
    "metadata": {
        "kernelspec": {
            "display_name": "GFF_featurization",
            "language": "python",
            "name": "python3"
        },
        "language_info": {
            "codemirror_mode": {
                "name": "ipython",
                "version": 3
            },
            "file_extension": ".py",
            "mimetype": "text/x-python",
            "name": "python",
            "nbconvert_exporter": "python",
            "pygments_lexer": "ipython3",
            "version": "3.12.9"
        }
    },
    "nbformat": 4,
    "nbformat_minor": 2
}
