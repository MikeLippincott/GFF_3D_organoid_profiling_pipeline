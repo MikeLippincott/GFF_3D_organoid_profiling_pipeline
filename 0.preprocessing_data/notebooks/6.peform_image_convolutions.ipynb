{
 "cells": [
  {
   "cell_type": "code",
   "execution_count": null,
   "id": "b5f6ad0a",
   "metadata": {},
   "outputs": [],
   "source": [
    "import os\n",
    "import pathlib\n",
    "import sys\n",
    "\n",
    "import matplotlib.pyplot as plt\n",
    "\n",
    "# Import dependencies\n",
    "import numpy as np\n",
    "import pandas as pd\n",
    "import skimage\n",
    "import tifffile\n",
    "from skimage import io\n",
    "\n",
    "cwd = pathlib.Path.cwd()\n",
    "\n",
    "if (cwd / \".git\").is_dir():\n",
    "    root_dir = cwd\n",
    "else:\n",
    "    root_dir = None\n",
    "    for parent in cwd.parents:\n",
    "        if (parent / \".git\").is_dir():\n",
    "            root_dir = parent\n",
    "            break\n",
    "sys.path.append(str(root_dir / \"utils\"))\n",
    "from arg_parsing_utils import check_for_missing_args, parse_args\n",
    "from file_reading import read_zstack_image\n",
    "from notebook_init_utils import bandicoot_check, init_notebook\n",
    "\n",
    "root_dir, in_notebook = init_notebook()\n",
    "if in_notebook:\n",
    "    from tqdm.notebook import tqdm\n",
    "else:\n",
    "    import tqdm\n",
    "\n",
    "image_base_dir = bandicoot_check(\n",
    "    pathlib.Path(os.path.expanduser(\"~/mnt/bandicoot\")).resolve(), root_dir\n",
    ")"
   ]
  },
  {
   "cell_type": "code",
   "execution_count": 2,
   "id": "c9567e2b",
   "metadata": {},
   "outputs": [
    {
     "name": "stdout",
     "output_type": "stream",
     "text": [
      "Running in a notebook\n"
     ]
    }
   ],
   "source": [
    "if not in_notebook:\n",
    "    args = parse_args()\n",
    "    window_size = args[\"window_size\"]\n",
    "    clip_limit = args[\"clip_limit\"]\n",
    "    well_fov = args[\"well_fov\"]\n",
    "    patient = args[\"patient\"]\n",
    "    check_for_missing_args(\n",
    "        well_fov=well_fov,\n",
    "        patient=patient,\n",
    "        window_size=window_size,\n",
    "        clip_limit=clip_limit,\n",
    "    )\n",
    "else:\n",
    "    print(\"Running in a notebook\")\n",
    "    patient = \"NF0014_T1\"\n",
    "    well_fov = \"C4-2\"\n",
    "    window_size = 3\n",
    "    clip_limit = 0.05\n",
    "\n",
    "\n",
    "input_dir_raw = pathlib.Path(\n",
    "    f\"{image_base_dir}/data/{patient}/zstack_images/{well_fov}\"\n",
    ").resolve(strict=True)\n",
    "input_dir_decon = pathlib.Path(\n",
    "    f\"{image_base_dir}/data/{patient}/deconvolved_images/{well_fov}\"\n",
    ").resolve(strict=True)"
   ]
  },
  {
   "cell_type": "code",
   "execution_count": 3,
   "id": "c5db77dc",
   "metadata": {},
   "outputs": [],
   "source": [
    "# read in the image\n",
    "list_of_decon_images = list(input_dir_decon.glob(\"*.tif\"))\n",
    "list_of_raw_images = list(input_dir_raw.glob(\"*.tif\"))\n",
    "list_of_decon_images.sort()\n",
    "list_of_raw_images.sort()"
   ]
  },
  {
   "cell_type": "code",
   "execution_count": null,
   "id": "0877d4b6",
   "metadata": {},
   "outputs": [],
   "source": [
    "convolutions = 25\n",
    "convolution_step = 1\n",
    "save_step = 5"
   ]
  },
  {
   "cell_type": "code",
   "execution_count": null,
   "id": "22ffe456",
   "metadata": {},
   "outputs": [
    {
     "data": {
      "application/vnd.jupyter.widget-view+json": {
       "model_id": "4fe440afe16745dd8e111cc6bdaaf087",
       "version_major": 2,
       "version_minor": 0
      },
      "text/plain": [
       "Processing image set:   0%|          | 0/4 [00:00<?, ?it/s]"
      ]
     },
     "metadata": {},
     "output_type": "display_data"
    },
    {
     "data": {
      "application/vnd.jupyter.widget-view+json": {
       "model_id": "0bfc3dd2ee9c4f6cb499964510b37697",
       "version_major": 2,
       "version_minor": 0
      },
      "text/plain": [
       "Convolving image:   0%|          | 0/25 [00:00<?, ?it/s]"
      ]
     },
     "metadata": {},
     "output_type": "display_data"
    },
    {
     "data": {
      "application/vnd.jupyter.widget-view+json": {
       "model_id": "c96dda53c1e841169cc56a2263c36150",
       "version_major": 2,
       "version_minor": 0
      },
      "text/plain": [
       "Convolving image:   0%|          | 0/25 [00:00<?, ?it/s]"
      ]
     },
     "metadata": {},
     "output_type": "display_data"
    },
    {
     "data": {
      "application/vnd.jupyter.widget-view+json": {
       "model_id": "b203474b30df45bf8b1159f86c03c41a",
       "version_major": 2,
       "version_minor": 0
      },
      "text/plain": [
       "Convolving image:   0%|          | 0/25 [00:00<?, ?it/s]"
      ]
     },
     "metadata": {},
     "output_type": "display_data"
    },
    {
     "data": {
      "application/vnd.jupyter.widget-view+json": {
       "model_id": "403f4e6289c14656836f2bb32e5ed7de",
       "version_major": 2,
       "version_minor": 0
      },
      "text/plain": [
       "Convolving image:   0%|          | 0/25 [00:00<?, ?it/s]"
      ]
     },
     "metadata": {},
     "output_type": "display_data"
    }
   ],
   "source": [
    "img_dict = {\n",
    "    \"decon\": list_of_decon_images,\n",
    "    \"raw\": list_of_raw_images,\n",
    "}\n",
    "for convolution in range(1, convolutions + 1):\n",
    "    img_dict[f\"convolved_{convolution}\"] = []\n",
    "for img_path in tqdm(list_of_decon_images, desc=\"Processing image set\"):\n",
    "    img = read_zstack_image(img_path)\n",
    "    for convolution in tqdm(\n",
    "        range(1, convolutions + 1), desc=\"Convolving image\", leave=False\n",
    "    ):\n",
    "        img = skimage.filters.gaussian(img, sigma=3)\n",
    "        if (convolution) % convolution_step == 0:\n",
    "            convolution_output_path = pathlib.Path(\n",
    "                f\"{image_base_dir}/data/{patient}/convolution_{convolution}/{well_fov}\"\n",
    "            ).resolve()\n",
    "            convolution_output_path.mkdir(parents=True, exist_ok=True)\n",
    "            if not (convolution_output_path / f\"{img_path.name}\").exists():\n",
    "                tifffile.imwrite(\n",
    "                    pathlib.Path(convolution_output_path / f\"{img_path.name}\"),\n",
    "                    img,\n",
    "                )\n",
    "            if convolution % save_step == 0:\n",
    "                img_dict[f\"convolved_{convolution}\"].append(\n",
    "                    convolution_output_path / f\"{img_path.name}\"\n",
    "                )"
   ]
  }
 ],
 "metadata": {
  "kernelspec": {
   "display_name": "GFF_segmentation",
   "language": "python",
   "name": "python3"
  },
  "language_info": {
   "codemirror_mode": {
    "name": "ipython",
    "version": 3
   },
   "file_extension": ".py",
   "mimetype": "text/x-python",
   "name": "python",
   "nbconvert_exporter": "python",
   "pygments_lexer": "ipython3",
   "version": "3.11.13"
  }
 },
 "nbformat": 4,
 "nbformat_minor": 5
}
