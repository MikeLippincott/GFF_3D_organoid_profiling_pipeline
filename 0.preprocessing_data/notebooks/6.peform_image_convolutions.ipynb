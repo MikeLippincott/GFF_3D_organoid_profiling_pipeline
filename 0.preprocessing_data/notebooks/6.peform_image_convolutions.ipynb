{
 "cells": [
  {
   "cell_type": "code",
   "execution_count": 1,
   "id": "b5f6ad0a",
   "metadata": {},
   "outputs": [],
   "source": [
    "import os\n",
    "import pathlib\n",
    "import sys\n",
    "\n",
    "import matplotlib.pyplot as plt\n",
    "\n",
    "# Import dependencies\n",
    "import numpy as np\n",
    "import skimage\n",
    "import tifffile\n",
    "from skimage import io\n",
    "\n",
    "cwd = pathlib.Path.cwd()\n",
    "\n",
    "if (cwd / \".git\").is_dir():\n",
    "    root_dir = cwd\n",
    "else:\n",
    "    root_dir = None\n",
    "    for parent in cwd.parents:\n",
    "        if (parent / \".git\").is_dir():\n",
    "            root_dir = parent\n",
    "            break\n",
    "sys.path.append(str(root_dir / \"utils\"))\n",
    "from arg_parsing_utils import check_for_missing_args, parse_args\n",
    "from file_reading import read_zstack_image\n",
    "from notebook_init_utils import bandicoot_check, init_notebook\n",
    "\n",
    "root_dir, in_notebook = init_notebook()\n",
    "if in_notebook:\n",
    "    from tqdm.notebook import tqdm\n",
    "else:\n",
    "    import tqdm\n",
    "\n",
    "image_base_dir = bandicoot_check(\n",
    "    pathlib.Path(os.path.expanduser(\"~/mnt/bandicoot\")).resolve(), root_dir\n",
    ")"
   ]
  },
  {
   "cell_type": "code",
   "execution_count": 2,
   "id": "c9567e2b",
   "metadata": {},
   "outputs": [
    {
     "name": "stdout",
     "output_type": "stream",
     "text": [
      "Running in a notebook\n"
     ]
    }
   ],
   "source": [
    "if not in_notebook:\n",
    "    args = parse_args()\n",
    "    window_size = args[\"window_size\"]\n",
    "    clip_limit = args[\"clip_limit\"]\n",
    "    well_fov = args[\"well_fov\"]\n",
    "    patient = args[\"patient\"]\n",
    "    check_for_missing_args(\n",
    "        well_fov=well_fov,\n",
    "        patient=patient,\n",
    "        window_size=window_size,\n",
    "        clip_limit=clip_limit,\n",
    "    )\n",
    "else:\n",
    "    print(\"Running in a notebook\")\n",
    "    patient = \"NF0014_T1\"\n",
    "    well_fov = \"C4-2\"\n",
    "    window_size = 3\n",
    "    clip_limit = 0.05\n",
    "\n",
    "\n",
    "input_dir_raw = pathlib.Path(\n",
    "    f\"{image_base_dir}/data/{patient}/zstack_images/{well_fov}\"\n",
    ").resolve(strict=True)\n",
    "input_dir_decon = pathlib.Path(\n",
    "    f\"{image_base_dir}/data/{patient}/deconvolved_images/{well_fov}\"\n",
    ").resolve(strict=True)\n",
    "mask_path_raw = pathlib.Path(\n",
    "    f\"{image_base_dir}/data/{patient}/segmentation_masks/{well_fov}\"\n",
    ").resolve(strict=True)\n",
    "mask_path_decon = pathlib.Path(\n",
    "    f\"{image_base_dir}/data/{patient}/deconvolved_segmentation_masks/{well_fov}\"\n",
    ").resolve(strict=True)"
   ]
  },
  {
   "cell_type": "code",
   "execution_count": 3,
   "id": "c5db77dc",
   "metadata": {},
   "outputs": [],
   "source": [
    "# read in the image\n",
    "list_of_decon_images = list(input_dir_decon.glob(\"*.tif\"))\n",
    "list_of_raw_images = list(input_dir_raw.glob(\"*.tif\"))\n",
    "list_of_decon_images.sort()\n",
    "list_of_raw_images.sort()"
   ]
  },
  {
   "cell_type": "code",
   "execution_count": 4,
   "id": "0877d4b6",
   "metadata": {},
   "outputs": [],
   "source": [
    "image_dict = {\n",
    "    \"image\": [],\n",
    "    \"labels\": [],\n",
    "}\n",
    "convolutions = 100\n",
    "convolution_step = 25"
   ]
  },
  {
   "cell_type": "code",
   "execution_count": 5,
   "id": "22ffe456",
   "metadata": {},
   "outputs": [
    {
     "data": {
      "application/vnd.jupyter.widget-view+json": {
       "model_id": "568a8d470f7543448c4187e129b067d2",
       "version_major": 2,
       "version_minor": 0
      },
      "text/plain": [
       "Convolving image:   0%|          | 0/100 [00:00<?, ?it/s]"
      ]
     },
     "metadata": {},
     "output_type": "display_data"
    },
    {
     "ename": "ValueError",
     "evalue": "missing required 'shape' or 'dtype' argument",
     "output_type": "error",
     "traceback": [
      "\u001b[31m---------------------------------------------------------------------------\u001b[39m",
      "\u001b[31mValueError\u001b[39m                                Traceback (most recent call last)",
      "\u001b[32m/tmp/ipykernel_1870673/2653223119.py\u001b[39m in \u001b[36m?\u001b[39m\u001b[34m()\u001b[39m\n\u001b[32m     19\u001b[39m             convolution_output_path = pathlib.Path(\n\u001b[32m     20\u001b[39m                 f\"{image_base_dir}/data/{patient}/convolution_{convolution}\"\n\u001b[32m     21\u001b[39m             ).resolve()\n\u001b[32m     22\u001b[39m             convolution_output_path.mkdir(parents=\u001b[38;5;28;01mTrue\u001b[39;00m, exist_ok=\u001b[38;5;28;01mTrue\u001b[39;00m)\n\u001b[32m---> \u001b[39m\u001b[32m23\u001b[39m             tifffile.imwrite(\n\u001b[32m     24\u001b[39m                 convolution_output_path / f\"{img_path.name}\"\n\u001b[32m     25\u001b[39m             )\n\u001b[32m     26\u001b[39m             image_dict[\u001b[33m\"image\"\u001b[39m].append(img)\n",
      "\u001b[32m~/miniforge3/envs/GFF_analysis/lib/python3.12/site-packages/tifffile/tifffile.py\u001b[39m in \u001b[36m?\u001b[39m\u001b[34m(file, data, mode, bigtiff, byteorder, imagej, ome, shaped, append, shape, dtype, photometric, planarconfig, extrasamples, volumetric, tile, rowsperstrip, bitspersample, compression, compressionargs, predictor, subsampling, jpegtables, iccprofile, colormap, description, datetime, resolution, resolutionunit, subfiletype, software, metadata, extratags, contiguous, truncate, align, maxworkers, buffersize, returnoffset)\u001b[39m\n\u001b[32m   1385\u001b[39m     \"\"\"\n\u001b[32m   1386\u001b[39m     \u001b[38;5;28;01mif\u001b[39;00m data \u001b[38;5;28;01mis\u001b[39;00m \u001b[38;5;28;01mNone\u001b[39;00m:\n\u001b[32m   1387\u001b[39m         \u001b[38;5;66;03m# write empty file\u001b[39;00m\n\u001b[32m   1388\u001b[39m         \u001b[38;5;28;01mif\u001b[39;00m shape \u001b[38;5;28;01mis\u001b[39;00m \u001b[38;5;28;01mNone\u001b[39;00m \u001b[38;5;28;01mor\u001b[39;00m dtype \u001b[38;5;28;01mis\u001b[39;00m \u001b[38;5;28;01mNone\u001b[39;00m:\n\u001b[32m-> \u001b[39m\u001b[32m1389\u001b[39m             \u001b[38;5;28;01mraise\u001b[39;00m ValueError(\u001b[33m\"missing required 'shape' or 'dtype' argument\"\u001b[39m)\n\u001b[32m   1390\u001b[39m         dtype = numpy.dtype(dtype)\n\u001b[32m   1391\u001b[39m         shape = tuple(shape)\n\u001b[32m   1392\u001b[39m         datasize = product(shape) * dtype.itemsize\n",
      "\u001b[31mValueError\u001b[39m: missing required 'shape' or 'dtype' argument"
     ]
    }
   ],
   "source": [
    "for img_path in list_of_raw_images:\n",
    "    if \"trans\" in img_path.name.lower():\n",
    "        continue\n",
    "    img = read_zstack_image(img_path)\n",
    "    # convolve the image with a gaussian filter\n",
    "    image_dict[\"image\"].append(img)\n",
    "    image_dict[\"labels\"].append(f\"raw_{img_path.stem.split('_')[1]}\")\n",
    "\n",
    "for img_path in list_of_decon_images:\n",
    "    img = read_zstack_image(img_path)\n",
    "    # convolve the image with a gaussian filter\n",
    "\n",
    "    image_dict[\"image\"].append(img)\n",
    "    image_dict[\"labels\"].append(f\"deconvolved_raw_{img_path.stem.split('_')[1]}\")\n",
    "    for convolution in tqdm(range(1, convolutions + 1), desc=\"Convolving image\"):\n",
    "        img = skimage.filters.gaussian(img, sigma=3)\n",
    "\n",
    "        if (convolution) % convolution_step == 0:\n",
    "            convolution_output_path = pathlib.Path(\n",
    "                f\"{image_base_dir}/data/{patient}/convolution_{convolution}\"\n",
    "            ).resolve()\n",
    "            convolution_output_path.mkdir(parents=True, exist_ok=True)\n",
    "            tifffile.imwrite(convolution_output_path / f\"{img_path.name}\")\n",
    "            image_dict[\"image\"].append(img)\n",
    "            image_dict[\"labels\"].append(\n",
    "                f\"convolution_{convolution}_{img_path.stem.split('_')[1]}\"\n",
    "            )"
   ]
  },
  {
   "cell_type": "code",
   "execution_count": null,
   "id": "3c55f1b9",
   "metadata": {},
   "outputs": [],
   "source": [
    "plt.figure(figsize=(10, 10))\n",
    "for i in range(image_dict[\"image\"].__len__()):\n",
    "    plt.subplot(6, image_dict[\"image\"].__len__() // 6 + 1, i + 1)\n",
    "    plt.title(f\"{image_dict['labels'][i]}\")\n",
    "    plt.imshow(image_dict[\"image\"][i][9], cmap=\"gray\")\n",
    "    plt.axis(\"off\")\n",
    "plt.tight_layout()\n",
    "plt.show()"
   ]
  }
 ],
 "metadata": {
  "kernelspec": {
   "display_name": "GFF_analysis",
   "language": "python",
   "name": "python3"
  },
  "language_info": {
   "codemirror_mode": {
    "name": "ipython",
    "version": 3
   },
   "file_extension": ".py",
   "mimetype": "text/x-python",
   "name": "python",
   "nbconvert_exporter": "python",
   "pygments_lexer": "ipython3",
   "version": "3.12.11"
  }
 },
 "nbformat": 4,
 "nbformat_minor": 5
}
