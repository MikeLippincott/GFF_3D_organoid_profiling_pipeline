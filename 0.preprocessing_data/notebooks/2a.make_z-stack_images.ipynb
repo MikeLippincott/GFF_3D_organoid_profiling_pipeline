{
 "cells": [
  {
   "cell_type": "markdown",
   "metadata": {},
   "source": [
    "# Create z-stack images from the individual z-slice images for each FOV per well"
   ]
  },
  {
   "cell_type": "markdown",
   "metadata": {},
   "source": [
    "## Import libraries"
   ]
  },
  {
   "cell_type": "code",
   "execution_count": 1,
   "metadata": {},
   "outputs": [],
   "source": [
    "import pathlib\n",
    "import pprint\n",
    "import sys\n",
    "\n",
    "import numpy as np\n",
    "import pandas as pd\n",
    "import tifffile as tiff\n",
    "\n",
    "# Get the current working directory\n",
    "cwd = pathlib.Path.cwd()\n",
    "\n",
    "if (cwd / \".git\").is_dir():\n",
    "    root_dir = cwd\n",
    "else:\n",
    "    root_dir = None\n",
    "    for parent in cwd.parents:\n",
    "        if (parent / \".git\").is_dir():\n",
    "            root_dir = parent\n",
    "            break\n",
    "sys.path.append(str(root_dir / \"utils\"))\n",
    "from notebook_init_utils import init_notebook\n",
    "\n",
    "root_dir, in_notebook = init_notebook()\n",
    "\n",
    "if in_notebook:\n",
    "    import tqdm.notebook as tqdm\n",
    "else:\n",
    "    import tqdm"
   ]
  },
  {
   "cell_type": "markdown",
   "metadata": {},
   "source": [
    "## Set input and output directories"
   ]
  },
  {
   "cell_type": "code",
   "execution_count": null,
   "metadata": {},
   "outputs": [],
   "source": [
    "bandicoot_path = pathlib.Path(\"/home/lippincm/mnt/bandicoot\").resolve()\n",
    "if bandicoot_path.exists():\n",
    "    bandicoot = True\n",
    "else:\n",
    "    bandicoot = False"
   ]
  },
  {
   "cell_type": "code",
   "execution_count": 3,
   "metadata": {},
   "outputs": [],
   "source": [
    "if bandicoot:\n",
    "    # comment out depending on whose computer you are on\n",
    "    # mike's computer\n",
    "    bandicoot_path = pathlib.Path(\"/home/lippincm/mnt/bandicoot\").resolve()\n",
    "    # Jenna's computer\n",
    "    # bandicoot_path = pathlib.Path(\"/media/18tbdrive/GFF_organoid_data/\")\n",
    "    raw_image_dir = pathlib.Path(f\"{bandicoot_path}/NF1_organoid_data/\").resolve()\n",
    "    output_base_dir = bandicoot_path\n",
    "else:\n",
    "    raw_image_dir = pathlib.Path(f\"{root_dir}/\").resolve(strict=True)\n",
    "    output_base_dir = root_dir"
   ]
  },
  {
   "cell_type": "code",
   "execution_count": null,
   "metadata": {},
   "outputs": [],
   "source": [
    "# patient_ids\n",
    "patient_id_file_path = pathlib.Path(f\"{root_dir}/data/patient_IDs.txt\").resolve(\n",
    "    strict=True\n",
    ")\n",
    "list_of_patients = pd.read_csv(patient_id_file_path, header=None)[0].tolist()"
   ]
  },
  {
   "cell_type": "code",
   "execution_count": 5,
   "metadata": {},
   "outputs": [
    {
     "name": "stdout",
     "output_type": "stream",
     "text": [
      "{'NF0014_T2': {'raw_images': PosixPath('/home/lippincm/Documents/GFF_3D_organoid_profiling_pipeline/data/NF0014_T2/raw_images'),\n",
      "               'zstack_output': PosixPath('/home/lippincm/Documents/GFF_3D_organoid_profiling_pipeline/data/NF0014_T2/zstack_images')}}\n"
     ]
    }
   ],
   "source": [
    "patient_input_dict = {}\n",
    "for patient in list_of_patients:\n",
    "    patient_input_dict[patient] = {\n",
    "        \"raw_images\": pathlib.Path(\n",
    "            f\"{raw_image_dir}/data/{patient}/raw_images\"\n",
    "        ).resolve(),\n",
    "        \"zstack_output\": pathlib.Path(\n",
    "            f\"{raw_image_dir}/data/{patient}/zstack_images\"\n",
    "        ).resolve(),\n",
    "    }\n",
    "pprint.pprint(patient_input_dict)"
   ]
  },
  {
   "cell_type": "code",
   "execution_count": 6,
   "metadata": {},
   "outputs": [],
   "source": [
    "# Image extensions that we are looking to copy\n",
    "image_extensions = {\".tif\", \".tiff\"}"
   ]
  },
  {
   "cell_type": "code",
   "execution_count": 7,
   "metadata": {},
   "outputs": [],
   "source": [
    "unlisted_images = {\"patient\": [\"NF0014_T1\"], \"image_set\": [\"F11-3\"]}"
   ]
  },
  {
   "cell_type": "code",
   "execution_count": 8,
   "metadata": {},
   "outputs": [
    {
     "data": {
      "text/plain": [
       "{'405': {'filename': [], 'filepath': []},\n",
       " '488': {'filename': [], 'filepath': []},\n",
       " '555': {'filename': [], 'filepath': []},\n",
       " '640': {'filename': [], 'filepath': []},\n",
       " 'TRANS': {'filename': [], 'filepath': []}}"
      ]
     },
     "execution_count": 8,
     "metadata": {},
     "output_type": "execute_result"
    }
   ],
   "source": [
    "image_extensions = {\".tif\", \".tiff\"}\n",
    "channel_names = [\"405\", \"488\", \"555\", \"640\", \"TRANS\"]\n",
    "# make a dictionary that contains a list for each channel name, storing both filepath and filename\n",
    "channel_images = {\n",
    "    channel_name: {\"filename\": [], \"filepath\": []} for channel_name in channel_names\n",
    "}\n",
    "channel_images"
   ]
  },
  {
   "cell_type": "markdown",
   "metadata": {},
   "source": [
    "## Create list of the well-site folders"
   ]
  },
  {
   "cell_type": "code",
   "execution_count": 9,
   "metadata": {},
   "outputs": [
    {
     "data": {
      "application/vnd.jupyter.widget-view+json": {
       "model_id": "08aa8f89f2d3487ea503e19852279a86",
       "version_major": 2,
       "version_minor": 0
      },
      "text/plain": [
       "Processing patients:   0%|          | 0/1 [00:00<?, ?it/s]"
      ]
     },
     "metadata": {},
     "output_type": "display_data"
    },
    {
     "data": {
      "application/vnd.jupyter.widget-view+json": {
       "model_id": "7a578468092644b48a3b1d361571fe1d",
       "version_major": 2,
       "version_minor": 0
      },
      "text/plain": [
       "Processing wells for patient NF0014_T2:   0%|          | 0/350 [00:00<?, ?it/s]"
      ]
     },
     "metadata": {},
     "output_type": "display_data"
    },
    {
     "data": {
      "application/vnd.jupyter.widget-view+json": {
       "model_id": "648ec2fe5ab9439fabc536262a6e548f",
       "version_major": 2,
       "version_minor": 0
      },
      "text/plain": [
       "Processing channels in C10-1:   0%|          | 0/5 [00:00<?, ?it/s]"
      ]
     },
     "metadata": {},
     "output_type": "display_data"
    },
    {
     "data": {
      "application/vnd.jupyter.widget-view+json": {
       "model_id": "05835bc784184d979343802694322226",
       "version_major": 2,
       "version_minor": 0
      },
      "text/plain": [
       "Processing channels in C10-2:   0%|          | 0/5 [00:00<?, ?it/s]"
      ]
     },
     "metadata": {},
     "output_type": "display_data"
    },
    {
     "data": {
      "application/vnd.jupyter.widget-view+json": {
       "model_id": "768ad3f77aad45669949e47b23ce3ffb",
       "version_major": 2,
       "version_minor": 0
      },
      "text/plain": [
       "Processing channels in C10-3:   0%|          | 0/5 [00:00<?, ?it/s]"
      ]
     },
     "metadata": {},
     "output_type": "display_data"
    },
    {
     "data": {
      "application/vnd.jupyter.widget-view+json": {
       "model_id": "7a94b1bef2044bbcb7f5e41790a4d362",
       "version_major": 2,
       "version_minor": 0
      },
      "text/plain": [
       "Processing channels in C10-4:   0%|          | 0/5 [00:00<?, ?it/s]"
      ]
     },
     "metadata": {},
     "output_type": "display_data"
    },
    {
     "data": {
      "application/vnd.jupyter.widget-view+json": {
       "model_id": "0705c2c0f8af455a93f359b34b89f4a9",
       "version_major": 2,
       "version_minor": 0
      },
      "text/plain": [
       "Processing channels in C10-5:   0%|          | 0/5 [00:00<?, ?it/s]"
      ]
     },
     "metadata": {},
     "output_type": "display_data"
    },
    {
     "data": {
      "application/vnd.jupyter.widget-view+json": {
       "model_id": "3425ddddc90c4aa985d2fb573d0b3375",
       "version_major": 2,
       "version_minor": 0
      },
      "text/plain": [
       "Processing channels in C10-6:   0%|          | 0/5 [00:00<?, ?it/s]"
      ]
     },
     "metadata": {},
     "output_type": "display_data"
    },
    {
     "data": {
      "application/vnd.jupyter.widget-view+json": {
       "model_id": "a96f23b72152498384a4f44e2fa07baa",
       "version_major": 2,
       "version_minor": 0
      },
      "text/plain": [
       "Processing channels in C10-7:   0%|          | 0/5 [00:00<?, ?it/s]"
      ]
     },
     "metadata": {},
     "output_type": "display_data"
    },
    {
     "data": {
      "application/vnd.jupyter.widget-view+json": {
       "model_id": "6d4f0f2891734897a7da9149574f6b1c",
       "version_major": 2,
       "version_minor": 0
      },
      "text/plain": [
       "Processing channels in C11-1:   0%|          | 0/5 [00:00<?, ?it/s]"
      ]
     },
     "metadata": {},
     "output_type": "display_data"
    },
    {
     "data": {
      "application/vnd.jupyter.widget-view+json": {
       "model_id": "3ef83c4ebff84f9fb7074249c5fffb8d",
       "version_major": 2,
       "version_minor": 0
      },
      "text/plain": [
       "Processing channels in C11-2:   0%|          | 0/5 [00:00<?, ?it/s]"
      ]
     },
     "metadata": {},
     "output_type": "display_data"
    },
    {
     "data": {
      "application/vnd.jupyter.widget-view+json": {
       "model_id": "e54c5a26f814418186d2da0940617be2",
       "version_major": 2,
       "version_minor": 0
      },
      "text/plain": [
       "Processing channels in C11-3:   0%|          | 0/5 [00:00<?, ?it/s]"
      ]
     },
     "metadata": {},
     "output_type": "display_data"
    },
    {
     "data": {
      "application/vnd.jupyter.widget-view+json": {
       "model_id": "549311e74c14459b83671f8252ed14e9",
       "version_major": 2,
       "version_minor": 0
      },
      "text/plain": [
       "Processing channels in C11-4:   0%|          | 0/5 [00:00<?, ?it/s]"
      ]
     },
     "metadata": {},
     "output_type": "display_data"
    },
    {
     "data": {
      "application/vnd.jupyter.widget-view+json": {
       "model_id": "dd903372488e4f8cbcd798c3195446a6",
       "version_major": 2,
       "version_minor": 0
      },
      "text/plain": [
       "Processing channels in C11-5:   0%|          | 0/5 [00:00<?, ?it/s]"
      ]
     },
     "metadata": {},
     "output_type": "display_data"
    },
    {
     "data": {
      "application/vnd.jupyter.widget-view+json": {
       "model_id": "f65dca71a1b14a8c9ba4071d98d2bdf9",
       "version_major": 2,
       "version_minor": 0
      },
      "text/plain": [
       "Processing channels in C11-6:   0%|          | 0/5 [00:00<?, ?it/s]"
      ]
     },
     "metadata": {},
     "output_type": "display_data"
    },
    {
     "data": {
      "application/vnd.jupyter.widget-view+json": {
       "model_id": "26138d43cb044bf387df1c343f34bb5b",
       "version_major": 2,
       "version_minor": 0
      },
      "text/plain": [
       "Processing channels in C11-7:   0%|          | 0/5 [00:00<?, ?it/s]"
      ]
     },
     "metadata": {},
     "output_type": "display_data"
    },
    {
     "data": {
      "application/vnd.jupyter.widget-view+json": {
       "model_id": "924ae1e77fae4b45886f64ae032599e7",
       "version_major": 2,
       "version_minor": 0
      },
      "text/plain": [
       "Processing channels in C2-1:   0%|          | 0/5 [00:00<?, ?it/s]"
      ]
     },
     "metadata": {},
     "output_type": "display_data"
    },
    {
     "data": {
      "application/vnd.jupyter.widget-view+json": {
       "model_id": "16042fab77344342abaa5e003b1716ec",
       "version_major": 2,
       "version_minor": 0
      },
      "text/plain": [
       "Processing channels in C2-2:   0%|          | 0/5 [00:00<?, ?it/s]"
      ]
     },
     "metadata": {},
     "output_type": "display_data"
    },
    {
     "data": {
      "application/vnd.jupyter.widget-view+json": {
       "model_id": "b0ae141c86ae4b23ace8b2001b5b334b",
       "version_major": 2,
       "version_minor": 0
      },
      "text/plain": [
       "Processing channels in C2-3:   0%|          | 0/5 [00:00<?, ?it/s]"
      ]
     },
     "metadata": {},
     "output_type": "display_data"
    },
    {
     "data": {
      "application/vnd.jupyter.widget-view+json": {
       "model_id": "001e465ac8cc4ad08c3dcf9e5427a39b",
       "version_major": 2,
       "version_minor": 0
      },
      "text/plain": [
       "Processing channels in C2-4:   0%|          | 0/5 [00:00<?, ?it/s]"
      ]
     },
     "metadata": {},
     "output_type": "display_data"
    },
    {
     "data": {
      "application/vnd.jupyter.widget-view+json": {
       "model_id": "f8fbd99e06274bc48147b5ddf28d4a09",
       "version_major": 2,
       "version_minor": 0
      },
      "text/plain": [
       "Processing channels in C2-5:   0%|          | 0/5 [00:00<?, ?it/s]"
      ]
     },
     "metadata": {},
     "output_type": "display_data"
    },
    {
     "data": {
      "application/vnd.jupyter.widget-view+json": {
       "model_id": "16b39bedac674d3dbffcf4d74da466e3",
       "version_major": 2,
       "version_minor": 0
      },
      "text/plain": [
       "Processing channels in C2-6:   0%|          | 0/5 [00:00<?, ?it/s]"
      ]
     },
     "metadata": {},
     "output_type": "display_data"
    },
    {
     "data": {
      "application/vnd.jupyter.widget-view+json": {
       "model_id": "08c566f0aabc4982af8bf627b509f011",
       "version_major": 2,
       "version_minor": 0
      },
      "text/plain": [
       "Processing channels in C2-7:   0%|          | 0/5 [00:00<?, ?it/s]"
      ]
     },
     "metadata": {},
     "output_type": "display_data"
    },
    {
     "data": {
      "application/vnd.jupyter.widget-view+json": {
       "model_id": "6c124498528a4688a52cb15154e299ce",
       "version_major": 2,
       "version_minor": 0
      },
      "text/plain": [
       "Processing channels in C3-1:   0%|          | 0/5 [00:00<?, ?it/s]"
      ]
     },
     "metadata": {},
     "output_type": "display_data"
    },
    {
     "data": {
      "application/vnd.jupyter.widget-view+json": {
       "model_id": "5d17618cc6ec44b98b016a0af5885451",
       "version_major": 2,
       "version_minor": 0
      },
      "text/plain": [
       "Processing channels in C3-2:   0%|          | 0/5 [00:00<?, ?it/s]"
      ]
     },
     "metadata": {},
     "output_type": "display_data"
    },
    {
     "data": {
      "application/vnd.jupyter.widget-view+json": {
       "model_id": "cbd8a17b9daf4b2a92a4be06228bdf17",
       "version_major": 2,
       "version_minor": 0
      },
      "text/plain": [
       "Processing channels in C3-3:   0%|          | 0/5 [00:00<?, ?it/s]"
      ]
     },
     "metadata": {},
     "output_type": "display_data"
    },
    {
     "data": {
      "application/vnd.jupyter.widget-view+json": {
       "model_id": "eb653be733554020a6b1336feb599037",
       "version_major": 2,
       "version_minor": 0
      },
      "text/plain": [
       "Processing channels in C3-4:   0%|          | 0/5 [00:00<?, ?it/s]"
      ]
     },
     "metadata": {},
     "output_type": "display_data"
    },
    {
     "data": {
      "application/vnd.jupyter.widget-view+json": {
       "model_id": "9870a4c97c4848ce804e0a8d5cd1d519",
       "version_major": 2,
       "version_minor": 0
      },
      "text/plain": [
       "Processing channels in C3-5:   0%|          | 0/5 [00:00<?, ?it/s]"
      ]
     },
     "metadata": {},
     "output_type": "display_data"
    },
    {
     "data": {
      "application/vnd.jupyter.widget-view+json": {
       "model_id": "c98bc3bcaae84fb4a282c0e80efb2abb",
       "version_major": 2,
       "version_minor": 0
      },
      "text/plain": [
       "Processing channels in C3-6:   0%|          | 0/5 [00:00<?, ?it/s]"
      ]
     },
     "metadata": {},
     "output_type": "display_data"
    },
    {
     "data": {
      "application/vnd.jupyter.widget-view+json": {
       "model_id": "52bed16a0716438ab06cb937360fe77b",
       "version_major": 2,
       "version_minor": 0
      },
      "text/plain": [
       "Processing channels in C3-7:   0%|          | 0/5 [00:00<?, ?it/s]"
      ]
     },
     "metadata": {},
     "output_type": "display_data"
    },
    {
     "data": {
      "application/vnd.jupyter.widget-view+json": {
       "model_id": "694b7f4dd142466cbdecd798d1f7dba1",
       "version_major": 2,
       "version_minor": 0
      },
      "text/plain": [
       "Processing channels in C4-1:   0%|          | 0/5 [00:00<?, ?it/s]"
      ]
     },
     "metadata": {},
     "output_type": "display_data"
    },
    {
     "data": {
      "application/vnd.jupyter.widget-view+json": {
       "model_id": "4ae06397b09d4189ab4ff963d61b07bf",
       "version_major": 2,
       "version_minor": 0
      },
      "text/plain": [
       "Processing channels in C4-2:   0%|          | 0/5 [00:00<?, ?it/s]"
      ]
     },
     "metadata": {},
     "output_type": "display_data"
    },
    {
     "data": {
      "application/vnd.jupyter.widget-view+json": {
       "model_id": "f46bfaae7d8f4ea6aed306a44e711d07",
       "version_major": 2,
       "version_minor": 0
      },
      "text/plain": [
       "Processing channels in C4-3:   0%|          | 0/5 [00:00<?, ?it/s]"
      ]
     },
     "metadata": {},
     "output_type": "display_data"
    },
    {
     "data": {
      "application/vnd.jupyter.widget-view+json": {
       "model_id": "db1181872a3648979726c21da38b3cb2",
       "version_major": 2,
       "version_minor": 0
      },
      "text/plain": [
       "Processing channels in C4-4:   0%|          | 0/5 [00:00<?, ?it/s]"
      ]
     },
     "metadata": {},
     "output_type": "display_data"
    },
    {
     "data": {
      "application/vnd.jupyter.widget-view+json": {
       "model_id": "f4118e427a024f6ead5b8f3056093035",
       "version_major": 2,
       "version_minor": 0
      },
      "text/plain": [
       "Processing channels in C4-5:   0%|          | 0/5 [00:00<?, ?it/s]"
      ]
     },
     "metadata": {},
     "output_type": "display_data"
    },
    {
     "data": {
      "application/vnd.jupyter.widget-view+json": {
       "model_id": "69af44042a914606b3ebb6dd9f1fa2ec",
       "version_major": 2,
       "version_minor": 0
      },
      "text/plain": [
       "Processing channels in C4-6:   0%|          | 0/5 [00:00<?, ?it/s]"
      ]
     },
     "metadata": {},
     "output_type": "display_data"
    },
    {
     "data": {
      "application/vnd.jupyter.widget-view+json": {
       "model_id": "4fbeb730a4924eb682f59f37154cc351",
       "version_major": 2,
       "version_minor": 0
      },
      "text/plain": [
       "Processing channels in C4-7:   0%|          | 0/5 [00:00<?, ?it/s]"
      ]
     },
     "metadata": {},
     "output_type": "display_data"
    },
    {
     "data": {
      "application/vnd.jupyter.widget-view+json": {
       "model_id": "73988734a44d4a42807c860434645cc9",
       "version_major": 2,
       "version_minor": 0
      },
      "text/plain": [
       "Processing channels in C5-1:   0%|          | 0/5 [00:00<?, ?it/s]"
      ]
     },
     "metadata": {},
     "output_type": "display_data"
    },
    {
     "data": {
      "application/vnd.jupyter.widget-view+json": {
       "model_id": "58ce145385ea43ca829e0f4b71b9afa7",
       "version_major": 2,
       "version_minor": 0
      },
      "text/plain": [
       "Processing channels in C5-2:   0%|          | 0/5 [00:00<?, ?it/s]"
      ]
     },
     "metadata": {},
     "output_type": "display_data"
    },
    {
     "data": {
      "application/vnd.jupyter.widget-view+json": {
       "model_id": "55280b6f60994beaa1d3861d50b642ee",
       "version_major": 2,
       "version_minor": 0
      },
      "text/plain": [
       "Processing channels in C5-3:   0%|          | 0/5 [00:00<?, ?it/s]"
      ]
     },
     "metadata": {},
     "output_type": "display_data"
    },
    {
     "data": {
      "application/vnd.jupyter.widget-view+json": {
       "model_id": "a238dde14e2b4dee810163809606fbc0",
       "version_major": 2,
       "version_minor": 0
      },
      "text/plain": [
       "Processing channels in C5-4:   0%|          | 0/5 [00:00<?, ?it/s]"
      ]
     },
     "metadata": {},
     "output_type": "display_data"
    },
    {
     "data": {
      "application/vnd.jupyter.widget-view+json": {
       "model_id": "a172cc60b3364a7092128e1cbbedb0b9",
       "version_major": 2,
       "version_minor": 0
      },
      "text/plain": [
       "Processing channels in C5-5:   0%|          | 0/5 [00:00<?, ?it/s]"
      ]
     },
     "metadata": {},
     "output_type": "display_data"
    },
    {
     "data": {
      "application/vnd.jupyter.widget-view+json": {
       "model_id": "a03fa4d940384998bfb213c684376a3a",
       "version_major": 2,
       "version_minor": 0
      },
      "text/plain": [
       "Processing channels in C5-6:   0%|          | 0/5 [00:00<?, ?it/s]"
      ]
     },
     "metadata": {},
     "output_type": "display_data"
    },
    {
     "data": {
      "application/vnd.jupyter.widget-view+json": {
       "model_id": "4239a8e2f078443db9cebc25617bf687",
       "version_major": 2,
       "version_minor": 0
      },
      "text/plain": [
       "Processing channels in C5-7:   0%|          | 0/5 [00:00<?, ?it/s]"
      ]
     },
     "metadata": {},
     "output_type": "display_data"
    },
    {
     "data": {
      "application/vnd.jupyter.widget-view+json": {
       "model_id": "087f2309180d4cab8a03647b221ab373",
       "version_major": 2,
       "version_minor": 0
      },
      "text/plain": [
       "Processing channels in C6-1:   0%|          | 0/5 [00:00<?, ?it/s]"
      ]
     },
     "metadata": {},
     "output_type": "display_data"
    },
    {
     "data": {
      "application/vnd.jupyter.widget-view+json": {
       "model_id": "e2079b492b3849beacc226d77d0484d7",
       "version_major": 2,
       "version_minor": 0
      },
      "text/plain": [
       "Processing channels in C6-2:   0%|          | 0/5 [00:00<?, ?it/s]"
      ]
     },
     "metadata": {},
     "output_type": "display_data"
    },
    {
     "data": {
      "application/vnd.jupyter.widget-view+json": {
       "model_id": "83163b39d0664c25a508e47a3c4ed5ea",
       "version_major": 2,
       "version_minor": 0
      },
      "text/plain": [
       "Processing channels in C6-3:   0%|          | 0/5 [00:00<?, ?it/s]"
      ]
     },
     "metadata": {},
     "output_type": "display_data"
    },
    {
     "data": {
      "application/vnd.jupyter.widget-view+json": {
       "model_id": "da2778ff1e5e43d7bb9dce5d01d7c9d8",
       "version_major": 2,
       "version_minor": 0
      },
      "text/plain": [
       "Processing channels in C6-4:   0%|          | 0/5 [00:00<?, ?it/s]"
      ]
     },
     "metadata": {},
     "output_type": "display_data"
    },
    {
     "data": {
      "application/vnd.jupyter.widget-view+json": {
       "model_id": "5b7c5c54ae1b49b194c7231ca0d74289",
       "version_major": 2,
       "version_minor": 0
      },
      "text/plain": [
       "Processing channels in C6-5:   0%|          | 0/5 [00:00<?, ?it/s]"
      ]
     },
     "metadata": {},
     "output_type": "display_data"
    },
    {
     "data": {
      "application/vnd.jupyter.widget-view+json": {
       "model_id": "17b71c45d40541f9a114274adb708c41",
       "version_major": 2,
       "version_minor": 0
      },
      "text/plain": [
       "Processing channels in C6-6:   0%|          | 0/5 [00:00<?, ?it/s]"
      ]
     },
     "metadata": {},
     "output_type": "display_data"
    },
    {
     "data": {
      "application/vnd.jupyter.widget-view+json": {
       "model_id": "d43d63c73e0d452b995f24fdbf31d0f5",
       "version_major": 2,
       "version_minor": 0
      },
      "text/plain": [
       "Processing channels in C6-7:   0%|          | 0/5 [00:00<?, ?it/s]"
      ]
     },
     "metadata": {},
     "output_type": "display_data"
    },
    {
     "data": {
      "application/vnd.jupyter.widget-view+json": {
       "model_id": "bc5847d770c6460291701b33aa472f47",
       "version_major": 2,
       "version_minor": 0
      },
      "text/plain": [
       "Processing channels in C7-1:   0%|          | 0/5 [00:00<?, ?it/s]"
      ]
     },
     "metadata": {},
     "output_type": "display_data"
    },
    {
     "data": {
      "application/vnd.jupyter.widget-view+json": {
       "model_id": "3147e44bd915429088a2e3b60eff9b45",
       "version_major": 2,
       "version_minor": 0
      },
      "text/plain": [
       "Processing channels in C7-2:   0%|          | 0/5 [00:00<?, ?it/s]"
      ]
     },
     "metadata": {},
     "output_type": "display_data"
    },
    {
     "data": {
      "application/vnd.jupyter.widget-view+json": {
       "model_id": "1ec8b5f5cb3b4ab3b8846f60840dd342",
       "version_major": 2,
       "version_minor": 0
      },
      "text/plain": [
       "Processing channels in C7-3:   0%|          | 0/5 [00:00<?, ?it/s]"
      ]
     },
     "metadata": {},
     "output_type": "display_data"
    },
    {
     "data": {
      "application/vnd.jupyter.widget-view+json": {
       "model_id": "9f7814b9ad194189850a4ea496528b40",
       "version_major": 2,
       "version_minor": 0
      },
      "text/plain": [
       "Processing channels in C7-4:   0%|          | 0/5 [00:00<?, ?it/s]"
      ]
     },
     "metadata": {},
     "output_type": "display_data"
    },
    {
     "data": {
      "application/vnd.jupyter.widget-view+json": {
       "model_id": "1623a3ea657f4645b4963e16e317808f",
       "version_major": 2,
       "version_minor": 0
      },
      "text/plain": [
       "Processing channels in C7-5:   0%|          | 0/5 [00:00<?, ?it/s]"
      ]
     },
     "metadata": {},
     "output_type": "display_data"
    },
    {
     "data": {
      "application/vnd.jupyter.widget-view+json": {
       "model_id": "a1e0da3ade864fcab317725ac997a999",
       "version_major": 2,
       "version_minor": 0
      },
      "text/plain": [
       "Processing channels in C7-6:   0%|          | 0/5 [00:00<?, ?it/s]"
      ]
     },
     "metadata": {},
     "output_type": "display_data"
    },
    {
     "data": {
      "application/vnd.jupyter.widget-view+json": {
       "model_id": "ecb62a60813742b6a44ca37efd9b418c",
       "version_major": 2,
       "version_minor": 0
      },
      "text/plain": [
       "Processing channels in C7-7:   0%|          | 0/5 [00:00<?, ?it/s]"
      ]
     },
     "metadata": {},
     "output_type": "display_data"
    },
    {
     "data": {
      "application/vnd.jupyter.widget-view+json": {
       "model_id": "8f27a1c711434ac0986fbeaeda210ce2",
       "version_major": 2,
       "version_minor": 0
      },
      "text/plain": [
       "Processing channels in C8-1:   0%|          | 0/5 [00:00<?, ?it/s]"
      ]
     },
     "metadata": {},
     "output_type": "display_data"
    },
    {
     "data": {
      "application/vnd.jupyter.widget-view+json": {
       "model_id": "82d34ca7ccd34430acf036f4122d62e7",
       "version_major": 2,
       "version_minor": 0
      },
      "text/plain": [
       "Processing channels in C8-2:   0%|          | 0/5 [00:00<?, ?it/s]"
      ]
     },
     "metadata": {},
     "output_type": "display_data"
    },
    {
     "data": {
      "application/vnd.jupyter.widget-view+json": {
       "model_id": "b79755f2005c4f70a2aecc4dffb35748",
       "version_major": 2,
       "version_minor": 0
      },
      "text/plain": [
       "Processing channels in C8-3:   0%|          | 0/5 [00:00<?, ?it/s]"
      ]
     },
     "metadata": {},
     "output_type": "display_data"
    },
    {
     "data": {
      "application/vnd.jupyter.widget-view+json": {
       "model_id": "41315472e07a4ad997689c3a16ff96c5",
       "version_major": 2,
       "version_minor": 0
      },
      "text/plain": [
       "Processing channels in C8-4:   0%|          | 0/5 [00:00<?, ?it/s]"
      ]
     },
     "metadata": {},
     "output_type": "display_data"
    },
    {
     "data": {
      "application/vnd.jupyter.widget-view+json": {
       "model_id": "7031be12f414444797a16547d8f82d4e",
       "version_major": 2,
       "version_minor": 0
      },
      "text/plain": [
       "Processing channels in C8-5:   0%|          | 0/5 [00:00<?, ?it/s]"
      ]
     },
     "metadata": {},
     "output_type": "display_data"
    },
    {
     "data": {
      "application/vnd.jupyter.widget-view+json": {
       "model_id": "96401c581152479780434230646b0320",
       "version_major": 2,
       "version_minor": 0
      },
      "text/plain": [
       "Processing channels in C8-6:   0%|          | 0/5 [00:00<?, ?it/s]"
      ]
     },
     "metadata": {},
     "output_type": "display_data"
    },
    {
     "data": {
      "application/vnd.jupyter.widget-view+json": {
       "model_id": "879335d9599e4c7f8c0c7387d729c843",
       "version_major": 2,
       "version_minor": 0
      },
      "text/plain": [
       "Processing channels in C8-7:   0%|          | 0/5 [00:00<?, ?it/s]"
      ]
     },
     "metadata": {},
     "output_type": "display_data"
    },
    {
     "data": {
      "application/vnd.jupyter.widget-view+json": {
       "model_id": "b340b905102b47198807c2042de38bb3",
       "version_major": 2,
       "version_minor": 0
      },
      "text/plain": [
       "Processing channels in C9-1:   0%|          | 0/5 [00:00<?, ?it/s]"
      ]
     },
     "metadata": {},
     "output_type": "display_data"
    },
    {
     "data": {
      "application/vnd.jupyter.widget-view+json": {
       "model_id": "a5cdfb2ddc83448a9bc5f26d5c5f3477",
       "version_major": 2,
       "version_minor": 0
      },
      "text/plain": [
       "Processing channels in C9-2:   0%|          | 0/5 [00:00<?, ?it/s]"
      ]
     },
     "metadata": {},
     "output_type": "display_data"
    },
    {
     "data": {
      "application/vnd.jupyter.widget-view+json": {
       "model_id": "9ba13242977143929ab6ec96af2bfc7c",
       "version_major": 2,
       "version_minor": 0
      },
      "text/plain": [
       "Processing channels in C9-3:   0%|          | 0/5 [00:00<?, ?it/s]"
      ]
     },
     "metadata": {},
     "output_type": "display_data"
    },
    {
     "data": {
      "application/vnd.jupyter.widget-view+json": {
       "model_id": "51c2f7348b684de6a993ac4a217f12f2",
       "version_major": 2,
       "version_minor": 0
      },
      "text/plain": [
       "Processing channels in C9-4:   0%|          | 0/5 [00:00<?, ?it/s]"
      ]
     },
     "metadata": {},
     "output_type": "display_data"
    },
    {
     "data": {
      "application/vnd.jupyter.widget-view+json": {
       "model_id": "de2a21c4d400440985bd602fbcb00088",
       "version_major": 2,
       "version_minor": 0
      },
      "text/plain": [
       "Processing channels in C9-5:   0%|          | 0/5 [00:00<?, ?it/s]"
      ]
     },
     "metadata": {},
     "output_type": "display_data"
    },
    {
     "data": {
      "application/vnd.jupyter.widget-view+json": {
       "model_id": "4a9bc55661bd4f36ae6cf2d1cb99d802",
       "version_major": 2,
       "version_minor": 0
      },
      "text/plain": [
       "Processing channels in C9-6:   0%|          | 0/5 [00:00<?, ?it/s]"
      ]
     },
     "metadata": {},
     "output_type": "display_data"
    },
    {
     "data": {
      "application/vnd.jupyter.widget-view+json": {
       "model_id": "f9e68a74853347f896e2f45625d09bbd",
       "version_major": 2,
       "version_minor": 0
      },
      "text/plain": [
       "Processing channels in C9-7:   0%|          | 0/5 [00:00<?, ?it/s]"
      ]
     },
     "metadata": {},
     "output_type": "display_data"
    },
    {
     "data": {
      "application/vnd.jupyter.widget-view+json": {
       "model_id": "49b2de4834b84bee8d4696226eac8133",
       "version_major": 2,
       "version_minor": 0
      },
      "text/plain": [
       "Processing channels in D10-1:   0%|          | 0/5 [00:00<?, ?it/s]"
      ]
     },
     "metadata": {},
     "output_type": "display_data"
    },
    {
     "data": {
      "application/vnd.jupyter.widget-view+json": {
       "model_id": "f32c8de535c64a8fa87d1f45df69e5d0",
       "version_major": 2,
       "version_minor": 0
      },
      "text/plain": [
       "Processing channels in D10-2:   0%|          | 0/5 [00:00<?, ?it/s]"
      ]
     },
     "metadata": {},
     "output_type": "display_data"
    },
    {
     "data": {
      "application/vnd.jupyter.widget-view+json": {
       "model_id": "b7223c74fcc9489288601651dd6155a5",
       "version_major": 2,
       "version_minor": 0
      },
      "text/plain": [
       "Processing channels in D10-3:   0%|          | 0/5 [00:00<?, ?it/s]"
      ]
     },
     "metadata": {},
     "output_type": "display_data"
    },
    {
     "data": {
      "application/vnd.jupyter.widget-view+json": {
       "model_id": "276ca7477fd0454889181d229e6bf614",
       "version_major": 2,
       "version_minor": 0
      },
      "text/plain": [
       "Processing channels in D10-4:   0%|          | 0/5 [00:00<?, ?it/s]"
      ]
     },
     "metadata": {},
     "output_type": "display_data"
    },
    {
     "data": {
      "application/vnd.jupyter.widget-view+json": {
       "model_id": "aa396ba92c7345dc9d95c914b81a212b",
       "version_major": 2,
       "version_minor": 0
      },
      "text/plain": [
       "Processing channels in D10-5:   0%|          | 0/5 [00:00<?, ?it/s]"
      ]
     },
     "metadata": {},
     "output_type": "display_data"
    },
    {
     "data": {
      "application/vnd.jupyter.widget-view+json": {
       "model_id": "789ee4a87f8d4e2e8ddb364ac58c2256",
       "version_major": 2,
       "version_minor": 0
      },
      "text/plain": [
       "Processing channels in D10-6:   0%|          | 0/5 [00:00<?, ?it/s]"
      ]
     },
     "metadata": {},
     "output_type": "display_data"
    },
    {
     "data": {
      "application/vnd.jupyter.widget-view+json": {
       "model_id": "a2e152a1a90a4f0a8da755481dded286",
       "version_major": 2,
       "version_minor": 0
      },
      "text/plain": [
       "Processing channels in D10-7:   0%|          | 0/5 [00:00<?, ?it/s]"
      ]
     },
     "metadata": {},
     "output_type": "display_data"
    },
    {
     "data": {
      "application/vnd.jupyter.widget-view+json": {
       "model_id": "5cf4f2afec474c2b9a18fbe3876b38d3",
       "version_major": 2,
       "version_minor": 0
      },
      "text/plain": [
       "Processing channels in D11-1:   0%|          | 0/5 [00:00<?, ?it/s]"
      ]
     },
     "metadata": {},
     "output_type": "display_data"
    },
    {
     "data": {
      "application/vnd.jupyter.widget-view+json": {
       "model_id": "73df8ca1cd6644c686347ff12ee3cd5b",
       "version_major": 2,
       "version_minor": 0
      },
      "text/plain": [
       "Processing channels in D11-2:   0%|          | 0/5 [00:00<?, ?it/s]"
      ]
     },
     "metadata": {},
     "output_type": "display_data"
    },
    {
     "data": {
      "application/vnd.jupyter.widget-view+json": {
       "model_id": "6f7797c7fd36419ea7d20647a2e6ff24",
       "version_major": 2,
       "version_minor": 0
      },
      "text/plain": [
       "Processing channels in D11-3:   0%|          | 0/5 [00:00<?, ?it/s]"
      ]
     },
     "metadata": {},
     "output_type": "display_data"
    },
    {
     "data": {
      "application/vnd.jupyter.widget-view+json": {
       "model_id": "ef794ac1f9764a04a7aea5f90386c78a",
       "version_major": 2,
       "version_minor": 0
      },
      "text/plain": [
       "Processing channels in D11-4:   0%|          | 0/5 [00:00<?, ?it/s]"
      ]
     },
     "metadata": {},
     "output_type": "display_data"
    },
    {
     "data": {
      "application/vnd.jupyter.widget-view+json": {
       "model_id": "a32762aafd5e42018a16a09b424c439f",
       "version_major": 2,
       "version_minor": 0
      },
      "text/plain": [
       "Processing channels in D11-5:   0%|          | 0/5 [00:00<?, ?it/s]"
      ]
     },
     "metadata": {},
     "output_type": "display_data"
    },
    {
     "data": {
      "application/vnd.jupyter.widget-view+json": {
       "model_id": "624558aeb093498eb50630ffef467a90",
       "version_major": 2,
       "version_minor": 0
      },
      "text/plain": [
       "Processing channels in D11-6:   0%|          | 0/5 [00:00<?, ?it/s]"
      ]
     },
     "metadata": {},
     "output_type": "display_data"
    },
    {
     "data": {
      "application/vnd.jupyter.widget-view+json": {
       "model_id": "afe68a4eddc54f2a92f0008efcec7a8b",
       "version_major": 2,
       "version_minor": 0
      },
      "text/plain": [
       "Processing channels in D11-7:   0%|          | 0/5 [00:00<?, ?it/s]"
      ]
     },
     "metadata": {},
     "output_type": "display_data"
    },
    {
     "data": {
      "application/vnd.jupyter.widget-view+json": {
       "model_id": "fab57cc4fdf94c7d9a167a89fb920dae",
       "version_major": 2,
       "version_minor": 0
      },
      "text/plain": [
       "Processing channels in D2-1:   0%|          | 0/5 [00:00<?, ?it/s]"
      ]
     },
     "metadata": {},
     "output_type": "display_data"
    },
    {
     "data": {
      "application/vnd.jupyter.widget-view+json": {
       "model_id": "3461849a49d54bfbadc19ee93242cc20",
       "version_major": 2,
       "version_minor": 0
      },
      "text/plain": [
       "Processing channels in D2-2:   0%|          | 0/5 [00:00<?, ?it/s]"
      ]
     },
     "metadata": {},
     "output_type": "display_data"
    },
    {
     "data": {
      "application/vnd.jupyter.widget-view+json": {
       "model_id": "c7e320642f154c7caf042d1f47c808f2",
       "version_major": 2,
       "version_minor": 0
      },
      "text/plain": [
       "Processing channels in D2-3:   0%|          | 0/5 [00:00<?, ?it/s]"
      ]
     },
     "metadata": {},
     "output_type": "display_data"
    },
    {
     "data": {
      "application/vnd.jupyter.widget-view+json": {
       "model_id": "19eb7f83465345ae8eb7a9262cdd5535",
       "version_major": 2,
       "version_minor": 0
      },
      "text/plain": [
       "Processing channels in D2-4:   0%|          | 0/5 [00:00<?, ?it/s]"
      ]
     },
     "metadata": {},
     "output_type": "display_data"
    },
    {
     "data": {
      "application/vnd.jupyter.widget-view+json": {
       "model_id": "5ec04050eebd44a384151c3821b40cad",
       "version_major": 2,
       "version_minor": 0
      },
      "text/plain": [
       "Processing channels in D2-5:   0%|          | 0/5 [00:00<?, ?it/s]"
      ]
     },
     "metadata": {},
     "output_type": "display_data"
    },
    {
     "data": {
      "application/vnd.jupyter.widget-view+json": {
       "model_id": "b21ce8b3bae041ac9873bbcd92ec39ed",
       "version_major": 2,
       "version_minor": 0
      },
      "text/plain": [
       "Processing channels in D2-6:   0%|          | 0/5 [00:00<?, ?it/s]"
      ]
     },
     "metadata": {},
     "output_type": "display_data"
    },
    {
     "data": {
      "application/vnd.jupyter.widget-view+json": {
       "model_id": "6bc11514328549db9f9d138531fa76b5",
       "version_major": 2,
       "version_minor": 0
      },
      "text/plain": [
       "Processing channels in D2-7:   0%|          | 0/5 [00:00<?, ?it/s]"
      ]
     },
     "metadata": {},
     "output_type": "display_data"
    },
    {
     "data": {
      "application/vnd.jupyter.widget-view+json": {
       "model_id": "c74304d3afcb44b69d1dd22e97c9204d",
       "version_major": 2,
       "version_minor": 0
      },
      "text/plain": [
       "Processing channels in D3-1:   0%|          | 0/5 [00:00<?, ?it/s]"
      ]
     },
     "metadata": {},
     "output_type": "display_data"
    },
    {
     "data": {
      "application/vnd.jupyter.widget-view+json": {
       "model_id": "c5ae6986b5b84a78b1167c9affa5de55",
       "version_major": 2,
       "version_minor": 0
      },
      "text/plain": [
       "Processing channels in D3-2:   0%|          | 0/5 [00:00<?, ?it/s]"
      ]
     },
     "metadata": {},
     "output_type": "display_data"
    },
    {
     "data": {
      "application/vnd.jupyter.widget-view+json": {
       "model_id": "9896212ce61b4ac6a06523a0765f27c4",
       "version_major": 2,
       "version_minor": 0
      },
      "text/plain": [
       "Processing channels in D3-3:   0%|          | 0/5 [00:00<?, ?it/s]"
      ]
     },
     "metadata": {},
     "output_type": "display_data"
    },
    {
     "data": {
      "application/vnd.jupyter.widget-view+json": {
       "model_id": "f20a17eb27dc454d8c3177f7d090096c",
       "version_major": 2,
       "version_minor": 0
      },
      "text/plain": [
       "Processing channels in D3-4:   0%|          | 0/5 [00:00<?, ?it/s]"
      ]
     },
     "metadata": {},
     "output_type": "display_data"
    },
    {
     "data": {
      "application/vnd.jupyter.widget-view+json": {
       "model_id": "3d0bf06884464fe780759cbb4d95ff9d",
       "version_major": 2,
       "version_minor": 0
      },
      "text/plain": [
       "Processing channels in D3-5:   0%|          | 0/5 [00:00<?, ?it/s]"
      ]
     },
     "metadata": {},
     "output_type": "display_data"
    },
    {
     "data": {
      "application/vnd.jupyter.widget-view+json": {
       "model_id": "cf1eb9e9c098412e852378454018a99c",
       "version_major": 2,
       "version_minor": 0
      },
      "text/plain": [
       "Processing channels in D3-6:   0%|          | 0/5 [00:00<?, ?it/s]"
      ]
     },
     "metadata": {},
     "output_type": "display_data"
    },
    {
     "data": {
      "application/vnd.jupyter.widget-view+json": {
       "model_id": "68f7028f8f5643bd9d6633edc39f4d2d",
       "version_major": 2,
       "version_minor": 0
      },
      "text/plain": [
       "Processing channels in D3-7:   0%|          | 0/5 [00:00<?, ?it/s]"
      ]
     },
     "metadata": {},
     "output_type": "display_data"
    },
    {
     "data": {
      "application/vnd.jupyter.widget-view+json": {
       "model_id": "73f0f5539f7242beaa34b9c24ce07f0c",
       "version_major": 2,
       "version_minor": 0
      },
      "text/plain": [
       "Processing channels in D4-1:   0%|          | 0/5 [00:00<?, ?it/s]"
      ]
     },
     "metadata": {},
     "output_type": "display_data"
    },
    {
     "data": {
      "application/vnd.jupyter.widget-view+json": {
       "model_id": "f84e1814c19140ea81a83bb797f4e76d",
       "version_major": 2,
       "version_minor": 0
      },
      "text/plain": [
       "Processing channels in D4-2:   0%|          | 0/5 [00:00<?, ?it/s]"
      ]
     },
     "metadata": {},
     "output_type": "display_data"
    },
    {
     "data": {
      "application/vnd.jupyter.widget-view+json": {
       "model_id": "17571c1b0be84ce4ae18ad9925fd7765",
       "version_major": 2,
       "version_minor": 0
      },
      "text/plain": [
       "Processing channels in D4-3:   0%|          | 0/5 [00:00<?, ?it/s]"
      ]
     },
     "metadata": {},
     "output_type": "display_data"
    },
    {
     "data": {
      "application/vnd.jupyter.widget-view+json": {
       "model_id": "52318802d1984e149cfab47e9bbbfd18",
       "version_major": 2,
       "version_minor": 0
      },
      "text/plain": [
       "Processing channels in D4-4:   0%|          | 0/5 [00:00<?, ?it/s]"
      ]
     },
     "metadata": {},
     "output_type": "display_data"
    },
    {
     "data": {
      "application/vnd.jupyter.widget-view+json": {
       "model_id": "b2f1751cc3854e5a849783ebe166765e",
       "version_major": 2,
       "version_minor": 0
      },
      "text/plain": [
       "Processing channels in D4-5:   0%|          | 0/5 [00:00<?, ?it/s]"
      ]
     },
     "metadata": {},
     "output_type": "display_data"
    },
    {
     "data": {
      "application/vnd.jupyter.widget-view+json": {
       "model_id": "5f76fe6dab0641c197222e868fe335d1",
       "version_major": 2,
       "version_minor": 0
      },
      "text/plain": [
       "Processing channels in D4-6:   0%|          | 0/5 [00:00<?, ?it/s]"
      ]
     },
     "metadata": {},
     "output_type": "display_data"
    },
    {
     "data": {
      "application/vnd.jupyter.widget-view+json": {
       "model_id": "7f8eb425fba54b0298fc0f4531f561a6",
       "version_major": 2,
       "version_minor": 0
      },
      "text/plain": [
       "Processing channels in D4-7:   0%|          | 0/5 [00:00<?, ?it/s]"
      ]
     },
     "metadata": {},
     "output_type": "display_data"
    },
    {
     "data": {
      "application/vnd.jupyter.widget-view+json": {
       "model_id": "591ba395a85c42b6b7a07a2786247a18",
       "version_major": 2,
       "version_minor": 0
      },
      "text/plain": [
       "Processing channels in D5-1:   0%|          | 0/5 [00:00<?, ?it/s]"
      ]
     },
     "metadata": {},
     "output_type": "display_data"
    },
    {
     "data": {
      "application/vnd.jupyter.widget-view+json": {
       "model_id": "84ed32e6a9fe4ef18ae10b13f893f194",
       "version_major": 2,
       "version_minor": 0
      },
      "text/plain": [
       "Processing channels in D5-2:   0%|          | 0/5 [00:00<?, ?it/s]"
      ]
     },
     "metadata": {},
     "output_type": "display_data"
    },
    {
     "data": {
      "application/vnd.jupyter.widget-view+json": {
       "model_id": "555b19a76226496aafa58eaddde1702a",
       "version_major": 2,
       "version_minor": 0
      },
      "text/plain": [
       "Processing channels in D5-3:   0%|          | 0/5 [00:00<?, ?it/s]"
      ]
     },
     "metadata": {},
     "output_type": "display_data"
    },
    {
     "data": {
      "application/vnd.jupyter.widget-view+json": {
       "model_id": "02a849b3241e45c7b2ea01b638e592de",
       "version_major": 2,
       "version_minor": 0
      },
      "text/plain": [
       "Processing channels in D5-4:   0%|          | 0/5 [00:00<?, ?it/s]"
      ]
     },
     "metadata": {},
     "output_type": "display_data"
    },
    {
     "data": {
      "application/vnd.jupyter.widget-view+json": {
       "model_id": "1f8c1ce324bd4f1ba07309eaa22fdb3b",
       "version_major": 2,
       "version_minor": 0
      },
      "text/plain": [
       "Processing channels in D5-5:   0%|          | 0/5 [00:00<?, ?it/s]"
      ]
     },
     "metadata": {},
     "output_type": "display_data"
    },
    {
     "data": {
      "application/vnd.jupyter.widget-view+json": {
       "model_id": "704031a97d314091879ed611c751754b",
       "version_major": 2,
       "version_minor": 0
      },
      "text/plain": [
       "Processing channels in D5-6:   0%|          | 0/5 [00:00<?, ?it/s]"
      ]
     },
     "metadata": {},
     "output_type": "display_data"
    },
    {
     "data": {
      "application/vnd.jupyter.widget-view+json": {
       "model_id": "7c461aaf000f42c4bfe3ac46304fe458",
       "version_major": 2,
       "version_minor": 0
      },
      "text/plain": [
       "Processing channels in D5-7:   0%|          | 0/5 [00:00<?, ?it/s]"
      ]
     },
     "metadata": {},
     "output_type": "display_data"
    },
    {
     "data": {
      "application/vnd.jupyter.widget-view+json": {
       "model_id": "8f8ce7a2fe104dd89f1e32e145e8e5f2",
       "version_major": 2,
       "version_minor": 0
      },
      "text/plain": [
       "Processing channels in D6-1:   0%|          | 0/5 [00:00<?, ?it/s]"
      ]
     },
     "metadata": {},
     "output_type": "display_data"
    },
    {
     "data": {
      "application/vnd.jupyter.widget-view+json": {
       "model_id": "4127a317cd9b45ecb506ad0676563a0f",
       "version_major": 2,
       "version_minor": 0
      },
      "text/plain": [
       "Processing channels in D6-2:   0%|          | 0/5 [00:00<?, ?it/s]"
      ]
     },
     "metadata": {},
     "output_type": "display_data"
    },
    {
     "data": {
      "application/vnd.jupyter.widget-view+json": {
       "model_id": "f42c89081a324390976032f1e5e4684a",
       "version_major": 2,
       "version_minor": 0
      },
      "text/plain": [
       "Processing channels in D6-3:   0%|          | 0/5 [00:00<?, ?it/s]"
      ]
     },
     "metadata": {},
     "output_type": "display_data"
    },
    {
     "data": {
      "application/vnd.jupyter.widget-view+json": {
       "model_id": "c3b5b07c50ee47efbb34b3363f5c14e4",
       "version_major": 2,
       "version_minor": 0
      },
      "text/plain": [
       "Processing channels in D6-4:   0%|          | 0/5 [00:00<?, ?it/s]"
      ]
     },
     "metadata": {},
     "output_type": "display_data"
    },
    {
     "data": {
      "application/vnd.jupyter.widget-view+json": {
       "model_id": "645593b6396049628751f68440b38549",
       "version_major": 2,
       "version_minor": 0
      },
      "text/plain": [
       "Processing channels in D6-5:   0%|          | 0/5 [00:00<?, ?it/s]"
      ]
     },
     "metadata": {},
     "output_type": "display_data"
    },
    {
     "data": {
      "application/vnd.jupyter.widget-view+json": {
       "model_id": "42219ffe6813469a94ee92c43a087c25",
       "version_major": 2,
       "version_minor": 0
      },
      "text/plain": [
       "Processing channels in D6-6:   0%|          | 0/5 [00:00<?, ?it/s]"
      ]
     },
     "metadata": {},
     "output_type": "display_data"
    },
    {
     "data": {
      "application/vnd.jupyter.widget-view+json": {
       "model_id": "081079b1ec6c48d4a3fee09cf736eada",
       "version_major": 2,
       "version_minor": 0
      },
      "text/plain": [
       "Processing channels in D6-7:   0%|          | 0/5 [00:00<?, ?it/s]"
      ]
     },
     "metadata": {},
     "output_type": "display_data"
    },
    {
     "data": {
      "application/vnd.jupyter.widget-view+json": {
       "model_id": "97473a4accdd4a7497c3bfcebe677dc4",
       "version_major": 2,
       "version_minor": 0
      },
      "text/plain": [
       "Processing channels in D7-1:   0%|          | 0/5 [00:00<?, ?it/s]"
      ]
     },
     "metadata": {},
     "output_type": "display_data"
    },
    {
     "data": {
      "application/vnd.jupyter.widget-view+json": {
       "model_id": "5d181e07d7004154b2717ca8ffed86c3",
       "version_major": 2,
       "version_minor": 0
      },
      "text/plain": [
       "Processing channels in D7-2:   0%|          | 0/5 [00:00<?, ?it/s]"
      ]
     },
     "metadata": {},
     "output_type": "display_data"
    },
    {
     "data": {
      "application/vnd.jupyter.widget-view+json": {
       "model_id": "297cec55f0bd48408f34de10c7ab5962",
       "version_major": 2,
       "version_minor": 0
      },
      "text/plain": [
       "Processing channels in D7-3:   0%|          | 0/5 [00:00<?, ?it/s]"
      ]
     },
     "metadata": {},
     "output_type": "display_data"
    },
    {
     "data": {
      "application/vnd.jupyter.widget-view+json": {
       "model_id": "5ae76be110734da5b73b54ab03137dc7",
       "version_major": 2,
       "version_minor": 0
      },
      "text/plain": [
       "Processing channels in D7-4:   0%|          | 0/5 [00:00<?, ?it/s]"
      ]
     },
     "metadata": {},
     "output_type": "display_data"
    },
    {
     "data": {
      "application/vnd.jupyter.widget-view+json": {
       "model_id": "8816968438c94adfbf6065bc9d78c3e3",
       "version_major": 2,
       "version_minor": 0
      },
      "text/plain": [
       "Processing channels in D7-5:   0%|          | 0/5 [00:00<?, ?it/s]"
      ]
     },
     "metadata": {},
     "output_type": "display_data"
    },
    {
     "data": {
      "application/vnd.jupyter.widget-view+json": {
       "model_id": "a970914c4e634b7a92615f127f13b0f2",
       "version_major": 2,
       "version_minor": 0
      },
      "text/plain": [
       "Processing channels in D7-6:   0%|          | 0/5 [00:00<?, ?it/s]"
      ]
     },
     "metadata": {},
     "output_type": "display_data"
    },
    {
     "data": {
      "application/vnd.jupyter.widget-view+json": {
       "model_id": "81fe4377a46d48c99d92450cfeac3894",
       "version_major": 2,
       "version_minor": 0
      },
      "text/plain": [
       "Processing channels in D7-7:   0%|          | 0/5 [00:00<?, ?it/s]"
      ]
     },
     "metadata": {},
     "output_type": "display_data"
    },
    {
     "data": {
      "application/vnd.jupyter.widget-view+json": {
       "model_id": "36fd52d83f824a2ab8126f8fa5f5b640",
       "version_major": 2,
       "version_minor": 0
      },
      "text/plain": [
       "Processing channels in D8-1:   0%|          | 0/5 [00:00<?, ?it/s]"
      ]
     },
     "metadata": {},
     "output_type": "display_data"
    },
    {
     "data": {
      "application/vnd.jupyter.widget-view+json": {
       "model_id": "052e21602b24419cac6520f1a599e85f",
       "version_major": 2,
       "version_minor": 0
      },
      "text/plain": [
       "Processing channels in D8-2:   0%|          | 0/5 [00:00<?, ?it/s]"
      ]
     },
     "metadata": {},
     "output_type": "display_data"
    },
    {
     "data": {
      "application/vnd.jupyter.widget-view+json": {
       "model_id": "193958abb08c41e0b3017412b5d2d82f",
       "version_major": 2,
       "version_minor": 0
      },
      "text/plain": [
       "Processing channels in D8-3:   0%|          | 0/5 [00:00<?, ?it/s]"
      ]
     },
     "metadata": {},
     "output_type": "display_data"
    },
    {
     "data": {
      "application/vnd.jupyter.widget-view+json": {
       "model_id": "763b568b5e9f4d2594eef6f479f0b55f",
       "version_major": 2,
       "version_minor": 0
      },
      "text/plain": [
       "Processing channels in D8-4:   0%|          | 0/5 [00:00<?, ?it/s]"
      ]
     },
     "metadata": {},
     "output_type": "display_data"
    },
    {
     "data": {
      "application/vnd.jupyter.widget-view+json": {
       "model_id": "7c02e8a988fb4f5c99b7da2ea06dbab8",
       "version_major": 2,
       "version_minor": 0
      },
      "text/plain": [
       "Processing channels in D8-5:   0%|          | 0/5 [00:00<?, ?it/s]"
      ]
     },
     "metadata": {},
     "output_type": "display_data"
    },
    {
     "data": {
      "application/vnd.jupyter.widget-view+json": {
       "model_id": "b352fe2d8f22413e9d0359cfbc060e7b",
       "version_major": 2,
       "version_minor": 0
      },
      "text/plain": [
       "Processing channels in D8-6:   0%|          | 0/5 [00:00<?, ?it/s]"
      ]
     },
     "metadata": {},
     "output_type": "display_data"
    },
    {
     "data": {
      "application/vnd.jupyter.widget-view+json": {
       "model_id": "4e9eff380c344a2890484cd068b1aec5",
       "version_major": 2,
       "version_minor": 0
      },
      "text/plain": [
       "Processing channels in D8-7:   0%|          | 0/5 [00:00<?, ?it/s]"
      ]
     },
     "metadata": {},
     "output_type": "display_data"
    },
    {
     "data": {
      "application/vnd.jupyter.widget-view+json": {
       "model_id": "a0234412d9864f39b2fa5f2bdb701fd7",
       "version_major": 2,
       "version_minor": 0
      },
      "text/plain": [
       "Processing channels in D9-1:   0%|          | 0/5 [00:00<?, ?it/s]"
      ]
     },
     "metadata": {},
     "output_type": "display_data"
    },
    {
     "data": {
      "application/vnd.jupyter.widget-view+json": {
       "model_id": "a2f14d448c344c89a27d4412111d6571",
       "version_major": 2,
       "version_minor": 0
      },
      "text/plain": [
       "Processing channels in D9-2:   0%|          | 0/5 [00:00<?, ?it/s]"
      ]
     },
     "metadata": {},
     "output_type": "display_data"
    },
    {
     "data": {
      "application/vnd.jupyter.widget-view+json": {
       "model_id": "9d7ec73f249e41649c4ebf99efeeb619",
       "version_major": 2,
       "version_minor": 0
      },
      "text/plain": [
       "Processing channels in D9-3:   0%|          | 0/5 [00:00<?, ?it/s]"
      ]
     },
     "metadata": {},
     "output_type": "display_data"
    },
    {
     "data": {
      "application/vnd.jupyter.widget-view+json": {
       "model_id": "1be126a84dac43cbb198fd98962b3bce",
       "version_major": 2,
       "version_minor": 0
      },
      "text/plain": [
       "Processing channels in D9-4:   0%|          | 0/5 [00:00<?, ?it/s]"
      ]
     },
     "metadata": {},
     "output_type": "display_data"
    },
    {
     "data": {
      "application/vnd.jupyter.widget-view+json": {
       "model_id": "986905dc25a5400f95efbc8a3d398ba8",
       "version_major": 2,
       "version_minor": 0
      },
      "text/plain": [
       "Processing channels in D9-5:   0%|          | 0/5 [00:00<?, ?it/s]"
      ]
     },
     "metadata": {},
     "output_type": "display_data"
    },
    {
     "data": {
      "application/vnd.jupyter.widget-view+json": {
       "model_id": "ecce4f9031fc418b91729f2c7bc6f0f8",
       "version_major": 2,
       "version_minor": 0
      },
      "text/plain": [
       "Processing channels in D9-6:   0%|          | 0/5 [00:00<?, ?it/s]"
      ]
     },
     "metadata": {},
     "output_type": "display_data"
    },
    {
     "data": {
      "application/vnd.jupyter.widget-view+json": {
       "model_id": "4a885c520b0d463396d5b41b671691f6",
       "version_major": 2,
       "version_minor": 0
      },
      "text/plain": [
       "Processing channels in D9-7:   0%|          | 0/5 [00:00<?, ?it/s]"
      ]
     },
     "metadata": {},
     "output_type": "display_data"
    },
    {
     "data": {
      "application/vnd.jupyter.widget-view+json": {
       "model_id": "e034fb3116b24277ada95d5557d5bacd",
       "version_major": 2,
       "version_minor": 0
      },
      "text/plain": [
       "Processing channels in E10-1:   0%|          | 0/5 [00:00<?, ?it/s]"
      ]
     },
     "metadata": {},
     "output_type": "display_data"
    },
    {
     "data": {
      "application/vnd.jupyter.widget-view+json": {
       "model_id": "3ec5add9e05e47fda2e35d86c7abf5e8",
       "version_major": 2,
       "version_minor": 0
      },
      "text/plain": [
       "Processing channels in E10-2:   0%|          | 0/5 [00:00<?, ?it/s]"
      ]
     },
     "metadata": {},
     "output_type": "display_data"
    },
    {
     "data": {
      "application/vnd.jupyter.widget-view+json": {
       "model_id": "e9865f14d24d4313a236ddacd30f610c",
       "version_major": 2,
       "version_minor": 0
      },
      "text/plain": [
       "Processing channels in E10-3:   0%|          | 0/5 [00:00<?, ?it/s]"
      ]
     },
     "metadata": {},
     "output_type": "display_data"
    },
    {
     "data": {
      "application/vnd.jupyter.widget-view+json": {
       "model_id": "b17e225316c14ddfa662d471910dafcf",
       "version_major": 2,
       "version_minor": 0
      },
      "text/plain": [
       "Processing channels in E10-4:   0%|          | 0/5 [00:00<?, ?it/s]"
      ]
     },
     "metadata": {},
     "output_type": "display_data"
    },
    {
     "data": {
      "application/vnd.jupyter.widget-view+json": {
       "model_id": "88ea1348d9d54006bd1c30160f700e66",
       "version_major": 2,
       "version_minor": 0
      },
      "text/plain": [
       "Processing channels in E10-5:   0%|          | 0/5 [00:00<?, ?it/s]"
      ]
     },
     "metadata": {},
     "output_type": "display_data"
    },
    {
     "data": {
      "application/vnd.jupyter.widget-view+json": {
       "model_id": "8fd8a19658274080b296d035077e2ccb",
       "version_major": 2,
       "version_minor": 0
      },
      "text/plain": [
       "Processing channels in E10-6:   0%|          | 0/5 [00:00<?, ?it/s]"
      ]
     },
     "metadata": {},
     "output_type": "display_data"
    },
    {
     "data": {
      "application/vnd.jupyter.widget-view+json": {
       "model_id": "401bc4ceb57a4b13bd3a58716d9b8a15",
       "version_major": 2,
       "version_minor": 0
      },
      "text/plain": [
       "Processing channels in E10-7:   0%|          | 0/5 [00:00<?, ?it/s]"
      ]
     },
     "metadata": {},
     "output_type": "display_data"
    },
    {
     "data": {
      "application/vnd.jupyter.widget-view+json": {
       "model_id": "37a5c6aaf5a444828a9da57287407c73",
       "version_major": 2,
       "version_minor": 0
      },
      "text/plain": [
       "Processing channels in E11-1:   0%|          | 0/5 [00:00<?, ?it/s]"
      ]
     },
     "metadata": {},
     "output_type": "display_data"
    },
    {
     "data": {
      "application/vnd.jupyter.widget-view+json": {
       "model_id": "60405e5ec587458781303fccec0a969e",
       "version_major": 2,
       "version_minor": 0
      },
      "text/plain": [
       "Processing channels in E11-2:   0%|          | 0/5 [00:00<?, ?it/s]"
      ]
     },
     "metadata": {},
     "output_type": "display_data"
    },
    {
     "data": {
      "application/vnd.jupyter.widget-view+json": {
       "model_id": "a64dd6752f794acbb2d7089eb328a132",
       "version_major": 2,
       "version_minor": 0
      },
      "text/plain": [
       "Processing channels in E11-3:   0%|          | 0/5 [00:00<?, ?it/s]"
      ]
     },
     "metadata": {},
     "output_type": "display_data"
    },
    {
     "data": {
      "application/vnd.jupyter.widget-view+json": {
       "model_id": "04a6b58b918a44e1916163cd7c0ec6b8",
       "version_major": 2,
       "version_minor": 0
      },
      "text/plain": [
       "Processing channels in E11-4:   0%|          | 0/5 [00:00<?, ?it/s]"
      ]
     },
     "metadata": {},
     "output_type": "display_data"
    },
    {
     "data": {
      "application/vnd.jupyter.widget-view+json": {
       "model_id": "0e90c530c316422fb61d151ab0b11a37",
       "version_major": 2,
       "version_minor": 0
      },
      "text/plain": [
       "Processing channels in E11-5:   0%|          | 0/5 [00:00<?, ?it/s]"
      ]
     },
     "metadata": {},
     "output_type": "display_data"
    },
    {
     "data": {
      "application/vnd.jupyter.widget-view+json": {
       "model_id": "aeffa956c80847748c5186c289dc3232",
       "version_major": 2,
       "version_minor": 0
      },
      "text/plain": [
       "Processing channels in E11-6:   0%|          | 0/5 [00:00<?, ?it/s]"
      ]
     },
     "metadata": {},
     "output_type": "display_data"
    },
    {
     "data": {
      "application/vnd.jupyter.widget-view+json": {
       "model_id": "f41b6ffde3094ccaaea9fcc72ca6228d",
       "version_major": 2,
       "version_minor": 0
      },
      "text/plain": [
       "Processing channels in E11-7:   0%|          | 0/5 [00:00<?, ?it/s]"
      ]
     },
     "metadata": {},
     "output_type": "display_data"
    },
    {
     "data": {
      "application/vnd.jupyter.widget-view+json": {
       "model_id": "6cd412f11e04423aa3cfe29f6387950b",
       "version_major": 2,
       "version_minor": 0
      },
      "text/plain": [
       "Processing channels in E2-1:   0%|          | 0/5 [00:00<?, ?it/s]"
      ]
     },
     "metadata": {},
     "output_type": "display_data"
    },
    {
     "data": {
      "application/vnd.jupyter.widget-view+json": {
       "model_id": "c5e5a84733b3495c884b65c93f2365fd",
       "version_major": 2,
       "version_minor": 0
      },
      "text/plain": [
       "Processing channels in E2-2:   0%|          | 0/5 [00:00<?, ?it/s]"
      ]
     },
     "metadata": {},
     "output_type": "display_data"
    },
    {
     "data": {
      "application/vnd.jupyter.widget-view+json": {
       "model_id": "af13d1ead7b54a3cb56a671753a9432d",
       "version_major": 2,
       "version_minor": 0
      },
      "text/plain": [
       "Processing channels in E2-3:   0%|          | 0/5 [00:00<?, ?it/s]"
      ]
     },
     "metadata": {},
     "output_type": "display_data"
    },
    {
     "data": {
      "application/vnd.jupyter.widget-view+json": {
       "model_id": "5a58fef0759f49de8ebb88c1d9a71b1a",
       "version_major": 2,
       "version_minor": 0
      },
      "text/plain": [
       "Processing channels in E2-4:   0%|          | 0/5 [00:00<?, ?it/s]"
      ]
     },
     "metadata": {},
     "output_type": "display_data"
    },
    {
     "data": {
      "application/vnd.jupyter.widget-view+json": {
       "model_id": "59325a92389643ceafed70dc11921c8e",
       "version_major": 2,
       "version_minor": 0
      },
      "text/plain": [
       "Processing channels in E2-5:   0%|          | 0/5 [00:00<?, ?it/s]"
      ]
     },
     "metadata": {},
     "output_type": "display_data"
    },
    {
     "data": {
      "application/vnd.jupyter.widget-view+json": {
       "model_id": "f65024f08e62425e9dc85cddfa21e2d8",
       "version_major": 2,
       "version_minor": 0
      },
      "text/plain": [
       "Processing channels in E2-6:   0%|          | 0/5 [00:00<?, ?it/s]"
      ]
     },
     "metadata": {},
     "output_type": "display_data"
    },
    {
     "data": {
      "application/vnd.jupyter.widget-view+json": {
       "model_id": "0cab02d50b474580975d87d1b66743dd",
       "version_major": 2,
       "version_minor": 0
      },
      "text/plain": [
       "Processing channels in E2-7:   0%|          | 0/5 [00:00<?, ?it/s]"
      ]
     },
     "metadata": {},
     "output_type": "display_data"
    },
    {
     "data": {
      "application/vnd.jupyter.widget-view+json": {
       "model_id": "dc30e250166e4f1a8f1ec55d2a7a7d3d",
       "version_major": 2,
       "version_minor": 0
      },
      "text/plain": [
       "Processing channels in E3-1:   0%|          | 0/5 [00:00<?, ?it/s]"
      ]
     },
     "metadata": {},
     "output_type": "display_data"
    },
    {
     "data": {
      "application/vnd.jupyter.widget-view+json": {
       "model_id": "85f3138e42e54c14b4bec47370496154",
       "version_major": 2,
       "version_minor": 0
      },
      "text/plain": [
       "Processing channels in E3-2:   0%|          | 0/5 [00:00<?, ?it/s]"
      ]
     },
     "metadata": {},
     "output_type": "display_data"
    },
    {
     "data": {
      "application/vnd.jupyter.widget-view+json": {
       "model_id": "2aabd1dc82034881bdf2c73f2620012f",
       "version_major": 2,
       "version_minor": 0
      },
      "text/plain": [
       "Processing channels in E3-3:   0%|          | 0/5 [00:00<?, ?it/s]"
      ]
     },
     "metadata": {},
     "output_type": "display_data"
    },
    {
     "data": {
      "application/vnd.jupyter.widget-view+json": {
       "model_id": "41e469889c6144c5a0390d09bc093330",
       "version_major": 2,
       "version_minor": 0
      },
      "text/plain": [
       "Processing channels in E3-4:   0%|          | 0/5 [00:00<?, ?it/s]"
      ]
     },
     "metadata": {},
     "output_type": "display_data"
    },
    {
     "data": {
      "application/vnd.jupyter.widget-view+json": {
       "model_id": "8702bd3e226f41cf9c670761ca4c454f",
       "version_major": 2,
       "version_minor": 0
      },
      "text/plain": [
       "Processing channels in E3-5:   0%|          | 0/5 [00:00<?, ?it/s]"
      ]
     },
     "metadata": {},
     "output_type": "display_data"
    },
    {
     "data": {
      "application/vnd.jupyter.widget-view+json": {
       "model_id": "7ab29ceca56a4f67938fac8d02e77001",
       "version_major": 2,
       "version_minor": 0
      },
      "text/plain": [
       "Processing channels in E3-6:   0%|          | 0/5 [00:00<?, ?it/s]"
      ]
     },
     "metadata": {},
     "output_type": "display_data"
    },
    {
     "data": {
      "application/vnd.jupyter.widget-view+json": {
       "model_id": "21228e4c059840de88e0867ea3eafd99",
       "version_major": 2,
       "version_minor": 0
      },
      "text/plain": [
       "Processing channels in E3-7:   0%|          | 0/5 [00:00<?, ?it/s]"
      ]
     },
     "metadata": {},
     "output_type": "display_data"
    },
    {
     "data": {
      "application/vnd.jupyter.widget-view+json": {
       "model_id": "1432738ac0fd4465b56baf716a675623",
       "version_major": 2,
       "version_minor": 0
      },
      "text/plain": [
       "Processing channels in E4-1:   0%|          | 0/5 [00:00<?, ?it/s]"
      ]
     },
     "metadata": {},
     "output_type": "display_data"
    },
    {
     "data": {
      "application/vnd.jupyter.widget-view+json": {
       "model_id": "19bee47762cd428592701abaa0dcf7a9",
       "version_major": 2,
       "version_minor": 0
      },
      "text/plain": [
       "Processing channels in E4-2:   0%|          | 0/5 [00:00<?, ?it/s]"
      ]
     },
     "metadata": {},
     "output_type": "display_data"
    },
    {
     "data": {
      "application/vnd.jupyter.widget-view+json": {
       "model_id": "ce019de66d5b4ffb8c68fc8134fc9d9b",
       "version_major": 2,
       "version_minor": 0
      },
      "text/plain": [
       "Processing channels in E4-3:   0%|          | 0/5 [00:00<?, ?it/s]"
      ]
     },
     "metadata": {},
     "output_type": "display_data"
    },
    {
     "data": {
      "application/vnd.jupyter.widget-view+json": {
       "model_id": "53dfdcbe13ce4164a4ce2e522d616d54",
       "version_major": 2,
       "version_minor": 0
      },
      "text/plain": [
       "Processing channels in E4-4:   0%|          | 0/5 [00:00<?, ?it/s]"
      ]
     },
     "metadata": {},
     "output_type": "display_data"
    },
    {
     "data": {
      "application/vnd.jupyter.widget-view+json": {
       "model_id": "99fc4ea71df345b8add1aa8317eda356",
       "version_major": 2,
       "version_minor": 0
      },
      "text/plain": [
       "Processing channels in E4-5:   0%|          | 0/5 [00:00<?, ?it/s]"
      ]
     },
     "metadata": {},
     "output_type": "display_data"
    },
    {
     "data": {
      "application/vnd.jupyter.widget-view+json": {
       "model_id": "73252255269c4fae9f15de8a9fda87a8",
       "version_major": 2,
       "version_minor": 0
      },
      "text/plain": [
       "Processing channels in E4-6:   0%|          | 0/5 [00:00<?, ?it/s]"
      ]
     },
     "metadata": {},
     "output_type": "display_data"
    },
    {
     "data": {
      "application/vnd.jupyter.widget-view+json": {
       "model_id": "2e841727d86449a4bbb1e8906ea41bfe",
       "version_major": 2,
       "version_minor": 0
      },
      "text/plain": [
       "Processing channels in E4-7:   0%|          | 0/5 [00:00<?, ?it/s]"
      ]
     },
     "metadata": {},
     "output_type": "display_data"
    },
    {
     "data": {
      "application/vnd.jupyter.widget-view+json": {
       "model_id": "abf7143695b54e3bb48a165cc083298f",
       "version_major": 2,
       "version_minor": 0
      },
      "text/plain": [
       "Processing channels in E5-1:   0%|          | 0/5 [00:00<?, ?it/s]"
      ]
     },
     "metadata": {},
     "output_type": "display_data"
    },
    {
     "data": {
      "application/vnd.jupyter.widget-view+json": {
       "model_id": "7e25045f1d754b428a682e7485807107",
       "version_major": 2,
       "version_minor": 0
      },
      "text/plain": [
       "Processing channels in E5-2:   0%|          | 0/5 [00:00<?, ?it/s]"
      ]
     },
     "metadata": {},
     "output_type": "display_data"
    },
    {
     "data": {
      "application/vnd.jupyter.widget-view+json": {
       "model_id": "895c095d8cc24d409a62c606fcda65f9",
       "version_major": 2,
       "version_minor": 0
      },
      "text/plain": [
       "Processing channels in E5-3:   0%|          | 0/5 [00:00<?, ?it/s]"
      ]
     },
     "metadata": {},
     "output_type": "display_data"
    },
    {
     "data": {
      "application/vnd.jupyter.widget-view+json": {
       "model_id": "318cbdecf5cc4dd0b275ec171d9f3e28",
       "version_major": 2,
       "version_minor": 0
      },
      "text/plain": [
       "Processing channels in E5-4:   0%|          | 0/5 [00:00<?, ?it/s]"
      ]
     },
     "metadata": {},
     "output_type": "display_data"
    },
    {
     "data": {
      "application/vnd.jupyter.widget-view+json": {
       "model_id": "d13583fc8da74861a756615d050c6f30",
       "version_major": 2,
       "version_minor": 0
      },
      "text/plain": [
       "Processing channels in E5-5:   0%|          | 0/5 [00:00<?, ?it/s]"
      ]
     },
     "metadata": {},
     "output_type": "display_data"
    },
    {
     "data": {
      "application/vnd.jupyter.widget-view+json": {
       "model_id": "9a58207c58f94d1db34af50402bf0144",
       "version_major": 2,
       "version_minor": 0
      },
      "text/plain": [
       "Processing channels in E5-6:   0%|          | 0/5 [00:00<?, ?it/s]"
      ]
     },
     "metadata": {},
     "output_type": "display_data"
    },
    {
     "data": {
      "application/vnd.jupyter.widget-view+json": {
       "model_id": "6a9944aebe8d4b6cbdb131cfa13dca49",
       "version_major": 2,
       "version_minor": 0
      },
      "text/plain": [
       "Processing channels in E5-7:   0%|          | 0/5 [00:00<?, ?it/s]"
      ]
     },
     "metadata": {},
     "output_type": "display_data"
    },
    {
     "data": {
      "application/vnd.jupyter.widget-view+json": {
       "model_id": "0a8069c9e9604b53bf12d7c0848e1593",
       "version_major": 2,
       "version_minor": 0
      },
      "text/plain": [
       "Processing channels in E6-1:   0%|          | 0/5 [00:00<?, ?it/s]"
      ]
     },
     "metadata": {},
     "output_type": "display_data"
    },
    {
     "data": {
      "application/vnd.jupyter.widget-view+json": {
       "model_id": "8c01db861de7445ca23d22515416184e",
       "version_major": 2,
       "version_minor": 0
      },
      "text/plain": [
       "Processing channels in E6-2:   0%|          | 0/5 [00:00<?, ?it/s]"
      ]
     },
     "metadata": {},
     "output_type": "display_data"
    },
    {
     "data": {
      "application/vnd.jupyter.widget-view+json": {
       "model_id": "53324813aa1d44ba9a26a5f0193ff3d0",
       "version_major": 2,
       "version_minor": 0
      },
      "text/plain": [
       "Processing channels in E6-3:   0%|          | 0/5 [00:00<?, ?it/s]"
      ]
     },
     "metadata": {},
     "output_type": "display_data"
    },
    {
     "data": {
      "application/vnd.jupyter.widget-view+json": {
       "model_id": "915c228d26b14f1f9935198c51b1c84a",
       "version_major": 2,
       "version_minor": 0
      },
      "text/plain": [
       "Processing channels in E6-4:   0%|          | 0/5 [00:00<?, ?it/s]"
      ]
     },
     "metadata": {},
     "output_type": "display_data"
    },
    {
     "data": {
      "application/vnd.jupyter.widget-view+json": {
       "model_id": "4084e0eae9c745fa983d0d38e409ba9f",
       "version_major": 2,
       "version_minor": 0
      },
      "text/plain": [
       "Processing channels in E6-5:   0%|          | 0/5 [00:00<?, ?it/s]"
      ]
     },
     "metadata": {},
     "output_type": "display_data"
    },
    {
     "data": {
      "application/vnd.jupyter.widget-view+json": {
       "model_id": "c827f17be0dc4251b709842023cd349c",
       "version_major": 2,
       "version_minor": 0
      },
      "text/plain": [
       "Processing channels in E6-6:   0%|          | 0/5 [00:00<?, ?it/s]"
      ]
     },
     "metadata": {},
     "output_type": "display_data"
    },
    {
     "data": {
      "application/vnd.jupyter.widget-view+json": {
       "model_id": "9fb595eb5f664ee493d00aef6dcb4318",
       "version_major": 2,
       "version_minor": 0
      },
      "text/plain": [
       "Processing channels in E6-7:   0%|          | 0/5 [00:00<?, ?it/s]"
      ]
     },
     "metadata": {},
     "output_type": "display_data"
    },
    {
     "data": {
      "application/vnd.jupyter.widget-view+json": {
       "model_id": "86736899dd83486c97d7730797b0c980",
       "version_major": 2,
       "version_minor": 0
      },
      "text/plain": [
       "Processing channels in E7-1:   0%|          | 0/5 [00:00<?, ?it/s]"
      ]
     },
     "metadata": {},
     "output_type": "display_data"
    },
    {
     "data": {
      "application/vnd.jupyter.widget-view+json": {
       "model_id": "257bbfc099d84007bc26cb1f62f2fde2",
       "version_major": 2,
       "version_minor": 0
      },
      "text/plain": [
       "Processing channels in E7-2:   0%|          | 0/5 [00:00<?, ?it/s]"
      ]
     },
     "metadata": {},
     "output_type": "display_data"
    },
    {
     "data": {
      "application/vnd.jupyter.widget-view+json": {
       "model_id": "63579d2aa152436fab9d473672a79a0b",
       "version_major": 2,
       "version_minor": 0
      },
      "text/plain": [
       "Processing channels in E7-3:   0%|          | 0/5 [00:00<?, ?it/s]"
      ]
     },
     "metadata": {},
     "output_type": "display_data"
    },
    {
     "data": {
      "application/vnd.jupyter.widget-view+json": {
       "model_id": "782b9b22ef8249b48fd181410e91982a",
       "version_major": 2,
       "version_minor": 0
      },
      "text/plain": [
       "Processing channels in E7-4:   0%|          | 0/5 [00:00<?, ?it/s]"
      ]
     },
     "metadata": {},
     "output_type": "display_data"
    },
    {
     "data": {
      "application/vnd.jupyter.widget-view+json": {
       "model_id": "de19d8c04b24433f87e14c61306ff514",
       "version_major": 2,
       "version_minor": 0
      },
      "text/plain": [
       "Processing channels in E7-5:   0%|          | 0/5 [00:00<?, ?it/s]"
      ]
     },
     "metadata": {},
     "output_type": "display_data"
    },
    {
     "data": {
      "application/vnd.jupyter.widget-view+json": {
       "model_id": "8a20bd7631a04db49dc8cad753454408",
       "version_major": 2,
       "version_minor": 0
      },
      "text/plain": [
       "Processing channels in E7-6:   0%|          | 0/5 [00:00<?, ?it/s]"
      ]
     },
     "metadata": {},
     "output_type": "display_data"
    },
    {
     "data": {
      "application/vnd.jupyter.widget-view+json": {
       "model_id": "814e1a1096434b77afe8896ec0ad65d8",
       "version_major": 2,
       "version_minor": 0
      },
      "text/plain": [
       "Processing channels in E7-7:   0%|          | 0/5 [00:00<?, ?it/s]"
      ]
     },
     "metadata": {},
     "output_type": "display_data"
    },
    {
     "data": {
      "application/vnd.jupyter.widget-view+json": {
       "model_id": "86f2c06e38cb46ef82f3d0635d524ff4",
       "version_major": 2,
       "version_minor": 0
      },
      "text/plain": [
       "Processing channels in E8-1:   0%|          | 0/5 [00:00<?, ?it/s]"
      ]
     },
     "metadata": {},
     "output_type": "display_data"
    },
    {
     "data": {
      "application/vnd.jupyter.widget-view+json": {
       "model_id": "06d122b3498c44139cc6ba36c5ff16c2",
       "version_major": 2,
       "version_minor": 0
      },
      "text/plain": [
       "Processing channels in E8-2:   0%|          | 0/5 [00:00<?, ?it/s]"
      ]
     },
     "metadata": {},
     "output_type": "display_data"
    },
    {
     "data": {
      "application/vnd.jupyter.widget-view+json": {
       "model_id": "b4e2b9a8d56443029016f0b2260f15e8",
       "version_major": 2,
       "version_minor": 0
      },
      "text/plain": [
       "Processing channels in E8-3:   0%|          | 0/5 [00:00<?, ?it/s]"
      ]
     },
     "metadata": {},
     "output_type": "display_data"
    },
    {
     "data": {
      "application/vnd.jupyter.widget-view+json": {
       "model_id": "e2fbe5844a60482f83681510f96c409e",
       "version_major": 2,
       "version_minor": 0
      },
      "text/plain": [
       "Processing channels in E8-4:   0%|          | 0/5 [00:00<?, ?it/s]"
      ]
     },
     "metadata": {},
     "output_type": "display_data"
    },
    {
     "data": {
      "application/vnd.jupyter.widget-view+json": {
       "model_id": "52089b60eb4f40dbbd568723d8b3714d",
       "version_major": 2,
       "version_minor": 0
      },
      "text/plain": [
       "Processing channels in E8-5:   0%|          | 0/5 [00:00<?, ?it/s]"
      ]
     },
     "metadata": {},
     "output_type": "display_data"
    },
    {
     "data": {
      "application/vnd.jupyter.widget-view+json": {
       "model_id": "5a0dd4cf0c9b4e9b8d7cad4b376578ee",
       "version_major": 2,
       "version_minor": 0
      },
      "text/plain": [
       "Processing channels in E8-6:   0%|          | 0/5 [00:00<?, ?it/s]"
      ]
     },
     "metadata": {},
     "output_type": "display_data"
    },
    {
     "data": {
      "application/vnd.jupyter.widget-view+json": {
       "model_id": "9c3ab87d0cfb43e1af516b1b0661dbc9",
       "version_major": 2,
       "version_minor": 0
      },
      "text/plain": [
       "Processing channels in E8-7:   0%|          | 0/5 [00:00<?, ?it/s]"
      ]
     },
     "metadata": {},
     "output_type": "display_data"
    },
    {
     "data": {
      "application/vnd.jupyter.widget-view+json": {
       "model_id": "f7c173ffef334f4fb121312261275fff",
       "version_major": 2,
       "version_minor": 0
      },
      "text/plain": [
       "Processing channels in E9-1:   0%|          | 0/5 [00:00<?, ?it/s]"
      ]
     },
     "metadata": {},
     "output_type": "display_data"
    },
    {
     "data": {
      "application/vnd.jupyter.widget-view+json": {
       "model_id": "0067fa81e0b646bba1c878a36d51a47a",
       "version_major": 2,
       "version_minor": 0
      },
      "text/plain": [
       "Processing channels in E9-2:   0%|          | 0/5 [00:00<?, ?it/s]"
      ]
     },
     "metadata": {},
     "output_type": "display_data"
    },
    {
     "data": {
      "application/vnd.jupyter.widget-view+json": {
       "model_id": "db88638a6a64431faf7af3b0828763e4",
       "version_major": 2,
       "version_minor": 0
      },
      "text/plain": [
       "Processing channels in E9-3:   0%|          | 0/5 [00:00<?, ?it/s]"
      ]
     },
     "metadata": {},
     "output_type": "display_data"
    },
    {
     "data": {
      "application/vnd.jupyter.widget-view+json": {
       "model_id": "e69d4df54e174ea7bb4331f24d9fd89c",
       "version_major": 2,
       "version_minor": 0
      },
      "text/plain": [
       "Processing channels in E9-4:   0%|          | 0/5 [00:00<?, ?it/s]"
      ]
     },
     "metadata": {},
     "output_type": "display_data"
    },
    {
     "data": {
      "application/vnd.jupyter.widget-view+json": {
       "model_id": "8c452ce0bd1c48dda674a5317d6a80d5",
       "version_major": 2,
       "version_minor": 0
      },
      "text/plain": [
       "Processing channels in E9-5:   0%|          | 0/5 [00:00<?, ?it/s]"
      ]
     },
     "metadata": {},
     "output_type": "display_data"
    },
    {
     "data": {
      "application/vnd.jupyter.widget-view+json": {
       "model_id": "25b8bfb6ceba4fa286a60604c53ddd65",
       "version_major": 2,
       "version_minor": 0
      },
      "text/plain": [
       "Processing channels in E9-6:   0%|          | 0/5 [00:00<?, ?it/s]"
      ]
     },
     "metadata": {},
     "output_type": "display_data"
    },
    {
     "data": {
      "application/vnd.jupyter.widget-view+json": {
       "model_id": "b7f1dc1f01fb4703bf2dc44561412c65",
       "version_major": 2,
       "version_minor": 0
      },
      "text/plain": [
       "Processing channels in E9-7:   0%|          | 0/5 [00:00<?, ?it/s]"
      ]
     },
     "metadata": {},
     "output_type": "display_data"
    },
    {
     "data": {
      "application/vnd.jupyter.widget-view+json": {
       "model_id": "f1207a0497b8403c8ee5f415cffd42e2",
       "version_major": 2,
       "version_minor": 0
      },
      "text/plain": [
       "Processing channels in F10-1:   0%|          | 0/5 [00:00<?, ?it/s]"
      ]
     },
     "metadata": {},
     "output_type": "display_data"
    },
    {
     "data": {
      "application/vnd.jupyter.widget-view+json": {
       "model_id": "94e2d3e0f4bc4db2b45a0eb341b93194",
       "version_major": 2,
       "version_minor": 0
      },
      "text/plain": [
       "Processing channels in F10-2:   0%|          | 0/5 [00:00<?, ?it/s]"
      ]
     },
     "metadata": {},
     "output_type": "display_data"
    },
    {
     "data": {
      "application/vnd.jupyter.widget-view+json": {
       "model_id": "d834f5af17714bd2a891f054d018e670",
       "version_major": 2,
       "version_minor": 0
      },
      "text/plain": [
       "Processing channels in F10-3:   0%|          | 0/5 [00:00<?, ?it/s]"
      ]
     },
     "metadata": {},
     "output_type": "display_data"
    },
    {
     "data": {
      "application/vnd.jupyter.widget-view+json": {
       "model_id": "3b4019eb60da49bcbd4835f972b04df5",
       "version_major": 2,
       "version_minor": 0
      },
      "text/plain": [
       "Processing channels in F10-4:   0%|          | 0/5 [00:00<?, ?it/s]"
      ]
     },
     "metadata": {},
     "output_type": "display_data"
    },
    {
     "data": {
      "application/vnd.jupyter.widget-view+json": {
       "model_id": "ef614e5cd0de4c7ea7786268693879e6",
       "version_major": 2,
       "version_minor": 0
      },
      "text/plain": [
       "Processing channels in F10-5:   0%|          | 0/5 [00:00<?, ?it/s]"
      ]
     },
     "metadata": {},
     "output_type": "display_data"
    },
    {
     "data": {
      "application/vnd.jupyter.widget-view+json": {
       "model_id": "f4abb22058764ae99278f2916048e797",
       "version_major": 2,
       "version_minor": 0
      },
      "text/plain": [
       "Processing channels in F10-6:   0%|          | 0/5 [00:00<?, ?it/s]"
      ]
     },
     "metadata": {},
     "output_type": "display_data"
    },
    {
     "data": {
      "application/vnd.jupyter.widget-view+json": {
       "model_id": "07ffe55f3059408791349e6c906f5f40",
       "version_major": 2,
       "version_minor": 0
      },
      "text/plain": [
       "Processing channels in F10-7:   0%|          | 0/5 [00:00<?, ?it/s]"
      ]
     },
     "metadata": {},
     "output_type": "display_data"
    },
    {
     "data": {
      "application/vnd.jupyter.widget-view+json": {
       "model_id": "58981cee7010443b9f4f5d91785ae356",
       "version_major": 2,
       "version_minor": 0
      },
      "text/plain": [
       "Processing channels in F11-1:   0%|          | 0/5 [00:00<?, ?it/s]"
      ]
     },
     "metadata": {},
     "output_type": "display_data"
    },
    {
     "data": {
      "application/vnd.jupyter.widget-view+json": {
       "model_id": "b6c01805e6d84dc7a7a0454a213ab43d",
       "version_major": 2,
       "version_minor": 0
      },
      "text/plain": [
       "Processing channels in F11-2:   0%|          | 0/5 [00:00<?, ?it/s]"
      ]
     },
     "metadata": {},
     "output_type": "display_data"
    },
    {
     "data": {
      "application/vnd.jupyter.widget-view+json": {
       "model_id": "9c7f0364f9c6409c996fcc4d5b36041b",
       "version_major": 2,
       "version_minor": 0
      },
      "text/plain": [
       "Processing channels in F11-3:   0%|          | 0/5 [00:00<?, ?it/s]"
      ]
     },
     "metadata": {},
     "output_type": "display_data"
    },
    {
     "data": {
      "application/vnd.jupyter.widget-view+json": {
       "model_id": "fc1b7b54dd174e07a88807de31f8fbd3",
       "version_major": 2,
       "version_minor": 0
      },
      "text/plain": [
       "Processing channels in F11-4:   0%|          | 0/5 [00:00<?, ?it/s]"
      ]
     },
     "metadata": {},
     "output_type": "display_data"
    },
    {
     "data": {
      "application/vnd.jupyter.widget-view+json": {
       "model_id": "2e67e8dc2fea4897b6371235c5ad911e",
       "version_major": 2,
       "version_minor": 0
      },
      "text/plain": [
       "Processing channels in F11-5:   0%|          | 0/5 [00:00<?, ?it/s]"
      ]
     },
     "metadata": {},
     "output_type": "display_data"
    },
    {
     "data": {
      "application/vnd.jupyter.widget-view+json": {
       "model_id": "1fcb90c2631d4053b0b7249e85a8a2e0",
       "version_major": 2,
       "version_minor": 0
      },
      "text/plain": [
       "Processing channels in F11-6:   0%|          | 0/5 [00:00<?, ?it/s]"
      ]
     },
     "metadata": {},
     "output_type": "display_data"
    },
    {
     "data": {
      "application/vnd.jupyter.widget-view+json": {
       "model_id": "eb6cd10fdb234cf688966f9fc5e19251",
       "version_major": 2,
       "version_minor": 0
      },
      "text/plain": [
       "Processing channels in F11-7:   0%|          | 0/5 [00:00<?, ?it/s]"
      ]
     },
     "metadata": {},
     "output_type": "display_data"
    },
    {
     "data": {
      "application/vnd.jupyter.widget-view+json": {
       "model_id": "e90b7530e86b499e9cc2cb5656988380",
       "version_major": 2,
       "version_minor": 0
      },
      "text/plain": [
       "Processing channels in F2-1:   0%|          | 0/5 [00:00<?, ?it/s]"
      ]
     },
     "metadata": {},
     "output_type": "display_data"
    },
    {
     "data": {
      "application/vnd.jupyter.widget-view+json": {
       "model_id": "43031260ab8749b78d8dd8fff3274e31",
       "version_major": 2,
       "version_minor": 0
      },
      "text/plain": [
       "Processing channels in F2-2:   0%|          | 0/5 [00:00<?, ?it/s]"
      ]
     },
     "metadata": {},
     "output_type": "display_data"
    },
    {
     "data": {
      "application/vnd.jupyter.widget-view+json": {
       "model_id": "851373b4a3d546c086fbcd91b455ffe9",
       "version_major": 2,
       "version_minor": 0
      },
      "text/plain": [
       "Processing channels in F2-3:   0%|          | 0/5 [00:00<?, ?it/s]"
      ]
     },
     "metadata": {},
     "output_type": "display_data"
    },
    {
     "data": {
      "application/vnd.jupyter.widget-view+json": {
       "model_id": "e1a2de47b7ab4c099918b08ec441658b",
       "version_major": 2,
       "version_minor": 0
      },
      "text/plain": [
       "Processing channels in F2-4:   0%|          | 0/5 [00:00<?, ?it/s]"
      ]
     },
     "metadata": {},
     "output_type": "display_data"
    },
    {
     "data": {
      "application/vnd.jupyter.widget-view+json": {
       "model_id": "006ab7cef9b344499d7f29291689f885",
       "version_major": 2,
       "version_minor": 0
      },
      "text/plain": [
       "Processing channels in F2-5:   0%|          | 0/5 [00:00<?, ?it/s]"
      ]
     },
     "metadata": {},
     "output_type": "display_data"
    },
    {
     "data": {
      "application/vnd.jupyter.widget-view+json": {
       "model_id": "e610638020e14dd4bf20d73848e1dfc4",
       "version_major": 2,
       "version_minor": 0
      },
      "text/plain": [
       "Processing channels in F2-6:   0%|          | 0/5 [00:00<?, ?it/s]"
      ]
     },
     "metadata": {},
     "output_type": "display_data"
    },
    {
     "data": {
      "application/vnd.jupyter.widget-view+json": {
       "model_id": "2e1c658b12a54c559915f824f32ff4bc",
       "version_major": 2,
       "version_minor": 0
      },
      "text/plain": [
       "Processing channels in F2-7:   0%|          | 0/5 [00:00<?, ?it/s]"
      ]
     },
     "metadata": {},
     "output_type": "display_data"
    },
    {
     "data": {
      "application/vnd.jupyter.widget-view+json": {
       "model_id": "6a19fe83ba3447cab259eddbaf8279eb",
       "version_major": 2,
       "version_minor": 0
      },
      "text/plain": [
       "Processing channels in F3-1:   0%|          | 0/5 [00:00<?, ?it/s]"
      ]
     },
     "metadata": {},
     "output_type": "display_data"
    },
    {
     "data": {
      "application/vnd.jupyter.widget-view+json": {
       "model_id": "9a6f6b1eee7e46b69c55e7729f5ec812",
       "version_major": 2,
       "version_minor": 0
      },
      "text/plain": [
       "Processing channels in F3-2:   0%|          | 0/5 [00:00<?, ?it/s]"
      ]
     },
     "metadata": {},
     "output_type": "display_data"
    },
    {
     "data": {
      "application/vnd.jupyter.widget-view+json": {
       "model_id": "abe855f6f41f4bd0ab85737ee66657ec",
       "version_major": 2,
       "version_minor": 0
      },
      "text/plain": [
       "Processing channels in F3-3:   0%|          | 0/5 [00:00<?, ?it/s]"
      ]
     },
     "metadata": {},
     "output_type": "display_data"
    },
    {
     "data": {
      "application/vnd.jupyter.widget-view+json": {
       "model_id": "94feb45dea2a414cb43b4f5f2e16fa52",
       "version_major": 2,
       "version_minor": 0
      },
      "text/plain": [
       "Processing channels in F3-4:   0%|          | 0/5 [00:00<?, ?it/s]"
      ]
     },
     "metadata": {},
     "output_type": "display_data"
    },
    {
     "data": {
      "application/vnd.jupyter.widget-view+json": {
       "model_id": "f669d32bc58d42608e58cf6490e95bf6",
       "version_major": 2,
       "version_minor": 0
      },
      "text/plain": [
       "Processing channels in F3-5:   0%|          | 0/5 [00:00<?, ?it/s]"
      ]
     },
     "metadata": {},
     "output_type": "display_data"
    },
    {
     "data": {
      "application/vnd.jupyter.widget-view+json": {
       "model_id": "5cdb4f889642475f950dbfa361007d84",
       "version_major": 2,
       "version_minor": 0
      },
      "text/plain": [
       "Processing channels in F3-6:   0%|          | 0/5 [00:00<?, ?it/s]"
      ]
     },
     "metadata": {},
     "output_type": "display_data"
    },
    {
     "data": {
      "application/vnd.jupyter.widget-view+json": {
       "model_id": "11408c86aefc4aeab02cf0326015a493",
       "version_major": 2,
       "version_minor": 0
      },
      "text/plain": [
       "Processing channels in F3-7:   0%|          | 0/5 [00:00<?, ?it/s]"
      ]
     },
     "metadata": {},
     "output_type": "display_data"
    },
    {
     "data": {
      "application/vnd.jupyter.widget-view+json": {
       "model_id": "9130b47204d3447f83f3ca5e8abc8362",
       "version_major": 2,
       "version_minor": 0
      },
      "text/plain": [
       "Processing channels in F4-1:   0%|          | 0/5 [00:00<?, ?it/s]"
      ]
     },
     "metadata": {},
     "output_type": "display_data"
    },
    {
     "data": {
      "application/vnd.jupyter.widget-view+json": {
       "model_id": "17d5ea6f0b0b4f8f99ef49b16f1fd32d",
       "version_major": 2,
       "version_minor": 0
      },
      "text/plain": [
       "Processing channels in F4-2:   0%|          | 0/5 [00:00<?, ?it/s]"
      ]
     },
     "metadata": {},
     "output_type": "display_data"
    },
    {
     "data": {
      "application/vnd.jupyter.widget-view+json": {
       "model_id": "b60f33e5c0374620bef2bec8cee92058",
       "version_major": 2,
       "version_minor": 0
      },
      "text/plain": [
       "Processing channels in F4-3:   0%|          | 0/5 [00:00<?, ?it/s]"
      ]
     },
     "metadata": {},
     "output_type": "display_data"
    },
    {
     "data": {
      "application/vnd.jupyter.widget-view+json": {
       "model_id": "a07d55d0a811422ba9ef03e4d7f14c05",
       "version_major": 2,
       "version_minor": 0
      },
      "text/plain": [
       "Processing channels in F4-4:   0%|          | 0/5 [00:00<?, ?it/s]"
      ]
     },
     "metadata": {},
     "output_type": "display_data"
    },
    {
     "data": {
      "application/vnd.jupyter.widget-view+json": {
       "model_id": "b411fc73fcfa4b9b86aa3cc223175066",
       "version_major": 2,
       "version_minor": 0
      },
      "text/plain": [
       "Processing channels in F4-5:   0%|          | 0/5 [00:00<?, ?it/s]"
      ]
     },
     "metadata": {},
     "output_type": "display_data"
    },
    {
     "data": {
      "application/vnd.jupyter.widget-view+json": {
       "model_id": "80283e733524420e9228c53c74916786",
       "version_major": 2,
       "version_minor": 0
      },
      "text/plain": [
       "Processing channels in F4-6:   0%|          | 0/5 [00:00<?, ?it/s]"
      ]
     },
     "metadata": {},
     "output_type": "display_data"
    },
    {
     "data": {
      "application/vnd.jupyter.widget-view+json": {
       "model_id": "42a70c9369ea409aad69cd49177c5dad",
       "version_major": 2,
       "version_minor": 0
      },
      "text/plain": [
       "Processing channels in F4-7:   0%|          | 0/5 [00:00<?, ?it/s]"
      ]
     },
     "metadata": {},
     "output_type": "display_data"
    },
    {
     "data": {
      "application/vnd.jupyter.widget-view+json": {
       "model_id": "f5a2fd3cbbdb492b89c7f2a1a97cff1d",
       "version_major": 2,
       "version_minor": 0
      },
      "text/plain": [
       "Processing channels in F5-1:   0%|          | 0/5 [00:00<?, ?it/s]"
      ]
     },
     "metadata": {},
     "output_type": "display_data"
    },
    {
     "data": {
      "application/vnd.jupyter.widget-view+json": {
       "model_id": "78a433d45d3b403686eebb709db14394",
       "version_major": 2,
       "version_minor": 0
      },
      "text/plain": [
       "Processing channels in F5-2:   0%|          | 0/5 [00:00<?, ?it/s]"
      ]
     },
     "metadata": {},
     "output_type": "display_data"
    },
    {
     "data": {
      "application/vnd.jupyter.widget-view+json": {
       "model_id": "a534bd95828248c5a37d0a69405cf3fc",
       "version_major": 2,
       "version_minor": 0
      },
      "text/plain": [
       "Processing channels in F5-3:   0%|          | 0/5 [00:00<?, ?it/s]"
      ]
     },
     "metadata": {},
     "output_type": "display_data"
    },
    {
     "data": {
      "application/vnd.jupyter.widget-view+json": {
       "model_id": "e4fe1f4e04604d64b70fe857fb47c6a8",
       "version_major": 2,
       "version_minor": 0
      },
      "text/plain": [
       "Processing channels in F5-4:   0%|          | 0/5 [00:00<?, ?it/s]"
      ]
     },
     "metadata": {},
     "output_type": "display_data"
    },
    {
     "data": {
      "application/vnd.jupyter.widget-view+json": {
       "model_id": "2459ea4ebd1b477dbc98401f7f9df780",
       "version_major": 2,
       "version_minor": 0
      },
      "text/plain": [
       "Processing channels in F5-5:   0%|          | 0/5 [00:00<?, ?it/s]"
      ]
     },
     "metadata": {},
     "output_type": "display_data"
    },
    {
     "data": {
      "application/vnd.jupyter.widget-view+json": {
       "model_id": "3fec3551827140c5bc31c5bfbda4614c",
       "version_major": 2,
       "version_minor": 0
      },
      "text/plain": [
       "Processing channels in F5-6:   0%|          | 0/5 [00:00<?, ?it/s]"
      ]
     },
     "metadata": {},
     "output_type": "display_data"
    },
    {
     "data": {
      "application/vnd.jupyter.widget-view+json": {
       "model_id": "fa3d6c63654f4d0983647b5aed48bdd6",
       "version_major": 2,
       "version_minor": 0
      },
      "text/plain": [
       "Processing channels in F5-7:   0%|          | 0/5 [00:00<?, ?it/s]"
      ]
     },
     "metadata": {},
     "output_type": "display_data"
    },
    {
     "data": {
      "application/vnd.jupyter.widget-view+json": {
       "model_id": "22a443f39a9748dfb4972ef47f1b3141",
       "version_major": 2,
       "version_minor": 0
      },
      "text/plain": [
       "Processing channels in F6-1:   0%|          | 0/5 [00:00<?, ?it/s]"
      ]
     },
     "metadata": {},
     "output_type": "display_data"
    },
    {
     "data": {
      "application/vnd.jupyter.widget-view+json": {
       "model_id": "206bf01ad5404a92a8a30ef5e6f6ff04",
       "version_major": 2,
       "version_minor": 0
      },
      "text/plain": [
       "Processing channels in F6-2:   0%|          | 0/5 [00:00<?, ?it/s]"
      ]
     },
     "metadata": {},
     "output_type": "display_data"
    },
    {
     "data": {
      "application/vnd.jupyter.widget-view+json": {
       "model_id": "799dc3c658754129b75b7b3c2ab52add",
       "version_major": 2,
       "version_minor": 0
      },
      "text/plain": [
       "Processing channels in F6-3:   0%|          | 0/5 [00:00<?, ?it/s]"
      ]
     },
     "metadata": {},
     "output_type": "display_data"
    },
    {
     "data": {
      "application/vnd.jupyter.widget-view+json": {
       "model_id": "cffaf7026b274b6d9b780c1e6530c0e1",
       "version_major": 2,
       "version_minor": 0
      },
      "text/plain": [
       "Processing channels in F6-4:   0%|          | 0/5 [00:00<?, ?it/s]"
      ]
     },
     "metadata": {},
     "output_type": "display_data"
    },
    {
     "data": {
      "application/vnd.jupyter.widget-view+json": {
       "model_id": "c68b3a3610e24977903a4c6490943099",
       "version_major": 2,
       "version_minor": 0
      },
      "text/plain": [
       "Processing channels in F6-5:   0%|          | 0/5 [00:00<?, ?it/s]"
      ]
     },
     "metadata": {},
     "output_type": "display_data"
    },
    {
     "data": {
      "application/vnd.jupyter.widget-view+json": {
       "model_id": "7123e8485dae4b6699c9a85546ef2c36",
       "version_major": 2,
       "version_minor": 0
      },
      "text/plain": [
       "Processing channels in F6-6:   0%|          | 0/5 [00:00<?, ?it/s]"
      ]
     },
     "metadata": {},
     "output_type": "display_data"
    },
    {
     "data": {
      "application/vnd.jupyter.widget-view+json": {
       "model_id": "aa603d58e35049eda74314e497ac4473",
       "version_major": 2,
       "version_minor": 0
      },
      "text/plain": [
       "Processing channels in F6-7:   0%|          | 0/5 [00:00<?, ?it/s]"
      ]
     },
     "metadata": {},
     "output_type": "display_data"
    },
    {
     "data": {
      "application/vnd.jupyter.widget-view+json": {
       "model_id": "f5e8fdca13f74d70a0a1f0d7eb2a4837",
       "version_major": 2,
       "version_minor": 0
      },
      "text/plain": [
       "Processing channels in F7-1:   0%|          | 0/5 [00:00<?, ?it/s]"
      ]
     },
     "metadata": {},
     "output_type": "display_data"
    },
    {
     "data": {
      "application/vnd.jupyter.widget-view+json": {
       "model_id": "e4bc03e1afde419bbc2f621f81e1b334",
       "version_major": 2,
       "version_minor": 0
      },
      "text/plain": [
       "Processing channels in F7-2:   0%|          | 0/5 [00:00<?, ?it/s]"
      ]
     },
     "metadata": {},
     "output_type": "display_data"
    },
    {
     "data": {
      "application/vnd.jupyter.widget-view+json": {
       "model_id": "cc5537cf73d84ff9bc53d209cb94b557",
       "version_major": 2,
       "version_minor": 0
      },
      "text/plain": [
       "Processing channels in F7-3:   0%|          | 0/5 [00:00<?, ?it/s]"
      ]
     },
     "metadata": {},
     "output_type": "display_data"
    },
    {
     "data": {
      "application/vnd.jupyter.widget-view+json": {
       "model_id": "8597a7c64c434924a247efca282cf5ce",
       "version_major": 2,
       "version_minor": 0
      },
      "text/plain": [
       "Processing channels in F7-4:   0%|          | 0/5 [00:00<?, ?it/s]"
      ]
     },
     "metadata": {},
     "output_type": "display_data"
    },
    {
     "data": {
      "application/vnd.jupyter.widget-view+json": {
       "model_id": "53cdb4c389d54000970f150432eef2b3",
       "version_major": 2,
       "version_minor": 0
      },
      "text/plain": [
       "Processing channels in F7-5:   0%|          | 0/5 [00:00<?, ?it/s]"
      ]
     },
     "metadata": {},
     "output_type": "display_data"
    },
    {
     "data": {
      "application/vnd.jupyter.widget-view+json": {
       "model_id": "0da8c18da0764743be7c97438592563d",
       "version_major": 2,
       "version_minor": 0
      },
      "text/plain": [
       "Processing channels in F7-6:   0%|          | 0/5 [00:00<?, ?it/s]"
      ]
     },
     "metadata": {},
     "output_type": "display_data"
    },
    {
     "data": {
      "application/vnd.jupyter.widget-view+json": {
       "model_id": "1536cc9020164c6fbf6b2fad77301315",
       "version_major": 2,
       "version_minor": 0
      },
      "text/plain": [
       "Processing channels in F7-7:   0%|          | 0/5 [00:00<?, ?it/s]"
      ]
     },
     "metadata": {},
     "output_type": "display_data"
    },
    {
     "data": {
      "application/vnd.jupyter.widget-view+json": {
       "model_id": "cc8dbf7c6e7b46cb823db5ed764e1f7e",
       "version_major": 2,
       "version_minor": 0
      },
      "text/plain": [
       "Processing channels in F8-1:   0%|          | 0/5 [00:00<?, ?it/s]"
      ]
     },
     "metadata": {},
     "output_type": "display_data"
    },
    {
     "data": {
      "application/vnd.jupyter.widget-view+json": {
       "model_id": "1fb857bb2eaa41f68306d5f9060f7e00",
       "version_major": 2,
       "version_minor": 0
      },
      "text/plain": [
       "Processing channels in F8-2:   0%|          | 0/5 [00:00<?, ?it/s]"
      ]
     },
     "metadata": {},
     "output_type": "display_data"
    },
    {
     "data": {
      "application/vnd.jupyter.widget-view+json": {
       "model_id": "853053a082744042be0c39151c53ca6d",
       "version_major": 2,
       "version_minor": 0
      },
      "text/plain": [
       "Processing channels in F8-3:   0%|          | 0/5 [00:00<?, ?it/s]"
      ]
     },
     "metadata": {},
     "output_type": "display_data"
    },
    {
     "data": {
      "application/vnd.jupyter.widget-view+json": {
       "model_id": "70a7bb2b39b244f9967d0910142fffcf",
       "version_major": 2,
       "version_minor": 0
      },
      "text/plain": [
       "Processing channels in F8-4:   0%|          | 0/5 [00:00<?, ?it/s]"
      ]
     },
     "metadata": {},
     "output_type": "display_data"
    },
    {
     "data": {
      "application/vnd.jupyter.widget-view+json": {
       "model_id": "d7a8769f3bd74fdabcf28892004a7b85",
       "version_major": 2,
       "version_minor": 0
      },
      "text/plain": [
       "Processing channels in F8-5:   0%|          | 0/5 [00:00<?, ?it/s]"
      ]
     },
     "metadata": {},
     "output_type": "display_data"
    },
    {
     "data": {
      "application/vnd.jupyter.widget-view+json": {
       "model_id": "76592affa30c43afa3922c63b2160c73",
       "version_major": 2,
       "version_minor": 0
      },
      "text/plain": [
       "Processing channels in F8-6:   0%|          | 0/5 [00:00<?, ?it/s]"
      ]
     },
     "metadata": {},
     "output_type": "display_data"
    },
    {
     "data": {
      "application/vnd.jupyter.widget-view+json": {
       "model_id": "52c90be6548b4478859f7bba115b58b2",
       "version_major": 2,
       "version_minor": 0
      },
      "text/plain": [
       "Processing channels in F8-7:   0%|          | 0/5 [00:00<?, ?it/s]"
      ]
     },
     "metadata": {},
     "output_type": "display_data"
    },
    {
     "data": {
      "application/vnd.jupyter.widget-view+json": {
       "model_id": "5bed578508aa4edd9637e94e4cce9735",
       "version_major": 2,
       "version_minor": 0
      },
      "text/plain": [
       "Processing channels in F9-1:   0%|          | 0/5 [00:00<?, ?it/s]"
      ]
     },
     "metadata": {},
     "output_type": "display_data"
    },
    {
     "data": {
      "application/vnd.jupyter.widget-view+json": {
       "model_id": "1a092dd8c9a648949251404a6b17437d",
       "version_major": 2,
       "version_minor": 0
      },
      "text/plain": [
       "Processing channels in F9-2:   0%|          | 0/5 [00:00<?, ?it/s]"
      ]
     },
     "metadata": {},
     "output_type": "display_data"
    },
    {
     "data": {
      "application/vnd.jupyter.widget-view+json": {
       "model_id": "9de3ed4c4f824cc496f480c36ec21bf2",
       "version_major": 2,
       "version_minor": 0
      },
      "text/plain": [
       "Processing channels in F9-3:   0%|          | 0/5 [00:00<?, ?it/s]"
      ]
     },
     "metadata": {},
     "output_type": "display_data"
    },
    {
     "data": {
      "application/vnd.jupyter.widget-view+json": {
       "model_id": "be4f0f04a80349ba81bbd1454e46e467",
       "version_major": 2,
       "version_minor": 0
      },
      "text/plain": [
       "Processing channels in F9-4:   0%|          | 0/5 [00:00<?, ?it/s]"
      ]
     },
     "metadata": {},
     "output_type": "display_data"
    },
    {
     "data": {
      "application/vnd.jupyter.widget-view+json": {
       "model_id": "2d9d7fd41ff341fdbf880a895689e03a",
       "version_major": 2,
       "version_minor": 0
      },
      "text/plain": [
       "Processing channels in F9-5:   0%|          | 0/5 [00:00<?, ?it/s]"
      ]
     },
     "metadata": {},
     "output_type": "display_data"
    },
    {
     "data": {
      "application/vnd.jupyter.widget-view+json": {
       "model_id": "db549907b6214644b872ab1966087db1",
       "version_major": 2,
       "version_minor": 0
      },
      "text/plain": [
       "Processing channels in F9-6:   0%|          | 0/5 [00:00<?, ?it/s]"
      ]
     },
     "metadata": {},
     "output_type": "display_data"
    },
    {
     "data": {
      "application/vnd.jupyter.widget-view+json": {
       "model_id": "3be1ae9509c84131bd346b4686f5bc44",
       "version_major": 2,
       "version_minor": 0
      },
      "text/plain": [
       "Processing channels in F9-7:   0%|          | 0/5 [00:00<?, ?it/s]"
      ]
     },
     "metadata": {},
     "output_type": "display_data"
    },
    {
     "data": {
      "application/vnd.jupyter.widget-view+json": {
       "model_id": "f3b10b4d7db1418a9893543c3ccbafaa",
       "version_major": 2,
       "version_minor": 0
      },
      "text/plain": [
       "Processing channels in G10-1:   0%|          | 0/5 [00:00<?, ?it/s]"
      ]
     },
     "metadata": {},
     "output_type": "display_data"
    },
    {
     "data": {
      "application/vnd.jupyter.widget-view+json": {
       "model_id": "2ba34f3767e84696becfecc8627be75c",
       "version_major": 2,
       "version_minor": 0
      },
      "text/plain": [
       "Processing channels in G10-2:   0%|          | 0/5 [00:00<?, ?it/s]"
      ]
     },
     "metadata": {},
     "output_type": "display_data"
    },
    {
     "data": {
      "application/vnd.jupyter.widget-view+json": {
       "model_id": "42a8cc377fa54dc4b79269db73effa3d",
       "version_major": 2,
       "version_minor": 0
      },
      "text/plain": [
       "Processing channels in G10-3:   0%|          | 0/5 [00:00<?, ?it/s]"
      ]
     },
     "metadata": {},
     "output_type": "display_data"
    },
    {
     "data": {
      "application/vnd.jupyter.widget-view+json": {
       "model_id": "456357cc868c4a5cb116f41220103e47",
       "version_major": 2,
       "version_minor": 0
      },
      "text/plain": [
       "Processing channels in G10-4:   0%|          | 0/5 [00:00<?, ?it/s]"
      ]
     },
     "metadata": {},
     "output_type": "display_data"
    },
    {
     "data": {
      "application/vnd.jupyter.widget-view+json": {
       "model_id": "2bb6c452415c44b3bcd7d2d20a2e0886",
       "version_major": 2,
       "version_minor": 0
      },
      "text/plain": [
       "Processing channels in G10-5:   0%|          | 0/5 [00:00<?, ?it/s]"
      ]
     },
     "metadata": {},
     "output_type": "display_data"
    },
    {
     "data": {
      "application/vnd.jupyter.widget-view+json": {
       "model_id": "383d9117b75842abb4103feaf25087a4",
       "version_major": 2,
       "version_minor": 0
      },
      "text/plain": [
       "Processing channels in G10-6:   0%|          | 0/5 [00:00<?, ?it/s]"
      ]
     },
     "metadata": {},
     "output_type": "display_data"
    },
    {
     "data": {
      "application/vnd.jupyter.widget-view+json": {
       "model_id": "8c394c8bbafc4ff6a6474e20943e5b37",
       "version_major": 2,
       "version_minor": 0
      },
      "text/plain": [
       "Processing channels in G10-7:   0%|          | 0/5 [00:00<?, ?it/s]"
      ]
     },
     "metadata": {},
     "output_type": "display_data"
    },
    {
     "data": {
      "application/vnd.jupyter.widget-view+json": {
       "model_id": "efba1a29643c46e0acfbc439d2c318e5",
       "version_major": 2,
       "version_minor": 0
      },
      "text/plain": [
       "Processing channels in G11-1:   0%|          | 0/5 [00:00<?, ?it/s]"
      ]
     },
     "metadata": {},
     "output_type": "display_data"
    },
    {
     "data": {
      "application/vnd.jupyter.widget-view+json": {
       "model_id": "4e2e69576cf24b0ba042134d1aa90a34",
       "version_major": 2,
       "version_minor": 0
      },
      "text/plain": [
       "Processing channels in G11-2:   0%|          | 0/5 [00:00<?, ?it/s]"
      ]
     },
     "metadata": {},
     "output_type": "display_data"
    },
    {
     "data": {
      "application/vnd.jupyter.widget-view+json": {
       "model_id": "84a923d35d44416eb08011a0f21d98e1",
       "version_major": 2,
       "version_minor": 0
      },
      "text/plain": [
       "Processing channels in G11-3:   0%|          | 0/5 [00:00<?, ?it/s]"
      ]
     },
     "metadata": {},
     "output_type": "display_data"
    },
    {
     "data": {
      "application/vnd.jupyter.widget-view+json": {
       "model_id": "fd7653ae389544e9a24031b02f8cdb8c",
       "version_major": 2,
       "version_minor": 0
      },
      "text/plain": [
       "Processing channels in G11-4:   0%|          | 0/5 [00:00<?, ?it/s]"
      ]
     },
     "metadata": {},
     "output_type": "display_data"
    },
    {
     "data": {
      "application/vnd.jupyter.widget-view+json": {
       "model_id": "425d34f1052d4a4188939709ef13a566",
       "version_major": 2,
       "version_minor": 0
      },
      "text/plain": [
       "Processing channels in G11-5:   0%|          | 0/5 [00:00<?, ?it/s]"
      ]
     },
     "metadata": {},
     "output_type": "display_data"
    },
    {
     "data": {
      "application/vnd.jupyter.widget-view+json": {
       "model_id": "2bd603f628af40af8080f38eaf10b195",
       "version_major": 2,
       "version_minor": 0
      },
      "text/plain": [
       "Processing channels in G11-6:   0%|          | 0/5 [00:00<?, ?it/s]"
      ]
     },
     "metadata": {},
     "output_type": "display_data"
    },
    {
     "data": {
      "application/vnd.jupyter.widget-view+json": {
       "model_id": "c0f220f7832e47ce9b9c7c5b999c20d5",
       "version_major": 2,
       "version_minor": 0
      },
      "text/plain": [
       "Processing channels in G11-7:   0%|          | 0/5 [00:00<?, ?it/s]"
      ]
     },
     "metadata": {},
     "output_type": "display_data"
    },
    {
     "data": {
      "application/vnd.jupyter.widget-view+json": {
       "model_id": "3fad400c498144ae9089f33f22a2b419",
       "version_major": 2,
       "version_minor": 0
      },
      "text/plain": [
       "Processing channels in G2-1:   0%|          | 0/5 [00:00<?, ?it/s]"
      ]
     },
     "metadata": {},
     "output_type": "display_data"
    },
    {
     "data": {
      "application/vnd.jupyter.widget-view+json": {
       "model_id": "7364f8bf2a814381b94c218dbfd907d1",
       "version_major": 2,
       "version_minor": 0
      },
      "text/plain": [
       "Processing channels in G2-2:   0%|          | 0/5 [00:00<?, ?it/s]"
      ]
     },
     "metadata": {},
     "output_type": "display_data"
    },
    {
     "data": {
      "application/vnd.jupyter.widget-view+json": {
       "model_id": "2054a0d51563462bb952f7be3e27f39f",
       "version_major": 2,
       "version_minor": 0
      },
      "text/plain": [
       "Processing channels in G2-3:   0%|          | 0/5 [00:00<?, ?it/s]"
      ]
     },
     "metadata": {},
     "output_type": "display_data"
    },
    {
     "data": {
      "application/vnd.jupyter.widget-view+json": {
       "model_id": "4265fc6ea9e84611a01cceab10471f81",
       "version_major": 2,
       "version_minor": 0
      },
      "text/plain": [
       "Processing channels in G2-4:   0%|          | 0/5 [00:00<?, ?it/s]"
      ]
     },
     "metadata": {},
     "output_type": "display_data"
    },
    {
     "data": {
      "application/vnd.jupyter.widget-view+json": {
       "model_id": "47e4b1d285df4918af72162283a8b08e",
       "version_major": 2,
       "version_minor": 0
      },
      "text/plain": [
       "Processing channels in G2-5:   0%|          | 0/5 [00:00<?, ?it/s]"
      ]
     },
     "metadata": {},
     "output_type": "display_data"
    },
    {
     "data": {
      "application/vnd.jupyter.widget-view+json": {
       "model_id": "922d967c83c04ffdaa1a7e450c50e321",
       "version_major": 2,
       "version_minor": 0
      },
      "text/plain": [
       "Processing channels in G2-6:   0%|          | 0/5 [00:00<?, ?it/s]"
      ]
     },
     "metadata": {},
     "output_type": "display_data"
    },
    {
     "data": {
      "application/vnd.jupyter.widget-view+json": {
       "model_id": "9e47e2bfea8b46fdb50292b440e66175",
       "version_major": 2,
       "version_minor": 0
      },
      "text/plain": [
       "Processing channels in G2-7:   0%|          | 0/5 [00:00<?, ?it/s]"
      ]
     },
     "metadata": {},
     "output_type": "display_data"
    },
    {
     "data": {
      "application/vnd.jupyter.widget-view+json": {
       "model_id": "26291913bc3d407e8b032d04473b1f40",
       "version_major": 2,
       "version_minor": 0
      },
      "text/plain": [
       "Processing channels in G3-1:   0%|          | 0/5 [00:00<?, ?it/s]"
      ]
     },
     "metadata": {},
     "output_type": "display_data"
    },
    {
     "data": {
      "application/vnd.jupyter.widget-view+json": {
       "model_id": "bc4fb6041150416dac4fa2e9448dac27",
       "version_major": 2,
       "version_minor": 0
      },
      "text/plain": [
       "Processing channels in G3-2:   0%|          | 0/5 [00:00<?, ?it/s]"
      ]
     },
     "metadata": {},
     "output_type": "display_data"
    },
    {
     "data": {
      "application/vnd.jupyter.widget-view+json": {
       "model_id": "32d87969c3ed44b9bc77955faff04135",
       "version_major": 2,
       "version_minor": 0
      },
      "text/plain": [
       "Processing channels in G3-3:   0%|          | 0/5 [00:00<?, ?it/s]"
      ]
     },
     "metadata": {},
     "output_type": "display_data"
    },
    {
     "data": {
      "application/vnd.jupyter.widget-view+json": {
       "model_id": "482ec4c424484477afa6cb47226c47d5",
       "version_major": 2,
       "version_minor": 0
      },
      "text/plain": [
       "Processing channels in G3-4:   0%|          | 0/5 [00:00<?, ?it/s]"
      ]
     },
     "metadata": {},
     "output_type": "display_data"
    },
    {
     "data": {
      "application/vnd.jupyter.widget-view+json": {
       "model_id": "5486f148dc6e46888ef3d987104abf7d",
       "version_major": 2,
       "version_minor": 0
      },
      "text/plain": [
       "Processing channels in G3-5:   0%|          | 0/5 [00:00<?, ?it/s]"
      ]
     },
     "metadata": {},
     "output_type": "display_data"
    },
    {
     "data": {
      "application/vnd.jupyter.widget-view+json": {
       "model_id": "5edf671a5de043bfbbe85da4febebd7a",
       "version_major": 2,
       "version_minor": 0
      },
      "text/plain": [
       "Processing channels in G3-6:   0%|          | 0/5 [00:00<?, ?it/s]"
      ]
     },
     "metadata": {},
     "output_type": "display_data"
    },
    {
     "data": {
      "application/vnd.jupyter.widget-view+json": {
       "model_id": "1c1d26a486b94cc7916b6594b4450052",
       "version_major": 2,
       "version_minor": 0
      },
      "text/plain": [
       "Processing channels in G3-7:   0%|          | 0/5 [00:00<?, ?it/s]"
      ]
     },
     "metadata": {},
     "output_type": "display_data"
    },
    {
     "data": {
      "application/vnd.jupyter.widget-view+json": {
       "model_id": "4deaaa31a0094fe48436597ad2f274b3",
       "version_major": 2,
       "version_minor": 0
      },
      "text/plain": [
       "Processing channels in G4-1:   0%|          | 0/5 [00:00<?, ?it/s]"
      ]
     },
     "metadata": {},
     "output_type": "display_data"
    },
    {
     "data": {
      "application/vnd.jupyter.widget-view+json": {
       "model_id": "5a25a88c57a543f2aa765b829f0709a6",
       "version_major": 2,
       "version_minor": 0
      },
      "text/plain": [
       "Processing channels in G4-2:   0%|          | 0/5 [00:00<?, ?it/s]"
      ]
     },
     "metadata": {},
     "output_type": "display_data"
    },
    {
     "data": {
      "application/vnd.jupyter.widget-view+json": {
       "model_id": "fcfd3d7b5dcb4951acd17b9ecfafb9e5",
       "version_major": 2,
       "version_minor": 0
      },
      "text/plain": [
       "Processing channels in G4-3:   0%|          | 0/5 [00:00<?, ?it/s]"
      ]
     },
     "metadata": {},
     "output_type": "display_data"
    },
    {
     "data": {
      "application/vnd.jupyter.widget-view+json": {
       "model_id": "3f485f4e315949fd819234b187ead018",
       "version_major": 2,
       "version_minor": 0
      },
      "text/plain": [
       "Processing channels in G4-4:   0%|          | 0/5 [00:00<?, ?it/s]"
      ]
     },
     "metadata": {},
     "output_type": "display_data"
    },
    {
     "data": {
      "application/vnd.jupyter.widget-view+json": {
       "model_id": "2b54c97f9a9c4881a208a27f66cc9f67",
       "version_major": 2,
       "version_minor": 0
      },
      "text/plain": [
       "Processing channels in G4-5:   0%|          | 0/5 [00:00<?, ?it/s]"
      ]
     },
     "metadata": {},
     "output_type": "display_data"
    },
    {
     "data": {
      "application/vnd.jupyter.widget-view+json": {
       "model_id": "9f060ed366d24493937f928ff1a87ce9",
       "version_major": 2,
       "version_minor": 0
      },
      "text/plain": [
       "Processing channels in G4-6:   0%|          | 0/5 [00:00<?, ?it/s]"
      ]
     },
     "metadata": {},
     "output_type": "display_data"
    },
    {
     "data": {
      "application/vnd.jupyter.widget-view+json": {
       "model_id": "c33b03375eea4709b910640c72b200ec",
       "version_major": 2,
       "version_minor": 0
      },
      "text/plain": [
       "Processing channels in G4-7:   0%|          | 0/5 [00:00<?, ?it/s]"
      ]
     },
     "metadata": {},
     "output_type": "display_data"
    },
    {
     "data": {
      "application/vnd.jupyter.widget-view+json": {
       "model_id": "f83db537c0b34912bd3c4339acfd2a7a",
       "version_major": 2,
       "version_minor": 0
      },
      "text/plain": [
       "Processing channels in G5-1:   0%|          | 0/5 [00:00<?, ?it/s]"
      ]
     },
     "metadata": {},
     "output_type": "display_data"
    },
    {
     "data": {
      "application/vnd.jupyter.widget-view+json": {
       "model_id": "c4e5f945d203432e85f8f1d2ecee42c7",
       "version_major": 2,
       "version_minor": 0
      },
      "text/plain": [
       "Processing channels in G5-2:   0%|          | 0/5 [00:00<?, ?it/s]"
      ]
     },
     "metadata": {},
     "output_type": "display_data"
    },
    {
     "data": {
      "application/vnd.jupyter.widget-view+json": {
       "model_id": "22369fc3505e4bf391a1f16f537b1ca7",
       "version_major": 2,
       "version_minor": 0
      },
      "text/plain": [
       "Processing channels in G5-3:   0%|          | 0/5 [00:00<?, ?it/s]"
      ]
     },
     "metadata": {},
     "output_type": "display_data"
    },
    {
     "data": {
      "application/vnd.jupyter.widget-view+json": {
       "model_id": "f63a3415da994a32ada262f793d9f8c4",
       "version_major": 2,
       "version_minor": 0
      },
      "text/plain": [
       "Processing channels in G5-4:   0%|          | 0/5 [00:00<?, ?it/s]"
      ]
     },
     "metadata": {},
     "output_type": "display_data"
    },
    {
     "data": {
      "application/vnd.jupyter.widget-view+json": {
       "model_id": "aa16fb9a17f14913b1f347869c52c298",
       "version_major": 2,
       "version_minor": 0
      },
      "text/plain": [
       "Processing channels in G5-5:   0%|          | 0/5 [00:00<?, ?it/s]"
      ]
     },
     "metadata": {},
     "output_type": "display_data"
    },
    {
     "data": {
      "application/vnd.jupyter.widget-view+json": {
       "model_id": "b6be3faf2d084a70aad68cb6d938c0cb",
       "version_major": 2,
       "version_minor": 0
      },
      "text/plain": [
       "Processing channels in G5-6:   0%|          | 0/5 [00:00<?, ?it/s]"
      ]
     },
     "metadata": {},
     "output_type": "display_data"
    },
    {
     "data": {
      "application/vnd.jupyter.widget-view+json": {
       "model_id": "c1573e771048485ca2d86ea580a5b589",
       "version_major": 2,
       "version_minor": 0
      },
      "text/plain": [
       "Processing channels in G5-7:   0%|          | 0/5 [00:00<?, ?it/s]"
      ]
     },
     "metadata": {},
     "output_type": "display_data"
    },
    {
     "data": {
      "application/vnd.jupyter.widget-view+json": {
       "model_id": "c77ebddf41ff4f97af79118db4e70255",
       "version_major": 2,
       "version_minor": 0
      },
      "text/plain": [
       "Processing channels in G6-1:   0%|          | 0/5 [00:00<?, ?it/s]"
      ]
     },
     "metadata": {},
     "output_type": "display_data"
    },
    {
     "data": {
      "application/vnd.jupyter.widget-view+json": {
       "model_id": "1937e967d4c0477db264742ff024779c",
       "version_major": 2,
       "version_minor": 0
      },
      "text/plain": [
       "Processing channels in G6-2:   0%|          | 0/5 [00:00<?, ?it/s]"
      ]
     },
     "metadata": {},
     "output_type": "display_data"
    },
    {
     "data": {
      "application/vnd.jupyter.widget-view+json": {
       "model_id": "3c086dd85ed447779604980210e9926c",
       "version_major": 2,
       "version_minor": 0
      },
      "text/plain": [
       "Processing channels in G6-3:   0%|          | 0/5 [00:00<?, ?it/s]"
      ]
     },
     "metadata": {},
     "output_type": "display_data"
    },
    {
     "data": {
      "application/vnd.jupyter.widget-view+json": {
       "model_id": "770b18eff16e4770b3c4c819e5143361",
       "version_major": 2,
       "version_minor": 0
      },
      "text/plain": [
       "Processing channels in G6-4:   0%|          | 0/5 [00:00<?, ?it/s]"
      ]
     },
     "metadata": {},
     "output_type": "display_data"
    },
    {
     "data": {
      "application/vnd.jupyter.widget-view+json": {
       "model_id": "40aa8b6b55f94193a48ea1c0b96f2a23",
       "version_major": 2,
       "version_minor": 0
      },
      "text/plain": [
       "Processing channels in G6-5:   0%|          | 0/5 [00:00<?, ?it/s]"
      ]
     },
     "metadata": {},
     "output_type": "display_data"
    },
    {
     "data": {
      "application/vnd.jupyter.widget-view+json": {
       "model_id": "fca06f8fd22c45fc9b1884c28612dae1",
       "version_major": 2,
       "version_minor": 0
      },
      "text/plain": [
       "Processing channels in G6-6:   0%|          | 0/5 [00:00<?, ?it/s]"
      ]
     },
     "metadata": {},
     "output_type": "display_data"
    },
    {
     "data": {
      "application/vnd.jupyter.widget-view+json": {
       "model_id": "1bc0e90a2db04d469fc6682e394cac5c",
       "version_major": 2,
       "version_minor": 0
      },
      "text/plain": [
       "Processing channels in G6-7:   0%|          | 0/5 [00:00<?, ?it/s]"
      ]
     },
     "metadata": {},
     "output_type": "display_data"
    },
    {
     "data": {
      "application/vnd.jupyter.widget-view+json": {
       "model_id": "78dff04474274cdf87b2c0291c596f26",
       "version_major": 2,
       "version_minor": 0
      },
      "text/plain": [
       "Processing channels in G7-1:   0%|          | 0/5 [00:00<?, ?it/s]"
      ]
     },
     "metadata": {},
     "output_type": "display_data"
    },
    {
     "data": {
      "application/vnd.jupyter.widget-view+json": {
       "model_id": "8b27936765594130b336b85f965622d1",
       "version_major": 2,
       "version_minor": 0
      },
      "text/plain": [
       "Processing channels in G7-2:   0%|          | 0/5 [00:00<?, ?it/s]"
      ]
     },
     "metadata": {},
     "output_type": "display_data"
    },
    {
     "data": {
      "application/vnd.jupyter.widget-view+json": {
       "model_id": "302740478a2f477d912170a740eb7f17",
       "version_major": 2,
       "version_minor": 0
      },
      "text/plain": [
       "Processing channels in G7-3:   0%|          | 0/5 [00:00<?, ?it/s]"
      ]
     },
     "metadata": {},
     "output_type": "display_data"
    },
    {
     "data": {
      "application/vnd.jupyter.widget-view+json": {
       "model_id": "2ead9d10e86c4b17a78088f2045a1ce8",
       "version_major": 2,
       "version_minor": 0
      },
      "text/plain": [
       "Processing channels in G7-4:   0%|          | 0/5 [00:00<?, ?it/s]"
      ]
     },
     "metadata": {},
     "output_type": "display_data"
    },
    {
     "data": {
      "application/vnd.jupyter.widget-view+json": {
       "model_id": "f2b03fbdb4144fd3baee383e87952a45",
       "version_major": 2,
       "version_minor": 0
      },
      "text/plain": [
       "Processing channels in G7-5:   0%|          | 0/5 [00:00<?, ?it/s]"
      ]
     },
     "metadata": {},
     "output_type": "display_data"
    },
    {
     "data": {
      "application/vnd.jupyter.widget-view+json": {
       "model_id": "22f3e4d0369d45438d3ed1b268c23766",
       "version_major": 2,
       "version_minor": 0
      },
      "text/plain": [
       "Processing channels in G7-6:   0%|          | 0/5 [00:00<?, ?it/s]"
      ]
     },
     "metadata": {},
     "output_type": "display_data"
    },
    {
     "data": {
      "application/vnd.jupyter.widget-view+json": {
       "model_id": "7cb27e519cf940fb84204b53d0b138b9",
       "version_major": 2,
       "version_minor": 0
      },
      "text/plain": [
       "Processing channels in G7-7:   0%|          | 0/5 [00:00<?, ?it/s]"
      ]
     },
     "metadata": {},
     "output_type": "display_data"
    },
    {
     "data": {
      "application/vnd.jupyter.widget-view+json": {
       "model_id": "53b10f3e4a2a47c3a74ef689766d053e",
       "version_major": 2,
       "version_minor": 0
      },
      "text/plain": [
       "Processing channels in G8-1:   0%|          | 0/5 [00:00<?, ?it/s]"
      ]
     },
     "metadata": {},
     "output_type": "display_data"
    },
    {
     "data": {
      "application/vnd.jupyter.widget-view+json": {
       "model_id": "ace4d7c7f0014069b9718a612d7191d7",
       "version_major": 2,
       "version_minor": 0
      },
      "text/plain": [
       "Processing channels in G8-2:   0%|          | 0/5 [00:00<?, ?it/s]"
      ]
     },
     "metadata": {},
     "output_type": "display_data"
    },
    {
     "data": {
      "application/vnd.jupyter.widget-view+json": {
       "model_id": "9a12fb463f2146a1a13f04cd426d4c40",
       "version_major": 2,
       "version_minor": 0
      },
      "text/plain": [
       "Processing channels in G8-3:   0%|          | 0/5 [00:00<?, ?it/s]"
      ]
     },
     "metadata": {},
     "output_type": "display_data"
    },
    {
     "data": {
      "application/vnd.jupyter.widget-view+json": {
       "model_id": "08634b36600c432b85ebff4f49431155",
       "version_major": 2,
       "version_minor": 0
      },
      "text/plain": [
       "Processing channels in G8-4:   0%|          | 0/5 [00:00<?, ?it/s]"
      ]
     },
     "metadata": {},
     "output_type": "display_data"
    },
    {
     "data": {
      "application/vnd.jupyter.widget-view+json": {
       "model_id": "a6317a0291ca4956929d8f90800c52b8",
       "version_major": 2,
       "version_minor": 0
      },
      "text/plain": [
       "Processing channels in G8-5:   0%|          | 0/5 [00:00<?, ?it/s]"
      ]
     },
     "metadata": {},
     "output_type": "display_data"
    },
    {
     "data": {
      "application/vnd.jupyter.widget-view+json": {
       "model_id": "daaa35f5b9b649f1ab66602272416af8",
       "version_major": 2,
       "version_minor": 0
      },
      "text/plain": [
       "Processing channels in G8-6:   0%|          | 0/5 [00:00<?, ?it/s]"
      ]
     },
     "metadata": {},
     "output_type": "display_data"
    },
    {
     "data": {
      "application/vnd.jupyter.widget-view+json": {
       "model_id": "c5a1ad1b02b842ae895f490d709fb345",
       "version_major": 2,
       "version_minor": 0
      },
      "text/plain": [
       "Processing channels in G8-7:   0%|          | 0/5 [00:00<?, ?it/s]"
      ]
     },
     "metadata": {},
     "output_type": "display_data"
    },
    {
     "data": {
      "application/vnd.jupyter.widget-view+json": {
       "model_id": "824ef48bd9dd4c32945c003a8456fb7c",
       "version_major": 2,
       "version_minor": 0
      },
      "text/plain": [
       "Processing channels in G9-1:   0%|          | 0/5 [00:00<?, ?it/s]"
      ]
     },
     "metadata": {},
     "output_type": "display_data"
    },
    {
     "data": {
      "application/vnd.jupyter.widget-view+json": {
       "model_id": "35c41f76ca5a406299b884771ca4a5d3",
       "version_major": 2,
       "version_minor": 0
      },
      "text/plain": [
       "Processing channels in G9-2:   0%|          | 0/5 [00:00<?, ?it/s]"
      ]
     },
     "metadata": {},
     "output_type": "display_data"
    },
    {
     "data": {
      "application/vnd.jupyter.widget-view+json": {
       "model_id": "578f0693b8e146ef8dceee301cabd66d",
       "version_major": 2,
       "version_minor": 0
      },
      "text/plain": [
       "Processing channels in G9-3:   0%|          | 0/5 [00:00<?, ?it/s]"
      ]
     },
     "metadata": {},
     "output_type": "display_data"
    },
    {
     "data": {
      "application/vnd.jupyter.widget-view+json": {
       "model_id": "a6194d81644d47c39d60bb1025a30537",
       "version_major": 2,
       "version_minor": 0
      },
      "text/plain": [
       "Processing channels in G9-4:   0%|          | 0/5 [00:00<?, ?it/s]"
      ]
     },
     "metadata": {},
     "output_type": "display_data"
    },
    {
     "data": {
      "application/vnd.jupyter.widget-view+json": {
       "model_id": "efc31628309e4b3184418e0fa9502c08",
       "version_major": 2,
       "version_minor": 0
      },
      "text/plain": [
       "Processing channels in G9-5:   0%|          | 0/5 [00:00<?, ?it/s]"
      ]
     },
     "metadata": {},
     "output_type": "display_data"
    },
    {
     "data": {
      "application/vnd.jupyter.widget-view+json": {
       "model_id": "7fafe6ccd8c74053a69698010d8d94ba",
       "version_major": 2,
       "version_minor": 0
      },
      "text/plain": [
       "Processing channels in G9-6:   0%|          | 0/5 [00:00<?, ?it/s]"
      ]
     },
     "metadata": {},
     "output_type": "display_data"
    },
    {
     "data": {
      "application/vnd.jupyter.widget-view+json": {
       "model_id": "72ef9df7469843cabf848e6b2fe08cdd",
       "version_major": 2,
       "version_minor": 0
      },
      "text/plain": [
       "Processing channels in G9-7:   0%|          | 0/5 [00:00<?, ?it/s]"
      ]
     },
     "metadata": {},
     "output_type": "display_data"
    }
   ],
   "source": [
    "# loop through patients, well_fovs, and each channel\n",
    "# outer loop through patients\n",
    "for patient in tqdm.tqdm(patient_input_dict.keys(), desc=\"Processing patients\"):\n",
    "    input_dirs = [\n",
    "        x for x in patient_input_dict[patient][\"raw_images\"].iterdir() if x.is_dir()\n",
    "    ]\n",
    "    input_dirs.sort()\n",
    "\n",
    "    for well_dir in tqdm.tqdm(\n",
    "        input_dirs, desc=f\"Processing wells for patient {patient}\", leave=False\n",
    "    ):\n",
    "        channel_images = {\n",
    "            channel_name: {\"filename\": [], \"filepath\": []}\n",
    "            for channel_name in channel_names\n",
    "        }\n",
    "        if (\n",
    "            patient in unlisted_images[\"patient\"]\n",
    "            and well_dir.name in unlisted_images[\"image_set\"]\n",
    "        ):\n",
    "            print(f\"Skipping {well_dir.name} because it is not listed.\")\n",
    "            continue\n",
    "\n",
    "        for filename in well_dir.glob(\"*\"):\n",
    "            if filename.suffix in image_extensions:\n",
    "                for channel_name in channel_names:\n",
    "                    if channel_name in filename.name:\n",
    "                        channel_images[channel_name][\"filepath\"].append(filename)\n",
    "\n",
    "        for channel_name in tqdm.tqdm(\n",
    "            channel_names, desc=f\"Processing channels in {well_dir.name}\", leave=False\n",
    "        ):\n",
    "            channel_images[channel_name][\"filepath\"] = sorted(\n",
    "                channel_images[channel_name][\"filepath\"]\n",
    "            )\n",
    "            if not channel_images[channel_name][\"filepath\"]:\n",
    "                print(\n",
    "                    f\"No files found for channel {channel_name} in {well_dir}. Skipping...\"\n",
    "                )\n",
    "                continue\n",
    "\n",
    "            images_to_stack = np.array(\n",
    "                [\n",
    "                    tiff.imread(filepath)\n",
    "                    for filepath in channel_images[channel_name][\"filepath\"]\n",
    "                ]\n",
    "            )\n",
    "            filepath = channel_images[channel_name][\"filepath\"][0]\n",
    "            well = str(filepath.parent).split(\"/\")[-1]\n",
    "            output_path = (\n",
    "                patient_input_dict[patient][\"zstack_output\"]\n",
    "                / f\"{well}\"\n",
    "                / f\"{well}_{channel_name}.tif\"\n",
    "            )\n",
    "            output_path.parent.mkdir(exist_ok=True, parents=True)\n",
    "            tiff.imwrite(output_path, images_to_stack)"
   ]
  }
 ],
 "metadata": {
  "kernelspec": {
   "display_name": "gff_preprocessing_env",
   "language": "python",
   "name": "python3"
  },
  "language_info": {
   "codemirror_mode": {
    "name": "ipython",
    "version": 3
   },
   "file_extension": ".py",
   "mimetype": "text/x-python",
   "name": "python",
   "nbconvert_exporter": "python",
   "pygments_lexer": "ipython3",
   "version": "3.10.15"
  }
 },
 "nbformat": 4,
 "nbformat_minor": 2
}
