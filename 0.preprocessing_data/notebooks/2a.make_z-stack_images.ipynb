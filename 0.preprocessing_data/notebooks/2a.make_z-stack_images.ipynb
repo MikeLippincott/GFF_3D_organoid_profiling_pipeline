{
 "cells": [
  {
   "cell_type": "markdown",
   "metadata": {},
   "source": [
    "# Create z-stack images from the individual z-slice images for each FOV per well"
   ]
  },
  {
   "cell_type": "markdown",
   "metadata": {},
   "source": [
    "## Import libraries"
   ]
  },
  {
   "cell_type": "code",
   "execution_count": null,
   "metadata": {},
   "outputs": [],
   "source": [
    "import pathlib\n",
    "import pprint\n",
    "import sys\n",
    "\n",
    "import numpy as np\n",
    "import pandas as pd\n",
    "import tifffile as tiff\n",
    "\n",
    "# Get the current working directory\n",
    "cwd = pathlib.Path.cwd()\n",
    "\n",
    "if (cwd / \".git\").is_dir():\n",
    "    root_dir = cwd\n",
    "else:\n",
    "    root_dir = None\n",
    "    for parent in cwd.parents:\n",
    "        if (parent / \".git\").is_dir():\n",
    "            root_dir = parent\n",
    "            break\n",
    "sys.path.append(str(root_dir / \"utils\"))\n",
    "from notebook_init_utils import avoid_path_crash_bandicoot, init_notebook\n",
    "\n",
    "root_dir, in_notebook = init_notebook()\n",
    "\n",
    "if in_notebook:\n",
    "    import tqdm.notebook as tqdm\n",
    "else:\n",
    "    import tqdm"
   ]
  },
  {
   "cell_type": "markdown",
   "metadata": {},
   "source": [
    "## Set input and output directories"
   ]
  },
  {
   "cell_type": "code",
   "execution_count": null,
   "metadata": {},
   "outputs": [],
   "source": [
    "bandicoot_path = pathlib.Path(\"~/mnt/bandicoot\").resolve()\n",
    "if bandicoot_path.exists():\n",
    "    bandicoot = True\n",
    "else:\n",
    "    bandicoot = False"
   ]
  },
  {
   "cell_type": "code",
   "execution_count": null,
   "metadata": {},
   "outputs": [],
   "source": [
    "raw_image_dir, output_base_dir = avoid_path_crash_bandicoot(bandicoot_path)"
   ]
  },
  {
   "cell_type": "code",
   "execution_count": null,
   "metadata": {},
   "outputs": [],
   "source": [
    "# # patient_ids\n",
    "# patient_id_file_path = pathlib.Path(f\"{root_dir}/data/patient_IDs.txt\").resolve(\n",
    "#     strict=True\n",
    "# )\n",
    "# list_of_patients = pd.read_csv(patient_id_file_path, header=None)[0].tolist()\n",
    "\n",
    "list_of_patients = [\"NF0035_T1\"]"
   ]
  },
  {
   "cell_type": "code",
   "execution_count": null,
   "metadata": {},
   "outputs": [],
   "source": [
    "patient_input_dict = {}\n",
    "for patient in list_of_patients:\n",
    "    patient_input_dict[patient] = {\n",
    "        \"raw_images\": pathlib.Path(\n",
    "            f\"{raw_image_dir}/data/{patient}/raw_images\"\n",
    "        ).resolve(),\n",
    "        \"zstack_output\": pathlib.Path(\n",
    "            f\"{raw_image_dir}/data/{patient}/zstack_images\"\n",
    "        ).resolve(),\n",
    "    }\n",
    "pprint.pprint(patient_input_dict)"
   ]
  },
  {
   "cell_type": "code",
   "execution_count": null,
   "metadata": {},
   "outputs": [],
   "source": [
    "# Image extensions that we are looking to copy\n",
    "image_extensions = {\".tif\", \".tiff\"}"
   ]
  },
  {
   "cell_type": "code",
   "execution_count": null,
   "metadata": {},
   "outputs": [],
   "source": [
    "unlisted_images = {\"patient\": [\"NF0014_T1\"], \"image_set\": [\"F11-3\"]}"
   ]
  },
  {
   "cell_type": "code",
   "execution_count": null,
   "metadata": {},
   "outputs": [],
   "source": [
    "image_extensions = {\".tif\", \".tiff\"}\n",
    "channel_names = [\"405\", \"488\", \"555\", \"640\", \"TRANS\"]\n",
    "# make a dictionary that contains a list for each channel name, storing both filepath and filename\n",
    "channel_images = {\n",
    "    channel_name: {\"filename\": [], \"filepath\": []} for channel_name in channel_names\n",
    "}\n",
    "channel_images"
   ]
  },
  {
   "cell_type": "markdown",
   "metadata": {},
   "source": [
    "## Create list of the well-site folders"
   ]
  },
  {
   "cell_type": "code",
   "execution_count": null,
   "metadata": {},
   "outputs": [],
   "source": [
    "# loop through patients, well_fovs, and each channel\n",
    "# outer loop through patients\n",
    "for patient in tqdm.tqdm(patient_input_dict.keys(), desc=\"Processing patients\"):\n",
    "    input_dirs = [\n",
    "        x for x in patient_input_dict[patient][\"raw_images\"].iterdir() if x.is_dir()\n",
    "    ]\n",
    "    input_dirs.sort()\n",
    "\n",
    "    for well_dir in tqdm.tqdm(\n",
    "        input_dirs, desc=f\"Processing wells for patient {patient}\", leave=False\n",
    "    ):\n",
    "        channel_images = {\n",
    "            channel_name: {\"filename\": [], \"filepath\": []}\n",
    "            for channel_name in channel_names\n",
    "        }\n",
    "        if (\n",
    "            patient in unlisted_images[\"patient\"]\n",
    "            and well_dir.name in unlisted_images[\"image_set\"]\n",
    "        ):\n",
    "            print(f\"Skipping {well_dir.name} because it is not listed.\")\n",
    "            continue\n",
    "\n",
    "        for filename in well_dir.glob(\"*\"):\n",
    "            if filename.suffix in image_extensions:\n",
    "                for channel_name in channel_names:\n",
    "                    if channel_name in filename.name:\n",
    "                        channel_images[channel_name][\"filepath\"].append(filename)\n",
    "\n",
    "        for channel_name in tqdm.tqdm(\n",
    "            channel_names, desc=f\"Processing channels in {well_dir.name}\", leave=False\n",
    "        ):\n",
    "            channel_images[channel_name][\"filepath\"] = sorted(\n",
    "                channel_images[channel_name][\"filepath\"]\n",
    "            )\n",
    "            if not channel_images[channel_name][\"filepath\"]:\n",
    "                print(\n",
    "                    f\"No files found for channel {channel_name} in {well_dir}. Skipping...\"\n",
    "                )\n",
    "                continue\n",
    "\n",
    "            images_to_stack = np.array(\n",
    "                [\n",
    "                    tiff.imread(filepath)\n",
    "                    for filepath in channel_images[channel_name][\"filepath\"]\n",
    "                ]\n",
    "            )\n",
    "            filepath = channel_images[channel_name][\"filepath\"][0]\n",
    "            well = str(filepath.parent).split(\"/\")[-1]\n",
    "            output_path = (\n",
    "                patient_input_dict[patient][\"zstack_output\"]\n",
    "                / f\"{well}\"\n",
    "                / f\"{well}_{channel_name}.tif\"\n",
    "            )\n",
    "            output_path.parent.mkdir(exist_ok=True, parents=True)\n",
    "            tiff.imwrite(output_path, images_to_stack)"
   ]
  }
 ],
 "metadata": {
  "kernelspec": {
   "display_name": "gff_preprocessing_env",
   "language": "python",
   "name": "python3"
  },
  "language_info": {
   "codemirror_mode": {
    "name": "ipython",
    "version": 3
   },
   "file_extension": ".py",
   "mimetype": "text/x-python",
   "name": "python",
   "nbconvert_exporter": "python",
   "pygments_lexer": "ipython3",
   "version": "3.10.15"
  }
 },
 "nbformat": 4,
 "nbformat_minor": 2
}
