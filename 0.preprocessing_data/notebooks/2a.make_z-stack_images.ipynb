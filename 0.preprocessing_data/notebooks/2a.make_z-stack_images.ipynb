{
 "cells": [
  {
   "cell_type": "markdown",
   "metadata": {},
   "source": [
    "# Create z-stack images from the individual z-slice images for each FOV per well"
   ]
  },
  {
   "cell_type": "markdown",
   "metadata": {},
   "source": [
    "## Import libraries"
   ]
  },
  {
   "cell_type": "code",
   "execution_count": 1,
   "metadata": {},
   "outputs": [],
   "source": [
    "import pathlib\n",
    "import pprint\n",
    "import sys\n",
    "\n",
    "import numpy as np\n",
    "import pandas as pd\n",
    "import tifffile as tiff\n",
    "\n",
    "# Get the current working directory\n",
    "cwd = pathlib.Path.cwd()\n",
    "\n",
    "if (cwd / \".git\").is_dir():\n",
    "    root_dir = cwd\n",
    "else:\n",
    "    root_dir = None\n",
    "    for parent in cwd.parents:\n",
    "        if (parent / \".git\").is_dir():\n",
    "            root_dir = parent\n",
    "            break\n",
    "sys.path.append(str(root_dir / \"utils\"))\n",
    "from notebook_init_utils import init_notebook\n",
    "\n",
    "root_dir, in_notebook = init_notebook()\n",
    "\n",
    "if in_notebook:\n",
    "    import tqdm.notebook as tqdm\n",
    "else:\n",
    "    import tqdm"
   ]
  },
  {
   "cell_type": "markdown",
   "metadata": {},
   "source": [
    "## Set input and output directories"
   ]
  },
  {
   "cell_type": "code",
   "execution_count": 2,
   "metadata": {},
   "outputs": [],
   "source": [
    "bandicoot_path = pathlib.Path(\"/home/lippincm/mnt/bandicoot\").resolve()\n",
    "if bandicoot_path.exists():\n",
    "    bandicoot = True\n",
    "else:\n",
    "    bandicoot = False"
   ]
  },
  {
   "cell_type": "code",
   "execution_count": 3,
   "metadata": {},
   "outputs": [],
   "source": [
    "if bandicoot:\n",
    "    # comment out depending on whose computer you are on\n",
    "    # mike's computer\n",
    "    bandicoot_path = pathlib.Path(\"/home/lippincm/mnt/bandicoot\").resolve()\n",
    "    # Jenna's computer\n",
    "    # bandicoot_path = pathlib.Path(\"/media/18tbdrive/GFF_organoid_data/\")\n",
    "    raw_image_dir = pathlib.Path(f\"{bandicoot_path}/NF1_organoid_data/\").resolve()\n",
    "    output_base_dir = bandicoot_path\n",
    "else:\n",
    "    raw_image_dir = pathlib.Path(f\"{root_dir}/\").resolve(strict=True)\n",
    "    output_base_dir = root_dir"
   ]
  },
  {
   "cell_type": "code",
   "execution_count": 4,
   "metadata": {},
   "outputs": [],
   "source": [
    "# # patient_ids\n",
    "# patient_id_file_path = pathlib.Path(f\"{root_dir}/data/patient_IDs.txt\").resolve(\n",
    "#     strict=True\n",
    "# )\n",
    "# list_of_patients = pd.read_csv(patient_id_file_path, header=None)[0].tolist()\n",
    "\n",
    "list_of_patients = [\"NF0035_T1\"]"
   ]
  },
  {
   "cell_type": "code",
   "execution_count": 5,
   "metadata": {},
   "outputs": [
    {
     "name": "stdout",
     "output_type": "stream",
     "text": [
      "{'NF0035_T1': {'raw_images': PosixPath('/home/lippincm/mnt/bandicoot/NF1_organoid_data/data/NF0035_T1/raw_images'),\n",
      "               'zstack_output': PosixPath('/home/lippincm/mnt/bandicoot/NF1_organoid_data/data/NF0035_T1/zstack_images')}}\n"
     ]
    }
   ],
   "source": [
    "patient_input_dict = {}\n",
    "for patient in list_of_patients:\n",
    "    patient_input_dict[patient] = {\n",
    "        \"raw_images\": pathlib.Path(\n",
    "            f\"{raw_image_dir}/data/{patient}/raw_images\"\n",
    "        ).resolve(),\n",
    "        \"zstack_output\": pathlib.Path(\n",
    "            f\"{raw_image_dir}/data/{patient}/zstack_images\"\n",
    "        ).resolve(),\n",
    "    }\n",
    "pprint.pprint(patient_input_dict)"
   ]
  },
  {
   "cell_type": "code",
   "execution_count": 6,
   "metadata": {},
   "outputs": [],
   "source": [
    "# Image extensions that we are looking to copy\n",
    "image_extensions = {\".tif\", \".tiff\"}"
   ]
  },
  {
   "cell_type": "code",
   "execution_count": 7,
   "metadata": {},
   "outputs": [],
   "source": [
    "unlisted_images = {\"patient\": [\"NF0014_T1\"], \"image_set\": [\"F11-3\"]}"
   ]
  },
  {
   "cell_type": "code",
   "execution_count": 8,
   "metadata": {},
   "outputs": [
    {
     "data": {
      "text/plain": [
       "{'405': {'filename': [], 'filepath': []},\n",
       " '488': {'filename': [], 'filepath': []},\n",
       " '555': {'filename': [], 'filepath': []},\n",
       " '640': {'filename': [], 'filepath': []},\n",
       " 'TRANS': {'filename': [], 'filepath': []}}"
      ]
     },
     "execution_count": 8,
     "metadata": {},
     "output_type": "execute_result"
    }
   ],
   "source": [
    "image_extensions = {\".tif\", \".tiff\"}\n",
    "channel_names = [\"405\", \"488\", \"555\", \"640\", \"TRANS\"]\n",
    "# make a dictionary that contains a list for each channel name, storing both filepath and filename\n",
    "channel_images = {\n",
    "    channel_name: {\"filename\": [], \"filepath\": []} for channel_name in channel_names\n",
    "}\n",
    "channel_images"
   ]
  },
  {
   "cell_type": "markdown",
   "metadata": {},
   "source": [
    "## Create list of the well-site folders"
   ]
  },
  {
   "cell_type": "code",
   "execution_count": 9,
   "metadata": {},
   "outputs": [
    {
     "data": {
      "application/vnd.jupyter.widget-view+json": {
       "model_id": "a370b38e8d0041ae9b3f5f06fbd80192",
       "version_major": 2,
       "version_minor": 0
      },
      "text/plain": [
       "Processing patients:   0%|          | 0/1 [00:00<?, ?it/s]"
      ]
     },
     "metadata": {},
     "output_type": "display_data"
    },
    {
     "data": {
      "application/vnd.jupyter.widget-view+json": {
       "model_id": "27f8ebd8508d44239147c9116668a771",
       "version_major": 2,
       "version_minor": 0
      },
      "text/plain": [
       "Processing wells for patient NF0035_T1:   0%|          | 0/349 [00:00<?, ?it/s]"
      ]
     },
     "metadata": {},
     "output_type": "display_data"
    },
    {
     "data": {
      "application/vnd.jupyter.widget-view+json": {
       "model_id": "a87c62c1f3a24471996411668803cbdb",
       "version_major": 2,
       "version_minor": 0
      },
      "text/plain": [
       "Processing channels in C10-1:   0%|          | 0/5 [00:00<?, ?it/s]"
      ]
     },
     "metadata": {},
     "output_type": "display_data"
    },
    {
     "data": {
      "application/vnd.jupyter.widget-view+json": {
       "model_id": "abcc5df401cf440a983e85ce57e24dcf",
       "version_major": 2,
       "version_minor": 0
      },
      "text/plain": [
       "Processing channels in C10-2:   0%|          | 0/5 [00:00<?, ?it/s]"
      ]
     },
     "metadata": {},
     "output_type": "display_data"
    },
    {
     "data": {
      "application/vnd.jupyter.widget-view+json": {
       "model_id": "0172d2254f7b4b689f47c38a797f65b6",
       "version_major": 2,
       "version_minor": 0
      },
      "text/plain": [
       "Processing channels in C10-3:   0%|          | 0/5 [00:00<?, ?it/s]"
      ]
     },
     "metadata": {},
     "output_type": "display_data"
    },
    {
     "data": {
      "application/vnd.jupyter.widget-view+json": {
       "model_id": "1da1e8378bd54a3f99b2f5f41c972a6c",
       "version_major": 2,
       "version_minor": 0
      },
      "text/plain": [
       "Processing channels in C10-4:   0%|          | 0/5 [00:00<?, ?it/s]"
      ]
     },
     "metadata": {},
     "output_type": "display_data"
    },
    {
     "data": {
      "application/vnd.jupyter.widget-view+json": {
       "model_id": "00852f1d1cf94fb78e8de59e525e95ab",
       "version_major": 2,
       "version_minor": 0
      },
      "text/plain": [
       "Processing channels in C10-5:   0%|          | 0/5 [00:00<?, ?it/s]"
      ]
     },
     "metadata": {},
     "output_type": "display_data"
    },
    {
     "data": {
      "application/vnd.jupyter.widget-view+json": {
       "model_id": "793471b86ecf4e2e84e2382412415b80",
       "version_major": 2,
       "version_minor": 0
      },
      "text/plain": [
       "Processing channels in C10-6:   0%|          | 0/5 [00:00<?, ?it/s]"
      ]
     },
     "metadata": {},
     "output_type": "display_data"
    },
    {
     "data": {
      "application/vnd.jupyter.widget-view+json": {
       "model_id": "1bb22fce9339483e80609c3f4de7b188",
       "version_major": 2,
       "version_minor": 0
      },
      "text/plain": [
       "Processing channels in C10-7:   0%|          | 0/5 [00:00<?, ?it/s]"
      ]
     },
     "metadata": {},
     "output_type": "display_data"
    },
    {
     "data": {
      "application/vnd.jupyter.widget-view+json": {
       "model_id": "62219a68561040b29ac8431924b4c18c",
       "version_major": 2,
       "version_minor": 0
      },
      "text/plain": [
       "Processing channels in C11-1:   0%|          | 0/5 [00:00<?, ?it/s]"
      ]
     },
     "metadata": {},
     "output_type": "display_data"
    },
    {
     "data": {
      "application/vnd.jupyter.widget-view+json": {
       "model_id": "e0f785c53a4e43dd8fb116c9e995f679",
       "version_major": 2,
       "version_minor": 0
      },
      "text/plain": [
       "Processing channels in C11-2:   0%|          | 0/5 [00:00<?, ?it/s]"
      ]
     },
     "metadata": {},
     "output_type": "display_data"
    },
    {
     "data": {
      "application/vnd.jupyter.widget-view+json": {
       "model_id": "cf6a653921a34b13b2534a8e484411f4",
       "version_major": 2,
       "version_minor": 0
      },
      "text/plain": [
       "Processing channels in C11-3:   0%|          | 0/5 [00:00<?, ?it/s]"
      ]
     },
     "metadata": {},
     "output_type": "display_data"
    },
    {
     "data": {
      "application/vnd.jupyter.widget-view+json": {
       "model_id": "baa2197b5ac84e46810a9c4f37cb8186",
       "version_major": 2,
       "version_minor": 0
      },
      "text/plain": [
       "Processing channels in C11-4:   0%|          | 0/5 [00:00<?, ?it/s]"
      ]
     },
     "metadata": {},
     "output_type": "display_data"
    },
    {
     "data": {
      "application/vnd.jupyter.widget-view+json": {
       "model_id": "55c2a0d49f884c3685e28d8d7950f321",
       "version_major": 2,
       "version_minor": 0
      },
      "text/plain": [
       "Processing channels in C11-5:   0%|          | 0/5 [00:00<?, ?it/s]"
      ]
     },
     "metadata": {},
     "output_type": "display_data"
    },
    {
     "data": {
      "application/vnd.jupyter.widget-view+json": {
       "model_id": "666ac228327f454fbcc76be4c5805ca3",
       "version_major": 2,
       "version_minor": 0
      },
      "text/plain": [
       "Processing channels in C11-6:   0%|          | 0/5 [00:00<?, ?it/s]"
      ]
     },
     "metadata": {},
     "output_type": "display_data"
    },
    {
     "data": {
      "application/vnd.jupyter.widget-view+json": {
       "model_id": "37a980a92c1f4f90810d333c5730e4cf",
       "version_major": 2,
       "version_minor": 0
      },
      "text/plain": [
       "Processing channels in C11-7:   0%|          | 0/5 [00:00<?, ?it/s]"
      ]
     },
     "metadata": {},
     "output_type": "display_data"
    },
    {
     "data": {
      "application/vnd.jupyter.widget-view+json": {
       "model_id": "eb5f7202325142c1a3d0335f27c12122",
       "version_major": 2,
       "version_minor": 0
      },
      "text/plain": [
       "Processing channels in C2-1:   0%|          | 0/5 [00:00<?, ?it/s]"
      ]
     },
     "metadata": {},
     "output_type": "display_data"
    },
    {
     "data": {
      "application/vnd.jupyter.widget-view+json": {
       "model_id": "766c74138c604cb2b46bb46d1e59968c",
       "version_major": 2,
       "version_minor": 0
      },
      "text/plain": [
       "Processing channels in C2-2:   0%|          | 0/5 [00:00<?, ?it/s]"
      ]
     },
     "metadata": {},
     "output_type": "display_data"
    },
    {
     "data": {
      "application/vnd.jupyter.widget-view+json": {
       "model_id": "1446986c3960446f83e0fc1b57fd63ef",
       "version_major": 2,
       "version_minor": 0
      },
      "text/plain": [
       "Processing channels in C2-3:   0%|          | 0/5 [00:00<?, ?it/s]"
      ]
     },
     "metadata": {},
     "output_type": "display_data"
    },
    {
     "data": {
      "application/vnd.jupyter.widget-view+json": {
       "model_id": "1996e513b4ff41ab8b84b621eb5d5807",
       "version_major": 2,
       "version_minor": 0
      },
      "text/plain": [
       "Processing channels in C2-4:   0%|          | 0/5 [00:00<?, ?it/s]"
      ]
     },
     "metadata": {},
     "output_type": "display_data"
    },
    {
     "data": {
      "application/vnd.jupyter.widget-view+json": {
       "model_id": "0d9b950a88eb40a99826ecd66a94161c",
       "version_major": 2,
       "version_minor": 0
      },
      "text/plain": [
       "Processing channels in C2-5:   0%|          | 0/5 [00:00<?, ?it/s]"
      ]
     },
     "metadata": {},
     "output_type": "display_data"
    },
    {
     "data": {
      "application/vnd.jupyter.widget-view+json": {
       "model_id": "39f3899172e341598e4ae06bb779be7f",
       "version_major": 2,
       "version_minor": 0
      },
      "text/plain": [
       "Processing channels in C2-6:   0%|          | 0/5 [00:00<?, ?it/s]"
      ]
     },
     "metadata": {},
     "output_type": "display_data"
    },
    {
     "data": {
      "application/vnd.jupyter.widget-view+json": {
       "model_id": "d00053e70dde41e98cceb40948affca0",
       "version_major": 2,
       "version_minor": 0
      },
      "text/plain": [
       "Processing channels in C2-7:   0%|          | 0/5 [00:00<?, ?it/s]"
      ]
     },
     "metadata": {},
     "output_type": "display_data"
    },
    {
     "data": {
      "application/vnd.jupyter.widget-view+json": {
       "model_id": "f9aa2241552342168a9a2d6fab58371e",
       "version_major": 2,
       "version_minor": 0
      },
      "text/plain": [
       "Processing channels in C3-1:   0%|          | 0/5 [00:00<?, ?it/s]"
      ]
     },
     "metadata": {},
     "output_type": "display_data"
    },
    {
     "data": {
      "application/vnd.jupyter.widget-view+json": {
       "model_id": "799b55b653354fc49ca25fec3b68f75f",
       "version_major": 2,
       "version_minor": 0
      },
      "text/plain": [
       "Processing channels in C3-2:   0%|          | 0/5 [00:00<?, ?it/s]"
      ]
     },
     "metadata": {},
     "output_type": "display_data"
    },
    {
     "data": {
      "application/vnd.jupyter.widget-view+json": {
       "model_id": "09b7e97ef1e7477690f98f07e237b6b1",
       "version_major": 2,
       "version_minor": 0
      },
      "text/plain": [
       "Processing channels in C3-3:   0%|          | 0/5 [00:00<?, ?it/s]"
      ]
     },
     "metadata": {},
     "output_type": "display_data"
    },
    {
     "data": {
      "application/vnd.jupyter.widget-view+json": {
       "model_id": "feeeb29ba0314bb2b5f5b6f459d31bf9",
       "version_major": 2,
       "version_minor": 0
      },
      "text/plain": [
       "Processing channels in C3-4:   0%|          | 0/5 [00:00<?, ?it/s]"
      ]
     },
     "metadata": {},
     "output_type": "display_data"
    },
    {
     "data": {
      "application/vnd.jupyter.widget-view+json": {
       "model_id": "a62d7e6701cb4098b5a1cee1bb344d0b",
       "version_major": 2,
       "version_minor": 0
      },
      "text/plain": [
       "Processing channels in C3-5:   0%|          | 0/5 [00:00<?, ?it/s]"
      ]
     },
     "metadata": {},
     "output_type": "display_data"
    },
    {
     "data": {
      "application/vnd.jupyter.widget-view+json": {
       "model_id": "972e915a3d3246269067eeab520bdb2b",
       "version_major": 2,
       "version_minor": 0
      },
      "text/plain": [
       "Processing channels in C3-6:   0%|          | 0/5 [00:00<?, ?it/s]"
      ]
     },
     "metadata": {},
     "output_type": "display_data"
    },
    {
     "data": {
      "application/vnd.jupyter.widget-view+json": {
       "model_id": "d688010069eb40f9afdb43fbd4828117",
       "version_major": 2,
       "version_minor": 0
      },
      "text/plain": [
       "Processing channels in C3-7:   0%|          | 0/5 [00:00<?, ?it/s]"
      ]
     },
     "metadata": {},
     "output_type": "display_data"
    },
    {
     "data": {
      "application/vnd.jupyter.widget-view+json": {
       "model_id": "77a8bbd55fe44f31a6ebd6f45820bbc7",
       "version_major": 2,
       "version_minor": 0
      },
      "text/plain": [
       "Processing channels in C4-1:   0%|          | 0/5 [00:00<?, ?it/s]"
      ]
     },
     "metadata": {},
     "output_type": "display_data"
    },
    {
     "data": {
      "application/vnd.jupyter.widget-view+json": {
       "model_id": "f9f0a22b6e574f2eb63b2419e2cbb2d0",
       "version_major": 2,
       "version_minor": 0
      },
      "text/plain": [
       "Processing channels in C4-2:   0%|          | 0/5 [00:00<?, ?it/s]"
      ]
     },
     "metadata": {},
     "output_type": "display_data"
    },
    {
     "data": {
      "application/vnd.jupyter.widget-view+json": {
       "model_id": "2b2c878a364c4edd9f9b7c568c4ec258",
       "version_major": 2,
       "version_minor": 0
      },
      "text/plain": [
       "Processing channels in C4-3:   0%|          | 0/5 [00:00<?, ?it/s]"
      ]
     },
     "metadata": {},
     "output_type": "display_data"
    },
    {
     "data": {
      "application/vnd.jupyter.widget-view+json": {
       "model_id": "9b5537c3d2c945e1bb078b2b61a66349",
       "version_major": 2,
       "version_minor": 0
      },
      "text/plain": [
       "Processing channels in C4-4:   0%|          | 0/5 [00:00<?, ?it/s]"
      ]
     },
     "metadata": {},
     "output_type": "display_data"
    },
    {
     "data": {
      "application/vnd.jupyter.widget-view+json": {
       "model_id": "de341a23454443f6a191ee3f2c95d440",
       "version_major": 2,
       "version_minor": 0
      },
      "text/plain": [
       "Processing channels in C4-5:   0%|          | 0/5 [00:00<?, ?it/s]"
      ]
     },
     "metadata": {},
     "output_type": "display_data"
    },
    {
     "data": {
      "application/vnd.jupyter.widget-view+json": {
       "model_id": "2ff12a2d4793425c8098e7da58d1cd7f",
       "version_major": 2,
       "version_minor": 0
      },
      "text/plain": [
       "Processing channels in C4-6:   0%|          | 0/5 [00:00<?, ?it/s]"
      ]
     },
     "metadata": {},
     "output_type": "display_data"
    },
    {
     "data": {
      "application/vnd.jupyter.widget-view+json": {
       "model_id": "9b0a437fad3940cb8f3a10950c82536d",
       "version_major": 2,
       "version_minor": 0
      },
      "text/plain": [
       "Processing channels in C4-7:   0%|          | 0/5 [00:00<?, ?it/s]"
      ]
     },
     "metadata": {},
     "output_type": "display_data"
    },
    {
     "data": {
      "application/vnd.jupyter.widget-view+json": {
       "model_id": "52954e022b11446a971ed61902af4e0d",
       "version_major": 2,
       "version_minor": 0
      },
      "text/plain": [
       "Processing channels in C5-1:   0%|          | 0/5 [00:00<?, ?it/s]"
      ]
     },
     "metadata": {},
     "output_type": "display_data"
    },
    {
     "data": {
      "application/vnd.jupyter.widget-view+json": {
       "model_id": "c4d76b7cd1034fa89b3f3eb586195294",
       "version_major": 2,
       "version_minor": 0
      },
      "text/plain": [
       "Processing channels in C5-2:   0%|          | 0/5 [00:00<?, ?it/s]"
      ]
     },
     "metadata": {},
     "output_type": "display_data"
    },
    {
     "data": {
      "application/vnd.jupyter.widget-view+json": {
       "model_id": "94853e1437fa4c7db81b9b976eebf42b",
       "version_major": 2,
       "version_minor": 0
      },
      "text/plain": [
       "Processing channels in C5-3:   0%|          | 0/5 [00:00<?, ?it/s]"
      ]
     },
     "metadata": {},
     "output_type": "display_data"
    },
    {
     "data": {
      "application/vnd.jupyter.widget-view+json": {
       "model_id": "8bfdc480e055456c91eb47f04669e651",
       "version_major": 2,
       "version_minor": 0
      },
      "text/plain": [
       "Processing channels in C5-4:   0%|          | 0/5 [00:00<?, ?it/s]"
      ]
     },
     "metadata": {},
     "output_type": "display_data"
    },
    {
     "data": {
      "application/vnd.jupyter.widget-view+json": {
       "model_id": "815197e6e5ec4794920c74b80e0e0647",
       "version_major": 2,
       "version_minor": 0
      },
      "text/plain": [
       "Processing channels in C5-5:   0%|          | 0/5 [00:00<?, ?it/s]"
      ]
     },
     "metadata": {},
     "output_type": "display_data"
    },
    {
     "data": {
      "application/vnd.jupyter.widget-view+json": {
       "model_id": "b540b7b70a6c4447a0529ce1056e2551",
       "version_major": 2,
       "version_minor": 0
      },
      "text/plain": [
       "Processing channels in C5-6:   0%|          | 0/5 [00:00<?, ?it/s]"
      ]
     },
     "metadata": {},
     "output_type": "display_data"
    },
    {
     "data": {
      "application/vnd.jupyter.widget-view+json": {
       "model_id": "882588759085440da4eadf610b78a961",
       "version_major": 2,
       "version_minor": 0
      },
      "text/plain": [
       "Processing channels in C5-7:   0%|          | 0/5 [00:00<?, ?it/s]"
      ]
     },
     "metadata": {},
     "output_type": "display_data"
    },
    {
     "data": {
      "application/vnd.jupyter.widget-view+json": {
       "model_id": "e8cc86c853cb4db2ac2959378432da25",
       "version_major": 2,
       "version_minor": 0
      },
      "text/plain": [
       "Processing channels in C6-1:   0%|          | 0/5 [00:00<?, ?it/s]"
      ]
     },
     "metadata": {},
     "output_type": "display_data"
    },
    {
     "data": {
      "application/vnd.jupyter.widget-view+json": {
       "model_id": "7c57ba58b60c46939c5db00ab1e99a56",
       "version_major": 2,
       "version_minor": 0
      },
      "text/plain": [
       "Processing channels in C6-2:   0%|          | 0/5 [00:00<?, ?it/s]"
      ]
     },
     "metadata": {},
     "output_type": "display_data"
    },
    {
     "data": {
      "application/vnd.jupyter.widget-view+json": {
       "model_id": "568e2f8257a14f5cb9cb0742fbf84aef",
       "version_major": 2,
       "version_minor": 0
      },
      "text/plain": [
       "Processing channels in C6-3:   0%|          | 0/5 [00:00<?, ?it/s]"
      ]
     },
     "metadata": {},
     "output_type": "display_data"
    },
    {
     "data": {
      "application/vnd.jupyter.widget-view+json": {
       "model_id": "c4596bb5faa54f3d8c1073a33a92eadd",
       "version_major": 2,
       "version_minor": 0
      },
      "text/plain": [
       "Processing channels in C6-4:   0%|          | 0/5 [00:00<?, ?it/s]"
      ]
     },
     "metadata": {},
     "output_type": "display_data"
    },
    {
     "data": {
      "application/vnd.jupyter.widget-view+json": {
       "model_id": "02a229a2d7f2425bbd0dfe3d6030014a",
       "version_major": 2,
       "version_minor": 0
      },
      "text/plain": [
       "Processing channels in C6-5:   0%|          | 0/5 [00:00<?, ?it/s]"
      ]
     },
     "metadata": {},
     "output_type": "display_data"
    },
    {
     "data": {
      "application/vnd.jupyter.widget-view+json": {
       "model_id": "e75b5901998c410ead6ab8d994bb43bd",
       "version_major": 2,
       "version_minor": 0
      },
      "text/plain": [
       "Processing channels in C6-6:   0%|          | 0/5 [00:00<?, ?it/s]"
      ]
     },
     "metadata": {},
     "output_type": "display_data"
    },
    {
     "data": {
      "application/vnd.jupyter.widget-view+json": {
       "model_id": "bd979fbfbdfb41909cd861e151e58f60",
       "version_major": 2,
       "version_minor": 0
      },
      "text/plain": [
       "Processing channels in C6-7:   0%|          | 0/5 [00:00<?, ?it/s]"
      ]
     },
     "metadata": {},
     "output_type": "display_data"
    },
    {
     "data": {
      "application/vnd.jupyter.widget-view+json": {
       "model_id": "cf09fd7713844c9c8114a188b9458e37",
       "version_major": 2,
       "version_minor": 0
      },
      "text/plain": [
       "Processing channels in C7-1:   0%|          | 0/5 [00:00<?, ?it/s]"
      ]
     },
     "metadata": {},
     "output_type": "display_data"
    },
    {
     "data": {
      "application/vnd.jupyter.widget-view+json": {
       "model_id": "a305ed2916b64090b3c71596ea2ed821",
       "version_major": 2,
       "version_minor": 0
      },
      "text/plain": [
       "Processing channels in C7-2:   0%|          | 0/5 [00:00<?, ?it/s]"
      ]
     },
     "metadata": {},
     "output_type": "display_data"
    },
    {
     "data": {
      "application/vnd.jupyter.widget-view+json": {
       "model_id": "71de177ef5e64d7384c25bb533c40b80",
       "version_major": 2,
       "version_minor": 0
      },
      "text/plain": [
       "Processing channels in C7-3:   0%|          | 0/5 [00:00<?, ?it/s]"
      ]
     },
     "metadata": {},
     "output_type": "display_data"
    },
    {
     "data": {
      "application/vnd.jupyter.widget-view+json": {
       "model_id": "7a34c8158172467c98e263ba9582940f",
       "version_major": 2,
       "version_minor": 0
      },
      "text/plain": [
       "Processing channels in C7-4:   0%|          | 0/5 [00:00<?, ?it/s]"
      ]
     },
     "metadata": {},
     "output_type": "display_data"
    },
    {
     "data": {
      "application/vnd.jupyter.widget-view+json": {
       "model_id": "cb14e0151f3e44aeb20604c3fa83b487",
       "version_major": 2,
       "version_minor": 0
      },
      "text/plain": [
       "Processing channels in C7-5:   0%|          | 0/5 [00:00<?, ?it/s]"
      ]
     },
     "metadata": {},
     "output_type": "display_data"
    },
    {
     "data": {
      "application/vnd.jupyter.widget-view+json": {
       "model_id": "363f19aca71547f489f7adc29ebe369f",
       "version_major": 2,
       "version_minor": 0
      },
      "text/plain": [
       "Processing channels in C7-6:   0%|          | 0/5 [00:00<?, ?it/s]"
      ]
     },
     "metadata": {},
     "output_type": "display_data"
    },
    {
     "data": {
      "application/vnd.jupyter.widget-view+json": {
       "model_id": "c5d3bb4e593a455ba5a1ee6dbcf633b2",
       "version_major": 2,
       "version_minor": 0
      },
      "text/plain": [
       "Processing channels in C7-7:   0%|          | 0/5 [00:00<?, ?it/s]"
      ]
     },
     "metadata": {},
     "output_type": "display_data"
    },
    {
     "data": {
      "application/vnd.jupyter.widget-view+json": {
       "model_id": "559599560a11431ebacde04fe4908281",
       "version_major": 2,
       "version_minor": 0
      },
      "text/plain": [
       "Processing channels in C8-1:   0%|          | 0/5 [00:00<?, ?it/s]"
      ]
     },
     "metadata": {},
     "output_type": "display_data"
    },
    {
     "data": {
      "application/vnd.jupyter.widget-view+json": {
       "model_id": "7d624a58a2e54c88bd8e833052346535",
       "version_major": 2,
       "version_minor": 0
      },
      "text/plain": [
       "Processing channels in C8-2:   0%|          | 0/5 [00:00<?, ?it/s]"
      ]
     },
     "metadata": {},
     "output_type": "display_data"
    },
    {
     "data": {
      "application/vnd.jupyter.widget-view+json": {
       "model_id": "d213989eef1e4de9aa25eec6c1c06ce6",
       "version_major": 2,
       "version_minor": 0
      },
      "text/plain": [
       "Processing channels in C8-3:   0%|          | 0/5 [00:00<?, ?it/s]"
      ]
     },
     "metadata": {},
     "output_type": "display_data"
    },
    {
     "data": {
      "application/vnd.jupyter.widget-view+json": {
       "model_id": "60bd920aff7f4fc5af6e492f3ecbe4d3",
       "version_major": 2,
       "version_minor": 0
      },
      "text/plain": [
       "Processing channels in C8-4:   0%|          | 0/5 [00:00<?, ?it/s]"
      ]
     },
     "metadata": {},
     "output_type": "display_data"
    },
    {
     "data": {
      "application/vnd.jupyter.widget-view+json": {
       "model_id": "f8e114ad9d734bfa80056f29a7775b4c",
       "version_major": 2,
       "version_minor": 0
      },
      "text/plain": [
       "Processing channels in C8-5:   0%|          | 0/5 [00:00<?, ?it/s]"
      ]
     },
     "metadata": {},
     "output_type": "display_data"
    },
    {
     "data": {
      "application/vnd.jupyter.widget-view+json": {
       "model_id": "caf58c12b0da4d5794364eb54f45cc68",
       "version_major": 2,
       "version_minor": 0
      },
      "text/plain": [
       "Processing channels in C8-6:   0%|          | 0/5 [00:00<?, ?it/s]"
      ]
     },
     "metadata": {},
     "output_type": "display_data"
    },
    {
     "data": {
      "application/vnd.jupyter.widget-view+json": {
       "model_id": "8261c1e26be44787a4f32bb47dbc5953",
       "version_major": 2,
       "version_minor": 0
      },
      "text/plain": [
       "Processing channels in C8-7:   0%|          | 0/5 [00:00<?, ?it/s]"
      ]
     },
     "metadata": {},
     "output_type": "display_data"
    },
    {
     "data": {
      "application/vnd.jupyter.widget-view+json": {
       "model_id": "cdeb957e54fc474e8bf6eb1ac3861db2",
       "version_major": 2,
       "version_minor": 0
      },
      "text/plain": [
       "Processing channels in C9-1:   0%|          | 0/5 [00:00<?, ?it/s]"
      ]
     },
     "metadata": {},
     "output_type": "display_data"
    },
    {
     "data": {
      "application/vnd.jupyter.widget-view+json": {
       "model_id": "05ea54c8f22546f8858db6455096d897",
       "version_major": 2,
       "version_minor": 0
      },
      "text/plain": [
       "Processing channels in C9-2:   0%|          | 0/5 [00:00<?, ?it/s]"
      ]
     },
     "metadata": {},
     "output_type": "display_data"
    },
    {
     "data": {
      "application/vnd.jupyter.widget-view+json": {
       "model_id": "1e48ba18447645b5b24ba6ae8ca3fdba",
       "version_major": 2,
       "version_minor": 0
      },
      "text/plain": [
       "Processing channels in C9-3:   0%|          | 0/5 [00:00<?, ?it/s]"
      ]
     },
     "metadata": {},
     "output_type": "display_data"
    },
    {
     "data": {
      "application/vnd.jupyter.widget-view+json": {
       "model_id": "59aaa148eb2a496ea4ff7f18b92655e5",
       "version_major": 2,
       "version_minor": 0
      },
      "text/plain": [
       "Processing channels in C9-4:   0%|          | 0/5 [00:00<?, ?it/s]"
      ]
     },
     "metadata": {},
     "output_type": "display_data"
    },
    {
     "data": {
      "application/vnd.jupyter.widget-view+json": {
       "model_id": "03b87c7113244bd3930054bdf315773c",
       "version_major": 2,
       "version_minor": 0
      },
      "text/plain": [
       "Processing channels in C9-5:   0%|          | 0/5 [00:00<?, ?it/s]"
      ]
     },
     "metadata": {},
     "output_type": "display_data"
    },
    {
     "data": {
      "application/vnd.jupyter.widget-view+json": {
       "model_id": "02ead42898624461a5061cc4f853bada",
       "version_major": 2,
       "version_minor": 0
      },
      "text/plain": [
       "Processing channels in C9-6:   0%|          | 0/5 [00:00<?, ?it/s]"
      ]
     },
     "metadata": {},
     "output_type": "display_data"
    },
    {
     "data": {
      "application/vnd.jupyter.widget-view+json": {
       "model_id": "612b8f2c735c4fcf9944609e68994653",
       "version_major": 2,
       "version_minor": 0
      },
      "text/plain": [
       "Processing channels in C9-7:   0%|          | 0/5 [00:00<?, ?it/s]"
      ]
     },
     "metadata": {},
     "output_type": "display_data"
    },
    {
     "data": {
      "application/vnd.jupyter.widget-view+json": {
       "model_id": "e5f742593dd94beaa8a841504a5f203e",
       "version_major": 2,
       "version_minor": 0
      },
      "text/plain": [
       "Processing channels in D10-1:   0%|          | 0/5 [00:00<?, ?it/s]"
      ]
     },
     "metadata": {},
     "output_type": "display_data"
    },
    {
     "data": {
      "application/vnd.jupyter.widget-view+json": {
       "model_id": "59949f5b2a4e4261bc1b6ca923cfaeb5",
       "version_major": 2,
       "version_minor": 0
      },
      "text/plain": [
       "Processing channels in D10-2:   0%|          | 0/5 [00:00<?, ?it/s]"
      ]
     },
     "metadata": {},
     "output_type": "display_data"
    },
    {
     "data": {
      "application/vnd.jupyter.widget-view+json": {
       "model_id": "ecd7492b337e4187a230a991c54d0f0d",
       "version_major": 2,
       "version_minor": 0
      },
      "text/plain": [
       "Processing channels in D10-3:   0%|          | 0/5 [00:00<?, ?it/s]"
      ]
     },
     "metadata": {},
     "output_type": "display_data"
    },
    {
     "data": {
      "application/vnd.jupyter.widget-view+json": {
       "model_id": "4fb93c99567942f0a8fa00d9b013d03e",
       "version_major": 2,
       "version_minor": 0
      },
      "text/plain": [
       "Processing channels in D10-4:   0%|          | 0/5 [00:00<?, ?it/s]"
      ]
     },
     "metadata": {},
     "output_type": "display_data"
    },
    {
     "data": {
      "application/vnd.jupyter.widget-view+json": {
       "model_id": "c77ba1f4590a4cb68ffc5d48704a82d8",
       "version_major": 2,
       "version_minor": 0
      },
      "text/plain": [
       "Processing channels in D10-5:   0%|          | 0/5 [00:00<?, ?it/s]"
      ]
     },
     "metadata": {},
     "output_type": "display_data"
    },
    {
     "data": {
      "application/vnd.jupyter.widget-view+json": {
       "model_id": "b839f15378d64cf7acc48a2e9f2086d3",
       "version_major": 2,
       "version_minor": 0
      },
      "text/plain": [
       "Processing channels in D10-6:   0%|          | 0/5 [00:00<?, ?it/s]"
      ]
     },
     "metadata": {},
     "output_type": "display_data"
    },
    {
     "data": {
      "application/vnd.jupyter.widget-view+json": {
       "model_id": "76dce241e675443cbde1ca81dc615d94",
       "version_major": 2,
       "version_minor": 0
      },
      "text/plain": [
       "Processing channels in D10-7:   0%|          | 0/5 [00:00<?, ?it/s]"
      ]
     },
     "metadata": {},
     "output_type": "display_data"
    },
    {
     "data": {
      "application/vnd.jupyter.widget-view+json": {
       "model_id": "2df41fe08288468c9ed0391b5b3c7330",
       "version_major": 2,
       "version_minor": 0
      },
      "text/plain": [
       "Processing channels in D11-1:   0%|          | 0/5 [00:00<?, ?it/s]"
      ]
     },
     "metadata": {},
     "output_type": "display_data"
    },
    {
     "data": {
      "application/vnd.jupyter.widget-view+json": {
       "model_id": "545604de32cc44afbb80ffa1bd3803b4",
       "version_major": 2,
       "version_minor": 0
      },
      "text/plain": [
       "Processing channels in D11-2:   0%|          | 0/5 [00:00<?, ?it/s]"
      ]
     },
     "metadata": {},
     "output_type": "display_data"
    },
    {
     "data": {
      "application/vnd.jupyter.widget-view+json": {
       "model_id": "07e4bad62f23476e94c160e507e77865",
       "version_major": 2,
       "version_minor": 0
      },
      "text/plain": [
       "Processing channels in D11-3:   0%|          | 0/5 [00:00<?, ?it/s]"
      ]
     },
     "metadata": {},
     "output_type": "display_data"
    },
    {
     "data": {
      "application/vnd.jupyter.widget-view+json": {
       "model_id": "0ca37343a6294702af53738db04cde27",
       "version_major": 2,
       "version_minor": 0
      },
      "text/plain": [
       "Processing channels in D11-4:   0%|          | 0/5 [00:00<?, ?it/s]"
      ]
     },
     "metadata": {},
     "output_type": "display_data"
    },
    {
     "data": {
      "application/vnd.jupyter.widget-view+json": {
       "model_id": "085ebaca54c74c3dad34c2ad1c6c8d6d",
       "version_major": 2,
       "version_minor": 0
      },
      "text/plain": [
       "Processing channels in D11-5:   0%|          | 0/5 [00:00<?, ?it/s]"
      ]
     },
     "metadata": {},
     "output_type": "display_data"
    },
    {
     "data": {
      "application/vnd.jupyter.widget-view+json": {
       "model_id": "dd3dd581ff8b493ba24705c73e55dcc0",
       "version_major": 2,
       "version_minor": 0
      },
      "text/plain": [
       "Processing channels in D11-6:   0%|          | 0/5 [00:00<?, ?it/s]"
      ]
     },
     "metadata": {},
     "output_type": "display_data"
    },
    {
     "data": {
      "application/vnd.jupyter.widget-view+json": {
       "model_id": "6227e635fd854e1bbba8808021fa8045",
       "version_major": 2,
       "version_minor": 0
      },
      "text/plain": [
       "Processing channels in D11-7:   0%|          | 0/5 [00:00<?, ?it/s]"
      ]
     },
     "metadata": {},
     "output_type": "display_data"
    },
    {
     "data": {
      "application/vnd.jupyter.widget-view+json": {
       "model_id": "5d389469a4ab47939c8ece7c72c9cb70",
       "version_major": 2,
       "version_minor": 0
      },
      "text/plain": [
       "Processing channels in D2-1:   0%|          | 0/5 [00:00<?, ?it/s]"
      ]
     },
     "metadata": {},
     "output_type": "display_data"
    },
    {
     "data": {
      "application/vnd.jupyter.widget-view+json": {
       "model_id": "782b906385ac4cadbbf2f45c50a76557",
       "version_major": 2,
       "version_minor": 0
      },
      "text/plain": [
       "Processing channels in D2-2:   0%|          | 0/5 [00:00<?, ?it/s]"
      ]
     },
     "metadata": {},
     "output_type": "display_data"
    },
    {
     "data": {
      "application/vnd.jupyter.widget-view+json": {
       "model_id": "adf1b22fa20b41a3bb3623586ad549d8",
       "version_major": 2,
       "version_minor": 0
      },
      "text/plain": [
       "Processing channels in D2-3:   0%|          | 0/5 [00:00<?, ?it/s]"
      ]
     },
     "metadata": {},
     "output_type": "display_data"
    },
    {
     "data": {
      "application/vnd.jupyter.widget-view+json": {
       "model_id": "2216b5370aa541ef975c8cab25451abb",
       "version_major": 2,
       "version_minor": 0
      },
      "text/plain": [
       "Processing channels in D2-4:   0%|          | 0/5 [00:00<?, ?it/s]"
      ]
     },
     "metadata": {},
     "output_type": "display_data"
    },
    {
     "data": {
      "application/vnd.jupyter.widget-view+json": {
       "model_id": "95f47a200ae2443191f143cd0781d1a7",
       "version_major": 2,
       "version_minor": 0
      },
      "text/plain": [
       "Processing channels in D2-5:   0%|          | 0/5 [00:00<?, ?it/s]"
      ]
     },
     "metadata": {},
     "output_type": "display_data"
    },
    {
     "data": {
      "application/vnd.jupyter.widget-view+json": {
       "model_id": "9e15c17329b54e6b9cf47f891182a8b7",
       "version_major": 2,
       "version_minor": 0
      },
      "text/plain": [
       "Processing channels in D2-6:   0%|          | 0/5 [00:00<?, ?it/s]"
      ]
     },
     "metadata": {},
     "output_type": "display_data"
    },
    {
     "data": {
      "application/vnd.jupyter.widget-view+json": {
       "model_id": "e6bac8a6eb374ef58217bf1e1414f8e6",
       "version_major": 2,
       "version_minor": 0
      },
      "text/plain": [
       "Processing channels in D2-7:   0%|          | 0/5 [00:00<?, ?it/s]"
      ]
     },
     "metadata": {},
     "output_type": "display_data"
    },
    {
     "data": {
      "application/vnd.jupyter.widget-view+json": {
       "model_id": "fd758777ea1a49c3a174721d2af1dbba",
       "version_major": 2,
       "version_minor": 0
      },
      "text/plain": [
       "Processing channels in D3-1:   0%|          | 0/5 [00:00<?, ?it/s]"
      ]
     },
     "metadata": {},
     "output_type": "display_data"
    },
    {
     "data": {
      "application/vnd.jupyter.widget-view+json": {
       "model_id": "0f341d1d37e74567bba8dd2a1988d5b8",
       "version_major": 2,
       "version_minor": 0
      },
      "text/plain": [
       "Processing channels in D3-2:   0%|          | 0/5 [00:00<?, ?it/s]"
      ]
     },
     "metadata": {},
     "output_type": "display_data"
    },
    {
     "data": {
      "application/vnd.jupyter.widget-view+json": {
       "model_id": "5915e8280f4341409e55f43538f401f4",
       "version_major": 2,
       "version_minor": 0
      },
      "text/plain": [
       "Processing channels in D3-3:   0%|          | 0/5 [00:00<?, ?it/s]"
      ]
     },
     "metadata": {},
     "output_type": "display_data"
    },
    {
     "data": {
      "application/vnd.jupyter.widget-view+json": {
       "model_id": "f965c4605ab44f4f9d7228c5097bac19",
       "version_major": 2,
       "version_minor": 0
      },
      "text/plain": [
       "Processing channels in D3-4:   0%|          | 0/5 [00:00<?, ?it/s]"
      ]
     },
     "metadata": {},
     "output_type": "display_data"
    },
    {
     "data": {
      "application/vnd.jupyter.widget-view+json": {
       "model_id": "19bb2dbb64334dbcaefbc6737cff4e9a",
       "version_major": 2,
       "version_minor": 0
      },
      "text/plain": [
       "Processing channels in D3-5:   0%|          | 0/5 [00:00<?, ?it/s]"
      ]
     },
     "metadata": {},
     "output_type": "display_data"
    },
    {
     "data": {
      "application/vnd.jupyter.widget-view+json": {
       "model_id": "6ee926a20a5146879caa6c760682065e",
       "version_major": 2,
       "version_minor": 0
      },
      "text/plain": [
       "Processing channels in D3-6:   0%|          | 0/5 [00:00<?, ?it/s]"
      ]
     },
     "metadata": {},
     "output_type": "display_data"
    },
    {
     "data": {
      "application/vnd.jupyter.widget-view+json": {
       "model_id": "586289523db9402796c616468e81794c",
       "version_major": 2,
       "version_minor": 0
      },
      "text/plain": [
       "Processing channels in D3-7:   0%|          | 0/5 [00:00<?, ?it/s]"
      ]
     },
     "metadata": {},
     "output_type": "display_data"
    },
    {
     "data": {
      "application/vnd.jupyter.widget-view+json": {
       "model_id": "efafde78dcdc4b4488bb1dbc9db1d7b0",
       "version_major": 2,
       "version_minor": 0
      },
      "text/plain": [
       "Processing channels in D4-1:   0%|          | 0/5 [00:00<?, ?it/s]"
      ]
     },
     "metadata": {},
     "output_type": "display_data"
    },
    {
     "data": {
      "application/vnd.jupyter.widget-view+json": {
       "model_id": "8010138686e941deb16732b8cf75e386",
       "version_major": 2,
       "version_minor": 0
      },
      "text/plain": [
       "Processing channels in D4-2:   0%|          | 0/5 [00:00<?, ?it/s]"
      ]
     },
     "metadata": {},
     "output_type": "display_data"
    },
    {
     "data": {
      "application/vnd.jupyter.widget-view+json": {
       "model_id": "c7604d58927e4a9a9d5cbe400bc63f7d",
       "version_major": 2,
       "version_minor": 0
      },
      "text/plain": [
       "Processing channels in D4-3:   0%|          | 0/5 [00:00<?, ?it/s]"
      ]
     },
     "metadata": {},
     "output_type": "display_data"
    },
    {
     "data": {
      "application/vnd.jupyter.widget-view+json": {
       "model_id": "4f64b59d67074892b887a02d7db3cb03",
       "version_major": 2,
       "version_minor": 0
      },
      "text/plain": [
       "Processing channels in D4-4:   0%|          | 0/5 [00:00<?, ?it/s]"
      ]
     },
     "metadata": {},
     "output_type": "display_data"
    },
    {
     "data": {
      "application/vnd.jupyter.widget-view+json": {
       "model_id": "28fc51a4bfed4084855eb1ca49782680",
       "version_major": 2,
       "version_minor": 0
      },
      "text/plain": [
       "Processing channels in D4-5:   0%|          | 0/5 [00:00<?, ?it/s]"
      ]
     },
     "metadata": {},
     "output_type": "display_data"
    },
    {
     "data": {
      "application/vnd.jupyter.widget-view+json": {
       "model_id": "e8c7013c849e4f3d89a50e138bff3f09",
       "version_major": 2,
       "version_minor": 0
      },
      "text/plain": [
       "Processing channels in D4-6:   0%|          | 0/5 [00:00<?, ?it/s]"
      ]
     },
     "metadata": {},
     "output_type": "display_data"
    },
    {
     "data": {
      "application/vnd.jupyter.widget-view+json": {
       "model_id": "aaa0ae250eb04bb9b8ea27be8eded8da",
       "version_major": 2,
       "version_minor": 0
      },
      "text/plain": [
       "Processing channels in D4-7:   0%|          | 0/5 [00:00<?, ?it/s]"
      ]
     },
     "metadata": {},
     "output_type": "display_data"
    },
    {
     "data": {
      "application/vnd.jupyter.widget-view+json": {
       "model_id": "85e7548ee9284e209cc08af8d7cc5e17",
       "version_major": 2,
       "version_minor": 0
      },
      "text/plain": [
       "Processing channels in D5-1:   0%|          | 0/5 [00:00<?, ?it/s]"
      ]
     },
     "metadata": {},
     "output_type": "display_data"
    },
    {
     "data": {
      "application/vnd.jupyter.widget-view+json": {
       "model_id": "ee6745eaea6b459eab4d62567542e1c9",
       "version_major": 2,
       "version_minor": 0
      },
      "text/plain": [
       "Processing channels in D5-2:   0%|          | 0/5 [00:00<?, ?it/s]"
      ]
     },
     "metadata": {},
     "output_type": "display_data"
    },
    {
     "data": {
      "application/vnd.jupyter.widget-view+json": {
       "model_id": "4973be2d15be4369b8d5592720b556eb",
       "version_major": 2,
       "version_minor": 0
      },
      "text/plain": [
       "Processing channels in D5-3:   0%|          | 0/5 [00:00<?, ?it/s]"
      ]
     },
     "metadata": {},
     "output_type": "display_data"
    },
    {
     "data": {
      "application/vnd.jupyter.widget-view+json": {
       "model_id": "1157451c2ce14ee7806057c2521c891d",
       "version_major": 2,
       "version_minor": 0
      },
      "text/plain": [
       "Processing channels in D5-4:   0%|          | 0/5 [00:00<?, ?it/s]"
      ]
     },
     "metadata": {},
     "output_type": "display_data"
    },
    {
     "data": {
      "application/vnd.jupyter.widget-view+json": {
       "model_id": "e86a720c85e741fd875fa6bd72382818",
       "version_major": 2,
       "version_minor": 0
      },
      "text/plain": [
       "Processing channels in D5-5:   0%|          | 0/5 [00:00<?, ?it/s]"
      ]
     },
     "metadata": {},
     "output_type": "display_data"
    },
    {
     "data": {
      "application/vnd.jupyter.widget-view+json": {
       "model_id": "a3e67b9fce2e42bd9a6eabc980eadfec",
       "version_major": 2,
       "version_minor": 0
      },
      "text/plain": [
       "Processing channels in D5-6:   0%|          | 0/5 [00:00<?, ?it/s]"
      ]
     },
     "metadata": {},
     "output_type": "display_data"
    },
    {
     "data": {
      "application/vnd.jupyter.widget-view+json": {
       "model_id": "ff2abb0d5e744ee1b287bbca449801b4",
       "version_major": 2,
       "version_minor": 0
      },
      "text/plain": [
       "Processing channels in D5-7:   0%|          | 0/5 [00:00<?, ?it/s]"
      ]
     },
     "metadata": {},
     "output_type": "display_data"
    },
    {
     "data": {
      "application/vnd.jupyter.widget-view+json": {
       "model_id": "10293240719340969d13651988fc41ca",
       "version_major": 2,
       "version_minor": 0
      },
      "text/plain": [
       "Processing channels in D6-1:   0%|          | 0/5 [00:00<?, ?it/s]"
      ]
     },
     "metadata": {},
     "output_type": "display_data"
    },
    {
     "data": {
      "application/vnd.jupyter.widget-view+json": {
       "model_id": "f7ea06586b064da2992a729fc57bcfdc",
       "version_major": 2,
       "version_minor": 0
      },
      "text/plain": [
       "Processing channels in D6-2:   0%|          | 0/5 [00:00<?, ?it/s]"
      ]
     },
     "metadata": {},
     "output_type": "display_data"
    },
    {
     "data": {
      "application/vnd.jupyter.widget-view+json": {
       "model_id": "524c6da1f5d04ee39ee661e0357acbb5",
       "version_major": 2,
       "version_minor": 0
      },
      "text/plain": [
       "Processing channels in D6-3:   0%|          | 0/5 [00:00<?, ?it/s]"
      ]
     },
     "metadata": {},
     "output_type": "display_data"
    },
    {
     "data": {
      "application/vnd.jupyter.widget-view+json": {
       "model_id": "36a33a96d910444fb1366fac790f5951",
       "version_major": 2,
       "version_minor": 0
      },
      "text/plain": [
       "Processing channels in D6-4:   0%|          | 0/5 [00:00<?, ?it/s]"
      ]
     },
     "metadata": {},
     "output_type": "display_data"
    },
    {
     "data": {
      "application/vnd.jupyter.widget-view+json": {
       "model_id": "9a32da9b17c5426e97a7889f554ba87d",
       "version_major": 2,
       "version_minor": 0
      },
      "text/plain": [
       "Processing channels in D6-5:   0%|          | 0/5 [00:00<?, ?it/s]"
      ]
     },
     "metadata": {},
     "output_type": "display_data"
    },
    {
     "data": {
      "application/vnd.jupyter.widget-view+json": {
       "model_id": "9dbd80153082432ba469e4575b51aa44",
       "version_major": 2,
       "version_minor": 0
      },
      "text/plain": [
       "Processing channels in D6-6:   0%|          | 0/5 [00:00<?, ?it/s]"
      ]
     },
     "metadata": {},
     "output_type": "display_data"
    },
    {
     "data": {
      "application/vnd.jupyter.widget-view+json": {
       "model_id": "0b3080f8912545189d359a71bc0d9c6e",
       "version_major": 2,
       "version_minor": 0
      },
      "text/plain": [
       "Processing channels in D6-7:   0%|          | 0/5 [00:00<?, ?it/s]"
      ]
     },
     "metadata": {},
     "output_type": "display_data"
    },
    {
     "data": {
      "application/vnd.jupyter.widget-view+json": {
       "model_id": "b5bb428b2249410ebc8a869ac2182494",
       "version_major": 2,
       "version_minor": 0
      },
      "text/plain": [
       "Processing channels in D7-1:   0%|          | 0/5 [00:00<?, ?it/s]"
      ]
     },
     "metadata": {},
     "output_type": "display_data"
    },
    {
     "data": {
      "application/vnd.jupyter.widget-view+json": {
       "model_id": "46eca1a772e440ad8f346a42136f83a2",
       "version_major": 2,
       "version_minor": 0
      },
      "text/plain": [
       "Processing channels in D7-2:   0%|          | 0/5 [00:00<?, ?it/s]"
      ]
     },
     "metadata": {},
     "output_type": "display_data"
    },
    {
     "data": {
      "application/vnd.jupyter.widget-view+json": {
       "model_id": "ed73f54c04c34fd4a0145f5456b20499",
       "version_major": 2,
       "version_minor": 0
      },
      "text/plain": [
       "Processing channels in D7-3:   0%|          | 0/5 [00:00<?, ?it/s]"
      ]
     },
     "metadata": {},
     "output_type": "display_data"
    },
    {
     "data": {
      "application/vnd.jupyter.widget-view+json": {
       "model_id": "ca9f9d2cb89143f3aebabb15d0030f51",
       "version_major": 2,
       "version_minor": 0
      },
      "text/plain": [
       "Processing channels in D7-4:   0%|          | 0/5 [00:00<?, ?it/s]"
      ]
     },
     "metadata": {},
     "output_type": "display_data"
    },
    {
     "data": {
      "application/vnd.jupyter.widget-view+json": {
       "model_id": "ad6bb81bca4f4c258eadccdf92575a63",
       "version_major": 2,
       "version_minor": 0
      },
      "text/plain": [
       "Processing channels in D7-5:   0%|          | 0/5 [00:00<?, ?it/s]"
      ]
     },
     "metadata": {},
     "output_type": "display_data"
    },
    {
     "data": {
      "application/vnd.jupyter.widget-view+json": {
       "model_id": "7b45e0c5a9184950ac8b1636813f95c4",
       "version_major": 2,
       "version_minor": 0
      },
      "text/plain": [
       "Processing channels in D7-6:   0%|          | 0/5 [00:00<?, ?it/s]"
      ]
     },
     "metadata": {},
     "output_type": "display_data"
    },
    {
     "data": {
      "application/vnd.jupyter.widget-view+json": {
       "model_id": "9bf73c0ee4564b11b5ee841eb0fc3552",
       "version_major": 2,
       "version_minor": 0
      },
      "text/plain": [
       "Processing channels in D7-7:   0%|          | 0/5 [00:00<?, ?it/s]"
      ]
     },
     "metadata": {},
     "output_type": "display_data"
    },
    {
     "data": {
      "application/vnd.jupyter.widget-view+json": {
       "model_id": "df0d16e44fad4c6babce6d944a98a203",
       "version_major": 2,
       "version_minor": 0
      },
      "text/plain": [
       "Processing channels in D8-1:   0%|          | 0/5 [00:00<?, ?it/s]"
      ]
     },
     "metadata": {},
     "output_type": "display_data"
    },
    {
     "data": {
      "application/vnd.jupyter.widget-view+json": {
       "model_id": "3090e6cdde2b4a71a1c0b1512d0ea2c7",
       "version_major": 2,
       "version_minor": 0
      },
      "text/plain": [
       "Processing channels in D8-2:   0%|          | 0/5 [00:00<?, ?it/s]"
      ]
     },
     "metadata": {},
     "output_type": "display_data"
    },
    {
     "data": {
      "application/vnd.jupyter.widget-view+json": {
       "model_id": "28e2760d06484958a06bfa249d238b59",
       "version_major": 2,
       "version_minor": 0
      },
      "text/plain": [
       "Processing channels in D8-3:   0%|          | 0/5 [00:00<?, ?it/s]"
      ]
     },
     "metadata": {},
     "output_type": "display_data"
    },
    {
     "data": {
      "application/vnd.jupyter.widget-view+json": {
       "model_id": "96f00e755b2d42c8b99bb7ecb722d169",
       "version_major": 2,
       "version_minor": 0
      },
      "text/plain": [
       "Processing channels in D8-4:   0%|          | 0/5 [00:00<?, ?it/s]"
      ]
     },
     "metadata": {},
     "output_type": "display_data"
    },
    {
     "data": {
      "application/vnd.jupyter.widget-view+json": {
       "model_id": "f261c686405042478f7efc4127e24813",
       "version_major": 2,
       "version_minor": 0
      },
      "text/plain": [
       "Processing channels in D8-5:   0%|          | 0/5 [00:00<?, ?it/s]"
      ]
     },
     "metadata": {},
     "output_type": "display_data"
    },
    {
     "data": {
      "application/vnd.jupyter.widget-view+json": {
       "model_id": "a961bd8ac1754b2ab2483c012598bbe6",
       "version_major": 2,
       "version_minor": 0
      },
      "text/plain": [
       "Processing channels in D8-6:   0%|          | 0/5 [00:00<?, ?it/s]"
      ]
     },
     "metadata": {},
     "output_type": "display_data"
    },
    {
     "data": {
      "application/vnd.jupyter.widget-view+json": {
       "model_id": "ee14a76f4b794774a5f76110bb761248",
       "version_major": 2,
       "version_minor": 0
      },
      "text/plain": [
       "Processing channels in D8-7:   0%|          | 0/5 [00:00<?, ?it/s]"
      ]
     },
     "metadata": {},
     "output_type": "display_data"
    },
    {
     "data": {
      "application/vnd.jupyter.widget-view+json": {
       "model_id": "ae4b10b25997440e9b30f5db0e6d7b6b",
       "version_major": 2,
       "version_minor": 0
      },
      "text/plain": [
       "Processing channels in D9-1:   0%|          | 0/5 [00:00<?, ?it/s]"
      ]
     },
     "metadata": {},
     "output_type": "display_data"
    },
    {
     "data": {
      "application/vnd.jupyter.widget-view+json": {
       "model_id": "a4fae34bf11644cebf5b0ae761968f66",
       "version_major": 2,
       "version_minor": 0
      },
      "text/plain": [
       "Processing channels in D9-2:   0%|          | 0/5 [00:00<?, ?it/s]"
      ]
     },
     "metadata": {},
     "output_type": "display_data"
    },
    {
     "data": {
      "application/vnd.jupyter.widget-view+json": {
       "model_id": "3e097d1e85c349d980a58637e6efbaaf",
       "version_major": 2,
       "version_minor": 0
      },
      "text/plain": [
       "Processing channels in D9-3:   0%|          | 0/5 [00:00<?, ?it/s]"
      ]
     },
     "metadata": {},
     "output_type": "display_data"
    },
    {
     "data": {
      "application/vnd.jupyter.widget-view+json": {
       "model_id": "823db50f62b442878df69ee42e727443",
       "version_major": 2,
       "version_minor": 0
      },
      "text/plain": [
       "Processing channels in D9-4:   0%|          | 0/5 [00:00<?, ?it/s]"
      ]
     },
     "metadata": {},
     "output_type": "display_data"
    },
    {
     "data": {
      "application/vnd.jupyter.widget-view+json": {
       "model_id": "fcb4820ac39241c3a77eb6206f516f44",
       "version_major": 2,
       "version_minor": 0
      },
      "text/plain": [
       "Processing channels in D9-5:   0%|          | 0/5 [00:00<?, ?it/s]"
      ]
     },
     "metadata": {},
     "output_type": "display_data"
    },
    {
     "data": {
      "application/vnd.jupyter.widget-view+json": {
       "model_id": "97dd40b51c27424080648592b7b67604",
       "version_major": 2,
       "version_minor": 0
      },
      "text/plain": [
       "Processing channels in D9-6:   0%|          | 0/5 [00:00<?, ?it/s]"
      ]
     },
     "metadata": {},
     "output_type": "display_data"
    },
    {
     "data": {
      "application/vnd.jupyter.widget-view+json": {
       "model_id": "cb072609aabe444c895e2c11a81321df",
       "version_major": 2,
       "version_minor": 0
      },
      "text/plain": [
       "Processing channels in D9-7:   0%|          | 0/5 [00:00<?, ?it/s]"
      ]
     },
     "metadata": {},
     "output_type": "display_data"
    },
    {
     "data": {
      "application/vnd.jupyter.widget-view+json": {
       "model_id": "b94251a756fa4d3ca97c937ea37a8e6d",
       "version_major": 2,
       "version_minor": 0
      },
      "text/plain": [
       "Processing channels in E10-1:   0%|          | 0/5 [00:00<?, ?it/s]"
      ]
     },
     "metadata": {},
     "output_type": "display_data"
    },
    {
     "data": {
      "application/vnd.jupyter.widget-view+json": {
       "model_id": "28bbb05472b54b3ab5bcb7571fd46e7e",
       "version_major": 2,
       "version_minor": 0
      },
      "text/plain": [
       "Processing channels in E10-2:   0%|          | 0/5 [00:00<?, ?it/s]"
      ]
     },
     "metadata": {},
     "output_type": "display_data"
    },
    {
     "data": {
      "application/vnd.jupyter.widget-view+json": {
       "model_id": "93f77774514f4db1b4d1b1226cfd009e",
       "version_major": 2,
       "version_minor": 0
      },
      "text/plain": [
       "Processing channels in E10-3:   0%|          | 0/5 [00:00<?, ?it/s]"
      ]
     },
     "metadata": {},
     "output_type": "display_data"
    },
    {
     "data": {
      "application/vnd.jupyter.widget-view+json": {
       "model_id": "fd8d0f96ec0c4804a37d53c14898c5c4",
       "version_major": 2,
       "version_minor": 0
      },
      "text/plain": [
       "Processing channels in E10-4:   0%|          | 0/5 [00:00<?, ?it/s]"
      ]
     },
     "metadata": {},
     "output_type": "display_data"
    },
    {
     "data": {
      "application/vnd.jupyter.widget-view+json": {
       "model_id": "01691897d55e4fdabaede3975d937b0a",
       "version_major": 2,
       "version_minor": 0
      },
      "text/plain": [
       "Processing channels in E10-5:   0%|          | 0/5 [00:00<?, ?it/s]"
      ]
     },
     "metadata": {},
     "output_type": "display_data"
    },
    {
     "data": {
      "application/vnd.jupyter.widget-view+json": {
       "model_id": "b5193924b28c42e8bad06fabdd0f8155",
       "version_major": 2,
       "version_minor": 0
      },
      "text/plain": [
       "Processing channels in E10-6:   0%|          | 0/5 [00:00<?, ?it/s]"
      ]
     },
     "metadata": {},
     "output_type": "display_data"
    },
    {
     "data": {
      "application/vnd.jupyter.widget-view+json": {
       "model_id": "1fa88878b65f4b2a90aabb1b5f7c5291",
       "version_major": 2,
       "version_minor": 0
      },
      "text/plain": [
       "Processing channels in E10-7:   0%|          | 0/5 [00:00<?, ?it/s]"
      ]
     },
     "metadata": {},
     "output_type": "display_data"
    },
    {
     "data": {
      "application/vnd.jupyter.widget-view+json": {
       "model_id": "2103f6ff06c340dd9aec5896dddf4668",
       "version_major": 2,
       "version_minor": 0
      },
      "text/plain": [
       "Processing channels in E11-1:   0%|          | 0/5 [00:00<?, ?it/s]"
      ]
     },
     "metadata": {},
     "output_type": "display_data"
    },
    {
     "data": {
      "application/vnd.jupyter.widget-view+json": {
       "model_id": "5a401ae1fdcb4d13ae8610da4aef571c",
       "version_major": 2,
       "version_minor": 0
      },
      "text/plain": [
       "Processing channels in E11-2:   0%|          | 0/5 [00:00<?, ?it/s]"
      ]
     },
     "metadata": {},
     "output_type": "display_data"
    },
    {
     "data": {
      "application/vnd.jupyter.widget-view+json": {
       "model_id": "ba494b191e914665b792e5097ad91295",
       "version_major": 2,
       "version_minor": 0
      },
      "text/plain": [
       "Processing channels in E11-3:   0%|          | 0/5 [00:00<?, ?it/s]"
      ]
     },
     "metadata": {},
     "output_type": "display_data"
    },
    {
     "data": {
      "application/vnd.jupyter.widget-view+json": {
       "model_id": "33fc8617042c4164a18cb5d155586d1a",
       "version_major": 2,
       "version_minor": 0
      },
      "text/plain": [
       "Processing channels in E11-4:   0%|          | 0/5 [00:00<?, ?it/s]"
      ]
     },
     "metadata": {},
     "output_type": "display_data"
    },
    {
     "data": {
      "application/vnd.jupyter.widget-view+json": {
       "model_id": "b7495283b33445f78745c421fe09e38c",
       "version_major": 2,
       "version_minor": 0
      },
      "text/plain": [
       "Processing channels in E11-5:   0%|          | 0/5 [00:00<?, ?it/s]"
      ]
     },
     "metadata": {},
     "output_type": "display_data"
    },
    {
     "data": {
      "application/vnd.jupyter.widget-view+json": {
       "model_id": "fb86487bb03f408d8f799e19ce009c71",
       "version_major": 2,
       "version_minor": 0
      },
      "text/plain": [
       "Processing channels in E11-6:   0%|          | 0/5 [00:00<?, ?it/s]"
      ]
     },
     "metadata": {},
     "output_type": "display_data"
    },
    {
     "data": {
      "application/vnd.jupyter.widget-view+json": {
       "model_id": "4b18f63ad8bb45689c6cb1a79e8f94af",
       "version_major": 2,
       "version_minor": 0
      },
      "text/plain": [
       "Processing channels in E11-7:   0%|          | 0/5 [00:00<?, ?it/s]"
      ]
     },
     "metadata": {},
     "output_type": "display_data"
    },
    {
     "data": {
      "application/vnd.jupyter.widget-view+json": {
       "model_id": "830da7cfa4b0422eb0bd3b79d2e0f412",
       "version_major": 2,
       "version_minor": 0
      },
      "text/plain": [
       "Processing channels in E2-1:   0%|          | 0/5 [00:00<?, ?it/s]"
      ]
     },
     "metadata": {},
     "output_type": "display_data"
    },
    {
     "data": {
      "application/vnd.jupyter.widget-view+json": {
       "model_id": "953d82dc646e48f3b2fd19e1805715cc",
       "version_major": 2,
       "version_minor": 0
      },
      "text/plain": [
       "Processing channels in E2-2:   0%|          | 0/5 [00:00<?, ?it/s]"
      ]
     },
     "metadata": {},
     "output_type": "display_data"
    },
    {
     "data": {
      "application/vnd.jupyter.widget-view+json": {
       "model_id": "3bcfc579493542a8ab89cfa8ddd9c676",
       "version_major": 2,
       "version_minor": 0
      },
      "text/plain": [
       "Processing channels in E2-3:   0%|          | 0/5 [00:00<?, ?it/s]"
      ]
     },
     "metadata": {},
     "output_type": "display_data"
    },
    {
     "data": {
      "application/vnd.jupyter.widget-view+json": {
       "model_id": "76892b8419004940a45fc7b9d77f96b9",
       "version_major": 2,
       "version_minor": 0
      },
      "text/plain": [
       "Processing channels in E2-4:   0%|          | 0/5 [00:00<?, ?it/s]"
      ]
     },
     "metadata": {},
     "output_type": "display_data"
    },
    {
     "data": {
      "application/vnd.jupyter.widget-view+json": {
       "model_id": "7e29c959bf6e4146a7c91aeea10aa3fd",
       "version_major": 2,
       "version_minor": 0
      },
      "text/plain": [
       "Processing channels in E2-5:   0%|          | 0/5 [00:00<?, ?it/s]"
      ]
     },
     "metadata": {},
     "output_type": "display_data"
    },
    {
     "data": {
      "application/vnd.jupyter.widget-view+json": {
       "model_id": "43e0c4edd1474744aa5e289a16e65c16",
       "version_major": 2,
       "version_minor": 0
      },
      "text/plain": [
       "Processing channels in E2-6:   0%|          | 0/5 [00:00<?, ?it/s]"
      ]
     },
     "metadata": {},
     "output_type": "display_data"
    },
    {
     "data": {
      "application/vnd.jupyter.widget-view+json": {
       "model_id": "bb6c7adfafe54828adf70a080b937e20",
       "version_major": 2,
       "version_minor": 0
      },
      "text/plain": [
       "Processing channels in E2-7:   0%|          | 0/5 [00:00<?, ?it/s]"
      ]
     },
     "metadata": {},
     "output_type": "display_data"
    },
    {
     "data": {
      "application/vnd.jupyter.widget-view+json": {
       "model_id": "65f1bbde2a6c4efdb97843ebec6d9ac1",
       "version_major": 2,
       "version_minor": 0
      },
      "text/plain": [
       "Processing channels in E3-1:   0%|          | 0/5 [00:00<?, ?it/s]"
      ]
     },
     "metadata": {},
     "output_type": "display_data"
    },
    {
     "data": {
      "application/vnd.jupyter.widget-view+json": {
       "model_id": "a5e4a476d6c746bead6d03dfaef4cf23",
       "version_major": 2,
       "version_minor": 0
      },
      "text/plain": [
       "Processing channels in E3-2:   0%|          | 0/5 [00:00<?, ?it/s]"
      ]
     },
     "metadata": {},
     "output_type": "display_data"
    },
    {
     "data": {
      "application/vnd.jupyter.widget-view+json": {
       "model_id": "226912e5b2564f0fbc5acc6c2539ca18",
       "version_major": 2,
       "version_minor": 0
      },
      "text/plain": [
       "Processing channels in E3-3:   0%|          | 0/5 [00:00<?, ?it/s]"
      ]
     },
     "metadata": {},
     "output_type": "display_data"
    },
    {
     "data": {
      "application/vnd.jupyter.widget-view+json": {
       "model_id": "8d3dbb2626444f98b7ed2fb3eaec542d",
       "version_major": 2,
       "version_minor": 0
      },
      "text/plain": [
       "Processing channels in E3-4:   0%|          | 0/5 [00:00<?, ?it/s]"
      ]
     },
     "metadata": {},
     "output_type": "display_data"
    },
    {
     "data": {
      "application/vnd.jupyter.widget-view+json": {
       "model_id": "d5665cb82bc14cdd8b7f34c43164f037",
       "version_major": 2,
       "version_minor": 0
      },
      "text/plain": [
       "Processing channels in E3-5:   0%|          | 0/5 [00:00<?, ?it/s]"
      ]
     },
     "metadata": {},
     "output_type": "display_data"
    },
    {
     "data": {
      "application/vnd.jupyter.widget-view+json": {
       "model_id": "228713db1eba4457822c28dffc36df39",
       "version_major": 2,
       "version_minor": 0
      },
      "text/plain": [
       "Processing channels in E3-6:   0%|          | 0/5 [00:00<?, ?it/s]"
      ]
     },
     "metadata": {},
     "output_type": "display_data"
    },
    {
     "data": {
      "application/vnd.jupyter.widget-view+json": {
       "model_id": "2074d3a0075043d7802dbc8ba48fd941",
       "version_major": 2,
       "version_minor": 0
      },
      "text/plain": [
       "Processing channels in E3-7:   0%|          | 0/5 [00:00<?, ?it/s]"
      ]
     },
     "metadata": {},
     "output_type": "display_data"
    },
    {
     "data": {
      "application/vnd.jupyter.widget-view+json": {
       "model_id": "f1881dee92754fcc8eee2d408e5430ff",
       "version_major": 2,
       "version_minor": 0
      },
      "text/plain": [
       "Processing channels in E4-1:   0%|          | 0/5 [00:00<?, ?it/s]"
      ]
     },
     "metadata": {},
     "output_type": "display_data"
    },
    {
     "data": {
      "application/vnd.jupyter.widget-view+json": {
       "model_id": "4caf94c4401546e8a6e279746141f963",
       "version_major": 2,
       "version_minor": 0
      },
      "text/plain": [
       "Processing channels in E4-2:   0%|          | 0/5 [00:00<?, ?it/s]"
      ]
     },
     "metadata": {},
     "output_type": "display_data"
    },
    {
     "data": {
      "application/vnd.jupyter.widget-view+json": {
       "model_id": "8f2e002e85f445a9be1d933ab86e5c5a",
       "version_major": 2,
       "version_minor": 0
      },
      "text/plain": [
       "Processing channels in E4-3:   0%|          | 0/5 [00:00<?, ?it/s]"
      ]
     },
     "metadata": {},
     "output_type": "display_data"
    },
    {
     "data": {
      "application/vnd.jupyter.widget-view+json": {
       "model_id": "617d3aca62144c6da327601565aa430a",
       "version_major": 2,
       "version_minor": 0
      },
      "text/plain": [
       "Processing channels in E4-4:   0%|          | 0/5 [00:00<?, ?it/s]"
      ]
     },
     "metadata": {},
     "output_type": "display_data"
    },
    {
     "data": {
      "application/vnd.jupyter.widget-view+json": {
       "model_id": "0648a026b1dc4267aa77db10032b9566",
       "version_major": 2,
       "version_minor": 0
      },
      "text/plain": [
       "Processing channels in E4-5:   0%|          | 0/5 [00:00<?, ?it/s]"
      ]
     },
     "metadata": {},
     "output_type": "display_data"
    },
    {
     "data": {
      "application/vnd.jupyter.widget-view+json": {
       "model_id": "1c1395460ab041efb5310570222bf184",
       "version_major": 2,
       "version_minor": 0
      },
      "text/plain": [
       "Processing channels in E4-6:   0%|          | 0/5 [00:00<?, ?it/s]"
      ]
     },
     "metadata": {},
     "output_type": "display_data"
    },
    {
     "data": {
      "application/vnd.jupyter.widget-view+json": {
       "model_id": "680419ddac144847881410b430844f78",
       "version_major": 2,
       "version_minor": 0
      },
      "text/plain": [
       "Processing channels in E4-7:   0%|          | 0/5 [00:00<?, ?it/s]"
      ]
     },
     "metadata": {},
     "output_type": "display_data"
    },
    {
     "data": {
      "application/vnd.jupyter.widget-view+json": {
       "model_id": "e268038d883b466f9a6dc89542bf79f2",
       "version_major": 2,
       "version_minor": 0
      },
      "text/plain": [
       "Processing channels in E5-1:   0%|          | 0/5 [00:00<?, ?it/s]"
      ]
     },
     "metadata": {},
     "output_type": "display_data"
    },
    {
     "data": {
      "application/vnd.jupyter.widget-view+json": {
       "model_id": "e3ef0e9c2cf040f7bd858419a7ddcbe3",
       "version_major": 2,
       "version_minor": 0
      },
      "text/plain": [
       "Processing channels in E5-2:   0%|          | 0/5 [00:00<?, ?it/s]"
      ]
     },
     "metadata": {},
     "output_type": "display_data"
    },
    {
     "data": {
      "application/vnd.jupyter.widget-view+json": {
       "model_id": "33303cdda2624d49a1b67ec053406e30",
       "version_major": 2,
       "version_minor": 0
      },
      "text/plain": [
       "Processing channels in E5-3:   0%|          | 0/5 [00:00<?, ?it/s]"
      ]
     },
     "metadata": {},
     "output_type": "display_data"
    },
    {
     "data": {
      "application/vnd.jupyter.widget-view+json": {
       "model_id": "e59941f0242743b5811c9b2834f9dea7",
       "version_major": 2,
       "version_minor": 0
      },
      "text/plain": [
       "Processing channels in E5-4:   0%|          | 0/5 [00:00<?, ?it/s]"
      ]
     },
     "metadata": {},
     "output_type": "display_data"
    },
    {
     "data": {
      "application/vnd.jupyter.widget-view+json": {
       "model_id": "b83f64798c5d43c3a2c6f0dbae2d6ad6",
       "version_major": 2,
       "version_minor": 0
      },
      "text/plain": [
       "Processing channels in E5-5:   0%|          | 0/5 [00:00<?, ?it/s]"
      ]
     },
     "metadata": {},
     "output_type": "display_data"
    },
    {
     "data": {
      "application/vnd.jupyter.widget-view+json": {
       "model_id": "0d0ae8bfcf774c519e20d00c3dc7738f",
       "version_major": 2,
       "version_minor": 0
      },
      "text/plain": [
       "Processing channels in E5-6:   0%|          | 0/5 [00:00<?, ?it/s]"
      ]
     },
     "metadata": {},
     "output_type": "display_data"
    },
    {
     "data": {
      "application/vnd.jupyter.widget-view+json": {
       "model_id": "2d4e6915eab9443698c7beeedb914894",
       "version_major": 2,
       "version_minor": 0
      },
      "text/plain": [
       "Processing channels in E5-7:   0%|          | 0/5 [00:00<?, ?it/s]"
      ]
     },
     "metadata": {},
     "output_type": "display_data"
    },
    {
     "data": {
      "application/vnd.jupyter.widget-view+json": {
       "model_id": "f0b69cc5064e458d927245816ed6d7f6",
       "version_major": 2,
       "version_minor": 0
      },
      "text/plain": [
       "Processing channels in E6-1:   0%|          | 0/5 [00:00<?, ?it/s]"
      ]
     },
     "metadata": {},
     "output_type": "display_data"
    },
    {
     "data": {
      "application/vnd.jupyter.widget-view+json": {
       "model_id": "5806b2b0a6b047cd94ee5801fe570f6d",
       "version_major": 2,
       "version_minor": 0
      },
      "text/plain": [
       "Processing channels in E6-2:   0%|          | 0/5 [00:00<?, ?it/s]"
      ]
     },
     "metadata": {},
     "output_type": "display_data"
    },
    {
     "data": {
      "application/vnd.jupyter.widget-view+json": {
       "model_id": "b6392689d5014272bcfbe28366cdc597",
       "version_major": 2,
       "version_minor": 0
      },
      "text/plain": [
       "Processing channels in E6-3:   0%|          | 0/5 [00:00<?, ?it/s]"
      ]
     },
     "metadata": {},
     "output_type": "display_data"
    },
    {
     "data": {
      "application/vnd.jupyter.widget-view+json": {
       "model_id": "b8a0ef42234543ba84f64983f08b8d49",
       "version_major": 2,
       "version_minor": 0
      },
      "text/plain": [
       "Processing channels in E6-4:   0%|          | 0/5 [00:00<?, ?it/s]"
      ]
     },
     "metadata": {},
     "output_type": "display_data"
    },
    {
     "data": {
      "application/vnd.jupyter.widget-view+json": {
       "model_id": "5ee12c22154e410ca2450cb82c5a4b84",
       "version_major": 2,
       "version_minor": 0
      },
      "text/plain": [
       "Processing channels in E6-5:   0%|          | 0/5 [00:00<?, ?it/s]"
      ]
     },
     "metadata": {},
     "output_type": "display_data"
    },
    {
     "data": {
      "application/vnd.jupyter.widget-view+json": {
       "model_id": "5406059851ab4b17b1f26881fbbb02b0",
       "version_major": 2,
       "version_minor": 0
      },
      "text/plain": [
       "Processing channels in E6-6:   0%|          | 0/5 [00:00<?, ?it/s]"
      ]
     },
     "metadata": {},
     "output_type": "display_data"
    },
    {
     "data": {
      "application/vnd.jupyter.widget-view+json": {
       "model_id": "b4281df5c8b4481cbd8b034adf45fcbb",
       "version_major": 2,
       "version_minor": 0
      },
      "text/plain": [
       "Processing channels in E6-7:   0%|          | 0/5 [00:00<?, ?it/s]"
      ]
     },
     "metadata": {},
     "output_type": "display_data"
    },
    {
     "data": {
      "application/vnd.jupyter.widget-view+json": {
       "model_id": "47f10463b56a4288ad08b7e087a1b9d0",
       "version_major": 2,
       "version_minor": 0
      },
      "text/plain": [
       "Processing channels in E7-1:   0%|          | 0/5 [00:00<?, ?it/s]"
      ]
     },
     "metadata": {},
     "output_type": "display_data"
    },
    {
     "data": {
      "application/vnd.jupyter.widget-view+json": {
       "model_id": "c54edec329e747f09a9493ca86ef178d",
       "version_major": 2,
       "version_minor": 0
      },
      "text/plain": [
       "Processing channels in E7-2:   0%|          | 0/5 [00:00<?, ?it/s]"
      ]
     },
     "metadata": {},
     "output_type": "display_data"
    },
    {
     "data": {
      "application/vnd.jupyter.widget-view+json": {
       "model_id": "e94a72a1010644e388c26f7ac212977f",
       "version_major": 2,
       "version_minor": 0
      },
      "text/plain": [
       "Processing channels in E7-3:   0%|          | 0/5 [00:00<?, ?it/s]"
      ]
     },
     "metadata": {},
     "output_type": "display_data"
    },
    {
     "data": {
      "application/vnd.jupyter.widget-view+json": {
       "model_id": "4bd276ed85df4a9293e4f2ec59c91e29",
       "version_major": 2,
       "version_minor": 0
      },
      "text/plain": [
       "Processing channels in E7-4:   0%|          | 0/5 [00:00<?, ?it/s]"
      ]
     },
     "metadata": {},
     "output_type": "display_data"
    },
    {
     "data": {
      "application/vnd.jupyter.widget-view+json": {
       "model_id": "8bef7a54e0fb4a089a05a40aa11c23f0",
       "version_major": 2,
       "version_minor": 0
      },
      "text/plain": [
       "Processing channels in E7-5:   0%|          | 0/5 [00:00<?, ?it/s]"
      ]
     },
     "metadata": {},
     "output_type": "display_data"
    },
    {
     "data": {
      "application/vnd.jupyter.widget-view+json": {
       "model_id": "9537c71c862248b3b6cb069980a24041",
       "version_major": 2,
       "version_minor": 0
      },
      "text/plain": [
       "Processing channels in E7-6:   0%|          | 0/5 [00:00<?, ?it/s]"
      ]
     },
     "metadata": {},
     "output_type": "display_data"
    },
    {
     "data": {
      "application/vnd.jupyter.widget-view+json": {
       "model_id": "eb69447f4d1b46d3922b493806f06e6c",
       "version_major": 2,
       "version_minor": 0
      },
      "text/plain": [
       "Processing channels in E7-7:   0%|          | 0/5 [00:00<?, ?it/s]"
      ]
     },
     "metadata": {},
     "output_type": "display_data"
    },
    {
     "data": {
      "application/vnd.jupyter.widget-view+json": {
       "model_id": "c687ece0320e494d971fc5beca59c7d0",
       "version_major": 2,
       "version_minor": 0
      },
      "text/plain": [
       "Processing channels in E8-1:   0%|          | 0/5 [00:00<?, ?it/s]"
      ]
     },
     "metadata": {},
     "output_type": "display_data"
    },
    {
     "data": {
      "application/vnd.jupyter.widget-view+json": {
       "model_id": "608961477bde4998b8cbe7499e786801",
       "version_major": 2,
       "version_minor": 0
      },
      "text/plain": [
       "Processing channels in E8-2:   0%|          | 0/5 [00:00<?, ?it/s]"
      ]
     },
     "metadata": {},
     "output_type": "display_data"
    },
    {
     "data": {
      "application/vnd.jupyter.widget-view+json": {
       "model_id": "b36f6ed470594c07bf7143d8cf39f290",
       "version_major": 2,
       "version_minor": 0
      },
      "text/plain": [
       "Processing channels in E8-3:   0%|          | 0/5 [00:00<?, ?it/s]"
      ]
     },
     "metadata": {},
     "output_type": "display_data"
    },
    {
     "data": {
      "application/vnd.jupyter.widget-view+json": {
       "model_id": "9639c48cfcfd42859b6bed93ac00b37f",
       "version_major": 2,
       "version_minor": 0
      },
      "text/plain": [
       "Processing channels in E8-4:   0%|          | 0/5 [00:00<?, ?it/s]"
      ]
     },
     "metadata": {},
     "output_type": "display_data"
    },
    {
     "data": {
      "application/vnd.jupyter.widget-view+json": {
       "model_id": "3ccf2867f1ff49188aac440025eed9a4",
       "version_major": 2,
       "version_minor": 0
      },
      "text/plain": [
       "Processing channels in E8-5:   0%|          | 0/5 [00:00<?, ?it/s]"
      ]
     },
     "metadata": {},
     "output_type": "display_data"
    },
    {
     "data": {
      "application/vnd.jupyter.widget-view+json": {
       "model_id": "4310b1554f7547f0b5751fc89d03fee3",
       "version_major": 2,
       "version_minor": 0
      },
      "text/plain": [
       "Processing channels in E8-6:   0%|          | 0/5 [00:00<?, ?it/s]"
      ]
     },
     "metadata": {},
     "output_type": "display_data"
    },
    {
     "data": {
      "application/vnd.jupyter.widget-view+json": {
       "model_id": "c19a983c91cf4deebb1c23ecc72851e1",
       "version_major": 2,
       "version_minor": 0
      },
      "text/plain": [
       "Processing channels in E8-7:   0%|          | 0/5 [00:00<?, ?it/s]"
      ]
     },
     "metadata": {},
     "output_type": "display_data"
    },
    {
     "data": {
      "application/vnd.jupyter.widget-view+json": {
       "model_id": "be991fdd3834422094369f6f8f1b0161",
       "version_major": 2,
       "version_minor": 0
      },
      "text/plain": [
       "Processing channels in E9-1:   0%|          | 0/5 [00:00<?, ?it/s]"
      ]
     },
     "metadata": {},
     "output_type": "display_data"
    },
    {
     "data": {
      "application/vnd.jupyter.widget-view+json": {
       "model_id": "1268f091db504d58bc0405a9e1bb472a",
       "version_major": 2,
       "version_minor": 0
      },
      "text/plain": [
       "Processing channels in E9-2:   0%|          | 0/5 [00:00<?, ?it/s]"
      ]
     },
     "metadata": {},
     "output_type": "display_data"
    },
    {
     "data": {
      "application/vnd.jupyter.widget-view+json": {
       "model_id": "ca5e42c4406a4b949391bdcf38dd0a74",
       "version_major": 2,
       "version_minor": 0
      },
      "text/plain": [
       "Processing channels in E9-4:   0%|          | 0/5 [00:00<?, ?it/s]"
      ]
     },
     "metadata": {},
     "output_type": "display_data"
    },
    {
     "data": {
      "application/vnd.jupyter.widget-view+json": {
       "model_id": "76b854eed78c4f139d4c6e65ca6a4533",
       "version_major": 2,
       "version_minor": 0
      },
      "text/plain": [
       "Processing channels in E9-5:   0%|          | 0/5 [00:00<?, ?it/s]"
      ]
     },
     "metadata": {},
     "output_type": "display_data"
    },
    {
     "data": {
      "application/vnd.jupyter.widget-view+json": {
       "model_id": "98de44f3952f4a8f8e2d75b311aa85d4",
       "version_major": 2,
       "version_minor": 0
      },
      "text/plain": [
       "Processing channels in E9-6:   0%|          | 0/5 [00:00<?, ?it/s]"
      ]
     },
     "metadata": {},
     "output_type": "display_data"
    },
    {
     "data": {
      "application/vnd.jupyter.widget-view+json": {
       "model_id": "ec670e6c668d4048a788eac0e5fe5802",
       "version_major": 2,
       "version_minor": 0
      },
      "text/plain": [
       "Processing channels in E9-7:   0%|          | 0/5 [00:00<?, ?it/s]"
      ]
     },
     "metadata": {},
     "output_type": "display_data"
    },
    {
     "data": {
      "application/vnd.jupyter.widget-view+json": {
       "model_id": "6e28d0bceaf44413a20e1d854cc12230",
       "version_major": 2,
       "version_minor": 0
      },
      "text/plain": [
       "Processing channels in F10-1:   0%|          | 0/5 [00:00<?, ?it/s]"
      ]
     },
     "metadata": {},
     "output_type": "display_data"
    },
    {
     "data": {
      "application/vnd.jupyter.widget-view+json": {
       "model_id": "af8f18844752447d976b91bb080ab8af",
       "version_major": 2,
       "version_minor": 0
      },
      "text/plain": [
       "Processing channels in F10-2:   0%|          | 0/5 [00:00<?, ?it/s]"
      ]
     },
     "metadata": {},
     "output_type": "display_data"
    },
    {
     "data": {
      "application/vnd.jupyter.widget-view+json": {
       "model_id": "794647f08f814803ac1441c878d292ea",
       "version_major": 2,
       "version_minor": 0
      },
      "text/plain": [
       "Processing channels in F10-3:   0%|          | 0/5 [00:00<?, ?it/s]"
      ]
     },
     "metadata": {},
     "output_type": "display_data"
    },
    {
     "data": {
      "application/vnd.jupyter.widget-view+json": {
       "model_id": "f658b8472c0f4d0b8667e5a62f49bb83",
       "version_major": 2,
       "version_minor": 0
      },
      "text/plain": [
       "Processing channels in F10-4:   0%|          | 0/5 [00:00<?, ?it/s]"
      ]
     },
     "metadata": {},
     "output_type": "display_data"
    },
    {
     "data": {
      "application/vnd.jupyter.widget-view+json": {
       "model_id": "30a0d78b07e74d21bb6363d004285083",
       "version_major": 2,
       "version_minor": 0
      },
      "text/plain": [
       "Processing channels in F10-5:   0%|          | 0/5 [00:00<?, ?it/s]"
      ]
     },
     "metadata": {},
     "output_type": "display_data"
    },
    {
     "data": {
      "application/vnd.jupyter.widget-view+json": {
       "model_id": "3a0cbd621fd84644ad3840b41a6b08e3",
       "version_major": 2,
       "version_minor": 0
      },
      "text/plain": [
       "Processing channels in F10-6:   0%|          | 0/5 [00:00<?, ?it/s]"
      ]
     },
     "metadata": {},
     "output_type": "display_data"
    },
    {
     "data": {
      "application/vnd.jupyter.widget-view+json": {
       "model_id": "dd971c53eb794a8fb9726333f799ecd3",
       "version_major": 2,
       "version_minor": 0
      },
      "text/plain": [
       "Processing channels in F10-7:   0%|          | 0/5 [00:00<?, ?it/s]"
      ]
     },
     "metadata": {},
     "output_type": "display_data"
    },
    {
     "data": {
      "application/vnd.jupyter.widget-view+json": {
       "model_id": "f71ca94c6906463fa07b0b59d7bb7617",
       "version_major": 2,
       "version_minor": 0
      },
      "text/plain": [
       "Processing channels in F11-1:   0%|          | 0/5 [00:00<?, ?it/s]"
      ]
     },
     "metadata": {},
     "output_type": "display_data"
    },
    {
     "data": {
      "application/vnd.jupyter.widget-view+json": {
       "model_id": "35e27447ea0c46a89489f2b1ba9a0f6e",
       "version_major": 2,
       "version_minor": 0
      },
      "text/plain": [
       "Processing channels in F11-2:   0%|          | 0/5 [00:00<?, ?it/s]"
      ]
     },
     "metadata": {},
     "output_type": "display_data"
    },
    {
     "data": {
      "application/vnd.jupyter.widget-view+json": {
       "model_id": "6c36698c686044b085be81dfb494f314",
       "version_major": 2,
       "version_minor": 0
      },
      "text/plain": [
       "Processing channels in F11-3:   0%|          | 0/5 [00:00<?, ?it/s]"
      ]
     },
     "metadata": {},
     "output_type": "display_data"
    },
    {
     "data": {
      "application/vnd.jupyter.widget-view+json": {
       "model_id": "bdfb1fbcb9cd4c248a6e751f630402af",
       "version_major": 2,
       "version_minor": 0
      },
      "text/plain": [
       "Processing channels in F11-4:   0%|          | 0/5 [00:00<?, ?it/s]"
      ]
     },
     "metadata": {},
     "output_type": "display_data"
    },
    {
     "data": {
      "application/vnd.jupyter.widget-view+json": {
       "model_id": "65ad47bdf9ab4f7a88e2906fd9806840",
       "version_major": 2,
       "version_minor": 0
      },
      "text/plain": [
       "Processing channels in F11-5:   0%|          | 0/5 [00:00<?, ?it/s]"
      ]
     },
     "metadata": {},
     "output_type": "display_data"
    },
    {
     "data": {
      "application/vnd.jupyter.widget-view+json": {
       "model_id": "86b2437bfe1044f9b193d5e112683b4d",
       "version_major": 2,
       "version_minor": 0
      },
      "text/plain": [
       "Processing channels in F11-6:   0%|          | 0/5 [00:00<?, ?it/s]"
      ]
     },
     "metadata": {},
     "output_type": "display_data"
    },
    {
     "data": {
      "application/vnd.jupyter.widget-view+json": {
       "model_id": "12905eec3c86441fb0ba05709940436d",
       "version_major": 2,
       "version_minor": 0
      },
      "text/plain": [
       "Processing channels in F11-7:   0%|          | 0/5 [00:00<?, ?it/s]"
      ]
     },
     "metadata": {},
     "output_type": "display_data"
    },
    {
     "data": {
      "application/vnd.jupyter.widget-view+json": {
       "model_id": "e9879005ddcc4d458a02e5d1323f2ac4",
       "version_major": 2,
       "version_minor": 0
      },
      "text/plain": [
       "Processing channels in F2-1:   0%|          | 0/5 [00:00<?, ?it/s]"
      ]
     },
     "metadata": {},
     "output_type": "display_data"
    },
    {
     "data": {
      "application/vnd.jupyter.widget-view+json": {
       "model_id": "c02891f690684c62ad20c4e74dbc0213",
       "version_major": 2,
       "version_minor": 0
      },
      "text/plain": [
       "Processing channels in F2-2:   0%|          | 0/5 [00:00<?, ?it/s]"
      ]
     },
     "metadata": {},
     "output_type": "display_data"
    },
    {
     "data": {
      "application/vnd.jupyter.widget-view+json": {
       "model_id": "4ff59c1042ad4e418914f32fffe07c52",
       "version_major": 2,
       "version_minor": 0
      },
      "text/plain": [
       "Processing channels in F2-3:   0%|          | 0/5 [00:00<?, ?it/s]"
      ]
     },
     "metadata": {},
     "output_type": "display_data"
    },
    {
     "data": {
      "application/vnd.jupyter.widget-view+json": {
       "model_id": "40ddffb6c88449609d4dc2ace887c33a",
       "version_major": 2,
       "version_minor": 0
      },
      "text/plain": [
       "Processing channels in F2-4:   0%|          | 0/5 [00:00<?, ?it/s]"
      ]
     },
     "metadata": {},
     "output_type": "display_data"
    },
    {
     "data": {
      "application/vnd.jupyter.widget-view+json": {
       "model_id": "f5d2a364a772467592ad429ca3dfffc5",
       "version_major": 2,
       "version_minor": 0
      },
      "text/plain": [
       "Processing channels in F2-5:   0%|          | 0/5 [00:00<?, ?it/s]"
      ]
     },
     "metadata": {},
     "output_type": "display_data"
    },
    {
     "data": {
      "application/vnd.jupyter.widget-view+json": {
       "model_id": "62c575b032a94262813c6bc851532dc7",
       "version_major": 2,
       "version_minor": 0
      },
      "text/plain": [
       "Processing channels in F2-6:   0%|          | 0/5 [00:00<?, ?it/s]"
      ]
     },
     "metadata": {},
     "output_type": "display_data"
    },
    {
     "data": {
      "application/vnd.jupyter.widget-view+json": {
       "model_id": "90103366e26542d0bde1d3136e45329d",
       "version_major": 2,
       "version_minor": 0
      },
      "text/plain": [
       "Processing channels in F2-7:   0%|          | 0/5 [00:00<?, ?it/s]"
      ]
     },
     "metadata": {},
     "output_type": "display_data"
    },
    {
     "data": {
      "application/vnd.jupyter.widget-view+json": {
       "model_id": "215b46d429944077bc2aa41673d94fbb",
       "version_major": 2,
       "version_minor": 0
      },
      "text/plain": [
       "Processing channels in F3-1:   0%|          | 0/5 [00:00<?, ?it/s]"
      ]
     },
     "metadata": {},
     "output_type": "display_data"
    },
    {
     "data": {
      "application/vnd.jupyter.widget-view+json": {
       "model_id": "8719a9f0f428412385d5f2290fdfe504",
       "version_major": 2,
       "version_minor": 0
      },
      "text/plain": [
       "Processing channels in F3-2:   0%|          | 0/5 [00:00<?, ?it/s]"
      ]
     },
     "metadata": {},
     "output_type": "display_data"
    },
    {
     "data": {
      "application/vnd.jupyter.widget-view+json": {
       "model_id": "8bd5f13c5bdf4837897b90e97bd1c876",
       "version_major": 2,
       "version_minor": 0
      },
      "text/plain": [
       "Processing channels in F3-3:   0%|          | 0/5 [00:00<?, ?it/s]"
      ]
     },
     "metadata": {},
     "output_type": "display_data"
    },
    {
     "data": {
      "application/vnd.jupyter.widget-view+json": {
       "model_id": "5eee317803aa498a91ab90506b854fc3",
       "version_major": 2,
       "version_minor": 0
      },
      "text/plain": [
       "Processing channels in F3-4:   0%|          | 0/5 [00:00<?, ?it/s]"
      ]
     },
     "metadata": {},
     "output_type": "display_data"
    },
    {
     "data": {
      "application/vnd.jupyter.widget-view+json": {
       "model_id": "d78853c86e84415490a1ebf7ada865bf",
       "version_major": 2,
       "version_minor": 0
      },
      "text/plain": [
       "Processing channels in F3-5:   0%|          | 0/5 [00:00<?, ?it/s]"
      ]
     },
     "metadata": {},
     "output_type": "display_data"
    },
    {
     "data": {
      "application/vnd.jupyter.widget-view+json": {
       "model_id": "28c828ceed124dcdbafed3ded3b84637",
       "version_major": 2,
       "version_minor": 0
      },
      "text/plain": [
       "Processing channels in F3-6:   0%|          | 0/5 [00:00<?, ?it/s]"
      ]
     },
     "metadata": {},
     "output_type": "display_data"
    },
    {
     "data": {
      "application/vnd.jupyter.widget-view+json": {
       "model_id": "99128f37972a4b53aa36f4aae0980a13",
       "version_major": 2,
       "version_minor": 0
      },
      "text/plain": [
       "Processing channels in F3-7:   0%|          | 0/5 [00:00<?, ?it/s]"
      ]
     },
     "metadata": {},
     "output_type": "display_data"
    },
    {
     "data": {
      "application/vnd.jupyter.widget-view+json": {
       "model_id": "2864297358bf4baba2171927f9d94ecd",
       "version_major": 2,
       "version_minor": 0
      },
      "text/plain": [
       "Processing channels in F4-1:   0%|          | 0/5 [00:00<?, ?it/s]"
      ]
     },
     "metadata": {},
     "output_type": "display_data"
    },
    {
     "data": {
      "application/vnd.jupyter.widget-view+json": {
       "model_id": "3b6b851a0bca49f98e52c7498fd053cc",
       "version_major": 2,
       "version_minor": 0
      },
      "text/plain": [
       "Processing channels in F4-2:   0%|          | 0/5 [00:00<?, ?it/s]"
      ]
     },
     "metadata": {},
     "output_type": "display_data"
    },
    {
     "data": {
      "application/vnd.jupyter.widget-view+json": {
       "model_id": "e74cf32640e34178bbf0b18e3bd77922",
       "version_major": 2,
       "version_minor": 0
      },
      "text/plain": [
       "Processing channels in F4-3:   0%|          | 0/5 [00:00<?, ?it/s]"
      ]
     },
     "metadata": {},
     "output_type": "display_data"
    },
    {
     "data": {
      "application/vnd.jupyter.widget-view+json": {
       "model_id": "d877f96f028949ebbb54ac25fdd437de",
       "version_major": 2,
       "version_minor": 0
      },
      "text/plain": [
       "Processing channels in F4-4:   0%|          | 0/5 [00:00<?, ?it/s]"
      ]
     },
     "metadata": {},
     "output_type": "display_data"
    },
    {
     "data": {
      "application/vnd.jupyter.widget-view+json": {
       "model_id": "7499a881bb1b4b5580a0de0ce95e0122",
       "version_major": 2,
       "version_minor": 0
      },
      "text/plain": [
       "Processing channels in F4-5:   0%|          | 0/5 [00:00<?, ?it/s]"
      ]
     },
     "metadata": {},
     "output_type": "display_data"
    },
    {
     "data": {
      "application/vnd.jupyter.widget-view+json": {
       "model_id": "71c51a2b5c8b4a868b6e275c3dc1c9f4",
       "version_major": 2,
       "version_minor": 0
      },
      "text/plain": [
       "Processing channels in F4-6:   0%|          | 0/5 [00:00<?, ?it/s]"
      ]
     },
     "metadata": {},
     "output_type": "display_data"
    },
    {
     "data": {
      "application/vnd.jupyter.widget-view+json": {
       "model_id": "70f387422d4646c0ab34ba012b6c6210",
       "version_major": 2,
       "version_minor": 0
      },
      "text/plain": [
       "Processing channels in F4-7:   0%|          | 0/5 [00:00<?, ?it/s]"
      ]
     },
     "metadata": {},
     "output_type": "display_data"
    },
    {
     "data": {
      "application/vnd.jupyter.widget-view+json": {
       "model_id": "2889a847cc4e40aaa4b9f5edcc82df5c",
       "version_major": 2,
       "version_minor": 0
      },
      "text/plain": [
       "Processing channels in F5-1:   0%|          | 0/5 [00:00<?, ?it/s]"
      ]
     },
     "metadata": {},
     "output_type": "display_data"
    },
    {
     "data": {
      "application/vnd.jupyter.widget-view+json": {
       "model_id": "5d285e94e6634dbfb70ce0d1f269707b",
       "version_major": 2,
       "version_minor": 0
      },
      "text/plain": [
       "Processing channels in F5-2:   0%|          | 0/5 [00:00<?, ?it/s]"
      ]
     },
     "metadata": {},
     "output_type": "display_data"
    },
    {
     "data": {
      "application/vnd.jupyter.widget-view+json": {
       "model_id": "536d46f65aa34b2685f574c97df70a18",
       "version_major": 2,
       "version_minor": 0
      },
      "text/plain": [
       "Processing channels in F5-3:   0%|          | 0/5 [00:00<?, ?it/s]"
      ]
     },
     "metadata": {},
     "output_type": "display_data"
    },
    {
     "data": {
      "application/vnd.jupyter.widget-view+json": {
       "model_id": "939db5eee4d64a8e93a4cc6508d33b2c",
       "version_major": 2,
       "version_minor": 0
      },
      "text/plain": [
       "Processing channels in F5-4:   0%|          | 0/5 [00:00<?, ?it/s]"
      ]
     },
     "metadata": {},
     "output_type": "display_data"
    },
    {
     "data": {
      "application/vnd.jupyter.widget-view+json": {
       "model_id": "4e2ac350e54c42afb15e0fb8c37394d8",
       "version_major": 2,
       "version_minor": 0
      },
      "text/plain": [
       "Processing channels in F5-5:   0%|          | 0/5 [00:00<?, ?it/s]"
      ]
     },
     "metadata": {},
     "output_type": "display_data"
    },
    {
     "data": {
      "application/vnd.jupyter.widget-view+json": {
       "model_id": "f99f37c699184002885bc7009c93697c",
       "version_major": 2,
       "version_minor": 0
      },
      "text/plain": [
       "Processing channels in F5-6:   0%|          | 0/5 [00:00<?, ?it/s]"
      ]
     },
     "metadata": {},
     "output_type": "display_data"
    },
    {
     "data": {
      "application/vnd.jupyter.widget-view+json": {
       "model_id": "e6b52f0af9b047858495f895fc439db8",
       "version_major": 2,
       "version_minor": 0
      },
      "text/plain": [
       "Processing channels in F5-7:   0%|          | 0/5 [00:00<?, ?it/s]"
      ]
     },
     "metadata": {},
     "output_type": "display_data"
    },
    {
     "data": {
      "application/vnd.jupyter.widget-view+json": {
       "model_id": "4c22a9780551400a84038289b52cae0f",
       "version_major": 2,
       "version_minor": 0
      },
      "text/plain": [
       "Processing channels in F6-1:   0%|          | 0/5 [00:00<?, ?it/s]"
      ]
     },
     "metadata": {},
     "output_type": "display_data"
    },
    {
     "data": {
      "application/vnd.jupyter.widget-view+json": {
       "model_id": "0fec07b1fd00472abe907ffe5afe3fa2",
       "version_major": 2,
       "version_minor": 0
      },
      "text/plain": [
       "Processing channels in F6-2:   0%|          | 0/5 [00:00<?, ?it/s]"
      ]
     },
     "metadata": {},
     "output_type": "display_data"
    },
    {
     "data": {
      "application/vnd.jupyter.widget-view+json": {
       "model_id": "37007f2badff40e9a8c23e008e3ce21a",
       "version_major": 2,
       "version_minor": 0
      },
      "text/plain": [
       "Processing channels in F6-3:   0%|          | 0/5 [00:00<?, ?it/s]"
      ]
     },
     "metadata": {},
     "output_type": "display_data"
    },
    {
     "data": {
      "application/vnd.jupyter.widget-view+json": {
       "model_id": "62c2f6f1824a4dc9b7f5cbbd6e2a5b2a",
       "version_major": 2,
       "version_minor": 0
      },
      "text/plain": [
       "Processing channels in F6-4:   0%|          | 0/5 [00:00<?, ?it/s]"
      ]
     },
     "metadata": {},
     "output_type": "display_data"
    },
    {
     "data": {
      "application/vnd.jupyter.widget-view+json": {
       "model_id": "3af9b7dfff5c47048c971e47bd8785d7",
       "version_major": 2,
       "version_minor": 0
      },
      "text/plain": [
       "Processing channels in F6-5:   0%|          | 0/5 [00:00<?, ?it/s]"
      ]
     },
     "metadata": {},
     "output_type": "display_data"
    },
    {
     "data": {
      "application/vnd.jupyter.widget-view+json": {
       "model_id": "028238d8e4844be29edb460d151c98cb",
       "version_major": 2,
       "version_minor": 0
      },
      "text/plain": [
       "Processing channels in F6-6:   0%|          | 0/5 [00:00<?, ?it/s]"
      ]
     },
     "metadata": {},
     "output_type": "display_data"
    },
    {
     "data": {
      "application/vnd.jupyter.widget-view+json": {
       "model_id": "21e65e3799ec40569eb963ab26dbcd83",
       "version_major": 2,
       "version_minor": 0
      },
      "text/plain": [
       "Processing channels in F6-7:   0%|          | 0/5 [00:00<?, ?it/s]"
      ]
     },
     "metadata": {},
     "output_type": "display_data"
    },
    {
     "data": {
      "application/vnd.jupyter.widget-view+json": {
       "model_id": "4420388dce174388a90d2a3c55385171",
       "version_major": 2,
       "version_minor": 0
      },
      "text/plain": [
       "Processing channels in F7-1:   0%|          | 0/5 [00:00<?, ?it/s]"
      ]
     },
     "metadata": {},
     "output_type": "display_data"
    },
    {
     "data": {
      "application/vnd.jupyter.widget-view+json": {
       "model_id": "5b916ebabc8e48f88f56086b1f8e9122",
       "version_major": 2,
       "version_minor": 0
      },
      "text/plain": [
       "Processing channels in F7-2:   0%|          | 0/5 [00:00<?, ?it/s]"
      ]
     },
     "metadata": {},
     "output_type": "display_data"
    },
    {
     "data": {
      "application/vnd.jupyter.widget-view+json": {
       "model_id": "22334201868c42beb3057eb11209b907",
       "version_major": 2,
       "version_minor": 0
      },
      "text/plain": [
       "Processing channels in F7-3:   0%|          | 0/5 [00:00<?, ?it/s]"
      ]
     },
     "metadata": {},
     "output_type": "display_data"
    },
    {
     "data": {
      "application/vnd.jupyter.widget-view+json": {
       "model_id": "badacf883c07488eb6b470bea41370d7",
       "version_major": 2,
       "version_minor": 0
      },
      "text/plain": [
       "Processing channels in F7-4:   0%|          | 0/5 [00:00<?, ?it/s]"
      ]
     },
     "metadata": {},
     "output_type": "display_data"
    },
    {
     "data": {
      "application/vnd.jupyter.widget-view+json": {
       "model_id": "072bac5833654171a699238cd72c850e",
       "version_major": 2,
       "version_minor": 0
      },
      "text/plain": [
       "Processing channels in F7-5:   0%|          | 0/5 [00:00<?, ?it/s]"
      ]
     },
     "metadata": {},
     "output_type": "display_data"
    },
    {
     "data": {
      "application/vnd.jupyter.widget-view+json": {
       "model_id": "c8b4d09b59b449379b79b06ad25425db",
       "version_major": 2,
       "version_minor": 0
      },
      "text/plain": [
       "Processing channels in F7-6:   0%|          | 0/5 [00:00<?, ?it/s]"
      ]
     },
     "metadata": {},
     "output_type": "display_data"
    },
    {
     "data": {
      "application/vnd.jupyter.widget-view+json": {
       "model_id": "0ef74e436f2540b781dba6b72fb73643",
       "version_major": 2,
       "version_minor": 0
      },
      "text/plain": [
       "Processing channels in F7-7:   0%|          | 0/5 [00:00<?, ?it/s]"
      ]
     },
     "metadata": {},
     "output_type": "display_data"
    },
    {
     "data": {
      "application/vnd.jupyter.widget-view+json": {
       "model_id": "25a6aed1bb8d4975936f0ebd04194c5c",
       "version_major": 2,
       "version_minor": 0
      },
      "text/plain": [
       "Processing channels in F8-1:   0%|          | 0/5 [00:00<?, ?it/s]"
      ]
     },
     "metadata": {},
     "output_type": "display_data"
    },
    {
     "data": {
      "application/vnd.jupyter.widget-view+json": {
       "model_id": "b74d38d42a384ecaa4192a98b612d9dd",
       "version_major": 2,
       "version_minor": 0
      },
      "text/plain": [
       "Processing channels in F8-2:   0%|          | 0/5 [00:00<?, ?it/s]"
      ]
     },
     "metadata": {},
     "output_type": "display_data"
    },
    {
     "data": {
      "application/vnd.jupyter.widget-view+json": {
       "model_id": "397896a5c62d442f9bd617bfa5ebe605",
       "version_major": 2,
       "version_minor": 0
      },
      "text/plain": [
       "Processing channels in F8-3:   0%|          | 0/5 [00:00<?, ?it/s]"
      ]
     },
     "metadata": {},
     "output_type": "display_data"
    },
    {
     "data": {
      "application/vnd.jupyter.widget-view+json": {
       "model_id": "9a9b3775b2c84502af5c4ecbedae6fba",
       "version_major": 2,
       "version_minor": 0
      },
      "text/plain": [
       "Processing channels in F8-4:   0%|          | 0/5 [00:00<?, ?it/s]"
      ]
     },
     "metadata": {},
     "output_type": "display_data"
    },
    {
     "data": {
      "application/vnd.jupyter.widget-view+json": {
       "model_id": "b5533c2945704d099297470920a36f49",
       "version_major": 2,
       "version_minor": 0
      },
      "text/plain": [
       "Processing channels in F8-5:   0%|          | 0/5 [00:00<?, ?it/s]"
      ]
     },
     "metadata": {},
     "output_type": "display_data"
    },
    {
     "data": {
      "application/vnd.jupyter.widget-view+json": {
       "model_id": "20b16b9a149146e1ad31533c9c1c65ad",
       "version_major": 2,
       "version_minor": 0
      },
      "text/plain": [
       "Processing channels in F8-6:   0%|          | 0/5 [00:00<?, ?it/s]"
      ]
     },
     "metadata": {},
     "output_type": "display_data"
    },
    {
     "data": {
      "application/vnd.jupyter.widget-view+json": {
       "model_id": "051c55b656e34f0281286d64b7e49ee9",
       "version_major": 2,
       "version_minor": 0
      },
      "text/plain": [
       "Processing channels in F8-7:   0%|          | 0/5 [00:00<?, ?it/s]"
      ]
     },
     "metadata": {},
     "output_type": "display_data"
    },
    {
     "data": {
      "application/vnd.jupyter.widget-view+json": {
       "model_id": "c91fbe4b3e2443c3bb9728d7c2ae57e3",
       "version_major": 2,
       "version_minor": 0
      },
      "text/plain": [
       "Processing channels in F9-1:   0%|          | 0/5 [00:00<?, ?it/s]"
      ]
     },
     "metadata": {},
     "output_type": "display_data"
    },
    {
     "data": {
      "application/vnd.jupyter.widget-view+json": {
       "model_id": "2faa3313c84a48c58779074f4d0ef7ca",
       "version_major": 2,
       "version_minor": 0
      },
      "text/plain": [
       "Processing channels in F9-2:   0%|          | 0/5 [00:00<?, ?it/s]"
      ]
     },
     "metadata": {},
     "output_type": "display_data"
    },
    {
     "data": {
      "application/vnd.jupyter.widget-view+json": {
       "model_id": "3d723a4db22745b5a9fc4bc7df701d4b",
       "version_major": 2,
       "version_minor": 0
      },
      "text/plain": [
       "Processing channels in F9-3:   0%|          | 0/5 [00:00<?, ?it/s]"
      ]
     },
     "metadata": {},
     "output_type": "display_data"
    },
    {
     "data": {
      "application/vnd.jupyter.widget-view+json": {
       "model_id": "ab3d46fa7d484c1a918212d90c3cceff",
       "version_major": 2,
       "version_minor": 0
      },
      "text/plain": [
       "Processing channels in F9-4:   0%|          | 0/5 [00:00<?, ?it/s]"
      ]
     },
     "metadata": {},
     "output_type": "display_data"
    },
    {
     "data": {
      "application/vnd.jupyter.widget-view+json": {
       "model_id": "05677c9d6a8a4eb58f5496a93590ae98",
       "version_major": 2,
       "version_minor": 0
      },
      "text/plain": [
       "Processing channels in F9-5:   0%|          | 0/5 [00:00<?, ?it/s]"
      ]
     },
     "metadata": {},
     "output_type": "display_data"
    },
    {
     "data": {
      "application/vnd.jupyter.widget-view+json": {
       "model_id": "1efd0add047c42899764ee02f5f8db13",
       "version_major": 2,
       "version_minor": 0
      },
      "text/plain": [
       "Processing channels in F9-6:   0%|          | 0/5 [00:00<?, ?it/s]"
      ]
     },
     "metadata": {},
     "output_type": "display_data"
    },
    {
     "data": {
      "application/vnd.jupyter.widget-view+json": {
       "model_id": "b7f0277faed64a93ae341094672da899",
       "version_major": 2,
       "version_minor": 0
      },
      "text/plain": [
       "Processing channels in F9-7:   0%|          | 0/5 [00:00<?, ?it/s]"
      ]
     },
     "metadata": {},
     "output_type": "display_data"
    },
    {
     "data": {
      "application/vnd.jupyter.widget-view+json": {
       "model_id": "7b6efb7cca644322a8fb8de675967900",
       "version_major": 2,
       "version_minor": 0
      },
      "text/plain": [
       "Processing channels in G10-1:   0%|          | 0/5 [00:00<?, ?it/s]"
      ]
     },
     "metadata": {},
     "output_type": "display_data"
    },
    {
     "data": {
      "application/vnd.jupyter.widget-view+json": {
       "model_id": "dec1d6b7a424492499746b3cb5247035",
       "version_major": 2,
       "version_minor": 0
      },
      "text/plain": [
       "Processing channels in G10-2:   0%|          | 0/5 [00:00<?, ?it/s]"
      ]
     },
     "metadata": {},
     "output_type": "display_data"
    },
    {
     "data": {
      "application/vnd.jupyter.widget-view+json": {
       "model_id": "d4d53ff344244ba9b43358d9c3566520",
       "version_major": 2,
       "version_minor": 0
      },
      "text/plain": [
       "Processing channels in G10-3:   0%|          | 0/5 [00:00<?, ?it/s]"
      ]
     },
     "metadata": {},
     "output_type": "display_data"
    },
    {
     "data": {
      "application/vnd.jupyter.widget-view+json": {
       "model_id": "571e1ac90837424fa209abfd35f8fc11",
       "version_major": 2,
       "version_minor": 0
      },
      "text/plain": [
       "Processing channels in G10-4:   0%|          | 0/5 [00:00<?, ?it/s]"
      ]
     },
     "metadata": {},
     "output_type": "display_data"
    },
    {
     "data": {
      "application/vnd.jupyter.widget-view+json": {
       "model_id": "f1249a9215c0462d94f5e337e9d6e13b",
       "version_major": 2,
       "version_minor": 0
      },
      "text/plain": [
       "Processing channels in G10-5:   0%|          | 0/5 [00:00<?, ?it/s]"
      ]
     },
     "metadata": {},
     "output_type": "display_data"
    },
    {
     "data": {
      "application/vnd.jupyter.widget-view+json": {
       "model_id": "6baa8657753a471abb658954c9278705",
       "version_major": 2,
       "version_minor": 0
      },
      "text/plain": [
       "Processing channels in G10-6:   0%|          | 0/5 [00:00<?, ?it/s]"
      ]
     },
     "metadata": {},
     "output_type": "display_data"
    },
    {
     "data": {
      "application/vnd.jupyter.widget-view+json": {
       "model_id": "b59084b3250c45db939e5d05ffc6f36c",
       "version_major": 2,
       "version_minor": 0
      },
      "text/plain": [
       "Processing channels in G10-7:   0%|          | 0/5 [00:00<?, ?it/s]"
      ]
     },
     "metadata": {},
     "output_type": "display_data"
    },
    {
     "data": {
      "application/vnd.jupyter.widget-view+json": {
       "model_id": "e7fb360a94284ccb852ea52bdd60d6c8",
       "version_major": 2,
       "version_minor": 0
      },
      "text/plain": [
       "Processing channels in G11-1:   0%|          | 0/5 [00:00<?, ?it/s]"
      ]
     },
     "metadata": {},
     "output_type": "display_data"
    },
    {
     "data": {
      "application/vnd.jupyter.widget-view+json": {
       "model_id": "10c63a98fd7447b0a43d04d63ea0b490",
       "version_major": 2,
       "version_minor": 0
      },
      "text/plain": [
       "Processing channels in G11-2:   0%|          | 0/5 [00:00<?, ?it/s]"
      ]
     },
     "metadata": {},
     "output_type": "display_data"
    },
    {
     "data": {
      "application/vnd.jupyter.widget-view+json": {
       "model_id": "be28937e879c4c0a8562a2dc7f84ac9c",
       "version_major": 2,
       "version_minor": 0
      },
      "text/plain": [
       "Processing channels in G11-3:   0%|          | 0/5 [00:00<?, ?it/s]"
      ]
     },
     "metadata": {},
     "output_type": "display_data"
    },
    {
     "data": {
      "application/vnd.jupyter.widget-view+json": {
       "model_id": "799a4d1bf52848f5a91bf182d272ede3",
       "version_major": 2,
       "version_minor": 0
      },
      "text/plain": [
       "Processing channels in G11-4:   0%|          | 0/5 [00:00<?, ?it/s]"
      ]
     },
     "metadata": {},
     "output_type": "display_data"
    },
    {
     "data": {
      "application/vnd.jupyter.widget-view+json": {
       "model_id": "6be3081062534baba863e3c16a40e0f2",
       "version_major": 2,
       "version_minor": 0
      },
      "text/plain": [
       "Processing channels in G11-5:   0%|          | 0/5 [00:00<?, ?it/s]"
      ]
     },
     "metadata": {},
     "output_type": "display_data"
    },
    {
     "data": {
      "application/vnd.jupyter.widget-view+json": {
       "model_id": "410921d5d5974640ae965172d727bb2c",
       "version_major": 2,
       "version_minor": 0
      },
      "text/plain": [
       "Processing channels in G11-6:   0%|          | 0/5 [00:00<?, ?it/s]"
      ]
     },
     "metadata": {},
     "output_type": "display_data"
    },
    {
     "data": {
      "application/vnd.jupyter.widget-view+json": {
       "model_id": "c4241ec4614e496e8c1d0a3d6319283a",
       "version_major": 2,
       "version_minor": 0
      },
      "text/plain": [
       "Processing channels in G11-7:   0%|          | 0/5 [00:00<?, ?it/s]"
      ]
     },
     "metadata": {},
     "output_type": "display_data"
    },
    {
     "data": {
      "application/vnd.jupyter.widget-view+json": {
       "model_id": "4aa57042fe63423eb4ae02c7c898a550",
       "version_major": 2,
       "version_minor": 0
      },
      "text/plain": [
       "Processing channels in G2-1:   0%|          | 0/5 [00:00<?, ?it/s]"
      ]
     },
     "metadata": {},
     "output_type": "display_data"
    },
    {
     "data": {
      "application/vnd.jupyter.widget-view+json": {
       "model_id": "82ad4f74a9a04376812ce8e44cd14287",
       "version_major": 2,
       "version_minor": 0
      },
      "text/plain": [
       "Processing channels in G2-2:   0%|          | 0/5 [00:00<?, ?it/s]"
      ]
     },
     "metadata": {},
     "output_type": "display_data"
    },
    {
     "data": {
      "application/vnd.jupyter.widget-view+json": {
       "model_id": "93e93c7235044b2086b818b9a649f68e",
       "version_major": 2,
       "version_minor": 0
      },
      "text/plain": [
       "Processing channels in G2-3:   0%|          | 0/5 [00:00<?, ?it/s]"
      ]
     },
     "metadata": {},
     "output_type": "display_data"
    },
    {
     "data": {
      "application/vnd.jupyter.widget-view+json": {
       "model_id": "41da7bf70b9e421d8147739cbe59c51a",
       "version_major": 2,
       "version_minor": 0
      },
      "text/plain": [
       "Processing channels in G2-4:   0%|          | 0/5 [00:00<?, ?it/s]"
      ]
     },
     "metadata": {},
     "output_type": "display_data"
    },
    {
     "data": {
      "application/vnd.jupyter.widget-view+json": {
       "model_id": "180abdee073f4911a3920a2825295009",
       "version_major": 2,
       "version_minor": 0
      },
      "text/plain": [
       "Processing channels in G2-5:   0%|          | 0/5 [00:00<?, ?it/s]"
      ]
     },
     "metadata": {},
     "output_type": "display_data"
    },
    {
     "data": {
      "application/vnd.jupyter.widget-view+json": {
       "model_id": "d784eb31b26e4bc2b88799ac813af712",
       "version_major": 2,
       "version_minor": 0
      },
      "text/plain": [
       "Processing channels in G2-6:   0%|          | 0/5 [00:00<?, ?it/s]"
      ]
     },
     "metadata": {},
     "output_type": "display_data"
    },
    {
     "data": {
      "application/vnd.jupyter.widget-view+json": {
       "model_id": "9ee26648b08d4ab3867efbf13f67f945",
       "version_major": 2,
       "version_minor": 0
      },
      "text/plain": [
       "Processing channels in G2-7:   0%|          | 0/5 [00:00<?, ?it/s]"
      ]
     },
     "metadata": {},
     "output_type": "display_data"
    },
    {
     "data": {
      "application/vnd.jupyter.widget-view+json": {
       "model_id": "07e73fbf2b6741c5b350d41891d24195",
       "version_major": 2,
       "version_minor": 0
      },
      "text/plain": [
       "Processing channels in G3-1:   0%|          | 0/5 [00:00<?, ?it/s]"
      ]
     },
     "metadata": {},
     "output_type": "display_data"
    },
    {
     "data": {
      "application/vnd.jupyter.widget-view+json": {
       "model_id": "c6fbee86d34943fc9588f80403f0aa42",
       "version_major": 2,
       "version_minor": 0
      },
      "text/plain": [
       "Processing channels in G3-2:   0%|          | 0/5 [00:00<?, ?it/s]"
      ]
     },
     "metadata": {},
     "output_type": "display_data"
    },
    {
     "data": {
      "application/vnd.jupyter.widget-view+json": {
       "model_id": "979eb8765c234d0eadcc0c721e2e6f1f",
       "version_major": 2,
       "version_minor": 0
      },
      "text/plain": [
       "Processing channels in G3-3:   0%|          | 0/5 [00:00<?, ?it/s]"
      ]
     },
     "metadata": {},
     "output_type": "display_data"
    },
    {
     "data": {
      "application/vnd.jupyter.widget-view+json": {
       "model_id": "e212c63154724c03913ed3b1a4ac9bd0",
       "version_major": 2,
       "version_minor": 0
      },
      "text/plain": [
       "Processing channels in G3-4:   0%|          | 0/5 [00:00<?, ?it/s]"
      ]
     },
     "metadata": {},
     "output_type": "display_data"
    },
    {
     "data": {
      "application/vnd.jupyter.widget-view+json": {
       "model_id": "5fed7c4592a943bd95f0f12d4b2a80bf",
       "version_major": 2,
       "version_minor": 0
      },
      "text/plain": [
       "Processing channels in G3-5:   0%|          | 0/5 [00:00<?, ?it/s]"
      ]
     },
     "metadata": {},
     "output_type": "display_data"
    },
    {
     "data": {
      "application/vnd.jupyter.widget-view+json": {
       "model_id": "07a28e9bfc0b4581a9c2e4df6d7f107b",
       "version_major": 2,
       "version_minor": 0
      },
      "text/plain": [
       "Processing channels in G3-6:   0%|          | 0/5 [00:00<?, ?it/s]"
      ]
     },
     "metadata": {},
     "output_type": "display_data"
    },
    {
     "data": {
      "application/vnd.jupyter.widget-view+json": {
       "model_id": "9b83e8dfc4524d44ae2a072bae1efbb7",
       "version_major": 2,
       "version_minor": 0
      },
      "text/plain": [
       "Processing channels in G3-7:   0%|          | 0/5 [00:00<?, ?it/s]"
      ]
     },
     "metadata": {},
     "output_type": "display_data"
    },
    {
     "data": {
      "application/vnd.jupyter.widget-view+json": {
       "model_id": "020c5f09b2d3472bbeb2d48d77f321d0",
       "version_major": 2,
       "version_minor": 0
      },
      "text/plain": [
       "Processing channels in G4-1:   0%|          | 0/5 [00:00<?, ?it/s]"
      ]
     },
     "metadata": {},
     "output_type": "display_data"
    },
    {
     "data": {
      "application/vnd.jupyter.widget-view+json": {
       "model_id": "10cde36ccf314e2da2a0872ebe5e7326",
       "version_major": 2,
       "version_minor": 0
      },
      "text/plain": [
       "Processing channels in G4-2:   0%|          | 0/5 [00:00<?, ?it/s]"
      ]
     },
     "metadata": {},
     "output_type": "display_data"
    },
    {
     "data": {
      "application/vnd.jupyter.widget-view+json": {
       "model_id": "f26de08874f840538afad93289623071",
       "version_major": 2,
       "version_minor": 0
      },
      "text/plain": [
       "Processing channels in G4-3:   0%|          | 0/5 [00:00<?, ?it/s]"
      ]
     },
     "metadata": {},
     "output_type": "display_data"
    },
    {
     "data": {
      "application/vnd.jupyter.widget-view+json": {
       "model_id": "17c91d484b204251918f5105c7b74376",
       "version_major": 2,
       "version_minor": 0
      },
      "text/plain": [
       "Processing channels in G4-4:   0%|          | 0/5 [00:00<?, ?it/s]"
      ]
     },
     "metadata": {},
     "output_type": "display_data"
    },
    {
     "data": {
      "application/vnd.jupyter.widget-view+json": {
       "model_id": "0ccd31aedab242b2b45c234dab9d539d",
       "version_major": 2,
       "version_minor": 0
      },
      "text/plain": [
       "Processing channels in G4-5:   0%|          | 0/5 [00:00<?, ?it/s]"
      ]
     },
     "metadata": {},
     "output_type": "display_data"
    },
    {
     "data": {
      "application/vnd.jupyter.widget-view+json": {
       "model_id": "625dbf7f028247a88e4091a7032f5aab",
       "version_major": 2,
       "version_minor": 0
      },
      "text/plain": [
       "Processing channels in G4-6:   0%|          | 0/5 [00:00<?, ?it/s]"
      ]
     },
     "metadata": {},
     "output_type": "display_data"
    },
    {
     "data": {
      "application/vnd.jupyter.widget-view+json": {
       "model_id": "f37a21d280a94f11a7ae30a3cb172928",
       "version_major": 2,
       "version_minor": 0
      },
      "text/plain": [
       "Processing channels in G4-7:   0%|          | 0/5 [00:00<?, ?it/s]"
      ]
     },
     "metadata": {},
     "output_type": "display_data"
    },
    {
     "data": {
      "application/vnd.jupyter.widget-view+json": {
       "model_id": "18650fec19a14d45a47609661efcab9b",
       "version_major": 2,
       "version_minor": 0
      },
      "text/plain": [
       "Processing channels in G5-1:   0%|          | 0/5 [00:00<?, ?it/s]"
      ]
     },
     "metadata": {},
     "output_type": "display_data"
    },
    {
     "data": {
      "application/vnd.jupyter.widget-view+json": {
       "model_id": "3f99ca56ce874982be491a254c8a2b00",
       "version_major": 2,
       "version_minor": 0
      },
      "text/plain": [
       "Processing channels in G5-2:   0%|          | 0/5 [00:00<?, ?it/s]"
      ]
     },
     "metadata": {},
     "output_type": "display_data"
    },
    {
     "data": {
      "application/vnd.jupyter.widget-view+json": {
       "model_id": "b8e46dfa562a42e4b2cfc5193fd00583",
       "version_major": 2,
       "version_minor": 0
      },
      "text/plain": [
       "Processing channels in G5-3:   0%|          | 0/5 [00:00<?, ?it/s]"
      ]
     },
     "metadata": {},
     "output_type": "display_data"
    },
    {
     "data": {
      "application/vnd.jupyter.widget-view+json": {
       "model_id": "ac1ba51280c4439f9f7d29df7a5485e2",
       "version_major": 2,
       "version_minor": 0
      },
      "text/plain": [
       "Processing channels in G5-4:   0%|          | 0/5 [00:00<?, ?it/s]"
      ]
     },
     "metadata": {},
     "output_type": "display_data"
    },
    {
     "data": {
      "application/vnd.jupyter.widget-view+json": {
       "model_id": "6abcd322904d4d1fa95184b7ef7fd434",
       "version_major": 2,
       "version_minor": 0
      },
      "text/plain": [
       "Processing channels in G5-5:   0%|          | 0/5 [00:00<?, ?it/s]"
      ]
     },
     "metadata": {},
     "output_type": "display_data"
    },
    {
     "data": {
      "application/vnd.jupyter.widget-view+json": {
       "model_id": "b5921d6895f549bc84cbcfc4d4df917e",
       "version_major": 2,
       "version_minor": 0
      },
      "text/plain": [
       "Processing channels in G5-6:   0%|          | 0/5 [00:00<?, ?it/s]"
      ]
     },
     "metadata": {},
     "output_type": "display_data"
    },
    {
     "data": {
      "application/vnd.jupyter.widget-view+json": {
       "model_id": "9c4d8cc4d96c43b39e025832070f44cd",
       "version_major": 2,
       "version_minor": 0
      },
      "text/plain": [
       "Processing channels in G5-7:   0%|          | 0/5 [00:00<?, ?it/s]"
      ]
     },
     "metadata": {},
     "output_type": "display_data"
    },
    {
     "data": {
      "application/vnd.jupyter.widget-view+json": {
       "model_id": "1eea177e1662489390de56b22d9664e2",
       "version_major": 2,
       "version_minor": 0
      },
      "text/plain": [
       "Processing channels in G6-1:   0%|          | 0/5 [00:00<?, ?it/s]"
      ]
     },
     "metadata": {},
     "output_type": "display_data"
    },
    {
     "data": {
      "application/vnd.jupyter.widget-view+json": {
       "model_id": "54bad43289534dc2b75965bb278387ec",
       "version_major": 2,
       "version_minor": 0
      },
      "text/plain": [
       "Processing channels in G6-2:   0%|          | 0/5 [00:00<?, ?it/s]"
      ]
     },
     "metadata": {},
     "output_type": "display_data"
    },
    {
     "data": {
      "application/vnd.jupyter.widget-view+json": {
       "model_id": "bee3495c8caf4898b6420b8fcfb718ce",
       "version_major": 2,
       "version_minor": 0
      },
      "text/plain": [
       "Processing channels in G6-3:   0%|          | 0/5 [00:00<?, ?it/s]"
      ]
     },
     "metadata": {},
     "output_type": "display_data"
    },
    {
     "data": {
      "application/vnd.jupyter.widget-view+json": {
       "model_id": "24b212882a0e49cea63f85a3de3bc862",
       "version_major": 2,
       "version_minor": 0
      },
      "text/plain": [
       "Processing channels in G6-4:   0%|          | 0/5 [00:00<?, ?it/s]"
      ]
     },
     "metadata": {},
     "output_type": "display_data"
    },
    {
     "data": {
      "application/vnd.jupyter.widget-view+json": {
       "model_id": "e026302b53a64aadbedffa9585651b82",
       "version_major": 2,
       "version_minor": 0
      },
      "text/plain": [
       "Processing channels in G6-5:   0%|          | 0/5 [00:00<?, ?it/s]"
      ]
     },
     "metadata": {},
     "output_type": "display_data"
    },
    {
     "data": {
      "application/vnd.jupyter.widget-view+json": {
       "model_id": "8be1a708c8ef456cbaf5fd230830d883",
       "version_major": 2,
       "version_minor": 0
      },
      "text/plain": [
       "Processing channels in G6-6:   0%|          | 0/5 [00:00<?, ?it/s]"
      ]
     },
     "metadata": {},
     "output_type": "display_data"
    },
    {
     "data": {
      "application/vnd.jupyter.widget-view+json": {
       "model_id": "e34a66bb31384c8ea6ecbddf817f14c6",
       "version_major": 2,
       "version_minor": 0
      },
      "text/plain": [
       "Processing channels in G6-7:   0%|          | 0/5 [00:00<?, ?it/s]"
      ]
     },
     "metadata": {},
     "output_type": "display_data"
    },
    {
     "data": {
      "application/vnd.jupyter.widget-view+json": {
       "model_id": "d5da83bafba84bc5b1aa566a283f5ad9",
       "version_major": 2,
       "version_minor": 0
      },
      "text/plain": [
       "Processing channels in G7-1:   0%|          | 0/5 [00:00<?, ?it/s]"
      ]
     },
     "metadata": {},
     "output_type": "display_data"
    },
    {
     "data": {
      "application/vnd.jupyter.widget-view+json": {
       "model_id": "387b0849dd364328ab3321b1d25bf454",
       "version_major": 2,
       "version_minor": 0
      },
      "text/plain": [
       "Processing channels in G7-2:   0%|          | 0/5 [00:00<?, ?it/s]"
      ]
     },
     "metadata": {},
     "output_type": "display_data"
    },
    {
     "data": {
      "application/vnd.jupyter.widget-view+json": {
       "model_id": "216c911d92fe441c8ced2cf861f1b088",
       "version_major": 2,
       "version_minor": 0
      },
      "text/plain": [
       "Processing channels in G7-3:   0%|          | 0/5 [00:00<?, ?it/s]"
      ]
     },
     "metadata": {},
     "output_type": "display_data"
    },
    {
     "data": {
      "application/vnd.jupyter.widget-view+json": {
       "model_id": "8bb0497020b646d88e762d67b034c3c9",
       "version_major": 2,
       "version_minor": 0
      },
      "text/plain": [
       "Processing channels in G7-4:   0%|          | 0/5 [00:00<?, ?it/s]"
      ]
     },
     "metadata": {},
     "output_type": "display_data"
    },
    {
     "data": {
      "application/vnd.jupyter.widget-view+json": {
       "model_id": "1e2d3a4b4de041e68712c79816e9502b",
       "version_major": 2,
       "version_minor": 0
      },
      "text/plain": [
       "Processing channels in G7-5:   0%|          | 0/5 [00:00<?, ?it/s]"
      ]
     },
     "metadata": {},
     "output_type": "display_data"
    },
    {
     "data": {
      "application/vnd.jupyter.widget-view+json": {
       "model_id": "8a0bdd0080a94cc6af37da2d75561dd0",
       "version_major": 2,
       "version_minor": 0
      },
      "text/plain": [
       "Processing channels in G7-6:   0%|          | 0/5 [00:00<?, ?it/s]"
      ]
     },
     "metadata": {},
     "output_type": "display_data"
    },
    {
     "data": {
      "application/vnd.jupyter.widget-view+json": {
       "model_id": "6aa1d70fd1ed4d1db9dc530325fbb719",
       "version_major": 2,
       "version_minor": 0
      },
      "text/plain": [
       "Processing channels in G7-7:   0%|          | 0/5 [00:00<?, ?it/s]"
      ]
     },
     "metadata": {},
     "output_type": "display_data"
    },
    {
     "data": {
      "application/vnd.jupyter.widget-view+json": {
       "model_id": "5e3ed887e1224e21a4521b9d6f19fc06",
       "version_major": 2,
       "version_minor": 0
      },
      "text/plain": [
       "Processing channels in G8-1:   0%|          | 0/5 [00:00<?, ?it/s]"
      ]
     },
     "metadata": {},
     "output_type": "display_data"
    },
    {
     "data": {
      "application/vnd.jupyter.widget-view+json": {
       "model_id": "1b22622958e54391aaaecb253bcf37a8",
       "version_major": 2,
       "version_minor": 0
      },
      "text/plain": [
       "Processing channels in G8-2:   0%|          | 0/5 [00:00<?, ?it/s]"
      ]
     },
     "metadata": {},
     "output_type": "display_data"
    },
    {
     "data": {
      "application/vnd.jupyter.widget-view+json": {
       "model_id": "4d8516a3566e404f8fa619116862c02f",
       "version_major": 2,
       "version_minor": 0
      },
      "text/plain": [
       "Processing channels in G8-3:   0%|          | 0/5 [00:00<?, ?it/s]"
      ]
     },
     "metadata": {},
     "output_type": "display_data"
    },
    {
     "data": {
      "application/vnd.jupyter.widget-view+json": {
       "model_id": "0aa0322245514124ad847b835835ef00",
       "version_major": 2,
       "version_minor": 0
      },
      "text/plain": [
       "Processing channels in G8-4:   0%|          | 0/5 [00:00<?, ?it/s]"
      ]
     },
     "metadata": {},
     "output_type": "display_data"
    },
    {
     "data": {
      "application/vnd.jupyter.widget-view+json": {
       "model_id": "a0d5d29edc6d42bea11b6d940dbff59c",
       "version_major": 2,
       "version_minor": 0
      },
      "text/plain": [
       "Processing channels in G8-5:   0%|          | 0/5 [00:00<?, ?it/s]"
      ]
     },
     "metadata": {},
     "output_type": "display_data"
    },
    {
     "data": {
      "application/vnd.jupyter.widget-view+json": {
       "model_id": "a2fbaedfac224bcdafbccf4967d3efe9",
       "version_major": 2,
       "version_minor": 0
      },
      "text/plain": [
       "Processing channels in G8-6:   0%|          | 0/5 [00:00<?, ?it/s]"
      ]
     },
     "metadata": {},
     "output_type": "display_data"
    },
    {
     "data": {
      "application/vnd.jupyter.widget-view+json": {
       "model_id": "ed58a0880f4b4847b460a6810647f2bd",
       "version_major": 2,
       "version_minor": 0
      },
      "text/plain": [
       "Processing channels in G8-7:   0%|          | 0/5 [00:00<?, ?it/s]"
      ]
     },
     "metadata": {},
     "output_type": "display_data"
    },
    {
     "data": {
      "application/vnd.jupyter.widget-view+json": {
       "model_id": "e0ab2a15bcf042949346fe10cf42e6d6",
       "version_major": 2,
       "version_minor": 0
      },
      "text/plain": [
       "Processing channels in G9-1:   0%|          | 0/5 [00:00<?, ?it/s]"
      ]
     },
     "metadata": {},
     "output_type": "display_data"
    },
    {
     "data": {
      "application/vnd.jupyter.widget-view+json": {
       "model_id": "c2f06e7945d44fa5b16e5f71c5f136eb",
       "version_major": 2,
       "version_minor": 0
      },
      "text/plain": [
       "Processing channels in G9-2:   0%|          | 0/5 [00:00<?, ?it/s]"
      ]
     },
     "metadata": {},
     "output_type": "display_data"
    },
    {
     "data": {
      "application/vnd.jupyter.widget-view+json": {
       "model_id": "e27c7753e5c544ccaeabc4328c3e726f",
       "version_major": 2,
       "version_minor": 0
      },
      "text/plain": [
       "Processing channels in G9-3:   0%|          | 0/5 [00:00<?, ?it/s]"
      ]
     },
     "metadata": {},
     "output_type": "display_data"
    },
    {
     "data": {
      "application/vnd.jupyter.widget-view+json": {
       "model_id": "1fc7b7d1395246779f09e4b5bcf4b11a",
       "version_major": 2,
       "version_minor": 0
      },
      "text/plain": [
       "Processing channels in G9-4:   0%|          | 0/5 [00:00<?, ?it/s]"
      ]
     },
     "metadata": {},
     "output_type": "display_data"
    },
    {
     "data": {
      "application/vnd.jupyter.widget-view+json": {
       "model_id": "25e9ba64a6624bd69838103611f3c9b6",
       "version_major": 2,
       "version_minor": 0
      },
      "text/plain": [
       "Processing channels in G9-5:   0%|          | 0/5 [00:00<?, ?it/s]"
      ]
     },
     "metadata": {},
     "output_type": "display_data"
    },
    {
     "data": {
      "application/vnd.jupyter.widget-view+json": {
       "model_id": "721e519444544264b3747eed216642e7",
       "version_major": 2,
       "version_minor": 0
      },
      "text/plain": [
       "Processing channels in G9-6:   0%|          | 0/5 [00:00<?, ?it/s]"
      ]
     },
     "metadata": {},
     "output_type": "display_data"
    },
    {
     "data": {
      "application/vnd.jupyter.widget-view+json": {
       "model_id": "d0cba5faee044aa7b6371ada30310830",
       "version_major": 2,
       "version_minor": 0
      },
      "text/plain": [
       "Processing channels in G9-7:   0%|          | 0/5 [00:00<?, ?it/s]"
      ]
     },
     "metadata": {},
     "output_type": "display_data"
    }
   ],
   "source": [
    "# loop through patients, well_fovs, and each channel\n",
    "# outer loop through patients\n",
    "for patient in tqdm.tqdm(patient_input_dict.keys(), desc=\"Processing patients\"):\n",
    "    input_dirs = [\n",
    "        x for x in patient_input_dict[patient][\"raw_images\"].iterdir() if x.is_dir()\n",
    "    ]\n",
    "    input_dirs.sort()\n",
    "\n",
    "    for well_dir in tqdm.tqdm(\n",
    "        input_dirs, desc=f\"Processing wells for patient {patient}\", leave=False\n",
    "    ):\n",
    "        channel_images = {\n",
    "            channel_name: {\"filename\": [], \"filepath\": []}\n",
    "            for channel_name in channel_names\n",
    "        }\n",
    "        if (\n",
    "            patient in unlisted_images[\"patient\"]\n",
    "            and well_dir.name in unlisted_images[\"image_set\"]\n",
    "        ):\n",
    "            print(f\"Skipping {well_dir.name} because it is not listed.\")\n",
    "            continue\n",
    "\n",
    "        for filename in well_dir.glob(\"*\"):\n",
    "            if filename.suffix in image_extensions:\n",
    "                for channel_name in channel_names:\n",
    "                    if channel_name in filename.name:\n",
    "                        channel_images[channel_name][\"filepath\"].append(filename)\n",
    "\n",
    "        for channel_name in tqdm.tqdm(\n",
    "            channel_names, desc=f\"Processing channels in {well_dir.name}\", leave=False\n",
    "        ):\n",
    "            channel_images[channel_name][\"filepath\"] = sorted(\n",
    "                channel_images[channel_name][\"filepath\"]\n",
    "            )\n",
    "            if not channel_images[channel_name][\"filepath\"]:\n",
    "                print(\n",
    "                    f\"No files found for channel {channel_name} in {well_dir}. Skipping...\"\n",
    "                )\n",
    "                continue\n",
    "\n",
    "            images_to_stack = np.array(\n",
    "                [\n",
    "                    tiff.imread(filepath)\n",
    "                    for filepath in channel_images[channel_name][\"filepath\"]\n",
    "                ]\n",
    "            )\n",
    "            filepath = channel_images[channel_name][\"filepath\"][0]\n",
    "            well = str(filepath.parent).split(\"/\")[-1]\n",
    "            output_path = (\n",
    "                patient_input_dict[patient][\"zstack_output\"]\n",
    "                / f\"{well}\"\n",
    "                / f\"{well}_{channel_name}.tif\"\n",
    "            )\n",
    "            output_path.parent.mkdir(exist_ok=True, parents=True)\n",
    "            tiff.imwrite(output_path, images_to_stack)"
   ]
  }
 ],
 "metadata": {
  "kernelspec": {
   "display_name": "gff_preprocessing_env",
   "language": "python",
   "name": "python3"
  },
  "language_info": {
   "codemirror_mode": {
    "name": "ipython",
    "version": 3
   },
   "file_extension": ".py",
   "mimetype": "text/x-python",
   "name": "python",
   "nbconvert_exporter": "python",
   "pygments_lexer": "ipython3",
   "version": "3.10.15"
  }
 },
 "nbformat": 4,
 "nbformat_minor": 2
}
