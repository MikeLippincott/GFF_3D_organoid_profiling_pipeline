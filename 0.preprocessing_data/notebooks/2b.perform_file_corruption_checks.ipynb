{
 "cells": [
  {
   "cell_type": "markdown",
   "metadata": {},
   "source": [
    "# Check the files for corrupted files, or files that were not copied over correctly."
   ]
  },
  {
   "cell_type": "markdown",
   "metadata": {},
   "source": [
    "## Import libraries"
   ]
  },
  {
   "cell_type": "code",
   "execution_count": 1,
   "metadata": {},
   "outputs": [],
   "source": [
    "import pathlib\n",
    "import pprint\n",
    "import sys\n",
    "\n",
    "import numpy as np\n",
    "import pandas as pd\n",
    "import tifffile as tiff\n",
    "\n",
    "# Get the current working directory\n",
    "cwd = pathlib.Path.cwd()\n",
    "\n",
    "if (cwd / \".git\").is_dir():\n",
    "    root_dir = cwd\n",
    "else:\n",
    "    root_dir = None\n",
    "    for parent in cwd.parents:\n",
    "        if (parent / \".git\").is_dir():\n",
    "            root_dir = parent\n",
    "            break\n",
    "sys.path.append(str(root_dir / \"utils\"))\n",
    "from notebook_init_utils import init_notebook\n",
    "\n",
    "root_dir, in_notebook = init_notebook()\n",
    "if in_notebook:\n",
    "    import tqdm.notebook as tqdm\n",
    "else:\n",
    "    import tqdm"
   ]
  },
  {
   "cell_type": "code",
   "execution_count": 2,
   "metadata": {},
   "outputs": [],
   "source": [
    "def max_z_projection(patient: str, well_fov: str) -> None:\n",
    "    \"\"\"\n",
    "    Create a maximum intensity projection of the z-stack images for a given patient and well_fov.\n",
    "    Args:\n",
    "        patient (str): The patient identifier.\n",
    "        well_fov (str): The well and field of view identifier, formatted as \"well_fov\".\n",
    "    Returns:\n",
    "        None: The function saves the maximum intensity projection images to the specified output directory.\n",
    "    Raises:\n",
    "        FileNotFoundError: If the specified raw images directory does not exist.\n",
    "        ValueError: If no images are found for the specified channels.\n",
    "    \"\"\"\n",
    "    # Image extensions that we are looking to copy\n",
    "    image_extensions = {\".tif\", \".tiff\"}\n",
    "    channel_names = [\"405\", \"488\", \"555\", \"640\", \"TRANS\"]\n",
    "    # make a dictionary that contains a list for each channel name, storing both filepath and filename\n",
    "    channel_images = {\n",
    "        channel_name: {\"filename\": [], \"filepath\": []} for channel_name in channel_names\n",
    "    }\n",
    "    raw_images_path = pathlib.Path(f\"{root_dir}/data/{patient}/raw_images\").resolve(\n",
    "        strict=True\n",
    "    )\n",
    "    zstack_output_path = pathlib.Path(\n",
    "        f\"{root_dir}/data/{patient}/zstack_images\"\n",
    "    ).resolve(strict=True)\n",
    "    well_fov_dir = raw_images_path / well_fov\n",
    "    channel_images = {\n",
    "        channel_name: {\"filename\": [], \"filepath\": []} for channel_name in channel_names\n",
    "    }\n",
    "    for filename in well_fov_dir.glob(\"*\"):\n",
    "        if filename.suffix in image_extensions:\n",
    "            for channel_name in channel_names:\n",
    "                if channel_name in filename.name:\n",
    "                    channel_images[channel_name][\"filepath\"].append(filename)\n",
    "\n",
    "    for channel_name in tqdm.tqdm(\n",
    "        channel_names, desc=f\"Processing channels in {well_fov_dir.name}\", leave=False\n",
    "    ):\n",
    "        channel_images[channel_name][\"filepath\"] = sorted(\n",
    "            channel_images[channel_name][\"filepath\"]\n",
    "        )\n",
    "        if not channel_images[channel_name][\"filepath\"]:\n",
    "            print(\n",
    "                f\"No files found for channel {channel_name} in {well_dir}. Skipping...\"\n",
    "            )\n",
    "            continue\n",
    "\n",
    "        images_to_stack = np.array(\n",
    "            [\n",
    "                tiff.imread(filepath)\n",
    "                for filepath in channel_images[channel_name][\"filepath\"]\n",
    "            ]\n",
    "        )\n",
    "        filepath = channel_images[channel_name][\"filepath\"][0]\n",
    "        well = str(filepath.parent).split(\"/\")[-1]\n",
    "        output_path = zstack_output_path / f\"{well}\" / f\"{well}_{channel_name}.tif\"\n",
    "        output_path.parent.mkdir(exist_ok=True, parents=True)\n",
    "        print(\n",
    "            f\"Saving max projection for {channel_name} channel in {well_fov} to {output_path}\"\n",
    "        )\n",
    "        tiff.imwrite(output_path, images_to_stack)"
   ]
  },
  {
   "cell_type": "markdown",
   "metadata": {},
   "source": [
    "## Set input and output directories"
   ]
  },
  {
   "cell_type": "code",
   "execution_count": 3,
   "metadata": {},
   "outputs": [],
   "source": [
    "bandicoot_path = pathlib.Path(\"/home/lippincm/mnt/bandicoot\").resolve()\n",
    "if bandicoot_path.exists():\n",
    "    # comment out depending on whose computer you are on\n",
    "    # mike's computer\n",
    "    bandicoot_path = pathlib.Path(\n",
    "        \"/home/lippincm/mnt/bandicoot/NF1_organoid_data/\"\n",
    "    ).resolve()\n",
    "    # Jenna's computer\n",
    "    # bandicoot_path = pathlib.Path(\"/media/18tbdrive/GFF_organoid_data/\")\n",
    "    raw_image_dir = pathlib.Path(f\"{bandicoot_path}/NF1_organoid_data/\").resolve()\n",
    "    output_base_dir = bandicoot_path\n",
    "else:\n",
    "    raw_image_dir = pathlib.Path(f\"{root_dir}/\").resolve()\n",
    "    output_base_dir = root_dir"
   ]
  },
  {
   "cell_type": "code",
   "execution_count": 4,
   "metadata": {},
   "outputs": [],
   "source": [
    "# patient_ids\n",
    "# patient_id_file_path = pathlib.Path(f\"{raw_image_dir}/data/patient_IDs.txt\").resolve(\n",
    "#     strict=True\n",
    "# )\n",
    "# list_of_patients = pd.read_csv(patient_id_file_path, header=None)[0].tolist()\n",
    "\n",
    "list_of_patients = [\"NF0035_T1\"]"
   ]
  },
  {
   "cell_type": "code",
   "execution_count": 5,
   "metadata": {},
   "outputs": [
    {
     "name": "stdout",
     "output_type": "stream",
     "text": [
      "{'NF0035_T1': {'raw_images': PosixPath('/home/lippincm/mnt/bandicoot/NF1_organoid_data/NF1_organoid_data/data/NF0035_T1/raw_images'),\n",
      "               'zstack_output': PosixPath('/home/lippincm/mnt/bandicoot/NF1_organoid_data/data/NF0035_T1/zstack_images')}}\n"
     ]
    }
   ],
   "source": [
    "patient_input_dict = {}\n",
    "for patient in list_of_patients:\n",
    "    patient_input_dict[patient] = {\n",
    "        \"raw_images\": pathlib.Path(\n",
    "            f\"{raw_image_dir}/data/{patient}/raw_images\"\n",
    "        ).resolve(),\n",
    "        \"zstack_output\": pathlib.Path(\n",
    "            f\"{output_base_dir}/data/{patient}/zstack_images\"\n",
    "        ).resolve(),\n",
    "    }\n",
    "pprint.pprint(patient_input_dict)"
   ]
  },
  {
   "cell_type": "markdown",
   "metadata": {},
   "source": [
    "## Create list of the well-site folders\n",
    "Create a list of the well-site folders in the stack directory.\n",
    "Then loop through each well-site folder and create a list of the channel images.\n",
    "Then find (if any) corrupted files in the channel images.\n",
    "This is done by checking if the size of the channel images for a given well-fov is the same as the size of the channel images for the other well-fovs.\n",
    "If the size is different, then the file is corrupted."
   ]
  },
  {
   "cell_type": "code",
   "execution_count": 6,
   "metadata": {},
   "outputs": [
    {
     "data": {
      "application/vnd.jupyter.widget-view+json": {
       "model_id": "67805e53d95d414098daf747a168ab2a",
       "version_major": 2,
       "version_minor": 0
      },
      "text/plain": [
       "Processing patients:   0%|          | 0/1 [00:00<?, ?it/s]"
      ]
     },
     "metadata": {},
     "output_type": "display_data"
    },
    {
     "data": {
      "application/vnd.jupyter.widget-view+json": {
       "model_id": "522899c4b88c47a0a3873da0c2e33720",
       "version_major": 2,
       "version_minor": 0
      },
      "text/plain": [
       "Processing wells for patient NF0035_T1:   0%|          | 0/349 [00:00<?, ?it/s]"
      ]
     },
     "metadata": {},
     "output_type": "display_data"
    },
    {
     "name": "stdout",
     "output_type": "stream",
     "text": [
      "Need to check and fix a total of 0 patient well_fovs:\n",
      "[]\n"
     ]
    }
   ],
   "source": [
    "patient_well_fovs_to_fix = []\n",
    "# loop through patients, well_fovs, and each channel\n",
    "# outer loop through patients\n",
    "for patient in tqdm.tqdm(patient_input_dict.keys(), desc=\"Processing patients\"):\n",
    "    input_dirs = [\n",
    "        x for x in patient_input_dict[patient][\"zstack_output\"].iterdir() if x.is_dir()\n",
    "    ]\n",
    "    input_dirs.sort()\n",
    "\n",
    "    for well_dir in tqdm.tqdm(\n",
    "        input_dirs, desc=f\"Processing wells for patient {patient}\", leave=False\n",
    "    ):\n",
    "        # get the list of files in the well directory\n",
    "        files = list(well_dir.iterdir())\n",
    "        files.sort()\n",
    "        # make sure there are 5 files in the well directory\n",
    "        if len(files) != 5:\n",
    "            patient_well_fovs_to_fix.append(f\"{patient} {well_dir.name}\")\n",
    "        # check the file size of each file\n",
    "        file_sizes = [file.stat().st_size for file in files]\n",
    "\n",
    "        # check if the file sizes are all the same\n",
    "        if len(set(file_sizes)) != 1:\n",
    "            patient_well_fovs_to_fix.append(f\"{patient} {well_dir.name}\")\n",
    "print(\n",
    "    f\"\"\"Need to check and fix a total of {len(patient_well_fovs_to_fix)} patient well_fovs:\"\"\"\n",
    ")\n",
    "pprint.pprint(patient_well_fovs_to_fix)"
   ]
  },
  {
   "cell_type": "markdown",
   "metadata": {},
   "source": [
    "## With the list of corrupted files, recreate the z-stack images\n",
    "This is the point where the z-stack images are created from the individual z-slice images for each FOV per well."
   ]
  },
  {
   "cell_type": "code",
   "execution_count": 7,
   "metadata": {},
   "outputs": [],
   "source": [
    "for patient_well_fov in patient_well_fovs_to_fix:\n",
    "    patient, well_fov = patient_well_fov.split()\n",
    "    max_z_projection(patient, well_fov)"
   ]
  }
 ],
 "metadata": {
  "kernelspec": {
   "display_name": "gff_preprocessing_env",
   "language": "python",
   "name": "python3"
  },
  "language_info": {
   "codemirror_mode": {
    "name": "ipython",
    "version": 3
   },
   "file_extension": ".py",
   "mimetype": "text/x-python",
   "name": "python",
   "nbconvert_exporter": "python",
   "pygments_lexer": "ipython3",
   "version": "3.10.15"
  }
 },
 "nbformat": 4,
 "nbformat_minor": 2
}
