{
    "cells": [
        {
            "cell_type": "markdown",
            "metadata": {},
            "source": [
                "# Create z-stack images from the individual z-slice images for each FOV per well"
            ]
        },
        {
            "cell_type": "markdown",
            "metadata": {},
            "source": [
                "## Import libraries"
            ]
        },
        {
            "cell_type": "code",
            "execution_count": 1,
            "metadata": {},
            "outputs": [],
            "source": [
                "import pathlib\n",
                "import pprint\n",
                "\n",
                "import numpy as np\n",
                "import tifffile as tiff\n",
                "\n",
                "# check if in a jupyter notebook\n",
                "try:\n",
                "    cfg = get_ipython().config\n",
                "    in_notebook = True\n",
                "except NameError:\n",
                "    in_notebook = False\n",
                "\n",
                "if in_notebook:\n",
                "    import tqdm.notebook as tqdm\n",
                "else:\n",
                "    import tqdm"
            ]
        },
        {
            "cell_type": "markdown",
            "metadata": {},
            "source": [
                "## Set input and output directories"
            ]
        },
        {
            "cell_type": "code",
            "execution_count": null,
            "metadata": {},
            "outputs": [],
            "source": [
                "list_of_patients = [  # will be in a separate file in the future\n",
                "    \"NF0014\",\n",
                "    \"NF0016\",\n",
                "    \"NF0018\",\n",
                "    \"NF0021\",\n",
                "    \"NF0030\",\n",
                "    \"NF0040\",\n",
                "    \"SARCO219\",\n",
                "    \"SARCO361\",\n",
                "]"
            ]
        },
        {
            "cell_type": "code",
            "execution_count": 3,
            "metadata": {},
            "outputs": [
                {
                    "name": "stdout",
                    "output_type": "stream",
                    "text": [
                        "{'NF0030': {'raw_images': PosixPath('/home/lippincm/Documents/GFF_3D_organoid_profiling_pipeline/data/NF0030/raw_images'),\n",
                        "            'zstack_output': PosixPath('/home/lippincm/Documents/GFF_3D_organoid_profiling_pipeline/data/NF0030/zstack_images')},\n",
                        " 'NF0040': {'raw_images': PosixPath('/home/lippincm/Documents/GFF_3D_organoid_profiling_pipeline/data/NF0040/raw_images'),\n",
                        "            'zstack_output': PosixPath('/home/lippincm/Documents/GFF_3D_organoid_profiling_pipeline/data/NF0040/zstack_images')}}\n"
                    ]
                }
            ],
            "source": [
                "patient_input_dict = {}\n",
                "for patient in list_of_patients:\n",
                "    patient_input_dict[patient] = {\n",
                "        \"raw_images\": pathlib.Path(f\"../../data/{patient}/raw_images\").resolve(),\n",
                "        \"zstack_output\": pathlib.Path(f\"../../data/{patient}/zstack_images\").resolve(),\n",
                "    }\n",
                "pprint.pprint(patient_input_dict)"
            ]
        },
        {
            "cell_type": "code",
            "execution_count": 4,
            "metadata": {},
            "outputs": [],
            "source": [
                "# Image extensions that we are looking to copy\n",
                "image_extensions = {\".tif\", \".tiff\"}"
            ]
        },
        {
            "cell_type": "code",
            "execution_count": 5,
            "metadata": {},
            "outputs": [],
            "source": [
                "unlisted_images = {\"patient\": [\"NF0014\"], \"image_set\": [\"F11-3\"]}"
            ]
        },
        {
            "cell_type": "code",
            "execution_count": 6,
            "metadata": {},
            "outputs": [
                {
                    "data": {
                        "text/plain": [
                            "{'405': {'filename': [], 'filepath': []},\n",
                            " '488': {'filename': [], 'filepath': []},\n",
                            " '555': {'filename': [], 'filepath': []},\n",
                            " '640': {'filename': [], 'filepath': []},\n",
                            " 'TRANS': {'filename': [], 'filepath': []}}"
                        ]
                    },
                    "execution_count": 6,
                    "metadata": {},
                    "output_type": "execute_result"
                }
            ],
            "source": [
                "image_extensions = {\".tif\", \".tiff\"}\n",
                "channel_names = [\"405\", \"488\", \"555\", \"640\", \"TRANS\"]\n",
                "# make a dictionary that contains a list for each channel name, storing both filepath and filename\n",
                "channel_images = {\n",
                "    channel_name: {\"filename\": [], \"filepath\": []} for channel_name in channel_names\n",
                "}\n",
                "channel_images"
            ]
        },
        {
            "cell_type": "markdown",
            "metadata": {},
            "source": [
                "## Create list of the well-site folders"
            ]
        },
        {
            "cell_type": "code",
            "execution_count": 7,
            "metadata": {},
            "outputs": [
                {
                    "data": {
                        "application/vnd.jupyter.widget-view+json": {
                            "model_id": "fe5bf83b0ce1417484c12caf52289a30",
                            "version_major": 2,
                            "version_minor": 0
                        },
                        "text/plain": [
                            "Processing patients:   0%|          | 0/2 [00:00<?, ?it/s]"
                        ]
                    },
                    "metadata": {},
                    "output_type": "display_data"
                },
                {
                    "data": {
                        "application/vnd.jupyter.widget-view+json": {
                            "model_id": "f353ac625d8d4798bc7ded67a4456a6b",
                            "version_major": 2,
                            "version_minor": 0
                        },
                        "text/plain": [
                            "Processing wells for patient NF0030:   0%|          | 0/22 [00:00<?, ?it/s]"
                        ]
                    },
                    "metadata": {},
                    "output_type": "display_data"
                },
                {
                    "data": {
                        "application/vnd.jupyter.widget-view+json": {
                            "model_id": "49c0ee00e2054c0487522ca5af463d3d",
                            "version_major": 2,
                            "version_minor": 0
                        },
                        "text/plain": [
                            "Processing channels in C6-2:   0%|          | 0/5 [00:00<?, ?it/s]"
                        ]
                    },
                    "metadata": {},
                    "output_type": "display_data"
                },
                {
                    "data": {
                        "application/vnd.jupyter.widget-view+json": {
                            "model_id": "aca8fa8464114ceaa3577b8033ae7b1a",
                            "version_major": 2,
                            "version_minor": 0
                        },
                        "text/plain": [
                            "Processing channels in C7-2:   0%|          | 0/5 [00:00<?, ?it/s]"
                        ]
                    },
                    "metadata": {},
                    "output_type": "display_data"
                },
                {
                    "name": "stdout",
                    "output_type": "stream",
                    "text": [
                        "No files found for channel 555 in /home/lippincm/Documents/GFF_3D_organoid_profiling_pipeline/data/NF0030/raw_images/C7-2. Skipping...\n"
                    ]
                },
                {
                    "data": {
                        "application/vnd.jupyter.widget-view+json": {
                            "model_id": "69d2dd41832841bdb95476393caf166a",
                            "version_major": 2,
                            "version_minor": 0
                        },
                        "text/plain": [
                            "Processing channels in C7-4:   0%|          | 0/5 [00:00<?, ?it/s]"
                        ]
                    },
                    "metadata": {},
                    "output_type": "display_data"
                },
                {
                    "data": {
                        "application/vnd.jupyter.widget-view+json": {
                            "model_id": "ff6f2eb2b41e43f09c4e8f105671867b",
                            "version_major": 2,
                            "version_minor": 0
                        },
                        "text/plain": [
                            "Processing channels in D11-1:   0%|          | 0/5 [00:00<?, ?it/s]"
                        ]
                    },
                    "metadata": {},
                    "output_type": "display_data"
                },
                {
                    "data": {
                        "application/vnd.jupyter.widget-view+json": {
                            "model_id": "24e590b982ef4513b0f1cff43c60bc15",
                            "version_major": 2,
                            "version_minor": 0
                        },
                        "text/plain": [
                            "Processing channels in D3-2:   0%|          | 0/5 [00:00<?, ?it/s]"
                        ]
                    },
                    "metadata": {},
                    "output_type": "display_data"
                },
                {
                    "data": {
                        "application/vnd.jupyter.widget-view+json": {
                            "model_id": "a086bdf068364505bf784579979a2a40",
                            "version_major": 2,
                            "version_minor": 0
                        },
                        "text/plain": [
                            "Processing channels in D5-1:   0%|          | 0/5 [00:00<?, ?it/s]"
                        ]
                    },
                    "metadata": {},
                    "output_type": "display_data"
                },
                {
                    "data": {
                        "application/vnd.jupyter.widget-view+json": {
                            "model_id": "a5f69b7ed3af49e3a0ac70c036ef1991",
                            "version_major": 2,
                            "version_minor": 0
                        },
                        "text/plain": [
                            "Processing channels in D6-1:   0%|          | 0/5 [00:00<?, ?it/s]"
                        ]
                    },
                    "metadata": {},
                    "output_type": "display_data"
                },
                {
                    "data": {
                        "application/vnd.jupyter.widget-view+json": {
                            "model_id": "311cecac97fa4971989795388bef6b10",
                            "version_major": 2,
                            "version_minor": 0
                        },
                        "text/plain": [
                            "Processing channels in D7-4:   0%|          | 0/5 [00:00<?, ?it/s]"
                        ]
                    },
                    "metadata": {},
                    "output_type": "display_data"
                },
                {
                    "name": "stdout",
                    "output_type": "stream",
                    "text": [
                        "No files found for channel TRANS in /home/lippincm/Documents/GFF_3D_organoid_profiling_pipeline/data/NF0030/raw_images/D7-4. Skipping...\n"
                    ]
                },
                {
                    "data": {
                        "application/vnd.jupyter.widget-view+json": {
                            "model_id": "18d413ef9cb44a7f93c8cb9797f63ed2",
                            "version_major": 2,
                            "version_minor": 0
                        },
                        "text/plain": [
                            "Processing channels in E10-3:   0%|          | 0/5 [00:00<?, ?it/s]"
                        ]
                    },
                    "metadata": {},
                    "output_type": "display_data"
                },
                {
                    "data": {
                        "application/vnd.jupyter.widget-view+json": {
                            "model_id": "20670af7004b413185a33d7ff57953fb",
                            "version_major": 2,
                            "version_minor": 0
                        },
                        "text/plain": [
                            "Processing channels in E11-2:   0%|          | 0/5 [00:00<?, ?it/s]"
                        ]
                    },
                    "metadata": {},
                    "output_type": "display_data"
                },
                {
                    "data": {
                        "application/vnd.jupyter.widget-view+json": {
                            "model_id": "d6f112ef6fe443deb28ac7412c9a358a",
                            "version_major": 2,
                            "version_minor": 0
                        },
                        "text/plain": [
                            "Processing channels in E11-4:   0%|          | 0/5 [00:00<?, ?it/s]"
                        ]
                    },
                    "metadata": {},
                    "output_type": "display_data"
                },
                {
                    "data": {
                        "application/vnd.jupyter.widget-view+json": {
                            "model_id": "d76a4264662545619f0e4145f69b2456",
                            "version_major": 2,
                            "version_minor": 0
                        },
                        "text/plain": [
                            "Processing channels in E4-2:   0%|          | 0/5 [00:00<?, ?it/s]"
                        ]
                    },
                    "metadata": {},
                    "output_type": "display_data"
                },
                {
                    "data": {
                        "application/vnd.jupyter.widget-view+json": {
                            "model_id": "f21b078bbdeb44f6991053a9b79dd3e3",
                            "version_major": 2,
                            "version_minor": 0
                        },
                        "text/plain": [
                            "Processing channels in F2-2:   0%|          | 0/5 [00:00<?, ?it/s]"
                        ]
                    },
                    "metadata": {},
                    "output_type": "display_data"
                },
                {
                    "data": {
                        "application/vnd.jupyter.widget-view+json": {
                            "model_id": "f6a86d443a8e4b658cdb653610f46ca0",
                            "version_major": 2,
                            "version_minor": 0
                        },
                        "text/plain": [
                            "Processing channels in F6-3:   0%|          | 0/5 [00:00<?, ?it/s]"
                        ]
                    },
                    "metadata": {},
                    "output_type": "display_data"
                },
                {
                    "data": {
                        "application/vnd.jupyter.widget-view+json": {
                            "model_id": "6d1e6d72d0ea42cabe2154e27b1908d3",
                            "version_major": 2,
                            "version_minor": 0
                        },
                        "text/plain": [
                            "Processing channels in F8-4:   0%|          | 0/5 [00:00<?, ?it/s]"
                        ]
                    },
                    "metadata": {},
                    "output_type": "display_data"
                },
                {
                    "data": {
                        "application/vnd.jupyter.widget-view+json": {
                            "model_id": "7ed75c9ed73a49f38593f4504d392e14",
                            "version_major": 2,
                            "version_minor": 0
                        },
                        "text/plain": [
                            "Processing channels in G10-4:   0%|          | 0/5 [00:00<?, ?it/s]"
                        ]
                    },
                    "metadata": {},
                    "output_type": "display_data"
                },
                {
                    "name": "stdout",
                    "output_type": "stream",
                    "text": [
                        "No files found for channel 640 in /home/lippincm/Documents/GFF_3D_organoid_profiling_pipeline/data/NF0030/raw_images/G10-4. Skipping...\n"
                    ]
                },
                {
                    "data": {
                        "application/vnd.jupyter.widget-view+json": {
                            "model_id": "1c083616639e422090d85981f0e5d2ee",
                            "version_major": 2,
                            "version_minor": 0
                        },
                        "text/plain": [
                            "Processing channels in G3-2:   0%|          | 0/5 [00:00<?, ?it/s]"
                        ]
                    },
                    "metadata": {},
                    "output_type": "display_data"
                },
                {
                    "data": {
                        "application/vnd.jupyter.widget-view+json": {
                            "model_id": "5f9ea458df1b487ea829ed4ebcb2f882",
                            "version_major": 2,
                            "version_minor": 0
                        },
                        "text/plain": [
                            "Processing channels in G4-3:   0%|          | 0/5 [00:00<?, ?it/s]"
                        ]
                    },
                    "metadata": {},
                    "output_type": "display_data"
                },
                {
                    "data": {
                        "application/vnd.jupyter.widget-view+json": {
                            "model_id": "72fb2ca9a8214cfda756c17dfc375b33",
                            "version_major": 2,
                            "version_minor": 0
                        },
                        "text/plain": [
                            "Processing channels in G5-1:   0%|          | 0/5 [00:00<?, ?it/s]"
                        ]
                    },
                    "metadata": {},
                    "output_type": "display_data"
                },
                {
                    "data": {
                        "application/vnd.jupyter.widget-view+json": {
                            "model_id": "12e1f6f6f72045f7a8267bf7774117e9",
                            "version_major": 2,
                            "version_minor": 0
                        },
                        "text/plain": [
                            "Processing channels in G6-3:   0%|          | 0/5 [00:00<?, ?it/s]"
                        ]
                    },
                    "metadata": {},
                    "output_type": "display_data"
                },
                {
                    "name": "stdout",
                    "output_type": "stream",
                    "text": [
                        "No files found for channel 640 in /home/lippincm/Documents/GFF_3D_organoid_profiling_pipeline/data/NF0030/raw_images/G6-3. Skipping...\n",
                        "No files found for channel TRANS in /home/lippincm/Documents/GFF_3D_organoid_profiling_pipeline/data/NF0030/raw_images/G6-3. Skipping...\n"
                    ]
                },
                {
                    "data": {
                        "application/vnd.jupyter.widget-view+json": {
                            "model_id": "15fff21a083b4722a2184ba48ec0d3d2",
                            "version_major": 2,
                            "version_minor": 0
                        },
                        "text/plain": [
                            "Processing channels in G7-3:   0%|          | 0/5 [00:00<?, ?it/s]"
                        ]
                    },
                    "metadata": {},
                    "output_type": "display_data"
                },
                {
                    "data": {
                        "application/vnd.jupyter.widget-view+json": {
                            "model_id": "871d970a1610434db891aa0e4c459418",
                            "version_major": 2,
                            "version_minor": 0
                        },
                        "text/plain": [
                            "Processing channels in G7-4:   0%|          | 0/5 [00:00<?, ?it/s]"
                        ]
                    },
                    "metadata": {},
                    "output_type": "display_data"
                },
                {
                    "name": "stdout",
                    "output_type": "stream",
                    "text": [
                        "No files found for channel 488 in /home/lippincm/Documents/GFF_3D_organoid_profiling_pipeline/data/NF0030/raw_images/G7-4. Skipping...\n",
                        "No files found for channel 555 in /home/lippincm/Documents/GFF_3D_organoid_profiling_pipeline/data/NF0030/raw_images/G7-4. Skipping...\n"
                    ]
                },
                {
                    "data": {
                        "application/vnd.jupyter.widget-view+json": {
                            "model_id": "e450fa1b49e74437b20591e0c9603395",
                            "version_major": 2,
                            "version_minor": 0
                        },
                        "text/plain": [
                            "Processing wells for patient NF0040:   0%|          | 0/22 [00:00<?, ?it/s]"
                        ]
                    },
                    "metadata": {},
                    "output_type": "display_data"
                },
                {
                    "data": {
                        "application/vnd.jupyter.widget-view+json": {
                            "model_id": "120c4dc5170f4b8189410c0341d5230d",
                            "version_major": 2,
                            "version_minor": 0
                        },
                        "text/plain": [
                            "Processing channels in B5-5:   0%|          | 0/5 [00:00<?, ?it/s]"
                        ]
                    },
                    "metadata": {},
                    "output_type": "display_data"
                },
                {
                    "name": "stdout",
                    "output_type": "stream",
                    "text": [
                        "No files found for channel 405 in /home/lippincm/Documents/GFF_3D_organoid_profiling_pipeline/data/NF0040/raw_images/B5-5. Skipping...\n",
                        "No files found for channel 488 in /home/lippincm/Documents/GFF_3D_organoid_profiling_pipeline/data/NF0040/raw_images/B5-5. Skipping...\n",
                        "No files found for channel 555 in /home/lippincm/Documents/GFF_3D_organoid_profiling_pipeline/data/NF0040/raw_images/B5-5. Skipping...\n",
                        "No files found for channel 640 in /home/lippincm/Documents/GFF_3D_organoid_profiling_pipeline/data/NF0040/raw_images/B5-5. Skipping...\n",
                        "No files found for channel TRANS in /home/lippincm/Documents/GFF_3D_organoid_profiling_pipeline/data/NF0040/raw_images/B5-5. Skipping...\n"
                    ]
                },
                {
                    "data": {
                        "application/vnd.jupyter.widget-view+json": {
                            "model_id": "9bf8faab8ede4880b71d1f7e28a064ae",
                            "version_major": 2,
                            "version_minor": 0
                        },
                        "text/plain": [
                            "Processing channels in B7-2:   0%|          | 0/5 [00:00<?, ?it/s]"
                        ]
                    },
                    "metadata": {},
                    "output_type": "display_data"
                },
                {
                    "name": "stdout",
                    "output_type": "stream",
                    "text": [
                        "No files found for channel 405 in /home/lippincm/Documents/GFF_3D_organoid_profiling_pipeline/data/NF0040/raw_images/B7-2. Skipping...\n",
                        "No files found for channel 488 in /home/lippincm/Documents/GFF_3D_organoid_profiling_pipeline/data/NF0040/raw_images/B7-2. Skipping...\n",
                        "No files found for channel 640 in /home/lippincm/Documents/GFF_3D_organoid_profiling_pipeline/data/NF0040/raw_images/B7-2. Skipping...\n",
                        "No files found for channel TRANS in /home/lippincm/Documents/GFF_3D_organoid_profiling_pipeline/data/NF0040/raw_images/B7-2. Skipping...\n"
                    ]
                },
                {
                    "data": {
                        "application/vnd.jupyter.widget-view+json": {
                            "model_id": "e4371692eb7b4b34af68a2f88f1896a0",
                            "version_major": 2,
                            "version_minor": 0
                        },
                        "text/plain": [
                            "Processing channels in C6-2:   0%|          | 0/5 [00:00<?, ?it/s]"
                        ]
                    },
                    "metadata": {},
                    "output_type": "display_data"
                },
                {
                    "name": "stdout",
                    "output_type": "stream",
                    "text": [
                        "No files found for channel 405 in /home/lippincm/Documents/GFF_3D_organoid_profiling_pipeline/data/NF0040/raw_images/C6-2. Skipping...\n",
                        "No files found for channel 488 in /home/lippincm/Documents/GFF_3D_organoid_profiling_pipeline/data/NF0040/raw_images/C6-2. Skipping...\n",
                        "No files found for channel 555 in /home/lippincm/Documents/GFF_3D_organoid_profiling_pipeline/data/NF0040/raw_images/C6-2. Skipping...\n",
                        "No files found for channel TRANS in /home/lippincm/Documents/GFF_3D_organoid_profiling_pipeline/data/NF0040/raw_images/C6-2. Skipping...\n"
                    ]
                },
                {
                    "data": {
                        "application/vnd.jupyter.widget-view+json": {
                            "model_id": "54f76cb645f94ff7a3486e93bc767f8f",
                            "version_major": 2,
                            "version_minor": 0
                        },
                        "text/plain": [
                            "Processing channels in C7-6:   0%|          | 0/5 [00:00<?, ?it/s]"
                        ]
                    },
                    "metadata": {},
                    "output_type": "display_data"
                },
                {
                    "name": "stdout",
                    "output_type": "stream",
                    "text": [
                        "No files found for channel 405 in /home/lippincm/Documents/GFF_3D_organoid_profiling_pipeline/data/NF0040/raw_images/C7-6. Skipping...\n",
                        "No files found for channel 488 in /home/lippincm/Documents/GFF_3D_organoid_profiling_pipeline/data/NF0040/raw_images/C7-6. Skipping...\n",
                        "No files found for channel 640 in /home/lippincm/Documents/GFF_3D_organoid_profiling_pipeline/data/NF0040/raw_images/C7-6. Skipping...\n",
                        "No files found for channel TRANS in /home/lippincm/Documents/GFF_3D_organoid_profiling_pipeline/data/NF0040/raw_images/C7-6. Skipping...\n"
                    ]
                },
                {
                    "data": {
                        "application/vnd.jupyter.widget-view+json": {
                            "model_id": "8d6118d72ff3456bb4da534ffd513b92",
                            "version_major": 2,
                            "version_minor": 0
                        },
                        "text/plain": [
                            "Processing channels in D11-1:   0%|          | 0/5 [00:00<?, ?it/s]"
                        ]
                    },
                    "metadata": {},
                    "output_type": "display_data"
                },
                {
                    "name": "stdout",
                    "output_type": "stream",
                    "text": [
                        "No files found for channel 405 in /home/lippincm/Documents/GFF_3D_organoid_profiling_pipeline/data/NF0040/raw_images/D11-1. Skipping...\n",
                        "No files found for channel 488 in /home/lippincm/Documents/GFF_3D_organoid_profiling_pipeline/data/NF0040/raw_images/D11-1. Skipping...\n",
                        "No files found for channel 555 in /home/lippincm/Documents/GFF_3D_organoid_profiling_pipeline/data/NF0040/raw_images/D11-1. Skipping...\n",
                        "No files found for channel TRANS in /home/lippincm/Documents/GFF_3D_organoid_profiling_pipeline/data/NF0040/raw_images/D11-1. Skipping...\n"
                    ]
                },
                {
                    "data": {
                        "application/vnd.jupyter.widget-view+json": {
                            "model_id": "35e38d533b8341c59e376bb6755595cd",
                            "version_major": 2,
                            "version_minor": 0
                        },
                        "text/plain": [
                            "Processing channels in D3-2:   0%|          | 0/5 [00:00<?, ?it/s]"
                        ]
                    },
                    "metadata": {},
                    "output_type": "display_data"
                },
                {
                    "name": "stdout",
                    "output_type": "stream",
                    "text": [
                        "No files found for channel 488 in /home/lippincm/Documents/GFF_3D_organoid_profiling_pipeline/data/NF0040/raw_images/D3-2. Skipping...\n",
                        "No files found for channel 555 in /home/lippincm/Documents/GFF_3D_organoid_profiling_pipeline/data/NF0040/raw_images/D3-2. Skipping...\n",
                        "No files found for channel 640 in /home/lippincm/Documents/GFF_3D_organoid_profiling_pipeline/data/NF0040/raw_images/D3-2. Skipping...\n",
                        "No files found for channel TRANS in /home/lippincm/Documents/GFF_3D_organoid_profiling_pipeline/data/NF0040/raw_images/D3-2. Skipping...\n"
                    ]
                },
                {
                    "data": {
                        "application/vnd.jupyter.widget-view+json": {
                            "model_id": "02fe13defbad460598d67063fdfc024f",
                            "version_major": 2,
                            "version_minor": 0
                        },
                        "text/plain": [
                            "Processing channels in D5-1:   0%|          | 0/5 [00:00<?, ?it/s]"
                        ]
                    },
                    "metadata": {},
                    "output_type": "display_data"
                },
                {
                    "name": "stdout",
                    "output_type": "stream",
                    "text": [
                        "No files found for channel 488 in /home/lippincm/Documents/GFF_3D_organoid_profiling_pipeline/data/NF0040/raw_images/D5-1. Skipping...\n",
                        "No files found for channel 555 in /home/lippincm/Documents/GFF_3D_organoid_profiling_pipeline/data/NF0040/raw_images/D5-1. Skipping...\n",
                        "No files found for channel 640 in /home/lippincm/Documents/GFF_3D_organoid_profiling_pipeline/data/NF0040/raw_images/D5-1. Skipping...\n",
                        "No files found for channel TRANS in /home/lippincm/Documents/GFF_3D_organoid_profiling_pipeline/data/NF0040/raw_images/D5-1. Skipping...\n"
                    ]
                },
                {
                    "data": {
                        "application/vnd.jupyter.widget-view+json": {
                            "model_id": "193e0d61095342698de68c6e53dcd615",
                            "version_major": 2,
                            "version_minor": 0
                        },
                        "text/plain": [
                            "Processing channels in D6-1:   0%|          | 0/5 [00:00<?, ?it/s]"
                        ]
                    },
                    "metadata": {},
                    "output_type": "display_data"
                },
                {
                    "name": "stdout",
                    "output_type": "stream",
                    "text": [
                        "No files found for channel 488 in /home/lippincm/Documents/GFF_3D_organoid_profiling_pipeline/data/NF0040/raw_images/D6-1. Skipping...\n",
                        "No files found for channel 555 in /home/lippincm/Documents/GFF_3D_organoid_profiling_pipeline/data/NF0040/raw_images/D6-1. Skipping...\n",
                        "No files found for channel 640 in /home/lippincm/Documents/GFF_3D_organoid_profiling_pipeline/data/NF0040/raw_images/D6-1. Skipping...\n",
                        "No files found for channel TRANS in /home/lippincm/Documents/GFF_3D_organoid_profiling_pipeline/data/NF0040/raw_images/D6-1. Skipping...\n"
                    ]
                },
                {
                    "data": {
                        "application/vnd.jupyter.widget-view+json": {
                            "model_id": "99b15113653e41a9813366ce9d84a124",
                            "version_major": 2,
                            "version_minor": 0
                        },
                        "text/plain": [
                            "Processing channels in E11-2:   0%|          | 0/5 [00:00<?, ?it/s]"
                        ]
                    },
                    "metadata": {},
                    "output_type": "display_data"
                },
                {
                    "name": "stdout",
                    "output_type": "stream",
                    "text": [
                        "No files found for channel 405 in /home/lippincm/Documents/GFF_3D_organoid_profiling_pipeline/data/NF0040/raw_images/E11-2. Skipping...\n",
                        "No files found for channel 488 in /home/lippincm/Documents/GFF_3D_organoid_profiling_pipeline/data/NF0040/raw_images/E11-2. Skipping...\n",
                        "No files found for channel 555 in /home/lippincm/Documents/GFF_3D_organoid_profiling_pipeline/data/NF0040/raw_images/E11-2. Skipping...\n",
                        "No files found for channel 640 in /home/lippincm/Documents/GFF_3D_organoid_profiling_pipeline/data/NF0040/raw_images/E11-2. Skipping...\n",
                        "No files found for channel TRANS in /home/lippincm/Documents/GFF_3D_organoid_profiling_pipeline/data/NF0040/raw_images/E11-2. Skipping...\n"
                    ]
                },
                {
                    "data": {
                        "application/vnd.jupyter.widget-view+json": {
                            "model_id": "eafed2d768d543fc9fe579386c2264df",
                            "version_major": 2,
                            "version_minor": 0
                        },
                        "text/plain": [
                            "Processing channels in E11-4:   0%|          | 0/5 [00:00<?, ?it/s]"
                        ]
                    },
                    "metadata": {},
                    "output_type": "display_data"
                },
                {
                    "name": "stdout",
                    "output_type": "stream",
                    "text": [
                        "No files found for channel 405 in /home/lippincm/Documents/GFF_3D_organoid_profiling_pipeline/data/NF0040/raw_images/E11-4. Skipping...\n",
                        "No files found for channel 488 in /home/lippincm/Documents/GFF_3D_organoid_profiling_pipeline/data/NF0040/raw_images/E11-4. Skipping...\n",
                        "No files found for channel 640 in /home/lippincm/Documents/GFF_3D_organoid_profiling_pipeline/data/NF0040/raw_images/E11-4. Skipping...\n",
                        "No files found for channel TRANS in /home/lippincm/Documents/GFF_3D_organoid_profiling_pipeline/data/NF0040/raw_images/E11-4. Skipping...\n"
                    ]
                },
                {
                    "data": {
                        "application/vnd.jupyter.widget-view+json": {
                            "model_id": "77371d82aad7463c927eef412f662922",
                            "version_major": 2,
                            "version_minor": 0
                        },
                        "text/plain": [
                            "Processing channels in E8-5:   0%|          | 0/5 [00:00<?, ?it/s]"
                        ]
                    },
                    "metadata": {},
                    "output_type": "display_data"
                },
                {
                    "name": "stdout",
                    "output_type": "stream",
                    "text": [
                        "No files found for channel 405 in /home/lippincm/Documents/GFF_3D_organoid_profiling_pipeline/data/NF0040/raw_images/E8-5. Skipping...\n",
                        "No files found for channel 488 in /home/lippincm/Documents/GFF_3D_organoid_profiling_pipeline/data/NF0040/raw_images/E8-5. Skipping...\n",
                        "No files found for channel 555 in /home/lippincm/Documents/GFF_3D_organoid_profiling_pipeline/data/NF0040/raw_images/E8-5. Skipping...\n",
                        "No files found for channel TRANS in /home/lippincm/Documents/GFF_3D_organoid_profiling_pipeline/data/NF0040/raw_images/E8-5. Skipping...\n"
                    ]
                },
                {
                    "data": {
                        "application/vnd.jupyter.widget-view+json": {
                            "model_id": "e921814cb44949e1b7d02ff9b55862b8",
                            "version_major": 2,
                            "version_minor": 0
                        },
                        "text/plain": [
                            "Processing channels in E9-6:   0%|          | 0/5 [00:00<?, ?it/s]"
                        ]
                    },
                    "metadata": {},
                    "output_type": "display_data"
                },
                {
                    "name": "stdout",
                    "output_type": "stream",
                    "text": [
                        "No files found for channel 405 in /home/lippincm/Documents/GFF_3D_organoid_profiling_pipeline/data/NF0040/raw_images/E9-6. Skipping...\n",
                        "No files found for channel 488 in /home/lippincm/Documents/GFF_3D_organoid_profiling_pipeline/data/NF0040/raw_images/E9-6. Skipping...\n",
                        "No files found for channel 640 in /home/lippincm/Documents/GFF_3D_organoid_profiling_pipeline/data/NF0040/raw_images/E9-6. Skipping...\n",
                        "No files found for channel TRANS in /home/lippincm/Documents/GFF_3D_organoid_profiling_pipeline/data/NF0040/raw_images/E9-6. Skipping...\n"
                    ]
                },
                {
                    "data": {
                        "application/vnd.jupyter.widget-view+json": {
                            "model_id": "099cd41314414082b18c71ad761001cf",
                            "version_major": 2,
                            "version_minor": 0
                        },
                        "text/plain": [
                            "Processing channels in F11-6:   0%|          | 0/5 [00:00<?, ?it/s]"
                        ]
                    },
                    "metadata": {},
                    "output_type": "display_data"
                },
                {
                    "name": "stdout",
                    "output_type": "stream",
                    "text": [
                        "No files found for channel 488 in /home/lippincm/Documents/GFF_3D_organoid_profiling_pipeline/data/NF0040/raw_images/F11-6. Skipping...\n",
                        "No files found for channel 555 in /home/lippincm/Documents/GFF_3D_organoid_profiling_pipeline/data/NF0040/raw_images/F11-6. Skipping...\n",
                        "No files found for channel 640 in /home/lippincm/Documents/GFF_3D_organoid_profiling_pipeline/data/NF0040/raw_images/F11-6. Skipping...\n",
                        "No files found for channel TRANS in /home/lippincm/Documents/GFF_3D_organoid_profiling_pipeline/data/NF0040/raw_images/F11-6. Skipping...\n"
                    ]
                },
                {
                    "data": {
                        "application/vnd.jupyter.widget-view+json": {
                            "model_id": "c8dd5cc0c0e14efa946e7c4245205d0e",
                            "version_major": 2,
                            "version_minor": 0
                        },
                        "text/plain": [
                            "Processing channels in F2-2:   0%|          | 0/5 [00:00<?, ?it/s]"
                        ]
                    },
                    "metadata": {},
                    "output_type": "display_data"
                },
                {
                    "name": "stdout",
                    "output_type": "stream",
                    "text": [
                        "No files found for channel 405 in /home/lippincm/Documents/GFF_3D_organoid_profiling_pipeline/data/NF0040/raw_images/F2-2. Skipping...\n",
                        "No files found for channel 488 in /home/lippincm/Documents/GFF_3D_organoid_profiling_pipeline/data/NF0040/raw_images/F2-2. Skipping...\n",
                        "No files found for channel 555 in /home/lippincm/Documents/GFF_3D_organoid_profiling_pipeline/data/NF0040/raw_images/F2-2. Skipping...\n",
                        "No files found for channel 640 in /home/lippincm/Documents/GFF_3D_organoid_profiling_pipeline/data/NF0040/raw_images/F2-2. Skipping...\n",
                        "No files found for channel TRANS in /home/lippincm/Documents/GFF_3D_organoid_profiling_pipeline/data/NF0040/raw_images/F2-2. Skipping...\n"
                    ]
                },
                {
                    "data": {
                        "application/vnd.jupyter.widget-view+json": {
                            "model_id": "3675b4ff82714f7891962170e89619d7",
                            "version_major": 2,
                            "version_minor": 0
                        },
                        "text/plain": [
                            "Processing channels in F2-7:   0%|          | 0/5 [00:00<?, ?it/s]"
                        ]
                    },
                    "metadata": {},
                    "output_type": "display_data"
                },
                {
                    "name": "stdout",
                    "output_type": "stream",
                    "text": [
                        "No files found for channel 405 in /home/lippincm/Documents/GFF_3D_organoid_profiling_pipeline/data/NF0040/raw_images/F2-7. Skipping...\n",
                        "No files found for channel 488 in /home/lippincm/Documents/GFF_3D_organoid_profiling_pipeline/data/NF0040/raw_images/F2-7. Skipping...\n",
                        "No files found for channel 555 in /home/lippincm/Documents/GFF_3D_organoid_profiling_pipeline/data/NF0040/raw_images/F2-7. Skipping...\n",
                        "No files found for channel 640 in /home/lippincm/Documents/GFF_3D_organoid_profiling_pipeline/data/NF0040/raw_images/F2-7. Skipping...\n"
                    ]
                },
                {
                    "data": {
                        "application/vnd.jupyter.widget-view+json": {
                            "model_id": "9bbe6e3da32240f5bf13d34aeaf891e7",
                            "version_major": 2,
                            "version_minor": 0
                        },
                        "text/plain": [
                            "Processing channels in G10-4:   0%|          | 0/5 [00:00<?, ?it/s]"
                        ]
                    },
                    "metadata": {},
                    "output_type": "display_data"
                },
                {
                    "name": "stdout",
                    "output_type": "stream",
                    "text": [
                        "No files found for channel 405 in /home/lippincm/Documents/GFF_3D_organoid_profiling_pipeline/data/NF0040/raw_images/G10-4. Skipping...\n",
                        "No files found for channel 488 in /home/lippincm/Documents/GFF_3D_organoid_profiling_pipeline/data/NF0040/raw_images/G10-4. Skipping...\n",
                        "No files found for channel 640 in /home/lippincm/Documents/GFF_3D_organoid_profiling_pipeline/data/NF0040/raw_images/G10-4. Skipping...\n",
                        "No files found for channel TRANS in /home/lippincm/Documents/GFF_3D_organoid_profiling_pipeline/data/NF0040/raw_images/G10-4. Skipping...\n"
                    ]
                },
                {
                    "data": {
                        "application/vnd.jupyter.widget-view+json": {
                            "model_id": "a801a0fbdde54015bd1e89aa4dad2c4e",
                            "version_major": 2,
                            "version_minor": 0
                        },
                        "text/plain": [
                            "Processing channels in G3-2:   0%|          | 0/5 [00:00<?, ?it/s]"
                        ]
                    },
                    "metadata": {},
                    "output_type": "display_data"
                },
                {
                    "name": "stdout",
                    "output_type": "stream",
                    "text": [
                        "No files found for channel 405 in /home/lippincm/Documents/GFF_3D_organoid_profiling_pipeline/data/NF0040/raw_images/G3-2. Skipping...\n",
                        "No files found for channel 488 in /home/lippincm/Documents/GFF_3D_organoid_profiling_pipeline/data/NF0040/raw_images/G3-2. Skipping...\n",
                        "No files found for channel 555 in /home/lippincm/Documents/GFF_3D_organoid_profiling_pipeline/data/NF0040/raw_images/G3-2. Skipping...\n",
                        "No files found for channel 640 in /home/lippincm/Documents/GFF_3D_organoid_profiling_pipeline/data/NF0040/raw_images/G3-2. Skipping...\n"
                    ]
                },
                {
                    "data": {
                        "application/vnd.jupyter.widget-view+json": {
                            "model_id": "f0e9edbfdc8d45beb12fca9a74038de7",
                            "version_major": 2,
                            "version_minor": 0
                        },
                        "text/plain": [
                            "Processing channels in G4-3:   0%|          | 0/5 [00:00<?, ?it/s]"
                        ]
                    },
                    "metadata": {},
                    "output_type": "display_data"
                },
                {
                    "name": "stdout",
                    "output_type": "stream",
                    "text": [
                        "No files found for channel 405 in /home/lippincm/Documents/GFF_3D_organoid_profiling_pipeline/data/NF0040/raw_images/G4-3. Skipping...\n",
                        "No files found for channel 488 in /home/lippincm/Documents/GFF_3D_organoid_profiling_pipeline/data/NF0040/raw_images/G4-3. Skipping...\n",
                        "No files found for channel 555 in /home/lippincm/Documents/GFF_3D_organoid_profiling_pipeline/data/NF0040/raw_images/G4-3. Skipping...\n",
                        "No files found for channel TRANS in /home/lippincm/Documents/GFF_3D_organoid_profiling_pipeline/data/NF0040/raw_images/G4-3. Skipping...\n"
                    ]
                },
                {
                    "data": {
                        "application/vnd.jupyter.widget-view+json": {
                            "model_id": "74769c314ebd4d299499468a26285c80",
                            "version_major": 2,
                            "version_minor": 0
                        },
                        "text/plain": [
                            "Processing channels in G6-3:   0%|          | 0/5 [00:00<?, ?it/s]"
                        ]
                    },
                    "metadata": {},
                    "output_type": "display_data"
                },
                {
                    "name": "stdout",
                    "output_type": "stream",
                    "text": [
                        "No files found for channel 405 in /home/lippincm/Documents/GFF_3D_organoid_profiling_pipeline/data/NF0040/raw_images/G6-3. Skipping...\n",
                        "No files found for channel 555 in /home/lippincm/Documents/GFF_3D_organoid_profiling_pipeline/data/NF0040/raw_images/G6-3. Skipping...\n",
                        "No files found for channel 640 in /home/lippincm/Documents/GFF_3D_organoid_profiling_pipeline/data/NF0040/raw_images/G6-3. Skipping...\n",
                        "No files found for channel TRANS in /home/lippincm/Documents/GFF_3D_organoid_profiling_pipeline/data/NF0040/raw_images/G6-3. Skipping...\n"
                    ]
                },
                {
                    "data": {
                        "application/vnd.jupyter.widget-view+json": {
                            "model_id": "604b496292284481bd8b09f1fdb95b4c",
                            "version_major": 2,
                            "version_minor": 0
                        },
                        "text/plain": [
                            "Processing channels in G7-3:   0%|          | 0/5 [00:00<?, ?it/s]"
                        ]
                    },
                    "metadata": {},
                    "output_type": "display_data"
                },
                {
                    "name": "stdout",
                    "output_type": "stream",
                    "text": [
                        "No files found for channel 405 in /home/lippincm/Documents/GFF_3D_organoid_profiling_pipeline/data/NF0040/raw_images/G7-3. Skipping...\n",
                        "No files found for channel 488 in /home/lippincm/Documents/GFF_3D_organoid_profiling_pipeline/data/NF0040/raw_images/G7-3. Skipping...\n",
                        "No files found for channel 555 in /home/lippincm/Documents/GFF_3D_organoid_profiling_pipeline/data/NF0040/raw_images/G7-3. Skipping...\n",
                        "No files found for channel TRANS in /home/lippincm/Documents/GFF_3D_organoid_profiling_pipeline/data/NF0040/raw_images/G7-3. Skipping...\n"
                    ]
                },
                {
                    "data": {
                        "application/vnd.jupyter.widget-view+json": {
                            "model_id": "134c2bbbcba74f798b1d6cdfcbe6af84",
                            "version_major": 2,
                            "version_minor": 0
                        },
                        "text/plain": [
                            "Processing channels in G7-4:   0%|          | 0/5 [00:00<?, ?it/s]"
                        ]
                    },
                    "metadata": {},
                    "output_type": "display_data"
                },
                {
                    "name": "stdout",
                    "output_type": "stream",
                    "text": [
                        "No files found for channel 405 in /home/lippincm/Documents/GFF_3D_organoid_profiling_pipeline/data/NF0040/raw_images/G7-4. Skipping...\n",
                        "No files found for channel 488 in /home/lippincm/Documents/GFF_3D_organoid_profiling_pipeline/data/NF0040/raw_images/G7-4. Skipping...\n",
                        "No files found for channel 555 in /home/lippincm/Documents/GFF_3D_organoid_profiling_pipeline/data/NF0040/raw_images/G7-4. Skipping...\n",
                        "No files found for channel 640 in /home/lippincm/Documents/GFF_3D_organoid_profiling_pipeline/data/NF0040/raw_images/G7-4. Skipping...\n"
                    ]
                },
                {
                    "data": {
                        "application/vnd.jupyter.widget-view+json": {
                            "model_id": "93fed27becd34637b0e1489b3dd7523c",
                            "version_major": 2,
                            "version_minor": 0
                        },
                        "text/plain": [
                            "Processing channels in G7-6:   0%|          | 0/5 [00:00<?, ?it/s]"
                        ]
                    },
                    "metadata": {},
                    "output_type": "display_data"
                },
                {
                    "name": "stdout",
                    "output_type": "stream",
                    "text": [
                        "No files found for channel 405 in /home/lippincm/Documents/GFF_3D_organoid_profiling_pipeline/data/NF0040/raw_images/G7-6. Skipping...\n",
                        "No files found for channel 488 in /home/lippincm/Documents/GFF_3D_organoid_profiling_pipeline/data/NF0040/raw_images/G7-6. Skipping...\n",
                        "No files found for channel 555 in /home/lippincm/Documents/GFF_3D_organoid_profiling_pipeline/data/NF0040/raw_images/G7-6. Skipping...\n",
                        "No files found for channel TRANS in /home/lippincm/Documents/GFF_3D_organoid_profiling_pipeline/data/NF0040/raw_images/G7-6. Skipping...\n"
                    ]
                }
            ],
            "source": [
                "# loop through patients, well_fovs, and each channel\n",
                "# outer loop through patients\n",
                "for patient in tqdm.tqdm(patient_input_dict.keys(), desc=\"Processing patients\"):\n",
                "    input_dirs = [\n",
                "        x for x in patient_input_dict[patient][\"raw_images\"].iterdir() if x.is_dir()\n",
                "    ]\n",
                "    input_dirs.sort()\n",
                "\n",
                "    for well_dir in tqdm.tqdm(\n",
                "        input_dirs, desc=f\"Processing wells for patient {patient}\", leave=False\n",
                "    ):\n",
                "        channel_images = {\n",
                "            channel_name: {\"filename\": [], \"filepath\": []}\n",
                "            for channel_name in channel_names\n",
                "        }\n",
                "        if (\n",
                "            patient in unlisted_images[\"patient\"]\n",
                "            and well_dir.name in unlisted_images[\"image_set\"]\n",
                "        ):\n",
                "            print(f\"Skipping {well_dir.name} because it is not listed.\")\n",
                "            continue\n",
                "\n",
                "        for filename in well_dir.glob(\"*\"):\n",
                "            if filename.suffix in image_extensions:\n",
                "                for channel_name in channel_names:\n",
                "                    if channel_name in filename.name:\n",
                "                        channel_images[channel_name][\"filepath\"].append(filename)\n",
                "\n",
                "        for channel_name in tqdm.tqdm(\n",
                "            channel_names, desc=f\"Processing channels in {well_dir.name}\", leave=False\n",
                "        ):\n",
                "            channel_images[channel_name][\"filepath\"] = sorted(\n",
                "                channel_images[channel_name][\"filepath\"]\n",
                "            )\n",
                "            if not channel_images[channel_name][\"filepath\"]:\n",
                "                print(\n",
                "                    f\"No files found for channel {channel_name} in {well_dir}. Skipping...\"\n",
                "                )\n",
                "                continue\n",
                "\n",
                "            images_to_stack = np.array(\n",
                "                [\n",
                "                    tiff.imread(filepath)\n",
                "                    for filepath in channel_images[channel_name][\"filepath\"]\n",
                "                ]\n",
                "            )\n",
                "            filepath = channel_images[channel_name][\"filepath\"][0]\n",
                "            well = str(filepath.parent).split(\"/\")[-1]\n",
                "            output_path = (\n",
                "                patient_input_dict[patient][\"zstack_output\"]\n",
                "                / f\"{well}\"\n",
                "                / f\"{well}_{channel_name}.tif\"\n",
                "            )\n",
                "            output_path.parent.mkdir(exist_ok=True, parents=True)\n",
                "            tiff.imwrite(output_path, images_to_stack)"
            ]
        }
    ],
    "metadata": {
        "kernelspec": {
            "display_name": "gff_preprocessing_env",
            "language": "python",
            "name": "python3"
        },
        "language_info": {
            "codemirror_mode": {
                "name": "ipython",
                "version": 3
            },
            "file_extension": ".py",
            "mimetype": "text/x-python",
            "name": "python",
            "nbconvert_exporter": "python",
            "pygments_lexer": "ipython3",
            "version": "3.10.15"
        }
    },
    "nbformat": 4,
    "nbformat_minor": 2
}
