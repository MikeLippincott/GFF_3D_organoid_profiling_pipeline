{
    "cells": [
        {
            "cell_type": "markdown",
            "metadata": {},
            "source": [
                "# Create z-stack images from the individual z-slice images for each FOV per well"
            ]
        },
        {
            "cell_type": "markdown",
            "metadata": {},
            "source": [
                "## Import libraries"
            ]
        },
        {
            "cell_type": "code",
            "execution_count": 1,
            "metadata": {},
            "outputs": [],
            "source": [
                "import pathlib\n",
                "import pprint\n",
                "\n",
                "import numpy as np\n",
                "import tifffile as tiff\n",
                "\n",
                "# check if in a jupyter notebook\n",
                "try:\n",
                "    cfg = get_ipython().config\n",
                "    in_notebook = True\n",
                "except NameError:\n",
                "    in_notebook = False\n",
                "\n",
                "if in_notebook:\n",
                "    from tqdm.notebook import tqdm\n",
                "else:\n",
                "    import tqdm"
            ]
        },
        {
            "cell_type": "markdown",
            "metadata": {},
            "source": [
                "## Set input and output directories"
            ]
        },
        {
            "cell_type": "code",
            "execution_count": null,
            "metadata": {},
            "outputs": [],
            "source": [
                "list_of_patients = [  # will be in a separate file in the future\n",
                "    \"NF0014\",\n",
                "    \"NF0016\",\n",
                "    \"NF0017\",\n",
                "    \"NF0018\",\n",
                "    \"NF0021\",\n",
                "    \"SACRO219\",\n",
                "]"
            ]
        },
        {
            "cell_type": "code",
            "execution_count": 3,
            "metadata": {},
            "outputs": [
                {
                    "name": "stdout",
                    "output_type": "stream",
                    "text": [
                        "{}\n"
                    ]
                }
            ],
            "source": [
                "patient_input_dict = {}\n",
                "for patient in list_of_patients:\n",
                "    patient_input_dict[patient] = {\n",
                "        \"raw_images\": pathlib.Path(f\"../../data/{patient}/raw_images\").resolve(),\n",
                "        \"zstack_output\": pathlib.Path(f\"../../data/{patient}/zstack_images\").resolve(),\n",
                "    }\n",
                "pprint.pprint(patient_input_dict)"
            ]
        },
        {
            "cell_type": "code",
            "execution_count": 4,
            "metadata": {},
            "outputs": [],
            "source": [
                "# Image extensions that we are looking to copy\n",
                "image_extensions = {\".tif\", \".tiff\"}"
            ]
        },
        {
            "cell_type": "code",
            "execution_count": 5,
            "metadata": {},
            "outputs": [],
            "source": [
                "unlisted_images = {\"patient\": [\"NF0014\"], \"image_set\": [\"F11-3\"]}"
            ]
        },
        {
            "cell_type": "code",
            "execution_count": 6,
            "metadata": {},
            "outputs": [
                {
                    "data": {
                        "text/plain": [
                            "{'405': {'filename': [], 'filepath': []},\n",
                            " '488': {'filename': [], 'filepath': []},\n",
                            " '555': {'filename': [], 'filepath': []},\n",
                            " '640': {'filename': [], 'filepath': []},\n",
                            " 'TRANS': {'filename': [], 'filepath': []}}"
                        ]
                    },
                    "execution_count": 6,
                    "metadata": {},
                    "output_type": "execute_result"
                }
            ],
            "source": [
                "image_extensions = {\".tif\", \".tiff\"}\n",
                "channel_names = [\"405\", \"488\", \"555\", \"640\", \"TRANS\"]\n",
                "# make a dictionary that contains a list for each channel name, storing both filepath and filename\n",
                "channel_images = {\n",
                "    channel_name: {\"filename\": [], \"filepath\": []} for channel_name in channel_names\n",
                "}\n",
                "channel_images"
            ]
        },
        {
            "cell_type": "markdown",
            "metadata": {},
            "source": [
                "## Create list of the well-site folders"
            ]
        },
        {
            "cell_type": "code",
            "execution_count": 7,
            "metadata": {},
            "outputs": [
                {
                    "data": {
                        "application/vnd.jupyter.widget-view+json": {
                            "model_id": "90a19c7640224af8b8a16ad84f7943ed",
                            "version_major": 2,
                            "version_minor": 0
                        },
                        "text/plain": [
                            "Processing patients: 0it [00:00, ?it/s]"
                        ]
                    },
                    "metadata": {},
                    "output_type": "display_data"
                }
            ],
            "source": [
                "# loop through patients, well_fovs, and each channel\n",
                "# outer loop through patients\n",
                "for patient in tqdm(patient_input_dict.keys(), desc=\"Processing patients\"):\n",
                "    input_dirs = [\n",
                "        x for x in patient_input_dict[patient][\"raw_images\"].iterdir() if x.is_dir()\n",
                "    ]\n",
                "    input_dirs.sort()\n",
                "\n",
                "    for well_dir in tqdm(\n",
                "        input_dirs, desc=f\"Processing wells for patient {patient}\", leave=False\n",
                "    ):\n",
                "        channel_images = {\n",
                "            channel_name: {\"filename\": [], \"filepath\": []}\n",
                "            for channel_name in channel_names\n",
                "        }\n",
                "        if (\n",
                "            patient in unlisted_images[\"patient\"]\n",
                "            and well_dir.name in unlisted_images[\"image_set\"]\n",
                "        ):\n",
                "            print(f\"Skipping {well_dir.name} because it is not listed.\")\n",
                "            continue\n",
                "\n",
                "        for filename in well_dir.glob(\"*\"):\n",
                "            if filename.suffix in image_extensions:\n",
                "                for channel_name in channel_names:\n",
                "                    if channel_name in filename.name:\n",
                "                        channel_images[channel_name][\"filepath\"].append(filename)\n",
                "\n",
                "        for channel_name in tqdm(\n",
                "            channel_names, desc=f\"Processing channels in {well_dir.name}\", leave=False\n",
                "        ):\n",
                "            channel_images[channel_name][\"filepath\"] = sorted(\n",
                "                channel_images[channel_name][\"filepath\"]\n",
                "            )\n",
                "            if not channel_images[channel_name][\"filepath\"]:\n",
                "                print(\n",
                "                    f\"No files found for channel {channel_name} in {well_dir}. Skipping...\"\n",
                "                )\n",
                "                continue\n",
                "\n",
                "            images_to_stack = np.array(\n",
                "                [\n",
                "                    tiff.imread(filepath)\n",
                "                    for filepath in channel_images[channel_name][\"filepath\"]\n",
                "                ]\n",
                "            )\n",
                "            filepath = channel_images[channel_name][\"filepath\"][0]\n",
                "            well = str(filepath.parent).split(\"/\")[-1]\n",
                "            output_path = (\n",
                "                patient_input_dict[patient][\"zstack_output\"]\n",
                "                / f\"{well}\"\n",
                "                / f\"{well}_{channel_name}.tif\"\n",
                "            )\n",
                "            output_path.parent.mkdir(exist_ok=True, parents=True)\n",
                "            tiff.imwrite(output_path, images_to_stack)"
            ]
        }
    ],
    "metadata": {
        "kernelspec": {
            "display_name": "gff_preprocessing_env",
            "language": "python",
            "name": "python3"
        },
        "language_info": {
            "codemirror_mode": {
                "name": "ipython",
                "version": 3
            },
            "file_extension": ".py",
            "mimetype": "text/x-python",
            "name": "python",
            "nbconvert_exporter": "python",
            "pygments_lexer": "ipython3",
            "version": "3.10.15"
        }
    },
    "nbformat": 4,
    "nbformat_minor": 2
}
