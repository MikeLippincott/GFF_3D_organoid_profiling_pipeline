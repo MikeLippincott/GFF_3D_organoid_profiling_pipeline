{
    "cells": [
        {
            "cell_type": "markdown",
            "metadata": {},
            "source": [
                "# Create z-stack images from the individual z-slice images for each FOV per well"
            ]
        },
        {
            "cell_type": "markdown",
            "metadata": {},
            "source": [
                "## Import libraries"
            ]
        },
        {
            "cell_type": "code",
            "execution_count": null,
            "metadata": {},
            "outputs": [],
            "source": [
                "import pathlib\n",
                "import pprint\n",
                "\n",
                "import numpy as np\n",
                "import tifffile as tiff\n",
                "\n",
                "# check if in a jupyter notebook\n",
                "try:\n",
                "    cfg = get_ipython().config\n",
                "    in_notebook = True\n",
                "except NameError:\n",
                "    in_notebook = False\n",
                "\n",
                "if in_notebook:\n",
                "    import tqdm.notebook as tqdm\n",
                "else:\n",
                "    import tqdm"
            ]
        },
        {
            "cell_type": "markdown",
            "metadata": {},
            "source": [
                "## Set input and output directories"
            ]
        },
        {
            "cell_type": "code",
            "execution_count": null,
            "metadata": {},
            "outputs": [],
            "source": [
                "list_of_patients = [  # will be in a separate file in the future\n",
                "    \"NF0014\",\n",
                "    \"NF0016\",\n",
                "    \"NF0017\",\n",
                "    \"NF0018\",\n",
                "    \"NF0021\",\n",
                "    \"SARCO219\",\n",
                "    \"SARCO361\",\n",
                "]"
            ]
        },
        {
            "cell_type": "code",
            "execution_count": 3,
            "metadata": {},
            "outputs": [
                {
                    "name": "stdout",
                    "output_type": "stream",
                    "text": [
                        "{'SARCO361': {'raw_images': PosixPath('/home/lippincm/Documents/GFF_3D_organoid_profiling_pipeline/data/SARCO361/raw_images'),\n",
                        "              'zstack_output': PosixPath('/home/lippincm/Documents/GFF_3D_organoid_profiling_pipeline/data/SARCO361/zstack_images')}}\n"
                    ]
                }
            ],
            "source": [
                "patient_input_dict = {}\n",
                "for patient in list_of_patients:\n",
                "    patient_input_dict[patient] = {\n",
                "        \"raw_images\": pathlib.Path(f\"../../data/{patient}/raw_images\").resolve(),\n",
                "        \"zstack_output\": pathlib.Path(f\"../../data/{patient}/zstack_images\").resolve(),\n",
                "    }\n",
                "pprint.pprint(patient_input_dict)"
            ]
        },
        {
            "cell_type": "code",
            "execution_count": 4,
            "metadata": {},
            "outputs": [],
            "source": [
                "# Image extensions that we are looking to copy\n",
                "image_extensions = {\".tif\", \".tiff\"}"
            ]
        },
        {
            "cell_type": "code",
            "execution_count": 5,
            "metadata": {},
            "outputs": [],
            "source": [
                "unlisted_images = {\"patient\": [\"NF0014\"], \"image_set\": [\"F11-3\"]}"
            ]
        },
        {
            "cell_type": "code",
            "execution_count": 6,
            "metadata": {},
            "outputs": [
                {
                    "data": {
                        "text/plain": [
                            "{'405': {'filename': [], 'filepath': []},\n",
                            " '488': {'filename': [], 'filepath': []},\n",
                            " '555': {'filename': [], 'filepath': []},\n",
                            " '640': {'filename': [], 'filepath': []},\n",
                            " 'TRANS': {'filename': [], 'filepath': []}}"
                        ]
                    },
                    "execution_count": 6,
                    "metadata": {},
                    "output_type": "execute_result"
                }
            ],
            "source": [
                "image_extensions = {\".tif\", \".tiff\"}\n",
                "channel_names = [\"405\", \"488\", \"555\", \"640\", \"TRANS\"]\n",
                "# make a dictionary that contains a list for each channel name, storing both filepath and filename\n",
                "channel_images = {\n",
                "    channel_name: {\"filename\": [], \"filepath\": []} for channel_name in channel_names\n",
                "}\n",
                "channel_images"
            ]
        },
        {
            "cell_type": "markdown",
            "metadata": {},
            "source": [
                "## Create list of the well-site folders"
            ]
        },
        {
            "cell_type": "code",
            "execution_count": null,
            "metadata": {},
            "outputs": [
                {
                    "data": {
                        "application/vnd.jupyter.widget-view+json": {
                            "model_id": "3e698d2a05214e62bae01e66d3937ca6",
                            "version_major": 2,
                            "version_minor": 0
                        },
                        "text/plain": [
                            "Processing patients:   0%|          | 0/1 [00:00<?, ?it/s]"
                        ]
                    },
                    "metadata": {},
                    "output_type": "display_data"
                },
                {
                    "data": {
                        "application/vnd.jupyter.widget-view+json": {
                            "model_id": "635856ba53c1437797b42512fe1abaed",
                            "version_major": 2,
                            "version_minor": 0
                        },
                        "text/plain": [
                            "Processing wells for patient SARCO361:   0%|          | 0/350 [00:00<?, ?it/s]"
                        ]
                    },
                    "metadata": {},
                    "output_type": "display_data"
                },
                {
                    "data": {
                        "application/vnd.jupyter.widget-view+json": {
                            "model_id": "c8e07942538a47749df73ec330437220",
                            "version_major": 2,
                            "version_minor": 0
                        },
                        "text/plain": [
                            "Processing channels in C10-1:   0%|          | 0/5 [00:00<?, ?it/s]"
                        ]
                    },
                    "metadata": {},
                    "output_type": "display_data"
                },
                {
                    "data": {
                        "application/vnd.jupyter.widget-view+json": {
                            "model_id": "5ff9e572e9a246e2b31676b88c379ed6",
                            "version_major": 2,
                            "version_minor": 0
                        },
                        "text/plain": [
                            "Processing channels in C10-2:   0%|          | 0/5 [00:00<?, ?it/s]"
                        ]
                    },
                    "metadata": {},
                    "output_type": "display_data"
                },
                {
                    "data": {
                        "application/vnd.jupyter.widget-view+json": {
                            "model_id": "e1609f32f7ba4e769aa4febe426592c8",
                            "version_major": 2,
                            "version_minor": 0
                        },
                        "text/plain": [
                            "Processing channels in C10-3:   0%|          | 0/5 [00:00<?, ?it/s]"
                        ]
                    },
                    "metadata": {},
                    "output_type": "display_data"
                },
                {
                    "data": {
                        "application/vnd.jupyter.widget-view+json": {
                            "model_id": "6900f899853040c39afde70dbe347cb8",
                            "version_major": 2,
                            "version_minor": 0
                        },
                        "text/plain": [
                            "Processing channels in C10-4:   0%|          | 0/5 [00:00<?, ?it/s]"
                        ]
                    },
                    "metadata": {},
                    "output_type": "display_data"
                },
                {
                    "data": {
                        "application/vnd.jupyter.widget-view+json": {
                            "model_id": "e7091f0a8a5f42529dc104febbb628f3",
                            "version_major": 2,
                            "version_minor": 0
                        },
                        "text/plain": [
                            "Processing channels in C10-5:   0%|          | 0/5 [00:00<?, ?it/s]"
                        ]
                    },
                    "metadata": {},
                    "output_type": "display_data"
                },
                {
                    "data": {
                        "application/vnd.jupyter.widget-view+json": {
                            "model_id": "55aa8d8a7a6c4c9482923e596c9fcac8",
                            "version_major": 2,
                            "version_minor": 0
                        },
                        "text/plain": [
                            "Processing channels in C10-6:   0%|          | 0/5 [00:00<?, ?it/s]"
                        ]
                    },
                    "metadata": {},
                    "output_type": "display_data"
                },
                {
                    "data": {
                        "application/vnd.jupyter.widget-view+json": {
                            "model_id": "6909c5ee6215436ba528b9d75efe0a4e",
                            "version_major": 2,
                            "version_minor": 0
                        },
                        "text/plain": [
                            "Processing channels in C10-7:   0%|          | 0/5 [00:00<?, ?it/s]"
                        ]
                    },
                    "metadata": {},
                    "output_type": "display_data"
                },
                {
                    "data": {
                        "application/vnd.jupyter.widget-view+json": {
                            "model_id": "6777005d089548e69a9d1590b5670fcb",
                            "version_major": 2,
                            "version_minor": 0
                        },
                        "text/plain": [
                            "Processing channels in C11-1:   0%|          | 0/5 [00:00<?, ?it/s]"
                        ]
                    },
                    "metadata": {},
                    "output_type": "display_data"
                },
                {
                    "data": {
                        "application/vnd.jupyter.widget-view+json": {
                            "model_id": "dae360a3000846eb80035346fe043c9f",
                            "version_major": 2,
                            "version_minor": 0
                        },
                        "text/plain": [
                            "Processing channels in C11-2:   0%|          | 0/5 [00:00<?, ?it/s]"
                        ]
                    },
                    "metadata": {},
                    "output_type": "display_data"
                },
                {
                    "data": {
                        "application/vnd.jupyter.widget-view+json": {
                            "model_id": "14394133a502485086f7676dd554ca93",
                            "version_major": 2,
                            "version_minor": 0
                        },
                        "text/plain": [
                            "Processing channels in C11-3:   0%|          | 0/5 [00:00<?, ?it/s]"
                        ]
                    },
                    "metadata": {},
                    "output_type": "display_data"
                },
                {
                    "data": {
                        "application/vnd.jupyter.widget-view+json": {
                            "model_id": "ec34e8b411654191a540f2a2d5b48272",
                            "version_major": 2,
                            "version_minor": 0
                        },
                        "text/plain": [
                            "Processing channels in C11-4:   0%|          | 0/5 [00:00<?, ?it/s]"
                        ]
                    },
                    "metadata": {},
                    "output_type": "display_data"
                },
                {
                    "data": {
                        "application/vnd.jupyter.widget-view+json": {
                            "model_id": "5db4ff82044d4c86a3d4343d438d4ece",
                            "version_major": 2,
                            "version_minor": 0
                        },
                        "text/plain": [
                            "Processing channels in C11-5:   0%|          | 0/5 [00:00<?, ?it/s]"
                        ]
                    },
                    "metadata": {},
                    "output_type": "display_data"
                },
                {
                    "data": {
                        "application/vnd.jupyter.widget-view+json": {
                            "model_id": "fdb934cff4f445df9dbac0e294ba1913",
                            "version_major": 2,
                            "version_minor": 0
                        },
                        "text/plain": [
                            "Processing channels in C11-6:   0%|          | 0/5 [00:00<?, ?it/s]"
                        ]
                    },
                    "metadata": {},
                    "output_type": "display_data"
                },
                {
                    "data": {
                        "application/vnd.jupyter.widget-view+json": {
                            "model_id": "766cc0eed5714107a828a6f21499c23f",
                            "version_major": 2,
                            "version_minor": 0
                        },
                        "text/plain": [
                            "Processing channels in C11-7:   0%|          | 0/5 [00:00<?, ?it/s]"
                        ]
                    },
                    "metadata": {},
                    "output_type": "display_data"
                },
                {
                    "data": {
                        "application/vnd.jupyter.widget-view+json": {
                            "model_id": "1648678b02dd495194e1082643b22001",
                            "version_major": 2,
                            "version_minor": 0
                        },
                        "text/plain": [
                            "Processing channels in C2-1:   0%|          | 0/5 [00:00<?, ?it/s]"
                        ]
                    },
                    "metadata": {},
                    "output_type": "display_data"
                },
                {
                    "data": {
                        "application/vnd.jupyter.widget-view+json": {
                            "model_id": "a940f06409d64baea2618c67bdb0e731",
                            "version_major": 2,
                            "version_minor": 0
                        },
                        "text/plain": [
                            "Processing channels in C2-2:   0%|          | 0/5 [00:00<?, ?it/s]"
                        ]
                    },
                    "metadata": {},
                    "output_type": "display_data"
                },
                {
                    "data": {
                        "application/vnd.jupyter.widget-view+json": {
                            "model_id": "f7721c9883af425b924c83957e205441",
                            "version_major": 2,
                            "version_minor": 0
                        },
                        "text/plain": [
                            "Processing channels in C2-3:   0%|          | 0/5 [00:00<?, ?it/s]"
                        ]
                    },
                    "metadata": {},
                    "output_type": "display_data"
                },
                {
                    "data": {
                        "application/vnd.jupyter.widget-view+json": {
                            "model_id": "11c6fa05ad294f85aaea09178d128bdc",
                            "version_major": 2,
                            "version_minor": 0
                        },
                        "text/plain": [
                            "Processing channels in C2-4:   0%|          | 0/5 [00:00<?, ?it/s]"
                        ]
                    },
                    "metadata": {},
                    "output_type": "display_data"
                },
                {
                    "data": {
                        "application/vnd.jupyter.widget-view+json": {
                            "model_id": "ee7bb4a334ce4adf80d8de335de39501",
                            "version_major": 2,
                            "version_minor": 0
                        },
                        "text/plain": [
                            "Processing channels in C2-5:   0%|          | 0/5 [00:00<?, ?it/s]"
                        ]
                    },
                    "metadata": {},
                    "output_type": "display_data"
                },
                {
                    "data": {
                        "application/vnd.jupyter.widget-view+json": {
                            "model_id": "917748ff455f4a4fa4b22ea2e9b37b89",
                            "version_major": 2,
                            "version_minor": 0
                        },
                        "text/plain": [
                            "Processing channels in C2-6:   0%|          | 0/5 [00:00<?, ?it/s]"
                        ]
                    },
                    "metadata": {},
                    "output_type": "display_data"
                },
                {
                    "data": {
                        "application/vnd.jupyter.widget-view+json": {
                            "model_id": "10cfbbcf2af543ea932270d511eaa920",
                            "version_major": 2,
                            "version_minor": 0
                        },
                        "text/plain": [
                            "Processing channels in C2-7:   0%|          | 0/5 [00:00<?, ?it/s]"
                        ]
                    },
                    "metadata": {},
                    "output_type": "display_data"
                },
                {
                    "data": {
                        "application/vnd.jupyter.widget-view+json": {
                            "model_id": "aa1014a36b4e41179d0c7f9aeac0c349",
                            "version_major": 2,
                            "version_minor": 0
                        },
                        "text/plain": [
                            "Processing channels in C3-1:   0%|          | 0/5 [00:00<?, ?it/s]"
                        ]
                    },
                    "metadata": {},
                    "output_type": "display_data"
                },
                {
                    "data": {
                        "application/vnd.jupyter.widget-view+json": {
                            "model_id": "5a86a4475bd04094957ba1417faf0065",
                            "version_major": 2,
                            "version_minor": 0
                        },
                        "text/plain": [
                            "Processing channels in C3-2:   0%|          | 0/5 [00:00<?, ?it/s]"
                        ]
                    },
                    "metadata": {},
                    "output_type": "display_data"
                },
                {
                    "data": {
                        "application/vnd.jupyter.widget-view+json": {
                            "model_id": "00f95c68c43e432293faba9256766c05",
                            "version_major": 2,
                            "version_minor": 0
                        },
                        "text/plain": [
                            "Processing channels in C3-3:   0%|          | 0/5 [00:00<?, ?it/s]"
                        ]
                    },
                    "metadata": {},
                    "output_type": "display_data"
                },
                {
                    "data": {
                        "application/vnd.jupyter.widget-view+json": {
                            "model_id": "7e82e63cbb7e4b37bde3ec6baf5c9c2a",
                            "version_major": 2,
                            "version_minor": 0
                        },
                        "text/plain": [
                            "Processing channels in C3-4:   0%|          | 0/5 [00:00<?, ?it/s]"
                        ]
                    },
                    "metadata": {},
                    "output_type": "display_data"
                },
                {
                    "data": {
                        "application/vnd.jupyter.widget-view+json": {
                            "model_id": "acb38fbebe634ba38761b47a284ca48c",
                            "version_major": 2,
                            "version_minor": 0
                        },
                        "text/plain": [
                            "Processing channels in C3-5:   0%|          | 0/5 [00:00<?, ?it/s]"
                        ]
                    },
                    "metadata": {},
                    "output_type": "display_data"
                },
                {
                    "data": {
                        "application/vnd.jupyter.widget-view+json": {
                            "model_id": "b3975dd4b3404250a0db00546d23109f",
                            "version_major": 2,
                            "version_minor": 0
                        },
                        "text/plain": [
                            "Processing channels in C3-6:   0%|          | 0/5 [00:00<?, ?it/s]"
                        ]
                    },
                    "metadata": {},
                    "output_type": "display_data"
                },
                {
                    "data": {
                        "application/vnd.jupyter.widget-view+json": {
                            "model_id": "4d43341a6d334e44bb0418617878743f",
                            "version_major": 2,
                            "version_minor": 0
                        },
                        "text/plain": [
                            "Processing channels in C3-7:   0%|          | 0/5 [00:00<?, ?it/s]"
                        ]
                    },
                    "metadata": {},
                    "output_type": "display_data"
                },
                {
                    "data": {
                        "application/vnd.jupyter.widget-view+json": {
                            "model_id": "2a10295a78044670b715483febe74423",
                            "version_major": 2,
                            "version_minor": 0
                        },
                        "text/plain": [
                            "Processing channels in C4-1:   0%|          | 0/5 [00:00<?, ?it/s]"
                        ]
                    },
                    "metadata": {},
                    "output_type": "display_data"
                },
                {
                    "data": {
                        "application/vnd.jupyter.widget-view+json": {
                            "model_id": "9e545e21bc604c3d994b31350d973d3d",
                            "version_major": 2,
                            "version_minor": 0
                        },
                        "text/plain": [
                            "Processing channels in C4-2:   0%|          | 0/5 [00:00<?, ?it/s]"
                        ]
                    },
                    "metadata": {},
                    "output_type": "display_data"
                },
                {
                    "data": {
                        "application/vnd.jupyter.widget-view+json": {
                            "model_id": "d633d762927c4396997fe939f194e0a8",
                            "version_major": 2,
                            "version_minor": 0
                        },
                        "text/plain": [
                            "Processing channels in C4-3:   0%|          | 0/5 [00:00<?, ?it/s]"
                        ]
                    },
                    "metadata": {},
                    "output_type": "display_data"
                },
                {
                    "data": {
                        "application/vnd.jupyter.widget-view+json": {
                            "model_id": "39fa2039005443e1bc47ab3ca269b990",
                            "version_major": 2,
                            "version_minor": 0
                        },
                        "text/plain": [
                            "Processing channels in C4-4:   0%|          | 0/5 [00:00<?, ?it/s]"
                        ]
                    },
                    "metadata": {},
                    "output_type": "display_data"
                },
                {
                    "data": {
                        "application/vnd.jupyter.widget-view+json": {
                            "model_id": "bd3dcddaff70451cbb4dc82d873e6c08",
                            "version_major": 2,
                            "version_minor": 0
                        },
                        "text/plain": [
                            "Processing channels in C4-5:   0%|          | 0/5 [00:00<?, ?it/s]"
                        ]
                    },
                    "metadata": {},
                    "output_type": "display_data"
                },
                {
                    "data": {
                        "application/vnd.jupyter.widget-view+json": {
                            "model_id": "fdbd78d9b6b94620a270787006fb0a7e",
                            "version_major": 2,
                            "version_minor": 0
                        },
                        "text/plain": [
                            "Processing channels in C4-6:   0%|          | 0/5 [00:00<?, ?it/s]"
                        ]
                    },
                    "metadata": {},
                    "output_type": "display_data"
                },
                {
                    "data": {
                        "application/vnd.jupyter.widget-view+json": {
                            "model_id": "29680140006e4e2590285bd06d23a5ce",
                            "version_major": 2,
                            "version_minor": 0
                        },
                        "text/plain": [
                            "Processing channels in C4-7:   0%|          | 0/5 [00:00<?, ?it/s]"
                        ]
                    },
                    "metadata": {},
                    "output_type": "display_data"
                },
                {
                    "data": {
                        "application/vnd.jupyter.widget-view+json": {
                            "model_id": "f57c9ebcf0674625b789eb95575a67fb",
                            "version_major": 2,
                            "version_minor": 0
                        },
                        "text/plain": [
                            "Processing channels in C5-1:   0%|          | 0/5 [00:00<?, ?it/s]"
                        ]
                    },
                    "metadata": {},
                    "output_type": "display_data"
                },
                {
                    "data": {
                        "application/vnd.jupyter.widget-view+json": {
                            "model_id": "8346d41e2dde434a92af5d6f1df14780",
                            "version_major": 2,
                            "version_minor": 0
                        },
                        "text/plain": [
                            "Processing channels in C5-2:   0%|          | 0/5 [00:00<?, ?it/s]"
                        ]
                    },
                    "metadata": {},
                    "output_type": "display_data"
                },
                {
                    "data": {
                        "application/vnd.jupyter.widget-view+json": {
                            "model_id": "af04e9daf6f14e77a5b78cc106fe3f80",
                            "version_major": 2,
                            "version_minor": 0
                        },
                        "text/plain": [
                            "Processing channels in C5-3:   0%|          | 0/5 [00:00<?, ?it/s]"
                        ]
                    },
                    "metadata": {},
                    "output_type": "display_data"
                },
                {
                    "data": {
                        "application/vnd.jupyter.widget-view+json": {
                            "model_id": "4c36a08663c040ea8b5ade13a22a62e1",
                            "version_major": 2,
                            "version_minor": 0
                        },
                        "text/plain": [
                            "Processing channels in C5-4:   0%|          | 0/5 [00:00<?, ?it/s]"
                        ]
                    },
                    "metadata": {},
                    "output_type": "display_data"
                },
                {
                    "data": {
                        "application/vnd.jupyter.widget-view+json": {
                            "model_id": "9099664bf87c4ad28b3266ad8d3712c3",
                            "version_major": 2,
                            "version_minor": 0
                        },
                        "text/plain": [
                            "Processing channels in C5-5:   0%|          | 0/5 [00:00<?, ?it/s]"
                        ]
                    },
                    "metadata": {},
                    "output_type": "display_data"
                },
                {
                    "data": {
                        "application/vnd.jupyter.widget-view+json": {
                            "model_id": "120866a00af2427dbde6420737ad37d6",
                            "version_major": 2,
                            "version_minor": 0
                        },
                        "text/plain": [
                            "Processing channels in C5-6:   0%|          | 0/5 [00:00<?, ?it/s]"
                        ]
                    },
                    "metadata": {},
                    "output_type": "display_data"
                },
                {
                    "data": {
                        "application/vnd.jupyter.widget-view+json": {
                            "model_id": "c8187dfe1167476a8f754fd9af19d5e5",
                            "version_major": 2,
                            "version_minor": 0
                        },
                        "text/plain": [
                            "Processing channels in C5-7:   0%|          | 0/5 [00:00<?, ?it/s]"
                        ]
                    },
                    "metadata": {},
                    "output_type": "display_data"
                },
                {
                    "data": {
                        "application/vnd.jupyter.widget-view+json": {
                            "model_id": "37d83bdaf9e14a31901254c59c95249e",
                            "version_major": 2,
                            "version_minor": 0
                        },
                        "text/plain": [
                            "Processing channels in C6-1:   0%|          | 0/5 [00:00<?, ?it/s]"
                        ]
                    },
                    "metadata": {},
                    "output_type": "display_data"
                },
                {
                    "data": {
                        "application/vnd.jupyter.widget-view+json": {
                            "model_id": "df0c46f77b95486d9933d9ad80a8fb87",
                            "version_major": 2,
                            "version_minor": 0
                        },
                        "text/plain": [
                            "Processing channels in C6-2:   0%|          | 0/5 [00:00<?, ?it/s]"
                        ]
                    },
                    "metadata": {},
                    "output_type": "display_data"
                },
                {
                    "data": {
                        "application/vnd.jupyter.widget-view+json": {
                            "model_id": "ad796c0ea7e94c6eaaba191d33b4de98",
                            "version_major": 2,
                            "version_minor": 0
                        },
                        "text/plain": [
                            "Processing channels in C6-3:   0%|          | 0/5 [00:00<?, ?it/s]"
                        ]
                    },
                    "metadata": {},
                    "output_type": "display_data"
                },
                {
                    "data": {
                        "application/vnd.jupyter.widget-view+json": {
                            "model_id": "a196371257884ffd8cf1b4c97485df65",
                            "version_major": 2,
                            "version_minor": 0
                        },
                        "text/plain": [
                            "Processing channels in C6-4:   0%|          | 0/5 [00:00<?, ?it/s]"
                        ]
                    },
                    "metadata": {},
                    "output_type": "display_data"
                },
                {
                    "data": {
                        "application/vnd.jupyter.widget-view+json": {
                            "model_id": "cc9237c73bf64d51ac341b57096c37da",
                            "version_major": 2,
                            "version_minor": 0
                        },
                        "text/plain": [
                            "Processing channels in C6-5:   0%|          | 0/5 [00:00<?, ?it/s]"
                        ]
                    },
                    "metadata": {},
                    "output_type": "display_data"
                },
                {
                    "data": {
                        "application/vnd.jupyter.widget-view+json": {
                            "model_id": "291ed0a4f88f414c9487578e0273bc5f",
                            "version_major": 2,
                            "version_minor": 0
                        },
                        "text/plain": [
                            "Processing channels in C6-6:   0%|          | 0/5 [00:00<?, ?it/s]"
                        ]
                    },
                    "metadata": {},
                    "output_type": "display_data"
                },
                {
                    "data": {
                        "application/vnd.jupyter.widget-view+json": {
                            "model_id": "26b4661a0d7e41ca843bda43e28cb7e5",
                            "version_major": 2,
                            "version_minor": 0
                        },
                        "text/plain": [
                            "Processing channels in C6-7:   0%|          | 0/5 [00:00<?, ?it/s]"
                        ]
                    },
                    "metadata": {},
                    "output_type": "display_data"
                },
                {
                    "data": {
                        "application/vnd.jupyter.widget-view+json": {
                            "model_id": "4a3c02d92b7f4a2891e62052ec6308ba",
                            "version_major": 2,
                            "version_minor": 0
                        },
                        "text/plain": [
                            "Processing channels in C7-1:   0%|          | 0/5 [00:00<?, ?it/s]"
                        ]
                    },
                    "metadata": {},
                    "output_type": "display_data"
                },
                {
                    "data": {
                        "application/vnd.jupyter.widget-view+json": {
                            "model_id": "bfdd5cc2833f4c17b89b489e42a355df",
                            "version_major": 2,
                            "version_minor": 0
                        },
                        "text/plain": [
                            "Processing channels in C7-2:   0%|          | 0/5 [00:00<?, ?it/s]"
                        ]
                    },
                    "metadata": {},
                    "output_type": "display_data"
                },
                {
                    "data": {
                        "application/vnd.jupyter.widget-view+json": {
                            "model_id": "d96ec220d87c40bdb10842f53009ffd7",
                            "version_major": 2,
                            "version_minor": 0
                        },
                        "text/plain": [
                            "Processing channels in C7-3:   0%|          | 0/5 [00:00<?, ?it/s]"
                        ]
                    },
                    "metadata": {},
                    "output_type": "display_data"
                },
                {
                    "data": {
                        "application/vnd.jupyter.widget-view+json": {
                            "model_id": "a17f448b71d14b1788ff0d227c0c7aa7",
                            "version_major": 2,
                            "version_minor": 0
                        },
                        "text/plain": [
                            "Processing channels in C7-4:   0%|          | 0/5 [00:00<?, ?it/s]"
                        ]
                    },
                    "metadata": {},
                    "output_type": "display_data"
                },
                {
                    "data": {
                        "application/vnd.jupyter.widget-view+json": {
                            "model_id": "b8f7e857ae7a40ffa8da91d3bbc22485",
                            "version_major": 2,
                            "version_minor": 0
                        },
                        "text/plain": [
                            "Processing channels in C7-5:   0%|          | 0/5 [00:00<?, ?it/s]"
                        ]
                    },
                    "metadata": {},
                    "output_type": "display_data"
                },
                {
                    "data": {
                        "application/vnd.jupyter.widget-view+json": {
                            "model_id": "ad039e9ce65347a0bb35183d96ad158c",
                            "version_major": 2,
                            "version_minor": 0
                        },
                        "text/plain": [
                            "Processing channels in C7-6:   0%|          | 0/5 [00:00<?, ?it/s]"
                        ]
                    },
                    "metadata": {},
                    "output_type": "display_data"
                },
                {
                    "data": {
                        "application/vnd.jupyter.widget-view+json": {
                            "model_id": "058e8bb9fbcf42f38f3a7a7403a7730d",
                            "version_major": 2,
                            "version_minor": 0
                        },
                        "text/plain": [
                            "Processing channels in C7-7:   0%|          | 0/5 [00:00<?, ?it/s]"
                        ]
                    },
                    "metadata": {},
                    "output_type": "display_data"
                },
                {
                    "data": {
                        "application/vnd.jupyter.widget-view+json": {
                            "model_id": "5cd73739880341b19fb95ae931438059",
                            "version_major": 2,
                            "version_minor": 0
                        },
                        "text/plain": [
                            "Processing channels in C8-1:   0%|          | 0/5 [00:00<?, ?it/s]"
                        ]
                    },
                    "metadata": {},
                    "output_type": "display_data"
                },
                {
                    "data": {
                        "application/vnd.jupyter.widget-view+json": {
                            "model_id": "1762620d81774a12b6aa3e5f3ae7a552",
                            "version_major": 2,
                            "version_minor": 0
                        },
                        "text/plain": [
                            "Processing channels in C8-2:   0%|          | 0/5 [00:00<?, ?it/s]"
                        ]
                    },
                    "metadata": {},
                    "output_type": "display_data"
                },
                {
                    "data": {
                        "application/vnd.jupyter.widget-view+json": {
                            "model_id": "cd6228adc617480f8976319b4eb211bc",
                            "version_major": 2,
                            "version_minor": 0
                        },
                        "text/plain": [
                            "Processing channels in C8-3:   0%|          | 0/5 [00:00<?, ?it/s]"
                        ]
                    },
                    "metadata": {},
                    "output_type": "display_data"
                },
                {
                    "data": {
                        "application/vnd.jupyter.widget-view+json": {
                            "model_id": "b082e18b7e114b04810d22d629b51690",
                            "version_major": 2,
                            "version_minor": 0
                        },
                        "text/plain": [
                            "Processing channels in C8-4:   0%|          | 0/5 [00:00<?, ?it/s]"
                        ]
                    },
                    "metadata": {},
                    "output_type": "display_data"
                },
                {
                    "data": {
                        "application/vnd.jupyter.widget-view+json": {
                            "model_id": "1e1f2c88ec764329afec6a1713d85697",
                            "version_major": 2,
                            "version_minor": 0
                        },
                        "text/plain": [
                            "Processing channels in C8-5:   0%|          | 0/5 [00:00<?, ?it/s]"
                        ]
                    },
                    "metadata": {},
                    "output_type": "display_data"
                },
                {
                    "data": {
                        "application/vnd.jupyter.widget-view+json": {
                            "model_id": "f539f82ccdbf459eb360db7bb13f91a4",
                            "version_major": 2,
                            "version_minor": 0
                        },
                        "text/plain": [
                            "Processing channels in C8-6:   0%|          | 0/5 [00:00<?, ?it/s]"
                        ]
                    },
                    "metadata": {},
                    "output_type": "display_data"
                },
                {
                    "data": {
                        "application/vnd.jupyter.widget-view+json": {
                            "model_id": "e6265c78a0fc43a4adbaae17df4b3bfe",
                            "version_major": 2,
                            "version_minor": 0
                        },
                        "text/plain": [
                            "Processing channels in C8-7:   0%|          | 0/5 [00:00<?, ?it/s]"
                        ]
                    },
                    "metadata": {},
                    "output_type": "display_data"
                },
                {
                    "data": {
                        "application/vnd.jupyter.widget-view+json": {
                            "model_id": "7d9d6bfce21d4b5b93f57068a2fde882",
                            "version_major": 2,
                            "version_minor": 0
                        },
                        "text/plain": [
                            "Processing channels in C9-1:   0%|          | 0/5 [00:00<?, ?it/s]"
                        ]
                    },
                    "metadata": {},
                    "output_type": "display_data"
                },
                {
                    "data": {
                        "application/vnd.jupyter.widget-view+json": {
                            "model_id": "b0876ea4d0eb446aaff181fb7b27c4b6",
                            "version_major": 2,
                            "version_minor": 0
                        },
                        "text/plain": [
                            "Processing channels in C9-2:   0%|          | 0/5 [00:00<?, ?it/s]"
                        ]
                    },
                    "metadata": {},
                    "output_type": "display_data"
                },
                {
                    "data": {
                        "application/vnd.jupyter.widget-view+json": {
                            "model_id": "fd76fe5aee914134ad210bfcbcc8a4f1",
                            "version_major": 2,
                            "version_minor": 0
                        },
                        "text/plain": [
                            "Processing channels in C9-3:   0%|          | 0/5 [00:00<?, ?it/s]"
                        ]
                    },
                    "metadata": {},
                    "output_type": "display_data"
                },
                {
                    "data": {
                        "application/vnd.jupyter.widget-view+json": {
                            "model_id": "c178405fe8114a229aa6aebfce2a6e10",
                            "version_major": 2,
                            "version_minor": 0
                        },
                        "text/plain": [
                            "Processing channels in C9-4:   0%|          | 0/5 [00:00<?, ?it/s]"
                        ]
                    },
                    "metadata": {},
                    "output_type": "display_data"
                },
                {
                    "data": {
                        "application/vnd.jupyter.widget-view+json": {
                            "model_id": "3512b46466d149878b537269c961553f",
                            "version_major": 2,
                            "version_minor": 0
                        },
                        "text/plain": [
                            "Processing channels in C9-5:   0%|          | 0/5 [00:00<?, ?it/s]"
                        ]
                    },
                    "metadata": {},
                    "output_type": "display_data"
                },
                {
                    "data": {
                        "application/vnd.jupyter.widget-view+json": {
                            "model_id": "acb3575f426745b6b42f143c4d8d7c61",
                            "version_major": 2,
                            "version_minor": 0
                        },
                        "text/plain": [
                            "Processing channels in C9-6:   0%|          | 0/5 [00:00<?, ?it/s]"
                        ]
                    },
                    "metadata": {},
                    "output_type": "display_data"
                },
                {
                    "data": {
                        "application/vnd.jupyter.widget-view+json": {
                            "model_id": "ab39580b1f5c4a9c890a5b331a4ce44e",
                            "version_major": 2,
                            "version_minor": 0
                        },
                        "text/plain": [
                            "Processing channels in C9-7:   0%|          | 0/5 [00:00<?, ?it/s]"
                        ]
                    },
                    "metadata": {},
                    "output_type": "display_data"
                },
                {
                    "data": {
                        "application/vnd.jupyter.widget-view+json": {
                            "model_id": "0d0952d935be4a64911a80f9fd3c4432",
                            "version_major": 2,
                            "version_minor": 0
                        },
                        "text/plain": [
                            "Processing channels in D10-1:   0%|          | 0/5 [00:00<?, ?it/s]"
                        ]
                    },
                    "metadata": {},
                    "output_type": "display_data"
                },
                {
                    "data": {
                        "application/vnd.jupyter.widget-view+json": {
                            "model_id": "bc1d94b356794df583ad8eab74960684",
                            "version_major": 2,
                            "version_minor": 0
                        },
                        "text/plain": [
                            "Processing channels in D10-2:   0%|          | 0/5 [00:00<?, ?it/s]"
                        ]
                    },
                    "metadata": {},
                    "output_type": "display_data"
                },
                {
                    "data": {
                        "application/vnd.jupyter.widget-view+json": {
                            "model_id": "64bdb3e7771b44e09af3a960190ad46e",
                            "version_major": 2,
                            "version_minor": 0
                        },
                        "text/plain": [
                            "Processing channels in D10-3:   0%|          | 0/5 [00:00<?, ?it/s]"
                        ]
                    },
                    "metadata": {},
                    "output_type": "display_data"
                },
                {
                    "data": {
                        "application/vnd.jupyter.widget-view+json": {
                            "model_id": "b2dd3ef27e5c4eec8af0dd9a602d9f20",
                            "version_major": 2,
                            "version_minor": 0
                        },
                        "text/plain": [
                            "Processing channels in D10-4:   0%|          | 0/5 [00:00<?, ?it/s]"
                        ]
                    },
                    "metadata": {},
                    "output_type": "display_data"
                },
                {
                    "data": {
                        "application/vnd.jupyter.widget-view+json": {
                            "model_id": "f38e8011f79741f28e0af872acc4d4e7",
                            "version_major": 2,
                            "version_minor": 0
                        },
                        "text/plain": [
                            "Processing channels in D10-5:   0%|          | 0/5 [00:00<?, ?it/s]"
                        ]
                    },
                    "metadata": {},
                    "output_type": "display_data"
                },
                {
                    "data": {
                        "application/vnd.jupyter.widget-view+json": {
                            "model_id": "b92fa6803f8e4a66affc262cd2ebd3c9",
                            "version_major": 2,
                            "version_minor": 0
                        },
                        "text/plain": [
                            "Processing channels in D10-6:   0%|          | 0/5 [00:00<?, ?it/s]"
                        ]
                    },
                    "metadata": {},
                    "output_type": "display_data"
                },
                {
                    "data": {
                        "application/vnd.jupyter.widget-view+json": {
                            "model_id": "31e42e5f60384e4f96e42a6dbab7753a",
                            "version_major": 2,
                            "version_minor": 0
                        },
                        "text/plain": [
                            "Processing channels in D10-7:   0%|          | 0/5 [00:00<?, ?it/s]"
                        ]
                    },
                    "metadata": {},
                    "output_type": "display_data"
                },
                {
                    "data": {
                        "application/vnd.jupyter.widget-view+json": {
                            "model_id": "5b3adceb49314d8390e7a33d568ca50d",
                            "version_major": 2,
                            "version_minor": 0
                        },
                        "text/plain": [
                            "Processing channels in D11-1:   0%|          | 0/5 [00:00<?, ?it/s]"
                        ]
                    },
                    "metadata": {},
                    "output_type": "display_data"
                },
                {
                    "data": {
                        "application/vnd.jupyter.widget-view+json": {
                            "model_id": "f0833dfc2b634242a1a00d928f52c99b",
                            "version_major": 2,
                            "version_minor": 0
                        },
                        "text/plain": [
                            "Processing channels in D11-2:   0%|          | 0/5 [00:00<?, ?it/s]"
                        ]
                    },
                    "metadata": {},
                    "output_type": "display_data"
                },
                {
                    "data": {
                        "application/vnd.jupyter.widget-view+json": {
                            "model_id": "ade522e577c6461ab69786cf322bebfa",
                            "version_major": 2,
                            "version_minor": 0
                        },
                        "text/plain": [
                            "Processing channels in D11-3:   0%|          | 0/5 [00:00<?, ?it/s]"
                        ]
                    },
                    "metadata": {},
                    "output_type": "display_data"
                },
                {
                    "data": {
                        "application/vnd.jupyter.widget-view+json": {
                            "model_id": "6570e48a496648db9cbe8ad7a14e530a",
                            "version_major": 2,
                            "version_minor": 0
                        },
                        "text/plain": [
                            "Processing channels in D11-4:   0%|          | 0/5 [00:00<?, ?it/s]"
                        ]
                    },
                    "metadata": {},
                    "output_type": "display_data"
                },
                {
                    "data": {
                        "application/vnd.jupyter.widget-view+json": {
                            "model_id": "677759cb8627486ca08f49633e3d592f",
                            "version_major": 2,
                            "version_minor": 0
                        },
                        "text/plain": [
                            "Processing channels in D11-5:   0%|          | 0/5 [00:00<?, ?it/s]"
                        ]
                    },
                    "metadata": {},
                    "output_type": "display_data"
                },
                {
                    "data": {
                        "application/vnd.jupyter.widget-view+json": {
                            "model_id": "f62239163edd4cdc8d9094fb9f3d38b8",
                            "version_major": 2,
                            "version_minor": 0
                        },
                        "text/plain": [
                            "Processing channels in D11-6:   0%|          | 0/5 [00:00<?, ?it/s]"
                        ]
                    },
                    "metadata": {},
                    "output_type": "display_data"
                },
                {
                    "data": {
                        "application/vnd.jupyter.widget-view+json": {
                            "model_id": "741938532a1b4e908b36c9e30946c103",
                            "version_major": 2,
                            "version_minor": 0
                        },
                        "text/plain": [
                            "Processing channels in D11-7:   0%|          | 0/5 [00:00<?, ?it/s]"
                        ]
                    },
                    "metadata": {},
                    "output_type": "display_data"
                },
                {
                    "data": {
                        "application/vnd.jupyter.widget-view+json": {
                            "model_id": "57d19fead43f416e8cd440ab871df139",
                            "version_major": 2,
                            "version_minor": 0
                        },
                        "text/plain": [
                            "Processing channels in D2-1:   0%|          | 0/5 [00:00<?, ?it/s]"
                        ]
                    },
                    "metadata": {},
                    "output_type": "display_data"
                },
                {
                    "data": {
                        "application/vnd.jupyter.widget-view+json": {
                            "model_id": "d2b1f3cd1b224a96951aaa965e312e01",
                            "version_major": 2,
                            "version_minor": 0
                        },
                        "text/plain": [
                            "Processing channels in D2-2:   0%|          | 0/5 [00:00<?, ?it/s]"
                        ]
                    },
                    "metadata": {},
                    "output_type": "display_data"
                },
                {
                    "data": {
                        "application/vnd.jupyter.widget-view+json": {
                            "model_id": "c8d8f33a181b4f2793a87ca98f6edc06",
                            "version_major": 2,
                            "version_minor": 0
                        },
                        "text/plain": [
                            "Processing channels in D2-3:   0%|          | 0/5 [00:00<?, ?it/s]"
                        ]
                    },
                    "metadata": {},
                    "output_type": "display_data"
                },
                {
                    "name": "stdout",
                    "output_type": "stream",
                    "text": [
                        "No files found for channel 405 in /home/lippincm/Documents/GFF_3D_organoid_profiling_pipeline/data/SARCO361/raw_images/D2-3. Skipping...\n",
                        "No files found for channel 488 in /home/lippincm/Documents/GFF_3D_organoid_profiling_pipeline/data/SARCO361/raw_images/D2-3. Skipping...\n",
                        "No files found for channel 555 in /home/lippincm/Documents/GFF_3D_organoid_profiling_pipeline/data/SARCO361/raw_images/D2-3. Skipping...\n",
                        "No files found for channel 640 in /home/lippincm/Documents/GFF_3D_organoid_profiling_pipeline/data/SARCO361/raw_images/D2-3. Skipping...\n",
                        "No files found for channel TRANS in /home/lippincm/Documents/GFF_3D_organoid_profiling_pipeline/data/SARCO361/raw_images/D2-3. Skipping...\n"
                    ]
                },
                {
                    "data": {
                        "application/vnd.jupyter.widget-view+json": {
                            "model_id": "e5ecde0a48954233a7a7590de53410f7",
                            "version_major": 2,
                            "version_minor": 0
                        },
                        "text/plain": [
                            "Processing channels in D2-4:   0%|          | 0/5 [00:00<?, ?it/s]"
                        ]
                    },
                    "metadata": {},
                    "output_type": "display_data"
                },
                {
                    "data": {
                        "application/vnd.jupyter.widget-view+json": {
                            "model_id": "d0a95bd5ba7d4a7d9eb0a657582891ed",
                            "version_major": 2,
                            "version_minor": 0
                        },
                        "text/plain": [
                            "Processing channels in D2-5:   0%|          | 0/5 [00:00<?, ?it/s]"
                        ]
                    },
                    "metadata": {},
                    "output_type": "display_data"
                },
                {
                    "data": {
                        "application/vnd.jupyter.widget-view+json": {
                            "model_id": "f0da8a657b094da6a1121d68b937219e",
                            "version_major": 2,
                            "version_minor": 0
                        },
                        "text/plain": [
                            "Processing channels in D2-6:   0%|          | 0/5 [00:00<?, ?it/s]"
                        ]
                    },
                    "metadata": {},
                    "output_type": "display_data"
                },
                {
                    "data": {
                        "application/vnd.jupyter.widget-view+json": {
                            "model_id": "8d8fcc71a9d54b95a064926be3636576",
                            "version_major": 2,
                            "version_minor": 0
                        },
                        "text/plain": [
                            "Processing channels in D2-7:   0%|          | 0/5 [00:00<?, ?it/s]"
                        ]
                    },
                    "metadata": {},
                    "output_type": "display_data"
                },
                {
                    "data": {
                        "application/vnd.jupyter.widget-view+json": {
                            "model_id": "fff916d9906c44b4be8a3ec9c9e45090",
                            "version_major": 2,
                            "version_minor": 0
                        },
                        "text/plain": [
                            "Processing channels in D3-1:   0%|          | 0/5 [00:00<?, ?it/s]"
                        ]
                    },
                    "metadata": {},
                    "output_type": "display_data"
                },
                {
                    "data": {
                        "application/vnd.jupyter.widget-view+json": {
                            "model_id": "be336fe85d494a61841da2e20ff96bf8",
                            "version_major": 2,
                            "version_minor": 0
                        },
                        "text/plain": [
                            "Processing channels in D3-2:   0%|          | 0/5 [00:00<?, ?it/s]"
                        ]
                    },
                    "metadata": {},
                    "output_type": "display_data"
                },
                {
                    "data": {
                        "application/vnd.jupyter.widget-view+json": {
                            "model_id": "a74cb2a9974846488a6b8a4900342777",
                            "version_major": 2,
                            "version_minor": 0
                        },
                        "text/plain": [
                            "Processing channels in D3-3:   0%|          | 0/5 [00:00<?, ?it/s]"
                        ]
                    },
                    "metadata": {},
                    "output_type": "display_data"
                },
                {
                    "data": {
                        "application/vnd.jupyter.widget-view+json": {
                            "model_id": "012d33e774ac4785a434973547f1bfff",
                            "version_major": 2,
                            "version_minor": 0
                        },
                        "text/plain": [
                            "Processing channels in D3-4:   0%|          | 0/5 [00:00<?, ?it/s]"
                        ]
                    },
                    "metadata": {},
                    "output_type": "display_data"
                },
                {
                    "data": {
                        "application/vnd.jupyter.widget-view+json": {
                            "model_id": "a7ed65ecabe349d1b4495ab279127111",
                            "version_major": 2,
                            "version_minor": 0
                        },
                        "text/plain": [
                            "Processing channels in D3-5:   0%|          | 0/5 [00:00<?, ?it/s]"
                        ]
                    },
                    "metadata": {},
                    "output_type": "display_data"
                },
                {
                    "data": {
                        "application/vnd.jupyter.widget-view+json": {
                            "model_id": "b92c8984f4f449fbbb2742b28ed4d841",
                            "version_major": 2,
                            "version_minor": 0
                        },
                        "text/plain": [
                            "Processing channels in D3-6:   0%|          | 0/5 [00:00<?, ?it/s]"
                        ]
                    },
                    "metadata": {},
                    "output_type": "display_data"
                },
                {
                    "data": {
                        "application/vnd.jupyter.widget-view+json": {
                            "model_id": "50c281b6f6bc4a03ba36ca1d48e5c542",
                            "version_major": 2,
                            "version_minor": 0
                        },
                        "text/plain": [
                            "Processing channels in D3-7:   0%|          | 0/5 [00:00<?, ?it/s]"
                        ]
                    },
                    "metadata": {},
                    "output_type": "display_data"
                },
                {
                    "data": {
                        "application/vnd.jupyter.widget-view+json": {
                            "model_id": "cb3b1023737346cc8609dde29decbff9",
                            "version_major": 2,
                            "version_minor": 0
                        },
                        "text/plain": [
                            "Processing channels in D4-1:   0%|          | 0/5 [00:00<?, ?it/s]"
                        ]
                    },
                    "metadata": {},
                    "output_type": "display_data"
                },
                {
                    "data": {
                        "application/vnd.jupyter.widget-view+json": {
                            "model_id": "1edcc93129204ab7bafb25e3bd4d9b1e",
                            "version_major": 2,
                            "version_minor": 0
                        },
                        "text/plain": [
                            "Processing channels in D4-2:   0%|          | 0/5 [00:00<?, ?it/s]"
                        ]
                    },
                    "metadata": {},
                    "output_type": "display_data"
                },
                {
                    "data": {
                        "application/vnd.jupyter.widget-view+json": {
                            "model_id": "f506ede09a724e6db5b2cf5259b39d20",
                            "version_major": 2,
                            "version_minor": 0
                        },
                        "text/plain": [
                            "Processing channels in D4-3:   0%|          | 0/5 [00:00<?, ?it/s]"
                        ]
                    },
                    "metadata": {},
                    "output_type": "display_data"
                },
                {
                    "data": {
                        "application/vnd.jupyter.widget-view+json": {
                            "model_id": "6fd6e7d8001b4a88854a024871f24533",
                            "version_major": 2,
                            "version_minor": 0
                        },
                        "text/plain": [
                            "Processing channels in D4-4:   0%|          | 0/5 [00:00<?, ?it/s]"
                        ]
                    },
                    "metadata": {},
                    "output_type": "display_data"
                },
                {
                    "data": {
                        "application/vnd.jupyter.widget-view+json": {
                            "model_id": "57b1cb9c6a3a442f8cab8b01387db1eb",
                            "version_major": 2,
                            "version_minor": 0
                        },
                        "text/plain": [
                            "Processing channels in D4-5:   0%|          | 0/5 [00:00<?, ?it/s]"
                        ]
                    },
                    "metadata": {},
                    "output_type": "display_data"
                },
                {
                    "data": {
                        "application/vnd.jupyter.widget-view+json": {
                            "model_id": "2d4e641bb57c4359a46e7c81aeffdad4",
                            "version_major": 2,
                            "version_minor": 0
                        },
                        "text/plain": [
                            "Processing channels in D4-6:   0%|          | 0/5 [00:00<?, ?it/s]"
                        ]
                    },
                    "metadata": {},
                    "output_type": "display_data"
                },
                {
                    "data": {
                        "application/vnd.jupyter.widget-view+json": {
                            "model_id": "5518d5dcaf29448889dc2da6d23841ed",
                            "version_major": 2,
                            "version_minor": 0
                        },
                        "text/plain": [
                            "Processing channels in D4-7:   0%|          | 0/5 [00:00<?, ?it/s]"
                        ]
                    },
                    "metadata": {},
                    "output_type": "display_data"
                },
                {
                    "data": {
                        "application/vnd.jupyter.widget-view+json": {
                            "model_id": "79f90131ee924effa6ffd1ea19109646",
                            "version_major": 2,
                            "version_minor": 0
                        },
                        "text/plain": [
                            "Processing channels in D5-1:   0%|          | 0/5 [00:00<?, ?it/s]"
                        ]
                    },
                    "metadata": {},
                    "output_type": "display_data"
                },
                {
                    "data": {
                        "application/vnd.jupyter.widget-view+json": {
                            "model_id": "2a7b9ddceac848c9b5b1731774597203",
                            "version_major": 2,
                            "version_minor": 0
                        },
                        "text/plain": [
                            "Processing channels in D5-2:   0%|          | 0/5 [00:00<?, ?it/s]"
                        ]
                    },
                    "metadata": {},
                    "output_type": "display_data"
                },
                {
                    "data": {
                        "application/vnd.jupyter.widget-view+json": {
                            "model_id": "2c5d51995a794778a61057819bb2c094",
                            "version_major": 2,
                            "version_minor": 0
                        },
                        "text/plain": [
                            "Processing channels in D5-3:   0%|          | 0/5 [00:00<?, ?it/s]"
                        ]
                    },
                    "metadata": {},
                    "output_type": "display_data"
                },
                {
                    "data": {
                        "application/vnd.jupyter.widget-view+json": {
                            "model_id": "414c57ce49de4abfb9041d6f717f600d",
                            "version_major": 2,
                            "version_minor": 0
                        },
                        "text/plain": [
                            "Processing channels in D5-4:   0%|          | 0/5 [00:00<?, ?it/s]"
                        ]
                    },
                    "metadata": {},
                    "output_type": "display_data"
                },
                {
                    "data": {
                        "application/vnd.jupyter.widget-view+json": {
                            "model_id": "1316082801ab4b12a4b031e7447f7e2a",
                            "version_major": 2,
                            "version_minor": 0
                        },
                        "text/plain": [
                            "Processing channels in D5-5:   0%|          | 0/5 [00:00<?, ?it/s]"
                        ]
                    },
                    "metadata": {},
                    "output_type": "display_data"
                },
                {
                    "data": {
                        "application/vnd.jupyter.widget-view+json": {
                            "model_id": "553d28257ed24f1bb474e938cbc728bf",
                            "version_major": 2,
                            "version_minor": 0
                        },
                        "text/plain": [
                            "Processing channels in D5-6:   0%|          | 0/5 [00:00<?, ?it/s]"
                        ]
                    },
                    "metadata": {},
                    "output_type": "display_data"
                },
                {
                    "data": {
                        "application/vnd.jupyter.widget-view+json": {
                            "model_id": "47147454acbd40d9807c08bc2fb971e4",
                            "version_major": 2,
                            "version_minor": 0
                        },
                        "text/plain": [
                            "Processing channels in D5-7:   0%|          | 0/5 [00:00<?, ?it/s]"
                        ]
                    },
                    "metadata": {},
                    "output_type": "display_data"
                },
                {
                    "data": {
                        "application/vnd.jupyter.widget-view+json": {
                            "model_id": "2ca3ba7174854b0cb014890ae5e2bf63",
                            "version_major": 2,
                            "version_minor": 0
                        },
                        "text/plain": [
                            "Processing channels in D6-1:   0%|          | 0/5 [00:00<?, ?it/s]"
                        ]
                    },
                    "metadata": {},
                    "output_type": "display_data"
                },
                {
                    "data": {
                        "application/vnd.jupyter.widget-view+json": {
                            "model_id": "296ebdc1f5ca45368f118978a040a5b9",
                            "version_major": 2,
                            "version_minor": 0
                        },
                        "text/plain": [
                            "Processing channels in D6-2:   0%|          | 0/5 [00:00<?, ?it/s]"
                        ]
                    },
                    "metadata": {},
                    "output_type": "display_data"
                },
                {
                    "data": {
                        "application/vnd.jupyter.widget-view+json": {
                            "model_id": "cb33ffffc37e470b89f5e6b5e4978dbd",
                            "version_major": 2,
                            "version_minor": 0
                        },
                        "text/plain": [
                            "Processing channels in D6-3:   0%|          | 0/5 [00:00<?, ?it/s]"
                        ]
                    },
                    "metadata": {},
                    "output_type": "display_data"
                },
                {
                    "data": {
                        "application/vnd.jupyter.widget-view+json": {
                            "model_id": "f0dab7ecdd2c4b78a2d2ba7b89b14398",
                            "version_major": 2,
                            "version_minor": 0
                        },
                        "text/plain": [
                            "Processing channels in D6-4:   0%|          | 0/5 [00:00<?, ?it/s]"
                        ]
                    },
                    "metadata": {},
                    "output_type": "display_data"
                },
                {
                    "data": {
                        "application/vnd.jupyter.widget-view+json": {
                            "model_id": "2d089154cecd4f2fb1663b3d8f5d3416",
                            "version_major": 2,
                            "version_minor": 0
                        },
                        "text/plain": [
                            "Processing channels in D6-5:   0%|          | 0/5 [00:00<?, ?it/s]"
                        ]
                    },
                    "metadata": {},
                    "output_type": "display_data"
                },
                {
                    "data": {
                        "application/vnd.jupyter.widget-view+json": {
                            "model_id": "4315aa80e6c74ab7ba9b175428c2d8cf",
                            "version_major": 2,
                            "version_minor": 0
                        },
                        "text/plain": [
                            "Processing channels in D6-6:   0%|          | 0/5 [00:00<?, ?it/s]"
                        ]
                    },
                    "metadata": {},
                    "output_type": "display_data"
                },
                {
                    "data": {
                        "application/vnd.jupyter.widget-view+json": {
                            "model_id": "73cd3af7e54441e7a7aed43adf9b9c94",
                            "version_major": 2,
                            "version_minor": 0
                        },
                        "text/plain": [
                            "Processing channels in D6-7:   0%|          | 0/5 [00:00<?, ?it/s]"
                        ]
                    },
                    "metadata": {},
                    "output_type": "display_data"
                },
                {
                    "data": {
                        "application/vnd.jupyter.widget-view+json": {
                            "model_id": "96de470a997744b4b99aab1486b78111",
                            "version_major": 2,
                            "version_minor": 0
                        },
                        "text/plain": [
                            "Processing channels in D7-1:   0%|          | 0/5 [00:00<?, ?it/s]"
                        ]
                    },
                    "metadata": {},
                    "output_type": "display_data"
                },
                {
                    "data": {
                        "application/vnd.jupyter.widget-view+json": {
                            "model_id": "e5a80b37a7fd4e44a0b0ccaa56563f01",
                            "version_major": 2,
                            "version_minor": 0
                        },
                        "text/plain": [
                            "Processing channels in D7-2:   0%|          | 0/5 [00:00<?, ?it/s]"
                        ]
                    },
                    "metadata": {},
                    "output_type": "display_data"
                },
                {
                    "data": {
                        "application/vnd.jupyter.widget-view+json": {
                            "model_id": "0279634be0e641f5a9bf99d061046873",
                            "version_major": 2,
                            "version_minor": 0
                        },
                        "text/plain": [
                            "Processing channels in D7-3:   0%|          | 0/5 [00:00<?, ?it/s]"
                        ]
                    },
                    "metadata": {},
                    "output_type": "display_data"
                },
                {
                    "data": {
                        "application/vnd.jupyter.widget-view+json": {
                            "model_id": "3b16cace63684e89ace6d0660bcc3718",
                            "version_major": 2,
                            "version_minor": 0
                        },
                        "text/plain": [
                            "Processing channels in D7-4:   0%|          | 0/5 [00:00<?, ?it/s]"
                        ]
                    },
                    "metadata": {},
                    "output_type": "display_data"
                },
                {
                    "data": {
                        "application/vnd.jupyter.widget-view+json": {
                            "model_id": "03009073a18d45529b67e15a2d29b167",
                            "version_major": 2,
                            "version_minor": 0
                        },
                        "text/plain": [
                            "Processing channels in D7-5:   0%|          | 0/5 [00:00<?, ?it/s]"
                        ]
                    },
                    "metadata": {},
                    "output_type": "display_data"
                },
                {
                    "data": {
                        "application/vnd.jupyter.widget-view+json": {
                            "model_id": "8d25d396c56d4392b45cd9f61e75b906",
                            "version_major": 2,
                            "version_minor": 0
                        },
                        "text/plain": [
                            "Processing channels in D7-6:   0%|          | 0/5 [00:00<?, ?it/s]"
                        ]
                    },
                    "metadata": {},
                    "output_type": "display_data"
                },
                {
                    "data": {
                        "application/vnd.jupyter.widget-view+json": {
                            "model_id": "d0174cf0cc6745b3b85abcd9b80f18a7",
                            "version_major": 2,
                            "version_minor": 0
                        },
                        "text/plain": [
                            "Processing channels in D7-7:   0%|          | 0/5 [00:00<?, ?it/s]"
                        ]
                    },
                    "metadata": {},
                    "output_type": "display_data"
                },
                {
                    "data": {
                        "application/vnd.jupyter.widget-view+json": {
                            "model_id": "66ad00e9f6614ec2a170bd27d618029c",
                            "version_major": 2,
                            "version_minor": 0
                        },
                        "text/plain": [
                            "Processing channels in D8-1:   0%|          | 0/5 [00:00<?, ?it/s]"
                        ]
                    },
                    "metadata": {},
                    "output_type": "display_data"
                },
                {
                    "data": {
                        "application/vnd.jupyter.widget-view+json": {
                            "model_id": "dce43e56e2bc4d429fa4ba8aa1f853f1",
                            "version_major": 2,
                            "version_minor": 0
                        },
                        "text/plain": [
                            "Processing channels in D8-2:   0%|          | 0/5 [00:00<?, ?it/s]"
                        ]
                    },
                    "metadata": {},
                    "output_type": "display_data"
                },
                {
                    "data": {
                        "application/vnd.jupyter.widget-view+json": {
                            "model_id": "2a9b84b15e304b619656a19f0a6248a8",
                            "version_major": 2,
                            "version_minor": 0
                        },
                        "text/plain": [
                            "Processing channels in D8-3:   0%|          | 0/5 [00:00<?, ?it/s]"
                        ]
                    },
                    "metadata": {},
                    "output_type": "display_data"
                },
                {
                    "data": {
                        "application/vnd.jupyter.widget-view+json": {
                            "model_id": "bb5426f75f024130a2413108908b7f32",
                            "version_major": 2,
                            "version_minor": 0
                        },
                        "text/plain": [
                            "Processing channels in D8-4:   0%|          | 0/5 [00:00<?, ?it/s]"
                        ]
                    },
                    "metadata": {},
                    "output_type": "display_data"
                },
                {
                    "data": {
                        "application/vnd.jupyter.widget-view+json": {
                            "model_id": "fe696dc07982431f8ffecc408eca88cf",
                            "version_major": 2,
                            "version_minor": 0
                        },
                        "text/plain": [
                            "Processing channels in D8-5:   0%|          | 0/5 [00:00<?, ?it/s]"
                        ]
                    },
                    "metadata": {},
                    "output_type": "display_data"
                },
                {
                    "data": {
                        "application/vnd.jupyter.widget-view+json": {
                            "model_id": "e623ee4f1e3b470daf20a300f11bbb62",
                            "version_major": 2,
                            "version_minor": 0
                        },
                        "text/plain": [
                            "Processing channels in D8-6:   0%|          | 0/5 [00:00<?, ?it/s]"
                        ]
                    },
                    "metadata": {},
                    "output_type": "display_data"
                },
                {
                    "data": {
                        "application/vnd.jupyter.widget-view+json": {
                            "model_id": "ed7c67c28a8a41f6b5e20bb18d3d8392",
                            "version_major": 2,
                            "version_minor": 0
                        },
                        "text/plain": [
                            "Processing channels in D8-7:   0%|          | 0/5 [00:00<?, ?it/s]"
                        ]
                    },
                    "metadata": {},
                    "output_type": "display_data"
                },
                {
                    "data": {
                        "application/vnd.jupyter.widget-view+json": {
                            "model_id": "8ccdf48c6148423d9fd0adabf22c553d",
                            "version_major": 2,
                            "version_minor": 0
                        },
                        "text/plain": [
                            "Processing channels in D9-1:   0%|          | 0/5 [00:00<?, ?it/s]"
                        ]
                    },
                    "metadata": {},
                    "output_type": "display_data"
                },
                {
                    "data": {
                        "application/vnd.jupyter.widget-view+json": {
                            "model_id": "9a6f5438e7044d19940c72a5fedfcad4",
                            "version_major": 2,
                            "version_minor": 0
                        },
                        "text/plain": [
                            "Processing channels in D9-2:   0%|          | 0/5 [00:00<?, ?it/s]"
                        ]
                    },
                    "metadata": {},
                    "output_type": "display_data"
                },
                {
                    "data": {
                        "application/vnd.jupyter.widget-view+json": {
                            "model_id": "d1cd7ba8ef704592aea8829c309353ef",
                            "version_major": 2,
                            "version_minor": 0
                        },
                        "text/plain": [
                            "Processing channels in D9-3:   0%|          | 0/5 [00:00<?, ?it/s]"
                        ]
                    },
                    "metadata": {},
                    "output_type": "display_data"
                },
                {
                    "data": {
                        "application/vnd.jupyter.widget-view+json": {
                            "model_id": "37bf1d68c6534b9b85a5c803d3314204",
                            "version_major": 2,
                            "version_minor": 0
                        },
                        "text/plain": [
                            "Processing channels in D9-4:   0%|          | 0/5 [00:00<?, ?it/s]"
                        ]
                    },
                    "metadata": {},
                    "output_type": "display_data"
                },
                {
                    "data": {
                        "application/vnd.jupyter.widget-view+json": {
                            "model_id": "d8885c0d49a64fe39b1abb98b1c75776",
                            "version_major": 2,
                            "version_minor": 0
                        },
                        "text/plain": [
                            "Processing channels in D9-5:   0%|          | 0/5 [00:00<?, ?it/s]"
                        ]
                    },
                    "metadata": {},
                    "output_type": "display_data"
                },
                {
                    "data": {
                        "application/vnd.jupyter.widget-view+json": {
                            "model_id": "bb7f5efe205a44b0ad16bee697f30785",
                            "version_major": 2,
                            "version_minor": 0
                        },
                        "text/plain": [
                            "Processing channels in D9-6:   0%|          | 0/5 [00:00<?, ?it/s]"
                        ]
                    },
                    "metadata": {},
                    "output_type": "display_data"
                },
                {
                    "data": {
                        "application/vnd.jupyter.widget-view+json": {
                            "model_id": "0b78ed6305274e91b1c38bb4346fa566",
                            "version_major": 2,
                            "version_minor": 0
                        },
                        "text/plain": [
                            "Processing channels in D9-7:   0%|          | 0/5 [00:00<?, ?it/s]"
                        ]
                    },
                    "metadata": {},
                    "output_type": "display_data"
                },
                {
                    "data": {
                        "application/vnd.jupyter.widget-view+json": {
                            "model_id": "a4a0fdca480a4c24b52740113df66c1c",
                            "version_major": 2,
                            "version_minor": 0
                        },
                        "text/plain": [
                            "Processing channels in E10-1:   0%|          | 0/5 [00:00<?, ?it/s]"
                        ]
                    },
                    "metadata": {},
                    "output_type": "display_data"
                },
                {
                    "data": {
                        "application/vnd.jupyter.widget-view+json": {
                            "model_id": "2a092987b6784e359f9a09c4e646dedf",
                            "version_major": 2,
                            "version_minor": 0
                        },
                        "text/plain": [
                            "Processing channels in E10-2:   0%|          | 0/5 [00:00<?, ?it/s]"
                        ]
                    },
                    "metadata": {},
                    "output_type": "display_data"
                },
                {
                    "data": {
                        "application/vnd.jupyter.widget-view+json": {
                            "model_id": "315c8547f8974d15983b336a30059ecf",
                            "version_major": 2,
                            "version_minor": 0
                        },
                        "text/plain": [
                            "Processing channels in E10-3:   0%|          | 0/5 [00:00<?, ?it/s]"
                        ]
                    },
                    "metadata": {},
                    "output_type": "display_data"
                },
                {
                    "data": {
                        "application/vnd.jupyter.widget-view+json": {
                            "model_id": "5083e27565024470a4c2cd2782d344a6",
                            "version_major": 2,
                            "version_minor": 0
                        },
                        "text/plain": [
                            "Processing channels in E10-4:   0%|          | 0/5 [00:00<?, ?it/s]"
                        ]
                    },
                    "metadata": {},
                    "output_type": "display_data"
                },
                {
                    "data": {
                        "application/vnd.jupyter.widget-view+json": {
                            "model_id": "81eada854faf4160985a43d7d31af34b",
                            "version_major": 2,
                            "version_minor": 0
                        },
                        "text/plain": [
                            "Processing channels in E10-5:   0%|          | 0/5 [00:00<?, ?it/s]"
                        ]
                    },
                    "metadata": {},
                    "output_type": "display_data"
                },
                {
                    "data": {
                        "application/vnd.jupyter.widget-view+json": {
                            "model_id": "c144c470bb3f41f4a9d41b63074c8317",
                            "version_major": 2,
                            "version_minor": 0
                        },
                        "text/plain": [
                            "Processing channels in E10-6:   0%|          | 0/5 [00:00<?, ?it/s]"
                        ]
                    },
                    "metadata": {},
                    "output_type": "display_data"
                },
                {
                    "data": {
                        "application/vnd.jupyter.widget-view+json": {
                            "model_id": "cbf745f8120d430ebb4032832fdf063b",
                            "version_major": 2,
                            "version_minor": 0
                        },
                        "text/plain": [
                            "Processing channels in E10-7:   0%|          | 0/5 [00:00<?, ?it/s]"
                        ]
                    },
                    "metadata": {},
                    "output_type": "display_data"
                },
                {
                    "data": {
                        "application/vnd.jupyter.widget-view+json": {
                            "model_id": "6c623cb3ed9446c79d7e02501eb3de2e",
                            "version_major": 2,
                            "version_minor": 0
                        },
                        "text/plain": [
                            "Processing channels in E11-1:   0%|          | 0/5 [00:00<?, ?it/s]"
                        ]
                    },
                    "metadata": {},
                    "output_type": "display_data"
                },
                {
                    "data": {
                        "application/vnd.jupyter.widget-view+json": {
                            "model_id": "a1166a66f6cb4b85a0968149f2004d19",
                            "version_major": 2,
                            "version_minor": 0
                        },
                        "text/plain": [
                            "Processing channels in E11-2:   0%|          | 0/5 [00:00<?, ?it/s]"
                        ]
                    },
                    "metadata": {},
                    "output_type": "display_data"
                },
                {
                    "data": {
                        "application/vnd.jupyter.widget-view+json": {
                            "model_id": "eee1b63c313c41e387f65a5c1df67214",
                            "version_major": 2,
                            "version_minor": 0
                        },
                        "text/plain": [
                            "Processing channels in E11-3:   0%|          | 0/5 [00:00<?, ?it/s]"
                        ]
                    },
                    "metadata": {},
                    "output_type": "display_data"
                },
                {
                    "data": {
                        "application/vnd.jupyter.widget-view+json": {
                            "model_id": "24b0e1bf0d0b4a579f45e1c7c9bab55c",
                            "version_major": 2,
                            "version_minor": 0
                        },
                        "text/plain": [
                            "Processing channels in E11-4:   0%|          | 0/5 [00:00<?, ?it/s]"
                        ]
                    },
                    "metadata": {},
                    "output_type": "display_data"
                },
                {
                    "data": {
                        "application/vnd.jupyter.widget-view+json": {
                            "model_id": "2e01c203d8c3490bb8159934bbb54130",
                            "version_major": 2,
                            "version_minor": 0
                        },
                        "text/plain": [
                            "Processing channels in E11-5:   0%|          | 0/5 [00:00<?, ?it/s]"
                        ]
                    },
                    "metadata": {},
                    "output_type": "display_data"
                },
                {
                    "data": {
                        "application/vnd.jupyter.widget-view+json": {
                            "model_id": "3532cf14af154bd5b94d86f1f10094f0",
                            "version_major": 2,
                            "version_minor": 0
                        },
                        "text/plain": [
                            "Processing channels in E11-6:   0%|          | 0/5 [00:00<?, ?it/s]"
                        ]
                    },
                    "metadata": {},
                    "output_type": "display_data"
                },
                {
                    "data": {
                        "application/vnd.jupyter.widget-view+json": {
                            "model_id": "065c6947d8064f5ab3d4c0c3275c40f1",
                            "version_major": 2,
                            "version_minor": 0
                        },
                        "text/plain": [
                            "Processing channels in E11-7:   0%|          | 0/5 [00:00<?, ?it/s]"
                        ]
                    },
                    "metadata": {},
                    "output_type": "display_data"
                },
                {
                    "data": {
                        "application/vnd.jupyter.widget-view+json": {
                            "model_id": "e2e8c8573a3d43dcaef4fe9850a2652f",
                            "version_major": 2,
                            "version_minor": 0
                        },
                        "text/plain": [
                            "Processing channels in E2-1:   0%|          | 0/5 [00:00<?, ?it/s]"
                        ]
                    },
                    "metadata": {},
                    "output_type": "display_data"
                },
                {
                    "data": {
                        "application/vnd.jupyter.widget-view+json": {
                            "model_id": "f5a78e8bf3d74fd6a66562981e7aaa71",
                            "version_major": 2,
                            "version_minor": 0
                        },
                        "text/plain": [
                            "Processing channels in E2-2:   0%|          | 0/5 [00:00<?, ?it/s]"
                        ]
                    },
                    "metadata": {},
                    "output_type": "display_data"
                },
                {
                    "data": {
                        "application/vnd.jupyter.widget-view+json": {
                            "model_id": "dbe73aba13724d83affe0b1fd295ba45",
                            "version_major": 2,
                            "version_minor": 0
                        },
                        "text/plain": [
                            "Processing channels in E2-3:   0%|          | 0/5 [00:00<?, ?it/s]"
                        ]
                    },
                    "metadata": {},
                    "output_type": "display_data"
                },
                {
                    "data": {
                        "application/vnd.jupyter.widget-view+json": {
                            "model_id": "961e6579d74246a593919d55031199e5",
                            "version_major": 2,
                            "version_minor": 0
                        },
                        "text/plain": [
                            "Processing channels in E2-4:   0%|          | 0/5 [00:00<?, ?it/s]"
                        ]
                    },
                    "metadata": {},
                    "output_type": "display_data"
                },
                {
                    "data": {
                        "application/vnd.jupyter.widget-view+json": {
                            "model_id": "d729a14e502b4665b2e445a642cffff7",
                            "version_major": 2,
                            "version_minor": 0
                        },
                        "text/plain": [
                            "Processing channels in E2-5:   0%|          | 0/5 [00:00<?, ?it/s]"
                        ]
                    },
                    "metadata": {},
                    "output_type": "display_data"
                },
                {
                    "data": {
                        "application/vnd.jupyter.widget-view+json": {
                            "model_id": "5a973745c0884dca88948309915ace03",
                            "version_major": 2,
                            "version_minor": 0
                        },
                        "text/plain": [
                            "Processing channels in E2-6:   0%|          | 0/5 [00:00<?, ?it/s]"
                        ]
                    },
                    "metadata": {},
                    "output_type": "display_data"
                },
                {
                    "data": {
                        "application/vnd.jupyter.widget-view+json": {
                            "model_id": "8a4dd29076534ff2984cb00092533d7a",
                            "version_major": 2,
                            "version_minor": 0
                        },
                        "text/plain": [
                            "Processing channels in E2-7:   0%|          | 0/5 [00:00<?, ?it/s]"
                        ]
                    },
                    "metadata": {},
                    "output_type": "display_data"
                },
                {
                    "data": {
                        "application/vnd.jupyter.widget-view+json": {
                            "model_id": "02380ec73a954cbf9cb8b8c6b5de824b",
                            "version_major": 2,
                            "version_minor": 0
                        },
                        "text/plain": [
                            "Processing channels in E3-1:   0%|          | 0/5 [00:00<?, ?it/s]"
                        ]
                    },
                    "metadata": {},
                    "output_type": "display_data"
                },
                {
                    "data": {
                        "application/vnd.jupyter.widget-view+json": {
                            "model_id": "9f3cb55888d64df883292b5f8cb6174b",
                            "version_major": 2,
                            "version_minor": 0
                        },
                        "text/plain": [
                            "Processing channels in E3-2:   0%|          | 0/5 [00:00<?, ?it/s]"
                        ]
                    },
                    "metadata": {},
                    "output_type": "display_data"
                },
                {
                    "data": {
                        "application/vnd.jupyter.widget-view+json": {
                            "model_id": "f39c7082db594fa8b6fc49471f830288",
                            "version_major": 2,
                            "version_minor": 0
                        },
                        "text/plain": [
                            "Processing channels in E3-3:   0%|          | 0/5 [00:00<?, ?it/s]"
                        ]
                    },
                    "metadata": {},
                    "output_type": "display_data"
                },
                {
                    "data": {
                        "application/vnd.jupyter.widget-view+json": {
                            "model_id": "0470220a648e4763b75f1bdb1a0e382a",
                            "version_major": 2,
                            "version_minor": 0
                        },
                        "text/plain": [
                            "Processing channels in E3-4:   0%|          | 0/5 [00:00<?, ?it/s]"
                        ]
                    },
                    "metadata": {},
                    "output_type": "display_data"
                },
                {
                    "data": {
                        "application/vnd.jupyter.widget-view+json": {
                            "model_id": "9b553497e43642968bc6d52957e52939",
                            "version_major": 2,
                            "version_minor": 0
                        },
                        "text/plain": [
                            "Processing channels in E3-5:   0%|          | 0/5 [00:00<?, ?it/s]"
                        ]
                    },
                    "metadata": {},
                    "output_type": "display_data"
                },
                {
                    "data": {
                        "application/vnd.jupyter.widget-view+json": {
                            "model_id": "a746638b10474e6893bf4991fb8bf125",
                            "version_major": 2,
                            "version_minor": 0
                        },
                        "text/plain": [
                            "Processing channels in E3-6:   0%|          | 0/5 [00:00<?, ?it/s]"
                        ]
                    },
                    "metadata": {},
                    "output_type": "display_data"
                },
                {
                    "data": {
                        "application/vnd.jupyter.widget-view+json": {
                            "model_id": "811526f54db6450cab5c8df957dc98e7",
                            "version_major": 2,
                            "version_minor": 0
                        },
                        "text/plain": [
                            "Processing channels in E3-7:   0%|          | 0/5 [00:00<?, ?it/s]"
                        ]
                    },
                    "metadata": {},
                    "output_type": "display_data"
                },
                {
                    "data": {
                        "application/vnd.jupyter.widget-view+json": {
                            "model_id": "6afe811b7a1b4f7dbf9eb0593a8fbb10",
                            "version_major": 2,
                            "version_minor": 0
                        },
                        "text/plain": [
                            "Processing channels in E4-1:   0%|          | 0/5 [00:00<?, ?it/s]"
                        ]
                    },
                    "metadata": {},
                    "output_type": "display_data"
                },
                {
                    "data": {
                        "application/vnd.jupyter.widget-view+json": {
                            "model_id": "4f424a9956714c1c8ed774bf62941efb",
                            "version_major": 2,
                            "version_minor": 0
                        },
                        "text/plain": [
                            "Processing channels in E4-2:   0%|          | 0/5 [00:00<?, ?it/s]"
                        ]
                    },
                    "metadata": {},
                    "output_type": "display_data"
                },
                {
                    "data": {
                        "application/vnd.jupyter.widget-view+json": {
                            "model_id": "fe01c989e55e417d972ccf21d151da1f",
                            "version_major": 2,
                            "version_minor": 0
                        },
                        "text/plain": [
                            "Processing channels in E4-3:   0%|          | 0/5 [00:00<?, ?it/s]"
                        ]
                    },
                    "metadata": {},
                    "output_type": "display_data"
                },
                {
                    "data": {
                        "application/vnd.jupyter.widget-view+json": {
                            "model_id": "de39fd39988d4f2681c60d36fb0f2eca",
                            "version_major": 2,
                            "version_minor": 0
                        },
                        "text/plain": [
                            "Processing channels in E4-4:   0%|          | 0/5 [00:00<?, ?it/s]"
                        ]
                    },
                    "metadata": {},
                    "output_type": "display_data"
                },
                {
                    "data": {
                        "application/vnd.jupyter.widget-view+json": {
                            "model_id": "f57737e634664fd59d540f76e6abd124",
                            "version_major": 2,
                            "version_minor": 0
                        },
                        "text/plain": [
                            "Processing channels in E4-5:   0%|          | 0/5 [00:00<?, ?it/s]"
                        ]
                    },
                    "metadata": {},
                    "output_type": "display_data"
                },
                {
                    "data": {
                        "application/vnd.jupyter.widget-view+json": {
                            "model_id": "55a46700662f4b6c893b8046527941dd",
                            "version_major": 2,
                            "version_minor": 0
                        },
                        "text/plain": [
                            "Processing channels in E4-6:   0%|          | 0/5 [00:00<?, ?it/s]"
                        ]
                    },
                    "metadata": {},
                    "output_type": "display_data"
                },
                {
                    "data": {
                        "application/vnd.jupyter.widget-view+json": {
                            "model_id": "24ab57a7dc584419bfdb92012f87951d",
                            "version_major": 2,
                            "version_minor": 0
                        },
                        "text/plain": [
                            "Processing channels in E4-7:   0%|          | 0/5 [00:00<?, ?it/s]"
                        ]
                    },
                    "metadata": {},
                    "output_type": "display_data"
                },
                {
                    "data": {
                        "application/vnd.jupyter.widget-view+json": {
                            "model_id": "72b52613abb74ecc8e0200e4149432c7",
                            "version_major": 2,
                            "version_minor": 0
                        },
                        "text/plain": [
                            "Processing channels in E5-1:   0%|          | 0/5 [00:00<?, ?it/s]"
                        ]
                    },
                    "metadata": {},
                    "output_type": "display_data"
                },
                {
                    "data": {
                        "application/vnd.jupyter.widget-view+json": {
                            "model_id": "63a2e7a18cb448debdb1de51d48cb3f2",
                            "version_major": 2,
                            "version_minor": 0
                        },
                        "text/plain": [
                            "Processing channels in E5-2:   0%|          | 0/5 [00:00<?, ?it/s]"
                        ]
                    },
                    "metadata": {},
                    "output_type": "display_data"
                },
                {
                    "data": {
                        "application/vnd.jupyter.widget-view+json": {
                            "model_id": "e8b125ad025f4f72b934df91697e1afc",
                            "version_major": 2,
                            "version_minor": 0
                        },
                        "text/plain": [
                            "Processing channels in E5-3:   0%|          | 0/5 [00:00<?, ?it/s]"
                        ]
                    },
                    "metadata": {},
                    "output_type": "display_data"
                },
                {
                    "data": {
                        "application/vnd.jupyter.widget-view+json": {
                            "model_id": "6ea3932aaed94f1aa73f91765d3a0ef4",
                            "version_major": 2,
                            "version_minor": 0
                        },
                        "text/plain": [
                            "Processing channels in E5-4:   0%|          | 0/5 [00:00<?, ?it/s]"
                        ]
                    },
                    "metadata": {},
                    "output_type": "display_data"
                },
                {
                    "data": {
                        "application/vnd.jupyter.widget-view+json": {
                            "model_id": "e13c61b9c3be43fa935e78b1b149afbc",
                            "version_major": 2,
                            "version_minor": 0
                        },
                        "text/plain": [
                            "Processing channels in E5-5:   0%|          | 0/5 [00:00<?, ?it/s]"
                        ]
                    },
                    "metadata": {},
                    "output_type": "display_data"
                },
                {
                    "data": {
                        "application/vnd.jupyter.widget-view+json": {
                            "model_id": "330875d863734eef8bc4b99604fe955a",
                            "version_major": 2,
                            "version_minor": 0
                        },
                        "text/plain": [
                            "Processing channels in E5-6:   0%|          | 0/5 [00:00<?, ?it/s]"
                        ]
                    },
                    "metadata": {},
                    "output_type": "display_data"
                },
                {
                    "data": {
                        "application/vnd.jupyter.widget-view+json": {
                            "model_id": "5bf3edfd85d94cf8978be13045225014",
                            "version_major": 2,
                            "version_minor": 0
                        },
                        "text/plain": [
                            "Processing channels in E5-7:   0%|          | 0/5 [00:00<?, ?it/s]"
                        ]
                    },
                    "metadata": {},
                    "output_type": "display_data"
                },
                {
                    "data": {
                        "application/vnd.jupyter.widget-view+json": {
                            "model_id": "223db36c94034f07a7b73cf0bd8f251d",
                            "version_major": 2,
                            "version_minor": 0
                        },
                        "text/plain": [
                            "Processing channels in E6-1:   0%|          | 0/5 [00:00<?, ?it/s]"
                        ]
                    },
                    "metadata": {},
                    "output_type": "display_data"
                },
                {
                    "data": {
                        "application/vnd.jupyter.widget-view+json": {
                            "model_id": "b8873f3cdf754006b81f3be34618ad78",
                            "version_major": 2,
                            "version_minor": 0
                        },
                        "text/plain": [
                            "Processing channels in E6-2:   0%|          | 0/5 [00:00<?, ?it/s]"
                        ]
                    },
                    "metadata": {},
                    "output_type": "display_data"
                },
                {
                    "data": {
                        "application/vnd.jupyter.widget-view+json": {
                            "model_id": "7b368e04d5784c499960ce45621116cf",
                            "version_major": 2,
                            "version_minor": 0
                        },
                        "text/plain": [
                            "Processing channels in E6-3:   0%|          | 0/5 [00:00<?, ?it/s]"
                        ]
                    },
                    "metadata": {},
                    "output_type": "display_data"
                },
                {
                    "data": {
                        "application/vnd.jupyter.widget-view+json": {
                            "model_id": "f7da372eb830418c9b0b1fb4fc02f49c",
                            "version_major": 2,
                            "version_minor": 0
                        },
                        "text/plain": [
                            "Processing channels in E6-4:   0%|          | 0/5 [00:00<?, ?it/s]"
                        ]
                    },
                    "metadata": {},
                    "output_type": "display_data"
                },
                {
                    "data": {
                        "application/vnd.jupyter.widget-view+json": {
                            "model_id": "672c94869f194760be215cc401dc1b07",
                            "version_major": 2,
                            "version_minor": 0
                        },
                        "text/plain": [
                            "Processing channels in E6-5:   0%|          | 0/5 [00:00<?, ?it/s]"
                        ]
                    },
                    "metadata": {},
                    "output_type": "display_data"
                },
                {
                    "data": {
                        "application/vnd.jupyter.widget-view+json": {
                            "model_id": "2bc5b97cad7647ac95e8c8ea5b3130df",
                            "version_major": 2,
                            "version_minor": 0
                        },
                        "text/plain": [
                            "Processing channels in E6-6:   0%|          | 0/5 [00:00<?, ?it/s]"
                        ]
                    },
                    "metadata": {},
                    "output_type": "display_data"
                },
                {
                    "data": {
                        "application/vnd.jupyter.widget-view+json": {
                            "model_id": "ae974e1c82d74157b0380b157c5f183b",
                            "version_major": 2,
                            "version_minor": 0
                        },
                        "text/plain": [
                            "Processing channels in E6-7:   0%|          | 0/5 [00:00<?, ?it/s]"
                        ]
                    },
                    "metadata": {},
                    "output_type": "display_data"
                },
                {
                    "data": {
                        "application/vnd.jupyter.widget-view+json": {
                            "model_id": "3be1639f62ab4a1f83a69c7a4d19375e",
                            "version_major": 2,
                            "version_minor": 0
                        },
                        "text/plain": [
                            "Processing channels in E7-1:   0%|          | 0/5 [00:00<?, ?it/s]"
                        ]
                    },
                    "metadata": {},
                    "output_type": "display_data"
                },
                {
                    "data": {
                        "application/vnd.jupyter.widget-view+json": {
                            "model_id": "2cbc752ce7f746ab8547601d94223208",
                            "version_major": 2,
                            "version_minor": 0
                        },
                        "text/plain": [
                            "Processing channels in E7-2:   0%|          | 0/5 [00:00<?, ?it/s]"
                        ]
                    },
                    "metadata": {},
                    "output_type": "display_data"
                },
                {
                    "data": {
                        "application/vnd.jupyter.widget-view+json": {
                            "model_id": "e0f63e1b375a4dd0ba6715415e0ed0b1",
                            "version_major": 2,
                            "version_minor": 0
                        },
                        "text/plain": [
                            "Processing channels in E7-3:   0%|          | 0/5 [00:00<?, ?it/s]"
                        ]
                    },
                    "metadata": {},
                    "output_type": "display_data"
                },
                {
                    "data": {
                        "application/vnd.jupyter.widget-view+json": {
                            "model_id": "39a9f6c178d64cf78dde0ab719520efb",
                            "version_major": 2,
                            "version_minor": 0
                        },
                        "text/plain": [
                            "Processing channels in E7-4:   0%|          | 0/5 [00:00<?, ?it/s]"
                        ]
                    },
                    "metadata": {},
                    "output_type": "display_data"
                },
                {
                    "data": {
                        "application/vnd.jupyter.widget-view+json": {
                            "model_id": "d1bdba0e4a3e4b3fa1dc9dc2b4feb6c0",
                            "version_major": 2,
                            "version_minor": 0
                        },
                        "text/plain": [
                            "Processing channels in E7-5:   0%|          | 0/5 [00:00<?, ?it/s]"
                        ]
                    },
                    "metadata": {},
                    "output_type": "display_data"
                },
                {
                    "data": {
                        "application/vnd.jupyter.widget-view+json": {
                            "model_id": "ae7ce2f6ea6e499fabe424f2afe3b31a",
                            "version_major": 2,
                            "version_minor": 0
                        },
                        "text/plain": [
                            "Processing channels in E7-6:   0%|          | 0/5 [00:00<?, ?it/s]"
                        ]
                    },
                    "metadata": {},
                    "output_type": "display_data"
                },
                {
                    "data": {
                        "application/vnd.jupyter.widget-view+json": {
                            "model_id": "47dc8661062e47689aa588f5c144be95",
                            "version_major": 2,
                            "version_minor": 0
                        },
                        "text/plain": [
                            "Processing channels in E7-7:   0%|          | 0/5 [00:00<?, ?it/s]"
                        ]
                    },
                    "metadata": {},
                    "output_type": "display_data"
                },
                {
                    "data": {
                        "application/vnd.jupyter.widget-view+json": {
                            "model_id": "e298b068b8214b22a0e72108a01945d3",
                            "version_major": 2,
                            "version_minor": 0
                        },
                        "text/plain": [
                            "Processing channels in E8-1:   0%|          | 0/5 [00:00<?, ?it/s]"
                        ]
                    },
                    "metadata": {},
                    "output_type": "display_data"
                },
                {
                    "data": {
                        "application/vnd.jupyter.widget-view+json": {
                            "model_id": "b4f7d78756884bf292717676dc0c7893",
                            "version_major": 2,
                            "version_minor": 0
                        },
                        "text/plain": [
                            "Processing channels in E8-2:   0%|          | 0/5 [00:00<?, ?it/s]"
                        ]
                    },
                    "metadata": {},
                    "output_type": "display_data"
                },
                {
                    "data": {
                        "application/vnd.jupyter.widget-view+json": {
                            "model_id": "59fdc64d057a4b6e87797d2c3e54650f",
                            "version_major": 2,
                            "version_minor": 0
                        },
                        "text/plain": [
                            "Processing channels in E8-3:   0%|          | 0/5 [00:00<?, ?it/s]"
                        ]
                    },
                    "metadata": {},
                    "output_type": "display_data"
                },
                {
                    "data": {
                        "application/vnd.jupyter.widget-view+json": {
                            "model_id": "5ccc20ed4b2145f8b8f46acd57322a11",
                            "version_major": 2,
                            "version_minor": 0
                        },
                        "text/plain": [
                            "Processing channels in E8-4:   0%|          | 0/5 [00:00<?, ?it/s]"
                        ]
                    },
                    "metadata": {},
                    "output_type": "display_data"
                },
                {
                    "data": {
                        "application/vnd.jupyter.widget-view+json": {
                            "model_id": "b17d3c7f61af4d14a73e28bd11b3e228",
                            "version_major": 2,
                            "version_minor": 0
                        },
                        "text/plain": [
                            "Processing channels in E8-5:   0%|          | 0/5 [00:00<?, ?it/s]"
                        ]
                    },
                    "metadata": {},
                    "output_type": "display_data"
                },
                {
                    "data": {
                        "application/vnd.jupyter.widget-view+json": {
                            "model_id": "471aac878b4a4389a5515ea0e2bec4b4",
                            "version_major": 2,
                            "version_minor": 0
                        },
                        "text/plain": [
                            "Processing channels in E8-6:   0%|          | 0/5 [00:00<?, ?it/s]"
                        ]
                    },
                    "metadata": {},
                    "output_type": "display_data"
                },
                {
                    "data": {
                        "application/vnd.jupyter.widget-view+json": {
                            "model_id": "4d78d8f4a20c4b7498b0d2190b025ccf",
                            "version_major": 2,
                            "version_minor": 0
                        },
                        "text/plain": [
                            "Processing channels in E8-7:   0%|          | 0/5 [00:00<?, ?it/s]"
                        ]
                    },
                    "metadata": {},
                    "output_type": "display_data"
                },
                {
                    "data": {
                        "application/vnd.jupyter.widget-view+json": {
                            "model_id": "0bd602cb95c348d5ab941e928ba54b63",
                            "version_major": 2,
                            "version_minor": 0
                        },
                        "text/plain": [
                            "Processing channels in E9-1:   0%|          | 0/5 [00:00<?, ?it/s]"
                        ]
                    },
                    "metadata": {},
                    "output_type": "display_data"
                },
                {
                    "data": {
                        "application/vnd.jupyter.widget-view+json": {
                            "model_id": "9a77268d36734dadbee55e0505849f14",
                            "version_major": 2,
                            "version_minor": 0
                        },
                        "text/plain": [
                            "Processing channels in E9-2:   0%|          | 0/5 [00:00<?, ?it/s]"
                        ]
                    },
                    "metadata": {},
                    "output_type": "display_data"
                },
                {
                    "data": {
                        "application/vnd.jupyter.widget-view+json": {
                            "model_id": "269b71f209294c60b688f5eadb22a07b",
                            "version_major": 2,
                            "version_minor": 0
                        },
                        "text/plain": [
                            "Processing channels in E9-3:   0%|          | 0/5 [00:00<?, ?it/s]"
                        ]
                    },
                    "metadata": {},
                    "output_type": "display_data"
                },
                {
                    "data": {
                        "application/vnd.jupyter.widget-view+json": {
                            "model_id": "c237489baf424d64ac7a12f67b0202bf",
                            "version_major": 2,
                            "version_minor": 0
                        },
                        "text/plain": [
                            "Processing channels in E9-4:   0%|          | 0/5 [00:00<?, ?it/s]"
                        ]
                    },
                    "metadata": {},
                    "output_type": "display_data"
                },
                {
                    "data": {
                        "application/vnd.jupyter.widget-view+json": {
                            "model_id": "aede19f03fed4303af4d1891c665a7ff",
                            "version_major": 2,
                            "version_minor": 0
                        },
                        "text/plain": [
                            "Processing channels in E9-5:   0%|          | 0/5 [00:00<?, ?it/s]"
                        ]
                    },
                    "metadata": {},
                    "output_type": "display_data"
                },
                {
                    "data": {
                        "application/vnd.jupyter.widget-view+json": {
                            "model_id": "7eb19e674649491f9d9be4a84a67e388",
                            "version_major": 2,
                            "version_minor": 0
                        },
                        "text/plain": [
                            "Processing channels in E9-6:   0%|          | 0/5 [00:00<?, ?it/s]"
                        ]
                    },
                    "metadata": {},
                    "output_type": "display_data"
                },
                {
                    "data": {
                        "application/vnd.jupyter.widget-view+json": {
                            "model_id": "9f465fb939754bfe9255d7f60c3250fd",
                            "version_major": 2,
                            "version_minor": 0
                        },
                        "text/plain": [
                            "Processing channels in E9-7:   0%|          | 0/5 [00:00<?, ?it/s]"
                        ]
                    },
                    "metadata": {},
                    "output_type": "display_data"
                },
                {
                    "data": {
                        "application/vnd.jupyter.widget-view+json": {
                            "model_id": "1a464850f90145409da758f08cf6bbfa",
                            "version_major": 2,
                            "version_minor": 0
                        },
                        "text/plain": [
                            "Processing channels in F10-1:   0%|          | 0/5 [00:00<?, ?it/s]"
                        ]
                    },
                    "metadata": {},
                    "output_type": "display_data"
                },
                {
                    "data": {
                        "application/vnd.jupyter.widget-view+json": {
                            "model_id": "c04978eadf27459b85dab3cddc7a91d6",
                            "version_major": 2,
                            "version_minor": 0
                        },
                        "text/plain": [
                            "Processing channels in F10-2:   0%|          | 0/5 [00:00<?, ?it/s]"
                        ]
                    },
                    "metadata": {},
                    "output_type": "display_data"
                },
                {
                    "data": {
                        "application/vnd.jupyter.widget-view+json": {
                            "model_id": "893b09b277cd43fe813d367e438bb288",
                            "version_major": 2,
                            "version_minor": 0
                        },
                        "text/plain": [
                            "Processing channels in F10-3:   0%|          | 0/5 [00:00<?, ?it/s]"
                        ]
                    },
                    "metadata": {},
                    "output_type": "display_data"
                },
                {
                    "data": {
                        "application/vnd.jupyter.widget-view+json": {
                            "model_id": "4cafcdc43e714c96ba65c5c1c9e75a42",
                            "version_major": 2,
                            "version_minor": 0
                        },
                        "text/plain": [
                            "Processing channels in F10-4:   0%|          | 0/5 [00:00<?, ?it/s]"
                        ]
                    },
                    "metadata": {},
                    "output_type": "display_data"
                },
                {
                    "data": {
                        "application/vnd.jupyter.widget-view+json": {
                            "model_id": "75f524fd23bf4f7fb80472fe4046801a",
                            "version_major": 2,
                            "version_minor": 0
                        },
                        "text/plain": [
                            "Processing channels in F10-5:   0%|          | 0/5 [00:00<?, ?it/s]"
                        ]
                    },
                    "metadata": {},
                    "output_type": "display_data"
                },
                {
                    "data": {
                        "application/vnd.jupyter.widget-view+json": {
                            "model_id": "30243fd732564b8f9ef34ebdca39fee5",
                            "version_major": 2,
                            "version_minor": 0
                        },
                        "text/plain": [
                            "Processing channels in F10-6:   0%|          | 0/5 [00:00<?, ?it/s]"
                        ]
                    },
                    "metadata": {},
                    "output_type": "display_data"
                },
                {
                    "data": {
                        "application/vnd.jupyter.widget-view+json": {
                            "model_id": "bd15b61e783b4125a8c9ddb0c8c0abd2",
                            "version_major": 2,
                            "version_minor": 0
                        },
                        "text/plain": [
                            "Processing channels in F10-7:   0%|          | 0/5 [00:00<?, ?it/s]"
                        ]
                    },
                    "metadata": {},
                    "output_type": "display_data"
                },
                {
                    "data": {
                        "application/vnd.jupyter.widget-view+json": {
                            "model_id": "9b3541e34b7a47c9a0d5338cab01bf20",
                            "version_major": 2,
                            "version_minor": 0
                        },
                        "text/plain": [
                            "Processing channels in F11-1:   0%|          | 0/5 [00:00<?, ?it/s]"
                        ]
                    },
                    "metadata": {},
                    "output_type": "display_data"
                },
                {
                    "data": {
                        "application/vnd.jupyter.widget-view+json": {
                            "model_id": "57d5a965f67d488ebc0148880672c6ca",
                            "version_major": 2,
                            "version_minor": 0
                        },
                        "text/plain": [
                            "Processing channels in F11-2:   0%|          | 0/5 [00:00<?, ?it/s]"
                        ]
                    },
                    "metadata": {},
                    "output_type": "display_data"
                },
                {
                    "data": {
                        "application/vnd.jupyter.widget-view+json": {
                            "model_id": "41aeb96fb01242c5a98455e79b6ae222",
                            "version_major": 2,
                            "version_minor": 0
                        },
                        "text/plain": [
                            "Processing channels in F11-3:   0%|          | 0/5 [00:00<?, ?it/s]"
                        ]
                    },
                    "metadata": {},
                    "output_type": "display_data"
                },
                {
                    "data": {
                        "application/vnd.jupyter.widget-view+json": {
                            "model_id": "bd4471b4a9d3484e9c7965d465e0de89",
                            "version_major": 2,
                            "version_minor": 0
                        },
                        "text/plain": [
                            "Processing channels in F11-4:   0%|          | 0/5 [00:00<?, ?it/s]"
                        ]
                    },
                    "metadata": {},
                    "output_type": "display_data"
                },
                {
                    "data": {
                        "application/vnd.jupyter.widget-view+json": {
                            "model_id": "389f2dd1d6fc46ec8aa029d4dd07bed7",
                            "version_major": 2,
                            "version_minor": 0
                        },
                        "text/plain": [
                            "Processing channels in F11-5:   0%|          | 0/5 [00:00<?, ?it/s]"
                        ]
                    },
                    "metadata": {},
                    "output_type": "display_data"
                },
                {
                    "data": {
                        "application/vnd.jupyter.widget-view+json": {
                            "model_id": "effc5afdb4404f79a71387d87e29bb77",
                            "version_major": 2,
                            "version_minor": 0
                        },
                        "text/plain": [
                            "Processing channels in F11-6:   0%|          | 0/5 [00:00<?, ?it/s]"
                        ]
                    },
                    "metadata": {},
                    "output_type": "display_data"
                },
                {
                    "data": {
                        "application/vnd.jupyter.widget-view+json": {
                            "model_id": "bf20b840087f4b7e9806b57c86d9ee91",
                            "version_major": 2,
                            "version_minor": 0
                        },
                        "text/plain": [
                            "Processing channels in F11-7:   0%|          | 0/5 [00:00<?, ?it/s]"
                        ]
                    },
                    "metadata": {},
                    "output_type": "display_data"
                },
                {
                    "data": {
                        "application/vnd.jupyter.widget-view+json": {
                            "model_id": "ab03d1b7651943edb8ea00177182c026",
                            "version_major": 2,
                            "version_minor": 0
                        },
                        "text/plain": [
                            "Processing channels in F2-1:   0%|          | 0/5 [00:00<?, ?it/s]"
                        ]
                    },
                    "metadata": {},
                    "output_type": "display_data"
                },
                {
                    "data": {
                        "application/vnd.jupyter.widget-view+json": {
                            "model_id": "2ce43840f60141cdaac83ef35237379c",
                            "version_major": 2,
                            "version_minor": 0
                        },
                        "text/plain": [
                            "Processing channels in F2-2:   0%|          | 0/5 [00:00<?, ?it/s]"
                        ]
                    },
                    "metadata": {},
                    "output_type": "display_data"
                },
                {
                    "data": {
                        "application/vnd.jupyter.widget-view+json": {
                            "model_id": "d0e0c239de3045499dbf1ea1ae984b00",
                            "version_major": 2,
                            "version_minor": 0
                        },
                        "text/plain": [
                            "Processing channels in F2-3:   0%|          | 0/5 [00:00<?, ?it/s]"
                        ]
                    },
                    "metadata": {},
                    "output_type": "display_data"
                },
                {
                    "data": {
                        "application/vnd.jupyter.widget-view+json": {
                            "model_id": "eab2fd33f7a94232acd93baaca3a3016",
                            "version_major": 2,
                            "version_minor": 0
                        },
                        "text/plain": [
                            "Processing channels in F2-4:   0%|          | 0/5 [00:00<?, ?it/s]"
                        ]
                    },
                    "metadata": {},
                    "output_type": "display_data"
                },
                {
                    "data": {
                        "application/vnd.jupyter.widget-view+json": {
                            "model_id": "67f7565c9f2843759fa1f15df717920e",
                            "version_major": 2,
                            "version_minor": 0
                        },
                        "text/plain": [
                            "Processing channels in F2-5:   0%|          | 0/5 [00:00<?, ?it/s]"
                        ]
                    },
                    "metadata": {},
                    "output_type": "display_data"
                },
                {
                    "data": {
                        "application/vnd.jupyter.widget-view+json": {
                            "model_id": "10e2c937b0c84270974b28a76c639f58",
                            "version_major": 2,
                            "version_minor": 0
                        },
                        "text/plain": [
                            "Processing channels in F2-6:   0%|          | 0/5 [00:00<?, ?it/s]"
                        ]
                    },
                    "metadata": {},
                    "output_type": "display_data"
                },
                {
                    "data": {
                        "application/vnd.jupyter.widget-view+json": {
                            "model_id": "89045bb2b15c4ed790f837a6a9d1dc30",
                            "version_major": 2,
                            "version_minor": 0
                        },
                        "text/plain": [
                            "Processing channels in F2-7:   0%|          | 0/5 [00:00<?, ?it/s]"
                        ]
                    },
                    "metadata": {},
                    "output_type": "display_data"
                },
                {
                    "data": {
                        "application/vnd.jupyter.widget-view+json": {
                            "model_id": "dfcdc31b9d384520a2c2cdc9e71a98bd",
                            "version_major": 2,
                            "version_minor": 0
                        },
                        "text/plain": [
                            "Processing channels in F3-1:   0%|          | 0/5 [00:00<?, ?it/s]"
                        ]
                    },
                    "metadata": {},
                    "output_type": "display_data"
                },
                {
                    "data": {
                        "application/vnd.jupyter.widget-view+json": {
                            "model_id": "0c90179bbc054f6c895501fe70b6b16c",
                            "version_major": 2,
                            "version_minor": 0
                        },
                        "text/plain": [
                            "Processing channels in F3-2:   0%|          | 0/5 [00:00<?, ?it/s]"
                        ]
                    },
                    "metadata": {},
                    "output_type": "display_data"
                },
                {
                    "data": {
                        "application/vnd.jupyter.widget-view+json": {
                            "model_id": "b13f479a70284cdc991c317f6497985a",
                            "version_major": 2,
                            "version_minor": 0
                        },
                        "text/plain": [
                            "Processing channels in F3-3:   0%|          | 0/5 [00:00<?, ?it/s]"
                        ]
                    },
                    "metadata": {},
                    "output_type": "display_data"
                },
                {
                    "data": {
                        "application/vnd.jupyter.widget-view+json": {
                            "model_id": "d6b6b1e7525c4d0b958ba793515ae66c",
                            "version_major": 2,
                            "version_minor": 0
                        },
                        "text/plain": [
                            "Processing channels in F3-4:   0%|          | 0/5 [00:00<?, ?it/s]"
                        ]
                    },
                    "metadata": {},
                    "output_type": "display_data"
                },
                {
                    "data": {
                        "application/vnd.jupyter.widget-view+json": {
                            "model_id": "5ea52acf844048efa10670659ac22fe7",
                            "version_major": 2,
                            "version_minor": 0
                        },
                        "text/plain": [
                            "Processing channels in F3-5:   0%|          | 0/5 [00:00<?, ?it/s]"
                        ]
                    },
                    "metadata": {},
                    "output_type": "display_data"
                },
                {
                    "data": {
                        "application/vnd.jupyter.widget-view+json": {
                            "model_id": "145c3426290e4169bb2c101e12f84bc2",
                            "version_major": 2,
                            "version_minor": 0
                        },
                        "text/plain": [
                            "Processing channels in F3-6:   0%|          | 0/5 [00:00<?, ?it/s]"
                        ]
                    },
                    "metadata": {},
                    "output_type": "display_data"
                },
                {
                    "data": {
                        "application/vnd.jupyter.widget-view+json": {
                            "model_id": "41e68c8b23f1411cbdae972284495714",
                            "version_major": 2,
                            "version_minor": 0
                        },
                        "text/plain": [
                            "Processing channels in F3-7:   0%|          | 0/5 [00:00<?, ?it/s]"
                        ]
                    },
                    "metadata": {},
                    "output_type": "display_data"
                },
                {
                    "data": {
                        "application/vnd.jupyter.widget-view+json": {
                            "model_id": "492140b0c4bb4a598908d1487921c21f",
                            "version_major": 2,
                            "version_minor": 0
                        },
                        "text/plain": [
                            "Processing channels in F4-1:   0%|          | 0/5 [00:00<?, ?it/s]"
                        ]
                    },
                    "metadata": {},
                    "output_type": "display_data"
                },
                {
                    "data": {
                        "application/vnd.jupyter.widget-view+json": {
                            "model_id": "56a53ae55686427d9b882465d1f11d09",
                            "version_major": 2,
                            "version_minor": 0
                        },
                        "text/plain": [
                            "Processing channels in F4-2:   0%|          | 0/5 [00:00<?, ?it/s]"
                        ]
                    },
                    "metadata": {},
                    "output_type": "display_data"
                },
                {
                    "data": {
                        "application/vnd.jupyter.widget-view+json": {
                            "model_id": "207a6cd0c5b543e994bb47e0f93667e6",
                            "version_major": 2,
                            "version_minor": 0
                        },
                        "text/plain": [
                            "Processing channels in F4-3:   0%|          | 0/5 [00:00<?, ?it/s]"
                        ]
                    },
                    "metadata": {},
                    "output_type": "display_data"
                },
                {
                    "data": {
                        "application/vnd.jupyter.widget-view+json": {
                            "model_id": "f96b35f748f14b0fad4286058f26b4ba",
                            "version_major": 2,
                            "version_minor": 0
                        },
                        "text/plain": [
                            "Processing channels in F4-4:   0%|          | 0/5 [00:00<?, ?it/s]"
                        ]
                    },
                    "metadata": {},
                    "output_type": "display_data"
                },
                {
                    "data": {
                        "application/vnd.jupyter.widget-view+json": {
                            "model_id": "e8a6ff47a43944b2a921c1e4f45254eb",
                            "version_major": 2,
                            "version_minor": 0
                        },
                        "text/plain": [
                            "Processing channels in F4-5:   0%|          | 0/5 [00:00<?, ?it/s]"
                        ]
                    },
                    "metadata": {},
                    "output_type": "display_data"
                },
                {
                    "data": {
                        "application/vnd.jupyter.widget-view+json": {
                            "model_id": "c8b5706d7fe34e8086c0c3bbd5fa05f2",
                            "version_major": 2,
                            "version_minor": 0
                        },
                        "text/plain": [
                            "Processing channels in F4-6:   0%|          | 0/5 [00:00<?, ?it/s]"
                        ]
                    },
                    "metadata": {},
                    "output_type": "display_data"
                },
                {
                    "data": {
                        "application/vnd.jupyter.widget-view+json": {
                            "model_id": "c720a02dc79f489b9eb64e6f1c5d8444",
                            "version_major": 2,
                            "version_minor": 0
                        },
                        "text/plain": [
                            "Processing channels in F4-7:   0%|          | 0/5 [00:00<?, ?it/s]"
                        ]
                    },
                    "metadata": {},
                    "output_type": "display_data"
                },
                {
                    "data": {
                        "application/vnd.jupyter.widget-view+json": {
                            "model_id": "a02a2ef3e4d04b5c94e1ef0ec61db738",
                            "version_major": 2,
                            "version_minor": 0
                        },
                        "text/plain": [
                            "Processing channels in F5-1:   0%|          | 0/5 [00:00<?, ?it/s]"
                        ]
                    },
                    "metadata": {},
                    "output_type": "display_data"
                },
                {
                    "data": {
                        "application/vnd.jupyter.widget-view+json": {
                            "model_id": "9564bbe8e14e4690b4defafb5d9dc1c1",
                            "version_major": 2,
                            "version_minor": 0
                        },
                        "text/plain": [
                            "Processing channels in F5-2:   0%|          | 0/5 [00:00<?, ?it/s]"
                        ]
                    },
                    "metadata": {},
                    "output_type": "display_data"
                },
                {
                    "data": {
                        "application/vnd.jupyter.widget-view+json": {
                            "model_id": "5e7a23dacf2c4e57bccd42250fac09f4",
                            "version_major": 2,
                            "version_minor": 0
                        },
                        "text/plain": [
                            "Processing channels in F5-3:   0%|          | 0/5 [00:00<?, ?it/s]"
                        ]
                    },
                    "metadata": {},
                    "output_type": "display_data"
                },
                {
                    "data": {
                        "application/vnd.jupyter.widget-view+json": {
                            "model_id": "27e767f3e2494bf9a9363dba0361234c",
                            "version_major": 2,
                            "version_minor": 0
                        },
                        "text/plain": [
                            "Processing channels in F5-4:   0%|          | 0/5 [00:00<?, ?it/s]"
                        ]
                    },
                    "metadata": {},
                    "output_type": "display_data"
                },
                {
                    "data": {
                        "application/vnd.jupyter.widget-view+json": {
                            "model_id": "3c89aa1dc1744bf68ad7dbe6d115b36f",
                            "version_major": 2,
                            "version_minor": 0
                        },
                        "text/plain": [
                            "Processing channels in F5-5:   0%|          | 0/5 [00:00<?, ?it/s]"
                        ]
                    },
                    "metadata": {},
                    "output_type": "display_data"
                },
                {
                    "data": {
                        "application/vnd.jupyter.widget-view+json": {
                            "model_id": "7827027298114b8dbd2e69e51a2c3ec6",
                            "version_major": 2,
                            "version_minor": 0
                        },
                        "text/plain": [
                            "Processing channels in F5-6:   0%|          | 0/5 [00:00<?, ?it/s]"
                        ]
                    },
                    "metadata": {},
                    "output_type": "display_data"
                },
                {
                    "data": {
                        "application/vnd.jupyter.widget-view+json": {
                            "model_id": "0efd1d97e12d46d489857523c1e49ee2",
                            "version_major": 2,
                            "version_minor": 0
                        },
                        "text/plain": [
                            "Processing channels in F5-7:   0%|          | 0/5 [00:00<?, ?it/s]"
                        ]
                    },
                    "metadata": {},
                    "output_type": "display_data"
                },
                {
                    "data": {
                        "application/vnd.jupyter.widget-view+json": {
                            "model_id": "6d09ddf6e235421bac2be3de550526c7",
                            "version_major": 2,
                            "version_minor": 0
                        },
                        "text/plain": [
                            "Processing channels in F6-1:   0%|          | 0/5 [00:00<?, ?it/s]"
                        ]
                    },
                    "metadata": {},
                    "output_type": "display_data"
                },
                {
                    "data": {
                        "application/vnd.jupyter.widget-view+json": {
                            "model_id": "b5cf8a0777544f4bbaa262d239c4b2a4",
                            "version_major": 2,
                            "version_minor": 0
                        },
                        "text/plain": [
                            "Processing channels in F6-2:   0%|          | 0/5 [00:00<?, ?it/s]"
                        ]
                    },
                    "metadata": {},
                    "output_type": "display_data"
                },
                {
                    "data": {
                        "application/vnd.jupyter.widget-view+json": {
                            "model_id": "98ba6547f8ed49bd91a2e8f13b588e9a",
                            "version_major": 2,
                            "version_minor": 0
                        },
                        "text/plain": [
                            "Processing channels in F6-3:   0%|          | 0/5 [00:00<?, ?it/s]"
                        ]
                    },
                    "metadata": {},
                    "output_type": "display_data"
                },
                {
                    "data": {
                        "application/vnd.jupyter.widget-view+json": {
                            "model_id": "eea40f98e47045379d1d091ffa6e9f8c",
                            "version_major": 2,
                            "version_minor": 0
                        },
                        "text/plain": [
                            "Processing channels in F6-4:   0%|          | 0/5 [00:00<?, ?it/s]"
                        ]
                    },
                    "metadata": {},
                    "output_type": "display_data"
                },
                {
                    "data": {
                        "application/vnd.jupyter.widget-view+json": {
                            "model_id": "d167c413ccea4c55be5cb9d26e7dabf6",
                            "version_major": 2,
                            "version_minor": 0
                        },
                        "text/plain": [
                            "Processing channels in F6-5:   0%|          | 0/5 [00:00<?, ?it/s]"
                        ]
                    },
                    "metadata": {},
                    "output_type": "display_data"
                },
                {
                    "data": {
                        "application/vnd.jupyter.widget-view+json": {
                            "model_id": "1f1bd9620cb74ee1b107035bc33a1615",
                            "version_major": 2,
                            "version_minor": 0
                        },
                        "text/plain": [
                            "Processing channels in F6-6:   0%|          | 0/5 [00:00<?, ?it/s]"
                        ]
                    },
                    "metadata": {},
                    "output_type": "display_data"
                },
                {
                    "data": {
                        "application/vnd.jupyter.widget-view+json": {
                            "model_id": "942f1e28bcac4b37b76f85519b1b62ff",
                            "version_major": 2,
                            "version_minor": 0
                        },
                        "text/plain": [
                            "Processing channels in F6-7:   0%|          | 0/5 [00:00<?, ?it/s]"
                        ]
                    },
                    "metadata": {},
                    "output_type": "display_data"
                },
                {
                    "data": {
                        "application/vnd.jupyter.widget-view+json": {
                            "model_id": "40a9d67351344ae7ae8dbc643db24b50",
                            "version_major": 2,
                            "version_minor": 0
                        },
                        "text/plain": [
                            "Processing channels in F7-1:   0%|          | 0/5 [00:00<?, ?it/s]"
                        ]
                    },
                    "metadata": {},
                    "output_type": "display_data"
                },
                {
                    "data": {
                        "application/vnd.jupyter.widget-view+json": {
                            "model_id": "bfda435cf1cc4b72adc774950a86d3be",
                            "version_major": 2,
                            "version_minor": 0
                        },
                        "text/plain": [
                            "Processing channels in F7-2:   0%|          | 0/5 [00:00<?, ?it/s]"
                        ]
                    },
                    "metadata": {},
                    "output_type": "display_data"
                },
                {
                    "data": {
                        "application/vnd.jupyter.widget-view+json": {
                            "model_id": "2c674997cf94453abb640ddff788020e",
                            "version_major": 2,
                            "version_minor": 0
                        },
                        "text/plain": [
                            "Processing channels in F7-3:   0%|          | 0/5 [00:00<?, ?it/s]"
                        ]
                    },
                    "metadata": {},
                    "output_type": "display_data"
                },
                {
                    "data": {
                        "application/vnd.jupyter.widget-view+json": {
                            "model_id": "80dfe557881c485d924255bab6750136",
                            "version_major": 2,
                            "version_minor": 0
                        },
                        "text/plain": [
                            "Processing channels in F7-4:   0%|          | 0/5 [00:00<?, ?it/s]"
                        ]
                    },
                    "metadata": {},
                    "output_type": "display_data"
                },
                {
                    "data": {
                        "application/vnd.jupyter.widget-view+json": {
                            "model_id": "c1359ba85de94be59417a84aae2545cf",
                            "version_major": 2,
                            "version_minor": 0
                        },
                        "text/plain": [
                            "Processing channels in F7-5:   0%|          | 0/5 [00:00<?, ?it/s]"
                        ]
                    },
                    "metadata": {},
                    "output_type": "display_data"
                },
                {
                    "data": {
                        "application/vnd.jupyter.widget-view+json": {
                            "model_id": "e43e66b8aa294c2aab23b3d007ffa37c",
                            "version_major": 2,
                            "version_minor": 0
                        },
                        "text/plain": [
                            "Processing channels in F7-6:   0%|          | 0/5 [00:00<?, ?it/s]"
                        ]
                    },
                    "metadata": {},
                    "output_type": "display_data"
                },
                {
                    "data": {
                        "application/vnd.jupyter.widget-view+json": {
                            "model_id": "725efeecd5ef4e1f8ebd176152df3236",
                            "version_major": 2,
                            "version_minor": 0
                        },
                        "text/plain": [
                            "Processing channels in F7-7:   0%|          | 0/5 [00:00<?, ?it/s]"
                        ]
                    },
                    "metadata": {},
                    "output_type": "display_data"
                },
                {
                    "data": {
                        "application/vnd.jupyter.widget-view+json": {
                            "model_id": "3282e5de84bf43eaaddfc5a28fe6de08",
                            "version_major": 2,
                            "version_minor": 0
                        },
                        "text/plain": [
                            "Processing channels in F8-1:   0%|          | 0/5 [00:00<?, ?it/s]"
                        ]
                    },
                    "metadata": {},
                    "output_type": "display_data"
                },
                {
                    "data": {
                        "application/vnd.jupyter.widget-view+json": {
                            "model_id": "7809164677c44eccb0adc4850ed069f4",
                            "version_major": 2,
                            "version_minor": 0
                        },
                        "text/plain": [
                            "Processing channels in F8-2:   0%|          | 0/5 [00:00<?, ?it/s]"
                        ]
                    },
                    "metadata": {},
                    "output_type": "display_data"
                },
                {
                    "data": {
                        "application/vnd.jupyter.widget-view+json": {
                            "model_id": "b6e5dc6bdf8d4b0d887ec01687ac69f9",
                            "version_major": 2,
                            "version_minor": 0
                        },
                        "text/plain": [
                            "Processing channels in F8-3:   0%|          | 0/5 [00:00<?, ?it/s]"
                        ]
                    },
                    "metadata": {},
                    "output_type": "display_data"
                },
                {
                    "data": {
                        "application/vnd.jupyter.widget-view+json": {
                            "model_id": "ae600a2f59fa4602bfa762ab297bf263",
                            "version_major": 2,
                            "version_minor": 0
                        },
                        "text/plain": [
                            "Processing channels in F8-4:   0%|          | 0/5 [00:00<?, ?it/s]"
                        ]
                    },
                    "metadata": {},
                    "output_type": "display_data"
                },
                {
                    "data": {
                        "application/vnd.jupyter.widget-view+json": {
                            "model_id": "3c2203773fb14f5e85713f1c68f6c597",
                            "version_major": 2,
                            "version_minor": 0
                        },
                        "text/plain": [
                            "Processing channels in F8-5:   0%|          | 0/5 [00:00<?, ?it/s]"
                        ]
                    },
                    "metadata": {},
                    "output_type": "display_data"
                },
                {
                    "data": {
                        "application/vnd.jupyter.widget-view+json": {
                            "model_id": "909b06d6095e47219bab80b74696c871",
                            "version_major": 2,
                            "version_minor": 0
                        },
                        "text/plain": [
                            "Processing channels in F8-6:   0%|          | 0/5 [00:00<?, ?it/s]"
                        ]
                    },
                    "metadata": {},
                    "output_type": "display_data"
                },
                {
                    "data": {
                        "application/vnd.jupyter.widget-view+json": {
                            "model_id": "fa29e9d643544711880f261f60c46b84",
                            "version_major": 2,
                            "version_minor": 0
                        },
                        "text/plain": [
                            "Processing channels in F8-7:   0%|          | 0/5 [00:00<?, ?it/s]"
                        ]
                    },
                    "metadata": {},
                    "output_type": "display_data"
                },
                {
                    "data": {
                        "application/vnd.jupyter.widget-view+json": {
                            "model_id": "528bb69ff7784b15b507b3bdcead1366",
                            "version_major": 2,
                            "version_minor": 0
                        },
                        "text/plain": [
                            "Processing channels in F9-1:   0%|          | 0/5 [00:00<?, ?it/s]"
                        ]
                    },
                    "metadata": {},
                    "output_type": "display_data"
                },
                {
                    "data": {
                        "application/vnd.jupyter.widget-view+json": {
                            "model_id": "810b9ec838804f99b1b4dba41ef98458",
                            "version_major": 2,
                            "version_minor": 0
                        },
                        "text/plain": [
                            "Processing channels in F9-2:   0%|          | 0/5 [00:00<?, ?it/s]"
                        ]
                    },
                    "metadata": {},
                    "output_type": "display_data"
                },
                {
                    "data": {
                        "application/vnd.jupyter.widget-view+json": {
                            "model_id": "d606a585fdd946ec871567ddbc254bb3",
                            "version_major": 2,
                            "version_minor": 0
                        },
                        "text/plain": [
                            "Processing channels in F9-3:   0%|          | 0/5 [00:00<?, ?it/s]"
                        ]
                    },
                    "metadata": {},
                    "output_type": "display_data"
                },
                {
                    "data": {
                        "application/vnd.jupyter.widget-view+json": {
                            "model_id": "1bafa23b500a45699cb9e308de7bcd85",
                            "version_major": 2,
                            "version_minor": 0
                        },
                        "text/plain": [
                            "Processing channels in F9-4:   0%|          | 0/5 [00:00<?, ?it/s]"
                        ]
                    },
                    "metadata": {},
                    "output_type": "display_data"
                },
                {
                    "data": {
                        "application/vnd.jupyter.widget-view+json": {
                            "model_id": "b55fd3b845314517b09d90163feb1aa2",
                            "version_major": 2,
                            "version_minor": 0
                        },
                        "text/plain": [
                            "Processing channels in F9-5:   0%|          | 0/5 [00:00<?, ?it/s]"
                        ]
                    },
                    "metadata": {},
                    "output_type": "display_data"
                },
                {
                    "data": {
                        "application/vnd.jupyter.widget-view+json": {
                            "model_id": "f6d34be10202495890b7e382cc7c1212",
                            "version_major": 2,
                            "version_minor": 0
                        },
                        "text/plain": [
                            "Processing channels in F9-6:   0%|          | 0/5 [00:00<?, ?it/s]"
                        ]
                    },
                    "metadata": {},
                    "output_type": "display_data"
                },
                {
                    "data": {
                        "application/vnd.jupyter.widget-view+json": {
                            "model_id": "edd02857206a4147b8142d200258dc4a",
                            "version_major": 2,
                            "version_minor": 0
                        },
                        "text/plain": [
                            "Processing channels in F9-7:   0%|          | 0/5 [00:00<?, ?it/s]"
                        ]
                    },
                    "metadata": {},
                    "output_type": "display_data"
                },
                {
                    "data": {
                        "application/vnd.jupyter.widget-view+json": {
                            "model_id": "b64d7020655d454eb48ae167e6fc551f",
                            "version_major": 2,
                            "version_minor": 0
                        },
                        "text/plain": [
                            "Processing channels in G10-1:   0%|          | 0/5 [00:00<?, ?it/s]"
                        ]
                    },
                    "metadata": {},
                    "output_type": "display_data"
                },
                {
                    "data": {
                        "application/vnd.jupyter.widget-view+json": {
                            "model_id": "c8e3cf8695874a5c9b0757f2a8cff11d",
                            "version_major": 2,
                            "version_minor": 0
                        },
                        "text/plain": [
                            "Processing channels in G10-2:   0%|          | 0/5 [00:00<?, ?it/s]"
                        ]
                    },
                    "metadata": {},
                    "output_type": "display_data"
                },
                {
                    "data": {
                        "application/vnd.jupyter.widget-view+json": {
                            "model_id": "c1ea45adb4124d3485a320d13b96991e",
                            "version_major": 2,
                            "version_minor": 0
                        },
                        "text/plain": [
                            "Processing channels in G10-3:   0%|          | 0/5 [00:00<?, ?it/s]"
                        ]
                    },
                    "metadata": {},
                    "output_type": "display_data"
                },
                {
                    "data": {
                        "application/vnd.jupyter.widget-view+json": {
                            "model_id": "b8249e1cebfd4d33a70ef4de978ef974",
                            "version_major": 2,
                            "version_minor": 0
                        },
                        "text/plain": [
                            "Processing channels in G10-4:   0%|          | 0/5 [00:00<?, ?it/s]"
                        ]
                    },
                    "metadata": {},
                    "output_type": "display_data"
                },
                {
                    "data": {
                        "application/vnd.jupyter.widget-view+json": {
                            "model_id": "ea66b4f0c35642c48f9385b53fa2e326",
                            "version_major": 2,
                            "version_minor": 0
                        },
                        "text/plain": [
                            "Processing channels in G10-5:   0%|          | 0/5 [00:00<?, ?it/s]"
                        ]
                    },
                    "metadata": {},
                    "output_type": "display_data"
                },
                {
                    "data": {
                        "application/vnd.jupyter.widget-view+json": {
                            "model_id": "2c847ce9bdc4484ea6c829f98082c5bb",
                            "version_major": 2,
                            "version_minor": 0
                        },
                        "text/plain": [
                            "Processing channels in G10-6:   0%|          | 0/5 [00:00<?, ?it/s]"
                        ]
                    },
                    "metadata": {},
                    "output_type": "display_data"
                },
                {
                    "data": {
                        "application/vnd.jupyter.widget-view+json": {
                            "model_id": "51c9645b66d843f8b85900b19114d3af",
                            "version_major": 2,
                            "version_minor": 0
                        },
                        "text/plain": [
                            "Processing channels in G10-7:   0%|          | 0/5 [00:00<?, ?it/s]"
                        ]
                    },
                    "metadata": {},
                    "output_type": "display_data"
                },
                {
                    "data": {
                        "application/vnd.jupyter.widget-view+json": {
                            "model_id": "e0dda8caedd14fdd8ea005bb415c326a",
                            "version_major": 2,
                            "version_minor": 0
                        },
                        "text/plain": [
                            "Processing channels in G11-1:   0%|          | 0/5 [00:00<?, ?it/s]"
                        ]
                    },
                    "metadata": {},
                    "output_type": "display_data"
                },
                {
                    "data": {
                        "application/vnd.jupyter.widget-view+json": {
                            "model_id": "8fa02581db0f4b2a96934265681c8531",
                            "version_major": 2,
                            "version_minor": 0
                        },
                        "text/plain": [
                            "Processing channels in G11-2:   0%|          | 0/5 [00:00<?, ?it/s]"
                        ]
                    },
                    "metadata": {},
                    "output_type": "display_data"
                },
                {
                    "data": {
                        "application/vnd.jupyter.widget-view+json": {
                            "model_id": "d031dca3aac64263bc3bec926055d847",
                            "version_major": 2,
                            "version_minor": 0
                        },
                        "text/plain": [
                            "Processing channels in G11-3:   0%|          | 0/5 [00:00<?, ?it/s]"
                        ]
                    },
                    "metadata": {},
                    "output_type": "display_data"
                },
                {
                    "data": {
                        "application/vnd.jupyter.widget-view+json": {
                            "model_id": "9f30b13a2abc454e8865849bf923d731",
                            "version_major": 2,
                            "version_minor": 0
                        },
                        "text/plain": [
                            "Processing channels in G11-4:   0%|          | 0/5 [00:00<?, ?it/s]"
                        ]
                    },
                    "metadata": {},
                    "output_type": "display_data"
                },
                {
                    "data": {
                        "application/vnd.jupyter.widget-view+json": {
                            "model_id": "8c3bfcfa33a84bfbaa2032103a9f0c2d",
                            "version_major": 2,
                            "version_minor": 0
                        },
                        "text/plain": [
                            "Processing channels in G11-5:   0%|          | 0/5 [00:00<?, ?it/s]"
                        ]
                    },
                    "metadata": {},
                    "output_type": "display_data"
                },
                {
                    "data": {
                        "application/vnd.jupyter.widget-view+json": {
                            "model_id": "e506743283d94111bb81a0906a42af01",
                            "version_major": 2,
                            "version_minor": 0
                        },
                        "text/plain": [
                            "Processing channels in G11-6:   0%|          | 0/5 [00:00<?, ?it/s]"
                        ]
                    },
                    "metadata": {},
                    "output_type": "display_data"
                },
                {
                    "data": {
                        "application/vnd.jupyter.widget-view+json": {
                            "model_id": "a04dff609a964e34b4720a7c715dd86e",
                            "version_major": 2,
                            "version_minor": 0
                        },
                        "text/plain": [
                            "Processing channels in G11-7:   0%|          | 0/5 [00:00<?, ?it/s]"
                        ]
                    },
                    "metadata": {},
                    "output_type": "display_data"
                },
                {
                    "data": {
                        "application/vnd.jupyter.widget-view+json": {
                            "model_id": "379f9a8685a34a33af3f136f143a72e7",
                            "version_major": 2,
                            "version_minor": 0
                        },
                        "text/plain": [
                            "Processing channels in G2-1:   0%|          | 0/5 [00:00<?, ?it/s]"
                        ]
                    },
                    "metadata": {},
                    "output_type": "display_data"
                },
                {
                    "data": {
                        "application/vnd.jupyter.widget-view+json": {
                            "model_id": "5c181c180a4f47d186f4889104ae4ed8",
                            "version_major": 2,
                            "version_minor": 0
                        },
                        "text/plain": [
                            "Processing channels in G2-2:   0%|          | 0/5 [00:00<?, ?it/s]"
                        ]
                    },
                    "metadata": {},
                    "output_type": "display_data"
                },
                {
                    "data": {
                        "application/vnd.jupyter.widget-view+json": {
                            "model_id": "cad19916501145f38854a2010fe02b19",
                            "version_major": 2,
                            "version_minor": 0
                        },
                        "text/plain": [
                            "Processing channels in G2-3:   0%|          | 0/5 [00:00<?, ?it/s]"
                        ]
                    },
                    "metadata": {},
                    "output_type": "display_data"
                },
                {
                    "data": {
                        "application/vnd.jupyter.widget-view+json": {
                            "model_id": "e23266fe471f4c658bd833b829ec7f06",
                            "version_major": 2,
                            "version_minor": 0
                        },
                        "text/plain": [
                            "Processing channels in G2-4:   0%|          | 0/5 [00:00<?, ?it/s]"
                        ]
                    },
                    "metadata": {},
                    "output_type": "display_data"
                },
                {
                    "data": {
                        "application/vnd.jupyter.widget-view+json": {
                            "model_id": "74da6b18c6c345e78a13bd9bd099e8e9",
                            "version_major": 2,
                            "version_minor": 0
                        },
                        "text/plain": [
                            "Processing channels in G2-5:   0%|          | 0/5 [00:00<?, ?it/s]"
                        ]
                    },
                    "metadata": {},
                    "output_type": "display_data"
                },
                {
                    "data": {
                        "application/vnd.jupyter.widget-view+json": {
                            "model_id": "bc02290a30d04d01a1fa8e82944e8f95",
                            "version_major": 2,
                            "version_minor": 0
                        },
                        "text/plain": [
                            "Processing channels in G2-6:   0%|          | 0/5 [00:00<?, ?it/s]"
                        ]
                    },
                    "metadata": {},
                    "output_type": "display_data"
                },
                {
                    "data": {
                        "application/vnd.jupyter.widget-view+json": {
                            "model_id": "783482d39409473abfee4a38e0593134",
                            "version_major": 2,
                            "version_minor": 0
                        },
                        "text/plain": [
                            "Processing channels in G2-7:   0%|          | 0/5 [00:00<?, ?it/s]"
                        ]
                    },
                    "metadata": {},
                    "output_type": "display_data"
                },
                {
                    "data": {
                        "application/vnd.jupyter.widget-view+json": {
                            "model_id": "fb4dab18e62d4ba3a79b7202961169d2",
                            "version_major": 2,
                            "version_minor": 0
                        },
                        "text/plain": [
                            "Processing channels in G3-1:   0%|          | 0/5 [00:00<?, ?it/s]"
                        ]
                    },
                    "metadata": {},
                    "output_type": "display_data"
                },
                {
                    "data": {
                        "application/vnd.jupyter.widget-view+json": {
                            "model_id": "82bb9aae43954b468089e469a393ce2d",
                            "version_major": 2,
                            "version_minor": 0
                        },
                        "text/plain": [
                            "Processing channels in G3-2:   0%|          | 0/5 [00:00<?, ?it/s]"
                        ]
                    },
                    "metadata": {},
                    "output_type": "display_data"
                },
                {
                    "data": {
                        "application/vnd.jupyter.widget-view+json": {
                            "model_id": "47d81a9ca1a9474995bb3a545706c86a",
                            "version_major": 2,
                            "version_minor": 0
                        },
                        "text/plain": [
                            "Processing channels in G3-3:   0%|          | 0/5 [00:00<?, ?it/s]"
                        ]
                    },
                    "metadata": {},
                    "output_type": "display_data"
                },
                {
                    "data": {
                        "application/vnd.jupyter.widget-view+json": {
                            "model_id": "78ef8d9c187c4df3941b2ba151adc8a5",
                            "version_major": 2,
                            "version_minor": 0
                        },
                        "text/plain": [
                            "Processing channels in G3-4:   0%|          | 0/5 [00:00<?, ?it/s]"
                        ]
                    },
                    "metadata": {},
                    "output_type": "display_data"
                },
                {
                    "data": {
                        "application/vnd.jupyter.widget-view+json": {
                            "model_id": "45b705ed1f0c457682f0e056593bfa55",
                            "version_major": 2,
                            "version_minor": 0
                        },
                        "text/plain": [
                            "Processing channels in G3-5:   0%|          | 0/5 [00:00<?, ?it/s]"
                        ]
                    },
                    "metadata": {},
                    "output_type": "display_data"
                },
                {
                    "data": {
                        "application/vnd.jupyter.widget-view+json": {
                            "model_id": "44bcacd166ed4475b1a1cd7d55f7e087",
                            "version_major": 2,
                            "version_minor": 0
                        },
                        "text/plain": [
                            "Processing channels in G3-6:   0%|          | 0/5 [00:00<?, ?it/s]"
                        ]
                    },
                    "metadata": {},
                    "output_type": "display_data"
                },
                {
                    "data": {
                        "application/vnd.jupyter.widget-view+json": {
                            "model_id": "d21f3d115fd245debabf1048b425bb14",
                            "version_major": 2,
                            "version_minor": 0
                        },
                        "text/plain": [
                            "Processing channels in G3-7:   0%|          | 0/5 [00:00<?, ?it/s]"
                        ]
                    },
                    "metadata": {},
                    "output_type": "display_data"
                },
                {
                    "data": {
                        "application/vnd.jupyter.widget-view+json": {
                            "model_id": "c0045f0a7d3a49568b964bb76a4a07c7",
                            "version_major": 2,
                            "version_minor": 0
                        },
                        "text/plain": [
                            "Processing channels in G4-1:   0%|          | 0/5 [00:00<?, ?it/s]"
                        ]
                    },
                    "metadata": {},
                    "output_type": "display_data"
                },
                {
                    "data": {
                        "application/vnd.jupyter.widget-view+json": {
                            "model_id": "3cb0edb3b5704dffb31076c0d5a73ce0",
                            "version_major": 2,
                            "version_minor": 0
                        },
                        "text/plain": [
                            "Processing channels in G4-2:   0%|          | 0/5 [00:00<?, ?it/s]"
                        ]
                    },
                    "metadata": {},
                    "output_type": "display_data"
                },
                {
                    "data": {
                        "application/vnd.jupyter.widget-view+json": {
                            "model_id": "7ee7d043512c44f39ea1d7aa7d733574",
                            "version_major": 2,
                            "version_minor": 0
                        },
                        "text/plain": [
                            "Processing channels in G4-3:   0%|          | 0/5 [00:00<?, ?it/s]"
                        ]
                    },
                    "metadata": {},
                    "output_type": "display_data"
                },
                {
                    "data": {
                        "application/vnd.jupyter.widget-view+json": {
                            "model_id": "f0d87972f075459c9551ae14c18b6895",
                            "version_major": 2,
                            "version_minor": 0
                        },
                        "text/plain": [
                            "Processing channels in G4-4:   0%|          | 0/5 [00:00<?, ?it/s]"
                        ]
                    },
                    "metadata": {},
                    "output_type": "display_data"
                },
                {
                    "data": {
                        "application/vnd.jupyter.widget-view+json": {
                            "model_id": "155a56b9d1e246248a8447b274330820",
                            "version_major": 2,
                            "version_minor": 0
                        },
                        "text/plain": [
                            "Processing channels in G4-5:   0%|          | 0/5 [00:00<?, ?it/s]"
                        ]
                    },
                    "metadata": {},
                    "output_type": "display_data"
                },
                {
                    "data": {
                        "application/vnd.jupyter.widget-view+json": {
                            "model_id": "9e84a6bd51ab4adba126013203f42b60",
                            "version_major": 2,
                            "version_minor": 0
                        },
                        "text/plain": [
                            "Processing channels in G4-6:   0%|          | 0/5 [00:00<?, ?it/s]"
                        ]
                    },
                    "metadata": {},
                    "output_type": "display_data"
                },
                {
                    "data": {
                        "application/vnd.jupyter.widget-view+json": {
                            "model_id": "0e260affe5f14eb990ce203f88b6f237",
                            "version_major": 2,
                            "version_minor": 0
                        },
                        "text/plain": [
                            "Processing channels in G4-7:   0%|          | 0/5 [00:00<?, ?it/s]"
                        ]
                    },
                    "metadata": {},
                    "output_type": "display_data"
                },
                {
                    "data": {
                        "application/vnd.jupyter.widget-view+json": {
                            "model_id": "c95c6c146db04f8f8799ff414f7368c5",
                            "version_major": 2,
                            "version_minor": 0
                        },
                        "text/plain": [
                            "Processing channels in G5-1:   0%|          | 0/5 [00:00<?, ?it/s]"
                        ]
                    },
                    "metadata": {},
                    "output_type": "display_data"
                },
                {
                    "data": {
                        "application/vnd.jupyter.widget-view+json": {
                            "model_id": "c417fe743eeb47bbae992109fc1b6464",
                            "version_major": 2,
                            "version_minor": 0
                        },
                        "text/plain": [
                            "Processing channels in G5-2:   0%|          | 0/5 [00:00<?, ?it/s]"
                        ]
                    },
                    "metadata": {},
                    "output_type": "display_data"
                },
                {
                    "data": {
                        "application/vnd.jupyter.widget-view+json": {
                            "model_id": "6667a97505794e94b624ee3d98cdb670",
                            "version_major": 2,
                            "version_minor": 0
                        },
                        "text/plain": [
                            "Processing channels in G5-3:   0%|          | 0/5 [00:00<?, ?it/s]"
                        ]
                    },
                    "metadata": {},
                    "output_type": "display_data"
                },
                {
                    "data": {
                        "application/vnd.jupyter.widget-view+json": {
                            "model_id": "8f0e535c1f554538bca8ad0765e42e5a",
                            "version_major": 2,
                            "version_minor": 0
                        },
                        "text/plain": [
                            "Processing channels in G5-4:   0%|          | 0/5 [00:00<?, ?it/s]"
                        ]
                    },
                    "metadata": {},
                    "output_type": "display_data"
                },
                {
                    "data": {
                        "application/vnd.jupyter.widget-view+json": {
                            "model_id": "41ece6636b6b43d9983a459edc03642f",
                            "version_major": 2,
                            "version_minor": 0
                        },
                        "text/plain": [
                            "Processing channels in G5-5:   0%|          | 0/5 [00:00<?, ?it/s]"
                        ]
                    },
                    "metadata": {},
                    "output_type": "display_data"
                },
                {
                    "data": {
                        "application/vnd.jupyter.widget-view+json": {
                            "model_id": "e66593d258c64b23856a37ef215ade78",
                            "version_major": 2,
                            "version_minor": 0
                        },
                        "text/plain": [
                            "Processing channels in G5-6:   0%|          | 0/5 [00:00<?, ?it/s]"
                        ]
                    },
                    "metadata": {},
                    "output_type": "display_data"
                },
                {
                    "data": {
                        "application/vnd.jupyter.widget-view+json": {
                            "model_id": "84a6a585fa8a4260b48367db830314b2",
                            "version_major": 2,
                            "version_minor": 0
                        },
                        "text/plain": [
                            "Processing channels in G5-7:   0%|          | 0/5 [00:00<?, ?it/s]"
                        ]
                    },
                    "metadata": {},
                    "output_type": "display_data"
                },
                {
                    "data": {
                        "application/vnd.jupyter.widget-view+json": {
                            "model_id": "40e4f0efc0284ae9936905ea377bd6f2",
                            "version_major": 2,
                            "version_minor": 0
                        },
                        "text/plain": [
                            "Processing channels in G6-1:   0%|          | 0/5 [00:00<?, ?it/s]"
                        ]
                    },
                    "metadata": {},
                    "output_type": "display_data"
                },
                {
                    "data": {
                        "application/vnd.jupyter.widget-view+json": {
                            "model_id": "b8c9fe8195af4397ac03fbe0ac6106bc",
                            "version_major": 2,
                            "version_minor": 0
                        },
                        "text/plain": [
                            "Processing channels in G6-2:   0%|          | 0/5 [00:00<?, ?it/s]"
                        ]
                    },
                    "metadata": {},
                    "output_type": "display_data"
                },
                {
                    "data": {
                        "application/vnd.jupyter.widget-view+json": {
                            "model_id": "5185160eb1d34a33bb76c4a6eb231512",
                            "version_major": 2,
                            "version_minor": 0
                        },
                        "text/plain": [
                            "Processing channels in G6-3:   0%|          | 0/5 [00:00<?, ?it/s]"
                        ]
                    },
                    "metadata": {},
                    "output_type": "display_data"
                },
                {
                    "data": {
                        "application/vnd.jupyter.widget-view+json": {
                            "model_id": "cb0152bf4d034dfa946e76af656e8f4f",
                            "version_major": 2,
                            "version_minor": 0
                        },
                        "text/plain": [
                            "Processing channels in G6-4:   0%|          | 0/5 [00:00<?, ?it/s]"
                        ]
                    },
                    "metadata": {},
                    "output_type": "display_data"
                },
                {
                    "data": {
                        "application/vnd.jupyter.widget-view+json": {
                            "model_id": "afd0703fa2e0467c808d7d49c52ca21c",
                            "version_major": 2,
                            "version_minor": 0
                        },
                        "text/plain": [
                            "Processing channels in G6-5:   0%|          | 0/5 [00:00<?, ?it/s]"
                        ]
                    },
                    "metadata": {},
                    "output_type": "display_data"
                },
                {
                    "data": {
                        "application/vnd.jupyter.widget-view+json": {
                            "model_id": "d3f57904663e4cd3bcb25851ef435865",
                            "version_major": 2,
                            "version_minor": 0
                        },
                        "text/plain": [
                            "Processing channels in G6-6:   0%|          | 0/5 [00:00<?, ?it/s]"
                        ]
                    },
                    "metadata": {},
                    "output_type": "display_data"
                },
                {
                    "data": {
                        "application/vnd.jupyter.widget-view+json": {
                            "model_id": "14ad58fb7f4643449c9b1cf434b3cdc6",
                            "version_major": 2,
                            "version_minor": 0
                        },
                        "text/plain": [
                            "Processing channels in G6-7:   0%|          | 0/5 [00:00<?, ?it/s]"
                        ]
                    },
                    "metadata": {},
                    "output_type": "display_data"
                },
                {
                    "data": {
                        "application/vnd.jupyter.widget-view+json": {
                            "model_id": "2c662e567b8b45dfb8fa6cf78d3498ef",
                            "version_major": 2,
                            "version_minor": 0
                        },
                        "text/plain": [
                            "Processing channels in G7-1:   0%|          | 0/5 [00:00<?, ?it/s]"
                        ]
                    },
                    "metadata": {},
                    "output_type": "display_data"
                },
                {
                    "data": {
                        "application/vnd.jupyter.widget-view+json": {
                            "model_id": "5c26993dcc58457487bbd3b2154b9805",
                            "version_major": 2,
                            "version_minor": 0
                        },
                        "text/plain": [
                            "Processing channels in G7-2:   0%|          | 0/5 [00:00<?, ?it/s]"
                        ]
                    },
                    "metadata": {},
                    "output_type": "display_data"
                },
                {
                    "data": {
                        "application/vnd.jupyter.widget-view+json": {
                            "model_id": "6abd2e635fd2487597a33e543f29ecb3",
                            "version_major": 2,
                            "version_minor": 0
                        },
                        "text/plain": [
                            "Processing channels in G7-3:   0%|          | 0/5 [00:00<?, ?it/s]"
                        ]
                    },
                    "metadata": {},
                    "output_type": "display_data"
                },
                {
                    "data": {
                        "application/vnd.jupyter.widget-view+json": {
                            "model_id": "9dc4218c5ff74ac4b2683b1f4219a2f7",
                            "version_major": 2,
                            "version_minor": 0
                        },
                        "text/plain": [
                            "Processing channels in G7-4:   0%|          | 0/5 [00:00<?, ?it/s]"
                        ]
                    },
                    "metadata": {},
                    "output_type": "display_data"
                },
                {
                    "data": {
                        "application/vnd.jupyter.widget-view+json": {
                            "model_id": "4b5924b9b5f940998a6ff147818517e7",
                            "version_major": 2,
                            "version_minor": 0
                        },
                        "text/plain": [
                            "Processing channels in G7-5:   0%|          | 0/5 [00:00<?, ?it/s]"
                        ]
                    },
                    "metadata": {},
                    "output_type": "display_data"
                },
                {
                    "data": {
                        "application/vnd.jupyter.widget-view+json": {
                            "model_id": "e1811a5434134106907b59437b77b1d9",
                            "version_major": 2,
                            "version_minor": 0
                        },
                        "text/plain": [
                            "Processing channels in G7-6:   0%|          | 0/5 [00:00<?, ?it/s]"
                        ]
                    },
                    "metadata": {},
                    "output_type": "display_data"
                },
                {
                    "data": {
                        "application/vnd.jupyter.widget-view+json": {
                            "model_id": "771375cfe08b4aff97309eba867f25dd",
                            "version_major": 2,
                            "version_minor": 0
                        },
                        "text/plain": [
                            "Processing channels in G7-7:   0%|          | 0/5 [00:00<?, ?it/s]"
                        ]
                    },
                    "metadata": {},
                    "output_type": "display_data"
                },
                {
                    "data": {
                        "application/vnd.jupyter.widget-view+json": {
                            "model_id": "30670be3169845b8a6ac85c12589cc98",
                            "version_major": 2,
                            "version_minor": 0
                        },
                        "text/plain": [
                            "Processing channels in G8-1:   0%|          | 0/5 [00:00<?, ?it/s]"
                        ]
                    },
                    "metadata": {},
                    "output_type": "display_data"
                },
                {
                    "data": {
                        "application/vnd.jupyter.widget-view+json": {
                            "model_id": "2c45a094790e418bb4a1ab90c09cb0f8",
                            "version_major": 2,
                            "version_minor": 0
                        },
                        "text/plain": [
                            "Processing channels in G8-2:   0%|          | 0/5 [00:00<?, ?it/s]"
                        ]
                    },
                    "metadata": {},
                    "output_type": "display_data"
                },
                {
                    "data": {
                        "application/vnd.jupyter.widget-view+json": {
                            "model_id": "5f0c2068f646410aa9c43778af7956c3",
                            "version_major": 2,
                            "version_minor": 0
                        },
                        "text/plain": [
                            "Processing channels in G8-3:   0%|          | 0/5 [00:00<?, ?it/s]"
                        ]
                    },
                    "metadata": {},
                    "output_type": "display_data"
                },
                {
                    "data": {
                        "application/vnd.jupyter.widget-view+json": {
                            "model_id": "9a9c3c8231a94a7380bb0d69ead7e58e",
                            "version_major": 2,
                            "version_minor": 0
                        },
                        "text/plain": [
                            "Processing channels in G8-4:   0%|          | 0/5 [00:00<?, ?it/s]"
                        ]
                    },
                    "metadata": {},
                    "output_type": "display_data"
                },
                {
                    "data": {
                        "application/vnd.jupyter.widget-view+json": {
                            "model_id": "1b3e8f3ccdf54c549f584aeee4c0c3c5",
                            "version_major": 2,
                            "version_minor": 0
                        },
                        "text/plain": [
                            "Processing channels in G8-5:   0%|          | 0/5 [00:00<?, ?it/s]"
                        ]
                    },
                    "metadata": {},
                    "output_type": "display_data"
                },
                {
                    "data": {
                        "application/vnd.jupyter.widget-view+json": {
                            "model_id": "aac04aa3dce14d59891eaa20a9b37b45",
                            "version_major": 2,
                            "version_minor": 0
                        },
                        "text/plain": [
                            "Processing channels in G8-6:   0%|          | 0/5 [00:00<?, ?it/s]"
                        ]
                    },
                    "metadata": {},
                    "output_type": "display_data"
                },
                {
                    "data": {
                        "application/vnd.jupyter.widget-view+json": {
                            "model_id": "728f6cd81e294416a7cff63055a51ad5",
                            "version_major": 2,
                            "version_minor": 0
                        },
                        "text/plain": [
                            "Processing channels in G8-7:   0%|          | 0/5 [00:00<?, ?it/s]"
                        ]
                    },
                    "metadata": {},
                    "output_type": "display_data"
                },
                {
                    "data": {
                        "application/vnd.jupyter.widget-view+json": {
                            "model_id": "fc9836f1e9224cc18165d1ff1422dadd",
                            "version_major": 2,
                            "version_minor": 0
                        },
                        "text/plain": [
                            "Processing channels in G9-1:   0%|          | 0/5 [00:00<?, ?it/s]"
                        ]
                    },
                    "metadata": {},
                    "output_type": "display_data"
                },
                {
                    "data": {
                        "application/vnd.jupyter.widget-view+json": {
                            "model_id": "e147733b850e461b9df669c30773e097",
                            "version_major": 2,
                            "version_minor": 0
                        },
                        "text/plain": [
                            "Processing channels in G9-2:   0%|          | 0/5 [00:00<?, ?it/s]"
                        ]
                    },
                    "metadata": {},
                    "output_type": "display_data"
                },
                {
                    "data": {
                        "application/vnd.jupyter.widget-view+json": {
                            "model_id": "3c3029ebe254472fa401a86aca38c1de",
                            "version_major": 2,
                            "version_minor": 0
                        },
                        "text/plain": [
                            "Processing channels in G9-3:   0%|          | 0/5 [00:00<?, ?it/s]"
                        ]
                    },
                    "metadata": {},
                    "output_type": "display_data"
                },
                {
                    "data": {
                        "application/vnd.jupyter.widget-view+json": {
                            "model_id": "c14b1428f6aa4715a047a8d045d55d82",
                            "version_major": 2,
                            "version_minor": 0
                        },
                        "text/plain": [
                            "Processing channels in G9-4:   0%|          | 0/5 [00:00<?, ?it/s]"
                        ]
                    },
                    "metadata": {},
                    "output_type": "display_data"
                },
                {
                    "data": {
                        "application/vnd.jupyter.widget-view+json": {
                            "model_id": "adf869da0678426b8b5f1a8b68fcb15c",
                            "version_major": 2,
                            "version_minor": 0
                        },
                        "text/plain": [
                            "Processing channels in G9-5:   0%|          | 0/5 [00:00<?, ?it/s]"
                        ]
                    },
                    "metadata": {},
                    "output_type": "display_data"
                },
                {
                    "data": {
                        "application/vnd.jupyter.widget-view+json": {
                            "model_id": "d29cc05137db4cb7ac7403c4b7297a02",
                            "version_major": 2,
                            "version_minor": 0
                        },
                        "text/plain": [
                            "Processing channels in G9-6:   0%|          | 0/5 [00:00<?, ?it/s]"
                        ]
                    },
                    "metadata": {},
                    "output_type": "display_data"
                },
                {
                    "data": {
                        "application/vnd.jupyter.widget-view+json": {
                            "model_id": "c7c4e7aa404142b4ad2f3c65d174ff27",
                            "version_major": 2,
                            "version_minor": 0
                        },
                        "text/plain": [
                            "Processing channels in G9-7:   0%|          | 0/5 [00:00<?, ?it/s]"
                        ]
                    },
                    "metadata": {},
                    "output_type": "display_data"
                }
            ],
            "source": [
                "# loop through patients, well_fovs, and each channel\n",
                "# outer loop through patients\n",
                "for patient in tqdm.tqdm(patient_input_dict.keys(), desc=\"Processing patients\"):\n",
                "    input_dirs = [\n",
                "        x for x in patient_input_dict[patient][\"raw_images\"].iterdir() if x.is_dir()\n",
                "    ]\n",
                "    input_dirs.sort()\n",
                "\n",
                "    for well_dir in tqdm.tqdm(\n",
                "        input_dirs, desc=f\"Processing wells for patient {patient}\", leave=False\n",
                "    ):\n",
                "        channel_images = {\n",
                "            channel_name: {\"filename\": [], \"filepath\": []}\n",
                "            for channel_name in channel_names\n",
                "        }\n",
                "        if (\n",
                "            patient in unlisted_images[\"patient\"]\n",
                "            and well_dir.name in unlisted_images[\"image_set\"]\n",
                "        ):\n",
                "            print(f\"Skipping {well_dir.name} because it is not listed.\")\n",
                "            continue\n",
                "\n",
                "        for filename in well_dir.glob(\"*\"):\n",
                "            if filename.suffix in image_extensions:\n",
                "                for channel_name in channel_names:\n",
                "                    if channel_name in filename.name:\n",
                "                        channel_images[channel_name][\"filepath\"].append(filename)\n",
                "\n",
                "        for channel_name in tqdm(\n",
                "            channel_names, desc=f\"Processing channels in {well_dir.name}\", leave=False\n",
                "        ):\n",
                "            channel_images[channel_name][\"filepath\"] = sorted(\n",
                "                channel_images[channel_name][\"filepath\"]\n",
                "            )\n",
                "            if not channel_images[channel_name][\"filepath\"]:\n",
                "                print(\n",
                "                    f\"No files found for channel {channel_name} in {well_dir}. Skipping...\"\n",
                "                )\n",
                "                continue\n",
                "\n",
                "            images_to_stack = np.array(\n",
                "                [\n",
                "                    tiff.imread(filepath)\n",
                "                    for filepath in channel_images[channel_name][\"filepath\"]\n",
                "                ]\n",
                "            )\n",
                "            filepath = channel_images[channel_name][\"filepath\"][0]\n",
                "            well = str(filepath.parent).split(\"/\")[-1]\n",
                "            output_path = (\n",
                "                patient_input_dict[patient][\"zstack_output\"]\n",
                "                / f\"{well}\"\n",
                "                / f\"{well}_{channel_name}.tif\"\n",
                "            )\n",
                "            output_path.parent.mkdir(exist_ok=True, parents=True)\n",
                "            tiff.imwrite(output_path, images_to_stack)"
            ]
        }
    ],
    "metadata": {
        "kernelspec": {
            "display_name": "gff_preprocessing_env",
            "language": "python",
            "name": "python3"
        },
        "language_info": {
            "codemirror_mode": {
                "name": "ipython",
                "version": 3
            },
            "file_extension": ".py",
            "mimetype": "text/x-python",
            "name": "python",
            "nbconvert_exporter": "python",
            "pygments_lexer": "ipython3",
            "version": "3.10.15"
        }
    },
    "nbformat": 4,
    "nbformat_minor": 2
}
