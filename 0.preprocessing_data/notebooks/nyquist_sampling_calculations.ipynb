{
 "cells": [
  {
   "cell_type": "code",
   "execution_count": 1,
   "id": "1d1f72bf",
   "metadata": {},
   "outputs": [],
   "source": [
    "import numpy as np"
   ]
  },
  {
   "cell_type": "code",
   "execution_count": 2,
   "id": "e7f0a1b7",
   "metadata": {},
   "outputs": [],
   "source": [
    "def calculate_nyquist_sampling(\n",
    "    wavelength: int, n: float = 1.158, numerical_aperture: float = 1.35\n",
    ") -> tuple[int, int]:\n",
    "    \"\"\"\n",
    "    Description\n",
    "    -----------\n",
    "    Calculate the Nyquist sampling rates (delta_x and delta_z) for a given wavelength,\n",
    "    refractive index (n), and numerical aperture (NA).\n",
    "\n",
    "    Parameters\n",
    "    ----------\n",
    "    wavelength : int\n",
    "        The excitation wavelength in nanometers.\n",
    "    n : float, optional\n",
    "        The refractive index of the medium (default is 1.158 for oil).\n",
    "    numerical_aperture : float, optional\n",
    "        The numerical aperture of the objective lens (default is 1.35).\n",
    "    Returns\n",
    "    -------\n",
    "    delta_x : int\n",
    "        The Nyquist sampling rate in the lateral (x) direction in nanometers.\n",
    "    delta_z : int\n",
    "        The Nyquist sampling rate in the axial (z) direction in nanometers.\n",
    "    \"\"\"\n",
    "    if n < numerical_aperture:\n",
    "        alpha = np.arcsin(1)\n",
    "    else:\n",
    "        alpha = np.arcsin(numerical_aperture / n)\n",
    "    delta_x = np.round(wavelength / (8 * n * np.sin(alpha)), 0).astype(int)\n",
    "    delta_z = np.round(wavelength / (4 * n * (1 - (np.cos(alpha)))), 0).astype(int)\n",
    "    return delta_x, delta_z"
   ]
  },
  {
   "cell_type": "code",
   "execution_count": 3,
   "id": "f768bad0",
   "metadata": {},
   "outputs": [
    {
     "name": "stdout",
     "output_type": "stream",
     "text": [
      "Wavelength: 361 nm -> delta x,y: 39 nm, delta z: 78 nm\n",
      "Wavelength: 488 nm -> delta x,y: 53 nm, delta z: 105 nm\n",
      "Wavelength: 555 nm -> delta x,y: 60 nm, delta z: 120 nm\n",
      "Wavelength: 644 nm -> delta x,y: 70 nm, delta z: 139 nm\n"
     ]
    }
   ],
   "source": [
    "excitation_wavelengths = [\n",
    "    361,\n",
    "    488,\n",
    "    555,\n",
    "    644,\n",
    "]\n",
    "for wavelength in excitation_wavelengths:\n",
    "    delta_x, delta_z = calculate_nyquist_sampling(wavelength)\n",
    "    print(\n",
    "        f\"Wavelength: {wavelength} nm -> delta x,y: {delta_x} nm, delta z: {delta_z} nm\"\n",
    "    )"
   ]
  }
 ],
 "metadata": {
  "kernelspec": {
   "display_name": "gff_preprocessing_env",
   "language": "python",
   "name": "python3"
  },
  "language_info": {
   "codemirror_mode": {
    "name": "ipython",
    "version": 3
   },
   "file_extension": ".py",
   "mimetype": "text/x-python",
   "name": "python",
   "nbconvert_exporter": "python",
   "pygments_lexer": "ipython3",
   "version": "3.10.15"
  }
 },
 "nbformat": 4,
 "nbformat_minor": 5
}
