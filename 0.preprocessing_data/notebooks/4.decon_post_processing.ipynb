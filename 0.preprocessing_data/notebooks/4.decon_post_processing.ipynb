{
 "cells": [
  {
   "cell_type": "code",
   "execution_count": 1,
   "id": "4690d9a2",
   "metadata": {},
   "outputs": [],
   "source": [
    "import pathlib\n",
    "import shutil\n",
    "\n",
    "import pandas as pd\n",
    "\n",
    "try:\n",
    "    cfg = get_ipython().config\n",
    "    in_notebook = True\n",
    "except NameError:\n",
    "    in_notebook = False\n",
    "if in_notebook:\n",
    "    from tqdm.notebook import tqdm\n",
    "else:\n",
    "    from tqdm import tqdm\n",
    "cwd = pathlib.Path.cwd()\n",
    "\n",
    "if (cwd / \".git\").is_dir():\n",
    "    root_dir = cwd\n",
    "\n",
    "else:\n",
    "    root_dir = None\n",
    "    for parent in cwd.parents:\n",
    "        if (parent / \".git\").is_dir():\n",
    "            root_dir = parent\n",
    "            break\n",
    "\n",
    "bandicoot_path = pathlib.Path(\"/home/lippincm/mnt/bandicoot\").resolve()\n",
    "if bandicoot_path.exists():\n",
    "    # comment out depending on whose computer you are on\n",
    "    # mike's computer\n",
    "    bandicoot_path = pathlib.Path(\"/home/lippincm/mnt/bandicoot\").resolve()\n",
    "    # Jenna's computer\n",
    "    # bandicoot_path = pathlib.Path(\"/media/18tbdrive/GFF_organoid_data/\")\n",
    "    raw_image_dir = pathlib.Path(f\"{bandicoot_path}/NF1_organoid_data/\").resolve()\n",
    "    output_base_dir = bandicoot_path\n",
    "else:\n",
    "    raw_image_dir = pathlib.Path(f\"{root_dir}/NF1_organoid_data/\").resolve()\n",
    "    output_base_dir = root_dir"
   ]
  },
  {
   "cell_type": "code",
   "execution_count": 2,
   "id": "1b006e1e",
   "metadata": {},
   "outputs": [
    {
     "data": {
      "text/plain": [
       "PosixPath('/home/lippincm/mnt/bandicoot/NF1_organoid_data')"
      ]
     },
     "execution_count": 2,
     "metadata": {},
     "output_type": "execute_result"
    }
   ],
   "source": [
    "raw_image_dir"
   ]
  },
  {
   "cell_type": "code",
   "execution_count": 3,
   "id": "4689af08",
   "metadata": {},
   "outputs": [
    {
     "data": {
      "text/html": [
       "<div>\n",
       "<style scoped>\n",
       "    .dataframe tbody tr th:only-of-type {\n",
       "        vertical-align: middle;\n",
       "    }\n",
       "\n",
       "    .dataframe tbody tr th {\n",
       "        vertical-align: top;\n",
       "    }\n",
       "\n",
       "    .dataframe thead th {\n",
       "        text-align: right;\n",
       "    }\n",
       "</style>\n",
       "<table border=\"1\" class=\"dataframe\">\n",
       "  <thead>\n",
       "    <tr style=\"text-align: right;\">\n",
       "      <th></th>\n",
       "      <th>image_path</th>\n",
       "      <th>file_name</th>\n",
       "      <th>channel</th>\n",
       "      <th>patient_id</th>\n",
       "      <th>well_id</th>\n",
       "      <th>new_file_name</th>\n",
       "    </tr>\n",
       "  </thead>\n",
       "  <tbody>\n",
       "    <tr>\n",
       "      <th>0</th>\n",
       "      <td>/home/lippincm/Desktop/20TB_A/NF1_processed_or...</td>\n",
       "      <td>NF0014_T1_C10-1_405_cmle.ome.tiff</td>\n",
       "      <td>405</td>\n",
       "      <td>NF0014_T1</td>\n",
       "      <td>C10-1</td>\n",
       "      <td>C10-1_405.tif</td>\n",
       "    </tr>\n",
       "    <tr>\n",
       "      <th>1</th>\n",
       "      <td>/home/lippincm/Desktop/20TB_A/NF1_processed_or...</td>\n",
       "      <td>NF0014_T1_C10-2_405_cmle.ome.tiff</td>\n",
       "      <td>405</td>\n",
       "      <td>NF0014_T1</td>\n",
       "      <td>C10-2</td>\n",
       "      <td>C10-2_405.tif</td>\n",
       "    </tr>\n",
       "    <tr>\n",
       "      <th>2</th>\n",
       "      <td>/home/lippincm/Desktop/20TB_A/NF1_processed_or...</td>\n",
       "      <td>NF0014_T1_C11-1_405_cmle.ome.tiff</td>\n",
       "      <td>405</td>\n",
       "      <td>NF0014_T1</td>\n",
       "      <td>C11-1</td>\n",
       "      <td>C11-1_405.tif</td>\n",
       "    </tr>\n",
       "    <tr>\n",
       "      <th>3</th>\n",
       "      <td>/home/lippincm/Desktop/20TB_A/NF1_processed_or...</td>\n",
       "      <td>NF0014_T1_C11-2_405_cmle.ome.tiff</td>\n",
       "      <td>405</td>\n",
       "      <td>NF0014_T1</td>\n",
       "      <td>C11-2</td>\n",
       "      <td>C11-2_405.tif</td>\n",
       "    </tr>\n",
       "    <tr>\n",
       "      <th>4</th>\n",
       "      <td>/home/lippincm/Desktop/20TB_A/NF1_processed_or...</td>\n",
       "      <td>NF0014_T1_C2-1_405_cmle.ome.tiff</td>\n",
       "      <td>405</td>\n",
       "      <td>NF0014_T1</td>\n",
       "      <td>C2-1</td>\n",
       "      <td>C2-1_405.tif</td>\n",
       "    </tr>\n",
       "  </tbody>\n",
       "</table>\n",
       "</div>"
      ],
      "text/plain": [
       "                                          image_path  \\\n",
       "0  /home/lippincm/Desktop/20TB_A/NF1_processed_or...   \n",
       "1  /home/lippincm/Desktop/20TB_A/NF1_processed_or...   \n",
       "2  /home/lippincm/Desktop/20TB_A/NF1_processed_or...   \n",
       "3  /home/lippincm/Desktop/20TB_A/NF1_processed_or...   \n",
       "4  /home/lippincm/Desktop/20TB_A/NF1_processed_or...   \n",
       "\n",
       "                           file_name channel patient_id well_id  new_file_name  \n",
       "0  NF0014_T1_C10-1_405_cmle.ome.tiff     405  NF0014_T1   C10-1  C10-1_405.tif  \n",
       "1  NF0014_T1_C10-2_405_cmle.ome.tiff     405  NF0014_T1   C10-2  C10-2_405.tif  \n",
       "2  NF0014_T1_C11-1_405_cmle.ome.tiff     405  NF0014_T1   C11-1  C11-1_405.tif  \n",
       "3  NF0014_T1_C11-2_405_cmle.ome.tiff     405  NF0014_T1   C11-2  C11-2_405.tif  \n",
       "4   NF0014_T1_C2-1_405_cmle.ome.tiff     405  NF0014_T1    C2-1   C2-1_405.tif  "
      ]
     },
     "execution_count": 3,
     "metadata": {},
     "output_type": "execute_result"
    }
   ],
   "source": [
    "# get all image_paths\n",
    "# deconvolution paths\n",
    "data_path = pathlib.Path(\n",
    "    \"/home/lippincm/Desktop/20TB_A/NF1_processed_organoids/data/decon_inputs/\"\n",
    ").resolve(strict=True)\n",
    "# get all patient dirs present\n",
    "channel_dirs = [pathlib.Path(f\"{p}\") for p in data_path.iterdir() if p.is_dir()]\n",
    "well_fov_image_paths = [\n",
    "    f\n",
    "    for dir in channel_dirs\n",
    "    for f in dir.iterdir()\n",
    "    if f.is_file() and f.suffix == \".tiff\"\n",
    "]\n",
    "well_fov_image_paths.sort()\n",
    "df = pd.DataFrame({\"image_path\": well_fov_image_paths})\n",
    "df[\"file_name\"] = df[\"image_path\"].apply(lambda x: x.name)\n",
    "# df['file_parent'] = df['image_path'].apply(lambda x: x.parent)\n",
    "df[\"channel\"] = df[\"file_name\"].apply(lambda x: str(x.split(\"_\")[3].split(\".tiff\")[0]))\n",
    "df[\"patient_id\"] = df[\"file_name\"].apply(\n",
    "    lambda x: str(x.split(\"_\")[0]) + \"_\" + str(x.split(\"_\")[1])\n",
    ")\n",
    "df[\"well_id\"] = df[\"file_name\"].apply(lambda x: str(x.split(\"_\")[2]))\n",
    "df[\"new_file_name\"] = df[\"well_id\"] + \"_\" + df[\"channel\"] + \".tif\"\n",
    "df.head()"
   ]
  },
  {
   "cell_type": "code",
   "execution_count": 4,
   "id": "dc696485",
   "metadata": {},
   "outputs": [
    {
     "data": {
      "application/vnd.jupyter.widget-view+json": {
       "model_id": "5b90dcb31db443e7900b8e0ea25a7800",
       "version_major": 2,
       "version_minor": 0
      },
      "text/plain": [
       "Copying files:   0%|          | 0/8977 [00:00<?, ?it/s]"
      ]
     },
     "metadata": {},
     "output_type": "display_data"
    }
   ],
   "source": [
    "for idx, row in tqdm(df.iterrows(), total=len(df), desc=\"Copying files\"):\n",
    "    patient = row[\"patient_id\"]\n",
    "    well = row[\"well_id\"]\n",
    "    channel = row[\"channel\"]\n",
    "    image_path = row[\"image_path\"]\n",
    "    new_image_path = pathlib.Path(\n",
    "        f\"{raw_image_dir}/data/{patient}/deconvolved_images/{well}/{row['new_file_name']}\"\n",
    "    )\n",
    "    new_image_path.parent.mkdir(parents=True, exist_ok=True)\n",
    "    shutil.copyfile(image_path, new_image_path)"
   ]
  }
 ],
 "metadata": {
  "kernelspec": {
   "display_name": "gff_preprocessing_env",
   "language": "python",
   "name": "python3"
  },
  "language_info": {
   "codemirror_mode": {
    "name": "ipython",
    "version": 3
   },
   "file_extension": ".py",
   "mimetype": "text/x-python",
   "name": "python",
   "nbconvert_exporter": "python",
   "pygments_lexer": "ipython3",
   "version": "3.10.15"
  }
 },
 "nbformat": 4,
 "nbformat_minor": 5
}
