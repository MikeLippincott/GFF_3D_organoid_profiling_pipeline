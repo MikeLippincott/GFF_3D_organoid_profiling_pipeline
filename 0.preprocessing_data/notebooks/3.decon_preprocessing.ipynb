{
 "cells": [
  {
   "cell_type": "code",
   "execution_count": 1,
   "id": "4690d9a2",
   "metadata": {},
   "outputs": [],
   "source": [
    "import pathlib\n",
    "import shutil\n",
    "\n",
    "import pandas as pd\n",
    "\n",
    "try:\n",
    "    cfg = get_ipython().config\n",
    "    in_notebook = True\n",
    "except NameError:\n",
    "    in_notebook = False\n",
    "if in_notebook:\n",
    "    from tqdm.notebook import tqdm\n",
    "else:\n",
    "    from tqdm import tqdm"
   ]
  },
  {
   "cell_type": "code",
   "execution_count": null,
   "id": "4689af08",
   "metadata": {},
   "outputs": [
    {
     "name": "stdout",
     "output_type": "stream",
     "text": [
      "Found 1 patient dirs\n"
     ]
    },
    {
     "data": {
      "text/html": [
       "<div>\n",
       "<style scoped>\n",
       "    .dataframe tbody tr th:only-of-type {\n",
       "        vertical-align: middle;\n",
       "    }\n",
       "\n",
       "    .dataframe tbody tr th {\n",
       "        vertical-align: top;\n",
       "    }\n",
       "\n",
       "    .dataframe thead th {\n",
       "        text-align: right;\n",
       "    }\n",
       "</style>\n",
       "<table border=\"1\" class=\"dataframe\">\n",
       "  <thead>\n",
       "    <tr style=\"text-align: right;\">\n",
       "      <th></th>\n",
       "      <th>image_path</th>\n",
       "      <th>patient</th>\n",
       "      <th>well</th>\n",
       "      <th>channel</th>\n",
       "    </tr>\n",
       "  </thead>\n",
       "  <tbody>\n",
       "    <tr>\n",
       "      <th>0</th>\n",
       "      <td>/home/lippincm/mnt/bandicoot/NF1_organoid_data...</td>\n",
       "      <td>NF0014_T2</td>\n",
       "      <td>C10-1</td>\n",
       "      <td>405</td>\n",
       "    </tr>\n",
       "    <tr>\n",
       "      <th>1</th>\n",
       "      <td>/home/lippincm/mnt/bandicoot/NF1_organoid_data...</td>\n",
       "      <td>NF0014_T2</td>\n",
       "      <td>C10-1</td>\n",
       "      <td>488</td>\n",
       "    </tr>\n",
       "    <tr>\n",
       "      <th>2</th>\n",
       "      <td>/home/lippincm/mnt/bandicoot/NF1_organoid_data...</td>\n",
       "      <td>NF0014_T2</td>\n",
       "      <td>C10-1</td>\n",
       "      <td>555</td>\n",
       "    </tr>\n",
       "    <tr>\n",
       "      <th>3</th>\n",
       "      <td>/home/lippincm/mnt/bandicoot/NF1_organoid_data...</td>\n",
       "      <td>NF0014_T2</td>\n",
       "      <td>C10-1</td>\n",
       "      <td>640</td>\n",
       "    </tr>\n",
       "    <tr>\n",
       "      <th>4</th>\n",
       "      <td>/home/lippincm/mnt/bandicoot/NF1_organoid_data...</td>\n",
       "      <td>NF0014_T2</td>\n",
       "      <td>C10-1</td>\n",
       "      <td>TRANS</td>\n",
       "    </tr>\n",
       "  </tbody>\n",
       "</table>\n",
       "</div>"
      ],
      "text/plain": [
       "                                          image_path    patient   well channel\n",
       "0  /home/lippincm/mnt/bandicoot/NF1_organoid_data...  NF0014_T2  C10-1     405\n",
       "1  /home/lippincm/mnt/bandicoot/NF1_organoid_data...  NF0014_T2  C10-1     488\n",
       "2  /home/lippincm/mnt/bandicoot/NF1_organoid_data...  NF0014_T2  C10-1     555\n",
       "3  /home/lippincm/mnt/bandicoot/NF1_organoid_data...  NF0014_T2  C10-1     640\n",
       "4  /home/lippincm/mnt/bandicoot/NF1_organoid_data...  NF0014_T2  C10-1   TRANS"
      ]
     },
     "execution_count": 2,
     "metadata": {},
     "output_type": "execute_result"
    }
   ],
   "source": [
    "# get all image_paths\n",
    "data_path = pathlib.Path(\n",
    "    \"/home/lippincm/mnt/bandicoot/NF1_organoid_data/data/\"\n",
    ").resolve(strict=True)\n",
    "# get all patient dirs present\n",
    "patient_dirs = [\n",
    "    pathlib.Path(f\"{p}/zstack_images/\")\n",
    "    for p in data_path.iterdir()\n",
    "    if p.is_dir()\n",
    "    and \"all_patient_profiles\" not in p.name\n",
    "    and \"blocklist\" not in p.name\n",
    "    and \"decon\" not in p.name\n",
    "    and \"NF0014_T2\" in p.name\n",
    "]\n",
    "# well_fov_dirs\n",
    "well_fov_dirs = [f for dir in patient_dirs for f in dir.iterdir() if f.is_dir()]\n",
    "individual_files_dirs = [\n",
    "    f for dir in well_fov_dirs for f in dir.iterdir() if f.is_file()\n",
    "]\n",
    "print(f\"Found {len(patient_dirs)} patient dirs\")\n",
    "individual_files_dirs.sort()\n",
    "df = pd.DataFrame({\"image_path\": individual_files_dirs})\n",
    "df[\"patient\"] = df[\"image_path\"].apply(lambda x: x.parent.parent.parent.name)\n",
    "df[\"well\"] = df[\"image_path\"].apply(lambda x: x.parent.name)\n",
    "df[\"channel\"] = df[\"image_path\"].apply(lambda x: x.stem.split(\"_\")[1])\n",
    "df.head()"
   ]
  },
  {
   "cell_type": "code",
   "execution_count": 3,
   "id": "f2110c19",
   "metadata": {},
   "outputs": [
    {
     "name": "stdout",
     "output_type": "stream",
     "text": [
      "Found 1 patient dirs\n"
     ]
    },
    {
     "data": {
      "text/html": [
       "<div>\n",
       "<style scoped>\n",
       "    .dataframe tbody tr th:only-of-type {\n",
       "        vertical-align: middle;\n",
       "    }\n",
       "\n",
       "    .dataframe tbody tr th {\n",
       "        vertical-align: top;\n",
       "    }\n",
       "\n",
       "    .dataframe thead th {\n",
       "        text-align: right;\n",
       "    }\n",
       "</style>\n",
       "<table border=\"1\" class=\"dataframe\">\n",
       "  <thead>\n",
       "    <tr style=\"text-align: right;\">\n",
       "      <th></th>\n",
       "      <th>image_path</th>\n",
       "      <th>patient</th>\n",
       "      <th>well</th>\n",
       "      <th>channel</th>\n",
       "    </tr>\n",
       "  </thead>\n",
       "  <tbody>\n",
       "    <tr>\n",
       "      <th>0</th>\n",
       "      <td>/home/lippincm/mnt/bandicoot/NF1_organoid_data...</td>\n",
       "      <td>NF0014_T2</td>\n",
       "      <td>C10-1</td>\n",
       "      <td>405</td>\n",
       "    </tr>\n",
       "    <tr>\n",
       "      <th>1</th>\n",
       "      <td>/home/lippincm/mnt/bandicoot/NF1_organoid_data...</td>\n",
       "      <td>NF0014_T2</td>\n",
       "      <td>C10-1</td>\n",
       "      <td>488</td>\n",
       "    </tr>\n",
       "    <tr>\n",
       "      <th>2</th>\n",
       "      <td>/home/lippincm/mnt/bandicoot/NF1_organoid_data...</td>\n",
       "      <td>NF0014_T2</td>\n",
       "      <td>C10-1</td>\n",
       "      <td>555</td>\n",
       "    </tr>\n",
       "    <tr>\n",
       "      <th>3</th>\n",
       "      <td>/home/lippincm/mnt/bandicoot/NF1_organoid_data...</td>\n",
       "      <td>NF0014_T2</td>\n",
       "      <td>C10-1</td>\n",
       "      <td>640</td>\n",
       "    </tr>\n",
       "    <tr>\n",
       "      <th>4</th>\n",
       "      <td>/home/lippincm/mnt/bandicoot/NF1_organoid_data...</td>\n",
       "      <td>NF0014_T2</td>\n",
       "      <td>C10-1</td>\n",
       "      <td>TRANS</td>\n",
       "    </tr>\n",
       "  </tbody>\n",
       "</table>\n",
       "</div>"
      ],
      "text/plain": [
       "                                          image_path    patient   well channel\n",
       "0  /home/lippincm/mnt/bandicoot/NF1_organoid_data...  NF0014_T2  C10-1     405\n",
       "1  /home/lippincm/mnt/bandicoot/NF1_organoid_data...  NF0014_T2  C10-1     488\n",
       "2  /home/lippincm/mnt/bandicoot/NF1_organoid_data...  NF0014_T2  C10-1     555\n",
       "3  /home/lippincm/mnt/bandicoot/NF1_organoid_data...  NF0014_T2  C10-1     640\n",
       "4  /home/lippincm/mnt/bandicoot/NF1_organoid_data...  NF0014_T2  C10-1   TRANS"
      ]
     },
     "execution_count": 3,
     "metadata": {},
     "output_type": "execute_result"
    }
   ],
   "source": [
    "# well_fov_dirs\n",
    "well_fov_dirs = [f for dir in patient_dirs for f in dir.iterdir() if f.is_dir()]\n",
    "individual_files_dirs = [\n",
    "    f for dir in well_fov_dirs for f in dir.iterdir() if f.is_file()\n",
    "]\n",
    "print(f\"Found {len(patient_dirs)} patient dirs\")\n",
    "individual_files_dirs.sort()\n",
    "df = pd.DataFrame({\"image_path\": individual_files_dirs})\n",
    "df[\"patient\"] = df[\"image_path\"].apply(lambda x: x.parent.parent.parent.name)\n",
    "df[\"well\"] = df[\"image_path\"].apply(lambda x: x.parent.name)\n",
    "df[\"channel\"] = df[\"image_path\"].apply(lambda x: x.stem.split(\"_\")[1])\n",
    "df.head()"
   ]
  },
  {
   "cell_type": "code",
   "execution_count": 4,
   "id": "dc696485",
   "metadata": {},
   "outputs": [
    {
     "data": {
      "application/vnd.jupyter.widget-view+json": {
       "model_id": "8d402faa6fd04f22954d1b0d6671e3c4",
       "version_major": 2,
       "version_minor": 0
      },
      "text/plain": [
       "Copying files:   0%|          | 0/1750 [00:00<?, ?it/s]"
      ]
     },
     "metadata": {},
     "output_type": "display_data"
    }
   ],
   "source": [
    "decon_input_path = pathlib.Path(\n",
    "    \"/home/lippincm/Desktop/20TB_A/NF1_processed_organoids/data/decon_inputs\"\n",
    ").resolve()\n",
    "decon_input_path.mkdir(parents=True, exist_ok=True)\n",
    "for idx, row in tqdm(df.iterrows(), total=len(df), desc=\"Copying files\"):\n",
    "    patient = row[\"patient\"]\n",
    "    well = row[\"well\"]\n",
    "    channel = row[\"channel\"]\n",
    "    image_path = row[\"image_path\"]\n",
    "    dest_dir = pathlib.Path(\n",
    "        f\"{decon_input_path}/{channel}/{patient}_{well}_{channel}.tif\"\n",
    "    )\n",
    "    dest_dir.parent.mkdir(parents=True, exist_ok=True)\n",
    "    shutil.copy(image_path, dest_dir)"
   ]
  }
 ],
 "metadata": {
  "kernelspec": {
   "display_name": "GFF_featurization",
   "language": "python",
   "name": "python3"
  },
  "language_info": {
   "codemirror_mode": {
    "name": "ipython",
    "version": 3
   },
   "file_extension": ".py",
   "mimetype": "text/x-python",
   "name": "python",
   "nbconvert_exporter": "python",
   "pygments_lexer": "ipython3",
   "version": "3.12.9"
  }
 },
 "nbformat": 4,
 "nbformat_minor": 5
}
