{
    "cells": [
        {
            "cell_type": "code",
            "execution_count": 1,
            "metadata": {},
            "outputs": [],
            "source": [
                "import pathlib\n",
                "\n",
                "import matplotlib.pyplot as plt\n",
                "import numpy as np\n",
                "import pandas as pd\n",
                "import seaborn as sns\n",
                "import tifffile\n",
                "import tqdm"
            ]
        },
        {
            "cell_type": "code",
            "execution_count": 2,
            "metadata": {},
            "outputs": [],
            "source": [
                "def calcualte_snr(image: np.ndarray) -> float:\n",
                "    \"\"\"\n",
                "    Calculate the signal to noise ratio of an image\n",
                "    Where SNR = mean(signal) / std(noise)\n",
                "    Where the signal is the whole image pixel values\n",
                "\n",
                "    Parameters\n",
                "    ----------\n",
                "    image_path : pathlib.Path\n",
                "        Path to the image file\n",
                "\n",
                "    Returns\n",
                "    -------\n",
                "    float\n",
                "        Signal to noise ratio\n",
                "    \"\"\"\n",
                "    p_sig = np.mean(image)\n",
                "    p_noise = np.std(image)\n",
                "    snr = p_sig / p_noise\n",
                "    return snr"
            ]
        },
        {
            "cell_type": "code",
            "execution_count": 3,
            "metadata": {},
            "outputs": [],
            "source": [
                "images_path = pathlib.Path(\"../../data/NF0014/zstack_images\").resolve(strict=True)\n",
                "# get all the tif files recursively\n",
                "tif_files = list(images_path.rglob(\"*.tif\"))\n",
                "test_file = tif_files[0]"
            ]
        },
        {
            "cell_type": "code",
            "execution_count": 4,
            "metadata": {},
            "outputs": [
                {
                    "name": "stderr",
                    "output_type": "stream",
                    "text": [
                        " 69%|\u2588\u2588\u2588\u2588\u2588\u2588\u2589   | 357/515 [00:55<00:14, 10.70it/s]/tmp/ipykernel_3712600/1924429124.py:19: RuntimeWarning: invalid value encountered in scalar divide\n",
                        "  snr = p_sig / p_noise\n",
                        "100%|\u2588\u2588\u2588\u2588\u2588\u2588\u2588\u2588\u2588\u2588| 515/515 [01:14<00:00,  6.92it/s]\n"
                    ]
                }
            ],
            "source": [
                "output_dict = {\"well\": [], \"channel\": [], \"z-slice\": [], \"SNR\": []}\n",
                "for path_of_image in tqdm.tqdm(tif_files):\n",
                "    well = path_of_image.stem.split(\"_\")[0]\n",
                "    channel = path_of_image.stem.split(\"_\")[1]\n",
                "    image = tifffile.imread(path_of_image)\n",
                "    for z_slice in range(image.shape[0]):\n",
                "        snr = calcualte_snr(image[z_slice])\n",
                "        output_dict[\"well\"].append(well)\n",
                "        output_dict[\"channel\"].append(channel)\n",
                "        output_dict[\"z-slice\"].append(z_slice)\n",
                "        output_dict[\"SNR\"].append(snr)"
            ]
        },
        {
            "cell_type": "code",
            "execution_count": 5,
            "metadata": {},
            "outputs": [
                {
                    "name": "stdout",
                    "output_type": "stream",
                    "text": [
                        "(16850, 4)\n"
                    ]
                },
                {
                    "data": {
                        "text/html": [
                            "<div>\n",
                            "<style scoped>\n",
                            "    .dataframe tbody tr th:only-of-type {\n",
                            "        vertical-align: middle;\n",
                            "    }\n",
                            "\n",
                            "    .dataframe tbody tr th {\n",
                            "        vertical-align: top;\n",
                            "    }\n",
                            "\n",
                            "    .dataframe thead th {\n",
                            "        text-align: right;\n",
                            "    }\n",
                            "</style>\n",
                            "<table border=\"1\" class=\"dataframe\">\n",
                            "  <thead>\n",
                            "    <tr style=\"text-align: right;\">\n",
                            "      <th></th>\n",
                            "      <th>well</th>\n",
                            "      <th>channel</th>\n",
                            "      <th>z-slice</th>\n",
                            "      <th>SNR</th>\n",
                            "    </tr>\n",
                            "  </thead>\n",
                            "  <tbody>\n",
                            "    <tr>\n",
                            "      <th>0</th>\n",
                            "      <td>G8-1</td>\n",
                            "      <td>405</td>\n",
                            "      <td>0</td>\n",
                            "      <td>2.471419</td>\n",
                            "    </tr>\n",
                            "    <tr>\n",
                            "      <th>1</th>\n",
                            "      <td>G8-1</td>\n",
                            "      <td>405</td>\n",
                            "      <td>1</td>\n",
                            "      <td>1.957894</td>\n",
                            "    </tr>\n",
                            "    <tr>\n",
                            "      <th>2</th>\n",
                            "      <td>G8-1</td>\n",
                            "      <td>405</td>\n",
                            "      <td>2</td>\n",
                            "      <td>1.687372</td>\n",
                            "    </tr>\n",
                            "    <tr>\n",
                            "      <th>3</th>\n",
                            "      <td>G8-1</td>\n",
                            "      <td>405</td>\n",
                            "      <td>3</td>\n",
                            "      <td>1.605053</td>\n",
                            "    </tr>\n",
                            "    <tr>\n",
                            "      <th>4</th>\n",
                            "      <td>G8-1</td>\n",
                            "      <td>405</td>\n",
                            "      <td>4</td>\n",
                            "      <td>1.591090</td>\n",
                            "    </tr>\n",
                            "  </tbody>\n",
                            "</table>\n",
                            "</div>"
                        ],
                        "text/plain": [
                            "   well channel  z-slice       SNR\n",
                            "0  G8-1     405        0  2.471419\n",
                            "1  G8-1     405        1  1.957894\n",
                            "2  G8-1     405        2  1.687372\n",
                            "3  G8-1     405        3  1.605053\n",
                            "4  G8-1     405        4  1.591090"
                        ]
                    },
                    "execution_count": 5,
                    "metadata": {},
                    "output_type": "execute_result"
                }
            ],
            "source": [
                "df = pd.DataFrame(output_dict)\n",
                "print(df.shape)\n",
                "df.head()"
            ]
        },
        {
            "cell_type": "code",
            "execution_count": 6,
            "metadata": {},
            "outputs": [],
            "source": [
                "# save the SNR data to a csv file\n",
                "pathlib.Path(\"../results\").mkdir(exist_ok=True)\n",
                "df.to_csv(\"../results/snr_data.csv\", index=False)"
            ]
        },
        {
            "cell_type": "markdown",
            "metadata": {},
            "source": [
                "Typical SNR values\n",
                "* Low signal/quality confocal images (and STED): SNR = 5-10\n",
                "* Average confocal image: SNR = 15-20\n",
                "* High quality confocal image: SNR = > 30\n",
                "* Low quality widefield image (slidescanners): SNR 5-15\n",
                "* Good quality widefield image: SNR > 40\n",
                "* Microscope with cooled CCD camera: SNR = 50-100 "
            ]
        }
    ],
    "metadata": {
        "kernelspec": {
            "display_name": "gff_preprocessing_env",
            "language": "python",
            "name": "python3"
        },
        "language_info": {
            "codemirror_mode": {
                "name": "ipython",
                "version": 3
            },
            "file_extension": ".py",
            "mimetype": "text/x-python",
            "name": "python",
            "nbconvert_exporter": "python",
            "pygments_lexer": "ipython3",
            "version": "3.10.15"
        }
    },
    "nbformat": 4,
    "nbformat_minor": 2
}
