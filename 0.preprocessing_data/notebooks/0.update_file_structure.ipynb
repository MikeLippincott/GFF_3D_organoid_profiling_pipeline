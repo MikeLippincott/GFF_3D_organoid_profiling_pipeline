{
    "cells": [
        {
            "cell_type": "markdown",
            "metadata": {},
            "source": [
                "# Copy raw images into one folder to use for CellProfiler processing\n",
                "\n",
                "Currently, the images are located nest deep within multiple folders. \n",
                "For best practices, we will copy the images (preserving metadata) to one folder that can be used for CellProfiler processing.\n",
                "This file is modified from its original version: https://github.com/WayScience/GFF_2D_organoid_prototyping ."
            ]
        },
        {
            "cell_type": "markdown",
            "metadata": {},
            "source": [
                "## Import libraries"
            ]
        },
        {
            "cell_type": "code",
            "execution_count": 1,
            "metadata": {},
            "outputs": [],
            "source": [
                "import argparse\n",
                "import pathlib\n",
                "import shutil\n",
                "import sys\n",
                "\n",
                "import tqdm"
            ]
        },
        {
            "cell_type": "markdown",
            "metadata": {},
            "source": [
                "## Set paths and variables"
            ]
        },
        {
            "cell_type": "code",
            "execution_count": 2,
            "metadata": {},
            "outputs": [
                {
                    "name": "stdout",
                    "output_type": "stream",
                    "text": [
                        "HPC: False\n"
                    ]
                }
            ],
            "source": [
                "argparse = argparse.ArgumentParser(\n",
                "    description=\"Copy files from one directory to another\"\n",
                ")\n",
                "argparse.add_argument(\"--HPC\", action=\"store_true\", help=\"Type of compute to run on\")\n",
                "\n",
                "# Parse arguments\n",
                "args = argparse.parse_args(args=sys.argv[1:] if \"ipykernel\" not in sys.argv[0] else [])\n",
                "HPC = args.HPC\n",
                "\n",
                "print(f\"HPC: {HPC}\")"
            ]
        },
        {
            "cell_type": "code",
            "execution_count": 3,
            "metadata": {},
            "outputs": [],
            "source": [
                "# Define parent and destination directories in a single dictionary\n",
                "dir_mapping = {\n",
                "    # \"NF0014\": {\n",
                "    #     \"parent\": pathlib.Path(\n",
                "    #         \"/media/18tbdrive/GFF_organoid_data/Cell Painting-NF0014 Thawed3-Pilot Drug Screening/NF0014-Thawed 3 (Raw image files)-Combined/NF0014-Thawed 3 (Raw image files)-Combined copy\"\n",
                "    #         if not HPC\n",
                "    #         else \"/pl/active/koala/GFF_Data/GFF-Raw/NF0014-Thawed 3 (Raw image files)-Combined/NF0014-Thawed 3 (Raw image files)-Combined copy\"\n",
                "    #     ).resolve(strict=True),\n",
                "    #     \"destination\": pathlib.Path(\"../../data/NF0014_raw_images\").resolve(),\n",
                "    # },\n",
                "    # \"NF0016\": {\n",
                "    #     \"parent\": pathlib.Path(\n",
                "    #         \"/media/18tbdrive/GFF_organoid_data/NF0016 Cell Painting-Pilot Drug Screening-selected/NF0016-Cell Painting Images/NF0016-images copy\"\n",
                "    #         if not HPC\n",
                "    #         else \"/pl/active/koala/GFF_Data/GFF-Raw/NF0016 Cell Painting-Pilot Drug Screening-selected/NF0016-Cell Painting Images/NF0016-images copy\"\n",
                "    #     ).resolve(strict=True),\n",
                "    #     \"destination\": pathlib.Path(\"../../data/NF0016_raw_images\").resolve(),\n",
                "    # },\n",
                "    \"NF0017\": {\n",
                "        \"parent\": pathlib.Path(\n",
                "            \"/media/18tbdrive/GFF_organoid_data/NF0017-T3-P7 (AGP, Mito Parameter optimization)/Acquisition 03-07-2025\"\n",
                "            if not HPC\n",
                "            else \"/pl/active/koala/GFF_Data/GFF-Raw/NF0017-T3-P7 (AGP, Mito Parameter optimization)/Acquisition 03-07-2025\"  # TODO: Update this later if not correct\n",
                "        ).resolve(strict=True),\n",
                "        \"destination\": pathlib.Path(\n",
                "            \"../../data/raw_images/NF0017_raw_images\"\n",
                "        ).resolve(),\n",
                "    },\n",
                "    # \"NF0018\": {\n",
                "    #     \"parent\": pathlib.Path(\n",
                "    #         \"/media/18tbdrive/GFF_organoid_data/NF0018 (T6) Cell Painting-Pilot Drug Screeining-selected/NF0018-Cell Painting Images/NF0018-All Acquisitions\"\n",
                "    #         if not HPC\n",
                "    #         else \"/pl/active/koala/GFF_Data/GFF-Raw/NF0018 (T6) Cell Painting-Pilot Drug Screeining-selected/NF0018-Cell Painting Images/NF0018-All Acquisitions\"\n",
                "    #     ).resolve(strict=True),\n",
                "    #     \"destination\": pathlib.Path(\"../../data/NF0018_raw_images\").resolve(),\n",
                "    # },\n",
                "}\n",
                "\n",
                "# Image extensions that we are looking to copy\n",
                "image_extensions = {\".tif\", \".tiff\"}"
            ]
        },
        {
            "cell_type": "markdown",
            "metadata": {},
            "source": [
                "## Reach the nested images and copy to one folder"
            ]
        },
        {
            "cell_type": "markdown",
            "metadata": {},
            "source": [
                "### Set QC functions that determine if a well/site is of good quality to process based on file structure"
            ]
        },
        {
            "cell_type": "code",
            "execution_count": 4,
            "metadata": {},
            "outputs": [],
            "source": [
                "def has_consistent_naming(well_dir: pathlib.Path) -> bool:\n",
                "    \"\"\"Check that all nested folders within a well directory have the same names as the well directory itself.\n",
                "\n",
                "    Args:\n",
                "        well_dir (pathlib.Path): Path to a single well directory.\n",
                "\n",
                "    Returns:\n",
                "        bool: True if all nested folders inside this well directory have the same name as the well directory, False otherwise.\n",
                "    \"\"\"\n",
                "    # Get the name of the well directory (this will be the expected folder name)\n",
                "    well_name = well_dir.name\n",
                "\n",
                "    # Get the immediate subdirectories in the well directory (e.g., Field_1, Field_2)\n",
                "    sub_dirs = [d for d in well_dir.iterdir() if d.is_dir()]\n",
                "\n",
                "    if not sub_dirs:\n",
                "        return False  # No nested folders found, treat as inconsistent\n",
                "\n",
                "    # Check if each subdirectory contains a nested folder with the same name as the well directory\n",
                "    for sub in sub_dirs:\n",
                "        nested_folders = [d.name for d in sub.iterdir() if d.is_dir()]\n",
                "        if well_name not in nested_folders:\n",
                "            return False  # Inconsistent folder structure found\n",
                "\n",
                "    return True  # All subdirectories have a nested folder with the same name as the well directory\n",
                "\n",
                "\n",
                "def is_image_folder_empty(nested_dir: pathlib.Path) -> bool:\n",
                "    \"\"\"Check if a nested directory contains any images.\n",
                "\n",
                "    Args:\n",
                "        nested_dir (pathlib.Path): Path to a directory nested within the well directory\n",
                "\n",
                "    Returns:\n",
                "        bool: Boolean indicating whether the nested directory contains any images\n",
                "    \"\"\"\n",
                "    return not any(\n",
                "        image.suffix.lower() in image_extensions for image in nested_dir.rglob(\"*\")\n",
                "    )\n",
                "\n",
                "\n",
                "def has_equal_images_per_channel(\n",
                "    nested_dir: pathlib.Path, channel_names: list[str]\n",
                ") -> bool:\n",
                "    \"\"\"Check if all specified channels have the same number of images by looking for the channel name in the filenames.\n",
                "\n",
                "    Args:\n",
                "        nested_dir (pathlib.Path): Path to a directory nested within the well directory.\n",
                "        channel_names (list[str]): List of strings of the channel names found in the nested directory.\n",
                "\n",
                "    Returns:\n",
                "        bool: Boolean indicating whether all specified channels have the same number of images.\n",
                "    \"\"\"\n",
                "    # Initialize counts for each channel\n",
                "    channel_counts = {channel: 0 for channel in channel_names}\n",
                "\n",
                "    # Count images for each channel based on the channel name in the filename\n",
                "    for image in nested_dir.rglob(\"*\"):  # Search for all files recursively\n",
                "        if image.suffix.lower() in image_extensions:  # Ensure it's an image file\n",
                "            for channel in channel_names:\n",
                "                if (\n",
                "                    channel in image.name\n",
                "                ):  # If the channel name is found in the image filename\n",
                "                    channel_counts[channel] += 1\n",
                "\n",
                "    # Get the unique set of image counts (if all counts are equal, there should be only one unique value)\n",
                "    image_counts = set(channel_counts.values())\n",
                "\n",
                "    # If all counts are equal and non-zero, return True; otherwise, return False\n",
                "    return len(image_counts) == 1 and 0 not in image_counts"
            ]
        },
        {
            "cell_type": "markdown",
            "metadata": {},
            "source": [
                "Run this cell through the script"
            ]
        },
        {
            "cell_type": "code",
            "execution_count": 5,
            "metadata": {},
            "outputs": [
                {
                    "name": "stdout",
                    "output_type": "stream",
                    "text": [
                        "Processing NF0017: /media/18tbdrive/GFF_organoid_data/NF0017-T3-P7 (AGP, Mito Parameter optimization)/Acquisition 03-07-2025 -> /media/18tbdrive/1.Github_Repositories/GFF_3D_organoid_profiling_pipeline/data/raw_images/NF0017_raw_images\n",
                        "C8-3-(5-185)-(19-320)\n"
                    ]
                },
                {
                    "name": "stderr",
                    "output_type": "stream",
                    "text": [
                        "196it [00:05, 38.09it/s]\n"
                    ]
                },
                {
                    "name": "stdout",
                    "output_type": "stream",
                    "text": [
                        "C8-3-(5-185)-(19-320)\n",
                        "C9-4-(10-115)-(24-350)\n"
                    ]
                },
                {
                    "name": "stderr",
                    "output_type": "stream",
                    "text": [
                        "328it [00:11, 28.86it/s]  \n"
                    ]
                },
                {
                    "name": "stdout",
                    "output_type": "stream",
                    "text": [
                        "C9-4-(10-115)-(24-350)\n",
                        "C9-1-(5-115)-(19-250)\n"
                    ]
                },
                {
                    "name": "stderr",
                    "output_type": "stream",
                    "text": [
                        "240it [00:07, 30.07it/s]  \n"
                    ]
                },
                {
                    "name": "stdout",
                    "output_type": "stream",
                    "text": [
                        "C9-1-(5-115)-(19-250)\n",
                        "C9-6-(5-115)-(19-250)\n"
                    ]
                },
                {
                    "name": "stderr",
                    "output_type": "stream",
                    "text": [
                        "262it [00:08, 32.05it/s]  \n"
                    ]
                },
                {
                    "name": "stdout",
                    "output_type": "stream",
                    "text": [
                        "C9-6-(5-115)-(19-250)\n",
                        "C9-1-(5-220)-(19-355)\n"
                    ]
                },
                {
                    "name": "stderr",
                    "output_type": "stream",
                    "text": [
                        "240it [00:07, 30.34it/s]  \n"
                    ]
                },
                {
                    "name": "stdout",
                    "output_type": "stream",
                    "text": [
                        "C9-1-(5-220)-(19-355)\n",
                        "C9-6-(14-115)-(29-350)\n"
                    ]
                },
                {
                    "name": "stderr",
                    "output_type": "stream",
                    "text": [
                        "262it [00:08, 32.05it/s]  \n"
                    ]
                },
                {
                    "name": "stdout",
                    "output_type": "stream",
                    "text": [
                        "C9-6-(14-115)-(29-350)\n",
                        "C9-3-(5-150)-(19-285)\n"
                    ]
                },
                {
                    "name": "stderr",
                    "output_type": "stream",
                    "text": [
                        "262it [00:10, 25.98it/s]  \n"
                    ]
                },
                {
                    "name": "stdout",
                    "output_type": "stream",
                    "text": [
                        "C9-3-(5-150)-(19-285)\n",
                        "C9-3-(5-115)-(19-250)\n"
                    ]
                },
                {
                    "name": "stderr",
                    "output_type": "stream",
                    "text": [
                        "262it [00:08, 32.41it/s]  \n"
                    ]
                },
                {
                    "name": "stdout",
                    "output_type": "stream",
                    "text": [
                        "C9-3-(5-115)-(19-250)\n",
                        "C8-1-(5-185)-(19-320)\n"
                    ]
                },
                {
                    "name": "stderr",
                    "output_type": "stream",
                    "text": [
                        "130it [00:03, 33.49it/s]\n"
                    ]
                },
                {
                    "name": "stdout",
                    "output_type": "stream",
                    "text": [
                        "C8-1-(5-185)-(19-320)\n",
                        "C9-6-(5-220)-(19-355)\n"
                    ]
                },
                {
                    "name": "stderr",
                    "output_type": "stream",
                    "text": [
                        "262it [00:10, 25.25it/s]  \n"
                    ]
                },
                {
                    "name": "stdout",
                    "output_type": "stream",
                    "text": [
                        "C9-6-(5-220)-(19-355)\n",
                        "C8-1-(14-115)-(29-350)\n",
                        "C8-1-(14-115)-(29-350)\n"
                    ]
                },
                {
                    "name": "stderr",
                    "output_type": "stream",
                    "text": [
                        "130it [00:03, 35.72it/s]\n"
                    ]
                },
                {
                    "name": "stdout",
                    "output_type": "stream",
                    "text": [
                        "C9-5-(14-115)-(29-350)\n"
                    ]
                },
                {
                    "name": "stderr",
                    "output_type": "stream",
                    "text": [
                        "263it [00:08, 31.68it/s]  \n"
                    ]
                },
                {
                    "name": "stdout",
                    "output_type": "stream",
                    "text": [
                        ".DS_Store\n",
                        "C9-5-(14-115)-(29-350)\n",
                        "C9-1-(5-150)-(19-285)\n"
                    ]
                },
                {
                    "name": "stderr",
                    "output_type": "stream",
                    "text": [
                        "240it [00:08, 29.78it/s] \n"
                    ]
                },
                {
                    "name": "stdout",
                    "output_type": "stream",
                    "text": [
                        "C9-1-(5-150)-(19-285)\n",
                        "C9-5-(5-150)-(19-285)\n",
                        "C9-5-(5-150)-(19-285)\n"
                    ]
                },
                {
                    "name": "stderr",
                    "output_type": "stream",
                    "text": [
                        "262it [00:08, 30.67it/s]  \n"
                    ]
                },
                {
                    "name": "stdout",
                    "output_type": "stream",
                    "text": [
                        "C7-1-(14-115)-(29-350)\n"
                    ]
                },
                {
                    "name": "stderr",
                    "output_type": "stream",
                    "text": [
                        "130it [00:04, 28.25it/s]\n"
                    ]
                },
                {
                    "name": "stdout",
                    "output_type": "stream",
                    "text": [
                        "C7-1-(14-115)-(29-350)\n",
                        "C5-1-(5-185)-(19-320)\n"
                    ]
                },
                {
                    "name": "stderr",
                    "output_type": "stream",
                    "text": [
                        "196it [00:04, 42.67it/s] \n"
                    ]
                },
                {
                    "name": "stdout",
                    "output_type": "stream",
                    "text": [
                        "C5-1-(5-185)-(19-320)\n",
                        "C9-2-(5-185)-(19-320)\n"
                    ]
                },
                {
                    "name": "stderr",
                    "output_type": "stream",
                    "text": [
                        "152it [00:04, 34.69it/s]\n"
                    ]
                },
                {
                    "name": "stdout",
                    "output_type": "stream",
                    "text": [
                        "C9-2-(5-185)-(19-320)\n",
                        "C9-3-(5-220)-(19-355)\n"
                    ]
                },
                {
                    "name": "stderr",
                    "output_type": "stream",
                    "text": [
                        "262it [00:08, 32.63it/s] \n"
                    ]
                },
                {
                    "name": "stdout",
                    "output_type": "stream",
                    "text": [
                        "C9-3-(5-220)-(19-355)\n",
                        "C9-4-(14-115)-(29-350)\n"
                    ]
                },
                {
                    "name": "stderr",
                    "output_type": "stream",
                    "text": [
                        "328it [00:10, 30.44it/s]  \n"
                    ]
                },
                {
                    "name": "stdout",
                    "output_type": "stream",
                    "text": [
                        "C9-4-(14-115)-(29-350)\n",
                        "C8-3-(5-150)-(19-285)\n"
                    ]
                },
                {
                    "name": "stderr",
                    "output_type": "stream",
                    "text": [
                        "196it [00:06, 31.51it/s]\n"
                    ]
                },
                {
                    "name": "stdout",
                    "output_type": "stream",
                    "text": [
                        "C8-3-(5-150)-(19-285)\n",
                        "C5-1-(5-220)-(19-355)\n"
                    ]
                },
                {
                    "name": "stderr",
                    "output_type": "stream",
                    "text": [
                        "196it [00:06, 28.50it/s]\n"
                    ]
                },
                {
                    "name": "stdout",
                    "output_type": "stream",
                    "text": [
                        "C5-1-(5-220)-(19-355)\n",
                        "C8-2-(14-115)-(29-350)\n"
                    ]
                },
                {
                    "name": "stderr",
                    "output_type": "stream",
                    "text": [
                        "108it [00:02, 38.63it/s]\n"
                    ]
                },
                {
                    "name": "stdout",
                    "output_type": "stream",
                    "text": [
                        "C8-2-(14-115)-(29-350)\n",
                        "C9-3-(5-185)-(19-320)\n"
                    ]
                },
                {
                    "name": "stderr",
                    "output_type": "stream",
                    "text": [
                        "262it [00:08, 30.30it/s] \n"
                    ]
                },
                {
                    "name": "stdout",
                    "output_type": "stream",
                    "text": [
                        "C9-3-(5-185)-(19-320)\n",
                        "C8-3-(5-220)-(19-355)\n"
                    ]
                },
                {
                    "name": "stderr",
                    "output_type": "stream",
                    "text": [
                        "196it [00:06, 31.53it/s]\n"
                    ]
                },
                {
                    "name": "stdout",
                    "output_type": "stream",
                    "text": [
                        "C8-3-(5-220)-(19-355)\n",
                        "C8-2-(5-115)-(19-250)\n"
                    ]
                },
                {
                    "name": "stderr",
                    "output_type": "stream",
                    "text": [
                        "108it [00:04, 26.72it/s]\n"
                    ]
                },
                {
                    "name": "stdout",
                    "output_type": "stream",
                    "text": [
                        "C8-2-(5-115)-(19-250)\n",
                        "C5-1-(14-115)-(29-350)\n",
                        "C5-1-(14-115)-(29-350)\n"
                    ]
                },
                {
                    "name": "stderr",
                    "output_type": "stream",
                    "text": [
                        "196it [00:06, 28.06it/s]\n"
                    ]
                },
                {
                    "name": "stdout",
                    "output_type": "stream",
                    "text": [
                        "C9-2-(10-115)-(24-350)\n"
                    ]
                },
                {
                    "name": "stderr",
                    "output_type": "stream",
                    "text": [
                        "152it [00:04, 34.06it/s]\n"
                    ]
                },
                {
                    "name": "stdout",
                    "output_type": "stream",
                    "text": [
                        "C9-2-(10-115)-(24-350)\n",
                        "C9-1-(10-115)-(24-350)\n"
                    ]
                },
                {
                    "name": "stderr",
                    "output_type": "stream",
                    "text": [
                        "240it [00:08, 29.73it/s] \n"
                    ]
                },
                {
                    "name": "stdout",
                    "output_type": "stream",
                    "text": [
                        "C9-1-(10-115)-(24-350)\n",
                        "C9-4-(5-220)-(19-355)\n",
                        "C9-4-(5-220)-(19-355)\n"
                    ]
                },
                {
                    "name": "stderr",
                    "output_type": "stream",
                    "text": [
                        "328it [00:10, 32.54it/s]  \n"
                    ]
                },
                {
                    "name": "stdout",
                    "output_type": "stream",
                    "text": [
                        "C8-2-(5-220)-(19-355)\n",
                        "C8-2-(5-220)-(19-355)\n"
                    ]
                },
                {
                    "name": "stderr",
                    "output_type": "stream",
                    "text": [
                        "108it [00:03, 31.04it/s]\n"
                    ]
                },
                {
                    "name": "stdout",
                    "output_type": "stream",
                    "text": [
                        "C8-1-(5-220)-(19-355)\n"
                    ]
                },
                {
                    "name": "stderr",
                    "output_type": "stream",
                    "text": [
                        "130it [00:04, 31.64it/s]\n"
                    ]
                },
                {
                    "name": "stdout",
                    "output_type": "stream",
                    "text": [
                        "C8-1-(5-220)-(19-355)\n",
                        "C9-6-(10-115)-(24-350)\n"
                    ]
                },
                {
                    "name": "stderr",
                    "output_type": "stream",
                    "text": [
                        "262it [00:10, 25.20it/s] \n"
                    ]
                },
                {
                    "name": "stdout",
                    "output_type": "stream",
                    "text": [
                        "C9-6-(10-115)-(24-350)\n",
                        "C9-6-(5-185)-(19-320)\n"
                    ]
                },
                {
                    "name": "stderr",
                    "output_type": "stream",
                    "text": [
                        "262it [00:08, 32.11it/s]  \n"
                    ]
                },
                {
                    "name": "stdout",
                    "output_type": "stream",
                    "text": [
                        "C9-6-(5-185)-(19-320)\n",
                        "C5-1-(10-115)-(24-350)\n",
                        "C5-1-(10-115)-(24-350)\n"
                    ]
                },
                {
                    "name": "stderr",
                    "output_type": "stream",
                    "text": [
                        "196it [00:05, 33.22it/s]\n"
                    ]
                },
                {
                    "name": "stdout",
                    "output_type": "stream",
                    "text": [
                        "C9-5-(5-220)-(19-355)\n"
                    ]
                },
                {
                    "name": "stderr",
                    "output_type": "stream",
                    "text": [
                        "262it [00:08, 30.25it/s] \n"
                    ]
                },
                {
                    "name": "stdout",
                    "output_type": "stream",
                    "text": [
                        "C9-5-(5-220)-(19-355)\n",
                        "C7-1-(5-115)-(19-250)\n",
                        "C7-1-(5-115)-(19-250)\n"
                    ]
                },
                {
                    "name": "stderr",
                    "output_type": "stream",
                    "text": [
                        "130it [00:04, 28.20it/s]\n"
                    ]
                },
                {
                    "name": "stdout",
                    "output_type": "stream",
                    "text": [
                        "C9-3-(14-115)-(29-350)\n",
                        "C9-3-(14-115)-(29-350)\n"
                    ]
                },
                {
                    "name": "stderr",
                    "output_type": "stream",
                    "text": [
                        "262it [00:09, 27.86it/s] \n"
                    ]
                },
                {
                    "name": "stdout",
                    "output_type": "stream",
                    "text": [
                        "C7-1-(10-115)-(24-350)\n",
                        "C7-1-(10-115)-(24-350)\n"
                    ]
                },
                {
                    "name": "stderr",
                    "output_type": "stream",
                    "text": [
                        "130it [00:04, 32.11it/s]\n"
                    ]
                },
                {
                    "name": "stdout",
                    "output_type": "stream",
                    "text": [
                        "C9-3-(10-115)-(24-350)\n",
                        "C9-3-(10-115)-(24-350)\n"
                    ]
                },
                {
                    "name": "stderr",
                    "output_type": "stream",
                    "text": [
                        "262it [00:10, 25.10it/s]  \n"
                    ]
                },
                {
                    "name": "stdout",
                    "output_type": "stream",
                    "text": [
                        "C8-2-(5-185)-(19-320)\n",
                        "C8-2-(5-185)-(19-320)\n"
                    ]
                },
                {
                    "name": "stderr",
                    "output_type": "stream",
                    "text": [
                        "108it [00:03, 35.82it/s]\n"
                    ]
                },
                {
                    "name": "stdout",
                    "output_type": "stream",
                    "text": [
                        "C5-1-(5-150)-(19-285)\n",
                        "C5-1-(5-150)-(19-285)\n"
                    ]
                },
                {
                    "name": "stderr",
                    "output_type": "stream",
                    "text": [
                        "196it [00:05, 35.26it/s]\n"
                    ]
                },
                {
                    "name": "stdout",
                    "output_type": "stream",
                    "text": [
                        "C7-1-(5-185)-(19-320)\n",
                        "C7-1-(5-185)-(19-320)\n"
                    ]
                },
                {
                    "name": "stderr",
                    "output_type": "stream",
                    "text": [
                        "130it [00:06, 19.75it/s]\n"
                    ]
                },
                {
                    "name": "stdout",
                    "output_type": "stream",
                    "text": [
                        "C8-3-(10-115)-(24-350)\n"
                    ]
                },
                {
                    "name": "stderr",
                    "output_type": "stream",
                    "text": [
                        "196it [00:06, 31.92it/s]\n"
                    ]
                },
                {
                    "name": "stdout",
                    "output_type": "stream",
                    "text": [
                        "C8-3-(10-115)-(24-350)\n",
                        "C8-1-(5-150)-(19-285)\n",
                        "C8-1-(5-150)-(19-285)\n"
                    ]
                },
                {
                    "name": "stderr",
                    "output_type": "stream",
                    "text": [
                        "130it [00:03, 36.99it/s]\n"
                    ]
                },
                {
                    "name": "stdout",
                    "output_type": "stream",
                    "text": [
                        "C8-3-(5-115)-(19-250)\n"
                    ]
                },
                {
                    "name": "stderr",
                    "output_type": "stream",
                    "text": [
                        "196it [00:06, 31.27it/s]\n"
                    ]
                },
                {
                    "name": "stdout",
                    "output_type": "stream",
                    "text": [
                        "C8-3-(5-115)-(19-250)\n",
                        "C9-1-(5-185)-(19-320)\n"
                    ]
                },
                {
                    "name": "stderr",
                    "output_type": "stream",
                    "text": [
                        "240it [00:08, 29.44it/s] \n"
                    ]
                },
                {
                    "name": "stdout",
                    "output_type": "stream",
                    "text": [
                        "C9-1-(5-185)-(19-320)\n",
                        "C9-4-(5-115)-(19-250)\n",
                        "C9-4-(5-115)-(19-250)\n"
                    ]
                },
                {
                    "name": "stderr",
                    "output_type": "stream",
                    "text": [
                        "328it [00:10, 31.53it/s]  \n"
                    ]
                },
                {
                    "name": "stdout",
                    "output_type": "stream",
                    "text": [
                        "C8-2-(5-150)-(19-285)\n",
                        "C8-2-(5-150)-(19-285)\n"
                    ]
                },
                {
                    "name": "stderr",
                    "output_type": "stream",
                    "text": [
                        "108it [00:03, 31.12it/s]\n"
                    ]
                },
                {
                    "name": "stdout",
                    "output_type": "stream",
                    "text": [
                        "C9-4-(5-150)-(19-285)\n",
                        "C9-4-(5-150)-(19-285)\n"
                    ]
                },
                {
                    "name": "stderr",
                    "output_type": "stream",
                    "text": [
                        "328it [00:10, 30.37it/s]  \n"
                    ]
                },
                {
                    "name": "stdout",
                    "output_type": "stream",
                    "text": [
                        "C9-5-(5-115)-(19-250)\n",
                        "C9-5-(5-115)-(19-250)\n"
                    ]
                },
                {
                    "name": "stderr",
                    "output_type": "stream",
                    "text": [
                        "262it [00:09, 26.84it/s]  \n"
                    ]
                },
                {
                    "name": "stdout",
                    "output_type": "stream",
                    "text": [
                        "C9-6-(5-150)-(19-285)\n",
                        "C9-6-(5-150)-(19-285)\n"
                    ]
                },
                {
                    "name": "stderr",
                    "output_type": "stream",
                    "text": [
                        "262it [00:08, 31.00it/s]  \n"
                    ]
                },
                {
                    "name": "stdout",
                    "output_type": "stream",
                    "text": [
                        "C7-1-(5-220)-(19-355)\n",
                        "C7-1-(5-220)-(19-355)\n"
                    ]
                },
                {
                    "name": "stderr",
                    "output_type": "stream",
                    "text": [
                        "130it [00:03, 34.59it/s]\n"
                    ]
                },
                {
                    "name": "stdout",
                    "output_type": "stream",
                    "text": [
                        ".DS_Store\n",
                        "C5-1-(5-115)-(19-250)\n"
                    ]
                },
                {
                    "name": "stderr",
                    "output_type": "stream",
                    "text": [
                        "196it [00:02, 71.14it/s] \n"
                    ]
                },
                {
                    "name": "stdout",
                    "output_type": "stream",
                    "text": [
                        "C5-1-(5-115)-(19-250)\n",
                        "C7-1-(5-150)-(19-285)\n",
                        "C7-1-(5-150)-(19-285)\n"
                    ]
                },
                {
                    "name": "stderr",
                    "output_type": "stream",
                    "text": [
                        "130it [00:04, 28.08it/s]\n"
                    ]
                },
                {
                    "name": "stdout",
                    "output_type": "stream",
                    "text": [
                        "C9-4-(5-185)-(19-320)\n"
                    ]
                },
                {
                    "name": "stderr",
                    "output_type": "stream",
                    "text": [
                        "328it [00:10, 31.80it/s]  \n"
                    ]
                },
                {
                    "name": "stdout",
                    "output_type": "stream",
                    "text": [
                        "C9-4-(5-185)-(19-320)\n",
                        "C8-2-(10-115)-(24-350)\n",
                        "C8-2-(10-115)-(24-350)\n"
                    ]
                },
                {
                    "name": "stderr",
                    "output_type": "stream",
                    "text": [
                        "108it [00:03, 33.36it/s]\n"
                    ]
                },
                {
                    "name": "stdout",
                    "output_type": "stream",
                    "text": [
                        "C9-5-(10-115)-(24-350)\n"
                    ]
                },
                {
                    "name": "stderr",
                    "output_type": "stream",
                    "text": [
                        "262it [00:08, 30.25it/s] \n"
                    ]
                },
                {
                    "name": "stdout",
                    "output_type": "stream",
                    "text": [
                        "C9-5-(10-115)-(24-350)\n",
                        "C9-2-(14-115)-(29-350)\n",
                        "C9-2-(14-115)-(29-350)\n"
                    ]
                },
                {
                    "name": "stderr",
                    "output_type": "stream",
                    "text": [
                        "152it [00:05, 26.96it/s]\n"
                    ]
                },
                {
                    "name": "stdout",
                    "output_type": "stream",
                    "text": [
                        "C8-1-(10-115)-(24-350)\n"
                    ]
                },
                {
                    "name": "stderr",
                    "output_type": "stream",
                    "text": [
                        "130it [00:03, 33.67it/s]\n"
                    ]
                },
                {
                    "name": "stdout",
                    "output_type": "stream",
                    "text": [
                        "C8-1-(10-115)-(24-350)\n",
                        "C9-1-(14-115)-(29-350)\n",
                        "C9-1-(14-115)-(29-350)\n"
                    ]
                },
                {
                    "name": "stderr",
                    "output_type": "stream",
                    "text": [
                        "240it [00:08, 27.68it/s] \n"
                    ]
                },
                {
                    "name": "stdout",
                    "output_type": "stream",
                    "text": [
                        "C9-2-(5-220)-(19-355)\n",
                        "C9-2-(5-220)-(19-355)\n"
                    ]
                },
                {
                    "name": "stderr",
                    "output_type": "stream",
                    "text": [
                        "152it [00:04, 36.69it/s]\n"
                    ]
                },
                {
                    "name": "stdout",
                    "output_type": "stream",
                    "text": [
                        "C9-2-(5-150)-(19-285)\n",
                        "C9-2-(5-150)-(19-285)\n"
                    ]
                },
                {
                    "name": "stderr",
                    "output_type": "stream",
                    "text": [
                        "152it [00:04, 33.77it/s]\n"
                    ]
                },
                {
                    "name": "stdout",
                    "output_type": "stream",
                    "text": [
                        "C9-2-(5-115)-(19-250)\n",
                        "C9-2-(5-115)-(19-250)\n"
                    ]
                },
                {
                    "name": "stderr",
                    "output_type": "stream",
                    "text": [
                        "152it [00:06, 25.16it/s]\n"
                    ]
                },
                {
                    "name": "stdout",
                    "output_type": "stream",
                    "text": [
                        "C9-5-(5-185)-(19-320)\n",
                        "C9-5-(5-185)-(19-320)\n"
                    ]
                },
                {
                    "name": "stderr",
                    "output_type": "stream",
                    "text": [
                        "262it [00:08, 32.29it/s]  \n"
                    ]
                },
                {
                    "name": "stdout",
                    "output_type": "stream",
                    "text": [
                        "C8-1-(5-115)-(19-250)\n",
                        "C8-1-(5-115)-(19-250)\n"
                    ]
                },
                {
                    "name": "stderr",
                    "output_type": "stream",
                    "text": [
                        "130it [00:04, 28.26it/s]\n"
                    ]
                },
                {
                    "name": "stdout",
                    "output_type": "stream",
                    "text": [
                        "C8-3-(14-115)-(29-350)\n",
                        "C8-3-(14-115)-(29-350)\n"
                    ]
                },
                {
                    "name": "stderr",
                    "output_type": "stream",
                    "text": [
                        "196it [00:05, 35.38it/s]"
                    ]
                },
                {
                    "name": "stdout",
                    "output_type": "stream",
                    "text": [
                        "Completed processing NF0017: /media/18tbdrive/GFF_organoid_data/NF0017-T3-P7 (AGP, Mito Parameter optimization)/Acquisition 03-07-2025 -> /media/18tbdrive/1.Github_Repositories/GFF_3D_organoid_profiling_pipeline/data/raw_images/NF0017_raw_images\n"
                    ]
                },
                {
                    "name": "stderr",
                    "output_type": "stream",
                    "text": [
                        "\n"
                    ]
                }
            ],
            "source": [
                "# Set channel names\n",
                "channel_names = {\"405\", \"488\", \"555\", \"640\", \"TRANS\", \"Merge\"}\n",
                "\n",
                "# Loop through each key in the mapping to copy data from the parent to the destination\n",
                "for key, paths in dir_mapping.items():\n",
                "    parent_dir = paths[\"parent\"]\n",
                "    dest_dir = paths[\"destination\"]\n",
                "\n",
                "    print(f\"Processing {key}: {parent_dir} -> {dest_dir}\")\n",
                "\n",
                "    # Ensure the destination directory exists\n",
                "    dest_dir.mkdir(parents=True, exist_ok=True)\n",
                "\n",
                "    # Get all well-level directories\n",
                "    well_dirs = [d for d in parent_dir.iterdir() if d.is_dir()]\n",
                "\n",
                "    if not well_dirs:\n",
                "        print(f\"Skipping {key}: No well directories found\")\n",
                "        continue\n",
                "\n",
                "    for well_dir in well_dirs:\n",
                "        if not has_consistent_naming(well_dir):\n",
                "            print(\n",
                "                f\"Skipping {well_dir.stem}: Inconsistent nested folder names within well\"\n",
                "            )\n",
                "            continue\n",
                "        for nested_dir in well_dir.iterdir():\n",
                "            print(nested_dir.stem)\n",
                "            if not nested_dir.is_dir():\n",
                "                continue\n",
                "\n",
                "            if is_image_folder_empty(nested_dir):\n",
                "                print(f\"Skipping {nested_dir}: No images found\")\n",
                "                continue\n",
                "\n",
                "            if not has_equal_images_per_channel(nested_dir, channel_names):\n",
                "                print(f\"Skipping {nested_dir}: Unequal images per channel\")\n",
                "                continue  # Skip processing this folder\n",
                "\n",
                "            # Create corresponding destination directory\n",
                "            dest_well_dir = dest_dir / well_dir.name\n",
                "            dest_well_dir.mkdir(parents=True, exist_ok=True)\n",
                "\n",
                "            # Copy images to destination, skipping files with 'Tile' in their name\n",
                "            for image in tqdm.tqdm(nested_dir.rglob(\"*\")):\n",
                "                if (\n",
                "                    image.suffix.lower() in image_extensions\n",
                "                    and \"Tile\" not in image.name\n",
                "                ):\n",
                "                    shutil.copy2(image, dest_well_dir)\n",
                "\n",
                "    print(f\"Completed processing {key}: {parent_dir} -> {dest_dir}\")"
            ]
        }
    ],
    "metadata": {
        "kernelspec": {
            "display_name": "gff_preprocessing_env",
            "language": "python",
            "name": "python3"
        },
        "language_info": {
            "codemirror_mode": {
                "name": "ipython",
                "version": 3
            },
            "file_extension": ".py",
            "mimetype": "text/x-python",
            "name": "python",
            "nbconvert_exporter": "python",
            "pygments_lexer": "ipython3",
            "version": "3.10.15"
        }
    },
    "nbformat": 4,
    "nbformat_minor": 2
}
