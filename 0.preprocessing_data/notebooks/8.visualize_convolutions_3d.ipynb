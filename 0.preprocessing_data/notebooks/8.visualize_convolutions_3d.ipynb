{
 "cells": [
  {
   "cell_type": "markdown",
   "id": "8dc1e397",
   "metadata": {},
   "source": [
    "Thi document runs visualizations outputting `.mp4` and `.gif` files of 3D organoid data.\n",
    "This notebok runs nviz to create the visualizations and napari."
   ]
  },
  {
   "cell_type": "markdown",
   "id": "5cccb6ce",
   "metadata": {},
   "source": [
    "## Imports"
   ]
  },
  {
   "cell_type": "code",
   "execution_count": 1,
   "id": "acdee08c",
   "metadata": {},
   "outputs": [],
   "source": [
    "import argparse\n",
    "import os\n",
    "import pathlib\n",
    "import shutil\n",
    "import sys\n",
    "\n",
    "# import matplotlib.pyplot as plt\n",
    "# import matplotlib.pyplot as plt\n",
    "import numpy as np\n",
    "import pandas as pd\n",
    "import skimage.io as io\n",
    "import tifffile\n",
    "from moviepy.editor import VideoFileClip\n",
    "from napari.utils import nbscreenshot\n",
    "from napari_animation import Animation\n",
    "from napari_animation.easing import Easing\n",
    "from nviz.image import image_set_to_arrays\n",
    "from nviz.image_meta import extract_z_slice_number_from_filename, generate_ome_xml\n",
    "from nviz.view import view_ometiff_with_napari\n",
    "from PIL import Image\n",
    "\n",
    "cwd = pathlib.Path.cwd()\n",
    "\n",
    "if (cwd / \".git\").is_dir():\n",
    "    root_dir = cwd\n",
    "else:\n",
    "    root_dir = None\n",
    "    for parent in cwd.parents:\n",
    "        if (parent / \".git\").is_dir():\n",
    "            root_dir = parent\n",
    "            break\n",
    "sys.path.append(str(root_dir / \"utils\"))\n",
    "from arg_parsing_utils import check_for_missing_args, parse_args\n",
    "from notebook_init_utils import bandicoot_check, init_notebook\n",
    "\n",
    "root_dir, in_notebook = init_notebook()\n",
    "\n",
    "image_base_dir = bandicoot_check(\n",
    "    pathlib.Path(os.path.expanduser(\"~/mnt/bandicoot\")).resolve(), root_dir\n",
    ")\n",
    "\n",
    "sys.path.append(f\"{root_dir}/utils\")\n",
    "from segmentation_decoupling import euclidian_2D_distance"
   ]
  },
  {
   "cell_type": "code",
   "execution_count": 2,
   "id": "db3809c9",
   "metadata": {},
   "outputs": [],
   "source": [
    "def mp4_to_gif(input_mp4, output_gif, fps=10):\n",
    "    clip = VideoFileClip(input_mp4)\n",
    "    clip = clip.set_fps(fps)  # Reduce FPS to control file size\n",
    "    clip.write_gif(output_gif, loop=0)  # loop=0 makes it loop forever\n",
    "\n",
    "\n",
    "def animate_view(\n",
    "    viewer, output_path_name: str, steps: int = 30, easing: str = \"linear\", dim: int = 3\n",
    "):\n",
    "    animation = Animation(viewer)\n",
    "    if easing == \"linear\":\n",
    "        ease_style = Easing.LINEAR\n",
    "    else:\n",
    "        raise ValueError(f\"Invalid easing style: {easing}\")\n",
    "\n",
    "    viewer.dims.ndisplay = dim\n",
    "    # rotate around the y-axis\n",
    "    viewer.camera.angles = (0.0, 0.0, 90.0)  # (z, y, x) axis of rotation\n",
    "    animation.capture_keyframe(steps=steps, ease=ease_style)\n",
    "\n",
    "    viewer.camera.angles = (0.0, 180.0, 90.0)\n",
    "    animation.capture_keyframe(steps=steps, ease=ease_style)\n",
    "\n",
    "    viewer.camera.angles = (0.0, 360.0, 90.0)\n",
    "    animation.capture_keyframe(steps=steps, ease=ease_style)\n",
    "\n",
    "    viewer.camera.angles = (0.0, 0.0, 270.0)\n",
    "    animation.capture_keyframe(steps=steps, ease=ease_style)\n",
    "\n",
    "    viewer.camera.angles = (0.0, 0.0, 90.0)\n",
    "    animation.capture_keyframe(steps=steps, ease=ease_style)\n",
    "\n",
    "    animation.animate(output_path_name, canvas_only=True)"
   ]
  },
  {
   "cell_type": "code",
   "execution_count": 3,
   "id": "01ce3794",
   "metadata": {},
   "outputs": [
    {
     "name": "stdout",
     "output_type": "stream",
     "text": [
      "Running in a notebook\n"
     ]
    }
   ],
   "source": [
    "if not in_notebook:\n",
    "    args = parse_args()\n",
    "    well_fov = args[\"well_fov\"]\n",
    "    patient = args[\"patient\"]\n",
    "    input_subparent_name = args[\"input_subparent_name\"]\n",
    "    mask_subparent_name = args[\"mask_subparent_name\"]\n",
    "    animation_subparent_name = args[\"animation_subparent_name\"]\n",
    "    check_for_missing_args(\n",
    "        well_fov=well_fov,\n",
    "        patient=patient,\n",
    "        input_subparent_name=input_subparent_name,\n",
    "        mask_subparent_name=mask_subparent_name,\n",
    "        animation_subparent_name=animation_subparent_name,\n",
    "    )\n",
    "else:\n",
    "    print(\"Running in a notebook\")\n",
    "    patient = \"NF0014_T1\"\n",
    "    well_fov = \"C4-2\"\n",
    "    input_subparent_name = \"convolution_25\"\n",
    "    mask_subparent_name = \"convolution_25_segmentation_masks\"\n",
    "    animation_subparent_name = \"convolution_25\"\n",
    "\n",
    "image_dir = pathlib.Path(\n",
    "    f\"{image_base_dir}/data/{patient}/{input_subparent_name}/{well_fov}/\"\n",
    ").resolve(strict=True)\n",
    "masks_dir = pathlib.Path(\n",
    "    f\"{image_base_dir}/data/{patient}/{mask_subparent_name}/{well_fov}/\"\n",
    ").resolve(strict=True)\n",
    "\n",
    "mp4_file_dir = pathlib.Path(\n",
    "    f\"{root_dir}/0.preprocessing_data/animations/{animation_subparent_name}/mp4/{well_fov}/\"\n",
    ").resolve()\n",
    "gif_file_dir = pathlib.Path(\n",
    "    f\"{root_dir}/0.preprocessing_data/animations/{animation_subparent_name}/gif/{well_fov}/\"\n",
    ").resolve()\n",
    "\n",
    "mp4_file_dir.mkdir(parents=True, exist_ok=True)\n",
    "gif_file_dir.mkdir(parents=True, exist_ok=True)"
   ]
  },
  {
   "cell_type": "code",
   "execution_count": 4,
   "id": "5863942b",
   "metadata": {},
   "outputs": [],
   "source": [
    "label_dir = image_dir\n",
    "output_path = \"output.zarr\"\n",
    "channel_map = {\n",
    "    \"405\": \"Nuclei\",\n",
    "    \"488\": \"Endoplasmic Reticulum\",\n",
    "    \"555\": \"Actin, Golgi, and plasma membrane (AGP)\",\n",
    "    \"640\": \"Mitochondria\",\n",
    "    \"TRANS\": \"Brightfield\",\n",
    "}\n",
    "scaling_values = [1, 0.1, 0.1]"
   ]
  },
  {
   "cell_type": "code",
   "execution_count": 5,
   "id": "9a548c80",
   "metadata": {},
   "outputs": [
    {
     "name": "stdout",
     "output_type": "stream",
     "text": [
      "/home/lippincm/mnt/bandicoot/NF1_organoid_data/data/NF0014_T1/convolution_25/C4-2/nuclei_masks.tiff\n",
      "/home/lippincm/mnt/bandicoot/NF1_organoid_data/data/NF0014_T1/convolution_25/C4-2/organoid_masks.tiff\n",
      "/home/lippincm/mnt/bandicoot/NF1_organoid_data/data/NF0014_T1/convolution_25/C4-2/C4-2_640.tif\n",
      "/home/lippincm/mnt/bandicoot/NF1_organoid_data/data/NF0014_T1/convolution_25/C4-2/cell_masks.tiff\n",
      "/home/lippincm/mnt/bandicoot/NF1_organoid_data/data/NF0014_T1/convolution_25/C4-2/C4-2_555.tif\n",
      "/home/lippincm/mnt/bandicoot/NF1_organoid_data/data/NF0014_T1/convolution_25/C4-2/C4-2_488.tif\n",
      "/home/lippincm/mnt/bandicoot/NF1_organoid_data/data/NF0014_T1/convolution_25/C4-2/cytoplasm_masks.tiff\n",
      "/home/lippincm/mnt/bandicoot/NF1_organoid_data/data/NF0014_T1/convolution_25/C4-2/C4-2_405.tif\n"
     ]
    }
   ],
   "source": [
    "# write a temp dir containing all images\n",
    "temporary_dir = pathlib.Path(\"temp_viz_dir\")\n",
    "if temporary_dir.exists():\n",
    "    shutil.rmtree(temporary_dir)\n",
    "temporary_dir.mkdir(exist_ok=True)\n",
    "for image in image_dir.glob(\"*\"):\n",
    "    print(image)\n",
    "    image_name = image.stem\n",
    "    temp_image_path = temporary_dir / f\"{image_name}.tif\"\n",
    "    shutil.copyfile(image, temp_image_path)\n",
    "# for mask in masks_dir.glob(\"*\"):\n",
    "#     print(mask)\n",
    "#     mask_name = mask.stem\n",
    "#     temp_mask_path = temporary_dir / f\"{mask_name}_mask.tif\"\n",
    "#     shutil.copyfile(mask, temp_mask_path)"
   ]
  },
  {
   "cell_type": "code",
   "execution_count": 6,
   "id": "6affcb50",
   "metadata": {},
   "outputs": [
    {
     "name": "stdout",
     "output_type": "stream",
     "text": [
      "Processing channel: C4-2_405 with shape (1, 33, 1537, 1540)\n",
      "Processing channel: C4-2_488 with shape (1, 33, 1537, 1540)\n",
      "Processing channel: C4-2_555 with shape (1, 33, 1537, 1540)\n",
      "Processing channel: C4-2_640 with shape (1, 33, 1537, 1540)\n",
      "Processing channel: cell_masks with shape (1, 33, 1537, 1540)\n",
      "Processing channel: cytoplasm_masks with shape (1, 33, 1537, 1540)\n",
      "Processing channel: nuclei_masks with shape (1, 33, 1537, 1540)\n",
      "Processing channel: organoid_masks with shape (1, 33, 1537, 1540)\n"
     ]
    }
   ],
   "source": [
    "label_dir = image_dir\n",
    "frame_zstacks = image_set_to_arrays(\n",
    "    temporary_dir,\n",
    "    temporary_dir,\n",
    "    channel_map=channel_map,\n",
    ")\n",
    "\n",
    "images_data = []\n",
    "labels_data = []\n",
    "channel_names = []\n",
    "label_names = []\n",
    "\n",
    "\n",
    "for channel, stack in frame_zstacks[\"images\"].items():\n",
    "    print(f\"Processing channel: {channel} with shape {stack.shape}\")\n",
    "    dim = len(stack.shape)\n",
    "    images_data.append(stack)\n",
    "    channel_names.append(channel)\n",
    "\n",
    "# Collect label data\n",
    "if label_dir:\n",
    "    for compartment_name, stack in frame_zstacks[\"labels\"].items():\n",
    "        if \"mask\" not in compartment_name:\n",
    "            continue\n",
    "        if len(stack.shape) != dim:\n",
    "            if len(stack.shape) == 3:\n",
    "                stack = np.expand_dims(stack, axis=0)\n",
    "        labels_data.append(stack)\n",
    "        label_names.append(f\"{compartment_name} (labels)\")\n",
    "\n",
    "\n",
    "# Stack the images and labels along a new axis for channels\n",
    "images_data = np.stack(images_data, axis=0)\n",
    "if labels_data:\n",
    "    labels_data = np.stack(labels_data, axis=0)\n",
    "    combined_data = np.concatenate((images_data, labels_data), axis=0)\n",
    "    combined_channel_names = channel_names + label_names\n",
    "else:\n",
    "    combined_data = images_data\n",
    "    combined_channel_names = channel_names\n",
    "# Generate OME-XML metadata\n",
    "ome_metadata = {\n",
    "    \"SizeC\": combined_data.shape[0],\n",
    "    \"SizeZ\": combined_data.shape[1],\n",
    "    \"SizeY\": combined_data.shape[2],\n",
    "    \"SizeX\": combined_data.shape[3],\n",
    "    \"PhysicalSizeX\": scaling_values[2],\n",
    "    \"PhysicalSizeY\": scaling_values[1],\n",
    "    \"PhysicalSizeZ\": scaling_values[0],\n",
    "    # note: we use 7-bit ascii compatible characters below\n",
    "    # due to tifffile limitations\n",
    "    \"PhysicalSizeXUnit\": \"um\",\n",
    "    \"PhysicalSizeYUnit\": \"um\",\n",
    "    \"PhysicalSizeZUnit\": \"um\",\n",
    "    \"Channel\": [{\"Name\": name} for name in combined_channel_names],\n",
    "}\n",
    "ome_xml = generate_ome_xml(ome_metadata)\n",
    "\n",
    "# Write the combined data to a single OME-TIFF\n",
    "with tifffile.TiffWriter(output_path, bigtiff=True) as tif:\n",
    "    tif.write(combined_data, description=ome_xml, photometric=\"minisblack\")"
   ]
  },
  {
   "cell_type": "code",
   "execution_count": 7,
   "id": "329323d4",
   "metadata": {},
   "outputs": [],
   "source": [
    "shutil.rmtree(temporary_dir)"
   ]
  },
  {
   "cell_type": "code",
   "execution_count": 8,
   "id": "646c6c33",
   "metadata": {},
   "outputs": [],
   "source": [
    "viewer = view_ometiff_with_napari(\n",
    "    ometiff_path=output_path,\n",
    "    scaling_values=scaling_values,\n",
    "    headless=False,\n",
    ")"
   ]
  },
  {
   "cell_type": "code",
   "execution_count": 9,
   "id": "78181ca0",
   "metadata": {},
   "outputs": [
    {
     "name": "stdout",
     "output_type": "stream",
     "text": [
      "Setting C4-2_405 to not visible\n",
      "Setting C4-2_488 to not visible\n",
      "Setting C4-2_555 to not visible\n",
      "Setting C4-2_640 to not visible\n",
      "Setting cell_masks to not visible\n",
      "Setting cytoplasm_masks to not visible\n",
      "Setting nuclei_masks to not visible\n",
      "Setting organoid_masks to not visible\n",
      "Setting cell_masks (labels) to not visible\n",
      "Setting cytoplasm_masks (labels) to not visible\n",
      "Setting nuclei_masks (labels) to not visible\n",
      "Setting organoid_masks (labels) to not visible\n"
     ]
    }
   ],
   "source": [
    "# get the layer names in the viewer\n",
    "layer_names = [layer.name for layer in viewer.layers]\n",
    "# set all layers to not visible\n",
    "for layer_name in layer_names:\n",
    "    print(f\"Setting {layer_name} to not visible\")\n",
    "viewer.layers[layer_name].visible = True"
   ]
  },
  {
   "cell_type": "code",
   "execution_count": 10,
   "id": "48f5631b",
   "metadata": {},
   "outputs": [],
   "source": [
    "viewer.layers[layer_name].visible = True"
   ]
  },
  {
   "cell_type": "code",
   "execution_count": null,
   "id": "9ab7fd60",
   "metadata": {},
   "outputs": [],
   "source": []
  },
  {
   "cell_type": "code",
   "execution_count": 11,
   "id": "4a01a1ce",
   "metadata": {},
   "outputs": [
    {
     "name": "stdout",
     "output_type": "stream",
     "text": [
      "Setting C4-2_405 to not visible\n",
      "Setting C4-2_488 to not visible\n",
      "Setting C4-2_555 to not visible\n",
      "Setting C4-2_640 to not visible\n",
      "Setting cell_masks to not visible\n",
      "Setting cytoplasm_masks to not visible\n",
      "Setting nuclei_masks to not visible\n",
      "Setting organoid_masks to not visible\n",
      "Setting cell_masks (labels) to not visible\n",
      "Setting cytoplasm_masks (labels) to not visible\n",
      "Setting nuclei_masks (labels) to not visible\n",
      "Setting organoid_masks (labels) to not visible\n",
      "Animating layer: C4-2_405 saving to C4-2_405\n",
      "Rendering frames...\n"
     ]
    },
    {
     "name": "stderr",
     "output_type": "stream",
     "text": [
      "  0%|          | 0/121 [00:00<?, ?it/s]IMAGEIO FFMPEG_WRITER WARNING: input image is not divisible by macro_block_size=16, resizing from (990, 947) to (992, 960) to ensure video compatibility with most codecs and players. To prevent resizing, make your input image divisible by the macro_block_size or set the macro_block_size to 1 (risking incompatibility).\n",
      "100%|██████████| 121/121 [00:03<00:00, 32.02it/s]\n"
     ]
    },
    {
     "name": "stdout",
     "output_type": "stream",
     "text": [
      "Animating layer: C4-2_488 saving to C4-2_488\n",
      "Rendering frames...\n"
     ]
    },
    {
     "name": "stderr",
     "output_type": "stream",
     "text": [
      "  0%|          | 0/121 [00:00<?, ?it/s]IMAGEIO FFMPEG_WRITER WARNING: input image is not divisible by macro_block_size=16, resizing from (990, 947) to (992, 960) to ensure video compatibility with most codecs and players. To prevent resizing, make your input image divisible by the macro_block_size or set the macro_block_size to 1 (risking incompatibility).\n",
      "100%|██████████| 121/121 [00:03<00:00, 31.91it/s]\n"
     ]
    },
    {
     "name": "stdout",
     "output_type": "stream",
     "text": [
      "Animating layer: C4-2_555 saving to C4-2_555\n",
      "Rendering frames...\n"
     ]
    },
    {
     "name": "stderr",
     "output_type": "stream",
     "text": [
      "  0%|          | 0/121 [00:00<?, ?it/s]IMAGEIO FFMPEG_WRITER WARNING: input image is not divisible by macro_block_size=16, resizing from (990, 947) to (992, 960) to ensure video compatibility with most codecs and players. To prevent resizing, make your input image divisible by the macro_block_size or set the macro_block_size to 1 (risking incompatibility).\n",
      "100%|██████████| 121/121 [00:03<00:00, 30.71it/s]\n"
     ]
    },
    {
     "name": "stdout",
     "output_type": "stream",
     "text": [
      "Animating layer: C4-2_640 saving to C4-2_640\n",
      "Rendering frames...\n"
     ]
    },
    {
     "name": "stderr",
     "output_type": "stream",
     "text": [
      "  0%|          | 0/121 [00:00<?, ?it/s]IMAGEIO FFMPEG_WRITER WARNING: input image is not divisible by macro_block_size=16, resizing from (990, 947) to (992, 960) to ensure video compatibility with most codecs and players. To prevent resizing, make your input image divisible by the macro_block_size or set the macro_block_size to 1 (risking incompatibility).\n",
      "100%|██████████| 121/121 [00:03<00:00, 32.22it/s]\n"
     ]
    },
    {
     "name": "stdout",
     "output_type": "stream",
     "text": [
      "Animating layer: cell_masks saving to cell_masks\n",
      "Rendering frames...\n"
     ]
    },
    {
     "name": "stderr",
     "output_type": "stream",
     "text": [
      "  0%|          | 0/121 [00:00<?, ?it/s]IMAGEIO FFMPEG_WRITER WARNING: input image is not divisible by macro_block_size=16, resizing from (990, 947) to (992, 960) to ensure video compatibility with most codecs and players. To prevent resizing, make your input image divisible by the macro_block_size or set the macro_block_size to 1 (risking incompatibility).\n",
      "100%|██████████| 121/121 [00:03<00:00, 31.43it/s]\n"
     ]
    },
    {
     "name": "stdout",
     "output_type": "stream",
     "text": [
      "Animating layer: cytoplasm_masks saving to cytoplasm_masks\n",
      "Rendering frames...\n"
     ]
    },
    {
     "name": "stderr",
     "output_type": "stream",
     "text": [
      "  0%|          | 0/121 [00:00<?, ?it/s]IMAGEIO FFMPEG_WRITER WARNING: input image is not divisible by macro_block_size=16, resizing from (990, 947) to (992, 960) to ensure video compatibility with most codecs and players. To prevent resizing, make your input image divisible by the macro_block_size or set the macro_block_size to 1 (risking incompatibility).\n",
      "100%|██████████| 121/121 [00:03<00:00, 30.82it/s]\n"
     ]
    },
    {
     "name": "stdout",
     "output_type": "stream",
     "text": [
      "Animating layer: nuclei_masks saving to nuclei_masks\n",
      "Rendering frames...\n"
     ]
    },
    {
     "name": "stderr",
     "output_type": "stream",
     "text": [
      "  0%|          | 0/121 [00:00<?, ?it/s]IMAGEIO FFMPEG_WRITER WARNING: input image is not divisible by macro_block_size=16, resizing from (990, 947) to (992, 960) to ensure video compatibility with most codecs and players. To prevent resizing, make your input image divisible by the macro_block_size or set the macro_block_size to 1 (risking incompatibility).\n",
      "100%|██████████| 121/121 [00:03<00:00, 30.57it/s]\n"
     ]
    },
    {
     "name": "stdout",
     "output_type": "stream",
     "text": [
      "Animating layer: organoid_masks saving to organoid_masks\n",
      "Rendering frames...\n"
     ]
    },
    {
     "name": "stderr",
     "output_type": "stream",
     "text": [
      "  0%|          | 0/121 [00:00<?, ?it/s]IMAGEIO FFMPEG_WRITER WARNING: input image is not divisible by macro_block_size=16, resizing from (990, 947) to (992, 960) to ensure video compatibility with most codecs and players. To prevent resizing, make your input image divisible by the macro_block_size or set the macro_block_size to 1 (risking incompatibility).\n",
      "100%|██████████| 121/121 [00:03<00:00, 32.18it/s]\n"
     ]
    },
    {
     "name": "stdout",
     "output_type": "stream",
     "text": [
      "Animating layer: cell_masks (labels) saving to cell_masks (labels)\n",
      "Rendering frames...\n"
     ]
    },
    {
     "name": "stderr",
     "output_type": "stream",
     "text": [
      "  0%|          | 0/121 [00:00<?, ?it/s]IMAGEIO FFMPEG_WRITER WARNING: input image is not divisible by macro_block_size=16, resizing from (990, 947) to (992, 960) to ensure video compatibility with most codecs and players. To prevent resizing, make your input image divisible by the macro_block_size or set the macro_block_size to 1 (risking incompatibility).\n",
      "100%|██████████| 121/121 [00:04<00:00, 29.21it/s]\n"
     ]
    },
    {
     "name": "stdout",
     "output_type": "stream",
     "text": [
      "Animating layer: cytoplasm_masks (labels) saving to cytoplasm_masks (labels)\n",
      "Rendering frames...\n"
     ]
    },
    {
     "name": "stderr",
     "output_type": "stream",
     "text": [
      "  0%|          | 0/121 [00:00<?, ?it/s]IMAGEIO FFMPEG_WRITER WARNING: input image is not divisible by macro_block_size=16, resizing from (990, 947) to (992, 960) to ensure video compatibility with most codecs and players. To prevent resizing, make your input image divisible by the macro_block_size or set the macro_block_size to 1 (risking incompatibility).\n",
      "100%|██████████| 121/121 [00:03<00:00, 32.00it/s]\n"
     ]
    },
    {
     "name": "stdout",
     "output_type": "stream",
     "text": [
      "Animating layer: nuclei_masks (labels) saving to nuclei_masks (labels)\n",
      "Rendering frames...\n"
     ]
    },
    {
     "name": "stderr",
     "output_type": "stream",
     "text": [
      "  0%|          | 0/121 [00:00<?, ?it/s]IMAGEIO FFMPEG_WRITER WARNING: input image is not divisible by macro_block_size=16, resizing from (990, 947) to (992, 960) to ensure video compatibility with most codecs and players. To prevent resizing, make your input image divisible by the macro_block_size or set the macro_block_size to 1 (risking incompatibility).\n",
      "100%|██████████| 121/121 [00:03<00:00, 33.63it/s]\n"
     ]
    },
    {
     "name": "stdout",
     "output_type": "stream",
     "text": [
      "Animating layer: organoid_masks (labels) saving to organoid_masks (labels)\n",
      "Rendering frames...\n"
     ]
    },
    {
     "name": "stderr",
     "output_type": "stream",
     "text": [
      "  0%|          | 0/121 [00:00<?, ?it/s]IMAGEIO FFMPEG_WRITER WARNING: input image is not divisible by macro_block_size=16, resizing from (990, 947) to (992, 960) to ensure video compatibility with most codecs and players. To prevent resizing, make your input image divisible by the macro_block_size or set the macro_block_size to 1 (risking incompatibility).\n",
      "100%|██████████| 121/121 [00:03<00:00, 31.69it/s]\n"
     ]
    },
    {
     "name": "stdout",
     "output_type": "stream",
     "text": [
      "All layers animated\n",
      "MoviePy - Building file /home/lippincm/Documents/GFF_3D_organoid_profiling_pipeline/0.preprocessing_data/animations/convolution_25/gif/C4-2/C4-2_cell_masks (labels)_animation.gif with imageio.\n"
     ]
    },
    {
     "name": "stderr",
     "output_type": "stream",
     "text": [
      "                                                             \r"
     ]
    },
    {
     "name": "stdout",
     "output_type": "stream",
     "text": [
      "MoviePy - Building file /home/lippincm/Documents/GFF_3D_organoid_profiling_pipeline/0.preprocessing_data/animations/convolution_25/gif/C4-2/C4-2_C4-2_555_animation.gif with imageio.\n"
     ]
    },
    {
     "name": "stderr",
     "output_type": "stream",
     "text": [
      "                                                             \r"
     ]
    },
    {
     "name": "stdout",
     "output_type": "stream",
     "text": [
      "MoviePy - Building file /home/lippincm/Documents/GFF_3D_organoid_profiling_pipeline/0.preprocessing_data/animations/convolution_25/gif/C4-2/C4-2_cell_masks_animation.gif with imageio.\n"
     ]
    },
    {
     "name": "stderr",
     "output_type": "stream",
     "text": [
      "                                                             \r"
     ]
    },
    {
     "name": "stdout",
     "output_type": "stream",
     "text": [
      "MoviePy - Building file /home/lippincm/Documents/GFF_3D_organoid_profiling_pipeline/0.preprocessing_data/animations/convolution_25/gif/C4-2/C4-2_C4-2_405_animation.gif with imageio.\n"
     ]
    },
    {
     "name": "stderr",
     "output_type": "stream",
     "text": [
      "                                                             \r"
     ]
    },
    {
     "name": "stdout",
     "output_type": "stream",
     "text": [
      "MoviePy - Building file /home/lippincm/Documents/GFF_3D_organoid_profiling_pipeline/0.preprocessing_data/animations/convolution_25/gif/C4-2/C4-2_nuclei_masks (labels)_animation.gif with imageio.\n"
     ]
    },
    {
     "name": "stderr",
     "output_type": "stream",
     "text": [
      "                                                             \r"
     ]
    },
    {
     "name": "stdout",
     "output_type": "stream",
     "text": [
      "MoviePy - Building file /home/lippincm/Documents/GFF_3D_organoid_profiling_pipeline/0.preprocessing_data/animations/convolution_25/gif/C4-2/C4-2_cytoplasm_masks (labels)_animation.gif with imageio.\n"
     ]
    },
    {
     "name": "stderr",
     "output_type": "stream",
     "text": [
      "                                                             \r"
     ]
    },
    {
     "name": "stdout",
     "output_type": "stream",
     "text": [
      "MoviePy - Building file /home/lippincm/Documents/GFF_3D_organoid_profiling_pipeline/0.preprocessing_data/animations/convolution_25/gif/C4-2/C4-2_cytoplasm_masks_animation.gif with imageio.\n"
     ]
    },
    {
     "name": "stderr",
     "output_type": "stream",
     "text": [
      "                                                             \r"
     ]
    },
    {
     "name": "stdout",
     "output_type": "stream",
     "text": [
      "MoviePy - Building file /home/lippincm/Documents/GFF_3D_organoid_profiling_pipeline/0.preprocessing_data/animations/convolution_25/gif/C4-2/C4-2_organoid_masks_animation.gif with imageio.\n"
     ]
    },
    {
     "name": "stderr",
     "output_type": "stream",
     "text": [
      "                                                             \r"
     ]
    },
    {
     "name": "stdout",
     "output_type": "stream",
     "text": [
      "MoviePy - Building file /home/lippincm/Documents/GFF_3D_organoid_profiling_pipeline/0.preprocessing_data/animations/convolution_25/gif/C4-2/C4-2_nuclei_masks_animation.gif with imageio.\n"
     ]
    },
    {
     "name": "stderr",
     "output_type": "stream",
     "text": [
      "                                                             \r"
     ]
    },
    {
     "name": "stdout",
     "output_type": "stream",
     "text": [
      "MoviePy - Building file /home/lippincm/Documents/GFF_3D_organoid_profiling_pipeline/0.preprocessing_data/animations/convolution_25/gif/C4-2/C4-2_C4-2_488_animation.gif with imageio.\n"
     ]
    },
    {
     "name": "stderr",
     "output_type": "stream",
     "text": [
      "                                                             \r"
     ]
    },
    {
     "name": "stdout",
     "output_type": "stream",
     "text": [
      "MoviePy - Building file /home/lippincm/Documents/GFF_3D_organoid_profiling_pipeline/0.preprocessing_data/animations/convolution_25/gif/C4-2/C4-2_organoid_masks (labels)_animation.gif with imageio.\n"
     ]
    },
    {
     "name": "stderr",
     "output_type": "stream",
     "text": [
      "                                                             \r"
     ]
    },
    {
     "name": "stdout",
     "output_type": "stream",
     "text": [
      "MoviePy - Building file /home/lippincm/Documents/GFF_3D_organoid_profiling_pipeline/0.preprocessing_data/animations/convolution_25/gif/C4-2/C4-2_C4-2_640_animation.gif with imageio.\n"
     ]
    },
    {
     "name": "stderr",
     "output_type": "stream",
     "text": [
      "                                                             \r"
     ]
    }
   ],
   "source": [
    "# make the viewer full screen\n",
    "viewer.window._qt_window.showMaximized()\n",
    "# hide the layer controls\n",
    "viewer.window._qt_viewer.dockLayerList.setVisible(False)\n",
    "# hide the layer controls\n",
    "viewer.window._qt_viewer.dockLayerControls.setVisible(False)\n",
    "# set the viewer to a set window size\n",
    "viewer.window._qt_window.resize(1000, 1000)\n",
    "\n",
    "# get the layer names in the viewer\n",
    "layer_names = [layer.name for layer in viewer.layers]\n",
    "# set all layers to not visible\n",
    "for layer_name in layer_names:\n",
    "    print(f\"Setting {layer_name} to not visible\")\n",
    "    viewer.layers[layer_name].visible = False\n",
    "for layer_name in layer_names:\n",
    "    viewer.layers[layer_name].visible = True\n",
    "    if \".tif\" in layer_name:\n",
    "        save_name = layer_name.split(\".tif\")[0]\n",
    "    else:\n",
    "        save_name = layer_name\n",
    "    # map the layer name to the channel name\n",
    "    if \"Nuclei\" in layer_name:\n",
    "        save_name = \"DNA\"\n",
    "    elif \"Endoplasmic\" in layer_name:\n",
    "        save_name = \"ER\"\n",
    "    elif \"AGP\" in layer_name:\n",
    "        save_name = \"AGP\"\n",
    "    elif \"Mitochondria\" in layer_name:\n",
    "        save_name = \"mitochondria\"\n",
    "    elif \"Brightfield\" in layer_name:\n",
    "        save_name = \"brightfield\"\n",
    "    else:\n",
    "        save_name = layer_name\n",
    "    print(f\"Animating layer: {layer_name} saving to {save_name}\")\n",
    "\n",
    "    save_path = pathlib.Path(f\"{mp4_file_dir}/{well_fov}_{save_name}_animation.mp4\")\n",
    "    if \"640\" in layer_name:\n",
    "        # increase contrast for the mitochondria\n",
    "        viewer.layers[layer_name].contrast_limits = (0, 20000)\n",
    "    animate_view(viewer, save_path, steps=30, easing=\"linear\")\n",
    "    viewer.layers[layer_name].visible = False\n",
    "print(\"All layers animated\")\n",
    "# get all gifs in the directory\n",
    "mp4_file_path = list(pathlib.Path(mp4_file_dir).rglob(\"*.mp4\"))\n",
    "for mp4_file in mp4_file_path:\n",
    "    # change the path to the gif directory\n",
    "    mp4_file = pathlib.Path(mp4_file)\n",
    "    gif_file = pathlib.Path(gif_file_dir / f\"{mp4_file.stem}.gif\")\n",
    "    mp4_file = str(mp4_file)\n",
    "    gif_file = str(gif_file)\n",
    "    mp4_to_gif(mp4_file, gif_file)"
   ]
  },
  {
   "cell_type": "code",
   "execution_count": 12,
   "id": "901f5da8",
   "metadata": {},
   "outputs": [
    {
     "data": {
      "image/png": "[encoded data removed]",
      "text/html": [
       "<img src=\"data:image/png;base64,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\" alt=\"\"></img>"
      ],
      "text/plain": [
       "<napari.utils.notebook_display.NotebookScreenshot at 0x771095575c10>"
      ]
     },
     "execution_count": 12,
     "metadata": {},
     "output_type": "execute_result"
    }
   ],
   "source": [
    "# screenshot the napari viewer\n",
    "nbscreenshot(viewer)"
   ]
  },
  {
   "cell_type": "code",
   "execution_count": 13,
   "id": "42046a4c",
   "metadata": {},
   "outputs": [],
   "source": [
    "# close the viewer\n",
    "viewer.close()\n",
    "# remove the output ome tiff\n",
    "pathlib.Path(output_path).unlink()"
   ]
  }
 ],
 "metadata": {
  "kernelspec": {
   "display_name": "viz_env",
   "language": "python",
   "name": "python3"
  },
  "language_info": {
   "codemirror_mode": {
    "name": "ipython",
    "version": 3
   },
   "file_extension": ".py",
   "mimetype": "text/x-python",
   "name": "python",
   "nbconvert_exporter": "python",
   "pygments_lexer": "ipython3",
   "version": "3.11.11"
  }
 },
 "nbformat": 4,
 "nbformat_minor": 5
}
