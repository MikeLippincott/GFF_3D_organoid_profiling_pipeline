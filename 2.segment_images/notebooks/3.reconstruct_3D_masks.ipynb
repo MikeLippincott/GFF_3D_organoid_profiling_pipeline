{
    "cells": [
        {
            "cell_type": "markdown",
            "id": "38591bb0",
            "metadata": {
                "papermill": {
                    "duration": 0.002539,
                    "end_time": "2024-12-24T21:59:32.892926",
                    "exception": false,
                    "start_time": "2024-12-24T21:59:32.890387",
                    "status": "completed"
                },
                "tags": []
            },
            "source": [
                "# An attempt at an elegant solution to the 2D -> 3D object relation problem.\n",
                "I will use graph theory to solve this problem. \n",
                "The idea is to create a graph where each node represents a 2D object and each edge represents a potential relation between two objects across z or an absolute relation between two objects in the same z.\n",
                "These edges will be weighted based on their z distance.\n",
                "The problem then becomes a shortest path problem where we need to find the shortest path between the start and end nodes.\n",
                "An issue that will arise is figuring out how many nodes might exist in a given path. This will vary and will be a challenge to solve.\n",
                "Some nodes will not start until a certain z level and some nodes will end at a certain z level.\n",
                "\n",
                "### To do this we must make the following assumptions:\n",
                "1. Nodes in the same z level are connected to each other, but will not be used in the shortest path calculation - these are separate objects.\n",
                "2. The variablility in the distance between the X-Y coordinates across z-slices for the same 3D object is minimal.\n",
                "    - This will be a learned or assumed value - probably initialized as apriori knowledge.\n",
                "3. The distance between the X-Y coordinates across z-slices for different 3D objects is significant.\n",
                "4. Given the assumption of 1 and 2, we do not need to calculate the shortes path between all nodes, only the nodes that are within a certain distance of each other in the X-Y plane across z-slices.\n",
                "5. The total number of objects in a 2D slice cannot be greater than the total number of objects in the 3D object.\n",
                "6. The largest number of objects across all 2D slices will not necessarily be the same as the number of objects in the 3D object.\n",
                "7. The node path has to be continuous and cannot skip nodes."
            ]
        },
        {
            "cell_type": "markdown",
            "id": "e6d8095a",
            "metadata": {
                "papermill": {
                    "duration": 0.001641,
                    "end_time": "2024-12-24T21:59:32.896576",
                    "exception": false,
                    "start_time": "2024-12-24T21:59:32.894935",
                    "status": "completed"
                },
                "tags": []
            },
            "source": [
                "## Imports"
            ]
        },
        {
            "cell_type": "code",
            "execution_count": 1,
            "id": "36e79f2f",
            "metadata": {
                "execution": {
                    "iopub.execute_input": "2024-12-24T21:59:32.900560Z",
                    "iopub.status.busy": "2024-12-24T21:59:32.900397Z",
                    "iopub.status.idle": "2024-12-24T21:59:35.986533Z",
                    "shell.execute_reply": "2024-12-24T21:59:35.986131Z"
                },
                "papermill": {
                    "duration": 3.089228,
                    "end_time": "2024-12-24T21:59:35.987496",
                    "exception": false,
                    "start_time": "2024-12-24T21:59:32.898268",
                    "status": "completed"
                },
                "tags": []
            },
            "outputs": [],
            "source": [
                "import argparse\n",
                "import pathlib\n",
                "import sys\n",
                "\n",
                "import matplotlib.pyplot as plt\n",
                "import networkx as nx\n",
                "import numpy as np\n",
                "import pandas as pd\n",
                "import skimage\n",
                "import tifffile\n",
                "import tqdm\n",
                "\n",
                "sys.path.append(\"../../utils\")\n",
                "\n",
                "\n",
                "from segmentation_decoupling import euclidian_2D_distance\n",
                "\n",
                "# check if in a jupyter notebook\n",
                "try:\n",
                "    cfg = get_ipython().config\n",
                "    in_notebook = True\n",
                "except NameError:\n",
                "    in_notebook = False"
            ]
        },
        {
            "cell_type": "code",
            "execution_count": 2,
            "id": "2b5c9c9b",
            "metadata": {
                "execution": {
                    "iopub.execute_input": "2024-12-24T21:59:35.993897Z",
                    "iopub.status.busy": "2024-12-24T21:59:35.993628Z",
                    "iopub.status.idle": "2024-12-24T21:59:35.998696Z",
                    "shell.execute_reply": "2024-12-24T21:59:35.998382Z"
                },
                "papermill": {
                    "duration": 0.008793,
                    "end_time": "2024-12-24T21:59:35.999282",
                    "exception": false,
                    "start_time": "2024-12-24T21:59:35.990489",
                    "status": "completed"
                },
                "tags": []
            },
            "outputs": [
                {
                    "name": "stdout",
                    "output_type": "stream",
                    "text": [
                        "Running in a notebook\n"
                    ]
                }
            ],
            "source": [
                "if not in_notebook:\n",
                "    print(\"Running as script\")\n",
                "    # set up arg parser\n",
                "    parser = argparse.ArgumentParser(description=\"Segment the nuclei of a tiff image\")\n",
                "\n",
                "    parser.add_argument(\n",
                "        \"--patient\",\n",
                "        type=str,\n",
                "        help=\"The patient ID\",\n",
                "    )\n",
                "\n",
                "    parser.add_argument(\n",
                "        \"--well_fov\",\n",
                "        type=str,\n",
                "        help=\"Path to the input directory containing the tiff images\",\n",
                "    )\n",
                "\n",
                "    parser.add_argument(\n",
                "        \"--compartment\",\n",
                "        type=str,\n",
                "        default=\"none\",\n",
                "        help=\"The compartment to segment\",\n",
                "    )\n",
                "\n",
                "    args = parser.parse_args()\n",
                "    well_fov = args.well_fov\n",
                "    compartment = args.compartment\n",
                "    patient = args.patient\n",
                "else:\n",
                "    print(\"Running in a notebook\")\n",
                "    well_fov = \"C2-1\"\n",
                "    compartment = \"organoid\"\n",
                "    patient = \"NF0014\"\n",
                "\n",
                "input_dir = pathlib.Path(f\"../../data/{patient}/processed_data/{well_fov}\").resolve()\n",
                "mask_dir = pathlib.Path(f\"../../data/{patient}/processed_data/{well_fov}\").resolve()\n",
                "if compartment == \"nuclei\":\n",
                "    input_image_dir = pathlib.Path(mask_dir / \"nuclei_masks_decoupled.tiff\").resolve(\n",
                "        strict=True\n",
                "    )\n",
                "    x_y_vector_radius_max_constraint = 25  # pixels\n",
                "    overlap_percent = 0.75\n",
                "    output_image_dir = pathlib.Path(\n",
                "        mask_dir / \"nuclei_masks_reconstructed.tiff\"\n",
                "    ).resolve()\n",
                "elif compartment == \"cell\":\n",
                "    input_image_dir = pathlib.Path(mask_dir / \"cell_masks_decoupled.tiff\").resolve(\n",
                "        strict=True\n",
                "    )\n",
                "    x_y_vector_radius_max_constraint = 25  # pixels\n",
                "    overlap_percent = 0.9\n",
                "    output_image_dir = pathlib.Path(\n",
                "        mask_dir / \"cell_masks_reconstructed.tiff\"\n",
                "    ).resolve()\n",
                "elif compartment == \"organoid\":\n",
                "    input_image_dir = pathlib.Path(mask_dir / \"organoid_masks_decoupled.tiff\").resolve(\n",
                "        strict=True\n",
                "    )\n",
                "    x_y_vector_radius_max_constraint = 1000  # pixels\n",
                "    overlap_percent = 0.9\n",
                "    output_image_dir = pathlib.Path(\n",
                "        mask_dir / \"organoid_masks_reconstructed.tiff\"\n",
                "    ).resolve()\n",
                "else:\n",
                "    raise ValueError(\n",
                "        \"Invalid compartment, please choose either 'nuclei', 'cell', or 'organoid'\"\n",
                "    )"
            ]
        },
        {
            "cell_type": "markdown",
            "id": "15034739",
            "metadata": {
                "papermill": {
                    "duration": 0.002879,
                    "end_time": "2024-12-24T21:59:36.004776",
                    "exception": false,
                    "start_time": "2024-12-24T21:59:36.001897",
                    "status": "completed"
                },
                "tags": []
            },
            "source": [
                "## Extract masks and masks centers (XY coordinates) from the input image"
            ]
        },
        {
            "cell_type": "code",
            "execution_count": 3,
            "id": "34fcbb15",
            "metadata": {},
            "outputs": [],
            "source": [
                "image = tifffile.imread(input_image_dir)"
            ]
        },
        {
            "cell_type": "code",
            "execution_count": 4,
            "id": "f77e6571",
            "metadata": {
                "execution": {
                    "iopub.execute_input": "2024-12-24T21:59:36.011034Z",
                    "iopub.status.busy": "2024-12-24T21:59:36.010893Z",
                    "iopub.status.idle": "2024-12-24T21:59:36.302870Z",
                    "shell.execute_reply": "2024-12-24T21:59:36.302519Z"
                },
                "papermill": {
                    "duration": 0.295959,
                    "end_time": "2024-12-24T21:59:36.303578",
                    "exception": false,
                    "start_time": "2024-12-24T21:59:36.007619",
                    "status": "completed"
                },
                "tags": []
            },
            "outputs": [
                {
                    "data": {
                        "text/html": [
                            "<div>\n",
                            "<style scoped>\n",
                            "    .dataframe tbody tr th:only-of-type {\n",
                            "        vertical-align: middle;\n",
                            "    }\n",
                            "\n",
                            "    .dataframe tbody tr th {\n",
                            "        vertical-align: top;\n",
                            "    }\n",
                            "\n",
                            "    .dataframe thead th {\n",
                            "        text-align: right;\n",
                            "    }\n",
                            "</style>\n",
                            "<table border=\"1\" class=\"dataframe\">\n",
                            "  <thead>\n",
                            "    <tr style=\"text-align: right;\">\n",
                            "      <th></th>\n",
                            "      <th>original_label</th>\n",
                            "      <th>slice</th>\n",
                            "      <th>centroid-0</th>\n",
                            "      <th>centroid-1</th>\n",
                            "      <th>bbox-0</th>\n",
                            "      <th>bbox-1</th>\n",
                            "      <th>bbox-2</th>\n",
                            "      <th>bbox-3</th>\n",
                            "      <th>unique_id</th>\n",
                            "    </tr>\n",
                            "  </thead>\n",
                            "  <tbody>\n",
                            "  </tbody>\n",
                            "</table>\n",
                            "</div>"
                        ],
                        "text/plain": [
                            "Empty DataFrame\n",
                            "Columns: [original_label, slice, centroid-0, centroid-1, bbox-0, bbox-1, bbox-2, bbox-3, unique_id]\n",
                            "Index: []"
                        ]
                    },
                    "execution_count": 4,
                    "metadata": {},
                    "output_type": "execute_result"
                }
            ],
            "source": [
                "cordinates = {\n",
                "    \"original_label\": [],\n",
                "    \"slice\": [],\n",
                "    \"centroid-0\": [],\n",
                "    \"centroid-1\": [],\n",
                "    \"bbox-0\": [],\n",
                "    \"bbox-1\": [],\n",
                "    \"bbox-2\": [],\n",
                "    \"bbox-3\": [],\n",
                "}\n",
                "\n",
                "for slice in range(image.shape[0]):\n",
                "    props = skimage.measure.regionprops_table(\n",
                "        image[slice, :, :], properties=[\"label\", \"centroid\", \"bbox\"]\n",
                "    )\n",
                "\n",
                "    label, centroid1, centroid2, bbox0, bbox1, bbox2, bbox3 = (\n",
                "        props[\"label\"],\n",
                "        props[\"centroid-0\"],\n",
                "        props[\"centroid-1\"],\n",
                "        props[\"bbox-0\"],\n",
                "        props[\"bbox-1\"],\n",
                "        props[\"bbox-2\"],\n",
                "        props[\"bbox-3\"],\n",
                "    )\n",
                "    if len(label) > 0:\n",
                "        for i in range(len(label)):\n",
                "            cordinates[\"original_label\"].append(label[i])\n",
                "            cordinates[\"slice\"].append(slice)\n",
                "            cordinates[\"centroid-0\"].append(centroid1[i])\n",
                "            cordinates[\"centroid-1\"].append(centroid2[i])\n",
                "            cordinates[\"bbox-0\"].append(bbox0[i])\n",
                "            cordinates[\"bbox-1\"].append(bbox1[i])\n",
                "            cordinates[\"bbox-2\"].append(bbox2[i])\n",
                "            cordinates[\"bbox-3\"].append(bbox3[i])\n",
                "\n",
                "\n",
                "coordinates_df = pd.DataFrame(cordinates)\n",
                "coordinates_df[\"unique_id\"] = coordinates_df.index\n",
                "coordinates_df.head()"
            ]
        },
        {
            "cell_type": "markdown",
            "id": "6e601fa7",
            "metadata": {},
            "source": [
                "## Plot the coordinates of the masks in the XY plane"
            ]
        },
        {
            "cell_type": "code",
            "execution_count": 5,
            "id": "dae81e09",
            "metadata": {},
            "outputs": [
                {
                    "data": {
                        "image/png": "[encoded data removed]",
                        "text/plain": [
                            "<Figure size 640x480 with 1 Axes>"
                        ]
                    },
                    "metadata": {},
                    "output_type": "display_data"
                }
            ],
            "source": [
                "if in_notebook:\n",
                "    # plot the data\n",
                "    fig, ax = plt.subplots()\n",
                "    plt.scatter(\n",
                "        coordinates_df[\"centroid-0\"],\n",
                "        coordinates_df[\"centroid-1\"],\n",
                "        c=coordinates_df[\"unique_id\"],\n",
                "    )\n",
                "    plt.xlabel(\"centroid-0\")\n",
                "    plt.ylabel(\"centroid-1\")\n",
                "    plt.show()"
            ]
        },
        {
            "cell_type": "code",
            "execution_count": 6,
            "id": "16c8b520",
            "metadata": {},
            "outputs": [
                {
                    "data": {
                        "image/png": "[encoded data removed]",
                        "text/plain": [
                            "<Figure size 640x480 with 1 Axes>"
                        ]
                    },
                    "metadata": {},
                    "output_type": "display_data"
                }
            ],
            "source": [
                "if in_notebook:\n",
                "    # make a 3D graph of each x-y center of mass\n",
                "    # Create a new figure\n",
                "    fig = plt.figure()\n",
                "\n",
                "    # Add a 3D subplot\n",
                "    ax = fig.add_subplot(111, projection=\"3d\")\n",
                "    ax.scatter(\n",
                "        coordinates_df[\"centroid-0\"],\n",
                "        coordinates_df[\"centroid-1\"],\n",
                "        coordinates_df[\"slice\"],\n",
                "        c=coordinates_df[\"unique_id\"],\n",
                "    )\n",
                "    ax.set_xlabel(\"X\")\n",
                "    ax.set_ylabel(\"Y\")\n",
                "    ax.set_zlabel(\"Z\")\n",
                "    plt.show()"
            ]
        },
        {
            "cell_type": "code",
            "execution_count": 7,
            "id": "0d53ecd4",
            "metadata": {},
            "outputs": [
                {
                    "data": {
                        "image/png": "[encoded data removed]",
                        "text/plain": [
                            "<Figure size 1500x500 with 3 Axes>"
                        ]
                    },
                    "metadata": {},
                    "output_type": "display_data"
                }
            ],
            "source": [
                "if in_notebook:\n",
                "    # plot the centroid for x-y, x-z, and y-z\n",
                "    fig, ax = plt.subplots(1, 3, figsize=(15, 5))\n",
                "    ax[0].scatter(coordinates_df[\"centroid-0\"], coordinates_df[\"centroid-1\"])\n",
                "    ax[0].set_xlabel(\"centroid-0\")\n",
                "    ax[0].set_ylabel(\"centroid-1\")\n",
                "    ax[1].scatter(coordinates_df[\"centroid-0\"], coordinates_df[\"slice\"])\n",
                "    ax[1].set_xlabel(\"centroid-0\")\n",
                "    ax[1].set_ylabel(\"slice\")\n",
                "    ax[2].scatter(coordinates_df[\"centroid-1\"], coordinates_df[\"slice\"])\n",
                "    ax[2].set_xlabel(\"centroid-1\")\n",
                "    ax[2].set_ylabel(\"slice\")\n",
                "    plt.show()"
            ]
        },
        {
            "cell_type": "code",
            "execution_count": 8,
            "id": "90f5bbac",
            "metadata": {},
            "outputs": [],
            "source": [
                "from typing import Tuple\n",
                "\n",
                "\n",
                "def calculate_bbox_area(bbox: Tuple[int, int, int, int]) -> int:\n",
                "    \"\"\"\n",
                "    Calculate the area of a bounding box.\n",
                "\n",
                "    Parameters\n",
                "    ----------\n",
                "    bbox : Tuple[int, int, int, int]\n",
                "        The bounding box coordinates in the format (x_min, y_min, x_max, y_max).\n",
                "\n",
                "    Returns\n",
                "    -------\n",
                "    int\n",
                "        The area of the bounding box.\n",
                "    \"\"\"\n",
                "    return max(0, bbox[2] - bbox[0]) * max(0, bbox[3] - bbox[1])\n",
                "\n",
                "\n",
                "def calculate_overlap(\n",
                "    bbox1: tuple[int, int, int, int], bbox2: tuple[int, int, int, int]\n",
                ") -> float:\n",
                "    \"\"\"\n",
                "    Calculate the percentage overlap between two bounding boxes.\n",
                "\n",
                "    Parameters\n",
                "    ----------\n",
                "    bbox1 : Tuple[int, int, int, int]\n",
                "        The first bounding box (x_min, y_min, x_max, y_max).\n",
                "    bbox2 : Tuple[int, int, int, int]\n",
                "        The second bounding box (x_min, y_min, x_max, y_max).\n",
                "\n",
                "    Returns\n",
                "    -------\n",
                "    float\n",
                "        The percentage overlap of the smaller bounding box with the larger one.\n",
                "    \"\"\"\n",
                "    # Calculate intersection coordinates\n",
                "    x_min = max(bbox1[0], bbox2[0])\n",
                "    y_min = max(bbox1[1], bbox2[1])\n",
                "    x_max = min(bbox1[2], bbox2[2])\n",
                "    y_max = min(bbox1[3], bbox2[3])\n",
                "\n",
                "    # Calculate intersection area\n",
                "    overlap_width = max(0, x_max - x_min)\n",
                "    overlap_height = max(0, y_max - y_min)\n",
                "    overlap_area = overlap_width * overlap_height\n",
                "\n",
                "    # Calculate areas of both bounding boxes\n",
                "    area1 = calculate_bbox_area(bbox1)\n",
                "    area2 = calculate_bbox_area(bbox2)\n",
                "\n",
                "    # Return the percentage overlap relative to the smaller bounding box\n",
                "    smaller_area = min(area1, area2)\n",
                "    return overlap_area / smaller_area if smaller_area > 0 else 0.0\n",
                "\n",
                "\n",
                "def calculate_mask_iou(mask1: np.ndarray, mask2: np.ndarray) -> bool:\n",
                "    \"\"\"\n",
                "    Calculate the Intersection over Union (IoU) between two binary masks.\n",
                "\n",
                "    Parameters\n",
                "    ----------\n",
                "    mask1 : np.ndarray\n",
                "        The first binary mask.\n",
                "    mask2 : np.ndarray\n",
                "        The second binary mask.\n",
                "\n",
                "    Returns\n",
                "    -------\n",
                "    bool\n",
                "        True if the IoU is greater than 0.5, False otherwise.\n",
                "    \"\"\"\n",
                "    intersection = np.logical_and(mask1, mask2)\n",
                "    union = np.logical_or(mask1, mask2)\n",
                "\n",
                "    if np.sum(union) == 0:\n",
                "        return False\n",
                "\n",
                "    iou = np.sum(intersection) / np.sum(union)\n",
                "\n",
                "    return iou"
            ]
        },
        {
            "cell_type": "code",
            "execution_count": 10,
            "id": "f6f90ac1",
            "metadata": {},
            "outputs": [],
            "source": [
                "# generate distance pairs for each slice\n",
                "distance_pairs = []\n",
                "distance_pairs = {\n",
                "    \"slice1\": [],\n",
                "    \"slice2\": [],\n",
                "    \"index1\": [],\n",
                "    \"index2\": [],\n",
                "    \"distance\": [],\n",
                "    \"coordinates1\": [],\n",
                "    \"coordinates2\": [],\n",
                "    \"pass\": [],\n",
                "    \"original_label1\": [],\n",
                "    \"original_label2\": [],\n",
                "}\n",
                "\n",
                "distance_pairs_list = [\n",
                "    {\n",
                "        \"slice1\": coordinates_df.loc[i, \"slice\"],\n",
                "        \"slice2\": coordinates_df.loc[j, \"slice\"],\n",
                "        \"index1\": i,\n",
                "        \"index2\": j,\n",
                "        \"distance\": euclidian_2D_distance(\n",
                "            coordinates_df.loc[i, [\"centroid-0\", \"centroid-1\"]].values,\n",
                "            coordinates_df.loc[j, [\"centroid-0\", \"centroid-1\"]].values,\n",
                "        ),\n",
                "        \"coordinates1\": tuple(\n",
                "            coordinates_df.loc[i, [\"centroid-0\", \"centroid-1\"]].values\n",
                "        ),\n",
                "        \"coordinates2\": tuple(\n",
                "            coordinates_df.loc[j, [\"centroid-0\", \"centroid-1\"]].values\n",
                "        ),\n",
                "        \"pass\": True,\n",
                "        \"original_label1\": coordinates_df.loc[i, \"original_label\"],\n",
                "        \"original_label2\": coordinates_df.loc[j, \"original_label\"],\n",
                "    }\n",
                "    for i in range(coordinates_df.shape[0])\n",
                "    for j in range(coordinates_df.shape[0])\n",
                "    if i != j\n",
                "    and euclidian_2D_distance(\n",
                "        coordinates_df.loc[i, [\"centroid-0\", \"centroid-1\"]].values,\n",
                "        coordinates_df.loc[j, [\"centroid-0\", \"centroid-1\"]].values,\n",
                "    )\n",
                "    < x_y_vector_radius_max_constraint\n",
                "]\n",
                "\n",
                "# Convert to DataFrame (if needed)\n",
                "df = pd.DataFrame(distance_pairs_list)\n",
                "if not df.empty:\n",
                "    df[\"indexes\"] = df[\"index1\"].astype(str) + \"-\" + df[\"index2\"].astype(str)\n",
                "    df = df[df[\"pass\"] == True]\n",
                "    df[\"index_comparison\"] = df[\"index1\"].astype(str) + \",\" + df[\"index2\"].astype(str)\n",
                "    df.head()"
            ]
        },
        {
            "cell_type": "code",
            "execution_count": 11,
            "id": "77980063",
            "metadata": {},
            "outputs": [],
            "source": [
                "# create a graph where each node is a unique centroid and each edge is a distance between centroids\n",
                "# edges between nodes with the same slice are not allowed\n",
                "# edge weight is the distance between the nodes (euclidian distance)\n",
                "G = nx.Graph()\n",
                "for row in df.iterrows():\n",
                "    G.add_node(\n",
                "        row[1][\"index1\"], slice=row[1][\"slice1\"], coordinates=row[1][\"coordinates1\"]\n",
                "    )\n",
                "    G.add_node(\n",
                "        row[1][\"index2\"], slice=row[1][\"slice2\"], coordinates=row[1][\"coordinates2\"]\n",
                "    )\n",
                "    G.add_edge(\n",
                "        row[1][\"index1\"],\n",
                "        row[1][\"index2\"],\n",
                "        weight=row[1][\"distance\"],\n",
                "        original_label1=row[1][\"original_label1\"],\n",
                "        original_label2=row[1][\"original_label2\"],\n",
                "    )\n",
                "\n",
                "# plot the graph with each slice being on a different row\n",
                "pos = nx.spring_layout(G)\n",
                "edge_labels = nx.get_edge_attributes(G, \"weight\")"
            ]
        },
        {
            "cell_type": "code",
            "execution_count": 12,
            "id": "ea506a00",
            "metadata": {},
            "outputs": [],
            "source": [
                "# solve the the shortest path problem\n",
                "# find the longest paths in the graph with the smallest edge weights\n",
                "# this will find the longest paths between centroids closest to each other\n",
                "# the longest path is the path with the most edges\n",
                "longest_paths = []\n",
                "for path in nx.all_pairs_shortest_path(G, cutoff=10):\n",
                "    longest_path = []\n",
                "    for key in path[1].keys():\n",
                "        if len(path[1][key]) > len(longest_path):\n",
                "            longest_path = path[1][key]\n",
                "    longest_paths.append(longest_path)"
            ]
        },
        {
            "cell_type": "code",
            "execution_count": 13,
            "id": "632593b7",
            "metadata": {},
            "outputs": [],
            "source": [
                "def merge_sets(list_of_sets: list) -> list:\n",
                "    for i, set1 in enumerate(list_of_sets):\n",
                "        for j, set2 in enumerate(list_of_sets):\n",
                "            if i != j and len(set1.intersection(set2)) > 0:\n",
                "                set1.update(set2)\n",
                "    return list_of_sets"
            ]
        },
        {
            "cell_type": "code",
            "execution_count": 14,
            "id": "b52aebfd",
            "metadata": {},
            "outputs": [],
            "source": [
                "list_of_sets = [set(x) for x in longest_paths]\n",
                "merged_sets = merge_sets(list_of_sets)"
            ]
        },
        {
            "cell_type": "code",
            "execution_count": 15,
            "id": "7d2a99c8",
            "metadata": {},
            "outputs": [],
            "source": [
                "merged_sets_dict = {}\n",
                "for i in range(len(list_of_sets)):\n",
                "    merged_sets_dict[i] = list_of_sets[i]"
            ]
        },
        {
            "cell_type": "code",
            "execution_count": 16,
            "id": "202a0708",
            "metadata": {},
            "outputs": [
                {
                    "data": {
                        "text/html": [
                            "<div>\n",
                            "<style scoped>\n",
                            "    .dataframe tbody tr th:only-of-type {\n",
                            "        vertical-align: middle;\n",
                            "    }\n",
                            "\n",
                            "    .dataframe tbody tr th {\n",
                            "        vertical-align: top;\n",
                            "    }\n",
                            "\n",
                            "    .dataframe thead th {\n",
                            "        text-align: right;\n",
                            "    }\n",
                            "</style>\n",
                            "<table border=\"1\" class=\"dataframe\">\n",
                            "  <thead>\n",
                            "    <tr style=\"text-align: right;\">\n",
                            "      <th></th>\n",
                            "      <th>original_label</th>\n",
                            "      <th>slice</th>\n",
                            "      <th>centroid-0</th>\n",
                            "      <th>centroid-1</th>\n",
                            "      <th>bbox-0</th>\n",
                            "      <th>bbox-1</th>\n",
                            "      <th>bbox-2</th>\n",
                            "      <th>bbox-3</th>\n",
                            "      <th>unique_id</th>\n",
                            "    </tr>\n",
                            "  </thead>\n",
                            "  <tbody>\n",
                            "  </tbody>\n",
                            "</table>\n",
                            "</div>"
                        ],
                        "text/plain": [
                            "Empty DataFrame\n",
                            "Columns: [original_label, slice, centroid-0, centroid-1, bbox-0, bbox-1, bbox-2, bbox-3, unique_id]\n",
                            "Index: []"
                        ]
                    },
                    "execution_count": 16,
                    "metadata": {},
                    "output_type": "execute_result"
                }
            ],
            "source": [
                "coordinates_df.head()"
            ]
        },
        {
            "cell_type": "code",
            "execution_count": 17,
            "id": "79fd800d",
            "metadata": {},
            "outputs": [
                {
                    "data": {
                        "text/html": [
                            "<div>\n",
                            "<style scoped>\n",
                            "    .dataframe tbody tr th:only-of-type {\n",
                            "        vertical-align: middle;\n",
                            "    }\n",
                            "\n",
                            "    .dataframe tbody tr th {\n",
                            "        vertical-align: top;\n",
                            "    }\n",
                            "\n",
                            "    .dataframe thead th {\n",
                            "        text-align: right;\n",
                            "    }\n",
                            "</style>\n",
                            "<table border=\"1\" class=\"dataframe\">\n",
                            "  <thead>\n",
                            "    <tr style=\"text-align: right;\">\n",
                            "      <th></th>\n",
                            "      <th>original_label</th>\n",
                            "      <th>slice</th>\n",
                            "      <th>centroid-0</th>\n",
                            "      <th>centroid-1</th>\n",
                            "      <th>bbox-0</th>\n",
                            "      <th>bbox-1</th>\n",
                            "      <th>bbox-2</th>\n",
                            "      <th>bbox-3</th>\n",
                            "      <th>unique_id</th>\n",
                            "    </tr>\n",
                            "  </thead>\n",
                            "  <tbody>\n",
                            "  </tbody>\n",
                            "</table>\n",
                            "</div>"
                        ],
                        "text/plain": [
                            "Empty DataFrame\n",
                            "Columns: [original_label, slice, centroid-0, centroid-1, bbox-0, bbox-1, bbox-2, bbox-3, unique_id]\n",
                            "Index: []"
                        ]
                    },
                    "execution_count": 17,
                    "metadata": {},
                    "output_type": "execute_result"
                }
            ],
            "source": [
                "for row in coordinates_df.iterrows():\n",
                "    for num_set in merged_sets_dict:\n",
                "        if int(row[1][\"unique_id\"]) in merged_sets_dict[num_set]:\n",
                "            coordinates_df.at[row[0], \"label\"] = num_set\n",
                "# drop nan\n",
                "coordinates_df = coordinates_df.dropna()\n",
                "coordinates_df"
            ]
        },
        {
            "cell_type": "code",
            "execution_count": 18,
            "id": "f6a61264",
            "metadata": {},
            "outputs": [],
            "source": [
                "new_mask_image = np.zeros_like(image)\n",
                "# mask label reassignment\n",
                "for slice in range(image.shape[0]):\n",
                "    mask = image[slice, :, :]\n",
                "    tmp_df = coordinates_df[coordinates_df[\"slice\"] == slice]\n",
                "    for i in range(tmp_df.shape[0]):\n",
                "        mask[mask == tmp_df.iloc[i][\"original_label\"]] = tmp_df.iloc[i][\"label\"]\n",
                "\n",
                "    new_mask_image[slice, :, :] = mask\n",
                "# save the new image\n",
                "tifffile.imwrite(output_image_dir, new_mask_image)"
            ]
        },
        {
            "cell_type": "code",
            "execution_count": 19,
            "id": "0389bb63",
            "metadata": {},
            "outputs": [
                {
                    "data": {
                        "image/png": "[encoded data removed]",
                        "text/plain": [
                            "<Figure size 640x480 with 2 Axes>"
                        ]
                    },
                    "metadata": {},
                    "output_type": "display_data"
                },
                {
                    "data": {
                        "image/png": "[encoded data removed]",
                        "text/plain": [
                            "<Figure size 640x480 with 2 Axes>"
                        ]
                    },
                    "metadata": {},
                    "output_type": "display_data"
                },
                {
                    "data": {
                        "image/png": "[encoded data removed]",
                        "text/plain": [
                            "<Figure size 640x480 with 2 Axes>"
                        ]
                    },
                    "metadata": {},
                    "output_type": "display_data"
                },
                {
                    "data": {
                        "image/png": "[encoded data removed]",
                        "text/plain": [
                            "<Figure size 640x480 with 2 Axes>"
                        ]
                    },
                    "metadata": {},
                    "output_type": "display_data"
                },
                {
                    "data": {
                        "image/png": "[encoded data removed]",
                        "text/plain": [
                            "<Figure size 640x480 with 2 Axes>"
                        ]
                    },
                    "metadata": {},
                    "output_type": "display_data"
                },
                {
                    "data": {
                        "image/png": "[encoded data removed]",
                        "text/plain": [
                            "<Figure size 640x480 with 2 Axes>"
                        ]
                    },
                    "metadata": {},
                    "output_type": "display_data"
                },
                {
                    "data": {
                        "image/png": "[encoded data removed]",
                        "text/plain": [
                            "<Figure size 640x480 with 2 Axes>"
                        ]
                    },
                    "metadata": {},
                    "output_type": "display_data"
                }
            ],
            "source": [
                "if in_notebook:\n",
                "    for slice in range(new_mask_image.shape[0]):\n",
                "        plt.subplot(1, 2, 1)\n",
                "        plt.imshow(image[slice, :, :])\n",
                "        plt.title(f\"Original {slice}\")\n",
                "        plt.axis(\"off\")\n",
                "        plt.subplot(1, 2, 2)\n",
                "        plt.imshow(new_mask_image[slice, :, :])\n",
                "        plt.title(f\"New {slice}\")\n",
                "        plt.axis(\"off\")\n",
                "        plt.show()"
            ]
        }
    ],
    "metadata": {
        "kernelspec": {
            "display_name": "GFF_segmentation",
            "language": "python",
            "name": "python3"
        },
        "language_info": {
            "codemirror_mode": {
                "name": "ipython",
                "version": 3
            },
            "file_extension": ".py",
            "mimetype": "text/x-python",
            "name": "python",
            "nbconvert_exporter": "python",
            "pygments_lexer": "ipython3",
            "version": "3.11.12"
        },
        "papermill": {
            "default_parameters": {},
            "duration": 17.77613,
            "end_time": "2024-12-24T21:59:50.011767",
            "environment_variables": {},
            "exception": null,
            "input_path": "3.reconstruct_3D_masks.ipynb",
            "output_path": "3.reconstruct_3D_masks.ipynb",
            "parameters": {},
            "start_time": "2024-12-24T21:59:32.235637",
            "version": "2.6.0"
        }
    },
    "nbformat": 4,
    "nbformat_minor": 5
}
