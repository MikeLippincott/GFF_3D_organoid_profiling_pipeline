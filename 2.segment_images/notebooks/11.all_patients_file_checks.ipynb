{
 "cells": [
  {
   "cell_type": "code",
   "execution_count": null,
   "metadata": {},
   "outputs": [],
   "source": [
    "import argparse\n",
    "import pathlib\n",
    "import shutil\n",
    "import sys\n",
    "\n",
    "import numpy as np\n",
    "import pandas as pd\n",
    "import tqdm\n",
    "\n",
    "cwd = pathlib.Path.cwd()\n",
    "\n",
    "if (cwd / \".git\").is_dir():\n",
    "    root_dir = cwd\n",
    "else:\n",
    "    root_dir = None\n",
    "    for parent in cwd.parents:\n",
    "        if (parent / \".git\").is_dir():\n",
    "            root_dir = parent\n",
    "            break\n",
    "sys.path.append(str(root_dir / \"utils\"))\n",
    "from notebook_init_utils import bandicoot_check, init_notebook\n",
    "\n",
    "root_dir, in_notebook = init_notebook()\n",
    "\n",
    "image_base_dir = bandicoot_check(\n",
    "    pathlib.Path(\"/home/lippincm/mnt/bandicoot\").resolve(), root_dir\n",
    ")"
   ]
  },
  {
   "cell_type": "code",
   "execution_count": null,
   "metadata": {},
   "outputs": [],
   "source": [
    "patients_file = pathlib.Path(f\"{image_base_dir}/data/patient_IDs.txt\").resolve(\n",
    "    strict=True\n",
    ")\n",
    "patients = pd.read_csv(patients_file, header=None, names=[\"patientID\"])\n",
    "patients = patients[\"patientID\"].tolist()"
   ]
  },
  {
   "cell_type": "code",
   "execution_count": null,
   "metadata": {},
   "outputs": [
    {
     "name": "stderr",
     "output_type": "stream",
     "text": [
      "Processing patient NF0014: 100%|██████████| 101/101 [00:00<00:00, 11240.01it/s]\n",
      "Processing patient NF0016: 100%|██████████| 118/118 [00:00<00:00, 12363.00it/s]\n",
      "Processing patient NF0018: 100%|██████████| 152/152 [00:00<00:00, 9813.20it/s]\n",
      "Processing patient NF0021: 100%|██████████| 347/347 [00:00<00:00, 13462.43it/s]\n",
      "Processing patient NF0030: 100%|██████████| 207/207 [00:00<00:00, 13895.98it/s]\n",
      "Processing patient NF0040: 100%|██████████| 420/420 [00:00<00:00, 14425.81it/s]\n",
      "Processing patient SARCO219: 100%|██████████| 198/198 [00:00<00:00, 13766.86it/s]\n",
      "Processing patient SARCO361: 100%|██████████| 349/349 [00:00<00:00, 14166.52it/s]\n"
     ]
    }
   ],
   "source": [
    "for patient in patients:\n",
    "    # get the well fovs\n",
    "    well_fovs = pathlib.Path(f\"{image_base_dir}/data/{patient}/zstack_images\").glob(\"*\")\n",
    "    well_fovs = [well_fov.name for well_fov in well_fovs if well_fov.is_dir()]\n",
    "    for well_fov in tqdm.tqdm(well_fovs, desc=f\"Processing patient {patient}\"):\n",
    "        # set path to the processed data dir\n",
    "        zstack_dir = pathlib.Path(\n",
    "            f\"{image_base_dir}/data/{patient}/zstack_images/{well_fov}\"\n",
    "        ).resolve(strict=True)\n",
    "        # get the files in the segmentation data dir\n",
    "        zstack_files = list(zstack_dir.glob(\"*.tif\"))\n",
    "        # ensure that all files are equal size\n",
    "        zstack_files = [file.stat().st_size for file in zstack_files]\n",
    "        if len(set(zstack_files)) != 1:\n",
    "            print(f\"{patient} {well_fov} zstack images has files of different sizes.\")"
   ]
  }
 ],
 "metadata": {
  "kernelspec": {
   "display_name": "GFF_featurization",
   "language": "python",
   "name": "python3"
  },
  "language_info": {
   "codemirror_mode": {
    "name": "ipython",
    "version": 3
   },
   "file_extension": ".py",
   "mimetype": "text/x-python",
   "name": "python",
   "nbconvert_exporter": "python",
   "pygments_lexer": "ipython3",
   "version": "3.12.9"
  }
 },
 "nbformat": 4,
 "nbformat_minor": 2
}
