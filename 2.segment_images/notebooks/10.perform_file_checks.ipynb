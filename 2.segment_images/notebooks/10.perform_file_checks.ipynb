{
 "cells": [
  {
   "cell_type": "code",
   "execution_count": 1,
   "metadata": {},
   "outputs": [],
   "source": [
    "import argparse\n",
    "import pathlib\n",
    "import shutil\n",
    "import sys\n",
    "\n",
    "import numpy as np\n",
    "import tqdm\n",
    "\n",
    "try:\n",
    "    cfg = get_ipython().config\n",
    "    in_notebook = True\n",
    "except NameError:\n",
    "    in_notebook = False\n",
    "    # check if in a jupyter notebook\n",
    "try:\n",
    "    cfg = get_ipython().config\n",
    "    in_notebook = True\n",
    "except NameError:\n",
    "    in_notebook = False\n",
    "\n",
    "# Get the current working directory\n",
    "cwd = pathlib.Path.cwd()\n",
    "\n",
    "if (cwd / \".git\").is_dir():\n",
    "    root_dir = cwd\n",
    "\n",
    "else:\n",
    "    root_dir = None\n",
    "    for parent in cwd.parents:\n",
    "        if (parent / \".git\").is_dir():\n",
    "            root_dir = parent\n",
    "            break\n",
    "\n",
    "# Check if a Git root directory was found\n",
    "if root_dir is None:\n",
    "    raise FileNotFoundError(\"No Git root directory found.\")\n",
    "\n",
    "sys.path.append(str(pathlib.Path(f\"{root_dir}/utils\").resolve()))\n",
    "from file_checking import check_number_of_files"
   ]
  },
  {
   "cell_type": "code",
   "execution_count": null,
   "metadata": {},
   "outputs": [],
   "source": [
    "if not in_notebook:\n",
    "    argparser = argparse.ArgumentParser(\n",
    "        description=\"set up directories for the analysis of the data\"\n",
    "    )\n",
    "\n",
    "    argparser.add_argument(\n",
    "        \"--patient\",\n",
    "        type=str,\n",
    "        required=True,\n",
    "        help=\"patient name, e.g. 'P01'\",\n",
    "    )\n",
    "\n",
    "    args = argparser.parse_args()\n",
    "    patient = args.patient\n",
    "else:\n",
    "    patient = \"NF0014\""
   ]
  },
  {
   "cell_type": "code",
   "execution_count": null,
   "metadata": {},
   "outputs": [],
   "source": [
    "# set path to the processed data dir\n",
    "segmentation_data_dir = pathlib.Path(\n",
    "    f\"{root_dir}/data/{patient}/segmentation_masks/\"\n",
    ").resolve(strict=True)\n",
    "zstack_dir = pathlib.Path(f\"{root_dir}/data/{patient}/zstack_images/\").resolve(\n",
    "    strict=True\n",
    ")"
   ]
  },
  {
   "cell_type": "code",
   "execution_count": null,
   "metadata": {},
   "outputs": [
    {
     "name": "stdout",
     "output_type": "stream",
     "text": [
      "Checking segmentation data directories\n",
      "G2-2 expected 4 files, but found 1 files.\n",
      "E10-1 expected 4 files, but found 1 files.\n",
      "C11-1 expected 4 files, but found 3 files.\n",
      "Checking zstack directories\n",
      "G2-2 expected 9 files, but found 6 files.\n",
      "E10-1 expected 9 files, but found 6 files.\n",
      "C11-1 expected 9 files, but found 8 files.\n"
     ]
    }
   ],
   "source": [
    "# perform checks for each directory\n",
    "segmentation_data_dirs = list(segmentation_data_dir.glob(\"*\"))\n",
    "segmentation_data_dirs = [d for d in segmentation_data_dirs if d.is_dir()]\n",
    "zstack_dirs = list(zstack_dir.glob(\"*\"))\n",
    "zstack_dirs = [d for d in zstack_dirs if d.is_dir()]\n",
    "\n",
    "print(\"Checking segmentation data directories\")\n",
    "for dir in segmentation_data_dirs:\n",
    "    check_number_of_files(dir, 4)\n",
    "\n",
    "print(\"Checking zstack directories\")\n",
    "for dir in zstack_dirs:\n",
    "    check_number_of_files(dir, 9)"
   ]
  }
 ],
 "metadata": {
  "kernelspec": {
   "display_name": "gff_preprocessing_env",
   "language": "python",
   "name": "python3"
  },
  "language_info": {
   "codemirror_mode": {
    "name": "ipython",
    "version": 3
   },
   "file_extension": ".py",
   "mimetype": "text/x-python",
   "name": "python",
   "nbconvert_exporter": "python",
   "pygments_lexer": "ipython3",
   "version": "3.10.15"
  }
 },
 "nbformat": 4,
 "nbformat_minor": 2
}
