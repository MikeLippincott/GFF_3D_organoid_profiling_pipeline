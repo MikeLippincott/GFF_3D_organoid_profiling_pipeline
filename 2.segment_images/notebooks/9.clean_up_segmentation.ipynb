{
 "cells": [
  {
   "cell_type": "code",
   "execution_count": null,
   "metadata": {},
   "outputs": [],
   "source": [
    "import argparse\n",
    "import pathlib\n",
    "import shutil\n",
    "import sys\n",
    "\n",
    "import numpy as np\n",
    "import tqdm\n",
    "\n",
    "cwd = pathlib.Path.cwd()\n",
    "\n",
    "if (cwd / \".git\").is_dir():\n",
    "    root_dir = cwd\n",
    "else:\n",
    "    root_dir = None\n",
    "    for parent in cwd.parents:\n",
    "        if (parent / \".git\").is_dir():\n",
    "            root_dir = parent\n",
    "            break\n",
    "sys.path.append(str(root_dir / \"utils\"))\n",
    "from arg_parsing_utils import check_for_missing_args, parse_args\n",
    "from notebook_init_utils import bandicoot_check, init_notebook\n",
    "\n",
    "root_dir, in_notebook = init_notebook()\n",
    "\n",
    "image_base_dir = bandicoot_check(pathlib.Path(\"~/mnt/bandicoot\").resolve(), root_dir)\n",
    "\n",
    "sys.path.append(str(pathlib.Path(f\"{root_dir}/utils\").resolve()))\n",
    "from file_checking import check_number_of_files"
   ]
  },
  {
   "cell_type": "code",
   "execution_count": null,
   "metadata": {},
   "outputs": [],
   "source": [
    "if not in_notebook:\n",
    "    args = parse_args()\n",
    "    well_fov = args[\"well_fov\"]\n",
    "    patient = args[\"patient\"]\n",
    "    check_for_missing_args(\n",
    "        well_fov=well_fov,\n",
    "        patient=patient,\n",
    "    )\n",
    "else:\n",
    "    patient = \"NF0014_T1\"\n",
    "    well_fov = \"D2-1\""
   ]
  },
  {
   "cell_type": "code",
   "execution_count": null,
   "metadata": {},
   "outputs": [],
   "source": [
    "# set path to the processed data dir\n",
    "segmentation_data_dir = pathlib.Path(\n",
    "    f\"{image_base_dir}/data/{patient}/segmentation_masks/{well_fov}\"\n",
    ").resolve(strict=True)\n",
    "zstack_dir = pathlib.Path(\n",
    "    f\"{image_base_dir}/data/{patient}/zstack_images/{well_fov}\"\n",
    ").resolve(strict=True)"
   ]
  },
  {
   "cell_type": "code",
   "execution_count": 4,
   "metadata": {},
   "outputs": [],
   "source": [
    "# perform checks for each directory\n",
    "segmentation_data_files = list(segmentation_data_dir.glob(\"*\"))"
   ]
  },
  {
   "cell_type": "markdown",
   "metadata": {},
   "source": [
    "## Copy files from processed dir to cellprofiler images dir"
   ]
  },
  {
   "cell_type": "code",
   "execution_count": 5,
   "metadata": {},
   "outputs": [],
   "source": [
    "masks_names_to_keep_dict = {\n",
    "    \"cell_masks_watershed.tiff\": \"cell_masks.tiff\",\n",
    "    \"cytoplasm_mask.tiff\": \"cytoplasm_masks.tiff\",\n",
    "    \"nuclei_masks_reassigned.tiff\": \"nuclei_masks.tiff\",\n",
    "    \"organoid_masks_reconstructed.tiff\": \"organoid_masks.tiff\",\n",
    "}"
   ]
  },
  {
   "cell_type": "code",
   "execution_count": 6,
   "metadata": {},
   "outputs": [
    {
     "name": "stderr",
     "output_type": "stream",
     "text": [
      "100%|██████████| 4/4 [00:00<00:00, 67650.06it/s]"
     ]
    },
    {
     "name": "stdout",
     "output_type": "stream",
     "text": [
      "File organoid_masks.tiff already exists, skipping rename.\n",
      "File cell_masks.tiff already exists, skipping rename.\n",
      "File nuclei_masks.tiff already exists, skipping rename.\n",
      "File cytoplasm_masks.tiff already exists, skipping rename.\n"
     ]
    },
    {
     "name": "stderr",
     "output_type": "stream",
     "text": [
      "\n"
     ]
    }
   ],
   "source": [
    "# remove files that are not in the list of masks to keep\n",
    "for file in tqdm.tqdm(segmentation_data_files):\n",
    "    # check if the file is in the masks_names_to_keep_dict as a key or value\n",
    "    if (\n",
    "        file.name not in masks_names_to_keep_dict.keys()\n",
    "        and file.name not in masks_names_to_keep_dict.values()\n",
    "    ):\n",
    "        # if not, remove the file\n",
    "        file.unlink()\n",
    "        print(f\"Removed file: {file.name}\")\n",
    "    else:\n",
    "        # rename the file to the new name\n",
    "        if file.name in masks_names_to_keep_dict.keys():\n",
    "            new_name = masks_names_to_keep_dict[file.name]\n",
    "            new_file_path = segmentation_data_dir / new_name\n",
    "            if not new_file_path.exists():\n",
    "                file.rename(new_file_path)\n",
    "                print(f\"Renamed file: {file.name} to {new_name}\")\n",
    "            else:\n",
    "                print(f\"File {new_name} already exists, skipping rename.\")\n",
    "        else:\n",
    "            print(f\"File {file.name} already exists, skipping rename.\")"
   ]
  },
  {
   "cell_type": "code",
   "execution_count": 7,
   "metadata": {},
   "outputs": [],
   "source": [
    "# regrab the segmentation data files after renaming\n",
    "segmentation_data_files = list(segmentation_data_dir.glob(\"*\"))"
   ]
  },
  {
   "cell_type": "code",
   "execution_count": 8,
   "metadata": {},
   "outputs": [
    {
     "name": "stderr",
     "output_type": "stream",
     "text": [
      " 50%|█████     | 2/4 [00:00<00:00, 14.01it/s]"
     ]
    },
    {
     "name": "stdout",
     "output_type": "stream",
     "text": [
      "Copied file: ~/Documents/GFF_3D_organoid_profiling_pipeline/data/NF0030/segmentation_masks/D2-1/organoid_masks.tiff to ~/Documents/GFF_3D_organoid_profiling_pipeline/data/NF0030/zstack_images/D2-1/organoid_masks.tiff\n",
      "Copied file: ~/Documents/GFF_3D_organoid_profiling_pipeline/data/NF0030/segmentation_masks/D2-1/cell_masks.tiff to ~/Documents/GFF_3D_organoid_profiling_pipeline/data/NF0030/zstack_images/D2-1/cell_masks.tiff\n",
      "Copied file: ~/Documents/GFF_3D_organoid_profiling_pipeline/data/NF0030/segmentation_masks/D2-1/nuclei_masks.tiff to ~/Documents/GFF_3D_organoid_profiling_pipeline/data/NF0030/zstack_images/D2-1/nuclei_masks.tiff\n"
     ]
    },
    {
     "name": "stderr",
     "output_type": "stream",
     "text": [
      "100%|██████████| 4/4 [00:00<00:00, 13.34it/s]"
     ]
    },
    {
     "name": "stdout",
     "output_type": "stream",
     "text": [
      "Copied file: ~/Documents/GFF_3D_organoid_profiling_pipeline/data/NF0030/segmentation_masks/D2-1/cytoplasm_masks.tiff to ~/Documents/GFF_3D_organoid_profiling_pipeline/data/NF0030/zstack_images/D2-1/cytoplasm_masks.tiff\n"
     ]
    },
    {
     "name": "stderr",
     "output_type": "stream",
     "text": [
      "\n"
     ]
    }
   ],
   "source": [
    "# copy the masks to the zstack directory\n",
    "for file in tqdm.tqdm(segmentation_data_files):\n",
    "    for original_name, new_name in masks_names_to_keep_dict.items():\n",
    "        if file.name == new_name:\n",
    "            destination = zstack_dir / new_name\n",
    "            shutil.copy(file, destination)\n",
    "            print(f\"Copied file: {file} to {destination}\")"
   ]
  }
 ],
 "metadata": {
  "kernelspec": {
   "display_name": "GFF_featurization",
   "language": "python",
   "name": "python3"
  },
  "language_info": {
   "codemirror_mode": {
    "name": "ipython",
    "version": 3
   },
   "file_extension": ".py",
   "mimetype": "text/x-python",
   "name": "python",
   "nbconvert_exporter": "python",
   "pygments_lexer": "ipython3",
   "version": "3.12.9"
  }
 },
 "nbformat": 4,
 "nbformat_minor": 2
}
