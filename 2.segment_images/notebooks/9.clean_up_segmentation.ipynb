{
    "cells": [
        {
            "cell_type": "code",
            "execution_count": 1,
            "metadata": {},
            "outputs": [],
            "source": [
                "import argparse\n",
                "import pathlib\n",
                "import shutil\n",
                "import sys\n",
                "\n",
                "import numpy as np\n",
                "import tqdm\n",
                "\n",
                "try:\n",
                "    cfg = get_ipython().config\n",
                "    in_notebook = True\n",
                "except NameError:\n",
                "    in_notebook = False\n",
                "    # check if in a jupyter notebook\n",
                "try:\n",
                "    cfg = get_ipython().config\n",
                "    in_notebook = True\n",
                "except NameError:\n",
                "    in_notebook = False\n",
                "\n",
                "# Get the current working directory\n",
                "cwd = pathlib.Path.cwd()\n",
                "\n",
                "if (cwd / \".git\").is_dir():\n",
                "    root_dir = cwd\n",
                "\n",
                "else:\n",
                "    root_dir = None\n",
                "    for parent in cwd.parents:\n",
                "        if (parent / \".git\").is_dir():\n",
                "            root_dir = parent\n",
                "            break\n",
                "\n",
                "# Check if a Git root directory was found\n",
                "if root_dir is None:\n",
                "    raise FileNotFoundError(\"No Git root directory found.\")\n",
                "\n",
                "sys.path.append(str(pathlib.Path(f\"{root_dir}/utils\").resolve()))\n",
                "from file_checking import check_number_of_files"
            ]
        },
        {
            "cell_type": "code",
            "execution_count": 2,
            "metadata": {},
            "outputs": [],
            "source": [
                "if not in_notebook:\n",
                "    argparser = argparse.ArgumentParser(\n",
                "        description=\"set up directories for the analysis of the data\"\n",
                "    )\n",
                "\n",
                "    argparser.add_argument(\n",
                "        \"--patient\",\n",
                "        type=str,\n",
                "        required=True,\n",
                "        help=\"patient name, e.g. 'P01'\",\n",
                "    )\n",
                "    argparser.add_argument(\n",
                "        \"--well_fov\",\n",
                "        type=str,\n",
                "        help=\"Path to the input directory containing the tiff images\",\n",
                "    )\n",
                "\n",
                "    args = argparser.parse_args()\n",
                "    patient = args.patient\n",
                "    well_fov = args.well_fov\n",
                "else:\n",
                "    patient = \"NF0014\"\n",
                "    well_fov = \"C10-1\""
            ]
        },
        {
            "cell_type": "code",
            "execution_count": 3,
            "metadata": {},
            "outputs": [],
            "source": [
                "# set path to the processed data dir\n",
                "segmentation_data_dir = pathlib.Path(\n",
                "    f\"{root_dir}/data/{patient}/segmentation_masks/{well_fov}\"\n",
                ").resolve(strict=True)\n",
                "zstack_dir = pathlib.Path(\n",
                "    f\"{root_dir}/data/{patient}/zstack_images/{well_fov}\"\n",
                ").resolve(strict=True)"
            ]
        },
        {
            "cell_type": "code",
            "execution_count": 4,
            "metadata": {},
            "outputs": [
                {
                    "data": {
                        "text/plain": [
                            "[PosixPath('/home/lippincm/Documents/GFF_3D_organoid_profiling_pipeline/data/NF0014/segmentation_masks/C10-1/organoid_masks_reconstructed.tiff'),\n",
                            " PosixPath('/home/lippincm/Documents/GFF_3D_organoid_profiling_pipeline/data/NF0014/segmentation_masks/C10-1/nuclei_reconstruction_dict.npy'),\n",
                            " PosixPath('/home/lippincm/Documents/GFF_3D_organoid_profiling_pipeline/data/NF0014/segmentation_masks/C10-1/organoid_masks_reconstructed_corrected.tiff'),\n",
                            " PosixPath('/home/lippincm/Documents/GFF_3D_organoid_profiling_pipeline/data/NF0014/segmentation_masks/C10-1/nuclei_masks_reassigned.tiff'),\n",
                            " PosixPath('/home/lippincm/Documents/GFF_3D_organoid_profiling_pipeline/data/NF0014/segmentation_masks/C10-1/organoid_masks_decoupled.tiff'),\n",
                            " PosixPath('/home/lippincm/Documents/GFF_3D_organoid_profiling_pipeline/data/NF0014/segmentation_masks/C10-1/cytoplasm_mask.tiff'),\n",
                            " PosixPath('/home/lippincm/Documents/GFF_3D_organoid_profiling_pipeline/data/NF0014/segmentation_masks/C10-1/nuclei_masks_decoupled.tiff'),\n",
                            " PosixPath('/home/lippincm/Documents/GFF_3D_organoid_profiling_pipeline/data/NF0014/segmentation_masks/C10-1/cell_masks_corrected.tiff'),\n",
                            " PosixPath('/home/lippincm/Documents/GFF_3D_organoid_profiling_pipeline/data/NF0014/segmentation_masks/C10-1/cell_masks_watershed.tiff'),\n",
                            " PosixPath('/home/lippincm/Documents/GFF_3D_organoid_profiling_pipeline/data/NF0014/segmentation_masks/C10-1/organoid_reconstruction_dict.npy'),\n",
                            " PosixPath('/home/lippincm/Documents/GFF_3D_organoid_profiling_pipeline/data/NF0014/segmentation_masks/C10-1/nuclei_masks_reconstructed.tiff'),\n",
                            " PosixPath('/home/lippincm/Documents/GFF_3D_organoid_profiling_pipeline/data/NF0014/segmentation_masks/C10-1/nuclei_masks_reconstructed_corrected.tiff')]"
                        ]
                    },
                    "execution_count": 4,
                    "metadata": {},
                    "output_type": "execute_result"
                }
            ],
            "source": [
                "# perform checks for each directory\n",
                "segmentation_data_files = list(segmentation_data_dir.glob(\"*\"))\n",
                "segmentation_data_files"
            ]
        },
        {
            "cell_type": "markdown",
            "metadata": {},
            "source": [
                "## Copy files from processed dir to cellprofiler images dir"
            ]
        },
        {
            "cell_type": "code",
            "execution_count": 5,
            "metadata": {},
            "outputs": [],
            "source": [
                "masks_names_to_keep = [\n",
                "    \"cell_masks_watershed.tiff\",\n",
                "    \"cytoplasm_mask.tiff\",\n",
                "    \"nuclei_masks_reassigned.tiff\",\n",
                "    \"organoid_masks_reconstructed.tiff\",\n",
                "]"
            ]
        },
        {
            "cell_type": "code",
            "execution_count": 6,
            "metadata": {},
            "outputs": [
                {
                    "name": "stderr",
                    "output_type": "stream",
                    "text": [
                        "100%|\u2588\u2588\u2588\u2588\u2588\u2588\u2588\u2588\u2588\u2588| 12/12 [00:00<00:00, 3095.62it/s]"
                    ]
                },
                {
                    "name": "stdout",
                    "output_type": "stream",
                    "text": [
                        "Removed file: nuclei_reconstruction_dict.npy\n",
                        "Removed file: organoid_masks_reconstructed_corrected.tiff\n",
                        "Removed file: organoid_masks_decoupled.tiff\n",
                        "Removed file: nuclei_masks_decoupled.tiff\n",
                        "Removed file: cell_masks_corrected.tiff\n",
                        "Removed file: organoid_reconstruction_dict.npy\n",
                        "Removed file: nuclei_masks_reconstructed.tiff\n",
                        "Removed file: nuclei_masks_reconstructed_corrected.tiff\n"
                    ]
                },
                {
                    "name": "stderr",
                    "output_type": "stream",
                    "text": [
                        "\n"
                    ]
                }
            ],
            "source": [
                "# remove files that are not in the list of masks to keep\n",
                "for file in tqdm.tqdm(segmentation_data_files):\n",
                "    if file.name not in masks_names_to_keep:\n",
                "        file.unlink()\n",
                "        print(f\"Removed file: {file.name}\")"
            ]
        },
        {
            "cell_type": "code",
            "execution_count": 7,
            "metadata": {},
            "outputs": [
                {
                    "name": "stderr",
                    "output_type": "stream",
                    "text": [
                        "  8%|\u258a         | 1/12 [00:00<00:01,  8.45it/s]"
                    ]
                },
                {
                    "name": "stdout",
                    "output_type": "stream",
                    "text": [
                        "Copied file: organoid_masks_reconstructed.tiff to /home/lippincm/Documents/GFF_3D_organoid_profiling_pipeline/data/NF0014/zstack_images/C10-1/organoid_masks_reconstructed.tiff\n"
                    ]
                },
                {
                    "name": "stderr",
                    "output_type": "stream",
                    "text": [
                        " 33%|\u2588\u2588\u2588\u258e      | 4/12 [00:00<00:00, 18.73it/s]"
                    ]
                },
                {
                    "name": "stdout",
                    "output_type": "stream",
                    "text": [
                        "Copied file: nuclei_masks_reassigned.tiff to /home/lippincm/Documents/GFF_3D_organoid_profiling_pipeline/data/NF0014/zstack_images/C10-1/nuclei_masks_reassigned.tiff\n"
                    ]
                },
                {
                    "name": "stderr",
                    "output_type": "stream",
                    "text": [
                        " 50%|\u2588\u2588\u2588\u2588\u2588     | 6/12 [00:00<00:00, 18.03it/s]"
                    ]
                },
                {
                    "name": "stdout",
                    "output_type": "stream",
                    "text": [
                        "Copied file: cytoplasm_mask.tiff to /home/lippincm/Documents/GFF_3D_organoid_profiling_pipeline/data/NF0014/zstack_images/C10-1/cytoplasm_mask.tiff\n"
                    ]
                },
                {
                    "name": "stderr",
                    "output_type": "stream",
                    "text": [
                        "100%|\u2588\u2588\u2588\u2588\u2588\u2588\u2588\u2588\u2588\u2588| 12/12 [00:00<00:00, 26.43it/s]"
                    ]
                },
                {
                    "name": "stdout",
                    "output_type": "stream",
                    "text": [
                        "Copied file: cell_masks_watershed.tiff to /home/lippincm/Documents/GFF_3D_organoid_profiling_pipeline/data/NF0014/zstack_images/C10-1/cell_masks_watershed.tiff\n"
                    ]
                },
                {
                    "name": "stderr",
                    "output_type": "stream",
                    "text": [
                        "\n"
                    ]
                }
            ],
            "source": [
                "# copy the masks to the zstack directory\n",
                "for file in tqdm.tqdm(segmentation_data_files):\n",
                "    if file.name in masks_names_to_keep:\n",
                "        destination = zstack_dir / file.name\n",
                "        if not destination.exists():\n",
                "            shutil.copy(file, destination)\n",
                "            print(f\"Copied file: {file.name} to {destination}\")\n",
                "        else:\n",
                "            print(f\"File {file.name} already exists in {zstack_dir}, skipping copy.\")"
            ]
        }
    ],
    "metadata": {
        "kernelspec": {
            "display_name": "GFF_featurization",
            "language": "python",
            "name": "python3"
        },
        "language_info": {
            "codemirror_mode": {
                "name": "ipython",
                "version": 3
            },
            "file_extension": ".py",
            "mimetype": "text/x-python",
            "name": "python",
            "nbconvert_exporter": "python",
            "pygments_lexer": "ipython3",
            "version": "3.12.9"
        }
    },
    "nbformat": 4,
    "nbformat_minor": 2
}
