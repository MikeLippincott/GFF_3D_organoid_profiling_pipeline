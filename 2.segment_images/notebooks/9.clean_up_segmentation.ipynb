{
 "cells": [
  {
   "cell_type": "code",
   "execution_count": 1,
   "metadata": {},
   "outputs": [],
   "source": [
    "import argparse\n",
    "import os\n",
    "import pathlib\n",
    "import shutil\n",
    "import sys\n",
    "\n",
    "import numpy as np\n",
    "import tqdm\n",
    "\n",
    "cwd = pathlib.Path.cwd()\n",
    "\n",
    "if (cwd / \".git\").is_dir():\n",
    "    root_dir = cwd\n",
    "else:\n",
    "    root_dir = None\n",
    "    for parent in cwd.parents:\n",
    "        if (parent / \".git\").is_dir():\n",
    "            root_dir = parent\n",
    "            break\n",
    "sys.path.append(str(root_dir / \"utils\"))\n",
    "from arg_parsing_utils import check_for_missing_args, parse_args\n",
    "from file_reading import read_zstack_image\n",
    "from notebook_init_utils import bandicoot_check, init_notebook\n",
    "\n",
    "root_dir, in_notebook = init_notebook()\n",
    "\n",
    "image_base_dir = bandicoot_check(\n",
    "    pathlib.Path(os.path.expanduser(\"~/mnt/bandicoot\")).resolve(), root_dir\n",
    ")\n",
    "\n",
    "sys.path.append(str(pathlib.Path(f\"{root_dir}/utils\").resolve()))\n",
    "from file_checking import check_number_of_files"
   ]
  },
  {
   "cell_type": "code",
   "execution_count": 2,
   "metadata": {},
   "outputs": [],
   "source": [
    "if not in_notebook:\n",
    "    args = parse_args()\n",
    "    well_fov = args[\"well_fov\"]\n",
    "    patient = args[\"patient\"]\n",
    "    check_for_missing_args(\n",
    "        well_fov=well_fov,\n",
    "        patient=patient,\n",
    "    )\n",
    "else:\n",
    "    patient = \"NF0014_T1\"\n",
    "    well_fov = \"C4-2\""
   ]
  },
  {
   "cell_type": "code",
   "execution_count": 3,
   "metadata": {},
   "outputs": [],
   "source": [
    "# set path to the processed data dir\n",
    "segmentation_data_dir = pathlib.Path(\n",
    "    f\"{image_base_dir}/data/{patient}/deconvolved_segmentation_masks/{well_fov}\"\n",
    "    # f\"{image_base_dir}/data/{patient}/segmentation_masks/{well_fov}\"\n",
    ").resolve(strict=True)\n",
    "zstack_dir = pathlib.Path(\n",
    "    f\"{image_base_dir}/data/{patient}/deconvolved_images/{well_fov}\"\n",
    "    # f\"{image_base_dir}/data/{patient}/zstack_images/{well_fov}\"\n",
    ").resolve(strict=True)"
   ]
  },
  {
   "cell_type": "code",
   "execution_count": 4,
   "metadata": {},
   "outputs": [],
   "source": [
    "# perform checks for each directory\n",
    "segmentation_data_files = list(segmentation_data_dir.glob(\"*\"))"
   ]
  },
  {
   "cell_type": "markdown",
   "metadata": {},
   "source": [
    "## Copy files from processed dir to cellprofiler images dir"
   ]
  },
  {
   "cell_type": "code",
   "execution_count": 5,
   "metadata": {},
   "outputs": [],
   "source": [
    "masks_names_to_keep_dict = {\n",
    "    \"cell_masks_watershed.tiff\": \"cell_masks.tiff\",\n",
    "    \"cytoplasm_mask.tiff\": \"cytoplasm_masks.tiff\",\n",
    "    \"nuclei_masks_reassigned.tiff\": \"nuclei_masks.tiff\",\n",
    "    \"organoid_masks_reconstructed.tiff\": \"organoid_masks.tiff\",\n",
    "}"
   ]
  },
  {
   "cell_type": "code",
   "execution_count": 6,
   "metadata": {},
   "outputs": [
    {
     "name": "stderr",
     "output_type": "stream",
     "text": [
      "  0%|          | 0/13 [00:00<?, ?it/s]"
     ]
    },
    {
     "name": "stdout",
     "output_type": "stream",
     "text": [
      "File organoid_masks.tiff already exists, skipping rename.\n"
     ]
    },
    {
     "name": "stderr",
     "output_type": "stream",
     "text": [
      " 31%|███       | 4/13 [00:00<00:00, 34.51it/s]"
     ]
    },
    {
     "name": "stdout",
     "output_type": "stream",
     "text": [
      "Removed file: nuclei_masks_reconstructed_corrected.tiff\n",
      "Removed file: nuclei_masks_reconstructed.tiff\n",
      "Removed file: organoid_masks_reconstructed_corrected.tiff\n",
      "Removed file: organoid_reconstruction_dict.npy\n",
      "Removed file: cell_masks_corrected.tiff\n"
     ]
    },
    {
     "name": "stderr",
     "output_type": "stream",
     "text": [
      " 69%|██████▉   | 9/13 [00:00<00:00, 42.78it/s]"
     ]
    },
    {
     "name": "stdout",
     "output_type": "stream",
     "text": [
      "Removed file: nuclei_masks_decoupled.tiff\n",
      "File organoid_masks.tiff already exists, skipping rename.\n",
      "Renamed file: cytoplasm_mask.tiff to cytoplasm_masks.tiff\n"
     ]
    },
    {
     "name": "stderr",
     "output_type": "stream",
     "text": [
      "100%|██████████| 13/13 [00:00<00:00, 43.38it/s]"
     ]
    },
    {
     "name": "stdout",
     "output_type": "stream",
     "text": [
      "Removed file: nuclei_reconstruction_dict.npy\n",
      "Renamed file: nuclei_masks_reassigned.tiff to nuclei_masks.tiff\n",
      "Renamed file: cell_masks_watershed.tiff to cell_masks.tiff\n",
      "Removed file: organoid_masks_decoupled.tiff\n"
     ]
    },
    {
     "name": "stderr",
     "output_type": "stream",
     "text": [
      "\n"
     ]
    }
   ],
   "source": [
    "# remove files that are not in the list of masks to keep\n",
    "for file in tqdm.tqdm(segmentation_data_files):\n",
    "    # check if the file is in the masks_names_to_keep_dict as a key or value\n",
    "    if (\n",
    "        file.name not in masks_names_to_keep_dict.keys()\n",
    "        and file.name not in masks_names_to_keep_dict.values()\n",
    "    ):\n",
    "        # if not, remove the file\n",
    "        file.unlink()\n",
    "        print(f\"Removed file: {file.name}\")\n",
    "    else:\n",
    "        # rename the file to the new name\n",
    "        if file.name in masks_names_to_keep_dict.keys():\n",
    "            new_name = masks_names_to_keep_dict[file.name]\n",
    "            new_file_path = segmentation_data_dir / new_name\n",
    "            if not new_file_path.exists():\n",
    "                file.rename(new_file_path)\n",
    "                print(f\"Renamed file: {file.name} to {new_name}\")\n",
    "            else:\n",
    "                print(f\"File {new_name} already exists, skipping rename.\")\n",
    "        else:\n",
    "            print(f\"File {file.name} already exists, skipping rename.\")"
   ]
  },
  {
   "cell_type": "code",
   "execution_count": 7,
   "metadata": {},
   "outputs": [],
   "source": [
    "# regrab the segmentation data files after renaming\n",
    "segmentation_data_files = list(segmentation_data_dir.glob(\"*\"))"
   ]
  },
  {
   "cell_type": "code",
   "execution_count": 8,
   "metadata": {},
   "outputs": [
    {
     "name": "stderr",
     "output_type": "stream",
     "text": [
      " 40%|████      | 2/5 [00:02<00:04,  1.36s/it]"
     ]
    },
    {
     "name": "stdout",
     "output_type": "stream",
     "text": [
      "Copied file: /home/lippincm/mnt/bandicoot/NF1_organoid_data/data/NF0014_T1/deconvolved_segmentation_masks/C4-2/nuclei_masks.tiff to /home/lippincm/mnt/bandicoot/NF1_organoid_data/data/NF0014_T1/deconvolved_images/C4-2/nuclei_masks.tiff\n"
     ]
    },
    {
     "name": "stderr",
     "output_type": "stream",
     "text": [
      " 60%|██████    | 3/5 [00:05<00:03,  1.93s/it]"
     ]
    },
    {
     "name": "stdout",
     "output_type": "stream",
     "text": [
      "Copied file: /home/lippincm/mnt/bandicoot/NF1_organoid_data/data/NF0014_T1/deconvolved_segmentation_masks/C4-2/organoid_masks.tiff to /home/lippincm/mnt/bandicoot/NF1_organoid_data/data/NF0014_T1/deconvolved_images/C4-2/organoid_masks.tiff\n"
     ]
    },
    {
     "name": "stderr",
     "output_type": "stream",
     "text": [
      " 80%|████████  | 4/5 [00:06<00:01,  1.72s/it]"
     ]
    },
    {
     "name": "stdout",
     "output_type": "stream",
     "text": [
      "Copied file: /home/lippincm/mnt/bandicoot/NF1_organoid_data/data/NF0014_T1/deconvolved_segmentation_masks/C4-2/cell_masks.tiff to /home/lippincm/mnt/bandicoot/NF1_organoid_data/data/NF0014_T1/deconvolved_images/C4-2/cell_masks.tiff\n"
     ]
    },
    {
     "name": "stderr",
     "output_type": "stream",
     "text": [
      "100%|██████████| 5/5 [00:09<00:00,  1.91s/it]"
     ]
    },
    {
     "name": "stdout",
     "output_type": "stream",
     "text": [
      "Copied file: /home/lippincm/mnt/bandicoot/NF1_organoid_data/data/NF0014_T1/deconvolved_segmentation_masks/C4-2/cytoplasm_masks.tiff to /home/lippincm/mnt/bandicoot/NF1_organoid_data/data/NF0014_T1/deconvolved_images/C4-2/cytoplasm_masks.tiff\n"
     ]
    },
    {
     "name": "stderr",
     "output_type": "stream",
     "text": [
      "\n"
     ]
    }
   ],
   "source": [
    "# copy the masks to the zstack directory\n",
    "for file in tqdm.tqdm(segmentation_data_files):\n",
    "    for original_name, new_name in masks_names_to_keep_dict.items():\n",
    "        if file.name == new_name:\n",
    "            destination = zstack_dir / new_name\n",
    "            shutil.copyfile(file, destination)\n",
    "            print(f\"Copied file: {file} to {destination}\")"
   ]
  }
 ],
 "metadata": {
  "kernelspec": {
   "display_name": "GFF_featurization",
   "language": "python",
   "name": "python3"
  },
  "language_info": {
   "codemirror_mode": {
    "name": "ipython",
    "version": 3
   },
   "file_extension": ".py",
   "mimetype": "text/x-python",
   "name": "python",
   "nbconvert_exporter": "python",
   "pygments_lexer": "ipython3",
   "version": "3.12.9"
  }
 },
 "nbformat": 4,
 "nbformat_minor": 2
}
