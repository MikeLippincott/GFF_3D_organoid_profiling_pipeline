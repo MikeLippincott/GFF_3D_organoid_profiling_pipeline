{
    "cells": [
        {
            "cell_type": "code",
            "execution_count": 11,
            "metadata": {},
            "outputs": [],
            "source": [
                "import argparse\n",
                "import pathlib\n",
                "import shutil\n",
                "import sys\n",
                "\n",
                "import numpy as np\n",
                "import tqdm\n",
                "\n",
                "sys.path.append(str(pathlib.Path(\"../../utils\").resolve()))\n",
                "from file_checking import check_number_of_files\n",
                "\n",
                "try:\n",
                "    cfg = get_ipython().config\n",
                "    in_notebook = True\n",
                "except NameError:\n",
                "    in_notebook = False"
            ]
        },
        {
            "cell_type": "code",
            "execution_count": 12,
            "metadata": {},
            "outputs": [],
            "source": [
                "if not in_notebook:\n",
                "    argparser = argparse.ArgumentParser(\n",
                "        description=\"set up directories for the analysis of the data\"\n",
                "    )\n",
                "\n",
                "    argparser.add_argument(\n",
                "        \"--patient\",\n",
                "        type=str,\n",
                "        required=True,\n",
                "        help=\"patient name, e.g. 'P01'\",\n",
                "    )\n",
                "\n",
                "    argparser.add_argument(\n",
                "        \"--overwrite\",\n",
                "        action=\"store_true\",\n",
                "        help=\"overwrite existing directories\",\n",
                "    )\n",
                "\n",
                "    args = argparser.parse_args()\n",
                "    patient = args.patient\n",
                "else:\n",
                "    patient = \"NF0014\"\n",
                "    overwrite = False"
            ]
        },
        {
            "cell_type": "code",
            "execution_count": 13,
            "metadata": {},
            "outputs": [],
            "source": [
                "# set path to the processed data dir\n",
                "processed_data_dir = pathlib.Path(f\"../../data/{patient}/processed_data\").resolve(\n",
                "    strict=True\n",
                ")\n",
                "zstack_dir = pathlib.Path(f\"../../data/{patient}/zstack_images/\").resolve(strict=True)\n",
                "cellprofiler_dir = pathlib.Path(f\"../../data/{patient}/cellprofiler\").resolve()\n",
                "if overwrite:\n",
                "    if cellprofiler_dir.exists():\n",
                "        shutil.rmtree(cellprofiler_dir)\n",
                "    cellprofiler_dir.mkdir(parents=True, exist_ok=True)"
            ]
        },
        {
            "cell_type": "code",
            "execution_count": 14,
            "metadata": {},
            "outputs": [],
            "source": [
                "# perform checks for each directory\n",
                "processed_data_dir_directories = list(processed_data_dir.glob(\"*\"))\n",
                "cellprofiler_dir_directories = list(cellprofiler_dir.glob(\"*\"))"
            ]
        },
        {
            "cell_type": "markdown",
            "metadata": {},
            "source": [
                "## Copy the normalized images to the cellprofiler images dir"
            ]
        },
        {
            "cell_type": "code",
            "execution_count": 15,
            "metadata": {},
            "outputs": [
                {
                    "name": "stderr",
                    "output_type": "stream",
                    "text": [
                        "100%|\u2588\u2588\u2588\u2588\u2588\u2588\u2588\u2588\u2588\u2588| 104/104 [00:00<00:00, 172.14it/s]\n"
                    ]
                }
            ],
            "source": [
                "# get the list of dirs in the normalized_data_dir\n",
                "norm_dirs = [x for x in zstack_dir.iterdir() if x.is_dir()]\n",
                "# copy each dir and files to cellprofiler_dir\n",
                "for norm_dir in tqdm.tqdm(norm_dirs):\n",
                "    dest_dir = pathlib.Path(cellprofiler_dir, norm_dir.name)\n",
                "    if dest_dir.exists() and overwrite:\n",
                "        shutil.rmtree(dest_dir)\n",
                "        shutil.copytree(norm_dir, dest_dir)\n",
                "    elif not dest_dir.exists():\n",
                "        shutil.copytree(norm_dir, dest_dir)\n",
                "    else:\n",
                "        pass"
            ]
        },
        {
            "cell_type": "markdown",
            "metadata": {},
            "source": [
                "## Copy files from processed dir to cellprofiler images dir"
            ]
        },
        {
            "cell_type": "code",
            "execution_count": 16,
            "metadata": {},
            "outputs": [],
            "source": [
                "masks_names_to_copy_over = [\n",
                "    \"cell_masks_watershed.tiff\",\n",
                "    \"cytoplasm_mask.tiff\",\n",
                "    \"nuclei_masks_reassigned.tiff\",\n",
                "    \"organoid_masks_reconstructed.tiff\",\n",
                "]"
            ]
        },
        {
            "cell_type": "code",
            "execution_count": 17,
            "metadata": {},
            "outputs": [
                {
                    "name": "stderr",
                    "output_type": "stream",
                    "text": [
                        "100%|\u2588\u2588\u2588\u2588\u2588\u2588\u2588\u2588\u2588\u2588| 104/104 [00:00<00:00, 412.52it/s]\n"
                    ]
                }
            ],
            "source": [
                "# get a list of dirs in processed_data\n",
                "dirs = [x for x in processed_data_dir.iterdir() if x.is_dir()]\n",
                "file_extensions = {\".tif\", \".tiff\"}\n",
                "# get a list of files in each dir\n",
                "for well_dir in tqdm.tqdm(dirs):\n",
                "    files = [x for x in well_dir.iterdir() if x.is_file()]\n",
                "    for file in files:\n",
                "        if file.suffix in file_extensions:\n",
                "            for mask_name in masks_names_to_copy_over:\n",
                "                # check if the file is one of the masks\n",
                "                if mask_name in file.name:\n",
                "                    # copy the mask to the cellprofiler_dir\n",
                "                    new_file_dir = pathlib.Path(\n",
                "                        cellprofiler_dir, well_dir.name, file.name\n",
                "                    )\n",
                "                    if new_file_dir.exists() and overwrite:\n",
                "                        shutil.copy(file, new_file_dir)\n",
                "                    elif not new_file_dir.exists():\n",
                "                        shutil.copy(file, new_file_dir)"
            ]
        },
        {
            "cell_type": "code",
            "execution_count": 18,
            "metadata": {},
            "outputs": [],
            "source": [
                "jobs_to_rerun_path = pathlib.Path(\"../rerun_jobs.txt\").resolve()\n",
                "if jobs_to_rerun_path.exists():\n",
                "    jobs_to_rerun_path.unlink()"
            ]
        },
        {
            "cell_type": "code",
            "execution_count": 19,
            "metadata": {},
            "outputs": [
                {
                    "name": "stderr",
                    "output_type": "stream",
                    "text": [
                        "100%|\u2588\u2588\u2588\u2588\u2588\u2588\u2588\u2588\u2588\u2588| 104/104 [00:00<00:00, 19040.05it/s]\n"
                    ]
                }
            ],
            "source": [
                "dirs_in_cellprofiler_dir = [x for x in cellprofiler_dir.iterdir() if x.is_dir()]\n",
                "dirs_in_cellprofiler_dir = sorted(dirs_in_cellprofiler_dir)\n",
                "for dir in tqdm.tqdm(dirs_in_cellprofiler_dir):\n",
                "    if not check_number_of_files(dir, 9):  # 5 raw images, 4 masks\n",
                "        pass\n",
                "        with open(jobs_to_rerun_path, \"a\") as f:\n",
                "            f.write(f\"{patient}_{dir.name}\\n\")"
            ]
        },
        {
            "cell_type": "code",
            "execution_count": 20,
            "metadata": {},
            "outputs": [],
            "source": [
                "# move an example to the example dir\n",
                "example_dir = pathlib.Path(\"../animations/gif/C4-2\").resolve()\n",
                "if example_dir.exists():\n",
                "    final_example_dir = pathlib.Path(\n",
                "        \"../examples/segmentation_output/C4-2/gifs\"\n",
                "    ).resolve()\n",
                "    if final_example_dir.exists():\n",
                "        shutil.rmtree(final_example_dir)\n",
                "    shutil.copytree(example_dir, final_example_dir)"
            ]
        }
    ],
    "metadata": {
        "kernelspec": {
            "display_name": "GFF_featurization",
            "language": "python",
            "name": "python3"
        },
        "language_info": {
            "codemirror_mode": {
                "name": "ipython",
                "version": 3
            },
            "file_extension": ".py",
            "mimetype": "text/x-python",
            "name": "python",
            "nbconvert_exporter": "python",
            "pygments_lexer": "ipython3",
            "version": "3.12.9"
        }
    },
    "nbformat": 4,
    "nbformat_minor": 2
}
