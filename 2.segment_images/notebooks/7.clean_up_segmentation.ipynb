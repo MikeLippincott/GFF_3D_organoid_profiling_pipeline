{
    "cells": [
        {
            "cell_type": "code",
            "execution_count": 1,
            "metadata": {},
            "outputs": [],
            "source": [
                "import argparse\n",
                "import pathlib\n",
                "import shutil\n",
                "import sys\n",
                "\n",
                "import numpy as np\n",
                "import tqdm\n",
                "\n",
                "sys.path.append(str(pathlib.Path(\"../../utils\").resolve()))\n",
                "from file_checking import check_number_of_files\n",
                "\n",
                "try:\n",
                "    cfg = get_ipython().config\n",
                "    in_notebook = True\n",
                "except NameError:\n",
                "    in_notebook = False"
            ]
        },
        {
            "cell_type": "code",
            "execution_count": 2,
            "metadata": {},
            "outputs": [],
            "source": [
                "if not in_notebook:\n",
                "    argparser = argparse.ArgumentParser(\n",
                "        description=\"set up directories for the analysis of the data\"\n",
                "    )\n",
                "\n",
                "    argparser.add_argument(\n",
                "        \"--patient\",\n",
                "        type=str,\n",
                "        required=True,\n",
                "        help=\"patient name, e.g. 'P01'\",\n",
                "    )\n",
                "\n",
                "    args = argparser.parse_args()\n",
                "    patient = args.patient\n",
                "else:\n",
                "    patient = \"NF0014\"\n",
                "\n",
                "overwrite = True"
            ]
        },
        {
            "cell_type": "code",
            "execution_count": 3,
            "metadata": {},
            "outputs": [],
            "source": [
                "# set path to the processed data dir\n",
                "processed_data_dir = pathlib.Path(f\"../../data/{patient}/processed_data\").resolve(\n",
                "    strict=True\n",
                ")\n",
                "raw_input_dir = pathlib.Path(f\"../../data/{patient}/zstack_images\").resolve(strict=True)\n",
                "\n",
                "cellprofiler_dir = pathlib.Path(f\"../../data/{patient}/cellprofiler\").resolve()\n",
                "if cellprofiler_dir.exists():\n",
                "    shutil.rmtree(cellprofiler_dir)\n",
                "    cellprofiler_dir.mkdir(parents=True, exist_ok=True)\n",
                "else:\n",
                "    cellprofiler_dir.mkdir(parents=True, exist_ok=True)"
            ]
        },
        {
            "cell_type": "code",
            "execution_count": 4,
            "metadata": {},
            "outputs": [
                {
                    "name": "stdout",
                    "output_type": "stream",
                    "text": [
                        "\n",
                        "      #################################################################################\n",
                        "\n",
                        "      ## Checking the number of files in each subdirectory of:\n",
                        " \n",
                        "      ## /home/lippincm/Documents/GFF_3D_organoid_profiling_pipeline/data/NF0014/processed_data\n",
                        "\n",
                        "      #################################################################################\n",
                        "      \n",
                        "D5-1 expected 10 files, but found 7 files.\n",
                        "E11-1 expected 10 files, but found 9 files.\n",
                        "resliced_images expected 10 files, but found 0 files.\n",
                        "G2-2 expected 10 files, but found 9 files.\n",
                        "E10-2 expected 10 files, but found 9 files.\n",
                        "F6-2 expected 10 files, but found 9 files.\n",
                        "E5-1 expected 10 files, but found 7 files.\n",
                        "C7-1 expected 10 files, but found 11 files.\n",
                        "E10-1 expected 10 files, but found 5 files.\n",
                        "G7-2 expected 10 files, but found 9 files.\n",
                        "F11-2 expected 10 files, but found 9 files.\n",
                        "F2-2 expected 10 files, but found 9 files.\n",
                        "D3-1 expected 10 files, but found 9 files.\n",
                        "G11-2 expected 10 files, but found 9 files.\n",
                        "C2-1 expected 10 files, but found 8 files.\n",
                        "D2-2 expected 10 files, but found 11 files.\n",
                        "D10-1 expected 10 files, but found 9 files.\n",
                        "C10-1 expected 10 files, but found 11 files.\n",
                        "\n",
                        "      #################################################################################\n",
                        "\n",
                        "      ## Checking the number of files in each subdirectory of:\n",
                        " \n",
                        "      ## /home/lippincm/Documents/GFF_3D_organoid_profiling_pipeline/data/NF0014/zstack_images\n",
                        "\n",
                        "      #################################################################################\n",
                        "      \n"
                    ]
                }
            ],
            "source": [
                "# perform checks for each directory\n",
                "processed_data_dir_directories = list(processed_data_dir.glob(\"*\"))\n",
                "normalized_data_dir_directories = list(raw_input_dir.glob(\"*\"))\n",
                "cellprofiler_dir_directories = list(cellprofiler_dir.glob(\"*\"))\n",
                "\n",
                "print(\n",
                "    f\"\"\"\n",
                "      #################################################################################\\n\n",
                "      ## Checking the number of files in each subdirectory of:\\n \n",
                "      ## {processed_data_dir.absolute()}\\n\n",
                "      #################################################################################\n",
                "      \"\"\"\n",
                ")\n",
                "for file in processed_data_dir_directories:\n",
                "    check_number_of_files(file, 10)\n",
                "\n",
                "\n",
                "print(\n",
                "    f\"\"\"\n",
                "      #################################################################################\\n\n",
                "      ## Checking the number of files in each subdirectory of:\\n \n",
                "      ## {raw_input_dir.absolute()}\\n\n",
                "      #################################################################################\n",
                "      \"\"\"\n",
                ")\n",
                "for file in normalized_data_dir_directories:\n",
                "    check_number_of_files(file, 5)"
            ]
        },
        {
            "cell_type": "markdown",
            "metadata": {},
            "source": [
                "## Copy the normalized images to the cellprofiler images dir"
            ]
        },
        {
            "cell_type": "code",
            "execution_count": 5,
            "metadata": {},
            "outputs": [
                {
                    "name": "stderr",
                    "output_type": "stream",
                    "text": [
                        "100%|\u2588\u2588\u2588\u2588\u2588\u2588\u2588\u2588\u2588\u2588| 104/104 [01:37<00:00,  1.07it/s]\n"
                    ]
                }
            ],
            "source": [
                "# get the list of dirs in the normalized_data_dir\n",
                "norm_dirs = [x for x in raw_input_dir.iterdir() if x.is_dir()]\n",
                "# copy each dir and files to cellprofiler_dir\n",
                "for norm_dir in tqdm.tqdm(norm_dirs):\n",
                "    dest_dir = pathlib.Path(cellprofiler_dir, norm_dir.name)\n",
                "    if dest_dir.exists() and overwrite:\n",
                "        shutil.rmtree(dest_dir)\n",
                "        shutil.copytree(norm_dir, dest_dir)\n",
                "    elif not dest_dir.exists():\n",
                "        shutil.copytree(norm_dir, dest_dir)\n",
                "    else:\n",
                "        pass"
            ]
        },
        {
            "cell_type": "markdown",
            "metadata": {},
            "source": [
                "## Copy files from processed dir to cellprofiler images dir"
            ]
        },
        {
            "cell_type": "code",
            "execution_count": 6,
            "metadata": {},
            "outputs": [
                {
                    "name": "stderr",
                    "output_type": "stream",
                    "text": [
                        "100%|\u2588\u2588\u2588\u2588\u2588\u2588\u2588\u2588\u2588\u2588| 104/104 [01:23<00:00,  1.24it/s]\n"
                    ]
                }
            ],
            "source": [
                "# get a list of dirs in processed_data\n",
                "dirs = [x for x in processed_data_dir.iterdir() if x.is_dir()]\n",
                "file_extensions = {\".tif\", \".tiff\"}\n",
                "# get a list of files in each dir\n",
                "for well_dir in tqdm.tqdm(dirs):\n",
                "    files = [x for x in well_dir.iterdir() if x.is_file()]\n",
                "    for file in files:\n",
                "        if file.suffix in file_extensions:\n",
                "            # copy each of the raw files to the cellprofiler_dir for feature extraction\n",
                "            new_file_dir = pathlib.Path(\n",
                "                cellprofiler_dir, well_dir.name, file.stem + file.suffix\n",
                "            )\n",
                "            shutil.copy(file, new_file_dir)"
            ]
        },
        {
            "cell_type": "code",
            "execution_count": 7,
            "metadata": {},
            "outputs": [],
            "source": [
                "jobs_to_rerun_path = pathlib.Path(\"../rerun_jobs.txt\").resolve()\n",
                "if jobs_to_rerun_path.exists():\n",
                "    jobs_to_rerun_path.unlink()"
            ]
        },
        {
            "cell_type": "code",
            "execution_count": 8,
            "metadata": {},
            "outputs": [
                {
                    "name": "stderr",
                    "output_type": "stream",
                    "text": [
                        "100%|\u2588\u2588\u2588\u2588\u2588\u2588\u2588\u2588\u2588\u2588| 104/104 [00:00<00:00, 13873.41it/s]"
                    ]
                },
                {
                    "name": "stdout",
                    "output_type": "stream",
                    "text": [
                        "C10-1 expected 12 files, but found 13 files.\n",
                        "C2-1 expected 12 files, but found 10 files.\n",
                        "C7-1 expected 12 files, but found 13 files.\n",
                        "D10-1 expected 12 files, but found 11 files.\n",
                        "D2-2 expected 12 files, but found 13 files.\n",
                        "D3-1 expected 12 files, but found 11 files.\n",
                        "D5-1 expected 12 files, but found 10 files.\n",
                        "E10-1 expected 12 files, but found 8 files.\n",
                        "E10-2 expected 12 files, but found 11 files.\n",
                        "E11-1 expected 12 files, but found 11 files.\n",
                        "E5-1 expected 12 files, but found 10 files.\n",
                        "F11-2 expected 12 files, but found 11 files.\n",
                        "F2-2 expected 12 files, but found 11 files.\n",
                        "F3-1 expected 12 files, but found 5 files.\n",
                        "F6-2 expected 12 files, but found 11 files.\n",
                        "G11-2 expected 12 files, but found 11 files.\n",
                        "G2-2 expected 12 files, but found 11 files.\n",
                        "G7-2 expected 12 files, but found 11 files.\n"
                    ]
                },
                {
                    "name": "stderr",
                    "output_type": "stream",
                    "text": [
                        "\n"
                    ]
                }
            ],
            "source": [
                "dirs_in_cellprofiler_dir = [x for x in cellprofiler_dir.iterdir() if x.is_dir()]\n",
                "dirs_in_cellprofiler_dir = sorted(dirs_in_cellprofiler_dir)\n",
                "for dir in tqdm.tqdm(dirs_in_cellprofiler_dir):\n",
                "    if not check_number_of_files(dir, 12):\n",
                "        with open(jobs_to_rerun_path, \"a\") as f:\n",
                "            f.write(f\"{dir.name}\\n\")"
            ]
        },
        {
            "cell_type": "code",
            "execution_count": 9,
            "metadata": {},
            "outputs": [],
            "source": [
                "# move an example to the example dir\n",
                "example_dir = pathlib.Path(\"../animations/gif/C4-2\").resolve(strict=True)\n",
                "final_example_dir = pathlib.Path(\"../examples/segmentation_output/C4-2/gifs\").resolve()\n",
                "if final_example_dir.exists():\n",
                "    shutil.rmtree(final_example_dir)\n",
                "\n",
                "\n",
                "if example_dir.exists():\n",
                "    shutil.copytree(example_dir, final_example_dir)"
            ]
        }
    ],
    "metadata": {
        "kernelspec": {
            "display_name": "GFF_segmentation",
            "language": "python",
            "name": "python3"
        },
        "language_info": {
            "codemirror_mode": {
                "name": "ipython",
                "version": 3
            },
            "file_extension": ".py",
            "mimetype": "text/x-python",
            "name": "python",
            "nbconvert_exporter": "python",
            "pygments_lexer": "ipython3",
            "version": "3.11.11"
        }
    },
    "nbformat": 4,
    "nbformat_minor": 2
}
