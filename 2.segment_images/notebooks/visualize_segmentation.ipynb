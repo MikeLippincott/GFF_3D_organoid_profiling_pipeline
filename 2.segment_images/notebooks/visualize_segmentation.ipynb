{
 "cells": [
  {
   "cell_type": "markdown",
   "id": "e6d8095a",
   "metadata": {
    "papermill": {
     "duration": 0.001641,
     "end_time": "2024-12-24T21:59:32.896576",
     "exception": false,
     "start_time": "2024-12-24T21:59:32.894935",
     "status": "completed"
    },
    "tags": []
   },
   "source": [
    "## Imports"
   ]
  },
  {
   "cell_type": "code",
   "execution_count": null,
   "id": "36e79f2f",
   "metadata": {
    "execution": {
     "iopub.execute_input": "2024-12-24T21:59:32.900560Z",
     "iopub.status.busy": "2024-12-24T21:59:32.900397Z",
     "iopub.status.idle": "2024-12-24T21:59:35.986533Z",
     "shell.execute_reply": "2024-12-24T21:59:35.986131Z"
    },
    "papermill": {
     "duration": 3.089228,
     "end_time": "2024-12-24T21:59:35.987496",
     "exception": false,
     "start_time": "2024-12-24T21:59:32.898268",
     "status": "completed"
    },
    "tags": []
   },
   "outputs": [],
   "source": [
    "import argparse\n",
    "import pathlib\n",
    "import sys\n",
    "\n",
    "# import matplotlib.pyplot as plt\n",
    "import numpy as np\n",
    "import pandas as pd\n",
    "import skimage.io as io\n",
    "import tifffile\n",
    "from napari.utils import nbscreenshot\n",
    "from nviz.image import image_set_to_arrays\n",
    "from nviz.image_meta import extract_z_slice_number_from_filename, generate_ome_xml\n",
    "from nviz.view import view_ometiff_with_napari\n",
    "\n",
    "cwd = pathlib.Path.cwd()\n",
    "\n",
    "if (cwd / \".git\").is_dir():\n",
    "    root_dir = cwd\n",
    "else:\n",
    "    root_dir = None\n",
    "    for parent in cwd.parents:\n",
    "        if (parent / \".git\").is_dir():\n",
    "            root_dir = parent\n",
    "            break\n",
    "sys.path.append(str(root_dir / \"utils\"))\n",
    "from notebook_init_utils import bandicoot_check, init_notebook\n",
    "from segmentation_init_utils import parse_segmentation_args\n",
    "\n",
    "root_dir, in_notebook = init_notebook()\n",
    "\n",
    "image_base_dir = bandicoot_check(\n",
    "    pathlib.Path(\"/home/lippincm/mnt/bandicoot\").resolve(), root_dir\n",
    ")\n",
    "\n",
    "sys.path.append(f\"{root_dir}/utils\")\n",
    "from segmentation_decoupling import euclidian_2D_distance"
   ]
  },
  {
   "cell_type": "code",
   "execution_count": null,
   "id": "2b5c9c9b",
   "metadata": {
    "execution": {
     "iopub.execute_input": "2024-12-24T21:59:35.993897Z",
     "iopub.status.busy": "2024-12-24T21:59:35.993628Z",
     "iopub.status.idle": "2024-12-24T21:59:35.998696Z",
     "shell.execute_reply": "2024-12-24T21:59:35.998382Z"
    },
    "papermill": {
     "duration": 0.008793,
     "end_time": "2024-12-24T21:59:35.999282",
     "exception": false,
     "start_time": "2024-12-24T21:59:35.990489",
     "status": "completed"
    },
    "tags": []
   },
   "outputs": [],
   "source": [
    "if not in_notebook:\n",
    "    args = parse_segmentation_args()\n",
    "    well_fov = args[\"well_fov\"]\n",
    "    patient = args[\"patient\"]\n",
    "else:\n",
    "    print(\"Running in a notebook\")\n",
    "    patient = \"NF0014_T1\"\n",
    "    well_fov = \"C4-2\"\n",
    "\n",
    "image_dir = pathlib.Path(\n",
    "    f\"{image_base_dir}/data/{patient}/profiling_input_images/{well_fov}/\"\n",
    ").resolve(strict=True)"
   ]
  },
  {
   "cell_type": "code",
   "execution_count": null,
   "id": "a848a1e9",
   "metadata": {},
   "outputs": [],
   "source": [
    "label_dir = image_dir\n",
    "output_path = \"output.zarr\"\n",
    "channel_map = {\n",
    "    \"405\": \"Nuclei\",\n",
    "    \"488\": \"Endoplasmic Reticulum\",\n",
    "    \"555\": \"Actin, Golgi, and plasma membrane (AGP)\",\n",
    "    \"640\": \"Mitochondria\",\n",
    "    \"TRANS\": \"Brightfield\",\n",
    "}\n",
    "scaling_values = [1, 0.1, 0.1]"
   ]
  },
  {
   "cell_type": "code",
   "execution_count": null,
   "id": "72ee059a",
   "metadata": {},
   "outputs": [],
   "source": [
    "frame_zstacks = image_set_to_arrays(\n",
    "    image_dir,\n",
    "    label_dir,\n",
    "    channel_map=channel_map,\n",
    ")\n",
    "\n",
    "images_data = []\n",
    "labels_data = []\n",
    "channel_names = []\n",
    "label_names = []\n",
    "\n",
    "\n",
    "for channel, stack in frame_zstacks[\"images\"].items():\n",
    "    dim = len(stack.shape)\n",
    "    images_data.append(stack)\n",
    "    channel_names.append(channel)\n",
    "\n",
    "# Collect label data\n",
    "if label_dir:\n",
    "    for compartment_name, stack in frame_zstacks[\"labels\"].items():\n",
    "        if len(stack.shape) != dim:\n",
    "            if len(stack.shape) == 3:\n",
    "                stack = np.expand_dims(stack, axis=0)\n",
    "        labels_data.append(stack)\n",
    "        label_names.append(f\"{compartment_name} (labels)\")\n",
    "\n",
    "\n",
    "# Stack the images and labels along a new axis for channels\n",
    "images_data = np.stack(images_data, axis=0)\n",
    "if labels_data:\n",
    "    labels_data = np.stack(labels_data, axis=0)\n",
    "    combined_data = np.concatenate((images_data, labels_data), axis=0)\n",
    "    combined_channel_names = channel_names + label_names\n",
    "else:\n",
    "    combined_data = images_data\n",
    "    combined_channel_names = channel_names\n",
    "# Generate OME-XML metadata\n",
    "ome_metadata = {\n",
    "    \"SizeC\": combined_data.shape[0],\n",
    "    \"SizeZ\": combined_data.shape[1],\n",
    "    \"SizeY\": combined_data.shape[2],\n",
    "    \"SizeX\": combined_data.shape[3],\n",
    "    \"PhysicalSizeX\": scaling_values[2],\n",
    "    \"PhysicalSizeY\": scaling_values[1],\n",
    "    \"PhysicalSizeZ\": scaling_values[0],\n",
    "    # note: we use 7-bit ascii compatible characters below\n",
    "    # due to tifffile limitations\n",
    "    \"PhysicalSizeXUnit\": \"um\",\n",
    "    \"PhysicalSizeYUnit\": \"um\",\n",
    "    \"PhysicalSizeZUnit\": \"um\",\n",
    "    \"Channel\": [{\"Name\": name} for name in combined_channel_names],\n",
    "}\n",
    "ome_xml = generate_ome_xml(ome_metadata)\n",
    "import tifffile as tiff\n",
    "\n",
    "# Write the combined data to a single OME-TIFF\n",
    "with tiff.TiffWriter(output_path, bigtiff=True) as tif:\n",
    "    tif.write(combined_data, description=ome_xml, photometric=\"minisblack\")"
   ]
  },
  {
   "cell_type": "code",
   "execution_count": null,
   "id": "3e25d28a",
   "metadata": {},
   "outputs": [],
   "source": [
    "# import shutil\n",
    "# shutil.rmtree(output_path, ignore_errors=True)\n",
    "# nviz.image.tiff_to_ometiff(\n",
    "#     image_dir=image_dir,\n",
    "#     label_dir=label_dir,\n",
    "#     output_path=output_path,\n",
    "#     channel_map=channel_map,\n",
    "#     scaling_values=scaling_values,\n",
    "#     ignore=[],\n",
    "# )"
   ]
  },
  {
   "cell_type": "code",
   "execution_count": null,
   "id": "d00fec18",
   "metadata": {},
   "outputs": [],
   "source": [
    "viewer = view_ometiff_with_napari(\n",
    "    ometiff_path=output_path,\n",
    "    scaling_values=scaling_values,\n",
    "    headless=False,\n",
    ")"
   ]
  },
  {
   "cell_type": "code",
   "execution_count": null,
   "id": "59552e81",
   "metadata": {},
   "outputs": [],
   "source": [
    "# screenshot the napari viewer\n",
    "nbscreenshot(viewer)"
   ]
  }
 ],
 "metadata": {
  "kernelspec": {
   "display_name": "viz_env",
   "language": "python",
   "name": "python3"
  },
  "language_info": {
   "codemirror_mode": {
    "name": "ipython",
    "version": 3
   },
   "file_extension": ".py",
   "mimetype": "text/x-python",
   "name": "python",
   "nbconvert_exporter": "python",
   "pygments_lexer": "ipython3",
   "version": "3.11.11"
  },
  "papermill": {
   "default_parameters": {},
   "duration": 17.77613,
   "end_time": "2024-12-24T21:59:50.011767",
   "environment_variables": {},
   "exception": null,
   "input_path": "3.reconstruct_3D_masks.ipynb",
   "output_path": "3.reconstruct_3D_masks.ipynb",
   "parameters": {},
   "start_time": "2024-12-24T21:59:32.235637",
   "version": "2.6.0"
  }
 },
 "nbformat": 4,
 "nbformat_minor": 5
}
