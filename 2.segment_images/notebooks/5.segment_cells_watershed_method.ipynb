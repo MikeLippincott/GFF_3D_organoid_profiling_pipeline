{
    "cells": [
        {
            "cell_type": "code",
            "execution_count": 1,
            "metadata": {},
            "outputs": [
                {
                    "name": "stdout",
                    "output_type": "stream",
                    "text": [
                        "True\n"
                    ]
                }
            ],
            "source": [
                "import argparse\n",
                "import pathlib\n",
                "\n",
                "import matplotlib.pyplot as plt\n",
                "\n",
                "# Import dependencies\n",
                "import numpy as np\n",
                "import scipy\n",
                "import skimage\n",
                "import tifffile\n",
                "from skimage.filters import sobel\n",
                "\n",
                "# check if in a jupyter notebook\n",
                "try:\n",
                "    cfg = get_ipython().config\n",
                "    in_notebook = True\n",
                "except NameError:\n",
                "    in_notebook = False\n",
                "\n",
                "print(in_notebook)"
            ]
        },
        {
            "cell_type": "code",
            "execution_count": null,
            "metadata": {},
            "outputs": [
                {
                    "ename": "FileNotFoundError",
                    "evalue": "[Errno 2] No such file or directory: '../../data/NF0016/zstack_images'",
                    "output_type": "error",
                    "traceback": [
                        "\u001b[31m---------------------------------------------------------------------------\u001b[39m",
                        "\u001b[31mFileNotFoundError\u001b[39m                         Traceback (most recent call last)",
                        "\u001b[36mCell\u001b[39m\u001b[36m \u001b[39m\u001b[32mIn[2]\u001b[39m\u001b[32m, line 34\u001b[39m\n\u001b[32m     31\u001b[39m     patient = \u001b[33m\"\u001b[39m\u001b[33mNF0016\u001b[39m\u001b[33m\"\u001b[39m\n\u001b[32m     32\u001b[39m     clip_limit = \u001b[32m0.03\u001b[39m\n\u001b[32m---> \u001b[39m\u001b[32m34\u001b[39m input_dir = \u001b[43mpathlib\u001b[49m\u001b[43m.\u001b[49m\u001b[43mPath\u001b[49m\u001b[43m(\u001b[49m\u001b[33;43mf\u001b[39;49m\u001b[33;43m\"\u001b[39;49m\u001b[33;43m../../data/\u001b[39;49m\u001b[38;5;132;43;01m{\u001b[39;49;00m\u001b[43mpatient\u001b[49m\u001b[38;5;132;43;01m}\u001b[39;49;00m\u001b[33;43m/zstack_images/\u001b[39;49m\u001b[38;5;132;43;01m{\u001b[39;49;00m\u001b[43mwell_fov\u001b[49m\u001b[38;5;132;43;01m}\u001b[39;49;00m\u001b[33;43m\"\u001b[39;49m\u001b[43m)\u001b[49m\u001b[43m.\u001b[49m\u001b[43mresolve\u001b[49m\u001b[43m(\u001b[49m\n\u001b[32m     35\u001b[39m \u001b[43m    \u001b[49m\u001b[43mstrict\u001b[49m\u001b[43m=\u001b[49m\u001b[38;5;28;43;01mTrue\u001b[39;49;00m\n\u001b[32m     36\u001b[39m \u001b[43m)\u001b[49m\n\u001b[32m     38\u001b[39m mask_path = pathlib.Path(\u001b[33mf\u001b[39m\u001b[33m\"\u001b[39m\u001b[33m../../data/\u001b[39m\u001b[38;5;132;01m{\u001b[39;00mpatient\u001b[38;5;132;01m}\u001b[39;00m\u001b[33m/processed_data/\u001b[39m\u001b[38;5;132;01m{\u001b[39;00mwell_fov\u001b[38;5;132;01m}\u001b[39;00m\u001b[33m\"\u001b[39m).resolve()\n\u001b[32m     39\u001b[39m mask_output = mask_path / \u001b[33m\"\u001b[39m\u001b[33mcell_masks_watershed.tiff\u001b[39m\u001b[33m\"\u001b[39m\n",
                        "\u001b[36mFile \u001b[39m\u001b[32m~/miniforge3/envs/GFF_segmentation/lib/python3.11/pathlib.py:993\u001b[39m, in \u001b[36mPath.resolve\u001b[39m\u001b[34m(self, strict)\u001b[39m\n\u001b[32m    990\u001b[39m         \u001b[38;5;28;01mraise\u001b[39;00m \u001b[38;5;167;01mRuntimeError\u001b[39;00m(\u001b[33m\"\u001b[39m\u001b[33mSymlink loop from \u001b[39m\u001b[38;5;132;01m%r\u001b[39;00m\u001b[33m\"\u001b[39m % e.filename)\n\u001b[32m    992\u001b[39m \u001b[38;5;28;01mtry\u001b[39;00m:\n\u001b[32m--> \u001b[39m\u001b[32m993\u001b[39m     s = \u001b[43mos\u001b[49m\u001b[43m.\u001b[49m\u001b[43mpath\u001b[49m\u001b[43m.\u001b[49m\u001b[43mrealpath\u001b[49m\u001b[43m(\u001b[49m\u001b[38;5;28;43mself\u001b[39;49m\u001b[43m,\u001b[49m\u001b[43m \u001b[49m\u001b[43mstrict\u001b[49m\u001b[43m=\u001b[49m\u001b[43mstrict\u001b[49m\u001b[43m)\u001b[49m\n\u001b[32m    994\u001b[39m \u001b[38;5;28;01mexcept\u001b[39;00m \u001b[38;5;167;01mOSError\u001b[39;00m \u001b[38;5;28;01mas\u001b[39;00m e:\n\u001b[32m    995\u001b[39m     check_eloop(e)\n",
                        "\u001b[36mFile \u001b[39m\u001b[32m<frozen posixpath>:416\u001b[39m, in \u001b[36mrealpath\u001b[39m\u001b[34m(filename, strict)\u001b[39m\n",
                        "\u001b[36mFile \u001b[39m\u001b[32m<frozen posixpath>:451\u001b[39m, in \u001b[36m_joinrealpath\u001b[39m\u001b[34m(path, rest, strict, seen)\u001b[39m\n",
                        "\u001b[31mFileNotFoundError\u001b[39m: [Errno 2] No such file or directory: '../../data/NF0016/zstack_images'"
                    ]
                }
            ],
            "source": [
                "if not in_notebook:\n",
                "    # set up arg parser\n",
                "    parser = argparse.ArgumentParser(description=\"Segment the nuclei of a tiff image\")\n",
                "\n",
                "    parser.add_argument(\n",
                "        \"--patient\",\n",
                "        type=str,\n",
                "        help=\"Patient ID to use for the segmentation\",\n",
                "    )\n",
                "\n",
                "    parser.add_argument(\n",
                "        \"--well_fov\",\n",
                "        type=str,\n",
                "        help=\"Path to the input directory containing the tiff images\",\n",
                "    )\n",
                "\n",
                "    parser.add_argument(\n",
                "        \"--clip_limit\",\n",
                "        type=float,\n",
                "        default=0.01,\n",
                "        help=\"Clip limit for contrast limited adaptive histogram equalization\",\n",
                "    )\n",
                "\n",
                "    args = parser.parse_args()\n",
                "    clip_limit = args.clip_limit\n",
                "    well_fov = args.well_fov\n",
                "    patient = args.patient\n",
                "\n",
                "else:\n",
                "    well_fov = \"C5-2\"\n",
                "    patient = \"NF0014\"\n",
                "    clip_limit = 0.03\n",
                "\n",
                "input_dir = pathlib.Path(f\"../../data/{patient}/zstack_images/{well_fov}\").resolve(\n",
                "    strict=True\n",
                ")\n",
                "\n",
                "mask_path = pathlib.Path(f\"../../data/{patient}/processed_data/{well_fov}\").resolve()\n",
                "mask_output = mask_path / \"cell_masks_watershed.tiff\"\n",
                "mask_path.mkdir(exist_ok=True, parents=True)\n",
                "nuclei_mask = tifffile.imread(\n",
                "    pathlib.Path(\n",
                "        f\"../../data/{patient}/processed_data/{well_fov}/nuclei_masks_reconstructed_corrected.tiff\"\n",
                "    )\n",
                ")"
            ]
        },
        {
            "cell_type": "markdown",
            "metadata": {},
            "source": [
                "## Set up images, paths and functions"
            ]
        },
        {
            "cell_type": "code",
            "execution_count": null,
            "metadata": {},
            "outputs": [],
            "source": [
                "image_extensions = {\".tif\", \".tiff\"}\n",
                "files = sorted(input_dir.glob(\"*\"))\n",
                "files = [str(x) for x in files if x.suffix in image_extensions]"
            ]
        },
        {
            "cell_type": "code",
            "execution_count": null,
            "metadata": {},
            "outputs": [],
            "source": [
                "# find the cytoplasmic channels in the image set\n",
                "for f in files:\n",
                "    if \"555\" in f:\n",
                "        cyto2 = tifffile.imread(f)\n",
                "\n",
                "# pick which channels to use for cellpose\n",
                "cyto = skimage.exposure.equalize_adapthist(cyto2, clip_limit=clip_limit)"
            ]
        },
        {
            "cell_type": "code",
            "execution_count": null,
            "metadata": {},
            "outputs": [],
            "source": [
                "# gaussian filter to smooth the image\n",
                "cyto = skimage.filters.gaussian(cyto, sigma=1.0)"
            ]
        },
        {
            "cell_type": "code",
            "execution_count": null,
            "metadata": {},
            "outputs": [],
            "source": [
                "# scale the pixels to max 255\n",
                "nuclei_mask = (nuclei_mask / nuclei_mask.max() * 255).astype(np.uint8)"
            ]
        },
        {
            "cell_type": "code",
            "execution_count": null,
            "metadata": {},
            "outputs": [],
            "source": [
                "# generate the elevation map using the Sobel filter\n",
                "elevation_map = sobel(cyto)"
            ]
        },
        {
            "cell_type": "code",
            "execution_count": null,
            "metadata": {},
            "outputs": [],
            "source": [
                "# set up seeded watersheding where the nuclei masks are used as seeds\n",
                "# note: the cytoplasm is used as the signal for this.\n",
                "\n",
                "labels = skimage.segmentation.watershed(\n",
                "    image=elevation_map,\n",
                "    markers=nuclei_mask,\n",
                ")"
            ]
        },
        {
            "cell_type": "code",
            "execution_count": null,
            "metadata": {},
            "outputs": [],
            "source": [
                "# change the largest label (by area) to 0\n",
                "unique, counts = np.unique(labels, return_counts=True)\n",
                "largest_label = unique[np.argmax(counts)]\n",
                "labels[labels == largest_label] = 0"
            ]
        },
        {
            "cell_type": "code",
            "execution_count": null,
            "metadata": {},
            "outputs": [],
            "source": [
                "print(f\"There are {len(np.unique(nuclei_mask))} nuclei in the mask\")\n",
                "print(f\"There are {len(np.unique(labels))} cell masks in the watershed segmentation\")"
            ]
        },
        {
            "cell_type": "code",
            "execution_count": null,
            "metadata": {},
            "outputs": [],
            "source": [
                "# save the labels as a tiff file\n",
                "tifffile.imwrite(mask_output, labels)"
            ]
        },
        {
            "cell_type": "code",
            "execution_count": null,
            "metadata": {},
            "outputs": [],
            "source": [
                "if in_notebook:\n",
                "    for z in range(cyto.shape[0]):\n",
                "        plt.subplot(1, 3, 1)\n",
                "        plt.imshow(cyto[z, :, :], cmap=\"gray\")\n",
                "        plt.title(\"Cytoplasm\")\n",
                "        plt.axis(\"off\")\n",
                "        plt.subplot(1, 3, 2)\n",
                "        plt.imshow(nuclei_mask[z, :, :], cmap=\"gray\")\n",
                "        plt.title(\"Nuclei\")\n",
                "        plt.axis(\"off\")\n",
                "        plt.subplot(1, 3, 3)\n",
                "        plt.imshow(labels[z, :, :], cmap=\"gray\")\n",
                "        plt.title(\"Watershed\")\n",
                "        plt.axis(\"off\")\n",
                "        plt.show()"
            ]
        }
    ],
    "metadata": {
        "kernelspec": {
            "display_name": "GFF_segmentation",
            "language": "python",
            "name": "python3"
        },
        "language_info": {
            "codemirror_mode": {
                "name": "ipython",
                "version": 3
            },
            "file_extension": ".py",
            "mimetype": "text/x-python",
            "name": "python",
            "nbconvert_exporter": "python",
            "pygments_lexer": "ipython3",
            "version": "3.11.12"
        }
    },
    "nbformat": 4,
    "nbformat_minor": 2
}
