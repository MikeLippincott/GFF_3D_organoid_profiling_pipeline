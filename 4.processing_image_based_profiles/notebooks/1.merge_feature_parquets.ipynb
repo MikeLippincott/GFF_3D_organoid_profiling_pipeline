{
    "cells": [
        {
            "cell_type": "code",
            "execution_count": 1,
            "metadata": {},
            "outputs": [],
            "source": [
                "import argparse\n",
                "import os\n",
                "import pathlib\n",
                "import pprint\n",
                "import sqlite3\n",
                "from contextlib import closing\n",
                "from functools import reduce\n",
                "\n",
                "import duckdb\n",
                "import pandas as pd\n",
                "\n",
                "try:\n",
                "    cfg = get_ipython().config\n",
                "    in_notebook = True\n",
                "except NameError:\n",
                "    in_notebook = False"
            ]
        },
        {
            "cell_type": "code",
            "execution_count": 2,
            "metadata": {},
            "outputs": [
                {
                    "name": "stdout",
                    "output_type": "stream",
                    "text": [
                        "105 parquet files found\n"
                    ]
                }
            ],
            "source": [
                "if not in_notebook:\n",
                "    argparser = argparse.ArgumentParser()\n",
                "    argparser.add_argument(\n",
                "        \"--well_fov\",\n",
                "        type=str,\n",
                "        required=True,\n",
                "        help=\"Well and field of view to process, e.g. 'A01_1'\",\n",
                "    )\n",
                "    argparser.add_argument(\n",
                "        \"--patient\",\n",
                "        type=str,\n",
                "        required=True,\n",
                "        help=\"Patient ID to process, e.g. 'P01'\",\n",
                "    )\n",
                "    args = argparser.parse_args()\n",
                "    well_fov = args.well_fov\n",
                "    patient = args.patient\n",
                "else:\n",
                "    well_fov = \"C2-1\"\n",
                "    patient = \"NF0014\"\n",
                "\n",
                "\n",
                "result_path = pathlib.Path(\n",
                "    f\"../../data/{patient}/extracted_features/{well_fov}\"\n",
                ").resolve(strict=True)\n",
                "database_path = pathlib.Path(\n",
                "    f\"../../data/{patient}/converted_profiles/{well_fov}\"\n",
                ").resolve()\n",
                "database_path.mkdir(parents=True, exist_ok=True)\n",
                "# create the sqlite database\n",
                "sqlite_path = database_path / f\"{well_fov}.duckdb\"\n",
                "\n",
                "\n",
                "# get a list of all parquets in the directory recursively\n",
                "parquet_files = list(result_path.rglob(\"*.parquet\"))\n",
                "parquet_files.sort()\n",
                "print(len(parquet_files), \"parquet files found\")"
            ]
        },
        {
            "cell_type": "code",
            "execution_count": 3,
            "metadata": {},
            "outputs": [],
            "source": [
                "# create the nested dictionary to hold the feature types and compartments\n",
                "feature_types = [\n",
                "    \"AreaSize_Shape\",\n",
                "    \"Colocalization\",\n",
                "    \"Intensity\",\n",
                "    \"Granularity\",\n",
                "    \"Neighbor\",\n",
                "    \"Texture\",\n",
                "]\n",
                "compartments = [\"Organoid\", \"Nuclei\", \"Cell\", \"Cytoplasm\"]\n",
                "\n",
                "feature_types_dict = {cmp: {ft: [] for ft in feature_types} for cmp in compartments}\n",
                "# copy the feature types dictionary to another blank dictionary that will hold the parquet files\n",
                "\n",
                "merged_df_dict = {cmp: {ft: [] for ft in feature_types} for cmp in compartments}\n",
                "\n",
                "\n",
                "for file in parquet_files:\n",
                "    for compartment in feature_types_dict.keys():\n",
                "        for feature_type in feature_types_dict[compartment].keys():\n",
                "            if compartment in str(file) and feature_type in str(file):\n",
                "                feature_types_dict[compartment][feature_type].append(file)"
            ]
        },
        {
            "cell_type": "code",
            "execution_count": 4,
            "metadata": {},
            "outputs": [
                {
                    "name": "stdout",
                    "output_type": "stream",
                    "text": [
                        "Error reading [PosixPath('/home/lippincm/Documents/GFF_3D_organoid_profiling_pipeline/data/NF0014/extracted_features/C2-1/Colocalization_Organoid_AGP.BF_features.parquet'), PosixPath('/home/lippincm/Documents/GFF_3D_organoid_profiling_pipeline/data/NF0014/extracted_features/C2-1/Colocalization_Organoid_AGP.ER_features.parquet'), PosixPath('/home/lippincm/Documents/GFF_3D_organoid_profiling_pipeline/data/NF0014/extracted_features/C2-1/Colocalization_Organoid_AGP.Mito_features.parquet'), PosixPath('/home/lippincm/Documents/GFF_3D_organoid_profiling_pipeline/data/NF0014/extracted_features/C2-1/Colocalization_Organoid_DNA.AGP_features.parquet'), PosixPath('/home/lippincm/Documents/GFF_3D_organoid_profiling_pipeline/data/NF0014/extracted_features/C2-1/Colocalization_Organoid_DNA.BF_features.parquet'), PosixPath('/home/lippincm/Documents/GFF_3D_organoid_profiling_pipeline/data/NF0014/extracted_features/C2-1/Colocalization_Organoid_DNA.ER_features.parquet'), PosixPath('/home/lippincm/Documents/GFF_3D_organoid_profiling_pipeline/data/NF0014/extracted_features/C2-1/Colocalization_Organoid_DNA.Mito_features.parquet'), PosixPath('/home/lippincm/Documents/GFF_3D_organoid_profiling_pipeline/data/NF0014/extracted_features/C2-1/Colocalization_Organoid_ER.BF_features.parquet'), PosixPath('/home/lippincm/Documents/GFF_3D_organoid_profiling_pipeline/data/NF0014/extracted_features/C2-1/Colocalization_Organoid_ER.Mito_features.parquet'), PosixPath('/home/lippincm/Documents/GFF_3D_organoid_profiling_pipeline/data/NF0014/extracted_features/C2-1/Colocalization_Organoid_Mito.BF_features.parquet')]: Invalid Input Error: Failed to read Parquet file '/home/lippincm/Documents/GFF_3D_organoid_profiling_pipeline/data/NF0014/extracted_features/C2-1/Colocalization_Organoid_AGP.BF_features.parquet': Need at least one non-root column in the file\n",
                        "Error reading [PosixPath('/home/lippincm/Documents/GFF_3D_organoid_profiling_pipeline/data/NF0014/extracted_features/C2-1/Colocalization_Organoid_AGP.BF_features.parquet'), PosixPath('/home/lippincm/Documents/GFF_3D_organoid_profiling_pipeline/data/NF0014/extracted_features/C2-1/Colocalization_Organoid_AGP.ER_features.parquet'), PosixPath('/home/lippincm/Documents/GFF_3D_organoid_profiling_pipeline/data/NF0014/extracted_features/C2-1/Colocalization_Organoid_AGP.Mito_features.parquet'), PosixPath('/home/lippincm/Documents/GFF_3D_organoid_profiling_pipeline/data/NF0014/extracted_features/C2-1/Colocalization_Organoid_DNA.AGP_features.parquet'), PosixPath('/home/lippincm/Documents/GFF_3D_organoid_profiling_pipeline/data/NF0014/extracted_features/C2-1/Colocalization_Organoid_DNA.BF_features.parquet'), PosixPath('/home/lippincm/Documents/GFF_3D_organoid_profiling_pipeline/data/NF0014/extracted_features/C2-1/Colocalization_Organoid_DNA.ER_features.parquet'), PosixPath('/home/lippincm/Documents/GFF_3D_organoid_profiling_pipeline/data/NF0014/extracted_features/C2-1/Colocalization_Organoid_DNA.Mito_features.parquet'), PosixPath('/home/lippincm/Documents/GFF_3D_organoid_profiling_pipeline/data/NF0014/extracted_features/C2-1/Colocalization_Organoid_ER.BF_features.parquet'), PosixPath('/home/lippincm/Documents/GFF_3D_organoid_profiling_pipeline/data/NF0014/extracted_features/C2-1/Colocalization_Organoid_ER.Mito_features.parquet'), PosixPath('/home/lippincm/Documents/GFF_3D_organoid_profiling_pipeline/data/NF0014/extracted_features/C2-1/Colocalization_Organoid_Mito.BF_features.parquet')]: Invalid Input Error: Failed to read Parquet file '/home/lippincm/Documents/GFF_3D_organoid_profiling_pipeline/data/NF0014/extracted_features/C2-1/Colocalization_Organoid_AGP.ER_features.parquet': Need at least one non-root column in the file\n",
                        "Error reading [PosixPath('/home/lippincm/Documents/GFF_3D_organoid_profiling_pipeline/data/NF0014/extracted_features/C2-1/Colocalization_Organoid_AGP.BF_features.parquet'), PosixPath('/home/lippincm/Documents/GFF_3D_organoid_profiling_pipeline/data/NF0014/extracted_features/C2-1/Colocalization_Organoid_AGP.ER_features.parquet'), PosixPath('/home/lippincm/Documents/GFF_3D_organoid_profiling_pipeline/data/NF0014/extracted_features/C2-1/Colocalization_Organoid_AGP.Mito_features.parquet'), PosixPath('/home/lippincm/Documents/GFF_3D_organoid_profiling_pipeline/data/NF0014/extracted_features/C2-1/Colocalization_Organoid_DNA.AGP_features.parquet'), PosixPath('/home/lippincm/Documents/GFF_3D_organoid_profiling_pipeline/data/NF0014/extracted_features/C2-1/Colocalization_Organoid_DNA.BF_features.parquet'), PosixPath('/home/lippincm/Documents/GFF_3D_organoid_profiling_pipeline/data/NF0014/extracted_features/C2-1/Colocalization_Organoid_DNA.ER_features.parquet'), PosixPath('/home/lippincm/Documents/GFF_3D_organoid_profiling_pipeline/data/NF0014/extracted_features/C2-1/Colocalization_Organoid_DNA.Mito_features.parquet'), PosixPath('/home/lippincm/Documents/GFF_3D_organoid_profiling_pipeline/data/NF0014/extracted_features/C2-1/Colocalization_Organoid_ER.BF_features.parquet'), PosixPath('/home/lippincm/Documents/GFF_3D_organoid_profiling_pipeline/data/NF0014/extracted_features/C2-1/Colocalization_Organoid_ER.Mito_features.parquet'), PosixPath('/home/lippincm/Documents/GFF_3D_organoid_profiling_pipeline/data/NF0014/extracted_features/C2-1/Colocalization_Organoid_Mito.BF_features.parquet')]: Invalid Input Error: Failed to read Parquet file '/home/lippincm/Documents/GFF_3D_organoid_profiling_pipeline/data/NF0014/extracted_features/C2-1/Colocalization_Organoid_AGP.Mito_features.parquet': Need at least one non-root column in the file\n",
                        "Error reading [PosixPath('/home/lippincm/Documents/GFF_3D_organoid_profiling_pipeline/data/NF0014/extracted_features/C2-1/Colocalization_Organoid_AGP.BF_features.parquet'), PosixPath('/home/lippincm/Documents/GFF_3D_organoid_profiling_pipeline/data/NF0014/extracted_features/C2-1/Colocalization_Organoid_AGP.ER_features.parquet'), PosixPath('/home/lippincm/Documents/GFF_3D_organoid_profiling_pipeline/data/NF0014/extracted_features/C2-1/Colocalization_Organoid_AGP.Mito_features.parquet'), PosixPath('/home/lippincm/Documents/GFF_3D_organoid_profiling_pipeline/data/NF0014/extracted_features/C2-1/Colocalization_Organoid_DNA.AGP_features.parquet'), PosixPath('/home/lippincm/Documents/GFF_3D_organoid_profiling_pipeline/data/NF0014/extracted_features/C2-1/Colocalization_Organoid_DNA.BF_features.parquet'), PosixPath('/home/lippincm/Documents/GFF_3D_organoid_profiling_pipeline/data/NF0014/extracted_features/C2-1/Colocalization_Organoid_DNA.ER_features.parquet'), PosixPath('/home/lippincm/Documents/GFF_3D_organoid_profiling_pipeline/data/NF0014/extracted_features/C2-1/Colocalization_Organoid_DNA.Mito_features.parquet'), PosixPath('/home/lippincm/Documents/GFF_3D_organoid_profiling_pipeline/data/NF0014/extracted_features/C2-1/Colocalization_Organoid_ER.BF_features.parquet'), PosixPath('/home/lippincm/Documents/GFF_3D_organoid_profiling_pipeline/data/NF0014/extracted_features/C2-1/Colocalization_Organoid_ER.Mito_features.parquet'), PosixPath('/home/lippincm/Documents/GFF_3D_organoid_profiling_pipeline/data/NF0014/extracted_features/C2-1/Colocalization_Organoid_Mito.BF_features.parquet')]: Invalid Input Error: Failed to read Parquet file '/home/lippincm/Documents/GFF_3D_organoid_profiling_pipeline/data/NF0014/extracted_features/C2-1/Colocalization_Organoid_DNA.AGP_features.parquet': Need at least one non-root column in the file\n",
                        "Error reading [PosixPath('/home/lippincm/Documents/GFF_3D_organoid_profiling_pipeline/data/NF0014/extracted_features/C2-1/Colocalization_Organoid_AGP.BF_features.parquet'), PosixPath('/home/lippincm/Documents/GFF_3D_organoid_profiling_pipeline/data/NF0014/extracted_features/C2-1/Colocalization_Organoid_AGP.ER_features.parquet'), PosixPath('/home/lippincm/Documents/GFF_3D_organoid_profiling_pipeline/data/NF0014/extracted_features/C2-1/Colocalization_Organoid_AGP.Mito_features.parquet'), PosixPath('/home/lippincm/Documents/GFF_3D_organoid_profiling_pipeline/data/NF0014/extracted_features/C2-1/Colocalization_Organoid_DNA.AGP_features.parquet'), PosixPath('/home/lippincm/Documents/GFF_3D_organoid_profiling_pipeline/data/NF0014/extracted_features/C2-1/Colocalization_Organoid_DNA.BF_features.parquet'), PosixPath('/home/lippincm/Documents/GFF_3D_organoid_profiling_pipeline/data/NF0014/extracted_features/C2-1/Colocalization_Organoid_DNA.ER_features.parquet'), PosixPath('/home/lippincm/Documents/GFF_3D_organoid_profiling_pipeline/data/NF0014/extracted_features/C2-1/Colocalization_Organoid_DNA.Mito_features.parquet'), PosixPath('/home/lippincm/Documents/GFF_3D_organoid_profiling_pipeline/data/NF0014/extracted_features/C2-1/Colocalization_Organoid_ER.BF_features.parquet'), PosixPath('/home/lippincm/Documents/GFF_3D_organoid_profiling_pipeline/data/NF0014/extracted_features/C2-1/Colocalization_Organoid_ER.Mito_features.parquet'), PosixPath('/home/lippincm/Documents/GFF_3D_organoid_profiling_pipeline/data/NF0014/extracted_features/C2-1/Colocalization_Organoid_Mito.BF_features.parquet')]: Invalid Input Error: Failed to read Parquet file '/home/lippincm/Documents/GFF_3D_organoid_profiling_pipeline/data/NF0014/extracted_features/C2-1/Colocalization_Organoid_DNA.BF_features.parquet': Need at least one non-root column in the file\n",
                        "Error reading [PosixPath('/home/lippincm/Documents/GFF_3D_organoid_profiling_pipeline/data/NF0014/extracted_features/C2-1/Colocalization_Organoid_AGP.BF_features.parquet'), PosixPath('/home/lippincm/Documents/GFF_3D_organoid_profiling_pipeline/data/NF0014/extracted_features/C2-1/Colocalization_Organoid_AGP.ER_features.parquet'), PosixPath('/home/lippincm/Documents/GFF_3D_organoid_profiling_pipeline/data/NF0014/extracted_features/C2-1/Colocalization_Organoid_AGP.Mito_features.parquet'), PosixPath('/home/lippincm/Documents/GFF_3D_organoid_profiling_pipeline/data/NF0014/extracted_features/C2-1/Colocalization_Organoid_DNA.AGP_features.parquet'), PosixPath('/home/lippincm/Documents/GFF_3D_organoid_profiling_pipeline/data/NF0014/extracted_features/C2-1/Colocalization_Organoid_DNA.BF_features.parquet'), PosixPath('/home/lippincm/Documents/GFF_3D_organoid_profiling_pipeline/data/NF0014/extracted_features/C2-1/Colocalization_Organoid_DNA.ER_features.parquet'), PosixPath('/home/lippincm/Documents/GFF_3D_organoid_profiling_pipeline/data/NF0014/extracted_features/C2-1/Colocalization_Organoid_DNA.Mito_features.parquet'), PosixPath('/home/lippincm/Documents/GFF_3D_organoid_profiling_pipeline/data/NF0014/extracted_features/C2-1/Colocalization_Organoid_ER.BF_features.parquet'), PosixPath('/home/lippincm/Documents/GFF_3D_organoid_profiling_pipeline/data/NF0014/extracted_features/C2-1/Colocalization_Organoid_ER.Mito_features.parquet'), PosixPath('/home/lippincm/Documents/GFF_3D_organoid_profiling_pipeline/data/NF0014/extracted_features/C2-1/Colocalization_Organoid_Mito.BF_features.parquet')]: Invalid Input Error: Failed to read Parquet file '/home/lippincm/Documents/GFF_3D_organoid_profiling_pipeline/data/NF0014/extracted_features/C2-1/Colocalization_Organoid_DNA.ER_features.parquet': Need at least one non-root column in the file\n",
                        "Error reading [PosixPath('/home/lippincm/Documents/GFF_3D_organoid_profiling_pipeline/data/NF0014/extracted_features/C2-1/Colocalization_Organoid_AGP.BF_features.parquet'), PosixPath('/home/lippincm/Documents/GFF_3D_organoid_profiling_pipeline/data/NF0014/extracted_features/C2-1/Colocalization_Organoid_AGP.ER_features.parquet'), PosixPath('/home/lippincm/Documents/GFF_3D_organoid_profiling_pipeline/data/NF0014/extracted_features/C2-1/Colocalization_Organoid_AGP.Mito_features.parquet'), PosixPath('/home/lippincm/Documents/GFF_3D_organoid_profiling_pipeline/data/NF0014/extracted_features/C2-1/Colocalization_Organoid_DNA.AGP_features.parquet'), PosixPath('/home/lippincm/Documents/GFF_3D_organoid_profiling_pipeline/data/NF0014/extracted_features/C2-1/Colocalization_Organoid_DNA.BF_features.parquet'), PosixPath('/home/lippincm/Documents/GFF_3D_organoid_profiling_pipeline/data/NF0014/extracted_features/C2-1/Colocalization_Organoid_DNA.ER_features.parquet'), PosixPath('/home/lippincm/Documents/GFF_3D_organoid_profiling_pipeline/data/NF0014/extracted_features/C2-1/Colocalization_Organoid_DNA.Mito_features.parquet'), PosixPath('/home/lippincm/Documents/GFF_3D_organoid_profiling_pipeline/data/NF0014/extracted_features/C2-1/Colocalization_Organoid_ER.BF_features.parquet'), PosixPath('/home/lippincm/Documents/GFF_3D_organoid_profiling_pipeline/data/NF0014/extracted_features/C2-1/Colocalization_Organoid_ER.Mito_features.parquet'), PosixPath('/home/lippincm/Documents/GFF_3D_organoid_profiling_pipeline/data/NF0014/extracted_features/C2-1/Colocalization_Organoid_Mito.BF_features.parquet')]: Invalid Input Error: Failed to read Parquet file '/home/lippincm/Documents/GFF_3D_organoid_profiling_pipeline/data/NF0014/extracted_features/C2-1/Colocalization_Organoid_DNA.Mito_features.parquet': Need at least one non-root column in the file\n",
                        "Error reading [PosixPath('/home/lippincm/Documents/GFF_3D_organoid_profiling_pipeline/data/NF0014/extracted_features/C2-1/Colocalization_Organoid_AGP.BF_features.parquet'), PosixPath('/home/lippincm/Documents/GFF_3D_organoid_profiling_pipeline/data/NF0014/extracted_features/C2-1/Colocalization_Organoid_AGP.ER_features.parquet'), PosixPath('/home/lippincm/Documents/GFF_3D_organoid_profiling_pipeline/data/NF0014/extracted_features/C2-1/Colocalization_Organoid_AGP.Mito_features.parquet'), PosixPath('/home/lippincm/Documents/GFF_3D_organoid_profiling_pipeline/data/NF0014/extracted_features/C2-1/Colocalization_Organoid_DNA.AGP_features.parquet'), PosixPath('/home/lippincm/Documents/GFF_3D_organoid_profiling_pipeline/data/NF0014/extracted_features/C2-1/Colocalization_Organoid_DNA.BF_features.parquet'), PosixPath('/home/lippincm/Documents/GFF_3D_organoid_profiling_pipeline/data/NF0014/extracted_features/C2-1/Colocalization_Organoid_DNA.ER_features.parquet'), PosixPath('/home/lippincm/Documents/GFF_3D_organoid_profiling_pipeline/data/NF0014/extracted_features/C2-1/Colocalization_Organoid_DNA.Mito_features.parquet'), PosixPath('/home/lippincm/Documents/GFF_3D_organoid_profiling_pipeline/data/NF0014/extracted_features/C2-1/Colocalization_Organoid_ER.BF_features.parquet'), PosixPath('/home/lippincm/Documents/GFF_3D_organoid_profiling_pipeline/data/NF0014/extracted_features/C2-1/Colocalization_Organoid_ER.Mito_features.parquet'), PosixPath('/home/lippincm/Documents/GFF_3D_organoid_profiling_pipeline/data/NF0014/extracted_features/C2-1/Colocalization_Organoid_Mito.BF_features.parquet')]: Invalid Input Error: Failed to read Parquet file '/home/lippincm/Documents/GFF_3D_organoid_profiling_pipeline/data/NF0014/extracted_features/C2-1/Colocalization_Organoid_ER.BF_features.parquet': Need at least one non-root column in the file\n",
                        "Error reading [PosixPath('/home/lippincm/Documents/GFF_3D_organoid_profiling_pipeline/data/NF0014/extracted_features/C2-1/Colocalization_Organoid_AGP.BF_features.parquet'), PosixPath('/home/lippincm/Documents/GFF_3D_organoid_profiling_pipeline/data/NF0014/extracted_features/C2-1/Colocalization_Organoid_AGP.ER_features.parquet'), PosixPath('/home/lippincm/Documents/GFF_3D_organoid_profiling_pipeline/data/NF0014/extracted_features/C2-1/Colocalization_Organoid_AGP.Mito_features.parquet'), PosixPath('/home/lippincm/Documents/GFF_3D_organoid_profiling_pipeline/data/NF0014/extracted_features/C2-1/Colocalization_Organoid_DNA.AGP_features.parquet'), PosixPath('/home/lippincm/Documents/GFF_3D_organoid_profiling_pipeline/data/NF0014/extracted_features/C2-1/Colocalization_Organoid_DNA.BF_features.parquet'), PosixPath('/home/lippincm/Documents/GFF_3D_organoid_profiling_pipeline/data/NF0014/extracted_features/C2-1/Colocalization_Organoid_DNA.ER_features.parquet'), PosixPath('/home/lippincm/Documents/GFF_3D_organoid_profiling_pipeline/data/NF0014/extracted_features/C2-1/Colocalization_Organoid_DNA.Mito_features.parquet'), PosixPath('/home/lippincm/Documents/GFF_3D_organoid_profiling_pipeline/data/NF0014/extracted_features/C2-1/Colocalization_Organoid_ER.BF_features.parquet'), PosixPath('/home/lippincm/Documents/GFF_3D_organoid_profiling_pipeline/data/NF0014/extracted_features/C2-1/Colocalization_Organoid_ER.Mito_features.parquet'), PosixPath('/home/lippincm/Documents/GFF_3D_organoid_profiling_pipeline/data/NF0014/extracted_features/C2-1/Colocalization_Organoid_Mito.BF_features.parquet')]: Invalid Input Error: Failed to read Parquet file '/home/lippincm/Documents/GFF_3D_organoid_profiling_pipeline/data/NF0014/extracted_features/C2-1/Colocalization_Organoid_ER.Mito_features.parquet': Need at least one non-root column in the file\n",
                        "Error reading [PosixPath('/home/lippincm/Documents/GFF_3D_organoid_profiling_pipeline/data/NF0014/extracted_features/C2-1/Colocalization_Organoid_AGP.BF_features.parquet'), PosixPath('/home/lippincm/Documents/GFF_3D_organoid_profiling_pipeline/data/NF0014/extracted_features/C2-1/Colocalization_Organoid_AGP.ER_features.parquet'), PosixPath('/home/lippincm/Documents/GFF_3D_organoid_profiling_pipeline/data/NF0014/extracted_features/C2-1/Colocalization_Organoid_AGP.Mito_features.parquet'), PosixPath('/home/lippincm/Documents/GFF_3D_organoid_profiling_pipeline/data/NF0014/extracted_features/C2-1/Colocalization_Organoid_DNA.AGP_features.parquet'), PosixPath('/home/lippincm/Documents/GFF_3D_organoid_profiling_pipeline/data/NF0014/extracted_features/C2-1/Colocalization_Organoid_DNA.BF_features.parquet'), PosixPath('/home/lippincm/Documents/GFF_3D_organoid_profiling_pipeline/data/NF0014/extracted_features/C2-1/Colocalization_Organoid_DNA.ER_features.parquet'), PosixPath('/home/lippincm/Documents/GFF_3D_organoid_profiling_pipeline/data/NF0014/extracted_features/C2-1/Colocalization_Organoid_DNA.Mito_features.parquet'), PosixPath('/home/lippincm/Documents/GFF_3D_organoid_profiling_pipeline/data/NF0014/extracted_features/C2-1/Colocalization_Organoid_ER.BF_features.parquet'), PosixPath('/home/lippincm/Documents/GFF_3D_organoid_profiling_pipeline/data/NF0014/extracted_features/C2-1/Colocalization_Organoid_ER.Mito_features.parquet'), PosixPath('/home/lippincm/Documents/GFF_3D_organoid_profiling_pipeline/data/NF0014/extracted_features/C2-1/Colocalization_Organoid_Mito.BF_features.parquet')]: Invalid Input Error: Failed to read Parquet file '/home/lippincm/Documents/GFF_3D_organoid_profiling_pipeline/data/NF0014/extracted_features/C2-1/Colocalization_Organoid_Mito.BF_features.parquet': Need at least one non-root column in the file\n"
                    ]
                }
            ],
            "source": [
                "for compartment in feature_types_dict.keys():\n",
                "    for feature_type in feature_types_dict[compartment].keys():\n",
                "        if len(feature_types_dict[compartment][feature_type]) > 0:\n",
                "            for file in feature_types_dict[compartment][feature_type]:\n",
                "                # check if the file exists\n",
                "                if not file.exists():\n",
                "                    if (\n",
                "                        \"neighbor\" in file.name.lower()\n",
                "                        and \"nuclei\" not in file.name.lower()\n",
                "                    ):\n",
                "                        print(f\"File {file} does not exist\")\n",
                "                        continue\n",
                "                # check if the file is a parquet file\n",
                "                if not file.name.endswith(\".parquet\"):\n",
                "                    print(f\"File {file} is not a parquet file\")\n",
                "                    continue\n",
                "                # read the parquet files\n",
                "                try:\n",
                "                    df = duckdb.read_parquet(str(file)).to_df()\n",
                "                except Exception as e:\n",
                "                    print(\n",
                "                        f\"Error reading {feature_types_dict[compartment][feature_type]}: {e}\"\n",
                "                    )\n",
                "\n",
                "                # add the dataframe to the dictionary\n",
                "                merged_df_dict[compartment][feature_type].append(df)\n",
                "        else:\n",
                "            if (\n",
                "                \"neighbor\" in feature_type.lower()\n",
                "                and \"nuclei\" not in compartment.lower()\n",
                "            ):\n",
                "                merged_df_dict[compartment][feature_type].append(pd.DataFrame())\n",
                "            else:\n",
                "                print(\n",
                "                    f\"No files found for {compartment} {feature_type}. Please check the directory.\"\n",
                "                )\n",
                "                merged_df_dict[compartment][feature_type].append(pd.DataFrame())\n",
                "                for channel_df in merged_df_dict[compartment][feature_type]:\n",
                "                    if channel_df.empty:\n",
                "                        continue\n",
                "                    # check if the dataframe has the required columns\n",
                "                    if (\n",
                "                        \"object_id\" not in channel_df.columns\n",
                "                        or \"image_set\" not in channel_df.columns\n",
                "                    ):\n",
                "                        print(\n",
                "                            f\"Dataframe {channel_df} does not have the required columns\"\n",
                "                        )\n",
                "                        continue\n",
                "                    # check if the dataframe is empty\n",
                "                    if channel_df.empty:\n",
                "                        continue"
            ]
        },
        {
            "cell_type": "code",
            "execution_count": 5,
            "metadata": {},
            "outputs": [],
            "source": [
                "feature_types = [\n",
                "    \"AreaSize_Shape\",\n",
                "    \"Colocalization\",\n",
                "    \"Intensity\",\n",
                "    \"Granularity\",\n",
                "    \"Neighbor\",\n",
                "    \"Texture\",\n",
                "]\n",
                "compartments = [\"Organoid\", \"Nuclei\", \"Cell\", \"Cytoplasm\"]\n",
                "\n",
                "final_df_dict = {\n",
                "    cmp: {ft: pd.DataFrame() for ft in feature_types} for cmp in compartments\n",
                "}"
            ]
        },
        {
            "cell_type": "code",
            "execution_count": 6,
            "metadata": {},
            "outputs": [],
            "source": [
                "for compartment in merged_df_dict.keys():\n",
                "    for feature_type in merged_df_dict[compartment].keys():\n",
                "        for df in merged_df_dict[compartment][feature_type]:\n",
                "            if df.empty:\n",
                "                continue\n",
                "            df.drop(columns=[\"__index_level_0__\"], inplace=True, errors=\"ignore\")\n",
                "            # if \"Texture\" not in feature_type:\n",
                "            final_df_dict[compartment][feature_type] = reduce(\n",
                "                lambda left, right: pd.merge(\n",
                "                    left, right, how=\"left\", on=[\"object_id\", \"image_set\"]\n",
                "                ),\n",
                "                merged_df_dict[compartment][feature_type],\n",
                "            )"
            ]
        },
        {
            "cell_type": "code",
            "execution_count": 7,
            "metadata": {},
            "outputs": [],
            "source": [
                "merged_df = pd.DataFrame(\n",
                "    {\n",
                "        \"object_id\": [],\n",
                "        \"image_set\": [],\n",
                "    }\n",
                ")"
            ]
        },
        {
            "cell_type": "code",
            "execution_count": 8,
            "metadata": {},
            "outputs": [],
            "source": [
                "compartment_merged_dict = {\n",
                "    \"Organoid\": pd.DataFrame(),\n",
                "    \"Cell\": pd.DataFrame(),\n",
                "    \"Nuclei\": pd.DataFrame(),\n",
                "    \"Cytoplasm\": pd.DataFrame(),\n",
                "}"
            ]
        },
        {
            "cell_type": "code",
            "execution_count": 9,
            "metadata": {},
            "outputs": [
                {
                    "name": "stdout",
                    "output_type": "stream",
                    "text": [
                        "Processing compartment: Organoid\n",
                        "Skipping Organoid Neighbor as it is not applicable for this compartment.\n",
                        "Processing compartment: Nuclei\n",
                        "Processing compartment: Cell\n",
                        "Skipping Cell Neighbor as it is not applicable for this compartment.\n",
                        "Processing compartment: Cytoplasm\n",
                        "Skipping Cytoplasm Neighbor as it is not applicable for this compartment.\n"
                    ]
                }
            ],
            "source": [
                "for compartment in final_df_dict.keys():\n",
                "    print(f\"Processing compartment: {compartment}\")\n",
                "    for feature_type in final_df_dict[compartment].keys():\n",
                "        if compartment != \"Nuclei\" and feature_type == \"Neighbor\":\n",
                "            print(\n",
                "                f\"Skipping {compartment} {feature_type} as it is not applicable for this compartment.\"\n",
                "            )\n",
                "            continue\n",
                "        if compartment_merged_dict[compartment].empty:\n",
                "            compartment_merged_dict[compartment] = final_df_dict[compartment][\n",
                "                feature_type\n",
                "            ].copy()\n",
                "        else:\n",
                "            compartment_merged_dict[compartment] = pd.merge(\n",
                "                compartment_merged_dict[compartment],\n",
                "                final_df_dict[compartment][feature_type],\n",
                "                on=[\"object_id\", \"image_set\"],\n",
                "                how=\"outer\",\n",
                "            )"
            ]
        },
        {
            "cell_type": "code",
            "execution_count": 10,
            "metadata": {},
            "outputs": [
                {
                    "ename": "InvalidInputException",
                    "evalue": "Invalid Input Error: Need a DataFrame with at least one column",
                    "output_type": "error",
                    "traceback": [
                        "\u001b[31m---------------------------------------------------------------------------\u001b[39m",
                        "\u001b[31mInvalidInputException\u001b[39m                     Traceback (most recent call last)",
                        "\u001b[36mCell\u001b[39m\u001b[36m \u001b[39m\u001b[32mIn[10]\u001b[39m\u001b[32m, line 1\u001b[39m\n\u001b[32m----> \u001b[39m\u001b[32m1\u001b[39m \u001b[38;5;28;01mwith\u001b[39;00m duckdb.connect(sqlite_path) \u001b[38;5;28;01mas\u001b[39;00m cx:\n\u001b[32m      2\u001b[39m     \u001b[38;5;28;01mfor\u001b[39;00m compartment, df \u001b[38;5;129;01min\u001b[39;00m compartment_merged_dict.items():\n\u001b[32m      3\u001b[39m         cx.register(\u001b[33m\"\u001b[39m\u001b[33mtemp_df\u001b[39m\u001b[33m\"\u001b[39m, df)\n",
                        "\u001b[36mCell\u001b[39m\u001b[36m \u001b[39m\u001b[32mIn[10]\u001b[39m\u001b[32m, line 3\u001b[39m\n\u001b[32m      1\u001b[39m \u001b[38;5;28;01mwith\u001b[39;00m duckdb.connect(sqlite_path) \u001b[38;5;28;01mas\u001b[39;00m cx:\n\u001b[32m      2\u001b[39m     \u001b[38;5;28;01mfor\u001b[39;00m compartment, df \u001b[38;5;129;01min\u001b[39;00m compartment_merged_dict.items():\n\u001b[32m----> \u001b[39m\u001b[32m3\u001b[39m         \u001b[43mcx\u001b[49m\u001b[43m.\u001b[49m\u001b[43mregister\u001b[49m\u001b[43m(\u001b[49m\u001b[33;43m\"\u001b[39;49m\u001b[33;43mtemp_df\u001b[39;49m\u001b[33;43m\"\u001b[39;49m\u001b[43m,\u001b[49m\u001b[43m \u001b[49m\u001b[43mdf\u001b[49m\u001b[43m)\u001b[49m\n\u001b[32m      4\u001b[39m         cx.execute(\u001b[33mf\u001b[39m\u001b[33m\"\u001b[39m\u001b[33mCREATE OR REPLACE TABLE \u001b[39m\u001b[38;5;132;01m{\u001b[39;00mcompartment\u001b[38;5;132;01m}\u001b[39;00m\u001b[33m AS SELECT * FROM temp_df\u001b[39m\u001b[33m\"\u001b[39m)\n\u001b[32m      5\u001b[39m         cx.unregister(\u001b[33m\"\u001b[39m\u001b[33mtemp_df\u001b[39m\u001b[33m\"\u001b[39m)\n",
                        "\u001b[31mInvalidInputException\u001b[39m: Invalid Input Error: Need a DataFrame with at least one column"
                    ]
                }
            ],
            "source": [
                "with duckdb.connect(sqlite_path) as cx:\n",
                "    for compartment, df in compartment_merged_dict.items():\n",
                "        cx.register(\"temp_df\", df)\n",
                "        cx.execute(f\"CREATE OR REPLACE TABLE {compartment} AS SELECT * FROM temp_df\")\n",
                "        cx.unregister(\"temp_df\")"
            ]
        }
    ],
    "metadata": {
        "kernelspec": {
            "display_name": "nf1_image_based_profiling_env",
            "language": "python",
            "name": "python3"
        },
        "language_info": {
            "codemirror_mode": {
                "name": "ipython",
                "version": 3
            },
            "file_extension": ".py",
            "mimetype": "text/x-python",
            "name": "python",
            "nbconvert_exporter": "python",
            "pygments_lexer": "ipython3",
            "version": "3.12.9"
        }
    },
    "nbformat": 4,
    "nbformat_minor": 2
}
