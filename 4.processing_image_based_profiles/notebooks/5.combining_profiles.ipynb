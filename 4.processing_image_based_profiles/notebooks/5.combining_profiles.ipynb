{
 "cells": [
  {
   "cell_type": "markdown",
   "metadata": {},
   "source": [
    "This notebook combines all well fovs for each patient into a single file.\n"
   ]
  },
  {
   "cell_type": "code",
   "execution_count": 1,
   "metadata": {},
   "outputs": [],
   "source": [
    "import argparse\n",
    "import pathlib\n",
    "\n",
    "import duckdb\n",
    "import pandas as pd\n",
    "\n",
    "# Get the current working directory\n",
    "cwd = pathlib.Path.cwd()\n",
    "\n",
    "if (cwd / \".git\").is_dir():\n",
    "    root_dir = cwd\n",
    "\n",
    "else:\n",
    "    root_dir = None\n",
    "    for parent in cwd.parents:\n",
    "        if (parent / \".git\").is_dir():\n",
    "            root_dir = parent\n",
    "            break\n",
    "\n",
    "# Check if a Git root directory was found\n",
    "if root_dir is None:\n",
    "    raise FileNotFoundError(\"No Git root directory found.\")\n",
    "\n",
    "try:\n",
    "    cfg = get_ipython().config\n",
    "    in_notebook = True\n",
    "except NameError:\n",
    "    in_notebook = False"
   ]
  },
  {
   "cell_type": "code",
   "execution_count": 2,
   "metadata": {},
   "outputs": [],
   "source": [
    "if not in_notebook:\n",
    "    argparser = argparse.ArgumentParser()\n",
    "    argparser.add_argument(\n",
    "        \"--patient\",\n",
    "        type=str,\n",
    "        required=True,\n",
    "        help=\"Patient ID to process, e.g. 'P01'\",\n",
    "    )\n",
    "    args = argparser.parse_args()\n",
    "    patient = args.patient\n",
    "\n",
    "else:\n",
    "    patient = \"NF0014\""
   ]
  },
  {
   "cell_type": "code",
   "execution_count": 3,
   "metadata": {},
   "outputs": [],
   "source": [
    "# set paths\n",
    "profiles_path = pathlib.Path(\n",
    "    f\"{root_dir}/data/{patient}/image_based_profiles/0.converted_profiles\"\n",
    ").resolve(strict=True)\n",
    "# output_paths\n",
    "sc_merged_output_path = pathlib.Path(\n",
    "    f\"{root_dir}/data/{patient}/image_based_profiles/1.combined_profiles/sc.parquet\"\n",
    ").resolve()\n",
    "organoid_merged_output_path = pathlib.Path(\n",
    "    f\"{root_dir}/data/{patient}/image_based_profiles/1.combined_profiles/organoid.parquet\"\n",
    ").resolve()\n",
    "organoid_merged_output_path.parent.mkdir(parents=True, exist_ok=True)"
   ]
  },
  {
   "cell_type": "code",
   "execution_count": 4,
   "metadata": {},
   "outputs": [],
   "source": [
    "# get all profiles in the directory recursively\n",
    "profiles = list(profiles_path.glob(\"**/*.parquet\"))\n",
    "# filter out profiles that are not related\n",
    "profiles = [x for x in profiles if \"related\" in str(x)]"
   ]
  },
  {
   "cell_type": "code",
   "execution_count": 5,
   "metadata": {},
   "outputs": [],
   "source": [
    "sc_profiles = [str(x) for x in profiles if \"sc\" in str(x.name)]\n",
    "organoid_profiles = [str(x) for x in profiles if \"organoid\" in str(x.name)]"
   ]
  },
  {
   "cell_type": "code",
   "execution_count": 6,
   "metadata": {},
   "outputs": [
    {
     "name": "stdout",
     "output_type": "stream",
     "text": [
      "Single-cell profiles concatenated. Shape: (1401, 1927)\n",
      "Organoid profiles concatenated. Shape: (101, 643)\n"
     ]
    }
   ],
   "source": [
    "# concat all sc profiles with duckdb\n",
    "with duckdb.connect() as conn:\n",
    "    sc_profile = conn.execute(\n",
    "        f\"SELECT * FROM read_parquet({sc_profiles}, union_by_name=true)\"\n",
    "    ).df()\n",
    "    organoid_profile = conn.execute(\n",
    "        f\"SELECT * FROM read_parquet({organoid_profiles}, union_by_name=true)\"\n",
    "    ).df()\n",
    "print(f\"Single-cell profiles concatenated. Shape: {sc_profile.shape}\")\n",
    "print(f\"Organoid profiles concatenated. Shape: {organoid_profile.shape}\")\n",
    "# drop imageset_1 and image_set_2 columns if they exist\n",
    "if \"image_set_1\" in sc_profile.columns:\n",
    "    sc_profile = sc_profile.drop(columns=[\"image_set_1\"])\n",
    "if \"image_set_2\" in sc_profile.columns:\n",
    "    sc_profile = sc_profile.drop(columns=[\"image_set_2\"])\n",
    "if \"image_set_1\" in organoid_profile.columns:\n",
    "    organoid_profile = organoid_profile.drop(columns=[\"image_set_1\"])\n",
    "if \"image_set_2\" in organoid_profile.columns:\n",
    "    organoid_profile = organoid_profile.drop(columns=[\"image_set_2\"])"
   ]
  },
  {
   "cell_type": "code",
   "execution_count": 7,
   "metadata": {},
   "outputs": [
    {
     "name": "stdout",
     "output_type": "stream",
     "text": [
      "Single-cell profiles saved to /home/lippincm/Documents/GFF_3D_organoid_profiling_pipeline/data/NF0014/image_based_profiles/1.combined_profiles/sc.parquet\n",
      "Organoid profiles saved to /home/lippincm/Documents/GFF_3D_organoid_profiling_pipeline/data/NF0014/image_based_profiles/1.combined_profiles/organoid.parquet\n"
     ]
    }
   ],
   "source": [
    "sc_profile.to_parquet(sc_merged_output_path, index=False)\n",
    "organoid_profile.to_parquet(organoid_merged_output_path, index=False)\n",
    "print(f\"Single-cell profiles saved to {sc_merged_output_path}\")\n",
    "print(f\"Organoid profiles saved to {organoid_merged_output_path}\")"
   ]
  }
 ],
 "metadata": {
  "kernelspec": {
   "display_name": "nf1_image_based_profiling_env",
   "language": "python",
   "name": "python3"
  },
  "language_info": {
   "codemirror_mode": {
    "name": "ipython",
    "version": 3
   },
   "file_extension": ".py",
   "mimetype": "text/x-python",
   "name": "python",
   "nbconvert_exporter": "python",
   "pygments_lexer": "ipython3",
   "version": "3.12.9"
  }
 },
 "nbformat": 4,
 "nbformat_minor": 2
}
