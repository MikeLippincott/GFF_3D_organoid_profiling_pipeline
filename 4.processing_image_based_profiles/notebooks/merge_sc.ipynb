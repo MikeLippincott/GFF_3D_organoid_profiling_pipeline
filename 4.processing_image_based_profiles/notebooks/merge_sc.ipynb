{
    "cells": [
        {
            "cell_type": "code",
            "execution_count": 4,
            "metadata": {},
            "outputs": [],
            "source": [
                "import argparse\n",
                "import pathlib\n",
                "import sys\n",
                "\n",
                "import pandas as pd\n",
                "from cytotable import convert, presets\n",
                "\n",
                "sys.path.append(\"../../../utils\")\n",
                "from parsl.config import Config\n",
                "from parsl.executors import HighThroughputExecutor\n",
                "\n",
                "try:\n",
                "    cfg = get_ipython().config\n",
                "    in_notebook = True\n",
                "except NameError:\n",
                "    in_notebook = False"
            ]
        },
        {
            "cell_type": "code",
            "execution_count": 6,
            "metadata": {},
            "outputs": [],
            "source": [
                "if not in_notebook:\n",
                "    argparser = argparse.ArgumentParser()\n",
                "    argparser.add_argument(\n",
                "        \"--patient\",\n",
                "        type=str,\n",
                "        required=True,\n",
                "        help=\"Patient ID to process, e.g. 'P01'\",\n",
                "    )\n",
                "    argparser.add_argument(\n",
                "        \"--well_fov\",\n",
                "        type=str,\n",
                "        required=True,\n",
                "        help=\"Well and field of view to process, e.g. 'A01_1'\",\n",
                "    )\n",
                "    args = argparser.parse_args()\n",
                "    patient = args.patient\n",
                "    well_fov = args.well_fov\n",
                "else:\n",
                "    patient = \"NF0014\"\n",
                "    well_fov = \"C4-2\""
            ]
        },
        {
            "cell_type": "code",
            "execution_count": 7,
            "metadata": {},
            "outputs": [],
            "source": [
                "input_sqlite_file = pathlib.Path(\n",
                "    f\"../../data/{patient}/converted_profiles/{well_fov}.sqlite\"\n",
                ").resolve(strict=True)"
            ]
        },
        {
            "cell_type": "code",
            "execution_count": null,
            "metadata": {},
            "outputs": [],
            "source": [
                "# preset configurations based on typical CellProfiler outputs\n",
                "preset = \"cellprofiler_sqlite_pycytominer\"\n",
                "presets.config[preset][\n",
                "    \"CONFIG_JOINS\"\n",
                "    # remove Image_Metadata_Plate from SELECT as this metadata was not extracted from file names\n",
                "    # add Image_Metadata_FOV as this is an important metadata when finding where single cells are located\n",
                "] = \"\"\"WITH Per_Image_Filtered AS (\n",
                "                SELECT\n",
                "                    object_id\n",
                "                FROM\n",
                "                    read_parquet('per_image.parquet')\n",
                "                )\n",
                "            SELECT\n",
                "                *\n",
                "            FROM\n",
                "                Per_Image_Filtered AS per_image\n",
                "            LEFT JOIN read_parquet('per_cytoplasm.parquet') AS per_cytoplasm ON\n",
                "                per_cytoplasm.Metadata_ImageNumber = per_image.Metadata_ImageNumber\n",
                "            LEFT JOIN read_parquet('per_cells.parquet') AS per_cells ON\n",
                "                per_cells.Metadata_ImageNumber = per_cytoplasm.Metadata_ImageNumber\n",
                "                AND per_cells.Metadata_Cells_Number_Object_Number = per_cytoplasm.Metadata_Cytoplasm_Parent_Cells\n",
                "            LEFT JOIN read_parquet('per_nuclei.parquet') AS per_nuclei ON\n",
                "                per_nuclei.Metadata_ImageNumber = per_cytoplasm.Metadata_ImageNumber\n",
                "                AND per_nuclei.Metadata_Nuclei_Number_Object_Number = per_cytoplasm.Metadata_Cytoplasm_Parent_Nuclei\n",
                "            \"\"\""
            ]
        },
        {
            "cell_type": "code",
            "execution_count": null,
            "metadata": {},
            "outputs": [],
            "source": [
                "# merge single cells and output as parquet file\n",
                "convert(\n",
                "    source_path=sqlite_file,\n",
                "    dest_path=dest_path,\n",
                "    dest_datatype=dest_datatype,\n",
                "    preset=preset,\n",
                "    parsl_config=Config(\n",
                "        executors=[HighThroughputExecutor()],\n",
                "    ),\n",
                "    chunk_size=1000,\n",
                ")"
            ]
        }
    ],
    "metadata": {
        "kernelspec": {
            "display_name": "nf1_image_based_profiling_env",
            "language": "python",
            "name": "python3"
        },
        "language_info": {
            "codemirror_mode": {
                "name": "ipython",
                "version": 3
            },
            "file_extension": ".py",
            "mimetype": "text/x-python",
            "name": "python",
            "nbconvert_exporter": "python",
            "pygments_lexer": "ipython3",
            "version": "3.12.9"
        }
    },
    "nbformat": 4,
    "nbformat_minor": 2
}
