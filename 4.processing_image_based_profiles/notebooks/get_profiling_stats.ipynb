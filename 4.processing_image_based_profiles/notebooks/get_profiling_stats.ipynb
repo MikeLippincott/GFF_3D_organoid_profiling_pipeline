{
    "cells": [
        {
            "cell_type": "code",
            "execution_count": null,
            "metadata": {},
            "outputs": [],
            "source": [
                "import pathlib\n",
                "\n",
                "import matplotlib.pyplot as plt\n",
                "import pandas as pd\n",
                "import seaborn as sns"
            ]
        },
        {
            "cell_type": "code",
            "execution_count": null,
            "metadata": {},
            "outputs": [],
            "source": [
                "well_fov = \"C4-2\"\n",
                "stats_path = pathlib.Path(\"../../2.cellprofiling/results/run_stats/\").resolve(\n",
                "    strict=True\n",
                ")\n",
                "output_path = pathlib.Path(f\"../results/converted_profiles/{well_fov}\").resolve()\n",
                "output_path.mkdir(parents=True, exist_ok=True)\n",
                "\n",
                "stats_files = list(stats_path.glob(\"*.parquet\"))\n",
                "stats_files.sort()\n",
                "stats_files"
            ]
        },
        {
            "cell_type": "code",
            "execution_count": null,
            "metadata": {},
            "outputs": [],
            "source": [
                "df = pd.concat(\n",
                "    [pd.read_parquet(stats_file) for stats_file in stats_files],\n",
                "    ignore_index=True,\n",
                ")\n",
                "df.to_parquet(output_path / f\"{well_fov}_cell_stats.parquet\", index=False)\n",
                "df[\"feature_type_and_gpu\"] = (\n",
                "    df[\"feature_type\"].astype(str) + \"_\" + df[\"gpu\"].astype(str)\n",
                ")\n",
                "df[\"feature_type_and_gpu\"] = df[\"feature_type_and_gpu\"].str.replace(\"None\", \"CPU\")\n",
                "df[\"feature_type_and_gpu\"] = df[\"feature_type_and_gpu\"].str.replace(\"True\", \"GPU\")\n",
                "df[\"time_taken_minutes\"] = df[\"time_taken\"] / 60\n",
                "df[\"mem_usage_GB\"] = df[\"mem_usage\"] / (1024)\n",
                "df.head(10)"
            ]
        },
        {
            "cell_type": "markdown",
            "metadata": {},
            "source": [
                "## Preliminary plots - will finalize in R later"
            ]
        },
        {
            "cell_type": "code",
            "execution_count": null,
            "metadata": {},
            "outputs": [],
            "source": [
                "# plot the memory and time for each feature type\n",
                "\n",
                "sns.barplot(\n",
                "    data=df,\n",
                "    x=\"feature_type_and_gpu\",\n",
                "    y=\"time_taken_minutes\",\n",
                "    hue=\"feature_type\",\n",
                "    palette=\"Set2\",\n",
                ")\n",
                "plt.title(\"Time taken for each feature type\")\n",
                "plt.xlabel(\"Feature Type\")\n",
                "plt.ylabel(\"Time (min)\")\n",
                "plt.xticks(rotation=45, ha=\"right\")\n",
                "plt.tight_layout()\n",
                "# move the legend outside the plot\n",
                "plt.legend(title=\"Feature Type\", bbox_to_anchor=(1.05, 1), loc=\"upper left\")\n",
                "plt.show()\n",
                "\n",
                "sns.barplot(\n",
                "    data=df,\n",
                "    x=\"feature_type_and_gpu\",\n",
                "    y=\"mem_usage_GB\",\n",
                "    hue=\"feature_type\",\n",
                "    palette=\"Set2\",\n",
                ")\n",
                "plt.title(\"Memory used for each feature type\")\n",
                "plt.xlabel(\"Feature Type\")\n",
                "plt.ylabel(\"Memory (GB)\")\n",
                "plt.xticks(rotation=45, ha=\"right\")\n",
                "plt.tight_layout()\n",
                "plt.legend(title=\"Feature Type\", bbox_to_anchor=(1.05, 1), loc=\"upper left\")\n",
                "\n",
                "plt.show()"
            ]
        }
    ],
    "metadata": {
        "kernelspec": {
            "display_name": "nf1_image_based_profiling_env",
            "language": "python",
            "name": "python3"
        },
        "language_info": {
            "codemirror_mode": {
                "name": "ipython",
                "version": 3
            },
            "file_extension": ".py",
            "mimetype": "text/x-python",
            "name": "python",
            "nbconvert_exporter": "python",
            "pygments_lexer": "ipython3",
            "version": "3.12.9"
        }
    },
    "nbformat": 4,
    "nbformat_minor": 2
}
