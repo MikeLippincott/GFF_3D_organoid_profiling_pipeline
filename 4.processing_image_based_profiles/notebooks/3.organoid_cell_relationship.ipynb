{
 "cells": [
  {
   "cell_type": "code",
   "execution_count": 1,
   "metadata": {},
   "outputs": [],
   "source": [
    "import argparse\n",
    "import pathlib\n",
    "import sys\n",
    "\n",
    "import pandas as pd\n",
    "\n",
    "try:\n",
    "    cfg = get_ipython().config\n",
    "    in_notebook = True\n",
    "except NameError:\n",
    "    in_notebook = False\n",
    "\n",
    "cwd = pathlib.Path.cwd()\n",
    "\n",
    "if (cwd / \".git\").is_dir():\n",
    "    root_dir = cwd\n",
    "else:\n",
    "    root_dir = None\n",
    "    for parent in cwd.parents:\n",
    "        if (parent / \".git\").is_dir():\n",
    "            root_dir = parent\n",
    "            break\n",
    "sys.path.append(str(root_dir / \"utils\"))\n",
    "from arg_parsing_utils import parse_args\n",
    "from notebook_init_utils import bandicoot_check, init_notebook\n",
    "\n",
    "root_dir, in_notebook = init_notebook()\n",
    "\n",
    "profile_base_dir = bandicoot_check(pathlib.Path(\"~/mnt/bandicoot\").resolve(), root_dir)"
   ]
  },
  {
   "cell_type": "code",
   "execution_count": 2,
   "metadata": {},
   "outputs": [],
   "source": [
    "if not in_notebook:\n",
    "    args = parse_args()\n",
    "    well_fov = args[\"well_fov\"]\n",
    "    patient = args[\"patient\"]\n",
    "else:\n",
    "    well_fov = \"G2-2\"\n",
    "    patient = \"NF0014_T1\""
   ]
  },
  {
   "cell_type": "code",
   "execution_count": 3,
   "metadata": {},
   "outputs": [],
   "source": [
    "def centroid_within_bbox_detection(\n",
    "    centroid: tuple,\n",
    "    bbox: tuple,\n",
    ") -> bool:\n",
    "    \"\"\"\n",
    "    Check if the centroid is within the bbox\n",
    "\n",
    "    Parameters\n",
    "    ----------\n",
    "    centroid : tuple\n",
    "        Centroid of the object in the order of (z, y, x)\n",
    "        Order of the centroid is important\n",
    "    bbox : tuple\n",
    "        Where the bbox is in the order of (z_min, y_min, x_min, z_max, y_max, x_max)\n",
    "        Order of the bbox is important\n",
    "\n",
    "    Returns\n",
    "    -------\n",
    "    bool\n",
    "        True if the centroid is within the bbox, False otherwise\n",
    "    \"\"\"\n",
    "    z_min, y_min, x_min, z_max, y_max, x_max = bbox\n",
    "    z, y, x = centroid\n",
    "    # check if the centroid is within the bbox\n",
    "    if (\n",
    "        z >= z_min\n",
    "        and z <= z_max\n",
    "        and y >= y_min\n",
    "        and y <= y_max\n",
    "        and x >= x_min\n",
    "        and x <= x_max\n",
    "    ):\n",
    "        return True\n",
    "    else:\n",
    "        return False"
   ]
  },
  {
   "cell_type": "markdown",
   "metadata": {},
   "source": [
    "### Pathing"
   ]
  },
  {
   "cell_type": "code",
   "execution_count": 4,
   "metadata": {},
   "outputs": [],
   "source": [
    "# input paths\n",
    "sc_profile_path = pathlib.Path(\n",
    "    f\"{profile_base_dir}/data/{patient}/image_based_profiles/0.converted_profiles/{well_fov}/sc_profiles_{well_fov}.parquet\"\n",
    ").resolve(strict=True)\n",
    "organoid_profile_path = pathlib.Path(\n",
    "    f\"{profile_base_dir}/data/{patient}/image_based_profiles/0.converted_profiles/{well_fov}/organoid_profiles_{well_fov}.parquet\"\n",
    ").resolve(strict=True)\n",
    "# output paths\n",
    "sc_profile_output_path = pathlib.Path(\n",
    "    f\"{profile_base_dir}/data/{patient}/image_based_profiles/0.converted_profiles/{well_fov}/sc_profiles_{well_fov}_related.parquet\"\n",
    ").resolve()\n",
    "organoid_profile_output_path = pathlib.Path(\n",
    "    f\"{profile_base_dir}/data/{patient}/image_based_profiles/0.converted_profiles/{well_fov}/organoid_profiles_{well_fov}_related.parquet\"\n",
    ").resolve()"
   ]
  },
  {
   "cell_type": "code",
   "execution_count": 5,
   "metadata": {},
   "outputs": [
    {
     "name": "stdout",
     "output_type": "stream",
     "text": [
      "Single-cell profile shape: (0, 1574)\n",
      "Organoid profile shape: (0, 642)\n"
     ]
    }
   ],
   "source": [
    "sc_profile_df = pd.read_parquet(sc_profile_path)\n",
    "organoid_profile_df = pd.read_parquet(organoid_profile_path)\n",
    "print(f\"Single-cell profile shape: {sc_profile_df.shape}\")\n",
    "print(f\"Organoid profile shape: {organoid_profile_df.shape}\")"
   ]
  },
  {
   "cell_type": "code",
   "execution_count": 6,
   "metadata": {},
   "outputs": [],
   "source": [
    "# initialize the parent organoid column\n",
    "sc_profile_df.insert(2, \"parent_organoid\", -1)"
   ]
  },
  {
   "cell_type": "code",
   "execution_count": 7,
   "metadata": {},
   "outputs": [
    {
     "name": "stdout",
     "output_type": "stream",
     "text": [
      "The nuclei centroids in the single-cell profile are in the columns:\n",
      "['Area.Size.Shape_Nuclei_CENTER.X', 'Area.Size.Shape_Nuclei_CENTER.Y', 'Area.Size.Shape_Nuclei_CENTER.Z', 'Area.Size.Shape_Cell_CENTER.X', 'Area.Size.Shape_Cell_CENTER.Y', 'Area.Size.Shape_Cell_CENTER.Z', 'Area.Size.Shape_Cytoplasm_CENTER.X', 'Area.Size.Shape_Cytoplasm_CENTER.Y', 'Area.Size.Shape_Cytoplasm_CENTER.Z']\n"
     ]
    }
   ],
   "source": [
    "x_y_z_sc_colnames = [\n",
    "    x for x in sc_profile_df.columns if \"area\" in x.lower() and \"center\" in x.lower()\n",
    "]\n",
    "print(\n",
    "    f\"The nuclei centroids in the single-cell profile are in the columns:\\n{x_y_z_sc_colnames}\"\n",
    ")"
   ]
  },
  {
   "cell_type": "code",
   "execution_count": 8,
   "metadata": {},
   "outputs": [
    {
     "name": "stdout",
     "output_type": "stream",
     "text": [
      "The organoid bounding boxes are in the columns:\n",
      "['Area.Size.Shape_Organoid_MAX.X', 'Area.Size.Shape_Organoid_MAX.Y', 'Area.Size.Shape_Organoid_MAX.Z', 'Area.Size.Shape_Organoid_MIN.X', 'Area.Size.Shape_Organoid_MIN.Y', 'Area.Size.Shape_Organoid_MIN.Z']\n"
     ]
    }
   ],
   "source": [
    "organoid_bbox_colnames = [\n",
    "    x for x in organoid_profile_df.columns if \"Area\" in x and (\"MIN\" in x or \"MAX\" in x)\n",
    "]\n",
    "organoid_bbox_colnames = sorted(organoid_bbox_colnames)\n",
    "print(f\"The organoid bounding boxes are in the columns:\\n{organoid_bbox_colnames}\")"
   ]
  },
  {
   "cell_type": "code",
   "execution_count": 9,
   "metadata": {},
   "outputs": [],
   "source": [
    "# loop thorugh the organoids first as there are less organoids than single-cells\n",
    "for organoid_index, organoid_row in organoid_profile_df.iterrows():\n",
    "    # get the organoid bbox - should be alphabetically sorted\n",
    "    # define the organoid bbox in the order of:\n",
    "    # (z_min, y_min, x_min, z_max, y_max, x_max)\n",
    "    organoid_bbox = (\n",
    "        organoid_row[organoid_bbox_colnames[5]],\n",
    "        organoid_row[organoid_bbox_colnames[4]],\n",
    "        organoid_row[organoid_bbox_colnames[3]],\n",
    "        organoid_row[organoid_bbox_colnames[2]],\n",
    "        organoid_row[organoid_bbox_colnames[1]],\n",
    "        organoid_row[organoid_bbox_colnames[0]],\n",
    "    )\n",
    "    # loop through the single-cells and check if the centroid is within the organoid bbox\n",
    "    for sc_index, sc_row in sc_profile_df.iterrows():\n",
    "        # get the single-cell centroid - should be alphabetically sorted\n",
    "        # define the single-cell centroid in the order of (z, y, x)\n",
    "        sc_centroid = (\n",
    "            sc_row[x_y_z_sc_colnames[2]],\n",
    "            sc_row[x_y_z_sc_colnames[1]],\n",
    "            sc_row[x_y_z_sc_colnames[0]],\n",
    "        )\n",
    "\n",
    "        if centroid_within_bbox_detection(sc_centroid, organoid_bbox):\n",
    "            sc_profile_df.at[sc_index, \"parent_organoid\"] = organoid_row[\"object_id\"]\n",
    "        else:\n",
    "            # if the centroid is not within the organoid bbox, set the parent organoid to -1\n",
    "            sc_profile_df.at[sc_index, \"parent_organoid\"] = -1"
   ]
  },
  {
   "cell_type": "markdown",
   "metadata": {},
   "source": [
    "### Add single-cell counts for each organoid"
   ]
  },
  {
   "cell_type": "code",
   "execution_count": 10,
   "metadata": {},
   "outputs": [],
   "source": [
    "organoid_sc_counts = (\n",
    "    sc_profile_df[\"parent_organoid\"]\n",
    "    .value_counts()\n",
    "    .to_frame(name=\"single_cell_count\")\n",
    "    .reset_index()\n",
    ")\n",
    "# merge the organoid profile with the single-cell counts\n",
    "organoid_profile_df = pd.merge(\n",
    "    organoid_profile_df,\n",
    "    organoid_sc_counts,\n",
    "    left_on=\"object_id\",\n",
    "    right_on=\"parent_organoid\",\n",
    "    how=\"left\",\n",
    ").drop(columns=[\"parent_organoid\"])\n",
    "sc_count = organoid_profile_df.pop(\"single_cell_count\")\n",
    "organoid_profile_df.insert(2, \"single_cell_count\", sc_count)"
   ]
  },
  {
   "cell_type": "markdown",
   "metadata": {},
   "source": [
    "Even if the file is empty we still want to add it to the final dataframe dictionary so that we can merge on the same columns later.\n",
    "This will help with file-based checking and merging.\n"
   ]
  },
  {
   "cell_type": "code",
   "execution_count": 11,
   "metadata": {},
   "outputs": [],
   "source": [
    "if organoid_profile_df.empty:\n",
    "    # add a row with Na values\n",
    "    organoid_profile_df.loc[len(organoid_profile_df)] = [None] * len(\n",
    "        organoid_profile_df.columns\n",
    "    )\n",
    "    organoid_profile_df[\"image_set\"] = well_fov"
   ]
  },
  {
   "cell_type": "code",
   "execution_count": 12,
   "metadata": {},
   "outputs": [
    {
     "name": "stdout",
     "output_type": "stream",
     "text": [
      "Single-cell profile shape: (0, 1575)\n"
     ]
    }
   ],
   "source": [
    "print(f\"Single-cell profile shape: {sc_profile_df.shape}\")"
   ]
  },
  {
   "cell_type": "code",
   "execution_count": 13,
   "metadata": {},
   "outputs": [],
   "source": [
    "if sc_profile_df.empty:\n",
    "    # add a row with Na values\n",
    "    sc_profile_df.loc[len(sc_profile_df)] = [None] * len(sc_profile_df.columns)\n",
    "    sc_profile_df[\"image_set\"] = well_fov"
   ]
  },
  {
   "cell_type": "markdown",
   "metadata": {},
   "source": [
    "### Save the profiles"
   ]
  },
  {
   "cell_type": "code",
   "execution_count": 15,
   "metadata": {},
   "outputs": [
    {
     "data": {
      "text/html": [
       "<div>\n",
       "<style scoped>\n",
       "    .dataframe tbody tr th:only-of-type {\n",
       "        vertical-align: middle;\n",
       "    }\n",
       "\n",
       "    .dataframe tbody tr th {\n",
       "        vertical-align: top;\n",
       "    }\n",
       "\n",
       "    .dataframe thead th {\n",
       "        text-align: right;\n",
       "    }\n",
       "</style>\n",
       "<table border=\"1\" class=\"dataframe\">\n",
       "  <thead>\n",
       "    <tr style=\"text-align: right;\">\n",
       "      <th></th>\n",
       "      <th>object_id</th>\n",
       "      <th>image_set</th>\n",
       "      <th>single_cell_count</th>\n",
       "      <th>Area.Size.Shape_Organoid_VOLUME</th>\n",
       "      <th>Area.Size.Shape_Organoid_CENTER.X</th>\n",
       "      <th>Area.Size.Shape_Organoid_CENTER.Y</th>\n",
       "      <th>Area.Size.Shape_Organoid_CENTER.Z</th>\n",
       "      <th>Area.Size.Shape_Organoid_BBOX.VOLUME</th>\n",
       "      <th>Area.Size.Shape_Organoid_MIN.X</th>\n",
       "      <th>Area.Size.Shape_Organoid_MAX.X</th>\n",
       "      <th>...</th>\n",
       "      <th>Texture_Organoid_Mito_Difference.Entropy_256.3</th>\n",
       "      <th>Texture_Organoid_Mito_Difference.Variance_256.3</th>\n",
       "      <th>Texture_Organoid_Mito_Entropy_256.3</th>\n",
       "      <th>Texture_Organoid_Mito_Information.Measure.of.Correlation.1_256.3</th>\n",
       "      <th>Texture_Organoid_Mito_Information.Measure.of.Correlation.2_256.3</th>\n",
       "      <th>Texture_Organoid_Mito_Inverse.Difference.Moment_256.3</th>\n",
       "      <th>Texture_Organoid_Mito_Sum.Average_256.3</th>\n",
       "      <th>Texture_Organoid_Mito_Sum.Entropy_256.3</th>\n",
       "      <th>Texture_Organoid_Mito_Sum.Variance_256.3</th>\n",
       "      <th>Texture_Organoid_Mito_Variance_256.3</th>\n",
       "    </tr>\n",
       "  </thead>\n",
       "  <tbody>\n",
       "    <tr>\n",
       "      <th>0</th>\n",
       "      <td>None</td>\n",
       "      <td>G2-2</td>\n",
       "      <td>None</td>\n",
       "      <td>None</td>\n",
       "      <td>None</td>\n",
       "      <td>None</td>\n",
       "      <td>None</td>\n",
       "      <td>None</td>\n",
       "      <td>None</td>\n",
       "      <td>None</td>\n",
       "      <td>...</td>\n",
       "      <td>None</td>\n",
       "      <td>None</td>\n",
       "      <td>None</td>\n",
       "      <td>None</td>\n",
       "      <td>None</td>\n",
       "      <td>None</td>\n",
       "      <td>None</td>\n",
       "      <td>None</td>\n",
       "      <td>None</td>\n",
       "      <td>None</td>\n",
       "    </tr>\n",
       "  </tbody>\n",
       "</table>\n",
       "<p>1 rows × 643 columns</p>\n",
       "</div>"
      ],
      "text/plain": [
       "  object_id image_set single_cell_count Area.Size.Shape_Organoid_VOLUME  \\\n",
       "0      None      G2-2              None                            None   \n",
       "\n",
       "  Area.Size.Shape_Organoid_CENTER.X Area.Size.Shape_Organoid_CENTER.Y  \\\n",
       "0                              None                              None   \n",
       "\n",
       "  Area.Size.Shape_Organoid_CENTER.Z Area.Size.Shape_Organoid_BBOX.VOLUME  \\\n",
       "0                              None                                 None   \n",
       "\n",
       "  Area.Size.Shape_Organoid_MIN.X Area.Size.Shape_Organoid_MAX.X  ...  \\\n",
       "0                           None                           None  ...   \n",
       "\n",
       "  Texture_Organoid_Mito_Difference.Entropy_256.3  \\\n",
       "0                                           None   \n",
       "\n",
       "  Texture_Organoid_Mito_Difference.Variance_256.3  \\\n",
       "0                                            None   \n",
       "\n",
       "  Texture_Organoid_Mito_Entropy_256.3  \\\n",
       "0                                None   \n",
       "\n",
       "  Texture_Organoid_Mito_Information.Measure.of.Correlation.1_256.3  \\\n",
       "0                                               None                 \n",
       "\n",
       "  Texture_Organoid_Mito_Information.Measure.of.Correlation.2_256.3  \\\n",
       "0                                               None                 \n",
       "\n",
       "  Texture_Organoid_Mito_Inverse.Difference.Moment_256.3  \\\n",
       "0                                               None      \n",
       "\n",
       "  Texture_Organoid_Mito_Sum.Average_256.3  \\\n",
       "0                                    None   \n",
       "\n",
       "  Texture_Organoid_Mito_Sum.Entropy_256.3  \\\n",
       "0                                    None   \n",
       "\n",
       "  Texture_Organoid_Mito_Sum.Variance_256.3  \\\n",
       "0                                     None   \n",
       "\n",
       "  Texture_Organoid_Mito_Variance_256.3  \n",
       "0                                 None  \n",
       "\n",
       "[1 rows x 643 columns]"
      ]
     },
     "execution_count": 15,
     "metadata": {},
     "output_type": "execute_result"
    }
   ],
   "source": [
    "organoid_profile_df.to_parquet(organoid_profile_output_path, index=False)\n",
    "organoid_profile_df.head()"
   ]
  },
  {
   "cell_type": "code",
   "execution_count": 16,
   "metadata": {},
   "outputs": [
    {
     "data": {
      "text/html": [
       "<div>\n",
       "<style scoped>\n",
       "    .dataframe tbody tr th:only-of-type {\n",
       "        vertical-align: middle;\n",
       "    }\n",
       "\n",
       "    .dataframe tbody tr th {\n",
       "        vertical-align: top;\n",
       "    }\n",
       "\n",
       "    .dataframe thead th {\n",
       "        text-align: right;\n",
       "    }\n",
       "</style>\n",
       "<table border=\"1\" class=\"dataframe\">\n",
       "  <thead>\n",
       "    <tr style=\"text-align: right;\">\n",
       "      <th></th>\n",
       "      <th>object_id</th>\n",
       "      <th>image_set</th>\n",
       "      <th>parent_organoid</th>\n",
       "      <th>Area.Size.Shape_Nuclei_VOLUME</th>\n",
       "      <th>Area.Size.Shape_Nuclei_CENTER.X</th>\n",
       "      <th>Area.Size.Shape_Nuclei_CENTER.Y</th>\n",
       "      <th>Area.Size.Shape_Nuclei_CENTER.Z</th>\n",
       "      <th>Area.Size.Shape_Nuclei_BBOX.VOLUME</th>\n",
       "      <th>Area.Size.Shape_Nuclei_MIN.X</th>\n",
       "      <th>Area.Size.Shape_Nuclei_MAX.X</th>\n",
       "      <th>...</th>\n",
       "      <th>Texture_Cytoplasm_Mito_Difference.Entropy_256.3</th>\n",
       "      <th>Texture_Cytoplasm_Mito_Difference.Variance_256.3</th>\n",
       "      <th>Texture_Cytoplasm_Mito_Entropy_256.3</th>\n",
       "      <th>Texture_Cytoplasm_Mito_Information.Measure.of.Correlation.1_256.3</th>\n",
       "      <th>Texture_Cytoplasm_Mito_Information.Measure.of.Correlation.2_256.3</th>\n",
       "      <th>Texture_Cytoplasm_Mito_Inverse.Difference.Moment_256.3</th>\n",
       "      <th>Texture_Cytoplasm_Mito_Sum.Average_256.3</th>\n",
       "      <th>Texture_Cytoplasm_Mito_Sum.Entropy_256.3</th>\n",
       "      <th>Texture_Cytoplasm_Mito_Sum.Variance_256.3</th>\n",
       "      <th>Texture_Cytoplasm_Mito_Variance_256.3</th>\n",
       "    </tr>\n",
       "  </thead>\n",
       "  <tbody>\n",
       "    <tr>\n",
       "      <th>0</th>\n",
       "      <td>None</td>\n",
       "      <td>G2-2</td>\n",
       "      <td>None</td>\n",
       "      <td>None</td>\n",
       "      <td>None</td>\n",
       "      <td>None</td>\n",
       "      <td>None</td>\n",
       "      <td>None</td>\n",
       "      <td>None</td>\n",
       "      <td>None</td>\n",
       "      <td>...</td>\n",
       "      <td>None</td>\n",
       "      <td>None</td>\n",
       "      <td>None</td>\n",
       "      <td>None</td>\n",
       "      <td>None</td>\n",
       "      <td>None</td>\n",
       "      <td>None</td>\n",
       "      <td>None</td>\n",
       "      <td>None</td>\n",
       "      <td>None</td>\n",
       "    </tr>\n",
       "  </tbody>\n",
       "</table>\n",
       "<p>1 rows × 1575 columns</p>\n",
       "</div>"
      ],
      "text/plain": [
       "  object_id image_set parent_organoid Area.Size.Shape_Nuclei_VOLUME  \\\n",
       "0      None      G2-2            None                          None   \n",
       "\n",
       "  Area.Size.Shape_Nuclei_CENTER.X Area.Size.Shape_Nuclei_CENTER.Y  \\\n",
       "0                            None                            None   \n",
       "\n",
       "  Area.Size.Shape_Nuclei_CENTER.Z Area.Size.Shape_Nuclei_BBOX.VOLUME  \\\n",
       "0                            None                               None   \n",
       "\n",
       "  Area.Size.Shape_Nuclei_MIN.X Area.Size.Shape_Nuclei_MAX.X  ...  \\\n",
       "0                         None                         None  ...   \n",
       "\n",
       "  Texture_Cytoplasm_Mito_Difference.Entropy_256.3  \\\n",
       "0                                            None   \n",
       "\n",
       "  Texture_Cytoplasm_Mito_Difference.Variance_256.3  \\\n",
       "0                                             None   \n",
       "\n",
       "  Texture_Cytoplasm_Mito_Entropy_256.3  \\\n",
       "0                                 None   \n",
       "\n",
       "  Texture_Cytoplasm_Mito_Information.Measure.of.Correlation.1_256.3  \\\n",
       "0                                               None                  \n",
       "\n",
       "  Texture_Cytoplasm_Mito_Information.Measure.of.Correlation.2_256.3  \\\n",
       "0                                               None                  \n",
       "\n",
       "  Texture_Cytoplasm_Mito_Inverse.Difference.Moment_256.3  \\\n",
       "0                                               None       \n",
       "\n",
       "  Texture_Cytoplasm_Mito_Sum.Average_256.3  \\\n",
       "0                                     None   \n",
       "\n",
       "  Texture_Cytoplasm_Mito_Sum.Entropy_256.3  \\\n",
       "0                                     None   \n",
       "\n",
       "  Texture_Cytoplasm_Mito_Sum.Variance_256.3  \\\n",
       "0                                      None   \n",
       "\n",
       "  Texture_Cytoplasm_Mito_Variance_256.3  \n",
       "0                                  None  \n",
       "\n",
       "[1 rows x 1575 columns]"
      ]
     },
     "execution_count": 16,
     "metadata": {},
     "output_type": "execute_result"
    }
   ],
   "source": [
    "sc_profile_df.to_parquet(sc_profile_output_path, index=False)\n",
    "sc_profile_df.head()"
   ]
  }
 ],
 "metadata": {
  "kernelspec": {
   "display_name": "GFF_analysis",
   "language": "python",
   "name": "python3"
  },
  "language_info": {
   "codemirror_mode": {
    "name": "ipython",
    "version": 3
   },
   "file_extension": ".py",
   "mimetype": "text/x-python",
   "name": "python",
   "nbconvert_exporter": "python",
   "pygments_lexer": "ipython3",
   "version": "3.12.11"
  }
 },
 "nbformat": 4,
 "nbformat_minor": 2
}
