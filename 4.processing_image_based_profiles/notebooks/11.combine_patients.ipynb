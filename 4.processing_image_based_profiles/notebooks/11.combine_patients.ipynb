{
 "cells": [
  {
   "cell_type": "code",
   "execution_count": 1,
   "metadata": {},
   "outputs": [],
   "source": [
    "import argparse\n",
    "import pathlib\n",
    "\n",
    "import duckdb\n",
    "import pandas as pd\n",
    "\n",
    "# Get the current working directory\n",
    "cwd = pathlib.Path.cwd()\n",
    "\n",
    "if (cwd / \".git\").is_dir():\n",
    "    root_dir = cwd\n",
    "\n",
    "else:\n",
    "    root_dir = None\n",
    "    for parent in cwd.parents:\n",
    "        if (parent / \".git\").is_dir():\n",
    "            root_dir = parent\n",
    "            break\n",
    "\n",
    "# Check if a Git root directory was found\n",
    "if root_dir is None:\n",
    "    raise FileNotFoundError(\"No Git root directory found.\")\n",
    "\n",
    "try:\n",
    "    cfg = get_ipython().config\n",
    "    in_notebook = True\n",
    "except NameError:\n",
    "    in_notebook = False"
   ]
  },
  {
   "cell_type": "code",
   "execution_count": 2,
   "metadata": {},
   "outputs": [],
   "source": [
    "patient_ids_path = pathlib.Path(f\"{root_dir}/data/patient_IDs.txt\").resolve(strict=True)\n",
    "patients = pd.read_csv(patient_ids_path, header=None, names=[\"patient_id\"], dtype=str)[\n",
    "    \"patient_id\"\n",
    "].to_list()"
   ]
  },
  {
   "cell_type": "markdown",
   "metadata": {},
   "source": [
    "Merge patients by the following levels:"
   ]
  },
  {
   "cell_type": "code",
   "execution_count": 3,
   "metadata": {},
   "outputs": [],
   "source": [
    "levels_to_merge_dict = {\n",
    "    \"norm\": {\n",
    "        \"sc\": [],\n",
    "        \"organoid\": [],\n",
    "    },\n",
    "    \"fs\": {\n",
    "        \"sc_fs\": [],\n",
    "        \"organoid_fs\": [],\n",
    "    },\n",
    "    \"agg\": {\n",
    "        \"sc_agg_parent_organoid_level\": [],\n",
    "        \"sc_agg_well_level\": [],\n",
    "        \"sc_consensus\": [],\n",
    "        \"organoid_agg_well_level\": [],\n",
    "        \"organoid_consensus\": [],\n",
    "    },\n",
    "    \"merged\": {\n",
    "        \"sc-organoid_sc_agg_well_parent_organoid_level\": [],\n",
    "        \"sc-organoid_agg_well_level\": [],\n",
    "        \"sc-organoid_consensus\": [],\n",
    "    },\n",
    "}"
   ]
  },
  {
   "cell_type": "code",
   "execution_count": 4,
   "metadata": {},
   "outputs": [],
   "source": [
    "for patient in patients:\n",
    "    norm_path = pathlib.Path(\n",
    "        f\"{root_dir}/data/{patient}/image_based_profiles/3.normalized_profiles\"\n",
    "    )\n",
    "    fs_path = pathlib.Path(\n",
    "        f\"{root_dir}/data/{patient}/image_based_profiles/4.feature_selected_profiles\"\n",
    "    )\n",
    "    agg_path = pathlib.Path(\n",
    "        f\"{root_dir}/data/{patient}/image_based_profiles/5.aggregated_profiles\"\n",
    "    )\n",
    "    merge_path = pathlib.Path(\n",
    "        f\"{root_dir}/data/{patient}/image_based_profiles/6.merged_profiles\"\n",
    "    )\n",
    "    for file in norm_path.glob(\"*.parquet\"):\n",
    "        if \"sc\" in file.name:\n",
    "            levels_to_merge_dict[\"norm\"][\"sc\"].append(file)\n",
    "        elif \"organoid\" in file.name:\n",
    "            levels_to_merge_dict[\"norm\"][\"organoid\"].append(file)\n",
    "    for file in fs_path.glob(\"*.parquet\"):\n",
    "        if \"sc\" in file.name:\n",
    "            levels_to_merge_dict[\"fs\"][\"sc_fs\"].append(file)\n",
    "        elif \"organoid\" in file.name:\n",
    "            levels_to_merge_dict[\"fs\"][\"organoid_fs\"].append(file)\n",
    "    for file in agg_path.glob(\"*.parquet\"):\n",
    "        for key in levels_to_merge_dict[\"agg\"].keys():\n",
    "            if key in file.name:\n",
    "                levels_to_merge_dict[\"agg\"][key].append(file)\n",
    "    for file in merge_path.glob(\"*.parquet\"):\n",
    "        for key in levels_to_merge_dict[\"merged\"].keys():\n",
    "            if key in file.name:\n",
    "                levels_to_merge_dict[\"merged\"][key].append(file)"
   ]
  },
  {
   "cell_type": "code",
   "execution_count": 5,
   "metadata": {},
   "outputs": [
    {
     "name": "stdout",
     "output_type": "stream",
     "text": [
      "Merged df shape for norm - sc: (11232, 1930)\n",
      "Merged df shape for norm - organoid: (1481, 648)\n",
      "Merged df shape for fs - sc_fs: (11232, 788)\n",
      "Merged df shape for fs - organoid_fs: (1481, 422)\n",
      "Merged df shape for agg - sc_agg_parent_organoid_level: (1318, 782)\n",
      "Merged df shape for agg - sc_agg_well_level: (395, 781)\n",
      "Merged df shape for agg - sc_consensus: (139, 781)\n",
      "Merged df shape for agg - organoid_agg_well_level: (392, 416)\n",
      "Merged df shape for agg - organoid_consensus: (140, 416)\n",
      "Merged df shape for merged - sc-organoid_sc_agg_well_parent_organoid_level: (1067, 1203)\n",
      "Merged df shape for merged - sc-organoid_agg_well_level: (386, 1196)\n",
      "Merged df shape for merged - sc-organoid_consensus: (139, 1196)\n"
     ]
    }
   ],
   "source": [
    "for level, files_dict in levels_to_merge_dict.items():\n",
    "    for profile_type, files in files_dict.items():\n",
    "        if not files:\n",
    "            continue\n",
    "\n",
    "        # Read and merge the parquet files\n",
    "        df = pd.concat([pd.read_parquet(file) for file in files], ignore_index=True)\n",
    "        print(f\"Merged df shape for {level} - {profile_type}: {df.shape}\")\n",
    "\n",
    "        # Optionally, you can save the merged table to a parquet file\n",
    "        output_path = pathlib.Path(\n",
    "            f\"{root_dir}/data/all_patient_IBPs/{level}_{profile_type}_merged.parquet\"\n",
    "        )\n",
    "        output_path.parent.mkdir(parents=True, exist_ok=True)\n",
    "        df.to_parquet(output_path, index=False)"
   ]
  }
 ],
 "metadata": {
  "kernelspec": {
   "display_name": "nf1_image_based_profiling_env",
   "language": "python",
   "name": "python3"
  },
  "language_info": {
   "codemirror_mode": {
    "name": "ipython",
    "version": 3
   },
   "file_extension": ".py",
   "mimetype": "text/x-python",
   "name": "python",
   "nbconvert_exporter": "python",
   "pygments_lexer": "ipython3",
   "version": "3.12.9"
  }
 },
 "nbformat": 4,
 "nbformat_minor": 2
}
