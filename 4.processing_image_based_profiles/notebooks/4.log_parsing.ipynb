{
 "cells": [
  {
   "cell_type": "code",
   "execution_count": 1,
   "metadata": {},
   "outputs": [],
   "source": [
    "import argparse\n",
    "import os\n",
    "import pathlib\n",
    "import pprint\n",
    "import sqlite3\n",
    "from contextlib import closing\n",
    "from functools import reduce\n",
    "\n",
    "import duckdb\n",
    "import pandas as pd\n",
    "\n",
    "try:\n",
    "    cfg = get_ipython().config\n",
    "    in_notebook = True\n",
    "except NameError:\n",
    "    in_notebook = False\n",
    "\n",
    "    # Get the current working directory\n",
    "cwd = pathlib.Path.cwd()\n",
    "\n",
    "if (cwd / \".git\").is_dir():\n",
    "    root_dir = cwd\n",
    "\n",
    "else:\n",
    "    root_dir = None\n",
    "    for parent in cwd.parents:\n",
    "        if (parent / \".git\").is_dir():\n",
    "            root_dir = parent\n",
    "            break\n",
    "\n",
    "# Check if a Git root directory was found\n",
    "if root_dir is None:\n",
    "    raise FileNotFoundError(\"No Git root directory found.\")"
   ]
  },
  {
   "cell_type": "code",
   "execution_count": 2,
   "metadata": {},
   "outputs": [
    {
     "name": "stdout",
     "output_type": "stream",
     "text": [
      "Total runs: 1895\n",
      "Passed runs: 1895\n",
      "Failed runs: 0\n",
      "Percentage of runs that passed: 100.00%\n"
     ]
    }
   ],
   "source": [
    "log_directory = pathlib.Path(\n",
    "    root_dir / \"4.processing_image_based_profiles/logs/patients\"\n",
    ").resolve(strict=True)\n",
    "# get a list of all files in the log directory\n",
    "log_files = [f for f in log_directory.iterdir() if f.is_file() and f.suffix == \".log\"]\n",
    "total_runs = 0\n",
    "passed_list = []\n",
    "failed_list = []\n",
    "for log_file in log_files:\n",
    "    if \"run_stats\" in log_file.name:\n",
    "        continue\n",
    "    total_runs += 1\n",
    "    with open(log_file, \"r\") as f:\n",
    "        content = f.read()\n",
    "        if \"Traceback\" in content:\n",
    "            failed_list.append(log_file.name)\n",
    "        else:\n",
    "            passed_list.append(log_file.name)\n",
    "print(f\"Total runs: {total_runs}\")\n",
    "print(f\"Passed runs: {len(passed_list)}\")\n",
    "print(f\"Failed runs: {len(failed_list)}\")\n",
    "print(\n",
    "    \"Percentage of runs that passed: {:.2f}%\".format(\n",
    "        (len(passed_list) / total_runs) * 100\n",
    "    )\n",
    ")"
   ]
  }
 ],
 "metadata": {
  "kernelspec": {
   "display_name": "nf1_image_based_profiling_env",
   "language": "python",
   "name": "python3"
  },
  "language_info": {
   "codemirror_mode": {
    "name": "ipython",
    "version": 3
   },
   "file_extension": ".py",
   "mimetype": "text/x-python",
   "name": "python",
   "nbconvert_exporter": "python",
   "pygments_lexer": "ipython3",
   "version": "3.12.9"
  }
 },
 "nbformat": 4,
 "nbformat_minor": 2
}
