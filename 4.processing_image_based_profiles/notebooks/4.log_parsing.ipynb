{
 "cells": [
  {
   "cell_type": "code",
   "execution_count": null,
   "metadata": {},
   "outputs": [],
   "source": [
    "import argparse\n",
    "import pathlib\n",
    "import pprint\n",
    "import sqlite3\n",
    "import sys\n",
    "from contextlib import closing\n",
    "from functools import reduce\n",
    "\n",
    "import duckdb\n",
    "import pandas as pd\n",
    "\n",
    "cwd = pathlib.Path.cwd()\n",
    "\n",
    "if (cwd / \".git\").is_dir():\n",
    "    root_dir = cwd\n",
    "else:\n",
    "    root_dir = None\n",
    "    for parent in cwd.parents:\n",
    "        if (parent / \".git\").is_dir():\n",
    "            root_dir = parent\n",
    "            break\n",
    "sys.path.append(str(root_dir / \"utils\"))\n",
    "from arg_parsing_utils import parse_args\n",
    "from notebook_init_utils import bandicoot_check, init_notebook\n",
    "\n",
    "root_dir, in_notebook = init_notebook()\n",
    "\n",
    "profile_base_dir = bandicoot_check(pathlib.Path(\"~/mnt/bandicoot\").resolve(), root_dir)"
   ]
  },
  {
   "cell_type": "code",
   "execution_count": 2,
   "metadata": {},
   "outputs": [
    {
     "name": "stdout",
     "output_type": "stream",
     "text": [
      "Total runs: 8\n",
      "Passed runs: 5\n",
      "Failed runs: 3\n",
      "Percentage of runs that passed: 62.50%\n"
     ]
    }
   ],
   "source": [
    "log_directory = pathlib.Path(\n",
    "    root_dir / \"4.processing_image_based_profiles/logs/patients\"\n",
    ").resolve(strict=True)\n",
    "# get a list of all files in the log directory\n",
    "log_files = [f for f in log_directory.iterdir() if f.is_file() and f.suffix == \".log\"]\n",
    "total_runs = 0\n",
    "passed_list = []\n",
    "failed_list = []\n",
    "for log_file in log_files:\n",
    "    if \"run_stats\" in log_file.name:\n",
    "        continue\n",
    "    total_runs += 1\n",
    "    with open(log_file, \"r\") as f:\n",
    "        content = f.read()\n",
    "        if \"Traceback\" in content:\n",
    "            failed_list.append(log_file.name)\n",
    "        else:\n",
    "            passed_list.append(log_file.name)\n",
    "print(f\"Total runs: {total_runs}\")\n",
    "print(f\"Passed runs: {len(passed_list)}\")\n",
    "print(f\"Failed runs: {len(failed_list)}\")\n",
    "print(\n",
    "    \"Percentage of runs that passed: {:.2f}%\".format(\n",
    "        (len(passed_list) / total_runs) * 100\n",
    "    )\n",
    ")"
   ]
  }
 ],
 "metadata": {
  "kernelspec": {
   "display_name": "nf1_image_based_profiling_env",
   "language": "python",
   "name": "python3"
  },
  "language_info": {
   "codemirror_mode": {
    "name": "ipython",
    "version": 3
   },
   "file_extension": ".py",
   "mimetype": "text/x-python",
   "name": "python",
   "nbconvert_exporter": "python",
   "pygments_lexer": "ipython3",
   "version": "3.12.9"
  }
 },
 "nbformat": 4,
 "nbformat_minor": 2
}
