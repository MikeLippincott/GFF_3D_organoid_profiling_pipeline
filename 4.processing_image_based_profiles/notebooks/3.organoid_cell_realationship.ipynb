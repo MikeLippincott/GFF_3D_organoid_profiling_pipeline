{
    "cells": [
        {
            "cell_type": "code",
            "execution_count": 3,
            "metadata": {},
            "outputs": [],
            "source": [
                "import argparse\n",
                "import pathlib\n",
                "\n",
                "import pandas as pd\n",
                "\n",
                "try:\n",
                "    cfg = get_ipython().config\n",
                "    in_notebook = True\n",
                "except NameError:\n",
                "    in_notebook = False"
            ]
        },
        {
            "cell_type": "code",
            "execution_count": 4,
            "metadata": {},
            "outputs": [],
            "source": [
                "if not in_notebook:\n",
                "    argparser = argparse.ArgumentParser()\n",
                "    argparser.add_argument(\n",
                "        \"--well_fov\",\n",
                "        type=str,\n",
                "        required=True,\n",
                "        help=\"Well and field of view to process, e.g. 'A01_1'\",\n",
                "    )\n",
                "    argparser.add_argument(\n",
                "        \"--patient\",\n",
                "        type=str,\n",
                "        required=True,\n",
                "        help=\"Patient ID to process, e.g. 'P01'\",\n",
                "    )\n",
                "    args = argparser.parse_args()\n",
                "    well_fov = args.well_fov\n",
                "    patient = args.patient\n",
                "else:\n",
                "    well_fov = \"C4-2\"\n",
                "    patient = \"NF0014\""
            ]
        },
        {
            "cell_type": "code",
            "execution_count": null,
            "metadata": {},
            "outputs": [],
            "source": []
        },
        {
            "cell_type": "code",
            "execution_count": null,
            "metadata": {},
            "outputs": [],
            "source": []
        },
        {
            "cell_type": "code",
            "execution_count": 5,
            "metadata": {},
            "outputs": [],
            "source": [
                "sc_profile_path = pathlib.Path(\n",
                "    f\"../../data/{patient}/image_based_profiles/{well_fov}/sc_profiles_{well_fov}.parquet\"\n",
                ").resolve(strict=True)\n",
                "organoid_profile_path = pathlib.Path(\n",
                "    f\"../../data/{patient}/image_based_profiles/{well_fov}/organoid_profiles_{well_fov}.parquet\"\n",
                ").resolve(strict=True)"
            ]
        },
        {
            "cell_type": "code",
            "execution_count": 6,
            "metadata": {},
            "outputs": [
                {
                    "name": "stdout",
                    "output_type": "stream",
                    "text": [
                        "Single-cell profile shape: (30, 2106)\n",
                        "Organoid profile shape: (1, 702)\n"
                    ]
                }
            ],
            "source": [
                "sc_profile_df = pd.read_parquet(sc_profile_path)\n",
                "organoid_profile_df = pd.read_parquet(organoid_profile_path)\n",
                "print(f\"Single-cell profile shape: {sc_profile_df.shape}\")\n",
                "print(f\"Organoid profile shape: {organoid_profile_df.shape}\")"
            ]
        },
        {
            "cell_type": "code",
            "execution_count": 11,
            "metadata": {},
            "outputs": [
                {
                    "data": {
                        "text/plain": [
                            "['Area.Size.Shape_Nuclei_AGP_CENTER.X',\n",
                            " 'Area.Size.Shape_Nuclei_AGP_CENTER.Y',\n",
                            " 'Area.Size.Shape_Nuclei_AGP_CENTER.Z',\n",
                            " 'Area.Size.Shape_Nuclei_BF_CENTER.X',\n",
                            " 'Area.Size.Shape_Nuclei_BF_CENTER.Y',\n",
                            " 'Area.Size.Shape_Nuclei_BF_CENTER.Z',\n",
                            " 'Area.Size.Shape_Nuclei_DNA_CENTER.X',\n",
                            " 'Area.Size.Shape_Nuclei_DNA_CENTER.Y',\n",
                            " 'Area.Size.Shape_Nuclei_DNA_CENTER.Z',\n",
                            " 'Area.Size.Shape_Nuclei_ER_CENTER.X',\n",
                            " 'Area.Size.Shape_Nuclei_ER_CENTER.Y',\n",
                            " 'Area.Size.Shape_Nuclei_ER_CENTER.Z',\n",
                            " 'Area.Size.Shape_Nuclei_Mito_CENTER.X',\n",
                            " 'Area.Size.Shape_Nuclei_Mito_CENTER.Y',\n",
                            " 'Area.Size.Shape_Nuclei_Mito_CENTER.Z']"
                        ]
                    },
                    "execution_count": 11,
                    "metadata": {},
                    "output_type": "execute_result"
                }
            ],
            "source": [
                "[\n",
                "    x\n",
                "    for x in sc_profile_df.columns\n",
                "    if \"Area\" in x and \"center\" in x.lower() and \"Nuclei\" in x\n",
                "]"
            ]
        }
    ],
    "metadata": {
        "kernelspec": {
            "display_name": "nf1_image_based_profiling_env",
            "language": "python",
            "name": "python3"
        },
        "language_info": {
            "codemirror_mode": {
                "name": "ipython",
                "version": 3
            },
            "file_extension": ".py",
            "mimetype": "text/x-python",
            "name": "python",
            "nbconvert_exporter": "python",
            "pygments_lexer": "ipython3",
            "version": "3.12.9"
        }
    },
    "nbformat": 4,
    "nbformat_minor": 2
}
