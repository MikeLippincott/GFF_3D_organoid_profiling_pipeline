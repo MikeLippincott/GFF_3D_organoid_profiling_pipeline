{
    "cells": [
        {
            "cell_type": "code",
            "execution_count": 1,
            "metadata": {},
            "outputs": [],
            "source": [
                "import argparse\n",
                "import pathlib\n",
                "\n",
                "import pandas as pd\n",
                "\n",
                "try:\n",
                "    cfg = get_ipython().config\n",
                "    in_notebook = True\n",
                "except NameError:\n",
                "    in_notebook = False"
            ]
        },
        {
            "cell_type": "code",
            "execution_count": 2,
            "metadata": {},
            "outputs": [],
            "source": [
                "if not in_notebook:\n",
                "    argparser = argparse.ArgumentParser()\n",
                "    argparser.add_argument(\n",
                "        \"--well_fov\",\n",
                "        type=str,\n",
                "        required=True,\n",
                "        help=\"Well and field of view to process, e.g. 'A01_1'\",\n",
                "    )\n",
                "    argparser.add_argument(\n",
                "        \"--patient\",\n",
                "        type=str,\n",
                "        required=True,\n",
                "        help=\"Patient ID to process, e.g. 'P01'\",\n",
                "    )\n",
                "    args = argparser.parse_args()\n",
                "    well_fov = args.well_fov\n",
                "    patient = args.patient\n",
                "else:\n",
                "    well_fov = \"C4-2\"\n",
                "    patient = \"NF0014\""
            ]
        },
        {
            "cell_type": "code",
            "execution_count": 3,
            "metadata": {},
            "outputs": [],
            "source": [
                "def centroid_within_bbox_detection(\n",
                "    centroid: tuple,\n",
                "    bbox: tuple,\n",
                ") -> bool:\n",
                "    \"\"\"\n",
                "    Check if the centroid is within the bbox\n",
                "\n",
                "    Parameters\n",
                "    ----------\n",
                "    centroid : tuple\n",
                "        Centroid of the object in the order of (z, y, x)\n",
                "        Order of the centroid is important\n",
                "    bbox : tuple\n",
                "        Where the bbox is in the order of (z_min, y_min, x_min, z_max, y_max, x_max)\n",
                "        Order of the bbox is important\n",
                "\n",
                "    Returns\n",
                "    -------\n",
                "    bool\n",
                "        True if the centroid is within the bbox, False otherwise\n",
                "    \"\"\"\n",
                "    z_min, y_min, x_min, z_max, y_max, x_max = bbox\n",
                "    z, y, x = centroid\n",
                "    # check if the centroid is within the bbox\n",
                "    if (\n",
                "        z >= z_min\n",
                "        and z <= z_max\n",
                "        and y >= y_min\n",
                "        and y <= y_max\n",
                "        and x >= x_min\n",
                "        and x <= x_max\n",
                "    ):\n",
                "        return True\n",
                "    else:\n",
                "        return False"
            ]
        },
        {
            "cell_type": "code",
            "execution_count": null,
            "metadata": {},
            "outputs": [],
            "source": []
        },
        {
            "cell_type": "code",
            "execution_count": 4,
            "metadata": {},
            "outputs": [],
            "source": [
                "sc_profile_path = pathlib.Path(\n",
                "    f\"../../data/{patient}/image_based_profiles/{well_fov}/sc_profiles_{well_fov}.parquet\"\n",
                ").resolve(strict=True)\n",
                "organoid_profile_path = pathlib.Path(\n",
                "    f\"../../data/{patient}/image_based_profiles/{well_fov}/organoid_profiles_{well_fov}.parquet\"\n",
                ").resolve(strict=True)"
            ]
        },
        {
            "cell_type": "code",
            "execution_count": 5,
            "metadata": {},
            "outputs": [
                {
                    "name": "stdout",
                    "output_type": "stream",
                    "text": [
                        "Single-cell profile shape: (30, 1926)\n",
                        "Organoid profile shape: (1, 642)\n"
                    ]
                }
            ],
            "source": [
                "sc_profile_df = pd.read_parquet(sc_profile_path)\n",
                "organoid_profile_df = pd.read_parquet(organoid_profile_path)\n",
                "print(f\"Single-cell profile shape: {sc_profile_df.shape}\")\n",
                "print(f\"Organoid profile shape: {organoid_profile_df.shape}\")"
            ]
        },
        {
            "cell_type": "code",
            "execution_count": 6,
            "metadata": {},
            "outputs": [
                {
                    "data": {
                        "text/plain": [
                            "['Area.Size.Shape_Nuclei_CENTER.X',\n",
                            " 'Area.Size.Shape_Nuclei_CENTER.Y',\n",
                            " 'Area.Size.Shape_Nuclei_CENTER.Z']"
                        ]
                    },
                    "execution_count": 6,
                    "metadata": {},
                    "output_type": "execute_result"
                }
            ],
            "source": [
                "x_y_z_sc_colnames = [\n",
                "    x\n",
                "    for x in sc_profile_df.columns\n",
                "    if \"Area\" in x and \"center\" in x.lower() and \"Nuclei\" in x\n",
                "]\n",
                "x_y_z_sc_colnames"
            ]
        },
        {
            "cell_type": "code",
            "execution_count": 7,
            "metadata": {},
            "outputs": [],
            "source": [
                "organoid_bbox_colnames = [\n",
                "    x for x in organoid_profile_df.columns if \"Area\" in x and (\"MIN\" in x or \"MAX\" in x)\n",
                "]\n",
                "\n",
                "organoid_bbox_colnames = sorted(organoid_bbox_colnames)"
            ]
        },
        {
            "cell_type": "code",
            "execution_count": 8,
            "metadata": {},
            "outputs": [],
            "source": [
                "# loop thorugh the organoids first as there are less organoids than single-cells\n",
                "for organoid_index, organoid_row in organoid_profile_df.iterrows():\n",
                "    # get the organoid bbox - should be alphabetically sorted\n",
                "    # define the organoid bbox in the order of:\n",
                "    # (z_min, y_min, x_min, z_max, y_max, x_max)\n",
                "    organoid_bbox = (\n",
                "        organoid_row[organoid_bbox_colnames[5]],\n",
                "        organoid_row[organoid_bbox_colnames[4]],\n",
                "        organoid_row[organoid_bbox_colnames[3]],\n",
                "        organoid_row[organoid_bbox_colnames[2]],\n",
                "        organoid_row[organoid_bbox_colnames[1]],\n",
                "        organoid_row[organoid_bbox_colnames[0]],\n",
                "    )\n",
                "    # loop through the single-cells and check if the centroid is within the organoid bbox\n",
                "    for sc_index, sc_row in sc_profile_df.iterrows():\n",
                "        # get the single-cell centroid - should be alphabetically sorted\n",
                "        # define the single-cell centroid in the order of (z, y, x)\n",
                "        sc_centroid = (\n",
                "            sc_row[x_y_z_sc_colnames[2]],\n",
                "            sc_row[x_y_z_sc_colnames[1]],\n",
                "            sc_row[x_y_z_sc_colnames[0]],\n",
                "        )\n",
                "\n",
                "        if centroid_within_bbox_detection(sc_centroid, organoid_bbox):\n",
                "            sc_profile_df.at[sc_index, \"Parent_organoid\"] = organoid_index\n",
                "        else:\n",
                "            # if the centroid is not within the organoid bbox, set the parent organoid to -1\n",
                "            sc_profile_df.at[sc_index, \"Parent_organoid\"] = -1"
            ]
        },
        {
            "cell_type": "code",
            "execution_count": null,
            "metadata": {},
            "outputs": [],
            "source": []
        }
    ],
    "metadata": {
        "kernelspec": {
            "display_name": "nf1_image_based_profiling_env",
            "language": "python",
            "name": "python3"
        },
        "language_info": {
            "codemirror_mode": {
                "name": "ipython",
                "version": 3
            },
            "file_extension": ".py",
            "mimetype": "text/x-python",
            "name": "python",
            "nbconvert_exporter": "python",
            "pygments_lexer": "ipython3",
            "version": "3.12.9"
        }
    },
    "nbformat": 4,
    "nbformat_minor": 2
}
