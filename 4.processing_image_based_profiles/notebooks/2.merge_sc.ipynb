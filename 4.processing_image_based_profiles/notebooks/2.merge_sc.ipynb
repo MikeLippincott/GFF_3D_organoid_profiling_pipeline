{
 "cells": [
  {
   "cell_type": "code",
   "execution_count": 1,
   "metadata": {},
   "outputs": [],
   "source": [
    "import argparse\n",
    "import pathlib\n",
    "import sys\n",
    "\n",
    "import pandas as pd\n",
    "from cytotable import convert, presets\n",
    "\n",
    "sys.path.append(\"../../../utils\")\n",
    "import uuid\n",
    "\n",
    "import duckdb\n",
    "from parsl.config import Config\n",
    "from parsl.executors import HighThroughputExecutor\n",
    "\n",
    "cwd = pathlib.Path.cwd()\n",
    "\n",
    "if (cwd / \".git\").is_dir():\n",
    "    root_dir = cwd\n",
    "else:\n",
    "    root_dir = None\n",
    "    for parent in cwd.parents:\n",
    "        if (parent / \".git\").is_dir():\n",
    "            root_dir = parent\n",
    "            break\n",
    "sys.path.append(str(root_dir / \"utils\"))\n",
    "from arg_parsing_utils import parse_args\n",
    "from notebook_init_utils import bandicoot_check, init_notebook\n",
    "\n",
    "root_dir, in_notebook = init_notebook()\n",
    "\n",
    "profile_base_dir = bandicoot_check(\n",
    "    pathlib.Path(\"/home/lippincm/mnt/bandicoot\").resolve(), root_dir\n",
    ")"
   ]
  },
  {
   "cell_type": "code",
   "execution_count": 2,
   "metadata": {},
   "outputs": [],
   "source": [
    "if not in_notebook:\n",
    "    args = parse_args()\n",
    "    well_fov = args[\"well_fov\"]\n",
    "    patient = args[\"patient\"]\n",
    "else:\n",
    "    patient = \"NF0014_T1\"\n",
    "    well_fov = \"G2-2\""
   ]
  },
  {
   "cell_type": "code",
   "execution_count": 3,
   "metadata": {},
   "outputs": [],
   "source": [
    "input_sqlite_file = pathlib.Path(\n",
    "    f\"{profile_base_dir}/data/{patient}/image_based_profiles/0.converted_profiles/{well_fov}/{well_fov}.duckdb\"\n",
    ").resolve(strict=True)\n",
    "destination_sc_parquet_file = pathlib.Path(\n",
    "    f\"{profile_base_dir}/data/{patient}/image_based_profiles/0.converted_profiles/{well_fov}/sc_profiles_{well_fov}.parquet\"\n",
    ").resolve()\n",
    "destination_organoid_parquet_file = pathlib.Path(\n",
    "    f\"{profile_base_dir}/data/{patient}/image_based_profiles/0.converted_profiles/{well_fov}/organoid_profiles_{well_fov}.parquet\"\n",
    ").resolve()\n",
    "destination_sc_parquet_file.parent.mkdir(parents=True, exist_ok=True)\n",
    "dest_datatype = \"parquet\""
   ]
  },
  {
   "cell_type": "code",
   "execution_count": 4,
   "metadata": {},
   "outputs": [
    {
     "name": "stdout",
     "output_type": "stream",
     "text": [
      "        name\n",
      "0       Cell\n",
      "1  Cytoplasm\n",
      "2     Nuclei\n",
      "3   Organoid\n"
     ]
    }
   ],
   "source": [
    "# show the tables\n",
    "with duckdb.connect(input_sqlite_file) as con:\n",
    "    tables = con.execute(\"SHOW TABLES\").fetchdf()\n",
    "    print(tables)\n",
    "    nuclei_table = con.sql(\"SELECT * FROM Nuclei\").df()\n",
    "    cells_table = con.sql(\"SELECT * FROM Cell\").df()\n",
    "    cytoplasm_table = con.sql(\"SELECT * FROM Cytoplasm\").df()\n",
    "    organoid_table = con.sql(\"SELECT * FROM Organoid\").df()"
   ]
  },
  {
   "cell_type": "code",
   "execution_count": 5,
   "metadata": {},
   "outputs": [],
   "source": [
    "nuclei_id_set = set(nuclei_table[\"object_id\"].to_list())\n",
    "cells_id_set = set(cells_table[\"object_id\"].to_list())\n",
    "cytoplasm_id_set = set(cytoplasm_table[\"object_id\"].to_list())\n",
    "# find the intersection of the three sets\n",
    "intersection_set = nuclei_id_set.intersection(cells_id_set, cytoplasm_id_set)\n",
    "# keep only the rows in the three tables that are in the intersection set\n",
    "nuclei_table = nuclei_table[nuclei_table[\"object_id\"].isin(intersection_set)]\n",
    "cells_table = cells_table[cells_table[\"object_id\"].isin(intersection_set)]\n",
    "cytoplasm_table = cytoplasm_table[cytoplasm_table[\"object_id\"].isin(intersection_set)]"
   ]
  },
  {
   "cell_type": "code",
   "execution_count": 6,
   "metadata": {},
   "outputs": [],
   "source": [
    "# connect to DuckDB and register the tables\n",
    "with duckdb.connect() as con:\n",
    "    con.register(\"nuclei\", nuclei_table)\n",
    "    con.register(\"cells\", cells_table)\n",
    "    con.register(\"cytoplasm\", cytoplasm_table)\n",
    "    # Merge them with SQL\n",
    "    merged_df = con.execute(\"\"\"\n",
    "        SELECT *\n",
    "        FROM nuclei\n",
    "        LEFT JOIN cells USING (object_id)\n",
    "        LEFT JOIN cytoplasm USING (object_id)\n",
    "    \"\"\").df()"
   ]
  },
  {
   "cell_type": "code",
   "execution_count": 7,
   "metadata": {},
   "outputs": [
    {
     "name": "stdout",
     "output_type": "stream",
     "text": [
      "Final organoid data shape: (0, 2278)\n"
     ]
    },
    {
     "data": {
      "text/html": [
       "<div>\n",
       "<style scoped>\n",
       "    .dataframe tbody tr th:only-of-type {\n",
       "        vertical-align: middle;\n",
       "    }\n",
       "\n",
       "    .dataframe tbody tr th {\n",
       "        vertical-align: top;\n",
       "    }\n",
       "\n",
       "    .dataframe thead th {\n",
       "        text-align: right;\n",
       "    }\n",
       "</style>\n",
       "<table border=\"1\" class=\"dataframe\">\n",
       "  <thead>\n",
       "    <tr style=\"text-align: right;\">\n",
       "      <th></th>\n",
       "      <th>object_id</th>\n",
       "      <th>image_set</th>\n",
       "      <th>Area.Size.Shape_Organoid_VOLUME</th>\n",
       "      <th>Area.Size.Shape_Organoid_CENTER.X</th>\n",
       "      <th>Area.Size.Shape_Organoid_CENTER.Y</th>\n",
       "      <th>Area.Size.Shape_Organoid_CENTER.Z</th>\n",
       "      <th>Area.Size.Shape_Organoid_BBOX.VOLUME</th>\n",
       "      <th>Area.Size.Shape_Organoid_MIN.X</th>\n",
       "      <th>Area.Size.Shape_Organoid_MAX.X</th>\n",
       "      <th>Area.Size.Shape_Organoid_MIN.Y</th>\n",
       "      <th>...</th>\n",
       "      <th>Texture_Organoid_Mito_Difference.Entropy_256.3</th>\n",
       "      <th>Texture_Organoid_Mito_Difference.Variance_256.3</th>\n",
       "      <th>Texture_Organoid_Mito_Entropy_256.3</th>\n",
       "      <th>Texture_Organoid_Mito_Information.Measure.of.Correlation.1_256.3</th>\n",
       "      <th>Texture_Organoid_Mito_Information.Measure.of.Correlation.2_256.3</th>\n",
       "      <th>Texture_Organoid_Mito_Inverse.Difference.Moment_256.3</th>\n",
       "      <th>Texture_Organoid_Mito_Sum.Average_256.3</th>\n",
       "      <th>Texture_Organoid_Mito_Sum.Entropy_256.3</th>\n",
       "      <th>Texture_Organoid_Mito_Sum.Variance_256.3</th>\n",
       "      <th>Texture_Organoid_Mito_Variance_256.3</th>\n",
       "    </tr>\n",
       "  </thead>\n",
       "  <tbody>\n",
       "  </tbody>\n",
       "</table>\n",
       "<p>0 rows × 642 columns</p>\n",
       "</div>"
      ],
      "text/plain": [
       "Empty DataFrame\n",
       "Columns: [object_id, image_set, Area.Size.Shape_Organoid_VOLUME, Area.Size.Shape_Organoid_CENTER.X, Area.Size.Shape_Organoid_CENTER.Y, Area.Size.Shape_Organoid_CENTER.Z, Area.Size.Shape_Organoid_BBOX.VOLUME, Area.Size.Shape_Organoid_MIN.X, Area.Size.Shape_Organoid_MAX.X, Area.Size.Shape_Organoid_MIN.Y, Area.Size.Shape_Organoid_MAX.Y, Area.Size.Shape_Organoid_MIN.Z, Area.Size.Shape_Organoid_MAX.Z, Area.Size.Shape_Organoid_EXTENT, Area.Size.Shape_Organoid_EULER.NUMBER, Area.Size.Shape_Organoid_EQUIVALENT.DIAMETER, Area.Size.Shape_Organoid_SURFACE.AREA, Colocalization_Organoid_AGP.BF_MEAN.CORRELATION.COEFF, Colocalization_Organoid_AGP.BF_MEDIAN.CORRELATION.COEFF, Colocalization_Organoid_AGP.BF_MIN.CORRELATION.COEFF, Colocalization_Organoid_AGP.BF_MAX.CORRELATION.COEFF, Colocalization_Organoid_AGP.BF_MEAN.MANDERS.COEFF.M1, Colocalization_Organoid_AGP.BF_MEDIAN.MANDERS.COEFF.M1, Colocalization_Organoid_AGP.BF_MIN.MANDERS.COEFF.M1, Colocalization_Organoid_AGP.BF_MAX.MANDERS.COEFF.M1, Colocalization_Organoid_AGP.BF_MEAN.MANDERS.COEFF.M2, Colocalization_Organoid_AGP.BF_MEDIAN.MANDERS.COEFF.M2, Colocalization_Organoid_AGP.BF_MIN.MANDERS.COEFF.M2, Colocalization_Organoid_AGP.BF_MAX.MANDERS.COEFF.M2, Colocalization_Organoid_AGP.BF_MEAN.OVERLAP.COEFF, Colocalization_Organoid_AGP.BF_MEDIAN.OVERLAP.COEFF, Colocalization_Organoid_AGP.BF_MIN.OVERLAP.COEFF, Colocalization_Organoid_AGP.BF_MAX.OVERLAP.COEFF, Colocalization_Organoid_AGP.BF_MEAN.K1, Colocalization_Organoid_AGP.BF_MEDIAN.K1, Colocalization_Organoid_AGP.BF_MIN.K1, Colocalization_Organoid_AGP.BF_MAX.K1, Colocalization_Organoid_AGP.BF_MEAN.K2, Colocalization_Organoid_AGP.BF_MEDIAN.K2, Colocalization_Organoid_AGP.BF_MIN.K2, Colocalization_Organoid_AGP.BF_MAX.K2, Colocalization_Organoid_AGP.BF_MEAN.MANDERS.COEFF.COSTES.M1, Colocalization_Organoid_AGP.BF_MEDIAN.MANDERS.COEFF.COSTES.M1, Colocalization_Organoid_AGP.BF_MIN.MANDERS.COEFF.COSTES.M1, Colocalization_Organoid_AGP.BF_MAX.MANDERS.COEFF.COSTES.M1, Colocalization_Organoid_AGP.BF_MEAN.MANDERS.COEFF.COSTES.M2, Colocalization_Organoid_AGP.BF_MEDIAN.MANDERS.COEFF.COSTES.M2, Colocalization_Organoid_AGP.BF_MIN.MANDERS.COEFF.COSTES.M2, Colocalization_Organoid_AGP.BF_MAX.MANDERS.COEFF.COSTES.M2, Colocalization_Organoid_AGP.ER_MEAN.CORRELATION.COEFF, Colocalization_Organoid_AGP.ER_MEDIAN.CORRELATION.COEFF, Colocalization_Organoid_AGP.ER_MIN.CORRELATION.COEFF, Colocalization_Organoid_AGP.ER_MAX.CORRELATION.COEFF, Colocalization_Organoid_AGP.ER_MEAN.MANDERS.COEFF.M1, Colocalization_Organoid_AGP.ER_MEDIAN.MANDERS.COEFF.M1, Colocalization_Organoid_AGP.ER_MIN.MANDERS.COEFF.M1, Colocalization_Organoid_AGP.ER_MAX.MANDERS.COEFF.M1, Colocalization_Organoid_AGP.ER_MEAN.MANDERS.COEFF.M2, Colocalization_Organoid_AGP.ER_MEDIAN.MANDERS.COEFF.M2, Colocalization_Organoid_AGP.ER_MIN.MANDERS.COEFF.M2, Colocalization_Organoid_AGP.ER_MAX.MANDERS.COEFF.M2, Colocalization_Organoid_AGP.ER_MEAN.OVERLAP.COEFF, Colocalization_Organoid_AGP.ER_MEDIAN.OVERLAP.COEFF, Colocalization_Organoid_AGP.ER_MIN.OVERLAP.COEFF, Colocalization_Organoid_AGP.ER_MAX.OVERLAP.COEFF, Colocalization_Organoid_AGP.ER_MEAN.K1, Colocalization_Organoid_AGP.ER_MEDIAN.K1, Colocalization_Organoid_AGP.ER_MIN.K1, Colocalization_Organoid_AGP.ER_MAX.K1, Colocalization_Organoid_AGP.ER_MEAN.K2, Colocalization_Organoid_AGP.ER_MEDIAN.K2, Colocalization_Organoid_AGP.ER_MIN.K2, Colocalization_Organoid_AGP.ER_MAX.K2, Colocalization_Organoid_AGP.ER_MEAN.MANDERS.COEFF.COSTES.M1, Colocalization_Organoid_AGP.ER_MEDIAN.MANDERS.COEFF.COSTES.M1, Colocalization_Organoid_AGP.ER_MIN.MANDERS.COEFF.COSTES.M1, Colocalization_Organoid_AGP.ER_MAX.MANDERS.COEFF.COSTES.M1, Colocalization_Organoid_AGP.ER_MEAN.MANDERS.COEFF.COSTES.M2, Colocalization_Organoid_AGP.ER_MEDIAN.MANDERS.COEFF.COSTES.M2, Colocalization_Organoid_AGP.ER_MIN.MANDERS.COEFF.COSTES.M2, Colocalization_Organoid_AGP.ER_MAX.MANDERS.COEFF.COSTES.M2, Colocalization_Organoid_AGP.Mito_MEAN.CORRELATION.COEFF, Colocalization_Organoid_AGP.Mito_MEDIAN.CORRELATION.COEFF, Colocalization_Organoid_AGP.Mito_MIN.CORRELATION.COEFF, Colocalization_Organoid_AGP.Mito_MAX.CORRELATION.COEFF, Colocalization_Organoid_AGP.Mito_MEAN.MANDERS.COEFF.M1, Colocalization_Organoid_AGP.Mito_MEDIAN.MANDERS.COEFF.M1, Colocalization_Organoid_AGP.Mito_MIN.MANDERS.COEFF.M1, Colocalization_Organoid_AGP.Mito_MAX.MANDERS.COEFF.M1, Colocalization_Organoid_AGP.Mito_MEAN.MANDERS.COEFF.M2, Colocalization_Organoid_AGP.Mito_MEDIAN.MANDERS.COEFF.M2, Colocalization_Organoid_AGP.Mito_MIN.MANDERS.COEFF.M2, Colocalization_Organoid_AGP.Mito_MAX.MANDERS.COEFF.M2, Colocalization_Organoid_AGP.Mito_MEAN.OVERLAP.COEFF, Colocalization_Organoid_AGP.Mito_MEDIAN.OVERLAP.COEFF, Colocalization_Organoid_AGP.Mito_MIN.OVERLAP.COEFF, Colocalization_Organoid_AGP.Mito_MAX.OVERLAP.COEFF, Colocalization_Organoid_AGP.Mito_MEAN.K1, Colocalization_Organoid_AGP.Mito_MEDIAN.K1, Colocalization_Organoid_AGP.Mito_MIN.K1, ...]\n",
       "Index: []\n",
       "\n",
       "[0 rows x 642 columns]"
      ]
     },
     "execution_count": 7,
     "metadata": {},
     "output_type": "execute_result"
    }
   ],
   "source": [
    "# save the organoid data as parquet\n",
    "print(f\"Final organoid data shape: {merged_df.shape}\")\n",
    "organoid_table.to_parquet(destination_organoid_parquet_file, index=False)\n",
    "organoid_table.head()"
   ]
  },
  {
   "cell_type": "code",
   "execution_count": 8,
   "metadata": {},
   "outputs": [],
   "source": [
    "# drop columns that end with _x or _y lowercase\n",
    "merged_df = merged_df.loc[:, ~merged_df.columns.str.endswith((\"_x\", \"_y\"))]"
   ]
  },
  {
   "cell_type": "code",
   "execution_count": 9,
   "metadata": {},
   "outputs": [
    {
     "name": "stdout",
     "output_type": "stream",
     "text": [
      "Final merged single cell dataframe shape: (0, 1574)\n"
     ]
    },
    {
     "data": {
      "text/html": [
       "<div>\n",
       "<style scoped>\n",
       "    .dataframe tbody tr th:only-of-type {\n",
       "        vertical-align: middle;\n",
       "    }\n",
       "\n",
       "    .dataframe tbody tr th {\n",
       "        vertical-align: top;\n",
       "    }\n",
       "\n",
       "    .dataframe thead th {\n",
       "        text-align: right;\n",
       "    }\n",
       "</style>\n",
       "<table border=\"1\" class=\"dataframe\">\n",
       "  <thead>\n",
       "    <tr style=\"text-align: right;\">\n",
       "      <th></th>\n",
       "      <th>object_id</th>\n",
       "      <th>image_set</th>\n",
       "      <th>Area.Size.Shape_Nuclei_VOLUME</th>\n",
       "      <th>Area.Size.Shape_Nuclei_CENTER.X</th>\n",
       "      <th>Area.Size.Shape_Nuclei_CENTER.Y</th>\n",
       "      <th>Area.Size.Shape_Nuclei_CENTER.Z</th>\n",
       "      <th>Area.Size.Shape_Nuclei_BBOX.VOLUME</th>\n",
       "      <th>Area.Size.Shape_Nuclei_MIN.X</th>\n",
       "      <th>Area.Size.Shape_Nuclei_MAX.X</th>\n",
       "      <th>Area.Size.Shape_Nuclei_MIN.Y</th>\n",
       "      <th>...</th>\n",
       "      <th>Texture_Cytoplasm_Mito_Difference.Entropy_256.3</th>\n",
       "      <th>Texture_Cytoplasm_Mito_Difference.Variance_256.3</th>\n",
       "      <th>Texture_Cytoplasm_Mito_Entropy_256.3</th>\n",
       "      <th>Texture_Cytoplasm_Mito_Information.Measure.of.Correlation.1_256.3</th>\n",
       "      <th>Texture_Cytoplasm_Mito_Information.Measure.of.Correlation.2_256.3</th>\n",
       "      <th>Texture_Cytoplasm_Mito_Inverse.Difference.Moment_256.3</th>\n",
       "      <th>Texture_Cytoplasm_Mito_Sum.Average_256.3</th>\n",
       "      <th>Texture_Cytoplasm_Mito_Sum.Entropy_256.3</th>\n",
       "      <th>Texture_Cytoplasm_Mito_Sum.Variance_256.3</th>\n",
       "      <th>Texture_Cytoplasm_Mito_Variance_256.3</th>\n",
       "    </tr>\n",
       "  </thead>\n",
       "  <tbody>\n",
       "  </tbody>\n",
       "</table>\n",
       "<p>0 rows × 1574 columns</p>\n",
       "</div>"
      ],
      "text/plain": [
       "Empty DataFrame\n",
       "Columns: [object_id, image_set, Area.Size.Shape_Nuclei_VOLUME, Area.Size.Shape_Nuclei_CENTER.X, Area.Size.Shape_Nuclei_CENTER.Y, Area.Size.Shape_Nuclei_CENTER.Z, Area.Size.Shape_Nuclei_BBOX.VOLUME, Area.Size.Shape_Nuclei_MIN.X, Area.Size.Shape_Nuclei_MAX.X, Area.Size.Shape_Nuclei_MIN.Y, Area.Size.Shape_Nuclei_MAX.Y, Area.Size.Shape_Nuclei_MIN.Z, Area.Size.Shape_Nuclei_MAX.Z, Area.Size.Shape_Nuclei_EXTENT, Area.Size.Shape_Nuclei_EULER.NUMBER, Area.Size.Shape_Nuclei_EQUIVALENT.DIAMETER, Area.Size.Shape_Nuclei_SURFACE.AREA, Colocalization_Nuclei_AGP.BF_MEAN.CORRELATION.COEFF, Colocalization_Nuclei_AGP.BF_MEDIAN.CORRELATION.COEFF, Colocalization_Nuclei_AGP.BF_MIN.CORRELATION.COEFF, Colocalization_Nuclei_AGP.BF_MAX.CORRELATION.COEFF, Colocalization_Nuclei_AGP.BF_MEAN.MANDERS.COEFF.M1, Colocalization_Nuclei_AGP.BF_MEDIAN.MANDERS.COEFF.M1, Colocalization_Nuclei_AGP.BF_MIN.MANDERS.COEFF.M1, Colocalization_Nuclei_AGP.BF_MAX.MANDERS.COEFF.M1, Colocalization_Nuclei_AGP.BF_MEAN.MANDERS.COEFF.M2, Colocalization_Nuclei_AGP.BF_MEDIAN.MANDERS.COEFF.M2, Colocalization_Nuclei_AGP.BF_MIN.MANDERS.COEFF.M2, Colocalization_Nuclei_AGP.BF_MAX.MANDERS.COEFF.M2, Colocalization_Nuclei_AGP.BF_MEAN.OVERLAP.COEFF, Colocalization_Nuclei_AGP.BF_MEDIAN.OVERLAP.COEFF, Colocalization_Nuclei_AGP.BF_MIN.OVERLAP.COEFF, Colocalization_Nuclei_AGP.BF_MAX.OVERLAP.COEFF, Colocalization_Nuclei_AGP.BF_MEAN.K1, Colocalization_Nuclei_AGP.BF_MEDIAN.K1, Colocalization_Nuclei_AGP.BF_MIN.K1, Colocalization_Nuclei_AGP.BF_MAX.K1, Colocalization_Nuclei_AGP.BF_MEAN.K2, Colocalization_Nuclei_AGP.BF_MEDIAN.K2, Colocalization_Nuclei_AGP.BF_MIN.K2, Colocalization_Nuclei_AGP.BF_MAX.K2, Colocalization_Nuclei_AGP.BF_MEAN.MANDERS.COEFF.COSTES.M1, Colocalization_Nuclei_AGP.BF_MEDIAN.MANDERS.COEFF.COSTES.M1, Colocalization_Nuclei_AGP.BF_MIN.MANDERS.COEFF.COSTES.M1, Colocalization_Nuclei_AGP.BF_MAX.MANDERS.COEFF.COSTES.M1, Colocalization_Nuclei_AGP.BF_MEAN.MANDERS.COEFF.COSTES.M2, Colocalization_Nuclei_AGP.BF_MEDIAN.MANDERS.COEFF.COSTES.M2, Colocalization_Nuclei_AGP.BF_MIN.MANDERS.COEFF.COSTES.M2, Colocalization_Nuclei_AGP.BF_MAX.MANDERS.COEFF.COSTES.M2, Colocalization_Nuclei_AGP.ER_MEAN.CORRELATION.COEFF, Colocalization_Nuclei_AGP.ER_MEDIAN.CORRELATION.COEFF, Colocalization_Nuclei_AGP.ER_MIN.CORRELATION.COEFF, Colocalization_Nuclei_AGP.ER_MAX.CORRELATION.COEFF, Colocalization_Nuclei_AGP.ER_MEAN.MANDERS.COEFF.M1, Colocalization_Nuclei_AGP.ER_MEDIAN.MANDERS.COEFF.M1, Colocalization_Nuclei_AGP.ER_MIN.MANDERS.COEFF.M1, Colocalization_Nuclei_AGP.ER_MAX.MANDERS.COEFF.M1, Colocalization_Nuclei_AGP.ER_MEAN.MANDERS.COEFF.M2, Colocalization_Nuclei_AGP.ER_MEDIAN.MANDERS.COEFF.M2, Colocalization_Nuclei_AGP.ER_MIN.MANDERS.COEFF.M2, Colocalization_Nuclei_AGP.ER_MAX.MANDERS.COEFF.M2, Colocalization_Nuclei_AGP.ER_MEAN.OVERLAP.COEFF, Colocalization_Nuclei_AGP.ER_MEDIAN.OVERLAP.COEFF, Colocalization_Nuclei_AGP.ER_MIN.OVERLAP.COEFF, Colocalization_Nuclei_AGP.ER_MAX.OVERLAP.COEFF, Colocalization_Nuclei_AGP.ER_MEAN.K1, Colocalization_Nuclei_AGP.ER_MEDIAN.K1, Colocalization_Nuclei_AGP.ER_MIN.K1, Colocalization_Nuclei_AGP.ER_MAX.K1, Colocalization_Nuclei_AGP.ER_MEAN.K2, Colocalization_Nuclei_AGP.ER_MEDIAN.K2, Colocalization_Nuclei_AGP.ER_MIN.K2, Colocalization_Nuclei_AGP.ER_MAX.K2, Colocalization_Nuclei_AGP.ER_MEAN.MANDERS.COEFF.COSTES.M1, Colocalization_Nuclei_AGP.ER_MEDIAN.MANDERS.COEFF.COSTES.M1, Colocalization_Nuclei_AGP.ER_MIN.MANDERS.COEFF.COSTES.M1, Colocalization_Nuclei_AGP.ER_MAX.MANDERS.COEFF.COSTES.M1, Colocalization_Nuclei_AGP.ER_MEAN.MANDERS.COEFF.COSTES.M2, Colocalization_Nuclei_AGP.ER_MEDIAN.MANDERS.COEFF.COSTES.M2, Colocalization_Nuclei_AGP.ER_MIN.MANDERS.COEFF.COSTES.M2, Colocalization_Nuclei_AGP.ER_MAX.MANDERS.COEFF.COSTES.M2, Colocalization_Nuclei_AGP.Mito_MEAN.CORRELATION.COEFF, Colocalization_Nuclei_AGP.Mito_MEDIAN.CORRELATION.COEFF, Colocalization_Nuclei_AGP.Mito_MIN.CORRELATION.COEFF, Colocalization_Nuclei_AGP.Mito_MAX.CORRELATION.COEFF, Colocalization_Nuclei_AGP.Mito_MEAN.MANDERS.COEFF.M1, Colocalization_Nuclei_AGP.Mito_MEDIAN.MANDERS.COEFF.M1, Colocalization_Nuclei_AGP.Mito_MIN.MANDERS.COEFF.M1, Colocalization_Nuclei_AGP.Mito_MAX.MANDERS.COEFF.M1, Colocalization_Nuclei_AGP.Mito_MEAN.MANDERS.COEFF.M2, Colocalization_Nuclei_AGP.Mito_MEDIAN.MANDERS.COEFF.M2, Colocalization_Nuclei_AGP.Mito_MIN.MANDERS.COEFF.M2, Colocalization_Nuclei_AGP.Mito_MAX.MANDERS.COEFF.M2, Colocalization_Nuclei_AGP.Mito_MEAN.OVERLAP.COEFF, Colocalization_Nuclei_AGP.Mito_MEDIAN.OVERLAP.COEFF, Colocalization_Nuclei_AGP.Mito_MIN.OVERLAP.COEFF, Colocalization_Nuclei_AGP.Mito_MAX.OVERLAP.COEFF, Colocalization_Nuclei_AGP.Mito_MEAN.K1, Colocalization_Nuclei_AGP.Mito_MEDIAN.K1, Colocalization_Nuclei_AGP.Mito_MIN.K1, ...]\n",
       "Index: []\n",
       "\n",
       "[0 rows x 1574 columns]"
      ]
     },
     "execution_count": 9,
     "metadata": {},
     "output_type": "execute_result"
    }
   ],
   "source": [
    "print(f\"Final merged single cell dataframe shape: {merged_df.shape}\")\n",
    "# save the sc data as parquet\n",
    "merged_df.to_parquet(destination_sc_parquet_file, index=False)\n",
    "merged_df.head()"
   ]
  }
 ],
 "metadata": {
  "kernelspec": {
   "display_name": "nf1_image_based_profiling_env",
   "language": "python",
   "name": "python3"
  },
  "language_info": {
   "codemirror_mode": {
    "name": "ipython",
    "version": 3
   },
   "file_extension": ".py",
   "mimetype": "text/x-python",
   "name": "python",
   "nbconvert_exporter": "python",
   "pygments_lexer": "ipython3",
   "version": "3.12.11"
  }
 },
 "nbformat": 4,
 "nbformat_minor": 2
}
