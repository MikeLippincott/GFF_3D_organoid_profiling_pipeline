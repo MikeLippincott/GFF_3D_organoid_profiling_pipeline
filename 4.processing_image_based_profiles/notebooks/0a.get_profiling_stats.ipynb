{
 "cells": [
  {
   "cell_type": "code",
   "execution_count": 1,
   "metadata": {},
   "outputs": [],
   "source": [
    "import argparse\n",
    "import pathlib\n",
    "import sys\n",
    "\n",
    "import matplotlib.pyplot as plt\n",
    "import pandas as pd\n",
    "import seaborn as sns\n",
    "\n",
    "cwd = pathlib.Path.cwd()\n",
    "\n",
    "if (cwd / \".git\").is_dir():\n",
    "    root_dir = cwd\n",
    "else:\n",
    "    root_dir = None\n",
    "    for parent in cwd.parents:\n",
    "        if (parent / \".git\").is_dir():\n",
    "            root_dir = parent\n",
    "            break\n",
    "sys.path.append(str(root_dir / \"utils\"))\n",
    "from arg_parsing_utils import parse_args\n",
    "from notebook_init_utils import bandicoot_check, init_notebook\n",
    "\n",
    "root_dir, in_notebook = init_notebook()\n",
    "\n",
    "profile_base_dir = bandicoot_check(\n",
    "    pathlib.Path(\"/home/lippincm/mnt/bandicoot\").resolve(), root_dir\n",
    ")"
   ]
  },
  {
   "cell_type": "code",
   "execution_count": 2,
   "metadata": {},
   "outputs": [],
   "source": [
    "patient_data_path = pathlib.Path(f\"{profile_base_dir}/data/patient_IDs.txt\").resolve(\n",
    "    strict=True\n",
    ")\n",
    "patients = pd.read_csv(patient_data_path, header=None, names=[\"patient_ID\"])[\n",
    "    \"patient_ID\"\n",
    "].tolist()"
   ]
  },
  {
   "cell_type": "code",
   "execution_count": 3,
   "metadata": {},
   "outputs": [],
   "source": [
    "stats_output_path = pathlib.Path(\n",
    "    f\"{profile_base_dir}/data/all_patient_profiles/\"\n",
    ").resolve()\n",
    "stats_output_path.mkdir(parents=True, exist_ok=True)"
   ]
  },
  {
   "cell_type": "code",
   "execution_count": 4,
   "metadata": {},
   "outputs": [
    {
     "name": "stdout",
     "output_type": "stream",
     "text": [
      "Found 198762 stats files for 8 patients.\n"
     ]
    }
   ],
   "source": [
    "stats_files = []\n",
    "for patient in patients:\n",
    "    stats_path = pathlib.Path(\n",
    "        f\"{profile_base_dir}/data/{patient}/extracted_features/run_stats/\"\n",
    "    ).resolve(strict=True)\n",
    "\n",
    "    for file_path in stats_path.glob(\"*.parquet\"):\n",
    "        if file_path.is_file():\n",
    "            stats_files.append(file_path)\n",
    "stats_files.sort()\n",
    "print(f\"Found {len(stats_files)} stats files for {len(patients)} patients.\")"
   ]
  },
  {
   "cell_type": "code",
   "execution_count": 5,
   "metadata": {},
   "outputs": [],
   "source": [
    "def safe_read_parquet(stats_file):\n",
    "    \"\"\"Safely read a Parquet file and handle errors.\n",
    "    This is primarily to continue through code in the event of corrupted files.\"\"\"\n",
    "\n",
    "    try:\n",
    "        return pd.read_parquet(stats_file)\n",
    "    except ValueError as e:\n",
    "        print(f\"Error reading {stats_file}: {e}\")\n",
    "        return None"
   ]
  },
  {
   "cell_type": "code",
   "execution_count": null,
   "metadata": {},
   "outputs": [
    {
     "name": "stdout",
     "output_type": "stream",
     "text": [
      "Error reading /home/lippincm/mnt/bandicoot/NF1_organoid_data/data/NF0021_T1/extracted_features/run_stats/C11-6_Colocalization_AGP.ER_Organoid_CPU.parquet: Could not open Parquet input source '<Buffer>': Parquet file size is 0 bytes\n",
      "Error reading /home/lippincm/mnt/bandicoot/NF1_organoid_data/data/NF0021_T1/extracted_features/run_stats/C2-5_AreaSizeShape_DNA_Nuclei_CPU.parquet: Could not open Parquet input source '<Buffer>': Parquet file size is 0 bytes\n",
      "Error reading /home/lippincm/mnt/bandicoot/NF1_organoid_data/data/NF0021_T1/extracted_features/run_stats/C9-4_Colocalization_ER.BF_Organoid_CPU.parquet: Could not open Parquet input source '<Buffer>': Parquet file size is 0 bytes\n",
      "Error reading /home/lippincm/mnt/bandicoot/NF1_organoid_data/data/NF0021_T1/extracted_features/run_stats/D7-2_Colocalization_AGP.BF_Organoid_CPU.parquet: Could not open Parquet input source '<Buffer>': Parquet file size is 0 bytes\n",
      "Error reading /home/lippincm/mnt/bandicoot/NF1_organoid_data/data/NF0021_T1/extracted_features/run_stats/D7-2_Colocalization_AGP.ER_Organoid_CPU.parquet: Could not open Parquet input source '<Buffer>': Parquet file size is 0 bytes\n",
      "Error reading /home/lippincm/mnt/bandicoot/NF1_organoid_data/data/NF0021_T1/extracted_features/run_stats/D7-2_Colocalization_DNA.BF_Cell_CPU.parquet: Could not open Parquet input source '<Buffer>': Parquet file size is 0 bytes\n",
      "Error reading /home/lippincm/mnt/bandicoot/NF1_organoid_data/data/NF0021_T1/extracted_features/run_stats/D7-4_AreaSizeShape_DNA_Organoid_CPU.parquet: Could not open Parquet input source '<Buffer>': Parquet file size is 0 bytes\n",
      "Error reading /home/lippincm/mnt/bandicoot/NF1_organoid_data/data/NF0021_T1/extracted_features/run_stats/E10-5_BF_Cytoplasm_Intensity_CPU.parquet: Could not open Parquet input source '<Buffer>': Parquet file size is 0 bytes\n",
      "Error reading /home/lippincm/mnt/bandicoot/NF1_organoid_data/data/NF0021_T1/extracted_features/run_stats/E8-6_Colocalization_DNA.ER_Nuclei_CPU.parquet: Could not open Parquet input source '<Buffer>': Parquet file size is 0 bytes\n",
      "Error reading /home/lippincm/mnt/bandicoot/NF1_organoid_data/data/NF0021_T1/extracted_features/run_stats/F5-4_Colocalization_DNA.ER_Cytoplasm_CPU.parquet: Could not open Parquet input source '<Buffer>': Parquet file size is 0 bytes\n",
      "Error reading /home/lippincm/mnt/bandicoot/NF1_organoid_data/data/NF0021_T1/extracted_features/run_stats/F9-4_Colocalization_DNA.AGP_Nuclei_CPU.parquet: Could not open Parquet input source '<Buffer>': Parquet file size is 0 bytes\n"
     ]
    }
   ],
   "source": [
    "dataframes = []\n",
    "for stats_file in stats_files:\n",
    "    df_temp = safe_read_parquet(stats_file)\n",
    "    if df_temp is not None:\n",
    "        dataframes.append(df_temp)\n",
    "if dataframes:\n",
    "    df = pd.concat(dataframes, ignore_index=True)\n",
    "else:\n",
    "    df = pd.DataFrame()"
   ]
  },
  {
   "cell_type": "code",
   "execution_count": null,
   "metadata": {},
   "outputs": [],
   "source": [
    "# comment out for now as we only used CPU\n",
    "# df[\"feature_type_and_gpu\"] = (\n",
    "#     df[\"feature_type\"].astype(str) + \"_\" + df[\"gpu\"].astype(str)\n",
    "# )\n",
    "# df[\"feature_type_and_gpu\"] = df[\"feature_type_and_gpu\"].str.replace(\"None\", \"CPU\")\n",
    "# df[\"feature_type_and_gpu\"] = df[\"feature_type_and_gpu\"].str.replace(\"True\", \"GPU\")\n",
    "df[\"time_taken_minutes\"] = df[\"time_taken\"] / 60\n",
    "df[\"mem_usage_GB\"] = df[\"mem_usage\"] / (1024)\n",
    "df.to_parquet(\n",
    "    f\"{stats_output_path}/all_patient_featurization_stats.parquet\", index=False\n",
    ")\n",
    "\n",
    "df.head()"
   ]
  },
  {
   "cell_type": "markdown",
   "metadata": {},
   "source": [
    "## Preliminary plots - will finalize in R later"
   ]
  },
  {
   "cell_type": "code",
   "execution_count": null,
   "metadata": {},
   "outputs": [],
   "source": [
    "# plot the memory and time for each feature type\n",
    "if in_notebook:\n",
    "    sns.barplot(\n",
    "        data=df,\n",
    "        x=\"feature_type\",\n",
    "        y=\"time_taken_minutes\",\n",
    "        hue=\"feature_type\",\n",
    "        palette=\"Set2\",\n",
    "    )\n",
    "    plt.title(\"Time taken for each feature type\")\n",
    "    plt.xlabel(\"Feature Type\")\n",
    "    plt.ylabel(\"Time (min)\")\n",
    "    plt.xticks(rotation=45, ha=\"right\")\n",
    "    plt.tight_layout()\n",
    "    # move the legend outside the plot\n",
    "    plt.legend(title=\"Feature Type\", bbox_to_anchor=(1.05, 1), loc=\"upper left\")\n",
    "    plt.show()\n",
    "\n",
    "    sns.barplot(\n",
    "        data=df,\n",
    "        x=\"feature_type\",\n",
    "        y=\"mem_usage_GB\",\n",
    "        hue=\"feature_type\",\n",
    "        palette=\"Set2\",\n",
    "    )\n",
    "    plt.title(\"Memory used for each feature type\")\n",
    "    plt.xlabel(\"Feature Type\")\n",
    "    plt.ylabel(\"Memory (GB)\")\n",
    "    plt.xticks(rotation=45, ha=\"right\")\n",
    "    plt.tight_layout()\n",
    "    plt.legend(title=\"Feature Type\", bbox_to_anchor=(1.05, 1), loc=\"upper left\")\n",
    "\n",
    "    plt.show()"
   ]
  }
 ],
 "metadata": {
  "kernelspec": {
   "display_name": "GFF_analysis",
   "language": "python",
   "name": "python3"
  },
  "language_info": {
   "codemirror_mode": {
    "name": "ipython",
    "version": 3
   },
   "file_extension": ".py",
   "mimetype": "text/x-python",
   "name": "python",
   "nbconvert_exporter": "python",
   "pygments_lexer": "ipython3",
   "version": "3.12.11"
  }
 },
 "nbformat": 4,
 "nbformat_minor": 2
}
