{
 "cells": [
  {
   "cell_type": "markdown",
   "metadata": {},
   "source": [
    "# Run whole image QC pipeline in CellProfiler\n",
    "\n",
    "To determine if there are images that of poor quality, we run a CellProfiler pipeline specific to extracting image quality metrics.\n",
    "We extract blur and saturation metrics, we can use to identify thresholds for these metrics to separate the good and poor quality images.\n"
   ]
  },
  {
   "cell_type": "markdown",
   "metadata": {},
   "source": [
    "## Import libraries"
   ]
  },
  {
   "cell_type": "code",
   "execution_count": 2,
   "metadata": {},
   "outputs": [],
   "source": [
    "import pathlib\n",
    "import pprint\n",
    "import sys\n",
    "\n",
    "# Get the current working directory\n",
    "cwd = pathlib.Path.cwd()\n",
    "\n",
    "if (cwd / \".git\").is_dir():\n",
    "    root_dir = cwd\n",
    "else:\n",
    "    root_dir = None\n",
    "    for parent in cwd.parents:\n",
    "        if (parent / \".git\").is_dir():\n",
    "            root_dir = parent\n",
    "            break\n",
    "sys.path.append(str(root_dir / \"utils\"))\n",
    "from notebook_init_utils import init_notebook\n",
    "\n",
    "root_dir, in_notebook = init_notebook()\n",
    "sys.path.append(f\"{root_dir}/utils\")\n",
    "import cp_parallel"
   ]
  },
  {
   "cell_type": "markdown",
   "metadata": {},
   "source": [
    "## Set paths and variables"
   ]
  },
  {
   "cell_type": "code",
   "execution_count": null,
   "metadata": {},
   "outputs": [],
   "source": [
    "bandicoot_path = pathlib.Path(\"/home/lippincm/mnt/bandicoot\").resolve()\n",
    "if bandicoot_path.exists():\n",
    "    # comment out depending on whose computer you are on\n",
    "    # mike's computer\n",
    "    image_base_dir = pathlib.Path(\"/home/lippincm/mnt/bandicoot\").resolve()\n",
    "else:\n",
    "    image_base_dir = root_dir"
   ]
  },
  {
   "cell_type": "code",
   "execution_count": 6,
   "metadata": {},
   "outputs": [
    {
     "name": "stdout",
     "output_type": "stream",
     "text": [
      "Plate name: NF0030_T1\n",
      "Plate name: NF0016_T1\n",
      "Plate name: SARCO219_T2\n",
      "Plate name: NF0014_T1\n",
      "Plate name: NF0018_T6\n",
      "Plate name: NF0021_T1\n",
      "Plate name: NF0040_T1\n",
      "Plate name: SARCO361_T1\n",
      "There are a total of 8 plates. The names of the plates are:\n",
      "NF0030_T1\n",
      "NF0016_T1\n",
      "SARCO219_T2\n",
      "NF0014_T1\n",
      "NF0018_T6\n",
      "NF0021_T1\n",
      "NF0040_T1\n",
      "SARCO361_T1\n"
     ]
    }
   ],
   "source": [
    "# set the run type for the parallelization\n",
    "run_name = \"quality_control\"\n",
    "\n",
    "# set path for pipeline for whole image QC\n",
    "path_to_pipeline = pathlib.Path(\n",
    "    f\"{root_dir}/1.image_quality_control/pipeline/whole_image_qc.cppipe\"\n",
    ").resolve(strict=True)\n",
    "\n",
    "# set main output dir for all plates if it doesn't exist\n",
    "output_dir = pathlib.Path(f\"{root_dir}/1.image_quality_control/pipeline/qc_results\")\n",
    "output_dir.mkdir(exist_ok=True)\n",
    "\n",
    "# directory where images are located within folders (parent folder is the plate and the child folders are wells containing images)\n",
    "images_dir = pathlib.Path(f\"{image_base_dir}/data\").resolve(strict=True)\n",
    "\n",
    "# filter plate names to include only those starting with 'NF' or 'SARCO'\n",
    "plate_names = []\n",
    "for file_path in images_dir.iterdir():\n",
    "    plate_name = str(file_path.stem)\n",
    "\n",
    "    if plate_name.startswith(\"NF\") or plate_name.startswith(\"SARCO\"):\n",
    "        print(\"Plate name:\", plate_name)\n",
    "        plate_names.append(plate_name)\n",
    "\n",
    "print(\"There are a total of\", len(plate_names), \"plates. The names of the plates are:\")\n",
    "for plate in plate_names:\n",
    "    print(plate)"
   ]
  },
  {
   "cell_type": "markdown",
   "metadata": {},
   "source": [
    "## Generate dictionary with plate info to run CellProfiler"
   ]
  },
  {
   "cell_type": "code",
   "execution_count": 3,
   "metadata": {},
   "outputs": [
    {
     "name": "stdout",
     "output_type": "stream",
     "text": [
      "{   'SARCO219': {   'path_to_images': PosixPath('/media/18tbdrive/1.Github_Repositories/GFF_3D_organoid_profiling_pipeline/data/SARCO219/raw_images'),\n",
      "                    'path_to_output': PosixPath('../qc_results/SARCO219_qc_results'),\n",
      "                    'path_to_pipeline': PosixPath('/media/18tbdrive/1.Github_Repositories/GFF_3D_organoid_profiling_pipeline/1.image_quality_control/pipeline/whole_image_qc.cppipe')},\n",
      "    'SARCO361': {   'path_to_images': PosixPath('/media/18tbdrive/1.Github_Repositories/GFF_3D_organoid_profiling_pipeline/data/SARCO361/raw_images'),\n",
      "                    'path_to_output': PosixPath('../qc_results/SARCO361_qc_results'),\n",
      "                    'path_to_pipeline': PosixPath('/media/18tbdrive/1.Github_Repositories/GFF_3D_organoid_profiling_pipeline/1.image_quality_control/pipeline/whole_image_qc.cppipe')}}\n"
     ]
    }
   ],
   "source": [
    "# filter plate names to include only those that haven't been processed (output directory doesn't exist or is empty)\n",
    "unprocessed_plate_names = [\n",
    "    name\n",
    "    for name in plate_names\n",
    "    if not (output_dir / f\"{name}_qc_results\").exists()\n",
    "    or not any((output_dir / f\"{name}_qc_results\").iterdir())\n",
    "]\n",
    "\n",
    "# create plate info dictionary with all parts of the CellProfiler CLI command\n",
    "plate_info_dictionary = {\n",
    "    name: {\n",
    "        \"path_to_images\": pathlib.Path(\n",
    "            list(images_dir.rglob(f\"{name}/raw_images\"))[0]\n",
    "        ).resolve(strict=True),\n",
    "        \"path_to_output\": pathlib.Path(f\"{output_dir}/{name}_qc_results\"),\n",
    "        \"path_to_pipeline\": path_to_pipeline,\n",
    "    }\n",
    "    for name in unprocessed_plate_names\n",
    "}\n",
    "\n",
    "# view the dictionary to assess that all info is added correctly\n",
    "pprint.pprint(plate_info_dictionary, indent=4)"
   ]
  },
  {
   "cell_type": "markdown",
   "metadata": {},
   "source": [
    "## Run QC pipeline in CellProfiler"
   ]
  },
  {
   "cell_type": "code",
   "execution_count": null,
   "metadata": {},
   "outputs": [],
   "source": [
    "cp_parallel.run_cellprofiler_parallel(\n",
    "    plate_info_dictionary=plate_info_dictionary, run_name=run_name\n",
    ")"
   ]
  }
 ],
 "metadata": {
  "kernelspec": {
   "display_name": "gff_preprocessing_env",
   "language": "python",
   "name": "python3"
  },
  "language_info": {
   "codemirror_mode": {
    "name": "ipython",
    "version": 3
   },
   "file_extension": ".py",
   "mimetype": "text/x-python",
   "name": "python",
   "nbconvert_exporter": "python",
   "pygments_lexer": "ipython3",
   "version": "3.10.15"
  }
 },
 "nbformat": 4,
 "nbformat_minor": 2
}
