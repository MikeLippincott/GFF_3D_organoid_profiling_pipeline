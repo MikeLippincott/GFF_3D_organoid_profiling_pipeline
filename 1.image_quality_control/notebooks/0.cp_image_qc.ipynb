{
 "cells": [
  {
   "cell_type": "markdown",
   "metadata": {},
   "source": [
    "# Run whole image QC pipeline in CellProfiler\n",
    "\n",
    "To determine if there are images that of poor quality, we run a CellProfiler pipeline specific to extracting image quality metrics.\n",
    "We extract blur and saturation metrics, we can use to identify thresholds for these metrics to separate the good and poor quality images.\n"
   ]
  },
  {
   "cell_type": "markdown",
   "metadata": {},
   "source": [
    "## Import libraries"
   ]
  },
  {
   "cell_type": "code",
   "execution_count": 1,
   "metadata": {},
   "outputs": [],
   "source": [
    "import pathlib\n",
    "import pprint\n",
    "\n",
    "import sys\n",
    "\n",
    "sys.path.append(\"../../utils\")\n",
    "import cp_parallel"
   ]
  },
  {
   "cell_type": "markdown",
   "metadata": {},
   "source": [
    "## Set paths and variables"
   ]
  },
  {
   "cell_type": "code",
   "execution_count": 2,
   "metadata": {},
   "outputs": [
    {
     "name": "stdout",
     "output_type": "stream",
     "text": [
      "There are a total of 6 plates. The names of the plates are:\n",
      "SACRO219\n",
      "NF0018\n",
      "NF0016\n",
      "NF0021\n",
      "NF0017\n",
      "NF0014\n"
     ]
    }
   ],
   "source": [
    "# set the run type for the parallelization\n",
    "run_name = \"quality_control\"\n",
    "\n",
    "# set path for pipeline for whole image QC\n",
    "path_to_pipeline = pathlib.Path(\"../pipeline/whole_image_qc.cppipe\").resolve(\n",
    "    strict=True\n",
    ")\n",
    "\n",
    "# set main output dir for all plates if it doesn't exist\n",
    "output_dir = pathlib.Path(\"../qc_results\")\n",
    "output_dir.mkdir(exist_ok=True)\n",
    "\n",
    "# directory where images are located within folders (parent folder is the plate and the child folders are wells containing images)\n",
    "images_dir = pathlib.Path(\"../../data\").resolve(strict=True)\n",
    "\n",
    "# filter plate names to include only those starting with 'NF' or 'SACR'\n",
    "plate_names = []\n",
    "for file_path in images_dir.iterdir():\n",
    "    plate_name = str(file_path.stem.split(\"_\")[0])\n",
    "    if plate_name.startswith(\"NF\") or plate_name.startswith(\"SACR\"):\n",
    "        plate_names.append(plate_name)\n",
    "\n",
    "print(\"There are a total of\", len(plate_names), \"plates. The names of the plates are:\")\n",
    "for plate in plate_names:\n",
    "    print(plate)"
   ]
  },
  {
   "cell_type": "markdown",
   "metadata": {},
   "source": [
    "## Generate dictionary with plate info to run CellProfiler"
   ]
  },
  {
   "cell_type": "code",
   "execution_count": 3,
   "metadata": {},
   "outputs": [
    {
     "name": "stdout",
     "output_type": "stream",
     "text": [
      "{   'NF0021': {   'path_to_images': PosixPath('/media/18tbdrive/1.Github_Repositories/GFF_3D_organoid_profiling_pipeline/data/NF0021/raw_images'),\n",
      "                  'path_to_output': PosixPath('../qc_results/NF0021_qc_results'),\n",
      "                  'path_to_pipeline': PosixPath('/media/18tbdrive/1.Github_Repositories/GFF_3D_organoid_profiling_pipeline/1.image_quality_control/pipeline/whole_image_qc.cppipe')},\n",
      "    'SACRO219': {   'path_to_images': PosixPath('/media/18tbdrive/1.Github_Repositories/GFF_3D_organoid_profiling_pipeline/data/SACRO219/raw_images'),\n",
      "                    'path_to_output': PosixPath('../qc_results/SACRO219_qc_results'),\n",
      "                    'path_to_pipeline': PosixPath('/media/18tbdrive/1.Github_Repositories/GFF_3D_organoid_profiling_pipeline/1.image_quality_control/pipeline/whole_image_qc.cppipe')}}\n"
     ]
    }
   ],
   "source": [
    "# filter plate names to include only those that haven't been processed (output directory doesn't exist or is empty)\n",
    "unprocessed_plate_names = [\n",
    "    name\n",
    "    for name in plate_names\n",
    "    if not (output_dir / f\"{name}_qc_results\").exists()\n",
    "    or not any((output_dir / f\"{name}_qc_results\").iterdir())\n",
    "]\n",
    "\n",
    "# create plate info dictionary with all parts of the CellProfiler CLI command\n",
    "plate_info_dictionary = {\n",
    "    name: {\n",
    "        \"path_to_images\": pathlib.Path(\n",
    "            list(images_dir.rglob(f\"{name}/raw_images\"))[0]\n",
    "        ).resolve(strict=True),\n",
    "        \"path_to_output\": pathlib.Path(f\"{output_dir}/{name}_qc_results\"),\n",
    "        \"path_to_pipeline\": path_to_pipeline,\n",
    "    }\n",
    "    for name in unprocessed_plate_names\n",
    "}\n",
    "\n",
    "# view the dictionary to assess that all info is added correctly\n",
    "pprint.pprint(plate_info_dictionary, indent=4)"
   ]
  },
  {
   "cell_type": "markdown",
   "metadata": {},
   "source": [
    "## Run QC pipeline in CellProfiler"
   ]
  },
  {
   "cell_type": "code",
   "execution_count": null,
   "metadata": {},
   "outputs": [],
   "source": [
    "cp_parallel.run_cellprofiler_parallel(\n",
    "    plate_info_dictionary=plate_info_dictionary, run_name=run_name\n",
    ")"
   ]
  }
 ],
 "metadata": {
  "kernelspec": {
   "display_name": "gff_cp_env",
   "language": "python",
   "name": "python3"
  },
  "language_info": {
   "codemirror_mode": {
    "name": "ipython",
    "version": 3
   },
   "file_extension": ".py",
   "mimetype": "text/x-python",
   "name": "python",
   "nbconvert_exporter": "python",
   "pygments_lexer": "ipython3",
   "version": "3.9.20"
  }
 },
 "nbformat": 4,
 "nbformat_minor": 2
}
