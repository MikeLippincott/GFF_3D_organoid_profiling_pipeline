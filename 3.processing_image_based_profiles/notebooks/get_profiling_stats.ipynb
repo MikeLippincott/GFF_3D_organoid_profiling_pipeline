{
    "cells": [
        {
            "cell_type": "code",
            "execution_count": 1,
            "metadata": {},
            "outputs": [],
            "source": [
                "import pathlib\n",
                "\n",
                "import pandas as pd"
            ]
        },
        {
            "cell_type": "code",
            "execution_count": 2,
            "metadata": {},
            "outputs": [
                {
                    "data": {
                        "text/plain": [
                            "[PosixPath('/home/lippincm/Documents/GFF_3D_organoid_profiling_pipeline/2.cellprofiling/results/run_stats/C4-2_Intensity.parquet'),\n",
                            " PosixPath('/home/lippincm/Documents/GFF_3D_organoid_profiling_pipeline/2.cellprofiling/results/run_stats/C4-2_Intensity_gpu.parquet'),\n",
                            " PosixPath('/home/lippincm/Documents/GFF_3D_organoid_profiling_pipeline/2.cellprofiling/results/run_stats/C4-2_Neighbors.parquet'),\n",
                            " PosixPath('/home/lippincm/Documents/GFF_3D_organoid_profiling_pipeline/2.cellprofiling/results/run_stats/C4-2_area_size_shape.parquet'),\n",
                            " PosixPath('/home/lippincm/Documents/GFF_3D_organoid_profiling_pipeline/2.cellprofiling/results/run_stats/C4-2_colocalization.parquet'),\n",
                            " PosixPath('/home/lippincm/Documents/GFF_3D_organoid_profiling_pipeline/2.cellprofiling/results/run_stats/C4-2_colocalization_gpu.parquet'),\n",
                            " PosixPath('/home/lippincm/Documents/GFF_3D_organoid_profiling_pipeline/2.cellprofiling/results/run_stats/C4-2_granularity.parquet'),\n",
                            " PosixPath('/home/lippincm/Documents/GFF_3D_organoid_profiling_pipeline/2.cellprofiling/results/run_stats/C4-2_texture.parquet')]"
                        ]
                    },
                    "execution_count": 2,
                    "metadata": {},
                    "output_type": "execute_result"
                }
            ],
            "source": [
                "well_fov = \"C4-2\"\n",
                "stats_path = pathlib.Path(\"../../2.cellprofiling/results/run_stats/\").resolve(\n",
                "    strict=True\n",
                ")\n",
                "output_path = pathlib.Path(f\"../results/converted_profiles/{well_fov}\").resolve()\n",
                "output_path.mkdir(parents=True, exist_ok=True)\n",
                "\n",
                "stats_files = list(stats_path.glob(\"*.parquet\"))\n",
                "stats_files.sort()\n",
                "stats_files"
            ]
        },
        {
            "cell_type": "code",
            "execution_count": 3,
            "metadata": {},
            "outputs": [
                {
                    "data": {
                        "text/html": [
                            "<div>\n",
                            "<style scoped>\n",
                            "    .dataframe tbody tr th:only-of-type {\n",
                            "        vertical-align: middle;\n",
                            "    }\n",
                            "\n",
                            "    .dataframe tbody tr th {\n",
                            "        vertical-align: top;\n",
                            "    }\n",
                            "\n",
                            "    .dataframe thead th {\n",
                            "        text-align: right;\n",
                            "    }\n",
                            "</style>\n",
                            "<table border=\"1\" class=\"dataframe\">\n",
                            "  <thead>\n",
                            "    <tr style=\"text-align: right;\">\n",
                            "      <th></th>\n",
                            "      <th>start_time</th>\n",
                            "      <th>end_time</th>\n",
                            "      <th>start_mem</th>\n",
                            "      <th>end_mem</th>\n",
                            "      <th>time_taken</th>\n",
                            "      <th>mem_usage</th>\n",
                            "      <th>gpu</th>\n",
                            "      <th>well_fov</th>\n",
                            "      <th>feature_type</th>\n",
                            "    </tr>\n",
                            "  </thead>\n",
                            "  <tbody>\n",
                            "    <tr>\n",
                            "      <th>0</th>\n",
                            "      <td>1.745173e+09</td>\n",
                            "      <td>1.745175e+09</td>\n",
                            "      <td>1314.308594</td>\n",
                            "      <td>1312.730469</td>\n",
                            "      <td>1678.591859</td>\n",
                            "      <td>-1.578125</td>\n",
                            "      <td>None</td>\n",
                            "      <td>C4-2</td>\n",
                            "      <td>Intensity</td>\n",
                            "    </tr>\n",
                            "    <tr>\n",
                            "      <th>1</th>\n",
                            "      <td>1.745176e+09</td>\n",
                            "      <td>1.745184e+09</td>\n",
                            "      <td>1463.007812</td>\n",
                            "      <td>4629.117188</td>\n",
                            "      <td>8601.820257</td>\n",
                            "      <td>3166.109375</td>\n",
                            "      <td>True</td>\n",
                            "      <td>C4-2</td>\n",
                            "      <td>Intensity</td>\n",
                            "    </tr>\n",
                            "    <tr>\n",
                            "      <th>2</th>\n",
                            "      <td>1.745173e+09</td>\n",
                            "      <td>1.745173e+09</td>\n",
                            "      <td>1255.957031</td>\n",
                            "      <td>1869.132812</td>\n",
                            "      <td>23.976288</td>\n",
                            "      <td>613.175781</td>\n",
                            "      <td>None</td>\n",
                            "      <td>C4-2</td>\n",
                            "      <td>Neighbors</td>\n",
                            "    </tr>\n",
                            "    <tr>\n",
                            "      <th>3</th>\n",
                            "      <td>1.745173e+09</td>\n",
                            "      <td>1.745173e+09</td>\n",
                            "      <td>1258.332031</td>\n",
                            "      <td>1888.757812</td>\n",
                            "      <td>102.551295</td>\n",
                            "      <td>630.425781</td>\n",
                            "      <td>None</td>\n",
                            "      <td>C4-2</td>\n",
                            "      <td>area_size_shape</td>\n",
                            "    </tr>\n",
                            "    <tr>\n",
                            "      <th>4</th>\n",
                            "      <td>1.745173e+09</td>\n",
                            "      <td>1.745173e+09</td>\n",
                            "      <td>1268.015625</td>\n",
                            "      <td>1268.500000</td>\n",
                            "      <td>86.132144</td>\n",
                            "      <td>0.484375</td>\n",
                            "      <td>None</td>\n",
                            "      <td>C4-2</td>\n",
                            "      <td>colocalization</td>\n",
                            "    </tr>\n",
                            "  </tbody>\n",
                            "</table>\n",
                            "</div>"
                        ],
                        "text/plain": [
                            "     start_time      end_time    start_mem      end_mem   time_taken  \\\n",
                            "0  1.745173e+09  1.745175e+09  1314.308594  1312.730469  1678.591859   \n",
                            "1  1.745176e+09  1.745184e+09  1463.007812  4629.117188  8601.820257   \n",
                            "2  1.745173e+09  1.745173e+09  1255.957031  1869.132812    23.976288   \n",
                            "3  1.745173e+09  1.745173e+09  1258.332031  1888.757812   102.551295   \n",
                            "4  1.745173e+09  1.745173e+09  1268.015625  1268.500000    86.132144   \n",
                            "\n",
                            "     mem_usage   gpu well_fov     feature_type  \n",
                            "0    -1.578125  None     C4-2        Intensity  \n",
                            "1  3166.109375  True     C4-2        Intensity  \n",
                            "2   613.175781  None     C4-2        Neighbors  \n",
                            "3   630.425781  None     C4-2  area_size_shape  \n",
                            "4     0.484375  None     C4-2   colocalization  "
                        ]
                    },
                    "execution_count": 3,
                    "metadata": {},
                    "output_type": "execute_result"
                }
            ],
            "source": [
                "df = pd.concat(\n",
                "    [pd.read_parquet(stats_file) for stats_file in stats_files],\n",
                "    ignore_index=True,\n",
                ")\n",
                "df.to_parquet(output_path / f\"{well_fov}_cell_stats.parquet\", index=False)\n",
                "df.head()"
            ]
        }
    ],
    "metadata": {
        "kernelspec": {
            "display_name": "nf1_image_based_profiling_env",
            "language": "python",
            "name": "python3"
        },
        "language_info": {
            "codemirror_mode": {
                "name": "ipython",
                "version": 3
            },
            "file_extension": ".py",
            "mimetype": "text/x-python",
            "name": "python",
            "nbconvert_exporter": "python",
            "pygments_lexer": "ipython3",
            "version": "3.12.9"
        }
    },
    "nbformat": 4,
    "nbformat_minor": 2
}
