{
    "cells": [
        {
            "cell_type": "code",
            "execution_count": 1,
            "metadata": {},
            "outputs": [],
            "source": [
                "import pathlib\n",
                "\n",
                "import duckdb\n",
                "import pandas as pd"
            ]
        },
        {
            "cell_type": "code",
            "execution_count": 2,
            "metadata": {},
            "outputs": [],
            "source": [
                "result_path = pathlib.Path(\"../../2.cellprofiling/results/C4-2/\").resolve(strict=True)\n",
                "# get a list of all parquets in the directory\n",
                "parquet_files = list(result_path.glob(\"*.parquet\"))\n",
                "parquet_files.sort()"
            ]
        },
        {
            "cell_type": "code",
            "execution_count": 3,
            "metadata": {},
            "outputs": [],
            "source": [
                "pd.options.display.max_columns = None"
            ]
        },
        {
            "cell_type": "code",
            "execution_count": 8,
            "metadata": {},
            "outputs": [
                {
                    "data": {
                        "text/plain": [
                            "dict_keys(['Organoid', 'Cell', 'Nuclei', 'Cytoplasm'])"
                        ]
                    },
                    "execution_count": 8,
                    "metadata": {},
                    "output_type": "execute_result"
                }
            ],
            "source": [
                "feature_types_dict = {\n",
                "    \"Organoid\": {\n",
                "        \"AreaSize_Shape\": [],\n",
                "        \"Colocalization\": [],\n",
                "        \"Intensity\": [],\n",
                "        \"Granularity\": [],\n",
                "        \"Neighbor\": [],\n",
                "        \"Texture\": [],\n",
                "    },\n",
                "    \"Cell\": {\n",
                "        \"AreaSize_Shape\": [],\n",
                "        \"Colocalization\": [],\n",
                "        \"Intensity\": [],\n",
                "        \"Granularity\": [],\n",
                "        \"Neighbor\": [],\n",
                "        \"Texture\": [],\n",
                "    },\n",
                "    \"Nuclei\": {\n",
                "        \"AreaSize_Shape\": [],\n",
                "        \"Colocalization\": [],\n",
                "        \"Intensity\": [],\n",
                "        \"Granularity\": [],\n",
                "        \"Neighbor\": [],\n",
                "        \"Texture\": [],\n",
                "    },\n",
                "    \"Cytoplasm\": {\n",
                "        \"AreaSize_Shape\": [],\n",
                "        \"Colocalization\": [],\n",
                "        \"Intensity\": [],\n",
                "        \"Granularity\": [],\n",
                "        \"Neighbor\": [],\n",
                "        \"Texture\": [],\n",
                "    },\n",
                "}\n",
                "for file in parquet_files:\n",
                "    for compartment in feature_types_dict.keys():\n",
                "        for feature_type in feature_types_dict[compartment].keys():\n",
                "            if compartment in file.name and feature_type in file.name:\n",
                "                feature_types_dict[compartment][feature_type].append(file)\n",
                "feature_types_dict.keys()"
            ]
        },
        {
            "cell_type": "code",
            "execution_count": 9,
            "metadata": {},
            "outputs": [],
            "source": [
                "# create a record for each compartment\n",
                "merged_df_dict = {\n",
                "    \"Organoid\": [],\n",
                "    \"Cell\": [],\n",
                "    \"Nuclei\": [],\n",
                "    \"Cytoplasm\": [],\n",
                "}"
            ]
        },
        {
            "cell_type": "code",
            "execution_count": null,
            "metadata": {},
            "outputs": [
                {
                    "ename": "KeyError",
                    "evalue": "'AreaSize_Shape'",
                    "output_type": "error",
                    "traceback": [
                        "\u001b[31m---------------------------------------------------------------------------\u001b[39m",
                        "\u001b[31mKeyError\u001b[39m                                  Traceback (most recent call last)",
                        "\u001b[36mCell\u001b[39m\u001b[36m \u001b[39m\u001b[32mIn[10]\u001b[39m\u001b[32m, line 1\u001b[39m\n\u001b[32m----> \u001b[39m\u001b[32m1\u001b[39m df = pd.read_parquet(\u001b[43mfeature_types_dict\u001b[49m\u001b[43m[\u001b[49m\u001b[33;43m\"\u001b[39;49m\u001b[33;43mAreaSize_Shape\u001b[39;49m\u001b[33;43m\"\u001b[39;49m\u001b[43m]\u001b[49m[\u001b[32m0\u001b[39m])\n\u001b[32m      2\u001b[39m df_dict = {\n\u001b[32m      3\u001b[39m     \u001b[33m\"\u001b[39m\u001b[33morganoid\u001b[39m\u001b[33m\"\u001b[39m: [],\n\u001b[32m      4\u001b[39m     \u001b[33m\"\u001b[39m\u001b[33mnuclei\u001b[39m\u001b[33m\"\u001b[39m: [],\n\u001b[32m      5\u001b[39m     \u001b[33m\"\u001b[39m\u001b[33mcell\u001b[39m\u001b[33m\"\u001b[39m: [],\n\u001b[32m      6\u001b[39m     \u001b[33m\"\u001b[39m\u001b[33mcytoplasm\u001b[39m\u001b[33m\"\u001b[39m: [],\n\u001b[32m      7\u001b[39m }\n\u001b[32m      8\u001b[39m \u001b[38;5;28;01mfor\u001b[39;00m areasizeshape_df \u001b[38;5;129;01min\u001b[39;00m feature_types_dict[\u001b[33m\"\u001b[39m\u001b[33mAreaSize_Shape\u001b[39m\u001b[33m\"\u001b[39m]:\n",
                        "\u001b[31mKeyError\u001b[39m: 'AreaSize_Shape'"
                    ]
                }
            ],
            "source": [
                "df = pd.read_parquet(feature_types_dict[\"AreaSize_Shape\"][0])\n",
                "df_dict = {\n",
                "    \"organoid\": [],\n",
                "    \"nuclei\": [],\n",
                "    \"cell\": [],\n",
                "    \"cytoplasm\": [],\n",
                "}\n",
                "for areasizeshape_df in feature_types_dict[\"AreaSize_Shape\"]:\n",
                "    df = pd.read_parquet(areasizeshape_df)\n",
                "    # rename any column that contain object id to \"ObjectID\"\n",
                "    for col in df.columns:\n",
                "        if \"object_id\" in col:\n",
                "            df.rename(columns={col: \"ObjectID\"}, inplace=True)\n",
                "        elif \"image_set\" in col:\n",
                "            continue\n",
                "        else:\n",
                "            # prepend the column name with the feature type\n",
                "            df.rename(columns={col: f\"AreaSizeShape_{col}\"}, inplace=True)\n",
                "    if \"Organoid\" in areasizeshape_df.stem:\n",
                "        df_dict[\"organoid\"].append(df)\n",
                "    elif \"Nuclei\" in areasizeshape_df.stem:\n",
                "        df_dict[\"nuclei\"].append(df)\n",
                "    elif \"Cell\" in areasizeshape_df.stem:\n",
                "        df_dict[\"cell\"].append(df)\n",
                "    elif \"Cytoplasm\" in areasizeshape_df.stem:\n",
                "        df_dict[\"cytoplasm\"].append(df)\n",
                "\n",
                "# merge all of the organoid dataframes into one by ObjectID and image_set with duckdb\n",
                "con = duckdb.connect()\n",
                "dfs = {}\n",
                "for i, df in enumerate(df_dict[\"organoid\"]):\n",
                "    dfs[f\"{i}\"] = df"
            ]
        },
        {
            "cell_type": "code",
            "execution_count": 75,
            "metadata": {},
            "outputs": [
                {
                    "data": {
                        "text/html": [
                            "<div>\n",
                            "<style scoped>\n",
                            "    .dataframe tbody tr th:only-of-type {\n",
                            "        vertical-align: middle;\n",
                            "    }\n",
                            "\n",
                            "    .dataframe tbody tr th {\n",
                            "        vertical-align: top;\n",
                            "    }\n",
                            "\n",
                            "    .dataframe thead th {\n",
                            "        text-align: right;\n",
                            "    }\n",
                            "</style>\n",
                            "<table border=\"1\" class=\"dataframe\">\n",
                            "  <thead>\n",
                            "    <tr style=\"text-align: right;\">\n",
                            "      <th></th>\n",
                            "      <th>ObjectID</th>\n",
                            "      <th>AreaSizeShape_Organoid_Mito_VOLUME</th>\n",
                            "      <th>AreaSizeShape_Organoid_Mito_CENTER.X</th>\n",
                            "      <th>AreaSizeShape_Organoid_Mito_CENTER.Y</th>\n",
                            "      <th>AreaSizeShape_Organoid_Mito_CENTER.Z</th>\n",
                            "      <th>AreaSizeShape_Organoid_Mito_BBOX.VOLUME</th>\n",
                            "      <th>AreaSizeShape_Organoid_Mito_MIN.X</th>\n",
                            "      <th>AreaSizeShape_Organoid_Mito_MAX.X</th>\n",
                            "      <th>AreaSizeShape_Organoid_Mito_MIN.Y</th>\n",
                            "      <th>AreaSizeShape_Organoid_Mito_MAX.Y</th>\n",
                            "      <th>AreaSizeShape_Organoid_Mito_MIN.Z</th>\n",
                            "      <th>AreaSizeShape_Organoid_Mito_MAX.Z</th>\n",
                            "      <th>AreaSizeShape_Organoid_Mito_EXTENT</th>\n",
                            "      <th>AreaSizeShape_Organoid_Mito_EULER.NUMBER</th>\n",
                            "      <th>AreaSizeShape_Organoid_Mito_EQUIVALENT.DIAMETER</th>\n",
                            "      <th>AreaSizeShape_Organoid_Mito_SURFACE.AREA</th>\n",
                            "      <th>image_set</th>\n",
                            "    </tr>\n",
                            "  </thead>\n",
                            "  <tbody>\n",
                            "    <tr>\n",
                            "      <th>0</th>\n",
                            "      <td>1</td>\n",
                            "      <td>20948726.0</td>\n",
                            "      <td>663.314682</td>\n",
                            "      <td>552.593818</td>\n",
                            "      <td>15.26746</td>\n",
                            "      <td>33991848.0</td>\n",
                            "      <td>124</td>\n",
                            "      <td>1152</td>\n",
                            "      <td>45</td>\n",
                            "      <td>1047</td>\n",
                            "      <td>0</td>\n",
                            "      <td>33</td>\n",
                            "      <td>0.616287</td>\n",
                            "      <td>1</td>\n",
                            "      <td>342.021178</td>\n",
                            "      <td>NaN</td>\n",
                            "      <td>C4-2</td>\n",
                            "    </tr>\n",
                            "  </tbody>\n",
                            "</table>\n",
                            "</div>"
                        ],
                        "text/plain": [
                            "   ObjectID  AreaSizeShape_Organoid_Mito_VOLUME  \\\n",
                            "0         1                          20948726.0   \n",
                            "\n",
                            "   AreaSizeShape_Organoid_Mito_CENTER.X  AreaSizeShape_Organoid_Mito_CENTER.Y  \\\n",
                            "0                            663.314682                            552.593818   \n",
                            "\n",
                            "   AreaSizeShape_Organoid_Mito_CENTER.Z  \\\n",
                            "0                              15.26746   \n",
                            "\n",
                            "   AreaSizeShape_Organoid_Mito_BBOX.VOLUME  AreaSizeShape_Organoid_Mito_MIN.X  \\\n",
                            "0                               33991848.0                                124   \n",
                            "\n",
                            "   AreaSizeShape_Organoid_Mito_MAX.X  AreaSizeShape_Organoid_Mito_MIN.Y  \\\n",
                            "0                               1152                                 45   \n",
                            "\n",
                            "   AreaSizeShape_Organoid_Mito_MAX.Y  AreaSizeShape_Organoid_Mito_MIN.Z  \\\n",
                            "0                               1047                                  0   \n",
                            "\n",
                            "   AreaSizeShape_Organoid_Mito_MAX.Z  AreaSizeShape_Organoid_Mito_EXTENT  \\\n",
                            "0                                 33                            0.616287   \n",
                            "\n",
                            "   AreaSizeShape_Organoid_Mito_EULER.NUMBER  \\\n",
                            "0                                         1   \n",
                            "\n",
                            "   AreaSizeShape_Organoid_Mito_EQUIVALENT.DIAMETER  \\\n",
                            "0                                       342.021178   \n",
                            "\n",
                            "   AreaSizeShape_Organoid_Mito_SURFACE.AREA image_set  \n",
                            "0                                       NaN      C4-2  "
                        ]
                    },
                    "execution_count": 75,
                    "metadata": {},
                    "output_type": "execute_result"
                }
            ],
            "source": [
                "df"
            ]
        },
        {
            "cell_type": "code",
            "execution_count": null,
            "metadata": {},
            "outputs": [],
            "source": []
        },
        {
            "cell_type": "code",
            "execution_count": 74,
            "metadata": {},
            "outputs": [
                {
                    "ename": "ParserException",
                    "evalue": "Parser Error: syntax error at or near \"0\"",
                    "output_type": "error",
                    "traceback": [
                        "\u001b[31m---------------------------------------------------------------------------\u001b[39m",
                        "\u001b[31mParserException\u001b[39m                           Traceback (most recent call last)",
                        "\u001b[36mCell\u001b[39m\u001b[36m \u001b[39m\u001b[32mIn[74]\u001b[39m\u001b[32m, line 29\u001b[39m\n\u001b[32m     25\u001b[39m         query += \u001b[33mf\u001b[39m\u001b[33m\"\u001b[39m\u001b[38;5;132;01m{\u001b[39;00mjoin_type\u001b[38;5;132;01m}\u001b[39;00m\u001b[33m JOIN \u001b[39m\u001b[38;5;132;01m{\u001b[39;00mtbl\u001b[38;5;132;01m}\u001b[39;00m\u001b[33m USING(\u001b[39m\u001b[38;5;132;01m{\u001b[39;00mkey\u001b[38;5;132;01m}\u001b[39;00m\u001b[33m) \u001b[39m\u001b[33m\"\u001b[39m\n\u001b[32m     27\u001b[39m     \u001b[38;5;28;01mreturn\u001b[39;00m con.execute(query).fetchdf()\n\u001b[32m---> \u001b[39m\u001b[32m29\u001b[39m \u001b[43mduckdb_merge\u001b[49m\u001b[43m(\u001b[49m\n\u001b[32m     30\u001b[39m \u001b[43m    \u001b[49m\u001b[43mdfs\u001b[49m\u001b[43m,\u001b[49m\n\u001b[32m     31\u001b[39m \u001b[43m    \u001b[49m\u001b[43mkey\u001b[49m\u001b[43m=\u001b[49m\u001b[33;43m\"\u001b[39;49m\u001b[33;43mObjectID\u001b[39;49m\u001b[33;43m\"\u001b[39;49m\u001b[43m,\u001b[49m\n\u001b[32m     32\u001b[39m \u001b[43m    \u001b[49m\u001b[38;5;66;43;03m# join_type=\"INNER\",\u001b[39;49;00m\n\u001b[32m     33\u001b[39m \u001b[43m)\u001b[49m\n",
                        "\u001b[36mCell\u001b[39m\u001b[36m \u001b[39m\u001b[32mIn[74]\u001b[39m\u001b[32m, line 27\u001b[39m, in \u001b[36mduckdb_merge\u001b[39m\u001b[34m(dfs, key, join_type)\u001b[39m\n\u001b[32m     24\u001b[39m \u001b[38;5;28;01mfor\u001b[39;00m tbl \u001b[38;5;129;01min\u001b[39;00m table_names[\u001b[32m1\u001b[39m:]:\n\u001b[32m     25\u001b[39m     query += \u001b[33mf\u001b[39m\u001b[33m\"\u001b[39m\u001b[38;5;132;01m{\u001b[39;00mjoin_type\u001b[38;5;132;01m}\u001b[39;00m\u001b[33m JOIN \u001b[39m\u001b[38;5;132;01m{\u001b[39;00mtbl\u001b[38;5;132;01m}\u001b[39;00m\u001b[33m USING(\u001b[39m\u001b[38;5;132;01m{\u001b[39;00mkey\u001b[38;5;132;01m}\u001b[39;00m\u001b[33m) \u001b[39m\u001b[33m\"\u001b[39m\n\u001b[32m---> \u001b[39m\u001b[32m27\u001b[39m \u001b[38;5;28;01mreturn\u001b[39;00m \u001b[43mcon\u001b[49m\u001b[43m.\u001b[49m\u001b[43mexecute\u001b[49m\u001b[43m(\u001b[49m\u001b[43mquery\u001b[49m\u001b[43m)\u001b[49m.fetchdf()\n",
                        "\u001b[31mParserException\u001b[39m: Parser Error: syntax error at or near \"0\""
                    ]
                }
            ],
            "source": [
                "def duckdb_merge(dfs: dict, key: str = \"id\", join_type: str = \"INNER\") -> pd.DataFrame:\n",
                "    \"\"\"\n",
                "    Dynamically merges multiple DataFrames using DuckDB on a common key.\n",
                "\n",
                "    Parameters:\n",
                "    - dfs (dict): Dictionary of {name: DataFrame}\n",
                "    - key (str): The common key to join on\n",
                "    - join_type (str): Join type: INNER, LEFT, RIGHT, FULL\n",
                "\n",
                "    Returns:\n",
                "    - Merged pandas DataFrame\n",
                "    \"\"\"\n",
                "    con = duckdb.connect()\n",
                "\n",
                "    # Register DataFrames in DuckDB\n",
                "    for name, df in dfs.items():\n",
                "        con.register(name, df)\n",
                "\n",
                "    # Start building the SQL query\n",
                "    table_names = list(dfs.keys())\n",
                "    base = table_names[0]\n",
                "    query = f\"SELECT * FROM {base} \"\n",
                "\n",
                "    for tbl in table_names[1:]:\n",
                "        query += f\"{join_type} JOIN {tbl} USING({key}) \"\n",
                "\n",
                "    return con.execute(query).fetchdf()\n",
                "\n",
                "\n",
                "duckdb_merge(\n",
                "    dfs,\n",
                "    key=\"ObjectID\",\n",
                "    # join_type=\"INNER\",\n",
                ")"
            ]
        },
        {
            "cell_type": "code",
            "execution_count": null,
            "metadata": {},
            "outputs": [],
            "source": []
        },
        {
            "cell_type": "code",
            "execution_count": null,
            "metadata": {},
            "outputs": [],
            "source": []
        }
    ],
    "metadata": {
        "kernelspec": {
            "display_name": "nf1_image_based_profiling_env",
            "language": "python",
            "name": "python3"
        },
        "language_info": {
            "codemirror_mode": {
                "name": "ipython",
                "version": 3
            },
            "file_extension": ".py",
            "mimetype": "text/x-python",
            "name": "python",
            "nbconvert_exporter": "python",
            "pygments_lexer": "ipython3",
            "version": "3.12.9"
        }
    },
    "nbformat": 4,
    "nbformat_minor": 2
}
