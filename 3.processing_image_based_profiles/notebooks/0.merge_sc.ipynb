{
    "cells": [
        {
            "attachments": {},
            "cell_type": "markdown",
            "metadata": {},
            "source": [
                "# Merge single cells from CellProfiler outputs using CytoTable"
            ]
        },
        {
            "cell_type": "code",
            "execution_count": 1,
            "metadata": {},
            "outputs": [],
            "source": [
                "import pathlib\n",
                "import pprint\n",
                "import sys\n",
                "\n",
                "import pandas as pd\n",
                "from cytotable import convert, presets\n",
                "\n",
                "sys.path.append(\"../../utils\")\n",
                "import sc_extraction_utils as sc_utils\n",
                "from parsl.config import Config\n",
                "from parsl.executors import HighThroughputExecutor"
            ]
        },
        {
            "attachments": {},
            "cell_type": "markdown",
            "metadata": {},
            "source": [
                "## Set paths and variables\n",
                "\n",
                "All paths must be string but we use pathlib to show which variables are paths"
            ]
        },
        {
            "cell_type": "code",
            "execution_count": 3,
            "metadata": {},
            "outputs": [],
            "source": [
                "# type of file output from CytoTable (currently only parquet)\n",
                "dest_datatype = \"parquet\"\n",
                "\n",
                "# s1lite directory\n",
                "source_dir = pathlib.Path(\"../../2.cellprofiling/analysis_output/C4-2\")\n",
                "# directory where parquet files are saved to\n",
                "output_dir = pathlib.Path(\"../data/converted_data\")\n",
                "output_dir.mkdir(exist_ok=True, parents=True)"
            ]
        },
        {
            "cell_type": "markdown",
            "metadata": {},
            "source": [
                "## set config joins for each preset"
            ]
        },
        {
            "cell_type": "code",
            "execution_count": null,
            "metadata": {},
            "outputs": [],
            "source": [
                "# preset configurations based on typical CellProfiler outputs\n",
                "preset = \"cellprofiler_sqlite_pycytominer\"\n",
                "# remove Image_Metadata_Plate from SELECT as this metadata was not extracted from file names\n",
                "# add Image_Metadata_Site as this is an important metadata when finding where single cells are located\n",
                "presets.config[\"cellprofiler_sqlite_pycytominer\"][\n",
                "    \"CONFIG_JOINS\"\n",
                "    # create filtered list of image features to be extracted and used for merging tables\n",
                "    # with the list of image features, this will merge the objects together using the image number,\n",
                "    # and parent objects to create all single cells (all objects associated to one cell)\n",
                "] = \"\"\"WITH Per_Image_Filtered AS (\n",
                "                SELECT\n",
                "                    Metadata_ImageNumber,\n",
                "                    Image_Metadata_Well,\n",
                "                    Image_Metadata_FOV,\n",
                "                    Image_Metadata_Time,\n",
                "                FROM\n",
                "                    read_parquet('per_image.parquet')\n",
                "                )\n",
                "            SELECT\n",
                "                *\n",
                "            FROM\n",
                "                Per_Image_Filtered AS per_image\n",
                "            LEFT JOIN read_parquet('per_cytoplasm.parquet') AS per_cytoplasm ON\n",
                "                per_cytoplasm.Metadata_ImageNumber = per_image.Metadata_ImageNumber\n",
                "            LEFT JOIN read_parquet('per_cells.parquet') AS per_cells ON\n",
                "                per_cells.Metadata_ImageNumber = per_cytoplasm.Metadata_ImageNumber\n",
                "                AND per_cells.Metadata_Cells_Number_Object_Number = per_cytoplasm.Metadata_Cytoplasm_Parent_Cells\n",
                "            LEFT JOIN read_parquet('per_nuclei.parquet') AS per_nuclei ON\n",
                "                per_nuclei.Metadata_ImageNumber = per_cytoplasm.Metadata_ImageNumber\n",
                "                AND per_nuclei.Metadata_Nuclei_Number_Object_Number = per_cytoplasm.Metadata_Cytoplasm_Parent_Nuclei\n",
                "                \"\"\""
            ]
        },
        {
            "cell_type": "code",
            "execution_count": 5,
            "metadata": {},
            "outputs": [],
            "source": [
                "input_path = source_dir / \"C4-2.sqlite\"\n",
                "dest_path = f\"{output_dir}/C4-2.parquet\""
            ]
        },
        {
            "attachments": {},
            "cell_type": "markdown",
            "metadata": {},
            "source": [
                "## Convert SQLite file and merge single cells into parquet file\n",
                "\n",
                "This was not run to completion as we use the nbconverted python file for full run."
            ]
        },
        {
            "cell_type": "code",
            "execution_count": 6,
            "metadata": {},
            "outputs": [
                {
                    "name": "stdout",
                    "output_type": "stream",
                    "text": [
                        "Performing merge single cells and conversion on ../../2.cellprofiling/analysis_output/C4-2!\n",
                        "Source path: ../../2.cellprofiling/analysis_output/C4-2/C4-2.sqlite\n",
                        "Destination path: ../data/converted_data/C4-2.parquet\n"
                    ]
                },
                {
                    "ename": "BinderException",
                    "evalue": "Binder Error: Referenced column \"Image_Metadata_Time\" not found in FROM clause!\nCandidate bindings: \"read_parquet.Image_Metadata_Frame\", \"read_parquet.Image_Metadata_Well\", \"read_parquet.Image_Metadata_Series\", \"read_parquet.Image_Metadata_FOV\", \"read_parquet.Image_Metadata_channel\"\nLINE 6:                     Image_Metadata_Time,\n                            ^",
                    "output_type": "error",
                    "traceback": [
                        "\u001b[0;31m---------------------------------------------------------------------------\u001b[0m",
                        "\u001b[0;31mBinderException\u001b[0m                           Traceback (most recent call last)",
                        "Cell \u001b[0;32mIn[6], line 5\u001b[0m\n\u001b[1;32m      3\u001b[0m \u001b[38;5;28mprint\u001b[39m(\u001b[38;5;124mf\u001b[39m\u001b[38;5;124m\"\u001b[39m\u001b[38;5;124mDestination path: \u001b[39m\u001b[38;5;132;01m{\u001b[39;00mdest_path\u001b[38;5;132;01m}\u001b[39;00m\u001b[38;5;124m\"\u001b[39m)\n\u001b[1;32m      4\u001b[0m \u001b[38;5;66;03m# merge single cells and output as parquet file\u001b[39;00m\n\u001b[0;32m----> 5\u001b[0m \u001b[43mconvert\u001b[49m\u001b[43m(\u001b[49m\n\u001b[1;32m      6\u001b[0m \u001b[43m    \u001b[49m\u001b[43msource_path\u001b[49m\u001b[38;5;241;43m=\u001b[39;49m\u001b[43minput_path\u001b[49m\u001b[43m,\u001b[49m\n\u001b[1;32m      7\u001b[0m \u001b[43m    \u001b[49m\u001b[43mdest_path\u001b[49m\u001b[38;5;241;43m=\u001b[39;49m\u001b[43mdest_path\u001b[49m\u001b[43m,\u001b[49m\n\u001b[1;32m      8\u001b[0m \u001b[43m    \u001b[49m\u001b[43mdest_datatype\u001b[49m\u001b[38;5;241;43m=\u001b[39;49m\u001b[43mdest_datatype\u001b[49m\u001b[43m,\u001b[49m\n\u001b[1;32m      9\u001b[0m \u001b[43m    \u001b[49m\u001b[43mpreset\u001b[49m\u001b[38;5;241;43m=\u001b[39;49m\u001b[43mpreset\u001b[49m\u001b[43m,\u001b[49m\n\u001b[1;32m     10\u001b[0m \u001b[43m    \u001b[49m\u001b[43mparsl_config\u001b[49m\u001b[38;5;241;43m=\u001b[39;49m\u001b[43mConfig\u001b[49m\u001b[43m(\u001b[49m\n\u001b[1;32m     11\u001b[0m \u001b[43m        \u001b[49m\u001b[43mexecutors\u001b[49m\u001b[38;5;241;43m=\u001b[39;49m\u001b[43m[\u001b[49m\u001b[43mHighThroughputExecutor\u001b[49m\u001b[43m(\u001b[49m\u001b[43m)\u001b[49m\u001b[43m]\u001b[49m\u001b[43m,\u001b[49m\n\u001b[1;32m     12\u001b[0m \u001b[43m    \u001b[49m\u001b[43m)\u001b[49m\u001b[43m,\u001b[49m\n\u001b[1;32m     13\u001b[0m \u001b[43m    \u001b[49m\u001b[43mchunk_size\u001b[49m\u001b[38;5;241;43m=\u001b[39;49m\u001b[38;5;241;43m10000\u001b[39;49m\u001b[43m,\u001b[49m\n\u001b[1;32m     14\u001b[0m \u001b[43m)\u001b[49m\n\u001b[1;32m     15\u001b[0m \u001b[38;5;28mprint\u001b[39m(\u001b[38;5;124mf\u001b[39m\u001b[38;5;124m\"\u001b[39m\u001b[38;5;124mMerged and converted \u001b[39m\u001b[38;5;132;01m{\u001b[39;00mpathlib\u001b[38;5;241m.\u001b[39mPath(dest_path)\u001b[38;5;241m.\u001b[39mname\u001b[38;5;132;01m}\u001b[39;00m\u001b[38;5;124m!\u001b[39m\u001b[38;5;124m\"\u001b[39m)\n\u001b[1;32m     16\u001b[0m df \u001b[38;5;241m=\u001b[39m pd\u001b[38;5;241m.\u001b[39mread_parquet(dest_path)\n",
                        "File \u001b[0;32m~/miniforge3/envs/GFF_cellprofiler/lib/python3.8/site-packages/cytotable/convert.py:1581\u001b[0m, in \u001b[0;36mconvert\u001b[0;34m(source_path, dest_path, dest_datatype, source_datatype, metadata, compartments, identifying_columns, concat, join, joins, chunk_size, infer_common_schema, drop_null, data_type_cast_map, add_tablenumber, page_keys, sort_output, preset, parsl_config, **kwargs)\u001b[0m\n\u001b[1;32m   1579\u001b[0m \u001b[38;5;66;03m# send sources to be written to parquet if selected\u001b[39;00m\n\u001b[1;32m   1580\u001b[0m \u001b[38;5;28;01mif\u001b[39;00m dest_datatype \u001b[38;5;241m==\u001b[39m \u001b[38;5;124m\"\u001b[39m\u001b[38;5;124mparquet\u001b[39m\u001b[38;5;124m\"\u001b[39m:\n\u001b[0;32m-> 1581\u001b[0m     output \u001b[38;5;241m=\u001b[39m \u001b[43m_to_parquet\u001b[49m\u001b[43m(\u001b[49m\n\u001b[1;32m   1582\u001b[0m \u001b[43m        \u001b[49m\u001b[43msource_path\u001b[49m\u001b[38;5;241;43m=\u001b[39;49m\u001b[43msource_path\u001b[49m\u001b[43m,\u001b[49m\n\u001b[1;32m   1583\u001b[0m \u001b[43m        \u001b[49m\u001b[43mdest_path\u001b[49m\u001b[38;5;241;43m=\u001b[39;49m\u001b[43mdest_path\u001b[49m\u001b[43m,\u001b[49m\n\u001b[1;32m   1584\u001b[0m \u001b[43m        \u001b[49m\u001b[43msource_datatype\u001b[49m\u001b[38;5;241;43m=\u001b[39;49m\u001b[43msource_datatype\u001b[49m\u001b[43m,\u001b[49m\n\u001b[1;32m   1585\u001b[0m \u001b[43m        \u001b[49m\u001b[43mmetadata\u001b[49m\u001b[38;5;241;43m=\u001b[39;49m\u001b[43mmetadata\u001b[49m\u001b[43m,\u001b[49m\n\u001b[1;32m   1586\u001b[0m \u001b[43m        \u001b[49m\u001b[43mcompartments\u001b[49m\u001b[38;5;241;43m=\u001b[39;49m\u001b[43mcompartments\u001b[49m\u001b[43m,\u001b[49m\n\u001b[1;32m   1587\u001b[0m \u001b[43m        \u001b[49m\u001b[43midentifying_columns\u001b[49m\u001b[38;5;241;43m=\u001b[39;49m\u001b[43midentifying_columns\u001b[49m\u001b[43m,\u001b[49m\n\u001b[1;32m   1588\u001b[0m \u001b[43m        \u001b[49m\u001b[43mconcat\u001b[49m\u001b[38;5;241;43m=\u001b[39;49m\u001b[43mconcat\u001b[49m\u001b[43m,\u001b[49m\n\u001b[1;32m   1589\u001b[0m \u001b[43m        \u001b[49m\u001b[43mjoin\u001b[49m\u001b[38;5;241;43m=\u001b[39;49m\u001b[43mjoin\u001b[49m\u001b[43m,\u001b[49m\n\u001b[1;32m   1590\u001b[0m \u001b[43m        \u001b[49m\u001b[43mjoins\u001b[49m\u001b[38;5;241;43m=\u001b[39;49m\u001b[43mjoins\u001b[49m\u001b[43m,\u001b[49m\n\u001b[1;32m   1591\u001b[0m \u001b[43m        \u001b[49m\u001b[43mchunk_size\u001b[49m\u001b[38;5;241;43m=\u001b[39;49m\u001b[43mchunk_size\u001b[49m\u001b[43m,\u001b[49m\n\u001b[1;32m   1592\u001b[0m \u001b[43m        \u001b[49m\u001b[43minfer_common_schema\u001b[49m\u001b[38;5;241;43m=\u001b[39;49m\u001b[43minfer_common_schema\u001b[49m\u001b[43m,\u001b[49m\n\u001b[1;32m   1593\u001b[0m \u001b[43m        \u001b[49m\u001b[43mdrop_null\u001b[49m\u001b[38;5;241;43m=\u001b[39;49m\u001b[43mdrop_null\u001b[49m\u001b[43m,\u001b[49m\n\u001b[1;32m   1594\u001b[0m \u001b[43m        \u001b[49m\u001b[43mdata_type_cast_map\u001b[49m\u001b[38;5;241;43m=\u001b[39;49m\u001b[43mdata_type_cast_map\u001b[49m\u001b[43m,\u001b[49m\n\u001b[1;32m   1595\u001b[0m \u001b[43m        \u001b[49m\u001b[43madd_tablenumber\u001b[49m\u001b[38;5;241;43m=\u001b[39;49m\u001b[43madd_tablenumber\u001b[49m\u001b[43m,\u001b[49m\n\u001b[1;32m   1596\u001b[0m \u001b[43m        \u001b[49m\u001b[43msort_output\u001b[49m\u001b[38;5;241;43m=\u001b[39;49m\u001b[43msort_output\u001b[49m\u001b[43m,\u001b[49m\n\u001b[1;32m   1597\u001b[0m \u001b[43m        \u001b[49m\u001b[43mpage_keys\u001b[49m\u001b[38;5;241;43m=\u001b[39;49m\u001b[43mcast\u001b[49m\u001b[43m(\u001b[49m\u001b[38;5;28;43mdict\u001b[39;49m\u001b[43m,\u001b[49m\u001b[43m \u001b[49m\u001b[43mpage_keys\u001b[49m\u001b[43m)\u001b[49m\u001b[43m,\u001b[49m\n\u001b[1;32m   1598\u001b[0m \u001b[43m        \u001b[49m\u001b[38;5;241;43m*\u001b[39;49m\u001b[38;5;241;43m*\u001b[39;49m\u001b[43mkwargs\u001b[49m\u001b[43m,\u001b[49m\n\u001b[1;32m   1599\u001b[0m \u001b[43m    \u001b[49m\u001b[43m)\u001b[49m\n\u001b[1;32m   1601\u001b[0m \u001b[38;5;28;01mreturn\u001b[39;00m output\n",
                        "File \u001b[0;32m~/miniforge3/envs/GFF_cellprofiler/lib/python3.8/site-packages/cytotable/convert.py:1360\u001b[0m, in \u001b[0;36m_to_parquet\u001b[0;34m(source_path, dest_path, source_datatype, metadata, compartments, identifying_columns, concat, join, joins, chunk_size, infer_common_schema, drop_null, sort_output, page_keys, data_type_cast_map, add_tablenumber, **kwargs)\u001b[0m\n\u001b[1;32m   1339\u001b[0m page_key_join \u001b[38;5;241m=\u001b[39m [\n\u001b[1;32m   1340\u001b[0m     value \u001b[38;5;28;01mfor\u001b[39;00m key, value \u001b[38;5;129;01min\u001b[39;00m page_keys\u001b[38;5;241m.\u001b[39mitems() \u001b[38;5;28;01mif\u001b[39;00m key\u001b[38;5;241m.\u001b[39mlower() \u001b[38;5;241m==\u001b[39m \u001b[38;5;124m\"\u001b[39m\u001b[38;5;124mjoin\u001b[39m\u001b[38;5;124m\"\u001b[39m\n\u001b[1;32m   1341\u001b[0m ][\u001b[38;5;241m0\u001b[39m]\n\u001b[1;32m   1343\u001b[0m \u001b[38;5;66;03m# map joined results based on the join groups gathered above\u001b[39;00m\n\u001b[1;32m   1344\u001b[0m \u001b[38;5;66;03m# note: after mapping we end up with a list of strings (task returns str)\u001b[39;00m\n\u001b[1;32m   1345\u001b[0m join_sources_result \u001b[38;5;241m=\u001b[39m [\n\u001b[1;32m   1346\u001b[0m     _join_source_pageset(\n\u001b[1;32m   1347\u001b[0m         \u001b[38;5;66;03m# gather the result of concatted sources prior to\u001b[39;00m\n\u001b[1;32m   1348\u001b[0m         \u001b[38;5;66;03m# join group merging as each mapped task run will need\u001b[39;00m\n\u001b[1;32m   1349\u001b[0m         \u001b[38;5;66;03m# full concat results\u001b[39;00m\n\u001b[1;32m   1350\u001b[0m         dest_path\u001b[38;5;241m=\u001b[39mexpanded_dest_path,\n\u001b[1;32m   1351\u001b[0m         joins\u001b[38;5;241m=\u001b[39mprepared_joins_sql,\n\u001b[1;32m   1352\u001b[0m         page_key\u001b[38;5;241m=\u001b[39mpage_key_join,\n\u001b[1;32m   1353\u001b[0m         pageset\u001b[38;5;241m=\u001b[39mpageset,\n\u001b[1;32m   1354\u001b[0m         sort_output\u001b[38;5;241m=\u001b[39msort_output,\n\u001b[1;32m   1355\u001b[0m         drop_null\u001b[38;5;241m=\u001b[39mdrop_null,\n\u001b[1;32m   1356\u001b[0m     )\n\u001b[1;32m   1357\u001b[0m     \u001b[38;5;66;03m# create join group for querying the concatenated\u001b[39;00m\n\u001b[1;32m   1358\u001b[0m     \u001b[38;5;66;03m# data in order to perform memory-safe joining\u001b[39;00m\n\u001b[1;32m   1359\u001b[0m     \u001b[38;5;66;03m# per user chunk size specification.\u001b[39;00m\n\u001b[0;32m-> 1360\u001b[0m     \u001b[38;5;28;01mfor\u001b[39;00m pageset \u001b[38;5;129;01min\u001b[39;00m \u001b[43m_get_table_keyset_pagination_sets\u001b[49m\u001b[43m(\u001b[49m\n\u001b[1;32m   1361\u001b[0m \u001b[43m        \u001b[49m\u001b[43msql_stmt\u001b[49m\u001b[38;5;241;43m=\u001b[39;49m\u001b[43mprepared_joins_sql\u001b[49m\u001b[43m,\u001b[49m\n\u001b[1;32m   1362\u001b[0m \u001b[43m        \u001b[49m\u001b[43mchunk_size\u001b[49m\u001b[38;5;241;43m=\u001b[39;49m\u001b[43mchunk_size\u001b[49m\u001b[43m,\u001b[49m\n\u001b[1;32m   1363\u001b[0m \u001b[43m        \u001b[49m\u001b[43mpage_key\u001b[49m\u001b[38;5;241;43m=\u001b[39;49m\u001b[43mpage_key_join\u001b[49m\u001b[43m,\u001b[49m\n\u001b[1;32m   1364\u001b[0m \u001b[43m    \u001b[49m\u001b[43m)\u001b[49m\u001b[38;5;241;43m.\u001b[39;49m\u001b[43mresult\u001b[49m\u001b[43m(\u001b[49m\u001b[43m)\u001b[49m\n\u001b[1;32m   1365\u001b[0m ]\n\u001b[1;32m   1367\u001b[0m \u001b[38;5;28;01mif\u001b[39;00m concat:\n\u001b[1;32m   1368\u001b[0m     \u001b[38;5;66;03m# concat our join chunks together as one cohesive dataset\u001b[39;00m\n\u001b[1;32m   1369\u001b[0m     \u001b[38;5;66;03m# return results in common format which includes metadata\u001b[39;00m\n\u001b[1;32m   1370\u001b[0m     \u001b[38;5;66;03m# for lineage and debugging\u001b[39;00m\n\u001b[1;32m   1371\u001b[0m     results \u001b[38;5;241m=\u001b[39m _concat_join_sources(\n\u001b[1;32m   1372\u001b[0m         dest_path\u001b[38;5;241m=\u001b[39mexpanded_dest_path,\n\u001b[1;32m   1373\u001b[0m         join_sources\u001b[38;5;241m=\u001b[39m[join\u001b[38;5;241m.\u001b[39mresult() \u001b[38;5;28;01mfor\u001b[39;00m join \u001b[38;5;129;01min\u001b[39;00m join_sources_result],\n\u001b[1;32m   1374\u001b[0m         sources\u001b[38;5;241m=\u001b[39mevaluated_results,\n\u001b[1;32m   1375\u001b[0m         sort_output\u001b[38;5;241m=\u001b[39msort_output,\n\u001b[1;32m   1376\u001b[0m     )\n",
                        "File \u001b[0;32m~/miniforge3/envs/GFF_cellprofiler/lib/python3.8/concurrent/futures/_base.py:444\u001b[0m, in \u001b[0;36mFuture.result\u001b[0;34m(self, timeout)\u001b[0m\n\u001b[1;32m    442\u001b[0m     \u001b[38;5;28;01mraise\u001b[39;00m CancelledError()\n\u001b[1;32m    443\u001b[0m \u001b[38;5;28;01melif\u001b[39;00m \u001b[38;5;28mself\u001b[39m\u001b[38;5;241m.\u001b[39m_state \u001b[38;5;241m==\u001b[39m FINISHED:\n\u001b[0;32m--> 444\u001b[0m     \u001b[38;5;28;01mreturn\u001b[39;00m \u001b[38;5;28;43mself\u001b[39;49m\u001b[38;5;241;43m.\u001b[39;49m\u001b[43m__get_result\u001b[49m\u001b[43m(\u001b[49m\u001b[43m)\u001b[49m\n\u001b[1;32m    445\u001b[0m \u001b[38;5;28;01melse\u001b[39;00m:\n\u001b[1;32m    446\u001b[0m     \u001b[38;5;28;01mraise\u001b[39;00m \u001b[38;5;167;01mTimeoutError\u001b[39;00m()\n",
                        "File \u001b[0;32m~/miniforge3/envs/GFF_cellprofiler/lib/python3.8/concurrent/futures/_base.py:389\u001b[0m, in \u001b[0;36mFuture.__get_result\u001b[0;34m(self)\u001b[0m\n\u001b[1;32m    387\u001b[0m \u001b[38;5;28;01mif\u001b[39;00m \u001b[38;5;28mself\u001b[39m\u001b[38;5;241m.\u001b[39m_exception:\n\u001b[1;32m    388\u001b[0m     \u001b[38;5;28;01mtry\u001b[39;00m:\n\u001b[0;32m--> 389\u001b[0m         \u001b[38;5;28;01mraise\u001b[39;00m \u001b[38;5;28mself\u001b[39m\u001b[38;5;241m.\u001b[39m_exception\n\u001b[1;32m    390\u001b[0m     \u001b[38;5;28;01mfinally\u001b[39;00m:\n\u001b[1;32m    391\u001b[0m         \u001b[38;5;66;03m# Break a reference cycle with the exception in self._exception\u001b[39;00m\n\u001b[1;32m    392\u001b[0m         \u001b[38;5;28mself\u001b[39m \u001b[38;5;241m=\u001b[39m \u001b[38;5;28;01mNone\u001b[39;00m\n",
                        "File \u001b[0;32m~/miniforge3/envs/GFF_cellprofiler/lib/python3.8/site-packages/parsl/dataflow/dflow.py:344\u001b[0m, in \u001b[0;36mDataFlowKernel.handle_exec_update\u001b[0;34m(self, task_record, future)\u001b[0m\n\u001b[1;32m    341\u001b[0m     \u001b[38;5;28;01mraise\u001b[39;00m InternalConsistencyError(\u001b[38;5;124m\"\u001b[39m\u001b[38;5;124mdone callback called, despite future not reporting itself as done\u001b[39m\u001b[38;5;124m\"\u001b[39m)\n\u001b[1;32m    343\u001b[0m \u001b[38;5;28;01mtry\u001b[39;00m:\n\u001b[0;32m--> 344\u001b[0m     res \u001b[38;5;241m=\u001b[39m \u001b[38;5;28;43mself\u001b[39;49m\u001b[38;5;241;43m.\u001b[39;49m\u001b[43m_unwrap_remote_exception_wrapper\u001b[49m\u001b[43m(\u001b[49m\u001b[43mfuture\u001b[49m\u001b[43m)\u001b[49m\n\u001b[1;32m    346\u001b[0m \u001b[38;5;28;01mexcept\u001b[39;00m \u001b[38;5;167;01mException\u001b[39;00m \u001b[38;5;28;01mas\u001b[39;00m e:\n\u001b[1;32m    347\u001b[0m     logger\u001b[38;5;241m.\u001b[39minfo(\u001b[38;5;124mf\u001b[39m\u001b[38;5;124m\"\u001b[39m\u001b[38;5;124mTask \u001b[39m\u001b[38;5;132;01m{\u001b[39;00mtask_id\u001b[38;5;132;01m}\u001b[39;00m\u001b[38;5;124m try \u001b[39m\u001b[38;5;132;01m{\u001b[39;00mtask_record[\u001b[38;5;124m'\u001b[39m\u001b[38;5;124mtry_id\u001b[39m\u001b[38;5;124m'\u001b[39m]\u001b[38;5;132;01m}\u001b[39;00m\u001b[38;5;124m failed with exception of type \u001b[39m\u001b[38;5;132;01m{\u001b[39;00m\u001b[38;5;28mtype\u001b[39m(e)\u001b[38;5;241m.\u001b[39m\u001b[38;5;18m__name__\u001b[39m\u001b[38;5;132;01m}\u001b[39;00m\u001b[38;5;124m\"\u001b[39m)\n",
                        "File \u001b[0;32m~/miniforge3/envs/GFF_cellprofiler/lib/python3.8/site-packages/parsl/dataflow/dflow.py:614\u001b[0m, in \u001b[0;36mDataFlowKernel._unwrap_remote_exception_wrapper\u001b[0;34m(future)\u001b[0m\n\u001b[1;32m    612\u001b[0m result \u001b[38;5;241m=\u001b[39m future\u001b[38;5;241m.\u001b[39mresult()\n\u001b[1;32m    613\u001b[0m \u001b[38;5;28;01mif\u001b[39;00m \u001b[38;5;28misinstance\u001b[39m(result, RemoteExceptionWrapper):\n\u001b[0;32m--> 614\u001b[0m     \u001b[43mresult\u001b[49m\u001b[38;5;241;43m.\u001b[39;49m\u001b[43mreraise\u001b[49m\u001b[43m(\u001b[49m\u001b[43m)\u001b[49m\n\u001b[1;32m    615\u001b[0m \u001b[38;5;28;01mreturn\u001b[39;00m result\n",
                        "File \u001b[0;32m~/miniforge3/envs/GFF_cellprofiler/lib/python3.8/site-packages/parsl/app/errors.py:117\u001b[0m, in \u001b[0;36mRemoteExceptionWrapper.reraise\u001b[0;34m(self)\u001b[0m\n\u001b[1;32m    113\u001b[0m logger\u001b[38;5;241m.\u001b[39mdebug(\u001b[38;5;124m\"\u001b[39m\u001b[38;5;124mReraising exception of type \u001b[39m\u001b[38;5;132;01m{}\u001b[39;00m\u001b[38;5;124m\"\u001b[39m\u001b[38;5;241m.\u001b[39mformat(\u001b[38;5;28mself\u001b[39m\u001b[38;5;241m.\u001b[39me_type))\n\u001b[1;32m    115\u001b[0m v \u001b[38;5;241m=\u001b[39m \u001b[38;5;28mself\u001b[39m\u001b[38;5;241m.\u001b[39mget_exception()\n\u001b[0;32m--> 117\u001b[0m \u001b[38;5;28;01mraise\u001b[39;00m v\n",
                        "File \u001b[0;32m~/miniforge3/envs/GFF_cellprofiler/lib/python3.8/site-packages/parsl/app/errors.py:141\u001b[0m, in \u001b[0;36mwrapper\u001b[0;34m()\u001b[0m\n\u001b[1;32m    139\u001b[0m \u001b[38;5;28;01mfrom\u001b[39;00m \u001b[38;5;21;01mparsl\u001b[39;00m\u001b[38;5;21;01m.\u001b[39;00m\u001b[38;5;21;01mapp\u001b[39;00m\u001b[38;5;21;01m.\u001b[39;00m\u001b[38;5;21;01merrors\u001b[39;00m \u001b[38;5;28;01mimport\u001b[39;00m RemoteExceptionWrapper\n\u001b[1;32m    140\u001b[0m \u001b[38;5;28;01mtry\u001b[39;00m:\n\u001b[0;32m--> 141\u001b[0m     \u001b[38;5;28;01mreturn\u001b[39;00m func(\u001b[38;5;241m*\u001b[39margs, \u001b[38;5;241m*\u001b[39m\u001b[38;5;241m*\u001b[39mkwargs)\n\u001b[1;32m    142\u001b[0m \u001b[38;5;28;01mexcept\u001b[39;00m \u001b[38;5;167;01mException\u001b[39;00m:\n\u001b[1;32m    143\u001b[0m     \u001b[38;5;28;01mreturn\u001b[39;00m RemoteExceptionWrapper(\u001b[38;5;241m*\u001b[39msys\u001b[38;5;241m.\u001b[39mexc_info())\n",
                        "File \u001b[0;32m~/miniforge3/envs/GFF_cellprofiler/lib/python3.8/site-packages/cytotable/convert.py:361\u001b[0m, in \u001b[0;36m_get_table_keyset_pagination_sets\u001b[0;34m()\u001b[0m\n\u001b[1;32m    359\u001b[0m         sql_query \u001b[38;5;241m=\u001b[39m \u001b[38;5;124mf\u001b[39m\u001b[38;5;124m\"\u001b[39m\u001b[38;5;124mSELECT \u001b[39m\u001b[38;5;132;01m{\u001b[39;00mpage_key\u001b[38;5;132;01m}\u001b[39;00m\u001b[38;5;124m FROM (\u001b[39m\u001b[38;5;132;01m{\u001b[39;00msql_stmt\u001b[38;5;132;01m}\u001b[39;00m\u001b[38;5;124m) ORDER BY \u001b[39m\u001b[38;5;132;01m{\u001b[39;00mpage_key\u001b[38;5;132;01m}\u001b[39;00m\u001b[38;5;124m\"\u001b[39m\n\u001b[1;32m    360\u001b[0m         page_keys \u001b[38;5;241m=\u001b[39m ddb_reader\u001b[38;5;241m.\u001b[39mexecute(sql_query)\u001b[38;5;241m.\u001b[39mfetchall()\n\u001b[0;32m--> 361\u001b[0m         page_keys \u001b[38;5;241m=\u001b[39m [key[\u001b[38;5;241m0\u001b[39m] \u001b[38;5;28;01mfor\u001b[39;00m key \u001b[38;5;129;01min\u001b[39;00m page_keys]\n\u001b[1;32m    363\u001b[0m \u001b[38;5;28;01mreturn\u001b[39;00m _generate_pagesets(page_keys, chunk_size)\n",
                        "File \u001b[0;32m~/miniforge3/envs/GFF_cellprofiler/lib/python3.8/site-packages/cytotable/convert.py:360\u001b[0m, in \u001b[0;36m_get_table_keyset_pagination_sets\u001b[0;34m()\u001b[0m\n\u001b[1;32m    358\u001b[0m     \u001b[38;5;28;01mwith\u001b[39;00m _duckdb_reader() \u001b[38;5;28;01mas\u001b[39;00m ddb_reader:\n\u001b[1;32m    359\u001b[0m         sql_query \u001b[38;5;241m=\u001b[39m \u001b[38;5;124mf\u001b[39m\u001b[38;5;124m\"\u001b[39m\u001b[38;5;124mSELECT \u001b[39m\u001b[38;5;132;01m{\u001b[39;00mpage_key\u001b[38;5;132;01m}\u001b[39;00m\u001b[38;5;124m FROM (\u001b[39m\u001b[38;5;132;01m{\u001b[39;00msql_stmt\u001b[38;5;132;01m}\u001b[39;00m\u001b[38;5;124m) ORDER BY \u001b[39m\u001b[38;5;132;01m{\u001b[39;00mpage_key\u001b[38;5;132;01m}\u001b[39;00m\u001b[38;5;124m\"\u001b[39m\n\u001b[0;32m--> 360\u001b[0m         page_keys \u001b[38;5;241m=\u001b[39m ddb_reader\u001b[38;5;241m.\u001b[39mexecute(sql_query)\u001b[38;5;241m.\u001b[39mfetchall()\n\u001b[1;32m    361\u001b[0m         page_keys \u001b[38;5;241m=\u001b[39m [key[\u001b[38;5;241m0\u001b[39m] \u001b[38;5;28;01mfor\u001b[39;00m key \u001b[38;5;129;01min\u001b[39;00m page_keys]\n\u001b[1;32m    363\u001b[0m \u001b[38;5;28;01mreturn\u001b[39;00m _generate_pagesets(page_keys, chunk_size)\n",
                        "\u001b[0;31mBinderException\u001b[0m: Binder Error: Referenced column \"Image_Metadata_Time\" not found in FROM clause!\nCandidate bindings: \"read_parquet.Image_Metadata_Frame\", \"read_parquet.Image_Metadata_Well\", \"read_parquet.Image_Metadata_Series\", \"read_parquet.Image_Metadata_FOV\", \"read_parquet.Image_Metadata_channel\"\nLINE 6:                     Image_Metadata_Time,\n                            ^"
                    ]
                }
            ],
            "source": [
                "print(f\"Performing merge single cells and conversion on {source_dir}!\")\n",
                "print(f\"Source path: {input_path}\")\n",
                "print(f\"Destination path: {dest_path}\")\n",
                "# merge single cells and output as parquet file\n",
                "convert(\n",
                "    source_path=input_path,\n",
                "    dest_path=dest_path,\n",
                "    dest_datatype=dest_datatype,\n",
                "    preset=preset,\n",
                "    parsl_config=Config(\n",
                "        executors=[HighThroughputExecutor()],\n",
                "    ),\n",
                "    chunk_size=10000,\n",
                ")\n",
                "print(f\"Merged and converted {pathlib.Path(dest_path).name}!\")\n",
                "df = pd.read_parquet(dest_path)\n",
                "print(f\"Shape of {pathlib.Path(dest_path).name}: {df.shape}\")\n",
                "# add single cell count per well as metadata column to parquet file and save back to same path\n",
                "sc_utils.add_sc_count_metadata_file(\n",
                "    data_path=dest_path,\n",
                "    well_column_name=\"Metadata_ImageNumber\",\n",
                "    file_type=\"parquet\",\n",
                ")\n",
                "# read the parquet file to check if metadata was added\n",
                "df1 = pd.read_parquet(dest_path)\n",
                "print(f\"Shape of {pathlib.Path(dest_path).name}: {df.shape}\")\n",
                "print(f\"Added single cell count as metadata to {pathlib.Path(dest_path).name}!\")"
            ]
        }
    ],
    "metadata": {
        "kernelspec": {
            "display_name": "GFF_cellprofiler",
            "language": "python",
            "name": "python3"
        },
        "language_info": {
            "codemirror_mode": {
                "name": "ipython",
                "version": 3
            },
            "file_extension": ".py",
            "mimetype": "text/x-python",
            "name": "python",
            "nbconvert_exporter": "python",
            "pygments_lexer": "ipython3",
            "version": "3.8.19"
        },
        "orig_nbformat": 4
    },
    "nbformat": 4,
    "nbformat_minor": 2
}
