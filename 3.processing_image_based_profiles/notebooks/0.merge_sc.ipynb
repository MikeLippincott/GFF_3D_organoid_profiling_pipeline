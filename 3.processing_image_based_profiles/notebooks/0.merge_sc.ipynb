{
    "cells": [
        {
            "attachments": {},
            "cell_type": "markdown",
            "metadata": {},
            "source": [
                "# Merge single cells from CellProfiler outputs using CytoTable"
            ]
        },
        {
            "cell_type": "code",
            "execution_count": 1,
            "metadata": {},
            "outputs": [],
            "source": [
                "import pathlib\n",
                "import pprint\n",
                "import sys\n",
                "\n",
                "import pandas as pd\n",
                "from cytotable import convert, presets\n",
                "\n",
                "sys.path.append(\"../../utils\")\n",
                "import sc_extraction_utils as sc_utils\n",
                "from parsl.config import Config\n",
                "from parsl.executors import HighThroughputExecutor"
            ]
        },
        {
            "attachments": {},
            "cell_type": "markdown",
            "metadata": {},
            "source": [
                "## Set paths and variables\n",
                "\n",
                "All paths must be string but we use pathlib to show which variables are paths"
            ]
        },
        {
            "cell_type": "code",
            "execution_count": 2,
            "metadata": {},
            "outputs": [],
            "source": [
                "# type of file output from CytoTable (currently only parquet)\n",
                "dest_datatype = \"parquet\"\n",
                "\n",
                "# s1lite directory\n",
                "source_dir = pathlib.Path(\"../../2.cellprofiling/analysis_output/C4-2\")\n",
                "# directory where parquet files are saved to\n",
                "output_dir = pathlib.Path(\"../data/converted_data\")\n",
                "output_dir.mkdir(exist_ok=True, parents=True)"
            ]
        },
        {
            "cell_type": "markdown",
            "metadata": {},
            "source": [
                "## set config joins for each preset"
            ]
        },
        {
            "cell_type": "code",
            "execution_count": 3,
            "metadata": {},
            "outputs": [],
            "source": [
                "# preset configurations based on typical CellProfiler outputs\n",
                "preset = \"cellprofiler_sqlite_pycytominer\"\n",
                "# remove Image_Metadata_Plate from SELECT as this metadata was not extracted from file names\n",
                "# add Image_Metadata_Site as this is an important metadata when finding where single cells are located\n",
                "presets.config[\"cellprofiler_sqlite_pycytominer\"][\n",
                "    \"CONFIG_JOINS\"\n",
                "    # create filtered list of image features to be extracted and used for merging tables\n",
                "    # with the list of image features, this will merge the objects together using the image number,\n",
                "    # and parent objects to create all single cells (all objects associated to one cell)\n",
                "] = \"\"\"WITH Per_Image_Filtered AS (\n",
                "                SELECT\n",
                "                    Metadata_ImageNumber,\n",
                "                    Image_Metadata_Well,\n",
                "                    Image_Metadata_FOV,\n",
                "                FROM\n",
                "                    read_parquet('per_image.parquet')\n",
                "                )\n",
                "            SELECT\n",
                "                *\n",
                "            FROM\n",
                "                Per_Image_Filtered AS per_image\n",
                "\n",
                "            LEFT JOIN read_parquet('per_cytoplasm.parquet') AS per_cytoplasm ON\n",
                "                per_cytoplasm.Metadata_ImageNumber = per_image.Metadata_ImageNumber\n",
                "\n",
                "            LEFT JOIN read_parquet('per_cell.parquet') AS per_cell ON\n",
                "                per_cell.Metadata_ImageNumber = per_cytoplasm.Metadata_ImageNumber\n",
                "                AND per_cell.Metadata_Cell_Number_Object_Number = per_cytoplasm.Metadata_Cytoplasm_Parent_Cell\n",
                "\n",
                "            LEFT JOIN read_parquet('per_nuclei.parquet') AS per_nuclei ON\n",
                "                per_nuclei.Metadata_ImageNumber = per_cell.Metadata_ImageNumber\n",
                "                AND per_nuclei.Metadata_Nuclei_Number_Object_Number = per_cell.Metadata_Cell_Parent_Nuclei\n",
                "\n",
                "            LEFT JOIN read_parquet('per_organoid.parquet') AS per_organoid ON\n",
                "                on per_organoid.Metadata_ImageNumber = per_nuclei.Metadata_ImageNumber\n",
                "                AND per_organoid.Metadata_Organoid_Number_Object_Number = per_nuclei.Metadata_Nuclei_Parent_Organoid\n",
                "\n",
                "                \"\"\""
            ]
        },
        {
            "cell_type": "code",
            "execution_count": 4,
            "metadata": {},
            "outputs": [],
            "source": [
                "input_path = source_dir / \"C4-2.sqlite\"\n",
                "dest_path = f\"{output_dir}/C4-2.parquet\""
            ]
        },
        {
            "attachments": {},
            "cell_type": "markdown",
            "metadata": {},
            "source": [
                "## Convert SQLite file and merge single cells into parquet file\n",
                "\n",
                "This was not run to completion as we use the nbconverted python file for full run."
            ]
        },
        {
            "cell_type": "code",
            "execution_count": 5,
            "metadata": {},
            "outputs": [
                {
                    "name": "stdout",
                    "output_type": "stream",
                    "text": [
                        "Performing merge single cells and conversion on ../../2.cellprofiling/analysis_output/C4-2!\n",
                        "Source path: ../../2.cellprofiling/analysis_output/C4-2/C4-2.sqlite\n",
                        "Destination path: ../data/converted_data/C4-2.parquet\n"
                    ]
                },
                {
                    "ename": "NoInputDataException",
                    "evalue": "No input data to process at path: /home/lippincm/Documents/GFF_3D_organoid_profiling_pipeline/2.cellprofiling/analysis_output/C4-2/C4-2.sqlite",
                    "output_type": "error",
                    "traceback": [
                        "\u001b[0;31m---------------------------------------------------------------------------\u001b[0m",
                        "\u001b[0;31mNoInputDataException\u001b[0m                      Traceback (most recent call last)",
                        "Cell \u001b[0;32mIn[5], line 5\u001b[0m\n\u001b[1;32m      3\u001b[0m \u001b[38;5;28mprint\u001b[39m(\u001b[38;5;124mf\u001b[39m\u001b[38;5;124m\"\u001b[39m\u001b[38;5;124mDestination path: \u001b[39m\u001b[38;5;132;01m{\u001b[39;00mdest_path\u001b[38;5;132;01m}\u001b[39;00m\u001b[38;5;124m\"\u001b[39m)\n\u001b[1;32m      4\u001b[0m \u001b[38;5;66;03m# merge single cells and output as parquet file\u001b[39;00m\n\u001b[0;32m----> 5\u001b[0m \u001b[43mconvert\u001b[49m\u001b[43m(\u001b[49m\n\u001b[1;32m      6\u001b[0m \u001b[43m    \u001b[49m\u001b[43msource_path\u001b[49m\u001b[38;5;241;43m=\u001b[39;49m\u001b[43minput_path\u001b[49m\u001b[43m,\u001b[49m\n\u001b[1;32m      7\u001b[0m \u001b[43m    \u001b[49m\u001b[43mdest_path\u001b[49m\u001b[38;5;241;43m=\u001b[39;49m\u001b[43mdest_path\u001b[49m\u001b[43m,\u001b[49m\n\u001b[1;32m      8\u001b[0m \u001b[43m    \u001b[49m\u001b[43mdest_datatype\u001b[49m\u001b[38;5;241;43m=\u001b[39;49m\u001b[43mdest_datatype\u001b[49m\u001b[43m,\u001b[49m\n\u001b[1;32m      9\u001b[0m \u001b[43m    \u001b[49m\u001b[43mpreset\u001b[49m\u001b[38;5;241;43m=\u001b[39;49m\u001b[43mpreset\u001b[49m\u001b[43m,\u001b[49m\n\u001b[1;32m     10\u001b[0m \u001b[43m    \u001b[49m\u001b[43mparsl_config\u001b[49m\u001b[38;5;241;43m=\u001b[39;49m\u001b[43mConfig\u001b[49m\u001b[43m(\u001b[49m\n\u001b[1;32m     11\u001b[0m \u001b[43m        \u001b[49m\u001b[43mexecutors\u001b[49m\u001b[38;5;241;43m=\u001b[39;49m\u001b[43m[\u001b[49m\u001b[43mHighThroughputExecutor\u001b[49m\u001b[43m(\u001b[49m\u001b[43m)\u001b[49m\u001b[43m]\u001b[49m\u001b[43m,\u001b[49m\n\u001b[1;32m     12\u001b[0m \u001b[43m    \u001b[49m\u001b[43m)\u001b[49m\u001b[43m,\u001b[49m\n\u001b[1;32m     13\u001b[0m \u001b[43m    \u001b[49m\u001b[43mchunk_size\u001b[49m\u001b[38;5;241;43m=\u001b[39;49m\u001b[38;5;241;43m10000\u001b[39;49m\u001b[43m,\u001b[49m\n\u001b[1;32m     14\u001b[0m \u001b[43m)\u001b[49m\n\u001b[1;32m     15\u001b[0m \u001b[38;5;28mprint\u001b[39m(\u001b[38;5;124mf\u001b[39m\u001b[38;5;124m\"\u001b[39m\u001b[38;5;124mMerged and converted \u001b[39m\u001b[38;5;132;01m{\u001b[39;00mpathlib\u001b[38;5;241m.\u001b[39mPath(dest_path)\u001b[38;5;241m.\u001b[39mname\u001b[38;5;132;01m}\u001b[39;00m\u001b[38;5;124m!\u001b[39m\u001b[38;5;124m\"\u001b[39m)\n\u001b[1;32m     16\u001b[0m df \u001b[38;5;241m=\u001b[39m pd\u001b[38;5;241m.\u001b[39mread_parquet(dest_path)\n",
                        "File \u001b[0;32m~/miniforge3/envs/GFF_cellprofiler/lib/python3.8/site-packages/cytotable/convert.py:1581\u001b[0m, in \u001b[0;36mconvert\u001b[0;34m(source_path, dest_path, dest_datatype, source_datatype, metadata, compartments, identifying_columns, concat, join, joins, chunk_size, infer_common_schema, drop_null, data_type_cast_map, add_tablenumber, page_keys, sort_output, preset, parsl_config, **kwargs)\u001b[0m\n\u001b[1;32m   1579\u001b[0m \u001b[38;5;66;03m# send sources to be written to parquet if selected\u001b[39;00m\n\u001b[1;32m   1580\u001b[0m \u001b[38;5;28;01mif\u001b[39;00m dest_datatype \u001b[38;5;241m==\u001b[39m \u001b[38;5;124m\"\u001b[39m\u001b[38;5;124mparquet\u001b[39m\u001b[38;5;124m\"\u001b[39m:\n\u001b[0;32m-> 1581\u001b[0m     output \u001b[38;5;241m=\u001b[39m \u001b[43m_to_parquet\u001b[49m\u001b[43m(\u001b[49m\n\u001b[1;32m   1582\u001b[0m \u001b[43m        \u001b[49m\u001b[43msource_path\u001b[49m\u001b[38;5;241;43m=\u001b[39;49m\u001b[43msource_path\u001b[49m\u001b[43m,\u001b[49m\n\u001b[1;32m   1583\u001b[0m \u001b[43m        \u001b[49m\u001b[43mdest_path\u001b[49m\u001b[38;5;241;43m=\u001b[39;49m\u001b[43mdest_path\u001b[49m\u001b[43m,\u001b[49m\n\u001b[1;32m   1584\u001b[0m \u001b[43m        \u001b[49m\u001b[43msource_datatype\u001b[49m\u001b[38;5;241;43m=\u001b[39;49m\u001b[43msource_datatype\u001b[49m\u001b[43m,\u001b[49m\n\u001b[1;32m   1585\u001b[0m \u001b[43m        \u001b[49m\u001b[43mmetadata\u001b[49m\u001b[38;5;241;43m=\u001b[39;49m\u001b[43mmetadata\u001b[49m\u001b[43m,\u001b[49m\n\u001b[1;32m   1586\u001b[0m \u001b[43m        \u001b[49m\u001b[43mcompartments\u001b[49m\u001b[38;5;241;43m=\u001b[39;49m\u001b[43mcompartments\u001b[49m\u001b[43m,\u001b[49m\n\u001b[1;32m   1587\u001b[0m \u001b[43m        \u001b[49m\u001b[43midentifying_columns\u001b[49m\u001b[38;5;241;43m=\u001b[39;49m\u001b[43midentifying_columns\u001b[49m\u001b[43m,\u001b[49m\n\u001b[1;32m   1588\u001b[0m \u001b[43m        \u001b[49m\u001b[43mconcat\u001b[49m\u001b[38;5;241;43m=\u001b[39;49m\u001b[43mconcat\u001b[49m\u001b[43m,\u001b[49m\n\u001b[1;32m   1589\u001b[0m \u001b[43m        \u001b[49m\u001b[43mjoin\u001b[49m\u001b[38;5;241;43m=\u001b[39;49m\u001b[43mjoin\u001b[49m\u001b[43m,\u001b[49m\n\u001b[1;32m   1590\u001b[0m \u001b[43m        \u001b[49m\u001b[43mjoins\u001b[49m\u001b[38;5;241;43m=\u001b[39;49m\u001b[43mjoins\u001b[49m\u001b[43m,\u001b[49m\n\u001b[1;32m   1591\u001b[0m \u001b[43m        \u001b[49m\u001b[43mchunk_size\u001b[49m\u001b[38;5;241;43m=\u001b[39;49m\u001b[43mchunk_size\u001b[49m\u001b[43m,\u001b[49m\n\u001b[1;32m   1592\u001b[0m \u001b[43m        \u001b[49m\u001b[43minfer_common_schema\u001b[49m\u001b[38;5;241;43m=\u001b[39;49m\u001b[43minfer_common_schema\u001b[49m\u001b[43m,\u001b[49m\n\u001b[1;32m   1593\u001b[0m \u001b[43m        \u001b[49m\u001b[43mdrop_null\u001b[49m\u001b[38;5;241;43m=\u001b[39;49m\u001b[43mdrop_null\u001b[49m\u001b[43m,\u001b[49m\n\u001b[1;32m   1594\u001b[0m \u001b[43m        \u001b[49m\u001b[43mdata_type_cast_map\u001b[49m\u001b[38;5;241;43m=\u001b[39;49m\u001b[43mdata_type_cast_map\u001b[49m\u001b[43m,\u001b[49m\n\u001b[1;32m   1595\u001b[0m \u001b[43m        \u001b[49m\u001b[43madd_tablenumber\u001b[49m\u001b[38;5;241;43m=\u001b[39;49m\u001b[43madd_tablenumber\u001b[49m\u001b[43m,\u001b[49m\n\u001b[1;32m   1596\u001b[0m \u001b[43m        \u001b[49m\u001b[43msort_output\u001b[49m\u001b[38;5;241;43m=\u001b[39;49m\u001b[43msort_output\u001b[49m\u001b[43m,\u001b[49m\n\u001b[1;32m   1597\u001b[0m \u001b[43m        \u001b[49m\u001b[43mpage_keys\u001b[49m\u001b[38;5;241;43m=\u001b[39;49m\u001b[43mcast\u001b[49m\u001b[43m(\u001b[49m\u001b[38;5;28;43mdict\u001b[39;49m\u001b[43m,\u001b[49m\u001b[43m \u001b[49m\u001b[43mpage_keys\u001b[49m\u001b[43m)\u001b[49m\u001b[43m,\u001b[49m\n\u001b[1;32m   1598\u001b[0m \u001b[43m        \u001b[49m\u001b[38;5;241;43m*\u001b[39;49m\u001b[38;5;241;43m*\u001b[39;49m\u001b[43mkwargs\u001b[49m\u001b[43m,\u001b[49m\n\u001b[1;32m   1599\u001b[0m \u001b[43m    \u001b[49m\u001b[43m)\u001b[49m\n\u001b[1;32m   1601\u001b[0m \u001b[38;5;28;01mreturn\u001b[39;00m output\n",
                        "File \u001b[0;32m~/miniforge3/envs/GFF_cellprofiler/lib/python3.8/site-packages/cytotable/convert.py:1169\u001b[0m, in \u001b[0;36m_to_parquet\u001b[0;34m(source_path, dest_path, source_datatype, metadata, compartments, identifying_columns, concat, join, joins, chunk_size, infer_common_schema, drop_null, sort_output, page_keys, data_type_cast_map, add_tablenumber, **kwargs)\u001b[0m\n\u001b[1;32m   1113\u001b[0m \u001b[38;5;250m\u001b[39m\u001b[38;5;124;03m\"\"\"\u001b[39;00m\n\u001b[1;32m   1114\u001b[0m \u001b[38;5;124;03mExport data to parquet.\u001b[39;00m\n\u001b[1;32m   1115\u001b[0m \n\u001b[0;32m   (...)\u001b[0m\n\u001b[1;32m   1165\u001b[0m \u001b[38;5;124;03m        result.\u001b[39;00m\n\u001b[1;32m   1166\u001b[0m \u001b[38;5;124;03m\"\"\"\u001b[39;00m\n\u001b[1;32m   1168\u001b[0m \u001b[38;5;66;03m# gather sources to be processed\u001b[39;00m\n\u001b[0;32m-> 1169\u001b[0m sources \u001b[38;5;241m=\u001b[39m \u001b[43m_gather_sources\u001b[49m\u001b[43m(\u001b[49m\n\u001b[1;32m   1170\u001b[0m \u001b[43m    \u001b[49m\u001b[43msource_path\u001b[49m\u001b[38;5;241;43m=\u001b[39;49m\u001b[43msource_path\u001b[49m\u001b[43m,\u001b[49m\n\u001b[1;32m   1171\u001b[0m \u001b[43m    \u001b[49m\u001b[43msource_datatype\u001b[49m\u001b[38;5;241;43m=\u001b[39;49m\u001b[43msource_datatype\u001b[49m\u001b[43m,\u001b[49m\n\u001b[1;32m   1172\u001b[0m \u001b[43m    \u001b[49m\u001b[43mtargets\u001b[49m\u001b[38;5;241;43m=\u001b[39;49m\u001b[43m(\u001b[49m\n\u001b[1;32m   1173\u001b[0m \u001b[43m        \u001b[49m\u001b[38;5;28;43mlist\u001b[39;49m\u001b[43m(\u001b[49m\u001b[43mmetadata\u001b[49m\u001b[43m)\u001b[49m\u001b[43m \u001b[49m\u001b[38;5;241;43m+\u001b[39;49m\u001b[43m \u001b[49m\u001b[38;5;28;43mlist\u001b[39;49m\u001b[43m(\u001b[49m\u001b[43mcompartments\u001b[49m\u001b[43m)\u001b[49m\n\u001b[1;32m   1174\u001b[0m \u001b[43m        \u001b[49m\u001b[38;5;28;43;01mif\u001b[39;49;00m\u001b[43m \u001b[49m\u001b[43mmetadata\u001b[49m\u001b[43m \u001b[49m\u001b[38;5;129;43;01mis\u001b[39;49;00m\u001b[43m \u001b[49m\u001b[38;5;129;43;01mnot\u001b[39;49;00m\u001b[43m \u001b[49m\u001b[38;5;28;43;01mNone\u001b[39;49;00m\u001b[43m \u001b[49m\u001b[38;5;129;43;01mand\u001b[39;49;00m\u001b[43m \u001b[49m\u001b[43mcompartments\u001b[49m\u001b[43m \u001b[49m\u001b[38;5;129;43;01mis\u001b[39;49;00m\u001b[43m \u001b[49m\u001b[38;5;129;43;01mnot\u001b[39;49;00m\u001b[43m \u001b[49m\u001b[38;5;28;43;01mNone\u001b[39;49;00m\n\u001b[1;32m   1175\u001b[0m \u001b[43m        \u001b[49m\u001b[38;5;28;43;01melse\u001b[39;49;00m\u001b[43m \u001b[49m\u001b[43m[\u001b[49m\u001b[43m]\u001b[49m\n\u001b[1;32m   1176\u001b[0m \u001b[43m    \u001b[49m\u001b[43m)\u001b[49m\u001b[43m,\u001b[49m\n\u001b[1;32m   1177\u001b[0m \u001b[43m    \u001b[49m\u001b[38;5;241;43m*\u001b[39;49m\u001b[38;5;241;43m*\u001b[39;49m\u001b[43mkwargs\u001b[49m\u001b[43m,\u001b[49m\n\u001b[1;32m   1178\u001b[0m \u001b[43m\u001b[49m\u001b[43m)\u001b[49m\n\u001b[1;32m   1180\u001b[0m \u001b[38;5;66;03m# expand the destination path\u001b[39;00m\n\u001b[1;32m   1181\u001b[0m expanded_dest_path \u001b[38;5;241m=\u001b[39m _expand_path(path\u001b[38;5;241m=\u001b[39mdest_path)\n",
                        "File \u001b[0;32m~/miniforge3/envs/GFF_cellprofiler/lib/python3.8/site-packages/cytotable/sources.py:330\u001b[0m, in \u001b[0;36m_gather_sources\u001b[0;34m(source_path, source_datatype, targets, **kwargs)\u001b[0m\n\u001b[1;32m    327\u001b[0m built_path \u001b[38;5;241m=\u001b[39m _build_path(path\u001b[38;5;241m=\u001b[39msource_path, \u001b[38;5;241m*\u001b[39m\u001b[38;5;241m*\u001b[39mkwargs)\n\u001b[1;32m    329\u001b[0m \u001b[38;5;66;03m# gather filepaths which will be used as the basis for this work\u001b[39;00m\n\u001b[0;32m--> 330\u001b[0m sources \u001b[38;5;241m=\u001b[39m \u001b[43m_get_source_filepaths\u001b[49m\u001b[43m(\u001b[49m\n\u001b[1;32m    331\u001b[0m \u001b[43m    \u001b[49m\u001b[43mpath\u001b[49m\u001b[38;5;241;43m=\u001b[39;49m\u001b[43mbuilt_path\u001b[49m\u001b[43m,\u001b[49m\u001b[43m \u001b[49m\u001b[43mtargets\u001b[49m\u001b[38;5;241;43m=\u001b[39;49m\u001b[43mtargets\u001b[49m\u001b[43m,\u001b[49m\u001b[43m \u001b[49m\u001b[43msource_datatype\u001b[49m\u001b[38;5;241;43m=\u001b[39;49m\u001b[43msource_datatype\u001b[49m\n\u001b[1;32m    332\u001b[0m \u001b[43m\u001b[49m\u001b[43m)\u001b[49m\n\u001b[1;32m    334\u001b[0m \u001b[38;5;66;03m# infer or validate the source datatype based on source filepaths\u001b[39;00m\n\u001b[1;32m    335\u001b[0m source_datatype \u001b[38;5;241m=\u001b[39m _infer_source_datatype(\n\u001b[1;32m    336\u001b[0m     sources\u001b[38;5;241m=\u001b[39msources, source_datatype\u001b[38;5;241m=\u001b[39msource_datatype\n\u001b[1;32m    337\u001b[0m )\n",
                        "File \u001b[0;32m~/miniforge3/envs/GFF_cellprofiler/lib/python3.8/site-packages/cytotable/sources.py:141\u001b[0m, in \u001b[0;36m_get_source_filepaths\u001b[0;34m(path, targets, source_datatype)\u001b[0m\n\u001b[1;32m    139\u001b[0m \u001b[38;5;66;03m# if we collected no files above, raise exception\u001b[39;00m\n\u001b[1;32m    140\u001b[0m \u001b[38;5;28;01mif\u001b[39;00m \u001b[38;5;28mlen\u001b[39m(sources) \u001b[38;5;241m<\u001b[39m \u001b[38;5;241m1\u001b[39m:\n\u001b[0;32m--> 141\u001b[0m     \u001b[38;5;28;01mraise\u001b[39;00m NoInputDataException(\u001b[38;5;124mf\u001b[39m\u001b[38;5;124m\"\u001b[39m\u001b[38;5;124mNo input data to process at path: \u001b[39m\u001b[38;5;132;01m{\u001b[39;00m\u001b[38;5;28mstr\u001b[39m(path)\u001b[38;5;132;01m}\u001b[39;00m\u001b[38;5;124m\"\u001b[39m)\n\u001b[1;32m    143\u001b[0m \u001b[38;5;66;03m# group files together by similar filename for later data operations\u001b[39;00m\n\u001b[1;32m    144\u001b[0m grouped_sources \u001b[38;5;241m=\u001b[39m {}\n",
                        "\u001b[0;31mNoInputDataException\u001b[0m: No input data to process at path: /home/lippincm/Documents/GFF_3D_organoid_profiling_pipeline/2.cellprofiling/analysis_output/C4-2/C4-2.sqlite"
                    ]
                }
            ],
            "source": [
                "print(f\"Performing merge single cells and conversion on {source_dir}!\")\n",
                "print(f\"Source path: {input_path}\")\n",
                "print(f\"Destination path: {dest_path}\")\n",
                "# merge single cells and output as parquet file\n",
                "convert(\n",
                "    source_path=input_path,\n",
                "    dest_path=dest_path,\n",
                "    dest_datatype=dest_datatype,\n",
                "    preset=preset,\n",
                "    parsl_config=Config(\n",
                "        executors=[HighThroughputExecutor()],\n",
                "    ),\n",
                "    chunk_size=10000,\n",
                ")\n",
                "print(f\"Merged and converted {pathlib.Path(dest_path).name}!\")\n",
                "df = pd.read_parquet(dest_path)\n",
                "print(f\"Shape of {pathlib.Path(dest_path).name}: {df.shape}\")\n",
                "# add single cell count per well as metadata column to parquet file and save back to same path\n",
                "sc_utils.add_sc_count_metadata_file(\n",
                "    data_path=dest_path,\n",
                "    well_column_name=\"Metadata_ImageNumber\",\n",
                "    file_type=\"parquet\",\n",
                ")\n",
                "# read the parquet file to check if metadata was added\n",
                "df1 = pd.read_parquet(dest_path)\n",
                "print(f\"Shape of {pathlib.Path(dest_path).name}: {df.shape}\")\n",
                "print(f\"Added single cell count as metadata to {pathlib.Path(dest_path).name}!\")"
            ]
        },
        {
            "cell_type": "code",
            "execution_count": null,
            "metadata": {},
            "outputs": [],
            "source": []
        }
    ],
    "metadata": {
        "kernelspec": {
            "display_name": "GFF_cellprofiler",
            "language": "python",
            "name": "python3"
        },
        "language_info": {
            "codemirror_mode": {
                "name": "ipython",
                "version": 3
            },
            "file_extension": ".py",
            "mimetype": "text/x-python",
            "name": "python",
            "nbconvert_exporter": "python",
            "pygments_lexer": "ipython3",
            "version": "3.8.19"
        },
        "orig_nbformat": 4
    },
    "nbformat": 4,
    "nbformat_minor": 2
}
