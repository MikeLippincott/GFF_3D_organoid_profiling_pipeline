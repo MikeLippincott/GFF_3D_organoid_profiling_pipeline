{
    "cells": [
        {
            "cell_type": "code",
            "execution_count": 1,
            "metadata": {},
            "outputs": [],
            "source": [
                "import argparse\n",
                "import os\n",
                "import pathlib\n",
                "import sys\n",
                "import time\n",
                "\n",
                "import psutil\n",
                "\n",
                "sys.path.append(\"../featurization_utils\")\n",
                "import numpy as np\n",
                "import pandas as pd\n",
                "import skimage\n",
                "from area_size_shape_utils import measure_3D_area_size_shape\n",
                "from loading_classes import ImageSetLoader, ObjectLoader\n",
                "from resource_profiling_util import get_mem_and_time_profiling\n",
                "\n",
                "try:\n",
                "    cfg = get_ipython().config\n",
                "    in_notebook = True\n",
                "except NameError:\n",
                "    in_notebook = False\n",
                "if in_notebook:\n",
                "    from tqdm.notebook import tqdm\n",
                "else:\n",
                "    from tqdm import tqdm\n",
                "\n",
                "import gc"
            ]
        },
        {
            "cell_type": "code",
            "execution_count": 2,
            "metadata": {},
            "outputs": [],
            "source": [
                "if not in_notebook:\n",
                "    argparser = argparse.ArgumentParser()\n",
                "    argparser.add_argument(\n",
                "        \"--well_fov\",\n",
                "        type=str,\n",
                "        default=\"None\",\n",
                "        help=\"Well and field of view to process, e.g. 'A01_1'\",\n",
                "    )\n",
                "    argparser.add_argument(\n",
                "        \"--patient\",\n",
                "        type=str,\n",
                "        help=\"Patient ID, e.g. 'NF0014'\",\n",
                "    )\n",
                "\n",
                "    args = argparser.parse_args()\n",
                "    well_fov = args.well_fov\n",
                "    patient = args.patient\n",
                "    if well_fov == \"None\":\n",
                "        raise ValueError(\n",
                "            \"Please provide a well and field of view to process, e.g. 'A01_1'\"\n",
                "        )\n",
                "\n",
                "else:\n",
                "    well_fov = \"C4-2\"\n",
                "    patient = \"NF0014\"\n",
                "\n",
                "image_set_path = pathlib.Path(f\"../../data/{patient}/cellprofiler/{well_fov}/\")\n",
                "output_parent_path = pathlib.Path(\n",
                "    f\"../../data/{patient}/extracted_features/{well_fov}/\"\n",
                ")\n",
                "output_parent_path.mkdir(parents=True, exist_ok=True)"
            ]
        },
        {
            "cell_type": "code",
            "execution_count": 3,
            "metadata": {},
            "outputs": [],
            "source": [
                "channel_n_compartment_mapping = {\n",
                "    \"DNA\": \"405\",\n",
                "    \"AGP\": \"488\",\n",
                "    \"ER\": \"555\",\n",
                "    \"Mito\": \"640\",\n",
                "    \"BF\": \"TRANS\",\n",
                "    \"Nuclei\": \"nuclei_\",\n",
                "    \"Cell\": \"cell_\",\n",
                "    \"Cytoplasm\": \"cytoplasm_\",\n",
                "    \"Organoid\": \"organoid_\",\n",
                "}"
            ]
        },
        {
            "cell_type": "code",
            "execution_count": 4,
            "metadata": {},
            "outputs": [],
            "source": [
                "start_time = time.time()\n",
                "# get starting memory (cpu)\n",
                "start_mem = psutil.Process(os.getpid()).memory_info().rss / 1024**2"
            ]
        },
        {
            "cell_type": "code",
            "execution_count": 5,
            "metadata": {},
            "outputs": [],
            "source": [
                "image_set_loader = ImageSetLoader(\n",
                "    image_set_path=image_set_path,\n",
                "    anisotropy_spacing=(1, 0.1, 0.1),\n",
                "    channel_mapping=channel_n_compartment_mapping,\n",
                ")"
            ]
        },
        {
            "cell_type": "code",
            "execution_count": 6,
            "metadata": {},
            "outputs": [
                {
                    "data": {
                        "application/vnd.jupyter.widget-view+json": {
                            "model_id": "03410455e8ab4d2fbe01920fd6dc36e4",
                            "version_major": 2,
                            "version_minor": 0
                        },
                        "text/plain": [
                            "Processing compartments:   0%|          | 0/4 [00:00<?, ?it/s]"
                        ]
                    },
                    "metadata": {},
                    "output_type": "display_data"
                },
                {
                    "data": {
                        "application/vnd.jupyter.widget-view+json": {
                            "model_id": "78c4b8a41e0c47b0a2d2ab1c41ca6b2d",
                            "version_major": 2,
                            "version_minor": 0
                        },
                        "text/plain": [
                            "Processing channels:   0%|          | 0/5 [00:00<?, ?it/s]"
                        ]
                    },
                    "metadata": {},
                    "output_type": "display_data"
                },
                {
                    "name": "stdout",
                    "output_type": "stream",
                    "text": [
                        "Cell DNA [15, 26, 37, 43, 51, 69, 70, 79, 86, 103, 106, 110, 113, 126, 130, 144, 157, 163, 165, 172, 173, 185, 187, 193, 199, 209, 210, 222, 226, 227, 239, 242, 243, 253, 255]\n",
                        "Cell AGP [15, 26, 37, 43, 51, 69, 70, 79, 86, 103, 106, 110, 113, 126, 130, 144, 157, 163, 165, 172, 173, 185, 187, 193, 199, 209, 210, 222, 226, 227, 239, 242, 243, 253, 255]\n",
                        "Cell ER [15, 26, 37, 43, 51, 69, 70, 79, 86, 103, 106, 110, 113, 126, 130, 144, 157, 163, 165, 172, 173, 185, 187, 193, 199, 209, 210, 222, 226, 227, 239, 242, 243, 253, 255]\n",
                        "Cell Mito [15, 26, 37, 43, 51, 69, 70, 79, 86, 103, 106, 110, 113, 126, 130, 144, 157, 163, 165, 172, 173, 185, 187, 193, 199, 209, 210, 222, 226, 227, 239, 242, 243, 253, 255]\n",
                        "Cell BF [15, 26, 37, 43, 51, 69, 70, 79, 86, 103, 106, 110, 113, 126, 130, 144, 157, 163, 165, 172, 173, 185, 187, 193, 199, 209, 210, 222, 226, 227, 239, 242, 243, 253, 255]\n"
                    ]
                },
                {
                    "data": {
                        "application/vnd.jupyter.widget-view+json": {
                            "model_id": "aeb6c87fcde940e6a945d7f0763b375b",
                            "version_major": 2,
                            "version_minor": 0
                        },
                        "text/plain": [
                            "Processing channels:   0%|          | 0/5 [00:00<?, ?it/s]"
                        ]
                    },
                    "metadata": {},
                    "output_type": "display_data"
                },
                {
                    "name": "stdout",
                    "output_type": "stream",
                    "text": [
                        "Cytoplasm DNA [15, 26, 37, 43, 51, 69, 70, 79, 86, 103, 106, 110, 113, 126, 130, 144, 157, 163, 165, 172, 173, 185, 187, 193, 199, 209, 210, 222, 226, 227, 239, 242, 243, 253, 255]\n",
                        "Cytoplasm AGP [15, 26, 37, 43, 51, 69, 70, 79, 86, 103, 106, 110, 113, 126, 130, 144, 157, 163, 165, 172, 173, 185, 187, 193, 199, 209, 210, 222, 226, 227, 239, 242, 243, 253, 255]\n",
                        "Cytoplasm ER [15, 26, 37, 43, 51, 69, 70, 79, 86, 103, 106, 110, 113, 126, 130, 144, 157, 163, 165, 172, 173, 185, 187, 193, 199, 209, 210, 222, 226, 227, 239, 242, 243, 253, 255]\n",
                        "Cytoplasm Mito [15, 26, 37, 43, 51, 69, 70, 79, 86, 103, 106, 110, 113, 126, 130, 144, 157, 163, 165, 172, 173, 185, 187, 193, 199, 209, 210, 222, 226, 227, 239, 242, 243, 253, 255]\n",
                        "Cytoplasm BF [15, 26, 37, 43, 51, 69, 70, 79, 86, 103, 106, 110, 113, 126, 130, 144, 157, 163, 165, 172, 173, 185, 187, 193, 199, 209, 210, 222, 226, 227, 239, 242, 243, 253, 255]\n"
                    ]
                },
                {
                    "data": {
                        "application/vnd.jupyter.widget-view+json": {
                            "model_id": "2c0028c2d9d44016a367e4b9c86f1d53",
                            "version_major": 2,
                            "version_minor": 0
                        },
                        "text/plain": [
                            "Processing channels:   0%|          | 0/5 [00:00<?, ?it/s]"
                        ]
                    },
                    "metadata": {},
                    "output_type": "display_data"
                },
                {
                    "name": "stdout",
                    "output_type": "stream",
                    "text": [
                        "Nuclei DNA [15, 26, 37, 43, 51, 52, 69, 70, 79, 86, 93, 106, 113, 126, 144, 155, 157, 163, 165, 173, 174, 185, 187, 199, 209, 210, 222, 226, 227, 239, 242, 243, 253, 255]\n",
                        "Nuclei AGP [15, 26, 37, 43, 51, 52, 69, 70, 79, 86, 93, 106, 113, 126, 144, 155, 157, 163, 165, 173, 174, 185, 187, 199, 209, 210, 222, 226, 227, 239, 242, 243, 253, 255]\n",
                        "Nuclei ER [15, 26, 37, 43, 51, 52, 69, 70, 79, 86, 93, 106, 113, 126, 144, 155, 157, 163, 165, 173, 174, 185, 187, 199, 209, 210, 222, 226, 227, 239, 242, 243, 253, 255]\n",
                        "Nuclei Mito [15, 26, 37, 43, 51, 52, 69, 70, 79, 86, 93, 106, 113, 126, 144, 155, 157, 163, 165, 173, 174, 185, 187, 199, 209, 210, 222, 226, 227, 239, 242, 243, 253, 255]\n",
                        "Nuclei BF [15, 26, 37, 43, 51, 52, 69, 70, 79, 86, 93, 106, 113, 126, 144, 155, 157, 163, 165, 173, 174, 185, 187, 199, 209, 210, 222, 226, 227, 239, 242, 243, 253, 255]\n"
                    ]
                },
                {
                    "data": {
                        "application/vnd.jupyter.widget-view+json": {
                            "model_id": "e4a552c89ecd42efa57219c0f40174e4",
                            "version_major": 2,
                            "version_minor": 0
                        },
                        "text/plain": [
                            "Processing channels:   0%|          | 0/5 [00:00<?, ?it/s]"
                        ]
                    },
                    "metadata": {},
                    "output_type": "display_data"
                },
                {
                    "name": "stdout",
                    "output_type": "stream",
                    "text": [
                        "Organoid DNA [32]\n",
                        "Organoid AGP [32]\n",
                        "Organoid ER [32]\n",
                        "Organoid Mito [32]\n",
                        "Organoid BF [32]\n"
                    ]
                }
            ],
            "source": [
                "for compartment in tqdm(\n",
                "    image_set_loader.compartments, desc=\"Processing compartments\", position=0\n",
                "):\n",
                "    for channel in tqdm(\n",
                "        image_set_loader.image_names,\n",
                "        desc=\"Processing channels\",\n",
                "        leave=False,\n",
                "        position=1,\n",
                "    ):\n",
                "        object_loader = ObjectLoader(\n",
                "            image_set_loader.image_set_dict[channel],\n",
                "            image_set_loader.image_set_dict[compartment],\n",
                "            channel,\n",
                "            compartment,\n",
                "        )\n",
                "        # area, size, shape\n",
                "        size_shape_dict = measure_3D_area_size_shape(\n",
                "            image_set_loader=image_set_loader,\n",
                "            object_loader=object_loader,\n",
                "        )\n",
                "        final_df = pd.DataFrame(size_shape_dict)\n",
                "\n",
                "        # prepend compartment and channel to column names\n",
                "        for col in final_df.columns:\n",
                "            if col not in [\"object_id\"]:\n",
                "                final_df.rename(\n",
                "                    columns={col: f\"Area.Size.Shape_{compartment}_{channel}_{col}\"},\n",
                "                    inplace=True,\n",
                "                )\n",
                "        final_df.insert(1, \"image_set\", image_set_loader.image_set_name)\n",
                "\n",
                "        output_file = pathlib.Path(\n",
                "            output_parent_path\n",
                "            / f\"AreaSize_Shape_{compartment}_{channel}_features.parquet\"\n",
                "        )\n",
                "        final_df.to_parquet(output_file)\n",
                "        final_df.head()"
            ]
        },
        {
            "cell_type": "code",
            "execution_count": 8,
            "metadata": {},
            "outputs": [
                {
                    "name": "stdout",
                    "output_type": "stream",
                    "text": [
                        "Memory usage: 1116.93 MB\n",
                        "Texture time:\n",
                        "--- 238.91416549682617 seconds ---\n",
                        "--- 3.981902758280436 minutes ---\n",
                        "--- 0.0663650459713406 hours ---\n"
                    ]
                },
                {
                    "data": {
                        "text/plain": [
                            "True"
                        ]
                    },
                    "execution_count": 8,
                    "metadata": {},
                    "output_type": "execute_result"
                }
            ],
            "source": [
                "end_mem = psutil.Process(os.getpid()).memory_info().rss / 1024**2\n",
                "end_time = time.time()\n",
                "get_mem_and_time_profiling(\n",
                "    start_mem=start_mem,\n",
                "    end_mem=end_mem,\n",
                "    start_time=start_time,\n",
                "    end_time=end_time,\n",
                "    feature_type=\"AreaSizeShape\",\n",
                "    well_fov=well_fov,\n",
                "    patient_id=patient,\n",
                "    CPU_GPU=\"CPU\",\n",
                "    output_file_dir=pathlib.Path(\n",
                "        f\"../../data/{patient}/extracted_features/run_stats/{well_fov}_AreaSizeShape_CPU.parquet\"\n",
                "    ),\n",
                ")"
            ]
        }
    ],
    "metadata": {
        "kernelspec": {
            "display_name": "GFF_featurization",
            "language": "python",
            "name": "python3"
        },
        "language_info": {
            "codemirror_mode": {
                "name": "ipython",
                "version": 3
            },
            "file_extension": ".py",
            "mimetype": "text/x-python",
            "name": "python",
            "nbconvert_exporter": "python",
            "pygments_lexer": "ipython3",
            "version": "3.12.9"
        }
    },
    "nbformat": 4,
    "nbformat_minor": 2
}
