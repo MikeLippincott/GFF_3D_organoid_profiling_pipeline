{
    "cells": [
        {
            "cell_type": "code",
            "execution_count": 3,
            "metadata": {},
            "outputs": [],
            "source": [
                "import argparse\n",
                "import os\n",
                "import pathlib\n",
                "import sys\n",
                "import time\n",
                "\n",
                "import psutil\n",
                "\n",
                "sys.path.append(\"../featurization_utils\")\n",
                "import numpy as np\n",
                "import pandas as pd\n",
                "import skimage\n",
                "from area_size_shape_utils import measure_3D_area_size_shape\n",
                "from area_size_shape_utils_gpu import measure_3D_area_size_shape_gpu\n",
                "from featurization_parsable_arguments import parse_featurization_args_area_size_shape\n",
                "from loading_classes import ImageSetLoader, ObjectLoader\n",
                "from resource_profiling_util import get_mem_and_time_profiling\n",
                "\n",
                "try:\n",
                "    cfg = get_ipython().config\n",
                "    in_notebook = True\n",
                "except NameError:\n",
                "    in_notebook = False\n",
                "if in_notebook:\n",
                "    from tqdm.notebook import tqdm\n",
                "else:\n",
                "    from tqdm import tqdm\n",
                "\n",
                "import gc"
            ]
        },
        {
            "cell_type": "code",
            "execution_count": 5,
            "metadata": {},
            "outputs": [],
            "source": [
                "if not in_notebook:\n",
                "    arguments_dict = parse_featurization_args_area_size_shape()\n",
                "    patient = arguments_dict[\"patient\"]\n",
                "    well_fov = arguments_dict[\"well_fov\"]\n",
                "    compartment = arguments_dict[\"compartment\"]\n",
                "    processor_type = arguments_dict[\"processor_type\"]\n",
                "\n",
                "else:\n",
                "    well_fov = \"C4-2\"\n",
                "    patient = \"NF0014\"\n",
                "    compartment = \"Nuclei\"\n",
                "    processor_type = \"cpu\"\n",
                "\n",
                "image_set_path = pathlib.Path(f\"../../data/{patient}/cellprofiler/{well_fov}/\")\n",
                "output_parent_path = pathlib.Path(\n",
                "    f\"../../data/{patient}/extracted_features/{well_fov}/\"\n",
                ")\n",
                "output_parent_path.mkdir(parents=True, exist_ok=True)"
            ]
        },
        {
            "cell_type": "code",
            "execution_count": 3,
            "metadata": {},
            "outputs": [],
            "source": [
                "channel_n_compartment_mapping = {\n",
                "    \"DNA\": \"405\",\n",
                "    \"AGP\": \"488\",\n",
                "    \"ER\": \"555\",\n",
                "    \"Mito\": \"640\",\n",
                "    \"BF\": \"TRANS\",\n",
                "    \"Nuclei\": \"nuclei_\",\n",
                "    \"Cell\": \"cell_\",\n",
                "    \"Cytoplasm\": \"cytoplasm_\",\n",
                "    \"Organoid\": \"organoid_\",\n",
                "}"
            ]
        },
        {
            "cell_type": "code",
            "execution_count": 4,
            "metadata": {},
            "outputs": [],
            "source": [
                "start_time = time.time()\n",
                "# get starting memory (cpu)\n",
                "start_mem = psutil.Process(os.getpid()).memory_info().rss / 1024**2"
            ]
        },
        {
            "cell_type": "code",
            "execution_count": 5,
            "metadata": {},
            "outputs": [],
            "source": [
                "image_set_loader = ImageSetLoader(\n",
                "    image_set_path=image_set_path,\n",
                "    anisotropy_spacing=(1, 0.1, 0.1),\n",
                "    channel_mapping=channel_n_compartment_mapping,\n",
                ")"
            ]
        },
        {
            "cell_type": "code",
            "execution_count": null,
            "metadata": {},
            "outputs": [
                {
                    "data": {
                        "application/vnd.jupyter.widget-view+json": {
                            "model_id": "1401f0127cf54a4ba7e4374ac49445a9",
                            "version_major": 2,
                            "version_minor": 0
                        },
                        "text/plain": [
                            "Processing compartments:   0%|          | 0/4 [00:00<?, ?it/s]"
                        ]
                    },
                    "metadata": {},
                    "output_type": "display_data"
                }
            ],
            "source": [
                "object_loader = ObjectLoader(\n",
                "    image_set_loader.image_set_dict[\"DNA\"],\n",
                "    image_set_loader.image_set_dict[compartment],\n",
                "    \"DNA\",\n",
                "    compartment,\n",
                ")\n",
                "\n",
                "\n",
                "# area, size, shape\n",
                "if processor_type == \"GPU\":\n",
                "    size_shape_dict = measure_3D_area_size_shape_gpu(\n",
                "        image_set_loader=image_set_loader,\n",
                "        object_loader=object_loader,\n",
                "    )\n",
                "elif processor_type == \"CPU\":\n",
                "    size_shape_dict = measure_3D_area_size_shape(\n",
                "        image_set_loader=image_set_loader,\n",
                "        object_loader=object_loader,\n",
                "    )\n",
                "else:\n",
                "    raise ValueError(\n",
                "        f\"Processor type {processor_type} is not supported. Use 'CPU' or 'GPU'.\"\n",
                "    )\n",
                "final_df = pd.DataFrame(size_shape_dict)\n",
                "\n",
                "# prepend compartment and channel to column names\n",
                "for col in final_df.columns:\n",
                "    if col not in [\"object_id\"]:\n",
                "        final_df.rename(\n",
                "            columns={col: f\"Area.Size.Shape_{compartment}_{col}\"},\n",
                "            inplace=True,\n",
                "        )\n",
                "final_df.insert(1, \"image_set\", image_set_loader.image_set_name)\n",
                "\n",
                "output_file = pathlib.Path(\n",
                "    output_parent_path / f\"AreaSize_Shape_{compartment}_features.parquet\"\n",
                ")\n",
                "final_df.to_parquet(output_file)\n",
                "final_df.head()"
            ]
        },
        {
            "cell_type": "code",
            "execution_count": null,
            "metadata": {},
            "outputs": [
                {
                    "name": "stdout",
                    "output_type": "stream",
                    "text": [
                        "Memory usage: 1116.64 MB\n",
                        "Texture time:\n",
                        "--- 36.72080874443054 seconds ---\n",
                        "--- 0.6120134790738424 minutes ---\n",
                        "--- 0.010200224651230706 hours ---\n"
                    ]
                },
                {
                    "data": {
                        "text/plain": [
                            "True"
                        ]
                    },
                    "execution_count": 7,
                    "metadata": {},
                    "output_type": "execute_result"
                }
            ],
            "source": [
                "end_mem = psutil.Process(os.getpid()).memory_info().rss / 1024**2\n",
                "end_time = time.time()\n",
                "get_mem_and_time_profiling(\n",
                "    start_mem=start_mem,\n",
                "    end_mem=end_mem,\n",
                "    start_time=start_time,\n",
                "    end_time=end_time,\n",
                "    feature_type=\"AreaSizeShape\",\n",
                "    well_fov=well_fov,\n",
                "    patient_id=patient,\n",
                "    CPU_GPU=processor_type,\n",
                "    output_file_dir=pathlib.Path(\n",
                "        f\"../../data/{patient}/extracted_features/run_stats/{well_fov}_AreaSizeShape_{processor_type}.parquet\"\n",
                "    ),\n",
                ")"
            ]
        }
    ],
    "metadata": {
        "kernelspec": {
            "display_name": "GFF_featurization",
            "language": "python",
            "name": "python3"
        },
        "language_info": {
            "codemirror_mode": {
                "name": "ipython",
                "version": 3
            },
            "file_extension": ".py",
            "mimetype": "text/x-python",
            "name": "python",
            "nbconvert_exporter": "python",
            "pygments_lexer": "ipython3",
            "version": "3.12.9"
        }
    },
    "nbformat": 4,
    "nbformat_minor": 2
}
