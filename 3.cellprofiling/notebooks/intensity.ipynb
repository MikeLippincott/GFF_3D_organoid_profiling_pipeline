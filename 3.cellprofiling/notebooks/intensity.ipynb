{
 "cells": [
  {
   "cell_type": "code",
   "execution_count": null,
   "metadata": {},
   "outputs": [],
   "source": [
    "import os\n",
    "import pathlib\n",
    "import sys\n",
    "import time\n",
    "\n",
    "import pandas as pd\n",
    "import psutil\n",
    "\n",
    "cwd = pathlib.Path.cwd()\n",
    "\n",
    "if (cwd / \".git\").is_dir():\n",
    "    root_dir = cwd\n",
    "else:\n",
    "    root_dir = None\n",
    "    for parent in cwd.parents:\n",
    "        if (parent / \".git\").is_dir():\n",
    "            root_dir = parent\n",
    "            break\n",
    "sys.path.append(str(root_dir / \"utils\"))\n",
    "from arg_parsing_utils import check_for_missing_args, parse_args\n",
    "from notebook_init_utils import bandicoot_check, init_notebook\n",
    "\n",
    "root_dir, in_notebook = init_notebook()\n",
    "\n",
    "sys.path.append(f\"{root_dir}/3.cellprofiling/featurization_utils/\")\n",
    "from featurization_parsable_arguments import parse_featurization_args\n",
    "from intensity_utils import measure_3D_intensity_CPU, measure_3D_intensity_gpu\n",
    "from loading_classes import ImageSetLoader, ObjectLoader\n",
    "from resource_profiling_util import get_mem_and_time_profiling"
   ]
  },
  {
   "cell_type": "code",
   "execution_count": null,
   "metadata": {},
   "outputs": [],
   "source": [
    "if not in_notebook:\n",
    "    arguments_dict = parse_featurization_args()\n",
    "    patient = arguments_dict[\"patient\"]\n",
    "    well_fov = arguments_dict[\"well_fov\"]\n",
    "    channel = arguments_dict[\"channel\"]\n",
    "    compartment = arguments_dict[\"compartment\"]\n",
    "    processor_type = arguments_dict[\"processor_type\"]\n",
    "\n",
    "\n",
    "else:\n",
    "    well_fov = \"G4-6\"\n",
    "    patient = \"NF0014_T1\"\n",
    "    channel = \"AGP\"\n",
    "    compartment = \"Nuclei\"\n",
    "    processor_type = \"CPU\"\n",
    "\n",
    "image_set_path = pathlib.Path(\n",
    "    f\"{root_dir}/data/{patient}/profiling_input_images/{well_fov}/\"\n",
    ")\n",
    "output_parent_path = pathlib.Path(\n",
    "    f\"{root_dir}/data/{patient}/extracted_features/{well_fov}/\"\n",
    ")\n",
    "output_parent_path.mkdir(parents=True, exist_ok=True)"
   ]
  },
  {
   "cell_type": "code",
   "execution_count": 3,
   "metadata": {},
   "outputs": [],
   "source": [
    "channel_n_compartment_mapping = {\n",
    "    \"DNA\": \"405\",\n",
    "    \"AGP\": \"488\",\n",
    "    \"ER\": \"555\",\n",
    "    \"Mito\": \"640\",\n",
    "    \"BF\": \"TRANS\",\n",
    "    \"Nuclei\": \"nuclei_\",\n",
    "    \"Cell\": \"cell_\",\n",
    "    \"Cytoplasm\": \"cytoplasm_\",\n",
    "    \"Organoid\": \"organoid_\",\n",
    "}"
   ]
  },
  {
   "cell_type": "code",
   "execution_count": 4,
   "metadata": {},
   "outputs": [],
   "source": [
    "start_time = time.time()\n",
    "# get starting memory (cpu)\n",
    "start_mem = psutil.Process(os.getpid()).memory_info().rss / 1024**2"
   ]
  },
  {
   "cell_type": "code",
   "execution_count": 5,
   "metadata": {},
   "outputs": [],
   "source": [
    "image_set_loader = ImageSetLoader(\n",
    "    image_set_path=image_set_path,\n",
    "    anisotropy_spacing=(1, 0.1, 0.1),\n",
    "    channel_mapping=channel_n_compartment_mapping,\n",
    ")"
   ]
  },
  {
   "cell_type": "code",
   "execution_count": 6,
   "metadata": {},
   "outputs": [
    {
     "name": "stderr",
     "output_type": "stream",
     "text": [
      "/home/lippincm/Documents/GFF_3D_organoid_profiling_pipeline/3.cellprofiling/featurization_utils/intensity_utils.py:120: RuntimeWarning: divide by zero encountered in divide\n",
      "  cmi_x = i_x / integrated_intensity\n",
      "/home/lippincm/Documents/GFF_3D_organoid_profiling_pipeline/3.cellprofiling/featurization_utils/intensity_utils.py:121: RuntimeWarning: divide by zero encountered in divide\n",
      "  cmi_y = i_y / integrated_intensity\n",
      "/home/lippincm/Documents/GFF_3D_organoid_profiling_pipeline/3.cellprofiling/featurization_utils/intensity_utils.py:122: RuntimeWarning: invalid value encountered in divide\n",
      "  cmi_z = i_z / integrated_intensity\n"
     ]
    }
   ],
   "source": [
    "object_loader = ObjectLoader(\n",
    "    image_set_loader.image_set_dict[channel],\n",
    "    image_set_loader.image_set_dict[compartment],\n",
    "    channel,\n",
    "    compartment,\n",
    ")\n",
    "if processor_type == \"GPU\":\n",
    "    output_dict = measure_3D_intensity_gpu(object_loader)\n",
    "elif processor_type == \"CPU\":\n",
    "    output_dict = measure_3D_intensity_CPU(object_loader)\n",
    "else:\n",
    "    raise ValueError(\n",
    "        f\"Processor type {processor_type} is not supported. Use 'CPU' or 'GPU'.\"\n",
    "    )\n",
    "final_df = pd.DataFrame(output_dict)\n",
    "# prepend compartment and channel to column names\n",
    "final_df = final_df.pivot(\n",
    "    index=[\"object_id\"],\n",
    "    columns=\"feature_name\",\n",
    "    values=\"value\",\n",
    ").reset_index()\n",
    "for col in final_df.columns:\n",
    "    if col == \"object_id\":\n",
    "        continue\n",
    "    else:\n",
    "        final_df.rename(\n",
    "            columns={col: f\"Intensity_{compartment}_{channel}_{col}\"},\n",
    "            inplace=True,\n",
    "        )\n",
    "\n",
    "final_df.insert(0, \"image_set\", image_set_loader.image_set_name)\n",
    "\n",
    "output_file = pathlib.Path(\n",
    "    output_parent_path\n",
    "    / f\"Intensity_{compartment}_{channel}_{processor_type}_features.parquet\"\n",
    ")\n",
    "output_file.parent.mkdir(parents=True, exist_ok=True)\n",
    "final_df.to_parquet(output_file)"
   ]
  },
  {
   "cell_type": "code",
   "execution_count": 7,
   "metadata": {},
   "outputs": [
    {
     "name": "stdout",
     "output_type": "stream",
     "text": [
      "\n",
      "        Memory and time profiling for the run:\n",
      "\n",
      "        Patient ID: NF0021\n",
      "\n",
      "        Well and FOV: G4-6\n",
      "\n",
      "        Feature type: Intensity\n",
      "\n",
      "        CPU/GPU: CPU\")\n",
      "\n",
      "        Memory usage: 558.47 MB\n",
      "\n",
      "        Time:\n",
      "\n",
      "        --- %s seconds --- % 589.5936715602875\n",
      "\n",
      "        --- %s minutes --- % 9.826561192671457\n",
      "\n",
      "        --- %s hours --- % 0.16377601987785764\n",
      "    \n"
     ]
    },
    {
     "data": {
      "text/plain": [
       "True"
      ]
     },
     "execution_count": 7,
     "metadata": {},
     "output_type": "execute_result"
    }
   ],
   "source": [
    "end_mem = psutil.Process(os.getpid()).memory_info().rss / 1024**2\n",
    "end_time = time.time()\n",
    "get_mem_and_time_profiling(\n",
    "    start_mem=start_mem,\n",
    "    end_mem=end_mem,\n",
    "    start_time=start_time,\n",
    "    end_time=end_time,\n",
    "    feature_type=\"Intensity\",\n",
    "    well_fov=well_fov,\n",
    "    patient_id=patient,\n",
    "    channel=channel,\n",
    "    compartment=compartment,\n",
    "    CPU_GPU=processor_type,\n",
    "    output_file_dir=pathlib.Path(\n",
    "        f\"{root_dir}/data/{patient}/extracted_features/run_stats/{well_fov}_{channel}_{compartment}_Intensity_{processor_type}.parquet\"\n",
    "    ),\n",
    ")"
   ]
  }
 ],
 "metadata": {
  "kernelspec": {
   "display_name": "GFF_featurization",
   "language": "python",
   "name": "python3"
  },
  "language_info": {
   "codemirror_mode": {
    "name": "ipython",
    "version": 3
   },
   "file_extension": ".py",
   "mimetype": "text/x-python",
   "name": "python",
   "nbconvert_exporter": "python",
   "pygments_lexer": "ipython3",
   "version": "3.12.9"
  }
 },
 "nbformat": 4,
 "nbformat_minor": 2
}
