{
    "cells": [
        {
            "cell_type": "code",
            "execution_count": 1,
            "metadata": {},
            "outputs": [],
            "source": [
                "import argparse\n",
                "import os\n",
                "import pathlib\n",
                "import sys\n",
                "import time\n",
                "\n",
                "import psutil\n",
                "\n",
                "sys.path.append(\"../featurization_utils\")\n",
                "import gc\n",
                "import multiprocessing\n",
                "import pathlib\n",
                "from functools import partial\n",
                "from itertools import product\n",
                "\n",
                "import pandas as pd\n",
                "import tqdm\n",
                "from loading_classes import ImageSetLoader, ObjectLoader\n",
                "from resource_profiling_util import get_mem_and_time_profiling\n",
                "from texture_utils import measure_3D_texture\n",
                "from tqdm import tqdm\n",
                "\n",
                "try:\n",
                "    cfg = get_ipython().config\n",
                "    in_notebook = True\n",
                "except NameError:\n",
                "    in_notebook = False\n",
                "if in_notebook:\n",
                "    from tqdm.notebook import tqdm\n",
                "else:\n",
                "    from tqdm import tqdm"
            ]
        },
        {
            "cell_type": "code",
            "execution_count": 2,
            "metadata": {},
            "outputs": [],
            "source": [
                "def process_combination(\n",
                "    args: tuple[str, str],\n",
                "    image_set_loader: ImageSetLoader,\n",
                "    output_parent_path: pathlib.Path,\n",
                ") -> str:\n",
                "    \"\"\"\n",
                "    Process a single combination of compartment and channel.\n",
                "\n",
                "    Parameters\n",
                "    ----------\n",
                "    args : tuple\n",
                "        Args that contain the compartment and channel.\n",
                "        Ordered as (compartment, channel).\n",
                "        Yes, order matters here.\n",
                "        channel : str\n",
                "            The channel name.\n",
                "        compartment : str\n",
                "            The compartment name.\n",
                "    image_set_loader : Class ImageSetLoader\n",
                "        This contains the image information needed to retreive the objects.\n",
                "    output_parent_path : pathlib.Path\n",
                "        The parent path where the output files will be saved.\n",
                "    Returns\n",
                "    -------\n",
                "    str\n",
                "        A string indicating the compartment and channel that was processed.\n",
                "    \"\"\"\n",
                "    compartment, channel = args\n",
                "    object_loader = ObjectLoader(\n",
                "        image_set_loader.image_set_dict[channel],\n",
                "        image_set_loader.image_set_dict[compartment],\n",
                "        channel,\n",
                "        compartment,\n",
                "    )\n",
                "    output_texture_dict = measure_3D_texture(\n",
                "        object_loader=object_loader,\n",
                "        distance=1,\n",
                "    )\n",
                "    final_df = pd.DataFrame(output_texture_dict)\n",
                "\n",
                "    final_df = final_df.pivot(\n",
                "        index=\"object_id\",\n",
                "        columns=\"texture_name\",\n",
                "        values=\"texture_value\",\n",
                "    )\n",
                "    final_df.reset_index(inplace=True)\n",
                "    for col in final_df.columns:\n",
                "        if col == \"object_id\":\n",
                "            continue\n",
                "        else:\n",
                "            final_df.rename(\n",
                "                columns={col: f\"Texture_{compartment}_{channel}_{col}\"},\n",
                "                inplace=True,\n",
                "            )\n",
                "    final_df.insert(0, \"image_set\", image_set_loader.image_set_name)\n",
                "    final_df.columns.name = None\n",
                "\n",
                "    output_file = pathlib.Path(\n",
                "        output_parent_path / f\"Texture_{compartment}_{channel}_features.parquet\"\n",
                "    )\n",
                "    output_file.parent.mkdir(parents=True, exist_ok=True)\n",
                "    final_df.to_parquet(output_file)\n",
                "\n",
                "    return f\"Processed {compartment} - {channel}\""
            ]
        },
        {
            "cell_type": "code",
            "execution_count": 3,
            "metadata": {},
            "outputs": [],
            "source": [
                "if not in_notebook:\n",
                "    argparser = argparse.ArgumentParser()\n",
                "    argparser.add_argument(\n",
                "        \"--well_fov\",\n",
                "        type=str,\n",
                "        default=\"None\",\n",
                "        help=\"Well and field of view to process, e.g. 'A01_1'\",\n",
                "    )\n",
                "    argparser.add_argument(\n",
                "        \"--patient\",\n",
                "        type=str,\n",
                "        help=\"Patient ID, e.g. 'NF0014'\",\n",
                "    )\n",
                "    args = argparser.parse_args()\n",
                "    well_fov = args.well_fov\n",
                "    patient = args.patient\n",
                "\n",
                "    if well_fov == \"None\":\n",
                "        raise ValueError(\n",
                "            \"Please provide a well and field of view to process, e.g. 'A01_1'\"\n",
                "        )\n",
                "\n",
                "else:\n",
                "    well_fov = \"C4-2\"\n",
                "    patient = \"NF0014\"\n",
                "\n",
                "image_set_path = pathlib.Path(f\"../../data/{patient}/cellprofiler/{well_fov}/\")\n",
                "output_parent_path = pathlib.Path(\n",
                "    f\"../../data/{patient}/extracted_features/{well_fov}/\"\n",
                ")\n",
                "output_parent_path.mkdir(parents=True, exist_ok=True)"
            ]
        },
        {
            "cell_type": "code",
            "execution_count": 4,
            "metadata": {},
            "outputs": [],
            "source": [
                "channel_mapping = {\n",
                "    \"DNA\": \"405\",\n",
                "    \"AGP\": \"488\",\n",
                "    \"ER\": \"555\",\n",
                "    \"Mito\": \"640\",\n",
                "    \"BF\": \"TRANS\",\n",
                "    \"Nuclei\": \"nuclei_\",\n",
                "    \"Cell\": \"cell_\",\n",
                "    \"Cytoplasm\": \"cytoplasm_\",\n",
                "    \"Organoid\": \"organoid_\",\n",
                "}"
            ]
        },
        {
            "cell_type": "code",
            "execution_count": 5,
            "metadata": {},
            "outputs": [],
            "source": [
                "start_time = time.time()\n",
                "# get starting memory (cpu)\n",
                "start_mem = psutil.Process(os.getpid()).memory_info().rss / 1024**2"
            ]
        },
        {
            "cell_type": "code",
            "execution_count": 6,
            "metadata": {},
            "outputs": [],
            "source": [
                "image_set_loader = ImageSetLoader(\n",
                "    image_set_path=image_set_path,\n",
                "    anisotropy_spacing=(1, 0.1, 0.1),\n",
                "    channel_mapping=channel_mapping,\n",
                ")"
            ]
        },
        {
            "cell_type": "code",
            "execution_count": 7,
            "metadata": {},
            "outputs": [
                {
                    "name": "stdout",
                    "output_type": "stream",
                    "text": [
                        "Using 24 cores for processing.\n"
                    ]
                },
                {
                    "data": {
                        "application/vnd.jupyter.widget-view+json": {
                            "model_id": "0d194e4954f84dffabf884731bc59123",
                            "version_major": 2,
                            "version_minor": 0
                        },
                        "text/plain": [
                            "Processing combinations: 0it [00:00, ?it/s]"
                        ]
                    },
                    "metadata": {},
                    "output_type": "display_data"
                },
                {
                    "name": "stderr",
                    "output_type": "stream",
                    "text": [
                        "1it [00:15, 15.64s/it]]\n",
                        "1it [00:15, 15.50s/it]]\n",
                        "1it [00:17, 17.11s/it]]\n",
                        "1it [00:16, 16.96s/it]]\n",
                        "1it [00:15, 15.34s/it]]\n",
                        "35it [08:50, 15.16s/it]\n",
                        "35it [09:08, 15.68s/it]\n",
                        "35it [09:11, 15.75s/it]\n",
                        "35it [09:16, 15.90s/it]\n",
                        "35it [09:20, 16.01s/it]\n",
                        "35it [09:22, 16.07s/it]\n",
                        "35it [09:24, 16.12s/it]\n",
                        "35it [09:17, 15.94s/it]\n",
                        "35it [09:02, 15.49s/it]\n",
                        "34it [08:23, 14.82s/it]\n",
                        "35it [09:03, 15.54s/it]\n",
                        "34it [08:22, 14.77s/it]\n",
                        "34it [07:57, 14.05s/it]\n",
                        "34it [07:40, 13.54s/it]\n",
                        "34it [07:21, 13.00s/it]\n"
                    ]
                },
                {
                    "name": "stdout",
                    "output_type": "stream",
                    "text": [
                        "Processing complete.\n"
                    ]
                }
            ],
            "source": [
                "if __name__ == \"__main__\":\n",
                "    # Generate all combinations of compartments and channels\n",
                "    combinations = list(\n",
                "        product(image_set_loader.compartments, image_set_loader.image_names)\n",
                "    )\n",
                "    cores = multiprocessing.cpu_count()\n",
                "    print(f\"Using {cores} cores for processing.\")\n",
                "    # Use multiprocessing to process combinations in parallel\n",
                "    with multiprocessing.Pool(processes=cores) as pool:\n",
                "        results = list(\n",
                "            tqdm(\n",
                "                pool.imap(\n",
                "                    partial(\n",
                "                        process_combination,\n",
                "                        image_set_loader=image_set_loader,\n",
                "                        output_parent_path=output_parent_path,\n",
                "                    ),\n",
                "                    combinations,\n",
                "                ),\n",
                "                desc=\"Processing combinations\",\n",
                "            )\n",
                "        )\n",
                "\n",
                "    print(\"Processing complete.\")"
            ]
        },
        {
            "cell_type": "code",
            "execution_count": 8,
            "metadata": {},
            "outputs": [
                {
                    "name": "stdout",
                    "output_type": "stream",
                    "text": [
                        "Memory usage: 1043.73 MB\n",
                        "Texture time:\n",
                        "--- 853.2347843647003 seconds ---\n",
                        "--- 14.220579739411672 minutes ---\n",
                        "--- 0.23700966232352785 hours ---\n"
                    ]
                },
                {
                    "data": {
                        "text/plain": [
                            "True"
                        ]
                    },
                    "execution_count": 8,
                    "metadata": {},
                    "output_type": "execute_result"
                }
            ],
            "source": [
                "end_mem = psutil.Process(os.getpid()).memory_info().rss / 1024**2\n",
                "end_time = time.time()\n",
                "get_mem_and_time_profiling(\n",
                "    start_mem=start_mem,\n",
                "    end_mem=end_mem,\n",
                "    start_time=start_time,\n",
                "    end_time=end_time,\n",
                "    feature_type=\"Texture\",\n",
                "    well_fov=well_fov,\n",
                "    patient_id=patient,\n",
                "    CPU_GPU=\"CPU\",\n",
                "    output_file_dir=pathlib.Path(\n",
                "        f\"../../data/{patient}/extracted_features/run_stats/{well_fov}_Texture_CPU.parquet\"\n",
                "    ),\n",
                ")"
            ]
        }
    ],
    "metadata": {
        "kernelspec": {
            "display_name": "GFF_featurization",
            "language": "python",
            "name": "python3"
        },
        "language_info": {
            "codemirror_mode": {
                "name": "ipython",
                "version": 3
            },
            "file_extension": ".py",
            "mimetype": "text/x-python",
            "name": "python",
            "nbconvert_exporter": "python",
            "pygments_lexer": "ipython3",
            "version": "3.12.9"
        }
    },
    "nbformat": 4,
    "nbformat_minor": 2
}
