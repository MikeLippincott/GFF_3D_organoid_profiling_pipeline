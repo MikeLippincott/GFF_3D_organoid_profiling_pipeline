{
    "cells": [
        {
            "cell_type": "code",
            "execution_count": null,
            "metadata": {},
            "outputs": [],
            "source": [
                "import argparse\n",
                "import gc\n",
                "import multiprocessing\n",
                "import os\n",
                "import pathlib\n",
                "import sys\n",
                "import time\n",
                "from functools import partial\n",
                "from itertools import product\n",
                "\n",
                "import pandas as pd\n",
                "import psutil\n",
                "from tqdm import tqdm\n",
                "\n",
                "try:\n",
                "    cfg = get_ipython().config\n",
                "    in_notebook = True\n",
                "except NameError:\n",
                "    in_notebook = False\n",
                "if in_notebook:\n",
                "    from tqdm.notebook import tqdm\n",
                "else:\n",
                "    from tqdm import tqdm\n",
                "\n",
                "    # Get the current working directory\n",
                "cwd = pathlib.Path.cwd()\n",
                "\n",
                "if (cwd / \".git\").is_dir():\n",
                "    root_dir = cwd\n",
                "\n",
                "else:\n",
                "    root_dir = None\n",
                "    for parent in cwd.parents:\n",
                "        if (parent / \".git\").is_dir():\n",
                "            root_dir = parent\n",
                "            break\n",
                "\n",
                "# Check if a Git root directory was found\n",
                "if root_dir is None:\n",
                "    raise FileNotFoundError(\"No Git root directory found.\")\n",
                "\n",
                "sys.path.append(f\"{root_dir}/3.cellprofiling/featurization_utils/\")\n",
                "\n",
                "from featurization_parsable_arguments import parse_featurization_args\n",
                "from loading_classes import ImageSetLoader, ObjectLoader\n",
                "from resource_profiling_util import get_mem_and_time_profiling\n",
                "from texture_utils import measure_3D_texture"
            ]
        },
        {
            "cell_type": "code",
            "execution_count": null,
            "metadata": {},
            "outputs": [],
            "source": [
                "if not in_notebook:\n",
                "    arguments_dict = parse_featurization_args()\n",
                "    patient = arguments_dict[\"patient\"]\n",
                "    well_fov = arguments_dict[\"well_fov\"]\n",
                "    channel = arguments_dict[\"channel\"]\n",
                "    compartment = arguments_dict[\"compartment\"]\n",
                "    processor_type = arguments_dict[\"processor_type\"]\n",
                "else:\n",
                "    well_fov = \"C4-2\"\n",
                "    patient = \"NF0014\"\n",
                "    channel = \"DNA\"\n",
                "    compartment = \"Nuclei\"\n",
                "    processor_type = \"CPU\"\n",
                "\n",
                "image_set_path = pathlib.Path(f\"{root_dir}/data/{patient}/zstack_images/{well_fov}/\")\n",
                "output_parent_path = pathlib.Path(\n",
                "    f\"{root_dir}/data/{patient}/extracted_features/{well_fov}/\"\n",
                ")\n",
                "output_parent_path.mkdir(parents=True, exist_ok=True)"
            ]
        },
        {
            "cell_type": "code",
            "execution_count": 3,
            "metadata": {},
            "outputs": [],
            "source": [
                "channel_mapping = {\n",
                "    \"DNA\": \"405\",\n",
                "    \"AGP\": \"488\",\n",
                "    \"ER\": \"555\",\n",
                "    \"Mito\": \"640\",\n",
                "    \"BF\": \"TRANS\",\n",
                "    \"Nuclei\": \"nuclei_\",\n",
                "    \"Cell\": \"cell_\",\n",
                "    \"Cytoplasm\": \"cytoplasm_\",\n",
                "    \"Organoid\": \"organoid_\",\n",
                "}"
            ]
        },
        {
            "cell_type": "code",
            "execution_count": 4,
            "metadata": {},
            "outputs": [],
            "source": [
                "start_time = time.time()\n",
                "# get starting memory (cpu)\n",
                "start_mem = psutil.Process(os.getpid()).memory_info().rss / 1024**2"
            ]
        },
        {
            "cell_type": "code",
            "execution_count": 5,
            "metadata": {},
            "outputs": [],
            "source": [
                "image_set_loader = ImageSetLoader(\n",
                "    image_set_path=image_set_path,\n",
                "    anisotropy_spacing=(1, 0.1, 0.1),\n",
                "    channel_mapping=channel_mapping,\n",
                ")"
            ]
        },
        {
            "cell_type": "code",
            "execution_count": null,
            "metadata": {},
            "outputs": [
                {
                    "name": "stderr",
                    "output_type": "stream",
                    "text": [
                        "34it [02:33,  4.52s/it]\n"
                    ]
                }
            ],
            "source": [
                "object_loader = ObjectLoader(\n",
                "    image_set_loader.image_set_dict[channel],\n",
                "    image_set_loader.image_set_dict[compartment],\n",
                "    channel,\n",
                "    compartment,\n",
                ")\n",
                "output_texture_dict = measure_3D_texture(\n",
                "    object_loader=object_loader,\n",
                "    distance=3,  # distance in pixels 3 is what CP uses\n",
                ")\n",
                "final_df = pd.DataFrame(output_texture_dict)\n",
                "\n",
                "final_df = final_df.pivot(\n",
                "    index=\"object_id\",\n",
                "    columns=\"texture_name\",\n",
                "    values=\"texture_value\",\n",
                ")\n",
                "final_df.reset_index(inplace=True)\n",
                "for col in final_df.columns:\n",
                "    if col == \"object_id\":\n",
                "        continue\n",
                "    else:\n",
                "        final_df.rename(\n",
                "            columns={col: f\"Texture_{compartment}_{channel}_{col}\"},\n",
                "            inplace=True,\n",
                "        )\n",
                "final_df.insert(0, \"image_set\", image_set_loader.image_set_name)\n",
                "final_df.columns.name = None\n",
                "\n",
                "output_file = pathlib.Path(\n",
                "    output_parent_path\n",
                "    / f\"Texture_{compartment}_{channel}_{processor_type}_features.parquet\"\n",
                ")\n",
                "output_file.parent.mkdir(parents=True, exist_ok=True)\n",
                "final_df.to_parquet(output_file)"
            ]
        },
        {
            "cell_type": "code",
            "execution_count": null,
            "metadata": {},
            "outputs": [
                {
                    "name": "stdout",
                    "output_type": "stream",
                    "text": [
                        "\n",
                        "        Memory and time profiling for the run:\n",
                        "\n",
                        "        Patient ID: NF0014\n",
                        "\n",
                        "        Well and FOV: C4-2\n",
                        "\n",
                        "        Feature type: Texture\n",
                        "\n",
                        "        CPU/GPU: CPU\")\n",
                        "\n",
                        "        Memory usage: 1052.78 MB\n",
                        "\n",
                        "        Time:\n",
                        "\n",
                        "        --- %s seconds --- % 159.15490913391113\n",
                        "\n",
                        "        --- %s minutes --- % 2.652581818898519\n",
                        "\n",
                        "        --- %s hours --- % 0.04420969698164198\n",
                        "    \n"
                    ]
                },
                {
                    "data": {
                        "text/plain": [
                            "True"
                        ]
                    },
                    "execution_count": 7,
                    "metadata": {},
                    "output_type": "execute_result"
                }
            ],
            "source": [
                "end_mem = psutil.Process(os.getpid()).memory_info().rss / 1024**2\n",
                "end_time = time.time()\n",
                "get_mem_and_time_profiling(\n",
                "    start_mem=start_mem,\n",
                "    end_mem=end_mem,\n",
                "    start_time=start_time,\n",
                "    end_time=end_time,\n",
                "    feature_type=\"Texture\",\n",
                "    well_fov=well_fov,\n",
                "    patient_id=patient,\n",
                "    channel=channel,\n",
                "    compartment=compartment,\n",
                "    CPU_GPU=\"CPU\",\n",
                "    output_file_dir=pathlib.Path(\n",
                "        f\"{root_dir}/data/{patient}/extracted_features/run_stats/{well_fov}_{channel}_{compartment}_Texture_CPU.parquet\"\n",
                "    ),\n",
                ")"
            ]
        }
    ],
    "metadata": {
        "kernelspec": {
            "display_name": "GFF_featurization",
            "language": "python",
            "name": "python3"
        },
        "language_info": {
            "codemirror_mode": {
                "name": "ipython",
                "version": 3
            },
            "file_extension": ".py",
            "mimetype": "text/x-python",
            "name": "python",
            "nbconvert_exporter": "python",
            "pygments_lexer": "ipython3",
            "version": "3.12.9"
        }
    },
    "nbformat": 4,
    "nbformat_minor": 2
}
