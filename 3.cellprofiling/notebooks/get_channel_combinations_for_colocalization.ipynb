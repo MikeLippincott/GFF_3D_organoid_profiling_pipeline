{
    "cells": [
        {
            "cell_type": "code",
            "execution_count": 1,
            "id": "6ce927ac",
            "metadata": {},
            "outputs": [],
            "source": [
                "import itertools\n",
                "import pathlib\n",
                "import sys\n",
                "from itertools import product\n",
                "\n",
                "import pandas as pd\n",
                "\n",
                "sys.path.append(\"../featurization_utils\")\n",
                "from loading_classes import ImageSetLoader"
            ]
        },
        {
            "cell_type": "code",
            "execution_count": 2,
            "id": "b24a8551",
            "metadata": {},
            "outputs": [],
            "source": [
                "well_fov = \"C4-2\"\n",
                "patient = \"NF0014\"\n",
                "channel = \"DNA\"\n",
                "compartment = \"Nuclei\"\n",
                "processor_type = \"CPU\"\n",
                "\n",
                "image_set_path = pathlib.Path(f\"../../data/{patient}/cellprofiler/{well_fov}/\")\n",
                "output_channel_combinations_path = pathlib.Path(\n",
                "    \"../load_data/output_channel_combinations.parquet\"\n",
                ")\n",
                "output_channel_combinations_path.parent.mkdir(parents=True, exist_ok=True)"
            ]
        },
        {
            "cell_type": "code",
            "execution_count": 3,
            "id": "519928d1",
            "metadata": {},
            "outputs": [],
            "source": [
                "channel_mapping = {\n",
                "    \"DNA\": \"405\",\n",
                "    \"AGP\": \"488\",\n",
                "    \"ER\": \"555\",\n",
                "    \"Mito\": \"640\",\n",
                "    \"BF\": \"TRANS\",\n",
                "    \"Nuclei\": \"nuclei_\",\n",
                "    \"Cell\": \"cell_\",\n",
                "    \"Cytoplasm\": \"cytoplasm_\",\n",
                "    \"Organoid\": \"organoid_\",\n",
                "}"
            ]
        },
        {
            "cell_type": "code",
            "execution_count": 4,
            "id": "a1a95f6c",
            "metadata": {},
            "outputs": [],
            "source": [
                "image_set_loader = ImageSetLoader(\n",
                "    image_set_path=image_set_path,\n",
                "    anisotropy_spacing=(1, 0.1, 0.1),\n",
                "    channel_mapping=channel_mapping,\n",
                ")"
            ]
        },
        {
            "cell_type": "code",
            "execution_count": 5,
            "id": "70907443",
            "metadata": {},
            "outputs": [],
            "source": [
                "# get all channel combinations\n",
                "channel_combinations = list(itertools.combinations(image_set_loader.image_names, 2))"
            ]
        },
        {
            "cell_type": "code",
            "execution_count": 6,
            "id": "ad15d645",
            "metadata": {},
            "outputs": [],
            "source": [
                "combinations = [\n",
                "    (compartment, channel1, channel2)\n",
                "    for compartment, (channel1, channel2) in product(\n",
                "        image_set_loader.compartments, channel_combinations\n",
                "    )\n",
                "]\n",
                "channel_combinations_df = pd.DataFrame(\n",
                "    combinations, columns=[\"compartment\", \"channel1\", \"channel2\"]\n",
                ")\n",
                "channel_combinations_df.to_parquet(\n",
                "    output_channel_combinations_path,\n",
                "    index=False,\n",
                "    engine=\"pyarrow\",\n",
                ")"
            ]
        }
    ],
    "metadata": {
        "kernelspec": {
            "display_name": "GFF_featurization",
            "language": "python",
            "name": "python3"
        },
        "language_info": {
            "codemirror_mode": {
                "name": "ipython",
                "version": 3
            },
            "file_extension": ".py",
            "mimetype": "text/x-python",
            "name": "python",
            "nbconvert_exporter": "python",
            "pygments_lexer": "ipython3",
            "version": "3.12.9"
        }
    },
    "nbformat": 4,
    "nbformat_minor": 5
}
