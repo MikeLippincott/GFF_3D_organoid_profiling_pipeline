{
    "cells": [
        {
            "cell_type": "code",
            "execution_count": null,
            "metadata": {},
            "outputs": [],
            "source": [
                "import argparse\n",
                "import os\n",
                "import pathlib\n",
                "import sys\n",
                "import time\n",
                "\n",
                "import psutil\n",
                "\n",
                "sys.path.append(\"../featurization_utils\")\n",
                "import cucim.skimage.measure\n",
                "import cucim.skimage.segmentation\n",
                "import cupy\n",
                "import cupyx.scipy.ndimage\n",
                "import numpy as np\n",
                "import pandas as pd\n",
                "import scipy\n",
                "import skimage\n",
                "from intensity_utils import measure_3D_intensity_gpu\n",
                "from loading_classes import ImageSetLoader, ObjectLoader\n",
                "from resource_profiling_util import get_mem_and_time_profiling\n",
                "\n",
                "try:\n",
                "    cfg = get_ipython().config\n",
                "    in_notebook = True\n",
                "except NameError:\n",
                "    in_notebook = False\n",
                "if in_notebook:\n",
                "    from tqdm.notebook import tqdm\n",
                "else:\n",
                "    from tqdm import tqdm"
            ]
        },
        {
            "cell_type": "code",
            "execution_count": null,
            "metadata": {},
            "outputs": [],
            "source": [
                "if not in_notebook:\n",
                "    argparser = argparse.ArgumentParser()\n",
                "    argparser.add_argument(\n",
                "        \"--well_fov\",\n",
                "        type=str,\n",
                "        default=\"None\",\n",
                "        help=\"Well and field of view to process, e.g. 'A01_1'\",\n",
                "    )\n",
                "    argparser.add_argument(\n",
                "        \"--patient\",\n",
                "        type=str,\n",
                "        help=\"Patient ID, e.g. 'NF0014'\",\n",
                "    )\n",
                "\n",
                "    args = argparser.parse_args()\n",
                "    well_fov = args.well_fov\n",
                "    patient = args.patient\n",
                "    if well_fov == \"None\":\n",
                "        raise ValueError(\n",
                "            \"Please provide a well and field of view to process, e.g. 'A01_1'\"\n",
                "        )\n",
                "\n",
                "else:\n",
                "    well_fov = \"C4-2\"\n",
                "    patient = \"NF0014\"\n",
                "\n",
                "image_set_path = pathlib.Path(f\"../../data/{patient}/cellprofiler/{well_fov}/\")\n",
                "output_parent_path = pathlib.Path(\n",
                "    f\"../../data/{patient}/extracted_features/{well_fov}/\"\n",
                ")\n",
                "output_parent_path.mkdir(parents=True, exist_ok=True)"
            ]
        },
        {
            "cell_type": "code",
            "execution_count": 3,
            "metadata": {},
            "outputs": [],
            "source": [
                "channel_n_compartment_mapping = {\n",
                "    \"DNA\": \"405\",\n",
                "    \"AGP\": \"488\",\n",
                "    \"ER\": \"555\",\n",
                "    \"Mito\": \"640\",\n",
                "    \"BF\": \"TRANS\",\n",
                "    \"Nuclei\": \"nuclei_\",\n",
                "    \"Cell\": \"cell_\",\n",
                "    \"Cytoplasm\": \"cytoplasm_\",\n",
                "    \"Organoid\": \"organoid_\",\n",
                "}"
            ]
        },
        {
            "cell_type": "code",
            "execution_count": null,
            "metadata": {},
            "outputs": [],
            "source": [
                "start_time = time.time()\n",
                "# get starting memory (cpu)\n",
                "start_mem = psutil.Process(os.getpid()).memory_info().rss / 1024**2"
            ]
        },
        {
            "cell_type": "code",
            "execution_count": 4,
            "metadata": {},
            "outputs": [],
            "source": [
                "image_set_loader = ImageSetLoader(\n",
                "    image_set_path=image_set_path,\n",
                "    anisotropy_spacing=(1, 0.1, 0.1),\n",
                "    channel_mapping=channel_n_compartment_mapping,\n",
                ")"
            ]
        },
        {
            "cell_type": "code",
            "execution_count": null,
            "metadata": {},
            "outputs": [
                {
                    "name": "stderr",
                    "output_type": "stream",
                    "text": [
                        "/home/lippincm/miniforge3/envs/GFF_featurization/lib/python3.12/site-packages/cupyx/scipy/ndimage/_measurements.py:397: PerformanceWarning: Using the slower implementation as cupyx.scipy.ndimage.sum supports int32, float16, float32, float64, uint32, uint64 as data typesfor the fast implmentation\n",
                        "  warnings.warn(\n",
                        "/home/lippincm/miniforge3/envs/GFF_featurization/lib/python3.12/site-packages/cupyx/scipy/ndimage/_measurements.py:487: PerformanceWarning: Using the slower implementation as cupyx.scipy.ndimage.mean supports int32, float16, float32, float64, uint32, uint64 as data types for the fast implmentation\n",
                        "  warnings.warn(\n"
                    ]
                }
            ],
            "source": [
                "for compartment in tqdm(\n",
                "    image_set_loader.compartments, desc=\"Processing compartments\", position=0\n",
                "):\n",
                "    for channel in tqdm(\n",
                "        image_set_loader.image_names,\n",
                "        desc=\"Processing channels\",\n",
                "        leave=False,\n",
                "        position=1,\n",
                "    ):\n",
                "        object_loader = ObjectLoader(\n",
                "            image_set_loader.image_set_dict[channel],\n",
                "            image_set_loader.image_set_dict[compartment],\n",
                "            channel,\n",
                "            compartment,\n",
                "        )\n",
                "\n",
                "        output_dict = measure_3D_intensity_gpu(object_loader)\n",
                "        final_df = pd.DataFrame(output_dict)\n",
                "        # prepend compartment and channel to column names\n",
                "        final_df = final_df.pivot(\n",
                "            index=[\"object_id\"],\n",
                "            columns=\"feature_name\",\n",
                "            values=\"value\",\n",
                "        ).reset_index()\n",
                "        for col in final_df.columns:\n",
                "            if col == \"object_id\":\n",
                "                continue\n",
                "            else:\n",
                "                final_df.rename(\n",
                "                    columns={col: f\"Intensity_{compartment}_{channel}_{col}\"},\n",
                "                    inplace=True,\n",
                "                )\n",
                "\n",
                "        final_df.insert(0, \"image_set\", image_set_loader.image_set_name)\n",
                "\n",
                "        output_file = pathlib.Path(\n",
                "            output_parent_path / f\"Intensity_{compartment}_{channel}_features.parquet\"\n",
                "        )\n",
                "        output_file.parent.mkdir(parents=True, exist_ok=True)\n",
                "        final_df.to_parquet(output_file)"
            ]
        },
        {
            "cell_type": "code",
            "execution_count": null,
            "metadata": {},
            "outputs": [
                {
                    "name": "stdout",
                    "output_type": "stream",
                    "text": [
                        "Intensity time:\n",
                        "--- 85.91671085357666 seconds ---\n",
                        "--- 1.4319456497828165 minutes ---\n",
                        "--- 0.023865768710772197 hours ---\n"
                    ]
                }
            ],
            "source": [
                "end_mem = psutil.Process(os.getpid()).memory_info().rss / 1024**2\n",
                "end_time = time.time()\n",
                "get_mem_and_time_profiling(\n",
                "    start_mem=start_mem,\n",
                "    end_mem=end_mem,\n",
                "    start_time=start_time,\n",
                "    end_time=end_time,\n",
                "    feature_type=\"Intensity\",\n",
                "    well_fov=well_fov,\n",
                "    CPU_GPU=\"GPU\",\n",
                ")"
            ]
        }
    ],
    "metadata": {
        "kernelspec": {
            "display_name": "GFF_featurization",
            "language": "python",
            "name": "python3"
        },
        "language_info": {
            "codemirror_mode": {
                "name": "ipython",
                "version": 3
            },
            "file_extension": ".py",
            "mimetype": "text/x-python",
            "name": "python",
            "nbconvert_exporter": "python",
            "pygments_lexer": "ipython3",
            "version": "3.12.9"
        }
    },
    "nbformat": 4,
    "nbformat_minor": 2
}
