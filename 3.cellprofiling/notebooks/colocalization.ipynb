{
    "cells": [
        {
            "cell_type": "code",
            "execution_count": 1,
            "metadata": {},
            "outputs": [],
            "source": [
                "import argparse\n",
                "import os\n",
                "import pathlib\n",
                "import sys\n",
                "import time\n",
                "\n",
                "import psutil\n",
                "\n",
                "sys.path.append(\"../featurization_utils\")\n",
                "import itertools\n",
                "import multiprocessing\n",
                "from functools import partial\n",
                "from itertools import product\n",
                "\n",
                "import pandas as pd\n",
                "from colocalization_utils import (\n",
                "    measure_3D_colocalization,\n",
                "    prepare_two_images_for_colocalization,\n",
                ")\n",
                "from loading_classes import ImageSetLoader, TwoObjectLoader\n",
                "from resource_profiling_util import get_mem_and_time_profiling\n",
                "\n",
                "try:\n",
                "    cfg = get_ipython().config\n",
                "    in_notebook = True\n",
                "except NameError:\n",
                "    in_notebook = False\n",
                "if in_notebook:\n",
                "    from tqdm.notebook import tqdm\n",
                "else:\n",
                "    from tqdm import tqdm\n",
                "\n",
                "import warnings\n",
                "\n",
                "warnings.filterwarnings(\"ignore\", category=RuntimeWarning)"
            ]
        },
        {
            "cell_type": "code",
            "execution_count": 2,
            "metadata": {},
            "outputs": [],
            "source": [
                "def process_combination(args: tuple[str, str], image_set_loader: ImageSetLoader) -> str:\n",
                "    \"\"\"\n",
                "    Process a single combination of compartment and channel pair for colocalization analysis.\n",
                "\n",
                "    Parameters\n",
                "    ----------\n",
                "    args : tuple\n",
                "        A tuple containing the compartment, channel1, and channel2.\n",
                "        Yes, order matters.\n",
                "        args = (compartment, channel1, channel2)\n",
                "        Where:\n",
                "        compartment : str\n",
                "            The compartment to process.\n",
                "        channel1 : str\n",
                "            The first channel to process.\n",
                "        channel2 : str\n",
                "            The second channel to process.\n",
                "\n",
                "    image_set_loader : ImageSetLoader\n",
                "        An instance of the ImageSetLoader class that loads the images and metadata.\n",
                "\n",
                "    Returns\n",
                "    -------\n",
                "    str\n",
                "        A message indicating the completion of processing for the given combination.\n",
                "    \"\"\"\n",
                "    compartment, channel1, channel2 = args\n",
                "    coloc_loader = TwoObjectLoader(\n",
                "        image_set_loader=image_set_loader,\n",
                "        compartment=compartment,\n",
                "        channel1=channel1,\n",
                "        channel2=channel2,\n",
                "    )\n",
                "\n",
                "    output_dir = pathlib.Path(\n",
                "        f\"../results/{image_set_loader.image_set_name}/Colocalization_{compartment}_{channel1}.{channel2}_features\"\n",
                "    )\n",
                "    output_dir.mkdir(parents=True, exist_ok=True)\n",
                "    for object_id in coloc_loader.object_ids:\n",
                "        cropped_image1, cropped_image2 = prepare_two_images_for_colocalization(\n",
                "            label_object1=coloc_loader.label_image,\n",
                "            label_object2=coloc_loader.label_image,\n",
                "            image_object1=coloc_loader.image1,\n",
                "            image_object2=coloc_loader.image2,\n",
                "            object_id1=object_id,\n",
                "            object_id2=object_id,\n",
                "        )\n",
                "        colocalization_features = measure_3D_colocalization(\n",
                "            cropped_image_1=cropped_image1,\n",
                "            cropped_image_2=cropped_image2,\n",
                "            thr=15,\n",
                "            fast_costes=\"Accurate\",\n",
                "        )\n",
                "        coloc_df = pd.DataFrame(colocalization_features, index=[0])\n",
                "        coloc_df.columns = [\n",
                "            f\"Colocalization_{compartment}_{channel1}.{channel2}_{col}\"\n",
                "            for col in coloc_df.columns\n",
                "        ]\n",
                "        coloc_df.insert(0, \"object_id\", object_id)\n",
                "        coloc_df.insert(1, \"image_set\", image_set_loader.image_set_name)\n",
                "        # list_of_dfs.append(coloc_df)\n",
                "        coloc_df.to_parquet(output_dir / f\"object_{object_id}.parquet\")\n",
                "\n",
                "    return f\"Processed {compartment} - {channel1}.{channel2}\""
            ]
        },
        {
            "cell_type": "code",
            "execution_count": 3,
            "metadata": {},
            "outputs": [],
            "source": [
                "if not in_notebook:\n",
                "    argparser = argparse.ArgumentParser()\n",
                "    argparser.add_argument(\n",
                "        \"--well_fov\",\n",
                "        type=str,\n",
                "        default=\"None\",\n",
                "        help=\"Well and field of view to process, e.g. 'A01_1'\",\n",
                "    )\n",
                "\n",
                "    args = argparser.parse_args()\n",
                "    well_fov = args.well_fov\n",
                "    if well_fov == \"None\":\n",
                "        raise ValueError(\n",
                "            \"Please provide a well and field of view to process, e.g. 'A01_1'\"\n",
                "        )\n",
                "\n",
                "    image_set_path = pathlib.Path(f\"../../data/NF0014/cellprofiler/{well_fov}/\")\n",
                "else:\n",
                "    well_fov = \"C2-2\"\n",
                "    image_set_path = pathlib.Path(f\"../../data/NF0014/cellprofiler/{well_fov}/\")"
            ]
        },
        {
            "cell_type": "code",
            "execution_count": 4,
            "metadata": {},
            "outputs": [],
            "source": [
                "channel_mapping = {\n",
                "    \"DNA\": \"405\",\n",
                "    \"AGP\": \"488\",\n",
                "    \"ER\": \"555\",\n",
                "    \"Mito\": \"640\",\n",
                "    \"BF\": \"TRANS\",\n",
                "    \"Nuclei\": \"nuclei_\",\n",
                "    \"Cell\": \"cell_\",\n",
                "    \"Cytoplasm\": \"cytoplasm_\",\n",
                "    \"Organoid\": \"organoid_\",\n",
                "}"
            ]
        },
        {
            "cell_type": "code",
            "execution_count": 5,
            "metadata": {},
            "outputs": [],
            "source": [
                "image_set_loader = ImageSetLoader(\n",
                "    image_set_path=image_set_path,\n",
                "    anisotropy_spacing=(1, 0.1, 0.1),\n",
                "    channel_mapping=channel_mapping,\n",
                ")"
            ]
        },
        {
            "cell_type": "code",
            "execution_count": 6,
            "metadata": {},
            "outputs": [],
            "source": [
                "# get all channel combinations\n",
                "channel_combinations = list(itertools.combinations(image_set_loader.image_names, 2))"
            ]
        },
        {
            "cell_type": "code",
            "execution_count": 7,
            "metadata": {},
            "outputs": [],
            "source": [
                "start_time = time.time()\n",
                "# get starting memory (cpu)\n",
                "start_mem = psutil.Process(os.getpid()).memory_info().rss / 1024**2"
            ]
        },
        {
            "cell_type": "markdown",
            "metadata": {},
            "source": [
                "runs upon converted script execution"
            ]
        },
        {
            "cell_type": "code",
            "execution_count": 8,
            "metadata": {},
            "outputs": [
                {
                    "name": "stdout",
                    "output_type": "stream",
                    "text": [
                        "Using 24 cores for processing.\n"
                    ]
                },
                {
                    "data": {
                        "application/vnd.jupyter.widget-view+json": {
                            "model_id": "9be767ecd04f4561a3bc21ab2b302dc0",
                            "version_major": 2,
                            "version_minor": 0
                        },
                        "text/plain": [
                            "Processing combinations: 0it [00:00, ?it/s]"
                        ]
                    },
                    "metadata": {},
                    "output_type": "display_data"
                },
                {
                    "name": "stdout",
                    "output_type": "stream",
                    "text": [
                        "Processing complete.\n"
                    ]
                }
            ],
            "source": [
                "# Generate all combinations of compartments and channel pairs\n",
                "combinations = list(\n",
                "    product(\n",
                "        image_set_loader.compartments,\n",
                "        [pair for pair in channel_combinations],\n",
                "    )\n",
                ")\n",
                "\n",
                "# Flatten the channel combinations for easier unpacking\n",
                "combinations = [\n",
                "    (compartment, channel1, channel2)\n",
                "    for compartment, (channel1, channel2) in combinations\n",
                "]\n",
                "# Specify the number of cores to use\n",
                "cores_to_use = multiprocessing.cpu_count()  # Adjust the number of cores as needed\n",
                "print(f\"Using {cores_to_use} cores for processing.\")\n",
                "\n",
                "# Use multiprocessing to process combinations in parallel\n",
                "with multiprocessing.Pool(processes=cores_to_use) as pool:\n",
                "    results = list(\n",
                "        tqdm(\n",
                "            pool.imap(\n",
                "                partial(process_combination, image_set_loader=image_set_loader),\n",
                "                combinations,\n",
                "            ),\n",
                "            desc=\"Processing combinations\",\n",
                "        )\n",
                "    )\n",
                "\n",
                "print(\"Processing complete.\")"
            ]
        },
        {
            "cell_type": "code",
            "execution_count": 9,
            "metadata": {},
            "outputs": [
                {
                    "name": "stdout",
                    "output_type": "stream",
                    "text": [
                        "Memory usage: 48.03 MB\n",
                        "Texture time:\n",
                        "--- 19.53229570388794 seconds ---\n",
                        "--- 0.32553826173146566 minutes ---\n",
                        "--- 0.005425637695524428 hours ---\n"
                    ]
                },
                {
                    "data": {
                        "text/plain": [
                            "True"
                        ]
                    },
                    "execution_count": 9,
                    "metadata": {},
                    "output_type": "execute_result"
                }
            ],
            "source": [
                "end_mem = psutil.Process(os.getpid()).memory_info().rss / 1024**2\n",
                "end_time = time.time()\n",
                "get_mem_and_time_profiling(\n",
                "    start_mem=start_mem,\n",
                "    end_mem=end_mem,\n",
                "    start_time=start_time,\n",
                "    end_time=end_time,\n",
                "    feature_type=\"Colocalization\",\n",
                "    well_fov=well_fov,\n",
                "    CPU_GPU=\"CPU\",\n",
                ")"
            ]
        }
    ],
    "metadata": {
        "kernelspec": {
            "display_name": "GFF_featurization",
            "language": "python",
            "name": "python3"
        },
        "language_info": {
            "codemirror_mode": {
                "name": "ipython",
                "version": 3
            },
            "file_extension": ".py",
            "mimetype": "text/x-python",
            "name": "python",
            "nbconvert_exporter": "python",
            "pygments_lexer": "ipython3",
            "version": "3.12.9"
        }
    },
    "nbformat": 4,
    "nbformat_minor": 2
}
