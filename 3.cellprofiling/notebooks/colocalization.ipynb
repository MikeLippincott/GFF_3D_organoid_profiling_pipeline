{
 "cells": [
  {
   "cell_type": "code",
   "execution_count": 1,
   "metadata": {},
   "outputs": [],
   "source": [
    "import argparse\n",
    "import itertools\n",
    "import multiprocessing\n",
    "import os\n",
    "import pathlib\n",
    "import sys\n",
    "import time\n",
    "from functools import partial\n",
    "from itertools import product\n",
    "\n",
    "import pandas as pd\n",
    "import psutil\n",
    "\n",
    "try:\n",
    "    cfg = get_ipython().config\n",
    "    in_notebook = True\n",
    "except NameError:\n",
    "    in_notebook = False\n",
    "if in_notebook:\n",
    "    from tqdm.notebook import tqdm\n",
    "else:\n",
    "    from tqdm import tqdm\n",
    "\n",
    "import warnings\n",
    "\n",
    "warnings.filterwarnings(\"ignore\", category=RuntimeWarning)\n",
    "# Get the current working directory\n",
    "cwd = pathlib.Path.cwd()\n",
    "\n",
    "if (cwd / \".git\").is_dir():\n",
    "    root_dir = cwd\n",
    "\n",
    "else:\n",
    "    root_dir = None\n",
    "    for parent in cwd.parents:\n",
    "        if (parent / \".git\").is_dir():\n",
    "            root_dir = parent\n",
    "            break\n",
    "\n",
    "# Check if a Git root directory was found\n",
    "if root_dir is None:\n",
    "    raise FileNotFoundError(\"No Git root directory found.\")\n",
    "\n",
    "sys.path.append(f\"{root_dir}/3.cellprofiling/featurization_utils/\")\n",
    "from colocalization_utils import (\n",
    "    measure_3D_colocalization,\n",
    "    prepare_two_images_for_colocalization,\n",
    ")\n",
    "from colocalization_utils_gpu import (\n",
    "    measure_3D_colocalization_gpu,\n",
    "    prepare_two_images_for_colocalization_gpu,\n",
    ")\n",
    "from featurization_parsable_arguments import parse_featurization_args\n",
    "from loading_classes import ImageSetLoader, TwoObjectLoader\n",
    "from resource_profiling_util import get_mem_and_time_profiling"
   ]
  },
  {
   "cell_type": "code",
   "execution_count": 2,
   "metadata": {},
   "outputs": [],
   "source": [
    "if not in_notebook:\n",
    "    arguments_dict = parse_featurization_args()\n",
    "    patient = arguments_dict[\"patient\"]\n",
    "    well_fov = arguments_dict[\"well_fov\"]\n",
    "    channel = arguments_dict[\"channel\"]\n",
    "    compartment = arguments_dict[\"compartment\"]\n",
    "    processor_type = arguments_dict[\"processor_type\"]\n",
    "\n",
    "else:\n",
    "    well_fov = \"E10-2\"\n",
    "    patient = \"NF0014\"\n",
    "    channel = \"ER.Mito\"\n",
    "    compartment = \"Cytoplasm\"\n",
    "    processor_type = \"GPU\"\n",
    "\n",
    "channel1 = channel.split(\".\")[0] if \".\" in channel else channel\n",
    "channel2 = channel.split(\".\")[1] if \".\" in channel else None\n",
    "image_set_path = pathlib.Path(\n",
    "    f\"{root_dir}/data/{patient}/profiling_input_images/{well_fov}/\"\n",
    ")\n",
    "\n",
    "output_parent_path = pathlib.Path(\n",
    "    f\"{root_dir}/data/{patient}/extracted_features/{well_fov}/\"\n",
    ")\n",
    "output_parent_path.mkdir(parents=True, exist_ok=True)"
   ]
  },
  {
   "cell_type": "code",
   "execution_count": 3,
   "metadata": {},
   "outputs": [],
   "source": [
    "channel_mapping = {\n",
    "    \"DNA\": \"405\",\n",
    "    \"AGP\": \"488\",\n",
    "    \"ER\": \"555\",\n",
    "    \"Mito\": \"640\",\n",
    "    \"BF\": \"TRANS\",\n",
    "    \"Nuclei\": \"nuclei_\",\n",
    "    \"Cell\": \"cell_\",\n",
    "    \"Cytoplasm\": \"cytoplasm_\",\n",
    "    \"Organoid\": \"organoid_\",\n",
    "}"
   ]
  },
  {
   "cell_type": "code",
   "execution_count": 4,
   "metadata": {},
   "outputs": [],
   "source": [
    "image_set_loader = ImageSetLoader(\n",
    "    image_set_path=image_set_path,\n",
    "    anisotropy_spacing=(1, 0.1, 0.1),\n",
    "    channel_mapping=channel_mapping,\n",
    ")"
   ]
  },
  {
   "cell_type": "code",
   "execution_count": 5,
   "metadata": {},
   "outputs": [],
   "source": [
    "start_time = time.time()\n",
    "# get starting memory (cpu)\n",
    "start_mem = psutil.Process(os.getpid()).memory_info().rss / 1024**2"
   ]
  },
  {
   "cell_type": "code",
   "execution_count": 7,
   "metadata": {},
   "outputs": [
    {
     "data": {
      "text/plain": [
       "[]"
      ]
     },
     "execution_count": 7,
     "metadata": {},
     "output_type": "execute_result"
    }
   ],
   "source": [
    "coloc_loader.object_ids"
   ]
  },
  {
   "cell_type": "code",
   "execution_count": null,
   "metadata": {},
   "outputs": [],
   "source": []
  },
  {
   "cell_type": "code",
   "execution_count": 6,
   "metadata": {},
   "outputs": [
    {
     "ename": "ValueError",
     "evalue": "No objects to concatenate",
     "output_type": "error",
     "traceback": [
      "\u001b[0;31m---------------------------------------------------------------------------\u001b[0m",
      "\u001b[0;31mValueError\u001b[0m                                Traceback (most recent call last)",
      "Cell \u001b[0;32mIn[6], line 60\u001b[0m\n\u001b[1;32m     58\u001b[0m     coloc_df\u001b[38;5;241m.\u001b[39minsert(\u001b[38;5;241m1\u001b[39m, \u001b[38;5;124m\"\u001b[39m\u001b[38;5;124mimage_set\u001b[39m\u001b[38;5;124m\"\u001b[39m, image_set_loader\u001b[38;5;241m.\u001b[39mimage_set_name)\n\u001b[1;32m     59\u001b[0m     list_of_dfs\u001b[38;5;241m.\u001b[39mappend(coloc_df)\n\u001b[0;32m---> 60\u001b[0m coloc_df \u001b[38;5;241m=\u001b[39m \u001b[43mpd\u001b[49m\u001b[38;5;241;43m.\u001b[39;49m\u001b[43mconcat\u001b[49m\u001b[43m(\u001b[49m\u001b[43mlist_of_dfs\u001b[49m\u001b[43m,\u001b[49m\u001b[43m \u001b[49m\u001b[43mignore_index\u001b[49m\u001b[38;5;241;43m=\u001b[39;49m\u001b[38;5;28;43;01mTrue\u001b[39;49;00m\u001b[43m)\u001b[49m\n\u001b[1;32m     61\u001b[0m coloc_df\u001b[38;5;241m.\u001b[39mto_parquet(output_dir)\n",
      "File \u001b[0;32m~/miniforge3/envs/GFF_featurization/lib/python3.12/site-packages/pandas/core/reshape/concat.py:382\u001b[0m, in \u001b[0;36mconcat\u001b[0;34m(objs, axis, join, ignore_index, keys, levels, names, verify_integrity, sort, copy)\u001b[0m\n\u001b[1;32m    379\u001b[0m \u001b[38;5;28;01melif\u001b[39;00m copy \u001b[38;5;129;01mand\u001b[39;00m using_copy_on_write():\n\u001b[1;32m    380\u001b[0m     copy \u001b[38;5;241m=\u001b[39m \u001b[38;5;28;01mFalse\u001b[39;00m\n\u001b[0;32m--> 382\u001b[0m op \u001b[38;5;241m=\u001b[39m \u001b[43m_Concatenator\u001b[49m\u001b[43m(\u001b[49m\n\u001b[1;32m    383\u001b[0m \u001b[43m    \u001b[49m\u001b[43mobjs\u001b[49m\u001b[43m,\u001b[49m\n\u001b[1;32m    384\u001b[0m \u001b[43m    \u001b[49m\u001b[43maxis\u001b[49m\u001b[38;5;241;43m=\u001b[39;49m\u001b[43maxis\u001b[49m\u001b[43m,\u001b[49m\n\u001b[1;32m    385\u001b[0m \u001b[43m    \u001b[49m\u001b[43mignore_index\u001b[49m\u001b[38;5;241;43m=\u001b[39;49m\u001b[43mignore_index\u001b[49m\u001b[43m,\u001b[49m\n\u001b[1;32m    386\u001b[0m \u001b[43m    \u001b[49m\u001b[43mjoin\u001b[49m\u001b[38;5;241;43m=\u001b[39;49m\u001b[43mjoin\u001b[49m\u001b[43m,\u001b[49m\n\u001b[1;32m    387\u001b[0m \u001b[43m    \u001b[49m\u001b[43mkeys\u001b[49m\u001b[38;5;241;43m=\u001b[39;49m\u001b[43mkeys\u001b[49m\u001b[43m,\u001b[49m\n\u001b[1;32m    388\u001b[0m \u001b[43m    \u001b[49m\u001b[43mlevels\u001b[49m\u001b[38;5;241;43m=\u001b[39;49m\u001b[43mlevels\u001b[49m\u001b[43m,\u001b[49m\n\u001b[1;32m    389\u001b[0m \u001b[43m    \u001b[49m\u001b[43mnames\u001b[49m\u001b[38;5;241;43m=\u001b[39;49m\u001b[43mnames\u001b[49m\u001b[43m,\u001b[49m\n\u001b[1;32m    390\u001b[0m \u001b[43m    \u001b[49m\u001b[43mverify_integrity\u001b[49m\u001b[38;5;241;43m=\u001b[39;49m\u001b[43mverify_integrity\u001b[49m\u001b[43m,\u001b[49m\n\u001b[1;32m    391\u001b[0m \u001b[43m    \u001b[49m\u001b[43mcopy\u001b[49m\u001b[38;5;241;43m=\u001b[39;49m\u001b[43mcopy\u001b[49m\u001b[43m,\u001b[49m\n\u001b[1;32m    392\u001b[0m \u001b[43m    \u001b[49m\u001b[43msort\u001b[49m\u001b[38;5;241;43m=\u001b[39;49m\u001b[43msort\u001b[49m\u001b[43m,\u001b[49m\n\u001b[1;32m    393\u001b[0m \u001b[43m\u001b[49m\u001b[43m)\u001b[49m\n\u001b[1;32m    395\u001b[0m \u001b[38;5;28;01mreturn\u001b[39;00m op\u001b[38;5;241m.\u001b[39mget_result()\n",
      "File \u001b[0;32m~/miniforge3/envs/GFF_featurization/lib/python3.12/site-packages/pandas/core/reshape/concat.py:445\u001b[0m, in \u001b[0;36m_Concatenator.__init__\u001b[0;34m(self, objs, axis, join, keys, levels, names, ignore_index, verify_integrity, copy, sort)\u001b[0m\n\u001b[1;32m    442\u001b[0m \u001b[38;5;28mself\u001b[39m\u001b[38;5;241m.\u001b[39mverify_integrity \u001b[38;5;241m=\u001b[39m verify_integrity\n\u001b[1;32m    443\u001b[0m \u001b[38;5;28mself\u001b[39m\u001b[38;5;241m.\u001b[39mcopy \u001b[38;5;241m=\u001b[39m copy\n\u001b[0;32m--> 445\u001b[0m objs, keys \u001b[38;5;241m=\u001b[39m \u001b[38;5;28;43mself\u001b[39;49m\u001b[38;5;241;43m.\u001b[39;49m\u001b[43m_clean_keys_and_objs\u001b[49m\u001b[43m(\u001b[49m\u001b[43mobjs\u001b[49m\u001b[43m,\u001b[49m\u001b[43m \u001b[49m\u001b[43mkeys\u001b[49m\u001b[43m)\u001b[49m\n\u001b[1;32m    447\u001b[0m \u001b[38;5;66;03m# figure out what our result ndim is going to be\u001b[39;00m\n\u001b[1;32m    448\u001b[0m ndims \u001b[38;5;241m=\u001b[39m \u001b[38;5;28mself\u001b[39m\u001b[38;5;241m.\u001b[39m_get_ndims(objs)\n",
      "File \u001b[0;32m~/miniforge3/envs/GFF_featurization/lib/python3.12/site-packages/pandas/core/reshape/concat.py:507\u001b[0m, in \u001b[0;36m_Concatenator._clean_keys_and_objs\u001b[0;34m(self, objs, keys)\u001b[0m\n\u001b[1;32m    504\u001b[0m     objs_list \u001b[38;5;241m=\u001b[39m \u001b[38;5;28mlist\u001b[39m(objs)\n\u001b[1;32m    506\u001b[0m \u001b[38;5;28;01mif\u001b[39;00m \u001b[38;5;28mlen\u001b[39m(objs_list) \u001b[38;5;241m==\u001b[39m \u001b[38;5;241m0\u001b[39m:\n\u001b[0;32m--> 507\u001b[0m     \u001b[38;5;28;01mraise\u001b[39;00m \u001b[38;5;167;01mValueError\u001b[39;00m(\u001b[38;5;124m\"\u001b[39m\u001b[38;5;124mNo objects to concatenate\u001b[39m\u001b[38;5;124m\"\u001b[39m)\n\u001b[1;32m    509\u001b[0m \u001b[38;5;28;01mif\u001b[39;00m keys \u001b[38;5;129;01mis\u001b[39;00m \u001b[38;5;28;01mNone\u001b[39;00m:\n\u001b[1;32m    510\u001b[0m     objs_list \u001b[38;5;241m=\u001b[39m \u001b[38;5;28mlist\u001b[39m(com\u001b[38;5;241m.\u001b[39mnot_none(\u001b[38;5;241m*\u001b[39mobjs_list))\n",
      "\u001b[0;31mValueError\u001b[0m: No objects to concatenate"
     ]
    }
   ],
   "source": [
    "coloc_loader = TwoObjectLoader(\n",
    "    image_set_loader=image_set_loader,\n",
    "    compartment=compartment,\n",
    "    channel1=channel1,\n",
    "    channel2=channel2,\n",
    ")\n",
    "\n",
    "output_dir = pathlib.Path(\n",
    "    output_parent_path\n",
    "    / f\"Colocalization_{compartment}_{channel1}.{channel2}_{processor_type}_features.parquet\"\n",
    ")\n",
    "list_of_dfs = []\n",
    "for object_id in coloc_loader.object_ids:\n",
    "    if processor_type == \"CPU\":\n",
    "        cropped_image1, cropped_image2 = prepare_two_images_for_colocalization(\n",
    "            label_object1=coloc_loader.label_image,\n",
    "            label_object2=coloc_loader.label_image,\n",
    "            image_object1=coloc_loader.image1,\n",
    "            image_object2=coloc_loader.image2,\n",
    "            object_id1=object_id,\n",
    "            object_id2=object_id,\n",
    "        )\n",
    "        colocalization_features = measure_3D_colocalization(\n",
    "            cropped_image_1=cropped_image1,\n",
    "            cropped_image_2=cropped_image2,\n",
    "            thr=15,\n",
    "            fast_costes=\"Accurate\",\n",
    "        )\n",
    "    elif processor_type == \"GPU\":\n",
    "        cropped_image1, cropped_image2 = prepare_two_images_for_colocalization_gpu(\n",
    "            label_object1=coloc_loader.label_image,\n",
    "            label_object2=coloc_loader.label_image,\n",
    "            image_object1=coloc_loader.image1,\n",
    "            image_object2=coloc_loader.image2,\n",
    "            object_id1=object_id,\n",
    "            object_id2=object_id,\n",
    "        )\n",
    "        colocalization_features = measure_3D_colocalization_gpu(\n",
    "            cropped_image_1=cropped_image1,\n",
    "            cropped_image_2=cropped_image2,\n",
    "            thr=15,\n",
    "            fast_costes=\"Accurate\",\n",
    "        )\n",
    "    else:\n",
    "        raise ValueError(\n",
    "            f\"Processor type {processor_type} is not supported. Use 'CPU' or 'GPU'.\"\n",
    "        )\n",
    "    coloc_df = pd.DataFrame(colocalization_features, index=[0])\n",
    "    coloc_df.columns = [\n",
    "        f\"Colocalization_{compartment}_{channel1}.{channel2}_{col}\"\n",
    "        for col in coloc_df.columns\n",
    "    ]\n",
    "    # retype the columns to float32\n",
    "    for col in coloc_df.columns:\n",
    "        if col not in [\"object_id\", \"image_set\"]:\n",
    "            coloc_df[col] = coloc_df[col].astype(\"float32\")\n",
    "    coloc_df.insert(0, \"object_id\", object_id)\n",
    "    coloc_df.insert(1, \"image_set\", image_set_loader.image_set_name)\n",
    "    list_of_dfs.append(coloc_df)\n",
    "coloc_df = pd.concat(list_of_dfs, ignore_index=True)\n",
    "coloc_df.to_parquet(output_dir)"
   ]
  },
  {
   "cell_type": "code",
   "execution_count": null,
   "metadata": {},
   "outputs": [
    {
     "name": "stdout",
     "output_type": "stream",
     "text": [
      "\n",
      "        Memory and time profiling for the run:\n",
      "\n",
      "        Patient ID: NF0014\n",
      "\n",
      "        Well and FOV: C4-2\n",
      "\n",
      "        Feature type: Colocalization\n",
      "\n",
      "        CPU/GPU: GPU\")\n",
      "\n",
      "        Memory usage: 1021.68 MB\n",
      "\n",
      "        Time:\n",
      "\n",
      "        --- %s seconds --- % 60.75222849845886\n",
      "\n",
      "        --- %s minutes --- % 1.012537141640981\n",
      "\n",
      "        --- %s hours --- % 0.016875619027349683\n",
      "    \n"
     ]
    },
    {
     "data": {
      "text/plain": [
       "True"
      ]
     },
     "execution_count": 7,
     "metadata": {},
     "output_type": "execute_result"
    }
   ],
   "source": [
    "end_mem = psutil.Process(os.getpid()).memory_info().rss / 1024**2\n",
    "end_time = time.time()\n",
    "get_mem_and_time_profiling(\n",
    "    start_mem=start_mem,\n",
    "    end_mem=end_mem,\n",
    "    start_time=start_time,\n",
    "    end_time=end_time,\n",
    "    feature_type=\"Colocalization\",\n",
    "    well_fov=well_fov,\n",
    "    patient_id=patient,\n",
    "    channel=f\"{channel1}.{channel2}\",\n",
    "    compartment=compartment,\n",
    "    CPU_GPU=processor_type,\n",
    "    output_file_dir=pathlib.Path(\n",
    "        f\"{root_dir}/data/{patient}/extracted_features/run_stats/{well_fov}_Colocalization_{channel1}.{channel2}_{compartment}_{processor_type}.parquet\"\n",
    "    ),\n",
    ")"
   ]
  }
 ],
 "metadata": {
  "kernelspec": {
   "display_name": "GFF_featurization",
   "language": "python",
   "name": "python3"
  },
  "language_info": {
   "codemirror_mode": {
    "name": "ipython",
    "version": 3
   },
   "file_extension": ".py",
   "mimetype": "text/x-python",
   "name": "python",
   "nbconvert_exporter": "python",
   "pygments_lexer": "ipython3",
   "version": "3.12.9"
  }
 },
 "nbformat": 4,
 "nbformat_minor": 2
}
