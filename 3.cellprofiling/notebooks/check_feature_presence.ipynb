{
    "cells": [
        {
            "cell_type": "code",
            "execution_count": 1,
            "metadata": {},
            "outputs": [],
            "source": [
                "import argparse\n",
                "import pathlib\n",
                "import shutil\n",
                "import sys\n",
                "\n",
                "import numpy as np\n",
                "import pandas as pd\n",
                "import tqdm\n",
                "\n",
                "sys.path.append(str(pathlib.Path(\"../../utils\").resolve()))\n",
                "from file_checking import check_number_of_files\n",
                "\n",
                "try:\n",
                "    cfg = get_ipython().config\n",
                "    in_notebook = True\n",
                "except NameError:\n",
                "    in_notebook = False"
            ]
        },
        {
            "cell_type": "code",
            "execution_count": 2,
            "metadata": {},
            "outputs": [],
            "source": [
                "if not in_notebook:\n",
                "    argparser = argparse.ArgumentParser(\n",
                "        description=\"set up directories for the analysis of the data\"\n",
                "    )\n",
                "\n",
                "    argparser.add_argument(\n",
                "        \"--patient\",\n",
                "        type=str,\n",
                "        required=True,\n",
                "        help=\"patient name, e.g. 'P01'\",\n",
                "    )\n",
                "\n",
                "    argparser.add_argument(\n",
                "        \"--overwrite\",\n",
                "        action=\"store_true\",\n",
                "        help=\"overwrite existing directories\",\n",
                "    )\n",
                "\n",
                "    args = argparser.parse_args()\n",
                "    patient = args.patient\n",
                "else:\n",
                "    patient = \"NF0014\"\n",
                "    overwrite = False"
            ]
        },
        {
            "cell_type": "code",
            "execution_count": 3,
            "metadata": {},
            "outputs": [],
            "source": [
                "features_path = pathlib.Path(f\"../../data/{patient}/extracted_features/\").resolve(\n",
                "    strict=True\n",
                ")"
            ]
        },
        {
            "cell_type": "code",
            "execution_count": 4,
            "metadata": {},
            "outputs": [],
            "source": [
                "investigate_further = []"
            ]
        },
        {
            "cell_type": "code",
            "execution_count": 5,
            "metadata": {},
            "outputs": [
                {
                    "name": "stderr",
                    "output_type": "stream",
                    "text": [
                        "100%|\u2588\u2588\u2588\u2588\u2588\u2588\u2588\u2588\u2588\u2588| 105/105 [00:00<00:00, 1580.08it/s]"
                    ]
                },
                {
                    "name": "stdout",
                    "output_type": "stream",
                    "text": [
                        "C2-1 expected 105 files, but found 95 files.\n",
                        "C6-2 expected 105 files, but found 98 files.\n",
                        "D10-2 expected 105 files, but found 103 files.\n",
                        "D11-1 expected 105 files, but found 100 files.\n",
                        "D11-2 expected 105 files, but found 85 files.\n",
                        "D4-1 expected 105 files, but found 96 files.\n",
                        "D6-1 expected 105 files, but found 102 files.\n",
                        "D7-1 expected 105 files, but found 101 files.\n",
                        "D9-1 expected 105 files, but found 101 files.\n",
                        "D9-2 expected 105 files, but found 99 files.\n",
                        "D9-3 expected 105 files, but found 100 files.\n",
                        "E10-2 expected 105 files, but found 65 files.\n",
                        "E4-1 expected 105 files, but found 100 files.\n",
                        "E4-2 expected 105 files, but found 103 files.\n",
                        "E6-1 expected 105 files, but found 98 files.\n",
                        "E8-2 expected 105 files, but found 83 files.\n",
                        "E9-1 expected 105 files, but found 103 files.\n",
                        "F10-1 expected 105 files, but found 96 files.\n",
                        "F10-2 expected 105 files, but found 101 files.\n",
                        "F11-1 expected 105 files, but found 98 files.\n",
                        "F3-1 expected 105 files, but found 103 files.\n",
                        "F4-1 expected 105 files, but found 102 files.\n",
                        "F4-2 expected 105 files, but found 96 files.\n",
                        "F4-3 expected 105 files, but found 103 files.\n",
                        "F5-1 expected 105 files, but found 103 files.\n",
                        "F6-1 expected 105 files, but found 102 files.\n",
                        "F6-2 expected 105 files, but found 97 files.\n",
                        "F7-2 expected 105 files, but found 102 files.\n",
                        "F8-2 expected 105 files, but found 101 files.\n",
                        "F9-2 expected 105 files, but found 100 files.\n",
                        "G10-1 expected 105 files, but found 98 files.\n",
                        "G10-3 expected 105 files, but found 104 files.\n",
                        "G2-2 expected 105 files, but found 95 files.\n",
                        "G3-1 expected 105 files, but found 101 files.\n",
                        "G9-1 expected 105 files, but found 99 files.\n",
                        "G9-2 expected 105 files, but found 96 files.\n",
                        "run_stats expected 624 files, but found 582 files.\n",
                        "Found 36 directories that are not complete...\n"
                    ]
                },
                {
                    "name": "stderr",
                    "output_type": "stream",
                    "text": [
                        "\n"
                    ]
                }
            ],
            "source": [
                "well_fovs = [x for x in features_path.iterdir() if x.is_dir()]\n",
                "well_fovs = sorted(well_fovs)\n",
                "for dir in tqdm.tqdm(well_fovs):\n",
                "    if \"stats\" in dir.name:\n",
                "        check_number_of_files(dir, ((len(well_fovs) - 1) * 6))\n",
                "    else:\n",
                "        if not check_number_of_files(dir, 105):\n",
                "            investigate_further.append(dir)\n",
                "print(f\"Found {len(investigate_further)} directories that are not complete...\")"
            ]
        },
        {
            "cell_type": "code",
            "execution_count": 6,
            "metadata": {},
            "outputs": [],
            "source": [
                "rerun_dict = {\n",
                "    \"AreaSizeShape\": [],\n",
                "    \"Colocalization\": [],\n",
                "    \"Granularity\": [],\n",
                "    \"Intensity\": [],\n",
                "    \"Neighbors\": [],\n",
                "    \"Texture\": [],\n",
                "}"
            ]
        },
        {
            "cell_type": "code",
            "execution_count": 7,
            "metadata": {},
            "outputs": [],
            "source": [
                "files = {\n",
                "    \"patient\": [],\n",
                "    \"well_fov\": [],\n",
                "    \"file\": [],\n",
                "}\n",
                "for dir in investigate_further:\n",
                "    # get all files in the directory\n",
                "    files_in_dir = sorted(dir.glob(\"*\"))\n",
                "    for file in files_in_dir:\n",
                "        if file.is_file():\n",
                "            files[\"patient\"].append(patient)\n",
                "            files[\"well_fov\"].append(dir.name)\n",
                "            files[\"file\"].append(file.name)\n",
                "df = pd.DataFrame(files)\n",
                "df[\"Type\"] = df[\"file\"].apply(lambda x: x.split(\"_\")[0])\n",
                "df = df.groupby([\"well_fov\", \"Type\"]).count().reset_index()"
            ]
        },
        {
            "cell_type": "code",
            "execution_count": 8,
            "metadata": {},
            "outputs": [],
            "source": [
                "# filter for rows that have AreaSize < 4\n",
                "rerun_dict[\"AreaSizeShape\"] = df[(df[\"file\"] < 4) & (df[\"Type\"] == \"AreaSizeShape\")][\n",
                "    \"well_fov\"\n",
                "].to_list()\n",
                "rerun_dict[\"Colocalization\"] = df[(df[\"file\"] < 40) & (df[\"Type\"] == \"Colocalization\")][\n",
                "    \"well_fov\"\n",
                "].to_list()\n",
                "rerun_dict[\"Granularity\"] = df[(df[\"file\"] < 20) & (df[\"Type\"] == \"Granularity\")][\n",
                "    \"well_fov\"\n",
                "].to_list()\n",
                "rerun_dict[\"Intensity\"] = df[(df[\"file\"] < 20) & (df[\"Type\"] == \"Intensity\")][\n",
                "    \"well_fov\"\n",
                "].to_list()\n",
                "rerun_dict[\"Neighbors\"] = df[(df[\"file\"] < 1) & (df[\"Type\"] == \"Neighbors\")][\n",
                "    \"well_fov\"\n",
                "].to_list()"
            ]
        },
        {
            "cell_type": "code",
            "execution_count": 9,
            "metadata": {},
            "outputs": [
                {
                    "data": {
                        "text/plain": [
                            "{'AreaSizeShape': [],\n",
                            " 'Colocalization': ['C2-1', 'D11-2', 'E8-2', 'F10-1', 'G2-2'],\n",
                            " 'Granularity': [],\n",
                            " 'Intensity': ['C6-2',\n",
                            "  'D10-2',\n",
                            "  'D11-1',\n",
                            "  'D11-2',\n",
                            "  'D4-1',\n",
                            "  'D6-1',\n",
                            "  'D7-1',\n",
                            "  'D9-1',\n",
                            "  'D9-2',\n",
                            "  'D9-3',\n",
                            "  'E4-1',\n",
                            "  'E4-2',\n",
                            "  'E6-1',\n",
                            "  'E8-2',\n",
                            "  'E9-1',\n",
                            "  'F10-1',\n",
                            "  'F10-2',\n",
                            "  'F11-1',\n",
                            "  'F3-1',\n",
                            "  'F4-1',\n",
                            "  'F4-2',\n",
                            "  'F4-3',\n",
                            "  'F5-1',\n",
                            "  'F6-1',\n",
                            "  'F6-2',\n",
                            "  'F7-2',\n",
                            "  'F8-2',\n",
                            "  'F9-2',\n",
                            "  'G10-1',\n",
                            "  'G10-3',\n",
                            "  'G3-1',\n",
                            "  'G9-1',\n",
                            "  'G9-2'],\n",
                            " 'Neighbors': [],\n",
                            " 'Texture': []}"
                        ]
                    },
                    "execution_count": 9,
                    "metadata": {},
                    "output_type": "execute_result"
                }
            ],
            "source": [
                "rerun_dict"
            ]
        }
    ],
    "metadata": {
        "kernelspec": {
            "display_name": "GFF_featurization",
            "language": "python",
            "name": "python3"
        },
        "language_info": {
            "codemirror_mode": {
                "name": "ipython",
                "version": 3
            },
            "file_extension": ".py",
            "mimetype": "text/x-python",
            "name": "python",
            "nbconvert_exporter": "python",
            "pygments_lexer": "ipython3",
            "version": "3.12.9"
        }
    },
    "nbformat": 4,
    "nbformat_minor": 2
}
