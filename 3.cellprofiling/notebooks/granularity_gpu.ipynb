{
    "cells": [
        {
            "cell_type": "code",
            "execution_count": 1,
            "metadata": {},
            "outputs": [],
            "source": [
                "import argparse\n",
                "import os\n",
                "import pathlib\n",
                "import sys\n",
                "import time\n",
                "\n",
                "import psutil\n",
                "\n",
                "sys.path.append(\"../featurization_utils\")\n",
                "import os\n",
                "from typing import Dict\n",
                "\n",
                "import cucim\n",
                "import cucim.skimage.morphology\n",
                "import cupy as cp\n",
                "import cupyx.scipy.ndimage\n",
                "import numpy\n",
                "import numpy as np\n",
                "import pandas as pd\n",
                "import psutil\n",
                "import scipy\n",
                "import skimage\n",
                "import tqdm\n",
                "from granularity_utils import measure_3D_granularity_gpu\n",
                "from loading_classes import ImageSetLoader, ObjectLoader\n",
                "from resource_profiling_util import get_mem_and_time_profiling\n",
                "\n",
                "try:\n",
                "    cfg = get_ipython().config\n",
                "    in_notebook = True\n",
                "except NameError:\n",
                "    in_notebook = False\n",
                "if in_notebook:\n",
                "    from tqdm.notebook import tqdm\n",
                "else:\n",
                "    from tqdm import tqdm"
            ]
        },
        {
            "cell_type": "code",
            "execution_count": null,
            "metadata": {},
            "outputs": [],
            "source": [
                "if not in_notebook:\n",
                "    argparser = argparse.ArgumentParser()\n",
                "    argparser.add_argument(\n",
                "        \"--well_fov\",\n",
                "        type=str,\n",
                "        default=\"None\",\n",
                "        help=\"Well and field of view to process, e.g. 'A01_1'\",\n",
                "    )\n",
                "\n",
                "    argparser.add_argument(\n",
                "        \"--patient\",\n",
                "        type=str,\n",
                "        help=\"Patient ID, e.g. 'NF0014'\",\n",
                "    )\n",
                "\n",
                "    args = argparser.parse_args()\n",
                "    well_fov = args.well_fov\n",
                "    patient = args.patient\n",
                "    if well_fov == \"None\":\n",
                "        raise ValueError(\n",
                "            \"Please provide a well and field of view to process, e.g. 'A01_1'\"\n",
                "        )\n",
                "\n",
                "else:\n",
                "    well_fov = \"C4-2\"\n",
                "    patient = \"NF0014\"\n",
                "\n",
                "image_set_path = pathlib.Path(f\"../../data/{patient}/cellprofiler/{well_fov}/\")\n",
                "output_parent_path = pathlib.Path(\n",
                "    f\"../../data/{patient}/extracted_features/{well_fov}/\"\n",
                ")\n",
                "output_parent_path.mkdir(parents=True, exist_ok=True)"
            ]
        },
        {
            "cell_type": "code",
            "execution_count": 3,
            "metadata": {},
            "outputs": [],
            "source": [
                "channel_mapping = {\n",
                "    \"DNA\": \"405\",\n",
                "    \"AGP\": \"488\",\n",
                "    \"ER\": \"555\",\n",
                "    \"Mito\": \"640\",\n",
                "    \"BF\": \"TRANS\",\n",
                "    \"Nuclei\": \"nuclei_\",\n",
                "    \"Cell\": \"cell_\",\n",
                "    \"Cytoplasm\": \"cytoplasm_\",\n",
                "    \"Organoid\": \"organoid_\",\n",
                "}"
            ]
        },
        {
            "cell_type": "code",
            "execution_count": 5,
            "metadata": {},
            "outputs": [],
            "source": [
                "start_time = time.time()\n",
                "# get starting memory (cpu)\n",
                "start_mem = psutil.Process(os.getpid()).memory_info().rss / 1024**2"
            ]
        },
        {
            "cell_type": "code",
            "execution_count": 4,
            "metadata": {},
            "outputs": [],
            "source": [
                "image_set_loader = ImageSetLoader(\n",
                "    image_set_path=image_set_path,\n",
                "    anisotropy_spacing=(1, 0.1, 0.1),\n",
                "    channel_mapping=channel_mapping,\n",
                ")"
            ]
        },
        {
            "cell_type": "code",
            "execution_count": null,
            "metadata": {},
            "outputs": [
                {
                    "data": {
                        "application/vnd.jupyter.widget-view+json": {
                            "model_id": "279f1763750e4591bf8e0b29dca0f122",
                            "version_major": 2,
                            "version_minor": 0
                        },
                        "text/plain": [
                            "Processing compartments:   0%|          | 0/4 [00:00<?, ?it/s]"
                        ]
                    },
                    "metadata": {},
                    "output_type": "display_data"
                },
                {
                    "data": {
                        "application/vnd.jupyter.widget-view+json": {
                            "model_id": "c73cf6bc993b4bcb808d81b1154f7075",
                            "version_major": 2,
                            "version_minor": 0
                        },
                        "text/plain": [
                            "Processing channels:   0%|          | 0/5 [00:00<?, ?it/s]"
                        ]
                    },
                    "metadata": {},
                    "output_type": "display_data"
                }
            ],
            "source": [
                "for compartment in tqdm(\n",
                "    image_set_loader.compartments, desc=\"Processing compartments\", position=0\n",
                "):\n",
                "    for channel in tqdm(\n",
                "        image_set_loader.image_names,\n",
                "        desc=\"Processing channels\",\n",
                "        leave=False,\n",
                "        position=1,\n",
                "    ):\n",
                "        channel = \"DNA\"\n",
                "        compartment = \"Nuclei\"\n",
                "\n",
                "        object_loader = ObjectLoader(\n",
                "            image_set_loader.image_set_dict[channel],\n",
                "            image_set_loader.image_set_dict[compartment],\n",
                "            channel,\n",
                "            compartment,\n",
                "        )\n",
                "        object_measurements = measure_3D_granularity_gpu(\n",
                "            object_loader=object_loader,\n",
                "            image_set_loader=image_set_loader,\n",
                "            radius=20,\n",
                "            granular_spectrum_length=16,\n",
                "            subsample_size=0.25,\n",
                "            image_name=object_loader.channel,\n",
                "        )\n",
                "        final_df = pd.DataFrame(object_measurements)\n",
                "        # get the mean of each value in the array\n",
                "        # melt the dataframe to wide format\n",
                "        final_df = final_df.pivot_table(\n",
                "            index=[\"object_id\"], columns=[\"feature\"], values=[\"value\"]\n",
                "        )\n",
                "        final_df.columns = final_df.columns.droplevel()\n",
                "        final_df = final_df.reset_index()\n",
                "        # prepend compartment and channel to column names\n",
                "        for col in final_df.columns:\n",
                "            if col == \"object_id\":\n",
                "                continue\n",
                "            else:\n",
                "                final_df.rename(\n",
                "                    columns={col: f\"Granularity_{compartment}_{channel}_{col}\"},\n",
                "                    inplace=True,\n",
                "                )\n",
                "        final_df.insert(0, \"image_set\", image_set_loader.image_set_name)\n",
                "\n",
                "        output_file = pathlib.Path(\n",
                "            output_parent_path / f\"Granularity_{compartment}_{channel}_features.parquet\"\n",
                "        )\n",
                "        output_file.parent.mkdir(parents=True, exist_ok=True)\n",
                "        final_df.to_parquet(output_file)\n",
                "        final_df.head()"
            ]
        },
        {
            "cell_type": "code",
            "execution_count": null,
            "metadata": {},
            "outputs": [],
            "source": [
                "end_mem = psutil.Process(os.getpid()).memory_info().rss / 1024**2\n",
                "end_time = time.time()\n",
                "get_mem_and_time_profiling(\n",
                "    start_mem=start_mem,\n",
                "    end_mem=end_mem,\n",
                "    start_time=start_time,\n",
                "    end_time=end_time,\n",
                "    feature_type=\"Granularity\",\n",
                "    well_fov=well_fov,\n",
                "    CPU_GPU=\"GPU\",\n",
                ")"
            ]
        }
    ],
    "metadata": {
        "kernelspec": {
            "display_name": "GFF_featurization",
            "language": "python",
            "name": "python3"
        },
        "language_info": {
            "codemirror_mode": {
                "name": "ipython",
                "version": 3
            },
            "file_extension": ".py",
            "mimetype": "text/x-python",
            "name": "python",
            "nbconvert_exporter": "python",
            "pygments_lexer": "ipython3",
            "version": "3.12.9"
        }
    },
    "nbformat": 4,
    "nbformat_minor": 2
}
