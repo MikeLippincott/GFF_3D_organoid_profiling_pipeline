{
    "cells": [
        {
            "cell_type": "markdown",
            "metadata": {},
            "source": [
                "# 3D feature extraction of Cell Painting performed on organoids "
            ]
        },
        {
            "cell_type": "markdown",
            "metadata": {},
            "source": [
                "This notebook aims to explain ans walkthrough what features are being extracted and how they are extracted.\n",
                "These features are 3D features extracted from 3D image sets.\n",
                "Where an image set is a collection of 3D images that are images of the same object but from using different light spectra."
            ]
        },
        {
            "cell_type": "markdown",
            "metadata": {},
            "source": [
                "An overview of how the features are extracted is shown in the following diagram:\n",
                "![Feature Extraction Overview](../diagram/Featuization.png)"
            ]
        },
        {
            "cell_type": "markdown",
            "metadata": {},
            "source": [
                "## The process\n",
                "The process of featurization is adapted from a Cellprofiler pipeline approach and standard image-based profiling practices. \n",
                "The 3D image sets are segmented into objects:\n",
                "* Organoid\n",
                "* Nucleus\n",
                "* Cell\n",
                "* Cytoplasm\n",
                "\n",
                "The objects are then used to extract features.\n",
                "Where a feature is a measurement within the segmented object.\n",
                "The feature extraction is performed using python libraries such as:\n",
                "* [scikit-image](https://scikit-image.org/)\n",
                "* [scipy](https://www.scipy.org/)\n",
                "* [mahotas](https://mahotas.readthedocs.io/en/latest/)\n",
                "* [numpy](https://numpy.org/)\n",
                "* [cupy](https://docs.cupy.dev/en/stable/)\n",
                "* [cucim](https://docs.rapids.ai/api/cucim/stable/)\n",
                "\n",
                "The code is adapted and trimmed down to a more functional (as opposed to Object Oriented) approach from [Cellprofiler](https://cellprofiler.org/).\n",
                "The code is adapted to reduce the number of list declarations and use generators instead.\n",
                "The code is also written to be distributed across multiple CPU cores, and to be run on separate CPUs across image sets.\n",
                "The idea is to run a single image set object - channel combination feature extraction method on a single CPU core.\n",
                "In the case where a compute cluster is not available, the code has also been adapted to run on a single GPU for increased performance.\n",
                "\n",
                "So what are the features we are extracting?"
            ]
        },
        {
            "cell_type": "markdown",
            "metadata": {},
            "source": [
                "## Feature types:\n",
                "While some feature types are quite intuitive, others are not."
            ]
        },
        {
            "cell_type": "code",
            "execution_count": 1,
            "metadata": {},
            "outputs": [],
            "source": [
                "import pathlib\n",
                "\n",
                "import duckdb\n",
                "import pandas as pd\n",
                "from IPython.display import Markdown, display"
            ]
        },
        {
            "cell_type": "code",
            "execution_count": 2,
            "metadata": {},
            "outputs": [],
            "source": [
                "path_to_db = pathlib.Path(\"../../data/NF0014/converted_profiles/C4-2.sqlite\").resolve(\n",
                "    strict=True\n",
                ")\n",
                "conn = duckdb.connect(path_to_db)\n",
                "\n",
                "# read the schema\n",
                "df = conn.execute(\"SELECT * FROM Nuclei\").fetchdf()\n",
                "columns = df.columns"
            ]
        },
        {
            "cell_type": "code",
            "execution_count": 3,
            "metadata": {},
            "outputs": [],
            "source": [
                "# remove the object_id and image_set from the columns list\n",
                "columns = [col for col in columns if col not in [\"object_id\", \"image_set\"]]\n",
                "# make the columns a df\n",
                "df = pd.DataFrame(columns)\n",
                "df[\n",
                "    [\n",
                "        \"feature_type\",\n",
                "        \"Compartment\",\n",
                "        \"Channel\",\n",
                "        \"Meaurement\",\n",
                "        \"Extra1\",\n",
                "        \"Extra2\",\n",
                "        \"Extra3\",\n",
                "    ]\n",
                "] = df[0].str.split(\"_\", expand=True)\n",
                "df.drop(columns=[\"Extra1\", \"Extra2\", \"Extra3\"], inplace=True)"
            ]
        },
        {
            "cell_type": "code",
            "execution_count": 4,
            "metadata": {},
            "outputs": [
                {
                    "name": "stdout",
                    "output_type": "stream",
                    "text": [
                        "95\n"
                    ]
                }
            ],
            "source": [
                "# if the feature type is texture, then merge the compartment and channel columns into the measurement column\n",
                "df.loc[df[\"feature_type\"] == \"Texture\", \"Meaurement\"] = (\n",
                "    df.loc[df[\"feature_type\"] == \"Texture\", \"Compartment\"]\n",
                "    + \"_\"\n",
                "    + df.loc[df[\"feature_type\"] == \"Texture\", \"Channel\"]\n",
                ")\n",
                "df.drop(columns=[0, \"Compartment\", \"Channel\"], inplace=True)\n",
                "df.drop_duplicates(inplace=True)\n",
                "df.reset_index(drop=True, inplace=True)\n",
                "colocalization_feature_count = df.loc[df[\"feature_type\"] == \"Colocalization\"].shape[0]\n",
                "# the rest of the features count\n",
                "rest_feature_count = df.shape[0] - colocalization_feature_count - 2  # 2 for neighbors\n",
                "print(len(df))\n",
                "areasizeshape_features = df.loc[df[\"feature_type\"] == \"Area.Size.Shape\"].to_markdown(\n",
                "    index=False\n",
                ")\n",
                "colocalization_features = df.loc[df[\"feature_type\"] == \"Colocalization\"].to_markdown(\n",
                "    index=False\n",
                ")\n",
                "intensity_features = df.loc[df[\"feature_type\"] == \"Intensity\"].to_markdown(index=False)\n",
                "granularity_features = df.loc[df[\"feature_type\"] == \"Granularity\"].to_markdown(\n",
                "    index=False\n",
                ")\n",
                "neighbors_features = df.loc[df[\"feature_type\"] == \"NEIGHBORS\"].to_markdown(index=False)\n",
                "texture_features = df.loc[df[\"feature_type\"] == \"Texture\"].to_markdown(index=False)"
            ]
        },
        {
            "cell_type": "markdown",
            "metadata": {},
            "source": [
                "### AreaSizeShape features"
            ]
        },
        {
            "cell_type": "code",
            "execution_count": 5,
            "metadata": {},
            "outputs": [
                {
                    "data": {
                        "text/markdown": [
                            "| feature_type    | Meaurement          |\n",
                            "|:----------------|:--------------------|\n",
                            "| Area.Size.Shape | VOLUME              |\n",
                            "| Area.Size.Shape | CENTER.X            |\n",
                            "| Area.Size.Shape | CENTER.Y            |\n",
                            "| Area.Size.Shape | CENTER.Z            |\n",
                            "| Area.Size.Shape | BBOX.VOLUME         |\n",
                            "| Area.Size.Shape | MIN.X               |\n",
                            "| Area.Size.Shape | MAX.X               |\n",
                            "| Area.Size.Shape | MIN.Y               |\n",
                            "| Area.Size.Shape | MAX.Y               |\n",
                            "| Area.Size.Shape | MIN.Z               |\n",
                            "| Area.Size.Shape | MAX.Z               |\n",
                            "| Area.Size.Shape | EXTENT              |\n",
                            "| Area.Size.Shape | EULER.NUMBER        |\n",
                            "| Area.Size.Shape | EQUIVALENT.DIAMETER |\n",
                            "| Area.Size.Shape | SURFACE.AREA        |"
                        ],
                        "text/plain": [
                            "<IPython.core.display.Markdown object>"
                        ]
                    },
                    "metadata": {},
                    "output_type": "display_data"
                }
            ],
            "source": [
                "display(Markdown(areasizeshape_features))"
            ]
        },
        {
            "cell_type": "markdown",
            "metadata": {},
            "source": [
                "The AreaSizeShape features are a collection of features that are related to the size and shape of the object.\n",
                "These are calculated by generating a 3D mesh of the object and calculating the volume, surface area, and other shape features.\n",
                "This is a mesh and voxel based approach."
            ]
        },
        {
            "cell_type": "markdown",
            "metadata": {},
            "source": [
                "### Colocalization features"
            ]
        },
        {
            "cell_type": "code",
            "execution_count": 6,
            "metadata": {},
            "outputs": [
                {
                    "data": {
                        "text/markdown": [
                            "| feature_type   | Meaurement                     |\n",
                            "|:---------------|:-------------------------------|\n",
                            "| Colocalization | MEAN.CORRELATION.COEFF         |\n",
                            "| Colocalization | MEDIAN.CORRELATION.COEFF       |\n",
                            "| Colocalization | MIN.CORRELATION.COEFF          |\n",
                            "| Colocalization | MAX.CORRELATION.COEFF          |\n",
                            "| Colocalization | MEAN.MANDERS.COEFF.M1          |\n",
                            "| Colocalization | MEDIAN.MANDERS.COEFF.M1        |\n",
                            "| Colocalization | MIN.MANDERS.COEFF.M1           |\n",
                            "| Colocalization | MAX.MANDERS.COEFF.M1           |\n",
                            "| Colocalization | MEAN.MANDERS.COEFF.M2          |\n",
                            "| Colocalization | MEDIAN.MANDERS.COEFF.M2        |\n",
                            "| Colocalization | MIN.MANDERS.COEFF.M2           |\n",
                            "| Colocalization | MAX.MANDERS.COEFF.M2           |\n",
                            "| Colocalization | MEAN.OVERLAP.COEFF             |\n",
                            "| Colocalization | MEDIAN.OVERLAP.COEFF           |\n",
                            "| Colocalization | MIN.OVERLAP.COEFF              |\n",
                            "| Colocalization | MAX.OVERLAP.COEFF              |\n",
                            "| Colocalization | MEAN.K1                        |\n",
                            "| Colocalization | MEDIAN.K1                      |\n",
                            "| Colocalization | MIN.K1                         |\n",
                            "| Colocalization | MAX.K1                         |\n",
                            "| Colocalization | MEAN.K2                        |\n",
                            "| Colocalization | MEDIAN.K2                      |\n",
                            "| Colocalization | MIN.K2                         |\n",
                            "| Colocalization | MAX.K2                         |\n",
                            "| Colocalization | MEAN.MANDERS.COEFF.COSTES.M1   |\n",
                            "| Colocalization | MEDIAN.MANDERS.COEFF.COSTES.M1 |\n",
                            "| Colocalization | MIN.MANDERS.COEFF.COSTES.M1    |\n",
                            "| Colocalization | MAX.MANDERS.COEFF.COSTES.M1    |\n",
                            "| Colocalization | MEAN.MANDERS.COEFF.COSTES.M2   |\n",
                            "| Colocalization | MEDIAN.MANDERS.COEFF.COSTES.M2 |\n",
                            "| Colocalization | MIN.MANDERS.COEFF.COSTES.M2    |\n",
                            "| Colocalization | MAX.MANDERS.COEFF.COSTES.M2    |"
                        ],
                        "text/plain": [
                            "<IPython.core.display.Markdown object>"
                        ]
                    },
                    "metadata": {},
                    "output_type": "display_data"
                }
            ],
            "source": [
                "display(Markdown(colocalization_features))"
            ]
        },
        {
            "cell_type": "markdown",
            "metadata": {},
            "source": [
                "For coloaclization features, we calulate the features by using two different sprectra and the same object.\n",
                "Example:\n",
                "* Organoid - DAPI and Phalloidin - calculate the colocalization features between the two spectra."
            ]
        },
        {
            "cell_type": "markdown",
            "metadata": {},
            "source": [
                "### Granularity features"
            ]
        },
        {
            "cell_type": "code",
            "execution_count": 7,
            "metadata": {},
            "outputs": [
                {
                    "data": {
                        "text/markdown": [
                            "| feature_type   | Meaurement    |\n",
                            "|:---------------|:--------------|\n",
                            "| Granularity    | GRANULARITY.1 |"
                        ],
                        "text/plain": [
                            "<IPython.core.display.Markdown object>"
                        ]
                    },
                    "metadata": {},
                    "output_type": "display_data"
                }
            ],
            "source": [
                "display(Markdown(granularity_features))"
            ]
        },
        {
            "cell_type": "markdown",
            "metadata": {},
            "source": [
                "Note that granularity is calulated over a granularity spectrum in this case from 1 to 16. \n",
                "Different features will be extracted at different granularity spectra."
            ]
        },
        {
            "cell_type": "markdown",
            "metadata": {},
            "source": [
                "### Intensity features"
            ]
        },
        {
            "cell_type": "code",
            "execution_count": 8,
            "metadata": {},
            "outputs": [
                {
                    "data": {
                        "text/markdown": [
                            "| feature_type   | Meaurement                |\n",
                            "|:---------------|:--------------------------|\n",
                            "| Intensity      | CM.X                      |\n",
                            "| Intensity      | CM.Y                      |\n",
                            "| Intensity      | CM.Z                      |\n",
                            "| Intensity      | CMI.X                     |\n",
                            "| Intensity      | CMI.Y                     |\n",
                            "| Intensity      | CMI.Z                     |\n",
                            "| Intensity      | DIFF.X                    |\n",
                            "| Intensity      | DIFF.Y                    |\n",
                            "| Intensity      | DIFF.Z                    |\n",
                            "| Intensity      | EDGE.COUNT                |\n",
                            "| Intensity      | I.X                       |\n",
                            "| Intensity      | I.Y                       |\n",
                            "| Intensity      | I.Z                       |\n",
                            "| Intensity      | INTEGRATED.INTENSITY      |\n",
                            "| Intensity      | INTEGRATED.INTENSITY.EDGE |\n",
                            "| Intensity      | LOWER.QUARTILE.INTENSITY  |\n",
                            "| Intensity      | MAD.INTENSITY             |\n",
                            "| Intensity      | MASS.DISPLACEMENT         |\n",
                            "| Intensity      | MAX.INTENSITY             |\n",
                            "| Intensity      | MAX.INTENSITY.EDGE        |\n",
                            "| Intensity      | MAX.X                     |\n",
                            "| Intensity      | MAX.Y                     |\n",
                            "| Intensity      | MAX.Z                     |\n",
                            "| Intensity      | MEAN.INTENSITY            |\n",
                            "| Intensity      | MEAN.INTENSITY.EDGE       |\n",
                            "| Intensity      | MEDIAN.INTENSITY          |\n",
                            "| Intensity      | MIN.INTENSITY             |\n",
                            "| Intensity      | MIN.INTENSITY.EDGE        |\n",
                            "| Intensity      | STD.INTENSITY             |\n",
                            "| Intensity      | STD.INTENSITY.EDGE        |\n",
                            "| Intensity      | UPPER.QUARTILE.INTENSITY  |\n",
                            "| Intensity      | VOLUME                    |"
                        ],
                        "text/plain": [
                            "<IPython.core.display.Markdown object>"
                        ]
                    },
                    "metadata": {},
                    "output_type": "display_data"
                }
            ],
            "source": [
                "display(Markdown(intensity_features))"
            ]
        },
        {
            "cell_type": "markdown",
            "metadata": {},
            "source": [
                "Note that the intensity features are extracted from the 3D voxel data."
            ]
        },
        {
            "cell_type": "markdown",
            "metadata": {},
            "source": [
                "### Neighbors features"
            ]
        },
        {
            "cell_type": "code",
            "execution_count": 9,
            "metadata": {},
            "outputs": [
                {
                    "data": {
                        "text/markdown": [
                            "| feature_type   | Meaurement   |\n",
                            "|----------------|--------------|"
                        ],
                        "text/plain": [
                            "<IPython.core.display.Markdown object>"
                        ]
                    },
                    "metadata": {},
                    "output_type": "display_data"
                }
            ],
            "source": [
                "display(Markdown(neighbors_features))"
            ]
        },
        {
            "cell_type": "markdown",
            "metadata": {},
            "source": [
                "### Texture features"
            ]
        },
        {
            "cell_type": "code",
            "execution_count": 10,
            "metadata": {},
            "outputs": [
                {
                    "data": {
                        "text/markdown": [
                            "| feature_type   | Meaurement                                 |\n",
                            "|:---------------|:-------------------------------------------|\n",
                            "| Texture        | Angular.Second.Moment_256.1                |\n",
                            "| Texture        | Contrast_256.1                             |\n",
                            "| Texture        | Correlation_256.1                          |\n",
                            "| Texture        | Difference.Entropy_256.1                   |\n",
                            "| Texture        | Difference.Variance_256.1                  |\n",
                            "| Texture        | Entropy_256.1                              |\n",
                            "| Texture        | Information.Measure.of.Correlation.1_256.1 |\n",
                            "| Texture        | Information.Measure.of.Correlation.2_256.1 |\n",
                            "| Texture        | Inverse.Difference.Moment_256.1            |\n",
                            "| Texture        | Sum.Average_256.1                          |\n",
                            "| Texture        | Sum.Entropy_256.1                          |\n",
                            "| Texture        | Sum.Variance_256.1                         |\n",
                            "| Texture        | Variance_256.1                             |"
                        ],
                        "text/plain": [
                            "<IPython.core.display.Markdown object>"
                        ]
                    },
                    "metadata": {},
                    "output_type": "display_data"
                }
            ],
            "source": [
                "display(Markdown(texture_features))"
            ]
        },
        {
            "cell_type": "markdown",
            "metadata": {},
            "source": [
                "Note for texture features there are two parameters for which texture features are calculated:\n",
                "* The number of gray levels used to caculate the cooccurence matrix (here it is set to 256)\n",
                "* The offset used to calculate the cooccurence matrix (here it is set to 1)\n",
                "\n",
                "Using different offsets will yield different results and inform the user about different texture features."
            ]
        },
        {
            "cell_type": "markdown",
            "metadata": {},
            "source": [
                "There are $n_{features\\_per\\_object}$ different total features extracted for each object - channel combination.\n",
                "Therefore we can say that the number of features extracted is:\n",
                "### $$n_{features} = n_{objects} * n_{channels} * n_{features\\_per\\_object}$$\n",
                "With the exception of the colocalization features which are extracted from a object - (channel - channel) combination.\n",
                "### $$n_{features} = n_{objects} * \\frac{n_{channels} * (n_{channels} - 1)}{2} * n_{features\\_per\\_object}$$\n",
                "Where:\n",
                "* #### $n_{features}$ is the total number of features extracted\n",
                "* #### $n_{objects}$ is the number types of objects segmented e.g. Organoid, Nucleus, Cell, Cytoplasm\n",
                "* #### $n_{channels}$ is the number of channels in the image \n",
                "* #### $n_{features\\_per\\_object}$ is the number of features extracted per object"
            ]
        },
        {
            "cell_type": "code",
            "execution_count": 11,
            "metadata": {},
            "outputs": [
                {
                    "name": "stdout",
                    "output_type": "stream",
                    "text": [
                        "Total theoretical features: 2502\n"
                    ]
                }
            ],
            "source": [
                "n_channels = 5\n",
                "n_object_types = 4\n",
                "colocalization_features_total = (\n",
                "    colocalization_feature_count\n",
                "    * ((n_channels * (n_channels - 1)) / 2)\n",
                "    * n_object_types\n",
                ")\n",
                "neighbors_features = 2\n",
                "rest_feature_total = rest_feature_count * n_channels * n_object_types\n",
                "total_features = int(\n",
                "    colocalization_features_total + rest_feature_total + neighbors_features\n",
                ")\n",
                "print(f\"Total theoretical features: {total_features}\")"
            ]
        }
    ],
    "metadata": {
        "kernelspec": {
            "display_name": "nf1_image_based_profiling_env",
            "language": "python",
            "name": "python3"
        },
        "language_info": {
            "codemirror_mode": {
                "name": "ipython",
                "version": 3
            },
            "file_extension": ".py",
            "mimetype": "text/x-python",
            "name": "python",
            "nbconvert_exporter": "python",
            "pygments_lexer": "ipython3",
            "version": "3.12.9"
        }
    },
    "nbformat": 4,
    "nbformat_minor": 2
}
