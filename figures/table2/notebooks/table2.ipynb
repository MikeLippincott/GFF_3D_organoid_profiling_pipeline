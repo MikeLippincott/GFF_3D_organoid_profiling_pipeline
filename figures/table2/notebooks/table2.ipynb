{
 "cells": [
  {
   "cell_type": "code",
   "execution_count": 1,
   "id": "6972f9b4",
   "metadata": {},
   "outputs": [],
   "source": [
    "import argparse\n",
    "import multiprocessing\n",
    "import os\n",
    "import pathlib\n",
    "import shutil\n",
    "import sys\n",
    "\n",
    "import pandas as pd\n",
    "import tqdm\n",
    "\n",
    "try:\n",
    "    cfg = get_ipython().config\n",
    "    in_notebook = True\n",
    "except NameError:\n",
    "    in_notebook = False\n",
    "\n",
    "if in_notebook:\n",
    "    import tqdm.notebook as tqdm\n",
    "else:\n",
    "    import tqdm.tqdm as tqdm\n",
    "\n",
    "    # Get the current working directory\n",
    "cwd = pathlib.Path.cwd()\n",
    "\n",
    "if (cwd / \".git\").is_dir():\n",
    "    root_dir = cwd\n",
    "\n",
    "else:\n",
    "    root_dir = None\n",
    "    for parent in cwd.parents:\n",
    "        if (parent / \".git\").is_dir():\n",
    "            root_dir = parent\n",
    "            break\n",
    "\n",
    "# Check if a Git root directory was found\n",
    "if root_dir is None:\n",
    "    raise FileNotFoundError(\"No Git root directory found.\")"
   ]
  },
  {
   "cell_type": "markdown",
   "id": "3dab5651",
   "metadata": {},
   "source": [
    "## Set paths and variables"
   ]
  },
  {
   "cell_type": "code",
   "execution_count": 2,
   "id": "a1bdc4fe",
   "metadata": {},
   "outputs": [
    {
     "name": "stdout",
     "output_type": "stream",
     "text": [
      "HPC: False\n"
     ]
    }
   ],
   "source": [
    "argparse = argparse.ArgumentParser(\n",
    "    description=\"Copy files from one directory to another\"\n",
    ")\n",
    "argparse.add_argument(\"--HPC\", action=\"store_true\", help=\"Type of compute to run on\")\n",
    "\n",
    "# Parse arguments\n",
    "args = argparse.parse_args(args=sys.argv[1:] if \"ipykernel\" not in sys.argv[0] else [])\n",
    "HPC = args.HPC\n",
    "\n",
    "print(f\"HPC: {HPC}\")"
   ]
  },
  {
   "cell_type": "code",
   "execution_count": 3,
   "id": "a81954db",
   "metadata": {},
   "outputs": [],
   "source": [
    "if HPC:\n",
    "    raw_image_dir_hpc = pathlib.Path(\"/pl/active/koala/GFF_Data/GFF-Raw/\").resolve(\n",
    "        strict=True\n",
    "    )\n",
    "else:\n",
    "    # comment out depending on whose computer you are on\n",
    "    # mike's computer\n",
    "    raw_image_dir_local = pathlib.Path(\n",
    "        \"~/Desktop/20TB_A/NF1_Patient_organoids/\"\n",
    "    ).resolve(strict=True)\n",
    "    # Jenna's computer\n",
    "    # raw_image_dir_local = pathlib.Path(\"/media/18tbdrive/GFF_organoid_data/\")"
   ]
  },
  {
   "cell_type": "code",
   "execution_count": 4,
   "id": "fc48a246",
   "metadata": {},
   "outputs": [],
   "source": [
    "# Define parent and destination directories in a single dictionary\n",
    "dir_mapping = {\n",
    "    \"NF0014\": {\n",
    "        \"parent\": pathlib.Path(\n",
    "            f\"{raw_image_dir_local}/NF0014-Thawed 3 (Raw image files)-Combined/NF0014-Thawed 3 (Raw image files)-Combined copy\"\n",
    "            if not HPC\n",
    "            else f\"{raw_image_dir_hpc}/NF0014-Thawed 3 (Raw image files)-Combined/NF0014-Thawed 3 (Raw image files)-Combined copy\"\n",
    "        ).resolve(strict=True),\n",
    "    },\n",
    "    \"NF0016\": {\n",
    "        \"parent\": pathlib.Path(\n",
    "            f\"{raw_image_dir_local}/NF0016 Cell Painting-Pilot Drug Screening-selected/NF0016-Cell Painting Images/NF0016-images copy\"\n",
    "            if not HPC\n",
    "            else f\"{raw_image_dir_hpc}/NF0016 Cell Painting-Pilot Drug Screening-selected/NF0016-Cell Painting Images/NF0016-images copy\"\n",
    "        ).resolve(strict=True),\n",
    "    },\n",
    "    # \"NF0017\": {\n",
    "    #     \"parent\": pathlib.Path(\n",
    "    #         f\"{raw_image_dir_local}/NF0017-T3-P7 (AGP, Mito Parameter optimization)/Acquisition 03-07-2025\"\n",
    "    #         if not HPC\n",
    "    #         else f\"{raw_image_dir_hpc}/NF0017-T3-P7 (AGP, Mito Parameter optimization)/Acquisition 03-07-2025\"  # TODO: Update this later if not correct\n",
    "    #     ).resolve(strict=True),\n",
    "    # },\n",
    "    \"NF0018\": {\n",
    "        \"parent\": pathlib.Path(\n",
    "            f\"{raw_image_dir_local}/NF0018 (T6) Cell Painting-Pilot Drug Screeining/NF0018-Cell Painting Images/NF0018-All Acquisitions\"\n",
    "            if not HPC\n",
    "            else f\"{raw_image_dir_hpc}/NF0018 (T6) Cell Painting-Pilot Drug Screeining/NF0018-Cell Painting Images/NF0018-All Acquisitions\"\n",
    "        ).resolve(strict=True),\n",
    "    },\n",
    "    \"NF0021\": {\n",
    "        \"parent\": pathlib.Path(\n",
    "            f\"{raw_image_dir_local}/NF0021-T1/NF0021-T1 Combined\"\n",
    "            if not HPC\n",
    "            else f\"{raw_image_dir_hpc}/NF0021-T1/NF0021-T1 Combined\"\n",
    "        ).resolve(strict=True),\n",
    "    },\n",
    "    \"NF0030\": {\n",
    "        \"parent\": pathlib.Path(\n",
    "            f\"{raw_image_dir_local}/NF0030 Cell Painting/NF0030 Cell Painting/NF0030-Cell Painting Images/Combined\"\n",
    "            if not HPC\n",
    "            else f\"{raw_image_dir_hpc}/NF0030 Cell Painting/NF0030-Cell Painting Images/Combined\"\n",
    "        ).resolve(strict=True),\n",
    "    },\n",
    "    \"NF0040\": {\n",
    "        \"parent\": pathlib.Path(\n",
    "            f\"{raw_image_dir_local}/SARC0376 (NF0040) Cell Painting/SARC0376 (NF0040) Cell Painting/SARC0376 (NF0040)-Cell Painting Images/Combined\"\n",
    "            if not HPC\n",
    "            else f\"{raw_image_dir_hpc}/SARC0376 (NF0040) Cell Painting/SARC0376 (NF0040) Cell Painting/SARC0376 (NF0040)-Cell Painting Images/Combined\"\n",
    "        ).resolve(strict=True),\n",
    "    },\n",
    "    \"SACRO219\": {\n",
    "        \"parent\": pathlib.Path(\n",
    "            f\"{raw_image_dir_local}/SARC0219-T2 Cell Painting-selected/SARC0219-T2 Combined Cell Painting images/SARC0219-T2 Combined/\"\n",
    "            if not HPC\n",
    "            else f\"{raw_image_dir_hpc}/SARC0219-T2 Cell Painting-selected/SARC0219-T2 Combined Cell Painting images/SARC0219-T2 Combined/\"\n",
    "        ).resolve(strict=True),\n",
    "    },\n",
    "    \"SARCO361\": {\n",
    "        \"parent\": pathlib.Path(\n",
    "            f\"{raw_image_dir_local}/SARC0361/SARC0361 Combined/\"\n",
    "            if not HPC\n",
    "            else f\"{raw_image_dir_hpc}/SARC0361/SARC0361 Combined/\"\n",
    "        ).resolve(strict=True),\n",
    "    },\n",
    "}\n",
    "\n",
    "# Image extensions that we are looking to copy\n",
    "image_extensions = {\".tif\", \".tiff\"}"
   ]
  },
  {
   "cell_type": "code",
   "execution_count": 5,
   "id": "9c1349b3",
   "metadata": {},
   "outputs": [],
   "source": [
    "file_paths = {\n",
    "    \"patient\": [],\n",
    "    \"file_path\": [],\n",
    "}"
   ]
  },
  {
   "cell_type": "code",
   "execution_count": 6,
   "id": "20430970",
   "metadata": {},
   "outputs": [
    {
     "data": {
      "application/vnd.jupyter.widget-view+json": {
       "model_id": "fd83da76308c4be1bf41fe2daecefc66",
       "version_major": 2,
       "version_minor": 0
      },
      "text/plain": [
       "Processing NF0014 wells:   0%|          | 0/105 [00:00<?, ?it/s]"
      ]
     },
     "metadata": {},
     "output_type": "display_data"
    },
    {
     "data": {
      "application/vnd.jupyter.widget-view+json": {
       "model_id": "e195265faf5a4d5da8f6b947a2fa1bed",
       "version_major": 2,
       "version_minor": 0
      },
      "text/plain": [
       "Processing NF0016 wells:   0%|          | 0/125 [00:00<?, ?it/s]"
      ]
     },
     "metadata": {},
     "output_type": "display_data"
    },
    {
     "data": {
      "application/vnd.jupyter.widget-view+json": {
       "model_id": "0d8b94cbf122416e9eb22458d6657652",
       "version_major": 2,
       "version_minor": 0
      },
      "text/plain": [
       "Processing NF0018 wells:   0%|          | 0/162 [00:00<?, ?it/s]"
      ]
     },
     "metadata": {},
     "output_type": "display_data"
    },
    {
     "data": {
      "application/vnd.jupyter.widget-view+json": {
       "model_id": "bb99c2a3f1c9418e9e340f2b9102f79c",
       "version_major": 2,
       "version_minor": 0
      },
      "text/plain": [
       "Processing NF0021 wells:   0%|          | 0/350 [00:00<?, ?it/s]"
      ]
     },
     "metadata": {},
     "output_type": "display_data"
    },
    {
     "data": {
      "application/vnd.jupyter.widget-view+json": {
       "model_id": "ffd5a29f8e3f49a2bcd3e6369ca2c15b",
       "version_major": 2,
       "version_minor": 0
      },
      "text/plain": [
       "Processing NF0030 wells:   0%|          | 0/208 [00:00<?, ?it/s]"
      ]
     },
     "metadata": {},
     "output_type": "display_data"
    },
    {
     "data": {
      "application/vnd.jupyter.widget-view+json": {
       "model_id": "fe543273c66c417d98d22f092a99771c",
       "version_major": 2,
       "version_minor": 0
      },
      "text/plain": [
       "Processing NF0040 wells:   0%|          | 0/420 [00:00<?, ?it/s]"
      ]
     },
     "metadata": {},
     "output_type": "display_data"
    },
    {
     "data": {
      "application/vnd.jupyter.widget-view+json": {
       "model_id": "7244c9f11d6c41ed804c2f4adfcb741c",
       "version_major": 2,
       "version_minor": 0
      },
      "text/plain": [
       "Processing SACRO219 wells:   0%|          | 0/199 [00:00<?, ?it/s]"
      ]
     },
     "metadata": {},
     "output_type": "display_data"
    },
    {
     "data": {
      "application/vnd.jupyter.widget-view+json": {
       "model_id": "66845ff022114da2a4ce921bdd61715f",
       "version_major": 2,
       "version_minor": 0
      },
      "text/plain": [
       "Processing SARCO361 wells:   0%|          | 0/350 [00:00<?, ?it/s]"
      ]
     },
     "metadata": {},
     "output_type": "display_data"
    }
   ],
   "source": [
    "# Set channel names\n",
    "channel_names = {\"405\", \"488\", \"555\", \"640\", \"TRANS\", \"Merge\"}\n",
    "\n",
    "# Loop through each key in the mapping to copy data from the parent to the destination\n",
    "for key, paths in dir_mapping.items():\n",
    "    well_fovs = paths[\"parent\"].glob(\"*\")\n",
    "    well_fovs = [x for x in well_fovs if x.is_dir()]\n",
    "    for well_fov in tqdm.tqdm(well_fovs, desc=f\"Processing {key} wells\"):\n",
    "        well_fov_name = well_fov.name\n",
    "        well_fov_path = pathlib.Path(f\"{well_fov}/{well_fov_name}/{well_fov_name}\")\n",
    "        well_fov_files = list(well_fov_path.glob(\"*\"))\n",
    "        well_fov_files = [\n",
    "            x for x in well_fov_files if x.is_file() and x.suffix in image_extensions\n",
    "        ]\n",
    "        for file in well_fov_files:\n",
    "            file_paths[\"patient\"].append(key)\n",
    "            file_paths[\"file_path\"].append(file.resolve(strict=True))\n",
    "file_info_df = pd.DataFrame(file_paths)"
   ]
  },
  {
   "cell_type": "code",
   "execution_count": 7,
   "id": "e23ad933",
   "metadata": {},
   "outputs": [
    {
     "data": {
      "text/html": [
       "<div>\n",
       "<style scoped>\n",
       "    .dataframe tbody tr th:only-of-type {\n",
       "        vertical-align: middle;\n",
       "    }\n",
       "\n",
       "    .dataframe tbody tr th {\n",
       "        vertical-align: top;\n",
       "    }\n",
       "\n",
       "    .dataframe thead th {\n",
       "        text-align: right;\n",
       "    }\n",
       "</style>\n",
       "<table border=\"1\" class=\"dataframe\">\n",
       "  <thead>\n",
       "    <tr style=\"text-align: right;\">\n",
       "      <th></th>\n",
       "      <th>patient</th>\n",
       "      <th>file_path</th>\n",
       "      <th>file_name</th>\n",
       "      <th>well_fov</th>\n",
       "      <th>channel</th>\n",
       "      <th>z_slice</th>\n",
       "      <th>file_size_bytes</th>\n",
       "    </tr>\n",
       "  </thead>\n",
       "  <tbody>\n",
       "    <tr>\n",
       "      <th>0</th>\n",
       "      <td>NF0014</td>\n",
       "      <td>~/Desktop/20TB_A/NF1_Patient_orga...</td>\n",
       "      <td>D5-1_405_ZS006_FOV-1</td>\n",
       "      <td>D5-1</td>\n",
       "      <td>405</td>\n",
       "      <td>ZS006</td>\n",
       "      <td>5519777</td>\n",
       "    </tr>\n",
       "    <tr>\n",
       "      <th>1</th>\n",
       "      <td>NF0014</td>\n",
       "      <td>~/Desktop/20TB_A/NF1_Patient_orga...</td>\n",
       "      <td>D5-1_488_ZS010_FOV-1</td>\n",
       "      <td>D5-1</td>\n",
       "      <td>488</td>\n",
       "      <td>ZS010</td>\n",
       "      <td>5519777</td>\n",
       "    </tr>\n",
       "    <tr>\n",
       "      <th>3</th>\n",
       "      <td>NF0014</td>\n",
       "      <td>~/Desktop/20TB_A/NF1_Patient_orga...</td>\n",
       "      <td>D5-1_488_ZS001_FOV-1</td>\n",
       "      <td>D5-1</td>\n",
       "      <td>488</td>\n",
       "      <td>ZS001</td>\n",
       "      <td>5519777</td>\n",
       "    </tr>\n",
       "    <tr>\n",
       "      <th>4</th>\n",
       "      <td>NF0014</td>\n",
       "      <td>~/Desktop/20TB_A/NF1_Patient_orga...</td>\n",
       "      <td>D5-1_640_ZS003_FOV-1</td>\n",
       "      <td>D5-1</td>\n",
       "      <td>640</td>\n",
       "      <td>ZS003</td>\n",
       "      <td>5519777</td>\n",
       "    </tr>\n",
       "    <tr>\n",
       "      <th>5</th>\n",
       "      <td>NF0014</td>\n",
       "      <td>~/Desktop/20TB_A/NF1_Patient_orga...</td>\n",
       "      <td>D5-1_405_ZS000_FOV-1</td>\n",
       "      <td>D5-1</td>\n",
       "      <td>405</td>\n",
       "      <td>ZS000</td>\n",
       "      <td>5519777</td>\n",
       "    </tr>\n",
       "  </tbody>\n",
       "</table>\n",
       "</div>"
      ],
      "text/plain": [
       "  patient                                          file_path  \\\n",
       "0  NF0014  ~/Desktop/20TB_A/NF1_Patient_orga...   \n",
       "1  NF0014  ~/Desktop/20TB_A/NF1_Patient_orga...   \n",
       "3  NF0014  ~/Desktop/20TB_A/NF1_Patient_orga...   \n",
       "4  NF0014  ~/Desktop/20TB_A/NF1_Patient_orga...   \n",
       "5  NF0014  ~/Desktop/20TB_A/NF1_Patient_orga...   \n",
       "\n",
       "              file_name well_fov channel z_slice  file_size_bytes  \n",
       "0  D5-1_405_ZS006_FOV-1     D5-1     405   ZS006          5519777  \n",
       "1  D5-1_488_ZS010_FOV-1     D5-1     488   ZS010          5519777  \n",
       "3  D5-1_488_ZS001_FOV-1     D5-1     488   ZS001          5519777  \n",
       "4  D5-1_640_ZS003_FOV-1     D5-1     640   ZS003          5519777  \n",
       "5  D5-1_405_ZS000_FOV-1     D5-1     405   ZS000          5519777  "
      ]
     },
     "execution_count": 7,
     "metadata": {},
     "output_type": "execute_result"
    }
   ],
   "source": [
    "file_info_df[\"file_name\"] = file_info_df[\"file_path\"].apply(lambda x: x.stem)\n",
    "file_info_df[\"well_fov\"] = file_info_df[\"file_path\"].apply(\n",
    "    lambda x: x.stem.split(\"_\")[0]\n",
    ")\n",
    "file_info_df[\"channel\"] = file_info_df[\"file_name\"].apply(lambda x: x.split(\"_\")[1])\n",
    "file_info_df[\"z_slice\"] = file_info_df[\"file_name\"].apply(lambda x: x.split(\"_\")[2])\n",
    "file_info_df[\"file_size_bytes\"] = file_info_df[\"file_path\"].apply(\n",
    "    lambda x: x.stat().st_size\n",
    ")\n",
    "# drop row if Merge channel\n",
    "file_info_df = file_info_df[~file_info_df[\"channel\"].isin([\"Merge\"])]\n",
    "file_info_df.head()"
   ]
  },
  {
   "cell_type": "code",
   "execution_count": 8,
   "id": "0f9c8d52",
   "metadata": {},
   "outputs": [
    {
     "name": "stdout",
     "output_type": "stream",
     "text": [
      "Total size of all files: 1167.62 GB\n",
      "Total number of files: 227133\n"
     ]
    }
   ],
   "source": [
    "total_size = file_info_df[\"file_size_bytes\"].sum()\n",
    "print(f\"Total size of all files: {total_size / (1024**3):.2f} GB\")\n",
    "print(f\"Total number of files: {len(file_info_df)}\")"
   ]
  },
  {
   "cell_type": "code",
   "execution_count": 9,
   "id": "3b228e59",
   "metadata": {},
   "outputs": [
    {
     "data": {
      "text/html": [
       "<div>\n",
       "<style scoped>\n",
       "    .dataframe tbody tr th:only-of-type {\n",
       "        vertical-align: middle;\n",
       "    }\n",
       "\n",
       "    .dataframe tbody tr th {\n",
       "        vertical-align: top;\n",
       "    }\n",
       "\n",
       "    .dataframe thead th {\n",
       "        text-align: right;\n",
       "    }\n",
       "</style>\n",
       "<table border=\"1\" class=\"dataframe\">\n",
       "  <thead>\n",
       "    <tr style=\"text-align: right;\">\n",
       "      <th></th>\n",
       "      <th>patient</th>\n",
       "      <th>total_images</th>\n",
       "      <th>total_size_TB</th>\n",
       "    </tr>\n",
       "  </thead>\n",
       "  <tbody>\n",
       "    <tr>\n",
       "      <th>0</th>\n",
       "      <td>NF0014</td>\n",
       "      <td>17069</td>\n",
       "      <td>0.09</td>\n",
       "    </tr>\n",
       "    <tr>\n",
       "      <th>1</th>\n",
       "      <td>NF0016</td>\n",
       "      <td>12745</td>\n",
       "      <td>0.06</td>\n",
       "    </tr>\n",
       "    <tr>\n",
       "      <th>2</th>\n",
       "      <td>NF0018</td>\n",
       "      <td>18230</td>\n",
       "      <td>0.09</td>\n",
       "    </tr>\n",
       "    <tr>\n",
       "      <th>3</th>\n",
       "      <td>NF0021</td>\n",
       "      <td>42270</td>\n",
       "      <td>0.21</td>\n",
       "    </tr>\n",
       "    <tr>\n",
       "      <th>4</th>\n",
       "      <td>NF0030</td>\n",
       "      <td>19935</td>\n",
       "      <td>0.10</td>\n",
       "    </tr>\n",
       "    <tr>\n",
       "      <th>5</th>\n",
       "      <td>NF0040</td>\n",
       "      <td>58880</td>\n",
       "      <td>0.30</td>\n",
       "    </tr>\n",
       "    <tr>\n",
       "      <th>6</th>\n",
       "      <td>SACRO219</td>\n",
       "      <td>18575</td>\n",
       "      <td>0.09</td>\n",
       "    </tr>\n",
       "    <tr>\n",
       "      <th>7</th>\n",
       "      <td>SARCO361</td>\n",
       "      <td>39429</td>\n",
       "      <td>0.20</td>\n",
       "    </tr>\n",
       "    <tr>\n",
       "      <th>8</th>\n",
       "      <td>Total</td>\n",
       "      <td>227133</td>\n",
       "      <td>1.14</td>\n",
       "    </tr>\n",
       "  </tbody>\n",
       "</table>\n",
       "</div>"
      ],
      "text/plain": [
       "    patient  total_images  total_size_TB\n",
       "0    NF0014         17069           0.09\n",
       "1    NF0016         12745           0.06\n",
       "2    NF0018         18230           0.09\n",
       "3    NF0021         42270           0.21\n",
       "4    NF0030         19935           0.10\n",
       "5    NF0040         58880           0.30\n",
       "6  SACRO219         18575           0.09\n",
       "7  SARCO361         39429           0.20\n",
       "8     Total        227133           1.14"
      ]
     },
     "execution_count": 9,
     "metadata": {},
     "output_type": "execute_result"
    }
   ],
   "source": [
    "# sum and average file size by patient and channel\n",
    "file_info_df_grouped = (\n",
    "    file_info_df.groupby(\"patient\")\n",
    "    .agg(\n",
    "        total_size_bytes=(\"file_size_bytes\", \"sum\"),\n",
    "        total_images=(\"file_path\", \"count\"),\n",
    "    )\n",
    "    .reset_index()\n",
    ")\n",
    "file_info_df_grouped\n",
    "# add a new row that is the totals of each column\n",
    "totals_row = file_info_df_grouped.sum(numeric_only=True)\n",
    "totals_row[\"patient\"] = \"Total\"\n",
    "file_info_df_grouped = pd.concat(\n",
    "    [\n",
    "        file_info_df_grouped,\n",
    "        pd.DataFrame([totals_row], columns=file_info_df_grouped.columns),\n",
    "    ],\n",
    "    ignore_index=True,\n",
    ")\n",
    "file_info_df_grouped[\"total_size_TB\"] = file_info_df_grouped[\"total_size_bytes\"] / (\n",
    "    1024**4\n",
    ")\n",
    "# round to two decimal places\n",
    "file_info_df_grouped[\"total_size_TB\"] = file_info_df_grouped[\"total_size_TB\"].round(2)\n",
    "# add a new column that is the average file\n",
    "file_info_df_grouped.drop(columns=[\"total_size_bytes\"], inplace=True)\n",
    "file_info_df_grouped"
   ]
  },
  {
   "cell_type": "code",
   "execution_count": 10,
   "id": "9aeca6c2",
   "metadata": {},
   "outputs": [
    {
     "data": {
      "text/markdown": [
       "| patient   |   total_images |   total_size_TB |\n",
       "|:----------|---------------:|----------------:|\n",
       "| NF0014    |          17069 |            0.09 |\n",
       "| NF0016    |          12745 |            0.06 |\n",
       "| NF0018    |          18230 |            0.09 |\n",
       "| NF0021    |          42270 |            0.21 |\n",
       "| NF0030    |          19935 |            0.1  |\n",
       "| NF0040    |          58880 |            0.3  |\n",
       "| SACRO219  |          18575 |            0.09 |\n",
       "| SARCO361  |          39429 |            0.2  |\n",
       "| Total     |         227133 |            1.14 |"
      ],
      "text/plain": [
       "<IPython.core.display.Markdown object>"
      ]
     },
     "metadata": {},
     "output_type": "display_data"
    },
    {
     "data": {
      "image/png": "[encoded data removed]",
      "text/plain": [
       "<Figure size 800x800 with 1 Axes>"
      ]
     },
     "metadata": {},
     "output_type": "display_data"
    }
   ],
   "source": [
    "# render the df in markdown\n",
    "if in_notebook:\n",
    "    from IPython.display import Markdown, display\n",
    "\n",
    "    display(Markdown(file_info_df_grouped.to_markdown(index=False)))\n",
    "else:\n",
    "    print(file_info_df_grouped.to_markdown(index=False))\n",
    "\n",
    "# save the table as a png\n",
    "png_figure_path = pathlib.Path(f\"{root_dir}/figures/table2/figures/file_info_table.png\")\n",
    "png_figure_path.parent.mkdir(parents=True, exist_ok=True)\n",
    "if in_notebook:\n",
    "    import matplotlib.pyplot as plt\n",
    "    from pandas.plotting import table\n",
    "\n",
    "    fig, ax = plt.subplots(figsize=(8, 8))  # Set the size of the figure\n",
    "    ax.axis(\"off\")  # Hide the axes\n",
    "    tbl = table(ax, file_info_df_grouped, loc=\"center\", cellLoc=\"center\")\n",
    "    tbl.auto_set_font_size(False)  # Disable automatic font size\n",
    "    tbl.set_fontsize(16)  # Set a fixed font size\n",
    "    tbl.scale(1.4, 1.9)  # Scale the table to fit better\n",
    "    plt.savefig(png_figure_path, bbox_inches=\"tight\", dpi=300)"
   ]
  }
 ],
 "metadata": {
  "kernelspec": {
   "display_name": "GFF_analysis",
   "language": "python",
   "name": "python3"
  },
  "language_info": {
   "codemirror_mode": {
    "name": "ipython",
    "version": 3
   },
   "file_extension": ".py",
   "mimetype": "text/x-python",
   "name": "python",
   "nbconvert_exporter": "python",
   "pygments_lexer": "ipython3",
   "version": "3.12.11"
  }
 },
 "nbformat": 4,
 "nbformat_minor": 5
}
