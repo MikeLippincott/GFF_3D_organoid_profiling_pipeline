{
 "cells": [
  {
   "cell_type": "markdown",
   "metadata": {},
   "source": [
    "|Patient ID | Tumor type | Compounds screened | Number of Well Fovs |\n",
    "|-----------|------------|---------------------|---------------------|\n",
    "| NF0014     |Neurofibroma (subcutaneous) | 15 | 104 |\n",
    "| Nf0016 | Neurofibroma, diffuse and plexiform | 15 | 125 |\n",
    "| NF0018 | Neurofibroma, plexiform, non-contiguous cutaneous | 15 | 162 |\n",
    "| NF0021 | Neurofibroma, plexiform, non-contiguous cutaneous | 15 | 350 |\n",
    "| NF0030 | Myopericytoma | 15 | 208 |\n",
    "| NF0040 | Schwannoma, with degeneration | 20 | 420 |\n",
    "| SARCO219 | MPNST in association with plexiform neurofibroma | 15 | 199 |\n",
    "| SARCO361 | Sarcoma, treated. | 15 | 350 |"
   ]
  },
  {
   "cell_type": "markdown",
   "metadata": {},
   "source": []
  }
 ],
 "metadata": {
  "language_info": {
   "name": "python"
  }
 },
 "nbformat": 4,
 "nbformat_minor": 2
}
