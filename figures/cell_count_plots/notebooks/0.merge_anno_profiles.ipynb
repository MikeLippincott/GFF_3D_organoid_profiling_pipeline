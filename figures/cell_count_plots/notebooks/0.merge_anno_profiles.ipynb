{
 "cells": [
  {
   "cell_type": "code",
   "execution_count": 1,
   "id": "bfecd6c0",
   "metadata": {},
   "outputs": [],
   "source": [
    "import pathlib\n",
    "import warnings\n",
    "\n",
    "import pandas as pd\n",
    "\n",
    "try:\n",
    "    cfg = get_ipython().config\n",
    "    in_notebook = True\n",
    "except NameError:\n",
    "    in_notebook = False\n",
    "if in_notebook:\n",
    "    from tqdm.notebook import tqdm\n",
    "else:\n",
    "    from tqdm import tqdm\n",
    "# Get the current working directory\n",
    "cwd = pathlib.Path.cwd()\n",
    "\n",
    "if (cwd / \".git\").is_dir():\n",
    "    root_dir = cwd\n",
    "\n",
    "else:\n",
    "    root_dir = None\n",
    "    for parent in cwd.parents:\n",
    "        if (parent / \".git\").is_dir():\n",
    "            root_dir = parent\n",
    "            break\n",
    "\n",
    "# Check if a Git root directory was found\n",
    "if root_dir is None:\n",
    "    raise FileNotFoundError(\"No Git root directory found.\")"
   ]
  },
  {
   "cell_type": "code",
   "execution_count": 2,
   "id": "8a056592",
   "metadata": {},
   "outputs": [],
   "source": [
    "patients = pd.read_csv(\n",
    "    pathlib.Path(f\"{root_dir}/data/patient_IDs.txt\"),\n",
    "    header=None,\n",
    "    names=[\"patient\"],\n",
    "    dtype=str,\n",
    ")[\"patient\"].tolist()\n",
    "list_of_sc_profile_paths = []\n",
    "list_of_organoid_profile_paths = []\n",
    "for patient_id in patients:\n",
    "    list_of_sc_profile_paths.append(\n",
    "        pathlib.Path(\n",
    "            f\"{root_dir}/data/{patient_id}/image_based_profiles/2.annotated_profiles/sc_anno.parquet\"\n",
    "        )\n",
    "    )\n",
    "    list_of_organoid_profile_paths.append(\n",
    "        pathlib.Path(\n",
    "            f\"{root_dir}/data/{patient_id}/image_based_profiles/2.annotated_profiles/organoid_anno.parquet\"\n",
    "        )\n",
    "    )"
   ]
  },
  {
   "cell_type": "code",
   "execution_count": 3,
   "id": "6257892b",
   "metadata": {},
   "outputs": [],
   "source": [
    "sc_metadata_columns = [\n",
    "    \"patient\",\n",
    "    \"object_id\",\n",
    "    \"unit\",\n",
    "    \"dose\",\n",
    "    \"treatment\",\n",
    "    \"image_set\",\n",
    "    \"Well\",\n",
    "    \"parent_organoid\",\n",
    "]\n",
    "organoid_metadata_columns = [\n",
    "    \"patient\",\n",
    "    \"object_id\",\n",
    "    \"unit\",\n",
    "    \"dose\",\n",
    "    \"treatment\",\n",
    "    \"image_set\",\n",
    "    \"Well\",\n",
    "    \"single_cell_count\",\n",
    "    \"Area.Size.Shape_Organoid_VOLUME\",\n",
    "]"
   ]
  },
  {
   "cell_type": "code",
   "execution_count": 4,
   "id": "045ddc9e",
   "metadata": {},
   "outputs": [
    {
     "data": {
      "application/vnd.jupyter.widget-view+json": {
       "model_id": "cef77a6876bc4ccbadc6ea28d185b0f7",
       "version_major": 2,
       "version_minor": 0
      },
      "text/plain": [
       "Reading sc profiles:   0%|          | 0/8 [00:00<?, ?it/s]"
      ]
     },
     "metadata": {},
     "output_type": "display_data"
    }
   ],
   "source": [
    "single_cell_counts = pd.concat(\n",
    "    [\n",
    "        pd.read_parquet(path)\n",
    "        for path in tqdm(list_of_sc_profile_paths, desc=\"Reading sc profiles\")\n",
    "    ],\n",
    "    ignore_index=True,\n",
    ")[sc_metadata_columns]"
   ]
  },
  {
   "cell_type": "code",
   "execution_count": 5,
   "id": "3dceea58",
   "metadata": {},
   "outputs": [
    {
     "data": {
      "application/vnd.jupyter.widget-view+json": {
       "model_id": "500c0f67cdbe43a1b511797d74a63fd7",
       "version_major": 2,
       "version_minor": 0
      },
      "text/plain": [
       "Reading organoid profiles:   0%|          | 0/8 [00:00<?, ?it/s]"
      ]
     },
     "metadata": {},
     "output_type": "display_data"
    }
   ],
   "source": [
    "organoid_counts = pd.concat(\n",
    "    [\n",
    "        pd.read_parquet(path)\n",
    "        for path in tqdm(\n",
    "            list_of_organoid_profile_paths, desc=\"Reading organoid profiles\"\n",
    "        )\n",
    "    ],\n",
    "    ignore_index=True,\n",
    ")\n",
    "organoid_counts1 = organoid_counts\n",
    "organoid_counts = organoid_counts[organoid_metadata_columns]"
   ]
  },
  {
   "cell_type": "code",
   "execution_count": 6,
   "id": "80cae4d9",
   "metadata": {},
   "outputs": [],
   "source": [
    "# replace the single cell count NAN with 0\n",
    "\n",
    "organoid_counts = organoid_counts.fillna(0)\n",
    "sc_counts = single_cell_counts.fillna(0)\n",
    "sc_counts.drop(columns=[\"object_id\"], inplace=True, errors=\"ignore\")\n",
    "organoid_counts.drop(columns=[\"object_id\"], inplace=True, errors=\"ignore\")"
   ]
  },
  {
   "cell_type": "code",
   "execution_count": 7,
   "id": "43a25d3c",
   "metadata": {},
   "outputs": [
    {
     "name": "stdout",
     "output_type": "stream",
     "text": [
      "Single cell counts shape: (11278, 8)\n",
      "Organoid counts shape: (1507, 8)\n"
     ]
    }
   ],
   "source": [
    "print(\"Single cell counts shape:\", single_cell_counts.shape)\n",
    "print(\"Organoid counts shape:\", organoid_counts.shape)"
   ]
  },
  {
   "cell_type": "code",
   "execution_count": 8,
   "id": "c0975a39",
   "metadata": {},
   "outputs": [],
   "source": [
    "organoid_counts.drop_duplicates(\n",
    "    subset=[\"patient\", \"Well\", \"single_cell_count\"], inplace=True, ignore_index=True\n",
    ")\n",
    "organoid_counts = (\n",
    "    organoid_counts.groupby([\"patient\", \"unit\", \"dose\", \"treatment\", \"Well\"])\n",
    "    .sum(numeric_only=True)\n",
    "    .reset_index()\n",
    ")\n",
    "organoid_counts[\"cell_density\"] = (\n",
    "    organoid_counts[\"single_cell_count\"]\n",
    "    / organoid_counts[\"Area.Size.Shape_Organoid_VOLUME\"]\n",
    ")"
   ]
  },
  {
   "cell_type": "code",
   "execution_count": 9,
   "id": "33147394",
   "metadata": {},
   "outputs": [],
   "source": [
    "sc_counts.drop_duplicates(\n",
    "    subset=[\"patient\", \"Well\", \"parent_organoid\"], inplace=True, ignore_index=True\n",
    ")\n",
    "sc_counts = (\n",
    "    sc_counts.groupby([\"patient\", \"unit\", \"dose\", \"treatment\", \"Well\"])\n",
    "    .size()\n",
    "    .reset_index(name=\"organoid_count\")\n",
    ")"
   ]
  },
  {
   "cell_type": "code",
   "execution_count": 10,
   "id": "e3da7506",
   "metadata": {},
   "outputs": [],
   "source": [
    "sc_and_organoid_counts = pd.merge(\n",
    "    organoid_counts,\n",
    "    sc_counts,\n",
    "    how=\"inner\",\n",
    "    on=[\n",
    "        \"patient\",\n",
    "        \"unit\",\n",
    "        \"dose\",\n",
    "        \"treatment\",\n",
    "        \"Well\",\n",
    "    ],\n",
    ")"
   ]
  },
  {
   "cell_type": "code",
   "execution_count": 11,
   "id": "c3ecafc4",
   "metadata": {},
   "outputs": [
    {
     "data": {
      "text/plain": [
       "(393, 9)"
      ]
     },
     "execution_count": 11,
     "metadata": {},
     "output_type": "execute_result"
    }
   ],
   "source": [
    "# save the merged profile counts\n",
    "pathlib.Path(f\"{root_dir}/figures/cell_count_plots/results/\").mkdir(\n",
    "    parents=True, exist_ok=True\n",
    ")\n",
    "sc_and_organoid_counts.to_parquet(\n",
    "    pathlib.Path(\n",
    "        f\"{root_dir}/figures/cell_count_plots/results/sc_and_organoid_counts.parquet\"\n",
    "    ),\n",
    "    index=False,\n",
    ")\n",
    "sc_and_organoid_counts.shape"
   ]
  }
 ],
 "metadata": {
  "kernelspec": {
   "display_name": "GFF_analysis",
   "language": "python",
   "name": "python3"
  },
  "language_info": {
   "codemirror_mode": {
    "name": "ipython",
    "version": 3
   },
   "file_extension": ".py",
   "mimetype": "text/x-python",
   "name": "python",
   "nbconvert_exporter": "python",
   "pygments_lexer": "ipython3",
   "version": "3.12.11"
  }
 },
 "nbformat": 4,
 "nbformat_minor": 5
}
