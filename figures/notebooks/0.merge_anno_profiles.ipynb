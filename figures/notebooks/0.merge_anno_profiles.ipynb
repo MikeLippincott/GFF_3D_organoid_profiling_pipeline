{
 "cells": [
  {
   "cell_type": "code",
   "execution_count": 1,
   "id": "bfecd6c0",
   "metadata": {},
   "outputs": [],
   "source": [
    "import pathlib\n",
    "import warnings\n",
    "\n",
    "import pandas as pd\n",
    "\n",
    "try:\n",
    "    cfg = get_ipython().config\n",
    "    in_notebook = True\n",
    "except NameError:\n",
    "    in_notebook = False\n",
    "if in_notebook:\n",
    "    from tqdm.notebook import tqdm\n",
    "else:\n",
    "    from tqdm import tqdm\n",
    "# Get the current working directory\n",
    "cwd = pathlib.Path.cwd()\n",
    "\n",
    "if (cwd / \".git\").is_dir():\n",
    "    root_dir = cwd\n",
    "\n",
    "else:\n",
    "    root_dir = None\n",
    "    for parent in cwd.parents:\n",
    "        if (parent / \".git\").is_dir():\n",
    "            root_dir = parent\n",
    "            break\n",
    "\n",
    "# Check if a Git root directory was found\n",
    "if root_dir is None:\n",
    "    raise FileNotFoundError(\"No Git root directory found.\")"
   ]
  },
  {
   "cell_type": "code",
   "execution_count": 2,
   "id": "8a056592",
   "metadata": {},
   "outputs": [],
   "source": [
    "patients = pd.read_csv(\n",
    "    pathlib.Path(f\"{root_dir}/data/patient_IDs.txt\"),\n",
    "    header=None,\n",
    "    names=[\"patient\"],\n",
    "    dtype=str,\n",
    ")[\"patient\"].tolist()\n",
    "list_of_sc_profile_paths = []\n",
    "list_of_organoid_profile_paths = []\n",
    "for patient_id in patients:\n",
    "    list_of_sc_profile_paths.append(\n",
    "        pathlib.Path(\n",
    "            f\"{root_dir}/data/{patient_id}/image_based_profiles/2.annotated_profiles/sc_anno.parquet\"\n",
    "        )\n",
    "    )\n",
    "    list_of_organoid_profile_paths.append(\n",
    "        pathlib.Path(\n",
    "            f\"{root_dir}/data/{patient_id}/image_based_profiles/2.annotated_profiles/organoid_anno.parquet\"\n",
    "        )\n",
    "    )"
   ]
  },
  {
   "cell_type": "code",
   "execution_count": 3,
   "id": "6257892b",
   "metadata": {},
   "outputs": [],
   "source": [
    "sc_metadata_columns = [\n",
    "    \"patient\",\n",
    "    \"object_id\",\n",
    "    \"unit\",\n",
    "    \"dose\",\n",
    "    \"treatment\",\n",
    "    \"image_set\",\n",
    "    \"Well\",\n",
    "    \"parent_organoid\",\n",
    "]\n",
    "organoid_metadata_columns = [\n",
    "    \"patient\",\n",
    "    \"object_id\",\n",
    "    \"unit\",\n",
    "    \"dose\",\n",
    "    \"treatment\",\n",
    "    \"image_set\",\n",
    "    \"Well\",\n",
    "    \"single_cell_count\",\n",
    "]"
   ]
  },
  {
   "cell_type": "code",
   "execution_count": 4,
   "id": "045ddc9e",
   "metadata": {},
   "outputs": [
    {
     "data": {
      "application/vnd.jupyter.widget-view+json": {
       "model_id": "38a863bda28044718bbc6f2c8fa8b847",
       "version_major": 2,
       "version_minor": 0
      },
      "text/plain": [
       "Reading sc profiles:   0%|          | 0/8 [00:00<?, ?it/s]"
      ]
     },
     "metadata": {},
     "output_type": "display_data"
    }
   ],
   "source": [
    "single_cell_counts = pd.concat(\n",
    "    [\n",
    "        pd.read_parquet(path)\n",
    "        for path in tqdm(list_of_sc_profile_paths, desc=\"Reading sc profiles\")\n",
    "    ],\n",
    "    ignore_index=True,\n",
    ")[sc_metadata_columns]"
   ]
  },
  {
   "cell_type": "code",
   "execution_count": 5,
   "id": "3dceea58",
   "metadata": {},
   "outputs": [
    {
     "data": {
      "application/vnd.jupyter.widget-view+json": {
       "model_id": "734de4b08ab14131962de71ff3d2339a",
       "version_major": 2,
       "version_minor": 0
      },
      "text/plain": [
       "Reading organoid profiles:   0%|          | 0/8 [00:00<?, ?it/s]"
      ]
     },
     "metadata": {},
     "output_type": "display_data"
    }
   ],
   "source": [
    "organoid_counts = pd.concat(\n",
    "    [\n",
    "        pd.read_parquet(path)\n",
    "        for path in tqdm(\n",
    "            list_of_organoid_profile_paths, desc=\"Reading organoid profiles\"\n",
    "        )\n",
    "    ],\n",
    "    ignore_index=True,\n",
    ")[organoid_metadata_columns]"
   ]
  },
  {
   "cell_type": "code",
   "execution_count": 6,
   "id": "80cae4d9",
   "metadata": {},
   "outputs": [],
   "source": [
    "# replace the single cell count NAN with 0\n",
    "\n",
    "organoid_counts = organoid_counts.fillna(0)\n",
    "sc_counts = single_cell_counts.fillna(0)\n",
    "sc_counts.drop(columns=[\"object_id\"], inplace=True, errors=\"ignore\")\n",
    "organoid_counts.drop(columns=[\"object_id\"], inplace=True, errors=\"ignore\")"
   ]
  },
  {
   "cell_type": "code",
   "execution_count": 7,
   "id": "43a25d3c",
   "metadata": {},
   "outputs": [
    {
     "name": "stdout",
     "output_type": "stream",
     "text": [
      "Single cell counts shape: (11278, 8)\n",
      "Organoid counts shape: (1507, 7)\n"
     ]
    }
   ],
   "source": [
    "print(\"Single cell counts shape:\", single_cell_counts.shape)\n",
    "print(\"Organoid counts shape:\", organoid_counts.shape)"
   ]
  },
  {
   "cell_type": "code",
   "execution_count": 8,
   "id": "c0975a39",
   "metadata": {},
   "outputs": [],
   "source": [
    "organoid_counts.drop_duplicates(\n",
    "    subset=[\"patient\", \"Well\", \"single_cell_count\"], inplace=True, ignore_index=True\n",
    ")\n",
    "organoid_counts = (\n",
    "    organoid_counts.groupby([\"patient\", \"unit\", \"dose\", \"treatment\", \"Well\"])\n",
    "    .sum(numeric_only=True)\n",
    "    .reset_index()\n",
    ")"
   ]
  },
  {
   "cell_type": "code",
   "execution_count": 9,
   "id": "33147394",
   "metadata": {},
   "outputs": [],
   "source": [
    "sc_counts.drop_duplicates(\n",
    "    subset=[\"patient\", \"Well\", \"parent_organoid\"], inplace=True, ignore_index=True\n",
    ")\n",
    "sc_counts = (\n",
    "    sc_counts.groupby([\"patient\", \"unit\", \"dose\", \"treatment\", \"Well\"])\n",
    "    .size()\n",
    "    .reset_index(name=\"organoid_count\")\n",
    ")"
   ]
  },
  {
   "cell_type": "code",
   "execution_count": 10,
   "id": "e3da7506",
   "metadata": {},
   "outputs": [],
   "source": [
    "sc_and_organoid_counts = pd.merge(\n",
    "    organoid_counts,\n",
    "    sc_counts,\n",
    "    how=\"inner\",\n",
    "    on=[\n",
    "        \"patient\",\n",
    "        \"unit\",\n",
    "        \"dose\",\n",
    "        \"treatment\",\n",
    "        \"Well\",\n",
    "    ],\n",
    ")"
   ]
  },
  {
   "cell_type": "code",
   "execution_count": 11,
   "id": "c3ecafc4",
   "metadata": {},
   "outputs": [
    {
     "data": {
      "text/plain": [
       "(393, 7)"
      ]
     },
     "execution_count": 11,
     "metadata": {},
     "output_type": "execute_result"
    }
   ],
   "source": [
    "# save the merged profile counts\n",
    "pathlib.Path(f\"{root_dir}/figures/results/\").mkdir(parents=True, exist_ok=True)\n",
    "sc_and_organoid_counts.to_parquet(\n",
    "    pathlib.Path(f\"{root_dir}/figures/results/sc_and_organoid_counts.parquet\"),\n",
    "    index=False,\n",
    ")\n",
    "sc_and_organoid_counts.shape"
   ]
  },
  {
   "cell_type": "code",
   "execution_count": 12,
   "id": "68b6302b",
   "metadata": {},
   "outputs": [
    {
     "data": {
      "text/html": [
       "<div>\n",
       "<style scoped>\n",
       "    .dataframe tbody tr th:only-of-type {\n",
       "        vertical-align: middle;\n",
       "    }\n",
       "\n",
       "    .dataframe tbody tr th {\n",
       "        vertical-align: top;\n",
       "    }\n",
       "\n",
       "    .dataframe thead th {\n",
       "        text-align: right;\n",
       "    }\n",
       "</style>\n",
       "<table border=\"1\" class=\"dataframe\">\n",
       "  <thead>\n",
       "    <tr style=\"text-align: right;\">\n",
       "      <th></th>\n",
       "      <th>patient</th>\n",
       "      <th>unit</th>\n",
       "      <th>dose</th>\n",
       "      <th>treatment</th>\n",
       "      <th>Well</th>\n",
       "      <th>single_cell_count</th>\n",
       "      <th>organoid_count</th>\n",
       "    </tr>\n",
       "  </thead>\n",
       "  <tbody>\n",
       "    <tr>\n",
       "      <th>0</th>\n",
       "      <td>NF0014</td>\n",
       "      <td>%</td>\n",
       "      <td>1</td>\n",
       "      <td>DMSO</td>\n",
       "      <td>C4</td>\n",
       "      <td>49.0</td>\n",
       "      <td>3</td>\n",
       "    </tr>\n",
       "    <tr>\n",
       "      <th>1</th>\n",
       "      <td>NF0014</td>\n",
       "      <td>%</td>\n",
       "      <td>1</td>\n",
       "      <td>DMSO</td>\n",
       "      <td>D4</td>\n",
       "      <td>32.0</td>\n",
       "      <td>2</td>\n",
       "    </tr>\n",
       "    <tr>\n",
       "      <th>2</th>\n",
       "      <td>NF0014</td>\n",
       "      <td>%</td>\n",
       "      <td>1</td>\n",
       "      <td>DMSO</td>\n",
       "      <td>D9</td>\n",
       "      <td>67.0</td>\n",
       "      <td>4</td>\n",
       "    </tr>\n",
       "    <tr>\n",
       "      <th>3</th>\n",
       "      <td>NF0014</td>\n",
       "      <td>%</td>\n",
       "      <td>1</td>\n",
       "      <td>DMSO</td>\n",
       "      <td>E4</td>\n",
       "      <td>36.0</td>\n",
       "      <td>3</td>\n",
       "    </tr>\n",
       "    <tr>\n",
       "      <th>4</th>\n",
       "      <td>NF0014</td>\n",
       "      <td>%</td>\n",
       "      <td>1</td>\n",
       "      <td>DMSO</td>\n",
       "      <td>E9</td>\n",
       "      <td>16.0</td>\n",
       "      <td>2</td>\n",
       "    </tr>\n",
       "    <tr>\n",
       "      <th>...</th>\n",
       "      <td>...</td>\n",
       "      <td>...</td>\n",
       "      <td>...</td>\n",
       "      <td>...</td>\n",
       "      <td>...</td>\n",
       "      <td>...</td>\n",
       "      <td>...</td>\n",
       "    </tr>\n",
       "    <tr>\n",
       "      <th>388</th>\n",
       "      <td>SARCO361</td>\n",
       "      <td>uM</td>\n",
       "      <td>10</td>\n",
       "      <td>Mirdametinib</td>\n",
       "      <td>G8</td>\n",
       "      <td>17.0</td>\n",
       "      <td>3</td>\n",
       "    </tr>\n",
       "    <tr>\n",
       "      <th>389</th>\n",
       "      <td>SARCO361</td>\n",
       "      <td>uM</td>\n",
       "      <td>10</td>\n",
       "      <td>Selumetinib</td>\n",
       "      <td>E11</td>\n",
       "      <td>18.0</td>\n",
       "      <td>3</td>\n",
       "    </tr>\n",
       "    <tr>\n",
       "      <th>390</th>\n",
       "      <td>SARCO361</td>\n",
       "      <td>uM</td>\n",
       "      <td>10</td>\n",
       "      <td>Selumetinib</td>\n",
       "      <td>F11</td>\n",
       "      <td>4.0</td>\n",
       "      <td>3</td>\n",
       "    </tr>\n",
       "    <tr>\n",
       "      <th>391</th>\n",
       "      <td>SARCO361</td>\n",
       "      <td>uM</td>\n",
       "      <td>10</td>\n",
       "      <td>Trametinib</td>\n",
       "      <td>E10</td>\n",
       "      <td>1.0</td>\n",
       "      <td>2</td>\n",
       "    </tr>\n",
       "    <tr>\n",
       "      <th>392</th>\n",
       "      <td>SARCO361</td>\n",
       "      <td>uM</td>\n",
       "      <td>10</td>\n",
       "      <td>Trametinib</td>\n",
       "      <td>F10</td>\n",
       "      <td>0.0</td>\n",
       "      <td>1</td>\n",
       "    </tr>\n",
       "  </tbody>\n",
       "</table>\n",
       "<p>393 rows × 7 columns</p>\n",
       "</div>"
      ],
      "text/plain": [
       "      patient unit  dose     treatment Well  single_cell_count  organoid_count\n",
       "0      NF0014    %     1          DMSO   C4               49.0               3\n",
       "1      NF0014    %     1          DMSO   D4               32.0               2\n",
       "2      NF0014    %     1          DMSO   D9               67.0               4\n",
       "3      NF0014    %     1          DMSO   E4               36.0               3\n",
       "4      NF0014    %     1          DMSO   E9               16.0               2\n",
       "..        ...  ...   ...           ...  ...                ...             ...\n",
       "388  SARCO361   uM    10  Mirdametinib   G8               17.0               3\n",
       "389  SARCO361   uM    10   Selumetinib  E11               18.0               3\n",
       "390  SARCO361   uM    10   Selumetinib  F11                4.0               3\n",
       "391  SARCO361   uM    10    Trametinib  E10                1.0               2\n",
       "392  SARCO361   uM    10    Trametinib  F10                0.0               1\n",
       "\n",
       "[393 rows x 7 columns]"
      ]
     },
     "execution_count": 12,
     "metadata": {},
     "output_type": "execute_result"
    }
   ],
   "source": [
    "sc_and_organoid_counts"
   ]
  }
 ],
 "metadata": {
  "kernelspec": {
   "display_name": "GFF_analysis",
   "language": "python",
   "name": "python3"
  },
  "language_info": {
   "codemirror_mode": {
    "name": "ipython",
    "version": 3
   },
   "file_extension": ".py",
   "mimetype": "text/x-python",
   "name": "python",
   "nbconvert_exporter": "python",
   "pygments_lexer": "ipython3",
   "version": "3.12.11"
  }
 },
 "nbformat": 4,
 "nbformat_minor": 5
}
