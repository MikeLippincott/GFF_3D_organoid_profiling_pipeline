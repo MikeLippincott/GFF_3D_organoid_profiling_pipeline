{
 "cells": [
  {
   "cell_type": "code",
   "execution_count": 1,
   "id": "3752913b",
   "metadata": {},
   "outputs": [],
   "source": [
    "import pathlib\n",
    "import warnings\n",
    "\n",
    "import pandas as pd\n",
    "import statsmodels.formula.api as smf\n",
    "\n",
    "warnings.filterwarnings(\"ignore\")  # Ignore all warnings\n",
    "warnings.simplefilter(\"ignore\")  # Additional suppression method\n",
    "\n",
    "try:\n",
    "    cfg = get_ipython().config\n",
    "    in_notebook = True\n",
    "except NameError:\n",
    "    in_notebook = False\n",
    "if in_notebook:\n",
    "    from tqdm.notebook import tqdm\n",
    "else:\n",
    "    from tqdm import tqdm\n",
    "# Get the current working directory\n",
    "cwd = pathlib.Path.cwd()\n",
    "\n",
    "if (cwd / \".git\").is_dir():\n",
    "    root_dir = cwd\n",
    "\n",
    "else:\n",
    "    root_dir = None\n",
    "    for parent in cwd.parents:\n",
    "        if (parent / \".git\").is_dir():\n",
    "            root_dir = parent\n",
    "            break\n",
    "\n",
    "# Check if a Git root directory was found\n",
    "if root_dir is None:\n",
    "    raise FileNotFoundError(\"No Git root directory found.\")"
   ]
  },
  {
   "cell_type": "code",
   "execution_count": 2,
   "id": "2efeeac0",
   "metadata": {},
   "outputs": [],
   "source": [
    "profile_dict = {\n",
    "    \"organoid_fs\": {\n",
    "        \"input_profile_path\": pathlib.Path(\n",
    "            root_dir, \"5.EDA/results/linear_modeling/organoid_fs.parquet\"\n",
    "        ),\n",
    "        \"metadata_columns\": [\n",
    "            \"patient\",\n",
    "            \"object_id\",\n",
    "            \"unit\",\n",
    "            \"dose\",\n",
    "            \"treatment\",\n",
    "            \"Target\",\n",
    "            \"Class\",\n",
    "            \"image_set\",\n",
    "            \"Well\",\n",
    "            \"Therapeutic Categories\",\n",
    "            \"single_cell_count\",\n",
    "        ],\n",
    "    },\n",
    "    \"single_cell_fs\": {\n",
    "        \"input_profile_path\": pathlib.Path(\n",
    "            root_dir, \"5.EDA/results/linear_modeling/sc_fs.parquet\"\n",
    "        ),\n",
    "        \"metadata_columns\": [\n",
    "            \"patient\",\n",
    "            \"object_id\",\n",
    "            \"unit\",\n",
    "            \"dose\",\n",
    "            \"treatment\",\n",
    "            \"Target\",\n",
    "            \"Class\",\n",
    "            \"image_set\",\n",
    "            \"Well\",\n",
    "            \"Therapeutic Categories\",\n",
    "            \"parent_organoid\",\n",
    "        ],\n",
    "    },\n",
    "}"
   ]
  },
  {
   "cell_type": "markdown",
   "id": "9f27cd30",
   "metadata": {},
   "source": [
    "## Filter significant features\n",
    "pvalue threshold is set to 0.05 - statistically significant features    \n",
    "rsquared threshold is set to 0.5 - the explained variance is at least 50% of the total variance    \n",
    "rsquared adjusted threshold is set to positive values - the model performs better than the mean    \n"
   ]
  },
  {
   "cell_type": "markdown",
   "id": "c9c0eebe",
   "metadata": {},
   "source": [
    "### Single Cell"
   ]
  },
  {
   "cell_type": "code",
   "execution_count": 3,
   "id": "cd112547",
   "metadata": {},
   "outputs": [
    {
     "name": "stdout",
     "output_type": "stream",
     "text": [
      "(45981, 14)\n"
     ]
    }
   ],
   "source": [
    "df = pd.read_parquet(\n",
    "    profile_dict[\"single_cell_fs\"][\"input_profile_path\"],\n",
    ")\n",
    "print(df.shape)"
   ]
  },
  {
   "cell_type": "code",
   "execution_count": 4,
   "id": "242db7a5",
   "metadata": {},
   "outputs": [],
   "source": [
    "pvalue_threshold_max = 0.05\n",
    "rsquared_threshold_min = 0.5\n",
    "rsquared_adj_threshold_min = 0\n",
    "coefficient_threshold_min = 1"
   ]
  },
  {
   "cell_type": "code",
   "execution_count": 5,
   "id": "68338d7a",
   "metadata": {},
   "outputs": [
    {
     "name": "stdout",
     "output_type": "stream",
     "text": [
      "(11, 14)\n"
     ]
    },
    {
     "data": {
      "text/html": [
       "<div>\n",
       "<style scoped>\n",
       "    .dataframe tbody tr th:only-of-type {\n",
       "        vertical-align: middle;\n",
       "    }\n",
       "\n",
       "    .dataframe tbody tr th {\n",
       "        vertical-align: top;\n",
       "    }\n",
       "\n",
       "    .dataframe thead th {\n",
       "        text-align: right;\n",
       "    }\n",
       "</style>\n",
       "<table border=\"1\" class=\"dataframe\">\n",
       "  <thead>\n",
       "    <tr style=\"text-align: right;\">\n",
       "      <th></th>\n",
       "      <th>patient</th>\n",
       "      <th>treatment</th>\n",
       "      <th>feature</th>\n",
       "      <th>rsquared</th>\n",
       "      <th>rsquared_adj</th>\n",
       "      <th>fvalue</th>\n",
       "      <th>pvalue</th>\n",
       "      <th>coefficient</th>\n",
       "      <th>intercept</th>\n",
       "      <th>Feature_type</th>\n",
       "      <th>Compartment</th>\n",
       "      <th>Channel</th>\n",
       "      <th>Measurement</th>\n",
       "      <th>Extra_info</th>\n",
       "    </tr>\n",
       "  </thead>\n",
       "  <tbody>\n",
       "    <tr>\n",
       "      <th>14177</th>\n",
       "      <td>NF0018</td>\n",
       "      <td>Copanlisib</td>\n",
       "      <td>Colocalization_Cell_DNAMito_MINK2</td>\n",
       "      <td>0.504153</td>\n",
       "      <td>0.500710</td>\n",
       "      <td>146.412102</td>\n",
       "      <td>1.078662e-23</td>\n",
       "      <td>59.369253</td>\n",
       "      <td>-1.052110e-15</td>\n",
       "      <td>Colocalization</td>\n",
       "      <td>Cell</td>\n",
       "      <td>DNAMito</td>\n",
       "      <td>MINK2</td>\n",
       "      <td>None</td>\n",
       "    </tr>\n",
       "    <tr>\n",
       "      <th>14179</th>\n",
       "      <td>NF0018</td>\n",
       "      <td>Copanlisib</td>\n",
       "      <td>Intensity_Cell_AGP_CMIX</td>\n",
       "      <td>0.569113</td>\n",
       "      <td>0.566121</td>\n",
       "      <td>190.194580</td>\n",
       "      <td>4.133556e-28</td>\n",
       "      <td>80.036130</td>\n",
       "      <td>2.706169e-16</td>\n",
       "      <td>Intensity</td>\n",
       "      <td>Cell</td>\n",
       "      <td>AGP</td>\n",
       "      <td>CMIX</td>\n",
       "      <td>None</td>\n",
       "    </tr>\n",
       "    <tr>\n",
       "      <th>14180</th>\n",
       "      <td>NF0018</td>\n",
       "      <td>Copanlisib</td>\n",
       "      <td>Intensity_Cell_AGP_CMIY</td>\n",
       "      <td>0.587496</td>\n",
       "      <td>0.584631</td>\n",
       "      <td>205.087513</td>\n",
       "      <td>1.763058e-29</td>\n",
       "      <td>11.835125</td>\n",
       "      <td>9.194034e-17</td>\n",
       "      <td>Intensity</td>\n",
       "      <td>Cell</td>\n",
       "      <td>AGP</td>\n",
       "      <td>CMIY</td>\n",
       "      <td>None</td>\n",
       "    </tr>\n",
       "    <tr>\n",
       "      <th>14181</th>\n",
       "      <td>NF0018</td>\n",
       "      <td>Copanlisib</td>\n",
       "      <td>Intensity_Cell_AGP_CMIZ</td>\n",
       "      <td>0.595828</td>\n",
       "      <td>0.593021</td>\n",
       "      <td>212.283801</td>\n",
       "      <td>4.029314e-30</td>\n",
       "      <td>18.708212</td>\n",
       "      <td>1.031618e-16</td>\n",
       "      <td>Intensity</td>\n",
       "      <td>Cell</td>\n",
       "      <td>AGP</td>\n",
       "      <td>CMIZ</td>\n",
       "      <td>None</td>\n",
       "    </tr>\n",
       "    <tr>\n",
       "      <th>14204</th>\n",
       "      <td>NF0018</td>\n",
       "      <td>Copanlisib</td>\n",
       "      <td>Granularity_Cell_AGP_GRANULARITY1</td>\n",
       "      <td>0.887865</td>\n",
       "      <td>0.887086</td>\n",
       "      <td>1140.161933</td>\n",
       "      <td>2.684918e-70</td>\n",
       "      <td>-44.175199</td>\n",
       "      <td>6.980527e-15</td>\n",
       "      <td>Granularity</td>\n",
       "      <td>Cell</td>\n",
       "      <td>AGP</td>\n",
       "      <td>GRANULARITY1</td>\n",
       "      <td>None</td>\n",
       "    </tr>\n",
       "  </tbody>\n",
       "</table>\n",
       "</div>"
      ],
      "text/plain": [
       "      patient   treatment                            feature  rsquared  \\\n",
       "14177  NF0018  Copanlisib  Colocalization_Cell_DNAMito_MINK2  0.504153   \n",
       "14179  NF0018  Copanlisib            Intensity_Cell_AGP_CMIX  0.569113   \n",
       "14180  NF0018  Copanlisib            Intensity_Cell_AGP_CMIY  0.587496   \n",
       "14181  NF0018  Copanlisib            Intensity_Cell_AGP_CMIZ  0.595828   \n",
       "14204  NF0018  Copanlisib  Granularity_Cell_AGP_GRANULARITY1  0.887865   \n",
       "\n",
       "       rsquared_adj       fvalue        pvalue  coefficient     intercept  \\\n",
       "14177      0.500710   146.412102  1.078662e-23    59.369253 -1.052110e-15   \n",
       "14179      0.566121   190.194580  4.133556e-28    80.036130  2.706169e-16   \n",
       "14180      0.584631   205.087513  1.763058e-29    11.835125  9.194034e-17   \n",
       "14181      0.593021   212.283801  4.029314e-30    18.708212  1.031618e-16   \n",
       "14204      0.887086  1140.161933  2.684918e-70   -44.175199  6.980527e-15   \n",
       "\n",
       "         Feature_type Compartment  Channel   Measurement Extra_info  \n",
       "14177  Colocalization        Cell  DNAMito         MINK2       None  \n",
       "14179       Intensity        Cell      AGP          CMIX       None  \n",
       "14180       Intensity        Cell      AGP          CMIY       None  \n",
       "14181       Intensity        Cell      AGP          CMIZ       None  \n",
       "14204     Granularity        Cell      AGP  GRANULARITY1       None  "
      ]
     },
     "execution_count": 5,
     "metadata": {},
     "output_type": "execute_result"
    }
   ],
   "source": [
    "# filter significant features\n",
    "df_filtered = df[\n",
    "    (df[\"pvalue\"] < pvalue_threshold_max)\n",
    "    & (df[\"rsquared\"] > rsquared_threshold_min)\n",
    "    & (df[\"rsquared_adj\"] > rsquared_adj_threshold_min)\n",
    "    & (df[\"coefficient\"].abs() > coefficient_threshold_min)\n",
    "].copy()\n",
    "print(df_filtered.shape)\n",
    "df_filtered.head()"
   ]
  },
  {
   "cell_type": "code",
   "execution_count": 6,
   "id": "c7f7a54f",
   "metadata": {},
   "outputs": [
    {
     "data": {
      "text/plain": [
       "array(['Copanlisib', 'Selumetinib'], dtype=object)"
      ]
     },
     "execution_count": 6,
     "metadata": {},
     "output_type": "execute_result"
    }
   ],
   "source": [
    "df_filtered[\"treatment\"].unique()"
   ]
  },
  {
   "cell_type": "code",
   "execution_count": 7,
   "id": "14383d1e",
   "metadata": {},
   "outputs": [
    {
     "data": {
      "text/plain": [
       "array(['NF0018', 'NF0030'], dtype=object)"
      ]
     },
     "execution_count": 7,
     "metadata": {},
     "output_type": "execute_result"
    }
   ],
   "source": [
    "df_filtered[\"patient\"].unique()"
   ]
  },
  {
   "cell_type": "code",
   "execution_count": 8,
   "id": "dbfad2d3",
   "metadata": {},
   "outputs": [
    {
     "data": {
      "text/plain": [
       "array(['Colocalization_Cell_DNAMito_MINK2', 'Intensity_Cell_AGP_CMIX',\n",
       "       'Intensity_Cell_AGP_CMIY', 'Intensity_Cell_AGP_CMIZ',\n",
       "       'Granularity_Cell_AGP_GRANULARITY1',\n",
       "       'Granularity_Cell_AGP_GRANULARITY2',\n",
       "       'Intensity_Cytoplasm_AGP_CMIX',\n",
       "       'Granularity_Cytoplasm_AGP_GRANULARITY1',\n",
       "       'Colocalization_Nuclei_DNAMito_MINK2',\n",
       "       'Colocalization_Cytoplasm_AGPMito_MINK2'], dtype=object)"
      ]
     },
     "execution_count": 8,
     "metadata": {},
     "output_type": "execute_result"
    }
   ],
   "source": [
    "df_filtered[\"feature\"].unique()"
   ]
  },
  {
   "cell_type": "markdown",
   "id": "071b0ec9",
   "metadata": {},
   "source": [
    "### Organoid"
   ]
  },
  {
   "cell_type": "code",
   "execution_count": 9,
   "id": "542d920f",
   "metadata": {},
   "outputs": [
    {
     "name": "stdout",
     "output_type": "stream",
     "text": [
      "(18876, 14)\n"
     ]
    }
   ],
   "source": [
    "df = pd.read_parquet(\n",
    "    profile_dict[\"organoid_fs\"][\"input_profile_path\"],\n",
    ")\n",
    "print(df.shape)"
   ]
  },
  {
   "cell_type": "code",
   "execution_count": 10,
   "id": "ca38d663",
   "metadata": {},
   "outputs": [],
   "source": [
    "pvalue_threshold_max = 0.05\n",
    "rsquared_threshold_min = 0.4\n",
    "rsquared_adj_threshold_min = 0\n",
    "coefficient_threshold_min = 1"
   ]
  },
  {
   "cell_type": "code",
   "execution_count": 11,
   "id": "c9628c81",
   "metadata": {},
   "outputs": [
    {
     "name": "stdout",
     "output_type": "stream",
     "text": [
      "(133, 14)\n"
     ]
    },
    {
     "data": {
      "text/html": [
       "<div>\n",
       "<style scoped>\n",
       "    .dataframe tbody tr th:only-of-type {\n",
       "        vertical-align: middle;\n",
       "    }\n",
       "\n",
       "    .dataframe tbody tr th {\n",
       "        vertical-align: top;\n",
       "    }\n",
       "\n",
       "    .dataframe thead th {\n",
       "        text-align: right;\n",
       "    }\n",
       "</style>\n",
       "<table border=\"1\" class=\"dataframe\">\n",
       "  <thead>\n",
       "    <tr style=\"text-align: right;\">\n",
       "      <th></th>\n",
       "      <th>patient</th>\n",
       "      <th>treatment</th>\n",
       "      <th>feature</th>\n",
       "      <th>rsquared</th>\n",
       "      <th>rsquared_adj</th>\n",
       "      <th>fvalue</th>\n",
       "      <th>pvalue</th>\n",
       "      <th>coefficient</th>\n",
       "      <th>intercept</th>\n",
       "      <th>Feature_type</th>\n",
       "      <th>Compartment</th>\n",
       "      <th>Channel</th>\n",
       "      <th>Measurement</th>\n",
       "      <th>Extra_info</th>\n",
       "    </tr>\n",
       "  </thead>\n",
       "  <tbody>\n",
       "    <tr>\n",
       "      <th>89</th>\n",
       "      <td>NF0014</td>\n",
       "      <td>Mirdametinib</td>\n",
       "      <td>Intensity_Organoid_ER_STDINTENSITY</td>\n",
       "      <td>0.447425</td>\n",
       "      <td>0.423400</td>\n",
       "      <td>18.623301</td>\n",
       "      <td>0.000256</td>\n",
       "      <td>-1.745595</td>\n",
       "      <td>1.536424e-16</td>\n",
       "      <td>Intensity</td>\n",
       "      <td>Organoid</td>\n",
       "      <td>ER</td>\n",
       "      <td>STDINTENSITY</td>\n",
       "      <td>None</td>\n",
       "    </tr>\n",
       "    <tr>\n",
       "      <th>90</th>\n",
       "      <td>NF0014</td>\n",
       "      <td>Mirdametinib</td>\n",
       "      <td>Intensity_Organoid_ER_STDINTENSITYEDGE</td>\n",
       "      <td>0.402125</td>\n",
       "      <td>0.376130</td>\n",
       "      <td>15.469554</td>\n",
       "      <td>0.000664</td>\n",
       "      <td>-1.665961</td>\n",
       "      <td>2.317867e-17</td>\n",
       "      <td>Intensity</td>\n",
       "      <td>Organoid</td>\n",
       "      <td>ER</td>\n",
       "      <td>STDINTENSITYEDGE</td>\n",
       "      <td>None</td>\n",
       "    </tr>\n",
       "    <tr>\n",
       "      <th>143</th>\n",
       "      <td>NF0014</td>\n",
       "      <td>Fimepinostat</td>\n",
       "      <td>AreaSizeShape_Organoid_VOLUME</td>\n",
       "      <td>0.456506</td>\n",
       "      <td>0.427901</td>\n",
       "      <td>15.958957</td>\n",
       "      <td>0.000775</td>\n",
       "      <td>-2.108811</td>\n",
       "      <td>5.228555e-16</td>\n",
       "      <td>AreaSizeShape</td>\n",
       "      <td>Organoid</td>\n",
       "      <td>None</td>\n",
       "      <td>VOLUME</td>\n",
       "      <td>None</td>\n",
       "    </tr>\n",
       "    <tr>\n",
       "      <th>146</th>\n",
       "      <td>NF0014</td>\n",
       "      <td>Fimepinostat</td>\n",
       "      <td>AreaSizeShape_Organoid_EQUIVALENTDIAMETER</td>\n",
       "      <td>0.628190</td>\n",
       "      <td>0.608621</td>\n",
       "      <td>32.101402</td>\n",
       "      <td>0.000018</td>\n",
       "      <td>-3.092539</td>\n",
       "      <td>6.538228e-17</td>\n",
       "      <td>AreaSizeShape</td>\n",
       "      <td>Organoid</td>\n",
       "      <td>None</td>\n",
       "      <td>EQUIVALENTDIAMETER</td>\n",
       "      <td>None</td>\n",
       "    </tr>\n",
       "    <tr>\n",
       "      <th>154</th>\n",
       "      <td>NF0014</td>\n",
       "      <td>Fimepinostat</td>\n",
       "      <td>Colocalization_Organoid_AGPER_MAXMANDERSCOEFFC...</td>\n",
       "      <td>0.403456</td>\n",
       "      <td>0.372059</td>\n",
       "      <td>12.850147</td>\n",
       "      <td>0.001976</td>\n",
       "      <td>-2.665425</td>\n",
       "      <td>4.232982e-14</td>\n",
       "      <td>Colocalization</td>\n",
       "      <td>Organoid</td>\n",
       "      <td>AGPER</td>\n",
       "      <td>MAXMANDERSCOEFFCOSTESM1</td>\n",
       "      <td>None</td>\n",
       "    </tr>\n",
       "  </tbody>\n",
       "</table>\n",
       "</div>"
      ],
      "text/plain": [
       "    patient     treatment                                            feature  \\\n",
       "89   NF0014  Mirdametinib                 Intensity_Organoid_ER_STDINTENSITY   \n",
       "90   NF0014  Mirdametinib             Intensity_Organoid_ER_STDINTENSITYEDGE   \n",
       "143  NF0014  Fimepinostat                      AreaSizeShape_Organoid_VOLUME   \n",
       "146  NF0014  Fimepinostat          AreaSizeShape_Organoid_EQUIVALENTDIAMETER   \n",
       "154  NF0014  Fimepinostat  Colocalization_Organoid_AGPER_MAXMANDERSCOEFFC...   \n",
       "\n",
       "     rsquared  rsquared_adj     fvalue    pvalue  coefficient     intercept  \\\n",
       "89   0.447425      0.423400  18.623301  0.000256    -1.745595  1.536424e-16   \n",
       "90   0.402125      0.376130  15.469554  0.000664    -1.665961  2.317867e-17   \n",
       "143  0.456506      0.427901  15.958957  0.000775    -2.108811  5.228555e-16   \n",
       "146  0.628190      0.608621  32.101402  0.000018    -3.092539  6.538228e-17   \n",
       "154  0.403456      0.372059  12.850147  0.001976    -2.665425  4.232982e-14   \n",
       "\n",
       "       Feature_type Compartment Channel              Measurement Extra_info  \n",
       "89        Intensity    Organoid      ER             STDINTENSITY       None  \n",
       "90        Intensity    Organoid      ER         STDINTENSITYEDGE       None  \n",
       "143   AreaSizeShape    Organoid    None                   VOLUME       None  \n",
       "146   AreaSizeShape    Organoid    None       EQUIVALENTDIAMETER       None  \n",
       "154  Colocalization    Organoid   AGPER  MAXMANDERSCOEFFCOSTESM1       None  "
      ]
     },
     "execution_count": 11,
     "metadata": {},
     "output_type": "execute_result"
    }
   ],
   "source": [
    "# filter significant features\n",
    "df_filtered = df[\n",
    "    (df[\"pvalue\"] < pvalue_threshold_max)\n",
    "    & (df[\"rsquared\"] > rsquared_threshold_min)\n",
    "    & (df[\"rsquared_adj\"] > rsquared_adj_threshold_min)\n",
    "    & (df[\"coefficient\"].abs() > coefficient_threshold_min)\n",
    "].copy()\n",
    "print(df_filtered.shape)\n",
    "df_filtered.head()"
   ]
  },
  {
   "cell_type": "code",
   "execution_count": 12,
   "id": "bc78c417",
   "metadata": {},
   "outputs": [
    {
     "data": {
      "text/plain": [
       "array(['Mirdametinib', 'Fimepinostat', 'Staurosporine', 'Binimetinib',\n",
       "       'Copanlisib', 'Cabozantinib', 'Onalespib', 'Rapamycin', 'Digoxin',\n",
       "       'Ketotifen', 'Trametinib', 'Linsitinib', 'Imatinib', 'Everolimus',\n",
       "       'Selumetinib'], dtype=object)"
      ]
     },
     "execution_count": 12,
     "metadata": {},
     "output_type": "execute_result"
    }
   ],
   "source": [
    "df_filtered[\"treatment\"].unique()"
   ]
  },
  {
   "cell_type": "code",
   "execution_count": 13,
   "id": "99cc4157",
   "metadata": {},
   "outputs": [
    {
     "data": {
      "text/plain": [
       "array(['NF0014', 'NF0016', 'NF0018', 'NF0021', 'NF0030', 'SARCO219'],\n",
       "      dtype=object)"
      ]
     },
     "execution_count": 13,
     "metadata": {},
     "output_type": "execute_result"
    }
   ],
   "source": [
    "df_filtered[\"patient\"].unique()"
   ]
  },
  {
   "cell_type": "code",
   "execution_count": 14,
   "id": "669ef3d9",
   "metadata": {},
   "outputs": [
    {
     "data": {
      "text/plain": [
       "array(['Intensity_Organoid_ER_STDINTENSITY',\n",
       "       'Intensity_Organoid_ER_STDINTENSITYEDGE',\n",
       "       'AreaSizeShape_Organoid_VOLUME',\n",
       "       'AreaSizeShape_Organoid_EQUIVALENTDIAMETER',\n",
       "       'Colocalization_Organoid_AGPER_MAXMANDERSCOEFFCOSTESM1',\n",
       "       'Colocalization_Organoid_DNAAGP_MEANCORRELATIONCOEFF',\n",
       "       'Colocalization_Organoid_DNAAGP_MINMANDERSCOEFFCOSTESM1',\n",
       "       'Colocalization_Organoid_DNAER_MEDIANCORRELATIONCOEFF',\n",
       "       'Colocalization_Organoid_DNAER_MEDIANMANDERSCOEFFCOSTESM1',\n",
       "       'Intensity_Organoid_DNA_CMIX',\n",
       "       'Intensity_Organoid_DNA_INTEGRATEDINTENSITYEDGE',\n",
       "       'Intensity_Organoid_DNA_LOWERQUARTILEINTENSITY',\n",
       "       'Intensity_Organoid_DNA_MEANINTENSITYEDGE',\n",
       "       'Intensity_Organoid_ER_DIFFZ',\n",
       "       'Intensity_Organoid_ER_INTEGRATEDINTENSITY',\n",
       "       'Intensity_Organoid_ER_INTEGRATEDINTENSITYEDGE',\n",
       "       'Intensity_Organoid_ER_LOWERQUARTILEINTENSITY',\n",
       "       'Intensity_Organoid_ER_MEANINTENSITYEDGE',\n",
       "       'Intensity_Organoid_Mito_CMZ',\n",
       "       'Intensity_Organoid_Mito_INTEGRATEDINTENSITYEDGE',\n",
       "       'Granularity_Organoid_AGP_GRANULARITY10',\n",
       "       'Granularity_Organoid_ER_GRANULARITY5',\n",
       "       'Granularity_Organoid_Mito_GRANULARITY6',\n",
       "       'Granularity_Organoid_Mito_GRANULARITY8',\n",
       "       'Texture_Organoid_ER_InformationMeasureofCorrelation2_2563',\n",
       "       'Intensity_Organoid_DNA_INTEGRATEDINTENSITY',\n",
       "       'Intensity_Organoid_DNA_STDINTENSITY', 'Intensity_Organoid_ER_IY',\n",
       "       'Intensity_Organoid_ER_MININTENSITY',\n",
       "       'Intensity_Organoid_Mito_INTEGRATEDINTENSITY',\n",
       "       'Granularity_Organoid_AGP_GRANULARITY1',\n",
       "       'Granularity_Organoid_AGP_GRANULARITY2',\n",
       "       'Granularity_Organoid_AGP_GRANULARITY3',\n",
       "       'Granularity_Organoid_ER_GRANULARITY1',\n",
       "       'Granularity_Organoid_ER_GRANULARITY2',\n",
       "       'Granularity_Organoid_ER_GRANULARITY3',\n",
       "       'Texture_Organoid_AGP_AngularSecondMoment_2563',\n",
       "       'Texture_Organoid_DNA_SumAverage_2563',\n",
       "       'Texture_Organoid_Mito_DifferenceEntropy_2563',\n",
       "       'Texture_Organoid_Mito_InverseDifferenceMoment_2563',\n",
       "       'Colocalization_Organoid_DNAAGP_MINMANDERSCOEFFM1',\n",
       "       'Colocalization_Organoid_DNAMito_MEANMANDERSCOEFFCOSTESM1',\n",
       "       'Colocalization_Organoid_AGPMito_MEANMANDERSCOEFFM2',\n",
       "       'Intensity_Organoid_AGP_MAXINTENSITYEDGE',\n",
       "       'Intensity_Organoid_Mito_STDINTENSITY',\n",
       "       'Intensity_Organoid_DNA_STDINTENSITYEDGE',\n",
       "       'Colocalization_Organoid_AGPER_MAXK2',\n",
       "       'Colocalization_Organoid_DNAMito_MINOVERLAPCOEFF',\n",
       "       'Intensity_Organoid_DNA_MADINTENSITY',\n",
       "       'Intensity_Organoid_DNA_MAXINTENSITYEDGE',\n",
       "       'Intensity_Organoid_DNA_MEANINTENSITY',\n",
       "       'Texture_Organoid_DNA_Contrast_2563',\n",
       "       'Intensity_Organoid_AGP_CMIZ',\n",
       "       'Intensity_Organoid_Mito_MEANINTENSITYEDGE',\n",
       "       'Colocalization_Organoid_AGPMito_MEDIANCORRELATIONCOEFF',\n",
       "       'Colocalization_Organoid_AGPER_MINMANDERSCOEFFCOSTESM2',\n",
       "       'Colocalization_Organoid_AGPMito_MEDIANMANDERSCOEFFCOSTESM2',\n",
       "       'Granularity_Organoid_AGP_GRANULARITY13',\n",
       "       'Granularity_Organoid_AGP_GRANULARITY16',\n",
       "       'Granularity_Organoid_Mito_GRANULARITY16',\n",
       "       'Texture_Organoid_ER_Variance_2563',\n",
       "       'Colocalization_Organoid_DNAAGP_MINMANDERSCOEFFM2',\n",
       "       'Intensity_Organoid_AGP_CMX', 'Intensity_Organoid_Mito_DIFFX',\n",
       "       'Intensity_Organoid_ER_MAXINTENSITYEDGE'], dtype=object)"
      ]
     },
     "execution_count": 14,
     "metadata": {},
     "output_type": "execute_result"
    }
   ],
   "source": [
    "df_filtered[\"feature\"].unique()"
   ]
  }
 ],
 "metadata": {
  "kernelspec": {
   "display_name": "GFF_analysis",
   "language": "python",
   "name": "python3"
  },
  "language_info": {
   "codemirror_mode": {
    "name": "ipython",
    "version": 3
   },
   "file_extension": ".py",
   "mimetype": "text/x-python",
   "name": "python",
   "nbconvert_exporter": "python",
   "pygments_lexer": "ipython3",
   "version": "3.12.11"
  }
 },
 "nbformat": 4,
 "nbformat_minor": 5
}
