{
 "cells": [
  {
   "cell_type": "code",
   "execution_count": 1,
   "id": "3752913b",
   "metadata": {},
   "outputs": [],
   "source": [
    "import pathlib\n",
    "import warnings\n",
    "\n",
    "import pandas as pd\n",
    "import statsmodels.formula.api as smf\n",
    "\n",
    "warnings.filterwarnings(\"ignore\")  # Ignore all warnings\n",
    "warnings.simplefilter(\"ignore\")  # Additional suppression method\n",
    "\n",
    "try:\n",
    "    cfg = get_ipython().config\n",
    "    in_notebook = True\n",
    "except NameError:\n",
    "    in_notebook = False\n",
    "if in_notebook:\n",
    "    from tqdm.notebook import tqdm\n",
    "else:\n",
    "    from tqdm import tqdm\n",
    "# Get the current working directory\n",
    "cwd = pathlib.Path.cwd()\n",
    "\n",
    "if (cwd / \".git\").is_dir():\n",
    "    root_dir = cwd\n",
    "\n",
    "else:\n",
    "    root_dir = None\n",
    "    for parent in cwd.parents:\n",
    "        if (parent / \".git\").is_dir():\n",
    "            root_dir = parent\n",
    "            break\n",
    "\n",
    "# Check if a Git root directory was found\n",
    "if root_dir is None:\n",
    "    raise FileNotFoundError(\"No Git root directory found.\")"
   ]
  },
  {
   "cell_type": "code",
   "execution_count": 2,
   "id": "2efeeac0",
   "metadata": {},
   "outputs": [],
   "source": [
    "profile_dict = {\n",
    "    \"organoid_fs\": {\n",
    "        \"input_profile_path\": pathlib.Path(\n",
    "            root_dir, \"5.EDA/results/linear_modeling/organoid_fs.parquet\"\n",
    "        ),\n",
    "        \"metadata_columns\": [\n",
    "            \"patient\",\n",
    "            \"object_id\",\n",
    "            \"unit\",\n",
    "            \"dose\",\n",
    "            \"treatment\",\n",
    "            \"Target\",\n",
    "            \"Class\",\n",
    "            \"image_set\",\n",
    "            \"Well\",\n",
    "            \"Therapeutic Categories\",\n",
    "            \"single_cell_count\",\n",
    "        ],\n",
    "    },\n",
    "    \"single_cell_fs\": {\n",
    "        \"input_profile_path\": pathlib.Path(\n",
    "            root_dir, \"5.EDA/results/linear_modeling/sc_fs.parquet\"\n",
    "        ),\n",
    "        \"metadata_columns\": [\n",
    "            \"patient\",\n",
    "            \"object_id\",\n",
    "            \"unit\",\n",
    "            \"dose\",\n",
    "            \"treatment\",\n",
    "            \"Target\",\n",
    "            \"Class\",\n",
    "            \"image_set\",\n",
    "            \"Well\",\n",
    "            \"Therapeutic Categories\",\n",
    "            \"parent_organoid\",\n",
    "        ],\n",
    "    },\n",
    "}"
   ]
  },
  {
   "cell_type": "markdown",
   "id": "9f27cd30",
   "metadata": {},
   "source": [
    "## Filter significant features\n",
    "pvalue threshold is set to 0.05 - statistically significant features    \n",
    "rsquared threshold is set to 0.5 - the explained variance is at least 50% of the total variance    \n",
    "rsquared adjusted threshold is set to positive values - the model performs better than the mean    \n"
   ]
  },
  {
   "cell_type": "code",
   "execution_count": 53,
   "id": "cd112547",
   "metadata": {},
   "outputs": [
    {
     "name": "stdout",
     "output_type": "stream",
     "text": [
      "(33143, 14)\n"
     ]
    }
   ],
   "source": [
    "df = pd.read_parquet(\n",
    "    profile_dict[\"single_cell_fs\"][\"input_profile_path\"],\n",
    ")\n",
    "print(df.shape)"
   ]
  },
  {
   "cell_type": "code",
   "execution_count": 59,
   "id": "242db7a5",
   "metadata": {},
   "outputs": [],
   "source": [
    "pvalue_threshold_max = 0.05\n",
    "rsquared_threshold_min = 0.4\n",
    "rsquared_adj_threshold_min = 0\n",
    "coefficient_threshold_min = 1"
   ]
  },
  {
   "cell_type": "code",
   "execution_count": 60,
   "id": "68338d7a",
   "metadata": {},
   "outputs": [
    {
     "name": "stdout",
     "output_type": "stream",
     "text": [
      "(24, 14)\n"
     ]
    },
    {
     "data": {
      "text/html": [
       "<div>\n",
       "<style scoped>\n",
       "    .dataframe tbody tr th:only-of-type {\n",
       "        vertical-align: middle;\n",
       "    }\n",
       "\n",
       "    .dataframe tbody tr th {\n",
       "        vertical-align: top;\n",
       "    }\n",
       "\n",
       "    .dataframe thead th {\n",
       "        text-align: right;\n",
       "    }\n",
       "</style>\n",
       "<table border=\"1\" class=\"dataframe\">\n",
       "  <thead>\n",
       "    <tr style=\"text-align: right;\">\n",
       "      <th></th>\n",
       "      <th>patient</th>\n",
       "      <th>treatment</th>\n",
       "      <th>feature</th>\n",
       "      <th>rsquared</th>\n",
       "      <th>rsquared_adj</th>\n",
       "      <th>fvalue</th>\n",
       "      <th>pvalue</th>\n",
       "      <th>coefficient</th>\n",
       "      <th>intercept</th>\n",
       "      <th>Feature_type</th>\n",
       "      <th>Compartment</th>\n",
       "      <th>Channel</th>\n",
       "      <th>Measurement</th>\n",
       "      <th>Extra_info</th>\n",
       "    </tr>\n",
       "  </thead>\n",
       "  <tbody>\n",
       "    <tr>\n",
       "      <th>7094</th>\n",
       "      <td>NF0016</td>\n",
       "      <td>Ketotifen</td>\n",
       "      <td>Colocalization_Nuclei_AGPMito_MEANOVERLAPCOEFF</td>\n",
       "      <td>0.419794</td>\n",
       "      <td>0.412719</td>\n",
       "      <td>59.329163</td>\n",
       "      <td>2.705052e-11</td>\n",
       "      <td>3.260447</td>\n",
       "      <td>-3.989864e-16</td>\n",
       "      <td>Colocalization</td>\n",
       "      <td>Nuclei</td>\n",
       "      <td>AGPMito</td>\n",
       "      <td>MEANOVERLAPCOEFF</td>\n",
       "      <td>None</td>\n",
       "    </tr>\n",
       "    <tr>\n",
       "      <th>7295</th>\n",
       "      <td>NF0016</td>\n",
       "      <td>Ketotifen</td>\n",
       "      <td>Intensity_Cytoplasm_Mito_MININTENSITY</td>\n",
       "      <td>0.493712</td>\n",
       "      <td>0.487538</td>\n",
       "      <td>79.963279</td>\n",
       "      <td>9.377955e-14</td>\n",
       "      <td>2.996913</td>\n",
       "      <td>-2.255141e-16</td>\n",
       "      <td>Intensity</td>\n",
       "      <td>Cytoplasm</td>\n",
       "      <td>Mito</td>\n",
       "      <td>MININTENSITY</td>\n",
       "      <td>None</td>\n",
       "    </tr>\n",
       "    <tr>\n",
       "      <th>10148</th>\n",
       "      <td>NF0018</td>\n",
       "      <td>Copanlisib</td>\n",
       "      <td>Colocalization_Nuclei_DNAMito_MINK2</td>\n",
       "      <td>0.495091</td>\n",
       "      <td>0.491585</td>\n",
       "      <td>141.199938</td>\n",
       "      <td>4.008850e-23</td>\n",
       "      <td>47.083873</td>\n",
       "      <td>1.595946e-16</td>\n",
       "      <td>Colocalization</td>\n",
       "      <td>Nuclei</td>\n",
       "      <td>DNAMito</td>\n",
       "      <td>MINK2</td>\n",
       "      <td>None</td>\n",
       "    </tr>\n",
       "    <tr>\n",
       "      <th>10224</th>\n",
       "      <td>NF0018</td>\n",
       "      <td>Copanlisib</td>\n",
       "      <td>Colocalization_Cell_DNAMito_MINK2</td>\n",
       "      <td>0.504153</td>\n",
       "      <td>0.500710</td>\n",
       "      <td>146.412102</td>\n",
       "      <td>1.078662e-23</td>\n",
       "      <td>59.369253</td>\n",
       "      <td>-1.052110e-15</td>\n",
       "      <td>Colocalization</td>\n",
       "      <td>Cell</td>\n",
       "      <td>DNAMito</td>\n",
       "      <td>MINK2</td>\n",
       "      <td>None</td>\n",
       "    </tr>\n",
       "    <tr>\n",
       "      <th>10226</th>\n",
       "      <td>NF0018</td>\n",
       "      <td>Copanlisib</td>\n",
       "      <td>Intensity_Cell_AGP_CMIX</td>\n",
       "      <td>0.569113</td>\n",
       "      <td>0.566121</td>\n",
       "      <td>190.194580</td>\n",
       "      <td>4.133556e-28</td>\n",
       "      <td>80.036130</td>\n",
       "      <td>2.706169e-16</td>\n",
       "      <td>Intensity</td>\n",
       "      <td>Cell</td>\n",
       "      <td>AGP</td>\n",
       "      <td>CMIX</td>\n",
       "      <td>None</td>\n",
       "    </tr>\n",
       "  </tbody>\n",
       "</table>\n",
       "</div>"
      ],
      "text/plain": [
       "      patient   treatment                                         feature  \\\n",
       "7094   NF0016   Ketotifen  Colocalization_Nuclei_AGPMito_MEANOVERLAPCOEFF   \n",
       "7295   NF0016   Ketotifen           Intensity_Cytoplasm_Mito_MININTENSITY   \n",
       "10148  NF0018  Copanlisib             Colocalization_Nuclei_DNAMito_MINK2   \n",
       "10224  NF0018  Copanlisib               Colocalization_Cell_DNAMito_MINK2   \n",
       "10226  NF0018  Copanlisib                         Intensity_Cell_AGP_CMIX   \n",
       "\n",
       "       rsquared  rsquared_adj      fvalue        pvalue  coefficient  \\\n",
       "7094   0.419794      0.412719   59.329163  2.705052e-11     3.260447   \n",
       "7295   0.493712      0.487538   79.963279  9.377955e-14     2.996913   \n",
       "10148  0.495091      0.491585  141.199938  4.008850e-23    47.083873   \n",
       "10224  0.504153      0.500710  146.412102  1.078662e-23    59.369253   \n",
       "10226  0.569113      0.566121  190.194580  4.133556e-28    80.036130   \n",
       "\n",
       "          intercept    Feature_type Compartment  Channel       Measurement  \\\n",
       "7094  -3.989864e-16  Colocalization      Nuclei  AGPMito  MEANOVERLAPCOEFF   \n",
       "7295  -2.255141e-16       Intensity   Cytoplasm     Mito      MININTENSITY   \n",
       "10148  1.595946e-16  Colocalization      Nuclei  DNAMito             MINK2   \n",
       "10224 -1.052110e-15  Colocalization        Cell  DNAMito             MINK2   \n",
       "10226  2.706169e-16       Intensity        Cell      AGP              CMIX   \n",
       "\n",
       "      Extra_info  \n",
       "7094        None  \n",
       "7295        None  \n",
       "10148       None  \n",
       "10224       None  \n",
       "10226       None  "
      ]
     },
     "execution_count": 60,
     "metadata": {},
     "output_type": "execute_result"
    }
   ],
   "source": [
    "# filter significant features\n",
    "df_filtered = df[\n",
    "    (df[\"pvalue\"] < pvalue_threshold_max)\n",
    "    & (df[\"rsquared\"] > rsquared_threshold_min)\n",
    "    & (df[\"rsquared_adj\"] > rsquared_adj_threshold_min)\n",
    "    & (df[\"coefficient\"].abs() > coefficient_threshold_min)\n",
    "].copy()\n",
    "print(df_filtered.shape)\n",
    "df_filtered.head()"
   ]
  },
  {
   "cell_type": "code",
   "execution_count": 61,
   "id": "c7f7a54f",
   "metadata": {},
   "outputs": [
    {
     "data": {
      "text/plain": [
       "array(['Ketotifen', 'Copanlisib', 'Selumetinib'], dtype=object)"
      ]
     },
     "execution_count": 61,
     "metadata": {},
     "output_type": "execute_result"
    }
   ],
   "source": [
    "df_filtered[\"treatment\"].unique()"
   ]
  },
  {
   "cell_type": "code",
   "execution_count": 62,
   "id": "14383d1e",
   "metadata": {},
   "outputs": [
    {
     "data": {
      "text/plain": [
       "array(['NF0016', 'NF0018', 'NF0030'], dtype=object)"
      ]
     },
     "execution_count": 62,
     "metadata": {},
     "output_type": "execute_result"
    }
   ],
   "source": [
    "df_filtered[\"patient\"].unique()"
   ]
  },
  {
   "cell_type": "code",
   "execution_count": 63,
   "id": "dbfad2d3",
   "metadata": {},
   "outputs": [
    {
     "data": {
      "text/plain": [
       "array(['Colocalization_Nuclei_AGPMito_MEANOVERLAPCOEFF',\n",
       "       'Intensity_Cytoplasm_Mito_MININTENSITY',\n",
       "       'Colocalization_Nuclei_DNAMito_MINK2',\n",
       "       'Colocalization_Cell_DNAMito_MINK2', 'Intensity_Cell_AGP_CMIX',\n",
       "       'Intensity_Cell_AGP_CMIY', 'Intensity_Cell_ER_CMIX',\n",
       "       'Granularity_Cell_AGP_GRANULARITY1',\n",
       "       'Granularity_Cell_AGP_GRANULARITY2',\n",
       "       'Granularity_Cell_Mito_GRANULARITY1',\n",
       "       'AreaSizeShape_Cytoplasm_VOLUME',\n",
       "       'Colocalization_Cytoplasm_DNAER_MEANK2',\n",
       "       'Colocalization_Cytoplasm_ERMito_MAXMANDERSCOEFFCOSTESM2',\n",
       "       'Intensity_Cytoplasm_AGP_CMIX', 'Intensity_Cytoplasm_Mito_CMIZ',\n",
       "       'Granularity_Cytoplasm_AGP_GRANULARITY1',\n",
       "       'Granularity_Cytoplasm_Mito_GRANULARITY1',\n",
       "       'Intensity_Nuclei_Mito_MEANINTENSITYEDGE',\n",
       "       'Intensity_Nuclei_Mito_MININTENSITY',\n",
       "       'Colocalization_Cytoplasm_AGPMito_MEANCORRELATIONCOEFF',\n",
       "       'Colocalization_Cytoplasm_AGPMito_MINK2',\n",
       "       'Colocalization_Cytoplasm_ERMito_MINK2'], dtype=object)"
      ]
     },
     "execution_count": 63,
     "metadata": {},
     "output_type": "execute_result"
    }
   ],
   "source": [
    "df_filtered[\"feature\"].unique()"
   ]
  }
 ],
 "metadata": {
  "kernelspec": {
   "display_name": "GFF_analysis",
   "language": "python",
   "name": "python3"
  },
  "language_info": {
   "codemirror_mode": {
    "name": "ipython",
    "version": 3
   },
   "file_extension": ".py",
   "mimetype": "text/x-python",
   "name": "python",
   "nbconvert_exporter": "python",
   "pygments_lexer": "ipython3",
   "version": "3.12.11"
  }
 },
 "nbformat": 4,
 "nbformat_minor": 5
}
