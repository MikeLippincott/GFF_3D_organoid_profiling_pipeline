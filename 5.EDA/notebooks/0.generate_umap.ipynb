{
    "cells": [
        {
            "cell_type": "code",
            "execution_count": 1,
            "id": "62efb8fa",
            "metadata": {},
            "outputs": [],
            "source": [
                "import pathlib\n",
                "\n",
                "import numpy as np\n",
                "import pandas as pd\n",
                "import umap"
            ]
        },
        {
            "cell_type": "code",
            "execution_count": null,
            "id": "091582c7",
            "metadata": {},
            "outputs": [],
            "source": [
                "# paths to data\n",
                "data_dict = {\n",
                "    \"NF0014\": {\n",
                "        \"organoid_feature_selection\": {\n",
                "            \"input_path\": pathlib.Path(\n",
                "                \"../../data/NF0014/image_based_profiles/3.organoid_fs_profiles.parquet\"\n",
                "            ),\n",
                "            \"output_path\": pathlib.Path(\n",
                "                \"../results/NF0014/3.organoid_fs_profiles_umap.parquet\"\n",
                "            ),\n",
                "        },\n",
                "        \"sc_feature_selection\": {\n",
                "            \"input_path\": pathlib.Path(\n",
                "                \"../../data/NF0014/image_based_profiles/3.sc_fs_profiles.parquet\"\n",
                "            ),\n",
                "            \"output_path\": pathlib.Path(\n",
                "                \"../results/NF0014/3.sc_fs_profiles_umap.parquet\"\n",
                "            ),\n",
                "        },\n",
                "        \"sc_consensus_profiles\": {\n",
                "            \"input_path\": pathlib.Path(\n",
                "                \"../../data/NF0014/image_based_profiles/4.sc_consensus_profiles.parquet\"\n",
                "            ),\n",
                "            \"output_path\": pathlib.Path(\n",
                "                \"../results/NF0014/4.sc_consensus_profiles_umap.parquet\"\n",
                "            ),\n",
                "        },\n",
                "        \"organoid_consensus_profiles\": {\n",
                "            \"input_path\": pathlib.Path(\n",
                "                \"../../data/NF0014/image_based_profiles/4.organoid_consensus_profiles.parquet\"\n",
                "            ),\n",
                "            \"output_path\": pathlib.Path(\n",
                "                \"../results/NF0014/4.organoid_consensus_profiles_umap.parquet\"\n",
                "            ),\n",
                "        },\n",
                "    }\n",
                "}\n",
                "pathlib.Path(\"../results/NF0014\").mkdir(parents=True, exist_ok=True)"
            ]
        },
        {
            "cell_type": "code",
            "execution_count": 3,
            "id": "f8a23139",
            "metadata": {},
            "outputs": [],
            "source": [
                "metadata_columns = [\n",
                "    \"patient\",\n",
                "    \"object_id\",\n",
                "    \"unit\",\n",
                "    \"dose\",\n",
                "    \"treatment\",\n",
                "    \"image_set\",\n",
                "    \"Well\",\n",
                "    \"single_cell_count\",\n",
                "    \"parent_organoid\",\n",
                "    \"MOA\",\n",
                "]"
            ]
        },
        {
            "cell_type": "code",
            "execution_count": 4,
            "id": "193b8914",
            "metadata": {},
            "outputs": [
                {
                    "name": "stdout",
                    "output_type": "stream",
                    "text": [
                        "Processing NF0014 - organoid_feature_selection\n",
                        "(102, 148)\n",
                        "Data shape after dropping NaN values: (102, 141)\n"
                    ]
                },
                {
                    "name": "stderr",
                    "output_type": "stream",
                    "text": [
                        "/home/lippincm/miniforge3/envs/GFF_analysis/lib/python3.12/site-packages/sklearn/utils/deprecation.py:132: FutureWarning: 'force_all_finite' was renamed to 'ensure_all_finite' in 1.6 and will be removed in 1.8.\n",
                        "  warnings.warn(\n",
                        "/home/lippincm/miniforge3/envs/GFF_analysis/lib/python3.12/site-packages/umap/umap_.py:1952: UserWarning: n_jobs value 1 overridden to 1 by setting random_state. Use no seed for parallelism.\n",
                        "  warn(\n"
                    ]
                }
            ],
            "source": [
                "umap_object = umap.UMAP(\n",
                "    n_neighbors=15, min_dist=0.1, metric=\"euclidean\", random_state=0\n",
                ")\n",
                "\n",
                "for dataset, paths in data_dict.items():\n",
                "    for profile_type, paths in paths.items():\n",
                "        print(f\"Processing {dataset} - {profile_type}\")\n",
                "\n",
                "        # Load the data\n",
                "        df = pd.read_parquet(paths[\"input_path\"])\n",
                "\n",
                "        metadata_df = df.copy()\n",
                "        metadata_subset = []\n",
                "        for col in metadata_columns:\n",
                "            if col in df.columns:\n",
                "                metadata_subset.append(col)\n",
                "\n",
                "        metadata_df = df[metadata_subset]\n",
                "        features_df = df.drop(columns=metadata_columns, errors=\"ignore\")\n",
                "        print(features_df.shape)\n",
                "        # remove NaN values\n",
                "        features_df = features_df.dropna(axis=1)\n",
                "        print(f\"Data shape after dropping NaN values: {features_df.shape}\")\n",
                "        # Extract features and apply UMAP\n",
                "\n",
                "        umap_embedding = umap_object.fit_transform(features_df)\n",
                "\n",
                "        # Create a DataFrame with UMAP results\n",
                "        umap_df = pd.DataFrame(umap_embedding, columns=[\"UMAP1\", \"UMAP2\"])\n",
                "        umap_df = pd.concat([metadata_df.reset_index(drop=True), umap_df], axis=1)\n",
                "        # Save the UMAP results\n",
                "        umap_df.to_parquet(paths[\"output_path\"], index=False)"
            ]
        }
    ],
    "metadata": {
        "kernelspec": {
            "display_name": "GFF_analysis",
            "language": "python",
            "name": "python3"
        },
        "language_info": {
            "codemirror_mode": {
                "name": "ipython",
                "version": 3
            },
            "file_extension": ".py",
            "mimetype": "text/x-python",
            "name": "python",
            "nbconvert_exporter": "python",
            "pygments_lexer": "ipython3",
            "version": "3.12.11"
        }
    },
    "nbformat": 4,
    "nbformat_minor": 5
}
