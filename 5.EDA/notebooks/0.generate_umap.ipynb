{
 "cells": [
  {
   "cell_type": "code",
   "execution_count": 1,
   "id": "62efb8fa",
   "metadata": {},
   "outputs": [],
   "source": [
    "import pathlib\n",
    "\n",
    "import pandas as pd\n",
    "import umap\n",
    "\n",
    "try:\n",
    "    cfg = get_ipython().config\n",
    "    in_notebook = True\n",
    "except NameError:\n",
    "    in_notebook = False\n",
    "\n",
    "    # Get the current working directory\n",
    "cwd = pathlib.Path.cwd()\n",
    "\n",
    "if (cwd / \".git\").is_dir():\n",
    "    root_dir = cwd\n",
    "\n",
    "else:\n",
    "    root_dir = None\n",
    "    for parent in cwd.parents:\n",
    "        if (parent / \".git\").is_dir():\n",
    "            root_dir = parent\n",
    "            break\n",
    "\n",
    "# Check if a Git root directory was found\n",
    "if root_dir is None:\n",
    "    raise FileNotFoundError(\"No Git root directory found.\")"
   ]
  },
  {
   "cell_type": "code",
   "execution_count": 2,
   "id": "091582c7",
   "metadata": {},
   "outputs": [],
   "source": [
    "# paths to data\n",
    "data_dict = {\n",
    "    \"sc\": {\n",
    "        \"input\": pathlib.Path(\n",
    "            f\"{root_dir}/data/all_patient_profiles/sc_profiles_annotated_drugs.parquet\"\n",
    "        ).resolve(strict=True),\n",
    "        \"output\": pathlib.Path(f\"{root_dir}/5.EDA/results/sc_umap.parquet\").resolve(),\n",
    "    },\n",
    "    \"sc_fs\": {\n",
    "        \"input\": pathlib.Path(\n",
    "            f\"{root_dir}/data/all_patient_profiles/sc_fs_profiles_annotated_drugs.parquet\"\n",
    "        ).resolve(strict=True),\n",
    "        \"output\": pathlib.Path(\n",
    "            f\"{root_dir}/5.EDA/results/sc_fs_umap.parquet\"\n",
    "        ).resolve(),\n",
    "    },\n",
    "    \"sc_agg\": {\n",
    "        \"input\": pathlib.Path(\n",
    "            f\"{root_dir}/data/all_patient_profiles/sc_agg_profiles_annotated_drugs.parquet\"\n",
    "        ).resolve(strict=True),\n",
    "        \"output\": pathlib.Path(\n",
    "            f\"{root_dir}/5.EDA/results/sc_agg_umap.parquet\"\n",
    "        ).resolve(),\n",
    "    },\n",
    "    \"organoid\": {\n",
    "        \"input\": pathlib.Path(\n",
    "            f\"{root_dir}/data/all_patient_profiles/organoid_profiles_annotated_drugs.parquet\"\n",
    "        ).resolve(strict=True),\n",
    "        \"output\": pathlib.Path(\n",
    "            f\"{root_dir}/5.EDA/results/organoid_umap.parquet\"\n",
    "        ).resolve(),\n",
    "    },\n",
    "    \"organoid_fs\": {\n",
    "        \"input\": pathlib.Path(\n",
    "            f\"{root_dir}/data/all_patient_profiles/organoid_fs_profiles_annotated_drugs.parquet\"\n",
    "        ).resolve(strict=True),\n",
    "        \"output\": pathlib.Path(\n",
    "            f\"{root_dir}/5.EDA/results/organoid_fs_umap.parquet\"\n",
    "        ).resolve(),\n",
    "    },\n",
    "    \"organoid_agg\": {\n",
    "        \"input\": pathlib.Path(\n",
    "            f\"{root_dir}/data/all_patient_profiles/organoid_agg_profiles_annotated_drugs.parquet\"\n",
    "        ).resolve(strict=True),\n",
    "        \"output\": pathlib.Path(\n",
    "            f\"{root_dir}/5.EDA/results/organoid_agg_umap.parquet\"\n",
    "        ).resolve(),\n",
    "    },\n",
    "}\n",
    "\n",
    "data_dict[\"organoid\"][\"output\"].parent.mkdir(parents=True, exist_ok=True)"
   ]
  },
  {
   "cell_type": "code",
   "execution_count": 3,
   "id": "f8a23139",
   "metadata": {},
   "outputs": [],
   "source": [
    "metadata_columns = [\n",
    "    \"patient\",\n",
    "    \"object_id\",\n",
    "    \"unit\",\n",
    "    \"dose\",\n",
    "    \"treatment\",\n",
    "    \"image_set\",\n",
    "    \"Well\",\n",
    "    \"single_cell_count\",\n",
    "    \"parent_organoid\",\n",
    "    \"Treatment\",\n",
    "    \"Target\",\n",
    "    \"Function\",\n",
    "    \"Class\",\n",
    "    \"Therapeutic Categories\",\n",
    "]"
   ]
  },
  {
   "cell_type": "code",
   "execution_count": 4,
   "id": "193b8914",
   "metadata": {},
   "outputs": [
    {
     "name": "stdout",
     "output_type": "stream",
     "text": [
      "(11232, 1922)\n",
      "Data shape after dropping NaN values: (2391, 1922)\n"
     ]
    },
    {
     "name": "stderr",
     "output_type": "stream",
     "text": [
      "/home/lippincm/miniforge3/envs/GFF_analysis/lib/python3.12/site-packages/sklearn/utils/deprecation.py:132: FutureWarning: 'force_all_finite' was renamed to 'ensure_all_finite' in 1.6 and will be removed in 1.8.\n",
      "  warnings.warn(\n",
      "/home/lippincm/miniforge3/envs/GFF_analysis/lib/python3.12/site-packages/umap/umap_.py:1952: UserWarning: n_jobs value 1 overridden to 1 by setting random_state. Use no seed for parallelism.\n",
      "  warn(\n"
     ]
    },
    {
     "name": "stdout",
     "output_type": "stream",
     "text": [
      "(11232, 314)\n",
      "Data shape after dropping NaN values: (10703, 314)\n"
     ]
    },
    {
     "name": "stderr",
     "output_type": "stream",
     "text": [
      "/home/lippincm/miniforge3/envs/GFF_analysis/lib/python3.12/site-packages/sklearn/utils/deprecation.py:132: FutureWarning: 'force_all_finite' was renamed to 'ensure_all_finite' in 1.6 and will be removed in 1.8.\n",
      "  warnings.warn(\n"
     ]
    },
    {
     "name": "stdout",
     "output_type": "stream",
     "text": [
      "(395, 314)\n",
      "Data shape after dropping NaN values: (394, 314)\n"
     ]
    },
    {
     "name": "stderr",
     "output_type": "stream",
     "text": [
      "/home/lippincm/miniforge3/envs/GFF_analysis/lib/python3.12/site-packages/sklearn/utils/deprecation.py:132: FutureWarning: 'force_all_finite' was renamed to 'ensure_all_finite' in 1.6 and will be removed in 1.8.\n",
      "  warnings.warn(\n"
     ]
    },
    {
     "name": "stdout",
     "output_type": "stream",
     "text": [
      "(1481, 640)\n",
      "Data shape after dropping NaN values: (508, 640)\n"
     ]
    },
    {
     "name": "stderr",
     "output_type": "stream",
     "text": [
      "/home/lippincm/miniforge3/envs/GFF_analysis/lib/python3.12/site-packages/sklearn/utils/deprecation.py:132: FutureWarning: 'force_all_finite' was renamed to 'ensure_all_finite' in 1.6 and will be removed in 1.8.\n",
      "  warnings.warn(\n"
     ]
    },
    {
     "name": "stdout",
     "output_type": "stream",
     "text": [
      "(1481, 167)\n",
      "Data shape after dropping NaN values: (1427, 167)\n"
     ]
    },
    {
     "name": "stderr",
     "output_type": "stream",
     "text": [
      "/home/lippincm/miniforge3/envs/GFF_analysis/lib/python3.12/site-packages/sklearn/utils/deprecation.py:132: FutureWarning: 'force_all_finite' was renamed to 'ensure_all_finite' in 1.6 and will be removed in 1.8.\n",
      "  warnings.warn(\n"
     ]
    },
    {
     "name": "stdout",
     "output_type": "stream",
     "text": [
      "(392, 167)\n",
      "Data shape after dropping NaN values: (390, 167)\n"
     ]
    },
    {
     "name": "stderr",
     "output_type": "stream",
     "text": [
      "/home/lippincm/miniforge3/envs/GFF_analysis/lib/python3.12/site-packages/sklearn/utils/deprecation.py:132: FutureWarning: 'force_all_finite' was renamed to 'ensure_all_finite' in 1.6 and will be removed in 1.8.\n",
      "  warnings.warn(\n"
     ]
    }
   ],
   "source": [
    "umap_object = umap.UMAP(\n",
    "    n_neighbors=15, min_dist=0.1, metric=\"euclidean\", random_state=0\n",
    ")\n",
    "\n",
    "for dataset, paths in data_dict.items():\n",
    "    # Load the data\n",
    "    df = pd.read_parquet(data_dict[dataset][\"input\"])\n",
    "\n",
    "    metadata_df = df.copy()\n",
    "    metadata_subset = []\n",
    "    for col in metadata_columns:\n",
    "        if col in df.columns:\n",
    "            metadata_subset.append(col)\n",
    "\n",
    "    metadata_df = df[metadata_subset]\n",
    "    features_df = df.drop(columns=metadata_columns, errors=\"ignore\")\n",
    "    print(features_df.shape)\n",
    "    # remove NaN values\n",
    "    features_df = features_df.dropna(axis=0, how=\"any\")\n",
    "    print(f\"Data shape after dropping NaN values: {features_df.shape}\")\n",
    "    # Extract features and apply UMAP\n",
    "\n",
    "    umap_embedding = umap_object.fit_transform(features_df)\n",
    "\n",
    "    # Create a DataFrame with UMAP results\n",
    "    umap_df = pd.DataFrame(umap_embedding, columns=[\"UMAP1\", \"UMAP2\"])\n",
    "    umap_df = pd.concat([metadata_df.reset_index(drop=True), umap_df], axis=1)\n",
    "    # Save the UMAP results\n",
    "    umap_df.to_parquet(data_dict[dataset][\"output\"], index=False)"
   ]
  }
 ],
 "metadata": {
  "kernelspec": {
   "display_name": "GFF_analysis",
   "language": "python",
   "name": "python3"
  },
  "language_info": {
   "codemirror_mode": {
    "name": "ipython",
    "version": 3
   },
   "file_extension": ".py",
   "mimetype": "text/x-python",
   "name": "python",
   "nbconvert_exporter": "python",
   "pygments_lexer": "ipython3",
   "version": "3.12.11"
  }
 },
 "nbformat": 4,
 "nbformat_minor": 5
}
