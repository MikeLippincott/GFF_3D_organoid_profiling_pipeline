{
    "cells": [
        {
            "cell_type": "code",
            "execution_count": 1,
            "id": "62efb8fa",
            "metadata": {},
            "outputs": [],
            "source": [
                "import pathlib\n",
                "\n",
                "import numpy as np\n",
                "import pandas as pd\n",
                "import umap"
            ]
        },
        {
            "cell_type": "code",
            "execution_count": null,
            "id": "091582c7",
            "metadata": {},
            "outputs": [],
            "source": [
                "# paths to data\n",
                "data_dict = {\n",
                "    \"NF0014\": {\n",
                "        \"organoid_feature_selection\": {\n",
                "            \"input_path\": pathlib.Path(\n",
                "                \"../../data/NF0014/image_based_profiles/3.organoid_fs_profiles.parquet\"\n",
                "            ),\n",
                "            \"output_path\": pathlib.Path(\n",
                "                \"../results/NF0014/3.organoid_fs_profiles_umap.parquet\"\n",
                "            ),\n",
                "        },\n",
                "        \"sc_feature_selection\": {\n",
                "            \"input_path\": pathlib.Path(\n",
                "                \"../../data/NF0014/image_based_profiles/3.sc_fs_profiles.parquet\"\n",
                "            ),\n",
                "            \"output_path\": pathlib.Path(\n",
                "                \"../results/NF0014/3.sc_fs_profiles_umap.parquet\"\n",
                "            ),\n",
                "        },\n",
                "        \"sc_consensus_profiles\": {\n",
                "            \"input_path\": pathlib.Path(\n",
                "                \"../../data/NF0014/image_based_profiles/4.sc_consensus_profiles.parquet\"\n",
                "            ),\n",
                "            \"output_path\": pathlib.Path(\n",
                "                \"../results/NF0014/4.sc_consensus_profiles_umap.parquet\"\n",
                "            ),\n",
                "        },\n",
                "        \"organoid_consensus_profiles\": {\n",
                "            \"input_path\": pathlib.Path(\n",
                "                \"../../data/NF0014/image_based_profiles/4.organoid_consensus_profiles.parquet\"\n",
                "            ),\n",
                "            \"output_path\": pathlib.Path(\n",
                "                \"../results/NF0014/4.organoid_consensus_profiles_umap.parquet\"\n",
                "            ),\n",
                "        },\n",
                "    }\n",
                "}\n",
                "pathlib.Path(\"../results/NF0014\").mkdir(parents=True, exist_ok=True)"
            ]
        },
        {
            "cell_type": "code",
            "execution_count": 3,
            "id": "f8a23139",
            "metadata": {},
            "outputs": [],
            "source": [
                "metadata_columns = [\n",
                "    \"patient\",\n",
                "    \"object_id\",\n",
                "    \"unit\",\n",
                "    \"dose\",\n",
                "    \"treatment\",\n",
                "    \"image_set\",\n",
                "    \"Well\",\n",
                "    \"single_cell_count\",\n",
                "    \"parent_organoid\",\n",
                "    \"MOA\",\n",
                "]"
            ]
        },
        {
            "cell_type": "code",
            "execution_count": 4,
            "id": "193b8914",
            "metadata": {},
            "outputs": [
                {
                    "name": "stdout",
                    "output_type": "stream",
                    "text": [
                        "Processing NF0014 - organoid_feature_selection\n",
                        "(102, 148)\n",
                        "Data shape after dropping NaN values: (102, 141)\n"
                    ]
                },
                {
                    "name": "stderr",
                    "output_type": "stream",
                    "text": [
                        "/home/lippincm/miniforge3/envs/GFF_analysis/lib/python3.12/site-packages/sklearn/utils/deprecation.py:132: FutureWarning: 'force_all_finite' was renamed to 'ensure_all_finite' in 1.6 and will be removed in 1.8.\n",
                        "  warnings.warn(\n",
                        "/home/lippincm/miniforge3/envs/GFF_analysis/lib/python3.12/site-packages/umap/umap_.py:1952: UserWarning: n_jobs value 1 overridden to 1 by setting random_state. Use no seed for parallelism.\n",
                        "  warn(\n"
                    ]
                }
            ],
            "source": [
                "umap_object = umap.UMAP(\n",
                "    n_neighbors=15, min_dist=0.1, metric=\"euclidean\", random_state=0\n",
                ")\n",
                "\n",
                "for dataset, paths in data_dict.items():\n",
                "    for profile_type, paths in paths.items():\n",
                "        print(f\"Processing {dataset} - {profile_type}\")\n",
                "\n",
                "        # Load the data\n",
                "        df = pd.read_parquet(paths[\"input_path\"])\n",
                "\n",
                "        metadata_df = df.copy()\n",
                "        metadata_subset = []\n",
                "        for col in metadata_columns:\n",
                "            if col in df.columns:\n",
                "                metadata_subset.append(col)\n",
                "\n",
                "        metadata_df = df[metadata_subset]\n",
                "        features_df = df.drop(columns=metadata_columns, errors=\"ignore\")\n",
                "        print(features_df.shape)\n",
                "        # remove NaN values\n",
                "        features_df = features_df.dropna(axis=1)\n",
                "        print(f\"Data shape after dropping NaN values: {features_df.shape}\")\n",
                "        # Extract features and apply UMAP\n",
                "\n",
                "        umap_embedding = umap_object.fit_transform(features_df)\n",
                "\n",
                "        # Create a DataFrame with UMAP results\n",
                "        umap_df = pd.DataFrame(umap_embedding, columns=[\"UMAP1\", \"UMAP2\"])\n",
                "        umap_df = pd.concat([metadata_df.reset_index(drop=True), umap_df], axis=1)\n",
                "        # Save the UMAP results\n",
                "        umap_df.to_parquet(paths[\"output_path\"], index=False)"
            ]
        }
    ],
    "metadata": {
        "kernelspec": {
            "display_name": "nf1_image_based_profiling_env",
            "language": "python",
            "name": "python3"
        },
        "language_info": {
            "codemirror_mode": {
                "name": "ipython",
                "version": 3
            },
            "file_extension": ".py",
            "mimetype": "text/x-python",
            "name": "python",
            "nbconvert_exporter": "python",
            "pygments_lexer": "ipython3",
            "version": "3.12.9"
        }
    },
    {
     "name": "stderr",
     "output_type": "stream",
     "text": [
      "/home/lippincm/miniforge3/envs/nf1_image_based_profiling_env/lib/python3.12/site-packages/sklearn/utils/deprecation.py:151: FutureWarning: 'force_all_finite' was renamed to 'ensure_all_finite' in 1.6 and will be removed in 1.8.\n",
      "  warnings.warn(\n",
      "/home/lippincm/miniforge3/envs/nf1_image_based_profiling_env/lib/python3.12/site-packages/umap/umap_.py:1952: UserWarning: n_jobs value 1 overridden to 1 by setting random_state. Use no seed for parallelism.\n",
      "  warn(\n"
     ]
    },
    {
     "name": "stdout",
     "output_type": "stream",
     "text": [
      "(9870, 318)\n",
      "Data shape after dropping NaN values: (9390, 318)\n"
     ]
    },
    {
     "name": "stderr",
     "output_type": "stream",
     "text": [
      "/home/lippincm/miniforge3/envs/nf1_image_based_profiling_env/lib/python3.12/site-packages/sklearn/utils/deprecation.py:151: FutureWarning: 'force_all_finite' was renamed to 'ensure_all_finite' in 1.6 and will be removed in 1.8.\n",
      "  warnings.warn(\n"
     ]
    },
    {
     "name": "stdout",
     "output_type": "stream",
     "text": [
      "(352, 318)\n",
      "Data shape after dropping NaN values: (351, 318)\n"
     ]
    },
    {
     "name": "stderr",
     "output_type": "stream",
     "text": [
      "/home/lippincm/miniforge3/envs/nf1_image_based_profiling_env/lib/python3.12/site-packages/sklearn/utils/deprecation.py:151: FutureWarning: 'force_all_finite' was renamed to 'ensure_all_finite' in 1.6 and will be removed in 1.8.\n",
      "  warnings.warn(\n"
     ]
    },
    {
     "name": "stdout",
     "output_type": "stream",
     "text": [
      "(1282, 640)\n",
      "Data shape after dropping NaN values: (478, 640)\n"
     ]
    },
    {
     "name": "stderr",
     "output_type": "stream",
     "text": [
      "/home/lippincm/miniforge3/envs/nf1_image_based_profiling_env/lib/python3.12/site-packages/sklearn/utils/deprecation.py:151: FutureWarning: 'force_all_finite' was renamed to 'ensure_all_finite' in 1.6 and will be removed in 1.8.\n",
      "  warnings.warn(\n"
     ]
    },
    {
     "name": "stdout",
     "output_type": "stream",
     "text": [
      "(1282, 164)\n",
      "Data shape after dropping NaN values: (1233, 164)\n"
     ]
    },
    {
     "name": "stderr",
     "output_type": "stream",
     "text": [
      "/home/lippincm/miniforge3/envs/nf1_image_based_profiling_env/lib/python3.12/site-packages/sklearn/utils/deprecation.py:151: FutureWarning: 'force_all_finite' was renamed to 'ensure_all_finite' in 1.6 and will be removed in 1.8.\n",
      "  warnings.warn(\n"
     ]
    },
    {
     "name": "stdout",
     "output_type": "stream",
     "text": [
      "(349, 164)\n",
      "Data shape after dropping NaN values: (347, 164)\n"
     ]
    },
    {
     "name": "stderr",
     "output_type": "stream",
     "text": [
      "/home/lippincm/miniforge3/envs/nf1_image_based_profiling_env/lib/python3.12/site-packages/sklearn/utils/deprecation.py:151: FutureWarning: 'force_all_finite' was renamed to 'ensure_all_finite' in 1.6 and will be removed in 1.8.\n",
      "  warnings.warn(\n"
     ]
    },
    {
     "name": "stdout",
     "output_type": "stream",
     "text": [
      "(156, 318)\n",
      "Data shape after dropping NaN values: (156, 318)\n",
      "(157, 164)\n",
      "Data shape after dropping NaN values: (157, 164)\n"
     ]
    },
    {
     "name": "stderr",
     "output_type": "stream",
     "text": [
      "/home/lippincm/miniforge3/envs/nf1_image_based_profiling_env/lib/python3.12/site-packages/sklearn/utils/deprecation.py:151: FutureWarning: 'force_all_finite' was renamed to 'ensure_all_finite' in 1.6 and will be removed in 1.8.\n",
      "  warnings.warn(\n",
      "/home/lippincm/miniforge3/envs/nf1_image_based_profiling_env/lib/python3.12/site-packages/sklearn/utils/deprecation.py:151: FutureWarning: 'force_all_finite' was renamed to 'ensure_all_finite' in 1.6 and will be removed in 1.8.\n",
      "  warnings.warn(\n"
     ]
    }
   ],
   "source": [
    "umap_object = umap.UMAP(\n",
    "    n_neighbors=15, min_dist=0.1, metric=\"euclidean\", random_state=0\n",
    ")\n",
    "\n",
    "for dataset, paths in data_dict.items():\n",
    "    # Load the data\n",
    "    df = pd.read_parquet(data_dict[dataset][\"input\"])\n",
    "\n",
    "    metadata_df = df.copy()\n",
    "    metadata_subset = []\n",
    "    for col in metadata_columns:\n",
    "        if col in df.columns:\n",
    "            metadata_subset.append(col)\n",
    "\n",
    "    metadata_df = df[metadata_subset]\n",
    "    features_df = df.drop(columns=metadata_columns, errors=\"ignore\")\n",
    "    print(features_df.shape)\n",
    "    # remove NaN values\n",
    "    features_df = features_df.dropna(axis=0, how=\"any\")\n",
    "    print(f\"Data shape after dropping NaN values: {features_df.shape}\")\n",
    "    # Extract features and apply UMAP\n",
    "\n",
    "    umap_embedding = umap_object.fit_transform(features_df)\n",
    "\n",
    "    # Create a DataFrame with UMAP results\n",
    "    umap_df = pd.DataFrame(umap_embedding, columns=[\"UMAP1\", \"UMAP2\"])\n",
    "    umap_df = pd.concat([metadata_df.reset_index(drop=True), umap_df], axis=1)\n",
    "    # Save the UMAP results\n",
    "    umap_df.to_parquet(data_dict[dataset][\"output\"], index=False)"
   ]
  },
  {
   "cell_type": "markdown",
   "id": "46d863bf",
   "metadata": {},
   "source": [
    "Individual umaps"
   ]
  },
  {
   "cell_type": "code",
   "execution_count": 5,
   "id": "928f7b84",
   "metadata": {},
   "outputs": [],
   "source": [
    "patients = pd.read_csv(\n",
    "    pathlib.Path(f\"{root_dir}/data/patient_IDs.txt\").resolve(strict=True),\n",
    "    header=None,\n",
    "    names=[\"patient\"],\n",
    ")[\"patient\"].to_list()"
   ]
  },
  {
   "cell_type": "code",
   "execution_count": 6,
   "id": "ad1fea6d",
   "metadata": {},
   "outputs": [],
   "source": [
    "file_dict = {}\n",
    "for patient in patients:\n",
    "    file_dict[patient] = {\n",
    "        \"fs\": {\n",
    "            \"sc\": {\n",
    "                \"input\": pathlib.Path(\n",
    "                    f\"{root_dir}/data/{patient}/image_based_profiles/4.feature_selected_profiles/sc_fs.parquet\"\n",
    "                ).resolve(strict=True),\n",
    "                \"output\": pathlib.Path(\n",
    "                    f\"{root_dir}/5.EDA/results/patient_results/{patient}_sc_fs_umap.parquet\"\n",
    "                ).resolve(),\n",
    "            },\n",
    "            \"organoid\": {\n",
    "                \"input\": pathlib.Path(\n",
    "                    f\"{root_dir}/data/{patient}/image_based_profiles/4.feature_selected_profiles/organoid_fs.parquet\"\n",
    "                ).resolve(strict=True),\n",
    "                \"output\": pathlib.Path(\n",
    "                    f\"{root_dir}/5.EDA/results/patient_results/{patient}_organoid_fs_umap.parquet\"\n",
    "                ).resolve(),\n",
    "            },\n",
    "        },\n",
    "        \"agg\": {\n",
    "            \"sc_parent_organoid_level\": {\n",
    "                \"input\": pathlib.Path(\n",
    "                    f\"{root_dir}/data/{patient}/image_based_profiles/5.aggregated_profiles/sc_agg_parent_organoid_level.parquet\"\n",
    "                ).resolve(strict=True),\n",
    "                \"output\": pathlib.Path(\n",
    "                    f\"{root_dir}/5.EDA/results/patient_results/{patient}_sc_agg_parent_organoid_level_umap.parquet\"\n",
    "                ).resolve(),\n",
    "            },\n",
    "            \"sc_well_level\": {\n",
    "                \"input\": pathlib.Path(\n",
    "                    f\"{root_dir}/data/{patient}/image_based_profiles/5.aggregated_profiles/sc_agg_well_level.parquet\"\n",
    "                ).resolve(strict=True),\n",
    "                \"output\": pathlib.Path(\n",
    "                    f\"{root_dir}/5.EDA/results/patient_results/{patient}_sc_agg_well_level_umap.parquet\"\n",
    "                ).resolve(),\n",
    "            },\n",
    "            \"sc_consensus\": {\n",
    "                \"input\": pathlib.Path(\n",
    "                    f\"{root_dir}/data/{patient}/image_based_profiles/5.aggregated_profiles/sc_consensus.parquet\"\n",
    "                ).resolve(strict=True),\n",
    "                \"output\": pathlib.Path(\n",
    "                    f\"{root_dir}/5.EDA/results/patient_results/{patient}_sc_consensus_umap.parquet\"\n",
    "                ).resolve(),\n",
    "            },\n",
    "            \"organoid_well_level\": {\n",
    "                \"input\": pathlib.Path(\n",
    "                    f\"{root_dir}/data/{patient}/image_based_profiles/5.aggregated_profiles/organoid_agg_well_level.parquet\"\n",
    "                ).resolve(strict=True),\n",
    "                \"output\": pathlib.Path(\n",
    "                    f\"{root_dir}/5.EDA/results/patient_results/{patient}_organoid_agg_well_level_umap.parquet\"\n",
    "                ).resolve(),\n",
    "            },\n",
    "            \"organoid_consensus\": {\n",
    "                \"input\": pathlib.Path(\n",
    "                    f\"{root_dir}/data/{patient}/image_based_profiles/5.aggregated_profiles/organoid_consensus.parquet\"\n",
    "                ).resolve(strict=True),\n",
    "                \"output\": pathlib.Path(\n",
    "                    f\"{root_dir}/5.EDA/results/patient_results/{patient}_organoid_consensus_umap.parquet\"\n",
    "                ).resolve(),\n",
    "            },\n",
    "        },\n",
    "    }"
   ]
  },
  {
   "cell_type": "code",
   "execution_count": 7,
   "id": "2a67f0b4",
   "metadata": {},
   "outputs": [
    {
     "name": "stdout",
     "output_type": "stream",
     "text": [
      "Processing NF0014 - fs - sc - input\n",
      "(1401, 200)\n",
      "Data shape after dropping NaN values: (1336, 200)\n"
     ]
    },
    {
     "name": "stderr",
     "output_type": "stream",
     "text": [
      "/home/lippincm/miniforge3/envs/nf1_image_based_profiling_env/lib/python3.12/site-packages/sklearn/utils/deprecation.py:151: FutureWarning: 'force_all_finite' was renamed to 'ensure_all_finite' in 1.6 and will be removed in 1.8.\n",
      "  warnings.warn(\n"
     ]
    },
    {
     "name": "stdout",
     "output_type": "stream",
     "text": [
      "Processing NF0014 - fs - sc - output\n",
      "(1401, 200)\n",
      "Data shape after dropping NaN values: (1336, 200)\n"
     ]
    },
    {
     "name": "stderr",
     "output_type": "stream",
     "text": [
      "/home/lippincm/miniforge3/envs/nf1_image_based_profiling_env/lib/python3.12/site-packages/sklearn/utils/deprecation.py:151: FutureWarning: 'force_all_finite' was renamed to 'ensure_all_finite' in 1.6 and will be removed in 1.8.\n",
      "  warnings.warn(\n"
     ]
    },
    {
     "name": "stdout",
     "output_type": "stream",
     "text": [
      "Processing NF0014 - fs - organoid - input\n",
      "(101, 143)\n",
      "Data shape after dropping NaN values: (98, 143)\n",
      "Processing NF0014 - fs - organoid - output\n",
      "(101, 143)\n",
      "Data shape after dropping NaN values: (98, 143)\n",
      "Processing NF0014 - agg - sc_parent_organoid_level - input\n",
      "(117, 200)\n",
      "Data shape after dropping NaN values: (116, 200)\n"
     ]
    },
    {
     "name": "stderr",
     "output_type": "stream",
     "text": [
      "/home/lippincm/miniforge3/envs/nf1_image_based_profiling_env/lib/python3.12/site-packages/sklearn/utils/deprecation.py:151: FutureWarning: 'force_all_finite' was renamed to 'ensure_all_finite' in 1.6 and will be removed in 1.8.\n",
      "  warnings.warn(\n",
      "/home/lippincm/miniforge3/envs/nf1_image_based_profiling_env/lib/python3.12/site-packages/sklearn/utils/deprecation.py:151: FutureWarning: 'force_all_finite' was renamed to 'ensure_all_finite' in 1.6 and will be removed in 1.8.\n",
      "  warnings.warn(\n",
      "/home/lippincm/miniforge3/envs/nf1_image_based_profiling_env/lib/python3.12/site-packages/sklearn/utils/deprecation.py:151: FutureWarning: 'force_all_finite' was renamed to 'ensure_all_finite' in 1.6 and will be removed in 1.8.\n",
      "  warnings.warn(\n"
     ]
    },
    {
     "name": "stdout",
     "output_type": "stream",
     "text": [
      "Processing NF0014 - agg - sc_parent_organoid_level - output\n",
      "(117, 200)\n",
      "Data shape after dropping NaN values: (116, 200)\n",
      "Processing NF0014 - agg - sc_well_level - input\n",
      "(49, 200)\n",
      "Data shape after dropping NaN values: (49, 200)\n",
      "Processing NF0014 - agg - sc_well_level - output\n",
      "(49, 200)\n",
      "Data shape after dropping NaN values: (49, 200)\n",
      "Processing NF0014 - agg - sc_consensus - input\n"
     ]
    },
    {
     "name": "stderr",
     "output_type": "stream",
     "text": [
      "/home/lippincm/miniforge3/envs/nf1_image_based_profiling_env/lib/python3.12/site-packages/sklearn/utils/deprecation.py:151: FutureWarning: 'force_all_finite' was renamed to 'ensure_all_finite' in 1.6 and will be removed in 1.8.\n",
      "  warnings.warn(\n",
      "/home/lippincm/miniforge3/envs/nf1_image_based_profiling_env/lib/python3.12/site-packages/sklearn/utils/deprecation.py:151: FutureWarning: 'force_all_finite' was renamed to 'ensure_all_finite' in 1.6 and will be removed in 1.8.\n",
      "  warnings.warn(\n",
      "/home/lippincm/miniforge3/envs/nf1_image_based_profiling_env/lib/python3.12/site-packages/sklearn/utils/deprecation.py:151: FutureWarning: 'force_all_finite' was renamed to 'ensure_all_finite' in 1.6 and will be removed in 1.8.\n",
      "  warnings.warn(\n",
      "/home/lippincm/miniforge3/envs/nf1_image_based_profiling_env/lib/python3.12/site-packages/sklearn/utils/deprecation.py:151: FutureWarning: 'force_all_finite' was renamed to 'ensure_all_finite' in 1.6 and will be removed in 1.8.\n",
      "  warnings.warn(\n"
     ]
    },
    {
     "name": "stdout",
     "output_type": "stream",
     "text": [
      "(17, 200)\n",
      "Data shape after dropping NaN values: (17, 200)\n",
      "Processing NF0014 - agg - sc_consensus - output\n",
      "(17, 200)\n",
      "Data shape after dropping NaN values: (17, 200)\n",
      "Processing NF0014 - agg - organoid_well_level - input\n",
      "(49, 143)\n",
      "Data shape after dropping NaN values: (49, 143)\n",
      "Processing NF0014 - agg - organoid_well_level - output\n",
      "(49, 143)\n",
      "Data shape after dropping NaN values: (49, 143)\n",
      "Processing NF0014 - agg - organoid_consensus - input\n",
      "(17, 143)\n",
      "Data shape after dropping NaN values: (17, 143)\n",
      "Processing NF0014 - agg - organoid_consensus - output\n",
      "(17, 143)\n",
      "Data shape after dropping NaN values: (17, 143)\n",
      "Processing NF0016 - fs - sc - input\n",
      "(376, 240)\n",
      "Data shape after dropping NaN values: (362, 240)\n"
     ]
    },
    {
     "name": "stderr",
     "output_type": "stream",
     "text": [
      "/home/lippincm/miniforge3/envs/nf1_image_based_profiling_env/lib/python3.12/site-packages/sklearn/utils/deprecation.py:151: FutureWarning: 'force_all_finite' was renamed to 'ensure_all_finite' in 1.6 and will be removed in 1.8.\n",
      "  warnings.warn(\n",
      "/home/lippincm/miniforge3/envs/nf1_image_based_profiling_env/lib/python3.12/site-packages/sklearn/utils/deprecation.py:151: FutureWarning: 'force_all_finite' was renamed to 'ensure_all_finite' in 1.6 and will be removed in 1.8.\n",
      "  warnings.warn(\n",
      "/home/lippincm/miniforge3/envs/nf1_image_based_profiling_env/lib/python3.12/site-packages/sklearn/utils/deprecation.py:151: FutureWarning: 'force_all_finite' was renamed to 'ensure_all_finite' in 1.6 and will be removed in 1.8.\n",
      "  warnings.warn(\n",
      "/home/lippincm/miniforge3/envs/nf1_image_based_profiling_env/lib/python3.12/site-packages/sklearn/utils/deprecation.py:151: FutureWarning: 'force_all_finite' was renamed to 'ensure_all_finite' in 1.6 and will be removed in 1.8.\n",
      "  warnings.warn(\n",
      "/home/lippincm/miniforge3/envs/nf1_image_based_profiling_env/lib/python3.12/site-packages/sklearn/utils/deprecation.py:151: FutureWarning: 'force_all_finite' was renamed to 'ensure_all_finite' in 1.6 and will be removed in 1.8.\n",
      "  warnings.warn(\n",
      "/home/lippincm/miniforge3/envs/nf1_image_based_profiling_env/lib/python3.12/site-packages/sklearn/utils/deprecation.py:151: FutureWarning: 'force_all_finite' was renamed to 'ensure_all_finite' in 1.6 and will be removed in 1.8.\n",
      "  warnings.warn(\n"
     ]
    },
    {
     "name": "stdout",
     "output_type": "stream",
     "text": [
      "Processing NF0016 - fs - sc - output\n",
      "(376, 240)\n",
      "Data shape after dropping NaN values: (362, 240)\n"
     ]
    },
    {
     "name": "stderr",
     "output_type": "stream",
     "text": [
      "/home/lippincm/miniforge3/envs/nf1_image_based_profiling_env/lib/python3.12/site-packages/sklearn/utils/deprecation.py:151: FutureWarning: 'force_all_finite' was renamed to 'ensure_all_finite' in 1.6 and will be removed in 1.8.\n",
      "  warnings.warn(\n"
     ]
    },
    {
     "name": "stdout",
     "output_type": "stream",
     "text": [
      "Processing NF0016 - fs - organoid - input\n",
      "(85, 139)\n",
      "Data shape after dropping NaN values: (80, 139)\n",
      "Processing NF0016 - fs - organoid - output\n",
      "(85, 139)\n",
      "Data shape after dropping NaN values: (80, 139)\n",
      "Processing NF0016 - agg - sc_parent_organoid_level - input\n",
      "(79, 240)\n",
      "Data shape after dropping NaN values: (77, 240)\n"
     ]
    },
    {
     "name": "stderr",
     "output_type": "stream",
     "text": [
      "/home/lippincm/miniforge3/envs/nf1_image_based_profiling_env/lib/python3.12/site-packages/sklearn/utils/deprecation.py:151: FutureWarning: 'force_all_finite' was renamed to 'ensure_all_finite' in 1.6 and will be removed in 1.8.\n",
      "  warnings.warn(\n",
      "/home/lippincm/miniforge3/envs/nf1_image_based_profiling_env/lib/python3.12/site-packages/sklearn/utils/deprecation.py:151: FutureWarning: 'force_all_finite' was renamed to 'ensure_all_finite' in 1.6 and will be removed in 1.8.\n",
      "  warnings.warn(\n",
      "/home/lippincm/miniforge3/envs/nf1_image_based_profiling_env/lib/python3.12/site-packages/sklearn/utils/deprecation.py:151: FutureWarning: 'force_all_finite' was renamed to 'ensure_all_finite' in 1.6 and will be removed in 1.8.\n",
      "  warnings.warn(\n"
     ]
    },
    {
     "name": "stdout",
     "output_type": "stream",
     "text": [
      "Processing NF0016 - agg - sc_parent_organoid_level - output\n",
      "(79, 240)\n",
      "Data shape after dropping NaN values: (77, 240)\n",
      "Processing NF0016 - agg - sc_well_level - input\n",
      "(43, 240)\n",
      "Data shape after dropping NaN values: (42, 240)\n",
      "Processing NF0016 - agg - sc_well_level - output\n",
      "(43, 240)\n",
      "Data shape after dropping NaN values: (42, 240)\n",
      "Processing NF0016 - agg - sc_consensus - input\n",
      "(16, 240)\n",
      "Data shape after dropping NaN values: (16, 240)\n",
      "Processing NF0016 - agg - sc_consensus - output\n"
     ]
    },
    {
     "name": "stderr",
     "output_type": "stream",
     "text": [
      "/home/lippincm/miniforge3/envs/nf1_image_based_profiling_env/lib/python3.12/site-packages/sklearn/utils/deprecation.py:151: FutureWarning: 'force_all_finite' was renamed to 'ensure_all_finite' in 1.6 and will be removed in 1.8.\n",
      "  warnings.warn(\n",
      "/home/lippincm/miniforge3/envs/nf1_image_based_profiling_env/lib/python3.12/site-packages/sklearn/utils/deprecation.py:151: FutureWarning: 'force_all_finite' was renamed to 'ensure_all_finite' in 1.6 and will be removed in 1.8.\n",
      "  warnings.warn(\n",
      "/home/lippincm/miniforge3/envs/nf1_image_based_profiling_env/lib/python3.12/site-packages/sklearn/utils/deprecation.py:151: FutureWarning: 'force_all_finite' was renamed to 'ensure_all_finite' in 1.6 and will be removed in 1.8.\n",
      "  warnings.warn(\n",
      "/home/lippincm/miniforge3/envs/nf1_image_based_profiling_env/lib/python3.12/site-packages/sklearn/utils/deprecation.py:151: FutureWarning: 'force_all_finite' was renamed to 'ensure_all_finite' in 1.6 and will be removed in 1.8.\n",
      "  warnings.warn(\n",
      "/home/lippincm/miniforge3/envs/nf1_image_based_profiling_env/lib/python3.12/site-packages/sklearn/utils/deprecation.py:151: FutureWarning: 'force_all_finite' was renamed to 'ensure_all_finite' in 1.6 and will be removed in 1.8.\n",
      "  warnings.warn(\n"
     ]
    },
    {
     "name": "stdout",
     "output_type": "stream",
     "text": [
      "(16, 240)\n",
      "Data shape after dropping NaN values: (16, 240)\n",
      "Processing NF0016 - agg - organoid_well_level - input\n",
      "(43, 139)\n",
      "Data shape after dropping NaN values: (42, 139)\n",
      "Processing NF0016 - agg - organoid_well_level - output\n",
      "(43, 139)\n",
      "Data shape after dropping NaN values: (42, 139)\n",
      "Processing NF0016 - agg - organoid_consensus - input\n",
      "(16, 139)\n",
      "Data shape after dropping NaN values: (16, 139)\n",
      "Processing NF0016 - agg - organoid_consensus - output\n",
      "(16, 139)\n",
      "Data shape after dropping NaN values: (16, 139)\n",
      "Processing NF0018 - fs - sc - input\n",
      "(624, 217)\n",
      "Data shape after dropping NaN values: (598, 217)\n"
     ]
    },
    {
     "name": "stderr",
     "output_type": "stream",
     "text": [
      "/home/lippincm/miniforge3/envs/nf1_image_based_profiling_env/lib/python3.12/site-packages/sklearn/utils/deprecation.py:151: FutureWarning: 'force_all_finite' was renamed to 'ensure_all_finite' in 1.6 and will be removed in 1.8.\n",
      "  warnings.warn(\n",
      "/home/lippincm/miniforge3/envs/nf1_image_based_profiling_env/lib/python3.12/site-packages/sklearn/utils/deprecation.py:151: FutureWarning: 'force_all_finite' was renamed to 'ensure_all_finite' in 1.6 and will be removed in 1.8.\n",
      "  warnings.warn(\n",
      "/home/lippincm/miniforge3/envs/nf1_image_based_profiling_env/lib/python3.12/site-packages/sklearn/utils/deprecation.py:151: FutureWarning: 'force_all_finite' was renamed to 'ensure_all_finite' in 1.6 and will be removed in 1.8.\n",
      "  warnings.warn(\n",
      "/home/lippincm/miniforge3/envs/nf1_image_based_profiling_env/lib/python3.12/site-packages/sklearn/utils/deprecation.py:151: FutureWarning: 'force_all_finite' was renamed to 'ensure_all_finite' in 1.6 and will be removed in 1.8.\n",
      "  warnings.warn(\n",
      "/home/lippincm/miniforge3/envs/nf1_image_based_profiling_env/lib/python3.12/site-packages/sklearn/utils/deprecation.py:151: FutureWarning: 'force_all_finite' was renamed to 'ensure_all_finite' in 1.6 and will be removed in 1.8.\n",
      "  warnings.warn(\n"
     ]
    },
    {
     "name": "stdout",
     "output_type": "stream",
     "text": [
      "Processing NF0018 - fs - sc - output\n",
      "(624, 217)\n",
      "Data shape after dropping NaN values: (598, 217)\n"
     ]
    },
    {
     "name": "stderr",
     "output_type": "stream",
     "text": [
      "/home/lippincm/miniforge3/envs/nf1_image_based_profiling_env/lib/python3.12/site-packages/sklearn/utils/deprecation.py:151: FutureWarning: 'force_all_finite' was renamed to 'ensure_all_finite' in 1.6 and will be removed in 1.8.\n",
      "  warnings.warn(\n"
     ]
    },
    {
     "name": "stdout",
     "output_type": "stream",
     "text": [
      "Processing NF0018 - fs - organoid - input\n",
      "(128, 148)\n",
      "Data shape after dropping NaN values: (124, 148)\n",
      "Processing NF0018 - fs - organoid - output\n",
      "(128, 148)\n",
      "Data shape after dropping NaN values: (124, 148)\n"
     ]
    },
    {
     "name": "stderr",
     "output_type": "stream",
     "text": [
      "/home/lippincm/miniforge3/envs/nf1_image_based_profiling_env/lib/python3.12/site-packages/sklearn/utils/deprecation.py:151: FutureWarning: 'force_all_finite' was renamed to 'ensure_all_finite' in 1.6 and will be removed in 1.8.\n",
      "  warnings.warn(\n",
      "/home/lippincm/miniforge3/envs/nf1_image_based_profiling_env/lib/python3.12/site-packages/sklearn/utils/deprecation.py:151: FutureWarning: 'force_all_finite' was renamed to 'ensure_all_finite' in 1.6 and will be removed in 1.8.\n",
      "  warnings.warn(\n"
     ]
    },
    {
     "name": "stdout",
     "output_type": "stream",
     "text": [
      "Processing NF0018 - agg - sc_parent_organoid_level - input\n",
      "(108, 217)\n",
      "Data shape after dropping NaN values: (108, 217)\n",
      "Processing NF0018 - agg - sc_parent_organoid_level - output\n",
      "(108, 217)\n",
      "Data shape after dropping NaN values: (108, 217)\n",
      "Processing NF0018 - agg - sc_well_level - input\n"
     ]
    },
    {
     "name": "stderr",
     "output_type": "stream",
     "text": [
      "/home/lippincm/miniforge3/envs/nf1_image_based_profiling_env/lib/python3.12/site-packages/sklearn/utils/deprecation.py:151: FutureWarning: 'force_all_finite' was renamed to 'ensure_all_finite' in 1.6 and will be removed in 1.8.\n",
      "  warnings.warn(\n",
      "/home/lippincm/miniforge3/envs/nf1_image_based_profiling_env/lib/python3.12/site-packages/sklearn/utils/deprecation.py:151: FutureWarning: 'force_all_finite' was renamed to 'ensure_all_finite' in 1.6 and will be removed in 1.8.\n",
      "  warnings.warn(\n",
      "/home/lippincm/miniforge3/envs/nf1_image_based_profiling_env/lib/python3.12/site-packages/sklearn/utils/deprecation.py:151: FutureWarning: 'force_all_finite' was renamed to 'ensure_all_finite' in 1.6 and will be removed in 1.8.\n",
      "  warnings.warn(\n"
     ]
    },
    {
     "name": "stdout",
     "output_type": "stream",
     "text": [
      "(44, 217)\n",
      "Data shape after dropping NaN values: (44, 217)\n",
      "Processing NF0018 - agg - sc_well_level - output\n",
      "(44, 217)\n",
      "Data shape after dropping NaN values: (44, 217)\n",
      "Processing NF0018 - agg - sc_consensus - input\n",
      "(16, 217)\n",
      "Data shape after dropping NaN values: (16, 217)\n",
      "Processing NF0018 - agg - sc_consensus - output\n",
      "(16, 217)\n",
      "Data shape after dropping NaN values: (16, 217)\n",
      "Processing NF0018 - agg - organoid_well_level - input\n",
      "(47, 148)\n",
      "Data shape after dropping NaN values: (47, 148)\n",
      "Processing NF0018 - agg - organoid_well_level - output\n",
      "(47, 148)\n",
      "Data shape after dropping NaN values: (47, 148)\n"
     ]
    },
    {
     "name": "stderr",
     "output_type": "stream",
     "text": [
      "/home/lippincm/miniforge3/envs/nf1_image_based_profiling_env/lib/python3.12/site-packages/sklearn/utils/deprecation.py:151: FutureWarning: 'force_all_finite' was renamed to 'ensure_all_finite' in 1.6 and will be removed in 1.8.\n",
      "  warnings.warn(\n",
      "/home/lippincm/miniforge3/envs/nf1_image_based_profiling_env/lib/python3.12/site-packages/sklearn/utils/deprecation.py:151: FutureWarning: 'force_all_finite' was renamed to 'ensure_all_finite' in 1.6 and will be removed in 1.8.\n",
      "  warnings.warn(\n",
      "/home/lippincm/miniforge3/envs/nf1_image_based_profiling_env/lib/python3.12/site-packages/sklearn/utils/deprecation.py:151: FutureWarning: 'force_all_finite' was renamed to 'ensure_all_finite' in 1.6 and will be removed in 1.8.\n",
      "  warnings.warn(\n",
      "/home/lippincm/miniforge3/envs/nf1_image_based_profiling_env/lib/python3.12/site-packages/sklearn/utils/deprecation.py:151: FutureWarning: 'force_all_finite' was renamed to 'ensure_all_finite' in 1.6 and will be removed in 1.8.\n",
      "  warnings.warn(\n",
      "/home/lippincm/miniforge3/envs/nf1_image_based_profiling_env/lib/python3.12/site-packages/sklearn/utils/deprecation.py:151: FutureWarning: 'force_all_finite' was renamed to 'ensure_all_finite' in 1.6 and will be removed in 1.8.\n",
      "  warnings.warn(\n",
      "/home/lippincm/miniforge3/envs/nf1_image_based_profiling_env/lib/python3.12/site-packages/sklearn/utils/deprecation.py:151: FutureWarning: 'force_all_finite' was renamed to 'ensure_all_finite' in 1.6 and will be removed in 1.8.\n",
      "  warnings.warn(\n"
     ]
    },
    {
     "name": "stdout",
     "output_type": "stream",
     "text": [
      "Processing NF0018 - agg - organoid_consensus - input\n",
      "(17, 148)\n",
      "Data shape after dropping NaN values: (17, 148)\n",
      "Processing NF0018 - agg - organoid_consensus - output\n",
      "(17, 148)\n",
      "Data shape after dropping NaN values: (17, 148)\n",
      "Processing NF0021 - fs - sc - input\n",
      "(2716, 234)\n",
      "Data shape after dropping NaN values: (2643, 234)\n"
     ]
    },
    {
     "name": "stderr",
     "output_type": "stream",
     "text": [
      "/home/lippincm/miniforge3/envs/nf1_image_based_profiling_env/lib/python3.12/site-packages/sklearn/utils/deprecation.py:151: FutureWarning: 'force_all_finite' was renamed to 'ensure_all_finite' in 1.6 and will be removed in 1.8.\n",
      "  warnings.warn(\n",
      "/home/lippincm/miniforge3/envs/nf1_image_based_profiling_env/lib/python3.12/site-packages/sklearn/utils/deprecation.py:151: FutureWarning: 'force_all_finite' was renamed to 'ensure_all_finite' in 1.6 and will be removed in 1.8.\n",
      "  warnings.warn(\n"
     ]
    },
    {
     "name": "stdout",
     "output_type": "stream",
     "text": [
      "Processing NF0021 - fs - sc - output\n",
      "(2716, 234)\n",
      "Data shape after dropping NaN values: (2643, 234)\n"
     ]
    },
    {
     "name": "stderr",
     "output_type": "stream",
     "text": [
      "/home/lippincm/miniforge3/envs/nf1_image_based_profiling_env/lib/python3.12/site-packages/sklearn/utils/deprecation.py:151: FutureWarning: 'force_all_finite' was renamed to 'ensure_all_finite' in 1.6 and will be removed in 1.8.\n",
      "  warnings.warn(\n"
     ]
    },
    {
     "name": "stdout",
     "output_type": "stream",
     "text": [
      "Processing NF0021 - fs - organoid - input\n",
      "(270, 147)\n",
      "Data shape after dropping NaN values: (267, 147)\n"
     ]
    },
    {
     "name": "stderr",
     "output_type": "stream",
     "text": [
      "/home/lippincm/miniforge3/envs/nf1_image_based_profiling_env/lib/python3.12/site-packages/sklearn/utils/deprecation.py:151: FutureWarning: 'force_all_finite' was renamed to 'ensure_all_finite' in 1.6 and will be removed in 1.8.\n",
      "  warnings.warn(\n"
     ]
    },
    {
     "name": "stdout",
     "output_type": "stream",
     "text": [
      "Processing NF0021 - fs - organoid - output\n",
      "(270, 147)\n",
      "Data shape after dropping NaN values: (267, 147)\n"
     ]
    },
    {
     "name": "stderr",
     "output_type": "stream",
     "text": [
      "/home/lippincm/miniforge3/envs/nf1_image_based_profiling_env/lib/python3.12/site-packages/sklearn/utils/deprecation.py:151: FutureWarning: 'force_all_finite' was renamed to 'ensure_all_finite' in 1.6 and will be removed in 1.8.\n",
      "  warnings.warn(\n"
     ]
    },
    {
     "name": "stdout",
     "output_type": "stream",
     "text": [
      "Processing NF0021 - agg - sc_parent_organoid_level - input\n",
      "(263, 234)\n",
      "Data shape after dropping NaN values: (262, 234)\n"
     ]
    },
    {
     "name": "stderr",
     "output_type": "stream",
     "text": [
      "/home/lippincm/miniforge3/envs/nf1_image_based_profiling_env/lib/python3.12/site-packages/sklearn/utils/deprecation.py:151: FutureWarning: 'force_all_finite' was renamed to 'ensure_all_finite' in 1.6 and will be removed in 1.8.\n",
      "  warnings.warn(\n"
     ]
    },
    {
     "name": "stdout",
     "output_type": "stream",
     "text": [
      "Processing NF0021 - agg - sc_parent_organoid_level - output\n",
      "(263, 234)\n",
      "Data shape after dropping NaN values: (262, 234)\n"
     ]
    },
    {
     "name": "stderr",
     "output_type": "stream",
     "text": [
      "/home/lippincm/miniforge3/envs/nf1_image_based_profiling_env/lib/python3.12/site-packages/sklearn/utils/deprecation.py:151: FutureWarning: 'force_all_finite' was renamed to 'ensure_all_finite' in 1.6 and will be removed in 1.8.\n",
      "  warnings.warn(\n"
     ]
    },
    {
     "name": "stdout",
     "output_type": "stream",
     "text": [
      "Processing NF0021 - agg - sc_well_level - input\n",
      "(50, 234)\n",
      "Data shape after dropping NaN values: (50, 234)\n",
      "Processing NF0021 - agg - sc_well_level - output\n",
      "(50, 234)\n",
      "Data shape after dropping NaN values: (50, 234)\n",
      "Processing NF0021 - agg - sc_consensus - input\n",
      "(17, 234)\n",
      "Data shape after dropping NaN values: (17, 234)\n",
      "Processing NF0021 - agg - sc_consensus - output\n",
      "(17, 234)\n",
      "Data shape after dropping NaN values: (17, 234)\n",
      "Processing NF0021 - agg - organoid_well_level - input\n",
      "(50, 147)\n",
      "Data shape after dropping NaN values: (50, 147)\n",
      "Processing NF0021 - agg - organoid_well_level - output\n"
     ]
    },
    {
     "name": "stderr",
     "output_type": "stream",
     "text": [
      "/home/lippincm/miniforge3/envs/nf1_image_based_profiling_env/lib/python3.12/site-packages/sklearn/utils/deprecation.py:151: FutureWarning: 'force_all_finite' was renamed to 'ensure_all_finite' in 1.6 and will be removed in 1.8.\n",
      "  warnings.warn(\n",
      "/home/lippincm/miniforge3/envs/nf1_image_based_profiling_env/lib/python3.12/site-packages/sklearn/utils/deprecation.py:151: FutureWarning: 'force_all_finite' was renamed to 'ensure_all_finite' in 1.6 and will be removed in 1.8.\n",
      "  warnings.warn(\n",
      "/home/lippincm/miniforge3/envs/nf1_image_based_profiling_env/lib/python3.12/site-packages/sklearn/utils/deprecation.py:151: FutureWarning: 'force_all_finite' was renamed to 'ensure_all_finite' in 1.6 and will be removed in 1.8.\n",
      "  warnings.warn(\n",
      "/home/lippincm/miniforge3/envs/nf1_image_based_profiling_env/lib/python3.12/site-packages/sklearn/utils/deprecation.py:151: FutureWarning: 'force_all_finite' was renamed to 'ensure_all_finite' in 1.6 and will be removed in 1.8.\n",
      "  warnings.warn(\n",
      "/home/lippincm/miniforge3/envs/nf1_image_based_profiling_env/lib/python3.12/site-packages/sklearn/utils/deprecation.py:151: FutureWarning: 'force_all_finite' was renamed to 'ensure_all_finite' in 1.6 and will be removed in 1.8.\n",
      "  warnings.warn(\n",
      "/home/lippincm/miniforge3/envs/nf1_image_based_profiling_env/lib/python3.12/site-packages/sklearn/utils/deprecation.py:151: FutureWarning: 'force_all_finite' was renamed to 'ensure_all_finite' in 1.6 and will be removed in 1.8.\n",
      "  warnings.warn(\n"
     ]
    },
    {
     "name": "stdout",
     "output_type": "stream",
     "text": [
      "(50, 147)\n",
      "Data shape after dropping NaN values: (50, 147)\n",
      "Processing NF0021 - agg - organoid_consensus - input\n",
      "(17, 147)\n",
      "Data shape after dropping NaN values: (17, 147)\n",
      "Processing NF0021 - agg - organoid_consensus - output\n",
      "(17, 147)\n",
      "Data shape after dropping NaN values: (17, 147)\n",
      "Processing NF0030 - fs - sc - input\n",
      "(1328, 231)\n",
      "Data shape after dropping NaN values: (1284, 231)\n"
     ]
    },
    {
     "name": "stderr",
     "output_type": "stream",
     "text": [
      "/home/lippincm/miniforge3/envs/nf1_image_based_profiling_env/lib/python3.12/site-packages/sklearn/utils/deprecation.py:151: FutureWarning: 'force_all_finite' was renamed to 'ensure_all_finite' in 1.6 and will be removed in 1.8.\n",
      "  warnings.warn(\n",
      "/home/lippincm/miniforge3/envs/nf1_image_based_profiling_env/lib/python3.12/site-packages/sklearn/utils/deprecation.py:151: FutureWarning: 'force_all_finite' was renamed to 'ensure_all_finite' in 1.6 and will be removed in 1.8.\n",
      "  warnings.warn(\n",
      "/home/lippincm/miniforge3/envs/nf1_image_based_profiling_env/lib/python3.12/site-packages/sklearn/utils/deprecation.py:151: FutureWarning: 'force_all_finite' was renamed to 'ensure_all_finite' in 1.6 and will be removed in 1.8.\n",
      "  warnings.warn(\n"
     ]
    },
    {
     "name": "stdout",
     "output_type": "stream",
     "text": [
      "Processing NF0030 - fs - sc - output\n",
      "(1328, 231)\n",
      "Data shape after dropping NaN values: (1284, 231)\n"
     ]
    },
    {
     "name": "stderr",
     "output_type": "stream",
     "text": [
      "/home/lippincm/miniforge3/envs/nf1_image_based_profiling_env/lib/python3.12/site-packages/sklearn/utils/deprecation.py:151: FutureWarning: 'force_all_finite' was renamed to 'ensure_all_finite' in 1.6 and will be removed in 1.8.\n",
      "  warnings.warn(\n"
     ]
    },
    {
     "name": "stdout",
     "output_type": "stream",
     "text": [
      "Processing NF0030 - fs - organoid - input\n",
      "(84, 135)\n",
      "Data shape after dropping NaN values: (82, 135)\n",
      "Processing NF0030 - fs - organoid - output\n",
      "(84, 135)\n",
      "Data shape after dropping NaN values: (82, 135)\n",
      "Processing NF0030 - agg - sc_parent_organoid_level - input\n",
      "(98, 231)\n",
      "Data shape after dropping NaN values: (98, 231)\n"
     ]
    },
    {
     "name": "stderr",
     "output_type": "stream",
     "text": [
      "/home/lippincm/miniforge3/envs/nf1_image_based_profiling_env/lib/python3.12/site-packages/sklearn/utils/deprecation.py:151: FutureWarning: 'force_all_finite' was renamed to 'ensure_all_finite' in 1.6 and will be removed in 1.8.\n",
      "  warnings.warn(\n",
      "/home/lippincm/miniforge3/envs/nf1_image_based_profiling_env/lib/python3.12/site-packages/sklearn/utils/deprecation.py:151: FutureWarning: 'force_all_finite' was renamed to 'ensure_all_finite' in 1.6 and will be removed in 1.8.\n",
      "  warnings.warn(\n",
      "/home/lippincm/miniforge3/envs/nf1_image_based_profiling_env/lib/python3.12/site-packages/sklearn/utils/deprecation.py:151: FutureWarning: 'force_all_finite' was renamed to 'ensure_all_finite' in 1.6 and will be removed in 1.8.\n",
      "  warnings.warn(\n"
     ]
    },
    {
     "name": "stdout",
     "output_type": "stream",
     "text": [
      "Processing NF0030 - agg - sc_parent_organoid_level - output\n",
      "(98, 231)\n",
      "Data shape after dropping NaN values: (98, 231)\n",
      "Processing NF0030 - agg - sc_well_level - input\n",
      "(49, 231)\n",
      "Data shape after dropping NaN values: (49, 231)\n",
      "Processing NF0030 - agg - sc_well_level - output\n",
      "(49, 231)\n",
      "Data shape after dropping NaN values: (49, 231)\n",
      "Processing NF0030 - agg - sc_consensus - input\n"
     ]
    },
    {
     "name": "stderr",
     "output_type": "stream",
     "text": [
      "/home/lippincm/miniforge3/envs/nf1_image_based_profiling_env/lib/python3.12/site-packages/sklearn/utils/deprecation.py:151: FutureWarning: 'force_all_finite' was renamed to 'ensure_all_finite' in 1.6 and will be removed in 1.8.\n",
      "  warnings.warn(\n",
      "/home/lippincm/miniforge3/envs/nf1_image_based_profiling_env/lib/python3.12/site-packages/sklearn/utils/deprecation.py:151: FutureWarning: 'force_all_finite' was renamed to 'ensure_all_finite' in 1.6 and will be removed in 1.8.\n",
      "  warnings.warn(\n",
      "/home/lippincm/miniforge3/envs/nf1_image_based_profiling_env/lib/python3.12/site-packages/sklearn/utils/deprecation.py:151: FutureWarning: 'force_all_finite' was renamed to 'ensure_all_finite' in 1.6 and will be removed in 1.8.\n",
      "  warnings.warn(\n",
      "/home/lippincm/miniforge3/envs/nf1_image_based_profiling_env/lib/python3.12/site-packages/sklearn/utils/deprecation.py:151: FutureWarning: 'force_all_finite' was renamed to 'ensure_all_finite' in 1.6 and will be removed in 1.8.\n",
      "  warnings.warn(\n"
     ]
    },
    {
     "name": "stdout",
     "output_type": "stream",
     "text": [
      "(17, 231)\n",
      "Data shape after dropping NaN values: (17, 231)\n",
      "Processing NF0030 - agg - sc_consensus - output\n",
      "(17, 231)\n",
      "Data shape after dropping NaN values: (17, 231)\n",
      "Processing NF0030 - agg - organoid_well_level - input\n",
      "(43, 135)\n",
      "Data shape after dropping NaN values: (43, 135)\n",
      "Processing NF0030 - agg - organoid_well_level - output\n",
      "(43, 135)\n",
      "Data shape after dropping NaN values: (43, 135)\n",
      "Processing NF0030 - agg - organoid_consensus - input\n",
      "(17, 135)\n",
      "Data shape after dropping NaN values: (17, 135)\n",
      "Processing NF0030 - agg - organoid_consensus - output\n",
      "(17, 135)\n",
      "Data shape after dropping NaN values: (17, 135)\n",
      "Processing NF0040 - fs - sc - input\n",
      "(2858, 212)\n",
      "Data shape after dropping NaN values: (2772, 212)\n"
     ]
    },
    {
     "name": "stderr",
     "output_type": "stream",
     "text": [
      "/home/lippincm/miniforge3/envs/nf1_image_based_profiling_env/lib/python3.12/site-packages/sklearn/utils/deprecation.py:151: FutureWarning: 'force_all_finite' was renamed to 'ensure_all_finite' in 1.6 and will be removed in 1.8.\n",
      "  warnings.warn(\n",
      "/home/lippincm/miniforge3/envs/nf1_image_based_profiling_env/lib/python3.12/site-packages/sklearn/utils/deprecation.py:151: FutureWarning: 'force_all_finite' was renamed to 'ensure_all_finite' in 1.6 and will be removed in 1.8.\n",
      "  warnings.warn(\n",
      "/home/lippincm/miniforge3/envs/nf1_image_based_profiling_env/lib/python3.12/site-packages/sklearn/utils/deprecation.py:151: FutureWarning: 'force_all_finite' was renamed to 'ensure_all_finite' in 1.6 and will be removed in 1.8.\n",
      "  warnings.warn(\n",
      "/home/lippincm/miniforge3/envs/nf1_image_based_profiling_env/lib/python3.12/site-packages/sklearn/utils/deprecation.py:151: FutureWarning: 'force_all_finite' was renamed to 'ensure_all_finite' in 1.6 and will be removed in 1.8.\n",
      "  warnings.warn(\n",
      "/home/lippincm/miniforge3/envs/nf1_image_based_profiling_env/lib/python3.12/site-packages/sklearn/utils/deprecation.py:151: FutureWarning: 'force_all_finite' was renamed to 'ensure_all_finite' in 1.6 and will be removed in 1.8.\n",
      "  warnings.warn(\n",
      "/home/lippincm/miniforge3/envs/nf1_image_based_profiling_env/lib/python3.12/site-packages/sklearn/utils/deprecation.py:151: FutureWarning: 'force_all_finite' was renamed to 'ensure_all_finite' in 1.6 and will be removed in 1.8.\n",
      "  warnings.warn(\n"
     ]
    },
    {
     "name": "stdout",
     "output_type": "stream",
     "text": [
      "Processing NF0040 - fs - sc - output\n",
      "(2858, 212)\n",
      "Data shape after dropping NaN values: (2772, 212)\n"
     ]
    },
    {
     "name": "stderr",
     "output_type": "stream",
     "text": [
      "/home/lippincm/miniforge3/envs/nf1_image_based_profiling_env/lib/python3.12/site-packages/sklearn/utils/deprecation.py:151: FutureWarning: 'force_all_finite' was renamed to 'ensure_all_finite' in 1.6 and will be removed in 1.8.\n",
      "  warnings.warn(\n"
     ]
    },
    {
     "name": "stdout",
     "output_type": "stream",
     "text": [
      "Processing NF0040 - fs - organoid - input\n",
      "(386, 138)\n",
      "Data shape after dropping NaN values: (378, 138)\n"
     ]
    },
    {
     "name": "stderr",
     "output_type": "stream",
     "text": [
      "/home/lippincm/miniforge3/envs/nf1_image_based_profiling_env/lib/python3.12/site-packages/sklearn/utils/deprecation.py:151: FutureWarning: 'force_all_finite' was renamed to 'ensure_all_finite' in 1.6 and will be removed in 1.8.\n",
      "  warnings.warn(\n"
     ]
    },
    {
     "name": "stdout",
     "output_type": "stream",
     "text": [
      "Processing NF0040 - fs - organoid - output\n",
      "(386, 138)\n",
      "Data shape after dropping NaN values: (378, 138)\n"
     ]
    },
    {
     "name": "stderr",
     "output_type": "stream",
     "text": [
      "/home/lippincm/miniforge3/envs/nf1_image_based_profiling_env/lib/python3.12/site-packages/sklearn/utils/deprecation.py:151: FutureWarning: 'force_all_finite' was renamed to 'ensure_all_finite' in 1.6 and will be removed in 1.8.\n",
      "  warnings.warn(\n"
     ]
    },
    {
     "name": "stdout",
     "output_type": "stream",
     "text": [
      "Processing NF0040 - agg - sc_parent_organoid_level - input\n",
      "(342, 212)\n",
      "Data shape after dropping NaN values: (339, 212)\n"
     ]
    },
    {
     "name": "stderr",
     "output_type": "stream",
     "text": [
      "/home/lippincm/miniforge3/envs/nf1_image_based_profiling_env/lib/python3.12/site-packages/sklearn/utils/deprecation.py:151: FutureWarning: 'force_all_finite' was renamed to 'ensure_all_finite' in 1.6 and will be removed in 1.8.\n",
      "  warnings.warn(\n"
     ]
    },
    {
     "name": "stdout",
     "output_type": "stream",
     "text": [
      "Processing NF0040 - agg - sc_parent_organoid_level - output\n",
      "(342, 212)\n",
      "Data shape after dropping NaN values: (339, 212)\n"
     ]
    },
    {
     "name": "stderr",
     "output_type": "stream",
     "text": [
      "/home/lippincm/miniforge3/envs/nf1_image_based_profiling_env/lib/python3.12/site-packages/sklearn/utils/deprecation.py:151: FutureWarning: 'force_all_finite' was renamed to 'ensure_all_finite' in 1.6 and will be removed in 1.8.\n",
      "  warnings.warn(\n"
     ]
    },
    {
     "name": "stdout",
     "output_type": "stream",
     "text": [
      "Processing NF0040 - agg - sc_well_level - input\n",
      "(60, 212)\n",
      "Data shape after dropping NaN values: (60, 212)\n",
      "Processing NF0040 - agg - sc_well_level - output\n",
      "(60, 212)\n",
      "Data shape after dropping NaN values: (60, 212)\n",
      "Processing NF0040 - agg - sc_consensus - input\n",
      "(22, 212)\n",
      "Data shape after dropping NaN values: (22, 212)\n",
      "Processing NF0040 - agg - sc_consensus - output\n",
      "(22, 212)\n",
      "Data shape after dropping NaN values: (22, 212)\n",
      "Processing NF0040 - agg - organoid_well_level - input\n",
      "(60, 138)\n",
      "Data shape after dropping NaN values: (60, 138)\n"
     ]
    },
    {
     "name": "stderr",
     "output_type": "stream",
     "text": [
      "/home/lippincm/miniforge3/envs/nf1_image_based_profiling_env/lib/python3.12/site-packages/sklearn/utils/deprecation.py:151: FutureWarning: 'force_all_finite' was renamed to 'ensure_all_finite' in 1.6 and will be removed in 1.8.\n",
      "  warnings.warn(\n",
      "/home/lippincm/miniforge3/envs/nf1_image_based_profiling_env/lib/python3.12/site-packages/sklearn/utils/deprecation.py:151: FutureWarning: 'force_all_finite' was renamed to 'ensure_all_finite' in 1.6 and will be removed in 1.8.\n",
      "  warnings.warn(\n",
      "/home/lippincm/miniforge3/envs/nf1_image_based_profiling_env/lib/python3.12/site-packages/sklearn/utils/deprecation.py:151: FutureWarning: 'force_all_finite' was renamed to 'ensure_all_finite' in 1.6 and will be removed in 1.8.\n",
      "  warnings.warn(\n",
      "/home/lippincm/miniforge3/envs/nf1_image_based_profiling_env/lib/python3.12/site-packages/sklearn/utils/deprecation.py:151: FutureWarning: 'force_all_finite' was renamed to 'ensure_all_finite' in 1.6 and will be removed in 1.8.\n",
      "  warnings.warn(\n",
      "/home/lippincm/miniforge3/envs/nf1_image_based_profiling_env/lib/python3.12/site-packages/sklearn/utils/deprecation.py:151: FutureWarning: 'force_all_finite' was renamed to 'ensure_all_finite' in 1.6 and will be removed in 1.8.\n",
      "  warnings.warn(\n"
     ]
    },
    {
     "name": "stdout",
     "output_type": "stream",
     "text": [
      "Processing NF0040 - agg - organoid_well_level - output\n",
      "(60, 138)\n",
      "Data shape after dropping NaN values: (60, 138)\n",
      "Processing NF0040 - agg - organoid_consensus - input\n",
      "(22, 138)\n",
      "Data shape after dropping NaN values: (22, 138)\n",
      "Processing NF0040 - agg - organoid_consensus - output\n",
      "(22, 138)\n",
      "Data shape after dropping NaN values: (22, 138)\n",
      "Processing SARCO219 - fs - sc - input\n",
      "(426, 214)\n",
      "Data shape after dropping NaN values: (418, 214)\n"
     ]
    },
    {
     "name": "stderr",
     "output_type": "stream",
     "text": [
      "/home/lippincm/miniforge3/envs/nf1_image_based_profiling_env/lib/python3.12/site-packages/sklearn/utils/deprecation.py:151: FutureWarning: 'force_all_finite' was renamed to 'ensure_all_finite' in 1.6 and will be removed in 1.8.\n",
      "  warnings.warn(\n",
      "/home/lippincm/miniforge3/envs/nf1_image_based_profiling_env/lib/python3.12/site-packages/sklearn/utils/deprecation.py:151: FutureWarning: 'force_all_finite' was renamed to 'ensure_all_finite' in 1.6 and will be removed in 1.8.\n",
      "  warnings.warn(\n",
      "/home/lippincm/miniforge3/envs/nf1_image_based_profiling_env/lib/python3.12/site-packages/sklearn/utils/deprecation.py:151: FutureWarning: 'force_all_finite' was renamed to 'ensure_all_finite' in 1.6 and will be removed in 1.8.\n",
      "  warnings.warn(\n",
      "/home/lippincm/miniforge3/envs/nf1_image_based_profiling_env/lib/python3.12/site-packages/sklearn/utils/deprecation.py:151: FutureWarning: 'force_all_finite' was renamed to 'ensure_all_finite' in 1.6 and will be removed in 1.8.\n",
      "  warnings.warn(\n"
     ]
    },
    {
     "name": "stdout",
     "output_type": "stream",
     "text": [
      "Processing SARCO219 - fs - sc - output\n",
      "(426, 214)\n",
      "Data shape after dropping NaN values: (418, 214)\n"
     ]
    },
    {
     "name": "stderr",
     "output_type": "stream",
     "text": [
      "/home/lippincm/miniforge3/envs/nf1_image_based_profiling_env/lib/python3.12/site-packages/sklearn/utils/deprecation.py:151: FutureWarning: 'force_all_finite' was renamed to 'ensure_all_finite' in 1.6 and will be removed in 1.8.\n",
      "  warnings.warn(\n"
     ]
    },
    {
     "name": "stdout",
     "output_type": "stream",
     "text": [
      "Processing SARCO219 - fs - organoid - input\n",
      "(198, 146)\n",
      "Data shape after dropping NaN values: (187, 146)\n",
      "Processing SARCO219 - fs - organoid - output\n",
      "(198, 146)\n",
      "Data shape after dropping NaN values: (187, 146)\n"
     ]
    },
    {
     "name": "stderr",
     "output_type": "stream",
     "text": [
      "/home/lippincm/miniforge3/envs/nf1_image_based_profiling_env/lib/python3.12/site-packages/sklearn/utils/deprecation.py:151: FutureWarning: 'force_all_finite' was renamed to 'ensure_all_finite' in 1.6 and will be removed in 1.8.\n",
      "  warnings.warn(\n",
      "/home/lippincm/miniforge3/envs/nf1_image_based_profiling_env/lib/python3.12/site-packages/sklearn/utils/deprecation.py:151: FutureWarning: 'force_all_finite' was renamed to 'ensure_all_finite' in 1.6 and will be removed in 1.8.\n",
      "  warnings.warn(\n"
     ]
    },
    {
     "name": "stdout",
     "output_type": "stream",
     "text": [
      "Processing SARCO219 - agg - sc_parent_organoid_level - input\n",
      "(133, 214)\n",
      "Data shape after dropping NaN values: (132, 214)\n",
      "Processing SARCO219 - agg - sc_parent_organoid_level - output\n",
      "(133, 214)\n",
      "Data shape after dropping NaN values: (132, 214)\n"
     ]
    },
    {
     "name": "stderr",
     "output_type": "stream",
     "text": [
      "/home/lippincm/miniforge3/envs/nf1_image_based_profiling_env/lib/python3.12/site-packages/sklearn/utils/deprecation.py:151: FutureWarning: 'force_all_finite' was renamed to 'ensure_all_finite' in 1.6 and will be removed in 1.8.\n",
      "  warnings.warn(\n",
      "/home/lippincm/miniforge3/envs/nf1_image_based_profiling_env/lib/python3.12/site-packages/sklearn/utils/deprecation.py:151: FutureWarning: 'force_all_finite' was renamed to 'ensure_all_finite' in 1.6 and will be removed in 1.8.\n",
      "  warnings.warn(\n"
     ]
    },
    {
     "name": "stdout",
     "output_type": "stream",
     "text": [
      "Processing SARCO219 - agg - sc_well_level - input\n",
      "(50, 214)\n",
      "Data shape after dropping NaN values: (50, 214)\n",
      "Processing SARCO219 - agg - sc_well_level - output\n",
      "(50, 214)\n",
      "Data shape after dropping NaN values: (50, 214)\n",
      "Processing SARCO219 - agg - sc_consensus - input\n",
      "(17, 214)\n",
      "Data shape after dropping NaN values: (17, 214)\n",
      "Processing SARCO219 - agg - sc_consensus - output\n",
      "(17, 214)\n",
      "Data shape after dropping NaN values: (17, 214)\n",
      "Processing SARCO219 - agg - organoid_well_level - input\n",
      "(50, 146)\n",
      "Data shape after dropping NaN values: (50, 146)\n",
      "Processing SARCO219 - agg - organoid_well_level - output\n"
     ]
    },
    {
     "name": "stderr",
     "output_type": "stream",
     "text": [
      "/home/lippincm/miniforge3/envs/nf1_image_based_profiling_env/lib/python3.12/site-packages/sklearn/utils/deprecation.py:151: FutureWarning: 'force_all_finite' was renamed to 'ensure_all_finite' in 1.6 and will be removed in 1.8.\n",
      "  warnings.warn(\n",
      "/home/lippincm/miniforge3/envs/nf1_image_based_profiling_env/lib/python3.12/site-packages/sklearn/utils/deprecation.py:151: FutureWarning: 'force_all_finite' was renamed to 'ensure_all_finite' in 1.6 and will be removed in 1.8.\n",
      "  warnings.warn(\n",
      "/home/lippincm/miniforge3/envs/nf1_image_based_profiling_env/lib/python3.12/site-packages/sklearn/utils/deprecation.py:151: FutureWarning: 'force_all_finite' was renamed to 'ensure_all_finite' in 1.6 and will be removed in 1.8.\n",
      "  warnings.warn(\n",
      "/home/lippincm/miniforge3/envs/nf1_image_based_profiling_env/lib/python3.12/site-packages/sklearn/utils/deprecation.py:151: FutureWarning: 'force_all_finite' was renamed to 'ensure_all_finite' in 1.6 and will be removed in 1.8.\n",
      "  warnings.warn(\n",
      "/home/lippincm/miniforge3/envs/nf1_image_based_profiling_env/lib/python3.12/site-packages/sklearn/utils/deprecation.py:151: FutureWarning: 'force_all_finite' was renamed to 'ensure_all_finite' in 1.6 and will be removed in 1.8.\n",
      "  warnings.warn(\n",
      "/home/lippincm/miniforge3/envs/nf1_image_based_profiling_env/lib/python3.12/site-packages/sklearn/utils/deprecation.py:151: FutureWarning: 'force_all_finite' was renamed to 'ensure_all_finite' in 1.6 and will be removed in 1.8.\n",
      "  warnings.warn(\n"
     ]
    },
    {
     "name": "stdout",
     "output_type": "stream",
     "text": [
      "(50, 146)\n",
      "Data shape after dropping NaN values: (50, 146)\n",
      "Processing SARCO219 - agg - organoid_consensus - input\n",
      "(17, 146)\n",
      "Data shape after dropping NaN values: (17, 146)\n",
      "Processing SARCO219 - agg - organoid_consensus - output\n",
      "(17, 146)\n",
      "Data shape after dropping NaN values: (17, 146)\n",
      "Processing SARCO361 - fs - sc - input\n",
      "(141, 215)\n",
      "Data shape after dropping NaN values: (139, 215)\n"
     ]
    },
    {
     "name": "stderr",
     "output_type": "stream",
     "text": [
      "/home/lippincm/miniforge3/envs/nf1_image_based_profiling_env/lib/python3.12/site-packages/sklearn/utils/deprecation.py:151: FutureWarning: 'force_all_finite' was renamed to 'ensure_all_finite' in 1.6 and will be removed in 1.8.\n",
      "  warnings.warn(\n",
      "/home/lippincm/miniforge3/envs/nf1_image_based_profiling_env/lib/python3.12/site-packages/sklearn/utils/deprecation.py:151: FutureWarning: 'force_all_finite' was renamed to 'ensure_all_finite' in 1.6 and will be removed in 1.8.\n",
      "  warnings.warn(\n",
      "/home/lippincm/miniforge3/envs/nf1_image_based_profiling_env/lib/python3.12/site-packages/sklearn/utils/deprecation.py:151: FutureWarning: 'force_all_finite' was renamed to 'ensure_all_finite' in 1.6 and will be removed in 1.8.\n",
      "  warnings.warn(\n",
      "/home/lippincm/miniforge3/envs/nf1_image_based_profiling_env/lib/python3.12/site-packages/sklearn/utils/deprecation.py:151: FutureWarning: 'force_all_finite' was renamed to 'ensure_all_finite' in 1.6 and will be removed in 1.8.\n",
      "  warnings.warn(\n"
     ]
    },
    {
     "name": "stdout",
     "output_type": "stream",
     "text": [
      "Processing SARCO361 - fs - sc - output\n",
      "(141, 215)\n",
      "Data shape after dropping NaN values: (139, 215)\n",
      "Processing SARCO361 - fs - organoid - input\n",
      "(30, 140)\n",
      "Data shape after dropping NaN values: (30, 140)\n",
      "Processing SARCO361 - fs - organoid - output\n",
      "(30, 140)\n",
      "Data shape after dropping NaN values: (30, 140)\n",
      "Processing SARCO361 - agg - sc_parent_organoid_level - input\n",
      "(17, 215)\n"
     ]
    },
    {
     "name": "stderr",
     "output_type": "stream",
     "text": [
      "/home/lippincm/miniforge3/envs/nf1_image_based_profiling_env/lib/python3.12/site-packages/sklearn/utils/deprecation.py:151: FutureWarning: 'force_all_finite' was renamed to 'ensure_all_finite' in 1.6 and will be removed in 1.8.\n",
      "  warnings.warn(\n",
      "/home/lippincm/miniforge3/envs/nf1_image_based_profiling_env/lib/python3.12/site-packages/sklearn/utils/deprecation.py:151: FutureWarning: 'force_all_finite' was renamed to 'ensure_all_finite' in 1.6 and will be removed in 1.8.\n",
      "  warnings.warn(\n",
      "/home/lippincm/miniforge3/envs/nf1_image_based_profiling_env/lib/python3.12/site-packages/sklearn/utils/deprecation.py:151: FutureWarning: 'force_all_finite' was renamed to 'ensure_all_finite' in 1.6 and will be removed in 1.8.\n",
      "  warnings.warn(\n",
      "/home/lippincm/miniforge3/envs/nf1_image_based_profiling_env/lib/python3.12/site-packages/sklearn/utils/deprecation.py:151: FutureWarning: 'force_all_finite' was renamed to 'ensure_all_finite' in 1.6 and will be removed in 1.8.\n",
      "  warnings.warn(\n",
      "/home/lippincm/miniforge3/envs/nf1_image_based_profiling_env/lib/python3.12/site-packages/sklearn/utils/deprecation.py:151: FutureWarning: 'force_all_finite' was renamed to 'ensure_all_finite' in 1.6 and will be removed in 1.8.\n",
      "  warnings.warn(\n",
      "/home/lippincm/miniforge3/envs/nf1_image_based_profiling_env/lib/python3.12/site-packages/umap/umap_.py:2462: UserWarning: n_neighbors is larger than the dataset size; truncating to X.shape[0] - 1\n",
      "  warn(\n",
      "/home/lippincm/miniforge3/envs/nf1_image_based_profiling_env/lib/python3.12/site-packages/sklearn/utils/deprecation.py:151: FutureWarning: 'force_all_finite' was renamed to 'ensure_all_finite' in 1.6 and will be removed in 1.8.\n",
      "  warnings.warn(\n",
      "/home/lippincm/miniforge3/envs/nf1_image_based_profiling_env/lib/python3.12/site-packages/umap/umap_.py:2462: UserWarning: n_neighbors is larger than the dataset size; truncating to X.shape[0] - 1\n",
      "  warn(\n",
      "/home/lippincm/miniforge3/envs/nf1_image_based_profiling_env/lib/python3.12/site-packages/sklearn/utils/deprecation.py:151: FutureWarning: 'force_all_finite' was renamed to 'ensure_all_finite' in 1.6 and will be removed in 1.8.\n",
      "  warnings.warn(\n",
      "/home/lippincm/miniforge3/envs/nf1_image_based_profiling_env/lib/python3.12/site-packages/umap/umap_.py:2462: UserWarning: n_neighbors is larger than the dataset size; truncating to X.shape[0] - 1\n",
      "  warn(\n",
      "/home/lippincm/miniforge3/envs/nf1_image_based_profiling_env/lib/python3.12/site-packages/sklearn/utils/deprecation.py:151: FutureWarning: 'force_all_finite' was renamed to 'ensure_all_finite' in 1.6 and will be removed in 1.8.\n",
      "  warnings.warn(\n",
      "/home/lippincm/miniforge3/envs/nf1_image_based_profiling_env/lib/python3.12/site-packages/umap/umap_.py:2462: UserWarning: n_neighbors is larger than the dataset size; truncating to X.shape[0] - 1\n",
      "  warn(\n",
      "/home/lippincm/miniforge3/envs/nf1_image_based_profiling_env/lib/python3.12/site-packages/sklearn/utils/deprecation.py:151: FutureWarning: 'force_all_finite' was renamed to 'ensure_all_finite' in 1.6 and will be removed in 1.8.\n",
      "  warnings.warn(\n",
      "/home/lippincm/miniforge3/envs/nf1_image_based_profiling_env/lib/python3.12/site-packages/umap/umap_.py:2462: UserWarning: n_neighbors is larger than the dataset size; truncating to X.shape[0] - 1\n",
      "  warn(\n",
      "/home/lippincm/miniforge3/envs/nf1_image_based_profiling_env/lib/python3.12/site-packages/sklearn/utils/deprecation.py:151: FutureWarning: 'force_all_finite' was renamed to 'ensure_all_finite' in 1.6 and will be removed in 1.8.\n",
      "  warnings.warn(\n"
     ]
    },
    {
     "name": "stdout",
     "output_type": "stream",
     "text": [
      "Data shape after dropping NaN values: (17, 215)\n",
      "Processing SARCO361 - agg - sc_parent_organoid_level - output\n",
      "(17, 215)\n",
      "Data shape after dropping NaN values: (17, 215)\n",
      "Processing SARCO361 - agg - sc_well_level - input\n",
      "(7, 215)\n",
      "Data shape after dropping NaN values: (7, 215)\n",
      "Processing SARCO361 - agg - sc_well_level - output\n",
      "(7, 215)\n",
      "Data shape after dropping NaN values: (7, 215)\n",
      "Processing SARCO361 - agg - sc_consensus - input\n",
      "(6, 215)\n",
      "Data shape after dropping NaN values: (6, 215)\n",
      "Processing SARCO361 - agg - sc_consensus - output\n",
      "(6, 215)\n",
      "Data shape after dropping NaN values: (6, 215)\n",
      "Processing SARCO361 - agg - organoid_well_level - input\n",
      "(7, 140)\n",
      "Data shape after dropping NaN values: (7, 140)\n",
      "Processing SARCO361 - agg - organoid_well_level - output\n",
      "(7, 140)\n",
      "Data shape after dropping NaN values: (7, 140)\n",
      "Processing SARCO361 - agg - organoid_consensus - input\n",
      "(6, 140)\n",
      "Data shape after dropping NaN values: (6, 140)\n",
      "Processing SARCO361 - agg - organoid_consensus - output\n",
      "(6, 140)\n",
      "Data shape after dropping NaN values: (6, 140)\n"
     ]
    },
    {
     "name": "stderr",
     "output_type": "stream",
     "text": [
      "/home/lippincm/miniforge3/envs/nf1_image_based_profiling_env/lib/python3.12/site-packages/umap/umap_.py:2462: UserWarning: n_neighbors is larger than the dataset size; truncating to X.shape[0] - 1\n",
      "  warn(\n",
      "/home/lippincm/miniforge3/envs/nf1_image_based_profiling_env/lib/python3.12/site-packages/sklearn/utils/deprecation.py:151: FutureWarning: 'force_all_finite' was renamed to 'ensure_all_finite' in 1.6 and will be removed in 1.8.\n",
      "  warnings.warn(\n",
      "/home/lippincm/miniforge3/envs/nf1_image_based_profiling_env/lib/python3.12/site-packages/umap/umap_.py:2462: UserWarning: n_neighbors is larger than the dataset size; truncating to X.shape[0] - 1\n",
      "  warn(\n",
      "/home/lippincm/miniforge3/envs/nf1_image_based_profiling_env/lib/python3.12/site-packages/sklearn/utils/deprecation.py:151: FutureWarning: 'force_all_finite' was renamed to 'ensure_all_finite' in 1.6 and will be removed in 1.8.\n",
      "  warnings.warn(\n",
      "/home/lippincm/miniforge3/envs/nf1_image_based_profiling_env/lib/python3.12/site-packages/umap/umap_.py:2462: UserWarning: n_neighbors is larger than the dataset size; truncating to X.shape[0] - 1\n",
      "  warn(\n"
     ]
    }
   ],
   "source": [
    "for patient in file_dict.keys():\n",
    "    for level in file_dict[patient].keys():\n",
    "        for profile_type in file_dict[patient][level].keys():\n",
    "            for dataset, paths in file_dict[patient][level][profile_type].items():\n",
    "                print(f\"Processing {patient} - {level} - {profile_type} - {dataset}\")\n",
    "                df = pd.read_parquet(file_dict[patient][level][profile_type][\"input\"])\n",
    "\n",
    "                metadata_df = df.copy()\n",
    "                metadata_subset = []\n",
    "                for col in metadata_columns:\n",
    "                    if col in df.columns:\n",
    "                        metadata_subset.append(col)\n",
    "\n",
    "                metadata_df = df[metadata_subset]\n",
    "                features_df = df.drop(columns=metadata_columns, errors=\"ignore\")\n",
    "                print(features_df.shape)\n",
    "                # remove NaN values\n",
    "                features_df = features_df.dropna(axis=0, how=\"any\")\n",
    "                print(f\"Data shape after dropping NaN values: {features_df.shape}\")\n",
    "                # Extract features and apply UMAP\n",
    "\n",
    "                umap_embedding = umap_object.fit_transform(features_df)\n",
    "\n",
    "                # Create a DataFrame with UMAP results\n",
    "                umap_df = pd.DataFrame(umap_embedding, columns=[\"UMAP1\", \"UMAP2\"])\n",
    "                umap_df = pd.concat(\n",
    "                    [metadata_df.reset_index(drop=True), umap_df], axis=1\n",
    "                )\n",
    "                # Save the UMAP results\n",
    "                file_dict[patient][level][profile_type][\"output\"].parent.mkdir(\n",
    "                    parents=True, exist_ok=True\n",
    "                )\n",
    "                umap_df.to_parquet(\n",
    "                    file_dict[patient][level][profile_type][\"output\"], index=False\n",
    "                )"
   ]
  },
  {
   "cell_type": "code",
   "execution_count": null,
   "id": "6aebae0b",
   "metadata": {},
   "outputs": [],
   "source": []
  }
 ],
 "metadata": {
  "kernelspec": {
   "display_name": "nf1_image_based_profiling_env",
   "language": "python",
   "name": "python3"
  },
  "language_info": {
   "codemirror_mode": {
    "name": "ipython",
    "version": 3
   },
   "file_extension": ".py",
   "mimetype": "text/x-python",
   "name": "python",
   "nbconvert_exporter": "python",
   "pygments_lexer": "ipython3",
   "version": "3.12.9"
  }
 },
 "nbformat": 4,
 "nbformat_minor": 5
}
