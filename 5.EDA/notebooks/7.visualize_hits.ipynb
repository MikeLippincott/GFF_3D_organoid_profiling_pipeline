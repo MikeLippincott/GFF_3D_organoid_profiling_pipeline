{
 "cells": [
  {
   "cell_type": "code",
   "execution_count": 1,
   "id": "f30d07b2",
   "metadata": {
    "vscode": {
     "languageId": "r"
    }
   },
   "outputs": [
    {
     "name": "stderr",
     "output_type": "stream",
     "text": [
      "Loading required package: devtools\n",
      "\n",
      "Warning message:\n",
      "“package ‘devtools’ was built under R version 4.2.3”\n",
      "Loading required package: usethis\n",
      "\n",
      "Warning message:\n",
      "“package ‘usethis’ was built under R version 4.2.3”\n",
      "Loading required package: ggVennDiagram\n",
      "\n",
      "Warning message:\n",
      "“package ‘ggVennDiagram’ was built under R version 4.2.3”\n",
      "\n",
      "Attaching package: ‘ggVennDiagram’\n",
      "\n",
      "\n",
      "The following object is masked from ‘package:tidyr’:\n",
      "\n",
      "    unite\n",
      "\n",
      "\n",
      "Loading required package: ggvenn\n",
      "\n"
     ]
    },
    {
     "name": "stdout",
     "output_type": "stream",
     "text": [
      "Git root directory: /home/lippincm/Documents/GFF_3D_organoid_profiling_pipeline \n"
     ]
    }
   ],
   "source": [
    "list_of_packages <- c(\"ggplot2\", \"dplyr\", \"tidyr\", \"circlize\",\"arrow\",\"hrbrthemes\", \"tm\",\"VennDiagram\")\n",
    "for (package in list_of_packages) {\n",
    "    suppressPackageStartupMessages(\n",
    "        suppressWarnings(\n",
    "            library(\n",
    "                package,\n",
    "                character.only = TRUE,\n",
    "                quietly = TRUE,\n",
    "                warn.conflicts = FALSE\n",
    "            )\n",
    "        )\n",
    "    )\n",
    "}\n",
    "if (!require(devtools)) install.packages(\"devtools\")\n",
    "if (!require(ggVennDiagram)) install.packages(\"ggVennDiagram\")\n",
    "suppressPackageStartupMessages(\n",
    "        suppressWarnings(library(ggVennDiagram))\n",
    ")\n",
    "if (!require(ggvenn)) devtools::install_github(\"yanlinlin82/ggvenn\")\n",
    "suppressPackageStartupMessages(\n",
    "        suppressWarnings(library(ggvenn))\n",
    ")\n",
    "\n",
    "# Get the current working directory and find Git root\n",
    "find_git_root <- function() {\n",
    "    # Get current working directory\n",
    "    cwd <- getwd()\n",
    "\n",
    "    # Check if current directory has .git\n",
    "    if (dir.exists(file.path(cwd, \".git\"))) {\n",
    "        return(cwd)\n",
    "    }\n",
    "\n",
    "    # If not, search parent directories\n",
    "    current_path <- cwd\n",
    "    while (dirname(current_path) != current_path) {  # While not at root\n",
    "        parent_path <- dirname(current_path)\n",
    "        if (dir.exists(file.path(parent_path, \".git\"))) {\n",
    "            return(parent_path)\n",
    "        }\n",
    "        current_path <- parent_path\n",
    "    }\n",
    "\n",
    "    # If no Git root found, stop with error\n",
    "    stop(\"No Git root directory found.\")\n",
    "}\n",
    "\n",
    "# Find the Git root directory\n",
    "root_dir <- find_git_root()\n",
    "cat(\"Git root directory:\", root_dir, \"\\n\")\n",
    "\n"
   ]
  },
  {
   "cell_type": "code",
   "execution_count": 2,
   "id": "b8279a12",
   "metadata": {
    "vscode": {
     "languageId": "r"
    }
   },
   "outputs": [],
   "source": [
    "organoid_fs_inter_patient_drug_list_path <- file.path(\n",
    "    root_dir,\n",
    "    \"5.EDA/results/drug_hit_lists/organoid_fs_inter_patient_drug_hit_list.parquet\"\n",
    ")\n",
    "organoid_fs_intra_patient_drug_list_path <- file.path(\n",
    "    root_dir,\n",
    "    \"5.EDA/results/drug_hit_lists/organoid_fs_intra_patient_drug_hit_list.parquet\"\n",
    ")\n",
    "sc_fs_inter_patient_drug_list_path <- file.path(\n",
    "    root_dir,\n",
    "    \"5.EDA/results/drug_hit_lists/sc_fs_inter_patient_drug_hit_list.parquet\"\n",
    ")\n",
    "sc_fs_intra_patient_drug_list_path <- file.path(\n",
    "    root_dir,\n",
    "    \"5.EDA/results/drug_hit_lists/sc_fs_intra_patient_drug_hit_list.parquet\"\n",
    ")\n",
    "organoid_fs_inter_patient_drugs_df <- arrow::read_parquet(\n",
    "    organoid_fs_inter_patient_drug_list_path\n",
    ")\n",
    "organoid_fs_intra_patient_drugs_df <- arrow::read_parquet(\n",
    "    organoid_fs_intra_patient_drug_list_path\n",
    ")\n",
    "sc_fs_inter_patient_drugs_df <- arrow::read_parquet(\n",
    "    sc_fs_inter_patient_drug_list_path\n",
    ")\n",
    "sc_fs_intra_patient_drugs_df <- arrow::read_parquet(\n",
    "    sc_fs_intra_patient_drug_list_path\n",
    ")"
   ]
  },
  {
   "cell_type": "code",
   "execution_count": 3,
   "id": "8f1364d1",
   "metadata": {
    "vscode": {
     "languageId": "r"
    }
   },
   "outputs": [
    {
     "data": {
      "text/html": [
       "<style>\n",
       ".list-inline {list-style: none; margin:0; padding: 0}\n",
       ".list-inline>li {display: inline-block}\n",
       ".list-inline>li:not(:last-child)::after {content: \"\\00b7\"; padding: 0 .5ex}\n",
       "</style>\n",
       "<ol class=list-inline><li>'Staurosporine'</li><li>'Onalespib'</li><li>'Digoxin'</li></ol>\n"
      ],
      "text/latex": [
       "\\begin{enumerate*}\n",
       "\\item 'Staurosporine'\n",
       "\\item 'Onalespib'\n",
       "\\item 'Digoxin'\n",
       "\\end{enumerate*}\n"
      ],
      "text/markdown": [
       "1. 'Staurosporine'\n",
       "2. 'Onalespib'\n",
       "3. 'Digoxin'\n",
       "\n",
       "\n"
      ],
      "text/plain": [
       "[1] \"Staurosporine\" \"Onalespib\"     \"Digoxin\"      "
      ]
     },
     "metadata": {},
     "output_type": "display_data"
    },
    {
     "data": {
      "text/html": [
       "<style>\n",
       ".list-inline {list-style: none; margin:0; padding: 0}\n",
       ".list-inline>li {display: inline-block}\n",
       ".list-inline>li:not(:last-child)::after {content: \"\\00b7\"; padding: 0 .5ex}\n",
       "</style>\n",
       "<ol class=list-inline><li>'Staurosporine'</li><li>'Onalespib'</li><li>'Digoxin'</li><li>'Mirdametinib'</li><li>'Binimetinib'</li><li>'Trametinib'</li><li>'Fimepinostat'</li><li>'Selumetinib'</li><li>'Linsitinib'</li></ol>\n"
      ],
      "text/latex": [
       "\\begin{enumerate*}\n",
       "\\item 'Staurosporine'\n",
       "\\item 'Onalespib'\n",
       "\\item 'Digoxin'\n",
       "\\item 'Mirdametinib'\n",
       "\\item 'Binimetinib'\n",
       "\\item 'Trametinib'\n",
       "\\item 'Fimepinostat'\n",
       "\\item 'Selumetinib'\n",
       "\\item 'Linsitinib'\n",
       "\\end{enumerate*}\n"
      ],
      "text/markdown": [
       "1. 'Staurosporine'\n",
       "2. 'Onalespib'\n",
       "3. 'Digoxin'\n",
       "4. 'Mirdametinib'\n",
       "5. 'Binimetinib'\n",
       "6. 'Trametinib'\n",
       "7. 'Fimepinostat'\n",
       "8. 'Selumetinib'\n",
       "9. 'Linsitinib'\n",
       "\n",
       "\n"
      ],
      "text/plain": [
       "[1] \"Staurosporine\" \"Onalespib\"     \"Digoxin\"       \"Mirdametinib\" \n",
       "[5] \"Binimetinib\"   \"Trametinib\"    \"Fimepinostat\"  \"Selumetinib\"  \n",
       "[9] \"Linsitinib\"   "
      ]
     },
     "metadata": {},
     "output_type": "display_data"
    },
    {
     "data": {
      "text/html": [
       "'Staurosporine'"
      ],
      "text/latex": [
       "'Staurosporine'"
      ],
      "text/markdown": [
       "'Staurosporine'"
      ],
      "text/plain": [
       "[1] \"Staurosporine\""
      ]
     },
     "metadata": {},
     "output_type": "display_data"
    },
    {
     "data": {
      "text/html": [
       "<style>\n",
       ".list-inline {list-style: none; margin:0; padding: 0}\n",
       ".list-inline>li {display: inline-block}\n",
       ".list-inline>li:not(:last-child)::after {content: \"\\00b7\"; padding: 0 .5ex}\n",
       "</style>\n",
       "<ol class=list-inline><li>'Fimepinostat'</li><li>'Trametinib'</li><li>'Rapamycin'</li><li>'Staurosporine'</li><li>'Digoxin'</li><li>'Binimetinib'</li><li>'Cabozantinib'</li><li>'Imatinib'</li></ol>\n"
      ],
      "text/latex": [
       "\\begin{enumerate*}\n",
       "\\item 'Fimepinostat'\n",
       "\\item 'Trametinib'\n",
       "\\item 'Rapamycin'\n",
       "\\item 'Staurosporine'\n",
       "\\item 'Digoxin'\n",
       "\\item 'Binimetinib'\n",
       "\\item 'Cabozantinib'\n",
       "\\item 'Imatinib'\n",
       "\\end{enumerate*}\n"
      ],
      "text/markdown": [
       "1. 'Fimepinostat'\n",
       "2. 'Trametinib'\n",
       "3. 'Rapamycin'\n",
       "4. 'Staurosporine'\n",
       "5. 'Digoxin'\n",
       "6. 'Binimetinib'\n",
       "7. 'Cabozantinib'\n",
       "8. 'Imatinib'\n",
       "\n",
       "\n"
      ],
      "text/plain": [
       "[1] \"Fimepinostat\"  \"Trametinib\"    \"Rapamycin\"     \"Staurosporine\"\n",
       "[5] \"Digoxin\"       \"Binimetinib\"   \"Cabozantinib\"  \"Imatinib\"     "
      ]
     },
     "metadata": {},
     "output_type": "display_data"
    }
   ],
   "source": [
    "organoid_inter_drugs <- unique(organoid_fs_inter_patient_drugs_df$treatment)\n",
    "organoid_intra_drugs <- unique(organoid_fs_intra_patient_drugs_df$treatment)\n",
    "sc_inter_drugs <- unique(sc_fs_inter_patient_drugs_df$treatment)\n",
    "sc_intra_drugs <- unique(sc_fs_intra_patient_drugs_df$treatment)\n",
    "organoid_inter_drugs\n",
    "organoid_intra_drugs\n",
    "sc_inter_drugs\n",
    "sc_intra_drugs"
   ]
  },
  {
   "cell_type": "code",
   "execution_count": 4,
   "id": "b01fe545",
   "metadata": {
    "vscode": {
     "languageId": "r"
    }
   },
   "outputs": [
    {
     "name": "stdout",
     "output_type": "stream",
     "text": [
      "Number of drugs in each category:\n",
      "Organoid Inter: 3 \n",
      "Organoid Intra: 9 \n",
      "SC Inter: 1 \n",
      "SC Intra: 8 \n",
      "\n",
      "Total unique drugs across all categories: 12 \n",
      "Drugs common between organoid and single cell: 5 \n",
      "Common drugs: Staurosporine, Digoxin, Binimetinib, Trametinib, Fimepinostat \n"
     ]
    }
   ],
   "source": [
    "\n",
    "# Create the lists\n",
    "venn_lists <- list(\n",
    "    \"Organoid Inter\" = organoid_inter_drugs,\n",
    "    \"Organoid Intra\" = organoid_intra_drugs,\n",
    "    \"SC Inter\" = sc_inter_drugs,\n",
    "    \"SC Intra\" = sc_intra_drugs\n",
    ")\n",
    "\n",
    "# Print some basic statistics\n",
    "cat(\"Number of drugs in each category:\\n\")\n",
    "cat(\"Organoid Inter:\", length(organoid_inter_drugs), \"\\n\")\n",
    "cat(\"Organoid Intra:\", length(organoid_intra_drugs), \"\\n\")\n",
    "cat(\"SC Inter:\", length(sc_inter_drugs), \"\\n\")\n",
    "cat(\"SC Intra:\", length(sc_intra_drugs), \"\\n\")\n",
    "\n",
    "# Find intersections manually\n",
    "all_drugs <- unique(c(organoid_inter_drugs, organoid_intra_drugs, sc_inter_drugs, sc_intra_drugs))\n",
    "cat(\"\\nTotal unique drugs across all categories:\", length(all_drugs), \"\\n\")\n",
    "\n",
    "# Find common drugs between organoid and single cell\n",
    "organoid_all <- unique(c(organoid_inter_drugs, organoid_intra_drugs))\n",
    "sc_all <- unique(c(sc_inter_drugs, sc_intra_drugs))\n",
    "common_organoid_sc <- intersect(organoid_all, sc_all)\n",
    "cat(\"Drugs common between organoid and single cell:\", length(common_organoid_sc), \"\\n\")\n",
    "cat(\"Common drugs:\", paste(common_organoid_sc, collapse = \", \"), \"\\n\")\n"
   ]
  },
  {
   "cell_type": "code",
   "execution_count": 5,
   "id": "1569848d",
   "metadata": {
    "vscode": {
     "languageId": "r"
    }
   },
   "outputs": [
    {
     "data": {
      "text/html": [
       "<strong>png:</strong> 2"
      ],
      "text/latex": [
       "\\textbf{png:} 2"
      ],
      "text/markdown": [
       "**png:** 2"
      ],
      "text/plain": [
       "png \n",
       "  2 "
      ]
     },
     "metadata": {},
     "output_type": "display_data"
    }
   ],
   "source": [
    "# plot the Venn diagram\n",
    "# venn_plot <- ggVennDiagram(\n",
    "width <- 8\n",
    "height <- 8\n",
    "options(repr.plot.width = width, repr.plot.height = height)\n",
    "\n",
    "venn_plot <- ggvenn(\n",
    "    venn_lists,\n",
    "    fill_color = c(\"#FF9999\", \"#66B3FF\", \"#99FF99\", \"#FFCC99\"),\n",
    ")\n",
    "png(\n",
    "    filename = file.path(\n",
    "        root_dir,\n",
    "        \"5.EDA/figures/venn_diagram_organoid_sc_drug_hits.png\"\n",
    "    ),\n",
    "    width = width,\n",
    "    height = height,\n",
    "    res = 300,\n",
    "    units = 'in'\n",
    ")\n",
    "venn_plot\n",
    "dev.off()"
   ]
  },
  {
   "cell_type": "code",
   "execution_count": 6,
   "id": "4154efa1",
   "metadata": {
    "vscode": {
     "languageId": "r"
    }
   },
   "outputs": [
    {
     "name": "stdout",
     "output_type": "stream",
     "text": [
      "[1] \"Just Organoid Intra: 3\"\n",
      "[1] \"Just Organoid Inter: 0\"\n",
      "[1] \"Organoid Inter and Intra: 3\"\n",
      "[1] \"Just SC Inter: 0\"\n",
      "[1] \"Just SC Intra: 3\"\n",
      "[1] \"SC Inter and Intra: 1\"\n",
      "[1] \"SC Intra and Organoid Intra: 5\"\n",
      "[1] \"SC Intra and Organoid Inter: 2\"\n",
      "[1] \"SC Inter and Organoid Inter: 1\"\n",
      "[1] \"Organoid Inter and Organoid Intra and SC Inter: 1\"\n",
      "[1] \"Organoid Intra and SC Inter and SC Intra: 1\"\n",
      "[1] \"All shared drugs: 1\"\n"
     ]
    },
    {
     "data": {
      "text/html": [
       "'Staurosporine'"
      ],
      "text/latex": [
       "'Staurosporine'"
      ],
      "text/markdown": [
       "'Staurosporine'"
      ],
      "text/plain": [
       "[1] \"Staurosporine\""
      ]
     },
     "metadata": {},
     "output_type": "display_data"
    }
   ],
   "source": [
    "# get the unique drugs in each category\n",
    "organoid_inter_unique <- setdiff(organoid_inter_drugs, union(organoid_intra_drugs, union(sc_inter_drugs, sc_intra_drugs)))\n",
    "\n",
    "just_organoid_intra <- setdiff(organoid_intra_drugs, union(organoid_inter_drugs, union(sc_inter_drugs, sc_intra_drugs)))\n",
    "just_organoid_inter <- setdiff(organoid_inter_drugs, union(organoid_intra_drugs, union(sc_inter_drugs, sc_intra_drugs)))\n",
    "organoid_inter_and_intra <- intersect(organoid_inter_drugs, organoid_intra_drugs)\n",
    "just_sc_inter <- setdiff(sc_inter_drugs, union(organoid_inter_drugs, union(organoid_intra_drugs, sc_intra_drugs)))\n",
    "just_sc_intra <- setdiff(sc_intra_drugs, union(organoid_inter_drugs, union(organoid_intra_drugs, sc_inter_drugs)))\n",
    "sc_inter_and_intra <- intersect(sc_inter_drugs, sc_intra_drugs)\n",
    "sc_intra_and_organoid_intra <- intersect(sc_intra_drugs, organoid_intra_drugs)\n",
    "sc_intra_and_organoid_inter <- intersect(sc_intra_drugs, organoid_inter_drugs)\n",
    "sc_inter_and_organoid_inter <- intersect(sc_inter_drugs, organoid_inter_drugs)\n",
    "organoid_inter_and_organoid_intra_and_sc_inter <- intersect(organoid_inter_drugs, intersect(organoid_intra_drugs, sc_inter_drugs))\n",
    "organoid_intra_and_sc_inter_and_sc_intra <- intersect(organoid_intra_drugs, intersect(sc_inter_drugs, sc_intra_drugs))\n",
    "all_shared <- intersect(organoid_inter_drugs, intersect(organoid_intra_drugs, intersect(sc_inter_drugs, sc_intra_drugs)))\n",
    "print(paste(\"Just Organoid Intra:\", length(just_organoid_intra)))\n",
    "print(paste(\"Just Organoid Inter:\", length(just_organoid_inter)))\n",
    "print(paste(\"Organoid Inter and Intra:\", length(organoid_inter_and_intra)))\n",
    "print(paste(\"Just SC Inter:\", length(just_sc_inter)))\n",
    "print(paste(\"Just SC Intra:\", length(just_sc_intra)))\n",
    "print(paste(\"SC Inter and Intra:\", length(sc_inter_and_intra)))\n",
    "print(paste(\"SC Intra and Organoid Intra:\", length(sc_intra_and_organoid_intra)))\n",
    "print(paste(\"SC Intra and Organoid Inter:\", length(sc_intra_and_organoid_inter)))\n",
    "print(paste(\"SC Inter and Organoid Inter:\", length(sc_inter_and_organoid_inter)))\n",
    "print(paste(\"Organoid Inter and Organoid Intra and SC Inter:\", length(organoid_inter_and_organoid_intra_and_sc_inter)))\n",
    "print(paste(\"Organoid Intra and SC Inter and SC Intra:\", length(organoid_intra_and_sc_inter_and_sc_intra)))\n",
    "print(paste(\"All shared drugs:\", length(all_shared)))\n",
    "all_shared"
   ]
  }
 ],
 "metadata": {
  "kernelspec": {
   "display_name": "R",
   "language": "R",
   "name": "ir"
  },
  "language_info": {
   "codemirror_mode": "r",
   "file_extension": ".r",
   "mimetype": "text/x-r-source",
   "name": "R",
   "pygments_lexer": "r",
   "version": "4.2.2"
  }
 },
 "nbformat": 4,
 "nbformat_minor": 5
}
