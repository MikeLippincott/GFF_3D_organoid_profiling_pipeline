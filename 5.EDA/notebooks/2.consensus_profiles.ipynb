{
 "cells": [
  {
   "cell_type": "code",
   "execution_count": 20,
   "id": "5f3acf55",
   "metadata": {
    "vscode": {
     "languageId": "r"
    }
   },
   "outputs": [
    {
     "ename": "ERROR",
     "evalue": "Error in library(package, character.only = TRUE, quietly = TRUE, warn.conflicts = FALSE): there is no package called ‘ComplexHeatmap’\n",
     "output_type": "error",
     "traceback": [
      "Error in library(package, character.only = TRUE, quietly = TRUE, warn.conflicts = FALSE): there is no package called ‘ComplexHeatmap’\nTraceback:\n",
      "1. suppressPackageStartupMessages(suppressWarnings(library(package, \n .     character.only = TRUE, quietly = TRUE, warn.conflicts = FALSE)))",
      "2. withCallingHandlers(expr, packageStartupMessage = function(c) tryInvokeRestart(\"muffleMessage\"))",
      "3. suppressWarnings(library(package, character.only = TRUE, quietly = TRUE, \n .     warn.conflicts = FALSE))",
      "4. withCallingHandlers(expr, warning = function(w) if (inherits(w, \n .     classes)) tryInvokeRestart(\"muffleWarning\"))",
      "5. library(package, character.only = TRUE, quietly = TRUE, warn.conflicts = FALSE)"
     ]
    }
   ],
   "source": [
    "list_of_packages <- c(\n",
    "       \"ggplot2\",\n",
    "       \"dplyr\",\n",
    "       \"tidyr\",\n",
    "       \"ComplexHeatmap\",\n",
    "       \"tibble\",\n",
    "       \"RColorBrewer\",\n",
    "       \"scales\",\n",
    "       \"circlize\"\n",
    ")\n",
    "for (package in list_of_packages) {\n",
    "    suppressPackageStartupMessages(\n",
    "        suppressWarnings(\n",
    "            library(\n",
    "                package,\n",
    "                character.only = TRUE,\n",
    "                quietly = TRUE,\n",
    "                warn.conflicts = FALSE\n",
    "            )\n",
    "        )\n",
    "    )\n",
    "}\n",
    "#"
   ]
  },
  {
   "cell_type": "code",
   "execution_count": 13,
   "id": "0bf43cbb",
   "metadata": {
    "vscode": {
     "languageId": "r"
    }
   },
   "outputs": [
    {
     "name": "stdout",
     "output_type": "stream",
     "text": [
      "Git root directory: /home/lippincm/Documents/GFF_3D_organoid_profiling_pipeline \n"
     ]
    }
   ],
   "source": [
    "# Get the current working directory and find Git root\n",
    "find_git_root <- function() {\n",
    "    # Get current working directory\n",
    "    cwd <- getwd()\n",
    "    \n",
    "    # Check if current directory has .git\n",
    "    if (dir.exists(file.path(cwd, \".git\"))) {\n",
    "        return(cwd)\n",
    "    }\n",
    "    \n",
    "    # If not, search parent directories\n",
    "    current_path <- cwd\n",
    "    while (dirname(current_path) != current_path) {  # While not at root\n",
    "        parent_path <- dirname(current_path)\n",
    "        if (dir.exists(file.path(parent_path, \".git\"))) {\n",
    "            return(parent_path)\n",
    "        }\n",
    "        current_path <- parent_path\n",
    "    }\n",
    "    \n",
    "    # If no Git root found, stop with error\n",
    "    stop(\"No Git root directory found.\")\n",
    "}\n",
    "\n",
    "# Find the Git root directory\n",
    "root_dir <- find_git_root()\n",
    "cat(\"Git root directory:\", root_dir, \"\\n\")"
   ]
  },
  {
   "cell_type": "code",
   "execution_count": 14,
   "id": "3356077e",
   "metadata": {
    "vscode": {
     "languageId": "r"
    }
   },
   "outputs": [],
   "source": [
    "figures_path <- file.path(root_dir,\"5.EDA/figures/\")\n",
    "if (!dir.exists(figures_path)) {\n",
    "  dir.create(figures_path, recursive = TRUE)\n",
    "}"
   ]
  },
  {
   "cell_type": "code",
   "execution_count": 18,
   "metadata": {
    "vscode": {
     "languageId": "r"
    }
   },
   "outputs": [
    {
     "data": {
      "text/html": [
       "<table class=\"dataframe\">\n",
       "<caption>A tibble: 6 × 173</caption>\n",
       "<thead>\n",
       "\t<tr><th scope=col>patient</th><th scope=col>treatment</th><th scope=col>dose</th><th scope=col>unit</th><th scope=col>Colocalization_Organoid_AGP.BF_MIN.CORRELATION.COEFF</th><th scope=col>Colocalization_Organoid_AGP.BF_MEDIAN.MANDERS.COEFF.M1</th><th scope=col>Colocalization_Organoid_AGP.BF_MAX.MANDERS.COEFF.M2</th><th scope=col>Colocalization_Organoid_AGP.BF_MAX.OVERLAP.COEFF</th><th scope=col>Colocalization_Organoid_AGP.BF_MIN.K1</th><th scope=col>Colocalization_Organoid_AGP.BF_MIN.K2</th><th scope=col>⋯</th><th scope=col>Texture_Organoid_ER_Sum.Average_256.3</th><th scope=col>Texture_Organoid_ER_Variance_256.3</th><th scope=col>Texture_Organoid_Mito_Contrast_256.3</th><th scope=col>Texture_Organoid_Mito_Sum.Average_256.3</th><th scope=col>Texture_Organoid_Mito_Variance_256.3</th><th scope=col>Area.Size.Shape_Organoid_EXTENT</th><th scope=col>Area.Size.Shape_Organoid_EULER.NUMBER</th><th scope=col>Area.Size.Shape_Organoid_SURFACE.AREA</th><th scope=col>Target</th><th scope=col>Class</th></tr>\n",
       "\t<tr><th scope=col>&lt;chr&gt;</th><th scope=col>&lt;chr&gt;</th><th scope=col>&lt;int&gt;</th><th scope=col>&lt;chr&gt;</th><th scope=col>&lt;dbl&gt;</th><th scope=col>&lt;dbl&gt;</th><th scope=col>&lt;dbl&gt;</th><th scope=col>&lt;dbl&gt;</th><th scope=col>&lt;dbl&gt;</th><th scope=col>&lt;dbl&gt;</th><th scope=col>⋯</th><th scope=col>&lt;dbl&gt;</th><th scope=col>&lt;dbl&gt;</th><th scope=col>&lt;dbl&gt;</th><th scope=col>&lt;dbl&gt;</th><th scope=col>&lt;dbl&gt;</th><th scope=col>&lt;dbl&gt;</th><th scope=col>&lt;dbl&gt;</th><th scope=col>&lt;dbl&gt;</th><th scope=col>&lt;chr&gt;</th><th scope=col>&lt;chr&gt;</th></tr>\n",
       "</thead>\n",
       "<tbody>\n",
       "\t<tr><td>NF0014</td><td>Binimetinib </td><td> 1</td><td>uM</td><td> 0.2501474</td><td>0.2500005</td><td>-0.95896255</td><td>-0.93358445</td><td>-0.4466027</td><td> 0.73477984</td><td>⋯</td><td>-1.1548391</td><td>-0.9579401</td><td> 0.05826345</td><td>-0.5136133</td><td>-0.1974620</td><td>-0.75341735</td><td>-0.2960704</td><td>-0.7737309</td><td>MEK1/2 inhibitor                  </td><td>Small Molecule</td></tr>\n",
       "\t<tr><td>NF0014</td><td>Binimetinib </td><td>10</td><td>uM</td><td>-0.5282621</td><td>0.2500012</td><td> 0.08586530</td><td>-0.96028678</td><td>-0.4676706</td><td> 0.91788047</td><td>⋯</td><td>-1.0816036</td><td>-0.9025234</td><td>-0.71989968</td><td>-0.8146268</td><td>-0.3414513</td><td> 0.74337630</td><td>-0.4088304</td><td>-1.3673196</td><td>MEK1/2 inhibitor                  </td><td>Small Molecule</td></tr>\n",
       "\t<tr><td>NF0014</td><td>Cabozantinib</td><td> 1</td><td>uM</td><td> 0.1597416</td><td>0.2500012</td><td>-0.64064094</td><td>-0.86665756</td><td>-0.3440249</td><td> 0.08570623</td><td>⋯</td><td>-0.6857140</td><td>-0.6729403</td><td>-0.31720371</td><td>-0.4620224</td><td>-0.1336881</td><td> 0.17501886</td><td>-0.4088304</td><td>-1.0556796</td><td>receptor tyrosine kinase inhibitor</td><td>Small Molecule</td></tr>\n",
       "\t<tr><td>NF0014</td><td>Copanlisib  </td><td> 1</td><td>uM</td><td> 0.2604506</td><td>0.2499975</td><td>-1.06708032</td><td>-0.95006171</td><td>-0.5071072</td><td> 0.36197497</td><td>⋯</td><td>-0.9617208</td><td>-0.7605898</td><td> 0.53353062</td><td>-0.6605660</td><td>-0.3063693</td><td>-0.42659080</td><td>-0.3883285</td><td>-1.1374567</td><td>PI3K inhibitor                    </td><td>Small Molecule</td></tr>\n",
       "\t<tr><td>NF0014</td><td>DMSO        </td><td> 1</td><td>% </td><td> 0.4938911</td><td>0.2500007</td><td> 0.09903665</td><td> 0.06249213</td><td>-0.3566118</td><td>-0.12649450</td><td>⋯</td><td>-0.2914359</td><td>-0.3589357</td><td>-0.30694942</td><td>-0.2155743</td><td>-0.4293686</td><td>-0.07543949</td><td>-0.4088304</td><td>-0.4588865</td><td>Control                           </td><td>Control       </td></tr>\n",
       "\t<tr><td>NF0014</td><td>Digoxin     </td><td> 1</td><td>uM</td><td> 0.5252740</td><td>0.2499956</td><td>-2.14148296</td><td>-1.22079085</td><td>-0.4807605</td><td> 1.42696349</td><td>⋯</td><td>-1.1394080</td><td>-0.9583440</td><td>-0.32305449</td><td>-1.1777979</td><td>-0.9938126</td><td>-0.21822492</td><td>-0.3883285</td><td>-1.2838415</td><td>Na+/K+ pump inhibitor             </td><td>Small Molecule</td></tr>\n",
       "</tbody>\n",
       "</table>\n"
      ],
      "text/latex": [
       "A tibble: 6 × 173\n",
       "\\begin{tabular}{lllllllllllllllllllll}\n",
       " patient & treatment & dose & unit & Colocalization\\_Organoid\\_AGP.BF\\_MIN.CORRELATION.COEFF & Colocalization\\_Organoid\\_AGP.BF\\_MEDIAN.MANDERS.COEFF.M1 & Colocalization\\_Organoid\\_AGP.BF\\_MAX.MANDERS.COEFF.M2 & Colocalization\\_Organoid\\_AGP.BF\\_MAX.OVERLAP.COEFF & Colocalization\\_Organoid\\_AGP.BF\\_MIN.K1 & Colocalization\\_Organoid\\_AGP.BF\\_MIN.K2 & ⋯ & Texture\\_Organoid\\_ER\\_Sum.Average\\_256.3 & Texture\\_Organoid\\_ER\\_Variance\\_256.3 & Texture\\_Organoid\\_Mito\\_Contrast\\_256.3 & Texture\\_Organoid\\_Mito\\_Sum.Average\\_256.3 & Texture\\_Organoid\\_Mito\\_Variance\\_256.3 & Area.Size.Shape\\_Organoid\\_EXTENT & Area.Size.Shape\\_Organoid\\_EULER.NUMBER & Area.Size.Shape\\_Organoid\\_SURFACE.AREA & Target & Class\\\\\n",
       " <chr> & <chr> & <int> & <chr> & <dbl> & <dbl> & <dbl> & <dbl> & <dbl> & <dbl> & ⋯ & <dbl> & <dbl> & <dbl> & <dbl> & <dbl> & <dbl> & <dbl> & <dbl> & <chr> & <chr>\\\\\n",
       "\\hline\n",
       "\t NF0014 & Binimetinib  &  1 & uM &  0.2501474 & 0.2500005 & -0.95896255 & -0.93358445 & -0.4466027 &  0.73477984 & ⋯ & -1.1548391 & -0.9579401 &  0.05826345 & -0.5136133 & -0.1974620 & -0.75341735 & -0.2960704 & -0.7737309 & MEK1/2 inhibitor                   & Small Molecule\\\\\n",
       "\t NF0014 & Binimetinib  & 10 & uM & -0.5282621 & 0.2500012 &  0.08586530 & -0.96028678 & -0.4676706 &  0.91788047 & ⋯ & -1.0816036 & -0.9025234 & -0.71989968 & -0.8146268 & -0.3414513 &  0.74337630 & -0.4088304 & -1.3673196 & MEK1/2 inhibitor                   & Small Molecule\\\\\n",
       "\t NF0014 & Cabozantinib &  1 & uM &  0.1597416 & 0.2500012 & -0.64064094 & -0.86665756 & -0.3440249 &  0.08570623 & ⋯ & -0.6857140 & -0.6729403 & -0.31720371 & -0.4620224 & -0.1336881 &  0.17501886 & -0.4088304 & -1.0556796 & receptor tyrosine kinase inhibitor & Small Molecule\\\\\n",
       "\t NF0014 & Copanlisib   &  1 & uM &  0.2604506 & 0.2499975 & -1.06708032 & -0.95006171 & -0.5071072 &  0.36197497 & ⋯ & -0.9617208 & -0.7605898 &  0.53353062 & -0.6605660 & -0.3063693 & -0.42659080 & -0.3883285 & -1.1374567 & PI3K inhibitor                     & Small Molecule\\\\\n",
       "\t NF0014 & DMSO         &  1 & \\%  &  0.4938911 & 0.2500007 &  0.09903665 &  0.06249213 & -0.3566118 & -0.12649450 & ⋯ & -0.2914359 & -0.3589357 & -0.30694942 & -0.2155743 & -0.4293686 & -0.07543949 & -0.4088304 & -0.4588865 & Control                            & Control       \\\\\n",
       "\t NF0014 & Digoxin      &  1 & uM &  0.5252740 & 0.2499956 & -2.14148296 & -1.22079085 & -0.4807605 &  1.42696349 & ⋯ & -1.1394080 & -0.9583440 & -0.32305449 & -1.1777979 & -0.9938126 & -0.21822492 & -0.3883285 & -1.2838415 & Na+/K+ pump inhibitor              & Small Molecule\\\\\n",
       "\\end{tabular}\n"
      ],
      "text/markdown": [
       "\n",
       "A tibble: 6 × 173\n",
       "\n",
       "| patient &lt;chr&gt; | treatment &lt;chr&gt; | dose &lt;int&gt; | unit &lt;chr&gt; | Colocalization_Organoid_AGP.BF_MIN.CORRELATION.COEFF &lt;dbl&gt; | Colocalization_Organoid_AGP.BF_MEDIAN.MANDERS.COEFF.M1 &lt;dbl&gt; | Colocalization_Organoid_AGP.BF_MAX.MANDERS.COEFF.M2 &lt;dbl&gt; | Colocalization_Organoid_AGP.BF_MAX.OVERLAP.COEFF &lt;dbl&gt; | Colocalization_Organoid_AGP.BF_MIN.K1 &lt;dbl&gt; | Colocalization_Organoid_AGP.BF_MIN.K2 &lt;dbl&gt; | ⋯ ⋯ | Texture_Organoid_ER_Sum.Average_256.3 &lt;dbl&gt; | Texture_Organoid_ER_Variance_256.3 &lt;dbl&gt; | Texture_Organoid_Mito_Contrast_256.3 &lt;dbl&gt; | Texture_Organoid_Mito_Sum.Average_256.3 &lt;dbl&gt; | Texture_Organoid_Mito_Variance_256.3 &lt;dbl&gt; | Area.Size.Shape_Organoid_EXTENT &lt;dbl&gt; | Area.Size.Shape_Organoid_EULER.NUMBER &lt;dbl&gt; | Area.Size.Shape_Organoid_SURFACE.AREA &lt;dbl&gt; | Target &lt;chr&gt; | Class &lt;chr&gt; |\n",
       "|---|---|---|---|---|---|---|---|---|---|---|---|---|---|---|---|---|---|---|---|---|\n",
       "| NF0014 | Binimetinib  |  1 | uM |  0.2501474 | 0.2500005 | -0.95896255 | -0.93358445 | -0.4466027 |  0.73477984 | ⋯ | -1.1548391 | -0.9579401 |  0.05826345 | -0.5136133 | -0.1974620 | -0.75341735 | -0.2960704 | -0.7737309 | MEK1/2 inhibitor                   | Small Molecule |\n",
       "| NF0014 | Binimetinib  | 10 | uM | -0.5282621 | 0.2500012 |  0.08586530 | -0.96028678 | -0.4676706 |  0.91788047 | ⋯ | -1.0816036 | -0.9025234 | -0.71989968 | -0.8146268 | -0.3414513 |  0.74337630 | -0.4088304 | -1.3673196 | MEK1/2 inhibitor                   | Small Molecule |\n",
       "| NF0014 | Cabozantinib |  1 | uM |  0.1597416 | 0.2500012 | -0.64064094 | -0.86665756 | -0.3440249 |  0.08570623 | ⋯ | -0.6857140 | -0.6729403 | -0.31720371 | -0.4620224 | -0.1336881 |  0.17501886 | -0.4088304 | -1.0556796 | receptor tyrosine kinase inhibitor | Small Molecule |\n",
       "| NF0014 | Copanlisib   |  1 | uM |  0.2604506 | 0.2499975 | -1.06708032 | -0.95006171 | -0.5071072 |  0.36197497 | ⋯ | -0.9617208 | -0.7605898 |  0.53353062 | -0.6605660 | -0.3063693 | -0.42659080 | -0.3883285 | -1.1374567 | PI3K inhibitor                     | Small Molecule |\n",
       "| NF0014 | DMSO         |  1 | %  |  0.4938911 | 0.2500007 |  0.09903665 |  0.06249213 | -0.3566118 | -0.12649450 | ⋯ | -0.2914359 | -0.3589357 | -0.30694942 | -0.2155743 | -0.4293686 | -0.07543949 | -0.4088304 | -0.4588865 | Control                            | Control        |\n",
       "| NF0014 | Digoxin      |  1 | uM |  0.5252740 | 0.2499956 | -2.14148296 | -1.22079085 | -0.4807605 |  1.42696349 | ⋯ | -1.1394080 | -0.9583440 | -0.32305449 | -1.1777979 | -0.9938126 | -0.21822492 | -0.3883285 | -1.2838415 | Na+/K+ pump inhibitor              | Small Molecule |\n",
       "\n"
      ],
      "text/plain": [
       "  patient treatment    dose unit\n",
       "1 NF0014  Binimetinib   1   uM  \n",
       "2 NF0014  Binimetinib  10   uM  \n",
       "3 NF0014  Cabozantinib  1   uM  \n",
       "4 NF0014  Copanlisib    1   uM  \n",
       "5 NF0014  DMSO          1   %   \n",
       "6 NF0014  Digoxin       1   uM  \n",
       "  Colocalization_Organoid_AGP.BF_MIN.CORRELATION.COEFF\n",
       "1  0.2501474                                          \n",
       "2 -0.5282621                                          \n",
       "3  0.1597416                                          \n",
       "4  0.2604506                                          \n",
       "5  0.4938911                                          \n",
       "6  0.5252740                                          \n",
       "  Colocalization_Organoid_AGP.BF_MEDIAN.MANDERS.COEFF.M1\n",
       "1 0.2500005                                             \n",
       "2 0.2500012                                             \n",
       "3 0.2500012                                             \n",
       "4 0.2499975                                             \n",
       "5 0.2500007                                             \n",
       "6 0.2499956                                             \n",
       "  Colocalization_Organoid_AGP.BF_MAX.MANDERS.COEFF.M2\n",
       "1 -0.95896255                                        \n",
       "2  0.08586530                                        \n",
       "3 -0.64064094                                        \n",
       "4 -1.06708032                                        \n",
       "5  0.09903665                                        \n",
       "6 -2.14148296                                        \n",
       "  Colocalization_Organoid_AGP.BF_MAX.OVERLAP.COEFF\n",
       "1 -0.93358445                                     \n",
       "2 -0.96028678                                     \n",
       "3 -0.86665756                                     \n",
       "4 -0.95006171                                     \n",
       "5  0.06249213                                     \n",
       "6 -1.22079085                                     \n",
       "  Colocalization_Organoid_AGP.BF_MIN.K1 Colocalization_Organoid_AGP.BF_MIN.K2 ⋯\n",
       "1 -0.4466027                             0.73477984                           ⋯\n",
       "2 -0.4676706                             0.91788047                           ⋯\n",
       "3 -0.3440249                             0.08570623                           ⋯\n",
       "4 -0.5071072                             0.36197497                           ⋯\n",
       "5 -0.3566118                            -0.12649450                           ⋯\n",
       "6 -0.4807605                             1.42696349                           ⋯\n",
       "  Texture_Organoid_ER_Sum.Average_256.3 Texture_Organoid_ER_Variance_256.3\n",
       "1 -1.1548391                            -0.9579401                        \n",
       "2 -1.0816036                            -0.9025234                        \n",
       "3 -0.6857140                            -0.6729403                        \n",
       "4 -0.9617208                            -0.7605898                        \n",
       "5 -0.2914359                            -0.3589357                        \n",
       "6 -1.1394080                            -0.9583440                        \n",
       "  Texture_Organoid_Mito_Contrast_256.3 Texture_Organoid_Mito_Sum.Average_256.3\n",
       "1  0.05826345                          -0.5136133                             \n",
       "2 -0.71989968                          -0.8146268                             \n",
       "3 -0.31720371                          -0.4620224                             \n",
       "4  0.53353062                          -0.6605660                             \n",
       "5 -0.30694942                          -0.2155743                             \n",
       "6 -0.32305449                          -1.1777979                             \n",
       "  Texture_Organoid_Mito_Variance_256.3 Area.Size.Shape_Organoid_EXTENT\n",
       "1 -0.1974620                           -0.75341735                    \n",
       "2 -0.3414513                            0.74337630                    \n",
       "3 -0.1336881                            0.17501886                    \n",
       "4 -0.3063693                           -0.42659080                    \n",
       "5 -0.4293686                           -0.07543949                    \n",
       "6 -0.9938126                           -0.21822492                    \n",
       "  Area.Size.Shape_Organoid_EULER.NUMBER Area.Size.Shape_Organoid_SURFACE.AREA\n",
       "1 -0.2960704                            -0.7737309                           \n",
       "2 -0.4088304                            -1.3673196                           \n",
       "3 -0.4088304                            -1.0556796                           \n",
       "4 -0.3883285                            -1.1374567                           \n",
       "5 -0.4088304                            -0.4588865                           \n",
       "6 -0.3883285                            -1.2838415                           \n",
       "  Target                             Class         \n",
       "1 MEK1/2 inhibitor                   Small Molecule\n",
       "2 MEK1/2 inhibitor                   Small Molecule\n",
       "3 receptor tyrosine kinase inhibitor Small Molecule\n",
       "4 PI3K inhibitor                     Small Molecule\n",
       "5 Control                            Control       \n",
       "6 Na+/K+ pump inhibitor              Small Molecule"
      ]
     },
     "metadata": {},
     "output_type": "display_data"
    }
   ],
   "source": [
    "organoid_consensus_df <- arrow::read_parquet(file.path(root_dir,\"data/all_patient_profiles/organoid_consensus_profiles_annotated_drugs.parquet\"))\n",
    "# drop the therapeautic catagorty column\n",
    "organoid_consensus_df <- organoid_consensus_df %>%\n",
    "  select(-`Therapeutic Categories`)\n",
    "head(organoid_consensus_df)"
   ]
  },
  {
   "cell_type": "code",
   "execution_count": 19,
   "id": "841998b8",
   "metadata": {
    "vscode": {
     "languageId": "r"
    }
   },
   "outputs": [
    {
     "ename": "ERROR",
     "evalue": "Error in column_to_rownames(., \"profile_id\"): could not find function \"column_to_rownames\"\n",
     "output_type": "error",
     "traceback": [
      "Error in column_to_rownames(., \"profile_id\"): could not find function \"column_to_rownames\"\nTraceback:\n",
      "1. organoid_consensus_df %>% select(-patient, -treatment, -dose, \n .     -unite, -Target, -Class, ) %>% column_to_rownames(\"profile_id\") %>% \n .     as.matrix()",
      "2. as.matrix(.)"
     ]
    }
   ],
   "source": [
    "mat <- organoid_consensus_df %>%\n",
    "  select(-patient, -treatment, -dose, -unite, -Target, -Class,) %>%\n",
    "  column_to_rownames(\"profile_id\") %>%\n",
    "  as.matrix()\n",
    "  "
   ]
  },
  {
   "cell_type": "code",
   "execution_count": null,
   "id": "655fb184",
   "metadata": {
    "vscode": {
     "languageId": "r"
    }
   },
   "outputs": [],
   "source": [
    " heatmap_plot <- Heatmap(\n",
    "            mat, \n",
    "            col = col_fun,\n",
    "            show_row_names = FALSE,\n",
    "            cluster_columns = FALSE,\n",
    "            show_column_names = FALSE,\n",
    "\n",
    "            column_names_gp = gpar(fontsize = 16), # Column name label formatting\n",
    "            row_names_gp = gpar(fontsize = 14), \n",
    "\n",
    "            show_heatmap_legend = FALSE,\n",
    "            heatmap_legend_param = list(\n",
    "                        title = \"Feature\\nValue\",\n",
    "                        title_position = \"topcenter\", \n",
    "                        title_gp = gpar(fontsize = 16, angle = 0, fontface = \"bold\", hjust = 1.0),\n",
    "                        labels_gp = gpar(fontsize = 16),\n",
    "                        legend_height = unit(4, \"cm\"),\n",
    "                        legend_width = unit(3, \"cm\"),\n",
    "                        annotation_legend_side = \"bottom\"\n",
    "                        ), \n",
    "            row_dend_width = unit(2, \"cm\"),\n",
    "            column_title = paste0(\"Dose: \", dose,\" uM\"),\n",
    "            top_annotation = column_anno,\n",
    "        )\n",
    "    }"
   ]
  }
 ],
 "metadata": {
  "kernelspec": {
   "display_name": "R",
   "language": "R",
   "name": "ir"
  },
  "language_info": {
   "codemirror_mode": "r",
   "file_extension": ".r",
   "mimetype": "text/x-r-source",
   "name": "R",
   "pygments_lexer": "r",
   "version": "4.2.2"
  }
 },
 "nbformat": 4,
 "nbformat_minor": 5
}
