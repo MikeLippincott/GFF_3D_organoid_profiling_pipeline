{
 "cells": [
  {
   "cell_type": "code",
   "execution_count": 3,
   "id": "5f3acf55",
   "metadata": {
    "vscode": {
     "languageId": "r"
    }
   },
   "outputs": [
    {
     "name": "stderr",
     "output_type": "stream",
     "text": [
      "Updating HTML index of packages in '.Library'\n",
      "\n",
      "Making 'packages.html' ...\n",
      " done\n",
      "\n",
      "'getOption(\"repos\")' replaces Bioconductor standard repositories, see\n",
      "'help(\"repositories\", package = \"BiocManager\")' for details.\n",
      "Replacement repositories:\n",
      "    CRAN: https://cran.r-project.org\n",
      "\n",
      "Bioconductor version 3.16 (BiocManager 1.30.26), R 4.2.2 (2022-10-31)\n",
      "\n",
      "Installing package(s) 'BiocVersion', 'ComplexHeatmap'\n",
      "\n",
      "also installing the dependencies ‘rjson’, ‘cluster’, ‘BiocGenerics’, ‘S4Vectors’, ‘iterators’, ‘GetoptLong’, ‘clue’, ‘png’, ‘IRanges’, ‘matrixStats’, ‘foreach’, ‘doParallel’, ‘codetools’\n",
      "\n",
      "\n",
      "Updating HTML index of packages in '.Library'\n",
      "\n",
      "Making 'packages.html' ...\n",
      " done\n",
      "\n",
      "Old packages: 'arrow', 'askpass', 'bit', 'bit64', 'bslib', 'cli', 'colorspace',\n",
      "  'commonmark', 'cowplot', 'credentials', 'curl', 'diffobj', 'digest', 'dplyr',\n",
      "  'evaluate', 'fontawesome', 'fs', 'generics', 'gert', 'ggplot2', 'ggrepel',\n",
      "  'gh', 'glue', 'gtable', 'httpuv', 'httr2', 'jsonlite', 'knitr', 'later',\n",
      "  'lattice', 'magick', 'mgcv', 'mime', 'miniUI', 'nlme', 'openssl',\n",
      "  'patchwork', 'pbdZMQ', 'pillar', 'pkgbuild', 'pkgdown', 'pkgload',\n",
      "  'processx', 'profvis', 'promises', 'ps', 'purrr', 'R6', 'ragg', 'Rcpp',\n",
      "  'rlang', 'rmarkdown', 'rprojroot', 'rstudioapi', 'sass', 'scales',\n",
      "  'sessioninfo', 'shiny', 'stringi', 'sys', 'systemfonts', 'testthat',\n",
      "  'textshaping', 'tibble', 'tinytex', 'tzdb', 'usethis', 'utf8', 'uuid',\n",
      "  'waldo', 'withr', 'xfun', 'xml2', 'yaml', 'zip'\n",
      "\n"
     ]
    }
   ],
   "source": [
    "list_of_packages <- c(\n",
    "       \"ggplot2\",\n",
    "       \"dplyr\",\n",
    "       \"tidyr\",\n",
    "       \"ComplexHeatmap\",\n",
    "       \"tibble\",\n",
    "       \"RColorBrewer\",\n",
    "       \"scales\",\n",
    "       \"circlize\"\n",
    ")\n",
    "if (!requireNamespace(\"BiocManager\", quietly=TRUE))\n",
    "    install.packages(\"BiocManager\")\n",
    "\n",
    "if (!requireNamespace(\"ComplexHeatmap\", quietly = TRUE)) {\n",
    "    BiocManager::install(\"ComplexHeatmap\")\n",
    "}\n",
    "for (package in list_of_packages) {\n",
    "    suppressPackageStartupMessages(\n",
    "        suppressWarnings(\n",
    "            library(\n",
    "                package,\n",
    "                character.only = TRUE,\n",
    "                quietly = TRUE,\n",
    "                warn.conflicts = FALSE\n",
    "            )\n",
    "        )\n",
    "    )\n",
    "}\n",
    "#"
   ]
  },
  {
   "cell_type": "code",
   "execution_count": 4,
   "id": "0bf43cbb",
   "metadata": {
    "vscode": {
     "languageId": "r"
    }
   },
   "outputs": [
    {
     "name": "stdout",
     "output_type": "stream",
     "text": [
      "Git root directory: /home/lippincm/Documents/GFF_3D_organoid_profiling_pipeline \n"
     ]
    }
   ],
   "source": [
    "# Get the current working directory and find Git root\n",
    "find_git_root <- function() {\n",
    "    # Get current working directory\n",
    "    cwd <- getwd()\n",
    "    \n",
    "    # Check if current directory has .git\n",
    "    if (dir.exists(file.path(cwd, \".git\"))) {\n",
    "        return(cwd)\n",
    "    }\n",
    "    \n",
    "    # If not, search parent directories\n",
    "    current_path <- cwd\n",
    "    while (dirname(current_path) != current_path) {  # While not at root\n",
    "        parent_path <- dirname(current_path)\n",
    "        if (dir.exists(file.path(parent_path, \".git\"))) {\n",
    "            return(parent_path)\n",
    "        }\n",
    "        current_path <- parent_path\n",
    "    }\n",
    "    \n",
    "    # If no Git root found, stop with error\n",
    "    stop(\"No Git root directory found.\")\n",
    "}\n",
    "\n",
    "# Find the Git root directory\n",
    "root_dir <- find_git_root()\n",
    "cat(\"Git root directory:\", root_dir, \"\\n\")"
   ]
  },
  {
   "cell_type": "code",
   "execution_count": 5,
   "id": "3356077e",
   "metadata": {
    "vscode": {
     "languageId": "r"
    }
   },
   "outputs": [],
   "source": [
    "figures_path <- file.path(root_dir,\"5.EDA/figures/\")\n",
    "if (!dir.exists(figures_path)) {\n",
    "  dir.create(figures_path, recursive = TRUE)\n",
    "}"
   ]
  },
  {
   "cell_type": "code",
   "execution_count": 8,
   "metadata": {
    "vscode": {
     "languageId": "r"
    }
   },
   "outputs": [
    {
     "data": {
      "text/html": [
       "<table class=\"dataframe\">\n",
       "<caption>A tibble: 6 × 171</caption>\n",
       "<thead>\n",
       "\t<tr><th scope=col>patient</th><th scope=col>treatment</th><th scope=col>dose</th><th scope=col>unit</th><th scope=col>Colocalization_Organoid_AGP.BF_MIN.CORRELATION.COEFF</th><th scope=col>Colocalization_Organoid_AGP.BF_MEDIAN.MANDERS.COEFF.M1</th><th scope=col>Colocalization_Organoid_AGP.BF_MAX.MANDERS.COEFF.M2</th><th scope=col>Colocalization_Organoid_AGP.BF_MAX.OVERLAP.COEFF</th><th scope=col>Colocalization_Organoid_AGP.BF_MIN.K1</th><th scope=col>Colocalization_Organoid_AGP.BF_MIN.K2</th><th scope=col>⋯</th><th scope=col>Texture_Organoid_ER_Contrast_256.3</th><th scope=col>Texture_Organoid_ER_Information.Measure.of.Correlation.2_256.3</th><th scope=col>Texture_Organoid_ER_Sum.Average_256.3</th><th scope=col>Texture_Organoid_ER_Variance_256.3</th><th scope=col>Texture_Organoid_Mito_Contrast_256.3</th><th scope=col>Texture_Organoid_Mito_Sum.Average_256.3</th><th scope=col>Texture_Organoid_Mito_Variance_256.3</th><th scope=col>Area.Size.Shape_Organoid_EXTENT</th><th scope=col>Area.Size.Shape_Organoid_EULER.NUMBER</th><th scope=col>Area.Size.Shape_Organoid_SURFACE.AREA</th></tr>\n",
       "\t<tr><th scope=col>&lt;chr&gt;</th><th scope=col>&lt;chr&gt;</th><th scope=col>&lt;int&gt;</th><th scope=col>&lt;chr&gt;</th><th scope=col>&lt;dbl&gt;</th><th scope=col>&lt;dbl&gt;</th><th scope=col>&lt;dbl&gt;</th><th scope=col>&lt;dbl&gt;</th><th scope=col>&lt;dbl&gt;</th><th scope=col>&lt;dbl&gt;</th><th scope=col>⋯</th><th scope=col>&lt;dbl&gt;</th><th scope=col>&lt;dbl&gt;</th><th scope=col>&lt;dbl&gt;</th><th scope=col>&lt;dbl&gt;</th><th scope=col>&lt;dbl&gt;</th><th scope=col>&lt;dbl&gt;</th><th scope=col>&lt;dbl&gt;</th><th scope=col>&lt;dbl&gt;</th><th scope=col>&lt;dbl&gt;</th><th scope=col>&lt;dbl&gt;</th></tr>\n",
       "</thead>\n",
       "<tbody>\n",
       "\t<tr><td>NF0014</td><td>Binimetinib </td><td> 1</td><td>uM</td><td> 0.2501474</td><td>0.2500005</td><td>-0.95896255</td><td>-0.93358445</td><td>-0.4466027</td><td> 0.73477984</td><td>⋯</td><td>-0.5419167</td><td>-0.96244505</td><td>-1.1548391</td><td>-0.9579401</td><td> 0.05826345</td><td>-0.5136133</td><td>-0.1974620</td><td>-0.75341735</td><td>-0.2960704</td><td>-0.7737309</td></tr>\n",
       "\t<tr><td>NF0014</td><td>Binimetinib </td><td>10</td><td>uM</td><td>-0.5282621</td><td>0.2500012</td><td> 0.08586530</td><td>-0.96028678</td><td>-0.4676706</td><td> 0.91788047</td><td>⋯</td><td>-0.5517376</td><td>-2.50049987</td><td>-1.0816036</td><td>-0.9025234</td><td>-0.71989968</td><td>-0.8146268</td><td>-0.3414513</td><td> 0.74337630</td><td>-0.4088304</td><td>-1.3673196</td></tr>\n",
       "\t<tr><td>NF0014</td><td>Cabozantinib</td><td> 1</td><td>uM</td><td> 0.1597416</td><td>0.2500012</td><td>-0.64064094</td><td>-0.86665756</td><td>-0.3440249</td><td> 0.08570623</td><td>⋯</td><td>-0.2911755</td><td>-0.78977618</td><td>-0.6857140</td><td>-0.6729403</td><td>-0.31720371</td><td>-0.4620224</td><td>-0.1336881</td><td> 0.17501886</td><td>-0.4088304</td><td>-1.0556796</td></tr>\n",
       "\t<tr><td>NF0014</td><td>Copanlisib  </td><td> 1</td><td>uM</td><td> 0.2604506</td><td>0.2499975</td><td>-1.06708032</td><td>-0.95006171</td><td>-0.5071072</td><td> 0.36197497</td><td>⋯</td><td>-0.2704968</td><td>-1.43689413</td><td>-0.9617208</td><td>-0.7605898</td><td> 0.53353062</td><td>-0.6605660</td><td>-0.3063693</td><td>-0.42659080</td><td>-0.3883285</td><td>-1.1374567</td></tr>\n",
       "\t<tr><td>NF0014</td><td>DMSO        </td><td> 1</td><td>% </td><td> 0.4938911</td><td>0.2500007</td><td> 0.09903665</td><td> 0.06249213</td><td>-0.3566118</td><td>-0.12649450</td><td>⋯</td><td>-0.3987118</td><td> 0.01222531</td><td>-0.2914359</td><td>-0.3589357</td><td>-0.30694942</td><td>-0.2155743</td><td>-0.4293686</td><td>-0.07543949</td><td>-0.4088304</td><td>-0.4588865</td></tr>\n",
       "\t<tr><td>NF0014</td><td>Digoxin     </td><td> 1</td><td>uM</td><td> 0.5252740</td><td>0.2499956</td><td>-2.14148296</td><td>-1.22079085</td><td>-0.4807605</td><td> 1.42696349</td><td>⋯</td><td>-0.5610131</td><td>-1.16276514</td><td>-1.1394080</td><td>-0.9583440</td><td>-0.32305449</td><td>-1.1777979</td><td>-0.9938126</td><td>-0.21822492</td><td>-0.3883285</td><td>-1.2838415</td></tr>\n",
       "</tbody>\n",
       "</table>\n"
      ],
      "text/latex": [
       "A tibble: 6 × 171\n",
       "\\begin{tabular}{lllllllllllllllllllll}\n",
       " patient & treatment & dose & unit & Colocalization\\_Organoid\\_AGP.BF\\_MIN.CORRELATION.COEFF & Colocalization\\_Organoid\\_AGP.BF\\_MEDIAN.MANDERS.COEFF.M1 & Colocalization\\_Organoid\\_AGP.BF\\_MAX.MANDERS.COEFF.M2 & Colocalization\\_Organoid\\_AGP.BF\\_MAX.OVERLAP.COEFF & Colocalization\\_Organoid\\_AGP.BF\\_MIN.K1 & Colocalization\\_Organoid\\_AGP.BF\\_MIN.K2 & ⋯ & Texture\\_Organoid\\_ER\\_Contrast\\_256.3 & Texture\\_Organoid\\_ER\\_Information.Measure.of.Correlation.2\\_256.3 & Texture\\_Organoid\\_ER\\_Sum.Average\\_256.3 & Texture\\_Organoid\\_ER\\_Variance\\_256.3 & Texture\\_Organoid\\_Mito\\_Contrast\\_256.3 & Texture\\_Organoid\\_Mito\\_Sum.Average\\_256.3 & Texture\\_Organoid\\_Mito\\_Variance\\_256.3 & Area.Size.Shape\\_Organoid\\_EXTENT & Area.Size.Shape\\_Organoid\\_EULER.NUMBER & Area.Size.Shape\\_Organoid\\_SURFACE.AREA\\\\\n",
       " <chr> & <chr> & <int> & <chr> & <dbl> & <dbl> & <dbl> & <dbl> & <dbl> & <dbl> & ⋯ & <dbl> & <dbl> & <dbl> & <dbl> & <dbl> & <dbl> & <dbl> & <dbl> & <dbl> & <dbl>\\\\\n",
       "\\hline\n",
       "\t NF0014 & Binimetinib  &  1 & uM &  0.2501474 & 0.2500005 & -0.95896255 & -0.93358445 & -0.4466027 &  0.73477984 & ⋯ & -0.5419167 & -0.96244505 & -1.1548391 & -0.9579401 &  0.05826345 & -0.5136133 & -0.1974620 & -0.75341735 & -0.2960704 & -0.7737309\\\\\n",
       "\t NF0014 & Binimetinib  & 10 & uM & -0.5282621 & 0.2500012 &  0.08586530 & -0.96028678 & -0.4676706 &  0.91788047 & ⋯ & -0.5517376 & -2.50049987 & -1.0816036 & -0.9025234 & -0.71989968 & -0.8146268 & -0.3414513 &  0.74337630 & -0.4088304 & -1.3673196\\\\\n",
       "\t NF0014 & Cabozantinib &  1 & uM &  0.1597416 & 0.2500012 & -0.64064094 & -0.86665756 & -0.3440249 &  0.08570623 & ⋯ & -0.2911755 & -0.78977618 & -0.6857140 & -0.6729403 & -0.31720371 & -0.4620224 & -0.1336881 &  0.17501886 & -0.4088304 & -1.0556796\\\\\n",
       "\t NF0014 & Copanlisib   &  1 & uM &  0.2604506 & 0.2499975 & -1.06708032 & -0.95006171 & -0.5071072 &  0.36197497 & ⋯ & -0.2704968 & -1.43689413 & -0.9617208 & -0.7605898 &  0.53353062 & -0.6605660 & -0.3063693 & -0.42659080 & -0.3883285 & -1.1374567\\\\\n",
       "\t NF0014 & DMSO         &  1 & \\%  &  0.4938911 & 0.2500007 &  0.09903665 &  0.06249213 & -0.3566118 & -0.12649450 & ⋯ & -0.3987118 &  0.01222531 & -0.2914359 & -0.3589357 & -0.30694942 & -0.2155743 & -0.4293686 & -0.07543949 & -0.4088304 & -0.4588865\\\\\n",
       "\t NF0014 & Digoxin      &  1 & uM &  0.5252740 & 0.2499956 & -2.14148296 & -1.22079085 & -0.4807605 &  1.42696349 & ⋯ & -0.5610131 & -1.16276514 & -1.1394080 & -0.9583440 & -0.32305449 & -1.1777979 & -0.9938126 & -0.21822492 & -0.3883285 & -1.2838415\\\\\n",
       "\\end{tabular}\n"
      ],
      "text/markdown": [
       "\n",
       "A tibble: 6 × 171\n",
       "\n",
       "| patient &lt;chr&gt; | treatment &lt;chr&gt; | dose &lt;int&gt; | unit &lt;chr&gt; | Colocalization_Organoid_AGP.BF_MIN.CORRELATION.COEFF &lt;dbl&gt; | Colocalization_Organoid_AGP.BF_MEDIAN.MANDERS.COEFF.M1 &lt;dbl&gt; | Colocalization_Organoid_AGP.BF_MAX.MANDERS.COEFF.M2 &lt;dbl&gt; | Colocalization_Organoid_AGP.BF_MAX.OVERLAP.COEFF &lt;dbl&gt; | Colocalization_Organoid_AGP.BF_MIN.K1 &lt;dbl&gt; | Colocalization_Organoid_AGP.BF_MIN.K2 &lt;dbl&gt; | ⋯ ⋯ | Texture_Organoid_ER_Contrast_256.3 &lt;dbl&gt; | Texture_Organoid_ER_Information.Measure.of.Correlation.2_256.3 &lt;dbl&gt; | Texture_Organoid_ER_Sum.Average_256.3 &lt;dbl&gt; | Texture_Organoid_ER_Variance_256.3 &lt;dbl&gt; | Texture_Organoid_Mito_Contrast_256.3 &lt;dbl&gt; | Texture_Organoid_Mito_Sum.Average_256.3 &lt;dbl&gt; | Texture_Organoid_Mito_Variance_256.3 &lt;dbl&gt; | Area.Size.Shape_Organoid_EXTENT &lt;dbl&gt; | Area.Size.Shape_Organoid_EULER.NUMBER &lt;dbl&gt; | Area.Size.Shape_Organoid_SURFACE.AREA &lt;dbl&gt; |\n",
       "|---|---|---|---|---|---|---|---|---|---|---|---|---|---|---|---|---|---|---|---|---|\n",
       "| NF0014 | Binimetinib  |  1 | uM |  0.2501474 | 0.2500005 | -0.95896255 | -0.93358445 | -0.4466027 |  0.73477984 | ⋯ | -0.5419167 | -0.96244505 | -1.1548391 | -0.9579401 |  0.05826345 | -0.5136133 | -0.1974620 | -0.75341735 | -0.2960704 | -0.7737309 |\n",
       "| NF0014 | Binimetinib  | 10 | uM | -0.5282621 | 0.2500012 |  0.08586530 | -0.96028678 | -0.4676706 |  0.91788047 | ⋯ | -0.5517376 | -2.50049987 | -1.0816036 | -0.9025234 | -0.71989968 | -0.8146268 | -0.3414513 |  0.74337630 | -0.4088304 | -1.3673196 |\n",
       "| NF0014 | Cabozantinib |  1 | uM |  0.1597416 | 0.2500012 | -0.64064094 | -0.86665756 | -0.3440249 |  0.08570623 | ⋯ | -0.2911755 | -0.78977618 | -0.6857140 | -0.6729403 | -0.31720371 | -0.4620224 | -0.1336881 |  0.17501886 | -0.4088304 | -1.0556796 |\n",
       "| NF0014 | Copanlisib   |  1 | uM |  0.2604506 | 0.2499975 | -1.06708032 | -0.95006171 | -0.5071072 |  0.36197497 | ⋯ | -0.2704968 | -1.43689413 | -0.9617208 | -0.7605898 |  0.53353062 | -0.6605660 | -0.3063693 | -0.42659080 | -0.3883285 | -1.1374567 |\n",
       "| NF0014 | DMSO         |  1 | %  |  0.4938911 | 0.2500007 |  0.09903665 |  0.06249213 | -0.3566118 | -0.12649450 | ⋯ | -0.3987118 |  0.01222531 | -0.2914359 | -0.3589357 | -0.30694942 | -0.2155743 | -0.4293686 | -0.07543949 | -0.4088304 | -0.4588865 |\n",
       "| NF0014 | Digoxin      |  1 | uM |  0.5252740 | 0.2499956 | -2.14148296 | -1.22079085 | -0.4807605 |  1.42696349 | ⋯ | -0.5610131 | -1.16276514 | -1.1394080 | -0.9583440 | -0.32305449 | -1.1777979 | -0.9938126 | -0.21822492 | -0.3883285 | -1.2838415 |\n",
       "\n"
      ],
      "text/plain": [
       "  patient treatment    dose unit\n",
       "1 NF0014  Binimetinib   1   uM  \n",
       "2 NF0014  Binimetinib  10   uM  \n",
       "3 NF0014  Cabozantinib  1   uM  \n",
       "4 NF0014  Copanlisib    1   uM  \n",
       "5 NF0014  DMSO          1   %   \n",
       "6 NF0014  Digoxin       1   uM  \n",
       "  Colocalization_Organoid_AGP.BF_MIN.CORRELATION.COEFF\n",
       "1  0.2501474                                          \n",
       "2 -0.5282621                                          \n",
       "3  0.1597416                                          \n",
       "4  0.2604506                                          \n",
       "5  0.4938911                                          \n",
       "6  0.5252740                                          \n",
       "  Colocalization_Organoid_AGP.BF_MEDIAN.MANDERS.COEFF.M1\n",
       "1 0.2500005                                             \n",
       "2 0.2500012                                             \n",
       "3 0.2500012                                             \n",
       "4 0.2499975                                             \n",
       "5 0.2500007                                             \n",
       "6 0.2499956                                             \n",
       "  Colocalization_Organoid_AGP.BF_MAX.MANDERS.COEFF.M2\n",
       "1 -0.95896255                                        \n",
       "2  0.08586530                                        \n",
       "3 -0.64064094                                        \n",
       "4 -1.06708032                                        \n",
       "5  0.09903665                                        \n",
       "6 -2.14148296                                        \n",
       "  Colocalization_Organoid_AGP.BF_MAX.OVERLAP.COEFF\n",
       "1 -0.93358445                                     \n",
       "2 -0.96028678                                     \n",
       "3 -0.86665756                                     \n",
       "4 -0.95006171                                     \n",
       "5  0.06249213                                     \n",
       "6 -1.22079085                                     \n",
       "  Colocalization_Organoid_AGP.BF_MIN.K1 Colocalization_Organoid_AGP.BF_MIN.K2 ⋯\n",
       "1 -0.4466027                             0.73477984                           ⋯\n",
       "2 -0.4676706                             0.91788047                           ⋯\n",
       "3 -0.3440249                             0.08570623                           ⋯\n",
       "4 -0.5071072                             0.36197497                           ⋯\n",
       "5 -0.3566118                            -0.12649450                           ⋯\n",
       "6 -0.4807605                             1.42696349                           ⋯\n",
       "  Texture_Organoid_ER_Contrast_256.3\n",
       "1 -0.5419167                        \n",
       "2 -0.5517376                        \n",
       "3 -0.2911755                        \n",
       "4 -0.2704968                        \n",
       "5 -0.3987118                        \n",
       "6 -0.5610131                        \n",
       "  Texture_Organoid_ER_Information.Measure.of.Correlation.2_256.3\n",
       "1 -0.96244505                                                   \n",
       "2 -2.50049987                                                   \n",
       "3 -0.78977618                                                   \n",
       "4 -1.43689413                                                   \n",
       "5  0.01222531                                                   \n",
       "6 -1.16276514                                                   \n",
       "  Texture_Organoid_ER_Sum.Average_256.3 Texture_Organoid_ER_Variance_256.3\n",
       "1 -1.1548391                            -0.9579401                        \n",
       "2 -1.0816036                            -0.9025234                        \n",
       "3 -0.6857140                            -0.6729403                        \n",
       "4 -0.9617208                            -0.7605898                        \n",
       "5 -0.2914359                            -0.3589357                        \n",
       "6 -1.1394080                            -0.9583440                        \n",
       "  Texture_Organoid_Mito_Contrast_256.3 Texture_Organoid_Mito_Sum.Average_256.3\n",
       "1  0.05826345                          -0.5136133                             \n",
       "2 -0.71989968                          -0.8146268                             \n",
       "3 -0.31720371                          -0.4620224                             \n",
       "4  0.53353062                          -0.6605660                             \n",
       "5 -0.30694942                          -0.2155743                             \n",
       "6 -0.32305449                          -1.1777979                             \n",
       "  Texture_Organoid_Mito_Variance_256.3 Area.Size.Shape_Organoid_EXTENT\n",
       "1 -0.1974620                           -0.75341735                    \n",
       "2 -0.3414513                            0.74337630                    \n",
       "3 -0.1336881                            0.17501886                    \n",
       "4 -0.3063693                           -0.42659080                    \n",
       "5 -0.4293686                           -0.07543949                    \n",
       "6 -0.9938126                           -0.21822492                    \n",
       "  Area.Size.Shape_Organoid_EULER.NUMBER Area.Size.Shape_Organoid_SURFACE.AREA\n",
       "1 -0.2960704                            -0.7737309                           \n",
       "2 -0.4088304                            -1.3673196                           \n",
       "3 -0.4088304                            -1.0556796                           \n",
       "4 -0.3883285                            -1.1374567                           \n",
       "5 -0.4088304                            -0.4588865                           \n",
       "6 -0.3883285                            -1.2838415                           "
      ]
     },
     "metadata": {},
     "output_type": "display_data"
    }
   ],
   "source": [
    "organoid_consensus_df <- arrow::read_parquet(file.path(root_dir,\"data/all_patient_profiles/organoid_consensus_profiles.parquet\"))\n",
    "# drop the therapeautic catagorty column\n",
    "# organoid_consensus_df <- organoid_consensus_df %>%\n",
    "#   select(-`Therapeutic Categories`)\n",
    "head(organoid_consensus_df)"
   ]
  },
  {
   "cell_type": "code",
   "execution_count": 9,
   "id": "841998b8",
   "metadata": {
    "vscode": {
     "languageId": "r"
    }
   },
   "outputs": [
    {
     "ename": "ERROR",
     "evalue": "\u001b[1m\u001b[33mError\u001b[39m in `select()`:\u001b[22m\n\u001b[33m!\u001b[39m Can't select columns that don't exist.\n\u001b[31m✖\u001b[39m Column `unite` doesn't exist.\n",
     "output_type": "error",
     "traceback": [
      "\u001b[1m\u001b[33mError\u001b[39m in `select()`:\u001b[22m\n\u001b[33m!\u001b[39m Can't select columns that don't exist.\n\u001b[31m✖\u001b[39m Column `unite` doesn't exist.\nTraceback:\n",
      "1. organoid_consensus_df %>% select(-patient, -treatment, -dose, \n .     -unite, -Target, -Class, ) %>% column_to_rownames(\"profile_id\") %>% \n .     as.matrix()",
      "2. as.matrix(.)",
      "3. column_to_rownames(., \"profile_id\")",
      "4. stopifnot(is.data.frame(.data))",
      "5. is.data.frame(.data)",
      "6. select(., -patient, -treatment, -dose, -unite, -Target, -Class, \n .     )",
      "7. select.data.frame(., -patient, -treatment, -dose, -unite, -Target, \n .     -Class, )",
      "8. tidyselect_fix_call(tidyselect::eval_select(expr(c(...)), .data), \n .     call = error_call)",
      "9. withCallingHandlers(expr, error = function(cnd) {\n .     cnd$call <- call\n .     cnd$parent <- NULL\n .     cnd_signal(cnd)\n . })",
      "10. tidyselect::eval_select(expr(c(...)), .data)",
      "11. eval_select_impl(data, names(data), as_quosure(expr, env), include = include, \n  .     exclude = exclude, strict = strict, name_spec = name_spec, \n  .     allow_rename = allow_rename, allow_empty = allow_empty, allow_predicates = allow_predicates, \n  .     error_call = error_call, )",
      "12. with_subscript_errors(out <- vars_select_eval(vars, expr, strict = strict, \n  .     data = x, name_spec = name_spec, uniquely_named = uniquely_named, \n  .     allow_rename = allow_rename, allow_empty = allow_empty, allow_predicates = allow_predicates, \n  .     type = type, error_call = error_call), type = type)",
      "13. withCallingHandlers(expr, vctrs_error_subscript = function(cnd) {\n  .     cnd$subscript_action <- subscript_action(type)\n  .     cnd$subscript_elt <- \"column\"\n  .     cnd_signal(cnd)\n  . })",
      "14. vars_select_eval(vars, expr, strict = strict, data = x, name_spec = name_spec, \n  .     uniquely_named = uniquely_named, allow_rename = allow_rename, \n  .     allow_empty = allow_empty, allow_predicates = allow_predicates, \n  .     type = type, error_call = error_call)",
      "15. walk_data_tree(expr, data_mask, context_mask)",
      "16. eval_c(expr, data_mask, context_mask)",
      "17. reduce_sels(node, data_mask, context_mask, init = init)",
      "18. walk_data_tree(new, data_mask, context_mask)",
      "19. as_indices_sel_impl(out, vars = vars, strict = strict, data = data, \n  .     allow_predicates = allow_predicates, call = error_call, arg = as_label(expr))",
      "20. as_indices_impl(x, vars, call = call, arg = arg, strict = strict)",
      "21. chr_as_locations(x, vars, call = call, arg = arg)",
      "22. vctrs::vec_as_location(x, n = length(vars), names = vars, call = call, \n  .     arg = arg)",
      "23. (function () \n  . stop_subscript_oob(i = i, subscript_type = subscript_type, names = names, \n  .     subscript_action = subscript_action, subscript_arg = subscript_arg, \n  .     call = call))()",
      "24. stop_subscript_oob(i = i, subscript_type = subscript_type, names = names, \n  .     subscript_action = subscript_action, subscript_arg = subscript_arg, \n  .     call = call)",
      "25. stop_subscript(class = \"vctrs_error_subscript_oob\", i = i, subscript_type = subscript_type, \n  .     ..., call = call)",
      "26. abort(class = c(class, \"vctrs_error_subscript\"), i = i, ..., \n  .     call = call)",
      "27. signal_abort(cnd, .file)",
      "28. signalCondition(cnd)",
      "29. (function (cnd) \n  . {\n  .     cnd$subscript_action <- subscript_action(type)\n  .     cnd$subscript_elt <- \"column\"\n  .     cnd_signal(cnd)\n  . })(structure(list(message = \"\", trace = structure(list(call = list(\n  .     IRkernel::main(), kernel$run(), handle_shell(), executor$execute(msg), \n  .     tryCatch(evaluate(request$content$code, envir = .GlobalEnv, \n  .         output_handler = oh, stop_on_error = 1L), interrupt = function(cond) {\n  .         log_debug(\"Interrupt during execution\")\n  .         interrupted <<- TRUE\n  .     }, error = .self$handle_error), tryCatchList(expr, classes, \n  .         parentenv, handlers), tryCatchOne(tryCatchList(expr, \n  .         names[-nh], parentenv, handlers[-nh]), names[nh], parentenv, \n  .         handlers[[nh]]), doTryCatch(return(expr), name, parentenv, \n  .         handler), tryCatchList(expr, names[-nh], parentenv, handlers[-nh]), \n  .     tryCatchOne(expr, names, parentenv, handlers[[1L]]), doTryCatch(return(expr), \n  .         name, parentenv, handler), evaluate(request$content$code, \n  .         envir = .GlobalEnv, output_handler = oh, stop_on_error = 1L), \n  .     evaluate_call(expr, parsed$src[[i]], envir = envir, enclos = enclos, \n  .         debug = debug, last = i == length(out), use_try = stop_on_error != \n  .             2L, keep_warning = keep_warning, keep_message = keep_message, \n  .         log_echo = log_echo, log_warning = log_warning, output_handler = output_handler, \n  .         include_timing = include_timing), timing_fn(handle(ev <- withCallingHandlers(withVisible(eval_with_user_handlers(expr, \n  .         envir, enclos, user_handlers)), warning = wHandler, error = eHandler, \n  .         message = mHandler))), handle(ev <- withCallingHandlers(withVisible(eval_with_user_handlers(expr, \n  .         envir, enclos, user_handlers)), warning = wHandler, error = eHandler, \n  .         message = mHandler)), try(f, silent = TRUE), tryCatch(expr, \n  .         error = function(e) {\n  .             call <- conditionCall(e)\n  .             if (!is.null(call)) {\n  .                 if (identical(call[[1L]], quote(doTryCatch))) \n  .                   call <- sys.call(-4L)\n  .                 dcall <- deparse(call, nlines = 1L)\n  .                 prefix <- paste(\"Error in\", dcall, \": \")\n  .                 LONG <- 75L\n  .                 sm <- strsplit(conditionMessage(e), \"\\n\")[[1L]]\n  .                 w <- 14L + nchar(dcall, type = \"w\") + nchar(sm[1L], \n  .                   type = \"w\")\n  .                 if (is.na(w)) \n  .                   w <- 14L + nchar(dcall, type = \"b\") + nchar(sm[1L], \n  .                     type = \"b\")\n  .                 if (w > LONG) \n  .                   prefix <- paste0(prefix, \"\\n  \")\n  .             }\n  .             else prefix <- \"Error : \"\n  .             msg <- paste0(prefix, conditionMessage(e), \"\\n\")\n  .             .Internal(seterrmessage(msg[1L]))\n  .             if (!silent && isTRUE(getOption(\"show.error.messages\"))) {\n  .                 cat(msg, file = outFile)\n  .                 .Internal(printDeferredWarnings())\n  .             }\n  .             invisible(structure(msg, class = \"try-error\", condition = e))\n  .         }), tryCatchList(expr, classes, parentenv, handlers), \n  .     tryCatchOne(expr, names, parentenv, handlers[[1L]]), doTryCatch(return(expr), \n  .         name, parentenv, handler), withCallingHandlers(withVisible(eval_with_user_handlers(expr, \n  .         envir, enclos, user_handlers)), warning = wHandler, error = eHandler, \n  .         message = mHandler), withVisible(eval_with_user_handlers(expr, \n  .         envir, enclos, user_handlers)), eval_with_user_handlers(expr, \n  .         envir, enclos, user_handlers), eval(expr, envir, enclos), \n  .     eval(expr, envir, enclos), organoid_consensus_df %>% select(-patient, \n  .         -treatment, -dose, -unite, -Target, -Class, ) %>% column_to_rownames(\"profile_id\") %>% \n  .         as.matrix(), as.matrix(.), column_to_rownames(., \"profile_id\"), \n  .     stopifnot(is.data.frame(.data)), is.data.frame(.data), select(., \n  .         -patient, -treatment, -dose, -unite, -Target, -Class, \n  .         ), select.data.frame(., -patient, -treatment, -dose, \n  .         -unite, -Target, -Class, ), tidyselect_fix_call(tidyselect::eval_select(expr(c(...)), \n  .         .data), call = error_call), withCallingHandlers(expr, \n  .         error = function(cnd) {\n  .             cnd$call <- call\n  .             cnd$parent <- NULL\n  .             cnd_signal(cnd)\n  .         }), tidyselect::eval_select(expr(c(...)), .data), eval_select_impl(data, \n  .         names(data), as_quosure(expr, env), include = include, \n  .         exclude = exclude, strict = strict, name_spec = name_spec, \n  .         allow_rename = allow_rename, allow_empty = allow_empty, \n  .         allow_predicates = allow_predicates, error_call = error_call, \n  .         ), with_subscript_errors(out <- vars_select_eval(vars, \n  .         expr, strict = strict, data = x, name_spec = name_spec, \n  .         uniquely_named = uniquely_named, allow_rename = allow_rename, \n  .         allow_empty = allow_empty, allow_predicates = allow_predicates, \n  .         type = type, error_call = error_call), type = type), \n  .     withCallingHandlers(expr, vctrs_error_subscript = function(cnd) {\n  .         cnd$subscript_action <- subscript_action(type)\n  .         cnd$subscript_elt <- \"column\"\n  .         cnd_signal(cnd)\n  .     }), vars_select_eval(vars, expr, strict = strict, data = x, \n  .         name_spec = name_spec, uniquely_named = uniquely_named, \n  .         allow_rename = allow_rename, allow_empty = allow_empty, \n  .         allow_predicates = allow_predicates, type = type, error_call = error_call), \n  .     walk_data_tree(expr, data_mask, context_mask), eval_c(expr, \n  .         data_mask, context_mask), reduce_sels(node, data_mask, \n  .         context_mask, init = init), walk_data_tree(new, data_mask, \n  .         context_mask), as_indices_sel_impl(out, vars = vars, \n  .         strict = strict, data = data, allow_predicates = allow_predicates, \n  .         call = error_call, arg = as_label(expr)), as_indices_impl(x, \n  .         vars, call = call, arg = arg, strict = strict), chr_as_locations(x, \n  .         vars, call = call, arg = arg), vctrs::vec_as_location(x, \n  .         n = length(vars), names = vars, call = call, arg = arg), \n  .     `<fn>`(), stop_subscript_oob(i = i, subscript_type = subscript_type, \n  .         names = names, subscript_action = subscript_action, subscript_arg = subscript_arg, \n  .         call = call), stop_subscript(class = \"vctrs_error_subscript_oob\", \n  .         i = i, subscript_type = subscript_type, ..., call = call), \n  .     abort(class = c(class, \"vctrs_error_subscript\"), i = i, ..., \n  .         call = call)), parent = c(0L, 1L, 2L, 3L, 4L, 5L, 6L, \n  . 7L, 6L, 9L, 10L, 4L, 12L, 13L, 13L, 15L, 16L, 17L, 18L, 19L, \n  . 13L, 13L, 13L, 23L, 24L, 0L, 0L, 0L, 28L, 28L, 0L, 0L, 32L, 33L, \n  . 32L, 35L, 36L, 37L, 36L, 39L, 40L, 41L, 42L, 43L, 44L, 45L, 46L, \n  . 0L, 48L, 49L, 50L), visible = c(TRUE, TRUE, TRUE, TRUE, TRUE, \n  . TRUE, TRUE, TRUE, TRUE, TRUE, TRUE, TRUE, TRUE, TRUE, TRUE, TRUE, \n  . TRUE, TRUE, TRUE, TRUE, TRUE, TRUE, TRUE, TRUE, TRUE, TRUE, TRUE, \n  . TRUE, TRUE, TRUE, TRUE, TRUE, FALSE, FALSE, FALSE, FALSE, FALSE, \n  . FALSE, FALSE, FALSE, FALSE, FALSE, FALSE, FALSE, FALSE, FALSE, \n  . FALSE, FALSE, FALSE, FALSE, FALSE), namespace = c(\"IRkernel\", \n  . NA, \"IRkernel\", NA, \"base\", \"base\", \"base\", \"base\", \"base\", \"base\", \n  . \"base\", \"evaluate\", \"evaluate\", \"evaluate\", \"evaluate\", \"base\", \n  . \"base\", \"base\", \"base\", \"base\", \"base\", \"base\", \"evaluate\", \"base\", \n  . \"base\", NA, \"base\", \"tibble\", \"base\", \"base\", \"dplyr\", \"dplyr\", \n  . \"dplyr\", \"base\", \"tidyselect\", \"tidyselect\", \"tidyselect\", \"base\", \n  . \"tidyselect\", \"tidyselect\", \"tidyselect\", \"tidyselect\", \"tidyselect\", \n  . \"tidyselect\", \"tidyselect\", \"tidyselect\", \"vctrs\", \"vctrs\", \"vctrs\", \n  . \"vctrs\", \"rlang\"), scope = c(\"::\", NA, \"local\", NA, \"::\", \"local\", \n  . \"local\", \"local\", \"local\", \"local\", \"local\", \"::\", \":::\", \"local\", \n  . \"local\", \"::\", \"::\", \"local\", \"local\", \"local\", \"::\", \"::\", \":::\", \n  . \"::\", \"::\", NA, \"::\", \"::\", \"::\", \"::\", \"::\", \":::\", \":::\", \"::\", \n  . \"::\", \":::\", \":::\", \"::\", \":::\", \":::\", \":::\", \":::\", \":::\", \n  . \":::\", \":::\", \":::\", \"::\", \"local\", \":::\", \":::\", \"::\"), error_frame = c(FALSE, \n  . FALSE, FALSE, FALSE, FALSE, FALSE, FALSE, FALSE, FALSE, FALSE, \n  . FALSE, FALSE, FALSE, FALSE, FALSE, FALSE, FALSE, FALSE, FALSE, \n  . FALSE, FALSE, FALSE, FALSE, FALSE, FALSE, FALSE, FALSE, FALSE, \n  . FALSE, FALSE, FALSE, TRUE, FALSE, FALSE, FALSE, FALSE, FALSE, \n  . FALSE, FALSE, FALSE, FALSE, FALSE, FALSE, FALSE, FALSE, FALSE, \n  . FALSE, FALSE, FALSE, FALSE, FALSE)), row.names = c(NA, -51L), version = 2L, class = c(\"rlang_trace\", \n  . \"rlib_trace\", \"tbl\", \"data.frame\")), parent = NULL, i = \"unite\", \n  .     subscript_type = \"character\", names = c(\"patient\", \"treatment\", \n  .     \"dose\", \"unit\", \"Colocalization_Organoid_AGP.BF_MIN.CORRELATION.COEFF\", \n  .     \"Colocalization_Organoid_AGP.BF_MEDIAN.MANDERS.COEFF.M1\", \n  .     \"Colocalization_Organoid_AGP.BF_MAX.MANDERS.COEFF.M2\", \"Colocalization_Organoid_AGP.BF_MAX.OVERLAP.COEFF\", \n  .     \"Colocalization_Organoid_AGP.BF_MIN.K1\", \"Colocalization_Organoid_AGP.BF_MIN.K2\", \n  .     \"Colocalization_Organoid_AGP.BF_MAX.MANDERS.COEFF.COSTES.M1\", \n  .     \"Colocalization_Organoid_AGP.ER_MEDIAN.CORRELATION.COEFF\", \n  .     \"Colocalization_Organoid_AGP.ER_MEAN.MANDERS.COEFF.M1\", \"Colocalization_Organoid_AGP.ER_MEDIAN.MANDERS.COEFF.M2\", \n  .     \"Colocalization_Organoid_AGP.ER_MEDIAN.OVERLAP.COEFF\", \"Colocalization_Organoid_AGP.ER_MAX.K1\", \n  .     \"Colocalization_Organoid_AGP.ER_MEAN.K2\", \"Colocalization_Organoid_AGP.ER_MEAN.MANDERS.COEFF.COSTES.M1\", \n  .     \"Colocalization_Organoid_AGP.ER_MAX.MANDERS.COEFF.COSTES.M2\", \n  .     \"Colocalization_Organoid_AGP.Mito_MIN.CORRELATION.COEFF\", \n  .     \"Colocalization_Organoid_AGP.Mito_MAX.MANDERS.COEFF.M1\", \n  .     \"Colocalization_Organoid_AGP.Mito_MEAN.MANDERS.COEFF.M2\", \n  .     \"Colocalization_Organoid_AGP.Mito_MEDIAN.OVERLAP.COEFF\", \n  .     \"Colocalization_Organoid_AGP.Mito_MAX.K1\", \"Colocalization_Organoid_AGP.Mito_MEAN.K2\", \n  .     \"Colocalization_Organoid_AGP.Mito_MEAN.MANDERS.COEFF.COSTES.M1\", \n  .     \"Colocalization_Organoid_AGP.Mito_MEDIAN.MANDERS.COEFF.COSTES.M2\", \n  .     \"Colocalization_Organoid_DNA.AGP_MEAN.CORRELATION.COEFF\", \n  .     \"Colocalization_Organoid_DNA.AGP_MIN.MANDERS.COEFF.M1\", \"Colocalization_Organoid_DNA.AGP_MEAN.MANDERS.COEFF.M2\", \n  .     \"Colocalization_Organoid_DNA.AGP_MEDIAN.OVERLAP.COEFF\", \"Colocalization_Organoid_DNA.AGP_MEAN.K1\", \n  .     \"Colocalization_Organoid_DNA.AGP_MIN.K2\", \"Colocalization_Organoid_DNA.AGP_MEAN.MANDERS.COEFF.COSTES.M1\", \n  .     \"Colocalization_Organoid_DNA.AGP_MIN.MANDERS.COEFF.COSTES.M2\", \n  .     \"Colocalization_Organoid_DNA.BF_MAX.CORRELATION.COEFF\", \"Colocalization_Organoid_DNA.BF_MAX.MANDERS.COEFF.M2\", \n  .     \"Colocalization_Organoid_DNA.BF_MEAN.OVERLAP.COEFF\", \"Colocalization_Organoid_DNA.BF_MEDIAN.K1\", \n  .     \"Colocalization_Organoid_DNA.BF_MEDIAN.K2\", \"Colocalization_Organoid_DNA.BF_MAX.MANDERS.COEFF.COSTES.M1\", \n  .     \"Colocalization_Organoid_DNA.ER_MAX.CORRELATION.COEFF\", \"Colocalization_Organoid_DNA.ER_MEDIAN.MANDERS.COEFF.M1\", \n  .     \"Colocalization_Organoid_DNA.ER_MIN.MANDERS.COEFF.M2\", \"Colocalization_Organoid_DNA.ER_MAX.OVERLAP.COEFF\", \n  .     \"Colocalization_Organoid_DNA.ER_MEAN.K1\", \"Colocalization_Organoid_DNA.ER_MAX.K2\", \n  .     \"Colocalization_Organoid_DNA.ER_MIN.MANDERS.COEFF.COSTES.M1\", \n  .     \"Colocalization_Organoid_DNA.Mito_MEAN.CORRELATION.COEFF\", \n  .     \"Colocalization_Organoid_DNA.Mito_MAX.MANDERS.COEFF.M1\", \n  .     \"Colocalization_Organoid_DNA.Mito_MEAN.MANDERS.COEFF.M2\", \n  .     \"Colocalization_Organoid_DNA.Mito_MAX.OVERLAP.COEFF\", \"Colocalization_Organoid_DNA.Mito_MEDIAN.K2\", \n  .     \"Colocalization_Organoid_DNA.Mito_MEDIAN.MANDERS.COEFF.COSTES.M1\", \n  .     \"Colocalization_Organoid_DNA.Mito_MEAN.MANDERS.COEFF.COSTES.M2\", \n  .     \"Colocalization_Organoid_ER.BF_MIN.CORRELATION.COEFF\", \"Colocalization_Organoid_ER.BF_MIN.MANDERS.COEFF.M2\", \n  .     \"Colocalization_Organoid_ER.BF_MIN.OVERLAP.COEFF\", \"Colocalization_Organoid_ER.BF_MEDIAN.K1\", \n  .     \"Colocalization_Organoid_ER.BF_MEDIAN.K2\", \"Colocalization_Organoid_ER.BF_MEDIAN.MANDERS.COEFF.COSTES.M1\", \n  .     \"Colocalization_Organoid_ER.Mito_MIN.CORRELATION.COEFF\", \n  .     \"Colocalization_Organoid_ER.Mito_MEDIAN.MANDERS.COEFF.M1\", \n  .     \"Colocalization_Organoid_ER.Mito_MAX.MANDERS.COEFF.M2\", \"Colocalization_Organoid_ER.Mito_MIN.OVERLAP.COEFF\", \n  .     \"Colocalization_Organoid_ER.Mito_MAX.K1\", \"Colocalization_Organoid_ER.Mito_MAX.K2\", \n  .     \"Colocalization_Organoid_ER.Mito_MAX.MANDERS.COEFF.COSTES.M1\", \n  .     \"Colocalization_Organoid_ER.Mito_MIN.MANDERS.COEFF.COSTES.M2\", \n  .     \"Colocalization_Organoid_Mito.BF_MIN.CORRELATION.COEFF\", \n  .     \"Colocalization_Organoid_Mito.BF_MIN.MANDERS.COEFF.M2\", \"Colocalization_Organoid_Mito.BF_MEAN.OVERLAP.COEFF\", \n  .     \"Colocalization_Organoid_Mito.BF_MIN.K1\", \"Colocalization_Organoid_Mito.BF_MEAN.K2\", \n  .     \"Colocalization_Organoid_Mito.BF_MIN.MANDERS.COEFF.COSTES.M1\", \n  .     \"Intensity_Organoid_AGP_CM.Y\", \"Intensity_Organoid_AGP_CMI.Z\", \n  .     \"Intensity_Organoid_AGP_DIFF.Y\", \"Intensity_Organoid_AGP_INTEGRATED.INTENSITY\", \n  .     \"Intensity_Organoid_AGP_INTEGRATED.INTENSITY.EDGE\", \"Intensity_Organoid_AGP_MAD.INTENSITY\", \n  .     \"Intensity_Organoid_AGP_MAX.INTENSITY\", \"Intensity_Organoid_AGP_MAX.INTENSITY.EDGE\", \n  .     \"Intensity_Organoid_AGP_MAX.X\", \"Intensity_Organoid_AGP_MAX.Y\", \n  .     \"Intensity_Organoid_AGP_MAX.Z\", \"Intensity_Organoid_AGP_MEDIAN.INTENSITY\", \n  .     \"Intensity_Organoid_AGP_MIN.INTENSITY\", \"Intensity_Organoid_AGP_STD.INTENSITY\", \n  .     \"Intensity_Organoid_AGP_STD.INTENSITY.EDGE\", \"Intensity_Organoid_AGP_UPPER.QUARTILE.INTENSITY\", \n  .     \"Intensity_Organoid_BF_DIFF.X\", \"Intensity_Organoid_BF_DIFF.Z\", \n  .     \"Intensity_Organoid_BF_INTEGRATED.INTENSITY\", \"Intensity_Organoid_BF_MASS.DISPLACEMENT\", \n  .     \"Intensity_Organoid_BF_MAX.INTENSITY\", \"Intensity_Organoid_BF_MAX.INTENSITY.EDGE\", \n  .     \"Intensity_Organoid_BF_MAX.X\", \"Intensity_Organoid_BF_MAX.Y\", \n  .     \"Intensity_Organoid_BF_MAX.Z\", \"Intensity_Organoid_BF_MEDIAN.INTENSITY\", \n  .     \"Intensity_Organoid_BF_MIN.INTENSITY\", \"Intensity_Organoid_BF_STD.INTENSITY\", \n  .     \"Intensity_Organoid_DNA_INTEGRATED.INTENSITY\", \"Intensity_Organoid_DNA_LOWER.QUARTILE.INTENSITY\", \n  .     \"Intensity_Organoid_DNA_MAX.INTENSITY\", \"Intensity_Organoid_DNA_MAX.INTENSITY.EDGE\", \n  .     \"Intensity_Organoid_DNA_MAX.X\", \"Intensity_Organoid_DNA_MAX.Y\", \n  .     \"Intensity_Organoid_DNA_MAX.Z\", \"Intensity_Organoid_DNA_MEAN.INTENSITY\", \n  .     \"Intensity_Organoid_DNA_MEAN.INTENSITY.EDGE\", \"Intensity_Organoid_DNA_MIN.INTENSITY\", \n  .     \"Intensity_Organoid_DNA_STD.INTENSITY\", \"Intensity_Organoid_DNA_STD.INTENSITY.EDGE\", \n  .     \"Intensity_Organoid_ER_DIFF.Z\", \"Intensity_Organoid_ER_I.Y\", \n  .     \"Intensity_Organoid_ER_I.Z\", \"Intensity_Organoid_ER_INTEGRATED.INTENSITY\", \n  .     \"Intensity_Organoid_ER_LOWER.QUARTILE.INTENSITY\", \"Intensity_Organoid_ER_MAX.INTENSITY\", \n  .     \"Intensity_Organoid_ER_MAX.INTENSITY.EDGE\", \"Intensity_Organoid_ER_MAX.X\", \n  .     \"Intensity_Organoid_ER_MAX.Y\", \"Intensity_Organoid_ER_MAX.Z\", \n  .     \"Intensity_Organoid_ER_MIN.INTENSITY\", \"Intensity_Organoid_ER_STD.INTENSITY\", \n  .     \"Intensity_Organoid_ER_STD.INTENSITY.EDGE\", \"Intensity_Organoid_Mito_CM.X\", \n  .     \"Intensity_Organoid_Mito_MASS.DISPLACEMENT\", \"Intensity_Organoid_Mito_MAX.INTENSITY\", \n  .     \"Intensity_Organoid_Mito_MAX.INTENSITY.EDGE\", \"Intensity_Organoid_Mito_MAX.X\", \n  .     \"Intensity_Organoid_Mito_MAX.Y\", \"Intensity_Organoid_Mito_MAX.Z\", \n  .     \"Intensity_Organoid_Mito_MEAN.INTENSITY\", \"Intensity_Organoid_Mito_MEAN.INTENSITY.EDGE\", \n  .     \"Intensity_Organoid_Mito_MIN.INTENSITY\", \"Intensity_Organoid_Mito_STD.INTENSITY\", \n  .     \"Intensity_Organoid_Mito_STD.INTENSITY.EDGE\", \"Granularity_Organoid_AGP_GRANULARITY.1\", \n  .     \"Granularity_Organoid_AGP_GRANULARITY.16\", \"Granularity_Organoid_BF_GRANULARITY.1\", \n  .     \"Granularity_Organoid_BF_GRANULARITY.2\", \"Granularity_Organoid_BF_GRANULARITY.3\", \n  .     \"Granularity_Organoid_BF_GRANULARITY.4\", \"Granularity_Organoid_BF_GRANULARITY.5\", \n  .     \"Granularity_Organoid_BF_GRANULARITY.7\", \"Texture_Organoid_AGP_Contrast_256.3\", \n  .     \"Texture_Organoid_AGP_Difference.Entropy_256.3\", \"Texture_Organoid_AGP_Information.Measure.of.Correlation.1_256.3\", \n  .     \"Texture_Organoid_AGP_Inverse.Difference.Moment_256.3\", \"Texture_Organoid_AGP_Variance_256.3\", \n  .     \"Texture_Organoid_BF_Contrast_256.3\", \"Texture_Organoid_BF_Correlation_256.3\", \n  .     \"Texture_Organoid_BF_Information.Measure.of.Correlation.1_256.3\", \n  .     \"Texture_Organoid_BF_Inverse.Difference.Moment_256.3\", \"Texture_Organoid_BF_Variance_256.3\", \n  .     \"Texture_Organoid_DNA_Contrast_256.3\", \"Texture_Organoid_DNA_Sum.Average_256.3\", \n  .     \"Texture_Organoid_DNA_Variance_256.3\", \"Texture_Organoid_ER_Contrast_256.3\", \n  .     \"Texture_Organoid_ER_Information.Measure.of.Correlation.2_256.3\", \n  .     \"Texture_Organoid_ER_Sum.Average_256.3\", \"Texture_Organoid_ER_Variance_256.3\", \n  .     \"Texture_Organoid_Mito_Contrast_256.3\", \"Texture_Organoid_Mito_Sum.Average_256.3\", \n  .     \"Texture_Organoid_Mito_Variance_256.3\", \"Area.Size.Shape_Organoid_EXTENT\", \n  .     \"Area.Size.Shape_Organoid_EULER.NUMBER\", \"Area.Size.Shape_Organoid_SURFACE.AREA\"\n  .     ), subscript_action = NULL, subscript_arg = \"unite\", rlang = list(\n  .         inherit = TRUE), call = select(., -patient, -treatment, \n  .         -dose, -unite, -Target, -Class, )), class = c(\"vctrs_error_subscript_oob\", \n  . \"vctrs_error_subscript\", \"rlang_error\", \"error\", \"condition\")))",
      "30. cnd_signal(cnd)",
      "31. signal_abort(cnd)",
      "32. signalCondition(cnd)",
      "33. (function (cnd) \n  . {\n  .     cnd$call <- call\n  .     cnd$parent <- NULL\n  .     cnd_signal(cnd)\n  . })(structure(list(message = \"\", trace = structure(list(call = list(\n  .     IRkernel::main(), kernel$run(), handle_shell(), executor$execute(msg), \n  .     tryCatch(evaluate(request$content$code, envir = .GlobalEnv, \n  .         output_handler = oh, stop_on_error = 1L), interrupt = function(cond) {\n  .         log_debug(\"Interrupt during execution\")\n  .         interrupted <<- TRUE\n  .     }, error = .self$handle_error), tryCatchList(expr, classes, \n  .         parentenv, handlers), tryCatchOne(tryCatchList(expr, \n  .         names[-nh], parentenv, handlers[-nh]), names[nh], parentenv, \n  .         handlers[[nh]]), doTryCatch(return(expr), name, parentenv, \n  .         handler), tryCatchList(expr, names[-nh], parentenv, handlers[-nh]), \n  .     tryCatchOne(expr, names, parentenv, handlers[[1L]]), doTryCatch(return(expr), \n  .         name, parentenv, handler), evaluate(request$content$code, \n  .         envir = .GlobalEnv, output_handler = oh, stop_on_error = 1L), \n  .     evaluate_call(expr, parsed$src[[i]], envir = envir, enclos = enclos, \n  .         debug = debug, last = i == length(out), use_try = stop_on_error != \n  .             2L, keep_warning = keep_warning, keep_message = keep_message, \n  .         log_echo = log_echo, log_warning = log_warning, output_handler = output_handler, \n  .         include_timing = include_timing), timing_fn(handle(ev <- withCallingHandlers(withVisible(eval_with_user_handlers(expr, \n  .         envir, enclos, user_handlers)), warning = wHandler, error = eHandler, \n  .         message = mHandler))), handle(ev <- withCallingHandlers(withVisible(eval_with_user_handlers(expr, \n  .         envir, enclos, user_handlers)), warning = wHandler, error = eHandler, \n  .         message = mHandler)), try(f, silent = TRUE), tryCatch(expr, \n  .         error = function(e) {\n  .             call <- conditionCall(e)\n  .             if (!is.null(call)) {\n  .                 if (identical(call[[1L]], quote(doTryCatch))) \n  .                   call <- sys.call(-4L)\n  .                 dcall <- deparse(call, nlines = 1L)\n  .                 prefix <- paste(\"Error in\", dcall, \": \")\n  .                 LONG <- 75L\n  .                 sm <- strsplit(conditionMessage(e), \"\\n\")[[1L]]\n  .                 w <- 14L + nchar(dcall, type = \"w\") + nchar(sm[1L], \n  .                   type = \"w\")\n  .                 if (is.na(w)) \n  .                   w <- 14L + nchar(dcall, type = \"b\") + nchar(sm[1L], \n  .                     type = \"b\")\n  .                 if (w > LONG) \n  .                   prefix <- paste0(prefix, \"\\n  \")\n  .             }\n  .             else prefix <- \"Error : \"\n  .             msg <- paste0(prefix, conditionMessage(e), \"\\n\")\n  .             .Internal(seterrmessage(msg[1L]))\n  .             if (!silent && isTRUE(getOption(\"show.error.messages\"))) {\n  .                 cat(msg, file = outFile)\n  .                 .Internal(printDeferredWarnings())\n  .             }\n  .             invisible(structure(msg, class = \"try-error\", condition = e))\n  .         }), tryCatchList(expr, classes, parentenv, handlers), \n  .     tryCatchOne(expr, names, parentenv, handlers[[1L]]), doTryCatch(return(expr), \n  .         name, parentenv, handler), withCallingHandlers(withVisible(eval_with_user_handlers(expr, \n  .         envir, enclos, user_handlers)), warning = wHandler, error = eHandler, \n  .         message = mHandler), withVisible(eval_with_user_handlers(expr, \n  .         envir, enclos, user_handlers)), eval_with_user_handlers(expr, \n  .         envir, enclos, user_handlers), eval(expr, envir, enclos), \n  .     eval(expr, envir, enclos), organoid_consensus_df %>% select(-patient, \n  .         -treatment, -dose, -unite, -Target, -Class, ) %>% column_to_rownames(\"profile_id\") %>% \n  .         as.matrix(), as.matrix(.), column_to_rownames(., \"profile_id\"), \n  .     stopifnot(is.data.frame(.data)), is.data.frame(.data), select(., \n  .         -patient, -treatment, -dose, -unite, -Target, -Class, \n  .         ), select.data.frame(., -patient, -treatment, -dose, \n  .         -unite, -Target, -Class, ), tidyselect_fix_call(tidyselect::eval_select(expr(c(...)), \n  .         .data), call = error_call), withCallingHandlers(expr, \n  .         error = function(cnd) {\n  .             cnd$call <- call\n  .             cnd$parent <- NULL\n  .             cnd_signal(cnd)\n  .         }), tidyselect::eval_select(expr(c(...)), .data), eval_select_impl(data, \n  .         names(data), as_quosure(expr, env), include = include, \n  .         exclude = exclude, strict = strict, name_spec = name_spec, \n  .         allow_rename = allow_rename, allow_empty = allow_empty, \n  .         allow_predicates = allow_predicates, error_call = error_call, \n  .         ), with_subscript_errors(out <- vars_select_eval(vars, \n  .         expr, strict = strict, data = x, name_spec = name_spec, \n  .         uniquely_named = uniquely_named, allow_rename = allow_rename, \n  .         allow_empty = allow_empty, allow_predicates = allow_predicates, \n  .         type = type, error_call = error_call), type = type), \n  .     withCallingHandlers(expr, vctrs_error_subscript = function(cnd) {\n  .         cnd$subscript_action <- subscript_action(type)\n  .         cnd$subscript_elt <- \"column\"\n  .         cnd_signal(cnd)\n  .     }), vars_select_eval(vars, expr, strict = strict, data = x, \n  .         name_spec = name_spec, uniquely_named = uniquely_named, \n  .         allow_rename = allow_rename, allow_empty = allow_empty, \n  .         allow_predicates = allow_predicates, type = type, error_call = error_call), \n  .     walk_data_tree(expr, data_mask, context_mask), eval_c(expr, \n  .         data_mask, context_mask), reduce_sels(node, data_mask, \n  .         context_mask, init = init), walk_data_tree(new, data_mask, \n  .         context_mask), as_indices_sel_impl(out, vars = vars, \n  .         strict = strict, data = data, allow_predicates = allow_predicates, \n  .         call = error_call, arg = as_label(expr)), as_indices_impl(x, \n  .         vars, call = call, arg = arg, strict = strict), chr_as_locations(x, \n  .         vars, call = call, arg = arg), vctrs::vec_as_location(x, \n  .         n = length(vars), names = vars, call = call, arg = arg), \n  .     `<fn>`(), stop_subscript_oob(i = i, subscript_type = subscript_type, \n  .         names = names, subscript_action = subscript_action, subscript_arg = subscript_arg, \n  .         call = call), stop_subscript(class = \"vctrs_error_subscript_oob\", \n  .         i = i, subscript_type = subscript_type, ..., call = call), \n  .     abort(class = c(class, \"vctrs_error_subscript\"), i = i, ..., \n  .         call = call)), parent = c(0L, 1L, 2L, 3L, 4L, 5L, 6L, \n  . 7L, 6L, 9L, 10L, 4L, 12L, 13L, 13L, 15L, 16L, 17L, 18L, 19L, \n  . 13L, 13L, 13L, 23L, 24L, 0L, 0L, 0L, 28L, 28L, 0L, 0L, 32L, 33L, \n  . 32L, 35L, 36L, 37L, 36L, 39L, 40L, 41L, 42L, 43L, 44L, 45L, 46L, \n  . 0L, 48L, 49L, 50L), visible = c(TRUE, TRUE, TRUE, TRUE, TRUE, \n  . TRUE, TRUE, TRUE, TRUE, TRUE, TRUE, TRUE, TRUE, TRUE, TRUE, TRUE, \n  . TRUE, TRUE, TRUE, TRUE, TRUE, TRUE, TRUE, TRUE, TRUE, TRUE, TRUE, \n  . TRUE, TRUE, TRUE, TRUE, TRUE, FALSE, FALSE, FALSE, FALSE, FALSE, \n  . FALSE, FALSE, FALSE, FALSE, FALSE, FALSE, FALSE, FALSE, FALSE, \n  . FALSE, FALSE, FALSE, FALSE, FALSE), namespace = c(\"IRkernel\", \n  . NA, \"IRkernel\", NA, \"base\", \"base\", \"base\", \"base\", \"base\", \"base\", \n  . \"base\", \"evaluate\", \"evaluate\", \"evaluate\", \"evaluate\", \"base\", \n  . \"base\", \"base\", \"base\", \"base\", \"base\", \"base\", \"evaluate\", \"base\", \n  . \"base\", NA, \"base\", \"tibble\", \"base\", \"base\", \"dplyr\", \"dplyr\", \n  . \"dplyr\", \"base\", \"tidyselect\", \"tidyselect\", \"tidyselect\", \"base\", \n  . \"tidyselect\", \"tidyselect\", \"tidyselect\", \"tidyselect\", \"tidyselect\", \n  . \"tidyselect\", \"tidyselect\", \"tidyselect\", \"vctrs\", \"vctrs\", \"vctrs\", \n  . \"vctrs\", \"rlang\"), scope = c(\"::\", NA, \"local\", NA, \"::\", \"local\", \n  . \"local\", \"local\", \"local\", \"local\", \"local\", \"::\", \":::\", \"local\", \n  . \"local\", \"::\", \"::\", \"local\", \"local\", \"local\", \"::\", \"::\", \":::\", \n  . \"::\", \"::\", NA, \"::\", \"::\", \"::\", \"::\", \"::\", \":::\", \":::\", \"::\", \n  . \"::\", \":::\", \":::\", \"::\", \":::\", \":::\", \":::\", \":::\", \":::\", \n  . \":::\", \":::\", \":::\", \"::\", \"local\", \":::\", \":::\", \"::\"), error_frame = c(FALSE, \n  . FALSE, FALSE, FALSE, FALSE, FALSE, FALSE, FALSE, FALSE, FALSE, \n  . FALSE, FALSE, FALSE, FALSE, FALSE, FALSE, FALSE, FALSE, FALSE, \n  . FALSE, FALSE, FALSE, FALSE, FALSE, FALSE, FALSE, FALSE, FALSE, \n  . FALSE, FALSE, FALSE, TRUE, FALSE, FALSE, FALSE, FALSE, FALSE, \n  . FALSE, FALSE, FALSE, FALSE, FALSE, FALSE, FALSE, FALSE, FALSE, \n  . FALSE, FALSE, FALSE, FALSE, FALSE)), row.names = c(NA, -51L), version = 2L, class = c(\"rlang_trace\", \n  . \"rlib_trace\", \"tbl\", \"data.frame\")), parent = NULL, i = \"unite\", \n  .     subscript_type = \"character\", names = c(\"patient\", \"treatment\", \n  .     \"dose\", \"unit\", \"Colocalization_Organoid_AGP.BF_MIN.CORRELATION.COEFF\", \n  .     \"Colocalization_Organoid_AGP.BF_MEDIAN.MANDERS.COEFF.M1\", \n  .     \"Colocalization_Organoid_AGP.BF_MAX.MANDERS.COEFF.M2\", \"Colocalization_Organoid_AGP.BF_MAX.OVERLAP.COEFF\", \n  .     \"Colocalization_Organoid_AGP.BF_MIN.K1\", \"Colocalization_Organoid_AGP.BF_MIN.K2\", \n  .     \"Colocalization_Organoid_AGP.BF_MAX.MANDERS.COEFF.COSTES.M1\", \n  .     \"Colocalization_Organoid_AGP.ER_MEDIAN.CORRELATION.COEFF\", \n  .     \"Colocalization_Organoid_AGP.ER_MEAN.MANDERS.COEFF.M1\", \"Colocalization_Organoid_AGP.ER_MEDIAN.MANDERS.COEFF.M2\", \n  .     \"Colocalization_Organoid_AGP.ER_MEDIAN.OVERLAP.COEFF\", \"Colocalization_Organoid_AGP.ER_MAX.K1\", \n  .     \"Colocalization_Organoid_AGP.ER_MEAN.K2\", \"Colocalization_Organoid_AGP.ER_MEAN.MANDERS.COEFF.COSTES.M1\", \n  .     \"Colocalization_Organoid_AGP.ER_MAX.MANDERS.COEFF.COSTES.M2\", \n  .     \"Colocalization_Organoid_AGP.Mito_MIN.CORRELATION.COEFF\", \n  .     \"Colocalization_Organoid_AGP.Mito_MAX.MANDERS.COEFF.M1\", \n  .     \"Colocalization_Organoid_AGP.Mito_MEAN.MANDERS.COEFF.M2\", \n  .     \"Colocalization_Organoid_AGP.Mito_MEDIAN.OVERLAP.COEFF\", \n  .     \"Colocalization_Organoid_AGP.Mito_MAX.K1\", \"Colocalization_Organoid_AGP.Mito_MEAN.K2\", \n  .     \"Colocalization_Organoid_AGP.Mito_MEAN.MANDERS.COEFF.COSTES.M1\", \n  .     \"Colocalization_Organoid_AGP.Mito_MEDIAN.MANDERS.COEFF.COSTES.M2\", \n  .     \"Colocalization_Organoid_DNA.AGP_MEAN.CORRELATION.COEFF\", \n  .     \"Colocalization_Organoid_DNA.AGP_MIN.MANDERS.COEFF.M1\", \"Colocalization_Organoid_DNA.AGP_MEAN.MANDERS.COEFF.M2\", \n  .     \"Colocalization_Organoid_DNA.AGP_MEDIAN.OVERLAP.COEFF\", \"Colocalization_Organoid_DNA.AGP_MEAN.K1\", \n  .     \"Colocalization_Organoid_DNA.AGP_MIN.K2\", \"Colocalization_Organoid_DNA.AGP_MEAN.MANDERS.COEFF.COSTES.M1\", \n  .     \"Colocalization_Organoid_DNA.AGP_MIN.MANDERS.COEFF.COSTES.M2\", \n  .     \"Colocalization_Organoid_DNA.BF_MAX.CORRELATION.COEFF\", \"Colocalization_Organoid_DNA.BF_MAX.MANDERS.COEFF.M2\", \n  .     \"Colocalization_Organoid_DNA.BF_MEAN.OVERLAP.COEFF\", \"Colocalization_Organoid_DNA.BF_MEDIAN.K1\", \n  .     \"Colocalization_Organoid_DNA.BF_MEDIAN.K2\", \"Colocalization_Organoid_DNA.BF_MAX.MANDERS.COEFF.COSTES.M1\", \n  .     \"Colocalization_Organoid_DNA.ER_MAX.CORRELATION.COEFF\", \"Colocalization_Organoid_DNA.ER_MEDIAN.MANDERS.COEFF.M1\", \n  .     \"Colocalization_Organoid_DNA.ER_MIN.MANDERS.COEFF.M2\", \"Colocalization_Organoid_DNA.ER_MAX.OVERLAP.COEFF\", \n  .     \"Colocalization_Organoid_DNA.ER_MEAN.K1\", \"Colocalization_Organoid_DNA.ER_MAX.K2\", \n  .     \"Colocalization_Organoid_DNA.ER_MIN.MANDERS.COEFF.COSTES.M1\", \n  .     \"Colocalization_Organoid_DNA.Mito_MEAN.CORRELATION.COEFF\", \n  .     \"Colocalization_Organoid_DNA.Mito_MAX.MANDERS.COEFF.M1\", \n  .     \"Colocalization_Organoid_DNA.Mito_MEAN.MANDERS.COEFF.M2\", \n  .     \"Colocalization_Organoid_DNA.Mito_MAX.OVERLAP.COEFF\", \"Colocalization_Organoid_DNA.Mito_MEDIAN.K2\", \n  .     \"Colocalization_Organoid_DNA.Mito_MEDIAN.MANDERS.COEFF.COSTES.M1\", \n  .     \"Colocalization_Organoid_DNA.Mito_MEAN.MANDERS.COEFF.COSTES.M2\", \n  .     \"Colocalization_Organoid_ER.BF_MIN.CORRELATION.COEFF\", \"Colocalization_Organoid_ER.BF_MIN.MANDERS.COEFF.M2\", \n  .     \"Colocalization_Organoid_ER.BF_MIN.OVERLAP.COEFF\", \"Colocalization_Organoid_ER.BF_MEDIAN.K1\", \n  .     \"Colocalization_Organoid_ER.BF_MEDIAN.K2\", \"Colocalization_Organoid_ER.BF_MEDIAN.MANDERS.COEFF.COSTES.M1\", \n  .     \"Colocalization_Organoid_ER.Mito_MIN.CORRELATION.COEFF\", \n  .     \"Colocalization_Organoid_ER.Mito_MEDIAN.MANDERS.COEFF.M1\", \n  .     \"Colocalization_Organoid_ER.Mito_MAX.MANDERS.COEFF.M2\", \"Colocalization_Organoid_ER.Mito_MIN.OVERLAP.COEFF\", \n  .     \"Colocalization_Organoid_ER.Mito_MAX.K1\", \"Colocalization_Organoid_ER.Mito_MAX.K2\", \n  .     \"Colocalization_Organoid_ER.Mito_MAX.MANDERS.COEFF.COSTES.M1\", \n  .     \"Colocalization_Organoid_ER.Mito_MIN.MANDERS.COEFF.COSTES.M2\", \n  .     \"Colocalization_Organoid_Mito.BF_MIN.CORRELATION.COEFF\", \n  .     \"Colocalization_Organoid_Mito.BF_MIN.MANDERS.COEFF.M2\", \"Colocalization_Organoid_Mito.BF_MEAN.OVERLAP.COEFF\", \n  .     \"Colocalization_Organoid_Mito.BF_MIN.K1\", \"Colocalization_Organoid_Mito.BF_MEAN.K2\", \n  .     \"Colocalization_Organoid_Mito.BF_MIN.MANDERS.COEFF.COSTES.M1\", \n  .     \"Intensity_Organoid_AGP_CM.Y\", \"Intensity_Organoid_AGP_CMI.Z\", \n  .     \"Intensity_Organoid_AGP_DIFF.Y\", \"Intensity_Organoid_AGP_INTEGRATED.INTENSITY\", \n  .     \"Intensity_Organoid_AGP_INTEGRATED.INTENSITY.EDGE\", \"Intensity_Organoid_AGP_MAD.INTENSITY\", \n  .     \"Intensity_Organoid_AGP_MAX.INTENSITY\", \"Intensity_Organoid_AGP_MAX.INTENSITY.EDGE\", \n  .     \"Intensity_Organoid_AGP_MAX.X\", \"Intensity_Organoid_AGP_MAX.Y\", \n  .     \"Intensity_Organoid_AGP_MAX.Z\", \"Intensity_Organoid_AGP_MEDIAN.INTENSITY\", \n  .     \"Intensity_Organoid_AGP_MIN.INTENSITY\", \"Intensity_Organoid_AGP_STD.INTENSITY\", \n  .     \"Intensity_Organoid_AGP_STD.INTENSITY.EDGE\", \"Intensity_Organoid_AGP_UPPER.QUARTILE.INTENSITY\", \n  .     \"Intensity_Organoid_BF_DIFF.X\", \"Intensity_Organoid_BF_DIFF.Z\", \n  .     \"Intensity_Organoid_BF_INTEGRATED.INTENSITY\", \"Intensity_Organoid_BF_MASS.DISPLACEMENT\", \n  .     \"Intensity_Organoid_BF_MAX.INTENSITY\", \"Intensity_Organoid_BF_MAX.INTENSITY.EDGE\", \n  .     \"Intensity_Organoid_BF_MAX.X\", \"Intensity_Organoid_BF_MAX.Y\", \n  .     \"Intensity_Organoid_BF_MAX.Z\", \"Intensity_Organoid_BF_MEDIAN.INTENSITY\", \n  .     \"Intensity_Organoid_BF_MIN.INTENSITY\", \"Intensity_Organoid_BF_STD.INTENSITY\", \n  .     \"Intensity_Organoid_DNA_INTEGRATED.INTENSITY\", \"Intensity_Organoid_DNA_LOWER.QUARTILE.INTENSITY\", \n  .     \"Intensity_Organoid_DNA_MAX.INTENSITY\", \"Intensity_Organoid_DNA_MAX.INTENSITY.EDGE\", \n  .     \"Intensity_Organoid_DNA_MAX.X\", \"Intensity_Organoid_DNA_MAX.Y\", \n  .     \"Intensity_Organoid_DNA_MAX.Z\", \"Intensity_Organoid_DNA_MEAN.INTENSITY\", \n  .     \"Intensity_Organoid_DNA_MEAN.INTENSITY.EDGE\", \"Intensity_Organoid_DNA_MIN.INTENSITY\", \n  .     \"Intensity_Organoid_DNA_STD.INTENSITY\", \"Intensity_Organoid_DNA_STD.INTENSITY.EDGE\", \n  .     \"Intensity_Organoid_ER_DIFF.Z\", \"Intensity_Organoid_ER_I.Y\", \n  .     \"Intensity_Organoid_ER_I.Z\", \"Intensity_Organoid_ER_INTEGRATED.INTENSITY\", \n  .     \"Intensity_Organoid_ER_LOWER.QUARTILE.INTENSITY\", \"Intensity_Organoid_ER_MAX.INTENSITY\", \n  .     \"Intensity_Organoid_ER_MAX.INTENSITY.EDGE\", \"Intensity_Organoid_ER_MAX.X\", \n  .     \"Intensity_Organoid_ER_MAX.Y\", \"Intensity_Organoid_ER_MAX.Z\", \n  .     \"Intensity_Organoid_ER_MIN.INTENSITY\", \"Intensity_Organoid_ER_STD.INTENSITY\", \n  .     \"Intensity_Organoid_ER_STD.INTENSITY.EDGE\", \"Intensity_Organoid_Mito_CM.X\", \n  .     \"Intensity_Organoid_Mito_MASS.DISPLACEMENT\", \"Intensity_Organoid_Mito_MAX.INTENSITY\", \n  .     \"Intensity_Organoid_Mito_MAX.INTENSITY.EDGE\", \"Intensity_Organoid_Mito_MAX.X\", \n  .     \"Intensity_Organoid_Mito_MAX.Y\", \"Intensity_Organoid_Mito_MAX.Z\", \n  .     \"Intensity_Organoid_Mito_MEAN.INTENSITY\", \"Intensity_Organoid_Mito_MEAN.INTENSITY.EDGE\", \n  .     \"Intensity_Organoid_Mito_MIN.INTENSITY\", \"Intensity_Organoid_Mito_STD.INTENSITY\", \n  .     \"Intensity_Organoid_Mito_STD.INTENSITY.EDGE\", \"Granularity_Organoid_AGP_GRANULARITY.1\", \n  .     \"Granularity_Organoid_AGP_GRANULARITY.16\", \"Granularity_Organoid_BF_GRANULARITY.1\", \n  .     \"Granularity_Organoid_BF_GRANULARITY.2\", \"Granularity_Organoid_BF_GRANULARITY.3\", \n  .     \"Granularity_Organoid_BF_GRANULARITY.4\", \"Granularity_Organoid_BF_GRANULARITY.5\", \n  .     \"Granularity_Organoid_BF_GRANULARITY.7\", \"Texture_Organoid_AGP_Contrast_256.3\", \n  .     \"Texture_Organoid_AGP_Difference.Entropy_256.3\", \"Texture_Organoid_AGP_Information.Measure.of.Correlation.1_256.3\", \n  .     \"Texture_Organoid_AGP_Inverse.Difference.Moment_256.3\", \"Texture_Organoid_AGP_Variance_256.3\", \n  .     \"Texture_Organoid_BF_Contrast_256.3\", \"Texture_Organoid_BF_Correlation_256.3\", \n  .     \"Texture_Organoid_BF_Information.Measure.of.Correlation.1_256.3\", \n  .     \"Texture_Organoid_BF_Inverse.Difference.Moment_256.3\", \"Texture_Organoid_BF_Variance_256.3\", \n  .     \"Texture_Organoid_DNA_Contrast_256.3\", \"Texture_Organoid_DNA_Sum.Average_256.3\", \n  .     \"Texture_Organoid_DNA_Variance_256.3\", \"Texture_Organoid_ER_Contrast_256.3\", \n  .     \"Texture_Organoid_ER_Information.Measure.of.Correlation.2_256.3\", \n  .     \"Texture_Organoid_ER_Sum.Average_256.3\", \"Texture_Organoid_ER_Variance_256.3\", \n  .     \"Texture_Organoid_Mito_Contrast_256.3\", \"Texture_Organoid_Mito_Sum.Average_256.3\", \n  .     \"Texture_Organoid_Mito_Variance_256.3\", \"Area.Size.Shape_Organoid_EXTENT\", \n  .     \"Area.Size.Shape_Organoid_EULER.NUMBER\", \"Area.Size.Shape_Organoid_SURFACE.AREA\"\n  .     ), subscript_action = \"select\", subscript_arg = \"unite\", \n  .     rlang = list(inherit = TRUE), call = select(., -patient, \n  .         -treatment, -dose, -unite, -Target, -Class, ), subscript_elt = \"column\"), class = c(\"vctrs_error_subscript_oob\", \n  . \"vctrs_error_subscript\", \"rlang_error\", \"error\", \"condition\")))",
      "34. cnd_signal(cnd)",
      "35. signal_abort(cnd)"
     ]
    }
   ],
   "source": [
    "mat <- organoid_consensus_df %>%\n",
    "  select(-patient, -treatment, -dose, -unite, -Target, -Class,) %>%\n",
    "  column_to_rownames(\"profile_id\") %>%\n",
    "  as.matrix()\n",
    "  "
   ]
  },
  {
   "cell_type": "code",
   "execution_count": null,
   "id": "655fb184",
   "metadata": {
    "vscode": {
     "languageId": "r"
    }
   },
   "outputs": [],
   "source": [
    " heatmap_plot <- Heatmap(\n",
    "            mat, \n",
    "            col = col_fun,\n",
    "            show_row_names = FALSE,\n",
    "            cluster_columns = FALSE,\n",
    "            show_column_names = FALSE,\n",
    "\n",
    "            column_names_gp = gpar(fontsize = 16), # Column name label formatting\n",
    "            row_names_gp = gpar(fontsize = 14), \n",
    "\n",
    "            show_heatmap_legend = FALSE,\n",
    "            heatmap_legend_param = list(\n",
    "                        title = \"Feature\\nValue\",\n",
    "                        title_position = \"topcenter\", \n",
    "                        title_gp = gpar(fontsize = 16, angle = 0, fontface = \"bold\", hjust = 1.0),\n",
    "                        labels_gp = gpar(fontsize = 16),\n",
    "                        legend_height = unit(4, \"cm\"),\n",
    "                        legend_width = unit(3, \"cm\"),\n",
    "                        annotation_legend_side = \"bottom\"\n",
    "                        ), \n",
    "            row_dend_width = unit(2, \"cm\"),\n",
    "            column_title = paste0(\"Dose: \", dose,\" uM\"),\n",
    "            top_annotation = column_anno,\n",
    "        )\n",
    "    }"
   ]
  }
 ],
 "metadata": {
  "kernelspec": {
   "display_name": "R",
   "language": "R",
   "name": "ir"
  },
  "language_info": {
   "codemirror_mode": "r",
   "file_extension": ".r",
   "mimetype": "text/x-r-source",
   "name": "R",
   "pygments_lexer": "r",
   "version": "4.2.2"
  }
 },
 "nbformat": 4,
 "nbformat_minor": 5
}
