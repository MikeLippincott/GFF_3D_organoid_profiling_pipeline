{
 "cells": [
  {
   "cell_type": "code",
   "execution_count": 1,
   "id": "64f66f04",
   "metadata": {},
   "outputs": [],
   "source": [
    "import pathlib\n",
    "import warnings\n",
    "\n",
    "import pandas as pd\n",
    "import statsmodels.formula.api as smf\n",
    "\n",
    "warnings.filterwarnings(\"ignore\")  # Ignore all warnings\n",
    "warnings.simplefilter(\"ignore\")  # Additional suppression method\n",
    "\n",
    "try:\n",
    "    cfg = get_ipython().config\n",
    "    in_notebook = True\n",
    "except NameError:\n",
    "    in_notebook = False\n",
    "if in_notebook:\n",
    "    from tqdm.notebook import tqdm\n",
    "else:\n",
    "    from tqdm import tqdm\n",
    "# Get the current working directory\n",
    "cwd = pathlib.Path.cwd()\n",
    "\n",
    "if (cwd / \".git\").is_dir():\n",
    "    root_dir = cwd\n",
    "\n",
    "else:\n",
    "    root_dir = None\n",
    "    for parent in cwd.parents:\n",
    "        if (parent / \".git\").is_dir():\n",
    "            root_dir = parent\n",
    "            break\n",
    "\n",
    "# Check if a Git root directory was found\n",
    "if root_dir is None:\n",
    "    raise FileNotFoundError(\"No Git root directory found.\")"
   ]
  },
  {
   "cell_type": "code",
   "execution_count": 2,
   "id": "78772217",
   "metadata": {},
   "outputs": [],
   "source": [
    "profile_dict = {\n",
    "    \"organoid_fs\": {\n",
    "        \"input_profile_path\": pathlib.Path(\n",
    "            root_dir, \"data/all_patient_profiles/organoid_fs_profiles.parquet\"\n",
    "        ),\n",
    "        \"output_profile_path\": pathlib.Path(\n",
    "            root_dir, \"5.EDA/results/linear_modeling/organoid_fs.parquet\"\n",
    "        ),\n",
    "        \"metadata_columns\": [\n",
    "            \"patient\",\n",
    "            \"object_id\",\n",
    "            \"unit\",\n",
    "            \"dose\",\n",
    "            \"treatment\",\n",
    "            \"Target\",\n",
    "            \"Class\",\n",
    "            \"image_set\",\n",
    "            \"Well\",\n",
    "            \"Therapeutic Categories\",\n",
    "            \"single_cell_count\",\n",
    "        ],\n",
    "    },\n",
    "    \"single_cell_fs\": {\n",
    "        \"input_profile_path\": pathlib.Path(\n",
    "            root_dir, \"data/all_patient_profiles/sc_fs_profiles.parquet\"\n",
    "        ),\n",
    "        \"output_profile_path\": pathlib.Path(\n",
    "            root_dir, \"5.EDA/results/linear_modeling/sc_fs.parquet\"\n",
    "        ),\n",
    "        \"metadata_columns\": [\n",
    "            \"patient\",\n",
    "            \"object_id\",\n",
    "            \"unit\",\n",
    "            \"dose\",\n",
    "            \"treatment\",\n",
    "            \"Target\",\n",
    "            \"Class\",\n",
    "            \"image_set\",\n",
    "            \"Well\",\n",
    "            \"Therapeutic Categories\",\n",
    "            \"parent_organoid\",\n",
    "        ],\n",
    "    },\n",
    "}"
   ]
  },
  {
   "cell_type": "markdown",
   "id": "2d33968b",
   "metadata": {},
   "source": [
    "## Linear modeling \n",
    "\n",
    "We want to predict each feature given some information about the organoid per patient. We will use linear regression to do this.\n",
    "$y = X_0 * \\beta_0 + X_1 * \\beta_1 + ... + X_n * \\beta_n + \\epsilon$   \n",
    "\n",
    "Where:  \n",
    "$y$ = feature to predict   \n",
    "$\\beta_0$ = Intercept   \n",
    "$X_1$ = The treatment (e.g. control, drug)   \n",
    "$\\beta_1$ = The coefficient for the treatment   \n",
    "$\\epsilon$ = The error term   \n"
   ]
  },
  {
   "cell_type": "code",
   "execution_count": 3,
   "id": "b7e84d69",
   "metadata": {},
   "outputs": [
    {
     "data": {
      "application/vnd.jupyter.widget-view+json": {
       "model_id": "97156668c9074575baee300384d956e9",
       "version_major": 2,
       "version_minor": 0
      },
      "text/plain": [
       "Loading profiles:   0%|          | 0/2 [00:00<?, ?it/s]"
      ]
     },
     "metadata": {},
     "output_type": "display_data"
    },
    {
     "data": {
      "application/vnd.jupyter.widget-view+json": {
       "model_id": "7429bb0b05f046c0acecc5e083470be5",
       "version_major": 2,
       "version_minor": 0
      },
      "text/plain": [
       "Processing patients:   0%|          | 0/8 [00:00<?, ?patient/s]"
      ]
     },
     "metadata": {},
     "output_type": "display_data"
    },
    {
     "data": {
      "application/vnd.jupyter.widget-view+json": {
       "model_id": "118b5ac7c8d04ef7aa0693efda4236ad",
       "version_major": 2,
       "version_minor": 0
      },
      "text/plain": [
       "Processing treatment combinations:   0%|          | 0/16 [00:00<?, ?combo/s]"
      ]
     },
     "metadata": {},
     "output_type": "display_data"
    },
    {
     "data": {
      "application/vnd.jupyter.widget-view+json": {
       "model_id": "8e8522d3ce864348abc2df0796f831ae",
       "version_major": 2,
       "version_minor": 0
      },
      "text/plain": [
       "Processing treatment combinations:   0%|          | 0/15 [00:00<?, ?combo/s]"
      ]
     },
     "metadata": {},
     "output_type": "display_data"
    },
    {
     "data": {
      "application/vnd.jupyter.widget-view+json": {
       "model_id": "4bfe9eedfbef45b2875eb4f60dea6e1a",
       "version_major": 2,
       "version_minor": 0
      },
      "text/plain": [
       "Processing treatment combinations:   0%|          | 0/16 [00:00<?, ?combo/s]"
      ]
     },
     "metadata": {},
     "output_type": "display_data"
    },
    {
     "data": {
      "application/vnd.jupyter.widget-view+json": {
       "model_id": "5798ce93e7e74133bec41674421b8557",
       "version_major": 2,
       "version_minor": 0
      },
      "text/plain": [
       "Processing treatment combinations:   0%|          | 0/16 [00:00<?, ?combo/s]"
      ]
     },
     "metadata": {},
     "output_type": "display_data"
    },
    {
     "data": {
      "application/vnd.jupyter.widget-view+json": {
       "model_id": "06480875c80f4e63a1b3c39509f7fd3c",
       "version_major": 2,
       "version_minor": 0
      },
      "text/plain": [
       "Processing treatment combinations:   0%|          | 0/16 [00:00<?, ?combo/s]"
      ]
     },
     "metadata": {},
     "output_type": "display_data"
    },
    {
     "data": {
      "application/vnd.jupyter.widget-view+json": {
       "model_id": "52f7e4581319452186a1d80a96019a38",
       "version_major": 2,
       "version_minor": 0
      },
      "text/plain": [
       "Processing treatment combinations:   0%|          | 0/21 [00:00<?, ?combo/s]"
      ]
     },
     "metadata": {},
     "output_type": "display_data"
    },
    {
     "data": {
      "application/vnd.jupyter.widget-view+json": {
       "model_id": "cc1af043afcf453d98eb0cef24698093",
       "version_major": 2,
       "version_minor": 0
      },
      "text/plain": [
       "Processing treatment combinations:   0%|          | 0/16 [00:00<?, ?combo/s]"
      ]
     },
     "metadata": {},
     "output_type": "display_data"
    },
    {
     "data": {
      "application/vnd.jupyter.widget-view+json": {
       "model_id": "bc84cdce45d540c387d95026bdc0b106",
       "version_major": 2,
       "version_minor": 0
      },
      "text/plain": [
       "Processing treatment combinations:   0%|          | 0/16 [00:00<?, ?combo/s]"
      ]
     },
     "metadata": {},
     "output_type": "display_data"
    },
    {
     "data": {
      "application/vnd.jupyter.widget-view+json": {
       "model_id": "c593d5e86d154fdd8112b05f8f7a308e",
       "version_major": 2,
       "version_minor": 0
      },
      "text/plain": [
       "Processing patients:   0%|          | 0/8 [00:00<?, ?patient/s]"
      ]
     },
     "metadata": {},
     "output_type": "display_data"
    },
    {
     "data": {
      "application/vnd.jupyter.widget-view+json": {
       "model_id": "f8ad5a41b42f4809aee7f31ea2b3fb00",
       "version_major": 2,
       "version_minor": 0
      },
      "text/plain": [
       "Processing treatment combinations:   0%|          | 0/16 [00:00<?, ?combo/s]"
      ]
     },
     "metadata": {},
     "output_type": "display_data"
    },
    {
     "data": {
      "application/vnd.jupyter.widget-view+json": {
       "model_id": "6a0a546ae4044418ac2f5335d857a8ac",
       "version_major": 2,
       "version_minor": 0
      },
      "text/plain": [
       "Processing treatment combinations:   0%|          | 0/15 [00:00<?, ?combo/s]"
      ]
     },
     "metadata": {},
     "output_type": "display_data"
    },
    {
     "data": {
      "application/vnd.jupyter.widget-view+json": {
       "model_id": "6b90c507781444739600ffc84bc13695",
       "version_major": 2,
       "version_minor": 0
      },
      "text/plain": [
       "Processing treatment combinations:   0%|          | 0/15 [00:00<?, ?combo/s]"
      ]
     },
     "metadata": {},
     "output_type": "display_data"
    },
    {
     "data": {
      "application/vnd.jupyter.widget-view+json": {
       "model_id": "e056fdcaf03346d5a37085b262f4ae11",
       "version_major": 2,
       "version_minor": 0
      },
      "text/plain": [
       "Processing treatment combinations:   0%|          | 0/16 [00:00<?, ?combo/s]"
      ]
     },
     "metadata": {},
     "output_type": "display_data"
    },
    {
     "data": {
      "application/vnd.jupyter.widget-view+json": {
       "model_id": "f9bd2df6aca941a1ad2005bffb5adbc2",
       "version_major": 2,
       "version_minor": 0
      },
      "text/plain": [
       "Processing treatment combinations:   0%|          | 0/16 [00:00<?, ?combo/s]"
      ]
     },
     "metadata": {},
     "output_type": "display_data"
    },
    {
     "data": {
      "application/vnd.jupyter.widget-view+json": {
       "model_id": "89e1d429c13f434ab28781f6c471b2da",
       "version_major": 2,
       "version_minor": 0
      },
      "text/plain": [
       "Processing treatment combinations:   0%|          | 0/21 [00:00<?, ?combo/s]"
      ]
     },
     "metadata": {},
     "output_type": "display_data"
    },
    {
     "data": {
      "application/vnd.jupyter.widget-view+json": {
       "model_id": "3ade73fdc2e24f33a7ee19d91fc1236c",
       "version_major": 2,
       "version_minor": 0
      },
      "text/plain": [
       "Processing treatment combinations:   0%|          | 0/16 [00:00<?, ?combo/s]"
      ]
     },
     "metadata": {},
     "output_type": "display_data"
    },
    {
     "data": {
      "application/vnd.jupyter.widget-view+json": {
       "model_id": "602d242b16474b44a5b2290d938268c2",
       "version_major": 2,
       "version_minor": 0
      },
      "text/plain": [
       "Processing treatment combinations:   0%|          | 0/16 [00:00<?, ?combo/s]"
      ]
     },
     "metadata": {},
     "output_type": "display_data"
    }
   ],
   "source": [
    "for profile in tqdm(profile_dict.keys(), desc=\"Loading profiles\"):\n",
    "    # set the output dictionary for linear modeling results\n",
    "    # per profile\n",
    "    linear_modeling_results_dict = {\n",
    "        \"patient\": [],\n",
    "        \"treatment\": [],\n",
    "        \"feature\": [],\n",
    "        \"rsquared\": [],\n",
    "        \"rsquared_adj\": [],\n",
    "        \"fvalue\": [],\n",
    "        \"pvalue\": [],\n",
    "        \"coefficient\": [],\n",
    "        \"intercept\": [],\n",
    "    }\n",
    "    metadata_columns = profile_dict[profile][\"metadata_columns\"]\n",
    "    df = pd.read_parquet(profile_dict[profile][\"input_profile_path\"])\n",
    "    # rename feature columns as the \".\" dod not play nice with the formula\n",
    "    for col in df.columns:\n",
    "        new_col = col.replace(\n",
    "            \".\", \"\"\n",
    "        )  # Replace . with empty string for compatibility in formula\n",
    "        df.rename(columns={col: new_col}, inplace=True)\n",
    "\n",
    "    for patient in tqdm(\n",
    "        df[\"patient\"].unique(), desc=\"Processing patients\", unit=\"patient\", leave=False\n",
    "    ):\n",
    "        df_patient = df.loc[df[\"patient\"] == patient]\n",
    "\n",
    "        # Filter for specific treatments\n",
    "        df_patient_trt = df_patient.loc[df_patient[\"treatment\"].isin([\"DMSO\"])]\n",
    "        combo_list = [\n",
    "            (\"DMSO\", i) for i in df_patient[\"treatment\"].unique() if i != \"DMSO\"\n",
    "        ]\n",
    "        for combo in tqdm(\n",
    "            combo_list,\n",
    "            desc=\"Processing treatment combinations\",\n",
    "            unit=\"combo\",\n",
    "            leave=False,\n",
    "        ):\n",
    "            df_patient_trt = df_patient.loc[df_patient[\"treatment\"].isin(combo)]\n",
    "            # order the treatment column to ensure DMSO is first\n",
    "            df_patient_trt[\"treatment\"] = pd.Categorical(\n",
    "                df_patient_trt[\"treatment\"],\n",
    "                categories=[\"DMSO\"]\n",
    "                + [\n",
    "                    other_treatment\n",
    "                    for other_treatment in df_patient[\"treatment\"].unique()\n",
    "                    if other_treatment != \"DMSO\"\n",
    "                ],\n",
    "            )\n",
    "            for col in df_patient_trt.columns:\n",
    "                if col not in metadata_columns:\n",
    "                    # Prepare the formula for the linear model\n",
    "                    formula = f\"{col} ~ C(treatment) + C(patient)\"\n",
    "                    # Import statsmodels and run the linear model\n",
    "                    model = smf.ols(formula=formula, data=df_patient_trt)\n",
    "                    results = model.fit()\n",
    "                    linear_modeling_results_dict[\"patient\"].append(patient)\n",
    "                    linear_modeling_results_dict[\"treatment\"].append(combo[1])\n",
    "                    linear_modeling_results_dict[\"feature\"].append(col)\n",
    "                    linear_modeling_results_dict[\"rsquared\"].append(results.rsquared)\n",
    "                    linear_modeling_results_dict[\"rsquared_adj\"].append(\n",
    "                        results.rsquared_adj\n",
    "                    )\n",
    "                    linear_modeling_results_dict[\"fvalue\"].append(results.fvalue)\n",
    "                    linear_modeling_results_dict[\"pvalue\"].append(\n",
    "                        results.pvalues[f\"C(treatment)[T.{combo[1]}]\"]\n",
    "                    )\n",
    "                    linear_modeling_results_dict[\"coefficient\"].append(\n",
    "                        results.params[f\"C(treatment)[T.{combo[1]}]\"].item()\n",
    "                    )\n",
    "                    linear_modeling_results_dict[\"intercept\"].append(\n",
    "                        results.params[\"Intercept\"].item()\n",
    "                    )\n",
    "    linear_modeling_results_df = pd.DataFrame(linear_modeling_results_dict)\n",
    "    # split the feature column into multiple columns\n",
    "    linear_modeling_results_df[\"feature\"].str.split(\"_\", expand=True)\n",
    "    linear_modeling_results_df[\n",
    "        [\"Feature_type\", \"Compartment\", \"Channel\", \"Measurement\", \"Extra_info\"]\n",
    "    ] = linear_modeling_results_df[\"feature\"].str.split(\"_\", expand=True)\n",
    "\n",
    "    # if feature type is area shape then make the measurement the channel and\n",
    "    # set the channel to None\n",
    "    linear_modeling_results_df.loc[\n",
    "        linear_modeling_results_df[\"Feature_type\"] == \"AreaSizeShape\", \"Measurement\"\n",
    "    ] = linear_modeling_results_df[\"Channel\"]\n",
    "    linear_modeling_results_df.loc[\n",
    "        linear_modeling_results_df[\"Feature_type\"] == \"AreaSizeShape\", \"Channel\"\n",
    "    ] = None\n",
    "    # set compartment to None if is adjacent\n",
    "    linear_modeling_results_df.loc[\n",
    "        linear_modeling_results_df[\"Compartment\"] == \"adjacent\", \"Compartment\"\n",
    "    ] = None\n",
    "\n",
    "    profile_dict[profile][\"output_profile_path\"].parent.mkdir(\n",
    "        parents=True, exist_ok=True\n",
    "    )\n",
    "    linear_modeling_results_df.to_parquet(\n",
    "        profile_dict[profile][\"output_profile_path\"], index=False\n",
    "    )"
   ]
  }
 ],
 "metadata": {
  "kernelspec": {
   "display_name": "GFF_analysis",
   "language": "python",
   "name": "python3"
  },
  "language_info": {
   "codemirror_mode": {
    "name": "ipython",
    "version": 3
   },
   "file_extension": ".py",
   "mimetype": "text/x-python",
   "name": "python",
   "nbconvert_exporter": "python",
   "pygments_lexer": "ipython3",
   "version": "3.12.11"
  }
 },
 "nbformat": 4,
 "nbformat_minor": 5
}
