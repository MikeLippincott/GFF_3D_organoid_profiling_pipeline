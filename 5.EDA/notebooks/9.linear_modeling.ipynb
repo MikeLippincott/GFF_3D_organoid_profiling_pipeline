{
 "cells": [
  {
   "cell_type": "code",
   "execution_count": 1,
   "id": "64f66f04",
   "metadata": {},
   "outputs": [],
   "source": [
    "import pathlib\n",
    "import warnings\n",
    "\n",
    "import pandas as pd\n",
    "import statsmodels.formula.api as smf\n",
    "\n",
    "warnings.filterwarnings(\"ignore\")  # Ignore all warnings\n",
    "warnings.simplefilter(\"ignore\")  # Additional suppression method\n",
    "\n",
    "try:\n",
    "    cfg = get_ipython().config\n",
    "    in_notebook = True\n",
    "except NameError:\n",
    "    in_notebook = False\n",
    "if in_notebook:\n",
    "    from tqdm.notebook import tqdm\n",
    "else:\n",
    "    from tqdm import tqdm\n",
    "# Get the current working directory\n",
    "cwd = pathlib.Path.cwd()\n",
    "\n",
    "if (cwd / \".git\").is_dir():\n",
    "    root_dir = cwd\n",
    "\n",
    "else:\n",
    "    root_dir = None\n",
    "    for parent in cwd.parents:\n",
    "        if (parent / \".git\").is_dir():\n",
    "            root_dir = parent\n",
    "            break\n",
    "\n",
    "# Check if a Git root directory was found\n",
    "if root_dir is None:\n",
    "    raise FileNotFoundError(\"No Git root directory found.\")"
   ]
  },
  {
   "cell_type": "code",
   "execution_count": 2,
   "id": "78772217",
   "metadata": {},
   "outputs": [],
   "source": [
    "profile_dict = {\n",
    "    \"organoid_fs\": {\n",
    "        \"input_profile_path\": pathlib.Path(\n",
    "            root_dir, \"data/all_patient_profiles/organoid_fs_profiles.parquet\"\n",
    "        ),\n",
    "        \"output_profile_path\": pathlib.Path(\n",
    "            root_dir, \"5.EDA/results/linear_modeling/organoid_fs.parquet\"\n",
    "        ),\n",
    "        \"metadata_columns\": [\n",
    "            \"patient\",\n",
    "            \"object_id\",\n",
    "            \"unit\",\n",
    "            \"dose\",\n",
    "            \"treatment\",\n",
    "            \"Target\",\n",
    "            \"Class\",\n",
    "            \"image_set\",\n",
    "            \"Well\",\n",
    "            \"Therapeutic Categories\",\n",
    "            \"single_cell_count\",\n",
    "        ],\n",
    "    },\n",
    "    \"single_cell_fs\": {\n",
    "        \"input_profile_path\": pathlib.Path(\n",
    "            root_dir, \"data/all_patient_profiles/sc_fs_profiles.parquet\"\n",
    "        ),\n",
    "        \"output_profile_path\": pathlib.Path(\n",
    "            root_dir, \"5.EDA/results/linear_modeling/single_cell_fs.parquet\"\n",
    "        ),\n",
    "        \"metadata_columns\": [\n",
    "            \"patient\",\n",
    "            \"object_id\",\n",
    "            \"unit\",\n",
    "            \"dose\",\n",
    "            \"treatment\",\n",
    "            \"Target\",\n",
    "            \"Class\",\n",
    "            \"image_set\",\n",
    "            \"Well\",\n",
    "            \"Therapeutic Categories\",\n",
    "            \"parent_organoid\",\n",
    "        ],\n",
    "    },\n",
    "}"
   ]
  },
  {
   "cell_type": "markdown",
   "id": "2d33968b",
   "metadata": {},
   "source": [
    "## Linear modeling \n",
    "\n",
    "We want to predict each feature given some information about the organoid per patient. We will use linear regression to do this.\n",
    "$y = X_0 * \\beta_0 + X_1 * \\beta_1 + ... + X_n * \\beta_n + \\epsilon$   \n",
    "\n",
    "Where:  \n",
    "$y$ = feature to predict   \n",
    "$\\beta_0$ = Intercept   \n",
    "$X_1$ = The treatment (e.g. control, drug)   \n",
    "$\\beta_1$ = The coefficient for the treatment   \n",
    "$\\epsilon$ = The error term   \n"
   ]
  },
  {
   "cell_type": "code",
   "execution_count": 3,
   "id": "b7e84d69",
   "metadata": {},
   "outputs": [
    {
     "data": {
      "application/vnd.jupyter.widget-view+json": {
       "model_id": "d08126dd72b8487db847e6190c282e64",
       "version_major": 2,
       "version_minor": 0
      },
      "text/plain": [
       "Loading profiles:   0%|          | 0/2 [00:00<?, ?it/s]"
      ]
     },
     "metadata": {},
     "output_type": "display_data"
    },
    {
     "data": {
      "application/vnd.jupyter.widget-view+json": {
       "model_id": "88432a1fefcc4cd9bb56d8a3480d0cff",
       "version_major": 2,
       "version_minor": 0
      },
      "text/plain": [
       "Processing patients:   0%|          | 0/8 [00:00<?, ?patient/s]"
      ]
     },
     "metadata": {},
     "output_type": "display_data"
    },
    {
     "data": {
      "application/vnd.jupyter.widget-view+json": {
       "model_id": "241662c59e0643c9a86e68b71c53eef3",
       "version_major": 2,
       "version_minor": 0
      },
      "text/plain": [
       "Processing treatment combinations:   0%|          | 0/16 [00:00<?, ?combo/s]"
      ]
     },
     "metadata": {},
     "output_type": "display_data"
    },
    {
     "data": {
      "application/vnd.jupyter.widget-view+json": {
       "model_id": "704ef3d97f8b498fbb091d7d0e6489a5",
       "version_major": 2,
       "version_minor": 0
      },
      "text/plain": [
       "Processing treatment combinations:   0%|          | 0/15 [00:00<?, ?combo/s]"
      ]
     },
     "metadata": {},
     "output_type": "display_data"
    },
    {
     "data": {
      "application/vnd.jupyter.widget-view+json": {
       "model_id": "f68f92a0b786436083f03bf5746e29ec",
       "version_major": 2,
       "version_minor": 0
      },
      "text/plain": [
       "Processing treatment combinations:   0%|          | 0/16 [00:00<?, ?combo/s]"
      ]
     },
     "metadata": {},
     "output_type": "display_data"
    },
    {
     "data": {
      "application/vnd.jupyter.widget-view+json": {
       "model_id": "95ec734cd3c1444cbb38a663951da057",
       "version_major": 2,
       "version_minor": 0
      },
      "text/plain": [
       "Processing treatment combinations:   0%|          | 0/16 [00:00<?, ?combo/s]"
      ]
     },
     "metadata": {},
     "output_type": "display_data"
    },
    {
     "data": {
      "application/vnd.jupyter.widget-view+json": {
       "model_id": "28b8015138b74810b705d3c7cff95275",
       "version_major": 2,
       "version_minor": 0
      },
      "text/plain": [
       "Processing treatment combinations:   0%|          | 0/16 [00:00<?, ?combo/s]"
      ]
     },
     "metadata": {},
     "output_type": "display_data"
    },
    {
     "data": {
      "application/vnd.jupyter.widget-view+json": {
       "model_id": "c1916b3dc9f94a2e974255f29144face",
       "version_major": 2,
       "version_minor": 0
      },
      "text/plain": [
       "Processing treatment combinations:   0%|          | 0/21 [00:00<?, ?combo/s]"
      ]
     },
     "metadata": {},
     "output_type": "display_data"
    },
    {
     "data": {
      "application/vnd.jupyter.widget-view+json": {
       "model_id": "14337ed60ffd451d8646ecf6359498c5",
       "version_major": 2,
       "version_minor": 0
      },
      "text/plain": [
       "Processing treatment combinations:   0%|          | 0/16 [00:00<?, ?combo/s]"
      ]
     },
     "metadata": {},
     "output_type": "display_data"
    },
    {
     "data": {
      "application/vnd.jupyter.widget-view+json": {
       "model_id": "e1cfde23397642b7b91d671f9ecb1866",
       "version_major": 2,
       "version_minor": 0
      },
      "text/plain": [
       "Processing treatment combinations:   0%|          | 0/16 [00:00<?, ?combo/s]"
      ]
     },
     "metadata": {},
     "output_type": "display_data"
    },
    {
     "data": {
      "application/vnd.jupyter.widget-view+json": {
       "model_id": "004fcb64acf740b8a497f2ce566cacbe",
       "version_major": 2,
       "version_minor": 0
      },
      "text/plain": [
       "Processing patients:   0%|          | 0/8 [00:00<?, ?patient/s]"
      ]
     },
     "metadata": {},
     "output_type": "display_data"
    },
    {
     "data": {
      "application/vnd.jupyter.widget-view+json": {
       "model_id": "d6bfba67eddf4b1082282c7819ff757b",
       "version_major": 2,
       "version_minor": 0
      },
      "text/plain": [
       "Processing treatment combinations:   0%|          | 0/16 [00:00<?, ?combo/s]"
      ]
     },
     "metadata": {},
     "output_type": "display_data"
    },
    {
     "data": {
      "application/vnd.jupyter.widget-view+json": {
       "model_id": "e5497da01cd74345874c7dacee38f071",
       "version_major": 2,
       "version_minor": 0
      },
      "text/plain": [
       "Processing treatment combinations:   0%|          | 0/15 [00:00<?, ?combo/s]"
      ]
     },
     "metadata": {},
     "output_type": "display_data"
    },
    {
     "data": {
      "application/vnd.jupyter.widget-view+json": {
       "model_id": "3cb2c755283d4356a701772ce0793054",
       "version_major": 2,
       "version_minor": 0
      },
      "text/plain": [
       "Processing treatment combinations:   0%|          | 0/15 [00:00<?, ?combo/s]"
      ]
     },
     "metadata": {},
     "output_type": "display_data"
    },
    {
     "data": {
      "application/vnd.jupyter.widget-view+json": {
       "model_id": "765bffed2a484ea58060ef3ea2de0ae8",
       "version_major": 2,
       "version_minor": 0
      },
      "text/plain": [
       "Processing treatment combinations:   0%|          | 0/16 [00:00<?, ?combo/s]"
      ]
     },
     "metadata": {},
     "output_type": "display_data"
    },
    {
     "data": {
      "application/vnd.jupyter.widget-view+json": {
       "model_id": "6570b8bd761048b48dc669980b390deb",
       "version_major": 2,
       "version_minor": 0
      },
      "text/plain": [
       "Processing treatment combinations:   0%|          | 0/16 [00:00<?, ?combo/s]"
      ]
     },
     "metadata": {},
     "output_type": "display_data"
    },
    {
     "data": {
      "application/vnd.jupyter.widget-view+json": {
       "model_id": "0766a4f3f08447b8b8cc0156135b1d98",
       "version_major": 2,
       "version_minor": 0
      },
      "text/plain": [
       "Processing treatment combinations:   0%|          | 0/21 [00:00<?, ?combo/s]"
      ]
     },
     "metadata": {},
     "output_type": "display_data"
    },
    {
     "data": {
      "application/vnd.jupyter.widget-view+json": {
       "model_id": "4b5222d465b84db79845876223fb4a73",
       "version_major": 2,
       "version_minor": 0
      },
      "text/plain": [
       "Processing treatment combinations:   0%|          | 0/16 [00:00<?, ?combo/s]"
      ]
     },
     "metadata": {},
     "output_type": "display_data"
    },
    {
     "data": {
      "application/vnd.jupyter.widget-view+json": {
       "model_id": "573878c7a8d149d083905e020a62b3ea",
       "version_major": 2,
       "version_minor": 0
      },
      "text/plain": [
       "Processing treatment combinations:   0%|          | 0/16 [00:00<?, ?combo/s]"
      ]
     },
     "metadata": {},
     "output_type": "display_data"
    }
   ],
   "source": [
    "for profile in tqdm(profile_dict.keys(), desc=\"Loading profiles\"):\n",
    "    # set the output dictionary for linear modeling results\n",
    "    # per profile\n",
    "    linear_modeling_results_dict = {\n",
    "        \"patient\": [],\n",
    "        \"treatment\": [],\n",
    "        \"feature\": [],\n",
    "        \"rsquared\": [],\n",
    "        \"rsquared_adj\": [],\n",
    "        \"fvalue\": [],\n",
    "        \"pvalue\": [],\n",
    "        \"coefficient\": [],\n",
    "        \"intercept\": [],\n",
    "    }\n",
    "    metadata_columns = profile_dict[profile][\"metadata_columns\"]\n",
    "    df = pd.read_parquet(profile_dict[profile][\"input_profile_path\"])\n",
    "    # rename feature columns as the \".\" dod not play nice with the formula\n",
    "    for col in df.columns:\n",
    "        new_col = col.replace(\n",
    "            \".\", \"\"\n",
    "        )  # Replace . with empty string for compatibility in formula\n",
    "        df.rename(columns={col: new_col}, inplace=True)\n",
    "\n",
    "    for patient in tqdm(\n",
    "        df[\"patient\"].unique(), desc=\"Processing patients\", unit=\"patient\", leave=False\n",
    "    ):\n",
    "        df_patient = df.loc[df[\"patient\"] == patient]\n",
    "\n",
    "        # Filter for specific treatments\n",
    "        df_patient_trt = df_patient.loc[df_patient[\"treatment\"].isin([\"DMSO\"])]\n",
    "        combo_list = [\n",
    "            (\"DMSO\", i) for i in df_patient[\"treatment\"].unique() if i != \"DMSO\"\n",
    "        ]\n",
    "        for combo in tqdm(\n",
    "            combo_list,\n",
    "            desc=\"Processing treatment combinations\",\n",
    "            unit=\"combo\",\n",
    "            leave=False,\n",
    "        ):\n",
    "            df_patient_trt = df_patient.loc[df_patient[\"treatment\"].isin(combo)]\n",
    "            # order the treatment column to ensure DMSO is first\n",
    "            df_patient_trt[\"treatment\"] = pd.Categorical(\n",
    "                df_patient_trt[\"treatment\"],\n",
    "                categories=[\"DMSO\"]\n",
    "                + [\n",
    "                    other_treatment\n",
    "                    for other_treatment in df_patient[\"treatment\"].unique()\n",
    "                    if other_treatment != \"DMSO\"\n",
    "                ],\n",
    "            )\n",
    "            for col in df_patient_trt.columns:\n",
    "                if col not in metadata_columns:\n",
    "                    # Prepare the formula for the linear model\n",
    "                    formula = f\"{col} ~ C(treatment) + C(patient)\"\n",
    "                    # Import statsmodels and run the linear model\n",
    "                    model = smf.ols(formula=formula, data=df_patient_trt)\n",
    "                    results = model.fit()\n",
    "                    linear_modeling_results_dict[\"patient\"].append(patient)\n",
    "                    linear_modeling_results_dict[\"treatment\"].append(combo[1])\n",
    "                    linear_modeling_results_dict[\"feature\"].append(col)\n",
    "                    linear_modeling_results_dict[\"rsquared\"].append(results.rsquared)\n",
    "                    linear_modeling_results_dict[\"rsquared_adj\"].append(\n",
    "                        results.rsquared_adj\n",
    "                    )\n",
    "                    linear_modeling_results_dict[\"fvalue\"].append(results.fvalue)\n",
    "                    linear_modeling_results_dict[\"pvalue\"].append(\n",
    "                        results.pvalues[f\"C(treatment)[T.{combo[1]}]\"]\n",
    "                    )\n",
    "                    linear_modeling_results_dict[\"coefficient\"].append(\n",
    "                        results.params[f\"C(treatment)[T.{combo[1]}]\"].item()\n",
    "                    )\n",
    "                    linear_modeling_results_dict[\"intercept\"].append(\n",
    "                        results.params[\"Intercept\"].item()\n",
    "                    )\n",
    "    linear_modeling_results_df = pd.DataFrame(linear_modeling_results_dict)\n",
    "    # split the feature column into multiple columns\n",
    "    linear_modeling_results_df[\"feature\"].str.split(\"_\", expand=True)\n",
    "    linear_modeling_results_df[\n",
    "        [\"Feature_type\", \"Compartment\", \"Channel\", \"Measurement\", \"Extra_info\"]\n",
    "    ] = linear_modeling_results_df[\"feature\"].str.split(\"_\", expand=True)\n",
    "\n",
    "    # if feature type is area shape then make the measurement the channel and\n",
    "    # set the channel to None\n",
    "    linear_modeling_results_df.loc[\n",
    "        linear_modeling_results_df[\"Feature_type\"] == \"AreaSizeShape\", \"Measurement\"\n",
    "    ] = linear_modeling_results_df[\"Channel\"]\n",
    "    linear_modeling_results_df.loc[\n",
    "        linear_modeling_results_df[\"Feature_type\"] == \"AreaSizeShape\", \"Channel\"\n",
    "    ] = None\n",
    "    # set compartment to None if is adjacent\n",
    "    linear_modeling_results_df.loc[\n",
    "        linear_modeling_results_df[\"Compartment\"] == \"adjacent\", \"Compartment\"\n",
    "    ] = None\n",
    "\n",
    "    profile_dict[profile][\"output_profile_path\"].parent.mkdir(\n",
    "        parents=True, exist_ok=True\n",
    "    )\n",
    "    linear_modeling_results_df.to_parquet(\n",
    "        profile_dict[profile][\"output_profile_path\"], index=False\n",
    "    )"
   ]
  }
 ],
 "metadata": {
  "kernelspec": {
   "display_name": "GFF_analysis",
   "language": "python",
   "name": "python3"
  },
  "language_info": {
   "codemirror_mode": {
    "name": "ipython",
    "version": 3
   },
   "file_extension": ".py",
   "mimetype": "text/x-python",
   "name": "python",
   "nbconvert_exporter": "python",
   "pygments_lexer": "ipython3",
   "version": "3.12.11"
  }
 },
 "nbformat": 4,
 "nbformat_minor": 5
}
