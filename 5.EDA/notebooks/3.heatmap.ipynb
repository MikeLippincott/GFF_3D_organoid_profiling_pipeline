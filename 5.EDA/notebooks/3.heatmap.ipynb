{
 "cells": [
  {
   "cell_type": "code",
   "execution_count": 1,
   "id": "5f3acf55",
   "metadata": {
    "vscode": {
     "languageId": "r"
    }
   },
   "outputs": [],
   "source": [
    "list_of_packages <- c(\n",
    "       \"ggplot2\",\n",
    "       \"dplyr\",\n",
    "       \"tidyr\",\n",
    "       \"ComplexHeatmap\",\n",
    "       \"tibble\",\n",
    "       \"RColorBrewer\",\n",
    "       \"scales\",\n",
    "       \"circlize\",\n",
    "       \"argparse\"\n",
    ")\n",
    "if (!requireNamespace(\"BiocManager\", quietly=TRUE))\n",
    "    install.packages(\"BiocManager\")\n",
    "\n",
    "if (!requireNamespace(\"ComplexHeatmap\", quietly = TRUE)) {\n",
    "    BiocManager::install(\"ComplexHeatmap\")\n",
    "}\n",
    "for (package in list_of_packages) {\n",
    "    suppressPackageStartupMessages(\n",
    "        suppressWarnings(\n",
    "            library(\n",
    "                package,\n",
    "                character.only = TRUE,\n",
    "                quietly = TRUE,\n",
    "                warn.conflicts = FALSE\n",
    "            )\n",
    "        )\n",
    "    )\n",
    "}"
   ]
  },
  {
   "cell_type": "code",
   "execution_count": 2,
   "id": "965532df",
   "metadata": {
    "vscode": {
     "languageId": "r"
    }
   },
   "outputs": [],
   "source": [
    "# set custom colors for each MOA\n",
    "custom_MOA_palette <- c(\n",
    "    'BRD4 inhibitor' = \"#93152A\",  # Dark red\n",
    "    'receptor tyrosine kinase inhibitor' = \"#BA3924\",  # Red\n",
    "    'tyrosine kinase inhibitor' = \"#D08543\",  # Orange\n",
    "    'MEK1/2 inhibitor' = \"#A1961A\",  # Yellow-green/olive\n",
    "\n",
    "    'IGF-1R inhibitor' = \"#9FC62A\",  # Yellow-green\n",
    "    'mTOR inhibitor' = \"#1FAD23\",  # Green\n",
    "    'PI3K inhibitor' = \"#32D06A\",  # Light green\n",
    "    'PI3K and HDAC inhibitor' = \"#15937C\",  # Teal/dark green\n",
    "    'HDAC inhibitor' = \"#24A5BA\",  # Light blue/cyan\n",
    "\n",
    "    'Apoptosis induction' = \"#438CD0\",  # Medium blue\n",
    "    'DNA binding' = \"#1A24A1\",  # Dark blue\n",
    "    'HSP90 inhibitor' = \"#532AC6\",  # Blue-purple\n",
    "\n",
    "    'histamine H1 receptor antagonist' = \"#AD1FA6\",  # Purple/magenta\n",
    "    'Na+/K+ pump inhibitor' = \"#D03294\",  # Pink/magenta\n",
    "\n",
    "    'Control' = \"#444444\"  # Gray\n",
    ")\n",
    "    "
   ]
  },
  {
   "cell_type": "code",
   "execution_count": 3,
   "id": "0bf43cbb",
   "metadata": {
    "vscode": {
     "languageId": "r"
    }
   },
   "outputs": [
    {
     "name": "stdout",
     "output_type": "stream",
     "text": [
      "Git root directory: /home/lippincm/Documents/GFF_3D_organoid_profiling_pipeline \n"
     ]
    }
   ],
   "source": [
    "# Get the current working directory and find Git root\n",
    "find_git_root <- function() {\n",
    "    # Get current working directory\n",
    "    cwd <- getwd()\n",
    "    \n",
    "    # Check if current directory has .git\n",
    "    if (dir.exists(file.path(cwd, \".git\"))) {\n",
    "        return(cwd)\n",
    "    }\n",
    "    \n",
    "    # If not, search parent directories\n",
    "    current_path <- cwd\n",
    "    while (dirname(current_path) != current_path) {  # While not at root\n",
    "        parent_path <- dirname(current_path)\n",
    "        if (dir.exists(file.path(parent_path, \".git\"))) {\n",
    "            return(parent_path)\n",
    "        }\n",
    "        current_path <- parent_path\n",
    "    }\n",
    "    \n",
    "    # If no Git root found, stop with error\n",
    "    stop(\"No Git root directory found.\")\n",
    "}\n",
    "\n",
    "# Find the Git root directory\n",
    "root_dir <- find_git_root()\n",
    "cat(\"Git root directory:\", root_dir, \"\\n\")"
   ]
  },
  {
   "cell_type": "code",
   "execution_count": 4,
   "id": "5d1f14d8",
   "metadata": {
    "vscode": {
     "languageId": "r"
    }
   },
   "outputs": [],
   "source": [
    "sc_consensus_df <- arrow::read_parquet(file.path(root_dir,\"data/all_patient_profiles/sc_consensus_profiles.parquet\"))\n",
    "sc_fs_df <- arrow::read_parquet(file.path(root_dir,\"data/all_patient_profiles/sc_fs_profiles.parquet\"))\n",
    "\n",
    "# drop the therapeutic category column\n",
    "sc_consensus_df <- sc_consensus_df %>%\n",
    "  select(-`Therapeutic Categories`)\n",
    "sc_fs_df <- sc_fs_df %>%\n",
    "  select(-`Therapeutic Categories`)\n",
    "\n",
    "\n",
    "organoid_consensus_df <- arrow::read_parquet(file.path(root_dir,\"data/all_patient_profiles/organoid_fs_profiles.parquet\"))\n",
    "organoid_fs_df <- arrow::read_parquet(file.path(root_dir,\"data/all_patient_profiles/organoid_consensus_profiles.parquet\"))\n",
    "# drop the therapeutic category column\n",
    "organoid_consensus_df <- organoid_consensus_df %>%\n",
    "  select(-`Therapeutic Categories`)\n",
    "organoid_fs_df <- organoid_fs_df %>%\n",
    "  select(-`Therapeutic Categories`)\n",
    "\n",
    "\n",
    "sc_consensus_heatmap_file_path <- file.path(\n",
    "    root_dir,\n",
    "    paste0(\"5.EDA/figures/heatmaps/sc_consensus_heatmap.png\")\n",
    ")\n",
    "sc_fs_heatmap_file_path <- file.path(\n",
    "    root_dir,\n",
    "    paste0(\"5.EDA/figures/heatmaps/sc_fs_heatmap.png\")\n",
    ")\n",
    "organoid_consensus_heatmap_file_path <- file.path(\n",
    "    root_dir,\n",
    "    paste0(\"5.EDA/figures/heatmaps/organoid_fs_heatmap.png\")\n",
    ")\n",
    "organoid_consensus_heatmap_file_path <- file.path(\n",
    "    root_dir,\n",
    "    paste0(\"5.EDA/figures/heatmaps/organoid_consensus_heatmap.png\")\n",
    ")\n",
    "\n",
    "if (!dir.exists(file.path(root_dir,paste0(\"5.EDA/figures/consensus_heatmaps/\")))) {\n",
    "    dir.create(file.path(root_dir,paste0(\"5.EDA/figures/consensus_heatmaps/\")), recursive = TRUE)\n",
    "}"
   ]
  },
  {
   "cell_type": "markdown",
   "id": "26b81744",
   "metadata": {},
   "source": [
    "## Single-cell heatmap of consensus profiles"
   ]
  },
  {
   "cell_type": "code",
   "execution_count": 5,
   "metadata": {
    "vscode": {
     "languageId": "r"
    }
   },
   "outputs": [
    {
     "data": {
      "text/html": [
       "<table class=\"dataframe\">\n",
       "<caption>A tibble: 6 × 324</caption>\n",
       "<thead>\n",
       "\t<tr><th scope=col>patient</th><th scope=col>treatment</th><th scope=col>dose</th><th scope=col>unit</th><th scope=col>Target</th><th scope=col>Class</th><th scope=col>Colocalization_Nuclei_AGP.BF_MEAN.CORRELATION.COEFF</th><th scope=col>Colocalization_Nuclei_AGP.BF_MEDIAN.OVERLAP.COEFF</th><th scope=col>Colocalization_Nuclei_AGP.BF_MIN.K1</th><th scope=col>Colocalization_Nuclei_AGP.BF_MEDIAN.K2</th><th scope=col>⋯</th><th scope=col>Texture_Cytoplasm_DNA_Sum.Variance_256.3</th><th scope=col>Texture_Cytoplasm_ER_Information.Measure.of.Correlation.1_256.3</th><th scope=col>Texture_Cytoplasm_ER_Sum.Average_256.3</th><th scope=col>Texture_Cytoplasm_ER_Sum.Variance_256.3</th><th scope=col>Texture_Cytoplasm_Mito_Angular.Second.Moment_256.3</th><th scope=col>Texture_Cytoplasm_Mito_Entropy_256.3</th><th scope=col>Texture_Cytoplasm_Mito_Sum.Average_256.3</th><th scope=col>Texture_Cytoplasm_Mito_Sum.Variance_256.3</th><th scope=col>Area.Size.Shape_Cytoplasm_EXTENT</th><th scope=col>Area.Size.Shape_Cytoplasm_EULER.NUMBER</th></tr>\n",
       "\t<tr><th scope=col>&lt;chr&gt;</th><th scope=col>&lt;chr&gt;</th><th scope=col>&lt;int&gt;</th><th scope=col>&lt;chr&gt;</th><th scope=col>&lt;chr&gt;</th><th scope=col>&lt;chr&gt;</th><th scope=col>&lt;dbl&gt;</th><th scope=col>&lt;dbl&gt;</th><th scope=col>&lt;dbl&gt;</th><th scope=col>&lt;dbl&gt;</th><th scope=col>⋯</th><th scope=col>&lt;dbl&gt;</th><th scope=col>&lt;dbl&gt;</th><th scope=col>&lt;dbl&gt;</th><th scope=col>&lt;dbl&gt;</th><th scope=col>&lt;dbl&gt;</th><th scope=col>&lt;dbl&gt;</th><th scope=col>&lt;dbl&gt;</th><th scope=col>&lt;dbl&gt;</th><th scope=col>&lt;dbl&gt;</th><th scope=col>&lt;dbl&gt;</th></tr>\n",
       "</thead>\n",
       "<tbody>\n",
       "\t<tr><td>NF0014</td><td>Binimetinib </td><td> 1</td><td>uM</td><td>MEK1/2 inhibitor                  </td><td>Small Molecule</td><td>-0.184286877</td><td>-0.2696301</td><td>-0.5546923</td><td> 0.69828480</td><td>⋯</td><td>-0.6078762</td><td> 0.81328001</td><td>-0.3207563</td><td>-0.6362506</td><td>0.16294736</td><td>-0.17587940</td><td>-0.30056008</td><td>-0.5775799</td><td>-0.2369790</td><td>0.6454788</td></tr>\n",
       "\t<tr><td>NF0014</td><td>Binimetinib </td><td>10</td><td>uM</td><td>MEK1/2 inhibitor                  </td><td>Small Molecule</td><td> 0.041784987</td><td>-0.2720046</td><td>-0.4280600</td><td> 0.23078306</td><td>⋯</td><td>-0.2694585</td><td> 0.16557612</td><td>-0.1905483</td><td>-0.4878529</td><td>0.10140500</td><td>-0.05436916</td><td>-0.09947429</td><td>-0.0911417</td><td> 0.1752891</td><td>0.3543646</td></tr>\n",
       "\t<tr><td>NF0014</td><td>Cabozantinib</td><td> 1</td><td>uM</td><td>receptor tyrosine kinase inhibitor</td><td>Small Molecule</td><td>-0.127693596</td><td>-0.2718612</td><td>-0.2856468</td><td>-0.04076079</td><td>⋯</td><td>-0.4953348</td><td>-0.10436933</td><td>-0.2032715</td><td>-0.4849034</td><td>0.07571865</td><td>-0.08234846</td><td>-0.10150561</td><td>-0.1909708</td><td> 0.1326024</td><td>0.7702421</td></tr>\n",
       "\t<tr><td>NF0014</td><td>Copanlisib  </td><td> 1</td><td>uM</td><td>PI3K inhibitor                    </td><td>Small Molecule</td><td> 0.129020724</td><td>-0.2718509</td><td>-0.6817242</td><td> 0.90742841</td><td>⋯</td><td>-0.5379934</td><td>-0.28380462</td><td>-0.2394025</td><td>-0.5785306</td><td>0.12357408</td><td>-0.12976626</td><td>-0.23204146</td><td>-0.4355310</td><td> 0.3662346</td><td>0.6870666</td></tr>\n",
       "\t<tr><td>NF0014</td><td>DMSO        </td><td> 1</td><td>% </td><td>Control                           </td><td>Control       </td><td> 0.008679333</td><td>-0.2717297</td><td>-0.3745944</td><td> 0.13414816</td><td>⋯</td><td>-0.2136145</td><td>-0.04903773</td><td>-0.1566772</td><td>-0.2470003</td><td>0.11821235</td><td>-0.13032451</td><td>-0.16721769</td><td>-0.2421911</td><td>-0.1109101</td><td>0.1048382</td></tr>\n",
       "\t<tr><td>NF0014</td><td>Digoxin     </td><td> 1</td><td>uM</td><td>Na+/K+ pump inhibitor             </td><td>Small Molecule</td><td> 0.046008727</td><td>-0.2731856</td><td>-0.1678502</td><td>-0.29842884</td><td>⋯</td><td>-0.7669261</td><td> 0.31327677</td><td>-0.3503632</td><td>-0.7361118</td><td>0.13633487</td><td>-0.13011232</td><td>-0.33137646</td><td>-0.7403713</td><td> 0.7278250</td><td>0.8742114</td></tr>\n",
       "</tbody>\n",
       "</table>\n"
      ],
      "text/latex": [
       "A tibble: 6 × 324\n",
       "\\begin{tabular}{lllllllllllllllllllll}\n",
       " patient & treatment & dose & unit & Target & Class & Colocalization\\_Nuclei\\_AGP.BF\\_MEAN.CORRELATION.COEFF & Colocalization\\_Nuclei\\_AGP.BF\\_MEDIAN.OVERLAP.COEFF & Colocalization\\_Nuclei\\_AGP.BF\\_MIN.K1 & Colocalization\\_Nuclei\\_AGP.BF\\_MEDIAN.K2 & ⋯ & Texture\\_Cytoplasm\\_DNA\\_Sum.Variance\\_256.3 & Texture\\_Cytoplasm\\_ER\\_Information.Measure.of.Correlation.1\\_256.3 & Texture\\_Cytoplasm\\_ER\\_Sum.Average\\_256.3 & Texture\\_Cytoplasm\\_ER\\_Sum.Variance\\_256.3 & Texture\\_Cytoplasm\\_Mito\\_Angular.Second.Moment\\_256.3 & Texture\\_Cytoplasm\\_Mito\\_Entropy\\_256.3 & Texture\\_Cytoplasm\\_Mito\\_Sum.Average\\_256.3 & Texture\\_Cytoplasm\\_Mito\\_Sum.Variance\\_256.3 & Area.Size.Shape\\_Cytoplasm\\_EXTENT & Area.Size.Shape\\_Cytoplasm\\_EULER.NUMBER\\\\\n",
       " <chr> & <chr> & <int> & <chr> & <chr> & <chr> & <dbl> & <dbl> & <dbl> & <dbl> & ⋯ & <dbl> & <dbl> & <dbl> & <dbl> & <dbl> & <dbl> & <dbl> & <dbl> & <dbl> & <dbl>\\\\\n",
       "\\hline\n",
       "\t NF0014 & Binimetinib  &  1 & uM & MEK1/2 inhibitor                   & Small Molecule & -0.184286877 & -0.2696301 & -0.5546923 &  0.69828480 & ⋯ & -0.6078762 &  0.81328001 & -0.3207563 & -0.6362506 & 0.16294736 & -0.17587940 & -0.30056008 & -0.5775799 & -0.2369790 & 0.6454788\\\\\n",
       "\t NF0014 & Binimetinib  & 10 & uM & MEK1/2 inhibitor                   & Small Molecule &  0.041784987 & -0.2720046 & -0.4280600 &  0.23078306 & ⋯ & -0.2694585 &  0.16557612 & -0.1905483 & -0.4878529 & 0.10140500 & -0.05436916 & -0.09947429 & -0.0911417 &  0.1752891 & 0.3543646\\\\\n",
       "\t NF0014 & Cabozantinib &  1 & uM & receptor tyrosine kinase inhibitor & Small Molecule & -0.127693596 & -0.2718612 & -0.2856468 & -0.04076079 & ⋯ & -0.4953348 & -0.10436933 & -0.2032715 & -0.4849034 & 0.07571865 & -0.08234846 & -0.10150561 & -0.1909708 &  0.1326024 & 0.7702421\\\\\n",
       "\t NF0014 & Copanlisib   &  1 & uM & PI3K inhibitor                     & Small Molecule &  0.129020724 & -0.2718509 & -0.6817242 &  0.90742841 & ⋯ & -0.5379934 & -0.28380462 & -0.2394025 & -0.5785306 & 0.12357408 & -0.12976626 & -0.23204146 & -0.4355310 &  0.3662346 & 0.6870666\\\\\n",
       "\t NF0014 & DMSO         &  1 & \\%  & Control                            & Control        &  0.008679333 & -0.2717297 & -0.3745944 &  0.13414816 & ⋯ & -0.2136145 & -0.04903773 & -0.1566772 & -0.2470003 & 0.11821235 & -0.13032451 & -0.16721769 & -0.2421911 & -0.1109101 & 0.1048382\\\\\n",
       "\t NF0014 & Digoxin      &  1 & uM & Na+/K+ pump inhibitor              & Small Molecule &  0.046008727 & -0.2731856 & -0.1678502 & -0.29842884 & ⋯ & -0.7669261 &  0.31327677 & -0.3503632 & -0.7361118 & 0.13633487 & -0.13011232 & -0.33137646 & -0.7403713 &  0.7278250 & 0.8742114\\\\\n",
       "\\end{tabular}\n"
      ],
      "text/markdown": [
       "\n",
       "A tibble: 6 × 324\n",
       "\n",
       "| patient &lt;chr&gt; | treatment &lt;chr&gt; | dose &lt;int&gt; | unit &lt;chr&gt; | Target &lt;chr&gt; | Class &lt;chr&gt; | Colocalization_Nuclei_AGP.BF_MEAN.CORRELATION.COEFF &lt;dbl&gt; | Colocalization_Nuclei_AGP.BF_MEDIAN.OVERLAP.COEFF &lt;dbl&gt; | Colocalization_Nuclei_AGP.BF_MIN.K1 &lt;dbl&gt; | Colocalization_Nuclei_AGP.BF_MEDIAN.K2 &lt;dbl&gt; | ⋯ ⋯ | Texture_Cytoplasm_DNA_Sum.Variance_256.3 &lt;dbl&gt; | Texture_Cytoplasm_ER_Information.Measure.of.Correlation.1_256.3 &lt;dbl&gt; | Texture_Cytoplasm_ER_Sum.Average_256.3 &lt;dbl&gt; | Texture_Cytoplasm_ER_Sum.Variance_256.3 &lt;dbl&gt; | Texture_Cytoplasm_Mito_Angular.Second.Moment_256.3 &lt;dbl&gt; | Texture_Cytoplasm_Mito_Entropy_256.3 &lt;dbl&gt; | Texture_Cytoplasm_Mito_Sum.Average_256.3 &lt;dbl&gt; | Texture_Cytoplasm_Mito_Sum.Variance_256.3 &lt;dbl&gt; | Area.Size.Shape_Cytoplasm_EXTENT &lt;dbl&gt; | Area.Size.Shape_Cytoplasm_EULER.NUMBER &lt;dbl&gt; |\n",
       "|---|---|---|---|---|---|---|---|---|---|---|---|---|---|---|---|---|---|---|---|---|\n",
       "| NF0014 | Binimetinib  |  1 | uM | MEK1/2 inhibitor                   | Small Molecule | -0.184286877 | -0.2696301 | -0.5546923 |  0.69828480 | ⋯ | -0.6078762 |  0.81328001 | -0.3207563 | -0.6362506 | 0.16294736 | -0.17587940 | -0.30056008 | -0.5775799 | -0.2369790 | 0.6454788 |\n",
       "| NF0014 | Binimetinib  | 10 | uM | MEK1/2 inhibitor                   | Small Molecule |  0.041784987 | -0.2720046 | -0.4280600 |  0.23078306 | ⋯ | -0.2694585 |  0.16557612 | -0.1905483 | -0.4878529 | 0.10140500 | -0.05436916 | -0.09947429 | -0.0911417 |  0.1752891 | 0.3543646 |\n",
       "| NF0014 | Cabozantinib |  1 | uM | receptor tyrosine kinase inhibitor | Small Molecule | -0.127693596 | -0.2718612 | -0.2856468 | -0.04076079 | ⋯ | -0.4953348 | -0.10436933 | -0.2032715 | -0.4849034 | 0.07571865 | -0.08234846 | -0.10150561 | -0.1909708 |  0.1326024 | 0.7702421 |\n",
       "| NF0014 | Copanlisib   |  1 | uM | PI3K inhibitor                     | Small Molecule |  0.129020724 | -0.2718509 | -0.6817242 |  0.90742841 | ⋯ | -0.5379934 | -0.28380462 | -0.2394025 | -0.5785306 | 0.12357408 | -0.12976626 | -0.23204146 | -0.4355310 |  0.3662346 | 0.6870666 |\n",
       "| NF0014 | DMSO         |  1 | %  | Control                            | Control        |  0.008679333 | -0.2717297 | -0.3745944 |  0.13414816 | ⋯ | -0.2136145 | -0.04903773 | -0.1566772 | -0.2470003 | 0.11821235 | -0.13032451 | -0.16721769 | -0.2421911 | -0.1109101 | 0.1048382 |\n",
       "| NF0014 | Digoxin      |  1 | uM | Na+/K+ pump inhibitor              | Small Molecule |  0.046008727 | -0.2731856 | -0.1678502 | -0.29842884 | ⋯ | -0.7669261 |  0.31327677 | -0.3503632 | -0.7361118 | 0.13633487 | -0.13011232 | -0.33137646 | -0.7403713 |  0.7278250 | 0.8742114 |\n",
       "\n"
      ],
      "text/plain": [
       "  patient treatment    dose unit Target                            \n",
       "1 NF0014  Binimetinib   1   uM   MEK1/2 inhibitor                  \n",
       "2 NF0014  Binimetinib  10   uM   MEK1/2 inhibitor                  \n",
       "3 NF0014  Cabozantinib  1   uM   receptor tyrosine kinase inhibitor\n",
       "4 NF0014  Copanlisib    1   uM   PI3K inhibitor                    \n",
       "5 NF0014  DMSO          1   %    Control                           \n",
       "6 NF0014  Digoxin       1   uM   Na+/K+ pump inhibitor             \n",
       "  Class          Colocalization_Nuclei_AGP.BF_MEAN.CORRELATION.COEFF\n",
       "1 Small Molecule -0.184286877                                       \n",
       "2 Small Molecule  0.041784987                                       \n",
       "3 Small Molecule -0.127693596                                       \n",
       "4 Small Molecule  0.129020724                                       \n",
       "5 Control         0.008679333                                       \n",
       "6 Small Molecule  0.046008727                                       \n",
       "  Colocalization_Nuclei_AGP.BF_MEDIAN.OVERLAP.COEFF\n",
       "1 -0.2696301                                       \n",
       "2 -0.2720046                                       \n",
       "3 -0.2718612                                       \n",
       "4 -0.2718509                                       \n",
       "5 -0.2717297                                       \n",
       "6 -0.2731856                                       \n",
       "  Colocalization_Nuclei_AGP.BF_MIN.K1 Colocalization_Nuclei_AGP.BF_MEDIAN.K2 ⋯\n",
       "1 -0.5546923                           0.69828480                            ⋯\n",
       "2 -0.4280600                           0.23078306                            ⋯\n",
       "3 -0.2856468                          -0.04076079                            ⋯\n",
       "4 -0.6817242                           0.90742841                            ⋯\n",
       "5 -0.3745944                           0.13414816                            ⋯\n",
       "6 -0.1678502                          -0.29842884                            ⋯\n",
       "  Texture_Cytoplasm_DNA_Sum.Variance_256.3\n",
       "1 -0.6078762                              \n",
       "2 -0.2694585                              \n",
       "3 -0.4953348                              \n",
       "4 -0.5379934                              \n",
       "5 -0.2136145                              \n",
       "6 -0.7669261                              \n",
       "  Texture_Cytoplasm_ER_Information.Measure.of.Correlation.1_256.3\n",
       "1  0.81328001                                                    \n",
       "2  0.16557612                                                    \n",
       "3 -0.10436933                                                    \n",
       "4 -0.28380462                                                    \n",
       "5 -0.04903773                                                    \n",
       "6  0.31327677                                                    \n",
       "  Texture_Cytoplasm_ER_Sum.Average_256.3\n",
       "1 -0.3207563                            \n",
       "2 -0.1905483                            \n",
       "3 -0.2032715                            \n",
       "4 -0.2394025                            \n",
       "5 -0.1566772                            \n",
       "6 -0.3503632                            \n",
       "  Texture_Cytoplasm_ER_Sum.Variance_256.3\n",
       "1 -0.6362506                             \n",
       "2 -0.4878529                             \n",
       "3 -0.4849034                             \n",
       "4 -0.5785306                             \n",
       "5 -0.2470003                             \n",
       "6 -0.7361118                             \n",
       "  Texture_Cytoplasm_Mito_Angular.Second.Moment_256.3\n",
       "1 0.16294736                                        \n",
       "2 0.10140500                                        \n",
       "3 0.07571865                                        \n",
       "4 0.12357408                                        \n",
       "5 0.11821235                                        \n",
       "6 0.13633487                                        \n",
       "  Texture_Cytoplasm_Mito_Entropy_256.3 Texture_Cytoplasm_Mito_Sum.Average_256.3\n",
       "1 -0.17587940                          -0.30056008                             \n",
       "2 -0.05436916                          -0.09947429                             \n",
       "3 -0.08234846                          -0.10150561                             \n",
       "4 -0.12976626                          -0.23204146                             \n",
       "5 -0.13032451                          -0.16721769                             \n",
       "6 -0.13011232                          -0.33137646                             \n",
       "  Texture_Cytoplasm_Mito_Sum.Variance_256.3 Area.Size.Shape_Cytoplasm_EXTENT\n",
       "1 -0.5775799                                -0.2369790                      \n",
       "2 -0.0911417                                 0.1752891                      \n",
       "3 -0.1909708                                 0.1326024                      \n",
       "4 -0.4355310                                 0.3662346                      \n",
       "5 -0.2421911                                -0.1109101                      \n",
       "6 -0.7403713                                 0.7278250                      \n",
       "  Area.Size.Shape_Cytoplasm_EULER.NUMBER\n",
       "1 0.6454788                             \n",
       "2 0.3543646                             \n",
       "3 0.7702421                             \n",
       "4 0.6870666                             \n",
       "5 0.1048382                             \n",
       "6 0.8742114                             "
      ]
     },
     "metadata": {},
     "output_type": "display_data"
    }
   ],
   "source": [
    "sc_consensus_df <- head(sc_consensus_df, 100)\n",
    "head(sc_consensus_df)"
   ]
  },
  {
   "cell_type": "code",
   "execution_count": 6,
   "id": "926ca3e6",
   "metadata": {
    "vscode": {
     "languageId": "r"
    }
   },
   "outputs": [],
   "source": [
    "# drop columns that contain neighbors\n",
    "sc_consensus_df <- sc_consensus_df %>%\n",
    "  select(-contains(\"Neighbors\"))"
   ]
  },
  {
   "cell_type": "code",
   "execution_count": 7,
   "id": "3f9134ac",
   "metadata": {
    "vscode": {
     "languageId": "r"
    }
   },
   "outputs": [],
   "source": [
    "column_anno <- HeatmapAnnotation(\n",
    "    Target = sc_consensus_df$Target,\n",
    "    show_legend = TRUE,\n",
    "    annotation_name_gp = gpar(fontsize = 16),\n",
    "    annotation_legend_param = list(\n",
    "        title_position = \"topcenter\", \n",
    "        title_gp = gpar(fontsize = 16, angle = 0, fontface = \"bold\", hjust = 1.0),\n",
    "        labels_gp = gpar(fontsize = 16, \n",
    "        title = gpar(fontsize = 16))),\n",
    "    col = list(\n",
    "            Target = custom_MOA_palette\n",
    "        )\n",
    ")\n",
    "patient_columns_anno <- HeatmapAnnotation(\n",
    "    patient = sc_consensus_df$patient,\n",
    "    show_legend = TRUE,\n",
    "    annotation_name_gp = gpar(fontsize = 16),\n",
    "    annotation_legend_param = list(\n",
    "        title_position = \"topcenter\", \n",
    "        title_gp = gpar(fontsize = 16, angle = 0, fontface = \"bold\", hjust = 1.0),\n",
    "        labels_gp = gpar(fontsize = 16, \n",
    "        title = gpar(fontsize = 16)))\n",
    "\n",
    ")\n",
    "\n",
    "column_annotations = c(column_anno, patient_columns_anno)"
   ]
  },
  {
   "cell_type": "code",
   "execution_count": 8,
   "id": "21482d30",
   "metadata": {
    "vscode": {
     "languageId": "r"
    }
   },
   "outputs": [],
   "source": [
    "# get the list of features\n",
    "features <- colnames(sc_consensus_df)\n",
    "features <- features[!features %in% c(\"treatment\", \"Target\", \"Class\", \"single_cell_count\",\n",
    "         \"parent_organoid\")]\n",
    "features <- as.data.frame(features)\n",
    "rownames(features) <- features$features\n",
    "# split the features by _ into multiple columns\n",
    "features <- features %>% \n",
    "    separate(features, into = c(\"Feature Type\", \"Compartment\", \"Channel\", \"Measurement\"), sep = \"_\", extra = \"merge\", fill = \"right\")\n",
    "# if Feature type is AreaSizeShape then shift the Channel to the Measurement column and set Channel to NA\n",
    "features <- features %>%\n",
    "    mutate(\n",
    "        Measurement = ifelse(`Feature Type` == \"Area.Size.Shape\", Channel, Measurement)\n",
    "    )\n",
    "features <- features %>%\n",
    "    mutate(\n",
    "        Channel = ifelse(`Feature Type` == \"Area.Size.Shape\", \"None\", Channel)\n",
    "    )\n",
    "\n",
    "# select the first channel for colocalization features channels are split by .\n",
    "features <- features %>%\n",
    "    mutate(\n",
    "        Channel = ifelse(`Feature Type` == \"Colocalization\", \n",
    "                         sub(\"\\\\..*\", \"\", Channel), \n",
    "                         Channel)\n",
    "    )\n",
    "\n",
    "\n",
    "# sort by feature type\n",
    "features <- features %>%\n",
    "    arrange(`Feature Type`, Compartment, Channel, Measurement)"
   ]
  },
  {
   "cell_type": "code",
   "execution_count": 9,
   "id": "835f907f",
   "metadata": {
    "vscode": {
     "languageId": "r"
    }
   },
   "outputs": [],
   "source": [
    "# compartment row annotation\n",
    "row_compartment = rowAnnotation(\n",
    "    Object = features$Compartment,\n",
    "        show_legend = TRUE,\n",
    "    # change the legend titles\n",
    "    annotation_legend_param = list(\n",
    "        title_position = \"topcenter\", \n",
    "        title_gp = gpar(fontsize = 16, angle = 0, fontface = \"bold\", hjust = 1.0),\n",
    "        labels_gp = gpar(fontsize = 16, \n",
    "        title = gpar(fontsize = 16))),\n",
    "    annotation_name_side = \"bottom\",\n",
    "    annotation_name_gp = gpar(fontsize = 16),\n",
    "    # color\n",
    "    col = list(\n",
    "        Object = c(\n",
    "            \"Cell\" = \"#B000B0\", \n",
    "            \"Cytoplasm\" = \"#00D55B\", \n",
    "            \"Nuclei\" = \"#0000AB\"\n",
    "            )\n",
    "    )\n",
    ")\n",
    "row_measurement = rowAnnotation(\n",
    "    FeatureType = features$`Feature Type`,\n",
    "           annotation_legend_param = list(\n",
    "        title_position = \"topcenter\", \n",
    "        title_gp = gpar(fontsize = 16, angle = 0, fontface = \"bold\", hjust = 0.5),\n",
    "        labels_gp = gpar(fontsize = 16, \n",
    "        title = gpar(fontsize = 16))),\n",
    "    annotation_name_side = \"bottom\",\n",
    "    annotation_name_gp = gpar(fontsize = 16),\n",
    "    col = list(\n",
    "            FeatureType = c(\n",
    "            \"Area.Size.Shape\" = brewer.pal(8, \"Paired\")[1],\n",
    "            \"Colocalization\" = brewer.pal(8, \"Paired\")[2],\n",
    "            \"Granularity\" = brewer.pal(8, \"Paired\")[3],\n",
    "            \"Intensity\" = brewer.pal(8, \"Paired\")[4],\n",
    "            \"Texture\" = brewer.pal(8, \"Paired\")[8]\n",
    "        )\n",
    "    ),\n",
    "    show_legend = TRUE\n",
    ")\n",
    "row_channel = rowAnnotation(\n",
    "    Channel = features$Channel,\n",
    "        annotation_legend_param = list(\n",
    "        title_position = \"topcenter\", \n",
    "        title_gp = gpar(fontsize = 16, angle = 0, fontface = \"bold\", hjust = 0.5),\n",
    "        labels_gp = gpar(fontsize = 16, \n",
    "        # make annotation bar text bigger\n",
    "        legend = gpar(fontsize = 16),\n",
    "        annotation_name = gpar(fontsize = 16),\n",
    "        # legend_height = unit(20, \"cm\"),\n",
    "        legend_width = unit(1, \"cm\"),\n",
    "        # make legend taller\n",
    "        # legend_height = unit(10, \"cm\"),\n",
    "        legend_width = unit(1, \"cm\"),\n",
    "        legend_key = gpar(fontsize = 16)\n",
    "        )\n",
    "    ),\n",
    "\n",
    "\n",
    "        \n",
    "    annotation_name_side = \"bottom\",\n",
    "    # make font size bigger\n",
    "    annotation_name_gp = gpar(fontsize = 16),\n",
    "    col = list(\n",
    "    Channel = c(\n",
    "            \"DNA\" = \"#0000AB\",\n",
    "            \"AGP\" = \"#b1001a\",\n",
    "            \"Mito\" = \"#B000B0\",\n",
    "            \"ER\" = \"#00D55B\",\n",
    "            \"BF\" = \"#FFFF00\",\n",
    "            \"None\" = \"#B09FB0\")\n",
    "    )\n",
    ")\n",
    "row_annotations = c(row_compartment, row_measurement, row_channel)"
   ]
  },
  {
   "cell_type": "code",
   "execution_count": 10,
   "id": "841998b8",
   "metadata": {
    "vscode": {
     "languageId": "r"
    }
   },
   "outputs": [
    {
     "data": {
      "text/html": [
       "<style>\n",
       ".list-inline {list-style: none; margin:0; padding: 0}\n",
       ".list-inline>li {display: inline-block}\n",
       ".list-inline>li:not(:last-child)::after {content: \"\\00b7\"; padding: 0 .5ex}\n",
       "</style>\n",
       "<ol class=list-inline><li>320</li><li>100</li></ol>\n"
      ],
      "text/latex": [
       "\\begin{enumerate*}\n",
       "\\item 320\n",
       "\\item 100\n",
       "\\end{enumerate*}\n"
      ],
      "text/markdown": [
       "1. 320\n",
       "2. 100\n",
       "\n",
       "\n"
      ],
      "text/plain": [
       "[1] 320 100"
      ]
     },
     "metadata": {},
     "output_type": "display_data"
    }
   ],
   "source": [
    "mat <- sc_consensus_df %>%\n",
    "  select(-treatment, -Class, -Target) %>%\n",
    "  \n",
    "  as.matrix()\n",
    "mat <- t(mat)\n",
    "colnames(mat) <- sc_consensus_df$treatment\n",
    "dim(mat)"
   ]
  },
  {
   "cell_type": "code",
   "execution_count": 11,
   "id": "655fb184",
   "metadata": {
    "vscode": {
     "languageId": "r"
    }
   },
   "outputs": [],
   "source": [
    "width <- 20\n",
    "height <- 10\n",
    "options(repr.plot.width = width, repr.plot.height = height)\n",
    "heatmap_plot <- Heatmap(\n",
    "        mat, \n",
    "        # col = col_fun,\n",
    "        show_row_names = FALSE,\n",
    "        # cluster_columns = FALSE,\n",
    "        show_column_names = FALSE,\n",
    "\n",
    "        column_names_gp = gpar(fontsize = 16), # Column name label formatting\n",
    "        row_names_gp = gpar(fontsize = 14), \n",
    "\n",
    "        # show_heatmap_legend = FALSE,\n",
    "        heatmap_legend_param = list(\n",
    "                    title = \"Norm\\nValue\",\n",
    "                    title_position = \"topcenter\", \n",
    "                    title_gp = gpar(fontsize = 16, angle = 0, fontface = \"bold\", hjust = 1.0),\n",
    "                    labels_gp = gpar(fontsize = 16),\n",
    "                    # legend_height = unit(2, \"cm\"),\n",
    "                    legend_width = unit(3, \"cm\"),\n",
    "                    annotation_legend_side = \"bottom\"\n",
    "                    ), \n",
    "        \n",
    "        row_dend_width = unit(4, \"cm\"),\n",
    "        column_dend_height = unit(4, \"cm\"),\n",
    "        # column_title = paste0(\"Dose: \", dose,\" uM\"),\n",
    "        right_annotation = row_annotations,\n",
    "        top_annotation = column_annotations,\n",
    "        # adjust the title position and size\n",
    "        column_title_gp = gpar(fontsize = 16, fontface = \"bold\", hjust = 0.5),\n",
    "    \n",
    "    )\n",
    "heatmap_plot"
   ]
  },
  {
   "cell_type": "code",
   "execution_count": null,
   "id": "b5ee374d",
   "metadata": {
    "vscode": {
     "languageId": "r"
    }
   },
   "outputs": [],
   "source": [
    "\n",
    "png(sc_consensus_heatmap_file_path, width = width, height = height, units = \"in\", res = 300)\n",
    "# save as a PNG\n",
    "draw(heatmap_plot, merge_legend = TRUE, heatmap_legend_side = \"right\")\n",
    "dev.off()"
   ]
  },
  {
   "cell_type": "markdown",
   "id": "d321f805",
   "metadata": {},
   "source": [
    "## Single-cell heatmap of sc fs profiles"
   ]
  },
  {
   "cell_type": "code",
   "execution_count": null,
   "id": "3587a4e7",
   "metadata": {
    "vscode": {
     "languageId": "r"
    }
   },
   "outputs": [
    {
     "data": {
      "text/html": [
       "<table class=\"dataframe\">\n",
       "<caption>A tibble: 6 × 328</caption>\n",
       "<thead>\n",
       "\t<tr><th scope=col>patient</th><th scope=col>object_id</th><th scope=col>unit</th><th scope=col>dose</th><th scope=col>treatment</th><th scope=col>Target</th><th scope=col>Class</th><th scope=col>image_set</th><th scope=col>Well</th><th scope=col>parent_organoid</th><th scope=col>⋯</th><th scope=col>Texture_Cytoplasm_DNA_Sum.Variance_256.3</th><th scope=col>Texture_Cytoplasm_ER_Information.Measure.of.Correlation.1_256.3</th><th scope=col>Texture_Cytoplasm_ER_Sum.Average_256.3</th><th scope=col>Texture_Cytoplasm_ER_Sum.Variance_256.3</th><th scope=col>Texture_Cytoplasm_Mito_Angular.Second.Moment_256.3</th><th scope=col>Texture_Cytoplasm_Mito_Entropy_256.3</th><th scope=col>Texture_Cytoplasm_Mito_Sum.Average_256.3</th><th scope=col>Texture_Cytoplasm_Mito_Sum.Variance_256.3</th><th scope=col>Area.Size.Shape_Cytoplasm_EXTENT</th><th scope=col>Area.Size.Shape_Cytoplasm_EULER.NUMBER</th></tr>\n",
       "\t<tr><th scope=col>&lt;chr&gt;</th><th scope=col>&lt;int&gt;</th><th scope=col>&lt;chr&gt;</th><th scope=col>&lt;int&gt;</th><th scope=col>&lt;chr&gt;</th><th scope=col>&lt;chr&gt;</th><th scope=col>&lt;chr&gt;</th><th scope=col>&lt;chr&gt;</th><th scope=col>&lt;chr&gt;</th><th scope=col>&lt;int&gt;</th><th scope=col>⋯</th><th scope=col>&lt;dbl&gt;</th><th scope=col>&lt;dbl&gt;</th><th scope=col>&lt;dbl&gt;</th><th scope=col>&lt;dbl&gt;</th><th scope=col>&lt;dbl&gt;</th><th scope=col>&lt;dbl&gt;</th><th scope=col>&lt;dbl&gt;</th><th scope=col>&lt;dbl&gt;</th><th scope=col>&lt;dbl&gt;</th><th scope=col>&lt;dbl&gt;</th></tr>\n",
       "</thead>\n",
       "<tbody>\n",
       "\t<tr><td>NF0014</td><td> 25</td><td>uM</td><td>10</td><td>Mirdametinib</td><td>MEK1/2 inhibitor</td><td>Small Molecule</td><td>G8-1</td><td>G8</td><td>40</td><td>⋯</td><td>-0.64469007</td><td> 0.01008931</td><td>-0.2288176</td><td>-0.6211718</td><td> 0.0385905249</td><td> 0.033898969</td><td> 0.009684509</td><td> 0.13266921</td><td>-0.9651855</td><td>-0.39421474</td></tr>\n",
       "\t<tr><td>NF0014</td><td> 51</td><td>uM</td><td>10</td><td>Mirdametinib</td><td>MEK1/2 inhibitor</td><td>Small Molecule</td><td>G8-1</td><td>G8</td><td>40</td><td>⋯</td><td>-0.38245990</td><td>-0.66286685</td><td>-0.1106348</td><td>-0.4115443</td><td>-0.0007639116</td><td> 0.093548409</td><td> 0.078748338</td><td> 0.19721140</td><td>-0.5293255</td><td>-0.81009217</td></tr>\n",
       "\t<tr><td>NF0014</td><td> 76</td><td>uM</td><td>10</td><td>Mirdametinib</td><td>MEK1/2 inhibitor</td><td>Small Molecule</td><td>G8-1</td><td>G8</td><td>40</td><td>⋯</td><td> 0.03260092</td><td>-0.32955361</td><td>-0.2118098</td><td>-0.5473245</td><td> 0.0684573284</td><td>-0.007521941</td><td>-0.067182591</td><td>-0.02575399</td><td>-0.1015080</td><td>-0.06151279</td></tr>\n",
       "\t<tr><td>NF0014</td><td>102</td><td>uM</td><td>10</td><td>Mirdametinib</td><td>MEK1/2 inhibitor</td><td>Small Molecule</td><td>G8-1</td><td>G8</td><td>40</td><td>⋯</td><td>-0.71620439</td><td> 0.08953078</td><td>-0.2985152</td><td>-0.5726059</td><td> 0.1790532327</td><td>-0.193309657</td><td>-0.320329056</td><td>-0.50271552</td><td>-0.1316953</td><td>-0.10310053</td></tr>\n",
       "\t<tr><td>NF0014</td><td>127</td><td>uM</td><td>10</td><td>Mirdametinib</td><td>MEK1/2 inhibitor</td><td>Small Molecule</td><td>G8-1</td><td>G8</td><td>40</td><td>⋯</td><td>-0.46195880</td><td>-0.81841918</td><td>-0.2307978</td><td>-0.4938437</td><td> 0.1287358820</td><td>-0.108998656</td><td>-0.181595903</td><td>-0.22487924</td><td> 0.5841691</td><td>-0.85167992</td></tr>\n",
       "\t<tr><td>NF0014</td><td>178</td><td>uM</td><td>10</td><td>Mirdametinib</td><td>MEK1/2 inhibitor</td><td>Small Molecule</td><td>G8-1</td><td>G8</td><td>40</td><td>⋯</td><td>-0.48346141</td><td>-0.15830240</td><td>-0.2902233</td><td>-0.5677577</td><td> 0.1718879210</td><td>-0.180389669</td><td>-0.276321474</td><td>-0.36108478</td><td> 0.2810660</td><td>-0.39421474</td></tr>\n",
       "</tbody>\n",
       "</table>\n"
      ],
      "text/latex": [
       "A tibble: 6 × 328\n",
       "\\begin{tabular}{lllllllllllllllllllll}\n",
       " patient & object\\_id & unit & dose & treatment & Target & Class & image\\_set & Well & parent\\_organoid & ⋯ & Texture\\_Cytoplasm\\_DNA\\_Sum.Variance\\_256.3 & Texture\\_Cytoplasm\\_ER\\_Information.Measure.of.Correlation.1\\_256.3 & Texture\\_Cytoplasm\\_ER\\_Sum.Average\\_256.3 & Texture\\_Cytoplasm\\_ER\\_Sum.Variance\\_256.3 & Texture\\_Cytoplasm\\_Mito\\_Angular.Second.Moment\\_256.3 & Texture\\_Cytoplasm\\_Mito\\_Entropy\\_256.3 & Texture\\_Cytoplasm\\_Mito\\_Sum.Average\\_256.3 & Texture\\_Cytoplasm\\_Mito\\_Sum.Variance\\_256.3 & Area.Size.Shape\\_Cytoplasm\\_EXTENT & Area.Size.Shape\\_Cytoplasm\\_EULER.NUMBER\\\\\n",
       " <chr> & <int> & <chr> & <int> & <chr> & <chr> & <chr> & <chr> & <chr> & <int> & ⋯ & <dbl> & <dbl> & <dbl> & <dbl> & <dbl> & <dbl> & <dbl> & <dbl> & <dbl> & <dbl>\\\\\n",
       "\\hline\n",
       "\t NF0014 &  25 & uM & 10 & Mirdametinib & MEK1/2 inhibitor & Small Molecule & G8-1 & G8 & 40 & ⋯ & -0.64469007 &  0.01008931 & -0.2288176 & -0.6211718 &  0.0385905249 &  0.033898969 &  0.009684509 &  0.13266921 & -0.9651855 & -0.39421474\\\\\n",
       "\t NF0014 &  51 & uM & 10 & Mirdametinib & MEK1/2 inhibitor & Small Molecule & G8-1 & G8 & 40 & ⋯ & -0.38245990 & -0.66286685 & -0.1106348 & -0.4115443 & -0.0007639116 &  0.093548409 &  0.078748338 &  0.19721140 & -0.5293255 & -0.81009217\\\\\n",
       "\t NF0014 &  76 & uM & 10 & Mirdametinib & MEK1/2 inhibitor & Small Molecule & G8-1 & G8 & 40 & ⋯ &  0.03260092 & -0.32955361 & -0.2118098 & -0.5473245 &  0.0684573284 & -0.007521941 & -0.067182591 & -0.02575399 & -0.1015080 & -0.06151279\\\\\n",
       "\t NF0014 & 102 & uM & 10 & Mirdametinib & MEK1/2 inhibitor & Small Molecule & G8-1 & G8 & 40 & ⋯ & -0.71620439 &  0.08953078 & -0.2985152 & -0.5726059 &  0.1790532327 & -0.193309657 & -0.320329056 & -0.50271552 & -0.1316953 & -0.10310053\\\\\n",
       "\t NF0014 & 127 & uM & 10 & Mirdametinib & MEK1/2 inhibitor & Small Molecule & G8-1 & G8 & 40 & ⋯ & -0.46195880 & -0.81841918 & -0.2307978 & -0.4938437 &  0.1287358820 & -0.108998656 & -0.181595903 & -0.22487924 &  0.5841691 & -0.85167992\\\\\n",
       "\t NF0014 & 178 & uM & 10 & Mirdametinib & MEK1/2 inhibitor & Small Molecule & G8-1 & G8 & 40 & ⋯ & -0.48346141 & -0.15830240 & -0.2902233 & -0.5677577 &  0.1718879210 & -0.180389669 & -0.276321474 & -0.36108478 &  0.2810660 & -0.39421474\\\\\n",
       "\\end{tabular}\n"
      ],
      "text/markdown": [
       "\n",
       "A tibble: 6 × 328\n",
       "\n",
       "| patient &lt;chr&gt; | object_id &lt;int&gt; | unit &lt;chr&gt; | dose &lt;int&gt; | treatment &lt;chr&gt; | Target &lt;chr&gt; | Class &lt;chr&gt; | image_set &lt;chr&gt; | Well &lt;chr&gt; | parent_organoid &lt;int&gt; | ⋯ ⋯ | Texture_Cytoplasm_DNA_Sum.Variance_256.3 &lt;dbl&gt; | Texture_Cytoplasm_ER_Information.Measure.of.Correlation.1_256.3 &lt;dbl&gt; | Texture_Cytoplasm_ER_Sum.Average_256.3 &lt;dbl&gt; | Texture_Cytoplasm_ER_Sum.Variance_256.3 &lt;dbl&gt; | Texture_Cytoplasm_Mito_Angular.Second.Moment_256.3 &lt;dbl&gt; | Texture_Cytoplasm_Mito_Entropy_256.3 &lt;dbl&gt; | Texture_Cytoplasm_Mito_Sum.Average_256.3 &lt;dbl&gt; | Texture_Cytoplasm_Mito_Sum.Variance_256.3 &lt;dbl&gt; | Area.Size.Shape_Cytoplasm_EXTENT &lt;dbl&gt; | Area.Size.Shape_Cytoplasm_EULER.NUMBER &lt;dbl&gt; |\n",
       "|---|---|---|---|---|---|---|---|---|---|---|---|---|---|---|---|---|---|---|---|---|\n",
       "| NF0014 |  25 | uM | 10 | Mirdametinib | MEK1/2 inhibitor | Small Molecule | G8-1 | G8 | 40 | ⋯ | -0.64469007 |  0.01008931 | -0.2288176 | -0.6211718 |  0.0385905249 |  0.033898969 |  0.009684509 |  0.13266921 | -0.9651855 | -0.39421474 |\n",
       "| NF0014 |  51 | uM | 10 | Mirdametinib | MEK1/2 inhibitor | Small Molecule | G8-1 | G8 | 40 | ⋯ | -0.38245990 | -0.66286685 | -0.1106348 | -0.4115443 | -0.0007639116 |  0.093548409 |  0.078748338 |  0.19721140 | -0.5293255 | -0.81009217 |\n",
       "| NF0014 |  76 | uM | 10 | Mirdametinib | MEK1/2 inhibitor | Small Molecule | G8-1 | G8 | 40 | ⋯ |  0.03260092 | -0.32955361 | -0.2118098 | -0.5473245 |  0.0684573284 | -0.007521941 | -0.067182591 | -0.02575399 | -0.1015080 | -0.06151279 |\n",
       "| NF0014 | 102 | uM | 10 | Mirdametinib | MEK1/2 inhibitor | Small Molecule | G8-1 | G8 | 40 | ⋯ | -0.71620439 |  0.08953078 | -0.2985152 | -0.5726059 |  0.1790532327 | -0.193309657 | -0.320329056 | -0.50271552 | -0.1316953 | -0.10310053 |\n",
       "| NF0014 | 127 | uM | 10 | Mirdametinib | MEK1/2 inhibitor | Small Molecule | G8-1 | G8 | 40 | ⋯ | -0.46195880 | -0.81841918 | -0.2307978 | -0.4938437 |  0.1287358820 | -0.108998656 | -0.181595903 | -0.22487924 |  0.5841691 | -0.85167992 |\n",
       "| NF0014 | 178 | uM | 10 | Mirdametinib | MEK1/2 inhibitor | Small Molecule | G8-1 | G8 | 40 | ⋯ | -0.48346141 | -0.15830240 | -0.2902233 | -0.5677577 |  0.1718879210 | -0.180389669 | -0.276321474 | -0.36108478 |  0.2810660 | -0.39421474 |\n",
       "\n"
      ],
      "text/plain": [
       "  patient object_id unit dose treatment    Target           Class         \n",
       "1 NF0014   25       uM   10   Mirdametinib MEK1/2 inhibitor Small Molecule\n",
       "2 NF0014   51       uM   10   Mirdametinib MEK1/2 inhibitor Small Molecule\n",
       "3 NF0014   76       uM   10   Mirdametinib MEK1/2 inhibitor Small Molecule\n",
       "4 NF0014  102       uM   10   Mirdametinib MEK1/2 inhibitor Small Molecule\n",
       "5 NF0014  127       uM   10   Mirdametinib MEK1/2 inhibitor Small Molecule\n",
       "6 NF0014  178       uM   10   Mirdametinib MEK1/2 inhibitor Small Molecule\n",
       "  image_set Well parent_organoid ⋯ Texture_Cytoplasm_DNA_Sum.Variance_256.3\n",
       "1 G8-1      G8   40              ⋯ -0.64469007                             \n",
       "2 G8-1      G8   40              ⋯ -0.38245990                             \n",
       "3 G8-1      G8   40              ⋯  0.03260092                             \n",
       "4 G8-1      G8   40              ⋯ -0.71620439                             \n",
       "5 G8-1      G8   40              ⋯ -0.46195880                             \n",
       "6 G8-1      G8   40              ⋯ -0.48346141                             \n",
       "  Texture_Cytoplasm_ER_Information.Measure.of.Correlation.1_256.3\n",
       "1  0.01008931                                                    \n",
       "2 -0.66286685                                                    \n",
       "3 -0.32955361                                                    \n",
       "4  0.08953078                                                    \n",
       "5 -0.81841918                                                    \n",
       "6 -0.15830240                                                    \n",
       "  Texture_Cytoplasm_ER_Sum.Average_256.3\n",
       "1 -0.2288176                            \n",
       "2 -0.1106348                            \n",
       "3 -0.2118098                            \n",
       "4 -0.2985152                            \n",
       "5 -0.2307978                            \n",
       "6 -0.2902233                            \n",
       "  Texture_Cytoplasm_ER_Sum.Variance_256.3\n",
       "1 -0.6211718                             \n",
       "2 -0.4115443                             \n",
       "3 -0.5473245                             \n",
       "4 -0.5726059                             \n",
       "5 -0.4938437                             \n",
       "6 -0.5677577                             \n",
       "  Texture_Cytoplasm_Mito_Angular.Second.Moment_256.3\n",
       "1  0.0385905249                                     \n",
       "2 -0.0007639116                                     \n",
       "3  0.0684573284                                     \n",
       "4  0.1790532327                                     \n",
       "5  0.1287358820                                     \n",
       "6  0.1718879210                                     \n",
       "  Texture_Cytoplasm_Mito_Entropy_256.3 Texture_Cytoplasm_Mito_Sum.Average_256.3\n",
       "1  0.033898969                          0.009684509                            \n",
       "2  0.093548409                          0.078748338                            \n",
       "3 -0.007521941                         -0.067182591                            \n",
       "4 -0.193309657                         -0.320329056                            \n",
       "5 -0.108998656                         -0.181595903                            \n",
       "6 -0.180389669                         -0.276321474                            \n",
       "  Texture_Cytoplasm_Mito_Sum.Variance_256.3 Area.Size.Shape_Cytoplasm_EXTENT\n",
       "1  0.13266921                               -0.9651855                      \n",
       "2  0.19721140                               -0.5293255                      \n",
       "3 -0.02575399                               -0.1015080                      \n",
       "4 -0.50271552                               -0.1316953                      \n",
       "5 -0.22487924                                0.5841691                      \n",
       "6 -0.36108478                                0.2810660                      \n",
       "  Area.Size.Shape_Cytoplasm_EULER.NUMBER\n",
       "1 -0.39421474                           \n",
       "2 -0.81009217                           \n",
       "3 -0.06151279                           \n",
       "4 -0.10310053                           \n",
       "5 -0.85167992                           \n",
       "6 -0.39421474                           "
      ]
     },
     "metadata": {},
     "output_type": "display_data"
    }
   ],
   "source": [
    "# sc_consensus_df <- head(sc_consensus_df, 200)\n",
    "head(sc_consensus_df)"
   ]
  },
  {
   "cell_type": "code",
   "execution_count": null,
   "id": "f7a59bd0",
   "metadata": {
    "vscode": {
     "languageId": "r"
    }
   },
   "outputs": [],
   "source": [
    "# drop columns that contain neighbors\n",
    "sc_consensus_df <- sc_consensus_df %>%\n",
    "  select(-contains(\"Neighbors\"))"
   ]
  },
  {
   "cell_type": "code",
   "execution_count": null,
   "id": "154d1bb9",
   "metadata": {
    "vscode": {
     "languageId": "r"
    }
   },
   "outputs": [],
   "source": [
    "column_anno <- HeatmapAnnotation(\n",
    "    Target = sc_consensus_df$Target,\n",
    "    show_legend = TRUE,\n",
    "    annotation_name_gp = gpar(fontsize = 16),\n",
    "    annotation_legend_param = list(\n",
    "        title_position = \"topcenter\", \n",
    "        title_gp = gpar(fontsize = 16, angle = 0, fontface = \"bold\", hjust = 1.0),\n",
    "        labels_gp = gpar(fontsize = 16, \n",
    "        title = gpar(fontsize = 16))),\n",
    "    col = list(\n",
    "            Target = custom_MOA_palette\n",
    "        )\n",
    ")\n",
    "# patient_columns_anno <- HeatmapAnnotation(\n",
    "#     patient = sc_consensus_df$patient,\n",
    "#     show_legend = TRUE,\n",
    "#     annotation_name_gp = gpar(fontsize = 16),\n",
    "#     annotation_legend_param = list(\n",
    "#         title_position = \"topcenter\", \n",
    "#         title_gp = gpar(fontsize = 16, angle = 0, fontface = \"bold\", hjust = 1.0),\n",
    "#         labels_gp = gpar(fontsize = 16, \n",
    "#         title = gpar(fontsize = 16)))\n",
    "\n",
    "# )\n",
    "\n",
    "patient_columns_anno <- HeatmapAnnotation(\n",
    "    Patient = anno_block(gp = gpar(fill = 1:length(sc_consensus_df$patient)),\n",
    "        labels = unique(sc_consensus_df$patient),\n",
    "        labels_gp = gpar(col = \"white\", fontsize = 10)))\n",
    "\n",
    "\n",
    "column_annotations = c(column_anno, patient_columns_anno)"
   ]
  },
  {
   "cell_type": "code",
   "execution_count": null,
   "id": "a4bcb0dd",
   "metadata": {
    "vscode": {
     "languageId": "r"
    }
   },
   "outputs": [],
   "source": [
    "# get the list of features\n",
    "features <- colnames(sc_consensus_df)\n",
    "features <- features[!features %in% c(\"treatment\", \"Target\", \"Class\", \"single_cell_count\", \"patient\",\n",
    "         \"object_id\",\n",
    "         \"unit\",\n",
    "         \"dose\",\n",
    "         \"image_set\",\n",
    "         \"Well\",\n",
    "         \"parent_organoid\")]\n",
    "features <- as.data.frame(features)\n",
    "rownames(features) <- features$features\n",
    "# split the features by _ into multiple columns\n",
    "features <- features %>% \n",
    "    separate(features, into = c(\"Feature Type\", \"Compartment\", \"Channel\", \"Measurement\"), sep = \"_\", extra = \"merge\", fill = \"right\")\n",
    "# if Feature type is AreaSizeShape then shift the Channel to the Measurement column and set Channel to NA\n",
    "features <- features %>%\n",
    "    mutate(\n",
    "        Measurement = ifelse(`Feature Type` == \"Area.Size.Shape\", Channel, Measurement)\n",
    "    )\n",
    "features <- features %>%\n",
    "    mutate(\n",
    "        Channel = ifelse(`Feature Type` == \"Area.Size.Shape\", \"None\", Channel)\n",
    "    )\n",
    "\n",
    "# select the first channel for colocalization features channels are split by .\n",
    "features <- features %>%\n",
    "    mutate(\n",
    "        Channel = ifelse(`Feature Type` == \"Colocalization\", \n",
    "                         sub(\"\\\\..*\", \"\", Channel), \n",
    "                         Channel)\n",
    "    )\n",
    "\n",
    "\n",
    "# sort by feature type\n",
    "features <- features %>%\n",
    "    arrange(`Feature Type`, Compartment, Channel, Measurement)"
   ]
  },
  {
   "cell_type": "code",
   "execution_count": null,
   "id": "54a92101",
   "metadata": {
    "vscode": {
     "languageId": "r"
    }
   },
   "outputs": [],
   "source": [
    "# compartment row annotation\n",
    "row_compartment = rowAnnotation(\n",
    "    Object = features$Compartment,\n",
    "        show_legend = TRUE,\n",
    "    # change the legend titles\n",
    "    annotation_legend_param = list(\n",
    "        title_position = \"topcenter\", \n",
    "        title_gp = gpar(fontsize = 16, angle = 0, fontface = \"bold\", hjust = 1.0),\n",
    "        labels_gp = gpar(fontsize = 16, \n",
    "        title = gpar(fontsize = 16))),\n",
    "    annotation_name_side = \"bottom\",\n",
    "    annotation_name_gp = gpar(fontsize = 16),\n",
    "    # color\n",
    "    col = list(\n",
    "        Object = c(\n",
    "            \"Cell\" = \"#B000B0\", \n",
    "            \"Cytoplasm\" = \"#00D55B\", \n",
    "            \"Nuclei\" = \"#0000AB\"\n",
    "            )\n",
    "    )\n",
    ")\n",
    "row_measurement = rowAnnotation(\n",
    "    FeatureType = features$`Feature Type`,\n",
    "           annotation_legend_param = list(\n",
    "        title_position = \"topcenter\", \n",
    "        title_gp = gpar(fontsize = 16, angle = 0, fontface = \"bold\", hjust = 0.5),\n",
    "        labels_gp = gpar(fontsize = 16, \n",
    "        title = gpar(fontsize = 16))),\n",
    "    annotation_name_side = \"bottom\",\n",
    "    annotation_name_gp = gpar(fontsize = 16),\n",
    "    col = list(\n",
    "            FeatureType = c(\n",
    "            \"Area.Size.Shape\" = brewer.pal(8, \"Paired\")[1],\n",
    "            \"Colocalization\" = brewer.pal(8, \"Paired\")[2],\n",
    "            \"Granularity\" = brewer.pal(8, \"Paired\")[3],\n",
    "            \"Intensity\" = brewer.pal(8, \"Paired\")[4],\n",
    "            \"Texture\" = brewer.pal(8, \"Paired\")[8]\n",
    "        )\n",
    "    ),\n",
    "    show_legend = TRUE\n",
    ")\n",
    "row_channel = rowAnnotation(\n",
    "    Channel = features$Channel,\n",
    "        annotation_legend_param = list(\n",
    "        title_position = \"topcenter\", \n",
    "        title_gp = gpar(fontsize = 16, angle = 0, fontface = \"bold\", hjust = 0.5),\n",
    "        labels_gp = gpar(fontsize = 16, \n",
    "        # make annotation bar text bigger\n",
    "        legend = gpar(fontsize = 16),\n",
    "        annotation_name = gpar(fontsize = 16),\n",
    "        # legend_height = unit(20, \"cm\"),\n",
    "        legend_width = unit(1, \"cm\"),\n",
    "        # make legend taller\n",
    "        # legend_height = unit(10, \"cm\"),\n",
    "        legend_width = unit(1, \"cm\"),\n",
    "        legend_key = gpar(fontsize = 16)\n",
    "        )\n",
    "    ),\n",
    "\n",
    "\n",
    "        \n",
    "    annotation_name_side = \"bottom\",\n",
    "    # make font size bigger\n",
    "    annotation_name_gp = gpar(fontsize = 16),\n",
    "    col = list(\n",
    "    Channel = c(\n",
    "            \"DNA\" = \"#0000AB\",\n",
    "            \"AGP\" = \"#b1001a\",\n",
    "            \"Mito\" = \"#B000B0\",\n",
    "            \"ER\" = \"#00D55B\",\n",
    "            \"BF\" = \"#FFFF00\",\n",
    "            \"None\" = \"#B09FB0\")\n",
    "    )\n",
    ")\n",
    "row_annotations = c(row_compartment, row_measurement, row_channel)"
   ]
  },
  {
   "cell_type": "code",
   "execution_count": null,
   "id": "cc73e15e",
   "metadata": {
    "vscode": {
     "languageId": "r"
    }
   },
   "outputs": [
    {
     "data": {
      "text/html": [
       "<style>\n",
       ".list-inline {list-style: none; margin:0; padding: 0}\n",
       ".list-inline>li {display: inline-block}\n",
       ".list-inline>li:not(:last-child)::after {content: \"\\00b7\"; padding: 0 .5ex}\n",
       "</style>\n",
       "<ol class=list-inline><li>317</li><li>9870</li></ol>\n"
      ],
      "text/latex": [
       "\\begin{enumerate*}\n",
       "\\item 317\n",
       "\\item 9870\n",
       "\\end{enumerate*}\n"
      ],
      "text/markdown": [
       "1. 317\n",
       "2. 9870\n",
       "\n",
       "\n"
      ],
      "text/plain": [
       "[1]  317 9870"
      ]
     },
     "metadata": {},
     "output_type": "display_data"
    }
   ],
   "source": [
    "mat <- sc_consensus_df %>%\n",
    "  select(-treatment, -Class, -Target, -patient,\n",
    "         -object_id,\n",
    "         -unit,\n",
    "         -dose,\n",
    "         -image_set,\n",
    "         -Well,\n",
    "         -parent_organoid) %>%\n",
    "  \n",
    "  as.matrix()\n",
    "mat <- t(mat)\n",
    "colnames(mat) <- sc_consensus_df$treatment\n",
    "dim(mat)"
   ]
  },
  {
   "cell_type": "code",
   "execution_count": null,
   "id": "397242d1",
   "metadata": {
    "vscode": {
     "languageId": "r"
    }
   },
   "outputs": [
    {
     "name": "stderr",
     "output_type": "stream",
     "text": [
      "The automatically generated colors map from the minus and plus 99^th of\n",
      "the absolute values in the matrix. There are outliers in the matrix\n",
      "whose patterns might be hidden by this color mapping. You can manually\n",
      "set the color to `col` argument.\n",
      "\n",
      "Use `suppressMessages()` to turn off this message.\n",
      "\n",
      "`use_raster` is automatically set to TRUE for a matrix with more than\n",
      "2000 columns You can control `use_raster` argument by explicitly\n",
      "setting TRUE/FALSE to it.\n",
      "\n",
      "Set `ht_opt$message = FALSE` to turn off this message.\n",
      "\n"
     ]
    }
   ],
   "source": [
    "width <- 20\n",
    "height <- 10\n",
    "options(repr.plot.width = width, repr.plot.height = height)\n",
    "heatmap_plot <- Heatmap(\n",
    "        mat, \n",
    "        # col = col_fun,\n",
    "        show_row_names = FALSE,\n",
    "        # cluster_columns = FALSE,\n",
    "        show_column_names = FALSE,\n",
    "\n",
    "        column_names_gp = gpar(fontsize = 16), # Column name label formatting\n",
    "        row_names_gp = gpar(fontsize = 14), \n",
    "\n",
    "        # show_heatmap_legend = FALSE,\n",
    "        heatmap_legend_param = list(\n",
    "                    title = \"Norm\\nValue\",\n",
    "                    title_position = \"topcenter\", \n",
    "                    title_gp = gpar(fontsize = 16, angle = 0, fontface = \"bold\", hjust = 1.0),\n",
    "                    labels_gp = gpar(fontsize = 16),\n",
    "                    # legend_height = unit(2, \"cm\"),\n",
    "                    legend_width = unit(3, \"cm\"),\n",
    "                    annotation_legend_side = \"bottom\"\n",
    "                    ), \n",
    "        \n",
    "        row_dend_width = unit(4, \"cm\"),\n",
    "        column_dend_height = unit(4, \"cm\"),\n",
    "        # column_title = paste0(\"Dose: \", dose,\" uM\"),\n",
    "        right_annotation = row_annotations,\n",
    "        top_annotation = column_annotations,\n",
    "        # adjust the title position and size\n",
    "        column_title_gp = gpar(fontsize = 16, fontface = \"bold\", hjust = 0.5),\n",
    "    \n",
    "    )\n",
    "heatmap_plot"
   ]
  },
  {
   "cell_type": "code",
   "execution_count": null,
   "id": "202eb3dd",
   "metadata": {
    "vscode": {
     "languageId": "r"
    }
   },
   "outputs": [],
   "source": [
    "\n",
    "png(sc_fs_heatmap_file_path, width = width, height = height, units = \"in\", res = 300)\n",
    "# save as a PNG\n",
    "draw(heatmap_plot, merge_legend = TRUE, heatmap_legend_side = \"right\")\n",
    "dev.off()"
   ]
  },
  {
   "cell_type": "markdown",
   "id": "d28a9d8e",
   "metadata": {},
   "source": [
    "## Organoid heatmap of consensus profiles"
   ]
  },
  {
   "cell_type": "code",
   "execution_count": null,
   "id": "eb25596b",
   "metadata": {
    "vscode": {
     "languageId": "r"
    }
   },
   "outputs": [],
   "source": [
    "# drop columns that contain neighbors\n",
    "organoid_consensus_df <- organoid_consensus_df %>%\n",
    "  select(-contains(\"Neighbors\"))\n"
   ]
  },
  {
   "cell_type": "code",
   "execution_count": null,
   "id": "4fe8ed78",
   "metadata": {
    "vscode": {
     "languageId": "r"
    }
   },
   "outputs": [],
   "source": [
    "column_anno <- HeatmapAnnotation(\n",
    "    Target = organoid_consensus_df$Target,\n",
    "    show_legend = TRUE,\n",
    "    annotation_name_gp = gpar(fontsize = 16),\n",
    "    annotation_legend_param = list(\n",
    "        title_position = \"topcenter\", \n",
    "        title_gp = gpar(fontsize = 16, angle = 0, fontface = \"bold\", hjust = 1.0),\n",
    "        labels_gp = gpar(fontsize = 16, \n",
    "        title = gpar(fontsize = 16))),\n",
    "        col = list(\n",
    "            Target = custom_MOA_palette\n",
    "        )\n",
    "        \n",
    "\n",
    ")"
   ]
  },
  {
   "cell_type": "code",
   "execution_count": null,
   "id": "ca1456c6",
   "metadata": {
    "vscode": {
     "languageId": "r"
    }
   },
   "outputs": [],
   "source": [
    "# get the list of features\n",
    "features <- colnames(organoid_consensus_df)\n",
    "features <- features[!features %in% c(\"treatment\", \"Target\", \"Class\", \"single_cell_count\")]\n",
    "features <- as.data.frame(features)\n",
    "rownames(features) <- features$features\n",
    "# split the features by _ into multiple columns\n",
    "features <- features %>% \n",
    "    separate(features, into = c(\"Feature Type\", \"Compartment\", \"Channel\", \"Measurement\"), sep = \"_\", extra = \"merge\", fill = \"right\")\n",
    "# if Feature type is AreaSizeShape then shift the Channel to the Measurement column and set Channel to NA\n",
    "features <- features %>%\n",
    "    mutate(\n",
    "        Measurement = ifelse(`Feature Type` == \"Area.Size.Shape\", Channel, Measurement)\n",
    "    )\n",
    "features <- features %>%\n",
    "    mutate(\n",
    "        Channel = ifelse(`Feature Type` == \"Area.Size.Shape\", \"None\", Channel)\n",
    "    )\n",
    "\n",
    "# select the first channel for colocalization features channels are split by .\n",
    "features <- features %>%\n",
    "    mutate(\n",
    "        Channel = ifelse(`Feature Type` == \"Colocalization\", \n",
    "                         sub(\"\\\\..*\", \"\", Channel), \n",
    "                         Channel)\n",
    "    )\n",
    "# sort by feature type\n",
    "features <- features %>%\n",
    "    arrange(`Feature Type`, Compartment, Channel, Measurement)"
   ]
  },
  {
   "cell_type": "code",
   "execution_count": null,
   "id": "b4c1f06a",
   "metadata": {
    "vscode": {
     "languageId": "r"
    }
   },
   "outputs": [],
   "source": [
    "\n",
    "row_measurement = rowAnnotation(\n",
    "    FeatureType = features$`Feature Type`,\n",
    "           annotation_legend_param = list(\n",
    "        title_position = \"topcenter\", \n",
    "        title_gp = gpar(fontsize = 16, angle = 0, fontface = \"bold\", hjust = 0.5),\n",
    "        labels_gp = gpar(fontsize = 16, \n",
    "        title = gpar(fontsize = 16))),\n",
    "    annotation_name_side = \"bottom\",\n",
    "    annotation_name_gp = gpar(fontsize = 16),\n",
    "    col = list(\n",
    "            FeatureType = c(\n",
    "            \"Area.Size.Shape\" = brewer.pal(8, \"Paired\")[1],\n",
    "            \"Colocalization\" = brewer.pal(8, \"Paired\")[2],\n",
    "            \"Granularity\" = brewer.pal(8, \"Paired\")[3],\n",
    "            \"Intensity\" = brewer.pal(8, \"Paired\")[4],\n",
    "            \"Texture\" = brewer.pal(8, \"Paired\")[8]\n",
    "        )\n",
    "    ),\n",
    "    show_legend = TRUE\n",
    ")\n",
    "row_channel = rowAnnotation(\n",
    "    Channel = features$Channel,\n",
    "        annotation_legend_param = list(\n",
    "        title_position = \"topcenter\", \n",
    "        title_gp = gpar(fontsize = 16, angle = 0, fontface = \"bold\", hjust = 0.5),\n",
    "        labels_gp = gpar(fontsize = 16, \n",
    "        # make annotation bar text bigger\n",
    "        legend = gpar(fontsize = 16),\n",
    "        annotation_name = gpar(fontsize = 16),\n",
    "        legend_height = unit(20, \"cm\"),\n",
    "        legend_width = unit(1, \"cm\"),\n",
    "        # make legend taller\n",
    "        legend_height = unit(10, \"cm\"),\n",
    "        legend_width = unit(1, \"cm\"),\n",
    "        legend_key = gpar(fontsize = 16)\n",
    "        )\n",
    "    ),\n",
    "\n",
    "\n",
    "        \n",
    "    annotation_name_side = \"bottom\",\n",
    "    # make font size bigger\n",
    "    annotation_name_gp = gpar(fontsize = 16),\n",
    "    col = list(\n",
    "    Channel = c(\n",
    "            \"DNA\" = \"#0000AB\",\n",
    "            \"AGP\" = \"#b1001a\",\n",
    "            \"Mito\" = \"#B000B0\",\n",
    "            \"ER\" = \"#00D55B\",\n",
    "            \"BF\" = \"#FFFF00\",\n",
    "            \"None\" = \"#B09FB0\")\n",
    "    )\n",
    ")\n",
    "row_annotations = c(row_measurement, row_channel)"
   ]
  },
  {
   "cell_type": "code",
   "execution_count": null,
   "id": "f77eb7f7",
   "metadata": {
    "vscode": {
     "languageId": "r"
    }
   },
   "outputs": [],
   "source": [
    "mat <- organoid_consensus_df %>%\n",
    "  select(-treatment, -Class, -Target,-single_cell_count) %>% \n",
    "  \n",
    "  as.matrix()\n",
    "mat <- t(mat)\n",
    "colnames(mat) <- organoid_consensus_df$treatment"
   ]
  },
  {
   "cell_type": "code",
   "execution_count": null,
   "id": "d407d17b",
   "metadata": {
    "vscode": {
     "languageId": "r"
    }
   },
   "outputs": [],
   "source": [
    "width <- 10\n",
    "height <- 10\n",
    "options(repr.plot.width = width, repr.plot.height = height)\n",
    "heatmap_plot <- Heatmap(\n",
    "        mat, \n",
    "        # col = col_fun,\n",
    "        show_row_names = FALSE,\n",
    "        # cluster_columns = FALSE,\n",
    "        show_column_names = TRUE,\n",
    "\n",
    "        column_names_gp = gpar(fontsize = 16), # Column name label formatting\n",
    "        row_names_gp = gpar(fontsize = 14), \n",
    "\n",
    "        # show_heatmap_legend = FALSE,\n",
    "        heatmap_legend_param = list(\n",
    "                    title = \"Norm\\nValue\",\n",
    "                    title_position = \"topcenter\", \n",
    "                    title_gp = gpar(fontsize = 16, angle = 0, fontface = \"bold\", hjust = 1.0),\n",
    "                    labels_gp = gpar(fontsize = 16),\n",
    "                    # legend_height = unit(2, \"cm\"),\n",
    "                    legend_width = unit(3, \"cm\"),\n",
    "                    annotation_legend_side = \"bottom\"\n",
    "                    ), \n",
    "        \n",
    "        # row_dend_width = unit(2, \"cm\"),\n",
    "        # column_title = paste0(\"Dose: \", dose,\" uM\"),\n",
    "        right_annotation = row_annotations,\n",
    "        top_annotation = column_anno,\n",
    "        column_title = paste0(\"Organoid heatmap of consensus profiles for:\\npatient \", patient_id),\n",
    "        # adjust the title position and size\n",
    "        column_title_gp = gpar(fontsize = 16, fontface = \"bold\", hjust = 0.5),\n",
    "    \n",
    "    )\n",
    "\n",
    "png(organoid_consensus_heatmap_file_path, width = width, height = height, units = \"in\", res = 300)\n",
    "draw(heatmap_plot, merge_legend = TRUE, heatmap_legend_side = \"right\")\n",
    "dev.off()"
   ]
  }
 ],
 "metadata": {
  "kernelspec": {
   "display_name": "R",
   "language": "R",
   "name": "ir"
  },
  "language_info": {
   "codemirror_mode": "r",
   "file_extension": ".r",
   "mimetype": "text/x-r-source",
   "name": "R",
   "pygments_lexer": "r",
   "version": "4.2.2"
  }
 },
 "nbformat": 4,
 "nbformat_minor": 5
}
