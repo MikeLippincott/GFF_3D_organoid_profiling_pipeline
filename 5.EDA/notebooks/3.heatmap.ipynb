{
 "cells": [
  {
   "cell_type": "markdown",
   "id": "a56f910e",
   "metadata": {},
   "source": [
    "## Imports"
   ]
  },
  {
   "cell_type": "code",
   "execution_count": null,
   "id": "5f3acf55",
   "metadata": {
    "vscode": {
     "languageId": "r"
    }
   },
   "outputs": [],
   "source": [
    "list_of_packages <- c(\n",
    "       \"ggplot2\",\n",
    "       \"dplyr\",\n",
    "       \"tidyr\",\n",
    "       \"ComplexHeatmap\",\n",
    "       \"tibble\",\n",
    "       \"RColorBrewer\",\n",
    "       \"scales\",\n",
    "       \"circlize\",\n",
    "       \"argparse\"\n",
    ")\n",
    "if (!requireNamespace(\"BiocManager\", quietly=TRUE))\n",
    "    install.packages(\"BiocManager\")\n",
    "\n",
    "if (!requireNamespace(\"ComplexHeatmap\", quietly = TRUE)) {\n",
    "    BiocManager::install(\"ComplexHeatmap\")\n",
    "}\n",
    "for (package in list_of_packages) {\n",
    "    suppressPackageStartupMessages(\n",
    "        suppressWarnings(\n",
    "            library(\n",
    "                package,\n",
    "                character.only = TRUE,\n",
    "                quietly = TRUE,\n",
    "                warn.conflicts = FALSE\n",
    "            )\n",
    "        )\n",
    "    )\n",
    "}"
   ]
  },
  {
   "cell_type": "code",
   "execution_count": null,
   "id": "965532df",
   "metadata": {
    "vscode": {
     "languageId": "r"
    }
   },
   "outputs": [],
   "source": [
    "# set custom colors for each MOA\n",
    "custom_MOA_palette <- c(\n",
    "    'BRD4 inhibitor' = \"#93152A\",  # Dark red\n",
    "    'receptor tyrosine kinase inhibitor' = \"#BA3924\",  # Red\n",
    "    'tyrosine kinase inhibitor' = \"#D08543\",  # Orange\n",
    "    'MEK1/2 inhibitor' = \"#A1961A\",  # Yellow-green/olive\n",
    "\n",
    "    'IGF-1R inhibitor' = \"#9FC62A\",  # Yellow-green\n",
    "    'mTOR inhibitor' = \"#1FAD23\",  # Green\n",
    "    'PI3K inhibitor' = \"#32D06A\",  # Light green\n",
    "    'PI3K and HDAC inhibitor' = \"#15937C\",  # Teal/dark green\n",
    "    'HDAC inhibitor' = \"#24A5BA\",  # Light blue/cyan\n",
    "\n",
    "    'Apoptosis induction' = \"#438CD0\",  # Medium blue\n",
    "    'DNA binding' = \"#1A24A1\",  # Dark blue\n",
    "    'HSP90 inhibitor' = \"#532AC6\",  # Blue-purple\n",
    "\n",
    "    'histamine H1 receptor antagonist' = \"#AD1FA6\",  # Purple/magenta\n",
    "    'Na+/K+ pump inhibitor' = \"#D03294\",  # Pink/magenta\n",
    "\n",
    "    'Control' = \"#444444\"  # Gray\n",
    ")"
   ]
  },
  {
   "cell_type": "code",
   "execution_count": null,
   "id": "0bf43cbb",
   "metadata": {
    "vscode": {
     "languageId": "r"
    }
   },
   "outputs": [],
   "source": [
    "# Get the current working directory and find Git root\n",
    "find_git_root <- function() {\n",
    "    # Get current working directory\n",
    "    cwd <- getwd()\n",
    "    \n",
    "    # Check if current directory has .git\n",
    "    if (dir.exists(file.path(cwd, \".git\"))) {\n",
    "        return(cwd)\n",
    "    }\n",
    "    \n",
    "    # If not, search parent directories\n",
    "    current_path <- cwd\n",
    "    while (dirname(current_path) != current_path) {  # While not at root\n",
    "        parent_path <- dirname(current_path)\n",
    "        if (dir.exists(file.path(parent_path, \".git\"))) {\n",
    "            return(parent_path)\n",
    "        }\n",
    "        current_path <- parent_path\n",
    "    }\n",
    "    \n",
    "    # If no Git root found, stop with error\n",
    "    stop(\"No Git root directory found.\")\n",
    "}\n",
    "\n",
    "# Find the Git root directory\n",
    "root_dir <- find_git_root()\n",
    "cat(\"Git root directory:\", root_dir, \"\\n\")"
   ]
  },
  {
   "cell_type": "markdown",
   "id": "8316bbab",
   "metadata": {},
   "source": [
    "## Pathing for files"
   ]
  },
  {
   "cell_type": "code",
   "execution_count": null,
   "id": "5d1f14d8",
   "metadata": {
    "vscode": {
     "languageId": "r"
    }
   },
   "outputs": [],
   "source": [
    "sc_consensus_df <- arrow::read_parquet(file.path(root_dir,\"data/all_patient_profiles/sc_consensus_profiles.parquet\"))\n",
    "sc_fs_df <- arrow::read_parquet(file.path(root_dir,\"data/all_patient_profiles/sc_fs_profiles.parquet\"))\n",
    "# drop the therapeutic category column\n",
    "sc_consensus_df <- sc_consensus_df %>%\n",
    "  select(-`Therapeutic Categories`)\n",
    "sc_fs_df <- sc_fs_df %>%\n",
    "  select(-`Therapeutic Categories`)\n",
    "\n",
    "organoid_consensus_df <- arrow::read_parquet(file.path(root_dir,\"data/all_patient_profiles/organoid_consensus_profiles.parquet\"))\n",
    "organoid_fs_df <- arrow::read_parquet(file.path(root_dir,\"data/all_patient_profiles/organoid_fs_profiles.parquet\"))\n",
    "# drop the therapeutic category column\n",
    "organoid_consensus_df <- organoid_consensus_df %>%\n",
    "  select(-`Therapeutic Categories`)\n",
    "organoid_fs_df <- organoid_fs_df %>%\n",
    "  select(-`Therapeutic Categories`)\n",
    "\n",
    "\n",
    "sc_consensus_heatmap_file_path <- file.path(\n",
    "    root_dir,\n",
    "    paste0(\"5.EDA/figures/heatmaps/sc_consensus_heatmap.png\")\n",
    ")\n",
    "sc_fs_heatmap_file_path <- file.path(\n",
    "    root_dir,\n",
    "    paste0(\"5.EDA/figures/heatmaps/sc_fs_heatmap.png\")\n",
    ")\n",
    "organoid_consensus_heatmap_file_path <- file.path(\n",
    "    root_dir,\n",
    "    paste0(\"5.EDA/figures/heatmaps/organoid_consensus_heatmap.png\")\n",
    ")\n",
    "organoid_fs_heatmap_file_path <- file.path(\n",
    "    root_dir,\n",
    "    paste0(\"5.EDA/figures/heatmaps/organoid_fs_heatmap.png\")\n",
    ")\n",
    "\n",
    "\n",
    "if (!dir.exists(file.path(root_dir,paste0(\"5.EDA/figures/heatmaps/\")))) {\n",
    "    dir.create(file.path(root_dir,paste0(\"5.EDA/figures/heatmaps/\")), recursive = TRUE)\n",
    "}"
   ]
  },
  {
   "cell_type": "code",
   "execution_count": null,
   "id": "2ffba77a",
   "metadata": {
    "vscode": {
     "languageId": "r"
    }
   },
   "outputs": [],
   "source": [
    "patient_colors <- rainbow(length(unique(organoid_fs_df$patient)))\n",
    "names(patient_colors) <- unique(organoid_fs_df$patient)\n",
    "    "
   ]
  },
  {
   "cell_type": "markdown",
   "id": "26b81744",
   "metadata": {},
   "source": [
    "## Single-cell heatmap of consensus profiles"
   ]
  },
  {
   "cell_type": "code",
   "execution_count": null,
   "id": "b27982c2",
   "metadata": {
    "vscode": {
     "languageId": "r"
    }
   },
   "outputs": [],
   "source": [
    "head(sc_consensus_df)"
   ]
  },
  {
   "cell_type": "code",
   "execution_count": null,
   "id": "926ca3e6",
   "metadata": {
    "vscode": {
     "languageId": "r"
    }
   },
   "outputs": [],
   "source": [
    "# drop columns that contain neighbors\n",
    "sc_consensus_df <- sc_consensus_df %>%\n",
    "  select(-contains(\"Neighbors\"))"
   ]
  },
  {
   "cell_type": "code",
   "execution_count": null,
   "id": "3f9134ac",
   "metadata": {
    "vscode": {
     "languageId": "r"
    }
   },
   "outputs": [],
   "source": [
    "column_anno <- HeatmapAnnotation(\n",
    "    Target = sc_consensus_df$Target,\n",
    "    show_legend = TRUE,\n",
    "    annotation_name_gp = gpar(fontsize = 16),\n",
    "    annotation_legend_param = list(\n",
    "        title_position = \"topcenter\", \n",
    "        title_gp = gpar(fontsize = 16, angle = 0, fontface = \"bold\", hjust = 1.0),\n",
    "        labels_gp = gpar(fontsize = 16, \n",
    "        title = gpar(fontsize = 16))),\n",
    "    col = list(\n",
    "            Target = custom_MOA_palette\n",
    "        )\n",
    ")\n",
    "patient_columns_anno <- HeatmapAnnotation(\n",
    "    patient = sc_consensus_df$patient,\n",
    "    show_legend = TRUE,\n",
    "    annotation_name_gp = gpar(fontsize = 16),\n",
    "    annotation_legend_param = list(\n",
    "        title_position = \"topcenter\", \n",
    "        title_gp = gpar(fontsize = 16, angle = 0, fontface = \"bold\", hjust = 1.0),\n",
    "        labels_gp = gpar(fontsize = 16, \n",
    "        title = gpar(fontsize = 16)))\n",
    "\n",
    ")\n",
    "\n",
    "column_annotations = c(column_anno, patient_columns_anno)"
   ]
  },
  {
   "cell_type": "code",
   "execution_count": null,
   "id": "d3b2bf1a",
   "metadata": {
    "vscode": {
     "languageId": "r"
    }
   },
   "outputs": [],
   "source": [
    "# get the list of features\n",
    "features <- colnames(sc_consensus_df)\n",
    "features <- features[!features %in% c(\"treatment\", \"Target\", \"Class\", \"single_cell_count\",\"patient\",\"dose\",\"unit\")]\n",
    "features <- as.data.frame(features)\n",
    "\n",
    "rownames(features) <- features$features\n",
    "# split the features by _ into multiple columns\n",
    "features <- features %>% \n",
    "    separate(features, into = c(\"Feature Type\", \"Compartment\", \"Channel\", \"Measurement\"), sep = \"_\", extra = \"merge\", fill = \"right\")\n",
    "# if Feature type is AreaSizeShape then shift the Channel to the Measurement column and set Channel to NA\n",
    "features <- features %>%\n",
    "    mutate(\n",
    "        Measurement = ifelse(`Feature Type` == \"Area.Size.Shape\", Channel, Measurement)\n",
    "    )\n",
    "features <- features %>%\n",
    "    mutate(\n",
    "        Channel = ifelse(`Feature Type` == \"Area.Size.Shape\", \"None\", Channel)\n",
    "    )\n",
    "\n",
    "# select the first channel for colocalization features channels are split by .\n",
    "features <- features %>%\n",
    "    mutate(\n",
    "        Channel = ifelse(`Feature Type` == \"Colocalization\", \n",
    "                         sub(\"\\\\..*\", \"\", Channel), \n",
    "                         Channel)\n",
    "    )\n",
    "\n",
    "\n",
    "# sort by feature type\n",
    "features <- features %>%\n",
    "    arrange(`Feature Type`, Compartment, Channel, Measurement)"
   ]
  },
  {
   "cell_type": "code",
   "execution_count": null,
   "id": "835f907f",
   "metadata": {
    "vscode": {
     "languageId": "r"
    }
   },
   "outputs": [],
   "source": [
    "# compartment row annotation\n",
    "row_compartment = rowAnnotation(\n",
    "    Object = features$Compartment,\n",
    "        show_legend = TRUE,\n",
    "    # change the legend titles\n",
    "    annotation_legend_param = list(\n",
    "        title_position = \"topcenter\", \n",
    "        title_gp = gpar(fontsize = 16, angle = 0, fontface = \"bold\", hjust = 1.0),\n",
    "        labels_gp = gpar(fontsize = 16, \n",
    "        title = gpar(fontsize = 16))),\n",
    "    annotation_name_side = \"bottom\",\n",
    "    annotation_name_gp = gpar(fontsize = 16),\n",
    "    # color\n",
    "    col = list(\n",
    "        Object = c(\n",
    "            \"Cell\" = \"#B000B0\", \n",
    "            \"Cytoplasm\" = \"#00D55B\", \n",
    "            \"Nuclei\" = \"#0000AB\"\n",
    "            )\n",
    "    )\n",
    ")\n",
    "row_measurement = rowAnnotation(\n",
    "    FeatureType = features$`Feature Type`,\n",
    "           annotation_legend_param = list(\n",
    "        title_position = \"topcenter\", \n",
    "        title_gp = gpar(fontsize = 16, angle = 0, fontface = \"bold\", hjust = 0.5),\n",
    "        labels_gp = gpar(fontsize = 16, \n",
    "        title = gpar(fontsize = 16))),\n",
    "    annotation_name_side = \"bottom\",\n",
    "    annotation_name_gp = gpar(fontsize = 16),\n",
    "    col = list(\n",
    "            FeatureType = c(\n",
    "            \"Area.Size.Shape\" = brewer.pal(8, \"Paired\")[1],\n",
    "            \"Colocalization\" = brewer.pal(8, \"Paired\")[2],\n",
    "            \"Granularity\" = brewer.pal(8, \"Paired\")[3],\n",
    "            \"Intensity\" = brewer.pal(8, \"Paired\")[4],\n",
    "            \"Texture\" = brewer.pal(8, \"Paired\")[8]\n",
    "        )\n",
    "    ),\n",
    "    show_legend = TRUE\n",
    ")\n",
    "row_channel = rowAnnotation(\n",
    "    Channel = features$Channel,\n",
    "        annotation_legend_param = list(\n",
    "        title_position = \"topcenter\", \n",
    "        title_gp = gpar(fontsize = 16, angle = 0, fontface = \"bold\", hjust = 0.5),\n",
    "        labels_gp = gpar(fontsize = 16, \n",
    "        # make annotation bar text bigger\n",
    "        legend = gpar(fontsize = 16),\n",
    "        annotation_name = gpar(fontsize = 16),\n",
    "        # legend_height = unit(20, \"cm\"),\n",
    "        legend_width = unit(1, \"cm\"),\n",
    "        # make legend taller\n",
    "        # legend_height = unit(10, \"cm\"),\n",
    "        legend_width = unit(1, \"cm\"),\n",
    "        legend_key = gpar(fontsize = 16)\n",
    "        )\n",
    "    ),\n",
    "\n",
    "\n",
    "        \n",
    "    annotation_name_side = \"bottom\",\n",
    "    # make font size bigger\n",
    "    annotation_name_gp = gpar(fontsize = 16),\n",
    "    col = list(\n",
    "    Channel = c(\n",
    "            \"DNA\" = \"#0000AB\",\n",
    "            \"AGP\" = \"#b1001a\",\n",
    "            \"Mito\" = \"#B000B0\",\n",
    "            \"ER\" = \"#00D55B\",\n",
    "            \"BF\" = \"#FFFF00\",\n",
    "            \"None\" = \"#B09FB0\")\n",
    "    )\n",
    ")\n",
    "row_annotations = c(row_compartment, row_measurement, row_channel)"
   ]
  },
  {
   "cell_type": "code",
   "execution_count": null,
   "id": "841998b8",
   "metadata": {
    "vscode": {
     "languageId": "r"
    }
   },
   "outputs": [],
   "source": [
    "mat <- sc_consensus_df %>%\n",
    "  select(-treatment, -Class, -Target,-patient,-dose,-unit) %>%\n",
    "  \n",
    "  as.matrix()\n",
    "mat <- t(mat)\n",
    "colnames(mat) <- sc_consensus_df$treatment\n",
    "dim(mat)"
   ]
  },
  {
   "cell_type": "code",
   "execution_count": null,
   "id": "655fb184",
   "metadata": {
    "vscode": {
     "languageId": "r"
    }
   },
   "outputs": [],
   "source": [
    "width <- 20\n",
    "height <- 15\n",
    "options(repr.plot.width = width, repr.plot.height = height)\n",
    "heatmap_plot <- Heatmap(\n",
    "        mat, \n",
    "        # col = col_fun,\n",
    "        show_row_names = FALSE,\n",
    "        # cluster_columns = FALSE,\n",
    "        show_column_names = FALSE,\n",
    "        row_dend_reorder = TRUE, # reorder rows based on dendrogram\n",
    "        column_dend_reorder = TRUE, # reorder columns based on dendrogram\n",
    "        show_row_dend = FALSE,\n",
    "        show_column_dend = FALSE,\n",
    "\n",
    "        column_names_gp = gpar(fontsize = 16), # Column name label formatting\n",
    "        row_names_gp = gpar(fontsize = 14), \n",
    "\n",
    "        # show_heatmap_legend = FALSE,\n",
    "        heatmap_legend_param = list(\n",
    "                    title = \"Norm\\nValue\",\n",
    "                    title_position = \"topcenter\", \n",
    "                    title_gp = gpar(fontsize = 16, angle = 0, fontface = \"bold\", hjust = 1.0),\n",
    "                    labels_gp = gpar(fontsize = 16),\n",
    "                    # legend_height = unit(2, \"cm\"),\n",
    "                    legend_width = unit(3, \"cm\"),\n",
    "                    annotation_legend_side = \"bottom\"\n",
    "                    ), \n",
    "        \n",
    "        row_dend_width = unit(1, \"cm\"),\n",
    "        column_dend_height = unit(1, \"cm\"),\n",
    "        \n",
    "        # column_title = paste0(\"Dose: \", dose,\" uM\"),\n",
    "        right_annotation = row_annotations,\n",
    "        top_annotation = column_annotations,\n",
    "        # adjust the title position and size\n",
    "        column_title_gp = gpar(fontsize = 16, fontface = \"bold\", hjust = 0.5),\n",
    "    \n",
    "    )\n",
    "\n",
    "png(sc_consensus_heatmap_file_path, width = width, height = height, units = \"in\", res = 600)\n",
    "# save as a PNG\n",
    "draw(heatmap_plot, merge_legend = TRUE, heatmap_legend_side = \"right\")\n",
    "dev.off()\n",
    "heatmap_plot"
   ]
  },
  {
   "cell_type": "markdown",
   "id": "d321f805",
   "metadata": {},
   "source": [
    "## Single-cell heatmap of sc fs profiles"
   ]
  },
  {
   "cell_type": "code",
   "execution_count": null,
   "id": "3587a4e7",
   "metadata": {
    "vscode": {
     "languageId": "r"
    }
   },
   "outputs": [],
   "source": [
    "head(sc_fs_df)\n"
   ]
  },
  {
   "cell_type": "code",
   "execution_count": null,
   "id": "f7a59bd0",
   "metadata": {
    "vscode": {
     "languageId": "r"
    }
   },
   "outputs": [],
   "source": [
    "# drop columns that contain neighbors\n",
    "sc_fs_df <- sc_fs_df %>%\n",
    "  select(-contains(\"Neighbors\"))"
   ]
  },
  {
   "cell_type": "code",
   "execution_count": null,
   "id": "154d1bb9",
   "metadata": {
    "vscode": {
     "languageId": "r"
    }
   },
   "outputs": [],
   "source": [
    "column_anno <- HeatmapAnnotation(\n",
    "    Target = sc_fs_df$Target,\n",
    "    show_legend = TRUE,\n",
    "    annotation_name_gp = gpar(fontsize = 16),\n",
    "    annotation_legend_param = list(\n",
    "        title_position = \"topcenter\", \n",
    "        title_gp = gpar(fontsize = 16, angle = 0, fontface = \"bold\", hjust = 1.0),\n",
    "        labels_gp = gpar(fontsize = 16, \n",
    "        title = gpar(fontsize = 16))),\n",
    "    col = list(\n",
    "            Target = custom_MOA_palette\n",
    "        )\n",
    ")\n",
    "\n",
    "patient_colors <- rainbow(length(unique(sc_fs_df$patient)))\n",
    "names(patient_colors) <- unique(sc_fs_df$patient)\n",
    "\n",
    "patient_columns_anno <- HeatmapAnnotation(\n",
    "    Patient = sc_fs_df$patient,\n",
    "    col = list(Patient = patient_colors),\n",
    "    show_legend = TRUE,\n",
    "    annotation_name_gp = gpar(fontsize = 16),\n",
    "    annotation_legend_param = list(\n",
    "        title_position = \"topcenter\", \n",
    "        title_gp = gpar(fontsize = 16, angle = 0, fontface = \"bold\", hjust = 1.0),\n",
    "        labels_gp = gpar(fontsize = 16, \n",
    "        title = gpar(fontsize = 16)))\n",
    ")\n",
    "\n",
    "column_annotations = c(column_anno, patient_columns_anno)\n"
   ]
  },
  {
   "cell_type": "code",
   "execution_count": null,
   "id": "a4bcb0dd",
   "metadata": {
    "vscode": {
     "languageId": "r"
    }
   },
   "outputs": [],
   "source": [
    "# get the list of features\n",
    "features <- colnames(sc_fs_df)\n",
    "features <- features[!features %in% c(\"treatment\", \"Target\", \"Class\", \"single_cell_count\", \"patient\",\n",
    "         \"object_id\",\n",
    "         \"unit\",\n",
    "         \"dose\",\n",
    "         \"image_set\",\n",
    "         \"Well\",\n",
    "         \"parent_organoid\")]\n",
    "features <- as.data.frame(features)\n",
    "rownames(features) <- features$features\n",
    "# split the features by _ into multiple columns\n",
    "features <- features %>% \n",
    "    separate(features, into = c(\"Feature Type\", \"Compartment\", \"Channel\", \"Measurement\"), sep = \"_\", extra = \"merge\", fill = \"right\")\n",
    "# if Feature type is AreaSizeShape then shift the Channel to the Measurement column and set Channel to NA\n",
    "features <- features %>%\n",
    "    mutate(\n",
    "        Measurement = ifelse(`Feature Type` == \"Area.Size.Shape\", Channel, Measurement)\n",
    "    )\n",
    "features <- features %>%\n",
    "    mutate(\n",
    "        Channel = ifelse(`Feature Type` == \"Area.Size.Shape\", \"None\", Channel)\n",
    "    )\n",
    "\n",
    "# select the first channel for colocalization features channels are split by .\n",
    "features <- features %>%\n",
    "    mutate(\n",
    "        Channel = ifelse(`Feature Type` == \"Colocalization\", \n",
    "                         sub(\"\\\\..*\", \"\", Channel), \n",
    "                         Channel)\n",
    "    )\n",
    "\n",
    "\n",
    "# sort by feature type\n",
    "features <- features %>%\n",
    "    arrange(`Feature Type`, Compartment, Channel, Measurement)"
   ]
  },
  {
   "cell_type": "code",
   "execution_count": null,
   "id": "54a92101",
   "metadata": {
    "vscode": {
     "languageId": "r"
    }
   },
   "outputs": [],
   "source": [
    "# compartment row annotation\n",
    "row_compartment = rowAnnotation(\n",
    "    Object = features$Compartment,\n",
    "        show_legend = TRUE,\n",
    "    # change the legend titles\n",
    "    annotation_legend_param = list(\n",
    "        title_position = \"topcenter\", \n",
    "        title_gp = gpar(fontsize = 16, angle = 0, fontface = \"bold\", hjust = 1.0),\n",
    "        labels_gp = gpar(fontsize = 16, \n",
    "        title = gpar(fontsize = 16))),\n",
    "    annotation_name_side = \"bottom\",\n",
    "    annotation_name_gp = gpar(fontsize = 16),\n",
    "    # color\n",
    "    col = list(\n",
    "        Object = c(\n",
    "            \"Cell\" = \"#B000B0\", \n",
    "            \"Cytoplasm\" = \"#00D55B\", \n",
    "            \"Nuclei\" = \"#0000AB\"\n",
    "            )\n",
    "    )\n",
    ")\n",
    "row_measurement = rowAnnotation(\n",
    "    FeatureType = features$`Feature Type`,\n",
    "           annotation_legend_param = list(\n",
    "        title_position = \"topcenter\", \n",
    "        title_gp = gpar(fontsize = 16, angle = 0, fontface = \"bold\", hjust = 0.5),\n",
    "        labels_gp = gpar(fontsize = 16, \n",
    "        title = gpar(fontsize = 16))),\n",
    "    annotation_name_side = \"bottom\",\n",
    "    annotation_name_gp = gpar(fontsize = 16),\n",
    "    col = list(\n",
    "            FeatureType = c(\n",
    "            \"Area.Size.Shape\" = brewer.pal(8, \"Paired\")[1],\n",
    "            \"Colocalization\" = brewer.pal(8, \"Paired\")[2],\n",
    "            \"Granularity\" = brewer.pal(8, \"Paired\")[3],\n",
    "            \"Intensity\" = brewer.pal(8, \"Paired\")[4],\n",
    "            \"Texture\" = brewer.pal(8, \"Paired\")[8]\n",
    "        )\n",
    "    ),\n",
    "    show_legend = TRUE\n",
    ")\n",
    "row_channel = rowAnnotation(\n",
    "    Channel = features$Channel,\n",
    "        annotation_legend_param = list(\n",
    "        title_position = \"topcenter\", \n",
    "        title_gp = gpar(fontsize = 16, angle = 0, fontface = \"bold\", hjust = 0.5),\n",
    "        labels_gp = gpar(fontsize = 16, \n",
    "        # make annotation bar text bigger\n",
    "        legend = gpar(fontsize = 16),\n",
    "        annotation_name = gpar(fontsize = 16),\n",
    "        # legend_height = unit(20, \"cm\"),\n",
    "        legend_width = unit(1, \"cm\"),\n",
    "        # make legend taller\n",
    "        # legend_height = unit(10, \"cm\"),\n",
    "        legend_width = unit(1, \"cm\"),\n",
    "        legend_key = gpar(fontsize = 16)\n",
    "        )\n",
    "    ),\n",
    "\n",
    "\n",
    "        \n",
    "    annotation_name_side = \"bottom\",\n",
    "    # make font size bigger\n",
    "    annotation_name_gp = gpar(fontsize = 16),\n",
    "    col = list(\n",
    "    Channel = c(\n",
    "            \"DNA\" = \"#0000AB\",\n",
    "            \"AGP\" = \"#b1001a\",\n",
    "            \"Mito\" = \"#B000B0\",\n",
    "            \"ER\" = \"#00D55B\",\n",
    "            \"BF\" = \"#FFFF00\",\n",
    "            \"None\" = \"#B09FB0\")\n",
    "    )\n",
    ")\n",
    "row_annotations = c(row_compartment, row_measurement, row_channel)"
   ]
  },
  {
   "cell_type": "code",
   "execution_count": null,
   "id": "cc73e15e",
   "metadata": {
    "vscode": {
     "languageId": "r"
    }
   },
   "outputs": [],
   "source": [
    "mat <- sc_fs_df %>%\n",
    "  select(-treatment, -Class, -Target, -patient,\n",
    "        -object_id,\n",
    "         -unit,\n",
    "         -dose,\n",
    "         -image_set,\n",
    "         -Well,\n",
    "         -parent_organoid) %>%\n",
    "  \n",
    "  as.matrix()\n",
    "mat <- t(mat)\n",
    "colnames(mat) <- sc_fs_df$treatment\n",
    "dim(mat)"
   ]
  },
  {
   "cell_type": "code",
   "execution_count": null,
   "id": "397242d1",
   "metadata": {
    "vscode": {
     "languageId": "r"
    }
   },
   "outputs": [],
   "source": [
    "width <- 20\n",
    "height <- 15\n",
    "options(repr.plot.width = width, repr.plot.height = height)\n",
    "heatmap_plot <- Heatmap(\n",
    "        mat, \n",
    "        # col = col_fun,\n",
    "        show_row_names = FALSE,\n",
    "        # cluster_columns = FALSE,\n",
    "        show_column_names = FALSE,\n",
    "        row_dend_reorder = TRUE, # reorder rows based on dendrogram\n",
    "        column_dend_reorder = TRUE, # reorder columns based on dendrogram\n",
    "        show_row_dend = FALSE,\n",
    "        show_column_dend = FALSE,\n",
    "\n",
    "        column_names_gp = gpar(fontsize = 16), # Column name label formatting\n",
    "        row_names_gp = gpar(fontsize = 14), \n",
    "\n",
    "        # show_heatmap_legend = FALSE,\n",
    "        heatmap_legend_param = list(\n",
    "                    title = \"Norm\\nValue\",\n",
    "                    title_position = \"topcenter\", \n",
    "                    title_gp = gpar(fontsize = 16, angle = 0, fontface = \"bold\", hjust = 1.0),\n",
    "                    labels_gp = gpar(fontsize = 16),\n",
    "                    # legend_height = unit(2, \"cm\"),\n",
    "                    legend_width = unit(3, \"cm\"),\n",
    "                    annotation_legend_side = \"bottom\"\n",
    "                    ), \n",
    "        \n",
    "        row_dend_width = unit(4, \"cm\"),\n",
    "        column_dend_height = unit(4, \"cm\"),\n",
    "        # column_title = paste0(\"Dose: \", dose,\" uM\"),\n",
    "        right_annotation = row_annotations,\n",
    "        top_annotation = column_annotations,\n",
    "        # adjust the title position and size\n",
    "        column_title_gp = gpar(fontsize = 16, fontface = \"bold\", hjust = 0.5),\n",
    "    \n",
    "    )\n",
    "png(sc_fs_heatmap_file_path, width = width, height = height, units = \"in\", res = 600)\n",
    "# save as a PNG\n",
    "draw(heatmap_plot, merge_legend = TRUE, heatmap_legend_side = \"right\")\n",
    "dev.off()\n",
    "heatmap_plot"
   ]
  },
  {
   "cell_type": "markdown",
   "id": "5254cded",
   "metadata": {},
   "source": [
    "## Organoid heatmap of consensus profiles"
   ]
  },
  {
   "cell_type": "code",
   "execution_count": null,
   "id": "f35ba120",
   "metadata": {
    "vscode": {
     "languageId": "r"
    }
   },
   "outputs": [],
   "source": [
    "head(organoid_consensus_df)"
   ]
  },
  {
   "cell_type": "code",
   "execution_count": null,
   "id": "ceac15de",
   "metadata": {
    "vscode": {
     "languageId": "r"
    }
   },
   "outputs": [],
   "source": [
    "# drop columns that contain neighbors\n",
    "organoid_consensus_df <- organoid_consensus_df %>%\n",
    "  select(-contains(\"Neighbors\"))"
   ]
  },
  {
   "cell_type": "code",
   "execution_count": null,
   "id": "109f3c45",
   "metadata": {
    "vscode": {
     "languageId": "r"
    }
   },
   "outputs": [],
   "source": [
    "column_anno <- HeatmapAnnotation(\n",
    "    Target = organoid_consensus_df$Target,\n",
    "    show_legend = TRUE,\n",
    "    annotation_name_gp = gpar(fontsize = 16),\n",
    "    annotation_legend_param = list(\n",
    "        title_position = \"topcenter\", \n",
    "        title_gp = gpar(fontsize = 16, angle = 0, fontface = \"bold\", hjust = 1.0),\n",
    "        labels_gp = gpar(fontsize = 16, \n",
    "        title = gpar(fontsize = 16))),\n",
    "    col = list(\n",
    "            Target = custom_MOA_palette\n",
    "        )\n",
    ")\n",
    "patient_columns_anno <- HeatmapAnnotation(\n",
    "    patient = organoid_consensus_df$patient,\n",
    "    show_legend = TRUE,\n",
    "    annotation_name_gp = gpar(fontsize = 16),\n",
    "    annotation_legend_param = list(\n",
    "        title_position = \"topcenter\", \n",
    "        title_gp = gpar(fontsize = 16, angle = 0, fontface = \"bold\", hjust = 1.0),\n",
    "        labels_gp = gpar(fontsize = 16, \n",
    "        title = gpar(fontsize = 16)))\n",
    "\n",
    ")\n",
    "\n",
    "column_annotations = c(column_anno, patient_columns_anno)"
   ]
  },
  {
   "cell_type": "code",
   "execution_count": null,
   "id": "1051f99b",
   "metadata": {
    "vscode": {
     "languageId": "r"
    }
   },
   "outputs": [],
   "source": [
    "head(organoid_consensus_df)"
   ]
  },
  {
   "cell_type": "code",
   "execution_count": null,
   "id": "5d2b3568",
   "metadata": {
    "vscode": {
     "languageId": "r"
    }
   },
   "outputs": [],
   "source": [
    "# get the list of features\n",
    "features <- colnames(organoid_consensus_df)\n",
    "features <- features[!features %in% c(\"treatment\", \"Target\", \"Class\", \"single_cell_count\",\"patient\",\"dose\",\"unit\")]\n",
    "features <- as.data.frame(features)\n",
    "\n",
    "rownames(features) <- features$features\n",
    "# split the features by _ into multiple columns\n",
    "features <- features %>% \n",
    "    separate(features, into = c(\"Feature Type\", \"Compartment\", \"Channel\", \"Measurement\"), sep = \"_\", extra = \"merge\", fill = \"right\")\n",
    "# if Feature type is AreaSizeShape then shift the Channel to the Measurement column and set Channel to NA\n",
    "features <- features %>%\n",
    "    mutate(\n",
    "        Measurement = ifelse(`Feature Type` == \"Area.Size.Shape\", Channel, Measurement)\n",
    "    )\n",
    "features <- features %>%\n",
    "    mutate(\n",
    "        Channel = ifelse(`Feature Type` == \"Area.Size.Shape\", \"None\", Channel)\n",
    "    )\n",
    "\n",
    "# select the first channel for colocalization features channels are split by .\n",
    "features <- features %>%\n",
    "    mutate(\n",
    "        Channel = ifelse(`Feature Type` == \"Colocalization\", \n",
    "                         sub(\"\\\\..*\", \"\", Channel), \n",
    "                         Channel)\n",
    "    )\n",
    "\n",
    "\n",
    "# sort by feature type\n",
    "features <- features %>%\n",
    "    arrange(`Feature Type`, Compartment, Channel, Measurement)"
   ]
  },
  {
   "cell_type": "code",
   "execution_count": null,
   "id": "d87e4a27",
   "metadata": {
    "vscode": {
     "languageId": "r"
    }
   },
   "outputs": [],
   "source": [
    "row_measurement = rowAnnotation(\n",
    "    FeatureType = features$`Feature Type`,\n",
    "           annotation_legend_param = list(\n",
    "        title_position = \"topcenter\", \n",
    "        title_gp = gpar(fontsize = 16, angle = 0, fontface = \"bold\", hjust = 0.5),\n",
    "        labels_gp = gpar(fontsize = 16, \n",
    "        title = gpar(fontsize = 16))),\n",
    "    annotation_name_side = \"bottom\",\n",
    "    annotation_name_gp = gpar(fontsize = 16),\n",
    "    col = list(\n",
    "            FeatureType = c(\n",
    "            \"Area.Size.Shape\" = brewer.pal(8, \"Paired\")[1],\n",
    "            \"Colocalization\" = brewer.pal(8, \"Paired\")[2],\n",
    "            \"Granularity\" = brewer.pal(8, \"Paired\")[3],\n",
    "            \"Intensity\" = brewer.pal(8, \"Paired\")[4],\n",
    "            \"Texture\" = brewer.pal(8, \"Paired\")[8]\n",
    "        )\n",
    "    ),\n",
    "    show_legend = TRUE\n",
    ")\n",
    "row_channel = rowAnnotation(\n",
    "    Channel = features$Channel,\n",
    "        annotation_legend_param = list(\n",
    "        title_position = \"topcenter\", \n",
    "        title_gp = gpar(fontsize = 16, angle = 0, fontface = \"bold\", hjust = 0.5),\n",
    "        labels_gp = gpar(fontsize = 16, \n",
    "        # make annotation bar text bigger\n",
    "        legend = gpar(fontsize = 16),\n",
    "        annotation_name = gpar(fontsize = 16),\n",
    "        # legend_height = unit(20, \"cm\"),\n",
    "        legend_width = unit(1, \"cm\"),\n",
    "        # make legend taller\n",
    "        # legend_height = unit(10, \"cm\"),\n",
    "        legend_width = unit(1, \"cm\"),\n",
    "        legend_key = gpar(fontsize = 16)\n",
    "        )\n",
    "    ),\n",
    "\n",
    "\n",
    "        \n",
    "    annotation_name_side = \"bottom\",\n",
    "    # make font size bigger\n",
    "    annotation_name_gp = gpar(fontsize = 16),\n",
    "    col = list(\n",
    "    Channel = c(\n",
    "            \"DNA\" = \"#0000AB\",\n",
    "            \"AGP\" = \"#b1001a\",\n",
    "            \"Mito\" = \"#B000B0\",\n",
    "            \"ER\" = \"#00D55B\",\n",
    "            \"BF\" = \"#FFFF00\",\n",
    "            \"None\" = \"#B09FB0\")\n",
    "    )\n",
    ")\n",
    "row_annotations = c(row_measurement, row_channel)"
   ]
  },
  {
   "cell_type": "code",
   "execution_count": null,
   "id": "d9f82c8f",
   "metadata": {
    "vscode": {
     "languageId": "r"
    }
   },
   "outputs": [],
   "source": [
    "mat <- organoid_consensus_df %>%\n",
    "  select(-treatment, -Class, -Target,-patient,-dose,-unit) %>%\n",
    "\n",
    "  as.matrix()\n",
    "mat <- t(mat)\n",
    "colnames(mat) <- organoid_consensus_df$treatment\n",
    "dim(mat)"
   ]
  },
  {
   "cell_type": "code",
   "execution_count": null,
   "id": "d17a9783",
   "metadata": {
    "vscode": {
     "languageId": "r"
    }
   },
   "outputs": [],
   "source": [
    "width <- 20\n",
    "height <- 15\n",
    "options(repr.plot.width = width, repr.plot.height = height)\n",
    "heatmap_plot <- Heatmap(\n",
    "        mat, \n",
    "        # col = col_fun,\n",
    "        show_row_names = FALSE,\n",
    "        # cluster_columns = FALSE,\n",
    "        show_column_names = FALSE,\n",
    "        row_dend_reorder = TRUE, # reorder rows based on dendrogram\n",
    "        column_dend_reorder = TRUE, # reorder columns based on dendrogram\n",
    "        show_row_dend = FALSE,\n",
    "        show_column_dend = FALSE,\n",
    "\n",
    "        column_names_gp = gpar(fontsize = 16), # Column name label formatting\n",
    "        row_names_gp = gpar(fontsize = 14), \n",
    "\n",
    "        # show_heatmap_legend = FALSE,\n",
    "        heatmap_legend_param = list(\n",
    "                    title = \"Norm\\nValue\",\n",
    "                    title_position = \"topcenter\", \n",
    "                    title_gp = gpar(fontsize = 16, angle = 0, fontface = \"bold\", hjust = 1.0),\n",
    "                    labels_gp = gpar(fontsize = 16),\n",
    "                    # legend_height = unit(2, \"cm\"),\n",
    "                    legend_width = unit(3, \"cm\"),\n",
    "                    annotation_legend_side = \"bottom\"\n",
    "                    ), \n",
    "        \n",
    "        row_dend_width = unit(1, \"cm\"),\n",
    "        column_dend_height = unit(1, \"cm\"),\n",
    "        \n",
    "        # column_title = paste0(\"Dose: \", dose,\" uM\"),\n",
    "        right_annotation = row_annotations,\n",
    "        top_annotation = column_annotations,\n",
    "        # adjust the title position and size\n",
    "        column_title_gp = gpar(fontsize = 16, fontface = \"bold\", hjust = 0.5),\n",
    "    \n",
    "    )\n",
    "\n",
    "png(organoid_consensus_heatmap_file_path, width = width, height = height, units = \"in\", res = 600)\n",
    "# save as a PNG\n",
    "draw(heatmap_plot, merge_legend = TRUE, heatmap_legend_side = \"right\")\n",
    "dev.off()\n",
    "heatmap_plot"
   ]
  },
  {
   "cell_type": "markdown",
   "id": "0ea25008",
   "metadata": {},
   "source": [
    "## Organoid heatmap of sc fs profiles"
   ]
  },
  {
   "cell_type": "code",
   "execution_count": null,
   "id": "21165402",
   "metadata": {
    "vscode": {
     "languageId": "r"
    }
   },
   "outputs": [],
   "source": [
    "head(organoid_fs_df)\n"
   ]
  },
  {
   "cell_type": "code",
   "execution_count": null,
   "id": "da885934",
   "metadata": {
    "vscode": {
     "languageId": "r"
    }
   },
   "outputs": [],
   "source": [
    "# drop columns that contain neighbors\n",
    "organoid_fs_df <- organoid_fs_df %>%\n",
    "  select(-contains(\"Neighbors\")) %>%\n",
    "  select(-contains(\"single_cell_count\"))"
   ]
  },
  {
   "cell_type": "code",
   "execution_count": null,
   "id": "7294c100",
   "metadata": {
    "vscode": {
     "languageId": "r"
    }
   },
   "outputs": [],
   "source": [
    "dim(organoid_fs_df)\n",
    "# drop all rows that have any NA values\n",
    "organoid_fs_df <- organoid_fs_df %>%\n",
    "  filter(complete.cases(.))\n",
    "dim(organoid_fs_df)"
   ]
  },
  {
   "cell_type": "code",
   "execution_count": null,
   "id": "8f25b292",
   "metadata": {
    "vscode": {
     "languageId": "r"
    }
   },
   "outputs": [],
   "source": [
    "column_anno <- HeatmapAnnotation(\n",
    "    Target = organoid_fs_df$Target,\n",
    "    show_legend = TRUE,\n",
    "    annotation_name_gp = gpar(fontsize = 16),\n",
    "    annotation_legend_param = list(\n",
    "        title_position = \"topcenter\", \n",
    "        title_gp = gpar(fontsize = 16, angle = 0, fontface = \"bold\", hjust = 1.0),\n",
    "        labels_gp = gpar(fontsize = 16, \n",
    "        title = gpar(fontsize = 16))),\n",
    "    col = list(\n",
    "            Target = custom_MOA_palette\n",
    "        )\n",
    ")\n",
    "\n",
    "patient_columns_anno <- HeatmapAnnotation(\n",
    "    Patient = organoid_fs_df$patient,\n",
    "    show_legend = TRUE,\n",
    "    annotation_name_gp = gpar(fontsize = 16),\n",
    "    annotation_legend_param = list(\n",
    "        title_position = \"topcenter\", \n",
    "        title_gp = gpar(fontsize = 16, angle = 0, fontface = \"bold\", hjust = 1.0),\n",
    "        labels_gp = gpar(fontsize = 16, \n",
    "        title = gpar(fontsize = 16)))\n",
    ")\n",
    "\n",
    "column_annotations = c(column_anno, patient_columns_anno)\n"
   ]
  },
  {
   "cell_type": "code",
   "execution_count": null,
   "id": "52cca7af",
   "metadata": {
    "vscode": {
     "languageId": "r"
    }
   },
   "outputs": [],
   "source": [
    "# get the list of features\n",
    "features <- colnames(organoid_fs_df)\n",
    "features <- features[!features %in% c(\"treatment\", \"Target\", \"Class\", \"single_cell_count\", \"patient\",\n",
    "         \"object_id\",\n",
    "         \"unit\",\n",
    "         \"dose\",\n",
    "         \"image_set\",\n",
    "         \"Well\",\n",
    "         \"single_cell_count\")]\n",
    "features <- as.data.frame(features)\n",
    "rownames(features) <- features$features\n",
    "# split the features by _ into multiple columns\n",
    "features <- features %>% \n",
    "    separate(features, into = c(\"Feature Type\", \"Compartment\", \"Channel\", \"Measurement\"), sep = \"_\", extra = \"merge\", fill = \"right\")\n",
    "# if Feature type is AreaSizeShape then shift the Channel to the Measurement column and set Channel to NA\n",
    "features <- features %>%\n",
    "    mutate(\n",
    "        Measurement = ifelse(`Feature Type` == \"Area.Size.Shape\", Channel, Measurement)\n",
    "    )\n",
    "features <- features %>%\n",
    "    mutate(\n",
    "        Channel = ifelse(`Feature Type` == \"Area.Size.Shape\", \"None\", Channel)\n",
    "    )\n",
    "\n",
    "# select the first channel for colocalization features channels are split by .\n",
    "features <- features %>%\n",
    "    mutate(\n",
    "        Channel = ifelse(`Feature Type` == \"Colocalization\", \n",
    "                         sub(\"\\\\..*\", \"\", Channel), \n",
    "                         Channel)\n",
    "    )\n",
    "\n",
    "\n",
    "# sort by feature type\n",
    "features <- features %>%\n",
    "    arrange(`Feature Type`, Compartment, Channel, Measurement)"
   ]
  },
  {
   "cell_type": "code",
   "execution_count": null,
   "id": "374fbbe3",
   "metadata": {
    "vscode": {
     "languageId": "r"
    }
   },
   "outputs": [],
   "source": [
    "row_measurement = rowAnnotation(\n",
    "    FeatureType = features$`Feature Type`,\n",
    "           annotation_legend_param = list(\n",
    "        title_position = \"topcenter\", \n",
    "        title_gp = gpar(fontsize = 16, angle = 0, fontface = \"bold\", hjust = 0.5),\n",
    "        labels_gp = gpar(fontsize = 16, \n",
    "        title = gpar(fontsize = 16))),\n",
    "    annotation_name_side = \"bottom\",\n",
    "    annotation_name_gp = gpar(fontsize = 16),\n",
    "    col = list(\n",
    "            FeatureType = c(\n",
    "            \"Area.Size.Shape\" = brewer.pal(8, \"Paired\")[1],\n",
    "            \"Colocalization\" = brewer.pal(8, \"Paired\")[2],\n",
    "            \"Granularity\" = brewer.pal(8, \"Paired\")[3],\n",
    "            \"Intensity\" = brewer.pal(8, \"Paired\")[4],\n",
    "            \"Texture\" = brewer.pal(8, \"Paired\")[8]\n",
    "        )\n",
    "    ),\n",
    "    show_legend = TRUE\n",
    ")\n",
    "row_channel = rowAnnotation(\n",
    "    Channel = features$Channel,\n",
    "        annotation_legend_param = list(\n",
    "        title_position = \"topcenter\", \n",
    "        title_gp = gpar(fontsize = 16, angle = 0, fontface = \"bold\", hjust = 0.5),\n",
    "        labels_gp = gpar(fontsize = 16, \n",
    "        # make annotation bar text bigger\n",
    "        legend = gpar(fontsize = 16),\n",
    "        annotation_name = gpar(fontsize = 16),\n",
    "        # legend_height = unit(20, \"cm\"),\n",
    "        legend_width = unit(1, \"cm\"),\n",
    "        # make legend taller\n",
    "        # legend_height = unit(10, \"cm\"),\n",
    "        legend_width = unit(1, \"cm\"),\n",
    "        legend_key = gpar(fontsize = 16)\n",
    "        )\n",
    "    ),\n",
    "\n",
    "\n",
    "        \n",
    "    annotation_name_side = \"bottom\",\n",
    "    # make font size bigger\n",
    "    annotation_name_gp = gpar(fontsize = 16),\n",
    "    col = list(\n",
    "    Channel = c(\n",
    "            \"DNA\" = \"#0000AB\",\n",
    "            \"AGP\" = \"#b1001a\",\n",
    "            \"Mito\" = \"#B000B0\",\n",
    "            \"ER\" = \"#00D55B\",\n",
    "            \"BF\" = \"#FFFF00\",\n",
    "            \"None\" = \"#B09FB0\")\n",
    "    )\n",
    ")\n",
    "row_annotations = c(row_measurement, row_channel)"
   ]
  },
  {
   "cell_type": "code",
   "execution_count": null,
   "id": "670e50a4",
   "metadata": {
    "vscode": {
     "languageId": "r"
    }
   },
   "outputs": [],
   "source": [
    "mat <- organoid_fs_df %>%\n",
    "  select(-treatment, -Class, -Target, -patient, -object_id, -image_set, -Well,\n",
    "         -unit,\n",
    "         -dose) %>%\n",
    "  \n",
    "  as.matrix()\n",
    "mat <- t(mat)\n",
    "colnames(mat) <- organoid_fs_df$treatment\n",
    "dim(mat)"
   ]
  },
  {
   "cell_type": "code",
   "execution_count": null,
   "id": "ce0c1e51",
   "metadata": {
    "vscode": {
     "languageId": "r"
    }
   },
   "outputs": [],
   "source": [
    "width <- 20\n",
    "height <- 15\n",
    "options(repr.plot.width = width, repr.plot.height = height)\n",
    "heatmap_plot <- Heatmap(\n",
    "        mat, \n",
    "        # col = col_fun,\n",
    "        show_row_names = FALSE,\n",
    "        # cluster_columns = FALSE,\n",
    "        show_column_names = FALSE,\n",
    "        row_dend_reorder = TRUE, # reorder rows based on dendrogram\n",
    "        column_dend_reorder = TRUE, # reorder columns based on dendrogram\n",
    "        show_row_dend = FALSE,\n",
    "        show_column_dend = FALSE,\n",
    "\n",
    "        column_names_gp = gpar(fontsize = 16), # Column name label formatting\n",
    "        row_names_gp = gpar(fontsize = 14), \n",
    "\n",
    "        # show_heatmap_legend = FALSE,\n",
    "        heatmap_legend_param = list(\n",
    "                    title = \"Norm\\nValue\",\n",
    "                    title_position = \"topcenter\", \n",
    "                    title_gp = gpar(fontsize = 16, angle = 0, fontface = \"bold\", hjust = 1.0),\n",
    "                    labels_gp = gpar(fontsize = 16),\n",
    "                    # legend_height = unit(2, \"cm\"),\n",
    "                    legend_width = unit(3, \"cm\"),\n",
    "                    annotation_legend_side = \"bottom\"\n",
    "                    ), \n",
    "        \n",
    "        row_dend_width = unit(4, \"cm\"),\n",
    "        column_dend_height = unit(4, \"cm\"),\n",
    "        # column_title = paste0(\"Dose: \", dose,\" uM\"),\n",
    "        right_annotation = row_annotations,\n",
    "        top_annotation = column_annotations,\n",
    "        # adjust the title position and size\n",
    "        column_title_gp = gpar(fontsize = 16, fontface = \"bold\", hjust = 0.5),\n",
    "    \n",
    "    )\n",
    "png(organoid_fs_heatmap_file_path, width = width, height = height, units = \"in\", res = 600)\n",
    "# save as a PNG\n",
    "draw(heatmap_plot, merge_legend = TRUE, heatmap_legend_side = \"right\")\n",
    "dev.off()\n",
    "heatmap_plot"
   ]
  }
 ],
 "metadata": {
  "kernelspec": {
   "display_name": "R",
   "language": "R",
   "name": "ir"
  },
  "language_info": {
   "codemirror_mode": "r",
   "file_extension": ".r",
   "mimetype": "text/x-r-source",
   "name": "R",
   "pygments_lexer": "r",
   "version": "4.2.2"
  }
 },
 "nbformat": 4,
 "nbformat_minor": 5
}
